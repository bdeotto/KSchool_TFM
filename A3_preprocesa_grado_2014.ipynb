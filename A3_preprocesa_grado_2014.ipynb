{
 "cells": [
  {
   "cell_type": "code",
   "execution_count": 1,
   "metadata": {},
   "outputs": [],
   "source": [
    "import pandas as pd\n",
    "import numpy as np\n",
    "import openpyxl\n",
    "from lower_case_dict import d_dict\n",
    "from lower_case_dict import D_titulo_grado_a_rama\n",
    "from lower_case_dict import D_titulo_grado_a_ambito\n",
    "from lower_case_dict import D_ambito_a_rama\n",
    "from lower_case_dict import D_ocupaciones\n",
    "from lower_case_dict import D_cnae_a_num\n",
    "from upper_case_dict_Grado14 import D_dict \n",
    "pd.options.display.max_columns=None\n",
    "pd.options.display.max_colwidth=300"
   ]
  },
  {
   "cell_type": "markdown",
   "metadata": {},
   "source": [
    "# Corregir\n",
    "Los **diccionarios de las variables originales** en la encuesta y los definidos para las **variables nuevas** (creadas inicialmente para el dataset de graduados 2019) se importan, con algunas excepciones, del **módulo lower_case_dict**:  \n",
    "\n",
    "- **D_dict**; diccionarios de traducción de las variables categóricas. Construidos de acuerdo con los códigos facilitados en el archivo de diseño de la encuesta 'dr_EILU_GRAD_2019.xlsx' y con los definidos para las variables nuevas creadas en la inspeccion de la encuesta de graduados 2019. Para cada variable: D_dict[variable][código_categórico]=interpretación_código. \n",
    "- **D_describe**; diccionario de interpretación de las variables originales y nuevas: D_describe[variable]=interpretación_variable.  \n",
    "\n",
    "Las **excepciones** son algunos diccionnarios que no son iguales para las encuestas a graduados y titulados de máster 2019. Estos se importan a través de la función diccionario definida en el **módulo upper_case_dict_Master19**, una adaptación del módulo módulo upper_case_dict ajustada a la encuesta de titulados de máster 2019. Se invocan y aplican caso a caso cuando procede. \n",
    "\n",
    "En el proceso de inspección se redefinen algunas variables originales y se definen otras nuevas. Estas se añaden a los diccionarios D_dict y D_describe para ser recuperados con el módulo lower_case_dict.  \n",
    "\n",
    "También se importa del módulo lower_case_dict el diccionario D_ambito_to_rama que asocia los ámbitos de estudios a su rama de conocimiento. "
   ]
  },
  {
   "cell_type": "markdown",
   "metadata": {},
   "source": [
    "Se **redefinen** las **funciones de traducción**: "
   ]
  },
  {
   "cell_type": "code",
   "execution_count": 2,
   "metadata": {},
   "outputs": [],
   "source": [
    "def traduce_upper(col):\n",
    "    \"\"\" Muestra la leyenda de las variables originales de la encuesta (denominadas con mayúsculas) de acuerdo \n",
    "    con su diccionario específico. Útil para comprobar las correspondencias con los diccionarios del resto de \n",
    "    encuestas. No devuelve una variable traducida\n",
    "    \"\"\"\n",
    "    global df, D_dict\n",
    "    # Resuelve confictos con col. mixtas (strings e integers) y con Nan\n",
    "    df['aux_traduce']=df[col].astype('O').replace(D_dict[col])  \n",
    "    print (df[[col,'aux_traduce']].groupby(col).agg(['unique'])) # Salida de comprobación\n",
    "    return "
   ]
  },
  {
   "cell_type": "code",
   "execution_count": 3,
   "metadata": {},
   "outputs": [],
   "source": [
    "def traduce_lower(col):\n",
    "    \"\"\" Traduce las variables transformadas (denominadas con minúsculas) de acuerdo con los diccionarios\n",
    "    generales para ellas y devuelve la variable traducida. \n",
    "    \"\"\"\n",
    "    global df, d_dict\n",
    "    # Resuelve confictos con col. mixtas (strings e integers) y con Nan\n",
    "    df['aux_traduce']=df[col].astype('O').replace(d_dict[col])  \n",
    "    print (df[[col,'aux_traduce']].groupby(col).agg(['unique'])) # Salida de comprobación\n",
    "    return df['aux_traduce']"
   ]
  },
  {
   "cell_type": "markdown",
   "metadata": {},
   "source": [
    "# Recuperación del dataset\n",
    "Dataset 'Encuesta_insercion_laboral_titulados_universitarios_2019' en formato csv.   \n",
    "\n",
    "Enlace a fuente (INE): https://www.ine.es/dyngs/INEbase/es/operacion.htm?c=Estadistica_C&cid=1254736176991&menu=resultados&idp=1254735573113#!tabs-1254736195339"
   ]
  },
  {
   "cell_type": "code",
   "execution_count": 4,
   "metadata": {},
   "outputs": [],
   "source": [
    "ruta_dataset='data/EILU_2014.csv'"
   ]
  },
  {
   "cell_type": "code",
   "execution_count": 5,
   "metadata": {},
   "outputs": [
    {
     "name": "stderr",
     "output_type": "stream",
     "text": [
      "/home/bea/.local/lib/python3.6/site-packages/IPython/core/interactiveshell.py:3072: DtypeWarning: Columns (32,111,112,113,114,115,116,117,118,119,121,122,123) have mixed types.Specify dtype option on import or set low_memory=False.\n",
      "  interactivity=interactivity, compiler=compiler, result=result)\n"
     ]
    }
   ],
   "source": [
    "df_raw=pd.read_csv(ruta_dataset,sep='\\t')"
   ]
  },
  {
   "cell_type": "code",
   "execution_count": 6,
   "metadata": {},
   "outputs": [],
   "source": [
    "df=df_raw.copy()"
   ]
  },
  {
   "cell_type": "code",
   "execution_count": 7,
   "metadata": {},
   "outputs": [
    {
     "data": {
      "text/plain": [
       "(30379, 180)"
      ]
     },
     "execution_count": 7,
     "metadata": {},
     "output_type": "execute_result"
    }
   ],
   "source": [
    "df.shape"
   ]
  },
  {
   "cell_type": "code",
   "execution_count": 8,
   "metadata": {},
   "outputs": [
    {
     "name": "stdout",
     "output_type": "stream",
     "text": [
      "0 IDENT int64\n",
      "1 SEXO int64\n",
      "2 EDAD int64\n",
      "3 NACIO int64\n",
      "4 TITU int64\n",
      "5 RAMA int64\n",
      "6 AMBITO int64\n",
      "7 T_UNIV int64\n",
      "8 DISCA int64\n",
      "9 PROXY int64\n",
      "10 EST_B1 object\n",
      "11 EST_B21 object\n",
      "12 EST_B22 object\n",
      "13 EST_B23 object\n",
      "14 EST_B24 object\n",
      "15 EST_B25 object\n",
      "16 EST_M1 object\n",
      "17 EST_M2 object\n",
      "18 EST_M3 object\n",
      "19 EST_M4 object\n",
      "20 EST_MES object\n",
      "21 SAT1 object\n",
      "22 SAT2 object\n",
      "23 EST2_1 object\n",
      "24 EST2_2 object\n",
      "25 EST2_3 object\n",
      "26 EST2_FU object\n",
      "27 EST2_TI object\n",
      "28 EST2_TE object\n",
      "29 EST2_MA object\n",
      "30 EST2_MS object\n",
      "31 EST2_T2 object\n",
      "32 EST2_SA object\n",
      "33 EST3 object\n",
      "34 EST2_NC object\n",
      "35 EST4 object\n",
      "36 IDI_MT1 object\n",
      "37 IDI_MT2 object\n",
      "38 IDIOMAS object\n",
      "39 IDIOMA1 object\n",
      "40 NIV_ID1 object\n",
      "41 IDIOMA2 object\n",
      "42 NIV_ID2 object\n",
      "43 IDIOMA3 object\n",
      "44 NIV_ID3 object\n",
      "45 IDIOMA4 object\n",
      "46 NIV_ID4 object\n",
      "47 IDIOMA5 object\n",
      "48 NIV_ID5 object\n",
      "49 IDIOMA6 object\n",
      "50 NIV_ID6 object\n",
      "51 IDIOMA7 object\n",
      "52 NIV_ID7 object\n",
      "53 TITIDI1 object\n",
      "54 TITIDI2 object\n",
      "55 TITIDI3 object\n",
      "56 TIC object\n",
      "57 PRAC_CR object\n",
      "58 PRAC_CM object\n",
      "59 EST_XCU object\n",
      "60 EST_X_M object\n",
      "61 TRBPRN1 int64\n",
      "62 TRBPRN2 object\n",
      "63 LTR_PAI int64\n",
      "64 SIT_PRO object\n",
      "65 JORNADA object\n",
      "66 TRABOC int64\n",
      "67 TR_CNAE object\n",
      "68 TR_TAM object\n",
      "69 TR_ANIO object\n",
      "70 DISTRE2 object\n",
      "71 DISTRE3 object\n",
      "72 DSTRE41 object\n",
      "73 DSTRE42 object\n",
      "74 DSTRE43 object\n",
      "75 DSTRE44 object\n",
      "76 DSTRE45 object\n",
      "77 DSTRE46 object\n",
      "78 TRAB_F1 int64\n",
      "79 TRAB_F2 object\n",
      "80 TRAB_F3 int64\n",
      "81 TRAB_F4 object\n",
      "82 BQTRA22 object\n",
      "83 BQTRA23 object\n",
      "84 HA_TRAB int64\n",
      "85 BQ_TTRA int64\n",
      "86 BQ_EMP object\n",
      "87 BSQCOM1 object\n",
      "88 BSQCOM2 object\n",
      "89 BSQCOM3 object\n",
      "90 BSQCOM4 object\n",
      "91 BSQCOM5 object\n",
      "92 BSQCOM6 object\n",
      "93 BSQCOM7 object\n",
      "94 BSQCOM8 object\n",
      "95 BSQCOM9 object\n",
      "96 PR_PAIS int64\n",
      "97 PRIMOC int64\n",
      "98 PSIT_PR object\n",
      "99 P_JOR object\n",
      "100 P_NIVEL object\n",
      "101 P_AREA object\n",
      "102 P_CONOC object\n",
      "103 P_CONTI int64\n",
      "104 BQ_NUM object\n",
      "105 BQ_TP_T object\n",
      "106 BQ_OTRO object\n",
      "107 DISTRE6 object\n",
      "108 BSQTRA2 int64\n",
      "109 BSQEMP2 object\n",
      "110 BQTIEM2 int64\n",
      "111 BSQCO21 object\n",
      "112 BSQCO22 object\n",
      "113 BSQCO23 object\n",
      "114 BSQCO24 object\n",
      "115 BSQCO25 object\n",
      "116 BSQCO26 object\n",
      "117 BSQCO27 object\n",
      "118 BSQDIF1 object\n",
      "119 BSQDIF2 object\n",
      "120 BSQDIF3 object\n",
      "121 BSQDIF4 object\n",
      "122 BSQDIF5 object\n",
      "123 BSQDIF6 object\n",
      "124 BSQRE object\n",
      "125 BSQREM1 object\n",
      "126 BSQREM2 object\n",
      "127 BSQREM3 object\n",
      "128 BSQREM4 object\n",
      "129 BSQREM5 object\n",
      "130 BSQREM6 object\n",
      "131 BSQREM7 object\n",
      "132 LRES_PA int64\n",
      "133 MOV_IN object\n",
      "134 MOVRAZ1 object\n",
      "135 MOVRAZ2 object\n",
      "136 MOVRAZ3 object\n",
      "137 MOVRAZ4 object\n",
      "138 MOVRAZ5 object\n",
      "139 MVFUERA object\n",
      "140 MOVPAI1 object\n",
      "141 MOVPAI2 object\n",
      "142 MOVPAI3 object\n",
      "143 MOVRA21 object\n",
      "144 MOVRA22 object\n",
      "145 MOVRA23 object\n",
      "146 MOVRA24 object\n",
      "147 MOVRA25 object\n",
      "148 MOVRA26 object\n",
      "149 RETORNO object\n",
      "150 ALSSM11 int64\n",
      "151 COTIZ11 int64\n",
      "152 BCOTC11 object\n",
      "153 ALSSM12 int64\n",
      "154 COTIZ12 int64\n",
      "155 BCOTC12 object\n",
      "156 ALSSM13 int64\n",
      "157 COTIZ13 int64\n",
      "158 BCOTC13 object\n",
      "159 ALSSM14 int64\n",
      "160 COTIZ14 int64\n",
      "161 BCOTC14 object\n",
      "162 N_CURS int64\n",
      "163 DENCUR1 int64\n",
      "164 DURCUR1 int64\n",
      "165 RESCUR1 int64\n",
      "166 ANHCUR1 int64\n",
      "167 DENCUR2 int64\n",
      "168 DURCUR2 int64\n",
      "169 RESCUR2 int64\n",
      "170 ANHCUR2 int64\n",
      "171 DENCUR3 int64\n",
      "172 DURCUR3 int64\n",
      "173 RESCUR3 int64\n",
      "174 ANHCUR3 int64\n",
      "175 DENCUR4 int64\n",
      "176 DURCUR4 int64\n",
      "177 RESCUR4 int64\n",
      "178 ANHCUR4 int64\n",
      "179 FACTOR float64\n"
     ]
    }
   ],
   "source": [
    "for n,col in enumerate(df.columns):\n",
    "    print(n,col,df[col].dtype)"
   ]
  },
  {
   "cell_type": "markdown",
   "metadata": {},
   "source": [
    "# Inspección y ajustes\n",
    "\n",
    "**Objetivo**: Inspección del dataset, imputación de valores perdidos debido a los itinerarios de la encuesta y creación de variables nuevas para análisis descriptivo y predictivo.   \n",
    "\n",
    "De esta etapa del proceso se obtienen **dos datasets**:    \n",
    "\n",
    "1- Un dataset con las **variables originales** (designadas con nombres en mayúsculas) a las que, a lo sumo, se aplica alguna de las transformaciones siguientes:  \n",
    "- Imputación de valores perdidos que pueden deducirse de los itinerarios de la encuesta.  \n",
    "- Sustitución de las no respuestas y las respuestas NS/NC por el valor None.  \n",
    "\n",
    "2- Un **dataset nuevo** formado por algunas de las variables originales escogidas como candidatas a formar parte de los modelos descriptivos o predictivos y por algunas variables nuevas creadas a partir de las originales. Las variables de este dataset se designan por nombres en minúsculas para facilitar su identificación. Algunas de las transformaciones que dan lugar a este conjunto de variables son:  \n",
    "- Sustitución del valor asociado a la respuesta No en las preguntas de respuesta Sí o No: se cambia el valor 2 asociado al No en el dataset original por el valor 0.  \n",
    "- Creación de variables binarias para cada una de las categorías de algunas de las variables cualitativas del dataset original.  \n",
    "- Creación de variables nuevas para información que puede deducirse de una o varias de las columnas del dataset original.  \n",
    "- Creación de variables con información del dataset (año de la encuesta, población objeto de muestreo, etc.) con el fin de que sea posible identificar la procedencia de cada observación del el dataset que resulte de reunir todos los empleados en este estudio.  \n",
    "\n",
    "En esta etapa **no se imputan valores a las no respuestas o a las respuestas NS/NC** que no puedan deducirse de los itinerarios de la encuesta. Solo se sustituyen por el valor None. Se procede así para evitar que los valores imputados interfieran en los resultados del análisis descriptivo. "
   ]
  },
  {
   "cell_type": "code",
   "execution_count": 9,
   "metadata": {},
   "outputs": [],
   "source": [
    "def no_respuesta(col,blank=' ',nsnc='9',tipo=None):\n",
    "    \"\"\" Sustituye respuestas en blanco y NS/NC por None y establece tipo 'float' si es posible'.\n",
    "    \"\"\"\n",
    "    if tipo=='int':\n",
    "        blank=None\n",
    "        nsnc=int(nsnc)\n",
    "    try: df[col].replace({blank:None,nsnc:None},inplace=True)\n",
    "    except: \n",
    "        serie=df[col].astype('O') # Evita conflictos cuando se aplica más de una vez\n",
    "        serie.replace({blank:None,str(nsnc):None},inplace=True)\n",
    "    try:df[col]=df[col].astype('float')\n",
    "    except:pass # Algunas variables categóricas tienen valores no numéricos (e.g. CNAE)\n",
    "    try:traduce_upper(col)\n",
    "    except:pass # Para variables no categóricas (sin diccionario)\n",
    "    return"
   ]
  },
  {
   "cell_type": "code",
   "execution_count": 10,
   "metadata": {},
   "outputs": [],
   "source": [
    "def redefine(col,nuevo=True,cat=True,si_no=False):\n",
    "    \"\"\" Crea una columna denominada 'nuevo' (por defecto, el nombre original en minúsculas) a partir \n",
    "    de la columna 'col'. \n",
    "    Si 'cat' True, asocia la variable a su diccionario y traduce la variable.\n",
    "    Si si_no=True, modifica el valor asociado a respuesta No (0 en lugar de 2).  \n",
    "    \"\"\"\n",
    "    if nuevo==True:\n",
    "        nuevo=col.lower()\n",
    "    if si_no==True: \n",
    "        cat=False\n",
    "    df[nuevo]=df[col]\n",
    "    if cat==True: \n",
    "        df[str(nuevo)+'_']=traduce_lower(nuevo)\n",
    "    if si_no==True: \n",
    "        df[nuevo].replace({2:0},inplace=True)\n",
    "        d_dict[nuevo]=D_dict['si_no']\n",
    "        df[str(nuevo)+'_']=traduce_lower(nuevo)\n",
    "    return"
   ]
  },
  {
   "cell_type": "markdown",
   "metadata": {},
   "source": [
    "# BLOQUE A. DATOS PERSONALES Y SOCIODEMOGRÁFICOS"
   ]
  },
  {
   "cell_type": "markdown",
   "metadata": {},
   "source": [
    "## 'IDENT' \n",
    "**Índice** único del entrevistado."
   ]
  },
  {
   "cell_type": "code",
   "execution_count": 11,
   "metadata": {},
   "outputs": [
    {
     "data": {
      "text/plain": [
       "30379"
      ]
     },
     "execution_count": 11,
     "metadata": {},
     "output_type": "execute_result"
    }
   ],
   "source": [
    "df['IDENT'].nunique()"
   ]
  },
  {
   "cell_type": "markdown",
   "metadata": {},
   "source": [
    "## Nueva variable: 'año' \n",
    "**Año** en el que se realizó la encuesta.  \n",
    "Se añade para que las observaciones de este dataset sean identificables cuando se reunan varios datasets."
   ]
  },
  {
   "cell_type": "code",
   "execution_count": 12,
   "metadata": {},
   "outputs": [
    {
     "data": {
      "text/plain": [
       "array([2014])"
      ]
     },
     "execution_count": 12,
     "metadata": {},
     "output_type": "execute_result"
    }
   ],
   "source": [
    "df['año']=2014 \n",
    "df['año'].unique() # Comprobación"
   ]
  },
  {
   "cell_type": "markdown",
   "metadata": {},
   "source": [
    "## Nueva variable: 'est_encuesta' \n",
    "**Estudios** oficiales objeto de la encuesta (los que definen la población objeto de muestreo).   \n",
    "Se añade para que las observaciones de este dataset sean identificables cuando se reunan varios datasets."
   ]
  },
  {
   "cell_type": "code",
   "execution_count": 13,
   "metadata": {},
   "outputs": [],
   "source": [
    "df['est_encuesta']=1 \n",
    "# D_dict['est_encuesta'][1]='Grado universitario'  "
   ]
  },
  {
   "cell_type": "markdown",
   "metadata": {},
   "source": [
    "## 'SEXO' (redefinida como 'sexo')\n",
    "**Sexo** del entrevistado.  \n",
    "\n",
    "**'fem'**: 1= Mujer, 0=Hombre. "
   ]
  },
  {
   "cell_type": "code",
   "execution_count": 14,
   "metadata": {},
   "outputs": [
    {
     "data": {
      "text/plain": [
       "array([1, 6])"
      ]
     },
     "execution_count": 14,
     "metadata": {},
     "output_type": "execute_result"
    }
   ],
   "source": [
    "df['SEXO'].unique() # Sin valores no informados"
   ]
  },
  {
   "cell_type": "code",
   "execution_count": 15,
   "metadata": {},
   "outputs": [
    {
     "name": "stdout",
     "output_type": "stream",
     "text": [
      "     aux_traduce\n",
      "          unique\n",
      "SEXO            \n",
      "1       [Hombre]\n",
      "6        [Mujer]\n"
     ]
    }
   ],
   "source": [
    "traduce_upper('SEXO')"
   ]
  },
  {
   "cell_type": "code",
   "execution_count": 16,
   "metadata": {},
   "outputs": [],
   "source": [
    "# Se corrigen los códigos de la variable (homogeneidad con el resto de datasets)\n",
    "df['sexo']=0\n",
    "df['sexo'].mask(df['SEXO']==6,1,inplace=True)"
   ]
  },
  {
   "cell_type": "code",
   "execution_count": 17,
   "metadata": {},
   "outputs": [
    {
     "name": "stdout",
     "output_type": "stream",
     "text": [
      "     aux_traduce\n",
      "          unique\n",
      "sexo            \n",
      "0       [Hombre]\n",
      "1        [Mujer]\n"
     ]
    }
   ],
   "source": [
    "df['sexo_']=traduce_lower('sexo')"
   ]
  },
  {
   "cell_type": "markdown",
   "metadata": {},
   "source": [
    "## 'EDAD' (redefinida como 'edad')\n",
    "**Edad** del entrevistado."
   ]
  },
  {
   "cell_type": "code",
   "execution_count": 18,
   "metadata": {},
   "outputs": [
    {
     "data": {
      "text/plain": [
       "array([1, 2, 3])"
      ]
     },
     "execution_count": 18,
     "metadata": {},
     "output_type": "execute_result"
    }
   ],
   "source": [
    "df['EDAD'].unique() # Sin valores no informados"
   ]
  },
  {
   "cell_type": "code",
   "execution_count": 19,
   "metadata": {},
   "outputs": [
    {
     "name": "stdout",
     "output_type": "stream",
     "text": [
      "               aux_traduce\n",
      "                    unique\n",
      "EDAD                      \n",
      "1     [Menores de 30 años]\n",
      "2        [De 30 a 34 años]\n",
      "3       [De 35 y más años]\n"
     ]
    }
   ],
   "source": [
    "traduce_upper('EDAD')"
   ]
  },
  {
   "cell_type": "code",
   "execution_count": 20,
   "metadata": {},
   "outputs": [
    {
     "name": "stdout",
     "output_type": "stream",
     "text": [
      "               aux_traduce\n",
      "                    unique\n",
      "edad                      \n",
      "1     [Menores de 30 años]\n",
      "2        [De 30 a 34 años]\n",
      "3       [De 35 y más años]\n"
     ]
    }
   ],
   "source": [
    "redefine('EDAD','edad')"
   ]
  },
  {
   "cell_type": "code",
   "execution_count": 21,
   "metadata": {},
   "outputs": [
    {
     "data": {
      "text/plain": [
       "array(['Menores de 30 años', 'De 30 a 34 años', 'De 35 y más años'],\n",
       "      dtype=object)"
      ]
     },
     "execution_count": 21,
     "metadata": {},
     "output_type": "execute_result"
    }
   ],
   "source": [
    "df['edad_'].unique()"
   ]
  },
  {
   "cell_type": "markdown",
   "metadata": {},
   "source": [
    "## 'NACIO'\n",
    "**Nacionalidad** del entrevistado."
   ]
  },
  {
   "cell_type": "code",
   "execution_count": 22,
   "metadata": {},
   "outputs": [
    {
     "data": {
      "text/plain": [
       "array([1, 2])"
      ]
     },
     "execution_count": 22,
     "metadata": {},
     "output_type": "execute_result"
    }
   ],
   "source": [
    "df['NACIO'].unique() # Sin valores no informados"
   ]
  },
  {
   "cell_type": "code",
   "execution_count": 23,
   "metadata": {},
   "outputs": [
    {
     "name": "stdout",
     "output_type": "stream",
     "text": [
      "               aux_traduce\n",
      "                    unique\n",
      "NACIO                     \n",
      "1               [Española]\n",
      "2      [Otra nacionalidad]\n"
     ]
    }
   ],
   "source": [
    "traduce_upper('NACIO')"
   ]
  },
  {
   "cell_type": "markdown",
   "metadata": {},
   "source": [
    "## Nueva variable: 'nacionalidad'\n",
    "**Nacionalidad española** u otra: 0=Nacionalidad no española, 1=Nacionalidad española. "
   ]
  },
  {
   "cell_type": "code",
   "execution_count": 24,
   "metadata": {},
   "outputs": [
    {
     "data": {
      "text/html": [
       "<div>\n",
       "<style scoped>\n",
       "    .dataframe tbody tr th:only-of-type {\n",
       "        vertical-align: middle;\n",
       "    }\n",
       "\n",
       "    .dataframe tbody tr th {\n",
       "        vertical-align: top;\n",
       "    }\n",
       "\n",
       "    .dataframe thead tr th {\n",
       "        text-align: left;\n",
       "    }\n",
       "\n",
       "    .dataframe thead tr:last-of-type th {\n",
       "        text-align: right;\n",
       "    }\n",
       "</style>\n",
       "<table border=\"1\" class=\"dataframe\">\n",
       "  <thead>\n",
       "    <tr>\n",
       "      <th></th>\n",
       "      <th>nacionalidad</th>\n",
       "    </tr>\n",
       "    <tr>\n",
       "      <th></th>\n",
       "      <th>unique</th>\n",
       "    </tr>\n",
       "    <tr>\n",
       "      <th>NACIO</th>\n",
       "      <th></th>\n",
       "    </tr>\n",
       "  </thead>\n",
       "  <tbody>\n",
       "    <tr>\n",
       "      <th>1</th>\n",
       "      <td>[1]</td>\n",
       "    </tr>\n",
       "    <tr>\n",
       "      <th>2</th>\n",
       "      <td>[0]</td>\n",
       "    </tr>\n",
       "  </tbody>\n",
       "</table>\n",
       "</div>"
      ],
      "text/plain": [
       "      nacionalidad\n",
       "            unique\n",
       "NACIO             \n",
       "1              [1]\n",
       "2              [0]"
      ]
     },
     "execution_count": 24,
     "metadata": {},
     "output_type": "execute_result"
    }
   ],
   "source": [
    "df['nacionalidad']=1\n",
    "df['nacionalidad'].mask(df['NACIO']==2,0,inplace=True)\n",
    "df[['nacionalidad','NACIO']].groupby(['NACIO']).agg(['unique']) # Comprobación"
   ]
  },
  {
   "cell_type": "code",
   "execution_count": 25,
   "metadata": {},
   "outputs": [
    {
     "name": "stdout",
     "output_type": "stream",
     "text": [
      "                             aux_traduce\n",
      "                                  unique\n",
      "nacionalidad                            \n",
      "0             [Nacionalidad no española]\n",
      "1                [Nacionalidad española]\n"
     ]
    }
   ],
   "source": [
    "df['nacionalidad_']=traduce_lower('nacionalidad')"
   ]
  },
  {
   "cell_type": "markdown",
   "metadata": {},
   "source": [
    "## Nueva variable 'eu27'\n",
    "**Nacido en EU27**: 1=Nacido en EU27, 0=No nacido en EU27  \n",
    "  \n",
    "Nota: datos insuficientes para informar la variable 'eu27' en esta encuesta. Se imputa nacimiento en eu27 a quienes declaran nacionalidad española. "
   ]
  },
  {
   "cell_type": "code",
   "execution_count": 26,
   "metadata": {},
   "outputs": [
    {
     "data": {
      "text/html": [
       "<div>\n",
       "<style scoped>\n",
       "    .dataframe tbody tr th:only-of-type {\n",
       "        vertical-align: middle;\n",
       "    }\n",
       "\n",
       "    .dataframe tbody tr th {\n",
       "        vertical-align: top;\n",
       "    }\n",
       "\n",
       "    .dataframe thead tr th {\n",
       "        text-align: left;\n",
       "    }\n",
       "\n",
       "    .dataframe thead tr:last-of-type th {\n",
       "        text-align: right;\n",
       "    }\n",
       "</style>\n",
       "<table border=\"1\" class=\"dataframe\">\n",
       "  <thead>\n",
       "    <tr>\n",
       "      <th></th>\n",
       "      <th>eu27</th>\n",
       "    </tr>\n",
       "    <tr>\n",
       "      <th></th>\n",
       "      <th>unique</th>\n",
       "    </tr>\n",
       "    <tr>\n",
       "      <th>nacionalidad</th>\n",
       "      <th></th>\n",
       "    </tr>\n",
       "  </thead>\n",
       "  <tbody>\n",
       "    <tr>\n",
       "      <th>0</th>\n",
       "      <td>[None]</td>\n",
       "    </tr>\n",
       "    <tr>\n",
       "      <th>1</th>\n",
       "      <td>[1]</td>\n",
       "    </tr>\n",
       "  </tbody>\n",
       "</table>\n",
       "</div>"
      ],
      "text/plain": [
       "                eu27\n",
       "              unique\n",
       "nacionalidad        \n",
       "0             [None]\n",
       "1                [1]"
      ]
     },
     "execution_count": 26,
     "metadata": {},
     "output_type": "execute_result"
    }
   ],
   "source": [
    "df['eu27']=None\n",
    "df['eu27'].mask(df['nacionalidad']==1,1,inplace=True)\n",
    "df[['eu27','nacionalidad']].groupby('nacionalidad').agg(['unique']) # Comprobación"
   ]
  },
  {
   "cell_type": "code",
   "execution_count": 27,
   "metadata": {},
   "outputs": [
    {
     "name": "stdout",
     "output_type": "stream",
     "text": [
      "           aux_traduce\n",
      "                unique\n",
      "eu27                  \n",
      "1     [Nacido en EU27]\n"
     ]
    }
   ],
   "source": [
    "df['eu27_']=traduce_lower('eu27')"
   ]
  },
  {
   "cell_type": "markdown",
   "metadata": {},
   "source": [
    "## 'TITU' (redefinida como 'titulo_g1')\n",
    "**Titulación** de grado universitario  \n",
    "\n",
    "#### Nota: los títulos de grado, licenciatura o equivalente se han codificado con un criterio distinto al empleado en la encuesta de grado del año 2019. \n",
    "\n",
    "Algunas titulaciones han cambiado de denominación oficial en el tiempo transcurrido entre una encuesta y otra. Además, la encuesta de 2014 contempla distintas denominaciones (licenciatura y grado) para títulos equivalentes. El criterio de codificación empleado no tiene correspondencia con el usado en la encuesta de 2019.  \n",
    "\n",
    "Se modifican los códigos numéricos uno a uno para corregir la discrepancia, adoptando el sistema de codificación de la encuesta de 2019. En los casos en los que la titulación antigua se corresponde con varias titulaciones en la estructura de títulos de 2019, se sustituye el título antiguo por el más frecuente entre los que son equivalentes en la oferta de grados más reciente. "
   ]
  },
  {
   "cell_type": "code",
   "execution_count": 28,
   "metadata": {},
   "outputs": [
    {
     "data": {
      "text/plain": [
       "array([  1,   2,   3,   4,   5,   6,   7,   8,   9,  10,  11,  12,  13,\n",
       "        14,  15,  16,  17,  21,  22,  24,  25,  26,  31,  32,  35,  37,\n",
       "        38,  39,  40,  41,  42,  43,  44,  45,  46,  47,  48,  49,  50,\n",
       "        51,  52,  53,  54,  55,  56,  57,  58,  59,  60,  61,  62,  63,\n",
       "        64,  65,  66,  67,  68,  69,  70,  71,  72,  73,  74,  75,  76,\n",
       "        77,  78,  79,  80,  81,  82,  83,  84,  85,  86,  87,  88,  89,\n",
       "        90,  91,  92,  93,  94,  95,  96,  97,  98,  99, 100, 101, 102,\n",
       "       103, 104, 105, 106, 107, 108, 109, 110, 111, 112, 113, 114, 115,\n",
       "       116, 117, 118, 119, 120, 121, 122, 123, 124, 125, 126, 127, 128,\n",
       "       129, 130, 131, 132, 998, 999])"
      ]
     },
     "execution_count": 28,
     "metadata": {},
     "output_type": "execute_result"
    }
   ],
   "source": [
    "df['TITU'].sort_values().unique() # Sin valores no informados"
   ]
  },
  {
   "cell_type": "code",
   "execution_count": 29,
   "metadata": {},
   "outputs": [
    {
     "data": {
      "text/plain": [
       "123"
      ]
     },
     "execution_count": 29,
     "metadata": {},
     "output_type": "execute_result"
    }
   ],
   "source": [
    "# Más títulos que en encuesta de grado 2019 porque distingue licenciaturas (pre Bolonia) y grados equivalentes: \n",
    "df['TITU'].nunique()"
   ]
  },
  {
   "cell_type": "code",
   "execution_count": 30,
   "metadata": {},
   "outputs": [],
   "source": [
    "# Traduce titulos de la encuesta 2014 con su diccionario de códigos: \n",
    "df['TITU_']=df['TITU'].astype('O').replace(D_dict['TITU'])"
   ]
  },
  {
   "cell_type": "code",
   "execution_count": 31,
   "metadata": {},
   "outputs": [],
   "source": [
    "# Diccionario de correspondencias de códigos encuesta 2014 (claves) y códigos encuesta 2019 (valores):\n",
    "D_actualiza_titulos={1:73101,2:81102,3:71601,4:73202,5:72401,6:82101,7:71403,8:71404,9:61901,10:71405,\\\n",
    "                     11:71404,12:71901,13:71101,14:73102,15:71603,16:72201,17:53203,21:41301,22:101401,24:91301,\\\n",
    "                     25:91501,26:92301,31:41302,32:101501,35:71401,37:73201,38:91601,39:84101,40:21301,41:31301,\\\n",
    "                     42:42101,43:53201,44:91101,45:91201,46:53301,47:53203,48:54101,49:51101,50:51201,51:41301,\\\n",
    "                     52:31101,53:41401,54:31201,55:31406,56:41403,57:23104,58:22301,59:23103,60:23103,61:23201,\\\n",
    "                     62:23102,63:23103,64:23201,65:23201,66:23101,67:23102,68:23201,69:23202,70:31404,71:22202,\\\n",
    "                     72:21302,73:31401,74:72101,75:21101,76:32102,77:104101,78:32201,79:22901,80:23901,81:104101,\\\n",
    "                     82:11101,83:11101,84:53101,85:41201,86:52101,87:101401,88:54201,89:21502,90:72102,91:41302,\\\n",
    "                     92:51202,93:22202,94:31402,95:61901,96:54201,97:32201,98:91301,99:91501,100:92301,101:41202,\\\n",
    "                     102:91504,103:91402,104:91505,105:41303,106:41302,107:91502,108:11901,109:104101,110:104101,\\\n",
    "                     111:101501,112:91503,113:11201,114:11301,115:11401,116:11401,117:11401,118:11401,119:11401,\\\n",
    "                     120:73102,121:71501,122:61901,123:61901,124:73202,125:71404,126:71403,127:73201,128:71601,\\\n",
    "                     129:81103,130:82101,131:72401,132:104101,998:109999,999:109999}"
   ]
  },
  {
   "cell_type": "code",
   "execution_count": 32,
   "metadata": {},
   "outputs": [
    {
     "name": "stdout",
     "output_type": "stream",
     "text": [
      "                                aux_traduce\n",
      "                                     unique\n",
      "titulo_g1                                  \n",
      "11101                           [Pedagogía]\n",
      "11201                  [Educación infantil]\n",
      "11301                  [Educación primaria]\n",
      "11401                      [Otros maestros]\n",
      "11901                    [Educación social]\n",
      "...                                     ...\n",
      "92301                      [Trabajo social]\n",
      "101401     [Actividad física y del deporte]\n",
      "101501                            [Turismo]\n",
      "104101      [Náutica y transporte marítimo]\n",
      "109999         [Servicios (otros estudios)]\n",
      "\n",
      "[83 rows x 1 columns]\n"
     ]
    }
   ],
   "source": [
    "# Columna nueva con códigos corregidos (leyenda encuesta de grado 2019)\n",
    "df['titulo_g1']=df['TITU'].replace(D_actualiza_titulos)\n",
    "# Traduce de acuerdo con el diccionario de títulos de la encuesta de 2019:\n",
    "df['titulo_g1_']=traduce_lower('titulo_g1') "
   ]
  },
  {
   "cell_type": "code",
   "execution_count": 33,
   "metadata": {},
   "outputs": [],
   "source": [
    "# Se añade indicador de título de grado para distinguirlos de títulos de máster con idéntica denominación: \n",
    "df['titulo_g1_']='Grado '+df['titulo_g1_']"
   ]
  },
  {
   "cell_type": "code",
   "execution_count": 34,
   "metadata": {},
   "outputs": [
    {
     "data": {
      "text/html": [
       "<div>\n",
       "<style scoped>\n",
       "    .dataframe tbody tr th:only-of-type {\n",
       "        vertical-align: middle;\n",
       "    }\n",
       "\n",
       "    .dataframe tbody tr th {\n",
       "        vertical-align: top;\n",
       "    }\n",
       "\n",
       "    .dataframe thead tr th {\n",
       "        text-align: left;\n",
       "    }\n",
       "\n",
       "    .dataframe thead tr:last-of-type th {\n",
       "        text-align: right;\n",
       "    }\n",
       "</style>\n",
       "<table border=\"1\" class=\"dataframe\">\n",
       "  <thead>\n",
       "    <tr>\n",
       "      <th></th>\n",
       "      <th>titulo_g1_</th>\n",
       "    </tr>\n",
       "    <tr>\n",
       "      <th></th>\n",
       "      <th>unique</th>\n",
       "    </tr>\n",
       "    <tr>\n",
       "      <th>TITU_</th>\n",
       "      <th></th>\n",
       "    </tr>\n",
       "  </thead>\n",
       "  <tbody>\n",
       "    <tr>\n",
       "      <th>Arquitecto</th>\n",
       "      <td>[Grado Arquitectura y Urbanismo y paisajismo]</td>\n",
       "    </tr>\n",
       "    <tr>\n",
       "      <th>Arquitecto Técnico</th>\n",
       "      <td>[Grado Arquitectura técnica]</td>\n",
       "    </tr>\n",
       "    <tr>\n",
       "      <th>Dip. en Biblioteconomía y Documentación</th>\n",
       "      <td>[Grado Información y documentación]</td>\n",
       "    </tr>\n",
       "    <tr>\n",
       "      <th>Dip. en Ciencias Empresariales</th>\n",
       "      <td>[Grado Finanzas y contabilidad]</td>\n",
       "    </tr>\n",
       "    <tr>\n",
       "      <th>Dip. en Educación Social</th>\n",
       "      <td>[Grado Educación social]</td>\n",
       "    </tr>\n",
       "    <tr>\n",
       "      <th>Dip. en Enfermería</th>\n",
       "      <td>[Grado Enfermería]</td>\n",
       "    </tr>\n",
       "    <tr>\n",
       "      <th>Dip. en Estadística</th>\n",
       "      <td>[Grado Estadística]</td>\n",
       "    </tr>\n",
       "    <tr>\n",
       "      <th>Dip. en Fisioterapia</th>\n",
       "      <td>[Grado Fisioterapia]</td>\n",
       "    </tr>\n",
       "    <tr>\n",
       "      <th>Dip. en Gestión y Administración Pública</th>\n",
       "      <td>[Grado Gestión y administración pública]</td>\n",
       "    </tr>\n",
       "    <tr>\n",
       "      <th>Dip. en Logopedia</th>\n",
       "      <td>[Grado Logopedia]</td>\n",
       "    </tr>\n",
       "    <tr>\n",
       "      <th>Dip. en Máquinas Navales</th>\n",
       "      <td>[Grado Náutica y transporte marítimo]</td>\n",
       "    </tr>\n",
       "    <tr>\n",
       "      <th>Dip. en Navegación Marítima</th>\n",
       "      <td>[Grado Náutica y transporte marítimo]</td>\n",
       "    </tr>\n",
       "    <tr>\n",
       "      <th>Dip. en Nutrición Humana y Dietética</th>\n",
       "      <td>[Grado Nutrición humana y dietética]</td>\n",
       "    </tr>\n",
       "    <tr>\n",
       "      <th>Dip. en Podología</th>\n",
       "      <td>[Grado Podología]</td>\n",
       "    </tr>\n",
       "    <tr>\n",
       "      <th>Dip. en Relaciones Laborales</th>\n",
       "      <td>[Grado Ciencias del trabajo]</td>\n",
       "    </tr>\n",
       "    <tr>\n",
       "      <th>Dip. en Terapia Ocupacional</th>\n",
       "      <td>[Grado Terapia ocupacional]</td>\n",
       "    </tr>\n",
       "    <tr>\n",
       "      <th>Dip. en Trabajo Social</th>\n",
       "      <td>[Grado Trabajo social]</td>\n",
       "    </tr>\n",
       "    <tr>\n",
       "      <th>Dip. en Turismo</th>\n",
       "      <td>[Grado Turismo]</td>\n",
       "    </tr>\n",
       "    <tr>\n",
       "      <th>Dip. en Óptica y Optometría</th>\n",
       "      <td>[Grado Óptica y optometría]</td>\n",
       "    </tr>\n",
       "    <tr>\n",
       "      <th>Grad. en Administración y Dirección de Empresas</th>\n",
       "      <td>[Grado Administración y empresa]</td>\n",
       "    </tr>\n",
       "    <tr>\n",
       "      <th>Grad. en Ciencias de la Actividad Física y del Deporte</th>\n",
       "      <td>[Grado Actividad física y del deporte]</td>\n",
       "    </tr>\n",
       "    <tr>\n",
       "      <th>Grad. en Enfermería</th>\n",
       "      <td>[Grado Enfermería]</td>\n",
       "    </tr>\n",
       "    <tr>\n",
       "      <th>Grad. en Fisioterapia</th>\n",
       "      <td>[Grado Fisioterapia]</td>\n",
       "    </tr>\n",
       "    <tr>\n",
       "      <th>Grad. en Ingeniería Informática</th>\n",
       "      <td>[Grado Ingeniería de computadores]</td>\n",
       "    </tr>\n",
       "    <tr>\n",
       "      <th>Grad. en Ingeniería de la Edificación</th>\n",
       "      <td>[Grado Arquitectura técnica]</td>\n",
       "    </tr>\n",
       "    <tr>\n",
       "      <th>Grad. en Relaciones Laborales</th>\n",
       "      <td>[Grado Ciencias del trabajo]</td>\n",
       "    </tr>\n",
       "    <tr>\n",
       "      <th>Grad. en Trabajo Social</th>\n",
       "      <td>[Grado Trabajo social]</td>\n",
       "    </tr>\n",
       "    <tr>\n",
       "      <th>Grad. en Turismo</th>\n",
       "      <td>[Grado Turismo]</td>\n",
       "    </tr>\n",
       "    <tr>\n",
       "      <th>Ing. Aeronáutico</th>\n",
       "      <td>[Grado Ingeniería aeronáutica]</td>\n",
       "    </tr>\n",
       "    <tr>\n",
       "      <th>Ing. Agrónomo</th>\n",
       "      <td>[Grado Ingeniería agraria y agroalimentaria]</td>\n",
       "    </tr>\n",
       "  </tbody>\n",
       "</table>\n",
       "</div>"
      ],
      "text/plain": [
       "                                                                                           titulo_g1_\n",
       "                                                                                               unique\n",
       "TITU_                                                                                                \n",
       "Arquitecto                                              [Grado Arquitectura y Urbanismo y paisajismo]\n",
       "Arquitecto Técnico                                                       [Grado Arquitectura técnica]\n",
       "Dip. en Biblioteconomía y Documentación                           [Grado Información y documentación]\n",
       "Dip. en Ciencias Empresariales                                        [Grado Finanzas y contabilidad]\n",
       "Dip. en Educación Social                                                     [Grado Educación social]\n",
       "Dip. en Enfermería                                                                 [Grado Enfermería]\n",
       "Dip. en Estadística                                                               [Grado Estadística]\n",
       "Dip. en Fisioterapia                                                             [Grado Fisioterapia]\n",
       "Dip. en Gestión y Administración Pública                     [Grado Gestión y administración pública]\n",
       "Dip. en Logopedia                                                                   [Grado Logopedia]\n",
       "Dip. en Máquinas Navales                                        [Grado Náutica y transporte marítimo]\n",
       "Dip. en Navegación Marítima                                     [Grado Náutica y transporte marítimo]\n",
       "Dip. en Nutrición Humana y Dietética                             [Grado Nutrición humana y dietética]\n",
       "Dip. en Podología                                                                   [Grado Podología]\n",
       "Dip. en Relaciones Laborales                                             [Grado Ciencias del trabajo]\n",
       "Dip. en Terapia Ocupacional                                               [Grado Terapia ocupacional]\n",
       "Dip. en Trabajo Social                                                         [Grado Trabajo social]\n",
       "Dip. en Turismo                                                                       [Grado Turismo]\n",
       "Dip. en Óptica y Optometría                                               [Grado Óptica y optometría]\n",
       "Grad. en Administración y Dirección de Empresas                      [Grado Administración y empresa]\n",
       "Grad. en Ciencias de la Actividad Física y del Deporte         [Grado Actividad física y del deporte]\n",
       "Grad. en Enfermería                                                                [Grado Enfermería]\n",
       "Grad. en Fisioterapia                                                            [Grado Fisioterapia]\n",
       "Grad. en Ingeniería Informática                                    [Grado Ingeniería de computadores]\n",
       "Grad. en Ingeniería de la Edificación                                    [Grado Arquitectura técnica]\n",
       "Grad. en Relaciones Laborales                                            [Grado Ciencias del trabajo]\n",
       "Grad. en Trabajo Social                                                        [Grado Trabajo social]\n",
       "Grad. en Turismo                                                                      [Grado Turismo]\n",
       "Ing. Aeronáutico                                                       [Grado Ingeniería aeronáutica]\n",
       "Ing. Agrónomo                                            [Grado Ingeniería agraria y agroalimentaria]"
      ]
     },
     "execution_count": 34,
     "metadata": {},
     "output_type": "execute_result"
    }
   ],
   "source": [
    "# Inspección de correspondencias de titulaciones: \n",
    "df[['TITU_','titulo_g1_']].groupby('TITU_').agg(['unique']).iloc[:30]"
   ]
  },
  {
   "cell_type": "code",
   "execution_count": 35,
   "metadata": {},
   "outputs": [
    {
     "data": {
      "text/html": [
       "<div>\n",
       "<style scoped>\n",
       "    .dataframe tbody tr th:only-of-type {\n",
       "        vertical-align: middle;\n",
       "    }\n",
       "\n",
       "    .dataframe tbody tr th {\n",
       "        vertical-align: top;\n",
       "    }\n",
       "\n",
       "    .dataframe thead tr th {\n",
       "        text-align: left;\n",
       "    }\n",
       "\n",
       "    .dataframe thead tr:last-of-type th {\n",
       "        text-align: right;\n",
       "    }\n",
       "</style>\n",
       "<table border=\"1\" class=\"dataframe\">\n",
       "  <thead>\n",
       "    <tr>\n",
       "      <th></th>\n",
       "      <th>titulo_g1_</th>\n",
       "    </tr>\n",
       "    <tr>\n",
       "      <th></th>\n",
       "      <th>unique</th>\n",
       "    </tr>\n",
       "    <tr>\n",
       "      <th>TITU_</th>\n",
       "      <th></th>\n",
       "    </tr>\n",
       "  </thead>\n",
       "  <tbody>\n",
       "    <tr>\n",
       "      <th>Ing. Geólogo</th>\n",
       "      <td>[Grado Geología]</td>\n",
       "    </tr>\n",
       "    <tr>\n",
       "      <th>Ing. Industrial</th>\n",
       "      <td>[Grado Ingeniería electrónica industrial y automática]</td>\n",
       "    </tr>\n",
       "    <tr>\n",
       "      <th>Ing. Naval y Oceánico</th>\n",
       "      <td>[Grado Ingeniería naval y oceánica]</td>\n",
       "    </tr>\n",
       "    <tr>\n",
       "      <th>Ing. Químico</th>\n",
       "      <td>[Grado Ingeniería química industrial e Ingeniería medioambiental]</td>\n",
       "    </tr>\n",
       "    <tr>\n",
       "      <th>Ing. Téc. Aeronáutico</th>\n",
       "      <td>[Grado Ingeniería aeronáutica]</td>\n",
       "    </tr>\n",
       "    <tr>\n",
       "      <th>Ing. Téc. Agrícola</th>\n",
       "      <td>[Grado Ingeniería agrícola, agropecuaria y medio rural]</td>\n",
       "    </tr>\n",
       "    <tr>\n",
       "      <th>Ing. Téc. Forestal</th>\n",
       "      <td>[Grado Ingeniería forestal y montes]</td>\n",
       "    </tr>\n",
       "    <tr>\n",
       "      <th>Ing. Téc. Industrial</th>\n",
       "      <td>[Grado Ingeniería electrónica industrial y automática]</td>\n",
       "    </tr>\n",
       "    <tr>\n",
       "      <th>Ing. Téc. Naval</th>\n",
       "      <td>[Grado Náutica y transporte marítimo]</td>\n",
       "    </tr>\n",
       "    <tr>\n",
       "      <th>Ing. Téc. de Minas</th>\n",
       "      <td>[Grado Ingeniería de minas y energía]</td>\n",
       "    </tr>\n",
       "    <tr>\n",
       "      <th>Ing. Téc. de Obras Públicas</th>\n",
       "      <td>[Grado Ingeniería civil]</td>\n",
       "    </tr>\n",
       "    <tr>\n",
       "      <th>Ing. Téc. de Telecomunicación</th>\n",
       "      <td>[Grado Ingeniería de telecomunicación]</td>\n",
       "    </tr>\n",
       "    <tr>\n",
       "      <th>Ing. Téc. en Diseño Industrial</th>\n",
       "      <td>[Grado Ingeniería en diseño industrial y desarrollo del producto]</td>\n",
       "    </tr>\n",
       "    <tr>\n",
       "      <th>Ing. Téc. en Informática</th>\n",
       "      <td>[Grado Informática]</td>\n",
       "    </tr>\n",
       "    <tr>\n",
       "      <th>Ing. Téc. en Informática de Gestión</th>\n",
       "      <td>[Grado Informática]</td>\n",
       "    </tr>\n",
       "    <tr>\n",
       "      <th>Ing. Téc. en Informática de Sistemas</th>\n",
       "      <td>[Grado Informática]</td>\n",
       "    </tr>\n",
       "    <tr>\n",
       "      <th>Ing. Téc. en Topografía</th>\n",
       "      <td>[Grado Ingeniería geomática, topografía y cartografía]</td>\n",
       "    </tr>\n",
       "    <tr>\n",
       "      <th>Ing. de Caminos, Canales y Puertos</th>\n",
       "      <td>[Grado Ingeniería civil]</td>\n",
       "    </tr>\n",
       "    <tr>\n",
       "      <th>Ing. de Materiales</th>\n",
       "      <td>[Grado Ingeniería de materiales e Ingeniería textil]</td>\n",
       "    </tr>\n",
       "    <tr>\n",
       "      <th>Ing. de Minas</th>\n",
       "      <td>[Grado Ingeniería de minas y energía]</td>\n",
       "    </tr>\n",
       "    <tr>\n",
       "      <th>Ing. de Montes</th>\n",
       "      <td>[Grado Ingeniería forestal y montes]</td>\n",
       "    </tr>\n",
       "    <tr>\n",
       "      <th>Ing. de Organización Industrial</th>\n",
       "      <td>[Grado Ingeniería de organización industrial y Nanotecnología]</td>\n",
       "    </tr>\n",
       "    <tr>\n",
       "      <th>Ing. de Telecomunicación</th>\n",
       "      <td>[Grado Ingeniería de telecomunicación]</td>\n",
       "    </tr>\n",
       "    <tr>\n",
       "      <th>Ing. en Automática y Electrónica Industrial</th>\n",
       "      <td>[Grado Ingeniería electrónica industrial y automática]</td>\n",
       "    </tr>\n",
       "    <tr>\n",
       "      <th>Ing. en Electrónica</th>\n",
       "      <td>[Grado Ingeniería en electrónica]</td>\n",
       "    </tr>\n",
       "    <tr>\n",
       "      <th>Ing. en Geodesia y Cartografía</th>\n",
       "      <td>[Grado Ingeniería geomática, topografía y cartografía]</td>\n",
       "    </tr>\n",
       "    <tr>\n",
       "      <th>Ing. en Informática</th>\n",
       "      <td>[Grado Informática]</td>\n",
       "    </tr>\n",
       "    <tr>\n",
       "      <th>Lic. en Administración y Dirección de Empresas</th>\n",
       "      <td>[Grado Administración y empresa]</td>\n",
       "    </tr>\n",
       "    <tr>\n",
       "      <th>Lic. en Antropología Social y Cultural</th>\n",
       "      <td>[Grado Antropología social y cultural y Estudios y gestión de la cultura]</td>\n",
       "    </tr>\n",
       "    <tr>\n",
       "      <th>Lic. en Bellas Artes</th>\n",
       "      <td>[Grado Bellas artes]</td>\n",
       "    </tr>\n",
       "  </tbody>\n",
       "</table>\n",
       "</div>"
      ],
      "text/plain": [
       "                                                                                                               titulo_g1_\n",
       "                                                                                                                   unique\n",
       "TITU_                                                                                                                    \n",
       "Ing. Geólogo                                                                                             [Grado Geología]\n",
       "Ing. Industrial                                                    [Grado Ingeniería electrónica industrial y automática]\n",
       "Ing. Naval y Oceánico                                                                 [Grado Ingeniería naval y oceánica]\n",
       "Ing. Químico                                            [Grado Ingeniería química industrial e Ingeniería medioambiental]\n",
       "Ing. Téc. Aeronáutico                                                                      [Grado Ingeniería aeronáutica]\n",
       "Ing. Téc. Agrícola                                                [Grado Ingeniería agrícola, agropecuaria y medio rural]\n",
       "Ing. Téc. Forestal                                                                   [Grado Ingeniería forestal y montes]\n",
       "Ing. Téc. Industrial                                               [Grado Ingeniería electrónica industrial y automática]\n",
       "Ing. Téc. Naval                                                                     [Grado Náutica y transporte marítimo]\n",
       "Ing. Téc. de Minas                                                                  [Grado Ingeniería de minas y energía]\n",
       "Ing. Téc. de Obras Públicas                                                                      [Grado Ingeniería civil]\n",
       "Ing. Téc. de Telecomunicación                                                      [Grado Ingeniería de telecomunicación]\n",
       "Ing. Téc. en Diseño Industrial                          [Grado Ingeniería en diseño industrial y desarrollo del producto]\n",
       "Ing. Téc. en Informática                                                                              [Grado Informática]\n",
       "Ing. Téc. en Informática de Gestión                                                                   [Grado Informática]\n",
       "Ing. Téc. en Informática de Sistemas                                                                  [Grado Informática]\n",
       "Ing. Téc. en Topografía                                            [Grado Ingeniería geomática, topografía y cartografía]\n",
       "Ing. de Caminos, Canales y Puertos                                                               [Grado Ingeniería civil]\n",
       "Ing. de Materiales                                                   [Grado Ingeniería de materiales e Ingeniería textil]\n",
       "Ing. de Minas                                                                       [Grado Ingeniería de minas y energía]\n",
       "Ing. de Montes                                                                       [Grado Ingeniería forestal y montes]\n",
       "Ing. de Organización Industrial                            [Grado Ingeniería de organización industrial y Nanotecnología]\n",
       "Ing. de Telecomunicación                                                           [Grado Ingeniería de telecomunicación]\n",
       "Ing. en Automática y Electrónica Industrial                        [Grado Ingeniería electrónica industrial y automática]\n",
       "Ing. en Electrónica                                                                     [Grado Ingeniería en electrónica]\n",
       "Ing. en Geodesia y Cartografía                                     [Grado Ingeniería geomática, topografía y cartografía]\n",
       "Ing. en Informática                                                                                   [Grado Informática]\n",
       "Lic. en Administración y Dirección de Empresas                                           [Grado Administración y empresa]\n",
       "Lic. en Antropología Social y Cultural          [Grado Antropología social y cultural y Estudios y gestión de la cultura]\n",
       "Lic. en Bellas Artes                                                                                 [Grado Bellas artes]"
      ]
     },
     "execution_count": 35,
     "metadata": {},
     "output_type": "execute_result"
    }
   ],
   "source": [
    "# Inspección de correspondencias de titulaciones: \n",
    "df[['TITU_','titulo_g1_']].groupby('TITU_').agg(['unique']).iloc[30:60]"
   ]
  },
  {
   "cell_type": "code",
   "execution_count": 36,
   "metadata": {},
   "outputs": [
    {
     "data": {
      "text/html": [
       "<div>\n",
       "<style scoped>\n",
       "    .dataframe tbody tr th:only-of-type {\n",
       "        vertical-align: middle;\n",
       "    }\n",
       "\n",
       "    .dataframe tbody tr th {\n",
       "        vertical-align: top;\n",
       "    }\n",
       "\n",
       "    .dataframe thead tr th {\n",
       "        text-align: left;\n",
       "    }\n",
       "\n",
       "    .dataframe thead tr:last-of-type th {\n",
       "        text-align: right;\n",
       "    }\n",
       "</style>\n",
       "<table border=\"1\" class=\"dataframe\">\n",
       "  <thead>\n",
       "    <tr>\n",
       "      <th></th>\n",
       "      <th>titulo_g1_</th>\n",
       "    </tr>\n",
       "    <tr>\n",
       "      <th></th>\n",
       "      <th>unique</th>\n",
       "    </tr>\n",
       "    <tr>\n",
       "      <th>TITU_</th>\n",
       "      <th></th>\n",
       "    </tr>\n",
       "  </thead>\n",
       "  <tbody>\n",
       "    <tr>\n",
       "      <th>Lic. en Biología</th>\n",
       "      <td>[Grado Biología]</td>\n",
       "    </tr>\n",
       "    <tr>\n",
       "      <th>Lic. en Bioquímica</th>\n",
       "      <td>[Grado Bioquímica]</td>\n",
       "    </tr>\n",
       "    <tr>\n",
       "      <th>Lic. en Biotecnología</th>\n",
       "      <td>[Grado Biotecnología]</td>\n",
       "    </tr>\n",
       "    <tr>\n",
       "      <th>Lic. en Ciencia y Tecnología de los Alimentos</th>\n",
       "      <td>[Grado Ciencia y tecnología de los alimentos e Ingeniería alimentaria]</td>\n",
       "    </tr>\n",
       "    <tr>\n",
       "      <th>Lic. en Ciencias Actuariales y Financieras</th>\n",
       "      <td>[Grado Financiera y actuarial]</td>\n",
       "    </tr>\n",
       "    <tr>\n",
       "      <th>Lic. en Ciencias Ambientales</th>\n",
       "      <td>[Grado Ciencias ambientales]</td>\n",
       "    </tr>\n",
       "    <tr>\n",
       "      <th>Lic. en Ciencias Políticas y de la Administración</th>\n",
       "      <td>[Grado Política y gestión pública]</td>\n",
       "    </tr>\n",
       "    <tr>\n",
       "      <th>Lic. en Ciencias de la Actividad Física y del Deporte</th>\n",
       "      <td>[Grado Actividad física y del deporte]</td>\n",
       "    </tr>\n",
       "    <tr>\n",
       "      <th>Lic. en Ciencias del Mar</th>\n",
       "      <td>[Grado Ciencias del mar]</td>\n",
       "    </tr>\n",
       "    <tr>\n",
       "      <th>Lic. en Ciencias del Trabajo</th>\n",
       "      <td>[Grado Ciencias del trabajo]</td>\n",
       "    </tr>\n",
       "    <tr>\n",
       "      <th>Lic. en Ciencias y Técnicas Estadísticas</th>\n",
       "      <td>[Grado Estadística]</td>\n",
       "    </tr>\n",
       "    <tr>\n",
       "      <th>Lic. en Comunicación Audiovisual</th>\n",
       "      <td>[Grado Audiovisual, imagen y multimedia]</td>\n",
       "    </tr>\n",
       "    <tr>\n",
       "      <th>Lic. en Criminología</th>\n",
       "      <td>[Grado Criminología]</td>\n",
       "    </tr>\n",
       "    <tr>\n",
       "      <th>Lic. en Derecho</th>\n",
       "      <td>[Grado Derecho]</td>\n",
       "    </tr>\n",
       "    <tr>\n",
       "      <th>Lic. en Documentación</th>\n",
       "      <td>[Grado Información y documentación]</td>\n",
       "    </tr>\n",
       "    <tr>\n",
       "      <th>Lic. en Economía</th>\n",
       "      <td>[Grado Economía]</td>\n",
       "    </tr>\n",
       "    <tr>\n",
       "      <th>Lic. en Enología</th>\n",
       "      <td>[Grado Enología]</td>\n",
       "    </tr>\n",
       "    <tr>\n",
       "      <th>Lic. en Estudios de Asia Oriental</th>\n",
       "      <td>[Grado Historia]</td>\n",
       "    </tr>\n",
       "    <tr>\n",
       "      <th>Lic. en Farmacia</th>\n",
       "      <td>[Grado Farmacia]</td>\n",
       "    </tr>\n",
       "    <tr>\n",
       "      <th>Lic. en Filología Alemana</th>\n",
       "      <td>[Grado Otras lenguas extranjeras]</td>\n",
       "    </tr>\n",
       "    <tr>\n",
       "      <th>Lic. en Filología Catalana</th>\n",
       "      <td>[Grado Lenguas y dialectos españoles]</td>\n",
       "    </tr>\n",
       "    <tr>\n",
       "      <th>Lic. en Filología Clásica</th>\n",
       "      <td>[Grado Lenguas clásicas]</td>\n",
       "    </tr>\n",
       "    <tr>\n",
       "      <th>Lic. en Filología Francesa</th>\n",
       "      <td>[Grado Otras lenguas extranjeras]</td>\n",
       "    </tr>\n",
       "    <tr>\n",
       "      <th>Lic. en Filología Gallega</th>\n",
       "      <td>[Grado Lenguas y dialectos españoles]</td>\n",
       "    </tr>\n",
       "    <tr>\n",
       "      <th>Lic. en Filología Hispánica</th>\n",
       "      <td>[Grado Lenguas y dialectos españoles]</td>\n",
       "    </tr>\n",
       "    <tr>\n",
       "      <th>Lic. en Filología Inglesa</th>\n",
       "      <td>[Grado Lengua inglesa]</td>\n",
       "    </tr>\n",
       "    <tr>\n",
       "      <th>Lic. en Filología Románica</th>\n",
       "      <td>[Grado Lenguas clásicas]</td>\n",
       "    </tr>\n",
       "    <tr>\n",
       "      <th>Lic. en Filología Vasca</th>\n",
       "      <td>[Grado Lenguas y dialectos españoles]</td>\n",
       "    </tr>\n",
       "    <tr>\n",
       "      <th>Lic. en Filología Árabe</th>\n",
       "      <td>[Grado Otras lenguas extranjeras]</td>\n",
       "    </tr>\n",
       "    <tr>\n",
       "      <th>Lic. en Filosofía</th>\n",
       "      <td>[Grado Filosofía]</td>\n",
       "    </tr>\n",
       "  </tbody>\n",
       "</table>\n",
       "</div>"
      ],
      "text/plain": [
       "                                                                                                                   titulo_g1_\n",
       "                                                                                                                       unique\n",
       "TITU_                                                                                                                        \n",
       "Lic. en Biología                                                                                             [Grado Biología]\n",
       "Lic. en Bioquímica                                                                                         [Grado Bioquímica]\n",
       "Lic. en Biotecnología                                                                                   [Grado Biotecnología]\n",
       "Lic. en Ciencia y Tecnología de los Alimentos          [Grado Ciencia y tecnología de los alimentos e Ingeniería alimentaria]\n",
       "Lic. en Ciencias Actuariales y Financieras                                                     [Grado Financiera y actuarial]\n",
       "Lic. en Ciencias Ambientales                                                                     [Grado Ciencias ambientales]\n",
       "Lic. en Ciencias Políticas y de la Administración                                          [Grado Política y gestión pública]\n",
       "Lic. en Ciencias de la Actividad Física y del Deporte                                  [Grado Actividad física y del deporte]\n",
       "Lic. en Ciencias del Mar                                                                             [Grado Ciencias del mar]\n",
       "Lic. en Ciencias del Trabajo                                                                     [Grado Ciencias del trabajo]\n",
       "Lic. en Ciencias y Técnicas Estadísticas                                                                  [Grado Estadística]\n",
       "Lic. en Comunicación Audiovisual                                                     [Grado Audiovisual, imagen y multimedia]\n",
       "Lic. en Criminología                                                                                     [Grado Criminología]\n",
       "Lic. en Derecho                                                                                               [Grado Derecho]\n",
       "Lic. en Documentación                                                                     [Grado Información y documentación]\n",
       "Lic. en Economía                                                                                             [Grado Economía]\n",
       "Lic. en Enología                                                                                             [Grado Enología]\n",
       "Lic. en Estudios de Asia Oriental                                                                            [Grado Historia]\n",
       "Lic. en Farmacia                                                                                             [Grado Farmacia]\n",
       "Lic. en Filología Alemana                                                                   [Grado Otras lenguas extranjeras]\n",
       "Lic. en Filología Catalana                                                              [Grado Lenguas y dialectos españoles]\n",
       "Lic. en Filología Clásica                                                                            [Grado Lenguas clásicas]\n",
       "Lic. en Filología Francesa                                                                  [Grado Otras lenguas extranjeras]\n",
       "Lic. en Filología Gallega                                                               [Grado Lenguas y dialectos españoles]\n",
       "Lic. en Filología Hispánica                                                             [Grado Lenguas y dialectos españoles]\n",
       "Lic. en Filología Inglesa                                                                              [Grado Lengua inglesa]\n",
       "Lic. en Filología Románica                                                                           [Grado Lenguas clásicas]\n",
       "Lic. en Filología Vasca                                                                 [Grado Lenguas y dialectos españoles]\n",
       "Lic. en Filología Árabe                                                                     [Grado Otras lenguas extranjeras]\n",
       "Lic. en Filosofía                                                                                           [Grado Filosofía]"
      ]
     },
     "execution_count": 36,
     "metadata": {},
     "output_type": "execute_result"
    }
   ],
   "source": [
    "# Inspección de correspondencias de titulaciones: \n",
    "df[['TITU_','titulo_g1_']].groupby('TITU_').agg(['unique']).iloc[60:90]"
   ]
  },
  {
   "cell_type": "code",
   "execution_count": 37,
   "metadata": {},
   "outputs": [
    {
     "data": {
      "text/html": [
       "<div>\n",
       "<style scoped>\n",
       "    .dataframe tbody tr th:only-of-type {\n",
       "        vertical-align: middle;\n",
       "    }\n",
       "\n",
       "    .dataframe tbody tr th {\n",
       "        vertical-align: top;\n",
       "    }\n",
       "\n",
       "    .dataframe thead tr th {\n",
       "        text-align: left;\n",
       "    }\n",
       "\n",
       "    .dataframe thead tr:last-of-type th {\n",
       "        text-align: right;\n",
       "    }\n",
       "</style>\n",
       "<table border=\"1\" class=\"dataframe\">\n",
       "  <thead>\n",
       "    <tr>\n",
       "      <th></th>\n",
       "      <th>titulo_g1_</th>\n",
       "    </tr>\n",
       "    <tr>\n",
       "      <th></th>\n",
       "      <th>unique</th>\n",
       "    </tr>\n",
       "    <tr>\n",
       "      <th>TITU_</th>\n",
       "      <th></th>\n",
       "    </tr>\n",
       "  </thead>\n",
       "  <tbody>\n",
       "    <tr>\n",
       "      <th>Lic. en Física</th>\n",
       "      <td>[Grado Física]</td>\n",
       "    </tr>\n",
       "    <tr>\n",
       "      <th>Lic. en Geografía</th>\n",
       "      <td>[Grado Geografía]</td>\n",
       "    </tr>\n",
       "    <tr>\n",
       "      <th>Lic. en Geología</th>\n",
       "      <td>[Grado Geología]</td>\n",
       "    </tr>\n",
       "    <tr>\n",
       "      <th>Lic. en Historia</th>\n",
       "      <td>[Grado Historia]</td>\n",
       "    </tr>\n",
       "    <tr>\n",
       "      <th>Lic. en Historia del Arte</th>\n",
       "      <td>[Grado Historia del arte]</td>\n",
       "    </tr>\n",
       "    <tr>\n",
       "      <th>Lic. en Historia y Ciencias de la Música</th>\n",
       "      <td>[Grado Música y Artes escénicas]</td>\n",
       "    </tr>\n",
       "    <tr>\n",
       "      <th>Lic. en Humanidades</th>\n",
       "      <td>[Grado Humanidades]</td>\n",
       "    </tr>\n",
       "    <tr>\n",
       "      <th>Lic. en Investigación y Técnicas de Mercado</th>\n",
       "      <td>[Grado Marketing]</td>\n",
       "    </tr>\n",
       "    <tr>\n",
       "      <th>Lic. en Lingüística</th>\n",
       "      <td>[Grado Lenguas modernas y aplicadas]</td>\n",
       "    </tr>\n",
       "    <tr>\n",
       "      <th>Lic. en Matemáticas</th>\n",
       "      <td>[Grado Matemáticas]</td>\n",
       "    </tr>\n",
       "    <tr>\n",
       "      <th>Lic. en Medicina</th>\n",
       "      <td>[Grado Medicina]</td>\n",
       "    </tr>\n",
       "    <tr>\n",
       "      <th>Lic. en Máquinas Navales</th>\n",
       "      <td>[Grado Náutica y transporte marítimo]</td>\n",
       "    </tr>\n",
       "    <tr>\n",
       "      <th>Lic. en Náutica y Transporte Marítimo</th>\n",
       "      <td>[Grado Náutica y transporte marítimo]</td>\n",
       "    </tr>\n",
       "    <tr>\n",
       "      <th>Lic. en Odontología</th>\n",
       "      <td>[Grado Odontología]</td>\n",
       "    </tr>\n",
       "    <tr>\n",
       "      <th>Lic. en Pedagogía</th>\n",
       "      <td>[Grado Pedagogía]</td>\n",
       "    </tr>\n",
       "    <tr>\n",
       "      <th>Lic. en Periodismo</th>\n",
       "      <td>[Grado Periodismo]</td>\n",
       "    </tr>\n",
       "    <tr>\n",
       "      <th>Lic. en Psicología</th>\n",
       "      <td>[Grado Psicología]</td>\n",
       "    </tr>\n",
       "    <tr>\n",
       "      <th>Lic. en Psicopedagogía</th>\n",
       "      <td>[Grado Pedagogía]</td>\n",
       "    </tr>\n",
       "    <tr>\n",
       "      <th>Lic. en Publicidad y Relaciones Públicas</th>\n",
       "      <td>[Grado Publicidad y relaciones públicas]</td>\n",
       "    </tr>\n",
       "    <tr>\n",
       "      <th>Lic. en Química</th>\n",
       "      <td>[Grado Química]</td>\n",
       "    </tr>\n",
       "    <tr>\n",
       "      <th>Lic. en Sociología</th>\n",
       "      <td>[Grado Sociología e Igualdad de género]</td>\n",
       "    </tr>\n",
       "    <tr>\n",
       "      <th>Lic. en Teoría de la Literatura y Literatura Comparada</th>\n",
       "      <td>[Grado Literatura]</td>\n",
       "    </tr>\n",
       "    <tr>\n",
       "      <th>Lic. en Traducción e Interpretación</th>\n",
       "      <td>[Grado Traducción e interpretación]</td>\n",
       "    </tr>\n",
       "    <tr>\n",
       "      <th>Lic. en Veterinaria</th>\n",
       "      <td>[Grado Veterinaria]</td>\n",
       "    </tr>\n",
       "    <tr>\n",
       "      <th>Maestro-Especialidad de Audición y Lenguaje</th>\n",
       "      <td>[Grado Otros maestros]</td>\n",
       "    </tr>\n",
       "    <tr>\n",
       "      <th>Maestro-Especialidad de Educación Especial</th>\n",
       "      <td>[Grado Otros maestros]</td>\n",
       "    </tr>\n",
       "    <tr>\n",
       "      <th>Maestro-Especialidad de Educación Física</th>\n",
       "      <td>[Grado Otros maestros]</td>\n",
       "    </tr>\n",
       "    <tr>\n",
       "      <th>Maestro-Especialidad de Educación Infantil</th>\n",
       "      <td>[Grado Educación infantil]</td>\n",
       "    </tr>\n",
       "    <tr>\n",
       "      <th>Maestro-Especialidad de Educación Musical</th>\n",
       "      <td>[Grado Otros maestros]</td>\n",
       "    </tr>\n",
       "    <tr>\n",
       "      <th>Maestro-Especialidad de Educación Primaria</th>\n",
       "      <td>[Grado Educación primaria]</td>\n",
       "    </tr>\n",
       "    <tr>\n",
       "      <th>Maestro-Especialidad de Lengua Extranjera</th>\n",
       "      <td>[Grado Otros maestros]</td>\n",
       "    </tr>\n",
       "    <tr>\n",
       "      <th>Otras titulaciones (no grados)</th>\n",
       "      <td>[Grado Servicios (otros estudios)]</td>\n",
       "    </tr>\n",
       "    <tr>\n",
       "      <th>Otros grados</th>\n",
       "      <td>[Grado Servicios (otros estudios)]</td>\n",
       "    </tr>\n",
       "  </tbody>\n",
       "</table>\n",
       "</div>"
      ],
      "text/plain": [
       "                                                                                      titulo_g1_\n",
       "                                                                                          unique\n",
       "TITU_                                                                                           \n",
       "Lic. en Física                                                                    [Grado Física]\n",
       "Lic. en Geografía                                                              [Grado Geografía]\n",
       "Lic. en Geología                                                                [Grado Geología]\n",
       "Lic. en Historia                                                                [Grado Historia]\n",
       "Lic. en Historia del Arte                                              [Grado Historia del arte]\n",
       "Lic. en Historia y Ciencias de la Música                        [Grado Música y Artes escénicas]\n",
       "Lic. en Humanidades                                                          [Grado Humanidades]\n",
       "Lic. en Investigación y Técnicas de Mercado                                    [Grado Marketing]\n",
       "Lic. en Lingüística                                         [Grado Lenguas modernas y aplicadas]\n",
       "Lic. en Matemáticas                                                          [Grado Matemáticas]\n",
       "Lic. en Medicina                                                                [Grado Medicina]\n",
       "Lic. en Máquinas Navales                                   [Grado Náutica y transporte marítimo]\n",
       "Lic. en Náutica y Transporte Marítimo                      [Grado Náutica y transporte marítimo]\n",
       "Lic. en Odontología                                                          [Grado Odontología]\n",
       "Lic. en Pedagogía                                                              [Grado Pedagogía]\n",
       "Lic. en Periodismo                                                            [Grado Periodismo]\n",
       "Lic. en Psicología                                                            [Grado Psicología]\n",
       "Lic. en Psicopedagogía                                                         [Grado Pedagogía]\n",
       "Lic. en Publicidad y Relaciones Públicas                [Grado Publicidad y relaciones públicas]\n",
       "Lic. en Química                                                                  [Grado Química]\n",
       "Lic. en Sociología                                       [Grado Sociología e Igualdad de género]\n",
       "Lic. en Teoría de la Literatura y Literatura Comparada                        [Grado Literatura]\n",
       "Lic. en Traducción e Interpretación                          [Grado Traducción e interpretación]\n",
       "Lic. en Veterinaria                                                          [Grado Veterinaria]\n",
       "Maestro-Especialidad de Audición y Lenguaje                               [Grado Otros maestros]\n",
       "Maestro-Especialidad de Educación Especial                                [Grado Otros maestros]\n",
       "Maestro-Especialidad de Educación Física                                  [Grado Otros maestros]\n",
       "Maestro-Especialidad de Educación Infantil                            [Grado Educación infantil]\n",
       "Maestro-Especialidad de Educación Musical                                 [Grado Otros maestros]\n",
       "Maestro-Especialidad de Educación Primaria                            [Grado Educación primaria]\n",
       "Maestro-Especialidad de Lengua Extranjera                                 [Grado Otros maestros]\n",
       "Otras titulaciones (no grados)                                [Grado Servicios (otros estudios)]\n",
       "Otros grados                                                  [Grado Servicios (otros estudios)]"
      ]
     },
     "execution_count": 37,
     "metadata": {},
     "output_type": "execute_result"
    }
   ],
   "source": [
    "# Inspección de correspondencias de titulaciones: \n",
    "df[['TITU_','titulo_g1_']].groupby('TITU_').agg(['unique']).iloc[90:123]"
   ]
  },
  {
   "cell_type": "code",
   "execution_count": 38,
   "metadata": {},
   "outputs": [
    {
     "data": {
      "text/plain": [
       "83"
      ]
     },
     "execution_count": 38,
     "metadata": {},
     "output_type": "execute_result"
    }
   ],
   "source": [
    "df['titulo_g1'].nunique()"
   ]
  },
  {
   "cell_type": "markdown",
   "metadata": {},
   "source": [
    "## 'RAMA' (redefinida como 'rama_g1')\n",
    "**Rama de conocimiento** de la titulación.  \n",
    "  \n",
    "Se traduce de acuerdo con el diccionario creado durante el proceso de la encuesta de grado de 2019 para garantizar que se aplican las mismas correspondencias"
   ]
  },
  {
   "cell_type": "code",
   "execution_count": 39,
   "metadata": {},
   "outputs": [
    {
     "data": {
      "text/plain": [
       "array([4, 3, 5, 1, 2])"
      ]
     },
     "execution_count": 39,
     "metadata": {},
     "output_type": "execute_result"
    }
   ],
   "source": [
    "df['RAMA'].unique() # Sin valores no informados"
   ]
  },
  {
   "cell_type": "code",
   "execution_count": 40,
   "metadata": {},
   "outputs": [
    {
     "name": "stdout",
     "output_type": "stream",
     "text": [
      "                          aux_traduce\n",
      "                               unique\n",
      "RAMA                                 \n",
      "1               [Artes y humanidades]\n",
      "2                          [Ciencias]\n",
      "3     [Ciencias sociales y jurídicas]\n",
      "4         [Ingeniería y arquitectura]\n",
      "5              [Ciencias de la salud]\n"
     ]
    }
   ],
   "source": [
    "traduce_upper('RAMA')"
   ]
  },
  {
   "cell_type": "code",
   "execution_count": 41,
   "metadata": {},
   "outputs": [
    {
     "name": "stdout",
     "output_type": "stream",
     "text": [
      "                             aux_traduce\n",
      "                                  unique\n",
      "rama_g1                                 \n",
      "1                  [Artes y humanidades]\n",
      "2                             [Ciencias]\n",
      "3        [Ciencias sociales y jurídicas]\n",
      "4            [Ingeniería y arquitectura]\n",
      "5                 [Ciencias de la salud]\n",
      "6                            [Servicios]\n"
     ]
    }
   ],
   "source": [
    "df['rama_g1']=df['titulo_g1'].replace(D_titulo_grado_a_rama)\n",
    "df['rama_g1_']=traduce_lower('rama_g1')"
   ]
  },
  {
   "cell_type": "code",
   "execution_count": 42,
   "metadata": {},
   "outputs": [
    {
     "data": {
      "text/plain": [
       "array([4, 2, 3, 6, 5, 1])"
      ]
     },
     "execution_count": 42,
     "metadata": {},
     "output_type": "execute_result"
    }
   ],
   "source": [
    "# Inspección: \n",
    "df['rama_g1'].unique()"
   ]
  },
  {
   "cell_type": "code",
   "execution_count": 43,
   "metadata": {},
   "outputs": [
    {
     "data": {
      "text/plain": [
       "array(['Ingeniería y arquitectura', 'Ciencias',\n",
       "       'Ciencias sociales y jurídicas', 'Servicios',\n",
       "       'Ciencias de la salud', 'Artes y humanidades'], dtype=object)"
      ]
     },
     "execution_count": 43,
     "metadata": {},
     "output_type": "execute_result"
    }
   ],
   "source": [
    "# Inspección: \n",
    "df['rama_g1_'].unique()"
   ]
  },
  {
   "cell_type": "code",
   "execution_count": 44,
   "metadata": {},
   "outputs": [],
   "source": [
    "# Inspección: \n",
    "#df[['titulo_g1_','rama_g1_']].groupby('titulo_g1_').agg(['unique'])[:30]"
   ]
  },
  {
   "cell_type": "code",
   "execution_count": 45,
   "metadata": {},
   "outputs": [],
   "source": [
    "# Inspección: \n",
    "#df[['titulo_g1_','rama_g1_']].groupby('titulo_g1_').agg(['unique'])[30:60]"
   ]
  },
  {
   "cell_type": "code",
   "execution_count": 46,
   "metadata": {},
   "outputs": [],
   "source": [
    "# Inspección: \n",
    "#df[['titulo_g1_','rama_g1_']].groupby('titulo_g1_').agg(['unique'])[60:90]"
   ]
  },
  {
   "cell_type": "markdown",
   "metadata": {},
   "source": [
    "## Nuevas variables: 'n_art_hum', 'n_ciencias', 'n_cc_soc_ju', 'n_ing_arq', 'n_cc_salud', 'n_servicios'\n",
    "**'n_art_hum'**: Número de títulos universitarios (grado, máster, doctorado o equivalente) en la rama de artes y humanidades    \n",
    "**'n_ciencias'**: Número de títulos universitarios (grado, máster, doctorado o equivalente) en la rama de Ciencias  \n",
    "**'n_cc_soc_ju'**: Número de títulos universitarios (grado, máster, doctorado o equivalente) en la rama de ciencias sociales y jurídicas  \n",
    "**'n_ing_arq'**: Número de títulos universitarios (grado, máster, doctorado o equivalente) en la rama de ingeniería y arquitectura  \n",
    "**'n_cc_salud'**: Número de títulos universitarios (grado, máster, doctorado o equivalente) en la rama de ciencias de la salud  \n",
    "**'n_servicios'**: Número de títulos universitarios (grado, máster, doctorado o equivalente) en la rama de servicios  \n",
    "\n",
    "Nota: Se crean a partir de la rama asociada al título de grado que motiva esta encuesta y se actualizan con las respuestas a preguntas posteriores. "
   ]
  },
  {
   "cell_type": "code",
   "execution_count": 47,
   "metadata": {},
   "outputs": [
    {
     "data": {
      "text/html": [
       "<div>\n",
       "<style scoped>\n",
       "    .dataframe tbody tr th:only-of-type {\n",
       "        vertical-align: middle;\n",
       "    }\n",
       "\n",
       "    .dataframe tbody tr th {\n",
       "        vertical-align: top;\n",
       "    }\n",
       "\n",
       "    .dataframe thead tr th {\n",
       "        text-align: left;\n",
       "    }\n",
       "\n",
       "    .dataframe thead tr:last-of-type th {\n",
       "        text-align: right;\n",
       "    }\n",
       "</style>\n",
       "<table border=\"1\" class=\"dataframe\">\n",
       "  <thead>\n",
       "    <tr>\n",
       "      <th></th>\n",
       "      <th>n_art_hum</th>\n",
       "      <th>n_ciencias</th>\n",
       "      <th>n_cc_soc_ju</th>\n",
       "      <th>n_ing_arq</th>\n",
       "      <th>n_cc_salud</th>\n",
       "    </tr>\n",
       "    <tr>\n",
       "      <th></th>\n",
       "      <th>unique</th>\n",
       "      <th>unique</th>\n",
       "      <th>unique</th>\n",
       "      <th>unique</th>\n",
       "      <th>unique</th>\n",
       "    </tr>\n",
       "    <tr>\n",
       "      <th>rama_g1_</th>\n",
       "      <th></th>\n",
       "      <th></th>\n",
       "      <th></th>\n",
       "      <th></th>\n",
       "      <th></th>\n",
       "    </tr>\n",
       "  </thead>\n",
       "  <tbody>\n",
       "    <tr>\n",
       "      <th>Artes y humanidades</th>\n",
       "      <td>[1]</td>\n",
       "      <td>[0]</td>\n",
       "      <td>[0]</td>\n",
       "      <td>[0]</td>\n",
       "      <td>[0]</td>\n",
       "    </tr>\n",
       "    <tr>\n",
       "      <th>Ciencias</th>\n",
       "      <td>[0]</td>\n",
       "      <td>[1]</td>\n",
       "      <td>[0]</td>\n",
       "      <td>[0]</td>\n",
       "      <td>[0]</td>\n",
       "    </tr>\n",
       "    <tr>\n",
       "      <th>Ciencias de la salud</th>\n",
       "      <td>[0]</td>\n",
       "      <td>[0]</td>\n",
       "      <td>[0]</td>\n",
       "      <td>[0]</td>\n",
       "      <td>[1]</td>\n",
       "    </tr>\n",
       "    <tr>\n",
       "      <th>Ciencias sociales y jurídicas</th>\n",
       "      <td>[0]</td>\n",
       "      <td>[0]</td>\n",
       "      <td>[1]</td>\n",
       "      <td>[0]</td>\n",
       "      <td>[0]</td>\n",
       "    </tr>\n",
       "    <tr>\n",
       "      <th>Ingeniería y arquitectura</th>\n",
       "      <td>[0]</td>\n",
       "      <td>[0]</td>\n",
       "      <td>[0]</td>\n",
       "      <td>[1]</td>\n",
       "      <td>[0]</td>\n",
       "    </tr>\n",
       "    <tr>\n",
       "      <th>Servicios</th>\n",
       "      <td>[0]</td>\n",
       "      <td>[0]</td>\n",
       "      <td>[0]</td>\n",
       "      <td>[0]</td>\n",
       "      <td>[0]</td>\n",
       "    </tr>\n",
       "  </tbody>\n",
       "</table>\n",
       "</div>"
      ],
      "text/plain": [
       "                              n_art_hum n_ciencias n_cc_soc_ju n_ing_arq  \\\n",
       "                                 unique     unique      unique    unique   \n",
       "rama_g1_                                                                   \n",
       "Artes y humanidades                 [1]        [0]         [0]       [0]   \n",
       "Ciencias                            [0]        [1]         [0]       [0]   \n",
       "Ciencias de la salud                [0]        [0]         [0]       [0]   \n",
       "Ciencias sociales y jurídicas       [0]        [0]         [1]       [0]   \n",
       "Ingeniería y arquitectura           [0]        [0]         [0]       [1]   \n",
       "Servicios                           [0]        [0]         [0]       [0]   \n",
       "\n",
       "                              n_cc_salud  \n",
       "                                  unique  \n",
       "rama_g1_                                  \n",
       "Artes y humanidades                  [0]  \n",
       "Ciencias                             [0]  \n",
       "Ciencias de la salud                 [1]  \n",
       "Ciencias sociales y jurídicas        [0]  \n",
       "Ingeniería y arquitectura            [0]  \n",
       "Servicios                            [0]  "
      ]
     },
     "execution_count": 47,
     "metadata": {},
     "output_type": "execute_result"
    }
   ],
   "source": [
    "L_ramas=['n_art_hum','n_ciencias','n_cc_soc_ju','n_ing_arq','n_cc_salud']\n",
    "for i,rama in enumerate (L_ramas): \n",
    "    df[rama]=0\n",
    "    df[rama].mask(df['rama_g1']==i+1,1,inplace=True)\n",
    "    \n",
    "df[L_ramas+['rama_g1_']].groupby('rama_g1_').agg(['unique']) # Comprobación: "
   ]
  },
  {
   "cell_type": "code",
   "execution_count": 48,
   "metadata": {},
   "outputs": [],
   "source": [
    "def actualiza_ramas(col):\n",
    "    \"\"\"Actualiza los valores de las variables 'n_art_hum', 'n_ciencias', 'n_cc_soc_ju', 'n_ing_arq', 'n_cc_salud'\n",
    "    de acuerdo con la información proporcionada por la columna 'col'.\n",
    "    \"\"\"\n",
    "    for i,rama in enumerate(L_ramas): \n",
    "        df['incremento']=0 \n",
    "        # Para cada rama, +1 si el título asociado a 'col' pertenece a la rama:\n",
    "        df['incremento'].mask(df[col]==i+1,1,inplace=True) \n",
    "        df[rama]=df[rama]+df['incremento']\n",
    "    return "
   ]
  },
  {
   "cell_type": "markdown",
   "metadata": {},
   "source": [
    "## 'AMBITO' (redefinida como 'ambito_g1')\n",
    "**Ámbito de estudio** de titulación de grado universitario\n",
    "\n",
    "#### Nota: Los códigos usados para etiquetar la columna 'AMBITO' no coinciden con los empleados para el ámbito de estudio de los títulos de grado en las encuesta de grado y de máster de 2019. \n",
    "\n",
    "Se corrige la discrepancia aplicando a la encuesta de 2014 el diccionario que mapea títulos de grado a ámbtitos de conocimiento de acuerdo con los criterios empleados en la encuesta de 2019."
   ]
  },
  {
   "cell_type": "code",
   "execution_count": 49,
   "metadata": {},
   "outputs": [
    {
     "name": "stdout",
     "output_type": "stream",
     "text": [
      "                                                          aux_traduce\n",
      "                                                               unique\n",
      "ambito_g1                                                            \n",
      "11                                      [Educación (Otros estudios) ]\n",
      "21                                          [Artes (Otros estudios) ]\n",
      "22                                                     [Humanidades ]\n",
      "23                                                         [Lenguas ]\n",
      "31         [Ciencias sociales y del comportamiento (Otros estudios) ]\n",
      "32                                      [Periodismo y documentación ]\n",
      "41                      [Negocios y administración (Otros estudios) ]\n",
      "42                                                         [Derecho ]\n",
      "51                                             [Ciencias de la vida ]\n",
      "52                                                  [Medio ambiente ]\n",
      "53                         [Ciencias químicas, físicas y geológicas ]\n",
      "54                                       [Matemáticas y estadística ]\n",
      "61                                                      [Informática]\n",
      "71                                 [Ingeniería y profesiones afines ]\n",
      "72                            [Industria manufacturera y producción ]\n",
      "73                                     [Arquitectura y construcción ]\n",
      "81                                         [Agricultura y ganadería ]\n",
      "82                                                    [Silvicultura ]\n",
      "84                                                     [Veterinaria ]\n",
      "91                                          [Salud (Otros estudios) ]\n",
      "92                                              [Servicios sociales ]\n",
      "109                                     [Servicios (Otros estudios) ]\n",
      "112                    [Formación de docentes de enseñanza infantil ]\n",
      "113                    [Formación de docentes de enseñanza primaria ]\n",
      "211                [Técnicas audiovisuales y medios de comunicación ]\n",
      "311                                                       [Economía ]\n",
      "313                                                     [Psicología ]\n",
      "413                                     [Dirección y administración ]\n",
      "912                                                       [Medicina ]\n",
      "913                                                     [Enfermería ]\n",
      "1014                              [Actividades físicas y deportivas ]\n",
      "1015                                        [Viajes, turismo y ocio ]\n"
     ]
    }
   ],
   "source": [
    "df['ambito_g1']=df['titulo_g1'].replace(D_titulo_grado_a_ambito)\n",
    "df['ambito_g1_']=traduce_lower('ambito_g1')"
   ]
  },
  {
   "cell_type": "code",
   "execution_count": 50,
   "metadata": {},
   "outputs": [
    {
     "data": {
      "text/plain": [
       "(32, 32)"
      ]
     },
     "execution_count": 50,
     "metadata": {},
     "output_type": "execute_result"
    }
   ],
   "source": [
    "# Inspeccción: \n",
    "df['ambito_g1'].nunique(), df['ambito_g1_'].nunique()"
   ]
  },
  {
   "cell_type": "markdown",
   "metadata": {},
   "source": [
    "## 'T_UNIV'\n",
    "**Tipo de universidad**."
   ]
  },
  {
   "cell_type": "code",
   "execution_count": 51,
   "metadata": {},
   "outputs": [
    {
     "data": {
      "text/plain": [
       "array([1, 2])"
      ]
     },
     "execution_count": 51,
     "metadata": {},
     "output_type": "execute_result"
    }
   ],
   "source": [
    "df['T_UNIV'].unique() # Sin valores no informados"
   ]
  },
  {
   "cell_type": "code",
   "execution_count": 52,
   "metadata": {},
   "outputs": [
    {
     "name": "stdout",
     "output_type": "stream",
     "text": [
      "                  aux_traduce\n",
      "                       unique\n",
      "T_UNIV                       \n",
      "1       [Universidad Pública]\n",
      "2       [Universidad Privada]\n"
     ]
    }
   ],
   "source": [
    "traduce_upper('T_UNIV')"
   ]
  },
  {
   "cell_type": "markdown",
   "metadata": {},
   "source": [
    "## Nueva variable: 'tipo_centro'\n",
    "**Tipo de centro educativo**: 1=Centros públicos, 0=Centros privados  \n",
    "\n",
    "Variable proxi (en otros datasets las preguntas sobre tipo de centro están referidas a niveles educativos diferentes)."
   ]
  },
  {
   "cell_type": "code",
   "execution_count": 53,
   "metadata": {},
   "outputs": [
    {
     "name": "stdout",
     "output_type": "stream",
     "text": [
      "            aux_traduce\n",
      "                 unique\n",
      "tipo_centro            \n",
      "0             [Privado]\n",
      "1             [Público]\n"
     ]
    },
    {
     "data": {
      "text/html": [
       "<div>\n",
       "<style scoped>\n",
       "    .dataframe tbody tr th:only-of-type {\n",
       "        vertical-align: middle;\n",
       "    }\n",
       "\n",
       "    .dataframe tbody tr th {\n",
       "        vertical-align: top;\n",
       "    }\n",
       "\n",
       "    .dataframe thead tr th {\n",
       "        text-align: left;\n",
       "    }\n",
       "\n",
       "    .dataframe thead tr:last-of-type th {\n",
       "        text-align: right;\n",
       "    }\n",
       "</style>\n",
       "<table border=\"1\" class=\"dataframe\">\n",
       "  <thead>\n",
       "    <tr>\n",
       "      <th></th>\n",
       "      <th>T_UNIV</th>\n",
       "    </tr>\n",
       "    <tr>\n",
       "      <th></th>\n",
       "      <th>unique</th>\n",
       "    </tr>\n",
       "    <tr>\n",
       "      <th>tipo_centro_</th>\n",
       "      <th></th>\n",
       "    </tr>\n",
       "  </thead>\n",
       "  <tbody>\n",
       "    <tr>\n",
       "      <th>Privado</th>\n",
       "      <td>[2]</td>\n",
       "    </tr>\n",
       "    <tr>\n",
       "      <th>Público</th>\n",
       "      <td>[1]</td>\n",
       "    </tr>\n",
       "  </tbody>\n",
       "</table>\n",
       "</div>"
      ],
      "text/plain": [
       "             T_UNIV\n",
       "             unique\n",
       "tipo_centro_       \n",
       "Privado         [2]\n",
       "Público         [1]"
      ]
     },
     "execution_count": 53,
     "metadata": {},
     "output_type": "execute_result"
    }
   ],
   "source": [
    "df['tipo_centro']=df['T_UNIV'].replace({2:0})\n",
    "df['tipo_centro_']=traduce_lower('tipo_centro')\n",
    "df[['T_UNIV','tipo_centro_']].groupby('tipo_centro_').agg(['unique']) # Comprobación: "
   ]
  },
  {
   "cell_type": "markdown",
   "metadata": {},
   "source": [
    "## Variable: 'tipo_docencia' \n",
    "**Formación presencial o a distancia**: 1=Formación a distancia, 0=Formación presencial    \n",
    "Nota: no informada en este dataset. "
   ]
  },
  {
   "cell_type": "code",
   "execution_count": 54,
   "metadata": {},
   "outputs": [],
   "source": [
    "df['tipo_docencia']=None"
   ]
  },
  {
   "cell_type": "markdown",
   "metadata": {},
   "source": [
    "## 'DISCA' (redefinida como 'discapacidad')\n",
    "Tiene **discapacidad reconocida** superior al 33 %.  \n",
    "Nota: Se modifica en 'disca' el valor No: 0=No. "
   ]
  },
  {
   "cell_type": "code",
   "execution_count": 55,
   "metadata": {},
   "outputs": [
    {
     "data": {
      "text/plain": [
       "array([0, 1])"
      ]
     },
     "execution_count": 55,
     "metadata": {},
     "output_type": "execute_result"
    }
   ],
   "source": [
    "df['DISCA'].unique() # Sin valores no informados"
   ]
  },
  {
   "cell_type": "code",
   "execution_count": 56,
   "metadata": {},
   "outputs": [
    {
     "name": "stdout",
     "output_type": "stream",
     "text": [
      "      aux_traduce\n",
      "           unique\n",
      "DISCA            \n",
      "0            [No]\n",
      "1            [Sí]\n"
     ]
    }
   ],
   "source": [
    "traduce_upper('DISCA')"
   ]
  },
  {
   "cell_type": "code",
   "execution_count": 57,
   "metadata": {},
   "outputs": [
    {
     "name": "stdout",
     "output_type": "stream",
     "text": [
      "             aux_traduce\n",
      "                  unique\n",
      "discapacidad            \n",
      "0                   [No]\n",
      "1                   [Sí]\n"
     ]
    }
   ],
   "source": [
    "redefine('DISCA',nuevo='discapacidad',cat=False,si_no=True)"
   ]
  },
  {
   "cell_type": "markdown",
   "metadata": {},
   "source": [
    "## 'LRES_PA' (redefinida como 'reside')\n",
    "**País de residencia actual**."
   ]
  },
  {
   "cell_type": "code",
   "execution_count": 58,
   "metadata": {},
   "outputs": [
    {
     "data": {
      "text/plain": [
       "array([ 1,  2,  3,  4,  5,  6,  7,  8,  9, 10, 11])"
      ]
     },
     "execution_count": 58,
     "metadata": {},
     "output_type": "execute_result"
    }
   ],
   "source": [
    "df['LRES_PA'].sort_values().unique() # sin no informados "
   ]
  },
  {
   "cell_type": "code",
   "execution_count": 59,
   "metadata": {},
   "outputs": [
    {
     "name": "stdout",
     "output_type": "stream",
     "text": [
      "                                            aux_traduce\n",
      "                                                 unique\n",
      "LRES_PA                                                \n",
      "1                                              [España]\n",
      "2                                         [Reino Unido]\n",
      "3                                            [Alemania]\n",
      "4                                             [Francia]\n",
      "5                       [Otro país de la Unión Europea]\n",
      "6                  [Otro país europeo (fuera de la UE)]\n",
      "7                        [Un país de América del Norte]\n",
      "8        [Un país de América Central o América del Sur]\n",
      "9                                     [Un país de Asia]\n",
      "10                                  [Un país de África]\n",
      "11                                 [Un país de Oceanía]\n"
     ]
    }
   ],
   "source": [
    "traduce_upper('LRES_PA')"
   ]
  },
  {
   "cell_type": "code",
   "execution_count": 60,
   "metadata": {},
   "outputs": [
    {
     "data": {
      "text/plain": [
       "[(1, 'España'),\n",
       " (2, 'Reino Unido'),\n",
       " (3, 'Alemania'),\n",
       " (9, 'Un país de Asia'),\n",
       " (4, 'Francia'),\n",
       " (5, 'Otro país de la Unión Europea'),\n",
       " (6, 'Otro país europeo (fuera de la UE)'),\n",
       " (7, 'Un país de América del Norte'),\n",
       " (8, 'Un país de América Central o América del Sur'),\n",
       " (10, 'Un país de África'),\n",
       " (11, 'Un país de Oceanía'),\n",
       " (99, 'NS/NC')]"
      ]
     },
     "execution_count": 60,
     "metadata": {},
     "output_type": "execute_result"
    }
   ],
   "source": [
    "# Códigos para 'reside' en encuestas 2019:\n",
    "[(k,v) for (k,v) in d_dict['reside'].items() if type(k)==int] # mismo criterio de codificación"
   ]
  },
  {
   "cell_type": "code",
   "execution_count": 61,
   "metadata": {},
   "outputs": [
    {
     "name": "stdout",
     "output_type": "stream",
     "text": [
      "                                           aux_traduce\n",
      "                                                unique\n",
      "reside                                                \n",
      "1                                             [España]\n",
      "2                                        [Reino Unido]\n",
      "3                                           [Alemania]\n",
      "4                                            [Francia]\n",
      "5                      [Otro país de la Unión Europea]\n",
      "6                 [Otro país europeo (fuera de la UE)]\n",
      "7                       [Un país de América del Norte]\n",
      "8       [Un país de América Central o América del Sur]\n",
      "9                                    [Un país de Asia]\n",
      "10                                 [Un país de África]\n",
      "11                                [Un país de Oceanía]\n"
     ]
    }
   ],
   "source": [
    "redefine('LRES_PA','reside')"
   ]
  },
  {
   "cell_type": "markdown",
   "metadata": {},
   "source": [
    "## 'ESTUDIOS_PADRE'  (redefinida como 'estudios_pa')\n",
    "**Nivel de formación máximo alcanzado por el padre**.\n",
    "\n",
    "Nota: no informada en este dataset"
   ]
  },
  {
   "cell_type": "code",
   "execution_count": 62,
   "metadata": {},
   "outputs": [],
   "source": [
    "df['estudios_pa']=None"
   ]
  },
  {
   "cell_type": "markdown",
   "metadata": {},
   "source": [
    "## Nueva variable: 'grado_med_pa'\n",
    "**Padre** con o sin **estudios de enseñanzas medias o superiores**, incluidos los universitarios: 1=Con estudios de enseñanzas medias o superiores, 0=Sin estudios de enseñanzas medias o superiores.  \n",
    "\n",
    "Nota: no informado en este dataset"
   ]
  },
  {
   "cell_type": "code",
   "execution_count": 63,
   "metadata": {},
   "outputs": [],
   "source": [
    "df['grad_med_pa']=None"
   ]
  },
  {
   "cell_type": "markdown",
   "metadata": {},
   "source": [
    "## Nueva variable: 'univ_pa'\n",
    "**Padre** con o sin **estudios universitarios**: 1=Con estudios universitarios, 0=Sin estudios universitarios  \n",
    "\n",
    "Nota: no informado en este dataset"
   ]
  },
  {
   "cell_type": "code",
   "execution_count": 64,
   "metadata": {},
   "outputs": [],
   "source": [
    "df['univ_pa']=None"
   ]
  },
  {
   "cell_type": "markdown",
   "metadata": {},
   "source": [
    "## 'ESTUDIOS_MADRE' (redefinida como 'estudios_ma')\n",
    "**Nivel de formación máximo alcanzado por la madre**.  \n",
    "\n",
    "Nota: no informado en este dataset"
   ]
  },
  {
   "cell_type": "code",
   "execution_count": 65,
   "metadata": {},
   "outputs": [],
   "source": [
    "df['estudios_ma']=None"
   ]
  },
  {
   "cell_type": "markdown",
   "metadata": {},
   "source": [
    "## Nueva variable: 'grado_med_ma'\n",
    "**Madre** con o sin **estudios de enseñanzas medias o superiores**, incluidos los universitarios: 1=Con estudios de enseñanzas medias o superiores, 0=Sin estudios de enseñanzas medias o superiores.   \n",
    "\n",
    "Nota: no informado en este dataset"
   ]
  },
  {
   "cell_type": "code",
   "execution_count": 66,
   "metadata": {},
   "outputs": [],
   "source": [
    "df['grad_med_ma']=None"
   ]
  },
  {
   "cell_type": "markdown",
   "metadata": {},
   "source": [
    "## Nueva variable: 'univ_ma'\n",
    "**Madre** con o sin **estudios universitarios**: 1=Con estudios universitarios, 0=Sin estudios universitarios   \n",
    "\n",
    "Nota: no informado en este dataset"
   ]
  },
  {
   "cell_type": "code",
   "execution_count": 67,
   "metadata": {},
   "outputs": [],
   "source": [
    "df['univ_ma']=None"
   ]
  },
  {
   "cell_type": "markdown",
   "metadata": {},
   "source": [
    "# BLOQUE B. EDUCACIÓN Y APRENDIZAJE DEL TITULADO DE MÁSTER"
   ]
  },
  {
   "cell_type": "markdown",
   "metadata": {},
   "source": [
    "## 'EST_B1' (redefinida como 'beca')\n",
    "¿Disfrutó de **alguna beca** durante sus estudios?: 1=Sí, 2=No, 9=NS/NC.  \n",
    "\n",
    "Nota: se modifica en 'beca' el valor asociado a No: 0=No"
   ]
  },
  {
   "cell_type": "code",
   "execution_count": 68,
   "metadata": {},
   "outputs": [
    {
     "data": {
      "text/plain": [
       "array(['1', '2', ' '], dtype=object)"
      ]
     },
     "execution_count": 68,
     "metadata": {},
     "output_type": "execute_result"
    }
   ],
   "source": [
    "df['EST_B1'].unique() # No informados como ' '"
   ]
  },
  {
   "cell_type": "code",
   "execution_count": 69,
   "metadata": {},
   "outputs": [
    {
     "name": "stdout",
     "output_type": "stream",
     "text": [
      "       aux_traduce\n",
      "            unique\n",
      "EST_B1            \n",
      "           [NS/NC]\n",
      "1             [Sí]\n",
      "2             [No]\n"
     ]
    }
   ],
   "source": [
    "traduce_upper('EST_B1')"
   ]
  },
  {
   "cell_type": "code",
   "execution_count": 70,
   "metadata": {},
   "outputs": [
    {
     "name": "stdout",
     "output_type": "stream",
     "text": [
      "       aux_traduce\n",
      "            unique\n",
      "EST_B1            \n",
      "1.0           [Sí]\n",
      "2.0           [No]\n"
     ]
    }
   ],
   "source": [
    "# Se imputa None a NS/NC:\n",
    "no_respuesta('EST_B1',nsnc=' ')"
   ]
  },
  {
   "cell_type": "code",
   "execution_count": 71,
   "metadata": {},
   "outputs": [
    {
     "name": "stdout",
     "output_type": "stream",
     "text": [
      "     aux_traduce\n",
      "          unique\n",
      "beca            \n",
      "0.0         [No]\n",
      "1.0         [Sí]\n"
     ]
    }
   ],
   "source": [
    "redefine('EST_B1','beca',si_no=True)"
   ]
  },
  {
   "cell_type": "markdown",
   "metadata": {},
   "source": [
    "## 'EST_B21' (redefinida como 'beca_general')\n",
    "(Solo para respuesta Sí (1) en variable 'EST_B1' (beca))  \n",
    "\n",
    "¿Disfrutó de una **beca general para el estudio**?: 1=Sí, 2=No, 9=NS/NC.\n",
    "\n",
    "Nota: se modifica en 'beca_general' el valor asociado a No: 0=No"
   ]
  },
  {
   "cell_type": "code",
   "execution_count": 72,
   "metadata": {},
   "outputs": [
    {
     "data": {
      "text/plain": [
       "array(['1', '8', '2', ' '], dtype=object)"
      ]
     },
     "execution_count": 72,
     "metadata": {},
     "output_type": "execute_result"
    }
   ],
   "source": [
    "df['EST_B21'].unique() # No informados como '8' o ' '"
   ]
  },
  {
   "cell_type": "code",
   "execution_count": 73,
   "metadata": {},
   "outputs": [
    {
     "name": "stdout",
     "output_type": "stream",
     "text": [
      "            aux_traduce\n",
      "                 unique\n",
      "EST_B21                \n",
      "                [NS/NC]\n",
      "1                  [Sí]\n",
      "2                  [No]\n",
      "8        [No aplicable]\n"
     ]
    }
   ],
   "source": [
    "traduce_upper('EST_B21')"
   ]
  },
  {
   "cell_type": "code",
   "execution_count": 74,
   "metadata": {},
   "outputs": [],
   "source": [
    "def re_beca(col):\n",
    "    \"\"\"Imputación de valores de variables condicionadas por respuesta a 'EST_B1' cuando pueden deducirse de los \n",
    "    itinerarios de la encuesta y se imputa None al el resto de valores no informados\n",
    "    \"\"\"\n",
    "    # Se imputa respuesta No (2) a quienes manifestaron no haber disfrutado de beca (2 en 'EST_B1')\n",
    "    df[col].mask(df['EST_B1']==2,2,inplace=True)\n",
    "    # Se imputa None al resto de respuestas en blanco y a NS/NC:\n",
    "    df[col].replace({' ':None,'8':None,},inplace=True)\n",
    "    df[col]=df[col].astype('float')\n",
    "    return"
   ]
  },
  {
   "cell_type": "code",
   "execution_count": 75,
   "metadata": {},
   "outputs": [],
   "source": [
    "re_beca('EST_B21')"
   ]
  },
  {
   "cell_type": "code",
   "execution_count": 76,
   "metadata": {},
   "outputs": [
    {
     "name": "stdout",
     "output_type": "stream",
     "text": [
      "             aux_traduce\n",
      "                  unique\n",
      "beca_general            \n",
      "0.0                 [No]\n",
      "1.0                 [Sí]\n"
     ]
    }
   ],
   "source": [
    "redefine('EST_B21','beca_general',si_no=True)"
   ]
  },
  {
   "cell_type": "code",
   "execution_count": 77,
   "metadata": {},
   "outputs": [
    {
     "data": {
      "text/html": [
       "<div>\n",
       "<style scoped>\n",
       "    .dataframe tbody tr th:only-of-type {\n",
       "        vertical-align: middle;\n",
       "    }\n",
       "\n",
       "    .dataframe tbody tr th {\n",
       "        vertical-align: top;\n",
       "    }\n",
       "\n",
       "    .dataframe thead tr th {\n",
       "        text-align: left;\n",
       "    }\n",
       "\n",
       "    .dataframe thead tr:last-of-type th {\n",
       "        text-align: right;\n",
       "    }\n",
       "</style>\n",
       "<table border=\"1\" class=\"dataframe\">\n",
       "  <thead>\n",
       "    <tr>\n",
       "      <th></th>\n",
       "      <th>beca_</th>\n",
       "    </tr>\n",
       "    <tr>\n",
       "      <th></th>\n",
       "      <th>unique</th>\n",
       "    </tr>\n",
       "    <tr>\n",
       "      <th>beca_general_</th>\n",
       "      <th></th>\n",
       "    </tr>\n",
       "  </thead>\n",
       "  <tbody>\n",
       "    <tr>\n",
       "      <th>No</th>\n",
       "      <td>[No, Sí]</td>\n",
       "    </tr>\n",
       "    <tr>\n",
       "      <th>Sí</th>\n",
       "      <td>[Sí]</td>\n",
       "    </tr>\n",
       "  </tbody>\n",
       "</table>\n",
       "</div>"
      ],
      "text/plain": [
       "                  beca_\n",
       "                 unique\n",
       "beca_general_          \n",
       "No             [No, Sí]\n",
       "Sí                 [Sí]"
      ]
     },
     "execution_count": 77,
     "metadata": {},
     "output_type": "execute_result"
    }
   ],
   "source": [
    "df[['beca_general_','beca_']].groupby('beca_general_').agg(['unique']) # Comprobación: "
   ]
  },
  {
   "cell_type": "markdown",
   "metadata": {},
   "source": [
    "## 'EST_B22' (redefinida como 'beca_excel')\n",
    "(Solo para respuesta Sí (1) en variable 'beca')  \n",
    "\n",
    "¿Disfrutó de algún **premio o beca de excelencia**?: 1=Sí, 2=No, 9=NS/NC.  \n",
    "\n",
    "Nota: se modifica en 'beca_excel' el valor asociado a No: 0=No."
   ]
  },
  {
   "cell_type": "code",
   "execution_count": 78,
   "metadata": {},
   "outputs": [
    {
     "data": {
      "text/plain": [
       "array(['2', '8', '1', ' '], dtype=object)"
      ]
     },
     "execution_count": 78,
     "metadata": {},
     "output_type": "execute_result"
    }
   ],
   "source": [
    "df['EST_B22'].unique() # No informados como '8' o ' '"
   ]
  },
  {
   "cell_type": "code",
   "execution_count": 79,
   "metadata": {},
   "outputs": [
    {
     "name": "stdout",
     "output_type": "stream",
     "text": [
      "            aux_traduce\n",
      "                 unique\n",
      "EST_B22                \n",
      "                [NS/NC]\n",
      "1                  [Sí]\n",
      "2                  [No]\n",
      "8        [No aplicable]\n"
     ]
    }
   ],
   "source": [
    "traduce_upper('EST_B22')"
   ]
  },
  {
   "cell_type": "code",
   "execution_count": 80,
   "metadata": {},
   "outputs": [],
   "source": [
    "re_beca('EST_B22')"
   ]
  },
  {
   "cell_type": "code",
   "execution_count": 81,
   "metadata": {},
   "outputs": [
    {
     "name": "stdout",
     "output_type": "stream",
     "text": [
      "           aux_traduce\n",
      "                unique\n",
      "beca_excel            \n",
      "0.0               [No]\n",
      "1.0               [Sí]\n"
     ]
    }
   ],
   "source": [
    "redefine('EST_B22','beca_excel',si_no=True)"
   ]
  },
  {
   "cell_type": "code",
   "execution_count": 82,
   "metadata": {},
   "outputs": [
    {
     "data": {
      "text/html": [
       "<div>\n",
       "<style scoped>\n",
       "    .dataframe tbody tr th:only-of-type {\n",
       "        vertical-align: middle;\n",
       "    }\n",
       "\n",
       "    .dataframe tbody tr th {\n",
       "        vertical-align: top;\n",
       "    }\n",
       "\n",
       "    .dataframe thead tr th {\n",
       "        text-align: left;\n",
       "    }\n",
       "\n",
       "    .dataframe thead tr:last-of-type th {\n",
       "        text-align: right;\n",
       "    }\n",
       "</style>\n",
       "<table border=\"1\" class=\"dataframe\">\n",
       "  <thead>\n",
       "    <tr>\n",
       "      <th></th>\n",
       "      <th>beca_</th>\n",
       "    </tr>\n",
       "    <tr>\n",
       "      <th></th>\n",
       "      <th>unique</th>\n",
       "    </tr>\n",
       "    <tr>\n",
       "      <th>beca_excel_</th>\n",
       "      <th></th>\n",
       "    </tr>\n",
       "  </thead>\n",
       "  <tbody>\n",
       "    <tr>\n",
       "      <th>No</th>\n",
       "      <td>[Sí, No]</td>\n",
       "    </tr>\n",
       "    <tr>\n",
       "      <th>Sí</th>\n",
       "      <td>[Sí]</td>\n",
       "    </tr>\n",
       "  </tbody>\n",
       "</table>\n",
       "</div>"
      ],
      "text/plain": [
       "                beca_\n",
       "               unique\n",
       "beca_excel_          \n",
       "No           [Sí, No]\n",
       "Sí               [Sí]"
      ]
     },
     "execution_count": 82,
     "metadata": {},
     "output_type": "execute_result"
    }
   ],
   "source": [
    "df[['beca_excel_','beca_']].groupby('beca_excel_').agg(['unique']) # Comprobación: "
   ]
  },
  {
   "cell_type": "markdown",
   "metadata": {},
   "source": [
    "## 'EST_B23' (redefinida como 'beca_colab')\n",
    "(Solo para respuesta Sí (1) en variable 'beca')  \n",
    "\n",
    "¿Disfrutó de alguna **beca de colaboración** en la universidad?: 1=Sí, 2=No, 9=NS/NC.  \n",
    "\n",
    "Nota: se modifica en 'beca_colab' el valor asociado a No: 0=No."
   ]
  },
  {
   "cell_type": "code",
   "execution_count": 83,
   "metadata": {},
   "outputs": [
    {
     "data": {
      "text/plain": [
       "array(['2', '8', '1', ' '], dtype=object)"
      ]
     },
     "execution_count": 83,
     "metadata": {},
     "output_type": "execute_result"
    }
   ],
   "source": [
    "df['EST_B23'].unique() # No informados como '8' o ' '"
   ]
  },
  {
   "cell_type": "code",
   "execution_count": 84,
   "metadata": {},
   "outputs": [
    {
     "name": "stdout",
     "output_type": "stream",
     "text": [
      "            aux_traduce\n",
      "                 unique\n",
      "EST_B23                \n",
      "                [NS/NC]\n",
      "1                  [Sí]\n",
      "2                  [No]\n",
      "8        [No aplicable]\n"
     ]
    }
   ],
   "source": [
    "traduce_upper('EST_B23')"
   ]
  },
  {
   "cell_type": "code",
   "execution_count": 85,
   "metadata": {},
   "outputs": [],
   "source": [
    "re_beca('EST_B23')"
   ]
  },
  {
   "cell_type": "code",
   "execution_count": 86,
   "metadata": {},
   "outputs": [
    {
     "name": "stdout",
     "output_type": "stream",
     "text": [
      "           aux_traduce\n",
      "                unique\n",
      "beca_colab            \n",
      "0.0               [No]\n",
      "1.0               [Sí]\n"
     ]
    }
   ],
   "source": [
    "redefine('EST_B23','beca_colab',si_no=True)"
   ]
  },
  {
   "cell_type": "code",
   "execution_count": 87,
   "metadata": {},
   "outputs": [
    {
     "data": {
      "text/html": [
       "<div>\n",
       "<style scoped>\n",
       "    .dataframe tbody tr th:only-of-type {\n",
       "        vertical-align: middle;\n",
       "    }\n",
       "\n",
       "    .dataframe tbody tr th {\n",
       "        vertical-align: top;\n",
       "    }\n",
       "\n",
       "    .dataframe thead tr th {\n",
       "        text-align: left;\n",
       "    }\n",
       "\n",
       "    .dataframe thead tr:last-of-type th {\n",
       "        text-align: right;\n",
       "    }\n",
       "</style>\n",
       "<table border=\"1\" class=\"dataframe\">\n",
       "  <thead>\n",
       "    <tr>\n",
       "      <th></th>\n",
       "      <th>beca_</th>\n",
       "    </tr>\n",
       "    <tr>\n",
       "      <th></th>\n",
       "      <th>unique</th>\n",
       "    </tr>\n",
       "    <tr>\n",
       "      <th>beca_colab_</th>\n",
       "      <th></th>\n",
       "    </tr>\n",
       "  </thead>\n",
       "  <tbody>\n",
       "    <tr>\n",
       "      <th>No</th>\n",
       "      <td>[Sí, No]</td>\n",
       "    </tr>\n",
       "    <tr>\n",
       "      <th>Sí</th>\n",
       "      <td>[Sí]</td>\n",
       "    </tr>\n",
       "  </tbody>\n",
       "</table>\n",
       "</div>"
      ],
      "text/plain": [
       "                beca_\n",
       "               unique\n",
       "beca_colab_          \n",
       "No           [Sí, No]\n",
       "Sí               [Sí]"
      ]
     },
     "execution_count": 87,
     "metadata": {},
     "output_type": "execute_result"
    }
   ],
   "source": [
    "df[['beca_colab_','beca_']].groupby('beca_colab_').agg(['unique']) # Comprobación: "
   ]
  },
  {
   "cell_type": "markdown",
   "metadata": {},
   "source": [
    "## 'EST_B24' (redefinida como 'beca_pract')\n",
    "(Solo para respuesta Sí (1) en variable 'beca')  \n",
    "\n",
    "¿Disfrutó de alguna **beca de prácticas externas** o para prestar un servicio o desempeñar un trabajo fuera de la Universidad?: 1=Sí, 2=No, 9=NS/NC.  \n",
    "\n",
    "\n",
    "Nota: se modifica en 'beca_pract' el valor asociado a No: 0=No."
   ]
  },
  {
   "cell_type": "code",
   "execution_count": 88,
   "metadata": {},
   "outputs": [
    {
     "data": {
      "text/plain": [
       "array(['2', '8', '1', ' '], dtype=object)"
      ]
     },
     "execution_count": 88,
     "metadata": {},
     "output_type": "execute_result"
    }
   ],
   "source": [
    "df['EST_B24'].unique() # No informados como '8' o ' '"
   ]
  },
  {
   "cell_type": "code",
   "execution_count": 89,
   "metadata": {},
   "outputs": [
    {
     "name": "stdout",
     "output_type": "stream",
     "text": [
      "            aux_traduce\n",
      "                 unique\n",
      "EST_B24                \n",
      "                [NS/NC]\n",
      "1                  [Sí]\n",
      "2                  [No]\n",
      "8        [No aplicable]\n"
     ]
    }
   ],
   "source": [
    "traduce_upper('EST_B24')"
   ]
  },
  {
   "cell_type": "code",
   "execution_count": 90,
   "metadata": {},
   "outputs": [],
   "source": [
    "re_beca('EST_B24')"
   ]
  },
  {
   "cell_type": "code",
   "execution_count": 91,
   "metadata": {},
   "outputs": [
    {
     "name": "stdout",
     "output_type": "stream",
     "text": [
      "           aux_traduce\n",
      "                unique\n",
      "beca_pract            \n",
      "0.0               [No]\n",
      "1.0               [Sí]\n"
     ]
    }
   ],
   "source": [
    "redefine('EST_B24','beca_pract',si_no=True)"
   ]
  },
  {
   "cell_type": "code",
   "execution_count": 92,
   "metadata": {},
   "outputs": [
    {
     "data": {
      "text/html": [
       "<div>\n",
       "<style scoped>\n",
       "    .dataframe tbody tr th:only-of-type {\n",
       "        vertical-align: middle;\n",
       "    }\n",
       "\n",
       "    .dataframe tbody tr th {\n",
       "        vertical-align: top;\n",
       "    }\n",
       "\n",
       "    .dataframe thead tr th {\n",
       "        text-align: left;\n",
       "    }\n",
       "\n",
       "    .dataframe thead tr:last-of-type th {\n",
       "        text-align: right;\n",
       "    }\n",
       "</style>\n",
       "<table border=\"1\" class=\"dataframe\">\n",
       "  <thead>\n",
       "    <tr>\n",
       "      <th></th>\n",
       "      <th>beca_</th>\n",
       "    </tr>\n",
       "    <tr>\n",
       "      <th></th>\n",
       "      <th>unique</th>\n",
       "    </tr>\n",
       "    <tr>\n",
       "      <th>beca_pract_</th>\n",
       "      <th></th>\n",
       "    </tr>\n",
       "  </thead>\n",
       "  <tbody>\n",
       "    <tr>\n",
       "      <th>No</th>\n",
       "      <td>[Sí, No]</td>\n",
       "    </tr>\n",
       "    <tr>\n",
       "      <th>Sí</th>\n",
       "      <td>[Sí]</td>\n",
       "    </tr>\n",
       "  </tbody>\n",
       "</table>\n",
       "</div>"
      ],
      "text/plain": [
       "                beca_\n",
       "               unique\n",
       "beca_pract_          \n",
       "No           [Sí, No]\n",
       "Sí               [Sí]"
      ]
     },
     "execution_count": 92,
     "metadata": {},
     "output_type": "execute_result"
    }
   ],
   "source": [
    "df[['beca_pract_','beca_']].groupby('beca_pract_').agg(['unique']) # Comprobación: "
   ]
  },
  {
   "cell_type": "markdown",
   "metadata": {},
   "source": [
    "## 'EST_B25' (redefinida como 'beca_extr')\n",
    "(Solo para respuesta Sí (1) en variable 'beca')  \n",
    "\n",
    "¿Disfrutó de alguna **beca para realizar estudios fuera de España** (incluidas becas complemento a programas Erasmus)?: 1=Sí, 2=No, 9=NS/NC.  \n",
    "\n",
    "Nota: se modifica en 'beca_extr' el valor asociado a No: 0=No."
   ]
  },
  {
   "cell_type": "code",
   "execution_count": 93,
   "metadata": {},
   "outputs": [
    {
     "data": {
      "text/plain": [
       "array(['2', '8', '1', ' '], dtype=object)"
      ]
     },
     "execution_count": 93,
     "metadata": {},
     "output_type": "execute_result"
    }
   ],
   "source": [
    "df['EST_B25'].unique() # No informados como '8' o ' '"
   ]
  },
  {
   "cell_type": "code",
   "execution_count": 94,
   "metadata": {},
   "outputs": [
    {
     "name": "stdout",
     "output_type": "stream",
     "text": [
      "            aux_traduce\n",
      "                 unique\n",
      "EST_B25                \n",
      "                [NS/NC]\n",
      "1                  [Sí]\n",
      "2                  [No]\n",
      "8        [No aplicable]\n"
     ]
    }
   ],
   "source": [
    "traduce_upper('EST_B25')"
   ]
  },
  {
   "cell_type": "code",
   "execution_count": 95,
   "metadata": {},
   "outputs": [],
   "source": [
    "re_beca('EST_B25')"
   ]
  },
  {
   "cell_type": "code",
   "execution_count": 96,
   "metadata": {},
   "outputs": [
    {
     "name": "stdout",
     "output_type": "stream",
     "text": [
      "          aux_traduce\n",
      "               unique\n",
      "beca_extr            \n",
      "0.0              [No]\n",
      "1.0              [Sí]\n"
     ]
    }
   ],
   "source": [
    "redefine('EST_B25','beca_extr',si_no=True)"
   ]
  },
  {
   "cell_type": "code",
   "execution_count": 97,
   "metadata": {},
   "outputs": [
    {
     "data": {
      "text/html": [
       "<div>\n",
       "<style scoped>\n",
       "    .dataframe tbody tr th:only-of-type {\n",
       "        vertical-align: middle;\n",
       "    }\n",
       "\n",
       "    .dataframe tbody tr th {\n",
       "        vertical-align: top;\n",
       "    }\n",
       "\n",
       "    .dataframe thead tr th {\n",
       "        text-align: left;\n",
       "    }\n",
       "\n",
       "    .dataframe thead tr:last-of-type th {\n",
       "        text-align: right;\n",
       "    }\n",
       "</style>\n",
       "<table border=\"1\" class=\"dataframe\">\n",
       "  <thead>\n",
       "    <tr>\n",
       "      <th></th>\n",
       "      <th>beca_</th>\n",
       "    </tr>\n",
       "    <tr>\n",
       "      <th></th>\n",
       "      <th>unique</th>\n",
       "    </tr>\n",
       "    <tr>\n",
       "      <th>beca_extr_</th>\n",
       "      <th></th>\n",
       "    </tr>\n",
       "  </thead>\n",
       "  <tbody>\n",
       "    <tr>\n",
       "      <th>No</th>\n",
       "      <td>[Sí, No]</td>\n",
       "    </tr>\n",
       "    <tr>\n",
       "      <th>Sí</th>\n",
       "      <td>[Sí]</td>\n",
       "    </tr>\n",
       "  </tbody>\n",
       "</table>\n",
       "</div>"
      ],
      "text/plain": [
       "               beca_\n",
       "              unique\n",
       "beca_extr_          \n",
       "No          [Sí, No]\n",
       "Sí              [Sí]"
      ]
     },
     "execution_count": 97,
     "metadata": {},
     "output_type": "execute_result"
    }
   ],
   "source": [
    "df[['beca_','beca_extr_']].groupby('beca_extr_').agg(['unique']) # Comprobación: "
   ]
  },
  {
   "cell_type": "markdown",
   "metadata": {},
   "source": [
    "## 'EST_M1' (redefinida como 'extr')\n",
    "(Solo para respuesta distinta de Sí (1) en variable 'EST_B25')  \n",
    "\n",
    "¿Realizó parte de sus **estudios en el extranjero**?: 1=Sí, 2=No, 9=NS/NC.  \n",
    "\n",
    "Nota: se modifica el valor asociado a No: 0=No."
   ]
  },
  {
   "cell_type": "code",
   "execution_count": 98,
   "metadata": {},
   "outputs": [
    {
     "data": {
      "text/plain": [
       "array(['2', '1', ' '], dtype=object)"
      ]
     },
     "execution_count": 98,
     "metadata": {},
     "output_type": "execute_result"
    }
   ],
   "source": [
    "df['EST_M1'].unique() # No informados como ' '"
   ]
  },
  {
   "cell_type": "code",
   "execution_count": 99,
   "metadata": {},
   "outputs": [
    {
     "name": "stdout",
     "output_type": "stream",
     "text": [
      "       aux_traduce\n",
      "            unique\n",
      "EST_M1            \n",
      "           [NS/NC]\n",
      "1             [Sí]\n",
      "2             [No]\n"
     ]
    }
   ],
   "source": [
    "traduce_upper('EST_M1')"
   ]
  },
  {
   "cell_type": "code",
   "execution_count": 100,
   "metadata": {},
   "outputs": [
    {
     "data": {
      "text/html": [
       "<div>\n",
       "<style scoped>\n",
       "    .dataframe tbody tr th:only-of-type {\n",
       "        vertical-align: middle;\n",
       "    }\n",
       "\n",
       "    .dataframe tbody tr th {\n",
       "        vertical-align: top;\n",
       "    }\n",
       "\n",
       "    .dataframe thead tr th {\n",
       "        text-align: left;\n",
       "    }\n",
       "\n",
       "    .dataframe thead tr:last-of-type th {\n",
       "        text-align: right;\n",
       "    }\n",
       "</style>\n",
       "<table border=\"1\" class=\"dataframe\">\n",
       "  <thead>\n",
       "    <tr>\n",
       "      <th></th>\n",
       "      <th>EST_M1</th>\n",
       "    </tr>\n",
       "    <tr>\n",
       "      <th></th>\n",
       "      <th>unique</th>\n",
       "    </tr>\n",
       "    <tr>\n",
       "      <th>EST_B25</th>\n",
       "      <th></th>\n",
       "    </tr>\n",
       "  </thead>\n",
       "  <tbody>\n",
       "    <tr>\n",
       "      <th>1.0</th>\n",
       "      <td>[1]</td>\n",
       "    </tr>\n",
       "    <tr>\n",
       "      <th>2.0</th>\n",
       "      <td>[2, 1,  ]</td>\n",
       "    </tr>\n",
       "  </tbody>\n",
       "</table>\n",
       "</div>"
      ],
      "text/plain": [
       "            EST_M1\n",
       "            unique\n",
       "EST_B25           \n",
       "1.0            [1]\n",
       "2.0      [2, 1,  ]"
      ]
     },
     "execution_count": 100,
     "metadata": {},
     "output_type": "execute_result"
    }
   ],
   "source": [
    "df[['EST_B25','EST_M1']].groupby('EST_B25').agg(['unique']) # Inspección\n",
    "# Imputada por el encuestador respuesta Si (1) a quienes manifestaron haber disfrutado de beca para ...\n",
    "# ... estudiar fuera de España ('EST_B25')"
   ]
  },
  {
   "cell_type": "code",
   "execution_count": 101,
   "metadata": {},
   "outputs": [
    {
     "name": "stdout",
     "output_type": "stream",
     "text": [
      "       aux_traduce\n",
      "            unique\n",
      "EST_M1            \n",
      "1.0           [Sí]\n",
      "2.0           [No]\n"
     ]
    }
   ],
   "source": [
    "# Se imputa None a NS/NC: \n",
    "no_respuesta('EST_M1',nsnc=' ')"
   ]
  },
  {
   "cell_type": "code",
   "execution_count": 102,
   "metadata": {},
   "outputs": [
    {
     "name": "stdout",
     "output_type": "stream",
     "text": [
      "     aux_traduce\n",
      "          unique\n",
      "extr            \n",
      "0.0         [No]\n",
      "1.0         [Sí]\n"
     ]
    }
   ],
   "source": [
    "redefine('EST_M1','extr',si_no=True)"
   ]
  },
  {
   "cell_type": "code",
   "execution_count": 103,
   "metadata": {},
   "outputs": [
    {
     "data": {
      "text/html": [
       "<div>\n",
       "<style scoped>\n",
       "    .dataframe tbody tr th:only-of-type {\n",
       "        vertical-align: middle;\n",
       "    }\n",
       "\n",
       "    .dataframe tbody tr th {\n",
       "        vertical-align: top;\n",
       "    }\n",
       "\n",
       "    .dataframe thead tr th {\n",
       "        text-align: left;\n",
       "    }\n",
       "\n",
       "    .dataframe thead tr:last-of-type th {\n",
       "        text-align: right;\n",
       "    }\n",
       "</style>\n",
       "<table border=\"1\" class=\"dataframe\">\n",
       "  <thead>\n",
       "    <tr>\n",
       "      <th></th>\n",
       "      <th>EST_M1</th>\n",
       "    </tr>\n",
       "    <tr>\n",
       "      <th></th>\n",
       "      <th>unique</th>\n",
       "    </tr>\n",
       "    <tr>\n",
       "      <th>extr_</th>\n",
       "      <th></th>\n",
       "    </tr>\n",
       "  </thead>\n",
       "  <tbody>\n",
       "    <tr>\n",
       "      <th>No</th>\n",
       "      <td>[2.0]</td>\n",
       "    </tr>\n",
       "    <tr>\n",
       "      <th>Sí</th>\n",
       "      <td>[1.0]</td>\n",
       "    </tr>\n",
       "  </tbody>\n",
       "</table>\n",
       "</div>"
      ],
      "text/plain": [
       "      EST_M1\n",
       "      unique\n",
       "extr_       \n",
       "No     [2.0]\n",
       "Sí     [1.0]"
      ]
     },
     "execution_count": 103,
     "metadata": {},
     "output_type": "execute_result"
    }
   ],
   "source": [
    "df[['EST_M1','extr_']].groupby('extr_').agg(['unique']) # Comprobacion: "
   ]
  },
  {
   "cell_type": "markdown",
   "metadata": {},
   "source": [
    "## Nueva variable: 'extr_sin_beca'\n",
    "¿Realizó parte de sus **estudios en el extranjero sin beca** específica?: 1=Si, 0=No.  \n",
    "\n",
    "Variable proxi de renta familiar alta.  "
   ]
  },
  {
   "cell_type": "code",
   "execution_count": 104,
   "metadata": {},
   "outputs": [],
   "source": [
    "df['extr_sin_beca']=0\n",
    "df['extr_sin_beca'].mask((df['extr']==1)&(df['beca_extr']==0),1,inplace=True)"
   ]
  },
  {
   "cell_type": "code",
   "execution_count": 105,
   "metadata": {},
   "outputs": [
    {
     "name": "stdout",
     "output_type": "stream",
     "text": [
      "              aux_traduce\n",
      "                   unique\n",
      "extr_sin_beca            \n",
      "0                    [No]\n",
      "1                    [Sí]\n"
     ]
    },
    {
     "data": {
      "text/html": [
       "<div>\n",
       "<style scoped>\n",
       "    .dataframe tbody tr th:only-of-type {\n",
       "        vertical-align: middle;\n",
       "    }\n",
       "\n",
       "    .dataframe tbody tr th {\n",
       "        vertical-align: top;\n",
       "    }\n",
       "\n",
       "    .dataframe thead tr th {\n",
       "        text-align: left;\n",
       "    }\n",
       "\n",
       "    .dataframe thead tr:last-of-type th {\n",
       "        text-align: right;\n",
       "    }\n",
       "</style>\n",
       "<table border=\"1\" class=\"dataframe\">\n",
       "  <thead>\n",
       "    <tr>\n",
       "      <th></th>\n",
       "      <th></th>\n",
       "      <th>extr_sin_beca_</th>\n",
       "    </tr>\n",
       "    <tr>\n",
       "      <th></th>\n",
       "      <th></th>\n",
       "      <th>unique</th>\n",
       "    </tr>\n",
       "    <tr>\n",
       "      <th>extr_</th>\n",
       "      <th>beca_extr_</th>\n",
       "      <th></th>\n",
       "    </tr>\n",
       "  </thead>\n",
       "  <tbody>\n",
       "    <tr>\n",
       "      <th>No</th>\n",
       "      <th>No</th>\n",
       "      <td>[No]</td>\n",
       "    </tr>\n",
       "    <tr>\n",
       "      <th rowspan=\"2\" valign=\"top\">Sí</th>\n",
       "      <th>No</th>\n",
       "      <td>[Sí]</td>\n",
       "    </tr>\n",
       "    <tr>\n",
       "      <th>Sí</th>\n",
       "      <td>[No]</td>\n",
       "    </tr>\n",
       "  </tbody>\n",
       "</table>\n",
       "</div>"
      ],
      "text/plain": [
       "                 extr_sin_beca_\n",
       "                         unique\n",
       "extr_ beca_extr_               \n",
       "No    No                   [No]\n",
       "Sí    No                   [Sí]\n",
       "      Sí                   [No]"
      ]
     },
     "execution_count": 105,
     "metadata": {},
     "output_type": "execute_result"
    }
   ],
   "source": [
    "df['extr_sin_beca_']=traduce_lower('extr_sin_beca')\n",
    "df[['extr_sin_beca_','extr_','beca_extr_']].groupby(['extr_','beca_extr_']).agg(['unique']) # Comprobación"
   ]
  },
  {
   "cell_type": "markdown",
   "metadata": {},
   "source": [
    "## 'EST_M2' (redefinida como 'tipo_beca_extr')\n",
    "\n",
    "(Solo para respuesta Sí (1) en variable 'EST_B2_5' (o 'beca_extr'))  \n",
    "\n",
    "**Programa o beca de movilidad**."
   ]
  },
  {
   "cell_type": "code",
   "execution_count": 106,
   "metadata": {},
   "outputs": [
    {
     "data": {
      "text/plain": [
       "array(['8', '1', '3', ' ', '2'], dtype=object)"
      ]
     },
     "execution_count": 106,
     "metadata": {},
     "output_type": "execute_result"
    }
   ],
   "source": [
    "df['EST_M2'].unique() # No informados como '8' o ' ' "
   ]
  },
  {
   "cell_type": "code",
   "execution_count": 107,
   "metadata": {},
   "outputs": [
    {
     "name": "stdout",
     "output_type": "stream",
     "text": [
      "                                      aux_traduce\n",
      "                                           unique\n",
      "EST_M2                                           \n",
      "                                          [NS/NC]\n",
      "1                              [Programa Erasmus]\n",
      "2       [Otros programas o becas dentro de la UE]\n",
      "3        [Otros programas o becas fuera de la UE]\n",
      "8                                  [No aplicable]\n"
     ]
    }
   ],
   "source": [
    "traduce_upper('EST_M2')"
   ]
  },
  {
   "cell_type": "code",
   "execution_count": 108,
   "metadata": {},
   "outputs": [
    {
     "name": "stdout",
     "output_type": "stream",
     "text": [
      "                                      aux_traduce\n",
      "                                           unique\n",
      "EST_M2                                           \n",
      "1.0                            [Programa Erasmus]\n",
      "2.0     [Otros programas o becas dentro de la UE]\n",
      "3.0      [Otros programas o becas fuera de la UE]\n"
     ]
    }
   ],
   "source": [
    "# Se imputa None a NS/NC (9) y a respuesta en blanco: \n",
    "no_respuesta('EST_M2',blank='8',nsnc=' ')"
   ]
  },
  {
   "cell_type": "code",
   "execution_count": 109,
   "metadata": {},
   "outputs": [
    {
     "name": "stdout",
     "output_type": "stream",
     "text": [
      "                                              aux_traduce\n",
      "                                                   unique\n",
      "tipo_beca_extr                                           \n",
      "1.0                                    [Programa Erasmus]\n",
      "2.0             [Otros programas o becas dentro de la UE]\n",
      "3.0              [Otros programas o becas fuera de la UE]\n"
     ]
    }
   ],
   "source": [
    "redefine('EST_M2','tipo_beca_extr')"
   ]
  },
  {
   "cell_type": "code",
   "execution_count": 110,
   "metadata": {},
   "outputs": [
    {
     "data": {
      "text/html": [
       "<div>\n",
       "<style scoped>\n",
       "    .dataframe tbody tr th:only-of-type {\n",
       "        vertical-align: middle;\n",
       "    }\n",
       "\n",
       "    .dataframe tbody tr th {\n",
       "        vertical-align: top;\n",
       "    }\n",
       "\n",
       "    .dataframe thead tr th {\n",
       "        text-align: left;\n",
       "    }\n",
       "\n",
       "    .dataframe thead tr:last-of-type th {\n",
       "        text-align: right;\n",
       "    }\n",
       "</style>\n",
       "<table border=\"1\" class=\"dataframe\">\n",
       "  <thead>\n",
       "    <tr>\n",
       "      <th></th>\n",
       "      <th>tipo_beca_extr_</th>\n",
       "    </tr>\n",
       "    <tr>\n",
       "      <th></th>\n",
       "      <th>unique</th>\n",
       "    </tr>\n",
       "    <tr>\n",
       "      <th>beca_extr_</th>\n",
       "      <th></th>\n",
       "    </tr>\n",
       "  </thead>\n",
       "  <tbody>\n",
       "    <tr>\n",
       "      <th>No</th>\n",
       "      <td>[nan]</td>\n",
       "    </tr>\n",
       "    <tr>\n",
       "      <th>Sí</th>\n",
       "      <td>[Programa Erasmus, Otros programas o becas fuera de la UE, Otros programas o becas dentro de la UE, nan]</td>\n",
       "    </tr>\n",
       "    <tr>\n",
       "      <th>NaN</th>\n",
       "      <td>[nan]</td>\n",
       "    </tr>\n",
       "  </tbody>\n",
       "</table>\n",
       "</div>"
      ],
      "text/plain": [
       "                                                                                                     tipo_beca_extr_\n",
       "                                                                                                              unique\n",
       "beca_extr_                                                                                                          \n",
       "No                                                                                                             [nan]\n",
       "Sí          [Programa Erasmus, Otros programas o becas fuera de la UE, Otros programas o becas dentro de la UE, nan]\n",
       "NaN                                                                                                            [nan]"
      ]
     },
     "execution_count": 110,
     "metadata": {},
     "output_type": "execute_result"
    }
   ],
   "source": [
    "df[['beca_extr_','tipo_beca_extr_']].groupby('beca_extr_',dropna=False).agg(['unique']) # Comprobación"
   ]
  },
  {
   "cell_type": "markdown",
   "metadata": {},
   "source": [
    "## 'EST_M3'  (redefinida como 'pais_beca_extr')  \n",
    "\n",
    "(Solo para respuesta Sí (1) en variable 'EST_M1' (o 'extr')) \n",
    "\n",
    "**País o región de la universidad de destino** cuando estudió fuera de España.\n",
    "\n",
    "Nota: Las referencias para codificar la variable no coinciden con los empleados en las encuestas de grado y de máster de 2019. Sí coinciden las categorías de la variable. Se usan estas últimas para construir la variable nueva a partir de la literal.  "
   ]
  },
  {
   "cell_type": "code",
   "execution_count": 111,
   "metadata": {},
   "outputs": [
    {
     "data": {
      "text/plain": [
       "array(['  ', '01', '02', '03', '04', '05', '06', '07', '08', '09', '10',\n",
       "       '11', '12', '13', '88'], dtype=object)"
      ]
     },
     "execution_count": 111,
     "metadata": {},
     "output_type": "execute_result"
    }
   ],
   "source": [
    "df['EST_M3'].sort_values().unique() # No informados como '88' o '  '"
   ]
  },
  {
   "cell_type": "code",
   "execution_count": 112,
   "metadata": {},
   "outputs": [
    {
     "name": "stdout",
     "output_type": "stream",
     "text": [
      "                                                                 aux_traduce\n",
      "                                                                      unique\n",
      "EST_M3                                                                      \n",
      "                                                                     [NS/NC]\n",
      "01                                                                [Alemania]\n",
      "02                                                                 [Francia]\n",
      "03                                                                  [Italia]\n",
      "04                                                                [Portugal]\n",
      "05                                                             [Reino Unido]\n",
      "06      [Países Nórdicos (Suecia, Noruega, Finlandia, Dinamarca e Islandia)]\n",
      "07                                           [Otro país de la Unión Europea]\n",
      "08                                                       [Otro país europeo]\n",
      "09                                            [Un país de América del Norte]\n",
      "10                            [Un país de América Central o América del Sur]\n",
      "11                                                         [Un país de Asia]\n",
      "12                                                       [Un país de África]\n",
      "13                                                      [Un país de Oceanía]\n",
      "88                                                            [No aplicable]\n"
     ]
    }
   ],
   "source": [
    "traduce_upper('EST_M3')"
   ]
  },
  {
   "cell_type": "code",
   "execution_count": 113,
   "metadata": {},
   "outputs": [
    {
     "name": "stdout",
     "output_type": "stream",
     "text": [
      "                                                                 aux_traduce\n",
      "                                                                      unique\n",
      "EST_M3                                                                      \n",
      "1.0                                                               [Alemania]\n",
      "2.0                                                                [Francia]\n",
      "3.0                                                                 [Italia]\n",
      "4.0                                                               [Portugal]\n",
      "5.0                                                            [Reino Unido]\n",
      "6.0     [Países Nórdicos (Suecia, Noruega, Finlandia, Dinamarca e Islandia)]\n",
      "7.0                                          [Otro país de la Unión Europea]\n",
      "8.0                                                      [Otro país europeo]\n",
      "9.0                                           [Un país de América del Norte]\n",
      "10.0                          [Un país de América Central o América del Sur]\n",
      "11.0                                                       [Un país de Asia]\n",
      "12.0                                                     [Un país de África]\n",
      "13.0                                                    [Un país de Oceanía]\n"
     ]
    }
   ],
   "source": [
    "no_respuesta('EST_M3',nsnc='  ', blank='88')"
   ]
  },
  {
   "cell_type": "code",
   "execution_count": 114,
   "metadata": {},
   "outputs": [],
   "source": [
    "# Variable 'pais_beca_extr_' literal (traducción con códigos 2014):\n",
    "df['pais_beca_extr_']=df['EST_M3'].astype('O').replace(D_dict['EST_M3'])"
   ]
  },
  {
   "cell_type": "code",
   "execution_count": 115,
   "metadata": {},
   "outputs": [],
   "source": [
    "# Diccionario inverso para reconstruir variable 'pais_beca_extr' numérica: \n",
    "D_inv_pais=dict([(v,k) for (k,v) in d_dict['pais_beca_extr'].items() if type(k)==int])"
   ]
  },
  {
   "cell_type": "code",
   "execution_count": 116,
   "metadata": {},
   "outputs": [
    {
     "data": {
      "text/html": [
       "<div>\n",
       "<style scoped>\n",
       "    .dataframe tbody tr th:only-of-type {\n",
       "        vertical-align: middle;\n",
       "    }\n",
       "\n",
       "    .dataframe tbody tr th {\n",
       "        vertical-align: top;\n",
       "    }\n",
       "\n",
       "    .dataframe thead tr th {\n",
       "        text-align: left;\n",
       "    }\n",
       "\n",
       "    .dataframe thead tr:last-of-type th {\n",
       "        text-align: right;\n",
       "    }\n",
       "</style>\n",
       "<table border=\"1\" class=\"dataframe\">\n",
       "  <thead>\n",
       "    <tr>\n",
       "      <th></th>\n",
       "      <th>pais_beca_extr</th>\n",
       "    </tr>\n",
       "    <tr>\n",
       "      <th></th>\n",
       "      <th>unique</th>\n",
       "    </tr>\n",
       "    <tr>\n",
       "      <th>EST_M3</th>\n",
       "      <th></th>\n",
       "    </tr>\n",
       "  </thead>\n",
       "  <tbody>\n",
       "    <tr>\n",
       "      <th>1.0</th>\n",
       "      <td>[2.0]</td>\n",
       "    </tr>\n",
       "    <tr>\n",
       "      <th>2.0</th>\n",
       "      <td>[3.0]</td>\n",
       "    </tr>\n",
       "    <tr>\n",
       "      <th>3.0</th>\n",
       "      <td>[4.0]</td>\n",
       "    </tr>\n",
       "    <tr>\n",
       "      <th>4.0</th>\n",
       "      <td>[5.0]</td>\n",
       "    </tr>\n",
       "    <tr>\n",
       "      <th>5.0</th>\n",
       "      <td>[1.0]</td>\n",
       "    </tr>\n",
       "    <tr>\n",
       "      <th>6.0</th>\n",
       "      <td>[6.0]</td>\n",
       "    </tr>\n",
       "    <tr>\n",
       "      <th>7.0</th>\n",
       "      <td>[7.0]</td>\n",
       "    </tr>\n",
       "    <tr>\n",
       "      <th>8.0</th>\n",
       "      <td>[8.0]</td>\n",
       "    </tr>\n",
       "    <tr>\n",
       "      <th>9.0</th>\n",
       "      <td>[11.0]</td>\n",
       "    </tr>\n",
       "    <tr>\n",
       "      <th>10.0</th>\n",
       "      <td>[12.0]</td>\n",
       "    </tr>\n",
       "    <tr>\n",
       "      <th>11.0</th>\n",
       "      <td>[21.0]</td>\n",
       "    </tr>\n",
       "    <tr>\n",
       "      <th>12.0</th>\n",
       "      <td>[31.0]</td>\n",
       "    </tr>\n",
       "    <tr>\n",
       "      <th>13.0</th>\n",
       "      <td>[41.0]</td>\n",
       "    </tr>\n",
       "  </tbody>\n",
       "</table>\n",
       "</div>"
      ],
      "text/plain": [
       "       pais_beca_extr\n",
       "               unique\n",
       "EST_M3               \n",
       "1.0             [2.0]\n",
       "2.0             [3.0]\n",
       "3.0             [4.0]\n",
       "4.0             [5.0]\n",
       "5.0             [1.0]\n",
       "6.0             [6.0]\n",
       "7.0             [7.0]\n",
       "8.0             [8.0]\n",
       "9.0            [11.0]\n",
       "10.0           [12.0]\n",
       "11.0           [21.0]\n",
       "12.0           [31.0]\n",
       "13.0           [41.0]"
      ]
     },
     "execution_count": 116,
     "metadata": {},
     "output_type": "execute_result"
    }
   ],
   "source": [
    "# Reconstrucción de la variable numérica a partir de la literal y el dic. inverso: \n",
    "df['pais_beca_extr']=df['pais_beca_extr_'].replace(D_inv_pais)\n",
    "# Inspección (correspondencias de códigos encuestas 2014 y 2019):\n",
    "df[['pais_beca_extr','EST_M3']].groupby('EST_M3').agg(['unique']) "
   ]
  },
  {
   "cell_type": "markdown",
   "metadata": {},
   "source": [
    "## 'EST_B8' (redefinida como 'motivacion')\n",
    "**Motivo principal** por el que ha realizado sus **estudios** de máster.\n",
    "\n",
    "Nota: no informada en este dataset"
   ]
  },
  {
   "cell_type": "code",
   "execution_count": 117,
   "metadata": {},
   "outputs": [],
   "source": [
    "# Se imputará el valor mediano una vez reunida esta muestra con el resto de datasets\n",
    "df['motivacion']=None"
   ]
  },
  {
   "cell_type": "markdown",
   "metadata": {},
   "source": [
    "## 'SAT1' (redefinida como 'sat_est_u')\n",
    "¿Si tuviera que empezar de nuevo **volvería a cursar estudios universitarios**?  1=Sí, 2=No, 9=NS/NC.  \n",
    "\n",
    "Nota: Se modifica en 'sat_est_u' el valor asociado a la respuesta No: 0=No."
   ]
  },
  {
   "cell_type": "code",
   "execution_count": 118,
   "metadata": {},
   "outputs": [
    {
     "data": {
      "text/plain": [
       "array(['1', '2', ' '], dtype=object)"
      ]
     },
     "execution_count": 118,
     "metadata": {},
     "output_type": "execute_result"
    }
   ],
   "source": [
    "df['SAT1'].unique() # No informados como ' '"
   ]
  },
  {
   "cell_type": "code",
   "execution_count": 119,
   "metadata": {},
   "outputs": [
    {
     "name": "stdout",
     "output_type": "stream",
     "text": [
      "     aux_traduce\n",
      "          unique\n",
      "SAT1            \n",
      "         [NS/NC]\n",
      "1           [Sí]\n",
      "2           [No]\n"
     ]
    }
   ],
   "source": [
    "traduce_upper('SAT1')"
   ]
  },
  {
   "cell_type": "code",
   "execution_count": 120,
   "metadata": {},
   "outputs": [
    {
     "name": "stdout",
     "output_type": "stream",
     "text": [
      "     aux_traduce\n",
      "          unique\n",
      "SAT1            \n",
      "1.0         [Sí]\n",
      "2.0         [No]\n"
     ]
    }
   ],
   "source": [
    "# Se imputa None a NS/NC:\n",
    "no_respuesta('SAT1',nsnc=' ')"
   ]
  },
  {
   "cell_type": "code",
   "execution_count": 121,
   "metadata": {},
   "outputs": [
    {
     "name": "stdout",
     "output_type": "stream",
     "text": [
      "          aux_traduce\n",
      "               unique\n",
      "sat_est_u            \n",
      "0.0              [No]\n",
      "1.0              [Sí]\n"
     ]
    }
   ],
   "source": [
    "redefine('SAT1','sat_est_u',si_no=True)"
   ]
  },
  {
   "cell_type": "markdown",
   "metadata": {},
   "source": [
    "## 'SAT2' (redefinida como 'sat_titulo')  \n",
    "(Solo para respuesta Sí (1) en 'SAT1' (o 'sat_est_u')) \n",
    "\n",
    "¿Si tuviera que empezar de nuevo **volvería a estudiar la misma titulación**?  1=Sí, 2=No, 9=NS/NC.  \n",
    "\n",
    "Nota: Se modifica en 'sat_titulo' el valor asociado a la respuesta No: 0=No."
   ]
  },
  {
   "cell_type": "code",
   "execution_count": 122,
   "metadata": {},
   "outputs": [
    {
     "data": {
      "text/plain": [
       "array(['1', '2', '8', ' '], dtype=object)"
      ]
     },
     "execution_count": 122,
     "metadata": {},
     "output_type": "execute_result"
    }
   ],
   "source": [
    "df['SAT2'].unique() # No informados como '8' o ' '"
   ]
  },
  {
   "cell_type": "code",
   "execution_count": 123,
   "metadata": {},
   "outputs": [
    {
     "name": "stdout",
     "output_type": "stream",
     "text": [
      "         aux_traduce\n",
      "              unique\n",
      "SAT2                \n",
      "             [NS/NC]\n",
      "1               [Sí]\n",
      "2               [No]\n",
      "8     [No aplicable]\n"
     ]
    }
   ],
   "source": [
    "traduce_upper('SAT2')"
   ]
  },
  {
   "cell_type": "code",
   "execution_count": 124,
   "metadata": {},
   "outputs": [
    {
     "name": "stdout",
     "output_type": "stream",
     "text": [
      "     aux_traduce\n",
      "          unique\n",
      "SAT2            \n",
      "1.0         [Sí]\n",
      "2.0         [No]\n"
     ]
    }
   ],
   "source": [
    "# Se imputa respuesta No (2) a quienes declararon que no volverían a cursar estudios universitarios: \n",
    "df['SAT2'].mask(df['sat_est_u']==0,2,inplace=True)\n",
    "# Se imputa None a resto de respuestas en blanco y NS/NC:\n",
    "no_respuesta('SAT2',blank='8',nsnc=' ')"
   ]
  },
  {
   "cell_type": "code",
   "execution_count": 125,
   "metadata": {},
   "outputs": [
    {
     "name": "stdout",
     "output_type": "stream",
     "text": [
      "           aux_traduce\n",
      "                unique\n",
      "sat_titulo            \n",
      "0.0               [No]\n",
      "1.0               [Sí]\n"
     ]
    }
   ],
   "source": [
    "redefine('SAT2','sat_titulo',si_no=True)"
   ]
  },
  {
   "cell_type": "markdown",
   "metadata": {},
   "source": [
    "## Variables sobre otra formación realizada\n",
    "Nota: Debe tenerse en cuenta que se pregunta sobre otros estudios completados, no sobre los iniciados, y que para los titulados recientes se pueden estar subestimando las titulaciones posteriores por no haber habido tiempo suficiente para terminarlas. "
   ]
  },
  {
   "cell_type": "markdown",
   "metadata": {},
   "source": [
    "## 'EST_2_1'  (redefinida como 'varios_titulos_u')\n",
    "¿Ha completado **otros estudios universitarios**?  1=Sí, 2=No.   \n",
    "\n",
    "Nota: esta variable es menos específica que las incluídas en las encuestas de grado y de máster de 2019, que distinguen entre distintos niveles de formación universitaria (otros grados, máster y doctorado). "
   ]
  },
  {
   "cell_type": "code",
   "execution_count": 126,
   "metadata": {},
   "outputs": [
    {
     "data": {
      "text/plain": [
       "array(['1', '2', ' '], dtype=object)"
      ]
     },
     "execution_count": 126,
     "metadata": {},
     "output_type": "execute_result"
    }
   ],
   "source": [
    "df['EST2_1'].unique() # Sin no informados"
   ]
  },
  {
   "cell_type": "code",
   "execution_count": 127,
   "metadata": {},
   "outputs": [
    {
     "name": "stdout",
     "output_type": "stream",
     "text": [
      "       aux_traduce\n",
      "            unique\n",
      "EST2_1            \n",
      "           [NS/NC]\n",
      "1             [Sí]\n",
      "2             [No]\n"
     ]
    }
   ],
   "source": [
    "traduce_upper('EST2_1')"
   ]
  },
  {
   "cell_type": "code",
   "execution_count": 128,
   "metadata": {},
   "outputs": [
    {
     "name": "stdout",
     "output_type": "stream",
     "text": [
      "       aux_traduce\n",
      "            unique\n",
      "EST2_1            \n",
      "1.0           [Sí]\n",
      "2.0           [No]\n"
     ]
    }
   ],
   "source": [
    "no_respuesta('EST2_1')"
   ]
  },
  {
   "cell_type": "code",
   "execution_count": 129,
   "metadata": {},
   "outputs": [
    {
     "name": "stdout",
     "output_type": "stream",
     "text": [
      "                 aux_traduce\n",
      "                      unique\n",
      "varios_titulos_u            \n",
      "0.0                     [No]\n",
      "1.0                     [Sí]\n"
     ]
    }
   ],
   "source": [
    "redefine('EST2_1','varios_titulos_u',si_no=True)"
   ]
  },
  {
   "cell_type": "markdown",
   "metadata": {},
   "source": [
    "## 'EST2_2'  (redefinida como 'est_art')\n",
    "¿Ha completado otros **estudios artísticos superiores** (artes plásticas, diseño, música y danza, arte dramático o conservación y restauración de bienes culturales)?  1=Sí, 2=No.  \n",
    "\n",
    "Nota: Se modifica en 'est_art' el valor asociado a la respuesta No: 0=No."
   ]
  },
  {
   "cell_type": "code",
   "execution_count": 130,
   "metadata": {},
   "outputs": [
    {
     "data": {
      "text/plain": [
       "array(['2', '1', ' '], dtype=object)"
      ]
     },
     "execution_count": 130,
     "metadata": {},
     "output_type": "execute_result"
    }
   ],
   "source": [
    "df['EST2_2'].unique() # No informados como ' '"
   ]
  },
  {
   "cell_type": "code",
   "execution_count": 131,
   "metadata": {},
   "outputs": [
    {
     "name": "stdout",
     "output_type": "stream",
     "text": [
      "       aux_traduce\n",
      "            unique\n",
      "EST2_2            \n",
      "           [NS/NC]\n",
      "1             [Sí]\n",
      "2             [No]\n"
     ]
    }
   ],
   "source": [
    "traduce_upper('EST2_2')"
   ]
  },
  {
   "cell_type": "code",
   "execution_count": 132,
   "metadata": {},
   "outputs": [
    {
     "name": "stdout",
     "output_type": "stream",
     "text": [
      "       aux_traduce\n",
      "            unique\n",
      "EST2_2            \n",
      "1.0           [Sí]\n",
      "2.0           [No]\n"
     ]
    }
   ],
   "source": [
    "no_respuesta('EST2_2')"
   ]
  },
  {
   "cell_type": "code",
   "execution_count": 133,
   "metadata": {},
   "outputs": [
    {
     "name": "stdout",
     "output_type": "stream",
     "text": [
      "        aux_traduce\n",
      "             unique\n",
      "est_art            \n",
      "0.0            [No]\n",
      "1.0            [Sí]\n"
     ]
    }
   ],
   "source": [
    "redefine('EST2_2','est_art',si_no=True)"
   ]
  },
  {
   "cell_type": "markdown",
   "metadata": {},
   "source": [
    "## 'EST2_3'   (redefinida como 'g_sup')\n",
    "¿Ha completado algún **ciclo formativo de grado superior** (formación profesional, artes plásticas y diseño) o **enseñanzas deportivas de grado superior**?  1=Sí, 2=No.  \n",
    "\n",
    "Nota: Se modifica en 'g_sup' el valor asociado a la respuesta No: 0=No."
   ]
  },
  {
   "cell_type": "code",
   "execution_count": 134,
   "metadata": {},
   "outputs": [
    {
     "data": {
      "text/plain": [
       "array(['2', '1', ' '], dtype=object)"
      ]
     },
     "execution_count": 134,
     "metadata": {},
     "output_type": "execute_result"
    }
   ],
   "source": [
    "df['EST2_3'].unique() # No informados como ' '"
   ]
  },
  {
   "cell_type": "code",
   "execution_count": 135,
   "metadata": {},
   "outputs": [
    {
     "name": "stdout",
     "output_type": "stream",
     "text": [
      "       aux_traduce\n",
      "            unique\n",
      "EST2_3            \n",
      "           [NS/NC]\n",
      "1             [Sí]\n",
      "2             [No]\n"
     ]
    }
   ],
   "source": [
    "traduce_upper('EST2_3')"
   ]
  },
  {
   "cell_type": "code",
   "execution_count": 136,
   "metadata": {},
   "outputs": [
    {
     "name": "stdout",
     "output_type": "stream",
     "text": [
      "       aux_traduce\n",
      "            unique\n",
      "EST2_3            \n",
      "1.0           [Sí]\n",
      "2.0           [No]\n"
     ]
    }
   ],
   "source": [
    "no_respuesta('EST2_3')"
   ]
  },
  {
   "cell_type": "code",
   "execution_count": 137,
   "metadata": {},
   "outputs": [
    {
     "name": "stdout",
     "output_type": "stream",
     "text": [
      "      aux_traduce\n",
      "           unique\n",
      "g_sup            \n",
      "0.0          [No]\n",
      "1.0          [Sí]\n"
     ]
    }
   ],
   "source": [
    "redefine('EST2_3','g_sup',si_no=True)"
   ]
  },
  {
   "cell_type": "markdown",
   "metadata": {},
   "source": [
    "## 'EST2_FU' (informa la variable 'extr_proxy')\n",
    "¿Ha completado **otros estudios universitarios en el extranjero**?    "
   ]
  },
  {
   "cell_type": "code",
   "execution_count": 138,
   "metadata": {},
   "outputs": [
    {
     "data": {
      "text/plain": [
       "array(['2', '8', '1', ' '], dtype=object)"
      ]
     },
     "execution_count": 138,
     "metadata": {},
     "output_type": "execute_result"
    }
   ],
   "source": [
    "df['EST2_FU'].unique()"
   ]
  },
  {
   "cell_type": "code",
   "execution_count": 139,
   "metadata": {},
   "outputs": [
    {
     "name": "stdout",
     "output_type": "stream",
     "text": [
      "            aux_traduce\n",
      "                 unique\n",
      "EST2_FU                \n",
      "                [NS/NC]\n",
      "1                  [Sí]\n",
      "2                  [No]\n",
      "8        [No aplicable]\n"
     ]
    }
   ],
   "source": [
    "traduce_upper('EST2_FU')"
   ]
  },
  {
   "cell_type": "code",
   "execution_count": 140,
   "metadata": {},
   "outputs": [
    {
     "data": {
      "text/html": [
       "<div>\n",
       "<style scoped>\n",
       "    .dataframe tbody tr th:only-of-type {\n",
       "        vertical-align: middle;\n",
       "    }\n",
       "\n",
       "    .dataframe tbody tr th {\n",
       "        vertical-align: top;\n",
       "    }\n",
       "\n",
       "    .dataframe thead tr th {\n",
       "        text-align: left;\n",
       "    }\n",
       "\n",
       "    .dataframe thead tr:last-of-type th {\n",
       "        text-align: right;\n",
       "    }\n",
       "</style>\n",
       "<table border=\"1\" class=\"dataframe\">\n",
       "  <thead>\n",
       "    <tr>\n",
       "      <th></th>\n",
       "      <th>EST2_FU</th>\n",
       "    </tr>\n",
       "    <tr>\n",
       "      <th></th>\n",
       "      <th>unique</th>\n",
       "    </tr>\n",
       "    <tr>\n",
       "      <th>varios_titulos_u_</th>\n",
       "      <th></th>\n",
       "    </tr>\n",
       "  </thead>\n",
       "  <tbody>\n",
       "    <tr>\n",
       "      <th>No</th>\n",
       "      <td>[8]</td>\n",
       "    </tr>\n",
       "    <tr>\n",
       "      <th>Sí</th>\n",
       "      <td>[2, 1,  ]</td>\n",
       "    </tr>\n",
       "    <tr>\n",
       "      <th>NaN</th>\n",
       "      <td>[ ]</td>\n",
       "    </tr>\n",
       "  </tbody>\n",
       "</table>\n",
       "</div>"
      ],
      "text/plain": [
       "                     EST2_FU\n",
       "                      unique\n",
       "varios_titulos_u_           \n",
       "No                       [8]\n",
       "Sí                 [2, 1,  ]\n",
       "NaN                      [ ]"
      ]
     },
     "execution_count": 140,
     "metadata": {},
     "output_type": "execute_result"
    }
   ],
   "source": [
    "# Inspección: Solo se pregunta a quienes declaran tener otros títulos universitarios\n",
    "df[['EST2_FU','varios_titulos_u_']].groupby('varios_titulos_u_',dropna=False).agg(['unique'])"
   ]
  },
  {
   "cell_type": "markdown",
   "metadata": {},
   "source": [
    "## Nueva variable: 'extr_proxy'\n",
    "Variable proxy de **estudios al menos en parte en el extranjero**. "
   ]
  },
  {
   "cell_type": "code",
   "execution_count": 141,
   "metadata": {},
   "outputs": [
    {
     "name": "stdout",
     "output_type": "stream",
     "text": [
      "                                                  aux_traduce\n",
      "                                                       unique\n",
      "extr_proxy                                                   \n",
      "0                                [No estudió fuera de España]\n",
      "1           [Al menos parte de los estudios en el extranjero]\n"
     ]
    },
    {
     "data": {
      "text/html": [
       "<div>\n",
       "<style scoped>\n",
       "    .dataframe tbody tr th:only-of-type {\n",
       "        vertical-align: middle;\n",
       "    }\n",
       "\n",
       "    .dataframe tbody tr th {\n",
       "        vertical-align: top;\n",
       "    }\n",
       "\n",
       "    .dataframe thead tr th {\n",
       "        text-align: left;\n",
       "    }\n",
       "\n",
       "    .dataframe thead tr:last-of-type th {\n",
       "        text-align: right;\n",
       "    }\n",
       "</style>\n",
       "<table border=\"1\" class=\"dataframe\">\n",
       "  <thead>\n",
       "    <tr>\n",
       "      <th></th>\n",
       "      <th>extr_proxy_</th>\n",
       "    </tr>\n",
       "    <tr>\n",
       "      <th></th>\n",
       "      <th>unique</th>\n",
       "    </tr>\n",
       "    <tr>\n",
       "      <th>EST2_FU</th>\n",
       "      <th></th>\n",
       "    </tr>\n",
       "  </thead>\n",
       "  <tbody>\n",
       "    <tr>\n",
       "      <th></th>\n",
       "      <td>[No estudió fuera de España]</td>\n",
       "    </tr>\n",
       "    <tr>\n",
       "      <th>1</th>\n",
       "      <td>[Al menos parte de los estudios en el extranjero]</td>\n",
       "    </tr>\n",
       "    <tr>\n",
       "      <th>2</th>\n",
       "      <td>[No estudió fuera de España]</td>\n",
       "    </tr>\n",
       "    <tr>\n",
       "      <th>8</th>\n",
       "      <td>[No estudió fuera de España]</td>\n",
       "    </tr>\n",
       "  </tbody>\n",
       "</table>\n",
       "</div>"
      ],
      "text/plain": [
       "                                               extr_proxy_\n",
       "                                                    unique\n",
       "EST2_FU                                                   \n",
       "                              [No estudió fuera de España]\n",
       "1        [Al menos parte de los estudios en el extranjero]\n",
       "2                             [No estudió fuera de España]\n",
       "8                             [No estudió fuera de España]"
      ]
     },
     "execution_count": 141,
     "metadata": {},
     "output_type": "execute_result"
    }
   ],
   "source": [
    "df['extr_proxy']=0\n",
    "df['extr_proxy'].mask(df['EST2_FU']=='1',1,inplace=True)\n",
    "df['extr_proxy_']=traduce_lower('extr_proxy')\n",
    "df[['EST2_FU','extr_proxy_']].groupby('EST2_FU',dropna=False).agg(['unique']) # Comprobación"
   ]
  },
  {
   "cell_type": "markdown",
   "metadata": {},
   "source": [
    "## 'EST2_TI' (informa las variables 'varios_grados', 'master', 'doctor' y 'n_grados')\n",
    "Tipo de **otros estudios universitarios en el extranjero**   \n"
   ]
  },
  {
   "cell_type": "code",
   "execution_count": 142,
   "metadata": {},
   "outputs": [
    {
     "data": {
      "text/plain": [
       "array(['8', '5', ' ', '1', '6', '2', '3', '4'], dtype=object)"
      ]
     },
     "execution_count": 142,
     "metadata": {},
     "output_type": "execute_result"
    }
   ],
   "source": [
    "df['EST2_TI'].unique()"
   ]
  },
  {
   "cell_type": "code",
   "execution_count": 143,
   "metadata": {},
   "outputs": [
    {
     "name": "stdout",
     "output_type": "stream",
     "text": [
      "                                                     aux_traduce\n",
      "                                                          unique\n",
      "EST2_TI                                                         \n",
      "                                                         [NS/NC]\n",
      "1        [Diplomatura, ingeniería técnica, arquitectura técnica]\n",
      "2                      [Lincenciatura, ingeniería, arquitectura]\n",
      "3                          [Grado universitario de 240 créditos]\n",
      "4                   [Grado universitario de más de 240 créditos]\n",
      "5                                                       [Máster]\n",
      "6                                      [Doctorado universitario]\n",
      "8                                                 [No aplicable]\n"
     ]
    }
   ],
   "source": [
    "traduce_upper('EST2_TI')"
   ]
  },
  {
   "cell_type": "code",
   "execution_count": 144,
   "metadata": {},
   "outputs": [
    {
     "data": {
      "text/html": [
       "<div>\n",
       "<style scoped>\n",
       "    .dataframe tbody tr th:only-of-type {\n",
       "        vertical-align: middle;\n",
       "    }\n",
       "\n",
       "    .dataframe tbody tr th {\n",
       "        vertical-align: top;\n",
       "    }\n",
       "\n",
       "    .dataframe thead tr th {\n",
       "        text-align: left;\n",
       "    }\n",
       "\n",
       "    .dataframe thead tr:last-of-type th {\n",
       "        text-align: right;\n",
       "    }\n",
       "</style>\n",
       "<table border=\"1\" class=\"dataframe\">\n",
       "  <thead>\n",
       "    <tr>\n",
       "      <th></th>\n",
       "      <th>varios_grados_</th>\n",
       "    </tr>\n",
       "    <tr>\n",
       "      <th></th>\n",
       "      <th>unique</th>\n",
       "    </tr>\n",
       "    <tr>\n",
       "      <th>EST2_TI</th>\n",
       "      <th></th>\n",
       "    </tr>\n",
       "  </thead>\n",
       "  <tbody>\n",
       "    <tr>\n",
       "      <th></th>\n",
       "      <td>[No]</td>\n",
       "    </tr>\n",
       "    <tr>\n",
       "      <th>1</th>\n",
       "      <td>[Sí]</td>\n",
       "    </tr>\n",
       "    <tr>\n",
       "      <th>2</th>\n",
       "      <td>[Sí]</td>\n",
       "    </tr>\n",
       "    <tr>\n",
       "      <th>3</th>\n",
       "      <td>[Sí]</td>\n",
       "    </tr>\n",
       "    <tr>\n",
       "      <th>4</th>\n",
       "      <td>[Sí]</td>\n",
       "    </tr>\n",
       "    <tr>\n",
       "      <th>5</th>\n",
       "      <td>[No]</td>\n",
       "    </tr>\n",
       "    <tr>\n",
       "      <th>6</th>\n",
       "      <td>[No]</td>\n",
       "    </tr>\n",
       "    <tr>\n",
       "      <th>8</th>\n",
       "      <td>[No]</td>\n",
       "    </tr>\n",
       "  </tbody>\n",
       "</table>\n",
       "</div>"
      ],
      "text/plain": [
       "        varios_grados_\n",
       "                unique\n",
       "EST2_TI               \n",
       "                  [No]\n",
       "1                 [Sí]\n",
       "2                 [Sí]\n",
       "3                 [Sí]\n",
       "4                 [Sí]\n",
       "5                 [No]\n",
       "6                 [No]\n",
       "8                 [No]"
      ]
     },
     "execution_count": 144,
     "metadata": {},
     "output_type": "execute_result"
    }
   ],
   "source": [
    "# Se imputan 'varios_grados' (binaria) a quienes declaran haber estudiado otros grados, licenciaturas o ...\n",
    "# ... diplomaturas en el extranjero: \n",
    "df['varios_grados']=0\n",
    "df['varios_grados'].mask(df['EST2_TI'].isin(['1','2','3','4']),1,inplace=True)\n",
    "df['varios_grados_']=df['varios_grados'].replace(D_dict['si_no'])\n",
    "df[['varios_grados_','EST2_TI']].groupby('EST2_TI').agg(['unique']) # Comprobación: "
   ]
  },
  {
   "cell_type": "code",
   "execution_count": 145,
   "metadata": {},
   "outputs": [
    {
     "data": {
      "text/html": [
       "<div>\n",
       "<style scoped>\n",
       "    .dataframe tbody tr th:only-of-type {\n",
       "        vertical-align: middle;\n",
       "    }\n",
       "\n",
       "    .dataframe tbody tr th {\n",
       "        vertical-align: top;\n",
       "    }\n",
       "\n",
       "    .dataframe thead tr th {\n",
       "        text-align: left;\n",
       "    }\n",
       "\n",
       "    .dataframe thead tr:last-of-type th {\n",
       "        text-align: right;\n",
       "    }\n",
       "</style>\n",
       "<table border=\"1\" class=\"dataframe\">\n",
       "  <thead>\n",
       "    <tr>\n",
       "      <th></th>\n",
       "      <th>n_grados</th>\n",
       "    </tr>\n",
       "    <tr>\n",
       "      <th></th>\n",
       "      <th>unique</th>\n",
       "    </tr>\n",
       "    <tr>\n",
       "      <th>EST2_TI</th>\n",
       "      <th></th>\n",
       "    </tr>\n",
       "  </thead>\n",
       "  <tbody>\n",
       "    <tr>\n",
       "      <th></th>\n",
       "      <td>[1]</td>\n",
       "    </tr>\n",
       "    <tr>\n",
       "      <th>1</th>\n",
       "      <td>[2]</td>\n",
       "    </tr>\n",
       "    <tr>\n",
       "      <th>2</th>\n",
       "      <td>[2]</td>\n",
       "    </tr>\n",
       "    <tr>\n",
       "      <th>3</th>\n",
       "      <td>[2]</td>\n",
       "    </tr>\n",
       "    <tr>\n",
       "      <th>4</th>\n",
       "      <td>[2]</td>\n",
       "    </tr>\n",
       "    <tr>\n",
       "      <th>5</th>\n",
       "      <td>[1]</td>\n",
       "    </tr>\n",
       "    <tr>\n",
       "      <th>6</th>\n",
       "      <td>[1]</td>\n",
       "    </tr>\n",
       "    <tr>\n",
       "      <th>8</th>\n",
       "      <td>[1]</td>\n",
       "    </tr>\n",
       "  </tbody>\n",
       "</table>\n",
       "</div>"
      ],
      "text/plain": [
       "        n_grados\n",
       "          unique\n",
       "EST2_TI         \n",
       "             [1]\n",
       "1            [2]\n",
       "2            [2]\n",
       "3            [2]\n",
       "4            [2]\n",
       "5            [1]\n",
       "6            [1]\n",
       "8            [1]"
      ]
     },
     "execution_count": 145,
     "metadata": {},
     "output_type": "execute_result"
    }
   ],
   "source": [
    "# Se imputa al menos un título de grado a todos los encuestados: \n",
    "df['n_grados']=1\n",
    "# Se imputan 2 a quienes declaran haber estudiado un título de grado o equivalente en el extranjero: \n",
    "df['n_grados'].mask(df['EST2_TI'].isin(['1','2','3','4']),2,inplace=True)\n",
    "df[['n_grados','EST2_TI']].groupby('EST2_TI').agg(['unique']) # Comprobación: "
   ]
  },
  {
   "cell_type": "code",
   "execution_count": 146,
   "metadata": {},
   "outputs": [
    {
     "data": {
      "text/html": [
       "<div>\n",
       "<style scoped>\n",
       "    .dataframe tbody tr th:only-of-type {\n",
       "        vertical-align: middle;\n",
       "    }\n",
       "\n",
       "    .dataframe tbody tr th {\n",
       "        vertical-align: top;\n",
       "    }\n",
       "\n",
       "    .dataframe thead tr th {\n",
       "        text-align: left;\n",
       "    }\n",
       "\n",
       "    .dataframe thead tr:last-of-type th {\n",
       "        text-align: right;\n",
       "    }\n",
       "</style>\n",
       "<table border=\"1\" class=\"dataframe\">\n",
       "  <thead>\n",
       "    <tr>\n",
       "      <th></th>\n",
       "      <th>master_</th>\n",
       "    </tr>\n",
       "    <tr>\n",
       "      <th></th>\n",
       "      <th>unique</th>\n",
       "    </tr>\n",
       "    <tr>\n",
       "      <th>EST2_TI</th>\n",
       "      <th></th>\n",
       "    </tr>\n",
       "  </thead>\n",
       "  <tbody>\n",
       "    <tr>\n",
       "      <th></th>\n",
       "      <td>[No]</td>\n",
       "    </tr>\n",
       "    <tr>\n",
       "      <th>1</th>\n",
       "      <td>[No]</td>\n",
       "    </tr>\n",
       "    <tr>\n",
       "      <th>2</th>\n",
       "      <td>[No]</td>\n",
       "    </tr>\n",
       "    <tr>\n",
       "      <th>3</th>\n",
       "      <td>[No]</td>\n",
       "    </tr>\n",
       "    <tr>\n",
       "      <th>4</th>\n",
       "      <td>[No]</td>\n",
       "    </tr>\n",
       "    <tr>\n",
       "      <th>5</th>\n",
       "      <td>[Sí]</td>\n",
       "    </tr>\n",
       "    <tr>\n",
       "      <th>6</th>\n",
       "      <td>[No]</td>\n",
       "    </tr>\n",
       "    <tr>\n",
       "      <th>8</th>\n",
       "      <td>[No]</td>\n",
       "    </tr>\n",
       "  </tbody>\n",
       "</table>\n",
       "</div>"
      ],
      "text/plain": [
       "        master_\n",
       "         unique\n",
       "EST2_TI        \n",
       "           [No]\n",
       "1          [No]\n",
       "2          [No]\n",
       "3          [No]\n",
       "4          [No]\n",
       "5          [Sí]\n",
       "6          [No]\n",
       "8          [No]"
      ]
     },
     "execution_count": 146,
     "metadata": {},
     "output_type": "execute_result"
    }
   ],
   "source": [
    "# Se imputa 'master' (binaria) a quienes declaran haber estudiado algún título de máster en el extranjero:  \n",
    "df['master']=0\n",
    "df['master'].mask(df['EST2_TI']=='5',1,inplace=True)\n",
    "df['master_']=df['master'].replace(D_dict['si_no'])\n",
    "df[['master_','EST2_TI']].groupby('EST2_TI').agg(['unique']) # Comprobación: "
   ]
  },
  {
   "cell_type": "code",
   "execution_count": 147,
   "metadata": {},
   "outputs": [
    {
     "data": {
      "text/html": [
       "<div>\n",
       "<style scoped>\n",
       "    .dataframe tbody tr th:only-of-type {\n",
       "        vertical-align: middle;\n",
       "    }\n",
       "\n",
       "    .dataframe tbody tr th {\n",
       "        vertical-align: top;\n",
       "    }\n",
       "\n",
       "    .dataframe thead tr th {\n",
       "        text-align: left;\n",
       "    }\n",
       "\n",
       "    .dataframe thead tr:last-of-type th {\n",
       "        text-align: right;\n",
       "    }\n",
       "</style>\n",
       "<table border=\"1\" class=\"dataframe\">\n",
       "  <thead>\n",
       "    <tr>\n",
       "      <th></th>\n",
       "      <th>doctor_</th>\n",
       "    </tr>\n",
       "    <tr>\n",
       "      <th></th>\n",
       "      <th>unique</th>\n",
       "    </tr>\n",
       "    <tr>\n",
       "      <th>EST2_TI</th>\n",
       "      <th></th>\n",
       "    </tr>\n",
       "  </thead>\n",
       "  <tbody>\n",
       "    <tr>\n",
       "      <th></th>\n",
       "      <td>[No]</td>\n",
       "    </tr>\n",
       "    <tr>\n",
       "      <th>1</th>\n",
       "      <td>[No]</td>\n",
       "    </tr>\n",
       "    <tr>\n",
       "      <th>2</th>\n",
       "      <td>[No]</td>\n",
       "    </tr>\n",
       "    <tr>\n",
       "      <th>3</th>\n",
       "      <td>[No]</td>\n",
       "    </tr>\n",
       "    <tr>\n",
       "      <th>4</th>\n",
       "      <td>[No]</td>\n",
       "    </tr>\n",
       "    <tr>\n",
       "      <th>5</th>\n",
       "      <td>[No]</td>\n",
       "    </tr>\n",
       "    <tr>\n",
       "      <th>6</th>\n",
       "      <td>[Sí]</td>\n",
       "    </tr>\n",
       "    <tr>\n",
       "      <th>8</th>\n",
       "      <td>[No]</td>\n",
       "    </tr>\n",
       "  </tbody>\n",
       "</table>\n",
       "</div>"
      ],
      "text/plain": [
       "        doctor_\n",
       "         unique\n",
       "EST2_TI        \n",
       "           [No]\n",
       "1          [No]\n",
       "2          [No]\n",
       "3          [No]\n",
       "4          [No]\n",
       "5          [No]\n",
       "6          [Sí]\n",
       "8          [No]"
      ]
     },
     "execution_count": 147,
     "metadata": {},
     "output_type": "execute_result"
    }
   ],
   "source": [
    "# Se imputa 'doctor' (binaria) a quienes declaran haber estudiado un doctorado en el extranjero:\n",
    "df['doctor']=0\n",
    "df['doctor'].mask(df['EST2_TI']=='6',1,inplace=True)\n",
    "df['doctor_']=df['doctor'].replace(D_dict['si_no'])\n",
    "df[['doctor_','EST2_TI']].groupby('EST2_TI').agg(['unique']) # Comprobación: "
   ]
  },
  {
   "cell_type": "markdown",
   "metadata": {},
   "source": [
    "## 'EST2_MA'  (informa las variables 'master', 'varios_master' y 'n_master')\n",
    "¿Ha completado algún **máster en alguna universidad española**?"
   ]
  },
  {
   "cell_type": "code",
   "execution_count": 148,
   "metadata": {},
   "outputs": [
    {
     "data": {
      "text/plain": [
       "array(['1', '2', ' '], dtype=object)"
      ]
     },
     "execution_count": 148,
     "metadata": {},
     "output_type": "execute_result"
    }
   ],
   "source": [
    "df['EST2_MA'].unique()"
   ]
  },
  {
   "cell_type": "code",
   "execution_count": 149,
   "metadata": {},
   "outputs": [
    {
     "name": "stdout",
     "output_type": "stream",
     "text": [
      "        aux_traduce\n",
      "             unique\n",
      "EST2_MA            \n",
      "            [NS/NC]\n",
      "1              [Sí]\n",
      "2              [No]\n"
     ]
    }
   ],
   "source": [
    "traduce_upper('EST2_MA')"
   ]
  },
  {
   "cell_type": "code",
   "execution_count": 150,
   "metadata": {},
   "outputs": [
    {
     "data": {
      "text/html": [
       "<div>\n",
       "<style scoped>\n",
       "    .dataframe tbody tr th:only-of-type {\n",
       "        vertical-align: middle;\n",
       "    }\n",
       "\n",
       "    .dataframe tbody tr th {\n",
       "        vertical-align: top;\n",
       "    }\n",
       "\n",
       "    .dataframe thead tr th {\n",
       "        text-align: left;\n",
       "    }\n",
       "\n",
       "    .dataframe thead tr:last-of-type th {\n",
       "        text-align: right;\n",
       "    }\n",
       "</style>\n",
       "<table border=\"1\" class=\"dataframe\">\n",
       "  <thead>\n",
       "    <tr>\n",
       "      <th></th>\n",
       "      <th></th>\n",
       "      <th>master_</th>\n",
       "    </tr>\n",
       "    <tr>\n",
       "      <th></th>\n",
       "      <th></th>\n",
       "      <th>unique</th>\n",
       "    </tr>\n",
       "    <tr>\n",
       "      <th>EST2_MA</th>\n",
       "      <th>EST2_TI</th>\n",
       "      <th></th>\n",
       "    </tr>\n",
       "  </thead>\n",
       "  <tbody>\n",
       "    <tr>\n",
       "      <th rowspan=\"2\" valign=\"top\"></th>\n",
       "      <th></th>\n",
       "      <td>[No]</td>\n",
       "    </tr>\n",
       "    <tr>\n",
       "      <th>8</th>\n",
       "      <td>[No]</td>\n",
       "    </tr>\n",
       "    <tr>\n",
       "      <th rowspan=\"8\" valign=\"top\">1</th>\n",
       "      <th></th>\n",
       "      <td>[Sí]</td>\n",
       "    </tr>\n",
       "    <tr>\n",
       "      <th>1</th>\n",
       "      <td>[Sí]</td>\n",
       "    </tr>\n",
       "    <tr>\n",
       "      <th>2</th>\n",
       "      <td>[Sí]</td>\n",
       "    </tr>\n",
       "    <tr>\n",
       "      <th>3</th>\n",
       "      <td>[Sí]</td>\n",
       "    </tr>\n",
       "    <tr>\n",
       "      <th>4</th>\n",
       "      <td>[Sí]</td>\n",
       "    </tr>\n",
       "    <tr>\n",
       "      <th>5</th>\n",
       "      <td>[Sí]</td>\n",
       "    </tr>\n",
       "    <tr>\n",
       "      <th>6</th>\n",
       "      <td>[Sí]</td>\n",
       "    </tr>\n",
       "    <tr>\n",
       "      <th>8</th>\n",
       "      <td>[Sí]</td>\n",
       "    </tr>\n",
       "    <tr>\n",
       "      <th rowspan=\"8\" valign=\"top\">2</th>\n",
       "      <th></th>\n",
       "      <td>[No]</td>\n",
       "    </tr>\n",
       "    <tr>\n",
       "      <th>1</th>\n",
       "      <td>[No]</td>\n",
       "    </tr>\n",
       "    <tr>\n",
       "      <th>2</th>\n",
       "      <td>[No]</td>\n",
       "    </tr>\n",
       "    <tr>\n",
       "      <th>3</th>\n",
       "      <td>[No]</td>\n",
       "    </tr>\n",
       "    <tr>\n",
       "      <th>4</th>\n",
       "      <td>[No]</td>\n",
       "    </tr>\n",
       "    <tr>\n",
       "      <th>5</th>\n",
       "      <td>[Sí]</td>\n",
       "    </tr>\n",
       "    <tr>\n",
       "      <th>6</th>\n",
       "      <td>[No]</td>\n",
       "    </tr>\n",
       "    <tr>\n",
       "      <th>8</th>\n",
       "      <td>[No]</td>\n",
       "    </tr>\n",
       "  </tbody>\n",
       "</table>\n",
       "</div>"
      ],
      "text/plain": [
       "                master_\n",
       "                 unique\n",
       "EST2_MA EST2_TI        \n",
       "                   [No]\n",
       "        8          [No]\n",
       "1                  [Sí]\n",
       "        1          [Sí]\n",
       "        2          [Sí]\n",
       "        3          [Sí]\n",
       "        4          [Sí]\n",
       "        5          [Sí]\n",
       "        6          [Sí]\n",
       "        8          [Sí]\n",
       "2                  [No]\n",
       "        1          [No]\n",
       "        2          [No]\n",
       "        3          [No]\n",
       "        4          [No]\n",
       "        5          [Sí]\n",
       "        6          [No]\n",
       "        8          [No]"
      ]
     },
     "execution_count": 150,
     "metadata": {},
     "output_type": "execute_result"
    }
   ],
   "source": [
    "# Se imputa 'master' (binaria) a quienes declaran haber estudiado uno en una universidad española: \n",
    "df['master'].mask(df['EST2_MA']=='1',1,inplace=True)\n",
    "df['master_']=df['master'].replace(D_dict['si_no'])\n",
    "df[['master_','EST2_MA','EST2_TI']].groupby(['EST2_MA','EST2_TI']).agg(['unique']) # Comprobación: "
   ]
  },
  {
   "cell_type": "code",
   "execution_count": 151,
   "metadata": {},
   "outputs": [],
   "source": [
    "# Se acutualiza el valor de 'n_master' (de momento, igual a la binaria 'master'):\n",
    "df['n_master']=df['master']"
   ]
  },
  {
   "cell_type": "code",
   "execution_count": 152,
   "metadata": {
    "scrolled": true
   },
   "outputs": [
    {
     "data": {
      "text/html": [
       "<div>\n",
       "<style scoped>\n",
       "    .dataframe tbody tr th:only-of-type {\n",
       "        vertical-align: middle;\n",
       "    }\n",
       "\n",
       "    .dataframe tbody tr th {\n",
       "        vertical-align: top;\n",
       "    }\n",
       "\n",
       "    .dataframe thead tr th {\n",
       "        text-align: left;\n",
       "    }\n",
       "\n",
       "    .dataframe thead tr:last-of-type th {\n",
       "        text-align: right;\n",
       "    }\n",
       "</style>\n",
       "<table border=\"1\" class=\"dataframe\">\n",
       "  <thead>\n",
       "    <tr>\n",
       "      <th></th>\n",
       "      <th></th>\n",
       "      <th>varios_master_</th>\n",
       "    </tr>\n",
       "    <tr>\n",
       "      <th></th>\n",
       "      <th></th>\n",
       "      <th>unique</th>\n",
       "    </tr>\n",
       "    <tr>\n",
       "      <th>EST2_MA</th>\n",
       "      <th>EST2_TI</th>\n",
       "      <th></th>\n",
       "    </tr>\n",
       "  </thead>\n",
       "  <tbody>\n",
       "    <tr>\n",
       "      <th rowspan=\"2\" valign=\"top\"></th>\n",
       "      <th></th>\n",
       "      <td>[No]</td>\n",
       "    </tr>\n",
       "    <tr>\n",
       "      <th>8</th>\n",
       "      <td>[No]</td>\n",
       "    </tr>\n",
       "    <tr>\n",
       "      <th rowspan=\"8\" valign=\"top\">1</th>\n",
       "      <th></th>\n",
       "      <td>[No]</td>\n",
       "    </tr>\n",
       "    <tr>\n",
       "      <th>1</th>\n",
       "      <td>[No]</td>\n",
       "    </tr>\n",
       "    <tr>\n",
       "      <th>2</th>\n",
       "      <td>[No]</td>\n",
       "    </tr>\n",
       "    <tr>\n",
       "      <th>3</th>\n",
       "      <td>[No]</td>\n",
       "    </tr>\n",
       "    <tr>\n",
       "      <th>4</th>\n",
       "      <td>[No]</td>\n",
       "    </tr>\n",
       "    <tr>\n",
       "      <th>5</th>\n",
       "      <td>[Sí]</td>\n",
       "    </tr>\n",
       "    <tr>\n",
       "      <th>6</th>\n",
       "      <td>[No]</td>\n",
       "    </tr>\n",
       "    <tr>\n",
       "      <th>8</th>\n",
       "      <td>[No]</td>\n",
       "    </tr>\n",
       "    <tr>\n",
       "      <th rowspan=\"8\" valign=\"top\">2</th>\n",
       "      <th></th>\n",
       "      <td>[No]</td>\n",
       "    </tr>\n",
       "    <tr>\n",
       "      <th>1</th>\n",
       "      <td>[No]</td>\n",
       "    </tr>\n",
       "    <tr>\n",
       "      <th>2</th>\n",
       "      <td>[No]</td>\n",
       "    </tr>\n",
       "    <tr>\n",
       "      <th>3</th>\n",
       "      <td>[No]</td>\n",
       "    </tr>\n",
       "    <tr>\n",
       "      <th>4</th>\n",
       "      <td>[No]</td>\n",
       "    </tr>\n",
       "    <tr>\n",
       "      <th>5</th>\n",
       "      <td>[No]</td>\n",
       "    </tr>\n",
       "    <tr>\n",
       "      <th>6</th>\n",
       "      <td>[No]</td>\n",
       "    </tr>\n",
       "    <tr>\n",
       "      <th>8</th>\n",
       "      <td>[No]</td>\n",
       "    </tr>\n",
       "  </tbody>\n",
       "</table>\n",
       "</div>"
      ],
      "text/plain": [
       "                varios_master_\n",
       "                        unique\n",
       "EST2_MA EST2_TI               \n",
       "                          [No]\n",
       "        8                 [No]\n",
       "1                         [No]\n",
       "        1                 [No]\n",
       "        2                 [No]\n",
       "        3                 [No]\n",
       "        4                 [No]\n",
       "        5                 [Sí]\n",
       "        6                 [No]\n",
       "        8                 [No]\n",
       "2                         [No]\n",
       "        1                 [No]\n",
       "        2                 [No]\n",
       "        3                 [No]\n",
       "        4                 [No]\n",
       "        5                 [No]\n",
       "        6                 [No]\n",
       "        8                 [No]"
      ]
     },
     "execution_count": 152,
     "metadata": {},
     "output_type": "execute_result"
    }
   ],
   "source": [
    "# Se imputa 'varios_master' (binaria) a quienes declaran haber estudiado uno en una universidad española y ...\n",
    "# ... uno en una universidad extranjera: \n",
    "df['varios_master']=0\n",
    "df['varios_master'].mask((df['EST2_MA']=='1') & (df['EST2_TI']=='5'),1,inplace=True)\n",
    "df['varios_master_']=df['varios_master'].replace(D_dict['si_no'])\n",
    "df[['varios_master_','EST2_MA','EST2_TI']].groupby(['EST2_MA','EST2_TI']).agg(['unique']) # Comprobación: "
   ]
  },
  {
   "cell_type": "code",
   "execution_count": 153,
   "metadata": {},
   "outputs": [
    {
     "data": {
      "text/html": [
       "<div>\n",
       "<style scoped>\n",
       "    .dataframe tbody tr th:only-of-type {\n",
       "        vertical-align: middle;\n",
       "    }\n",
       "\n",
       "    .dataframe tbody tr th {\n",
       "        vertical-align: top;\n",
       "    }\n",
       "\n",
       "    .dataframe thead tr th {\n",
       "        text-align: left;\n",
       "    }\n",
       "\n",
       "    .dataframe thead tr:last-of-type th {\n",
       "        text-align: right;\n",
       "    }\n",
       "</style>\n",
       "<table border=\"1\" class=\"dataframe\">\n",
       "  <thead>\n",
       "    <tr>\n",
       "      <th></th>\n",
       "      <th></th>\n",
       "      <th>n_master</th>\n",
       "    </tr>\n",
       "    <tr>\n",
       "      <th></th>\n",
       "      <th></th>\n",
       "      <th>unique</th>\n",
       "    </tr>\n",
       "    <tr>\n",
       "      <th>EST2_MA</th>\n",
       "      <th>EST2_TI</th>\n",
       "      <th></th>\n",
       "    </tr>\n",
       "  </thead>\n",
       "  <tbody>\n",
       "    <tr>\n",
       "      <th rowspan=\"2\" valign=\"top\"></th>\n",
       "      <th></th>\n",
       "      <td>[0]</td>\n",
       "    </tr>\n",
       "    <tr>\n",
       "      <th>8</th>\n",
       "      <td>[0]</td>\n",
       "    </tr>\n",
       "    <tr>\n",
       "      <th rowspan=\"8\" valign=\"top\">1</th>\n",
       "      <th></th>\n",
       "      <td>[1]</td>\n",
       "    </tr>\n",
       "    <tr>\n",
       "      <th>1</th>\n",
       "      <td>[1]</td>\n",
       "    </tr>\n",
       "    <tr>\n",
       "      <th>2</th>\n",
       "      <td>[1]</td>\n",
       "    </tr>\n",
       "    <tr>\n",
       "      <th>3</th>\n",
       "      <td>[1]</td>\n",
       "    </tr>\n",
       "    <tr>\n",
       "      <th>4</th>\n",
       "      <td>[1]</td>\n",
       "    </tr>\n",
       "    <tr>\n",
       "      <th>5</th>\n",
       "      <td>[2]</td>\n",
       "    </tr>\n",
       "    <tr>\n",
       "      <th>6</th>\n",
       "      <td>[1]</td>\n",
       "    </tr>\n",
       "    <tr>\n",
       "      <th>8</th>\n",
       "      <td>[1]</td>\n",
       "    </tr>\n",
       "    <tr>\n",
       "      <th rowspan=\"8\" valign=\"top\">2</th>\n",
       "      <th></th>\n",
       "      <td>[0]</td>\n",
       "    </tr>\n",
       "    <tr>\n",
       "      <th>1</th>\n",
       "      <td>[0]</td>\n",
       "    </tr>\n",
       "    <tr>\n",
       "      <th>2</th>\n",
       "      <td>[0]</td>\n",
       "    </tr>\n",
       "    <tr>\n",
       "      <th>3</th>\n",
       "      <td>[0]</td>\n",
       "    </tr>\n",
       "    <tr>\n",
       "      <th>4</th>\n",
       "      <td>[0]</td>\n",
       "    </tr>\n",
       "    <tr>\n",
       "      <th>5</th>\n",
       "      <td>[1]</td>\n",
       "    </tr>\n",
       "    <tr>\n",
       "      <th>6</th>\n",
       "      <td>[0]</td>\n",
       "    </tr>\n",
       "    <tr>\n",
       "      <th>8</th>\n",
       "      <td>[0]</td>\n",
       "    </tr>\n",
       "  </tbody>\n",
       "</table>\n",
       "</div>"
      ],
      "text/plain": [
       "                n_master\n",
       "                  unique\n",
       "EST2_MA EST2_TI         \n",
       "                     [0]\n",
       "        8            [0]\n",
       "1                    [1]\n",
       "        1            [1]\n",
       "        2            [1]\n",
       "        3            [1]\n",
       "        4            [1]\n",
       "        5            [2]\n",
       "        6            [1]\n",
       "        8            [1]\n",
       "2                    [0]\n",
       "        1            [0]\n",
       "        2            [0]\n",
       "        3            [0]\n",
       "        4            [0]\n",
       "        5            [1]\n",
       "        6            [0]\n",
       "        8            [0]"
      ]
     },
     "execution_count": 153,
     "metadata": {},
     "output_type": "execute_result"
    }
   ],
   "source": [
    "# Se actualiza el valor de 'n_master': se imputa 'n_master'=2 a quienes decaran haber estudiado uno en una ...\n",
    "# ... universidad española y otro en el extranjero: \n",
    "df['n_master'].mask(df['varios_master']==1,2,inplace=True)\n",
    "df[['n_master','EST2_MA','EST2_TI']].groupby(['EST2_MA','EST2_TI']).agg(['unique']) # Comprobación: "
   ]
  },
  {
   "cell_type": "markdown",
   "metadata": {},
   "source": [
    "## 'EST2_MS' (redefinida como 'rama_m1')\n",
    "\n",
    "**Rama de conocimiento del título de máster**"
   ]
  },
  {
   "cell_type": "code",
   "execution_count": 154,
   "metadata": {},
   "outputs": [
    {
     "data": {
      "text/plain": [
       "array(['5', '8', '3', '4', '1', ' ', '2'], dtype=object)"
      ]
     },
     "execution_count": 154,
     "metadata": {},
     "output_type": "execute_result"
    }
   ],
   "source": [
    "df['EST2_MS'].unique() "
   ]
  },
  {
   "cell_type": "code",
   "execution_count": 155,
   "metadata": {},
   "outputs": [
    {
     "name": "stdout",
     "output_type": "stream",
     "text": [
      "                             aux_traduce\n",
      "                                  unique\n",
      "EST2_MS                                 \n",
      "                                 [NS/NC]\n",
      "1                             [Ciencias]\n",
      "2                 [Ciencias de la salud]\n",
      "3        [Ciencias sociales y jurídicas]\n",
      "4                  [Artes y humanidades]\n",
      "5            [Ingeniería y arquitectura]\n",
      "8                         [No aplicable]\n"
     ]
    }
   ],
   "source": [
    "traduce_upper('EST2_MS')"
   ]
  },
  {
   "cell_type": "code",
   "execution_count": 156,
   "metadata": {},
   "outputs": [
    {
     "data": {
      "text/html": [
       "<div>\n",
       "<style scoped>\n",
       "    .dataframe tbody tr th:only-of-type {\n",
       "        vertical-align: middle;\n",
       "    }\n",
       "\n",
       "    .dataframe tbody tr th {\n",
       "        vertical-align: top;\n",
       "    }\n",
       "\n",
       "    .dataframe thead tr th {\n",
       "        text-align: left;\n",
       "    }\n",
       "\n",
       "    .dataframe thead tr:last-of-type th {\n",
       "        text-align: right;\n",
       "    }\n",
       "</style>\n",
       "<table border=\"1\" class=\"dataframe\">\n",
       "  <thead>\n",
       "    <tr>\n",
       "      <th></th>\n",
       "      <th>EST2_MS</th>\n",
       "    </tr>\n",
       "    <tr>\n",
       "      <th></th>\n",
       "      <th>unique</th>\n",
       "    </tr>\n",
       "    <tr>\n",
       "      <th>EST2_MA</th>\n",
       "      <th></th>\n",
       "    </tr>\n",
       "  </thead>\n",
       "  <tbody>\n",
       "    <tr>\n",
       "      <th></th>\n",
       "      <td>[ ]</td>\n",
       "    </tr>\n",
       "    <tr>\n",
       "      <th>1</th>\n",
       "      <td>[5, 3, 4, 1,  , 2]</td>\n",
       "    </tr>\n",
       "    <tr>\n",
       "      <th>2</th>\n",
       "      <td>[8]</td>\n",
       "    </tr>\n",
       "  </tbody>\n",
       "</table>\n",
       "</div>"
      ],
      "text/plain": [
       "                    EST2_MS\n",
       "                     unique\n",
       "EST2_MA                    \n",
       "                        [ ]\n",
       "1        [5, 3, 4, 1,  , 2]\n",
       "2                       [8]"
      ]
     },
     "execution_count": 156,
     "metadata": {},
     "output_type": "execute_result"
    }
   ],
   "source": [
    "# Inspección: solo está informado para quienes declaran haber estudiado un título de máster en España (no en ...\n",
    "# el extranjero):\n",
    "df[['EST2_MA','EST2_MS']].groupby('EST2_MA').agg(['unique'])"
   ]
  },
  {
   "cell_type": "code",
   "execution_count": 157,
   "metadata": {},
   "outputs": [
    {
     "name": "stdout",
     "output_type": "stream",
     "text": [
      "                             aux_traduce\n",
      "                                  unique\n",
      "EST2_MS                                 \n",
      "1.0                           [Ciencias]\n",
      "2.0               [Ciencias de la salud]\n",
      "3.0      [Ciencias sociales y jurídicas]\n",
      "4.0                [Artes y humanidades]\n",
      "5.0          [Ingeniería y arquitectura]\n"
     ]
    }
   ],
   "source": [
    "no_respuesta('EST2_MS',blank='8',nsnc=' ')"
   ]
  },
  {
   "cell_type": "code",
   "execution_count": 158,
   "metadata": {},
   "outputs": [
    {
     "name": "stdout",
     "output_type": "stream",
     "text": [
      "                             aux_traduce\n",
      "                                  unique\n",
      "rama_m1                                 \n",
      "1.0                [Artes y humanidades]\n",
      "2.0                           [Ciencias]\n",
      "3.0      [Ciencias sociales y jurídicas]\n",
      "4.0          [Ingeniería y arquitectura]\n",
      "5.0               [Ciencias de la salud]\n"
     ]
    }
   ],
   "source": [
    "redefine('EST2_MS','rama_m1')"
   ]
  },
  {
   "cell_type": "code",
   "execution_count": 159,
   "metadata": {},
   "outputs": [
    {
     "name": "stdout",
     "output_type": "stream",
     "text": [
      "                             aux_traduce\n",
      "                                  unique\n",
      "rama_m1                                 \n",
      "0.0            [No tiene o no informada]\n",
      "1.0                [Artes y humanidades]\n",
      "2.0                           [Ciencias]\n",
      "3.0      [Ciencias sociales y jurídicas]\n",
      "4.0          [Ingeniería y arquitectura]\n",
      "5.0               [Ciencias de la salud]\n"
     ]
    }
   ],
   "source": [
    "# Se imputa valor 0 ('No tiene o no informado') a los valores no informados: \n",
    "df['rama_m1'].mask(df['rama_m1'].isna(),0,inplace=True)\n",
    "df['rama_m1_']=traduce_lower('rama_m1')"
   ]
  },
  {
   "cell_type": "code",
   "execution_count": 160,
   "metadata": {},
   "outputs": [],
   "source": [
    "actualiza_ramas('rama_m1')"
   ]
  },
  {
   "cell_type": "markdown",
   "metadata": {},
   "source": [
    "## 'EST2_SA'     (redefinida como 'mir')  \n",
    "\n",
    "¿Ha realizado o está realizando alguna **formación sanitaria especializada** (MIR, EIR, FIR, PIR, BIR, RFIR, QIR, etc.)?"
   ]
  },
  {
   "cell_type": "code",
   "execution_count": 161,
   "metadata": {},
   "outputs": [
    {
     "data": {
      "text/plain": [
       "array(['8', '4', ' ', '1', '2', '3', 8, 2, 4, 1], dtype=object)"
      ]
     },
     "execution_count": 161,
     "metadata": {},
     "output_type": "execute_result"
    }
   ],
   "source": [
    "df['EST2_SA'].unique() "
   ]
  },
  {
   "cell_type": "code",
   "execution_count": 162,
   "metadata": {},
   "outputs": [
    {
     "name": "stdout",
     "output_type": "stream",
     "text": [
      "                                               aux_traduce\n",
      "                                                    unique\n",
      "EST2_SA                                                   \n",
      "1                     [Sí, ya ha completado esa formación]\n",
      "2        [Sí, esta realizando el MIR o EIR o FIR o PIR, …]\n",
      "4                                                     [No]\n",
      "8                 [No aplicable (Titulación no sanitaria)]\n",
      "                                                   [NS/NC]\n",
      "1                     [Sí, ya ha completado esa formación]\n",
      "2        [Sí, esta realizando el MIR o EIR o FIR o PIR, …]\n",
      "3           [No, pero está preparando el examen de acceso]\n",
      "4                                                     [No]\n",
      "8                 [No aplicable (Titulación no sanitaria)]\n"
     ]
    }
   ],
   "source": [
    "traduce_upper('EST2_SA')"
   ]
  },
  {
   "cell_type": "markdown",
   "metadata": {},
   "source": [
    "## Nueva variable: 'mir'\n",
    "\n",
    "¿Ha **completado** alguna **formación sanitaria especializada** (MIR, EIR, FIR, PIR, BIR, RFIR, QIR, etc.)?\n",
    "\n",
    "Nota 1: para predecir la ocupación profesional del encuestado solo es relevante la formación especializada completada.  \n",
    "\n",
    "Nota 2: esta variable no está informada en el resto de encuestas: los sanitarios de la encuesta 2019 que tengan formación sanitaria figurarán como no 'mir' (no hay información para discriminar si la tienen o no). Por ello, es posible que la variable 'mir' introduzca más ruido que capacidad explicativa. Debe valorarse si incluirla en los modelos predictivos."
   ]
  },
  {
   "cell_type": "code",
   "execution_count": 163,
   "metadata": {},
   "outputs": [
    {
     "data": {
      "text/html": [
       "<div>\n",
       "<style scoped>\n",
       "    .dataframe tbody tr th:only-of-type {\n",
       "        vertical-align: middle;\n",
       "    }\n",
       "\n",
       "    .dataframe tbody tr th {\n",
       "        vertical-align: top;\n",
       "    }\n",
       "\n",
       "    .dataframe thead tr th {\n",
       "        text-align: left;\n",
       "    }\n",
       "\n",
       "    .dataframe thead tr:last-of-type th {\n",
       "        text-align: right;\n",
       "    }\n",
       "</style>\n",
       "<table border=\"1\" class=\"dataframe\">\n",
       "  <thead>\n",
       "    <tr>\n",
       "      <th></th>\n",
       "      <th>mir_</th>\n",
       "    </tr>\n",
       "    <tr>\n",
       "      <th></th>\n",
       "      <th>unique</th>\n",
       "    </tr>\n",
       "    <tr>\n",
       "      <th>EST2_SA</th>\n",
       "      <th></th>\n",
       "    </tr>\n",
       "  </thead>\n",
       "  <tbody>\n",
       "    <tr>\n",
       "      <th>1</th>\n",
       "      <td>[Sí]</td>\n",
       "    </tr>\n",
       "    <tr>\n",
       "      <th>2</th>\n",
       "      <td>[No]</td>\n",
       "    </tr>\n",
       "    <tr>\n",
       "      <th>4</th>\n",
       "      <td>[No]</td>\n",
       "    </tr>\n",
       "    <tr>\n",
       "      <th>8</th>\n",
       "      <td>[No]</td>\n",
       "    </tr>\n",
       "    <tr>\n",
       "      <th></th>\n",
       "      <td>[No]</td>\n",
       "    </tr>\n",
       "    <tr>\n",
       "      <th>1</th>\n",
       "      <td>[Sí]</td>\n",
       "    </tr>\n",
       "    <tr>\n",
       "      <th>2</th>\n",
       "      <td>[No]</td>\n",
       "    </tr>\n",
       "    <tr>\n",
       "      <th>3</th>\n",
       "      <td>[No]</td>\n",
       "    </tr>\n",
       "    <tr>\n",
       "      <th>4</th>\n",
       "      <td>[No]</td>\n",
       "    </tr>\n",
       "    <tr>\n",
       "      <th>8</th>\n",
       "      <td>[No]</td>\n",
       "    </tr>\n",
       "  </tbody>\n",
       "</table>\n",
       "</div>"
      ],
      "text/plain": [
       "          mir_\n",
       "        unique\n",
       "EST2_SA       \n",
       "1         [Sí]\n",
       "2         [No]\n",
       "4         [No]\n",
       "8         [No]\n",
       "          [No]\n",
       "1         [Sí]\n",
       "2         [No]\n",
       "3         [No]\n",
       "4         [No]\n",
       "8         [No]"
      ]
     },
     "execution_count": 163,
     "metadata": {},
     "output_type": "execute_result"
    }
   ],
   "source": [
    "df['mir']=0\n",
    "df['mir'].mask(df['EST2_SA'].isin([1,'1']),1,inplace=True)\n",
    "df['mir_']=df['mir'].replace({0:'No',1:'Sí'})\n",
    "df[['mir_','EST2_SA']].groupby('EST2_SA').agg(['unique']) # Comprobación: "
   ]
  },
  {
   "cell_type": "markdown",
   "metadata": {},
   "source": [
    "## 'EST3' (redefinida como 'g_medio')\n",
    "¿Ha completado algún **ciclo formativo de grado medio** (formación profesional, artes plásticas y diseño) o **enseñanzas deportivas de grado medio**?    "
   ]
  },
  {
   "cell_type": "code",
   "execution_count": 164,
   "metadata": {},
   "outputs": [
    {
     "data": {
      "text/plain": [
       "array(['2', '1', ' '], dtype=object)"
      ]
     },
     "execution_count": 164,
     "metadata": {},
     "output_type": "execute_result"
    }
   ],
   "source": [
    "df['EST3'].unique()"
   ]
  },
  {
   "cell_type": "code",
   "execution_count": 165,
   "metadata": {},
   "outputs": [
    {
     "name": "stdout",
     "output_type": "stream",
     "text": [
      "     aux_traduce\n",
      "          unique\n",
      "EST3            \n",
      "         [NS/NC]\n",
      "1           [Sí]\n",
      "2           [No]\n"
     ]
    }
   ],
   "source": [
    "traduce_upper('EST3')"
   ]
  },
  {
   "cell_type": "code",
   "execution_count": 166,
   "metadata": {},
   "outputs": [
    {
     "name": "stdout",
     "output_type": "stream",
     "text": [
      "     aux_traduce\n",
      "          unique\n",
      "EST3            \n",
      "1.0         [Sí]\n",
      "2.0         [No]\n"
     ]
    }
   ],
   "source": [
    "no_respuesta('EST3', nsnc=' ')"
   ]
  },
  {
   "cell_type": "code",
   "execution_count": 167,
   "metadata": {},
   "outputs": [
    {
     "name": "stdout",
     "output_type": "stream",
     "text": [
      "        aux_traduce\n",
      "             unique\n",
      "g_medio            \n",
      "0.0            [No]\n",
      "1.0            [Sí]\n"
     ]
    }
   ],
   "source": [
    "redefine('EST3','g_medio',si_no=True)"
   ]
  },
  {
   "cell_type": "markdown",
   "metadata": {},
   "source": [
    "## 'IDI_MT1'   (redefinida como 'idioma_m1')\n",
    "\n",
    "**Primer idioma materno**.\n",
    "\n",
    "Nota: La **codificación numérica de los idiomas sigue un criterio distinto** del empleado en las encuestas de 2019. Por un lado, los códigos numéricos de una y otras encuestas no se corresponden. Por otro lado, en esta encuesta los idiomas cooficiales están agregados en una única categoría.  \n",
    "\n",
    "Para homogeneizar la estructura, se añade a los datasets de 2019 una variable 'lengua_cooficial' que agrega la información asociada al gallego, catalán, euskera y valenciano. "
   ]
  },
  {
   "cell_type": "code",
   "execution_count": 168,
   "metadata": {},
   "outputs": [
    {
     "data": {
      "text/plain": [
       "array(['  ', '01', '02', '03', '04', '05', '06', '07', '08', '09', '10',\n",
       "       '11'], dtype=object)"
      ]
     },
     "execution_count": 168,
     "metadata": {},
     "output_type": "execute_result"
    }
   ],
   "source": [
    "df['IDI_MT1'].sort_values().unique() # No informados como '  '"
   ]
  },
  {
   "cell_type": "code",
   "execution_count": 169,
   "metadata": {},
   "outputs": [
    {
     "name": "stdout",
     "output_type": "stream",
     "text": [
      "                                                         aux_traduce\n",
      "                                                              unique\n",
      "IDI_MT1                                                             \n",
      "                                                             [NS/NC]\n",
      "01                                                         [Español]\n",
      "02       [Idioma cooficial (gallego, catalán, euskera o valenciano)]\n",
      "03                                                          [Inglés]\n",
      "04                                                         [Francés]\n",
      "05                                                          [Alemán]\n",
      "06                                                        [Italiano]\n",
      "07                                                       [Portugués]\n",
      "08                                                            [Ruso]\n",
      "09                                                           [Árabe]\n",
      "10                                                           [Chino]\n",
      "11                                                   [Otros idiomas]\n"
     ]
    }
   ],
   "source": [
    "traduce_upper('IDI_MT1')"
   ]
  },
  {
   "cell_type": "code",
   "execution_count": 170,
   "metadata": {},
   "outputs": [
    {
     "data": {
      "text/plain": [
       "[(1, 'Español'),\n",
       " (2, 'Catalán'),\n",
       " (3, 'Euskera'),\n",
       " (4, 'Gallego'),\n",
       " (5, 'Valenciano'),\n",
       " (6, 'Inglés'),\n",
       " (7, 'Francés'),\n",
       " (8, 'Alemán'),\n",
       " (9, 'Italiano'),\n",
       " (10, 'Portugués'),\n",
       " (11, 'Rumano'),\n",
       " (12, 'Árabe'),\n",
       " (13, 'Chino'),\n",
       " (14, 'Ruso'),\n",
       " (15, 'Otros idiomas'),\n",
       " (16, 'lengua_cooficial'),\n",
       " (99, 'NS/NC')]"
      ]
     },
     "execution_count": 170,
     "metadata": {},
     "output_type": "execute_result"
    }
   ],
   "source": [
    "# Códigos de codificación para idiomas en los datasets de 2019:\n",
    "sorted([(k,v) for (k,v) in d_dict['idioma_m1'].items() if type(k)==int])"
   ]
  },
  {
   "cell_type": "code",
   "execution_count": 171,
   "metadata": {},
   "outputs": [],
   "source": [
    "# Diccionario auxiliar para mapear los códigos de 2014 en los de 2019\n",
    "# Categoría añadida en codificación 2019: 16 para 'lengua_cooficial'\n",
    "D_actualiza_idioma={'01':1,'02':16,'03':6,'04':7,'05':8,'06':9,'07':10,'08':14,'09':12,'10':13,'11':15,'  ':None,\\\n",
    "                    '88':None}"
   ]
  },
  {
   "cell_type": "code",
   "execution_count": 172,
   "metadata": {},
   "outputs": [
    {
     "name": "stdout",
     "output_type": "stream",
     "text": [
      "                  aux_traduce\n",
      "                       unique\n",
      "idioma_m1                    \n",
      "1.0                 [Español]\n",
      "6.0                  [Inglés]\n",
      "7.0                 [Francés]\n",
      "8.0                  [Alemán]\n",
      "9.0                [Italiano]\n",
      "10.0              [Portugués]\n",
      "12.0                  [Árabe]\n",
      "13.0                  [Chino]\n",
      "14.0                   [Ruso]\n",
      "15.0          [Otros idiomas]\n",
      "16.0       [lengua_cooficial]\n"
     ]
    }
   ],
   "source": [
    "df['idioma_m1']=df['IDI_MT1'].replace(D_actualiza_idioma)\n",
    "df['idioma_m1_']=traduce_lower('idioma_m1')"
   ]
  },
  {
   "cell_type": "markdown",
   "metadata": {},
   "source": [
    "## 'IDI_MT2'   (redefinida como 'idioma_m2')\n",
    "\n",
    "**Segundo idioma materno**."
   ]
  },
  {
   "cell_type": "code",
   "execution_count": 173,
   "metadata": {},
   "outputs": [
    {
     "data": {
      "text/plain": [
       "array(['  ', '01', '02', '03', '04', '05', '06', '07', '08', '09', '10',\n",
       "       '11', '88'], dtype=object)"
      ]
     },
     "execution_count": 173,
     "metadata": {},
     "output_type": "execute_result"
    }
   ],
   "source": [
    "df['IDI_MT2'].sort_values().unique() # No informados como '88'  o '  ''"
   ]
  },
  {
   "cell_type": "code",
   "execution_count": 174,
   "metadata": {},
   "outputs": [
    {
     "name": "stdout",
     "output_type": "stream",
     "text": [
      "                                                         aux_traduce\n",
      "                                                              unique\n",
      "IDI_MT2                                                             \n",
      "                                                             [NS/NC]\n",
      "01                                                         [Español]\n",
      "02       [Idioma cooficial (gallego, catalán, euskera o valenciano)]\n",
      "03                                                          [Inglés]\n",
      "04                                                         [Francés]\n",
      "05                                                          [Alemán]\n",
      "06                                                        [Italiano]\n",
      "07                                                       [Portugués]\n",
      "08                                                            [Ruso]\n",
      "09                                                           [Árabe]\n",
      "10                                                           [Chino]\n",
      "11                                                   [Otros idiomas]\n",
      "88                                                    [No aplicable]\n"
     ]
    }
   ],
   "source": [
    "traduce_upper('IDI_MT2')"
   ]
  },
  {
   "cell_type": "code",
   "execution_count": 175,
   "metadata": {},
   "outputs": [
    {
     "name": "stdout",
     "output_type": "stream",
     "text": [
      "                  aux_traduce\n",
      "                       unique\n",
      "idioma_m1                    \n",
      "1.0                 [Español]\n",
      "6.0                  [Inglés]\n",
      "7.0                 [Francés]\n",
      "8.0                  [Alemán]\n",
      "9.0                [Italiano]\n",
      "10.0              [Portugués]\n",
      "12.0                  [Árabe]\n",
      "13.0                  [Chino]\n",
      "14.0                   [Ruso]\n",
      "15.0          [Otros idiomas]\n",
      "16.0       [lengua_cooficial]\n"
     ]
    }
   ],
   "source": [
    "df['idioma_m2']=df['IDI_MT2'].replace(D_actualiza_idioma)\n",
    "df['idioma_m2_']=traduce_lower('idioma_m1')"
   ]
  },
  {
   "cell_type": "markdown",
   "metadata": {},
   "source": [
    "## 'IDIOMAS'   (redefinida como 'n_idiomas')\n",
    "\n",
    "**Número de idiomas** que habla sin contar los maternos.\n",
    "\n",
    "Nota 1: En 'n_idiomas' se computan también los maternos declarados.  \n",
    "  \n",
    "Nota 2: En las encuestas de 2019, 'IDIOMAS'=5 indica '5 idiomas no maternos o más'. Por homogeneidad, se **trunca** la información facilitada en este dataset con el mismo criterio. "
   ]
  },
  {
   "cell_type": "code",
   "execution_count": 176,
   "metadata": {},
   "outputs": [
    {
     "data": {
      "text/plain": [
       "array(['2', '1', '3', '4', '0', ' ', '5', '6', '7'], dtype=object)"
      ]
     },
     "execution_count": 176,
     "metadata": {},
     "output_type": "execute_result"
    }
   ],
   "source": [
    "df['IDIOMAS'].unique() # No informados como ' '"
   ]
  },
  {
   "cell_type": "code",
   "execution_count": 177,
   "metadata": {},
   "outputs": [
    {
     "data": {
      "text/html": [
       "<div>\n",
       "<style scoped>\n",
       "    .dataframe tbody tr th:only-of-type {\n",
       "        vertical-align: middle;\n",
       "    }\n",
       "\n",
       "    .dataframe tbody tr th {\n",
       "        vertical-align: top;\n",
       "    }\n",
       "\n",
       "    .dataframe thead tr th {\n",
       "        text-align: left;\n",
       "    }\n",
       "\n",
       "    .dataframe thead tr:last-of-type th {\n",
       "        text-align: right;\n",
       "    }\n",
       "</style>\n",
       "<table border=\"1\" class=\"dataframe\">\n",
       "  <thead>\n",
       "    <tr>\n",
       "      <th></th>\n",
       "      <th></th>\n",
       "      <th>aux</th>\n",
       "    </tr>\n",
       "    <tr>\n",
       "      <th></th>\n",
       "      <th></th>\n",
       "      <th>unique</th>\n",
       "    </tr>\n",
       "    <tr>\n",
       "      <th>idioma_m1</th>\n",
       "      <th>idioma_m2</th>\n",
       "      <th></th>\n",
       "    </tr>\n",
       "  </thead>\n",
       "  <tbody>\n",
       "    <tr>\n",
       "      <th rowspan=\"11\" valign=\"top\">1.0</th>\n",
       "      <th>6.0</th>\n",
       "      <td>[2]</td>\n",
       "    </tr>\n",
       "    <tr>\n",
       "      <th>7.0</th>\n",
       "      <td>[2]</td>\n",
       "    </tr>\n",
       "    <tr>\n",
       "      <th>8.0</th>\n",
       "      <td>[2]</td>\n",
       "    </tr>\n",
       "    <tr>\n",
       "      <th>9.0</th>\n",
       "      <td>[2]</td>\n",
       "    </tr>\n",
       "    <tr>\n",
       "      <th>10.0</th>\n",
       "      <td>[2]</td>\n",
       "    </tr>\n",
       "    <tr>\n",
       "      <th>12.0</th>\n",
       "      <td>[2]</td>\n",
       "    </tr>\n",
       "    <tr>\n",
       "      <th>13.0</th>\n",
       "      <td>[2]</td>\n",
       "    </tr>\n",
       "    <tr>\n",
       "      <th>14.0</th>\n",
       "      <td>[2]</td>\n",
       "    </tr>\n",
       "    <tr>\n",
       "      <th>15.0</th>\n",
       "      <td>[2]</td>\n",
       "    </tr>\n",
       "    <tr>\n",
       "      <th>16.0</th>\n",
       "      <td>[2]</td>\n",
       "    </tr>\n",
       "    <tr>\n",
       "      <th>NaN</th>\n",
       "      <td>[1]</td>\n",
       "    </tr>\n",
       "    <tr>\n",
       "      <th rowspan=\"4\" valign=\"top\">6.0</th>\n",
       "      <th>1.0</th>\n",
       "      <td>[2]</td>\n",
       "    </tr>\n",
       "    <tr>\n",
       "      <th>7.0</th>\n",
       "      <td>[2]</td>\n",
       "    </tr>\n",
       "    <tr>\n",
       "      <th>16.0</th>\n",
       "      <td>[2]</td>\n",
       "    </tr>\n",
       "    <tr>\n",
       "      <th>NaN</th>\n",
       "      <td>[1]</td>\n",
       "    </tr>\n",
       "    <tr>\n",
       "      <th rowspan=\"6\" valign=\"top\">7.0</th>\n",
       "      <th>1.0</th>\n",
       "      <td>[2]</td>\n",
       "    </tr>\n",
       "    <tr>\n",
       "      <th>6.0</th>\n",
       "      <td>[2]</td>\n",
       "    </tr>\n",
       "    <tr>\n",
       "      <th>10.0</th>\n",
       "      <td>[2]</td>\n",
       "    </tr>\n",
       "    <tr>\n",
       "      <th>15.0</th>\n",
       "      <td>[2]</td>\n",
       "    </tr>\n",
       "    <tr>\n",
       "      <th>16.0</th>\n",
       "      <td>[2]</td>\n",
       "    </tr>\n",
       "    <tr>\n",
       "      <th>NaN</th>\n",
       "      <td>[1]</td>\n",
       "    </tr>\n",
       "    <tr>\n",
       "      <th rowspan=\"4\" valign=\"top\">8.0</th>\n",
       "      <th>1.0</th>\n",
       "      <td>[2]</td>\n",
       "    </tr>\n",
       "    <tr>\n",
       "      <th>15.0</th>\n",
       "      <td>[2]</td>\n",
       "    </tr>\n",
       "    <tr>\n",
       "      <th>16.0</th>\n",
       "      <td>[2]</td>\n",
       "    </tr>\n",
       "    <tr>\n",
       "      <th>NaN</th>\n",
       "      <td>[1]</td>\n",
       "    </tr>\n",
       "    <tr>\n",
       "      <th rowspan=\"3\" valign=\"top\">9.0</th>\n",
       "      <th>1.0</th>\n",
       "      <td>[2]</td>\n",
       "    </tr>\n",
       "    <tr>\n",
       "      <th>16.0</th>\n",
       "      <td>[2]</td>\n",
       "    </tr>\n",
       "    <tr>\n",
       "      <th>NaN</th>\n",
       "      <td>[1]</td>\n",
       "    </tr>\n",
       "    <tr>\n",
       "      <th rowspan=\"4\" valign=\"top\">10.0</th>\n",
       "      <th>1.0</th>\n",
       "      <td>[2]</td>\n",
       "    </tr>\n",
       "    <tr>\n",
       "      <th>6.0</th>\n",
       "      <td>[2]</td>\n",
       "    </tr>\n",
       "    <tr>\n",
       "      <th>16.0</th>\n",
       "      <td>[2]</td>\n",
       "    </tr>\n",
       "    <tr>\n",
       "      <th>NaN</th>\n",
       "      <td>[1]</td>\n",
       "    </tr>\n",
       "    <tr>\n",
       "      <th rowspan=\"4\" valign=\"top\">12.0</th>\n",
       "      <th>1.0</th>\n",
       "      <td>[2]</td>\n",
       "    </tr>\n",
       "    <tr>\n",
       "      <th>7.0</th>\n",
       "      <td>[2]</td>\n",
       "    </tr>\n",
       "    <tr>\n",
       "      <th>15.0</th>\n",
       "      <td>[2]</td>\n",
       "    </tr>\n",
       "    <tr>\n",
       "      <th>NaN</th>\n",
       "      <td>[1]</td>\n",
       "    </tr>\n",
       "    <tr>\n",
       "      <th rowspan=\"2\" valign=\"top\">13.0</th>\n",
       "      <th>15.0</th>\n",
       "      <td>[2]</td>\n",
       "    </tr>\n",
       "    <tr>\n",
       "      <th>NaN</th>\n",
       "      <td>[1]</td>\n",
       "    </tr>\n",
       "    <tr>\n",
       "      <th rowspan=\"3\" valign=\"top\">14.0</th>\n",
       "      <th>1.0</th>\n",
       "      <td>[2]</td>\n",
       "    </tr>\n",
       "    <tr>\n",
       "      <th>15.0</th>\n",
       "      <td>[2]</td>\n",
       "    </tr>\n",
       "    <tr>\n",
       "      <th>NaN</th>\n",
       "      <td>[1]</td>\n",
       "    </tr>\n",
       "    <tr>\n",
       "      <th rowspan=\"7\" valign=\"top\">15.0</th>\n",
       "      <th>1.0</th>\n",
       "      <td>[2]</td>\n",
       "    </tr>\n",
       "    <tr>\n",
       "      <th>6.0</th>\n",
       "      <td>[2]</td>\n",
       "    </tr>\n",
       "    <tr>\n",
       "      <th>7.0</th>\n",
       "      <td>[2]</td>\n",
       "    </tr>\n",
       "    <tr>\n",
       "      <th>12.0</th>\n",
       "      <td>[2]</td>\n",
       "    </tr>\n",
       "    <tr>\n",
       "      <th>14.0</th>\n",
       "      <td>[2]</td>\n",
       "    </tr>\n",
       "    <tr>\n",
       "      <th>16.0</th>\n",
       "      <td>[2]</td>\n",
       "    </tr>\n",
       "    <tr>\n",
       "      <th>NaN</th>\n",
       "      <td>[1]</td>\n",
       "    </tr>\n",
       "    <tr>\n",
       "      <th rowspan=\"8\" valign=\"top\">16.0</th>\n",
       "      <th>1.0</th>\n",
       "      <td>[2]</td>\n",
       "    </tr>\n",
       "    <tr>\n",
       "      <th>6.0</th>\n",
       "      <td>[2]</td>\n",
       "    </tr>\n",
       "    <tr>\n",
       "      <th>7.0</th>\n",
       "      <td>[2]</td>\n",
       "    </tr>\n",
       "    <tr>\n",
       "      <th>8.0</th>\n",
       "      <td>[2]</td>\n",
       "    </tr>\n",
       "    <tr>\n",
       "      <th>10.0</th>\n",
       "      <td>[2]</td>\n",
       "    </tr>\n",
       "    <tr>\n",
       "      <th>15.0</th>\n",
       "      <td>[2]</td>\n",
       "    </tr>\n",
       "    <tr>\n",
       "      <th>16.0</th>\n",
       "      <td>[2]</td>\n",
       "    </tr>\n",
       "    <tr>\n",
       "      <th>NaN</th>\n",
       "      <td>[1]</td>\n",
       "    </tr>\n",
       "    <tr>\n",
       "      <th>NaN</th>\n",
       "      <th>NaN</th>\n",
       "      <td>[0]</td>\n",
       "    </tr>\n",
       "  </tbody>\n",
       "</table>\n",
       "</div>"
      ],
      "text/plain": [
       "                       aux\n",
       "                    unique\n",
       "idioma_m1 idioma_m2       \n",
       "1.0       6.0          [2]\n",
       "          7.0          [2]\n",
       "          8.0          [2]\n",
       "          9.0          [2]\n",
       "          10.0         [2]\n",
       "          12.0         [2]\n",
       "          13.0         [2]\n",
       "          14.0         [2]\n",
       "          15.0         [2]\n",
       "          16.0         [2]\n",
       "          NaN          [1]\n",
       "6.0       1.0          [2]\n",
       "          7.0          [2]\n",
       "          16.0         [2]\n",
       "          NaN          [1]\n",
       "7.0       1.0          [2]\n",
       "          6.0          [2]\n",
       "          10.0         [2]\n",
       "          15.0         [2]\n",
       "          16.0         [2]\n",
       "          NaN          [1]\n",
       "8.0       1.0          [2]\n",
       "          15.0         [2]\n",
       "          16.0         [2]\n",
       "          NaN          [1]\n",
       "9.0       1.0          [2]\n",
       "          16.0         [2]\n",
       "          NaN          [1]\n",
       "10.0      1.0          [2]\n",
       "          6.0          [2]\n",
       "          16.0         [2]\n",
       "          NaN          [1]\n",
       "12.0      1.0          [2]\n",
       "          7.0          [2]\n",
       "          15.0         [2]\n",
       "          NaN          [1]\n",
       "13.0      15.0         [2]\n",
       "          NaN          [1]\n",
       "14.0      1.0          [2]\n",
       "          15.0         [2]\n",
       "          NaN          [1]\n",
       "15.0      1.0          [2]\n",
       "          6.0          [2]\n",
       "          7.0          [2]\n",
       "          12.0         [2]\n",
       "          14.0         [2]\n",
       "          16.0         [2]\n",
       "          NaN          [1]\n",
       "16.0      1.0          [2]\n",
       "          6.0          [2]\n",
       "          7.0          [2]\n",
       "          8.0          [2]\n",
       "          10.0         [2]\n",
       "          15.0         [2]\n",
       "          16.0         [2]\n",
       "          NaN          [1]\n",
       "NaN       NaN          [0]"
      ]
     },
     "execution_count": 177,
     "metadata": {},
     "output_type": "execute_result"
    }
   ],
   "source": [
    "#D_describe['n_idiomas']='Número de idiomas que habla incluidos los maternos'\n",
    "# Se computan los idiomas maternos (al menos uno) y los no maternos declarados: \n",
    "df['aux']=0 # Hay valores no informados en 'idioma_m1'\n",
    "# Al menos un idioma materno declarado: \n",
    "df['aux'].mask(df['idioma_m1'].notna() | df['idioma_m2'].notna(),1,inplace=True)\n",
    "# Con dos idiomas maternos: \n",
    "df['aux'].mask(df['idioma_m1'].notna() & df['idioma_m2'].notna(),2,inplace=True)\n",
    "# Comprobación:\n",
    "df[['aux','idioma_m1','idioma_m2']].groupby(['idioma_m1','idioma_m2'], dropna=False).agg(['unique']) \n",
    "# Algunos encuestados no declaran ningún idioma materno (!)"
   ]
  },
  {
   "cell_type": "code",
   "execution_count": 178,
   "metadata": {},
   "outputs": [
    {
     "data": {
      "text/html": [
       "<div>\n",
       "<style scoped>\n",
       "    .dataframe tbody tr th:only-of-type {\n",
       "        vertical-align: middle;\n",
       "    }\n",
       "\n",
       "    .dataframe tbody tr th {\n",
       "        vertical-align: top;\n",
       "    }\n",
       "\n",
       "    .dataframe thead tr th {\n",
       "        text-align: left;\n",
       "    }\n",
       "\n",
       "    .dataframe thead tr:last-of-type th {\n",
       "        text-align: right;\n",
       "    }\n",
       "</style>\n",
       "<table border=\"1\" class=\"dataframe\">\n",
       "  <thead>\n",
       "    <tr>\n",
       "      <th></th>\n",
       "      <th>idiomas_extr_aux</th>\n",
       "    </tr>\n",
       "    <tr>\n",
       "      <th></th>\n",
       "      <th>unique</th>\n",
       "    </tr>\n",
       "    <tr>\n",
       "      <th>IDIOMAS</th>\n",
       "      <th></th>\n",
       "    </tr>\n",
       "  </thead>\n",
       "  <tbody>\n",
       "    <tr>\n",
       "      <th>0.0</th>\n",
       "      <td>[0.0]</td>\n",
       "    </tr>\n",
       "    <tr>\n",
       "      <th>1.0</th>\n",
       "      <td>[1.0]</td>\n",
       "    </tr>\n",
       "    <tr>\n",
       "      <th>2.0</th>\n",
       "      <td>[2.0]</td>\n",
       "    </tr>\n",
       "    <tr>\n",
       "      <th>3.0</th>\n",
       "      <td>[3.0]</td>\n",
       "    </tr>\n",
       "    <tr>\n",
       "      <th>4.0</th>\n",
       "      <td>[4.0]</td>\n",
       "    </tr>\n",
       "    <tr>\n",
       "      <th>5.0</th>\n",
       "      <td>[5.0]</td>\n",
       "    </tr>\n",
       "    <tr>\n",
       "      <th>6.0</th>\n",
       "      <td>[5.0]</td>\n",
       "    </tr>\n",
       "    <tr>\n",
       "      <th>7.0</th>\n",
       "      <td>[5.0]</td>\n",
       "    </tr>\n",
       "    <tr>\n",
       "      <th>NaN</th>\n",
       "      <td>[0.0]</td>\n",
       "    </tr>\n",
       "  </tbody>\n",
       "</table>\n",
       "</div>"
      ],
      "text/plain": [
       "        idiomas_extr_aux\n",
       "                  unique\n",
       "IDIOMAS                 \n",
       "0.0                [0.0]\n",
       "1.0                [1.0]\n",
       "2.0                [2.0]\n",
       "3.0                [3.0]\n",
       "4.0                [4.0]\n",
       "5.0                [5.0]\n",
       "6.0                [5.0]\n",
       "7.0                [5.0]\n",
       "NaN                [0.0]"
      ]
     },
     "execution_count": 178,
     "metadata": {},
     "output_type": "execute_result"
    }
   ],
   "source": [
    "# Se imputa None a los no informados en 'IDIOMAS' y se establece tipo 'float'\n",
    "no_respuesta('IDIOMAS',nsnc=' ')\n",
    "# Se imputan 0 idiomas extranjeros a los encuestados con 'IDIOMAS' no informado:\n",
    "df['idiomas_extr_aux']=df['IDIOMAS'].where(df['IDIOMAS'].notna(),0)\n",
    "# Se trunca el número de idiomas extranjeros a partir de 5 (homogeneidad con encuestas 2019):\n",
    "df['idiomas_extr_aux'].mask(df['idiomas_extr_aux']>=5,5,inplace=True)\n",
    "df[['idiomas_extr_aux','IDIOMAS']].groupby('IDIOMAS',dropna=False).agg(['unique']) # Comprobación"
   ]
  },
  {
   "cell_type": "code",
   "execution_count": 179,
   "metadata": {},
   "outputs": [
    {
     "data": {
      "text/html": [
       "<div>\n",
       "<style scoped>\n",
       "    .dataframe tbody tr th:only-of-type {\n",
       "        vertical-align: middle;\n",
       "    }\n",
       "\n",
       "    .dataframe tbody tr th {\n",
       "        vertical-align: top;\n",
       "    }\n",
       "\n",
       "    .dataframe thead tr th {\n",
       "        text-align: left;\n",
       "    }\n",
       "\n",
       "    .dataframe thead tr:last-of-type th {\n",
       "        text-align: right;\n",
       "    }\n",
       "</style>\n",
       "<table border=\"1\" class=\"dataframe\">\n",
       "  <thead>\n",
       "    <tr>\n",
       "      <th></th>\n",
       "      <th>n_idiomas</th>\n",
       "    </tr>\n",
       "    <tr>\n",
       "      <th></th>\n",
       "      <th>unique</th>\n",
       "    </tr>\n",
       "    <tr>\n",
       "      <th>IDIOMAS</th>\n",
       "      <th></th>\n",
       "    </tr>\n",
       "  </thead>\n",
       "  <tbody>\n",
       "    <tr>\n",
       "      <th>0.0</th>\n",
       "      <td>[1.0, 2.0]</td>\n",
       "    </tr>\n",
       "    <tr>\n",
       "      <th>1.0</th>\n",
       "      <td>[3.0, 2.0]</td>\n",
       "    </tr>\n",
       "    <tr>\n",
       "      <th>2.0</th>\n",
       "      <td>[3.0, 4.0]</td>\n",
       "    </tr>\n",
       "    <tr>\n",
       "      <th>3.0</th>\n",
       "      <td>[5.0, 4.0]</td>\n",
       "    </tr>\n",
       "    <tr>\n",
       "      <th>4.0</th>\n",
       "      <td>[5.0, 6.0]</td>\n",
       "    </tr>\n",
       "    <tr>\n",
       "      <th>5.0</th>\n",
       "      <td>[6.0, 7.0]</td>\n",
       "    </tr>\n",
       "    <tr>\n",
       "      <th>6.0</th>\n",
       "      <td>[6.0, 7.0]</td>\n",
       "    </tr>\n",
       "    <tr>\n",
       "      <th>7.0</th>\n",
       "      <td>[6.0, 7.0]</td>\n",
       "    </tr>\n",
       "    <tr>\n",
       "      <th>NaN</th>\n",
       "      <td>[2.0, 0.0, 1.0]</td>\n",
       "    </tr>\n",
       "  </tbody>\n",
       "</table>\n",
       "</div>"
      ],
      "text/plain": [
       "               n_idiomas\n",
       "                  unique\n",
       "IDIOMAS                 \n",
       "0.0           [1.0, 2.0]\n",
       "1.0           [3.0, 2.0]\n",
       "2.0           [3.0, 4.0]\n",
       "3.0           [5.0, 4.0]\n",
       "4.0           [5.0, 6.0]\n",
       "5.0           [6.0, 7.0]\n",
       "6.0           [6.0, 7.0]\n",
       "7.0           [6.0, 7.0]\n",
       "NaN      [2.0, 0.0, 1.0]"
      ]
     },
     "execution_count": 179,
     "metadata": {},
     "output_type": "execute_result"
    }
   ],
   "source": [
    "# Se suman número de idiomas maternos y no maternos: \n",
    "df['n_idiomas']=df['aux']+df['idiomas_extr_aux'] \n",
    "del df['aux'], df['idiomas_extr_aux']\n",
    "df[['IDIOMAS','n_idiomas']].groupby('IDIOMAS',dropna=False).agg(['unique']) # Comprobación"
   ]
  },
  {
   "cell_type": "markdown",
   "metadata": {},
   "source": [
    "## 'IDIOMA1'  (redefinida como 'idioma1')\n",
    "\n",
    "**Primer idioma distinto de su lengua materna** que mejor conoce."
   ]
  },
  {
   "cell_type": "code",
   "execution_count": 180,
   "metadata": {},
   "outputs": [
    {
     "data": {
      "text/plain": [
       "array(['  ', '01', '02', '03', '04', '05', '06', '07', '08', '09', '10',\n",
       "       '11', '88'], dtype=object)"
      ]
     },
     "execution_count": 180,
     "metadata": {},
     "output_type": "execute_result"
    }
   ],
   "source": [
    "df['IDIOMA1'].sort_values().unique() # No informados como '88' o '  '"
   ]
  },
  {
   "cell_type": "code",
   "execution_count": 181,
   "metadata": {},
   "outputs": [
    {
     "name": "stdout",
     "output_type": "stream",
     "text": [
      "                                                         aux_traduce\n",
      "                                                              unique\n",
      "IDIOMA1                                                             \n",
      "                                                             [NS/NC]\n",
      "01                                                         [Español]\n",
      "02       [Idioma cooficial (gallego, catalán, euskera o valenciano)]\n",
      "03                                                          [Inglés]\n",
      "04                                                         [Francés]\n",
      "05                                                          [Alemán]\n",
      "06                                                        [Italiano]\n",
      "07                                                       [Portugués]\n",
      "08                                                            [Ruso]\n",
      "09                                                           [Árabe]\n",
      "10                                                           [Chino]\n",
      "11                                                   [Otros idiomas]\n",
      "88                                                    [No aplicable]\n"
     ]
    }
   ],
   "source": [
    "traduce_upper('IDIOMA1')"
   ]
  },
  {
   "cell_type": "code",
   "execution_count": 182,
   "metadata": {},
   "outputs": [],
   "source": [
    "# Funcion re_idiomas redefinida para este dataset: \n",
    "def re_idiomas(col,tipo,nuevo=None,check=False):\n",
    "    \"\"\"Procesa las variables referidas a los idiomas no maternos y el nivel de conocimiento de estos. \n",
    "    \"\"\"\n",
    "    if tipo=='idioma': \n",
    "        nuevo=str(col).lower()\n",
    "        df[nuevo]=df[col].replace(D_actualiza_idioma)\n",
    "        df[str(nuevo)+'_']=df[nuevo].astype('O').replace(d_dict['idioma1'])\n",
    "    if tipo=='nivel':\n",
    "        no_respuesta(col,nsnc=' ',blank='8')\n",
    "        df[nuevo]=df[col]\n",
    "        df[str(nuevo)+'_']=df[nuevo].astype('O').replace(d_dict['idioma1_nivel'])\n",
    "    # Comprobación:\n",
    "    if check==True:\n",
    "        df[str(col)+'_']=df[col].astype('O').replace(D_dict[col])\n",
    "        print (df[[str(col)+'_',str(nuevo)+'_']].groupby(str(col)+'_').agg(['unique']))\n",
    "        del df[str(col)+'_']\n",
    "    return"
   ]
  },
  {
   "cell_type": "code",
   "execution_count": 183,
   "metadata": {},
   "outputs": [
    {
     "name": "stdout",
     "output_type": "stream",
     "text": [
      "                                                                     idioma1_\n",
      "                                                                       unique\n",
      "IDIOMA1_                                                                     \n",
      "Alemán                                                               [Alemán]\n",
      "Chino                                                                 [Chino]\n",
      "Español                                                             [Español]\n",
      "Francés                                                             [Francés]\n",
      "Idioma cooficial (gallego, catalán, euskera o valenciano)  [lengua_cooficial]\n",
      "Inglés                                                               [Inglés]\n",
      "Italiano                                                           [Italiano]\n",
      "NS/NC                                                                   [nan]\n",
      "No aplicable                                                            [nan]\n",
      "Otros idiomas                                                 [Otros idiomas]\n",
      "Portugués                                                         [Portugués]\n",
      "Ruso                                                                   [Ruso]\n",
      "Árabe                                                                 [Árabe]\n"
     ]
    }
   ],
   "source": [
    "re_idiomas('IDIOMA1',tipo='idioma',check=True)"
   ]
  },
  {
   "cell_type": "markdown",
   "metadata": {},
   "source": [
    "## 'NIV_ID1'  (redefinida como 'idioma1_nivel')\n",
    "\n",
    "**Nivel de conocimiento del primer idioma no materno** que mejor conoce."
   ]
  },
  {
   "cell_type": "code",
   "execution_count": 184,
   "metadata": {},
   "outputs": [
    {
     "data": {
      "text/plain": [
       "array(['1', '2', '3', '8', ' '], dtype=object)"
      ]
     },
     "execution_count": 184,
     "metadata": {},
     "output_type": "execute_result"
    }
   ],
   "source": [
    "df['NIV_ID1'].unique() # No informados como '8' o ' '"
   ]
  },
  {
   "cell_type": "code",
   "execution_count": 185,
   "metadata": {},
   "outputs": [
    {
     "name": "stdout",
     "output_type": "stream",
     "text": [
      "                                                                                              aux_traduce\n",
      "                                                                                                   unique\n",
      "NIV_ID1                                                                                                  \n",
      "                                                                                                      [ ]\n",
      "1        [Nivel alto (Entiende una gran variedad de textos complicados y usa el idioma con flexibilidad)]\n",
      "2                    [Nivel medio (Entiende lo esencial en el lenguaje común y redacta textos sencillos)]\n",
      "3                                              [Nivel bajo (Entiende y usa las expresiones más comunes )]\n",
      "8                                                                                          [No aplicable]\n"
     ]
    }
   ],
   "source": [
    "traduce_upper('NIV_ID1')"
   ]
  },
  {
   "cell_type": "code",
   "execution_count": 186,
   "metadata": {},
   "outputs": [
    {
     "name": "stdout",
     "output_type": "stream",
     "text": [
      "                                                                                              aux_traduce\n",
      "                                                                                                   unique\n",
      "NIV_ID1                                                                                                  \n",
      "1.0      [Nivel alto (Entiende una gran variedad de textos complicados y usa el idioma con flexibilidad)]\n",
      "2.0                  [Nivel medio (Entiende lo esencial en el lenguaje común y redacta textos sencillos)]\n",
      "3.0                                            [Nivel bajo (Entiende y usa las expresiones más comunes )]\n",
      "                                                                                                                                                                                  idioma1_nivel_\n",
      "                                                                                                                                                                                          unique\n",
      "NIV_ID1_                                                                                                                                                                                        \n",
      "Nivel alto (Entiende una gran variedad de textos complicados y usa el idioma con flexibilidad)  [Nivel alto (Entiende una gran variedad de textos complicados y usa el idioma con flexibilidad)]\n",
      "Nivel bajo (Entiende y usa las expresiones más comunes )                                                                              [Nivel bajo (Entiende y usa las expresiones más comunes )]\n",
      "Nivel medio (Entiende lo esencial en el lenguaje común y redacta textos sencillos)                          [Nivel medio (Entiende lo esencial en el lenguaje común y redacta textos sencillos)]\n"
     ]
    }
   ],
   "source": [
    "re_idiomas('NIV_ID1',tipo='nivel',nuevo='idioma1_nivel',check=True)"
   ]
  },
  {
   "cell_type": "markdown",
   "metadata": {},
   "source": [
    "## 'IDIOMA2'  (redefinida como 'idioma2')\n",
    "\n",
    "**Segundo idioma distinto de su lengua materna** que mejor conoce."
   ]
  },
  {
   "cell_type": "code",
   "execution_count": 187,
   "metadata": {},
   "outputs": [
    {
     "data": {
      "text/plain": [
       "array(['  ', '01', '02', '03', '04', '05', '06', '07', '08', '09', '10',\n",
       "       '11', '88'], dtype=object)"
      ]
     },
     "execution_count": 187,
     "metadata": {},
     "output_type": "execute_result"
    }
   ],
   "source": [
    "df['IDIOMA2'].sort_values().unique() # No informados como '88' o '  '"
   ]
  },
  {
   "cell_type": "code",
   "execution_count": 188,
   "metadata": {},
   "outputs": [],
   "source": [
    "re_idiomas('IDIOMA2',tipo='idioma')"
   ]
  },
  {
   "cell_type": "markdown",
   "metadata": {},
   "source": [
    "## 'NIV_ID2'  (redefinida como 'idioma2_nivel')\n",
    "\n",
    "**Nivel de conocimiento del segundo idioma no materno** que mejor conoce."
   ]
  },
  {
   "cell_type": "code",
   "execution_count": 189,
   "metadata": {},
   "outputs": [
    {
     "data": {
      "text/plain": [
       "array(['2', '8', '3', '1', ' '], dtype=object)"
      ]
     },
     "execution_count": 189,
     "metadata": {},
     "output_type": "execute_result"
    }
   ],
   "source": [
    "df['NIV_ID2'].unique() # No informados como '8' o ' '"
   ]
  },
  {
   "cell_type": "code",
   "execution_count": 190,
   "metadata": {},
   "outputs": [
    {
     "name": "stdout",
     "output_type": "stream",
     "text": [
      "                                                                                              aux_traduce\n",
      "                                                                                                   unique\n",
      "NIV_ID2                                                                                                  \n",
      "1.0      [Nivel alto (Entiende una gran variedad de textos complicados y usa el idioma con flexibilidad)]\n",
      "2.0                  [Nivel medio (Entiende lo esencial en el lenguaje común y redacta textos sencillos)]\n",
      "3.0                                            [Nivel bajo (Entiende y usa las expresiones más comunes )]\n"
     ]
    }
   ],
   "source": [
    "re_idiomas('NIV_ID2',tipo='nivel',nuevo='idioma2_nivel')"
   ]
  },
  {
   "cell_type": "markdown",
   "metadata": {},
   "source": [
    "### 'IDIOMA3'  (redefinida como 'idioma3')\n",
    "\n",
    "**Tercer idioma distinto de su lengua materna** que mejor conoce."
   ]
  },
  {
   "cell_type": "code",
   "execution_count": 191,
   "metadata": {},
   "outputs": [
    {
     "data": {
      "text/plain": [
       "array(['  ', '01', '02', '03', '04', '05', '06', '07', '08', '09', '10',\n",
       "       '11', '88'], dtype=object)"
      ]
     },
     "execution_count": 191,
     "metadata": {},
     "output_type": "execute_result"
    }
   ],
   "source": [
    "df['IDIOMA3'].sort_values().unique() # No informados como '88' o '  '"
   ]
  },
  {
   "cell_type": "code",
   "execution_count": 192,
   "metadata": {},
   "outputs": [],
   "source": [
    "re_idiomas('IDIOMA3',tipo='idioma')"
   ]
  },
  {
   "cell_type": "markdown",
   "metadata": {},
   "source": [
    "## 'NIV_ID3'  (redefinida como 'idioma3_nivel')\n",
    "\n",
    "**Nivel de conocimiento del tercer idioma no materno** que mejor conoce."
   ]
  },
  {
   "cell_type": "code",
   "execution_count": 193,
   "metadata": {},
   "outputs": [
    {
     "data": {
      "text/plain": [
       "array(['8', '1', '3', '2', ' '], dtype=object)"
      ]
     },
     "execution_count": 193,
     "metadata": {},
     "output_type": "execute_result"
    }
   ],
   "source": [
    "df['NIV_ID3'].unique() # No informados como '8' o ' '"
   ]
  },
  {
   "cell_type": "code",
   "execution_count": 194,
   "metadata": {},
   "outputs": [
    {
     "name": "stdout",
     "output_type": "stream",
     "text": [
      "                                                                                              aux_traduce\n",
      "                                                                                                   unique\n",
      "NIV_ID3                                                                                                  \n",
      "1.0      [Nivel alto (Entiende una gran variedad de textos complicados y usa el idioma con flexibilidad)]\n",
      "2.0                  [Nivel medio (Entiende lo esencial en el lenguaje común y redacta textos sencillos)]\n",
      "3.0                                            [Nivel bajo (Entiende y usa las expresiones más comunes )]\n"
     ]
    }
   ],
   "source": [
    "re_idiomas('NIV_ID3',tipo='nivel',nuevo='idioma3_nivel')"
   ]
  },
  {
   "cell_type": "markdown",
   "metadata": {},
   "source": [
    "## 'IDIOMA4'  (redefinida como 'idioma4')\n",
    "\n",
    "**Cuarto idioma distinto de su lengua materna** que mejor conoce."
   ]
  },
  {
   "cell_type": "code",
   "execution_count": 195,
   "metadata": {},
   "outputs": [
    {
     "data": {
      "text/plain": [
       "array(['  ', '01', '02', '03', '04', '05', '06', '07', '08', '09', '10',\n",
       "       '11', '88'], dtype=object)"
      ]
     },
     "execution_count": 195,
     "metadata": {},
     "output_type": "execute_result"
    }
   ],
   "source": [
    "df['IDIOMA4'].sort_values().unique() # No informados como '88' o '  '"
   ]
  },
  {
   "cell_type": "code",
   "execution_count": 196,
   "metadata": {},
   "outputs": [],
   "source": [
    "re_idiomas('IDIOMA4',tipo='idioma')"
   ]
  },
  {
   "cell_type": "markdown",
   "metadata": {},
   "source": [
    "## 'NIV_ID4'  (redefinida como 'idioma4_nivel')\n",
    "\n",
    "**Nivel de conocimiento del cuarto idioma no materno** que mejor conoce."
   ]
  },
  {
   "cell_type": "code",
   "execution_count": 197,
   "metadata": {},
   "outputs": [
    {
     "data": {
      "text/plain": [
       "array(['8', '2', '3', ' ', '1'], dtype=object)"
      ]
     },
     "execution_count": 197,
     "metadata": {},
     "output_type": "execute_result"
    }
   ],
   "source": [
    "df['NIV_ID4'].unique() # No informados como '8' o ' '"
   ]
  },
  {
   "cell_type": "code",
   "execution_count": 198,
   "metadata": {},
   "outputs": [
    {
     "name": "stdout",
     "output_type": "stream",
     "text": [
      "                                                                                              aux_traduce\n",
      "                                                                                                   unique\n",
      "NIV_ID4                                                                                                  \n",
      "1.0      [Nivel alto (Entiende una gran variedad de textos complicados y usa el idioma con flexibilidad)]\n",
      "2.0                  [Nivel medio (Entiende lo esencial en el lenguaje común y redacta textos sencillos)]\n",
      "3.0                                            [Nivel bajo (Entiende y usa las expresiones más comunes )]\n"
     ]
    }
   ],
   "source": [
    "re_idiomas('NIV_ID4',tipo='nivel',nuevo='idioma4_nivel')"
   ]
  },
  {
   "cell_type": "markdown",
   "metadata": {},
   "source": [
    "## 'IDIOMA5'  (redefinida como 'idioma5')\n",
    "\n",
    "**Quinto idioma distinto de su lengua materna** que mejor conoce.\n",
    "\n",
    "Nota: no informado en encuestas de 2019"
   ]
  },
  {
   "cell_type": "code",
   "execution_count": 199,
   "metadata": {},
   "outputs": [
    {
     "data": {
      "text/plain": [
       "array(['  ', '02', '04', '05', '06', '07', '08', '09', '10', '11', '88'],\n",
       "      dtype=object)"
      ]
     },
     "execution_count": 199,
     "metadata": {},
     "output_type": "execute_result"
    }
   ],
   "source": [
    "df['IDIOMA5'].sort_values().unique() # No informados como '88' o '  '"
   ]
  },
  {
   "cell_type": "code",
   "execution_count": 200,
   "metadata": {},
   "outputs": [],
   "source": [
    "re_idiomas('IDIOMA5',tipo='idioma')"
   ]
  },
  {
   "cell_type": "markdown",
   "metadata": {},
   "source": [
    "## 'NIV_ID5'  (redefinida como 'idioma5_nivel')\n",
    "\n",
    "**Nivel de conocimiento del quinto idioma no materno** que mejor conoce.\n",
    "\n",
    "Nota: no informado en encuestas de 2019"
   ]
  },
  {
   "cell_type": "code",
   "execution_count": 201,
   "metadata": {},
   "outputs": [
    {
     "data": {
      "text/plain": [
       "array(['8', ' ', '3', '1', '2'], dtype=object)"
      ]
     },
     "execution_count": 201,
     "metadata": {},
     "output_type": "execute_result"
    }
   ],
   "source": [
    "df['NIV_ID5'].unique() # No informados como '8' o ' '"
   ]
  },
  {
   "cell_type": "code",
   "execution_count": 202,
   "metadata": {},
   "outputs": [
    {
     "name": "stdout",
     "output_type": "stream",
     "text": [
      "                                                                                              aux_traduce\n",
      "                                                                                                   unique\n",
      "NIV_ID5                                                                                                  \n",
      "1.0      [Nivel alto (Entiende una gran variedad de textos complicados y usa el idioma con flexibilidad)]\n",
      "2.0                  [Nivel medio (Entiende lo esencial en el lenguaje común y redacta textos sencillos)]\n",
      "3.0                                            [Nivel bajo (Entiende y usa las expresiones más comunes )]\n"
     ]
    }
   ],
   "source": [
    "re_idiomas('NIV_ID5',tipo='nivel',nuevo='idioma5_nivel')"
   ]
  },
  {
   "cell_type": "markdown",
   "metadata": {},
   "source": [
    "## 'IDIOMA6'  (redefinida como 'idioma6')\n",
    "\n",
    "**Sexto idioma distinto de su lengua materna** que mejor conoce.\n",
    "\n",
    "Nota: no informado en encuestas de 2019"
   ]
  },
  {
   "cell_type": "code",
   "execution_count": 203,
   "metadata": {},
   "outputs": [
    {
     "data": {
      "text/plain": [
       "array(['  ', '02', '04', '05', '06', '07', '08', '09', '10', '11', '88'],\n",
       "      dtype=object)"
      ]
     },
     "execution_count": 203,
     "metadata": {},
     "output_type": "execute_result"
    }
   ],
   "source": [
    "df['IDIOMA6'].sort_values().unique() # No informados como '88' o '  '"
   ]
  },
  {
   "cell_type": "code",
   "execution_count": 204,
   "metadata": {},
   "outputs": [],
   "source": [
    "re_idiomas('IDIOMA6',tipo='idioma')"
   ]
  },
  {
   "cell_type": "markdown",
   "metadata": {},
   "source": [
    "## 'NIV_ID6'  (redefinida como 'idioma6_nivel')\n",
    "\n",
    "**Nivel de conocimiento del sexto idioma no materno** que mejor conoce.\n",
    "\n",
    "Nota: no informado en encuestas de 2019"
   ]
  },
  {
   "cell_type": "code",
   "execution_count": 205,
   "metadata": {},
   "outputs": [
    {
     "data": {
      "text/plain": [
       "array(['8', ' ', '1', '3', '2'], dtype=object)"
      ]
     },
     "execution_count": 205,
     "metadata": {},
     "output_type": "execute_result"
    }
   ],
   "source": [
    "df['NIV_ID6'].unique() # No informados como '8' o ' '"
   ]
  },
  {
   "cell_type": "code",
   "execution_count": 206,
   "metadata": {},
   "outputs": [
    {
     "name": "stdout",
     "output_type": "stream",
     "text": [
      "                                                                                              aux_traduce\n",
      "                                                                                                   unique\n",
      "NIV_ID6                                                                                                  \n",
      "1.0      [Nivel alto (Entiende una gran variedad de textos complicados y usa el idioma con flexibilidad)]\n",
      "2.0                  [Nivel medio (Entiende lo esencial en el lenguaje común y redacta textos sencillos)]\n",
      "3.0                                            [Nivel bajo (Entiende y usa las expresiones más comunes )]\n"
     ]
    }
   ],
   "source": [
    "re_idiomas('NIV_ID6',tipo='nivel',nuevo='idioma6_nivel')"
   ]
  },
  {
   "cell_type": "markdown",
   "metadata": {},
   "source": [
    "## 'IDIOMA7'  (redefinida como 'idioma7')\n",
    "\n",
    "**Séptimo idioma distinto de su lengua materna** que mejor conoce.\n",
    "\n",
    "Nota: no informado en encuestas de 2019"
   ]
  },
  {
   "cell_type": "code",
   "execution_count": 207,
   "metadata": {},
   "outputs": [
    {
     "data": {
      "text/plain": [
       "array(['  ', '02', '06', '08', '09', '10', '11', '88'], dtype=object)"
      ]
     },
     "execution_count": 207,
     "metadata": {},
     "output_type": "execute_result"
    }
   ],
   "source": [
    "df['IDIOMA7'].sort_values().unique() # No informados como '88' o '  '"
   ]
  },
  {
   "cell_type": "code",
   "execution_count": 208,
   "metadata": {},
   "outputs": [],
   "source": [
    "re_idiomas('IDIOMA7',tipo='idioma')"
   ]
  },
  {
   "cell_type": "markdown",
   "metadata": {},
   "source": [
    "## 'NIV_ID7'  (redefinida como 'idioma7_nivel')\n",
    "\n",
    "**Nivel de conocimiento del séptimo idioma no materno** que mejor conoce.\n",
    "\n",
    "Nota: no informado en encuestas de 2019"
   ]
  },
  {
   "cell_type": "code",
   "execution_count": 209,
   "metadata": {},
   "outputs": [
    {
     "data": {
      "text/plain": [
       "array(['8', ' ', '3', '2', '1'], dtype=object)"
      ]
     },
     "execution_count": 209,
     "metadata": {},
     "output_type": "execute_result"
    }
   ],
   "source": [
    "df['NIV_ID7'].unique() # No informados como '8' o ' '"
   ]
  },
  {
   "cell_type": "code",
   "execution_count": 210,
   "metadata": {},
   "outputs": [
    {
     "name": "stdout",
     "output_type": "stream",
     "text": [
      "                                                                                              aux_traduce\n",
      "                                                                                                   unique\n",
      "NIV_ID7                                                                                                  \n",
      "1.0      [Nivel alto (Entiende una gran variedad de textos complicados y usa el idioma con flexibilidad)]\n",
      "2.0                  [Nivel medio (Entiende lo esencial en el lenguaje común y redacta textos sencillos)]\n",
      "3.0                                            [Nivel bajo (Entiende y usa las expresiones más comunes )]\n"
     ]
    }
   ],
   "source": [
    "re_idiomas('NIV_ID7',tipo='nivel',nuevo='idioma7_nivel')"
   ]
  },
  {
   "cell_type": "markdown",
   "metadata": {},
   "source": [
    "## 'TITIDI1'  \n",
    "\n",
    "Tiene título de la **Escuela Oficial de Idiomas**. "
   ]
  },
  {
   "cell_type": "code",
   "execution_count": 211,
   "metadata": {},
   "outputs": [
    {
     "data": {
      "text/plain": [
       "array(['1', '2', ' '], dtype=object)"
      ]
     },
     "execution_count": 211,
     "metadata": {},
     "output_type": "execute_result"
    }
   ],
   "source": [
    "df['TITIDI1'].unique() # No informados como ' ' "
   ]
  },
  {
   "cell_type": "code",
   "execution_count": 212,
   "metadata": {},
   "outputs": [
    {
     "name": "stdout",
     "output_type": "stream",
     "text": [
      "        aux_traduce\n",
      "             unique\n",
      "TITIDI1            \n",
      "            [NS/NC]\n",
      "1              [Sí]\n",
      "2              [No]\n"
     ]
    }
   ],
   "source": [
    "traduce_upper('TITIDI1')"
   ]
  },
  {
   "cell_type": "markdown",
   "metadata": {},
   "source": [
    "## 'TITIDI2'  \n",
    "\n",
    "¿Tiene **título en lengua extranjera reconocido oficialmente**?\n",
    "\n",
    "Nota: esta información aparece desagregada para cada idioma en las encuestas de 2019. La que se proporciona en esta encuesta no permite inferir en qué idioma tiene el encuestado título oficial. Por tanto, no es posible informar las variables 'idiomai_acred' en este dataset. "
   ]
  },
  {
   "cell_type": "code",
   "execution_count": 213,
   "metadata": {},
   "outputs": [
    {
     "data": {
      "text/plain": [
       "array(['2', '1', ' '], dtype=object)"
      ]
     },
     "execution_count": 213,
     "metadata": {},
     "output_type": "execute_result"
    }
   ],
   "source": [
    "df['TITIDI2'].unique() # No informados como ' ' "
   ]
  },
  {
   "cell_type": "code",
   "execution_count": 214,
   "metadata": {},
   "outputs": [
    {
     "name": "stdout",
     "output_type": "stream",
     "text": [
      "        aux_traduce\n",
      "             unique\n",
      "TITIDI2            \n",
      "            [NS/NC]\n",
      "1              [Sí]\n",
      "2              [No]\n"
     ]
    }
   ],
   "source": [
    "traduce_upper('TITIDI2')"
   ]
  },
  {
   "cell_type": "markdown",
   "metadata": {},
   "source": [
    "## 'TIC'  (redefinida como 'ti')\n",
    "\n",
    "Capacidad para usar el ordenador u otros **dispositivos informáticos**.\n",
    "\n",
    "Nota: la codificación numérica de esta variable sigue el mismo criterio que en las encuestas de 2019. No obstante, se ha modificado las denominaciones de dos niveles: \n",
    "- El nivel avanzado en 2014 se denomina intermedio en 2019 (mismas competencias).\n",
    "- El nivel experto en 2014 se denomina avanzado en 2019 (mismas competencias).  \n",
    "\n",
    "Se modifican las denominaciones de esta encuesta y de adoptan las de las encuestas de 2019."
   ]
  },
  {
   "cell_type": "code",
   "execution_count": 215,
   "metadata": {},
   "outputs": [
    {
     "data": {
      "text/plain": [
       "array(['2', '3', '1', ' '], dtype=object)"
      ]
     },
     "execution_count": 215,
     "metadata": {},
     "output_type": "execute_result"
    }
   ],
   "source": [
    "df['TIC'].unique() # No informados como ' '"
   ]
  },
  {
   "cell_type": "code",
   "execution_count": 216,
   "metadata": {},
   "outputs": [
    {
     "name": "stdout",
     "output_type": "stream",
     "text": [
      "                                                                                                                                                                                                         aux_traduce\n",
      "                                                                                                                                                                                                              unique\n",
      "TIC                                                                                                                                                                                                                 \n",
      "                                                                                                                                                                                                             [NS/NC]\n",
      "1    [Usuario de nivel básico (navegar por internet, enviar correos electronicos, copiar o mover archivos o carpetas, escribir un texto usando un procesador de textos, usar fórmulas simples en hojas de cálculo) ]\n",
      "2                                     [Usuario de nivel avanzado (dar formato a textos, usar fórmulas más avanzadas y crear gráficos en hojas de cálculo, instalar dispositivos y/o programas, usar bases de datos)]\n",
      "3                                                                           [Usuario experto (escribir macros, programar, resolver problemas de software y hardware cuando el ordenador no funciona adecuadamente) ]\n"
     ]
    }
   ],
   "source": [
    "traduce_upper('TIC')"
   ]
  },
  {
   "cell_type": "code",
   "execution_count": 217,
   "metadata": {},
   "outputs": [
    {
     "data": {
      "text/plain": [
       "[(1, 'Usuario de nivel básico '),\n",
       " (2, 'Usuario de nivel intermedio '),\n",
       " (3, 'Usuario de nivel avanzado '),\n",
       " (9, 'NS/NC')]"
      ]
     },
     "execution_count": 217,
     "metadata": {},
     "output_type": "execute_result"
    }
   ],
   "source": [
    "# Diccionario para 'tic' en encuestas 2019:\n",
    "[(k,v) for (k,v) in d_dict['ti'].items() if type(k)==int]"
   ]
  },
  {
   "cell_type": "code",
   "execution_count": 218,
   "metadata": {},
   "outputs": [
    {
     "name": "stdout",
     "output_type": "stream",
     "text": [
      "                                                                                                                                                                                                         aux_traduce\n",
      "                                                                                                                                                                                                              unique\n",
      "TIC                                                                                                                                                                                                                 \n",
      "                                                                                                                                                                                                             [NS/NC]\n",
      "1    [Usuario de nivel básico (navegar por internet, enviar correos electronicos, copiar o mover archivos o carpetas, escribir un texto usando un procesador de textos, usar fórmulas simples en hojas de cálculo) ]\n",
      "2                                     [Usuario de nivel avanzado (dar formato a textos, usar fórmulas más avanzadas y crear gráficos en hojas de cálculo, instalar dispositivos y/o programas, usar bases de datos)]\n",
      "3                                                                           [Usuario experto (escribir macros, programar, resolver problemas de software y hardware cuando el ordenador no funciona adecuadamente) ]\n"
     ]
    }
   ],
   "source": [
    "no_respuesta('TIC',tipo='int')"
   ]
  },
  {
   "cell_type": "code",
   "execution_count": 219,
   "metadata": {},
   "outputs": [
    {
     "name": "stdout",
     "output_type": "stream",
     "text": [
      "                       aux_traduce\n",
      "                            unique\n",
      "ti                                \n",
      "                               [ ]\n",
      "1       [Usuario de nivel básico ]\n",
      "2   [Usuario de nivel intermedio ]\n",
      "3     [Usuario de nivel avanzado ]\n"
     ]
    }
   ],
   "source": [
    "df['ti']=df['TIC']\n",
    "df['ti_']=traduce_lower('ti')"
   ]
  },
  {
   "cell_type": "markdown",
   "metadata": {},
   "source": [
    "# BLOQUE D. SITUACIÓN ACTUAL DEL TITULADO DE MÁSTER"
   ]
  },
  {
   "cell_type": "markdown",
   "metadata": {},
   "source": [
    "## 'TRBPRN1'  (redefinida como 'sit_lab')\n",
    "\n",
    "**Situación laboral** actual."
   ]
  },
  {
   "cell_type": "code",
   "execution_count": 220,
   "metadata": {},
   "outputs": [
    {
     "data": {
      "text/plain": [
       "array([1, 2, 3])"
      ]
     },
     "execution_count": 220,
     "metadata": {},
     "output_type": "execute_result"
    }
   ],
   "source": [
    "df['TRBPRN1'].unique() # Sin valores no informados"
   ]
  },
  {
   "cell_type": "code",
   "execution_count": 221,
   "metadata": {},
   "outputs": [
    {
     "name": "stdout",
     "output_type": "stream",
     "text": [
      "            aux_traduce\n",
      "                 unique\n",
      "TRBPRN1                \n",
      "1          [Trabajando]\n",
      "2        [En desempleo]\n",
      "3            [Inactivo]\n"
     ]
    }
   ],
   "source": [
    "traduce_upper('TRBPRN1')"
   ]
  },
  {
   "cell_type": "code",
   "execution_count": 222,
   "metadata": {},
   "outputs": [
    {
     "data": {
      "text/plain": [
       "[(1, 'Trabajando'), (2, 'En desempleo'), (3, 'Inactivo')]"
      ]
     },
     "execution_count": 222,
     "metadata": {},
     "output_type": "execute_result"
    }
   ],
   "source": [
    "# Diccionario para 'sit_lab' en encuestas 2019:\n",
    "[(k,v) for (k,v) in d_dict['sit_lab'].items() if type(k)==int] # Mismo criterio de codificación"
   ]
  },
  {
   "cell_type": "code",
   "execution_count": 223,
   "metadata": {},
   "outputs": [
    {
     "name": "stdout",
     "output_type": "stream",
     "text": [
      "            aux_traduce\n",
      "                 unique\n",
      "sit_lab                \n",
      "1          [Trabajando]\n",
      "2        [En desempleo]\n",
      "3            [Inactivo]\n"
     ]
    }
   ],
   "source": [
    "redefine('TRBPRN1','sit_lab')"
   ]
  },
  {
   "cell_type": "markdown",
   "metadata": {},
   "source": [
    "## 'TRBPRN2'  (redefinida como 'sit_lab_detalle')\n",
    "\n",
    "(Solo para quienes declaran **situación de inactividad** -respuesta 3 en 'TRBPRN1' (o 'sit_lab')-)\n",
    "\n",
    "Tipo de **situación de inactividad**.  \n",
    "\n",
    "Nota: 'sit_lab_detalle se define para todas las situaciones laborales. Se añadirá el detalle disponible para ocupados y para desempleados."
   ]
  },
  {
   "cell_type": "code",
   "execution_count": 224,
   "metadata": {},
   "outputs": [
    {
     "data": {
      "text/plain": [
       "array(['8', '5', '1', ' ', '4', '2', '3'], dtype=object)"
      ]
     },
     "execution_count": 224,
     "metadata": {},
     "output_type": "execute_result"
    }
   ],
   "source": [
    "df['TRBPRN2'].unique() # No informados como '8' o ''"
   ]
  },
  {
   "cell_type": "code",
   "execution_count": 225,
   "metadata": {},
   "outputs": [
    {
     "name": "stdout",
     "output_type": "stream",
     "text": [
      "                                aux_traduce\n",
      "                                     unique\n",
      "TRBPRN2                                    \n",
      "                                    [NS/NC]\n",
      "1                              [Estudiante]\n",
      "2                                [Jubilado]\n",
      "3              [Incapacitado para trabajar]\n",
      "4        [Dedicado a las labores del hogar]\n",
      "5                          [Otra situación]\n",
      "8                            [No aplicable]\n"
     ]
    }
   ],
   "source": [
    "traduce_upper('TRBPRN2')"
   ]
  },
  {
   "cell_type": "code",
   "execution_count": 226,
   "metadata": {},
   "outputs": [
    {
     "data": {
      "text/plain": [
       "[(1, '(Inactivo) Estudiante'),\n",
       " (2, '(Inactivo) Jubilado'),\n",
       " (3, '(Inactivo) Incapacitado para trabajar'),\n",
       " (9,\n",
       "  '(Ocupado) Asalariado con trabajo temporal o contrato de trabajo de duración determinada'),\n",
       " (4, '(Inactivo) Dedicado a las labores del hogar'),\n",
       " (5, '(Inactivo) Otra situación'),\n",
       " (6, 'Desempleado'),\n",
       " (7,\n",
       "  '(Ocupado) Trabajador en prácticas, formación (incluido MIR, EIR, FIR,…) o becario'),\n",
       " (8,\n",
       "  '(Ocupado) Asalariado con trabajo permanente o contrato de trabajo de duración indefinida'),\n",
       " (10, '(Ocupado) Empresario con asalariados'),\n",
       " (11, '(Ocupado) Trabajador independiente o empresario sin asalariados'),\n",
       " (12, '(Ocupado) Ayuda en la empresa o negocio familiar')]"
      ]
     },
     "execution_count": 226,
     "metadata": {},
     "output_type": "execute_result"
    }
   ],
   "source": [
    "# Diccionario para 'TRBPRN2' en encuestas 2019:\n",
    "[(k,v) for (k,v) in d_dict['TRBPRN2'].items() if type(k)==int] # Mismo criterio de codificación"
   ]
  },
  {
   "cell_type": "code",
   "execution_count": 227,
   "metadata": {},
   "outputs": [
    {
     "name": "stdout",
     "output_type": "stream",
     "text": [
      "                                aux_traduce\n",
      "                                     unique\n",
      "TRBPRN2                                    \n",
      "1.0                            [Estudiante]\n",
      "2.0                              [Jubilado]\n",
      "3.0            [Incapacitado para trabajar]\n",
      "4.0      [Dedicado a las labores del hogar]\n",
      "5.0                        [Otra situación]\n"
     ]
    }
   ],
   "source": [
    "no_respuesta('TRBPRN2',blank='8',nsnc=' ')"
   ]
  },
  {
   "cell_type": "code",
   "execution_count": 228,
   "metadata": {},
   "outputs": [],
   "source": [
    "df['sit_lab_detalle_']=df['TRBPRN2'].astype('O').replace(D_dict['TRBPRN2'])"
   ]
  },
  {
   "cell_type": "code",
   "execution_count": 229,
   "metadata": {},
   "outputs": [
    {
     "data": {
      "text/html": [
       "<div>\n",
       "<style scoped>\n",
       "    .dataframe tbody tr th:only-of-type {\n",
       "        vertical-align: middle;\n",
       "    }\n",
       "\n",
       "    .dataframe tbody tr th {\n",
       "        vertical-align: top;\n",
       "    }\n",
       "\n",
       "    .dataframe thead tr th {\n",
       "        text-align: left;\n",
       "    }\n",
       "\n",
       "    .dataframe thead tr:last-of-type th {\n",
       "        text-align: right;\n",
       "    }\n",
       "</style>\n",
       "<table border=\"1\" class=\"dataframe\">\n",
       "  <thead>\n",
       "    <tr>\n",
       "      <th></th>\n",
       "      <th>sit_lab_detalle_</th>\n",
       "    </tr>\n",
       "    <tr>\n",
       "      <th></th>\n",
       "      <th>unique</th>\n",
       "    </tr>\n",
       "    <tr>\n",
       "      <th>sit_lab_</th>\n",
       "      <th></th>\n",
       "    </tr>\n",
       "  </thead>\n",
       "  <tbody>\n",
       "    <tr>\n",
       "      <th>En desempleo</th>\n",
       "      <td>[nan]</td>\n",
       "    </tr>\n",
       "    <tr>\n",
       "      <th>Inactivo</th>\n",
       "      <td>[Otra situación, Estudiante, nan, Dedicado a las labores del hogar, Jubilado, Incapacitado para trabajar]</td>\n",
       "    </tr>\n",
       "    <tr>\n",
       "      <th>Trabajando</th>\n",
       "      <td>[nan]</td>\n",
       "    </tr>\n",
       "  </tbody>\n",
       "</table>\n",
       "</div>"
      ],
      "text/plain": [
       "                                                                                                       sit_lab_detalle_\n",
       "                                                                                                                 unique\n",
       "sit_lab_                                                                                                               \n",
       "En desempleo                                                                                                      [nan]\n",
       "Inactivo      [Otra situación, Estudiante, nan, Dedicado a las labores del hogar, Jubilado, Incapacitado para trabajar]\n",
       "Trabajando                                                                                                        [nan]"
      ]
     },
     "execution_count": 229,
     "metadata": {},
     "output_type": "execute_result"
    }
   ],
   "source": [
    "df[['sit_lab_','sit_lab_detalle_']].groupby('sit_lab_').agg(['unique']) # Comprobación: "
   ]
  },
  {
   "cell_type": "code",
   "execution_count": 230,
   "metadata": {},
   "outputs": [
    {
     "data": {
      "text/plain": [
       "array([nan, '(Inactivo) Otra situación', '(Inactivo) Estudiante',\n",
       "       '(Inactivo) Dedicado a las labores del hogar',\n",
       "       '(Inactivo) Jubilado', '(Inactivo) Incapacitado para trabajar'],\n",
       "      dtype=object)"
      ]
     },
     "execution_count": 230,
     "metadata": {},
     "output_type": "execute_result"
    }
   ],
   "source": [
    "# Se añade situación laboral a la variable literal 'sit_lab_detalle_':\n",
    "df['sit_lab_detalle_']='(Inactivo) '+df['sit_lab_detalle_']\n",
    "df['sit_lab_detalle_'].unique()"
   ]
  },
  {
   "cell_type": "code",
   "execution_count": 231,
   "metadata": {},
   "outputs": [
    {
     "data": {
      "text/plain": [
       "(Inactivo) Estudiante                          752\n",
       "NaN                                            732\n",
       "(Inactivo) Otra situación                      384\n",
       "(Inactivo) Dedicado a las labores del hogar     82\n",
       "(Inactivo) Jubilado                             78\n",
       "(Inactivo) Incapacitado para trabajar           20\n",
       "Name: sit_lab_detalle_, dtype: int64"
      ]
     },
     "execution_count": 231,
     "metadata": {},
     "output_type": "execute_result"
    }
   ],
   "source": [
    "df['sit_lab_detalle_'][df['sit_lab']==3].value_counts(dropna=False)\n",
    "# Algunos inactivos no informados en 'sit_lab_detalle_'. Se les imputa '(Inactivo) Otra situación'"
   ]
  },
  {
   "cell_type": "code",
   "execution_count": 232,
   "metadata": {},
   "outputs": [],
   "source": [
    "# Se imputa '(Inactivo) Otra situación' a NS/NC:\n",
    "df['sit_lab_detalle_'].mask((df['TRBPRN2'].isna()) & (df['sit_lab']==3),'(Inactivo) Otra situación',inplace=True)"
   ]
  },
  {
   "cell_type": "code",
   "execution_count": 233,
   "metadata": {},
   "outputs": [
    {
     "data": {
      "text/plain": [
       "(Inactivo) Otra situación                      1116\n",
       "(Inactivo) Estudiante                           752\n",
       "(Inactivo) Dedicado a las labores del hogar      82\n",
       "(Inactivo) Jubilado                              78\n",
       "(Inactivo) Incapacitado para trabajar            20\n",
       "Name: sit_lab_detalle_, dtype: int64"
      ]
     },
     "execution_count": 233,
     "metadata": {},
     "output_type": "execute_result"
    }
   ],
   "source": [
    "df['sit_lab_detalle_'][df['sit_lab']==3].value_counts(dropna=False) # Comprobación"
   ]
  },
  {
   "cell_type": "markdown",
   "metadata": {},
   "source": [
    "## 'LTR_PAI'  (redefinida como 'pais_tr') \n",
    "\n",
    "**País de trabajo** actual."
   ]
  },
  {
   "cell_type": "code",
   "execution_count": 234,
   "metadata": {},
   "outputs": [
    {
     "data": {
      "text/plain": [
       "array([ 3,  1, 88,  2,  9,  5, 10,  7,  4,  6, 11,  8])"
      ]
     },
     "execution_count": 234,
     "metadata": {},
     "output_type": "execute_result"
    }
   ],
   "source": [
    "df['LTR_PAI'].unique() # no informados como 88"
   ]
  },
  {
   "cell_type": "code",
   "execution_count": 235,
   "metadata": {},
   "outputs": [
    {
     "name": "stdout",
     "output_type": "stream",
     "text": [
      "                                            aux_traduce\n",
      "                                                 unique\n",
      "LTR_PAI                                                \n",
      "1                                              [España]\n",
      "2                                         [Reino Unido]\n",
      "3                                            [Alemania]\n",
      "4                                             [Francia]\n",
      "5                       [Otro país de la Unión Europea]\n",
      "6                  [Otro país europeo (fuera de la UE)]\n",
      "7                        [Un país de América del Norte]\n",
      "8        [Un país de América Central o América del Sur]\n",
      "9                                     [Un país de Asia]\n",
      "10                                  [Un país de África]\n",
      "11                                 [Un país de Oceanía]\n",
      "88                                       [No aplicable]\n"
     ]
    }
   ],
   "source": [
    "traduce_upper('LTR_PAI')"
   ]
  },
  {
   "cell_type": "code",
   "execution_count": 236,
   "metadata": {},
   "outputs": [
    {
     "data": {
      "text/plain": [
       "array([3, 1, None, 2, 9, 5, 10, 7, 4, 6, 11, 8], dtype=object)"
      ]
     },
     "execution_count": 236,
     "metadata": {},
     "output_type": "execute_result"
    }
   ],
   "source": [
    "df['pais_tr']=df['LTR_PAI'].replace({88:None})\n",
    "df['pais_tr'].unique()"
   ]
  },
  {
   "cell_type": "code",
   "execution_count": 237,
   "metadata": {},
   "outputs": [
    {
     "name": "stdout",
     "output_type": "stream",
     "text": [
      "                                            aux_traduce\n",
      "                                                 unique\n",
      "pais_tr                                                \n",
      "1                                              [España]\n",
      "2                                         [Reino Unido]\n",
      "3                                            [Alemania]\n",
      "4                                             [Francia]\n",
      "5                       [Otro país de la Unión Europea]\n",
      "6                  [Otro país europeo (fuera de la UE)]\n",
      "7                        [Un país de América del Norte]\n",
      "8        [Un país de América Central o América del Sur]\n",
      "9                                     [Un país de Asia]\n",
      "10                                  [Un país de África]\n",
      "11                                 [Un país de Oceanía]\n"
     ]
    }
   ],
   "source": [
    "df['pais_tr_']=traduce_lower('pais_tr')"
   ]
  },
  {
   "cell_type": "markdown",
   "metadata": {},
   "source": [
    "## 'BSQTRA2'  (redefinida como 'busqueda_tr')\n",
    "\n",
    "¿Ha **buscado trabajo** alguna vez?   "
   ]
  },
  {
   "cell_type": "code",
   "execution_count": 238,
   "metadata": {},
   "outputs": [
    {
     "data": {
      "text/plain": [
       "array([8, 1, 2])"
      ]
     },
     "execution_count": 238,
     "metadata": {},
     "output_type": "execute_result"
    }
   ],
   "source": [
    "df['BSQTRA2'].unique() # No informados como '8'"
   ]
  },
  {
   "cell_type": "code",
   "execution_count": 239,
   "metadata": {},
   "outputs": [
    {
     "name": "stdout",
     "output_type": "stream",
     "text": [
      "            aux_traduce\n",
      "                 unique\n",
      "BSQTRA2                \n",
      "1                  [Sí]\n",
      "2                  [No]\n",
      "8        [No aplicable]\n"
     ]
    }
   ],
   "source": [
    "traduce_upper('BSQTRA2')"
   ]
  },
  {
   "cell_type": "code",
   "execution_count": 240,
   "metadata": {},
   "outputs": [
    {
     "data": {
      "text/html": [
       "<div>\n",
       "<style scoped>\n",
       "    .dataframe tbody tr th:only-of-type {\n",
       "        vertical-align: middle;\n",
       "    }\n",
       "\n",
       "    .dataframe tbody tr th {\n",
       "        vertical-align: top;\n",
       "    }\n",
       "\n",
       "    .dataframe thead tr th {\n",
       "        text-align: left;\n",
       "    }\n",
       "\n",
       "    .dataframe thead tr:last-of-type th {\n",
       "        text-align: right;\n",
       "    }\n",
       "</style>\n",
       "<table border=\"1\" class=\"dataframe\">\n",
       "  <thead>\n",
       "    <tr>\n",
       "      <th></th>\n",
       "      <th>BSQTRA2</th>\n",
       "    </tr>\n",
       "    <tr>\n",
       "      <th></th>\n",
       "      <th>unique</th>\n",
       "    </tr>\n",
       "    <tr>\n",
       "      <th>sit_lab_</th>\n",
       "      <th></th>\n",
       "    </tr>\n",
       "  </thead>\n",
       "  <tbody>\n",
       "    <tr>\n",
       "      <th>En desempleo</th>\n",
       "      <td>[8, 1]</td>\n",
       "    </tr>\n",
       "    <tr>\n",
       "      <th>Inactivo</th>\n",
       "      <td>[8, 2]</td>\n",
       "    </tr>\n",
       "    <tr>\n",
       "      <th>Trabajando</th>\n",
       "      <td>[8]</td>\n",
       "    </tr>\n",
       "  </tbody>\n",
       "</table>\n",
       "</div>"
      ],
      "text/plain": [
       "             BSQTRA2\n",
       "              unique\n",
       "sit_lab_            \n",
       "En desempleo  [8, 1]\n",
       "Inactivo      [8, 2]\n",
       "Trabajando       [8]"
      ]
     },
     "execution_count": 240,
     "metadata": {},
     "output_type": "execute_result"
    }
   ],
   "source": [
    "# No informada para ocupados: \n",
    "df[['sit_lab_','BSQTRA2']].groupby('sit_lab_',dropna=False).agg(['unique']) # Inspección"
   ]
  },
  {
   "cell_type": "code",
   "execution_count": 241,
   "metadata": {},
   "outputs": [
    {
     "name": "stdout",
     "output_type": "stream",
     "text": [
      "            aux_traduce\n",
      "                 unique\n",
      "BSQTRA2                \n",
      "1.0                [Sí]\n",
      "2.0                [No]\n",
      "8.0      [No aplicable]\n"
     ]
    }
   ],
   "source": [
    "no_respuesta('BSQTRA2',blank='8')"
   ]
  },
  {
   "cell_type": "code",
   "execution_count": 242,
   "metadata": {},
   "outputs": [
    {
     "name": "stdout",
     "output_type": "stream",
     "text": [
      "            aux_traduce\n",
      "                 unique\n",
      "busqueda_tr            \n",
      "0.0                [No]\n",
      "1.0                [Sí]\n",
      "8.0               [8.0]\n"
     ]
    }
   ],
   "source": [
    "redefine('BSQTRA2','busqueda_tr',si_no=True)"
   ]
  },
  {
   "cell_type": "markdown",
   "metadata": {},
   "source": [
    "## 'BSQCO21'  (redefinida como 'btr_internet')\n",
    "\n",
    "(Solo para quienes declaran **situación de desempleo**)\n",
    "\n",
    "(**Búsqueda de empleo**) ¿Busca o ha buscado empleo a través de **ofertas de trabajo en el periódico, internet**, etc.?\n",
    "\n",
    "Nota: se informa más adelante para los ocupados cuando es posible. "
   ]
  },
  {
   "cell_type": "code",
   "execution_count": 243,
   "metadata": {},
   "outputs": [
    {
     "data": {
      "text/plain": [
       "array(['8', '1', '2', ' ', 8, 1, 2], dtype=object)"
      ]
     },
     "execution_count": 243,
     "metadata": {},
     "output_type": "execute_result"
    }
   ],
   "source": [
    "df['BSQCO21'].unique() # No informados como '8', 8 o ' '"
   ]
  },
  {
   "cell_type": "code",
   "execution_count": 244,
   "metadata": {},
   "outputs": [
    {
     "data": {
      "text/html": [
       "<div>\n",
       "<style scoped>\n",
       "    .dataframe tbody tr th:only-of-type {\n",
       "        vertical-align: middle;\n",
       "    }\n",
       "\n",
       "    .dataframe tbody tr th {\n",
       "        vertical-align: top;\n",
       "    }\n",
       "\n",
       "    .dataframe thead tr th {\n",
       "        text-align: left;\n",
       "    }\n",
       "\n",
       "    .dataframe thead tr:last-of-type th {\n",
       "        text-align: right;\n",
       "    }\n",
       "</style>\n",
       "<table border=\"1\" class=\"dataframe\">\n",
       "  <thead>\n",
       "    <tr>\n",
       "      <th></th>\n",
       "      <th>BSQCO21</th>\n",
       "    </tr>\n",
       "    <tr>\n",
       "      <th></th>\n",
       "      <th>unique</th>\n",
       "    </tr>\n",
       "    <tr>\n",
       "      <th>sit_lab_</th>\n",
       "      <th></th>\n",
       "    </tr>\n",
       "  </thead>\n",
       "  <tbody>\n",
       "    <tr>\n",
       "      <th>En desempleo</th>\n",
       "      <td>[8, 1, 2,  , 8, 1, 2]</td>\n",
       "    </tr>\n",
       "    <tr>\n",
       "      <th>Inactivo</th>\n",
       "      <td>[8, 8]</td>\n",
       "    </tr>\n",
       "    <tr>\n",
       "      <th>Trabajando</th>\n",
       "      <td>[8, 8]</td>\n",
       "    </tr>\n",
       "  </tbody>\n",
       "</table>\n",
       "</div>"
      ],
      "text/plain": [
       "                            BSQCO21\n",
       "                             unique\n",
       "sit_lab_                           \n",
       "En desempleo  [8, 1, 2,  , 8, 1, 2]\n",
       "Inactivo                     [8, 8]\n",
       "Trabajando                   [8, 8]"
      ]
     },
     "execution_count": 244,
     "metadata": {},
     "output_type": "execute_result"
    }
   ],
   "source": [
    "# Solo informada para desempleados: \n",
    "df[['sit_lab_','BSQCO21']].groupby('sit_lab_',dropna=False).agg(['unique']) # Inspección"
   ]
  },
  {
   "cell_type": "code",
   "execution_count": 245,
   "metadata": {},
   "outputs": [],
   "source": [
    "def btr(col,nuevo):\n",
    "    \"\"\"Procesa columnas referidas a métodos de búsqueda de empleo utlizados por los desempleados.\n",
    "    \"\"\"\n",
    "    df[col]=df[col].replace({'8':None,8:None,' ':None})\n",
    "    df[col]=df[col].astype('float')\n",
    "    redefine(col,nuevo,si_no=True)\n",
    "    return"
   ]
  },
  {
   "cell_type": "code",
   "execution_count": 246,
   "metadata": {},
   "outputs": [
    {
     "name": "stdout",
     "output_type": "stream",
     "text": [
      "             aux_traduce\n",
      "                  unique\n",
      "btr_internet            \n",
      "0.0                 [No]\n",
      "1.0                 [Sí]\n"
     ]
    }
   ],
   "source": [
    "btr('BSQCO21','btr_internet')"
   ]
  },
  {
   "cell_type": "markdown",
   "metadata": {},
   "source": [
    "## 'BSQCO22'  (redefinida como 'btr_spe_univ')\n",
    "\n",
    "(Solo para quienes declaran **situación de desempleo**)\n",
    "\n",
    "(**Búsqueda de empleo**) ¿Busca o ha buscado empleo a través de **servicios públicos de empleo o los servicios de empleo de la universidad**?  \n",
    "\n",
    "Nota 1: se informa más adelante para los ocupados cuando es posible.  \n",
    "\n",
    "Nota2: en esta encuesta los servicios públicos de empleo y los las universidades aparecen agregados. Se agregan también en las encuestas de 2019 por homogeniedad. "
   ]
  },
  {
   "cell_type": "code",
   "execution_count": 247,
   "metadata": {},
   "outputs": [
    {
     "data": {
      "text/plain": [
       "array(['8', '1', '2', ' ', 8, 1, 2], dtype=object)"
      ]
     },
     "execution_count": 247,
     "metadata": {},
     "output_type": "execute_result"
    }
   ],
   "source": [
    "df['BSQCO22'].unique() # No informados como '8', 8 o ' '"
   ]
  },
  {
   "cell_type": "code",
   "execution_count": 248,
   "metadata": {},
   "outputs": [
    {
     "name": "stdout",
     "output_type": "stream",
     "text": [
      "             aux_traduce\n",
      "                  unique\n",
      "btr_spe_univ            \n",
      "0.0                 [No]\n",
      "1.0                 [Sí]\n"
     ]
    }
   ],
   "source": [
    "btr('BSQCO22','btr_spe_univ')"
   ]
  },
  {
   "cell_type": "markdown",
   "metadata": {},
   "source": [
    "## 'BSQCO23'  (redefinida como 'btr_ett')\n",
    "\n",
    "(Solo para quienes declaran **situación de desempleo**)\n",
    "\n",
    "(**Búsqueda de empleo**) ¿Busca o ha buscado empleo a través de **empresas de trabajo temporal**?  \n",
    "\n",
    "Nota: se informa más adelante para los ocupados cuando es posible."
   ]
  },
  {
   "cell_type": "code",
   "execution_count": 249,
   "metadata": {},
   "outputs": [
    {
     "data": {
      "text/plain": [
       "array(['8', '2', '1', ' ', 8, 2, 1], dtype=object)"
      ]
     },
     "execution_count": 249,
     "metadata": {},
     "output_type": "execute_result"
    }
   ],
   "source": [
    "df['BSQCO23'].unique() # No informados como '8', 8 o ' '"
   ]
  },
  {
   "cell_type": "code",
   "execution_count": 250,
   "metadata": {},
   "outputs": [
    {
     "name": "stdout",
     "output_type": "stream",
     "text": [
      "        aux_traduce\n",
      "             unique\n",
      "btr_ett            \n",
      "0.0            [No]\n",
      "1.0            [Sí]\n"
     ]
    }
   ],
   "source": [
    "btr('BSQCO23','btr_ett')"
   ]
  },
  {
   "cell_type": "markdown",
   "metadata": {},
   "source": [
    "## 'BSQCO24'  (redefinida como 'btr_contactos')\n",
    "\n",
    "(Solo para quienes declaran **situación de desempleo**)\n",
    "\n",
    "(**Búsqueda de empleo**) ¿Busca o ha buscado empleo buscando ayuda entre profesionales conocidos del sector o **contactos personales** (familia, amigos)?  \n",
    "\n",
    "Nota: se informa más adelante para los ocupados cuando es posible."
   ]
  },
  {
   "cell_type": "code",
   "execution_count": 251,
   "metadata": {},
   "outputs": [
    {
     "data": {
      "text/plain": [
       "array(['8', '1', '2', ' ', 8, 2, 1], dtype=object)"
      ]
     },
     "execution_count": 251,
     "metadata": {},
     "output_type": "execute_result"
    }
   ],
   "source": [
    "df['BSQCO24'].unique() # No informados como '8', 8 o ' '"
   ]
  },
  {
   "cell_type": "code",
   "execution_count": 252,
   "metadata": {},
   "outputs": [
    {
     "name": "stdout",
     "output_type": "stream",
     "text": [
      "              aux_traduce\n",
      "                   unique\n",
      "btr_contactos            \n",
      "0.0                  [No]\n",
      "1.0                  [Sí]\n"
     ]
    }
   ],
   "source": [
    "btr('BSQCO24','btr_contactos')"
   ]
  },
  {
   "cell_type": "markdown",
   "metadata": {},
   "source": [
    "## 'BSQCO25'  (redefinida como 'btr_opo')\n",
    "\n",
    "(Solo para quienes declaran **situación de desempleo**)\n",
    "\n",
    "(**Búsqueda de empleo**) ¿Está preparando o preparó unas **oposiciones**?   \n",
    "\n",
    "Nota: se informa más adelante para los ocupados cuando es posible."
   ]
  },
  {
   "cell_type": "code",
   "execution_count": 253,
   "metadata": {},
   "outputs": [
    {
     "data": {
      "text/plain": [
       "array(['8', '2', '1', ' ', 8, 2, 1], dtype=object)"
      ]
     },
     "execution_count": 253,
     "metadata": {},
     "output_type": "execute_result"
    }
   ],
   "source": [
    "df['BSQCO25'].unique() # No informados como '8', 8 o ' '"
   ]
  },
  {
   "cell_type": "code",
   "execution_count": 254,
   "metadata": {},
   "outputs": [
    {
     "name": "stdout",
     "output_type": "stream",
     "text": [
      "        aux_traduce\n",
      "             unique\n",
      "btr_opo            \n",
      "0.0            [No]\n",
      "1.0            [Sí]\n"
     ]
    }
   ],
   "source": [
    "btr('BSQCO25','btr_opo')"
   ]
  },
  {
   "cell_type": "markdown",
   "metadata": {},
   "source": [
    "## 'BSQCO26'  (redefinida como 'btr_auto')\n",
    "\n",
    "(Solo para quienes declaran **situación de desempleo**)\n",
    "\n",
    "(**Búsqueda de empleo**) ¿Busca o ha buscado equipamiento para establecer un **negocio propio**?  \n",
    "\n",
    "Nota: se informa más adelante para los ocupados cuando es posible."
   ]
  },
  {
   "cell_type": "code",
   "execution_count": 255,
   "metadata": {},
   "outputs": [
    {
     "data": {
      "text/plain": [
       "array(['8', '2', '1', ' ', 8, 2, 1], dtype=object)"
      ]
     },
     "execution_count": 255,
     "metadata": {},
     "output_type": "execute_result"
    }
   ],
   "source": [
    "df['BSQCO26'].unique() # No informados como '8', 8 o ' '"
   ]
  },
  {
   "cell_type": "code",
   "execution_count": 256,
   "metadata": {},
   "outputs": [
    {
     "name": "stdout",
     "output_type": "stream",
     "text": [
      "         aux_traduce\n",
      "              unique\n",
      "btr_auto            \n",
      "0.0             [No]\n",
      "1.0             [Sí]\n"
     ]
    }
   ],
   "source": [
    "btr('BSQCO26','btr_auto')"
   ]
  },
  {
   "cell_type": "markdown",
   "metadata": {},
   "source": [
    "## 'BSQCO27'  (redefinida como 'btr_otro')\n",
    "\n",
    "(Solo para quienes declaran **situación de desempleo**)\n",
    "\n",
    "(**Búsqueda de empleo**) ¿Busca o ha buscado empleo de **otro modo**?  \n",
    "\n",
    "Nota: se informa más adelante para los ocupados cuando es posible."
   ]
  },
  {
   "cell_type": "code",
   "execution_count": 257,
   "metadata": {},
   "outputs": [
    {
     "data": {
      "text/plain": [
       "array(['8', '2', '1', ' ', 8, 2, 1], dtype=object)"
      ]
     },
     "execution_count": 257,
     "metadata": {},
     "output_type": "execute_result"
    }
   ],
   "source": [
    "df['BSQCO27'].unique() # No informados como '8', 8 o ' '"
   ]
  },
  {
   "cell_type": "code",
   "execution_count": 258,
   "metadata": {},
   "outputs": [
    {
     "name": "stdout",
     "output_type": "stream",
     "text": [
      "         aux_traduce\n",
      "              unique\n",
      "btr_otro            \n",
      "0.0             [No]\n",
      "1.0             [Sí]\n"
     ]
    }
   ],
   "source": [
    "btr('BSQCO27','btr_otro')"
   ]
  },
  {
   "cell_type": "markdown",
   "metadata": {},
   "source": [
    "## 'BSQDIF1'  (redefinida como 'dbtr_formacion')\n",
    "\n",
    "(Solo para quienes declaran **situación de desempleo**)\n",
    "\n",
    "(**Dificultades para encontrar empleo**) Importancia que atribuye a las **carencias en la formación universitaria recibida** en cuanto a sus dificultades para encontrar trabajo."
   ]
  },
  {
   "cell_type": "code",
   "execution_count": 259,
   "metadata": {},
   "outputs": [
    {
     "data": {
      "text/plain": [
       "array(['8', '2', '1', '3', '4', ' ', 8, 1, 2, 3, 4], dtype=object)"
      ]
     },
     "execution_count": 259,
     "metadata": {},
     "output_type": "execute_result"
    }
   ],
   "source": [
    "df['BSQDIF1'].unique() # No informados como '8', 8 o ' '"
   ]
  },
  {
   "cell_type": "code",
   "execution_count": 260,
   "metadata": {},
   "outputs": [
    {
     "name": "stdout",
     "output_type": "stream",
     "text": [
      "                   aux_traduce\n",
      "                        unique\n",
      "BSQDIF1                       \n",
      "1            [Nada importante]\n",
      "2            [Poco importante]\n",
      "3        [Bastante importante]\n",
      "4             [Muy importante]\n",
      "8               [No aplicable]\n",
      "                       [NS/NC]\n",
      "1            [Nada importante]\n",
      "2            [Poco importante]\n",
      "3        [Bastante importante]\n",
      "4             [Muy importante]\n",
      "8               [No aplicable]\n"
     ]
    }
   ],
   "source": [
    "traduce_upper('BSQDIF1')"
   ]
  },
  {
   "cell_type": "code",
   "execution_count": 261,
   "metadata": {},
   "outputs": [
    {
     "data": {
      "text/plain": [
       "[(1, 'Nada importante'),\n",
       " (2, 'Poco importante'),\n",
       " (3, 'Bastante importante'),\n",
       " (9, 'NS/NC'),\n",
       " (4, 'Muy importante')]"
      ]
     },
     "execution_count": 261,
     "metadata": {},
     "output_type": "execute_result"
    }
   ],
   "source": [
    "# Diccionario de códigos 2019:\n",
    "[(k,v) for (k,v) in d_dict['dbtr_formacion'].items() if type(k)==int] # mismo criterio de codificación"
   ]
  },
  {
   "cell_type": "code",
   "execution_count": 262,
   "metadata": {},
   "outputs": [],
   "source": [
    "def dbtr(col,nuevo):\n",
    "    \"\"\"Procesa columnas referidas a las dificultades en la búsqueda de trabajo para los desempleados.\n",
    "    \"\"\"\n",
    "    df[col]=df[col].replace({'8':None,8:None,' ':None})\n",
    "    df[col]=df[col].astype('float')\n",
    "    redefine(col,nuevo)\n",
    "    return"
   ]
  },
  {
   "cell_type": "code",
   "execution_count": 263,
   "metadata": {},
   "outputs": [
    {
     "name": "stdout",
     "output_type": "stream",
     "text": [
      "                          aux_traduce\n",
      "                               unique\n",
      "dbtr_formacion                       \n",
      "1.0                 [Nada importante]\n",
      "2.0                 [Poco importante]\n",
      "3.0             [Bastante importante]\n",
      "4.0                  [Muy importante]\n"
     ]
    }
   ],
   "source": [
    "dbtr('BSQDIF1','dbtr_formacion')"
   ]
  },
  {
   "cell_type": "markdown",
   "metadata": {},
   "source": [
    "## 'BSQDIF2'  (redefinida como 'dbtr_personales')\n",
    "\n",
    "(Solo para quienes declaran **situación de desempleo**)\n",
    "\n",
    "(**Dificultades para encontrar empleo**) Importancia que atribuye a las **actividades personales** que impiden trabajar (seguir estudiando, familia, otras) en cuanto a sus dificultades para encontrar trabajo."
   ]
  },
  {
   "cell_type": "code",
   "execution_count": 264,
   "metadata": {},
   "outputs": [
    {
     "data": {
      "text/plain": [
       "array(['8', '4', '1', '2', '3', ' ', 8, 2, 4, 1, 3], dtype=object)"
      ]
     },
     "execution_count": 264,
     "metadata": {},
     "output_type": "execute_result"
    }
   ],
   "source": [
    "df['BSQDIF2'].unique() # No informados como '8', 8 o ' '"
   ]
  },
  {
   "cell_type": "code",
   "execution_count": 265,
   "metadata": {},
   "outputs": [
    {
     "name": "stdout",
     "output_type": "stream",
     "text": [
      "                           aux_traduce\n",
      "                                unique\n",
      "dbtr_personales                       \n",
      "1.0                  [Nada importante]\n",
      "2.0                  [Poco importante]\n",
      "3.0              [Bastante importante]\n",
      "4.0                   [Muy importante]\n"
     ]
    }
   ],
   "source": [
    "dbtr('BSQDIF2','dbtr_personales')"
   ]
  },
  {
   "cell_type": "markdown",
   "metadata": {},
   "source": [
    "## 'BSQDIF3'  (redefinida como 'dbtr_experiencia')\n",
    "\n",
    "(Solo para quienes declaran **situación de desempleo**)\n",
    "\n",
    "(**Dificultades para encontrar empleo**) Importancia que atribuye a la **falta de experiencia profesional** en cuanto a sus dificultades para encontrar trabajo."
   ]
  },
  {
   "cell_type": "code",
   "execution_count": 266,
   "metadata": {},
   "outputs": [
    {
     "data": {
      "text/plain": [
       "array(['8', '4', '2', '1', '3', ' '], dtype=object)"
      ]
     },
     "execution_count": 266,
     "metadata": {},
     "output_type": "execute_result"
    }
   ],
   "source": [
    "df['BSQDIF3'].unique() # No informados como '8' o ' '"
   ]
  },
  {
   "cell_type": "code",
   "execution_count": 267,
   "metadata": {},
   "outputs": [
    {
     "name": "stdout",
     "output_type": "stream",
     "text": [
      "                            aux_traduce\n",
      "                                 unique\n",
      "dbtr_experiencia                       \n",
      "1.0                   [Nada importante]\n",
      "2.0                   [Poco importante]\n",
      "3.0               [Bastante importante]\n",
      "4.0                    [Muy importante]\n"
     ]
    }
   ],
   "source": [
    "dbtr('BSQDIF3','dbtr_experiencia')"
   ]
  },
  {
   "cell_type": "markdown",
   "metadata": {},
   "source": [
    "## 'BSQDIF4'  (redefinida como 'dbtr_expectativas')\n",
    "\n",
    "(Solo para quienes declaran **situación de desempleo**)\n",
    "\n",
    "(**Dificultades para encontrar empleo**) Importancia que atribuye a la **exigencia de tener un trabajo acorde con sus expectativas** económicas y profesionales en cuanto a sus dificultades para encontrar trabajo."
   ]
  },
  {
   "cell_type": "code",
   "execution_count": 268,
   "metadata": {},
   "outputs": [
    {
     "data": {
      "text/plain": [
       "array(['8', '1', '2', '3', '4', ' ', 8, 4, 2, 1, 3], dtype=object)"
      ]
     },
     "execution_count": 268,
     "metadata": {},
     "output_type": "execute_result"
    }
   ],
   "source": [
    "df['BSQDIF4'].unique() # No informados como '8', 8 o ' '"
   ]
  },
  {
   "cell_type": "code",
   "execution_count": 269,
   "metadata": {},
   "outputs": [
    {
     "name": "stdout",
     "output_type": "stream",
     "text": [
      "                             aux_traduce\n",
      "                                  unique\n",
      "dbtr_expectativas                       \n",
      "1.0                    [Nada importante]\n",
      "2.0                    [Poco importante]\n",
      "3.0                [Bastante importante]\n",
      "4.0                     [Muy importante]\n"
     ]
    }
   ],
   "source": [
    "dbtr('BSQDIF4','dbtr_expectativas')"
   ]
  },
  {
   "cell_type": "markdown",
   "metadata": {},
   "source": [
    "## 'BSQDIF5'  (redefinida como 'dbtr_idiomas')\n",
    "\n",
    "(Solo para quienes declaran **situación de desempleo**)\n",
    "\n",
    "(**Dificultades para encontrar empleo**) Importancia que atribuye a la **falta de conocimientos de idiomas** en cuanto a sus dificultades para encontrar trabajo."
   ]
  },
  {
   "cell_type": "code",
   "execution_count": 270,
   "metadata": {},
   "outputs": [
    {
     "data": {
      "text/plain": [
       "array(['8', '2', '3', '1', '4', ' ', 8, 4, 2, 1, 3], dtype=object)"
      ]
     },
     "execution_count": 270,
     "metadata": {},
     "output_type": "execute_result"
    }
   ],
   "source": [
    "df['BSQDIF5'].unique() # No informados como '8', 8 o ' '"
   ]
  },
  {
   "cell_type": "code",
   "execution_count": 271,
   "metadata": {},
   "outputs": [
    {
     "name": "stdout",
     "output_type": "stream",
     "text": [
      "                        aux_traduce\n",
      "                             unique\n",
      "dbtr_idiomas                       \n",
      "1.0               [Nada importante]\n",
      "2.0               [Poco importante]\n",
      "3.0           [Bastante importante]\n",
      "4.0                [Muy importante]\n"
     ]
    }
   ],
   "source": [
    "dbtr('BSQDIF5','dbtr_idiomas')"
   ]
  },
  {
   "cell_type": "markdown",
   "metadata": {},
   "source": [
    "## 'BSQDIF6'  (redefinida como 'dbtr_ti')\n",
    "\n",
    "(Solo para quienes declaran **situación de desempleo**)\n",
    "\n",
    "(**Dificultades para encontrar empleo**) Importancia que atribuye a la **falta de conocimientos informáticos** en cuanto a sus dificultades para encontrar trabajo."
   ]
  },
  {
   "cell_type": "code",
   "execution_count": 272,
   "metadata": {},
   "outputs": [
    {
     "data": {
      "text/plain": [
       "array(['8', '2', '3', '1', ' ', '4', 8, 1, 2, 4, 3], dtype=object)"
      ]
     },
     "execution_count": 272,
     "metadata": {},
     "output_type": "execute_result"
    }
   ],
   "source": [
    "df['BSQDIF6'].unique() # No informados como '8', 8 o ' '"
   ]
  },
  {
   "cell_type": "code",
   "execution_count": 273,
   "metadata": {},
   "outputs": [
    {
     "name": "stdout",
     "output_type": "stream",
     "text": [
      "                   aux_traduce\n",
      "                        unique\n",
      "dbtr_ti                       \n",
      "1.0          [Nada importante]\n",
      "2.0          [Poco importante]\n",
      "3.0      [Bastante importante]\n",
      "4.0           [Muy importante]\n"
     ]
    }
   ],
   "source": [
    "dbtr('BSQDIF6','dbtr_ti')"
   ]
  },
  {
   "cell_type": "markdown",
   "metadata": {},
   "source": [
    "## 'SIT_PRO' (actualiza la variable 'sit_lab_detalle')\n",
    "\n",
    "(Solo para quienes declaran **situación de ocupación** -respuesta 1 en 'TRBPRN1' (o 'sit_lab')-)  \n",
    "\n",
    "**Situación profesional** actual.\n",
    "\n",
    "Nota: Los **criterios de codificación están más agregados** que los empleados en las encuestas de 2019: en este dataset no hay distinción entre empresarios con asalariados y empresarios sin asalariados o trabajadorse independientes.  \n",
    "\n",
    "\n",
    "Se modifican los criterios de este dataset para hacerlos coincidir con los de 2019. Se imputa a los que declaran ser empresarios en la encuesta de 2014 la categoría 'Trabajador independiente o empresario sin asalariados', porque es más frecuente que 'Empresario con asalariados'. "
   ]
  },
  {
   "cell_type": "code",
   "execution_count": 274,
   "metadata": {},
   "outputs": [
    {
     "data": {
      "text/plain": [
       "array(['3', '5', '8', '4', '2', '1', ' '], dtype=object)"
      ]
     },
     "execution_count": 274,
     "metadata": {},
     "output_type": "execute_result"
    }
   ],
   "source": [
    "df['SIT_PRO'].unique() # No informados como '8' o ' ' "
   ]
  },
  {
   "cell_type": "code",
   "execution_count": 275,
   "metadata": {},
   "outputs": [
    {
     "name": "stdout",
     "output_type": "stream",
     "text": [
      "                                     aux_traduce\n",
      "                                          unique\n",
      "SIT_PRO                                         \n",
      "                                         [NS/NC]\n",
      "1            [En prácticas, formación o becario]\n",
      "2           [Asalariado con contrato permanente]\n",
      "3             [Asalariado con contrato temporal]\n",
      "4        [Empresario o trabajador independiente]\n",
      "5                               [Ayuda familiar]\n",
      "8                                 [No aplicable]\n"
     ]
    }
   ],
   "source": [
    "traduce_upper('SIT_PRO')"
   ]
  },
  {
   "cell_type": "code",
   "execution_count": 276,
   "metadata": {},
   "outputs": [
    {
     "data": {
      "text/plain": [
       "[(1,\n",
       "  'Trabajador en prácticas, formación (incluido MIR, EIR, FIR,…) o becario'),\n",
       " (2,\n",
       "  'Asalariado con trabajo permanente o contrato de trabajo de duración indefinida'),\n",
       " (3,\n",
       "  'Asalariado con trabajo temporal o contrato de trabajo de duración determinada'),\n",
       " (4, 'Empresario con asalariados'),\n",
       " (5, 'Trabajador independiente o empresario sin asalariados'),\n",
       " (6, 'Ayuda en la empresa o negocio familiar')]"
      ]
     },
     "execution_count": 276,
     "metadata": {},
     "output_type": "execute_result"
    }
   ],
   "source": [
    "# Diccionario para SIT_PRO' en encuestas 2019:\n",
    "[(k,v) for (k,v) in d_dict['SIT_PRO'].items() if type(k)==int] "
   ]
  },
  {
   "cell_type": "code",
   "execution_count": 277,
   "metadata": {},
   "outputs": [
    {
     "name": "stdout",
     "output_type": "stream",
     "text": [
      "                                     aux_traduce\n",
      "                                          unique\n",
      "SIT_PRO                                         \n",
      "1.0          [En prácticas, formación o becario]\n",
      "2.0         [Asalariado con contrato permanente]\n",
      "3.0           [Asalariado con contrato temporal]\n",
      "4.0      [Empresario o trabajador independiente]\n",
      "5.0                             [Ayuda familiar]\n"
     ]
    }
   ],
   "source": [
    "no_respuesta('SIT_PRO',blank='8',nsnc=' ')"
   ]
  },
  {
   "cell_type": "code",
   "execution_count": 278,
   "metadata": {},
   "outputs": [
    {
     "data": {
      "text/plain": [
       "array([ 3.,  6., nan,  5.,  2.,  1.])"
      ]
     },
     "execution_count": 278,
     "metadata": {},
     "output_type": "execute_result"
    }
   ],
   "source": [
    "# Corrección de codificación: \n",
    "D_actualiza_sit_pro={4:5,5:6}\n",
    "df['SIT_PRO'].replace(D_actualiza_sit_pro,inplace=True)\n",
    "df['SIT_PRO'].unique() # Comprobación: "
   ]
  },
  {
   "cell_type": "code",
   "execution_count": 279,
   "metadata": {},
   "outputs": [],
   "source": [
    "# Variable literal para situación profesional de acuerdo con códigos 2019:\n",
    "df['SIT_PRO_']=df['SIT_PRO'].astype('O').replace(d_dict['SIT_PRO'])"
   ]
  },
  {
   "cell_type": "code",
   "execution_count": 280,
   "metadata": {},
   "outputs": [
    {
     "data": {
      "text/html": [
       "<div>\n",
       "<style scoped>\n",
       "    .dataframe tbody tr th:only-of-type {\n",
       "        vertical-align: middle;\n",
       "    }\n",
       "\n",
       "    .dataframe tbody tr th {\n",
       "        vertical-align: top;\n",
       "    }\n",
       "\n",
       "    .dataframe thead tr th {\n",
       "        text-align: left;\n",
       "    }\n",
       "\n",
       "    .dataframe thead tr:last-of-type th {\n",
       "        text-align: right;\n",
       "    }\n",
       "</style>\n",
       "<table border=\"1\" class=\"dataframe\">\n",
       "  <thead>\n",
       "    <tr>\n",
       "      <th></th>\n",
       "      <th>sit_lab_detalle_</th>\n",
       "    </tr>\n",
       "    <tr>\n",
       "      <th></th>\n",
       "      <th>unique</th>\n",
       "    </tr>\n",
       "    <tr>\n",
       "      <th>sit_lab_</th>\n",
       "      <th></th>\n",
       "    </tr>\n",
       "  </thead>\n",
       "  <tbody>\n",
       "    <tr>\n",
       "      <th>En desempleo</th>\n",
       "      <td>[Desempleado]</td>\n",
       "    </tr>\n",
       "    <tr>\n",
       "      <th>Inactivo</th>\n",
       "      <td>[(Inactivo) Otra situación, (Inactivo) Estudiante, (Inactivo) Dedicado a las labores del hogar, (Inactivo) Jubilado, (Inactivo) Incapacitado para trabajar]</td>\n",
       "    </tr>\n",
       "    <tr>\n",
       "      <th>Trabajando</th>\n",
       "      <td>[(Ocupado) Asalariado con trabajo temporal o contrato de trabajo de duración determinada, (Ocupado) Ayuda en la empresa o negocio familiar, (Ocupado) Trabajador independiente o empresario sin asalariados, (Ocupado) Asalariado con trabajo permanente o contrato de trabajo de duración indefinida, (...</td>\n",
       "    </tr>\n",
       "  </tbody>\n",
       "</table>\n",
       "</div>"
      ],
      "text/plain": [
       "                                                                                                                                                                                                                                                                                                         sit_lab_detalle_\n",
       "                                                                                                                                                                                                                                                                                                                   unique\n",
       "sit_lab_                                                                                                                                                                                                                                                                                                                 \n",
       "En desempleo                                                                                                                                                                                                                                                                                                [Desempleado]\n",
       "Inactivo                                                                                                                                                      [(Inactivo) Otra situación, (Inactivo) Estudiante, (Inactivo) Dedicado a las labores del hogar, (Inactivo) Jubilado, (Inactivo) Incapacitado para trabajar]\n",
       "Trabajando    [(Ocupado) Asalariado con trabajo temporal o contrato de trabajo de duración determinada, (Ocupado) Ayuda en la empresa o negocio familiar, (Ocupado) Trabajador independiente o empresario sin asalariados, (Ocupado) Asalariado con trabajo permanente o contrato de trabajo de duración indefinida, (..."
      ]
     },
     "execution_count": 280,
     "metadata": {},
     "output_type": "execute_result"
    }
   ],
   "source": [
    "# Se actualiza la variable 'sit_lab_detalle_' (solo la literal para no reescribir los códigos de la variable ...\n",
    "# ... discreta)\n",
    "df['sit_lab_detalle_'].mask(df['sit_lab']==1,'(Ocupado) '+df['SIT_PRO_'],inplace=True)\n",
    "df['sit_lab_detalle_'].mask(df['sit_lab']==2,'Desempleado',inplace=True)\n",
    "df[['sit_lab_detalle_','sit_lab_']].groupby('sit_lab_',dropna=False).agg(['unique']) # Comprobación"
   ]
  },
  {
   "cell_type": "code",
   "execution_count": 281,
   "metadata": {},
   "outputs": [
    {
     "data": {
      "text/plain": [
       "[(1, '(Inactivo) Estudiante'),\n",
       " (2, '(Inactivo) Jubilado'),\n",
       " (3, '(Inactivo) Incapacitado para trabajar'),\n",
       " (9,\n",
       "  '(Ocupado) Asalariado con trabajo temporal o contrato de trabajo de duración determinada'),\n",
       " (4, '(Inactivo) Dedicado a las labores del hogar'),\n",
       " (5, '(Inactivo) Otra situación'),\n",
       " (6, 'Desempleado'),\n",
       " (7,\n",
       "  '(Ocupado) Trabajador en prácticas, formación (incluido MIR, EIR, FIR,…) o becario'),\n",
       " (8,\n",
       "  '(Ocupado) Asalariado con trabajo permanente o contrato de trabajo de duración indefinida'),\n",
       " (10, '(Ocupado) Empresario con asalariados'),\n",
       " (11, '(Ocupado) Trabajador independiente o empresario sin asalariados'),\n",
       " (12, '(Ocupado) Ayuda en la empresa o negocio familiar')]"
      ]
     },
     "execution_count": 281,
     "metadata": {},
     "output_type": "execute_result"
    }
   ],
   "source": [
    "# Para construir la variable 'sit_lab_detalle' ('int') a partir de la literal 'sit_lab_detalle_', se emplea ...\n",
    "# ... el diccionario inverso del de 'sit_lab_detalle' (este último, definido en el notebook Graduado_2019.ipynb)\n",
    "[(k,v) for (k,v) in d_dict['sit_lab_detalle'].items() if type(k)==int] "
   ]
  },
  {
   "cell_type": "code",
   "execution_count": 282,
   "metadata": {},
   "outputs": [],
   "source": [
    "# Diccionario inverso auxiliar para sit_lab_detalle (códigos 2019): \n",
    "D_inv_aux=dict()\n",
    "for k,v in d_dict['sit_lab_detalle'].items(): \n",
    "    if type(k)==int: \n",
    "        D_inv_aux[v]=k        "
   ]
  },
  {
   "cell_type": "code",
   "execution_count": 283,
   "metadata": {},
   "outputs": [
    {
     "data": {
      "text/html": [
       "<div>\n",
       "<style scoped>\n",
       "    .dataframe tbody tr th:only-of-type {\n",
       "        vertical-align: middle;\n",
       "    }\n",
       "\n",
       "    .dataframe tbody tr th {\n",
       "        vertical-align: top;\n",
       "    }\n",
       "\n",
       "    .dataframe thead tr th {\n",
       "        text-align: left;\n",
       "    }\n",
       "\n",
       "    .dataframe thead tr:last-of-type th {\n",
       "        text-align: right;\n",
       "    }\n",
       "</style>\n",
       "<table border=\"1\" class=\"dataframe\">\n",
       "  <thead>\n",
       "    <tr>\n",
       "      <th></th>\n",
       "      <th>sit_lab_detalle_</th>\n",
       "      <th>sit_lab_</th>\n",
       "    </tr>\n",
       "    <tr>\n",
       "      <th></th>\n",
       "      <th>unique</th>\n",
       "      <th>unique</th>\n",
       "    </tr>\n",
       "    <tr>\n",
       "      <th>sit_lab_detalle</th>\n",
       "      <th></th>\n",
       "      <th></th>\n",
       "    </tr>\n",
       "  </thead>\n",
       "  <tbody>\n",
       "    <tr>\n",
       "      <th>1.0</th>\n",
       "      <td>[(Inactivo) Estudiante]</td>\n",
       "      <td>[Inactivo]</td>\n",
       "    </tr>\n",
       "    <tr>\n",
       "      <th>2.0</th>\n",
       "      <td>[(Inactivo) Jubilado]</td>\n",
       "      <td>[Inactivo]</td>\n",
       "    </tr>\n",
       "    <tr>\n",
       "      <th>3.0</th>\n",
       "      <td>[(Inactivo) Incapacitado para trabajar]</td>\n",
       "      <td>[Inactivo]</td>\n",
       "    </tr>\n",
       "    <tr>\n",
       "      <th>4.0</th>\n",
       "      <td>[(Inactivo) Dedicado a las labores del hogar]</td>\n",
       "      <td>[Inactivo]</td>\n",
       "    </tr>\n",
       "    <tr>\n",
       "      <th>5.0</th>\n",
       "      <td>[(Inactivo) Otra situación]</td>\n",
       "      <td>[Inactivo]</td>\n",
       "    </tr>\n",
       "    <tr>\n",
       "      <th>6.0</th>\n",
       "      <td>[Desempleado]</td>\n",
       "      <td>[En desempleo]</td>\n",
       "    </tr>\n",
       "    <tr>\n",
       "      <th>7.0</th>\n",
       "      <td>[(Ocupado) Trabajador en prácticas, formación (incluido MIR, EIR, FIR,…) o becario]</td>\n",
       "      <td>[Trabajando]</td>\n",
       "    </tr>\n",
       "    <tr>\n",
       "      <th>8.0</th>\n",
       "      <td>[(Ocupado) Asalariado con trabajo permanente o contrato de trabajo de duración indefinida]</td>\n",
       "      <td>[Trabajando]</td>\n",
       "    </tr>\n",
       "    <tr>\n",
       "      <th>9.0</th>\n",
       "      <td>[(Ocupado) Asalariado con trabajo temporal o contrato de trabajo de duración determinada]</td>\n",
       "      <td>[Trabajando]</td>\n",
       "    </tr>\n",
       "    <tr>\n",
       "      <th>11.0</th>\n",
       "      <td>[(Ocupado) Trabajador independiente o empresario sin asalariados]</td>\n",
       "      <td>[Trabajando]</td>\n",
       "    </tr>\n",
       "    <tr>\n",
       "      <th>12.0</th>\n",
       "      <td>[(Ocupado) Ayuda en la empresa o negocio familiar]</td>\n",
       "      <td>[Trabajando]</td>\n",
       "    </tr>\n",
       "  </tbody>\n",
       "</table>\n",
       "</div>"
      ],
      "text/plain": [
       "                                                                                           sit_lab_detalle_  \\\n",
       "                                                                                                     unique   \n",
       "sit_lab_detalle                                                                                               \n",
       "1.0                                                                                 [(Inactivo) Estudiante]   \n",
       "2.0                                                                                   [(Inactivo) Jubilado]   \n",
       "3.0                                                                 [(Inactivo) Incapacitado para trabajar]   \n",
       "4.0                                                           [(Inactivo) Dedicado a las labores del hogar]   \n",
       "5.0                                                                             [(Inactivo) Otra situación]   \n",
       "6.0                                                                                           [Desempleado]   \n",
       "7.0                     [(Ocupado) Trabajador en prácticas, formación (incluido MIR, EIR, FIR,…) o becario]   \n",
       "8.0              [(Ocupado) Asalariado con trabajo permanente o contrato de trabajo de duración indefinida]   \n",
       "9.0               [(Ocupado) Asalariado con trabajo temporal o contrato de trabajo de duración determinada]   \n",
       "11.0                                      [(Ocupado) Trabajador independiente o empresario sin asalariados]   \n",
       "12.0                                                     [(Ocupado) Ayuda en la empresa o negocio familiar]   \n",
       "\n",
       "                       sit_lab_  \n",
       "                         unique  \n",
       "sit_lab_detalle                  \n",
       "1.0                  [Inactivo]  \n",
       "2.0                  [Inactivo]  \n",
       "3.0                  [Inactivo]  \n",
       "4.0                  [Inactivo]  \n",
       "5.0                  [Inactivo]  \n",
       "6.0              [En desempleo]  \n",
       "7.0                [Trabajando]  \n",
       "8.0                [Trabajando]  \n",
       "9.0                [Trabajando]  \n",
       "11.0               [Trabajando]  \n",
       "12.0               [Trabajando]  "
      ]
     },
     "execution_count": 283,
     "metadata": {},
     "output_type": "execute_result"
    }
   ],
   "source": [
    "df['sit_lab_detalle']=df['sit_lab_detalle_'].replace(D_inv_aux)\n",
    "df[['sit_lab_detalle','sit_lab_detalle_','sit_lab_']].groupby('sit_lab_detalle').agg(['unique']) # Comprobación: "
   ]
  },
  {
   "cell_type": "markdown",
   "metadata": {},
   "source": [
    "## 'JORNADA'  (redefinida como 'jornada')\n",
    "\n",
    "(Solo para quienes declaran **situación de ocupación** -respuesta 1 en 'TRBPRN1' (o 'sit_lab')-)  \n",
    "\n",
    "Tipo de **jornada laboral** actual.\n",
    "\n",
    "Nota: los **códigos son inversos** a los empleados en las encuestas de 2019. Se fijan los de 2019."
   ]
  },
  {
   "cell_type": "code",
   "execution_count": 284,
   "metadata": {},
   "outputs": [
    {
     "data": {
      "text/plain": [
       "array(['1', '2', '8', ' '], dtype=object)"
      ]
     },
     "execution_count": 284,
     "metadata": {},
     "output_type": "execute_result"
    }
   ],
   "source": [
    "df['JORNADA'].unique() # No informados como '8' o ' ' "
   ]
  },
  {
   "cell_type": "code",
   "execution_count": 285,
   "metadata": {},
   "outputs": [
    {
     "name": "stdout",
     "output_type": "stream",
     "text": [
      "                 aux_traduce\n",
      "                      unique\n",
      "JORNADA                     \n",
      "                     [NS/NC]\n",
      "1        [A tiempo completo]\n",
      "2         [A tiempo parcial]\n",
      "8            [No aplicable ]\n"
     ]
    }
   ],
   "source": [
    "traduce_upper('JORNADA')"
   ]
  },
  {
   "cell_type": "code",
   "execution_count": 286,
   "metadata": {},
   "outputs": [
    {
     "name": "stdout",
     "output_type": "stream",
     "text": [
      "                 aux_traduce\n",
      "                      unique\n",
      "jornada                     \n",
      "1.0       [A tiempo parcial]\n",
      "2.0      [A tiempo completo]\n"
     ]
    }
   ],
   "source": [
    "# Corrección de códigos y tratamiento de no informados:\n",
    "df['jornada']=df['JORNADA'].replace({'1':2,'2':1,' ':None,'8':None}) # dicc. 2019\n",
    "df['jornada_']=traduce_lower('jornada')"
   ]
  },
  {
   "cell_type": "code",
   "execution_count": 287,
   "metadata": {},
   "outputs": [
    {
     "data": {
      "text/html": [
       "<div>\n",
       "<style scoped>\n",
       "    .dataframe tbody tr th:only-of-type {\n",
       "        vertical-align: middle;\n",
       "    }\n",
       "\n",
       "    .dataframe tbody tr th {\n",
       "        vertical-align: top;\n",
       "    }\n",
       "\n",
       "    .dataframe thead tr th {\n",
       "        text-align: left;\n",
       "    }\n",
       "\n",
       "    .dataframe thead tr:last-of-type th {\n",
       "        text-align: right;\n",
       "    }\n",
       "</style>\n",
       "<table border=\"1\" class=\"dataframe\">\n",
       "  <thead>\n",
       "    <tr>\n",
       "      <th></th>\n",
       "      <th>jornada_</th>\n",
       "    </tr>\n",
       "    <tr>\n",
       "      <th></th>\n",
       "      <th>unique</th>\n",
       "    </tr>\n",
       "    <tr>\n",
       "      <th>JORNADA_</th>\n",
       "      <th></th>\n",
       "    </tr>\n",
       "  </thead>\n",
       "  <tbody>\n",
       "    <tr>\n",
       "      <th>A tiempo completo</th>\n",
       "      <td>[A tiempo completo]</td>\n",
       "    </tr>\n",
       "    <tr>\n",
       "      <th>A tiempo parcial</th>\n",
       "      <td>[A tiempo parcial]</td>\n",
       "    </tr>\n",
       "    <tr>\n",
       "      <th>NS/NC</th>\n",
       "      <td>[nan]</td>\n",
       "    </tr>\n",
       "    <tr>\n",
       "      <th>No aplicable</th>\n",
       "      <td>[nan]</td>\n",
       "    </tr>\n",
       "  </tbody>\n",
       "</table>\n",
       "</div>"
      ],
      "text/plain": [
       "                              jornada_\n",
       "                                unique\n",
       "JORNADA_                              \n",
       "A tiempo completo  [A tiempo completo]\n",
       "A tiempo parcial    [A tiempo parcial]\n",
       "NS/NC                            [nan]\n",
       "No aplicable                     [nan]"
      ]
     },
     "execution_count": 287,
     "metadata": {},
     "output_type": "execute_result"
    }
   ],
   "source": [
    "# Comprobación: \n",
    "df['JORNADA_']=df['JORNADA'].astype('O').replace(D_dict['JORNADA']) # dicc. 2014\n",
    "df[['jornada_','JORNADA_']].groupby('JORNADA_').agg(['unique']) "
   ]
  },
  {
   "cell_type": "markdown",
   "metadata": {},
   "source": [
    "## 'TRABOC' (redefinida como 'ocupacion')\n",
    "\n",
    "(Solo para quienes declaran **situación de ocupación** -respuesta 1 en 'TRBPRN1' (o 'sit_lab')-)  \n",
    "\n",
    "**Ocupación** que desempeña en el puesto de trabajo actual.  \n",
    "  \n",
    "Nota: los **códigos numéricos** con los que se codifica la ocupación en esta encuesta **difieren** de los empleados en las de 2019. Se modifican uno a uno para establecer los criterios de codificación de 2019."
   ]
  },
  {
   "cell_type": "code",
   "execution_count": 288,
   "metadata": {},
   "outputs": [
    {
     "data": {
      "text/plain": [
       "array([ 120,  121,  133,  156,  222,  223,  237,  320,  325,  326,  328,\n",
       "        329,  334,  424,  427,  437,  438,  443,  511,  512,  513,  514,\n",
       "        515,  620,  621,  624,  626,  700,  724,  726,  736,  759,  831,\n",
       "        832,  926,  935, 1036, 1037, 1041, 1042, 1043, 1044, 1045, 1150,\n",
       "       1151, 1193, 1244, 1252, 1253, 1254, 1255, 1294, 1331, 1337, 1357,\n",
       "       1358, 1483, 1484, 1558, 1581, 1591, 1592, 1594, 1673, 1674, 1675,\n",
       "       1731, 1776, 1781, 1782, 1876, 1877, 1878, 1961, 1962, 1963, 1964,\n",
       "       1983, 1995, 2031, 2032, 2071, 2072, 2075, 2081, 2083, 2096, 2194,\n",
       "       2197, 2198, 8888])"
      ]
     },
     "execution_count": 288,
     "metadata": {},
     "output_type": "execute_result"
    }
   ],
   "source": [
    "df['TRABOC'].sort_values().unique() # No informados como '8888'"
   ]
  },
  {
   "cell_type": "code",
   "execution_count": 289,
   "metadata": {},
   "outputs": [
    {
     "data": {
      "text/plain": [
       "91"
      ]
     },
     "execution_count": 289,
     "metadata": {},
     "output_type": "execute_result"
    }
   ],
   "source": [
    "df['TRABOC'].nunique()"
   ]
  },
  {
   "cell_type": "code",
   "execution_count": 290,
   "metadata": {},
   "outputs": [],
   "source": [
    "# variable literal con códigos 2014 (útil para comprobar corrección de códigos 2014 a 2019):\n",
    "df['TRABOC_']=df['TRABOC'].astype('O').replace(D_dict['TRABOC']) "
   ]
  },
  {
   "cell_type": "code",
   "execution_count": 291,
   "metadata": {},
   "outputs": [],
   "source": [
    "# Diccionario de claves de ocupación: mapea los códigos 2014 en los de 2019\n",
    "D_actualiza_ocupacion={120:21,121:21,133:33,156:56,222:22,223:23,237:37,320:29,325:25,326:41,328:28,329:29,\\\n",
    "                       334:34,424:27,427:27,437:37,438:38,443:43,511:11,512:12,513:13,514:14,515:15,620:24,\\\n",
    "                       621:24,624:24,626:26,700:0,724:59,726:59,736:59,759:59,831:31,832:32,926:26,935:35,\\\n",
    "                       1036:36,1037:36,1041:41,1042:42,1043:43,1044:44,1045:45,1150:50,1151:51,1193:51,1244:44,\\\n",
    "                       1252:52,1253:53,1254:54,1255:55,1294:54,1331:31,1337:58,1357:57,1358:58,1483:83,1484:84,\\\n",
    "                       1558:58,1581:81,1591:91,1592:92,1594:94,1673:73,1674:74,1675:75,1731:81,1776:76,1781:81,\\\n",
    "                       1782:82,1876:76,1877:77,1878:78,1961:61,1962:62,1963:63,1964:64,1983:83,1995:95,2031:31,\\\n",
    "                       2032:32,2071:71,2072:72,2075:75,2081:81,2083:83,2096:96,2194:94,2197:97,2198:98,8888:None}"
   ]
  },
  {
   "cell_type": "code",
   "execution_count": 292,
   "metadata": {},
   "outputs": [],
   "source": [
    "df['ocupacion']=df['TRABOC'].replace(D_actualiza_ocupacion) # actualiza códigos (establece los de 2019)\n",
    "# variable literal auxiliar (para comprobaciones) con códigos 2019 (diccionario original, no abreviado)\n",
    "df['ocupacion_aux_']=df['ocupacion'].astype('O').replace(d_dict['TRABOC'])"
   ]
  },
  {
   "cell_type": "code",
   "execution_count": 293,
   "metadata": {},
   "outputs": [
    {
     "data": {
      "text/html": [
       "<div>\n",
       "<style scoped>\n",
       "    .dataframe tbody tr th:only-of-type {\n",
       "        vertical-align: middle;\n",
       "    }\n",
       "\n",
       "    .dataframe tbody tr th {\n",
       "        vertical-align: top;\n",
       "    }\n",
       "\n",
       "    .dataframe thead tr th {\n",
       "        text-align: left;\n",
       "    }\n",
       "\n",
       "    .dataframe thead tr:last-of-type th {\n",
       "        text-align: right;\n",
       "    }\n",
       "</style>\n",
       "<table border=\"1\" class=\"dataframe\">\n",
       "  <thead>\n",
       "    <tr>\n",
       "      <th></th>\n",
       "      <th>ocupacion_aux_</th>\n",
       "    </tr>\n",
       "    <tr>\n",
       "      <th></th>\n",
       "      <th>unique</th>\n",
       "    </tr>\n",
       "    <tr>\n",
       "      <th>TRABOC_</th>\n",
       "      <th></th>\n",
       "    </tr>\n",
       "  </thead>\n",
       "  <tbody>\n",
       "    <tr>\n",
       "      <th>Agricultores, ganaderos, pescadores y sus peones; Conductor de tractor y otra maquinaria agrícola móvil</th>\n",
       "      <td>[Maquinistas de locomotoras, operadores de maquinaria agrícola y de equipos pesados móviles, y marineros: Maquinistas de locomotoras y afines; Operadores de maquinaria agrícola y forestal móvil; Operadores de otras máquinas móviles (maquinaria de movimientos de tierras, grúas, montacargas, carre...</td>\n",
       "    </tr>\n",
       "    <tr>\n",
       "      <th>Agricultores, ganaderos, pescadores y sus peones; Ganadero, pastor</th>\n",
       "      <td>[Trabajadores cualificados en actividades ganaderas, (incluidas avícolas, apícolas y similares)]</td>\n",
       "    </tr>\n",
       "    <tr>\n",
       "      <th>Agricultores, ganaderos, pescadores y sus peones; Jardinero, horticultor (huertas, viveros, invernaderos), agricultor</th>\n",
       "      <td>[Trabajadores cualificados en actividades agrícolas]</td>\n",
       "    </tr>\n",
       "    <tr>\n",
       "      <th>Agricultores, ganaderos, pescadores y sus peones; Pescador, criador de especies acuáticas y trabajador forestal</th>\n",
       "      <td>[Trabajadores cualificados en actividades forestales, pesqueras y cinegéticas]</td>\n",
       "    </tr>\n",
       "    <tr>\n",
       "      <th>Agricultores, ganaderos, pescadores y sus peones; Peón agrícola, de la ganadería o la pesca</th>\n",
       "      <td>[Peones agrarios, forestales y de la pesca: Peones agrícolas; Peones ganaderos; Peones agropecuarios; Peones de la pesca, la acuicultura, forestales y de la caza]</td>\n",
       "    </tr>\n",
       "    <tr>\n",
       "      <th>Agricultores, ganaderos, pescadores y sus peones; Trabajador agropecuario</th>\n",
       "      <td>[Trabajadores cualificados en actividades agropecuarias mixtas]</td>\n",
       "    </tr>\n",
       "    <tr>\n",
       "      <th>Camioneros, taxistas, mensajeros y otros conductores; Camionero, taxista, conductor de coche o furgoneta, conductor de autobús; Repartidor o mensajero en motocicleta</th>\n",
       "      <td>[Conductores de vehículos para el transporte urbano o por carretera: Conductores de automóviles, taxis y furgonetas; Conductores de autobuses y tranvías; Conductores de camiones; Conductores de motocicletas y ciclomotores]</td>\n",
       "    </tr>\n",
       "    <tr>\n",
       "      <th>Camioneros, taxistas, mensajeros y otros conductores; Conductor de trenes</th>\n",
       "      <td>[Maquinistas de locomotoras, operadores de maquinaria agrícola y de equipos pesados móviles, y marineros: Maquinistas de locomotoras y afines; Operadores de maquinaria agrícola y forestal móvil; Operadores de otras máquinas móviles (maquinaria de movimientos de tierras, grúas, montacargas, carre...</td>\n",
       "    </tr>\n",
       "    <tr>\n",
       "      <th>Cocineros, camareros; Ayudante de cocina o preparador de comidas rápidas</th>\n",
       "      <td>[Trabajadores asalariados de los servicios de restauración: Cocineros asalariados; Camareros asalariados]</td>\n",
       "    </tr>\n",
       "    <tr>\n",
       "      <th>Cocineros, camareros; Camarero o cocinero asalariado</th>\n",
       "      <td>[Trabajadores asalariados de los servicios de restauración: Cocineros asalariados; Camareros asalariados]</td>\n",
       "    </tr>\n",
       "    <tr>\n",
       "      <th>Cocineros, camareros; Camarero o cocinero propietario</th>\n",
       "      <td>[Camareros y cocineros propietarios]</td>\n",
       "    </tr>\n",
       "    <tr>\n",
       "      <th>Dependientes, vendedores, cajeros; Cajero (excepto bancos) y taquillero</th>\n",
       "      <td>[Cajeros y taquilleros (excepto bancos)]</td>\n",
       "    </tr>\n",
       "    <tr>\n",
       "      <th>Dependientes, vendedores, cajeros; Comerciantes propietarios de tiendas</th>\n",
       "      <td>[Comerciantes propietarios de tiendas]</td>\n",
       "    </tr>\n",
       "    <tr>\n",
       "      <th>Dependientes, vendedores, cajeros; Dependiente</th>\n",
       "      <td>[Dependientes en tiendas y almacenes: Jefes de sección de tiendas y almacenes; Vendedores en tiendas y almacenes]</td>\n",
       "    </tr>\n",
       "    <tr>\n",
       "      <th>Dependientes, vendedores, cajeros; Vendedor callejero fuera de mercadillos</th>\n",
       "      <td>[Vendedores (excepto en tiendas y almacenes): Vendedores en quioscos o en mercadillos; Operadores de telemarketing; Expendedores de gasolineras; Otros vendedores (vendedores a domicilio, promotores de venta, modelos de moda, arte y publicidad,…)]</td>\n",
       "    </tr>\n",
       "    <tr>\n",
       "      <th>Dependientes, vendedores, cajeros; Vendedor de cupones, loterías, bingos</th>\n",
       "      <td>[Empleados de agencias de viajes, recepcionistas y telefonistas; empleados de ventanilla y afines (excepto taquilleros): Empleados de información y recepcionistas (excepto de hoteles); Empleados de agencias de viajes, recepcionistas de hoteles y telefonistas; Agentes de encuestas; Empleados de v...</td>\n",
       "    </tr>\n",
       "    <tr>\n",
       "      <th>Dependientes, vendedores, cajeros; Vendedor en quioscos o en mercadillos, televendedor, promotor comercial, modelo</th>\n",
       "      <td>[Vendedores (excepto en tiendas y almacenes): Vendedores en quioscos o en mercadillos; Operadores de telemarketing; Expendedores de gasolineras; Otros vendedores (vendedores a domicilio, promotores de venta, modelos de moda, arte y publicidad,…)]</td>\n",
       "    </tr>\n",
       "    <tr>\n",
       "      <th>Directores y gerentes; Director de departamentos administrativos (recursos humanos, financieros,…) o comerciales (ventas, publicidad,…)</th>\n",
       "      <td>[Directores de departamentos administrativos y comerciales (directores financieros, directores de recursos humanos, directores comerciales, directores de publicidad, directores de desarrollo,…)]</td>\n",
       "    </tr>\n",
       "    <tr>\n",
       "      <th>Directores y gerentes; Director de producción u operaciones</th>\n",
       "      <td>[Directores de producción y operaciones: Directores de producción de explotaciones agropecuarias, forestales y pesqueras, y de industrias manufactureras, de minería, construcción,…; Directores de servicios de TIC y de empresas de servicios profesionales]</td>\n",
       "    </tr>\n",
       "    <tr>\n",
       "      <th>Directores y gerentes; Director o gerente de empresas de alojamiento, restauración o comercio</th>\n",
       "      <td>[Directores y gerentes de empresas de alojamiento, restauración y comercio]</td>\n",
       "    </tr>\n",
       "    <tr>\n",
       "      <th>Directores y gerentes; Director o gerente de otras empresas de servicios (recreativas, deportivas, culturales, de gestión de residuos,…)</th>\n",
       "      <td>[Directores y gerentes de otras empresas de servicios no clasificados bajo otros epígrafes: Directores y gerentes de empresas de actividades recreativas, culturales y deportivas; Directores y gerentes de empresas de gestión de residuos y de otros servicios no clasificados bajo otros epígrafes]</td>\n",
       "    </tr>\n",
       "    <tr>\n",
       "      <th>Directores y gerentes; Miembro del poder ejecutivo o de los cuerpos legislativos; directivo de la Administración Pública u organizaciones de interés social; director general, presidente ejecutivo</th>\n",
       "      <td>[Miembros del poder ejecutivo y de los cuerpos legislativos; directivos de la Administración Pública y organizaciones de interés social; directores ejecutivos]</td>\n",
       "    </tr>\n",
       "    <tr>\n",
       "      <th>Mecánicos, reparadores, soldadores, operadores de máquinas-herramienta; Chapista, soldador, montador de estructuras metálicas, operador de máquinas-herramienta, cerrajero, herrero, matricero</th>\n",
       "      <td>[Soldadores, chapistas, montadores de estructuras metálicas, herreros, elaboradores de herramientas y afines: Moldeadores, soldadores, chapistas, montadores de estructuras metálicas y trabajadores afines; Herreros y trabajadores de la fabricación de herramientas y afines]</td>\n",
       "    </tr>\n",
       "    <tr>\n",
       "      <th>Mecánicos, reparadores, soldadores, operadores de máquinas-herramienta; Mecánico, ajustador de maquinaria</th>\n",
       "      <td>[Mecánicos y ajustadores de maquinaria (vehículos de motor, motores de avión, maquinaria agrícola e industrial, maquinaria naval y ferroviaria, reparadores de bicicletas,…)]</td>\n",
       "    </tr>\n",
       "    <tr>\n",
       "      <th>Mecánicos, reparadores, soldadores, operadores de máquinas-herramienta; Reparador de equipos eléctricos, electrónicos y de telecomunicaciones</th>\n",
       "      <td>[Trabajadores especializados en electricidad y electrotecnología: Electricistas de la construcción y afines; Otros instaladores y reparadores de equipos eléctricos; Instaladores y reparadores de equipos electrónicos y de telecomunicaciones]</td>\n",
       "    </tr>\n",
       "    <tr>\n",
       "      <th>No aplicable</th>\n",
       "      <td>[None]</td>\n",
       "    </tr>\n",
       "    <tr>\n",
       "      <th>Obreros en producción mecanizada, montadores; Montador de productos industriales</th>\n",
       "      <td>[Montadores y ensambladores en fábricas (de maquinaria mecánica, de equipos eléctricos y electróncios,…)]</td>\n",
       "    </tr>\n",
       "    <tr>\n",
       "      <th>Obreros en producción mecanizada, montadores; Oficial y operario de las artes gráficas</th>\n",
       "      <td>[Mecánicos de precisión en metales, ceramistas, vidrieros, artesanos y trabajadores de artes gráficas: Mecánicos de precisión en metales, ceramistas, vidrieros y artesanos (relojeros, afinadores de instrumentos musicales, joyeros, alfareros, sopladores de vidrio, rotulistas, artesanos en madera,...</td>\n",
       "    </tr>\n",
       "    <tr>\n",
       "      <th>Obreros en producción mecanizada, montadores; Operador de maquinaria fija: horno, prensa, sierra, fresadora, máquinas de embalaje, embotellado, etiquetado…, excepto artes gráficas y control de procesos; Trabajador en cadena de producción, excepto artes gráficas y técnicos de control de procesos</th>\n",
       "      <td>[Operadores de instalaciones y maquinaria fijas: Operadores en instalaciones de la extracción y explotación de minerales; Operadores en instalaciones para el tratamiento de metales; Operadores de instalaciones y máquinas de productos químicos, farmacéuticos y materiales fotosensibles; Operadores...</td>\n",
       "    </tr>\n",
       "    <tr>\n",
       "      <th>Obreros en producción mecanizada, montadores; Operador de robots industriales</th>\n",
       "      <td>[Operadores de instalaciones y maquinaria fijas: Operadores en instalaciones de la extracción y explotación de minerales; Operadores en instalaciones para el tratamiento de metales; Operadores de instalaciones y máquinas de productos químicos, farmacéuticos y materiales fotosensibles; Operadores...</td>\n",
       "    </tr>\n",
       "  </tbody>\n",
       "</table>\n",
       "</div>"
      ],
      "text/plain": [
       "                                                                                                                                                                                                                                                                                                                                                                                                                                                                                                                                                                                                      ocupacion_aux_\n",
       "                                                                                                                                                                                                                                                                                                                                                                                                                                                                                                                                                                                                              unique\n",
       "TRABOC_                                                                                                                                                                                                                                                                                                                                                                                                                                                                                                                                                                                                             \n",
       "Agricultores, ganaderos, pescadores y sus peones; Conductor de tractor y otra maquinaria agrícola móvil                                                                                                                                                                                                  [Maquinistas de locomotoras, operadores de maquinaria agrícola y de equipos pesados móviles, y marineros: Maquinistas de locomotoras y afines; Operadores de maquinaria agrícola y forestal móvil; Operadores de otras máquinas móviles (maquinaria de movimientos de tierras, grúas, montacargas, carre...\n",
       "Agricultores, ganaderos, pescadores y sus peones; Ganadero, pastor                                                                                                                                                                                                                                                                                                                                                                                                                                                  [Trabajadores cualificados en actividades ganaderas, (incluidas avícolas, apícolas y similares)]\n",
       "Agricultores, ganaderos, pescadores y sus peones; Jardinero, horticultor (huertas, viveros, invernaderos), agricultor                                                                                                                                                                                                                                                                                                                                                                                                                                           [Trabajadores cualificados en actividades agrícolas]\n",
       "Agricultores, ganaderos, pescadores y sus peones; Pescador, criador de especies acuáticas y trabajador forestal                                                                                                                                                                                                                                                                                                                                                                                                                       [Trabajadores cualificados en actividades forestales, pesqueras y cinegéticas]\n",
       "Agricultores, ganaderos, pescadores y sus peones; Peón agrícola, de la ganadería o la pesca                                                                                                                                                                                                                                                                                                                                                       [Peones agrarios, forestales y de la pesca: Peones agrícolas; Peones ganaderos; Peones agropecuarios; Peones de la pesca, la acuicultura, forestales y de la caza]\n",
       "Agricultores, ganaderos, pescadores y sus peones; Trabajador agropecuario                                                                                                                                                                                                                                                                                                                                                                                                                                                                            [Trabajadores cualificados en actividades agropecuarias mixtas]\n",
       "Camioneros, taxistas, mensajeros y otros conductores; Camionero, taxista, conductor de coche o furgoneta, conductor de autobús; Repartidor o mensajero en motocicleta                                                                                                                                                                                                                 [Conductores de vehículos para el transporte urbano o por carretera: Conductores de automóviles, taxis y furgonetas; Conductores de autobuses y tranvías; Conductores de camiones; Conductores de motocicletas y ciclomotores]\n",
       "Camioneros, taxistas, mensajeros y otros conductores; Conductor de trenes                                                                                                                                                                                                                                [Maquinistas de locomotoras, operadores de maquinaria agrícola y de equipos pesados móviles, y marineros: Maquinistas de locomotoras y afines; Operadores de maquinaria agrícola y forestal móvil; Operadores de otras máquinas móviles (maquinaria de movimientos de tierras, grúas, montacargas, carre...\n",
       "Cocineros, camareros; Ayudante de cocina o preparador de comidas rápidas                                                                                                                                                                                                                                                                                                                                                                                                                                   [Trabajadores asalariados de los servicios de restauración: Cocineros asalariados; Camareros asalariados]\n",
       "Cocineros, camareros; Camarero o cocinero asalariado                                                                                                                                                                                                                                                                                                                                                                                                                                                       [Trabajadores asalariados de los servicios de restauración: Cocineros asalariados; Camareros asalariados]\n",
       "Cocineros, camareros; Camarero o cocinero propietario                                                                                                                                                                                                                                                                                                                                                                                                                                                                                                                           [Camareros y cocineros propietarios]\n",
       "Dependientes, vendedores, cajeros; Cajero (excepto bancos) y taquillero                                                                                                                                                                                                                                                                                                                                                                                                                                                                                                     [Cajeros y taquilleros (excepto bancos)]\n",
       "Dependientes, vendedores, cajeros; Comerciantes propietarios de tiendas                                                                                                                                                                                                                                                                                                                                                                                                                                                                                                       [Comerciantes propietarios de tiendas]\n",
       "Dependientes, vendedores, cajeros; Dependiente                                                                                                                                                                                                                                                                                                                                                                                                                                                     [Dependientes en tiendas y almacenes: Jefes de sección de tiendas y almacenes; Vendedores en tiendas y almacenes]\n",
       "Dependientes, vendedores, cajeros; Vendedor callejero fuera de mercadillos                                                                                                                                                                                                                                                                                    [Vendedores (excepto en tiendas y almacenes): Vendedores en quioscos o en mercadillos; Operadores de telemarketing; Expendedores de gasolineras; Otros vendedores (vendedores a domicilio, promotores de venta, modelos de moda, arte y publicidad,…)]\n",
       "Dependientes, vendedores, cajeros; Vendedor de cupones, loterías, bingos                                                                                                                                                                                                                                 [Empleados de agencias de viajes, recepcionistas y telefonistas; empleados de ventanilla y afines (excepto taquilleros): Empleados de información y recepcionistas (excepto de hoteles); Empleados de agencias de viajes, recepcionistas de hoteles y telefonistas; Agentes de encuestas; Empleados de v...\n",
       "Dependientes, vendedores, cajeros; Vendedor en quioscos o en mercadillos, televendedor, promotor comercial, modelo                                                                                                                                                                                                                                            [Vendedores (excepto en tiendas y almacenes): Vendedores en quioscos o en mercadillos; Operadores de telemarketing; Expendedores de gasolineras; Otros vendedores (vendedores a domicilio, promotores de venta, modelos de moda, arte y publicidad,…)]\n",
       "Directores y gerentes; Director de departamentos administrativos (recursos humanos, financieros,…) o comerciales (ventas, publicidad,…)                                                                                                                                                                                                                                                                           [Directores de departamentos administrativos y comerciales (directores financieros, directores de recursos humanos, directores comerciales, directores de publicidad, directores de desarrollo,…)]\n",
       "Directores y gerentes; Director de producción u operaciones                                                                                                                                                                                                                                                                                           [Directores de producción y operaciones: Directores de producción de explotaciones agropecuarias, forestales y pesqueras, y de industrias manufactureras, de minería, construcción,…; Directores de servicios de TIC y de empresas de servicios profesionales]\n",
       "Directores y gerentes; Director o gerente de empresas de alojamiento, restauración o comercio                                                                                                                                                                                                                                                                                                                                                                                                                                            [Directores y gerentes de empresas de alojamiento, restauración y comercio]\n",
       "Directores y gerentes; Director o gerente de otras empresas de servicios (recreativas, deportivas, culturales, de gestión de residuos,…)                                                                                                                                                                      [Directores y gerentes de otras empresas de servicios no clasificados bajo otros epígrafes: Directores y gerentes de empresas de actividades recreativas, culturales y deportivas; Directores y gerentes de empresas de gestión de residuos y de otros servicios no clasificados bajo otros epígrafes]\n",
       "Directores y gerentes; Miembro del poder ejecutivo o de los cuerpos legislativos; directivo de la Administración Pública u organizaciones de interés social; director general, presidente ejecutivo                                                                                                                                                                                                                                                  [Miembros del poder ejecutivo y de los cuerpos legislativos; directivos de la Administración Pública y organizaciones de interés social; directores ejecutivos]\n",
       "Mecánicos, reparadores, soldadores, operadores de máquinas-herramienta; Chapista, soldador, montador de estructuras metálicas, operador de máquinas-herramienta, cerrajero, herrero, matricero                                                                                                                                      [Soldadores, chapistas, montadores de estructuras metálicas, herreros, elaboradores de herramientas y afines: Moldeadores, soldadores, chapistas, montadores de estructuras metálicas y trabajadores afines; Herreros y trabajadores de la fabricación de herramientas y afines]\n",
       "Mecánicos, reparadores, soldadores, operadores de máquinas-herramienta; Mecánico, ajustador de maquinaria                                                                                                                                                                                                                                                                                                                              [Mecánicos y ajustadores de maquinaria (vehículos de motor, motores de avión, maquinaria agrícola e industrial, maquinaria naval y ferroviaria, reparadores de bicicletas,…)]\n",
       "Mecánicos, reparadores, soldadores, operadores de máquinas-herramienta; Reparador de equipos eléctricos, electrónicos y de telecomunicaciones                                                                                                                                                                                                                       [Trabajadores especializados en electricidad y electrotecnología: Electricistas de la construcción y afines; Otros instaladores y reparadores de equipos eléctricos; Instaladores y reparadores de equipos electrónicos y de telecomunicaciones]\n",
       "No aplicable                                                                                                                                                                                                                                                                                                                                                                                                                                                                                                                                                                                                  [None]\n",
       "Obreros en producción mecanizada, montadores; Montador de productos industriales                                                                                                                                                                                                                                                                                                                                                                                                                           [Montadores y ensambladores en fábricas (de maquinaria mecánica, de equipos eléctricos y electróncios,…)]\n",
       "Obreros en producción mecanizada, montadores; Oficial y operario de las artes gráficas                                                                                                                                                                                                                   [Mecánicos de precisión en metales, ceramistas, vidrieros, artesanos y trabajadores de artes gráficas: Mecánicos de precisión en metales, ceramistas, vidrieros y artesanos (relojeros, afinadores de instrumentos musicales, joyeros, alfareros, sopladores de vidrio, rotulistas, artesanos en madera,...\n",
       "Obreros en producción mecanizada, montadores; Operador de maquinaria fija: horno, prensa, sierra, fresadora, máquinas de embalaje, embotellado, etiquetado…, excepto artes gráficas y control de procesos; Trabajador en cadena de producción, excepto artes gráficas y técnicos de control de procesos  [Operadores de instalaciones y maquinaria fijas: Operadores en instalaciones de la extracción y explotación de minerales; Operadores en instalaciones para el tratamiento de metales; Operadores de instalaciones y máquinas de productos químicos, farmacéuticos y materiales fotosensibles; Operadores...\n",
       "Obreros en producción mecanizada, montadores; Operador de robots industriales                                                                                                                                                                                                                            [Operadores de instalaciones y maquinaria fijas: Operadores en instalaciones de la extracción y explotación de minerales; Operadores en instalaciones para el tratamiento de metales; Operadores de instalaciones y máquinas de productos químicos, farmacéuticos y materiales fotosensibles; Operadores..."
      ]
     },
     "execution_count": 293,
     "metadata": {},
     "output_type": "execute_result"
    }
   ],
   "source": [
    "df[['ocupacion_aux_','TRABOC_']].groupby('TRABOC_').agg(['unique'])[0:30] # Comprobación: "
   ]
  },
  {
   "cell_type": "code",
   "execution_count": 294,
   "metadata": {},
   "outputs": [
    {
     "data": {
      "text/html": [
       "<div>\n",
       "<style scoped>\n",
       "    .dataframe tbody tr th:only-of-type {\n",
       "        vertical-align: middle;\n",
       "    }\n",
       "\n",
       "    .dataframe tbody tr th {\n",
       "        vertical-align: top;\n",
       "    }\n",
       "\n",
       "    .dataframe thead tr th {\n",
       "        text-align: left;\n",
       "    }\n",
       "\n",
       "    .dataframe thead tr:last-of-type th {\n",
       "        text-align: right;\n",
       "    }\n",
       "</style>\n",
       "<table border=\"1\" class=\"dataframe\">\n",
       "  <thead>\n",
       "    <tr>\n",
       "      <th></th>\n",
       "      <th>ocupacion_aux_</th>\n",
       "    </tr>\n",
       "    <tr>\n",
       "      <th></th>\n",
       "      <th>unique</th>\n",
       "    </tr>\n",
       "    <tr>\n",
       "      <th>TRABOC_</th>\n",
       "      <th></th>\n",
       "    </tr>\n",
       "  </thead>\n",
       "  <tbody>\n",
       "    <tr>\n",
       "      <th>Otras ocupaciones propias de estudios universitarios (ingeniero, arquitecto, matemático, físico, biólogo, profesional de la publicidad, grupos A1 y A2 de las AAPP …); Físico, químico, estadístico, meteorólogo, geógrafo, biólogo, zoólogo, botánico</th>\n",
       "      <td>[Profesionales de la ciencias físicas, químicas, matemáticas y de las ingenierías: Físicos, químicos, matemáticos y afines; Profesionales en ciencias naturales (biólogos, ingenieros agrónomos, de montes, técnicos agrícolas, …); Ingenieros; Arquitectos, urbanistas e ingenieros geógrafos; Ingenier...</td>\n",
       "    </tr>\n",
       "    <tr>\n",
       "      <th>Otras ocupaciones propias de estudios universitarios (ingeniero, arquitecto, matemático, físico, biólogo, profesional de la publicidad, grupos A1 y A2 de las AAPP …); Ingeniero técnico y superior (agrónomo, de montes, …)</th>\n",
       "      <td>[Profesionales de la ciencias físicas, químicas, matemáticas y de las ingenierías: Físicos, químicos, matemáticos y afines; Profesionales en ciencias naturales (biólogos, ingenieros agrónomos, de montes, técnicos agrícolas, …); Ingenieros; Arquitectos, urbanistas e ingenieros geógrafos; Ingenier...</td>\n",
       "    </tr>\n",
       "    <tr>\n",
       "      <th>Otras ocupaciones propias de estudios universitarios (ingeniero, arquitecto, matemático, físico, biólogo, profesional de la publicidad, grupos A1 y A2 de las AAPP …); Ingeniero técnico y superior (industrial, eléctrico, electrónico, de telecomunicaciones,…), arquitecto, aparejador, topógrafo, enólogo</th>\n",
       "      <td>[Profesionales de la ciencias físicas, químicas, matemáticas y de las ingenierías: Físicos, químicos, matemáticos y afines; Profesionales en ciencias naturales (biólogos, ingenieros agrónomos, de montes, técnicos agrícolas, …); Ingenieros; Arquitectos, urbanistas e ingenieros geógrafos; Ingenier...</td>\n",
       "    </tr>\n",
       "    <tr>\n",
       "      <th>Otras ocupaciones propias de estudios universitarios (ingeniero, arquitecto, matemático, físico, biólogo, profesional de la publicidad, grupos A1 y A2 de las AAPP …); Profesional en publicidad, márketing y relaciones públicas; Inspector o subinspector  de Hacienda; otras ocupaciones exclusivas de las AAPP (grupos A1 o A2)</th>\n",
       "      <td>[Especialistas en organización de la Administración Pública y de las empresas y en la comercialización: Especialistas en finanzas; Especialistas en organización y administración; Técnicos de empresas y actividades turísticas; Profesionales de ventas técnicas y médicas (excepto las TIC); Otros pr...</td>\n",
       "    </tr>\n",
       "    <tr>\n",
       "      <th>Peones y trabajadores manuales de industrias y servicios; Peón industrial: lavador, embotellador... a mano</th>\n",
       "      <td>[Peones de las industrias manufactureras]</td>\n",
       "    </tr>\n",
       "    <tr>\n",
       "      <th>Peones y trabajadores manuales de industrias y servicios; Repartidor (publicidad, prensa gratuita, etc), ordenanza y mozo de equipaje; Lector de contadores y recaudador de máquinas expendedoras</th>\n",
       "      <td>[Recogedores de residuos urbanos, vendedores callejeros y otras ocupaciones elementales en servicios: Vendedores callejeros; Repartidores de publicidad, limpiabotas y otros trabajadores de oficios callejeros; Ordenanzas, mozos de equipaje, repartidores a pie y afines; Recogedores de residuos, cl...</td>\n",
       "    </tr>\n",
       "    <tr>\n",
       "      <th>Peones y trabajadores manuales de industrias y servicios; Reponedor de hipermercados, mozo de carga, mudanzas</th>\n",
       "      <td>[Peones del transporte, descargadores y reponedores]</td>\n",
       "    </tr>\n",
       "    <tr>\n",
       "      <th>Personal administrativo; Administrativo contable, de nóminas; auxiliar bancario; empleado administrativo de almacén, logística, transportes</th>\n",
       "      <td>[Empleados en servicios contables, financieros, y de servicios de apoyo a la producción y al transporte (Empleados de contabilidad, de control de personal y nóminas, de oficina de servicios estadísticos, financieros y bancarios, de control de abastecimientos e inventario, de logística y transpor...</td>\n",
       "    </tr>\n",
       "    <tr>\n",
       "      <th>Personal administrativo; Auxiliar de justicia, oficial de notaría</th>\n",
       "      <td>[Profesionales de apoyo a la gestión administrativa; técnicos de las fuerzas y cuerpos de seguridad: Asistentes administrativos y especializados (Supervisores de secretaría, secretarios de centros médicos o clínicas,...); Agentes de aduanas, tributos y afines que trabajan en tareas propias de la...</td>\n",
       "    </tr>\n",
       "    <tr>\n",
       "      <th>Personal administrativo; Empleado de bibliotecas, archivos; Empleado de servicios de correos, codificador, corrector o servicios de personal</th>\n",
       "      <td>[Empleados de bibliotecas, servicios de correos y afines]</td>\n",
       "    </tr>\n",
       "    <tr>\n",
       "      <th>Personal administrativo; Grabador de datos; Otro personal administrativo sin tareas de atención al público</th>\n",
       "      <td>[Otros empleados administrativos sin tareas de atención al público (grabadores de datos, empleados administrativos sin tareas de atención al público no clasificados bajo otros epígrafes)]</td>\n",
       "    </tr>\n",
       "    <tr>\n",
       "      <th>Personal administrativo; Otro personal administrativo con tareas de atención al público</th>\n",
       "      <td>[Empleados administrativos con tareas de atención al público no clasificados bajo otros epígrafes]</td>\n",
       "    </tr>\n",
       "    <tr>\n",
       "      <th>Personal administrativo; Secretario o asistente administrativo, personal de expedición de licencias, otro profesional de apoyo de las AAPP (grupos C o D)</th>\n",
       "      <td>[Profesionales de apoyo a la gestión administrativa; técnicos de las fuerzas y cuerpos de seguridad: Asistentes administrativos y especializados (Supervisores de secretaría, secretarios de centros médicos o clínicas,...); Agentes de aduanas, tributos y afines que trabajan en tareas propias de la...</td>\n",
       "    </tr>\n",
       "    <tr>\n",
       "      <th>Personal administrativo; Telefonista, teleoperador, recepcionista, empleado de agencias de viajes, empleado de información al usuario, cajero de bancos, empleado de mostrador de correos</th>\n",
       "      <td>[Empleados de agencias de viajes, recepcionistas y telefonistas; empleados de ventanilla y afines (excepto taquilleros): Empleados de información y recepcionistas (excepto de hoteles); Empleados de agencias de viajes, recepcionistas de hoteles y telefonistas; Agentes de encuestas; Empleados de v...</td>\n",
       "    </tr>\n",
       "    <tr>\n",
       "      <th>Personal docente y profesionales del deporte; Deportista, entrenador profesional; monitor de deportes y tiempo libre</th>\n",
       "      <td>[Profesionales de apoyo de servicios jurídicos, sociales, culturales, deportivos y afines: Profesionales de apoyo de servicios jurídicos y sociales (detectives privados, animadores comunitarios, auxiliares laicos de las religiones,…); Deportistas, entrenadores, instructores de actividades deport...</td>\n",
       "    </tr>\n",
       "    <tr>\n",
       "      <th>Personal docente y profesionales del deporte; Maestro, profesor, técnico de educación infantil</th>\n",
       "      <td>[Profesionales de la enseñanza infantil, primaria, secundaria y postsecundaria: Profesores de universidades y otra enseñanza superior; Profesores de formación profesional; Profesores de enseñanza secundaria; Profesores de enseñanza primaria; Maestros y educadores de enseñanza infantil]</td>\n",
       "    </tr>\n",
       "    <tr>\n",
       "      <th>Personal docente y profesionales del deporte; Profesor, técnico de educación especial; profesor de clases particulares o academias</th>\n",
       "      <td>[Otros profesionales de la enseñanza: Profesores y técnicos de educación especial; Otros profesores y profesionales de la enseñanza (profesores de enseñanza no reglada de idiomas, música y danza, artes…, profesionales de la educación ambiental, …)]</td>\n",
       "    </tr>\n",
       "    <tr>\n",
       "      <th>Personal sanitario; Auxiliar de enfermería, celador, camillero, ayudante de farmacia</th>\n",
       "      <td>[Trabajadores de los cuidados a las personas en servicios de salud: Auxiliares de enfermería; Técnicos auxiliares de farmacia y emergencias sanitarias y otros trabajadores de los cuidados a las personas en servicios de salud]</td>\n",
       "    </tr>\n",
       "    <tr>\n",
       "      <th>Personal sanitario; Médico (cualquier especialidad), enfermero, matrón, farmaceútico, dentista, óptico, fisioterapeuta, podólogo, logopeda</th>\n",
       "      <td>[Profesionales de la salud: Médicos; Profesionales de enfermería y partería; Veterinarios; Farmacéuticos; Otros profesionales de la salud (odontólogos, fisioterapeutas, dietistas, logopedas,…)]</td>\n",
       "    </tr>\n",
       "    <tr>\n",
       "      <th>Personal sanitario; Técnico sanitario de laboratorio, pruebas diagnósticas, prótesis; ayudante de veterinaria, higienista bucodental</th>\n",
       "      <td>[Técnicos sanitarios y profesionales de las terapias alternativas: Técnicos sanitarios de laboratorio, pruebas diagnósticas y prótesis; Otros técnicos sanitarios (técnicos superiores en higiene bucodentasl en documentación sanitaria, en dietética, ayudantes de veterinaria, ...); Profesionales de...</td>\n",
       "    </tr>\n",
       "    <tr>\n",
       "      <th>Personal sanitario; Veterinario</th>\n",
       "      <td>[Profesionales de la salud: Médicos; Profesionales de enfermería y partería; Veterinarios; Farmacéuticos; Otros profesionales de la salud (odontólogos, fisioterapeutas, dietistas, logopedas,…)]</td>\n",
       "    </tr>\n",
       "    <tr>\n",
       "      <th>Profesionales del derecho, la economía, las ciencias sociales y la cultura; Abogado, fiscal, juez, notario, registrador, procurador</th>\n",
       "      <td>[Profesionales en derecho: Jueces, magistrados, abogados y fiscales; Otros profesionales del derecho (notarios y registradores, procuradores, …)]</td>\n",
       "    </tr>\n",
       "    <tr>\n",
       "      <th>Profesionales del derecho, la economía, las ciencias sociales y la cultura; Bibliotecario, conservador, escritor, intérprete, traductor; Músico, pintor, escultor, actor/actriz, bailarín, torero</th>\n",
       "      <td>[Profesionales de la cultura y el espectáculo: Archivistas, bibliotecarios, conservadores y afines; Escritores, periodistas y lingüistas (filólogos, intérpretes y traductores); Artistas creativos e interpretativos (compositores, músicos, cantantes, coreógrafos, bailarines, directores de cine, de...</td>\n",
       "    </tr>\n",
       "    <tr>\n",
       "      <th>Profesionales del derecho, la economía, las ciencias sociales y la cultura; Contable, analista o asesor financiero (excepto tenedor de libros, tasador, intermediario de cambio y bolsa…)</th>\n",
       "      <td>[Empleados en servicios contables, financieros, y de servicios de apoyo a la producción y al transporte (Empleados de contabilidad, de control de personal y nóminas, de oficina de servicios estadísticos, financieros y bancarios, de control de abastecimientos e inventario, de logística y transpor...</td>\n",
       "    </tr>\n",
       "    <tr>\n",
       "      <th>Profesionales del derecho, la economía, las ciencias sociales y la cultura; Economista; Psicólogo, sociólogo, trabajador social</th>\n",
       "      <td>[Profesionales en ciencias sociales: Economistas; Sociólogos, historiadores, psicólogos y otros profesionales en ciencias sociales (geógrafos, antropólogos, arqueólogos, filósofos, profesionales en ciencias políticas…); Sacerdotes de las distintas religiones]</td>\n",
       "    </tr>\n",
       "    <tr>\n",
       "      <th>Profesionales del derecho, la economía, las ciencias sociales y la cultura; Periodista, locutor</th>\n",
       "      <td>[Profesionales de la cultura y el espectáculo: Archivistas, bibliotecarios, conservadores y afines; Escritores, periodistas y lingüistas (filólogos, intérpretes y traductores); Artistas creativos e interpretativos (compositores, músicos, cantantes, coreógrafos, bailarines, directores de cine, de...</td>\n",
       "    </tr>\n",
       "    <tr>\n",
       "      <th>Profesionales del derecho, la economía, las ciencias sociales y la cultura; Tenedor de libros, tasador, intermediario de cambio y bolsa,...</th>\n",
       "      <td>[Profesionales de apoyo en finanzas y matemáticas (Profesionales de apoyo e intermediarios de cambio, bolsa y finanzas; Comerciales de préstamos y créditos; Tenedores de libros; Profesionales de apoyo en servicios estadísticos, matemáticos y afines; Tasadores)]</td>\n",
       "    </tr>\n",
       "    <tr>\n",
       "      <th>Representantes, agentes comerciales; Agente o representante comercial; agente inmobiliario; agente de seguros, compras; consignatario</th>\n",
       "      <td>[Representantes, agentes comerciales y afines (Mediadores y agentes de seguros; Consignatarios; Representantes de aduanas; Organizadores de conferencias y eventos; Agentes o intermediarios en la contratación de la mano de obra; Portavoces y agentes de relaciones públicas)]</td>\n",
       "    </tr>\n",
       "    <tr>\n",
       "      <th>Representantes, agentes comerciales; Visitador médico, representante de ventas técnicas</th>\n",
       "      <td>[Especialistas en organización de la Administración Pública y de las empresas y en la comercialización: Especialistas en finanzas; Especialistas en organización y administración; Técnicos de empresas y actividades turísticas; Profesionales de ventas técnicas y médicas (excepto las TIC); Otros pr...</td>\n",
       "    </tr>\n",
       "    <tr>\n",
       "      <th>Seguridad, defensa y protección civil; Ambientólogo</th>\n",
       "      <td>[Trabajadores de los servicios de protección y seguridad: Guardias civiles; Policías (nacionales, autonómicos y locales); Bomberos; Personal de seguridad privado; Otros trabajadores de los servicios de protección y seguridad (vigilantes de prisiones, bañistas-socorristas, agentes forestales y me...</td>\n",
       "    </tr>\n",
       "  </tbody>\n",
       "</table>\n",
       "</div>"
      ],
      "text/plain": [
       "                                                                                                                                                                                                                                                                                                                                                                                                                                                                                                                                                                                                           ocupacion_aux_\n",
       "                                                                                                                                                                                                                                                                                                                                                                                                                                                                                                                                                                                                                   unique\n",
       "TRABOC_                                                                                                                                                                                                                                                                                                                                                                                                                                                                                                                                                                                                                  \n",
       "Otras ocupaciones propias de estudios universitarios (ingeniero, arquitecto, matemático, físico, biólogo, profesional de la publicidad, grupos A1 y A2 de las AAPP …); Físico, químico, estadístico, meteorólogo, geógrafo, biólogo, zoólogo, botánico                                                        [Profesionales de la ciencias físicas, químicas, matemáticas y de las ingenierías: Físicos, químicos, matemáticos y afines; Profesionales en ciencias naturales (biólogos, ingenieros agrónomos, de montes, técnicos agrícolas, …); Ingenieros; Arquitectos, urbanistas e ingenieros geógrafos; Ingenier...\n",
       "Otras ocupaciones propias de estudios universitarios (ingeniero, arquitecto, matemático, físico, biólogo, profesional de la publicidad, grupos A1 y A2 de las AAPP …); Ingeniero técnico y superior (agrónomo, de montes, …)                                                                                  [Profesionales de la ciencias físicas, químicas, matemáticas y de las ingenierías: Físicos, químicos, matemáticos y afines; Profesionales en ciencias naturales (biólogos, ingenieros agrónomos, de montes, técnicos agrícolas, …); Ingenieros; Arquitectos, urbanistas e ingenieros geógrafos; Ingenier...\n",
       "Otras ocupaciones propias de estudios universitarios (ingeniero, arquitecto, matemático, físico, biólogo, profesional de la publicidad, grupos A1 y A2 de las AAPP …); Ingeniero técnico y superior (industrial, eléctrico, electrónico, de telecomunicaciones,…), arquitecto, aparejador, topógrafo, enó...  [Profesionales de la ciencias físicas, químicas, matemáticas y de las ingenierías: Físicos, químicos, matemáticos y afines; Profesionales en ciencias naturales (biólogos, ingenieros agrónomos, de montes, técnicos agrícolas, …); Ingenieros; Arquitectos, urbanistas e ingenieros geógrafos; Ingenier...\n",
       "Otras ocupaciones propias de estudios universitarios (ingeniero, arquitecto, matemático, físico, biólogo, profesional de la publicidad, grupos A1 y A2 de las AAPP …); Profesional en publicidad, márketing y relaciones públicas; Inspector o subinspector  de Hacienda; otras ocupaciones exclusivas de...  [Especialistas en organización de la Administración Pública y de las empresas y en la comercialización: Especialistas en finanzas; Especialistas en organización y administración; Técnicos de empresas y actividades turísticas; Profesionales de ventas técnicas y médicas (excepto las TIC); Otros pr...\n",
       "Peones y trabajadores manuales de industrias y servicios; Peón industrial: lavador, embotellador... a mano                                                                                                                                                                                                                                                                                                                                                                                                                                                                      [Peones de las industrias manufactureras]\n",
       "Peones y trabajadores manuales de industrias y servicios; Repartidor (publicidad, prensa gratuita, etc), ordenanza y mozo de equipaje; Lector de contadores y recaudador de máquinas expendedoras                                                                                                             [Recogedores de residuos urbanos, vendedores callejeros y otras ocupaciones elementales en servicios: Vendedores callejeros; Repartidores de publicidad, limpiabotas y otros trabajadores de oficios callejeros; Ordenanzas, mozos de equipaje, repartidores a pie y afines; Recogedores de residuos, cl...\n",
       "Peones y trabajadores manuales de industrias y servicios; Reponedor de hipermercados, mozo de carga, mudanzas                                                                                                                                                                                                                                                                                                                                                                                                                                                        [Peones del transporte, descargadores y reponedores]\n",
       "Personal administrativo; Administrativo contable, de nóminas; auxiliar bancario; empleado administrativo de almacén, logística, transportes                                                                                                                                                                   [Empleados en servicios contables, financieros, y de servicios de apoyo a la producción y al transporte (Empleados de contabilidad, de control de personal y nóminas, de oficina de servicios estadísticos, financieros y bancarios, de control de abastecimientos e inventario, de logística y transpor...\n",
       "Personal administrativo; Auxiliar de justicia, oficial de notaría                                                                                                                                                                                                                                             [Profesionales de apoyo a la gestión administrativa; técnicos de las fuerzas y cuerpos de seguridad: Asistentes administrativos y especializados (Supervisores de secretaría, secretarios de centros médicos o clínicas,...); Agentes de aduanas, tributos y afines que trabajan en tareas propias de la...\n",
       "Personal administrativo; Empleado de bibliotecas, archivos; Empleado de servicios de correos, codificador, corrector o servicios de personal                                                                                                                                                                                                                                                                                                                                                                                                                    [Empleados de bibliotecas, servicios de correos y afines]\n",
       "Personal administrativo; Grabador de datos; Otro personal administrativo sin tareas de atención al público                                                                                                                                                                                                                                                                                                                    [Otros empleados administrativos sin tareas de atención al público (grabadores de datos, empleados administrativos sin tareas de atención al público no clasificados bajo otros epígrafes)]\n",
       "Personal administrativo; Otro personal administrativo con tareas de atención al público                                                                                                                                                                                                                                                                                                                                                                                                                                [Empleados administrativos con tareas de atención al público no clasificados bajo otros epígrafes]\n",
       "Personal administrativo; Secretario o asistente administrativo, personal de expedición de licencias, otro profesional de apoyo de las AAPP (grupos C o D)                                                                                                                                                     [Profesionales de apoyo a la gestión administrativa; técnicos de las fuerzas y cuerpos de seguridad: Asistentes administrativos y especializados (Supervisores de secretaría, secretarios de centros médicos o clínicas,...); Agentes de aduanas, tributos y afines que trabajan en tareas propias de la...\n",
       "Personal administrativo; Telefonista, teleoperador, recepcionista, empleado de agencias de viajes, empleado de información al usuario, cajero de bancos, empleado de mostrador de correos                                                                                                                     [Empleados de agencias de viajes, recepcionistas y telefonistas; empleados de ventanilla y afines (excepto taquilleros): Empleados de información y recepcionistas (excepto de hoteles); Empleados de agencias de viajes, recepcionistas de hoteles y telefonistas; Agentes de encuestas; Empleados de v...\n",
       "Personal docente y profesionales del deporte; Deportista, entrenador profesional; monitor de deportes y tiempo libre                                                                                                                                                                                          [Profesionales de apoyo de servicios jurídicos, sociales, culturales, deportivos y afines: Profesionales de apoyo de servicios jurídicos y sociales (detectives privados, animadores comunitarios, auxiliares laicos de las religiones,…); Deportistas, entrenadores, instructores de actividades deport...\n",
       "Personal docente y profesionales del deporte; Maestro, profesor, técnico de educación infantil                                                                                                                                                                                                                             [Profesionales de la enseñanza infantil, primaria, secundaria y postsecundaria: Profesores de universidades y otra enseñanza superior; Profesores de formación profesional; Profesores de enseñanza secundaria; Profesores de enseñanza primaria; Maestros y educadores de enseñanza infantil]\n",
       "Personal docente y profesionales del deporte; Profesor, técnico de educación especial; profesor de clases particulares o academias                                                                                                                                                                                                                               [Otros profesionales de la enseñanza: Profesores y técnicos de educación especial; Otros profesores y profesionales de la enseñanza (profesores de enseñanza no reglada de idiomas, música y danza, artes…, profesionales de la educación ambiental, …)]\n",
       "Personal sanitario; Auxiliar de enfermería, celador, camillero, ayudante de farmacia                                                                                                                                                                                                                                                                                                    [Trabajadores de los cuidados a las personas en servicios de salud: Auxiliares de enfermería; Técnicos auxiliares de farmacia y emergencias sanitarias y otros trabajadores de los cuidados a las personas en servicios de salud]\n",
       "Personal sanitario; Médico (cualquier especialidad), enfermero, matrón, farmaceútico, dentista, óptico, fisioterapeuta, podólogo, logopeda                                                                                                                                                                                                                                                                              [Profesionales de la salud: Médicos; Profesionales de enfermería y partería; Veterinarios; Farmacéuticos; Otros profesionales de la salud (odontólogos, fisioterapeutas, dietistas, logopedas,…)]\n",
       "Personal sanitario; Técnico sanitario de laboratorio, pruebas diagnósticas, prótesis; ayudante de veterinaria, higienista bucodental                                                                                                                                                                          [Técnicos sanitarios y profesionales de las terapias alternativas: Técnicos sanitarios de laboratorio, pruebas diagnósticas y prótesis; Otros técnicos sanitarios (técnicos superiores en higiene bucodentasl en documentación sanitaria, en dietética, ayudantes de veterinaria, ...); Profesionales de...\n",
       "Personal sanitario; Veterinario                                                                                                                                                                                                                                                                                                                                                                                         [Profesionales de la salud: Médicos; Profesionales de enfermería y partería; Veterinarios; Farmacéuticos; Otros profesionales de la salud (odontólogos, fisioterapeutas, dietistas, logopedas,…)]\n",
       "Profesionales del derecho, la economía, las ciencias sociales y la cultura; Abogado, fiscal, juez, notario, registrador, procurador                                                                                                                                                                                                                                                                                                                                     [Profesionales en derecho: Jueces, magistrados, abogados y fiscales; Otros profesionales del derecho (notarios y registradores, procuradores, …)]\n",
       "Profesionales del derecho, la economía, las ciencias sociales y la cultura; Bibliotecario, conservador, escritor, intérprete, traductor; Músico, pintor, escultor, actor/actriz, bailarín, torero                                                                                                             [Profesionales de la cultura y el espectáculo: Archivistas, bibliotecarios, conservadores y afines; Escritores, periodistas y lingüistas (filólogos, intérpretes y traductores); Artistas creativos e interpretativos (compositores, músicos, cantantes, coreógrafos, bailarines, directores de cine, de...\n",
       "Profesionales del derecho, la economía, las ciencias sociales y la cultura; Contable, analista o asesor financiero (excepto tenedor de libros, tasador, intermediario de cambio y bolsa…)                                                                                                                     [Empleados en servicios contables, financieros, y de servicios de apoyo a la producción y al transporte (Empleados de contabilidad, de control de personal y nóminas, de oficina de servicios estadísticos, financieros y bancarios, de control de abastecimientos e inventario, de logística y transpor...\n",
       "Profesionales del derecho, la economía, las ciencias sociales y la cultura; Economista; Psicólogo, sociólogo, trabajador social                                                                                                                                                                                                                       [Profesionales en ciencias sociales: Economistas; Sociólogos, historiadores, psicólogos y otros profesionales en ciencias sociales (geógrafos, antropólogos, arqueólogos, filósofos, profesionales en ciencias políticas…); Sacerdotes de las distintas religiones]\n",
       "Profesionales del derecho, la economía, las ciencias sociales y la cultura; Periodista, locutor                                                                                                                                                                                                               [Profesionales de la cultura y el espectáculo: Archivistas, bibliotecarios, conservadores y afines; Escritores, periodistas y lingüistas (filólogos, intérpretes y traductores); Artistas creativos e interpretativos (compositores, músicos, cantantes, coreógrafos, bailarines, directores de cine, de...\n",
       "Profesionales del derecho, la economía, las ciencias sociales y la cultura; Tenedor de libros, tasador, intermediario de cambio y bolsa,...                                                                                                                                                                                                         [Profesionales de apoyo en finanzas y matemáticas (Profesionales de apoyo e intermediarios de cambio, bolsa y finanzas; Comerciales de préstamos y créditos; Tenedores de libros; Profesionales de apoyo en servicios estadísticos, matemáticos y afines; Tasadores)]\n",
       "Representantes, agentes comerciales; Agente o representante comercial; agente inmobiliario; agente de seguros, compras; consignatario                                                                                                                                                                                                   [Representantes, agentes comerciales y afines (Mediadores y agentes de seguros; Consignatarios; Representantes de aduanas; Organizadores de conferencias y eventos; Agentes o intermediarios en la contratación de la mano de obra; Portavoces y agentes de relaciones públicas)]\n",
       "Representantes, agentes comerciales; Visitador médico, representante de ventas técnicas                                                                                                                                                                                                                       [Especialistas en organización de la Administración Pública y de las empresas y en la comercialización: Especialistas en finanzas; Especialistas en organización y administración; Técnicos de empresas y actividades turísticas; Profesionales de ventas técnicas y médicas (excepto las TIC); Otros pr...\n",
       "Seguridad, defensa y protección civil; Ambientólogo                                                                                                                                                                                                                                                           [Trabajadores de los servicios de protección y seguridad: Guardias civiles; Policías (nacionales, autonómicos y locales); Bomberos; Personal de seguridad privado; Otros trabajadores de los servicios de protección y seguridad (vigilantes de prisiones, bañistas-socorristas, agentes forestales y me..."
      ]
     },
     "execution_count": 294,
     "metadata": {},
     "output_type": "execute_result"
    }
   ],
   "source": [
    "df[['ocupacion_aux_','TRABOC_']].groupby('TRABOC_').agg(['unique'])[30:60] # Comprobación: "
   ]
  },
  {
   "cell_type": "code",
   "execution_count": 295,
   "metadata": {},
   "outputs": [
    {
     "data": {
      "text/html": [
       "<div>\n",
       "<style scoped>\n",
       "    .dataframe tbody tr th:only-of-type {\n",
       "        vertical-align: middle;\n",
       "    }\n",
       "\n",
       "    .dataframe tbody tr th {\n",
       "        vertical-align: top;\n",
       "    }\n",
       "\n",
       "    .dataframe thead tr th {\n",
       "        text-align: left;\n",
       "    }\n",
       "\n",
       "    .dataframe thead tr:last-of-type th {\n",
       "        text-align: right;\n",
       "    }\n",
       "</style>\n",
       "<table border=\"1\" class=\"dataframe\">\n",
       "  <thead>\n",
       "    <tr>\n",
       "      <th></th>\n",
       "      <th>ocupacion_aux_</th>\n",
       "    </tr>\n",
       "    <tr>\n",
       "      <th></th>\n",
       "      <th>unique</th>\n",
       "    </tr>\n",
       "    <tr>\n",
       "      <th>TRABOC_</th>\n",
       "      <th></th>\n",
       "    </tr>\n",
       "  </thead>\n",
       "  <tbody>\n",
       "    <tr>\n",
       "      <th>Seguridad, defensa y protección civil; Guardia civil, policía nacional, autonómico, municipal, vigilante privado, guardia jurado, vigilante forestal, vigilante de prisiones, bombero</th>\n",
       "      <td>[Trabajadores de los servicios de protección y seguridad: Guardias civiles; Policías (nacionales, autonómicos y locales); Bomberos; Personal de seguridad privado; Otros trabajadores de los servicios de protección y seguridad (vigilantes de prisiones, bañistas-socorristas, agentes forestales y me...</td>\n",
       "    </tr>\n",
       "    <tr>\n",
       "      <th>Seguridad, defensa y protección civil; Inspector o comisario de Policía, oficial de la Guardia Civil</th>\n",
       "      <td>[Trabajadores de los servicios de protección y seguridad: Guardias civiles; Policías (nacionales, autonómicos y locales); Bomberos; Personal de seguridad privado; Otros trabajadores de los servicios de protección y seguridad (vigilantes de prisiones, bañistas-socorristas, agentes forestales y me...</td>\n",
       "    </tr>\n",
       "    <tr>\n",
       "      <th>Seguridad, defensa y protección civil; Oficial, suboficial, tropa o marinería de las Fuerzas Armadas</th>\n",
       "      <td>[Ocupaciones militares: Oficiales y suboficiales de las fuerzas armadas; Tropa y marinería de las fuerzas armadas]</td>\n",
       "    </tr>\n",
       "    <tr>\n",
       "      <th>Seguridad, defensa y protección civil; Técnico de la Policía, suboficial de la Guardia Civil</th>\n",
       "      <td>[Trabajadores de los servicios de protección y seguridad: Guardias civiles; Policías (nacionales, autonómicos y locales); Bomberos; Personal de seguridad privado; Otros trabajadores de los servicios de protección y seguridad (vigilantes de prisiones, bañistas-socorristas, agentes forestales y me...</td>\n",
       "    </tr>\n",
       "    <tr>\n",
       "      <th>Servicio de limpieza, conserjes; Barrendero, recogedor de basura, clasificador de desechos</th>\n",
       "      <td>[Recogedores de residuos urbanos, vendedores callejeros y otras ocupaciones elementales en servicios: Vendedores callejeros; Repartidores de publicidad, limpiabotas y otros trabajadores de oficios callejeros; Ordenanzas, mozos de equipaje, repartidores a pie y afines; Recogedores de residuos, cl...</td>\n",
       "    </tr>\n",
       "    <tr>\n",
       "      <th>Servicio de limpieza, conserjes; Conserje, portero de edificios</th>\n",
       "      <td>[Trabajadores de los servicios personales: Peluqueros y especialistas en tratamientos de estética, bienestar y afines; Trabajadores que atienden a viajeros, guías turísticos y afines (auxiliares de vuelo y camareros de avión, barco y tren, revisores y cobradores de transporte terrestre, acompaña...</td>\n",
       "    </tr>\n",
       "    <tr>\n",
       "      <th>Servicio de limpieza, conserjes; Empleado doméstico</th>\n",
       "      <td>[Empleados domésticos]</td>\n",
       "    </tr>\n",
       "    <tr>\n",
       "      <th>Servicio de limpieza, conserjes; Operador de máquinas de lavandería y tintorería</th>\n",
       "      <td>[Operadores de instalaciones y maquinaria fijas: Operadores en instalaciones de la extracción y explotación de minerales; Operadores en instalaciones para el tratamiento de metales; Operadores de instalaciones y máquinas de productos químicos, farmacéuticos y materiales fotosensibles; Operadores...</td>\n",
       "    </tr>\n",
       "    <tr>\n",
       "      <th>Servicio de limpieza, conserjes; Personal de limpieza de oficinas, hoteles, limpiador de vehículos, ventanas, otra limpieza a mano</th>\n",
       "      <td>[Otro personal de limpieza: Personal de limpieza de oficinas, hoteles y otros establecimientos similares; Limpiadores de vehículos, ventanas y personal de limpieza a mano]</td>\n",
       "    </tr>\n",
       "    <tr>\n",
       "      <th>Servicios personales y otros servicios (cuidador, peluquero, decorador, delineante, azafato…); Cuidador de niños (domicilios, guarderías), cuidador de otras personas en domicilios</th>\n",
       "      <td>[Otros trabajadores de los cuidados a las personas: Trabajadores de los cuidados personales a domicilio; Cuidadores de niños (en guarderías y centros educativos, en domicilios)]</td>\n",
       "    </tr>\n",
       "    <tr>\n",
       "      <th>Servicios personales y otros servicios (cuidador, peluquero, decorador, delineante, azafato…); Delineante, diseñador técnico</th>\n",
       "      <td>[Técnicos de las ciencias y de las ingenierías: Delineantes y dibujantes técnicos; Técnicos de las ciencias físicas, químicas, medioambientales y de las ingenierías; Técnicos en control de procesos (técnicos en instalaciones de producción de energía, en instalaciones de tratamiento de residuos, ...</td>\n",
       "    </tr>\n",
       "    <tr>\n",
       "      <th>Servicios personales y otros servicios (cuidador, peluquero, decorador, delineante, azafato…); Diseñador, decorador</th>\n",
       "      <td>[Trabajadores de los servicios personales: Peluqueros y especialistas en tratamientos de estética, bienestar y afines; Trabajadores que atienden a viajeros, guías turísticos y afines (auxiliares de vuelo y camareros de avión, barco y tren, revisores y cobradores de transporte terrestre, acompaña...</td>\n",
       "    </tr>\n",
       "    <tr>\n",
       "      <th>Servicios personales y otros servicios (cuidador, peluquero, decorador, delineante, azafato…); Peluquero, esteticista; Azafato de avión, de tierra, guía turístico</th>\n",
       "      <td>[Trabajadores de los servicios personales: Peluqueros y especialistas en tratamientos de estética, bienestar y afines; Trabajadores que atienden a viajeros, guías turísticos y afines (auxiliares de vuelo y camareros de avión, barco y tren, revisores y cobradores de transporte terrestre, acompaña...</td>\n",
       "    </tr>\n",
       "    <tr>\n",
       "      <th>Tecnologías de la información, las comunicaciones y audiovisuales ; Analista y diseñador de software, multimedia, bases de datos y redes informáticas</th>\n",
       "      <td>[Profesionales de las tecnologías de la información: Analistas y diseñadores de software y multimedia; Especialistas en bases de datos y en redes informáticas]</td>\n",
       "    </tr>\n",
       "    <tr>\n",
       "      <th>Tecnologías de la información, las comunicaciones y audiovisuales ; Diseñador gráfico, multimedia</th>\n",
       "      <td>[Profesionales de las tecnologías de la información: Analistas y diseñadores de software y multimedia; Especialistas en bases de datos y en redes informáticas]</td>\n",
       "    </tr>\n",
       "    <tr>\n",
       "      <th>Tecnologías de la información, las comunicaciones y audiovisuales ; Fotógrafo</th>\n",
       "      <td>[Profesionales de apoyo de servicios jurídicos, sociales, culturales, deportivos y afines: Profesionales de apoyo de servicios jurídicos y sociales (detectives privados, animadores comunitarios, auxiliares laicos de las religiones,…); Deportistas, entrenadores, instructores de actividades deport...</td>\n",
       "    </tr>\n",
       "    <tr>\n",
       "      <th>Tecnologías de la información, las comunicaciones y audiovisuales ; Grabador de datos</th>\n",
       "      <td>[Otros empleados administrativos sin tareas de atención al público (grabadores de datos, empleados administrativos sin tareas de atención al público no clasificados bajo otros epígrafes)]</td>\n",
       "    </tr>\n",
       "    <tr>\n",
       "      <th>Tecnologías de la información, las comunicaciones y audiovisuales ; Programador informático; operador de sistemas, redes, web y asistencia al usuario; técnico en grabación audiovisual, radiodifusión, telecomunicaciones</th>\n",
       "      <td>[Técnicos de las tecnologías de la información y las comunicaciones (TIC): Técnicos en operaciones de tecnologías de la información y asistencia al usuario; Programadores informáticos; Técnicos en grabación audiovisual, radiodifusión y telecomunicaciones]</td>\n",
       "    </tr>\n",
       "    <tr>\n",
       "      <th>Trabajadores de la construcción o la minería; Albañil, encofrador, ferrallista, trabajador en hormigón, carpintero (madera, aluminio)</th>\n",
       "      <td>[Trabajadores en obras estructurales de construcción y afines: Trabajadores en hormigón, encofradores, ferrallistas y afines; Albañiles, canteros, tronzadores, labrantes y grabadores de piedras; Carpinteros (excepto ebanistas y montadores de estructuras metálicas); Otros trabajadores de las obra...</td>\n",
       "    </tr>\n",
       "    <tr>\n",
       "      <th>Trabajadores de la construcción o la minería; Conductor-operador de maquinaria pesada</th>\n",
       "      <td>[Maquinistas de locomotoras, operadores de maquinaria agrícola y de equipos pesados móviles, y marineros: Maquinistas de locomotoras y afines; Operadores de maquinaria agrícola y forestal móvil; Operadores de otras máquinas móviles (maquinaria de movimientos de tierras, grúas, montacargas, carre...</td>\n",
       "    </tr>\n",
       "    <tr>\n",
       "      <th>Trabajadores de la construcción o la minería; Delineante, diseñador técnico</th>\n",
       "      <td>[Técnicos de las ciencias y de las ingenierías: Delineantes y dibujantes técnicos; Técnicos de las ciencias físicas, químicas, medioambientales y de las ingenierías; Técnicos en control de procesos (técnicos en instalaciones de producción de energía, en instalaciones de tratamiento de residuos, ...</td>\n",
       "    </tr>\n",
       "    <tr>\n",
       "      <th>Trabajadores de la construcción o la minería; Electricista</th>\n",
       "      <td>[Trabajadores especializados en electricidad y electrotecnología: Electricistas de la construcción y afines; Otros instaladores y reparadores de equipos eléctricos; Instaladores y reparadores de equipos electrónicos y de telecomunicaciones]</td>\n",
       "    </tr>\n",
       "    <tr>\n",
       "      <th>Trabajadores de la construcción o la minería; Escayolista, yesista, pintor, empapelador, barnizador, parquetero, alicatador; Fontanero, instalador de refrigeración y climatización; Instalador de material aislante, de placas de energía solar, cristalero</th>\n",
       "      <td>[Trabajadores de acabado de construcciones e instalaciones (excepto electricistas), pintores y afines: Escayolistas y aplicadores de revestimientos de pasta y mortero; Fontaneros e instaladores de tuberías; Pintores, empapeladores y afines; Soladores, colocadores de parquet y afines; Mecánicos-i...</td>\n",
       "    </tr>\n",
       "    <tr>\n",
       "      <th>Trabajadores de la construcción o la minería; Jefe de obra, capataz, encargado</th>\n",
       "      <td>[Supervisores en ingeniería de minas, de industrias manufactureras y de la construcción]</td>\n",
       "    </tr>\n",
       "    <tr>\n",
       "      <th>Trabajadores de la construcción o la minería; Minero, sondista</th>\n",
       "      <td>[Operadores de instalaciones y maquinaria fijas: Operadores en instalaciones de la extracción y explotación de minerales; Operadores en instalaciones para el tratamiento de metales; Operadores de instalaciones y máquinas de productos químicos, farmacéuticos y materiales fotosensibles; Operadores...</td>\n",
       "    </tr>\n",
       "    <tr>\n",
       "      <th>Trabajadores de la construcción o la minería; Peón de la construcción o la minería</th>\n",
       "      <td>[Peones de la construcción y de la minería]</td>\n",
       "    </tr>\n",
       "    <tr>\n",
       "      <th>Trabajadores de la industria tradicional, artesanos; Artesano (cerámica, vidrio, madera, cuero, textil), joyero, relojero</th>\n",
       "      <td>[Mecánicos de precisión en metales, ceramistas, vidrieros, artesanos y trabajadores de artes gráficas: Mecánicos de precisión en metales, ceramistas, vidrieros y artesanos (relojeros, afinadores de instrumentos musicales, joyeros, alfareros, sopladores de vidrio, rotulistas, artesanos en madera,...</td>\n",
       "    </tr>\n",
       "    <tr>\n",
       "      <th>Trabajadores de la industria tradicional, artesanos; Elaborador de alimentos, bebidas o tabacos</th>\n",
       "      <td>[Trabajadores de la industria de la alimentación, bebidas y tabaco (matarifes, trabajadores de las industrias del pescado, panaderos, pasteleros, trabajadores del tratamiento de la leche, trabajadores de la elaboración de bebidas, catadores, …)]</td>\n",
       "    </tr>\n",
       "    <tr>\n",
       "      <th>Trabajadores de la industria tradicional, artesanos; Sastre, zapatero, bordador, tapicero, ebanista</th>\n",
       "      <td>[Trabajadores de la madera, textil, confección, piel, cuero, calzado y otros operarios en oficios: Trabajadores que tratan la madera y afines; Ebanistas y trabajadores afines; Trabajadores del textil, confección, piel, cuero y calzado; Pegadores, buceadores, probadores de productos y otros opera...</td>\n",
       "    </tr>\n",
       "    <tr>\n",
       "      <th>Técnicos y supervisores de la industria; Encargado o jefe de equipo de las industrias manufactureras</th>\n",
       "      <td>[Supervisores en ingeniería de minas, de industrias manufactureras y de la construcción]</td>\n",
       "    </tr>\n",
       "    <tr>\n",
       "      <th>Técnicos y supervisores de la industria; Técnico en electricidad, electrónica, construcción, laboratorio, ingenerías; técnico de control de procesos; técnico de control de calidad</th>\n",
       "      <td>[Técnicos de las ciencias y de las ingenierías: Delineantes y dibujantes técnicos; Técnicos de las ciencias físicas, químicas, medioambientales y de las ingenierías; Técnicos en control de procesos (técnicos en instalaciones de producción de energía, en instalaciones de tratamiento de residuos, ...</td>\n",
       "    </tr>\n",
       "  </tbody>\n",
       "</table>\n",
       "</div>"
      ],
      "text/plain": [
       "                                                                                                                                                                                                                                                                                                                                                                                                                                                                                                                                                           ocupacion_aux_\n",
       "                                                                                                                                                                                                                                                                                                                                                                                                                                                                                                                                                                   unique\n",
       "TRABOC_                                                                                                                                                                                                                                                                                                                                                                                                                                                                                                                                                                  \n",
       "Seguridad, defensa y protección civil; Guardia civil, policía nacional, autonómico, municipal, vigilante privado, guardia jurado, vigilante forestal, vigilante de prisiones, bombero                                                                         [Trabajadores de los servicios de protección y seguridad: Guardias civiles; Policías (nacionales, autonómicos y locales); Bomberos; Personal de seguridad privado; Otros trabajadores de los servicios de protección y seguridad (vigilantes de prisiones, bañistas-socorristas, agentes forestales y me...\n",
       "Seguridad, defensa y protección civil; Inspector o comisario de Policía, oficial de la Guardia Civil                                                                                                                                                          [Trabajadores de los servicios de protección y seguridad: Guardias civiles; Policías (nacionales, autonómicos y locales); Bomberos; Personal de seguridad privado; Otros trabajadores de los servicios de protección y seguridad (vigilantes de prisiones, bañistas-socorristas, agentes forestales y me...\n",
       "Seguridad, defensa y protección civil; Oficial, suboficial, tropa o marinería de las Fuerzas Armadas                                                                                                                                                                                                                                                                                                                                                   [Ocupaciones militares: Oficiales y suboficiales de las fuerzas armadas; Tropa y marinería de las fuerzas armadas]\n",
       "Seguridad, defensa y protección civil; Técnico de la Policía, suboficial de la Guardia Civil                                                                                                                                                                  [Trabajadores de los servicios de protección y seguridad: Guardias civiles; Policías (nacionales, autonómicos y locales); Bomberos; Personal de seguridad privado; Otros trabajadores de los servicios de protección y seguridad (vigilantes de prisiones, bañistas-socorristas, agentes forestales y me...\n",
       "Servicio de limpieza, conserjes; Barrendero, recogedor de basura, clasificador de desechos                                                                                                                                                                    [Recogedores de residuos urbanos, vendedores callejeros y otras ocupaciones elementales en servicios: Vendedores callejeros; Repartidores de publicidad, limpiabotas y otros trabajadores de oficios callejeros; Ordenanzas, mozos de equipaje, repartidores a pie y afines; Recogedores de residuos, cl...\n",
       "Servicio de limpieza, conserjes; Conserje, portero de edificios                                                                                                                                                                                               [Trabajadores de los servicios personales: Peluqueros y especialistas en tratamientos de estética, bienestar y afines; Trabajadores que atienden a viajeros, guías turísticos y afines (auxiliares de vuelo y camareros de avión, barco y tren, revisores y cobradores de transporte terrestre, acompaña...\n",
       "Servicio de limpieza, conserjes; Empleado doméstico                                                                                                                                                                                                                                                                                                                                                                                                                                                                                                [Empleados domésticos]\n",
       "Servicio de limpieza, conserjes; Operador de máquinas de lavandería y tintorería                                                                                                                                                                              [Operadores de instalaciones y maquinaria fijas: Operadores en instalaciones de la extracción y explotación de minerales; Operadores en instalaciones para el tratamiento de metales; Operadores de instalaciones y máquinas de productos químicos, farmacéuticos y materiales fotosensibles; Operadores...\n",
       "Servicio de limpieza, conserjes; Personal de limpieza de oficinas, hoteles, limpiador de vehículos, ventanas, otra limpieza a mano                                                                                                                                                                                                                                                            [Otro personal de limpieza: Personal de limpieza de oficinas, hoteles y otros establecimientos similares; Limpiadores de vehículos, ventanas y personal de limpieza a mano]\n",
       "Servicios personales y otros servicios (cuidador, peluquero, decorador, delineante, azafato…); Cuidador de niños (domicilios, guarderías), cuidador de otras personas en domicilios                                                                                                                                                                                                     [Otros trabajadores de los cuidados a las personas: Trabajadores de los cuidados personales a domicilio; Cuidadores de niños (en guarderías y centros educativos, en domicilios)]\n",
       "Servicios personales y otros servicios (cuidador, peluquero, decorador, delineante, azafato…); Delineante, diseñador técnico                                                                                                                                  [Técnicos de las ciencias y de las ingenierías: Delineantes y dibujantes técnicos; Técnicos de las ciencias físicas, químicas, medioambientales y de las ingenierías; Técnicos en control de procesos (técnicos en instalaciones de producción de energía, en instalaciones de tratamiento de residuos, ...\n",
       "Servicios personales y otros servicios (cuidador, peluquero, decorador, delineante, azafato…); Diseñador, decorador                                                                                                                                           [Trabajadores de los servicios personales: Peluqueros y especialistas en tratamientos de estética, bienestar y afines; Trabajadores que atienden a viajeros, guías turísticos y afines (auxiliares de vuelo y camareros de avión, barco y tren, revisores y cobradores de transporte terrestre, acompaña...\n",
       "Servicios personales y otros servicios (cuidador, peluquero, decorador, delineante, azafato…); Peluquero, esteticista; Azafato de avión, de tierra, guía turístico                                                                                            [Trabajadores de los servicios personales: Peluqueros y especialistas en tratamientos de estética, bienestar y afines; Trabajadores que atienden a viajeros, guías turísticos y afines (auxiliares de vuelo y camareros de avión, barco y tren, revisores y cobradores de transporte terrestre, acompaña...\n",
       "Tecnologías de la información, las comunicaciones y audiovisuales ; Analista y diseñador de software, multimedia, bases de datos y redes informáticas                                                                                                                                                                                                                                                     [Profesionales de las tecnologías de la información: Analistas y diseñadores de software y multimedia; Especialistas en bases de datos y en redes informáticas]\n",
       "Tecnologías de la información, las comunicaciones y audiovisuales ; Diseñador gráfico, multimedia                                                                                                                                                                                                                                                                                                         [Profesionales de las tecnologías de la información: Analistas y diseñadores de software y multimedia; Especialistas en bases de datos y en redes informáticas]\n",
       "Tecnologías de la información, las comunicaciones y audiovisuales ; Fotógrafo                                                                                                                                                                                 [Profesionales de apoyo de servicios jurídicos, sociales, culturales, deportivos y afines: Profesionales de apoyo de servicios jurídicos y sociales (detectives privados, animadores comunitarios, auxiliares laicos de las religiones,…); Deportistas, entrenadores, instructores de actividades deport...\n",
       "Tecnologías de la información, las comunicaciones y audiovisuales ; Grabador de datos                                                                                                                                                                                                                                                                                         [Otros empleados administrativos sin tareas de atención al público (grabadores de datos, empleados administrativos sin tareas de atención al público no clasificados bajo otros epígrafes)]\n",
       "Tecnologías de la información, las comunicaciones y audiovisuales ; Programador informático; operador de sistemas, redes, web y asistencia al usuario; técnico en grabación audiovisual, radiodifusión, telecomunicaciones                                                                                [Técnicos de las tecnologías de la información y las comunicaciones (TIC): Técnicos en operaciones de tecnologías de la información y asistencia al usuario; Programadores informáticos; Técnicos en grabación audiovisual, radiodifusión y telecomunicaciones]\n",
       "Trabajadores de la construcción o la minería; Albañil, encofrador, ferrallista, trabajador en hormigón, carpintero (madera, aluminio)                                                                                                                         [Trabajadores en obras estructurales de construcción y afines: Trabajadores en hormigón, encofradores, ferrallistas y afines; Albañiles, canteros, tronzadores, labrantes y grabadores de piedras; Carpinteros (excepto ebanistas y montadores de estructuras metálicas); Otros trabajadores de las obra...\n",
       "Trabajadores de la construcción o la minería; Conductor-operador de maquinaria pesada                                                                                                                                                                         [Maquinistas de locomotoras, operadores de maquinaria agrícola y de equipos pesados móviles, y marineros: Maquinistas de locomotoras y afines; Operadores de maquinaria agrícola y forestal móvil; Operadores de otras máquinas móviles (maquinaria de movimientos de tierras, grúas, montacargas, carre...\n",
       "Trabajadores de la construcción o la minería; Delineante, diseñador técnico                                                                                                                                                                                   [Técnicos de las ciencias y de las ingenierías: Delineantes y dibujantes técnicos; Técnicos de las ciencias físicas, químicas, medioambientales y de las ingenierías; Técnicos en control de procesos (técnicos en instalaciones de producción de energía, en instalaciones de tratamiento de residuos, ...\n",
       "Trabajadores de la construcción o la minería; Electricista                                                                                                                                                                                                                                                               [Trabajadores especializados en electricidad y electrotecnología: Electricistas de la construcción y afines; Otros instaladores y reparadores de equipos eléctricos; Instaladores y reparadores de equipos electrónicos y de telecomunicaciones]\n",
       "Trabajadores de la construcción o la minería; Escayolista, yesista, pintor, empapelador, barnizador, parquetero, alicatador; Fontanero, instalador de refrigeración y climatización; Instalador de material aislante, de placas de energía solar, cristalero  [Trabajadores de acabado de construcciones e instalaciones (excepto electricistas), pintores y afines: Escayolistas y aplicadores de revestimientos de pasta y mortero; Fontaneros e instaladores de tuberías; Pintores, empapeladores y afines; Soladores, colocadores de parquet y afines; Mecánicos-i...\n",
       "Trabajadores de la construcción o la minería; Jefe de obra, capataz, encargado                                                                                                                                                                                                                                                                                                                                                                                                   [Supervisores en ingeniería de minas, de industrias manufactureras y de la construcción]\n",
       "Trabajadores de la construcción o la minería; Minero, sondista                                                                                                                                                                                                [Operadores de instalaciones y maquinaria fijas: Operadores en instalaciones de la extracción y explotación de minerales; Operadores en instalaciones para el tratamiento de metales; Operadores de instalaciones y máquinas de productos químicos, farmacéuticos y materiales fotosensibles; Operadores...\n",
       "Trabajadores de la construcción o la minería; Peón de la construcción o la minería                                                                                                                                                                                                                                                                                                                                                                                                                                            [Peones de la construcción y de la minería]\n",
       "Trabajadores de la industria tradicional, artesanos; Artesano (cerámica, vidrio, madera, cuero, textil), joyero, relojero                                                                                                                                     [Mecánicos de precisión en metales, ceramistas, vidrieros, artesanos y trabajadores de artes gráficas: Mecánicos de precisión en metales, ceramistas, vidrieros y artesanos (relojeros, afinadores de instrumentos musicales, joyeros, alfareros, sopladores de vidrio, rotulistas, artesanos en madera,...\n",
       "Trabajadores de la industria tradicional, artesanos; Elaborador de alimentos, bebidas o tabacos                                                                                                                                                                                                                     [Trabajadores de la industria de la alimentación, bebidas y tabaco (matarifes, trabajadores de las industrias del pescado, panaderos, pasteleros, trabajadores del tratamiento de la leche, trabajadores de la elaboración de bebidas, catadores, …)]\n",
       "Trabajadores de la industria tradicional, artesanos; Sastre, zapatero, bordador, tapicero, ebanista                                                                                                                                                           [Trabajadores de la madera, textil, confección, piel, cuero, calzado y otros operarios en oficios: Trabajadores que tratan la madera y afines; Ebanistas y trabajadores afines; Trabajadores del textil, confección, piel, cuero y calzado; Pegadores, buceadores, probadores de productos y otros opera...\n",
       "Técnicos y supervisores de la industria; Encargado o jefe de equipo de las industrias manufactureras                                                                                                                                                                                                                                                                                                                                                                             [Supervisores en ingeniería de minas, de industrias manufactureras y de la construcción]\n",
       "Técnicos y supervisores de la industria; Técnico en electricidad, electrónica, construcción, laboratorio, ingenerías; técnico de control de procesos; técnico de control de calidad                                                                           [Técnicos de las ciencias y de las ingenierías: Delineantes y dibujantes técnicos; Técnicos de las ciencias físicas, químicas, medioambientales y de las ingenierías; Técnicos en control de procesos (técnicos en instalaciones de producción de energía, en instalaciones de tratamiento de residuos, ..."
      ]
     },
     "execution_count": 295,
     "metadata": {},
     "output_type": "execute_result"
    }
   ],
   "source": [
    "df[['ocupacion_aux_','TRABOC_']].groupby('TRABOC_').agg(['unique'])[60:] # Comprobación: "
   ]
  },
  {
   "cell_type": "code",
   "execution_count": 296,
   "metadata": {},
   "outputs": [],
   "source": [
    "del df['ocupacion_aux_']"
   ]
  },
  {
   "cell_type": "code",
   "execution_count": 297,
   "metadata": {},
   "outputs": [],
   "source": [
    "# variable literal con códigos 2019 abreviados\n",
    "df['ocupacion_']=df['ocupacion'].replace(D_ocupaciones)\n",
    "# df['ocupacion_'].unique() # Comprobación: "
   ]
  },
  {
   "cell_type": "markdown",
   "metadata": {},
   "source": [
    "## 'TR_CNAE' (redefinida como 'cnae')\n",
    "\n",
    "(Solo para quienes declaran **situación de ocupación** -respuesta 1 en 'TRBPRN1' (o 'sit_lab')-)  \n",
    "\n",
    "**Actividad principal de la empresa** donde trabaja actualmente.   \n",
    "Nota: se recodifica la variable 'cnae' para establecer valores numéricos."
   ]
  },
  {
   "cell_type": "code",
   "execution_count": 298,
   "metadata": {},
   "outputs": [
    {
     "data": {
      "text/plain": [
       "array(['M1', 'FF', '88', 'PP', 'II', '  ', 'N5', 'GG', 'LL', 'CC', 'N4',\n",
       "       'OO', 'S1', 'RR', 'N6', 'N2', 'JJ', 'AA', 'EE', 'QQ', 'UU', 'S4',\n",
       "       'M2', 'DD', 'N1', 'M3', 'KK', 'N3', 'HH', 'BB', 'S2', 'S3', 'TT'],\n",
       "      dtype=object)"
      ]
     },
     "execution_count": 298,
     "metadata": {},
     "output_type": "execute_result"
    }
   ],
   "source": [
    "df['TR_CNAE'].unique() # No informados como '88' o '00'"
   ]
  },
  {
   "cell_type": "code",
   "execution_count": 299,
   "metadata": {},
   "outputs": [
    {
     "name": "stdout",
     "output_type": "stream",
     "text": [
      "                                                                                                                                                                                                   aux_traduce\n",
      "                                                                                                                                                                                                        unique\n",
      "TR_CNAE                                                                                                                                                                                                       \n",
      "AA                                                                                                                                                              [Agricultura, ganadería, silvicultura y pesca]\n",
      "BB                                                                                                                                                                                    [Industrias extractivas]\n",
      "CC                                                                                                                                                                                   [Industria manufacturera]\n",
      "DD                                                                                                                                          [Suministro de energía eléctrica, gas, vapor y aire acondicionado]\n",
      "EE                                                                                                                    [Suministro de agua, actividades de saneamiento, gestión de residuos y descontaminación]\n",
      "FF                                                                                                                                                                           [Construcción e ingeniería civil]\n",
      "GG                                                                                                                     [Comercio al por mayor y al por menor; reparación de vehículos de motor y motocicletas]\n",
      "HH                                                                                                                                             [Transporte, almacenamiento, actividades postales y de correos]\n",
      "II                                                                                                                                                                                                [Hostelería]\n",
      "JJ           [Información y comunicaciones (actividades de edición, cinematográficas, de vídeo, de sonido, programas de televisión, telecomunicaciones, programación informática y servicios de información) ]\n",
      "KK                                                                                                                                                                      [Actividades financieras y de seguros]\n",
      "LL                                                                                                                                                                                 [Actividades inmobiliarias]\n",
      "M1                                                                                                                                                         [Actividades profesionales, científicas y técnicas]\n",
      "M2                                                                                                                                                                                 [Actividades de fotografía]\n",
      "M3                                                                                                                                                                                  [Actividades veterinarias]\n",
      "N1                                                                                                                                                                                   [Actividades de alquiler]\n",
      "N2                                                                                                                                                                    [Actividades relacionadas con el empleo]\n",
      "N3                                                                                 [Actividades de agencias de viajes, operadores turísticos, servicios de reservas y actividades relacionadas con los mismos]\n",
      "N4                                                                                                                                                                  [Actividades de seguridad e investigación]\n",
      "N5                                                                                                                                                         [Servicios a edificios y actividades de jardinería]\n",
      "N6                                                                                                                      [Actividades administrativas de oficina y otras actividades auxiliares a las empresas]\n",
      "OO                                                                                                                                            [Administración Pública y defensa; Seguridad Social obligatoria]\n",
      "PP                                                                                                                                                                                                 [Educación]\n",
      "QQ                                                                                                                                                            [Actividades sanitarias y de servicios sociales]\n",
      "RR                                                                                                                            [Actividades artísticas, culturales, recreativas, deportivas y de entrenimiento]\n",
      "S1                                                                                                                                                                     [Actividades asociativas  y sindicales]\n",
      "S2                                                                                                                                                                                 [Reparación de ordenadores]\n",
      "S3       [Efectos personales y artículos de uso doméstico y otros servicios personales (lavado y limpieza de prendas, peluquería y otros tratamientos de belleza, pompas fúnebres y actividades relacionadas)]\n",
      "S4                                                                                                                                                                       [Actividades de mantenimiento físico]\n",
      "TT                                                                                  [Particulares como empleadores de personal doméstico; particulares como productores de bienes y servicios para uso propio]\n",
      "UU                                                                                                                                             [Actividades de organizaciones y organismos extraterritoriales]\n"
     ]
    }
   ],
   "source": [
    "no_respuesta('TR_CNAE',blank='88',nsnc='  ')"
   ]
  },
  {
   "cell_type": "code",
   "execution_count": 300,
   "metadata": {},
   "outputs": [
    {
     "name": "stdout",
     "output_type": "stream",
     "text": [
      "                                                                                                                                                                                                aux_traduce\n",
      "                                                                                                                                                                                                     unique\n",
      "cnae                                                                                                                                                                                                       \n",
      "0                                                                                                                                                                              [No conocido o no aplicable]\n",
      "1                                                                                                                                                            [Agricultura, ganadería, silvicultura y pesca]\n",
      "2                                                                                                                                                                                  [Industrias extractivas]\n",
      "3                                                                                                                                                                                 [Industria manufacturera]\n",
      "4                                                                                                                                        [Suministro de energía eléctrica, gas, vapor y aire acondicionado]\n",
      "5                                                                                                                  [Suministro de agua, actividades de saneamiento, gestión de residuos y descontaminación]\n",
      "6                                                                                                                                                                         [Construcción e ingeniería civil]\n",
      "7                                                                                                                   [Comercio al por mayor y al por menor; reparación de vehículos de motor y motocicletas]\n",
      "8                                                                                                                                           [Transporte, almacenamiento, actividades postales y de correos]\n",
      "9                                                                                                                                                                                              [Hostelería]\n",
      "10        [Información y comunicaciones (actividades de edición, cinematográficas, de vídeo, de sonido, programas de televisión, telecomunicaciones, programación informática y servicios de información) ]\n",
      "11                                                                                                                                                                   [Actividades financieras y de seguros]\n",
      "12                                                                                                                                                                              [Actividades inmobiliarias]\n",
      "13                                                                                                                                                      [Actividades profesionales, científicas y técnicas]\n",
      "14                                                                                                                                                                              [Actividades de fotografía]\n",
      "15                                                                                                                                                                               [Actividades veterinarias]\n",
      "16                                                                                                                                                                                [Actividades de alquiler]\n",
      "17                                                                                                                                                                 [Actividades relacionadas con el empleo]\n",
      "18                                                                              [Actividades de agencias de viajes, operadores turísticos, servicios de reservas y actividades relacionadas con los mismos]\n",
      "19                                                                                                                                                               [Actividades de seguridad e investigación]\n",
      "20                                                                                                                                                      [Servicios a edificios y actividades de jardinería]\n",
      "21                                                                                                                   [Actividades administrativas de oficina y otras actividades auxiliares a las empresas]\n",
      "22                                                                                                                                         [Administración Pública y defensa; Seguridad Social obligatoria]\n",
      "23                                                                                                                                                                                              [Educación]\n",
      "24                                                                                                                                                         [Actividades sanitarias y de servicios sociales]\n",
      "25                                                                                                                         [Actividades artísticas, culturales, recreativas, deportivas y de entrenimiento]\n",
      "26                                                                                                                                                                  [Actividades asociativas  y sindicales]\n",
      "27                                                                                                                                                                              [Reparación de ordenadores]\n",
      "28    [Efectos personales y artículos de uso doméstico y otros servicios personales (lavado y limpieza de prendas, peluquería y otros tratamientos de belleza, pompas fúnebres y actividades relacionadas)]\n",
      "29                                                                                                                                                                    [Actividades de mantenimiento físico]\n",
      "30                                                                               [Particulares como empleadores de personal doméstico; particulares como productores de bienes y servicios para uso propio]\n",
      "31                                                                                                                                          [Actividades de organizaciones y organismos extraterritoriales]\n"
     ]
    }
   ],
   "source": [
    "df['cnae']=df['TR_CNAE'].replace(D_cnae_a_num)\n",
    "df['cnae_']=traduce_lower('cnae')"
   ]
  },
  {
   "cell_type": "markdown",
   "metadata": {},
   "source": [
    "## 'TR_TAM' (redefinida como 'tamaño_em')\n",
    "\n",
    "(Solo para quienes declaran **situación de ocupación** -respuesta 1 en 'TRBPRN1' (o 'sit_lab')-   \n",
    "\n",
    "**Número de trabajadores** en la empresa en la que trabaja actualmente. \n",
    "\n",
    "Nota: la variable está codificada con un criterio distinto del empleado en las encuestas de 2019. Se modifica el criterio para establecer el más reciente. "
   ]
  },
  {
   "cell_type": "code",
   "execution_count": 301,
   "metadata": {},
   "outputs": [
    {
     "data": {
      "text/plain": [
       "array(['2', '1', '8', '3', '4', ' '], dtype=object)"
      ]
     },
     "execution_count": 301,
     "metadata": {},
     "output_type": "execute_result"
    }
   ],
   "source": [
    "df['TR_TAM'].unique() # No informados como '8' o ' '"
   ]
  },
  {
   "cell_type": "code",
   "execution_count": 302,
   "metadata": {},
   "outputs": [
    {
     "name": "stdout",
     "output_type": "stream",
     "text": [
      "                     aux_traduce\n",
      "                          unique\n",
      "TR_TAM                          \n",
      "                         [NS/NC]\n",
      "1           [De 1 a 10 personas]\n",
      "2       [Entre 11 y 19 personas]\n",
      "3       [Entre 20 y 49 personas]\n",
      "4            [50 o más personas]\n",
      "8                 [No aplicable]\n"
     ]
    }
   ],
   "source": [
    "traduce_upper('TR_TAM')"
   ]
  },
  {
   "cell_type": "code",
   "execution_count": 303,
   "metadata": {},
   "outputs": [
    {
     "name": "stdout",
     "output_type": "stream",
     "text": [
      "                     aux_traduce\n",
      "                          unique\n",
      "TR_TAM                          \n",
      "1.0         [De 1 a 10 personas]\n",
      "2.0     [Entre 11 y 19 personas]\n",
      "3.0     [Entre 20 y 49 personas]\n",
      "4.0          [50 o más personas]\n"
     ]
    }
   ],
   "source": [
    "no_respuesta('TR_TAM',blank='8',nsnc=' ')"
   ]
  },
  {
   "cell_type": "code",
   "execution_count": 304,
   "metadata": {},
   "outputs": [
    {
     "data": {
      "text/plain": [
       "[(1, 'De 1 a 9 personas'),\n",
       " (2, 'Entre 10 y 19 personas'),\n",
       " (3, 'Entre 20 y 49 personas'),\n",
       " (9, 'NS/NC'),\n",
       " (0, 'Trabajadores independientes o autónomos sin asalariados'),\n",
       " (4, 'Entre 50 y 249 personas'),\n",
       " (5, '250 o más personas')]"
      ]
     },
     "execution_count": 304,
     "metadata": {},
     "output_type": "execute_result"
    }
   ],
   "source": [
    "# Categorías en encuestas 2019:\n",
    "[(k,v) for (k,v) in d_dict['tamaño_em'].items() if type(k)==int]"
   ]
  },
  {
   "cell_type": "code",
   "execution_count": 305,
   "metadata": {},
   "outputs": [
    {
     "data": {
      "text/plain": [
       "array([ 2.,  1., nan,  3.,  5.])"
      ]
     },
     "execution_count": 305,
     "metadata": {},
     "output_type": "execute_result"
    }
   ],
   "source": [
    "# La categoría '50 o más personas' se transforma en '250 o más personas' por ser más frecuente en las encuestas ...\n",
    "# ... de 2019 que la categoría 'Entre 50 y 249 personas':\n",
    "df['tamaño_em']=df['TR_TAM'].replace({4:5})\n",
    "df['tamaño_em'].unique()\n",
    "# Se asume el error de categorización para las empresas con 9 trabajadores"
   ]
  },
  {
   "cell_type": "code",
   "execution_count": 306,
   "metadata": {},
   "outputs": [
    {
     "name": "stdout",
     "output_type": "stream",
     "text": [
      "                        aux_traduce\n",
      "                             unique\n",
      "tamaño_em                          \n",
      "1.0             [De 1 a 9 personas]\n",
      "2.0        [Entre 10 y 19 personas]\n",
      "3.0        [Entre 20 y 49 personas]\n",
      "5.0            [250 o más personas]\n"
     ]
    },
    {
     "data": {
      "text/html": [
       "<div>\n",
       "<style scoped>\n",
       "    .dataframe tbody tr th:only-of-type {\n",
       "        vertical-align: middle;\n",
       "    }\n",
       "\n",
       "    .dataframe tbody tr th {\n",
       "        vertical-align: top;\n",
       "    }\n",
       "\n",
       "    .dataframe thead tr th {\n",
       "        text-align: left;\n",
       "    }\n",
       "\n",
       "    .dataframe thead tr:last-of-type th {\n",
       "        text-align: right;\n",
       "    }\n",
       "</style>\n",
       "<table border=\"1\" class=\"dataframe\">\n",
       "  <thead>\n",
       "    <tr>\n",
       "      <th></th>\n",
       "      <th>sit_lab_detalle_</th>\n",
       "    </tr>\n",
       "    <tr>\n",
       "      <th></th>\n",
       "      <th>unique</th>\n",
       "    </tr>\n",
       "    <tr>\n",
       "      <th>tamaño_em_</th>\n",
       "      <th></th>\n",
       "    </tr>\n",
       "  </thead>\n",
       "  <tbody>\n",
       "    <tr>\n",
       "      <th>250 o más personas</th>\n",
       "      <td>[(Ocupado) Trabajador en prácticas, formación (incluido MIR, EIR, FIR,…) o becario, (Ocupado) Asalariado con trabajo permanente o contrato de trabajo de duración indefinida, (Ocupado) Asalariado con trabajo temporal o contrato de trabajo de duración determinada, (Ocupado) Ayuda en la empresa o n...</td>\n",
       "    </tr>\n",
       "    <tr>\n",
       "      <th>De 1 a 9 personas</th>\n",
       "      <td>[(Ocupado) Ayuda en la empresa o negocio familiar, (Ocupado) Asalariado con trabajo temporal o contrato de trabajo de duración determinada, (Ocupado) Asalariado con trabajo permanente o contrato de trabajo de duración indefinida, (Ocupado) Trabajador en prácticas, formación (incluido MIR, EIR, F...</td>\n",
       "    </tr>\n",
       "    <tr>\n",
       "      <th>Entre 10 y 19 personas</th>\n",
       "      <td>[(Ocupado) Asalariado con trabajo temporal o contrato de trabajo de duración determinada, (Ocupado) Asalariado con trabajo permanente o contrato de trabajo de duración indefinida, (Ocupado) Trabajador en prácticas, formación (incluido MIR, EIR, FIR,…) o becario, (Ocupado) Ayuda en la empresa o n...</td>\n",
       "    </tr>\n",
       "    <tr>\n",
       "      <th>Entre 20 y 49 personas</th>\n",
       "      <td>[(Ocupado) Asalariado con trabajo permanente o contrato de trabajo de duración indefinida, (Ocupado) Asalariado con trabajo temporal o contrato de trabajo de duración determinada, (Ocupado) Trabajador en prácticas, formación (incluido MIR, EIR, FIR,…) o becario, (Ocupado) Ayuda en la empresa o n...</td>\n",
       "    </tr>\n",
       "  </tbody>\n",
       "</table>\n",
       "</div>"
      ],
      "text/plain": [
       "                                                                                                                                                                                                                                                                                                                   sit_lab_detalle_\n",
       "                                                                                                                                                                                                                                                                                                                             unique\n",
       "tamaño_em_                                                                                                                                                                                                                                                                                                                         \n",
       "250 o más personas      [(Ocupado) Trabajador en prácticas, formación (incluido MIR, EIR, FIR,…) o becario, (Ocupado) Asalariado con trabajo permanente o contrato de trabajo de duración indefinida, (Ocupado) Asalariado con trabajo temporal o contrato de trabajo de duración determinada, (Ocupado) Ayuda en la empresa o n...\n",
       "De 1 a 9 personas       [(Ocupado) Ayuda en la empresa o negocio familiar, (Ocupado) Asalariado con trabajo temporal o contrato de trabajo de duración determinada, (Ocupado) Asalariado con trabajo permanente o contrato de trabajo de duración indefinida, (Ocupado) Trabajador en prácticas, formación (incluido MIR, EIR, F...\n",
       "Entre 10 y 19 personas  [(Ocupado) Asalariado con trabajo temporal o contrato de trabajo de duración determinada, (Ocupado) Asalariado con trabajo permanente o contrato de trabajo de duración indefinida, (Ocupado) Trabajador en prácticas, formación (incluido MIR, EIR, FIR,…) o becario, (Ocupado) Ayuda en la empresa o n...\n",
       "Entre 20 y 49 personas  [(Ocupado) Asalariado con trabajo permanente o contrato de trabajo de duración indefinida, (Ocupado) Asalariado con trabajo temporal o contrato de trabajo de duración determinada, (Ocupado) Trabajador en prácticas, formación (incluido MIR, EIR, FIR,…) o becario, (Ocupado) Ayuda en la empresa o n..."
      ]
     },
     "execution_count": 306,
     "metadata": {},
     "output_type": "execute_result"
    }
   ],
   "source": [
    "# Se imputa 'Trabajadores independientes o autónomos sin asalariados' a quienes declararon esa condición ...\n",
    "# ... en 'sit_lab_detalle':\n",
    "df['tamaño_em'].mask(df['SIT_PRO']==11,0,inplace=True)\n",
    "df['tamaño_em_']=traduce_lower('tamaño_em') # códigos 2019\n",
    "df[['tamaño_em_','sit_lab_detalle_']].groupby('tamaño_em_').agg(['unique']) # Comprobación: "
   ]
  },
  {
   "cell_type": "markdown",
   "metadata": {},
   "source": [
    "## 'TR_SUELDO'   (redefinida como 'sueldo')  \n",
    "\n",
    "**Sueldo mensual neto** actual.\n",
    "\n",
    "Nota: no informada en este dataset."
   ]
  },
  {
   "cell_type": "code",
   "execution_count": 307,
   "metadata": {},
   "outputs": [],
   "source": [
    "df['sueldo']=None"
   ]
  },
  {
   "cell_type": "markdown",
   "metadata": {},
   "source": [
    "# 'DSTRE41'  (redefinida como 'vbtr_teoricos')       \n",
    "\n",
    "Influencia de los **conocimientos teóricos** para conseguir su trabajo actual. "
   ]
  },
  {
   "cell_type": "code",
   "execution_count": 308,
   "metadata": {},
   "outputs": [
    {
     "data": {
      "text/plain": [
       "array(['5', '8', '4', '2', '3', '1', ' '], dtype=object)"
      ]
     },
     "execution_count": 308,
     "metadata": {},
     "output_type": "execute_result"
    }
   ],
   "source": [
    "df['DSTRE41'].unique() # No informados como '8' o ' '"
   ]
  },
  {
   "cell_type": "code",
   "execution_count": 309,
   "metadata": {},
   "outputs": [
    {
     "name": "stdout",
     "output_type": "stream",
     "text": [
      "            aux_traduce\n",
      "                 unique\n",
      "DSTRE41                \n",
      "                [NS/NC]\n",
      "1                [Nada]\n",
      "2                [Poco]\n",
      "3                [Algo]\n",
      "4            [Bastante]\n",
      "5               [Mucho]\n",
      "8        [No aplicable]\n"
     ]
    }
   ],
   "source": [
    "traduce_upper('DSTRE41')"
   ]
  },
  {
   "cell_type": "code",
   "execution_count": 310,
   "metadata": {},
   "outputs": [
    {
     "data": {
      "text/plain": [
       "[(1, 'Nada'),\n",
       " (2, 'Poco'),\n",
       " (3, 'Algo'),\n",
       " (9, 'NS/NC'),\n",
       " (4, 'Bastante'),\n",
       " (5, 'Mucho')]"
      ]
     },
     "execution_count": 310,
     "metadata": {},
     "output_type": "execute_result"
    }
   ],
   "source": [
    "# Categorías en encuestas 2019:\n",
    "[(k,v) for (k,v) in d_dict['vbtr_teoricos'].items() if type(k)==int] # Misma codificacion"
   ]
  },
  {
   "cell_type": "code",
   "execution_count": 311,
   "metadata": {},
   "outputs": [],
   "source": [
    "def vbtr(col,nuevo):\n",
    "    \"\"\"Procesa columnas referidas a influencia de distintos factores en el éxito en la búsqueda de empleo.\n",
    "    \"\"\"\n",
    "    no_respuesta(col,blank='8',nsnc=' ')\n",
    "    redefine(col,nuevo)\n",
    "    return"
   ]
  },
  {
   "cell_type": "code",
   "execution_count": 312,
   "metadata": {},
   "outputs": [
    {
     "name": "stdout",
     "output_type": "stream",
     "text": [
      "        aux_traduce\n",
      "             unique\n",
      "DSTRE41            \n",
      "1.0          [Nada]\n",
      "2.0          [Poco]\n",
      "3.0          [Algo]\n",
      "4.0      [Bastante]\n",
      "5.0         [Mucho]\n",
      "              aux_traduce\n",
      "                   unique\n",
      "vbtr_teoricos            \n",
      "1.0                [Nada]\n",
      "2.0                [Poco]\n",
      "3.0                [Algo]\n",
      "4.0            [Bastante]\n",
      "5.0               [Mucho]\n"
     ]
    }
   ],
   "source": [
    "vbtr('DSTRE41','vbtr_teoricos')"
   ]
  },
  {
   "cell_type": "markdown",
   "metadata": {},
   "source": [
    "# 'DSTRE42'  (redefinida como 'vbtr_practicos')        \n",
    "\n",
    "Influencia de las **habilidades prácticas** para conseguir su trabajo actual. "
   ]
  },
  {
   "cell_type": "code",
   "execution_count": 313,
   "metadata": {},
   "outputs": [
    {
     "data": {
      "text/plain": [
       "array(['5', '8', '4', '2', '1', '3', ' '], dtype=object)"
      ]
     },
     "execution_count": 313,
     "metadata": {},
     "output_type": "execute_result"
    }
   ],
   "source": [
    "df['DSTRE42'].unique() # No informados como '8' o ' '"
   ]
  },
  {
   "cell_type": "code",
   "execution_count": 314,
   "metadata": {},
   "outputs": [
    {
     "name": "stdout",
     "output_type": "stream",
     "text": [
      "        aux_traduce\n",
      "             unique\n",
      "DSTRE42            \n",
      "1.0          [Nada]\n",
      "2.0          [Poco]\n",
      "3.0          [Algo]\n",
      "4.0      [Bastante]\n",
      "5.0         [Mucho]\n",
      "               aux_traduce\n",
      "                    unique\n",
      "vbtr_practicos            \n",
      "1.0                 [Nada]\n",
      "2.0                 [Poco]\n",
      "3.0                 [Algo]\n",
      "4.0             [Bastante]\n",
      "5.0                [Mucho]\n"
     ]
    }
   ],
   "source": [
    "vbtr('DSTRE42','vbtr_practicos')"
   ]
  },
  {
   "cell_type": "markdown",
   "metadata": {},
   "source": [
    "# 'DSTRE43'  (redefinida como 'vbtr_idiomas')     \n",
    "\n",
    "Influencia de **conocer idiomas** para conseguir su trabajo actual. "
   ]
  },
  {
   "cell_type": "code",
   "execution_count": 315,
   "metadata": {},
   "outputs": [
    {
     "data": {
      "text/plain": [
       "array(['5', '8', '4', '2', '3', '1', ' '], dtype=object)"
      ]
     },
     "execution_count": 315,
     "metadata": {},
     "output_type": "execute_result"
    }
   ],
   "source": [
    "df['DSTRE43'].unique() # No informados como '8' o ' '"
   ]
  },
  {
   "cell_type": "code",
   "execution_count": 316,
   "metadata": {},
   "outputs": [
    {
     "name": "stdout",
     "output_type": "stream",
     "text": [
      "        aux_traduce\n",
      "             unique\n",
      "DSTRE43            \n",
      "1.0          [Nada]\n",
      "2.0          [Poco]\n",
      "3.0          [Algo]\n",
      "4.0      [Bastante]\n",
      "5.0         [Mucho]\n",
      "             aux_traduce\n",
      "                  unique\n",
      "vbtr_idiomas            \n",
      "1.0               [Nada]\n",
      "2.0               [Poco]\n",
      "3.0               [Algo]\n",
      "4.0           [Bastante]\n",
      "5.0              [Mucho]\n"
     ]
    }
   ],
   "source": [
    "vbtr('DSTRE43','vbtr_idiomas')"
   ]
  },
  {
   "cell_type": "markdown",
   "metadata": {},
   "source": [
    "# 'DSTRE44'  (redefinida como 'vbtr_ti')      \n",
    "\n",
    "Influencia de la formación o el dominio de la **informática** y de las **tecnologías de la información y la comunicación** para conseguir su trabajo actual. "
   ]
  },
  {
   "cell_type": "code",
   "execution_count": 317,
   "metadata": {},
   "outputs": [
    {
     "data": {
      "text/plain": [
       "array(['5', '8', '1', '4', '3', ' ', '2'], dtype=object)"
      ]
     },
     "execution_count": 317,
     "metadata": {},
     "output_type": "execute_result"
    }
   ],
   "source": [
    "df['DSTRE44'].unique() # No informados como '8' o ' '"
   ]
  },
  {
   "cell_type": "code",
   "execution_count": 318,
   "metadata": {},
   "outputs": [
    {
     "name": "stdout",
     "output_type": "stream",
     "text": [
      "        aux_traduce\n",
      "             unique\n",
      "DSTRE44            \n",
      "1.0          [Nada]\n",
      "2.0          [Poco]\n",
      "3.0          [Algo]\n",
      "4.0      [Bastante]\n",
      "5.0         [Mucho]\n",
      "        aux_traduce\n",
      "             unique\n",
      "vbtr_ti            \n",
      "1.0          [Nada]\n",
      "2.0          [Poco]\n",
      "3.0          [Algo]\n",
      "4.0      [Bastante]\n",
      "5.0         [Mucho]\n"
     ]
    }
   ],
   "source": [
    "vbtr('DSTRE44','vbtr_ti')"
   ]
  },
  {
   "cell_type": "markdown",
   "metadata": {},
   "source": [
    "# 'DSTRE45'  (redefinida como 'vbtr_personales')      \n",
    "\n",
    "Influencia de las **competencias personales y sociales** -personalidad, habilidades sociales, comunicación, capacidad de trabajar en grupo- para conseguir su trabajo actual. "
   ]
  },
  {
   "cell_type": "code",
   "execution_count": 319,
   "metadata": {},
   "outputs": [
    {
     "data": {
      "text/plain": [
       "array(['5', '8', '4', '3', '2', ' ', '1'], dtype=object)"
      ]
     },
     "execution_count": 319,
     "metadata": {},
     "output_type": "execute_result"
    }
   ],
   "source": [
    "df['DSTRE45'].unique() # No informados como '8' o ' '"
   ]
  },
  {
   "cell_type": "code",
   "execution_count": 320,
   "metadata": {},
   "outputs": [
    {
     "name": "stdout",
     "output_type": "stream",
     "text": [
      "        aux_traduce\n",
      "             unique\n",
      "DSTRE45            \n",
      "1.0          [Nada]\n",
      "2.0          [Poco]\n",
      "3.0          [Algo]\n",
      "4.0      [Bastante]\n",
      "5.0         [Mucho]\n",
      "                aux_traduce\n",
      "                     unique\n",
      "vbtr_personales            \n",
      "1.0                  [Nada]\n",
      "2.0                  [Poco]\n",
      "3.0                  [Algo]\n",
      "4.0              [Bastante]\n",
      "5.0                 [Mucho]\n"
     ]
    }
   ],
   "source": [
    "vbtr('DSTRE45','vbtr_personales')"
   ]
  },
  {
   "cell_type": "markdown",
   "metadata": {},
   "source": [
    "# 'DSTRE46'  (redefinida como 'vbtr_gestion')     \n",
    "\n",
    "Influencia de la **capacidad de gestión, planificación y emprendimiento** para conseguir su trabajo actual. "
   ]
  },
  {
   "cell_type": "code",
   "execution_count": 321,
   "metadata": {},
   "outputs": [
    {
     "data": {
      "text/plain": [
       "array(['5', '8', '4', '3', '1', '2', ' '], dtype=object)"
      ]
     },
     "execution_count": 321,
     "metadata": {},
     "output_type": "execute_result"
    }
   ],
   "source": [
    "df['DSTRE46'].unique() # No informados como ' ' o '9'"
   ]
  },
  {
   "cell_type": "code",
   "execution_count": 322,
   "metadata": {},
   "outputs": [
    {
     "name": "stdout",
     "output_type": "stream",
     "text": [
      "        aux_traduce\n",
      "             unique\n",
      "DSTRE46            \n",
      "1.0          [Nada]\n",
      "2.0          [Poco]\n",
      "3.0          [Algo]\n",
      "4.0      [Bastante]\n",
      "5.0         [Mucho]\n",
      "             aux_traduce\n",
      "                  unique\n",
      "vbtr_gestion            \n",
      "1.0               [Nada]\n",
      "2.0               [Poco]\n",
      "3.0               [Algo]\n",
      "4.0           [Bastante]\n",
      "5.0              [Mucho]\n"
     ]
    }
   ],
   "source": [
    "vbtr('DSTRE46','vbtr_gestion')"
   ]
  },
  {
   "cell_type": "markdown",
   "metadata": {},
   "source": [
    "# BLOQUE E. HISTORIAL LABORAL DEL GRADUADO UNIVERSITARIO"
   ]
  },
  {
   "cell_type": "markdown",
   "metadata": {},
   "source": [
    "# 'HA_TRAB'  (redefinida como 'ha_trab')\n",
    "\n",
    "Ha tenido **algún trabajo remunerado desde que terminó sus estudios** (distinto del que haya realizado mientras estudiaba), incluyendo trabajo por cuenta propia, trabajos de formación, en prácticas, puestos de becario, etc."
   ]
  },
  {
   "cell_type": "code",
   "execution_count": 323,
   "metadata": {},
   "outputs": [
    {
     "data": {
      "text/plain": [
       "array([1, 2])"
      ]
     },
     "execution_count": 323,
     "metadata": {},
     "output_type": "execute_result"
    }
   ],
   "source": [
    "df['HA_TRAB'].unique() # Sin no informados"
   ]
  },
  {
   "cell_type": "code",
   "execution_count": 324,
   "metadata": {},
   "outputs": [
    {
     "name": "stdout",
     "output_type": "stream",
     "text": [
      "        aux_traduce\n",
      "             unique\n",
      "HA_TRAB            \n",
      "1              [Sí]\n",
      "2              [No]\n"
     ]
    }
   ],
   "source": [
    "traduce_upper('HA_TRAB')"
   ]
  },
  {
   "cell_type": "code",
   "execution_count": 325,
   "metadata": {},
   "outputs": [
    {
     "name": "stdout",
     "output_type": "stream",
     "text": [
      "        aux_traduce\n",
      "             unique\n",
      "ha_trab            \n",
      "0              [No]\n",
      "1              [Sí]\n"
     ]
    }
   ],
   "source": [
    "redefine('HA_TRAB',si_no=True)"
   ]
  },
  {
   "cell_type": "markdown",
   "metadata": {},
   "source": [
    "## 'BSQCOM1'  (redefinida como 'etr_internet', actualiza 'btr_internet')\n",
    "\n",
    "¿**Encontró trabajo** a través de ofertas de trabajo en el **periódico, internet**, etc.?  \n",
    "\n",
    "Nota: Esta es la primera de una serie de preguntas sobre estrategias de búsqueda de empleo entre quienes han tenido alguno desde que terminaron sus estudios.   \n",
    "\n",
    "Esta variable y otras de esta serie permiten actualizar algunas de las variables con prefijo 'btr_' sobre estrategias de búsqueda de empleo definidas originalmente solo para desempleados. "
   ]
  },
  {
   "cell_type": "code",
   "execution_count": 326,
   "metadata": {},
   "outputs": [
    {
     "data": {
      "text/plain": [
       "array(['2', ' ', '1', '8'], dtype=object)"
      ]
     },
     "execution_count": 326,
     "metadata": {},
     "output_type": "execute_result"
    }
   ],
   "source": [
    "df['BSQCOM1'].unique() # No informados como '8' o ' '"
   ]
  },
  {
   "cell_type": "code",
   "execution_count": 327,
   "metadata": {},
   "outputs": [
    {
     "name": "stdout",
     "output_type": "stream",
     "text": [
      "            aux_traduce\n",
      "                 unique\n",
      "BSQCOM1                \n",
      "                [NS/NC]\n",
      "1                  [Sí]\n",
      "2                  [No]\n",
      "8        [No aplicable]\n"
     ]
    }
   ],
   "source": [
    "traduce_upper('BSQCOM1')"
   ]
  },
  {
   "cell_type": "code",
   "execution_count": 328,
   "metadata": {},
   "outputs": [
    {
     "data": {
      "text/html": [
       "<div>\n",
       "<style scoped>\n",
       "    .dataframe tbody tr th:only-of-type {\n",
       "        vertical-align: middle;\n",
       "    }\n",
       "\n",
       "    .dataframe tbody tr th {\n",
       "        vertical-align: top;\n",
       "    }\n",
       "\n",
       "    .dataframe thead tr th {\n",
       "        text-align: left;\n",
       "    }\n",
       "\n",
       "    .dataframe thead tr:last-of-type th {\n",
       "        text-align: right;\n",
       "    }\n",
       "</style>\n",
       "<table border=\"1\" class=\"dataframe\">\n",
       "  <thead>\n",
       "    <tr>\n",
       "      <th></th>\n",
       "      <th>BSQCOM1</th>\n",
       "    </tr>\n",
       "    <tr>\n",
       "      <th></th>\n",
       "      <th>unique</th>\n",
       "    </tr>\n",
       "    <tr>\n",
       "      <th>ha_trab_</th>\n",
       "      <th></th>\n",
       "    </tr>\n",
       "  </thead>\n",
       "  <tbody>\n",
       "    <tr>\n",
       "      <th>No</th>\n",
       "      <td>[8]</td>\n",
       "    </tr>\n",
       "    <tr>\n",
       "      <th>Sí</th>\n",
       "      <td>[2,  , 1]</td>\n",
       "    </tr>\n",
       "  </tbody>\n",
       "</table>\n",
       "</div>"
      ],
      "text/plain": [
       "            BSQCOM1\n",
       "             unique\n",
       "ha_trab_           \n",
       "No              [8]\n",
       "Sí        [2,  , 1]"
      ]
     },
     "execution_count": 328,
     "metadata": {},
     "output_type": "execute_result"
    }
   ],
   "source": [
    "# Solo informada para quienes declaran haber trabajado alguna vez: \n",
    "df[['BSQCOM1','ha_trab_']].groupby('ha_trab_',dropna=False).agg(['unique'])"
   ]
  },
  {
   "cell_type": "code",
   "execution_count": 329,
   "metadata": {},
   "outputs": [],
   "source": [
    "def etr(col,nuevo):\n",
    "    \"\"\"Procesa las columnas referidas a las estrategias de búsqueda de empleo de quienes tuvieron alguno después\n",
    "    de terminar sus estudios.\n",
    "    \"\"\"\n",
    "    no_respuesta(col,blank='8',nsnc=' ')\n",
    "    redefine(col,nuevo,si_no=True)\n",
    "    return"
   ]
  },
  {
   "cell_type": "code",
   "execution_count": 330,
   "metadata": {},
   "outputs": [
    {
     "name": "stdout",
     "output_type": "stream",
     "text": [
      "        aux_traduce\n",
      "             unique\n",
      "BSQCOM1            \n",
      "1.0            [Sí]\n",
      "2.0            [No]\n",
      "             aux_traduce\n",
      "                  unique\n",
      "etr_internet            \n",
      "0.0                 [No]\n",
      "1.0                 [Sí]\n"
     ]
    }
   ],
   "source": [
    "etr('BSQCOM1','etr_internet')"
   ]
  },
  {
   "cell_type": "code",
   "execution_count": 331,
   "metadata": {},
   "outputs": [],
   "source": [
    "def actualiza_btr(col,btr):\n",
    "    \"\"\" Actualiza las variables con prefijo btr_ definidas para las distintas estrategias de búsqueda de empleo, \n",
    "    añadiendo las respuestas declaradas por quienes han trabajado después de terminar sus estudios: registra la \n",
    "    estrategia definida en la variable 'col' como utilizada por el encuestado cuando este declara que le sirvió \n",
    "    para encontrar empleo. No se infiere que no la haya usado cuando el encuestado no le atribuye éxito. \n",
    "    \"\"\"\n",
    "    df[btr].mask(df[col]==1,1,inplace=True)\n",
    "    df[str(col)+'_']=df[col].astype('O').replace(D_dict[col])\n",
    "    df[str(btr)+'_']=traduce_lower(btr)\n",
    "    print (df[[str(col)+'_',str(btr)+'_']][df['ha_trab']==1].groupby([str(col)+'_'],\n",
    "                                                                        dropna=False).agg(['unique']))\n",
    "    return"
   ]
  },
  {
   "cell_type": "code",
   "execution_count": 332,
   "metadata": {},
   "outputs": [
    {
     "name": "stdout",
     "output_type": "stream",
     "text": [
      "             aux_traduce\n",
      "                  unique\n",
      "btr_internet            \n",
      "0.0                 [No]\n",
      "1.0                 [Sí]\n",
      "         btr_internet_\n",
      "                unique\n",
      "BSQCOM1_              \n",
      "No               [nan]\n",
      "Sí                [Sí]\n",
      "NaN              [nan]\n"
     ]
    }
   ],
   "source": [
    "actualiza_btr('BSQCOM1','btr_internet')"
   ]
  },
  {
   "cell_type": "markdown",
   "metadata": {},
   "source": [
    "## 'BSQCOM2'  (redefinida como 'etr_spe_univ', actualiza 'btr_spe_univ')  \n",
    "\n",
    "(Solo para quienes **declaran haber trabajado** después de haber terminado sus estudios)  \n",
    "\n",
    "¿**Encontró trabajo** a través de los **servicios públicos de empleo o los servicios de empleo de la universidad**?"
   ]
  },
  {
   "cell_type": "code",
   "execution_count": 333,
   "metadata": {},
   "outputs": [
    {
     "data": {
      "text/plain": [
       "array(['2', ' ', '1', '8'], dtype=object)"
      ]
     },
     "execution_count": 333,
     "metadata": {},
     "output_type": "execute_result"
    }
   ],
   "source": [
    "df['BSQCOM2'].unique() # No informados como '8' o ' '"
   ]
  },
  {
   "cell_type": "code",
   "execution_count": 334,
   "metadata": {},
   "outputs": [
    {
     "name": "stdout",
     "output_type": "stream",
     "text": [
      "        aux_traduce\n",
      "             unique\n",
      "BSQCOM2            \n",
      "1.0            [Sí]\n",
      "2.0            [No]\n",
      "             aux_traduce\n",
      "                  unique\n",
      "etr_spe_univ            \n",
      "0.0                 [No]\n",
      "1.0                 [Sí]\n"
     ]
    }
   ],
   "source": [
    "etr('BSQCOM2','etr_spe_univ')"
   ]
  },
  {
   "cell_type": "code",
   "execution_count": 335,
   "metadata": {},
   "outputs": [
    {
     "name": "stdout",
     "output_type": "stream",
     "text": [
      "             aux_traduce\n",
      "                  unique\n",
      "btr_spe_univ            \n",
      "0.0                 [No]\n",
      "1.0                 [Sí]\n",
      "         btr_spe_univ_\n",
      "                unique\n",
      "BSQCOM2_              \n",
      "No               [nan]\n",
      "Sí                [Sí]\n",
      "NaN              [nan]\n"
     ]
    }
   ],
   "source": [
    "actualiza_btr('BSQCOM2','btr_spe_univ')"
   ]
  },
  {
   "cell_type": "markdown",
   "metadata": {},
   "source": [
    "## 'BSQCOM3'  (redefinida como 'etr_ett', actualiza 'btr_ett')  \n",
    "\n",
    "(Solo para quienes **declaran haber trabajado** después de haber terminado sus estudios)  \n",
    "\n",
    "¿**Encontró trabajo** a través de **empresas de trabajo temporal**?"
   ]
  },
  {
   "cell_type": "code",
   "execution_count": 336,
   "metadata": {},
   "outputs": [
    {
     "data": {
      "text/plain": [
       "array(['2', ' ', '1', '8'], dtype=object)"
      ]
     },
     "execution_count": 336,
     "metadata": {},
     "output_type": "execute_result"
    }
   ],
   "source": [
    "df['BSQCOM3'].unique() # No informados como '8' o ' '"
   ]
  },
  {
   "cell_type": "code",
   "execution_count": 337,
   "metadata": {},
   "outputs": [
    {
     "name": "stdout",
     "output_type": "stream",
     "text": [
      "        aux_traduce\n",
      "             unique\n",
      "BSQCOM3            \n",
      "1.0            [Sí]\n",
      "2.0            [No]\n",
      "        aux_traduce\n",
      "             unique\n",
      "etr_ett            \n",
      "0.0            [No]\n",
      "1.0            [Sí]\n"
     ]
    }
   ],
   "source": [
    "etr('BSQCOM3','etr_ett')"
   ]
  },
  {
   "cell_type": "code",
   "execution_count": 338,
   "metadata": {},
   "outputs": [
    {
     "name": "stdout",
     "output_type": "stream",
     "text": [
      "        aux_traduce\n",
      "             unique\n",
      "btr_ett            \n",
      "0.0            [No]\n",
      "1.0            [Sí]\n",
      "         btr_ett_\n",
      "           unique\n",
      "BSQCOM3_         \n",
      "No          [nan]\n",
      "Sí           [Sí]\n",
      "NaN         [nan]\n"
     ]
    }
   ],
   "source": [
    "actualiza_btr('BSQCOM3','btr_ett')"
   ]
  },
  {
   "cell_type": "markdown",
   "metadata": {},
   "source": [
    "## 'BSQCOM4'  (redefinida como 'etr_contactos', actualiza 'btr_contactos')  \n",
    "\n",
    "(Solo para quienes **declaran haber trabajado** después de haber terminado sus estudios)  \n",
    "\n",
    "¿**Encontró trabajo** contactando con el empleador por iniciativa propia o utilizando **contactos personales** (familia, amigos)"
   ]
  },
  {
   "cell_type": "code",
   "execution_count": 339,
   "metadata": {},
   "outputs": [
    {
     "data": {
      "text/plain": [
       "array(['2', ' ', '1', '8'], dtype=object)"
      ]
     },
     "execution_count": 339,
     "metadata": {},
     "output_type": "execute_result"
    }
   ],
   "source": [
    "df['BSQCOM4'].unique() # No informados como '8' o ' '"
   ]
  },
  {
   "cell_type": "code",
   "execution_count": 340,
   "metadata": {},
   "outputs": [
    {
     "name": "stdout",
     "output_type": "stream",
     "text": [
      "        aux_traduce\n",
      "             unique\n",
      "BSQCOM4            \n",
      "1.0            [Sí]\n",
      "2.0            [No]\n",
      "              aux_traduce\n",
      "                   unique\n",
      "etr_contactos            \n",
      "0.0                  [No]\n",
      "1.0                  [Sí]\n"
     ]
    }
   ],
   "source": [
    "etr('BSQCOM4','etr_contactos')"
   ]
  },
  {
   "cell_type": "code",
   "execution_count": 341,
   "metadata": {},
   "outputs": [
    {
     "name": "stdout",
     "output_type": "stream",
     "text": [
      "              aux_traduce\n",
      "                   unique\n",
      "btr_contactos            \n",
      "0.0                  [No]\n",
      "1.0                  [Sí]\n",
      "         btr_contactos_\n",
      "                 unique\n",
      "BSQCOM4_               \n",
      "No                [nan]\n",
      "Sí                 [Sí]\n",
      "NaN               [nan]\n"
     ]
    }
   ],
   "source": [
    "actualiza_btr('BSQCOM4','btr_contactos')"
   ]
  },
  {
   "cell_type": "markdown",
   "metadata": {},
   "source": [
    "## 'BSQCOM5'  (redefinida como 'etr_empleador', actualiza 'btr_otro')  \n",
    "\n",
    "(Solo para quienes **declaran haber trabajado** después de haber terminado sus estudios)  \n",
    "\n",
    "¿**Encontró trabajo** gracias a que el **empleador se puso en contacto** con usted?"
   ]
  },
  {
   "cell_type": "code",
   "execution_count": 342,
   "metadata": {},
   "outputs": [
    {
     "data": {
      "text/plain": [
       "array(['1', ' ', '2', '8'], dtype=object)"
      ]
     },
     "execution_count": 342,
     "metadata": {},
     "output_type": "execute_result"
    }
   ],
   "source": [
    "df['BSQCOM5'].unique() # No informados como '8' o ' '"
   ]
  },
  {
   "cell_type": "code",
   "execution_count": 343,
   "metadata": {},
   "outputs": [
    {
     "name": "stdout",
     "output_type": "stream",
     "text": [
      "        aux_traduce\n",
      "             unique\n",
      "BSQCOM5            \n",
      "1.0            [Sí]\n",
      "2.0            [No]\n",
      "              aux_traduce\n",
      "                   unique\n",
      "etr_empleador            \n",
      "0.0                  [No]\n",
      "1.0                  [Sí]\n"
     ]
    }
   ],
   "source": [
    "etr('BSQCOM5','etr_empleador')"
   ]
  },
  {
   "cell_type": "code",
   "execution_count": 344,
   "metadata": {},
   "outputs": [
    {
     "name": "stdout",
     "output_type": "stream",
     "text": [
      "         aux_traduce\n",
      "              unique\n",
      "btr_otro            \n",
      "0.0             [No]\n",
      "1.0             [Sí]\n",
      "         btr_otro_\n",
      "            unique\n",
      "BSQCOM5_          \n",
      "No           [nan]\n",
      "Sí            [Sí]\n",
      "NaN          [nan]\n"
     ]
    }
   ],
   "source": [
    "actualiza_btr('BSQCOM5','btr_otro')"
   ]
  },
  {
   "cell_type": "markdown",
   "metadata": {},
   "source": [
    "## 'BSQCOM6'  (redefinida como 'etr_practicas', actualiza 'btr_otro')  \n",
    "\n",
    "(Solo para quienes **declaran haber trabajado** después de haber terminado sus estudios)  \n",
    "\n",
    "¿Continuó con las **prácticas en empresas** o instituciones que realizó durante la carrera?"
   ]
  },
  {
   "cell_type": "code",
   "execution_count": 345,
   "metadata": {},
   "outputs": [
    {
     "data": {
      "text/plain": [
       "array(['2', ' ', '1', '8'], dtype=object)"
      ]
     },
     "execution_count": 345,
     "metadata": {},
     "output_type": "execute_result"
    }
   ],
   "source": [
    "df['BSQCOM6'].unique() # No informados como '8' o ' '"
   ]
  },
  {
   "cell_type": "code",
   "execution_count": 346,
   "metadata": {},
   "outputs": [
    {
     "name": "stdout",
     "output_type": "stream",
     "text": [
      "        aux_traduce\n",
      "             unique\n",
      "BSQCOM6            \n",
      "1.0            [Sí]\n",
      "2.0            [No]\n",
      "              aux_traduce\n",
      "                   unique\n",
      "etr_practicas            \n",
      "0.0                  [No]\n",
      "1.0                  [Sí]\n"
     ]
    }
   ],
   "source": [
    "etr('BSQCOM6','etr_practicas')"
   ]
  },
  {
   "cell_type": "code",
   "execution_count": 347,
   "metadata": {},
   "outputs": [
    {
     "name": "stdout",
     "output_type": "stream",
     "text": [
      "         aux_traduce\n",
      "              unique\n",
      "btr_otro            \n",
      "0.0             [No]\n",
      "1.0             [Sí]\n",
      "          btr_otro_\n",
      "             unique\n",
      "BSQCOM6_           \n",
      "No        [Sí, nan]\n",
      "Sí             [Sí]\n",
      "NaN           [nan]\n"
     ]
    }
   ],
   "source": [
    "actualiza_btr('BSQCOM6','btr_otro')"
   ]
  },
  {
   "cell_type": "markdown",
   "metadata": {},
   "source": [
    "## 'BSQCOM7'  (redefinida como 'etr_opo', actualiza 'btr_opo')  \n",
    "\n",
    "(Solo para quienes **declaran haber trabajado** después de haber terminado sus estudios)  \n",
    "\n",
    "¿**Encontró trabajo** preparando unas **oposiciones**?"
   ]
  },
  {
   "cell_type": "code",
   "execution_count": 348,
   "metadata": {},
   "outputs": [
    {
     "data": {
      "text/plain": [
       "array(['2', ' ', '1', '8'], dtype=object)"
      ]
     },
     "execution_count": 348,
     "metadata": {},
     "output_type": "execute_result"
    }
   ],
   "source": [
    "df['BSQCOM7'].unique() # No informados como '8' o ' '"
   ]
  },
  {
   "cell_type": "code",
   "execution_count": 349,
   "metadata": {},
   "outputs": [
    {
     "name": "stdout",
     "output_type": "stream",
     "text": [
      "        aux_traduce\n",
      "             unique\n",
      "BSQCOM7            \n",
      "1.0            [Sí]\n",
      "2.0            [No]\n",
      "        aux_traduce\n",
      "             unique\n",
      "etr_opo            \n",
      "0.0            [No]\n",
      "1.0            [Sí]\n"
     ]
    }
   ],
   "source": [
    "etr('BSQCOM7','etr_opo')"
   ]
  },
  {
   "cell_type": "code",
   "execution_count": 350,
   "metadata": {},
   "outputs": [
    {
     "name": "stdout",
     "output_type": "stream",
     "text": [
      "        aux_traduce\n",
      "             unique\n",
      "btr_opo            \n",
      "0.0            [No]\n",
      "1.0            [Sí]\n",
      "         btr_opo_\n",
      "           unique\n",
      "BSQCOM7_         \n",
      "No          [nan]\n",
      "Sí           [Sí]\n",
      "NaN         [nan]\n"
     ]
    }
   ],
   "source": [
    "actualiza_btr('BSQCOM7','btr_opo')"
   ]
  },
  {
   "cell_type": "markdown",
   "metadata": {},
   "source": [
    "## 'BSQCOM8'  (redefinida como 'etr_auto', actualiza 'btr_auto)  \n",
    "\n",
    "(Solo para quienes **declaran haber trabajado** después de haber terminado sus estudios)  \n",
    "\n",
    "¿**Encontró trabajo** montando un **negocio propio**?"
   ]
  },
  {
   "cell_type": "code",
   "execution_count": 351,
   "metadata": {},
   "outputs": [
    {
     "data": {
      "text/plain": [
       "array(['2', ' ', '1', '8'], dtype=object)"
      ]
     },
     "execution_count": 351,
     "metadata": {},
     "output_type": "execute_result"
    }
   ],
   "source": [
    "df['BSQCOM8'].unique() # No informados como '8' o ' '"
   ]
  },
  {
   "cell_type": "code",
   "execution_count": 352,
   "metadata": {},
   "outputs": [
    {
     "name": "stdout",
     "output_type": "stream",
     "text": [
      "        aux_traduce\n",
      "             unique\n",
      "BSQCOM8            \n",
      "1.0            [Sí]\n",
      "2.0            [No]\n",
      "         aux_traduce\n",
      "              unique\n",
      "etr_auto            \n",
      "0.0             [No]\n",
      "1.0             [Sí]\n"
     ]
    }
   ],
   "source": [
    "etr('BSQCOM8','etr_auto')"
   ]
  },
  {
   "cell_type": "code",
   "execution_count": 353,
   "metadata": {},
   "outputs": [
    {
     "name": "stdout",
     "output_type": "stream",
     "text": [
      "         aux_traduce\n",
      "              unique\n",
      "btr_auto            \n",
      "0.0             [No]\n",
      "1.0             [Sí]\n",
      "         btr_auto_\n",
      "            unique\n",
      "BSQCOM8_          \n",
      "No           [nan]\n",
      "Sí            [Sí]\n",
      "NaN          [nan]\n"
     ]
    }
   ],
   "source": [
    "actualiza_btr('BSQCOM8','btr_auto')"
   ]
  },
  {
   "cell_type": "markdown",
   "metadata": {},
   "source": [
    "## 'BSQCOM9'  (redefinida como 'etr_otro', actualiza 'btr_otro')  \n",
    "\n",
    "(Solo para quienes **declaran haber trabajado** después de haber terminado sus estudios) \n",
    "\n",
    "¿**Encontró trabajo de otra forma**?"
   ]
  },
  {
   "cell_type": "code",
   "execution_count": 354,
   "metadata": {},
   "outputs": [
    {
     "data": {
      "text/plain": [
       "array(['2', ' ', '1', '8'], dtype=object)"
      ]
     },
     "execution_count": 354,
     "metadata": {},
     "output_type": "execute_result"
    }
   ],
   "source": [
    "df['BSQCOM9'].unique() # No informados como '8' o ' '"
   ]
  },
  {
   "cell_type": "code",
   "execution_count": 355,
   "metadata": {},
   "outputs": [
    {
     "name": "stdout",
     "output_type": "stream",
     "text": [
      "        aux_traduce\n",
      "             unique\n",
      "BSQCOM9            \n",
      "1.0            [Sí]\n",
      "2.0            [No]\n",
      "         aux_traduce\n",
      "              unique\n",
      "etr_otro            \n",
      "0.0             [No]\n",
      "1.0             [Sí]\n"
     ]
    }
   ],
   "source": [
    "etr('BSQCOM9','etr_otro')"
   ]
  },
  {
   "cell_type": "code",
   "execution_count": 356,
   "metadata": {},
   "outputs": [
    {
     "name": "stdout",
     "output_type": "stream",
     "text": [
      "         aux_traduce\n",
      "              unique\n",
      "btr_otro            \n",
      "0.0             [No]\n",
      "1.0             [Sí]\n",
      "          btr_otro_\n",
      "             unique\n",
      "BSQCOM9_           \n",
      "No        [Sí, nan]\n",
      "Sí             [Sí]\n",
      "NaN           [nan]\n"
     ]
    }
   ],
   "source": [
    "actualiza_btr('BSQCOM9','btr_otro')"
   ]
  },
  {
   "cell_type": "markdown",
   "metadata": {},
   "source": [
    "## 'DISTRE6'  (redefinida como 'utilidad')\n",
    "\n",
    "(Solo para quienes **declaran haber trabajado** después de haber terminado sus estudios) \n",
    "\n",
    "¿Cree que el título universitario le ha servido para encontrar trabajo?"
   ]
  },
  {
   "cell_type": "code",
   "execution_count": 357,
   "metadata": {},
   "outputs": [
    {
     "data": {
      "text/plain": [
       "array(['1', '2', ' ', '8'], dtype=object)"
      ]
     },
     "execution_count": 357,
     "metadata": {},
     "output_type": "execute_result"
    }
   ],
   "source": [
    "df['DISTRE6'].unique() # No informados como '8' o ' '"
   ]
  },
  {
   "cell_type": "code",
   "execution_count": 358,
   "metadata": {},
   "outputs": [
    {
     "name": "stdout",
     "output_type": "stream",
     "text": [
      "            aux_traduce\n",
      "                 unique\n",
      "DISTRE6                \n",
      "                [NS/NC]\n",
      "1                  [Sí]\n",
      "2                  [No]\n",
      "8        [No aplicable]\n"
     ]
    }
   ],
   "source": [
    "traduce_upper('DISTRE6')"
   ]
  },
  {
   "cell_type": "code",
   "execution_count": 359,
   "metadata": {},
   "outputs": [
    {
     "name": "stdout",
     "output_type": "stream",
     "text": [
      "        aux_traduce\n",
      "             unique\n",
      "DISTRE6            \n",
      "1.0            [Sí]\n",
      "2.0            [No]\n"
     ]
    }
   ],
   "source": [
    "no_respuesta('DISTRE6',blank='8',nsnc=' ')"
   ]
  },
  {
   "cell_type": "code",
   "execution_count": 360,
   "metadata": {},
   "outputs": [
    {
     "name": "stdout",
     "output_type": "stream",
     "text": [
      "         aux_traduce\n",
      "              unique\n",
      "utilidad            \n",
      "0.0             [No]\n",
      "1.0             [Sí]\n"
     ]
    }
   ],
   "source": [
    "redefine('DISTRE6','utilidad',si_no=True)"
   ]
  },
  {
   "cell_type": "markdown",
   "metadata": {},
   "source": [
    "## Organización de archivos csv"
   ]
  },
  {
   "cell_type": "code",
   "execution_count": 361,
   "metadata": {},
   "outputs": [],
   "source": [
    "del df['aux_traduce']"
   ]
  },
  {
   "cell_type": "code",
   "execution_count": 362,
   "metadata": {},
   "outputs": [
    {
     "data": {
      "text/plain": [
       "['ambito_g1',\n",
       " 'ambito_g1_',\n",
       " 'año',\n",
       " 'beca',\n",
       " 'beca_',\n",
       " 'beca_colab',\n",
       " 'beca_colab_',\n",
       " 'beca_excel',\n",
       " 'beca_excel_',\n",
       " 'beca_extr',\n",
       " 'beca_extr_',\n",
       " 'beca_general',\n",
       " 'beca_general_',\n",
       " 'beca_pract',\n",
       " 'beca_pract_',\n",
       " 'btr_auto',\n",
       " 'btr_auto_',\n",
       " 'btr_contactos',\n",
       " 'btr_contactos_',\n",
       " 'btr_ett',\n",
       " 'btr_ett_',\n",
       " 'btr_internet',\n",
       " 'btr_internet_',\n",
       " 'btr_opo',\n",
       " 'btr_opo_',\n",
       " 'btr_otro',\n",
       " 'btr_otro_',\n",
       " 'btr_spe_univ',\n",
       " 'btr_spe_univ_',\n",
       " 'busqueda_tr',\n",
       " 'busqueda_tr_',\n",
       " 'cnae',\n",
       " 'cnae_',\n",
       " 'dbtr_expectativas',\n",
       " 'dbtr_expectativas_',\n",
       " 'dbtr_experiencia',\n",
       " 'dbtr_experiencia_',\n",
       " 'dbtr_formacion',\n",
       " 'dbtr_formacion_',\n",
       " 'dbtr_idiomas',\n",
       " 'dbtr_idiomas_',\n",
       " 'dbtr_personales',\n",
       " 'dbtr_personales_',\n",
       " 'dbtr_ti',\n",
       " 'dbtr_ti_',\n",
       " 'discapacidad',\n",
       " 'discapacidad_',\n",
       " 'doctor',\n",
       " 'doctor_',\n",
       " 'edad',\n",
       " 'edad_',\n",
       " 'est_art',\n",
       " 'est_art_',\n",
       " 'est_encuesta',\n",
       " 'estudios_ma',\n",
       " 'estudios_pa',\n",
       " 'etr_auto',\n",
       " 'etr_auto_',\n",
       " 'etr_contactos',\n",
       " 'etr_contactos_',\n",
       " 'etr_empleador',\n",
       " 'etr_empleador_',\n",
       " 'etr_ett',\n",
       " 'etr_ett_',\n",
       " 'etr_internet',\n",
       " 'etr_internet_',\n",
       " 'etr_opo',\n",
       " 'etr_opo_',\n",
       " 'etr_otro',\n",
       " 'etr_otro_',\n",
       " 'etr_practicas',\n",
       " 'etr_practicas_',\n",
       " 'etr_spe_univ',\n",
       " 'etr_spe_univ_',\n",
       " 'eu27',\n",
       " 'eu27_',\n",
       " 'extr',\n",
       " 'extr_',\n",
       " 'extr_proxy',\n",
       " 'extr_proxy_',\n",
       " 'extr_sin_beca',\n",
       " 'extr_sin_beca_',\n",
       " 'g_medio',\n",
       " 'g_medio_',\n",
       " 'g_sup',\n",
       " 'g_sup_',\n",
       " 'grad_med_ma',\n",
       " 'grad_med_pa',\n",
       " 'ha_trab',\n",
       " 'ha_trab_',\n",
       " 'idioma1',\n",
       " 'idioma1_',\n",
       " 'idioma1_nivel',\n",
       " 'idioma1_nivel_',\n",
       " 'idioma2',\n",
       " 'idioma2_',\n",
       " 'idioma2_nivel',\n",
       " 'idioma2_nivel_',\n",
       " 'idioma3',\n",
       " 'idioma3_',\n",
       " 'idioma3_nivel',\n",
       " 'idioma3_nivel_',\n",
       " 'idioma4',\n",
       " 'idioma4_',\n",
       " 'idioma4_nivel',\n",
       " 'idioma4_nivel_',\n",
       " 'idioma5',\n",
       " 'idioma5_',\n",
       " 'idioma5_nivel',\n",
       " 'idioma5_nivel_',\n",
       " 'idioma6',\n",
       " 'idioma6_',\n",
       " 'idioma6_nivel',\n",
       " 'idioma6_nivel_',\n",
       " 'idioma7',\n",
       " 'idioma7_',\n",
       " 'idioma7_nivel',\n",
       " 'idioma7_nivel_',\n",
       " 'idioma_m1',\n",
       " 'idioma_m1_',\n",
       " 'idioma_m2',\n",
       " 'idioma_m2_',\n",
       " 'incremento',\n",
       " 'jornada',\n",
       " 'jornada_',\n",
       " 'master',\n",
       " 'master_',\n",
       " 'mir',\n",
       " 'mir_',\n",
       " 'motivacion',\n",
       " 'n_art_hum',\n",
       " 'n_cc_salud',\n",
       " 'n_cc_soc_ju',\n",
       " 'n_ciencias',\n",
       " 'n_grados',\n",
       " 'n_idiomas',\n",
       " 'n_ing_arq',\n",
       " 'n_master',\n",
       " 'nacionalidad',\n",
       " 'nacionalidad_',\n",
       " 'ocupacion',\n",
       " 'ocupacion_',\n",
       " 'pais_beca_extr',\n",
       " 'pais_beca_extr_',\n",
       " 'pais_tr',\n",
       " 'pais_tr_',\n",
       " 'rama_g1',\n",
       " 'rama_g1_',\n",
       " 'rama_m1',\n",
       " 'rama_m1_',\n",
       " 'reside',\n",
       " 'reside_',\n",
       " 'sat_est_u',\n",
       " 'sat_est_u_',\n",
       " 'sat_titulo',\n",
       " 'sat_titulo_',\n",
       " 'sexo',\n",
       " 'sexo_',\n",
       " 'sit_lab',\n",
       " 'sit_lab_',\n",
       " 'sit_lab_detalle',\n",
       " 'sit_lab_detalle_',\n",
       " 'sueldo',\n",
       " 'tamaño_em',\n",
       " 'tamaño_em_',\n",
       " 'ti',\n",
       " 'ti_',\n",
       " 'tipo_beca_extr',\n",
       " 'tipo_beca_extr_',\n",
       " 'tipo_centro',\n",
       " 'tipo_centro_',\n",
       " 'tipo_docencia',\n",
       " 'titulo_g1',\n",
       " 'titulo_g1_',\n",
       " 'univ_ma',\n",
       " 'univ_pa',\n",
       " 'utilidad',\n",
       " 'utilidad_',\n",
       " 'varios_grados',\n",
       " 'varios_grados_',\n",
       " 'varios_master',\n",
       " 'varios_master_',\n",
       " 'varios_titulos_u',\n",
       " 'varios_titulos_u_',\n",
       " 'vbtr_gestion',\n",
       " 'vbtr_gestion_',\n",
       " 'vbtr_idiomas',\n",
       " 'vbtr_idiomas_',\n",
       " 'vbtr_personales',\n",
       " 'vbtr_personales_',\n",
       " 'vbtr_practicos',\n",
       " 'vbtr_practicos_',\n",
       " 'vbtr_teoricos',\n",
       " 'vbtr_teoricos_',\n",
       " 'vbtr_ti',\n",
       " 'vbtr_ti_']"
      ]
     },
     "execution_count": 362,
     "metadata": {},
     "output_type": "execute_result"
    }
   ],
   "source": [
    "variables_modelos=[col for col in df.columns if col.lower()==col]\n",
    "sorted(variables_modelos)"
   ]
  },
  {
   "cell_type": "code",
   "execution_count": 363,
   "metadata": {
    "scrolled": true
   },
   "outputs": [],
   "source": [
    "df[variables_modelos].to_csv('data/Grado_14_modelos.csv')"
   ]
  },
  {
   "cell_type": "code",
   "execution_count": null,
   "metadata": {},
   "outputs": [],
   "source": []
  }
 ],
 "metadata": {
  "celltoolbar": "Raw Cell Format",
  "kernelspec": {
   "display_name": "Python 3",
   "language": "python",
   "name": "python3"
  },
  "language_info": {
   "codemirror_mode": {
    "name": "ipython",
    "version": 3
   },
   "file_extension": ".py",
   "mimetype": "text/x-python",
   "name": "python",
   "nbconvert_exporter": "python",
   "pygments_lexer": "ipython3",
   "version": "3.6.9"
  }
 },
 "nbformat": 4,
 "nbformat_minor": 4
}
