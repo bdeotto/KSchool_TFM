{
 "cells": [
  {
   "cell_type": "code",
   "execution_count": 1,
   "metadata": {},
   "outputs": [],
   "source": [
    "import pandas as pd\n",
    "import numpy as np\n",
    "pd.options.display.max_columns=None\n",
    "pd.options.display.max_colwidth=300\n",
    "import matplotlib.pyplot as plt\n",
    "import seaborn as sns"
   ]
  },
  {
   "cell_type": "code",
   "execution_count": 2,
   "metadata": {},
   "outputs": [
    {
     "name": "stderr",
     "output_type": "stream",
     "text": [
      "/home/bea/.local/lib/python3.6/site-packages/IPython/core/interactiveshell.py:3072: DtypeWarning: Columns (119) have mixed types.Specify dtype option on import or set low_memory=False.\n",
      "  interactivity=interactivity, compiler=compiler, result=result)\n"
     ]
    }
   ],
   "source": [
    "df_grad=pd.read_csv('/home/bea/Escritorio/KSchool_TFM/Principales/Encuesta_insercion_laboral_titulados_universitarios_2019/EILU_GRADUADOS/CSV/EILU_GRAD_2019.csv',\n",
    "                    sep='\\t')"
   ]
  },
  {
   "cell_type": "code",
   "execution_count": 3,
   "metadata": {},
   "outputs": [
    {
     "data": {
      "text/plain": [
       "(31651, 299)"
      ]
     },
     "execution_count": 3,
     "metadata": {},
     "output_type": "execute_result"
    }
   ],
   "source": [
    "df_grad.shape"
   ]
  },
  {
   "cell_type": "code",
   "execution_count": 4,
   "metadata": {},
   "outputs": [
    {
     "name": "stdout",
     "output_type": "stream",
     "text": [
      "IDENT int64\n",
      "SEXO int64\n",
      "EDAD int64\n",
      "NACIO int64\n",
      "NACIO1 object\n",
      "NACIO2 object\n",
      "PAIS_NACI int64\n",
      "TITU int64\n",
      "RAMA int64\n",
      "AMBITO int64\n",
      "T_UNIV int64\n",
      "DISCA int64\n",
      "PROXY int64\n",
      "LUG_RES_PAIS int64\n",
      "PAIS_NAC_PADRE int64\n",
      "ESTUDIOS_PADRE int64\n",
      "PAIS_NAC_MADRE int64\n",
      "ESTUDIOS_MADRE int64\n",
      "EST_B1 int64\n",
      "EST_B2_1 object\n",
      "EST_B2_2 object\n",
      "EST_B2_3 object\n",
      "EST_B2_4 object\n",
      "EST_B2_5 object\n",
      "EST_M1 int64\n",
      "EST_M2 object\n",
      "EST_M3 object\n",
      "EST_M4 object\n",
      "EST_MES int64\n",
      "EST_B8 int64\n",
      "SAT1 int64\n",
      "SAT2 object\n",
      "EST_B11_1 int64\n",
      "EST_B11_2 int64\n",
      "EST_B11_3 int64\n",
      "EST_B11_4 int64\n",
      "EST_B11_5 int64\n",
      "EST_B11_6 int64\n",
      "EST_B11_7 int64\n",
      "EST_B12 object\n",
      "EST_B13_AMB1 object\n",
      "EST_B14_1 object\n",
      "EST_B15_1 object\n",
      "EST_B13_AMB2 object\n",
      "EST_B14_2 object\n",
      "EST_B15_2 object\n",
      "EST_B13_AMB3 object\n",
      "EST_B14_3 object\n",
      "EST_B15_3 object\n",
      "EST_B16 object\n",
      "EST_B17_M1 object\n",
      "EST_B18_1 object\n",
      "EST_B19_1 object\n",
      "EST_B17_M2 object\n",
      "EST_B18_2 object\n",
      "EST_B19_2 object\n",
      "EST_B17_M3 object\n",
      "EST_B18_3 object\n",
      "EST_B19_3 object\n",
      "EST_B21 object\n",
      "EST_B22 object\n",
      "EST_B23 object\n",
      "EST_B24 object\n",
      "EST_B25_FA1 object\n",
      "EST_B26_1 object\n",
      "EST_B27_1 object\n",
      "EST_B25_FA2 object\n",
      "EST_B26_2 object\n",
      "EST_B27_2 object\n",
      "EST_B25_FA3 object\n",
      "EST_B26_3 object\n",
      "EST_B27_3 object\n",
      "EST_B28 object\n",
      "EST_B29_FA1 object\n",
      "EST_B30_1 object\n",
      "EST_B31_1 object\n",
      "EST_B29_FA2 object\n",
      "EST_B30_2 object\n",
      "EST_B31_2 object\n",
      "EST_B29_FA3 object\n",
      "EST_B30_3 object\n",
      "EST_B31_3 object\n",
      "EST2_SA object\n",
      "EST2_NC int64\n",
      "IDI_MT1 int64\n",
      "IDI_MT2 object\n",
      "IDIOMAS int64\n",
      "IDIOMA1 object\n",
      "NIV_ID1 object\n",
      "ACREIDI1 object\n",
      "TIPOACREIDI1 object\n",
      "IDIOMA2 object\n",
      "NIV_ID2 object\n",
      "ACREIDI2 object\n",
      "TIPOACREIDI2 object\n",
      "IDIOMA3 object\n",
      "NIV_ID3 object\n",
      "ACREIDI3 object\n",
      "TIPOACREIDI3 object\n",
      "IDIOMA4 object\n",
      "NIV_ID4 object\n",
      "ACREIDI4 object\n",
      "TIPOACREIDI4 object\n",
      "TITIDI object\n",
      "TIC int64\n",
      "EST_B38_1 int64\n",
      "EST_B39_1 object\n",
      "EST_B38_2 int64\n",
      "EST_B39_2 object\n",
      "EST_B38_3 int64\n",
      "EST_B39_3 object\n",
      "EST_B38_4 int64\n",
      "EST_B39_4 object\n",
      "EST_B38_5 int64\n",
      "EST_B39_5 object\n",
      "EST_B38_6 int64\n",
      "EST_B39_6 object\n",
      "EST_B38_7 int64\n",
      "EST_B39_7 object\n",
      "MOV_IN object\n",
      "MOVRAZ1 object\n",
      "MOVRAZ2 object\n",
      "MOVRAZ3 object\n",
      "MOVRAZ4 object\n",
      "MOVRAZ5 object\n",
      "MVFUERA int64\n",
      "MOVPAI1 object\n",
      "MOVPAI2 object\n",
      "MOVPAI3 object\n",
      "MOVRA21 object\n",
      "MOVRA22 object\n",
      "MOVRA23 object\n",
      "MOVRA24 object\n",
      "MOVRA25 object\n",
      "MOVRA26 object\n",
      "MOV_C7 object\n",
      "MOV_C8_1 object\n",
      "MOV_C8_2 object\n",
      "MOV_C8_3 object\n",
      "MOV_C8_4 object\n",
      "MOV_C8_5 object\n",
      "MOV_C8_6 object\n",
      "MOV_C9 object\n",
      "RETORNO object\n",
      "TRBPRN1 int64\n",
      "TRBPRN2 object\n",
      "TRINAC_D4 object\n",
      "TRINAC_D5 object\n",
      "TRINAC_D6 object\n",
      "TRPARA_D5 object\n",
      "TRPARA_D6 object\n",
      "TRPARA_D7_1 object\n",
      "TRPARA_D7_2 object\n",
      "TRPARA_D7_3 object\n",
      "TRPARA_D7_4 object\n",
      "TRPARA_D7_5 object\n",
      "TRPARA_D7_6 object\n",
      "TRPARA_D7_7 object\n",
      "TRPARA_D7_8 object\n",
      "TRPARA_D7_9 object\n",
      "TRPARA_D7_10 object\n",
      "TRPARA_D8_1 object\n",
      "TRPARA_D8_2 object\n",
      "TRPARA_D8_3 object\n",
      "TRPARA_D8_4 object\n",
      "TRPARA_D8_5 object\n",
      "TRPARA_D8_6 object\n",
      "TRAC_D9 object\n",
      "LUG_TRAB_PAIS object\n",
      "SIT_PRO object\n",
      "JORNADA object\n",
      "TRABOC object\n",
      "TR_CNAE object\n",
      "TR_TAM object\n",
      "TR_ANIO object\n",
      "TR_SUELDO object\n",
      "TR_D19 object\n",
      "TR_D20 object\n",
      "TR_D21 object\n",
      "TR_D22_1 object\n",
      "TR_D22_2 object\n",
      "TR_D22_3 object\n",
      "TR_D22_4 object\n",
      "TR_D22_5 object\n",
      "TR_D22_6 object\n",
      "TR_D23 object\n",
      "HL_E1 int64\n",
      "HL_E2 object\n",
      "HL_E3 int64\n",
      "HL_E5 object\n",
      "HL_JOR object\n",
      "HL_E7 object\n",
      "HL_E8 object\n",
      "HA_TRAB int64\n",
      "HATR_E11 object\n",
      "HATR_E12 object\n",
      "HATR_BSQ1 object\n",
      "HATR_BSQ2 object\n",
      "HATR_BSQ3 object\n",
      "HATR_BSQ4 object\n",
      "HATR_BSQ5 object\n",
      "HATR_BSQ6 object\n",
      "HATR_BSQ7 object\n",
      "HATR_BSQ8 object\n",
      "HATR_BSQ9 object\n",
      "HATR_BSQ10 object\n",
      "HATR_BSQ11 object\n",
      "P_CONTI object\n",
      "PR_PAIS object\n",
      "PR_OCU object\n",
      "PR_SIT_PR object\n",
      "PR_JOR object\n",
      "PR_NIVEL object\n",
      "PR_AREA object\n",
      "PR_CONOC object\n",
      "PR_SUELDO object\n",
      "HATR_TIEMP object\n",
      "HATR_NUM object\n",
      "HATR_E27 object\n",
      "NOTRAB_BUS object\n",
      "NOTRAB_BUSM object\n",
      "NOTRAB_BUST object\n",
      "NOTRAB_BSQ1 object\n",
      "NOTRAB_BSQ2 object\n",
      "NOTRAB_BSQ3 object\n",
      "NOTRAB_BSQ4 object\n",
      "NOTRAB_BSQ5 object\n",
      "NOTRAB_BSQ6 object\n",
      "NOTRAB_BSQ7 object\n",
      "NOTRAB_BSQ8 object\n",
      "NOTRAB_BSQ9 object\n",
      "NOTRAB_BSQ10 object\n",
      "NOTRAB_DIF1 object\n",
      "NOTRAB_DIF2 object\n",
      "NOTRAB_DIF3 object\n",
      "NOTRAB_DIF4 object\n",
      "NOTRAB_DIF5 object\n",
      "NOTRAB_DIF6 object\n",
      "RECHA_TR int64\n",
      "RECHA_M1 object\n",
      "RECHA_M2 object\n",
      "RECHA_M3 object\n",
      "RECHA_M4 object\n",
      "RECHA_M5 object\n",
      "RECHA_M6 object\n",
      "RECHA_M7 object\n",
      "RECHA_M8 object\n",
      "RECHA_M9 object\n",
      "HO_F1 int64\n",
      "HO_PAREJ int64\n",
      "HO_NPER int64\n",
      "HO_NPER_TR int64\n",
      "HO_TIPO int64\n",
      "ALSSM15 int64\n",
      "COTIZ15 object\n",
      "DIAS15 float64\n",
      "BCOTC15 object\n",
      "ALSSM16 int64\n",
      "COTIZ16 object\n",
      "DIAS16 float64\n",
      "BCOTC16 object\n",
      "ALSSM17 int64\n",
      "COTIZ17 object\n",
      "DIAS17 float64\n",
      "BCOTC17 object\n",
      "ALSSM18 int64\n",
      "COTIZ18 object\n",
      "DIAS18 float64\n",
      "BCOTC18 object\n",
      "ALSSM19 int64\n",
      "COTIZ19 object\n",
      "DIAS19 float64\n",
      "BCOTC19 object\n",
      "N_CURS int64\n",
      "DENCUR1 object\n",
      "DURCUR1 object\n",
      "RESCUR1 object\n",
      "ANHCUR1 object\n",
      "DENCUR2 object\n",
      "DURCUR2 object\n",
      "RESCUR2 object\n",
      "ANHCUR2 object\n",
      "DENCUR3 object\n",
      "DURCUR3 object\n",
      "RESCUR3 object\n",
      "ANHCUR3 object\n",
      "DENCUR4 object\n",
      "DURCUR4 object\n",
      "RESCUR4 object\n",
      "ANHCUR4 object\n",
      "DENCUR5 object\n",
      "DURCUR5 object\n",
      "RESCUR5 object\n",
      "ANHCUR5 object\n",
      "DENCUR6 object\n",
      "DURCUR6 object\n",
      "RESCUR6 object\n",
      "ANHCUR6 object\n",
      "FACTOR float64\n"
     ]
    }
   ],
   "source": [
    "for col in df_grad.columns:\n",
    "    print(col,df_grad[col].dtype)"
   ]
  },
  {
   "cell_type": "markdown",
   "metadata": {},
   "source": [
    "#### 'IDENT'\n",
    "**Índice** único del entrevistado."
   ]
  },
  {
   "cell_type": "code",
   "execution_count": 5,
   "metadata": {},
   "outputs": [
    {
     "data": {
      "text/plain": [
       "array([    1,     2,     3, ..., 31649, 31650, 31651])"
      ]
     },
     "execution_count": 5,
     "metadata": {},
     "output_type": "execute_result"
    }
   ],
   "source": [
    "df_grad['IDENT'].unique()"
   ]
  },
  {
   "cell_type": "markdown",
   "metadata": {},
   "source": [
    "#### 'SEXO'\n",
    "**Sexo**: '1'=Hombre, '2'='Mujer'"
   ]
  },
  {
   "cell_type": "code",
   "execution_count": 6,
   "metadata": {},
   "outputs": [
    {
     "data": {
      "text/plain": [
       "array([1, 2])"
      ]
     },
     "execution_count": 6,
     "metadata": {},
     "output_type": "execute_result"
    }
   ],
   "source": [
    "df_grad['SEXO'].unique()"
   ]
  },
  {
   "cell_type": "code",
   "execution_count": 7,
   "metadata": {},
   "outputs": [
    {
     "data": {
      "text/plain": [
       "2    0.570472\n",
       "1    0.429528\n",
       "Name: SEXO, dtype: float64"
      ]
     },
     "execution_count": 7,
     "metadata": {},
     "output_type": "execute_result"
    }
   ],
   "source": [
    "df_grad['SEXO'].value_counts()/df_grad['SEXO'].count()"
   ]
  },
  {
   "attachments": {},
   "cell_type": "markdown",
   "metadata": {},
   "source": [
    "#### 'EDAD'\n",
    "**Edad** del entrevistado: 1=Menores de 30 años, 2=De 30 a 34 años, 3=De 35 y más años. "
   ]
  },
  {
   "cell_type": "code",
   "execution_count": 8,
   "metadata": {},
   "outputs": [
    {
     "data": {
      "text/plain": [
       "array([1, 2, 3])"
      ]
     },
     "execution_count": 8,
     "metadata": {},
     "output_type": "execute_result"
    }
   ],
   "source": [
    "df_grad['EDAD'].unique()"
   ]
  },
  {
   "cell_type": "code",
   "execution_count": 9,
   "metadata": {},
   "outputs": [
    {
     "data": {
      "text/plain": [
       "1    0.496256\n",
       "2    0.278822\n",
       "3    0.224922\n",
       "Name: EDAD, dtype: float64"
      ]
     },
     "execution_count": 9,
     "metadata": {},
     "output_type": "execute_result"
    }
   ],
   "source": [
    "df_grad['EDAD'].value_counts()/df_grad['EDAD'].count()"
   ]
  },
  {
   "attachments": {},
   "cell_type": "markdown",
   "metadata": {},
   "source": [
    "#### 'NACIO'\n",
    "**Nacionalidad** del entrevistado: 1=Española, 2=Española y otra, 3=Otra nacionalidad"
   ]
  },
  {
   "cell_type": "code",
   "execution_count": 10,
   "metadata": {},
   "outputs": [
    {
     "data": {
      "text/plain": [
       "array([1, 2, 3])"
      ]
     },
     "execution_count": 10,
     "metadata": {},
     "output_type": "execute_result"
    }
   ],
   "source": [
    "df_grad['NACIO'].unique()"
   ]
  },
  {
   "cell_type": "code",
   "execution_count": 11,
   "metadata": {},
   "outputs": [
    {
     "data": {
      "text/plain": [
       "1    0.978137\n",
       "3    0.011027\n",
       "2    0.010837\n",
       "Name: NACIO, dtype: float64"
      ]
     },
     "execution_count": 11,
     "metadata": {},
     "output_type": "execute_result"
    }
   ],
   "source": [
    "df_grad['NACIO'].value_counts()/df_grad['NACIO'].count()"
   ]
  },
  {
   "attachments": {},
   "cell_type": "markdown",
   "metadata": {},
   "source": [
    "#### 'NACIO1'\n",
    "**País de primera nacionalidad**: 1=Un país de la UE, 2=Un país fuera de la UE, 9=NS/NC."
   ]
  },
  {
   "cell_type": "code",
   "execution_count": 12,
   "metadata": {},
   "outputs": [
    {
     "data": {
      "text/plain": [
       "array([' ', '2', '9', '1'], dtype=object)"
      ]
     },
     "execution_count": 12,
     "metadata": {},
     "output_type": "execute_result"
    }
   ],
   "source": [
    "df_grad['NACIO1'].unique()"
   ]
  },
  {
   "cell_type": "code",
   "execution_count": 13,
   "metadata": {},
   "outputs": [
    {
     "data": {
      "text/html": [
       "<div>\n",
       "<style scoped>\n",
       "    .dataframe tbody tr th:only-of-type {\n",
       "        vertical-align: middle;\n",
       "    }\n",
       "\n",
       "    .dataframe tbody tr th {\n",
       "        vertical-align: top;\n",
       "    }\n",
       "\n",
       "    .dataframe thead tr th {\n",
       "        text-align: left;\n",
       "    }\n",
       "\n",
       "    .dataframe thead tr:last-of-type th {\n",
       "        text-align: right;\n",
       "    }\n",
       "</style>\n",
       "<table border=\"1\" class=\"dataframe\">\n",
       "  <thead>\n",
       "    <tr>\n",
       "      <th></th>\n",
       "      <th>NACIO1</th>\n",
       "    </tr>\n",
       "    <tr>\n",
       "      <th></th>\n",
       "      <th>unique</th>\n",
       "    </tr>\n",
       "    <tr>\n",
       "      <th>NACIO</th>\n",
       "      <th></th>\n",
       "    </tr>\n",
       "  </thead>\n",
       "  <tbody>\n",
       "    <tr>\n",
       "      <th>1</th>\n",
       "      <td>[ ]</td>\n",
       "    </tr>\n",
       "    <tr>\n",
       "      <th>2</th>\n",
       "      <td>[2, 1, 9]</td>\n",
       "    </tr>\n",
       "    <tr>\n",
       "      <th>3</th>\n",
       "      <td>[9, 2, 1]</td>\n",
       "    </tr>\n",
       "  </tbody>\n",
       "</table>\n",
       "</div>"
      ],
      "text/plain": [
       "          NACIO1\n",
       "          unique\n",
       "NACIO           \n",
       "1            [ ]\n",
       "2      [2, 1, 9]\n",
       "3      [9, 2, 1]"
      ]
     },
     "execution_count": 13,
     "metadata": {},
     "output_type": "execute_result"
    }
   ],
   "source": [
    "df_grad[['NACIO','NACIO1']].groupby('NACIO').agg(['unique'])"
   ]
  },
  {
   "cell_type": "code",
   "execution_count": 14,
   "metadata": {},
   "outputs": [
    {
     "data": {
      "text/html": [
       "<div>\n",
       "<style scoped>\n",
       "    .dataframe tbody tr th:only-of-type {\n",
       "        vertical-align: middle;\n",
       "    }\n",
       "\n",
       "    .dataframe tbody tr th {\n",
       "        vertical-align: top;\n",
       "    }\n",
       "\n",
       "    .dataframe thead tr th {\n",
       "        text-align: left;\n",
       "    }\n",
       "\n",
       "    .dataframe thead tr:last-of-type th {\n",
       "        text-align: right;\n",
       "    }\n",
       "</style>\n",
       "<table border=\"1\" class=\"dataframe\">\n",
       "  <thead>\n",
       "    <tr>\n",
       "      <th></th>\n",
       "      <th>NACIO1</th>\n",
       "    </tr>\n",
       "    <tr>\n",
       "      <th></th>\n",
       "      <th>unique</th>\n",
       "    </tr>\n",
       "    <tr>\n",
       "      <th>NACIO</th>\n",
       "      <th></th>\n",
       "    </tr>\n",
       "  </thead>\n",
       "  <tbody>\n",
       "    <tr>\n",
       "      <th>1</th>\n",
       "      <td>[1]</td>\n",
       "    </tr>\n",
       "    <tr>\n",
       "      <th>2</th>\n",
       "      <td>[2, 1, 9]</td>\n",
       "    </tr>\n",
       "    <tr>\n",
       "      <th>3</th>\n",
       "      <td>[9, 2, 1]</td>\n",
       "    </tr>\n",
       "  </tbody>\n",
       "</table>\n",
       "</div>"
      ],
      "text/plain": [
       "          NACIO1\n",
       "          unique\n",
       "NACIO           \n",
       "1            [1]\n",
       "2      [2, 1, 9]\n",
       "3      [9, 2, 1]"
      ]
     },
     "execution_count": 14,
     "metadata": {},
     "output_type": "execute_result"
    }
   ],
   "source": [
    "# Se imputa nacionalidad de un país de la UE (1) a quien declaró nacionalidad española en variable 'NACIO'\n",
    "df_grad['NACIO1'].mask(df_grad['NACIO']==1,'1',inplace=True)\n",
    "df_grad['NACIO1']=df_grad['NACIO1'].astype('int')\n",
    "df_grad[['NACIO','NACIO1']].groupby('NACIO').agg(['unique'])"
   ]
  },
  {
   "attachments": {},
   "cell_type": "markdown",
   "metadata": {},
   "source": [
    "#### 'NACIO2'\n",
    "**País de segunda nacionalidad**: 1=Un país de la UE, 2=Un país fuera de la UE, 9=NS/NC."
   ]
  },
  {
   "cell_type": "code",
   "execution_count": 15,
   "metadata": {},
   "outputs": [
    {
     "data": {
      "text/plain": [
       "array([' ', '1', '2'], dtype=object)"
      ]
     },
     "execution_count": 15,
     "metadata": {},
     "output_type": "execute_result"
    }
   ],
   "source": [
    "df_grad['NACIO2'].unique()"
   ]
  },
  {
   "cell_type": "code",
   "execution_count": 16,
   "metadata": {},
   "outputs": [
    {
     "data": {
      "text/html": [
       "<div>\n",
       "<style scoped>\n",
       "    .dataframe tbody tr th:only-of-type {\n",
       "        vertical-align: middle;\n",
       "    }\n",
       "\n",
       "    .dataframe tbody tr th {\n",
       "        vertical-align: top;\n",
       "    }\n",
       "\n",
       "    .dataframe thead tr th {\n",
       "        text-align: left;\n",
       "    }\n",
       "\n",
       "    .dataframe thead tr:last-of-type th {\n",
       "        text-align: right;\n",
       "    }\n",
       "</style>\n",
       "<table border=\"1\" class=\"dataframe\">\n",
       "  <thead>\n",
       "    <tr>\n",
       "      <th></th>\n",
       "      <th>NACIO2</th>\n",
       "    </tr>\n",
       "    <tr>\n",
       "      <th></th>\n",
       "      <th>unique</th>\n",
       "    </tr>\n",
       "    <tr>\n",
       "      <th>NACIO</th>\n",
       "      <th></th>\n",
       "    </tr>\n",
       "  </thead>\n",
       "  <tbody>\n",
       "    <tr>\n",
       "      <th>1</th>\n",
       "      <td>[ ]</td>\n",
       "    </tr>\n",
       "    <tr>\n",
       "      <th>2</th>\n",
       "      <td>[ ]</td>\n",
       "    </tr>\n",
       "    <tr>\n",
       "      <th>3</th>\n",
       "      <td>[ , 1, 2]</td>\n",
       "    </tr>\n",
       "  </tbody>\n",
       "</table>\n",
       "</div>"
      ],
      "text/plain": [
       "          NACIO2\n",
       "          unique\n",
       "NACIO           \n",
       "1            [ ]\n",
       "2            [ ]\n",
       "3      [ , 1, 2]"
      ]
     },
     "execution_count": 16,
     "metadata": {},
     "output_type": "execute_result"
    }
   ],
   "source": [
    "df_grad[['NACIO','NACIO2']].groupby('NACIO').agg(['unique'])"
   ]
  },
  {
   "cell_type": "code",
   "execution_count": 17,
   "metadata": {},
   "outputs": [
    {
     "data": {
      "text/html": [
       "<div>\n",
       "<style scoped>\n",
       "    .dataframe tbody tr th:only-of-type {\n",
       "        vertical-align: middle;\n",
       "    }\n",
       "\n",
       "    .dataframe tbody tr th {\n",
       "        vertical-align: top;\n",
       "    }\n",
       "\n",
       "    .dataframe thead tr th {\n",
       "        text-align: left;\n",
       "    }\n",
       "\n",
       "    .dataframe thead tr:last-of-type th {\n",
       "        text-align: right;\n",
       "    }\n",
       "</style>\n",
       "<table border=\"1\" class=\"dataframe\">\n",
       "  <thead>\n",
       "    <tr>\n",
       "      <th></th>\n",
       "      <th>NACIO2</th>\n",
       "    </tr>\n",
       "    <tr>\n",
       "      <th></th>\n",
       "      <th>unique</th>\n",
       "    </tr>\n",
       "    <tr>\n",
       "      <th>NACIO</th>\n",
       "      <th></th>\n",
       "    </tr>\n",
       "  </thead>\n",
       "  <tbody>\n",
       "    <tr>\n",
       "      <th>1</th>\n",
       "      <td>[nan]</td>\n",
       "    </tr>\n",
       "    <tr>\n",
       "      <th>2</th>\n",
       "      <td>[nan]</td>\n",
       "    </tr>\n",
       "    <tr>\n",
       "      <th>3</th>\n",
       "      <td>[nan, 1.0, 2.0]</td>\n",
       "    </tr>\n",
       "  </tbody>\n",
       "</table>\n",
       "</div>"
      ],
      "text/plain": [
       "                NACIO2\n",
       "                unique\n",
       "NACIO                 \n",
       "1                [nan]\n",
       "2                [nan]\n",
       "3      [nan, 1.0, 2.0]"
      ]
     },
     "execution_count": 17,
     "metadata": {},
     "output_type": "execute_result"
    }
   ],
   "source": [
    "# Se imputa None a la no respuesta\n",
    "df_grad['NACIO2'].replace({' ':None},inplace=True)\n",
    "df_grad['NACIO2']=df_grad['NACIO2'].astype('float')\n",
    "df_grad[['NACIO','NACIO2']].groupby('NACIO').agg(['unique'])"
   ]
  },
  {
   "attachments": {},
   "cell_type": "markdown",
   "metadata": {},
   "source": [
    "#### 'PAIS_NACI'\n",
    "**País de nacimiento**: 1=España, 2=Otro país de la UE, 3=Otro país fuera de la UE, 9=NS/NC"
   ]
  },
  {
   "cell_type": "code",
   "execution_count": 18,
   "metadata": {},
   "outputs": [
    {
     "data": {
      "text/plain": [
       "array([1, 3, 2])"
      ]
     },
     "execution_count": 18,
     "metadata": {},
     "output_type": "execute_result"
    }
   ],
   "source": [
    "df_grad['PAIS_NACI'].unique()"
   ]
  },
  {
   "attachments": {},
   "cell_type": "markdown",
   "metadata": {},
   "source": [
    "#### 'TITU'\n",
    "**Titulación**:  \n",
    "011101=Pedagogía, 011201=Educación infantil, 011301=Educación primaria, 011401=Otros maestros, 011901=Educación social,   \n",
    "021101=Audiovisual, imagen y multimedia, 021201=Diseño, 021301=Bellas artes, 021302=Historia del arte, 021401=Conservación y restauración, 021502=Música y Artes escénicas, 022201=Arqueología, 022202=Historia, 022301=Filosofía, 022901=Humanidades, 023101=Lengua inglesa, 023102=Lenguas clásicas, 023103=Otras lenguas extranjeras, 023104=Traducción e interpretación, 023201=Lenguas y dialectos españoles, 023202=Literatura, 023901=Lenguas modernas y aplicadas,   \n",
    "031101=Economía, 031201=Política y gestión pública, 031202=Relaciones internacionales, 031301=Psicología, 031401=Antropología social y cultural y Estudios y gestión de la cultura, 031402=Criminología, 031404=Geografía, 031406=Sociología e Igualdad de género, 032101=Comunicación, 032102=Periodismo, 032201=Información y documentación,   \n",
    "041201=Financiera y actuarial, 041202=Finanzas y contabilidad, 041301=Administración y empresa, 041302=Ciencias del trabajo, 041303=Gestión y administración pública, 041401=Marketing, 041402=Protocolo y eventos, 041403=Publicidad y relaciones públicas, 041601=Comercio, 042101=Derecho,   \n",
    "051101=Biología, 051201=Bioquímica, 051202=Biotecnología, 051901=Biomedicina, 052101=Ciencias ambientales, 053101=Química, 053201=Ciencias del mar, 053202=Geografía y ordenación del territorio, 053203=Geología, 053301=Física, 054101=Matemáticas, 054201=Estadística,   \n",
    "061301=Desarrollo de software y de aplicaciones e Ingeniería multimedia, 061901=Informática,   \n",
    "071101=Ingeniería química industrial e Ingeniería medioambiental, 071301=Ingeniería de la energía, 071302=Ingeniería eléctrica, 071401=Ingeniería de computadores, 071402=Ingeniería de sonido e imagen, 071403=Ingeniería de telecomunicación, 071404=Ingeniería electrónica industrial y automática, 071405=Ingeniería en electrónica, 071501=Ingeniería en diseño industrial y desarrollo del producto, 071502=Ingeniería en tecnologías industriales, 071503=Ingeniería mecánica, 071601=Ingeniería aeronáutica, 071603=Ingeniería naval y oceánica, 071901=Ingeniería de organización industrial y Nanotecnología, 072101=Ciencia y tecnología de los alimentos e Ingeniería alimentaria, 072102=Enología, 072201=Ingeniería de materiales e Ingeniería textil, 072401\t=Ingeniería de minas y energía, 073101=Arquitectura y Urbanismo y paisajismo, 073102=Ingeniería geomática, topografía y cartografía, 073201=Arquitectura técnica, 073202=Ingeniería civil,   \n",
    "081102=Ingeniería agraria y agroalimentaria, 081103=Ingeniería agrícola, agropecuaria y medio rural, 081201=Ingeniería horticultura y jardinería, 082101=Ingeniería forestal y montes, 084101=Veterinaria,   \n",
    "091101=Odontología, 091201=Medicina, 091301=Enfermería, 091401=Ingeniería biomédica y de la salud, 091402=Óptica y optometría, 091501=Fisioterapia, 091502=Logopedia, 091503=Nutrición humana y dietética, 091504=Podología, 091505=Terapia ocupacional, 091601=Farmacia, 092301=Trabajo social,   \n",
    "101401=Actividad física y del deporte, 101501=Turismo, 104101=Náutica y transporte marítimo, 104103=Servicio de transporte terrestre y Servicio de transporte aéreo, 109999=Servicios (otros estudios)."
   ]
  },
  {
   "cell_type": "code",
   "execution_count": 19,
   "metadata": {},
   "outputs": [
    {
     "data": {
      "text/plain": [
       "array([ 11101,  11201,  11301,  11401,  11901,  21101,  21201,  21301,\n",
       "        21302,  21401,  21502,  22201,  22202,  22301,  22901,  23101,\n",
       "        23102,  23103,  23104,  23201,  23202,  23901,  31101,  31201,\n",
       "        31202,  31301,  31401,  31402,  31404,  31406,  32101,  32102,\n",
       "        32201,  41201,  41202,  41301,  41302,  41303,  41401,  41402,\n",
       "        41403,  41601,  42101,  51101,  51201,  51202,  51901,  52101,\n",
       "        53101,  53201,  53202,  53203,  53301,  54101,  54201,  61301,\n",
       "        61901,  71101,  71301,  71302,  71401,  71402,  71403,  71404,\n",
       "        71405,  71501,  71502,  71503,  71601,  71603,  71901,  72101,\n",
       "        72102,  72201,  72401,  73101,  73102,  73201,  73202,  81102,\n",
       "        81103,  81201,  82101,  84101,  91101,  91201,  91301,  91401,\n",
       "        91402,  91501,  91502,  91503,  91504,  91505,  91601,  92301,\n",
       "       101401, 101501, 104101, 104103, 109999])"
      ]
     },
     "execution_count": 19,
     "metadata": {},
     "output_type": "execute_result"
    }
   ],
   "source": [
    "df_grad['TITU'].unique()"
   ]
  },
  {
   "attachments": {},
   "cell_type": "markdown",
   "metadata": {},
   "source": [
    "#### 'RAMA'\n",
    "**Rama de conocimiento** de la titulación:  \n",
    "1=Artes y humanidades, 2=Ciencias, 3=Ciencias sociales y jurídicas, 4=Ingeniería y arquitectura, 5=Ciencias de la salud"
   ]
  },
  {
   "cell_type": "code",
   "execution_count": 20,
   "metadata": {},
   "outputs": [
    {
     "data": {
      "text/plain": [
       "array([3, 1, 4, 5, 2])"
      ]
     },
     "execution_count": 20,
     "metadata": {},
     "output_type": "execute_result"
    }
   ],
   "source": [
    "df_grad['RAMA'].unique()"
   ]
  },
  {
   "cell_type": "code",
   "execution_count": 21,
   "metadata": {},
   "outputs": [
    {
     "data": {
      "text/plain": [
       "3    0.458248\n",
       "4    0.211842\n",
       "5    0.141796\n",
       "1    0.100376\n",
       "2    0.087738\n",
       "Name: RAMA, dtype: float64"
      ]
     },
     "execution_count": 21,
     "metadata": {},
     "output_type": "execute_result"
    }
   ],
   "source": [
    "df_grad['RAMA'].value_counts()/df_grad['RAMA'].count()"
   ]
  },
  {
   "cell_type": "code",
   "execution_count": 22,
   "metadata": {},
   "outputs": [
    {
     "data": {
      "text/html": [
       "<div>\n",
       "<style scoped>\n",
       "    .dataframe tbody tr th:only-of-type {\n",
       "        vertical-align: middle;\n",
       "    }\n",
       "\n",
       "    .dataframe tbody tr th {\n",
       "        vertical-align: top;\n",
       "    }\n",
       "\n",
       "    .dataframe thead tr th {\n",
       "        text-align: left;\n",
       "    }\n",
       "\n",
       "    .dataframe thead tr:last-of-type th {\n",
       "        text-align: right;\n",
       "    }\n",
       "</style>\n",
       "<table border=\"1\" class=\"dataframe\">\n",
       "  <thead>\n",
       "    <tr>\n",
       "      <th></th>\n",
       "      <th>RAMA</th>\n",
       "    </tr>\n",
       "    <tr>\n",
       "      <th></th>\n",
       "      <th>unique</th>\n",
       "    </tr>\n",
       "    <tr>\n",
       "      <th>TITU</th>\n",
       "      <th></th>\n",
       "    </tr>\n",
       "  </thead>\n",
       "  <tbody>\n",
       "    <tr>\n",
       "      <th>11101</th>\n",
       "      <td>[3, 1]</td>\n",
       "    </tr>\n",
       "    <tr>\n",
       "      <th>11201</th>\n",
       "      <td>[3]</td>\n",
       "    </tr>\n",
       "    <tr>\n",
       "      <th>11301</th>\n",
       "      <td>[3]</td>\n",
       "    </tr>\n",
       "    <tr>\n",
       "      <th>11401</th>\n",
       "      <td>[3]</td>\n",
       "    </tr>\n",
       "    <tr>\n",
       "      <th>11901</th>\n",
       "      <td>[3]</td>\n",
       "    </tr>\n",
       "    <tr>\n",
       "      <th>...</th>\n",
       "      <td>...</td>\n",
       "    </tr>\n",
       "    <tr>\n",
       "      <th>101401</th>\n",
       "      <td>[3, 5]</td>\n",
       "    </tr>\n",
       "    <tr>\n",
       "      <th>101501</th>\n",
       "      <td>[3]</td>\n",
       "    </tr>\n",
       "    <tr>\n",
       "      <th>104101</th>\n",
       "      <td>[4]</td>\n",
       "    </tr>\n",
       "    <tr>\n",
       "      <th>104103</th>\n",
       "      <td>[3, 4]</td>\n",
       "    </tr>\n",
       "    <tr>\n",
       "      <th>109999</th>\n",
       "      <td>[3, 4]</td>\n",
       "    </tr>\n",
       "  </tbody>\n",
       "</table>\n",
       "<p>101 rows × 1 columns</p>\n",
       "</div>"
      ],
      "text/plain": [
       "          RAMA\n",
       "        unique\n",
       "TITU          \n",
       "11101   [3, 1]\n",
       "11201      [3]\n",
       "11301      [3]\n",
       "11401      [3]\n",
       "11901      [3]\n",
       "...        ...\n",
       "101401  [3, 5]\n",
       "101501     [3]\n",
       "104101     [4]\n",
       "104103  [3, 4]\n",
       "109999  [3, 4]\n",
       "\n",
       "[101 rows x 1 columns]"
      ]
     },
     "execution_count": 22,
     "metadata": {},
     "output_type": "execute_result"
    }
   ],
   "source": [
    "# Varias titulaciones adscritas a más de una rama del conocimiento\n",
    "df_grad[['RAMA','TITU']].groupby('TITU').agg(['unique'])"
   ]
  },
  {
   "cell_type": "code",
   "execution_count": 23,
   "metadata": {},
   "outputs": [
    {
     "data": {
      "text/html": [
       "<div>\n",
       "<style scoped>\n",
       "    .dataframe tbody tr th:only-of-type {\n",
       "        vertical-align: middle;\n",
       "    }\n",
       "\n",
       "    .dataframe tbody tr th {\n",
       "        vertical-align: top;\n",
       "    }\n",
       "\n",
       "    .dataframe thead tr th {\n",
       "        text-align: left;\n",
       "    }\n",
       "\n",
       "    .dataframe thead tr:last-of-type th {\n",
       "        text-align: right;\n",
       "    }\n",
       "</style>\n",
       "<table border=\"1\" class=\"dataframe\">\n",
       "  <thead>\n",
       "    <tr>\n",
       "      <th></th>\n",
       "      <th>TITU</th>\n",
       "    </tr>\n",
       "    <tr>\n",
       "      <th></th>\n",
       "      <th>unique</th>\n",
       "    </tr>\n",
       "    <tr>\n",
       "      <th>RAMA</th>\n",
       "      <th></th>\n",
       "    </tr>\n",
       "  </thead>\n",
       "  <tbody>\n",
       "    <tr>\n",
       "      <th>1</th>\n",
       "      <td>[11101, 21101, 21201, 21301, 21302, 21401, 21502, 22201, 22202, 22301, 22901, 23101, 23102, 23103, 23104, 23201, 23202, 23901, 31401, 31404, 32101, 32102, 32201, 53202, 73101]</td>\n",
       "    </tr>\n",
       "    <tr>\n",
       "      <th>2</th>\n",
       "      <td>[51101, 51201, 51202, 51901, 52101, 53101, 53201, 53203, 53301, 54101, 54201, 71901, 72101, 72102, 91402, 91503]</td>\n",
       "    </tr>\n",
       "    <tr>\n",
       "      <th>3</th>\n",
       "      <td>[11101, 11201, 11301, 11401, 11901, 21101, 23104, 31101, 31201, 31202, 31301, 31401, 31402, 31404, 31406, 32101, 32102, 32201, 41201, 41202, 41301, 41302, 41303, 41401, 41402, 41403, 41601, 42101, 53202, 54201, 91501, 92301, 101401, 101501, 104103, 109999]</td>\n",
       "    </tr>\n",
       "    <tr>\n",
       "      <th>4</th>\n",
       "      <td>[21101, 21201, 53203, 54101, 61301, 61901, 71101, 71301, 71302, 71401, 71402, 71403, 71404, 71405, 71501, 71502, 71503, 71601, 71603, 71901, 72101, 72201, 72401, 73101, 73102, 73201, 73202, 81102, 81103, 81201, 82101, 91401, 104101, 104103, 109999]</td>\n",
       "    </tr>\n",
       "    <tr>\n",
       "      <th>5</th>\n",
       "      <td>[31301, 51101, 51901, 72101, 84101, 91101, 91201, 91301, 91402, 91501, 91502, 91503, 91504, 91505, 91601, 101401]</td>\n",
       "    </tr>\n",
       "  </tbody>\n",
       "</table>\n",
       "</div>"
      ],
      "text/plain": [
       "                                                                                                                                                                                                                                                                  TITU\n",
       "                                                                                                                                                                                                                                                                unique\n",
       "RAMA                                                                                                                                                                                                                                                                  \n",
       "1                                                                                      [11101, 21101, 21201, 21301, 21302, 21401, 21502, 22201, 22202, 22301, 22901, 23101, 23102, 23103, 23104, 23201, 23202, 23901, 31401, 31404, 32101, 32102, 32201, 53202, 73101]\n",
       "2                                                                                                                                                     [51101, 51201, 51202, 51901, 52101, 53101, 53201, 53203, 53301, 54101, 54201, 71901, 72101, 72102, 91402, 91503]\n",
       "3     [11101, 11201, 11301, 11401, 11901, 21101, 23104, 31101, 31201, 31202, 31301, 31401, 31402, 31404, 31406, 32101, 32102, 32201, 41201, 41202, 41301, 41302, 41303, 41401, 41402, 41403, 41601, 42101, 53202, 54201, 91501, 92301, 101401, 101501, 104103, 109999]\n",
       "4             [21101, 21201, 53203, 54101, 61301, 61901, 71101, 71301, 71302, 71401, 71402, 71403, 71404, 71405, 71501, 71502, 71503, 71601, 71603, 71901, 72101, 72201, 72401, 73101, 73102, 73201, 73202, 81102, 81103, 81201, 82101, 91401, 104101, 104103, 109999]\n",
       "5                                                                                                                                                    [31301, 51101, 51901, 72101, 84101, 91101, 91201, 91301, 91402, 91501, 91502, 91503, 91504, 91505, 91601, 101401]"
      ]
     },
     "execution_count": 23,
     "metadata": {},
     "output_type": "execute_result"
    }
   ],
   "source": [
    "df_grad[['RAMA','TITU']].groupby('RAMA').agg(['unique'])"
   ]
  },
  {
   "attachments": {},
   "cell_type": "markdown",
   "metadata": {},
   "source": [
    "#### 'AMBITO'\n",
    "**Ámbito de estudio**: 0112=Formación de docentes de enseñanza infantil, 0113=Formación de docentes de enseñanza primaria, 011=Educación (Otros estudios), 0211=Técnicas audiovisuales y medios de comunicación, 021=Artes (Otros estudios), 022=Humanidades, 023=Lenguas, 0311=Economía, 0313=Psicología, 031=Ciencias sociales y del comportamiento (Otros estudios), 032=Periodismo y documentación, 0413=Dirección y administración, 041=Negocios y administración (Otros estudios), 042=Derecho, 051=Ciencias de la vida, 052=Medio ambiente, 053=Ciencias químicas, físicas y geológicas, 054=Matemáticas y estadística, 061=Informática, 071=Ingeniería y profesiones afines, 072=Industria manufacturera y producción, 073=Arquitectura y construcción, 081=Agricultura y ganadería, 082=Silvicultura, 084=Veterinaria, 0912=Medicina, 0913=Enfermería, 091=Salud (Otros estudios), 092=Servicios sociales, 1014=Actividades físicas y deportivas, 1015=Viajes, turismo y ocio, 109=Servicios (Otros estudios), 9999=NS/NC."
   ]
  },
  {
   "cell_type": "code",
   "execution_count": 24,
   "metadata": {},
   "outputs": [
    {
     "data": {
      "text/plain": [
       "array([  11,  112,  113,  211,   21,   22,   23,  311,   31,  313,   32,\n",
       "         41,  413,   42,   51,   52,   53,   54,   61,   71,   72,   73,\n",
       "         81,   82,   84,   91,  912,  913,   92, 1014, 1015,  109])"
      ]
     },
     "execution_count": 24,
     "metadata": {},
     "output_type": "execute_result"
    }
   ],
   "source": [
    "df_grad['AMBITO'].unique()"
   ]
  },
  {
   "cell_type": "code",
   "execution_count": 25,
   "metadata": {},
   "outputs": [
    {
     "name": "stdout",
     "output_type": "stream",
     "text": [
      "AMBITO  unique    [11]\n",
      "Name: 11101, dtype: object\n",
      "AMBITO  unique    [112]\n",
      "Name: 11201, dtype: object\n",
      "AMBITO  unique    [113]\n",
      "Name: 11301, dtype: object\n",
      "AMBITO  unique    [11]\n",
      "Name: 11401, dtype: object\n",
      "AMBITO  unique    [11]\n",
      "Name: 11901, dtype: object\n",
      "AMBITO  unique    [211]\n",
      "Name: 21101, dtype: object\n",
      "AMBITO  unique    [21]\n",
      "Name: 21201, dtype: object\n",
      "AMBITO  unique    [21]\n",
      "Name: 21301, dtype: object\n",
      "AMBITO  unique    [21]\n",
      "Name: 21302, dtype: object\n",
      "AMBITO  unique    [21]\n",
      "Name: 21401, dtype: object\n",
      "AMBITO  unique    [21]\n",
      "Name: 21502, dtype: object\n",
      "AMBITO  unique    [22]\n",
      "Name: 22201, dtype: object\n",
      "AMBITO  unique    [22]\n",
      "Name: 22202, dtype: object\n",
      "AMBITO  unique    [22]\n",
      "Name: 22301, dtype: object\n",
      "AMBITO  unique    [22]\n",
      "Name: 22901, dtype: object\n",
      "AMBITO  unique    [23]\n",
      "Name: 23101, dtype: object\n",
      "AMBITO  unique    [23]\n",
      "Name: 23102, dtype: object\n",
      "AMBITO  unique    [23]\n",
      "Name: 23103, dtype: object\n",
      "AMBITO  unique    [23]\n",
      "Name: 23104, dtype: object\n",
      "AMBITO  unique    [23]\n",
      "Name: 23201, dtype: object\n",
      "AMBITO  unique    [23]\n",
      "Name: 23202, dtype: object\n",
      "AMBITO  unique    [23]\n",
      "Name: 23901, dtype: object\n",
      "AMBITO  unique    [311]\n",
      "Name: 31101, dtype: object\n",
      "AMBITO  unique    [31]\n",
      "Name: 31201, dtype: object\n",
      "AMBITO  unique    [31]\n",
      "Name: 31202, dtype: object\n",
      "AMBITO  unique    [313]\n",
      "Name: 31301, dtype: object\n",
      "AMBITO  unique    [31]\n",
      "Name: 31401, dtype: object\n",
      "AMBITO  unique    [31]\n",
      "Name: 31402, dtype: object\n",
      "AMBITO  unique    [31]\n",
      "Name: 31404, dtype: object\n",
      "AMBITO  unique    [31]\n",
      "Name: 31406, dtype: object\n",
      "AMBITO  unique    [32]\n",
      "Name: 32101, dtype: object\n",
      "AMBITO  unique    [32]\n",
      "Name: 32102, dtype: object\n",
      "AMBITO  unique    [32]\n",
      "Name: 32201, dtype: object\n",
      "AMBITO  unique    [41]\n",
      "Name: 41201, dtype: object\n",
      "AMBITO  unique    [41]\n",
      "Name: 41202, dtype: object\n",
      "AMBITO  unique    [413]\n",
      "Name: 41301, dtype: object\n",
      "AMBITO  unique    [413]\n",
      "Name: 41302, dtype: object\n",
      "AMBITO  unique    [413]\n",
      "Name: 41303, dtype: object\n",
      "AMBITO  unique    [41]\n",
      "Name: 41401, dtype: object\n",
      "AMBITO  unique    [41]\n",
      "Name: 41402, dtype: object\n",
      "AMBITO  unique    [41]\n",
      "Name: 41403, dtype: object\n",
      "AMBITO  unique    [41]\n",
      "Name: 41601, dtype: object\n",
      "AMBITO  unique    [42]\n",
      "Name: 42101, dtype: object\n",
      "AMBITO  unique    [51]\n",
      "Name: 51101, dtype: object\n",
      "AMBITO  unique    [51]\n",
      "Name: 51201, dtype: object\n",
      "AMBITO  unique    [51]\n",
      "Name: 51202, dtype: object\n",
      "AMBITO  unique    [51]\n",
      "Name: 51901, dtype: object\n",
      "AMBITO  unique    [52]\n",
      "Name: 52101, dtype: object\n",
      "AMBITO  unique    [53]\n",
      "Name: 53101, dtype: object\n",
      "AMBITO  unique    [53]\n",
      "Name: 53201, dtype: object\n",
      "AMBITO  unique    [53]\n",
      "Name: 53202, dtype: object\n",
      "AMBITO  unique    [53]\n",
      "Name: 53203, dtype: object\n",
      "AMBITO  unique    [53]\n",
      "Name: 53301, dtype: object\n",
      "AMBITO  unique    [54]\n",
      "Name: 54101, dtype: object\n",
      "AMBITO  unique    [54]\n",
      "Name: 54201, dtype: object\n",
      "AMBITO  unique    [61]\n",
      "Name: 61301, dtype: object\n",
      "AMBITO  unique    [61]\n",
      "Name: 61901, dtype: object\n",
      "AMBITO  unique    [71]\n",
      "Name: 71101, dtype: object\n",
      "AMBITO  unique    [71]\n",
      "Name: 71301, dtype: object\n",
      "AMBITO  unique    [71]\n",
      "Name: 71302, dtype: object\n",
      "AMBITO  unique    [71]\n",
      "Name: 71401, dtype: object\n",
      "AMBITO  unique    [71]\n",
      "Name: 71402, dtype: object\n",
      "AMBITO  unique    [71]\n",
      "Name: 71403, dtype: object\n",
      "AMBITO  unique    [71]\n",
      "Name: 71404, dtype: object\n",
      "AMBITO  unique    [71]\n",
      "Name: 71405, dtype: object\n",
      "AMBITO  unique    [71]\n",
      "Name: 71501, dtype: object\n",
      "AMBITO  unique    [71]\n",
      "Name: 71502, dtype: object\n",
      "AMBITO  unique    [71]\n",
      "Name: 71503, dtype: object\n",
      "AMBITO  unique    [71]\n",
      "Name: 71601, dtype: object\n",
      "AMBITO  unique    [71]\n",
      "Name: 71603, dtype: object\n",
      "AMBITO  unique    [71]\n",
      "Name: 71901, dtype: object\n",
      "AMBITO  unique    [72]\n",
      "Name: 72101, dtype: object\n",
      "AMBITO  unique    [72]\n",
      "Name: 72102, dtype: object\n",
      "AMBITO  unique    [72]\n",
      "Name: 72201, dtype: object\n",
      "AMBITO  unique    [72]\n",
      "Name: 72401, dtype: object\n",
      "AMBITO  unique    [73]\n",
      "Name: 73101, dtype: object\n",
      "AMBITO  unique    [73]\n",
      "Name: 73102, dtype: object\n",
      "AMBITO  unique    [73]\n",
      "Name: 73201, dtype: object\n",
      "AMBITO  unique    [73]\n",
      "Name: 73202, dtype: object\n",
      "AMBITO  unique    [81]\n",
      "Name: 81102, dtype: object\n",
      "AMBITO  unique    [81]\n",
      "Name: 81103, dtype: object\n",
      "AMBITO  unique    [81]\n",
      "Name: 81201, dtype: object\n",
      "AMBITO  unique    [82]\n",
      "Name: 82101, dtype: object\n",
      "AMBITO  unique    [84]\n",
      "Name: 84101, dtype: object\n",
      "AMBITO  unique    [91]\n",
      "Name: 91101, dtype: object\n",
      "AMBITO  unique    [912]\n",
      "Name: 91201, dtype: object\n",
      "AMBITO  unique    [913]\n",
      "Name: 91301, dtype: object\n",
      "AMBITO  unique    [91]\n",
      "Name: 91401, dtype: object\n",
      "AMBITO  unique    [91]\n",
      "Name: 91402, dtype: object\n",
      "AMBITO  unique    [91]\n",
      "Name: 91501, dtype: object\n",
      "AMBITO  unique    [91]\n",
      "Name: 91502, dtype: object\n",
      "AMBITO  unique    [91]\n",
      "Name: 91503, dtype: object\n",
      "AMBITO  unique    [91]\n",
      "Name: 91504, dtype: object\n",
      "AMBITO  unique    [91]\n",
      "Name: 91505, dtype: object\n",
      "AMBITO  unique    [91]\n",
      "Name: 91601, dtype: object\n",
      "AMBITO  unique    [92]\n",
      "Name: 92301, dtype: object\n",
      "AMBITO  unique    [1014]\n",
      "Name: 101401, dtype: object\n",
      "AMBITO  unique    [1015]\n",
      "Name: 101501, dtype: object\n",
      "AMBITO  unique    [109]\n",
      "Name: 104101, dtype: object\n",
      "AMBITO  unique    [109]\n",
      "Name: 104103, dtype: object\n",
      "AMBITO  unique    [109]\n",
      "Name: 109999, dtype: object\n"
     ]
    }
   ],
   "source": [
    "# Todas las titulaciones adscritas a un único ámbito de estudio \n",
    "for row in range(0,len(df_grad[['TITU','AMBITO']].groupby('TITU'))):\n",
    "    print (df_grad[['TITU','AMBITO']].groupby('TITU').agg(['unique']).iloc[row])"
   ]
  },
  {
   "cell_type": "code",
   "execution_count": 26,
   "metadata": {},
   "outputs": [
    {
     "data": {
      "text/html": [
       "<div>\n",
       "<style scoped>\n",
       "    .dataframe tbody tr th:only-of-type {\n",
       "        vertical-align: middle;\n",
       "    }\n",
       "\n",
       "    .dataframe tbody tr th {\n",
       "        vertical-align: top;\n",
       "    }\n",
       "\n",
       "    .dataframe thead tr th {\n",
       "        text-align: left;\n",
       "    }\n",
       "\n",
       "    .dataframe thead tr:last-of-type th {\n",
       "        text-align: right;\n",
       "    }\n",
       "</style>\n",
       "<table border=\"1\" class=\"dataframe\">\n",
       "  <thead>\n",
       "    <tr>\n",
       "      <th></th>\n",
       "      <th>RAMA</th>\n",
       "    </tr>\n",
       "    <tr>\n",
       "      <th></th>\n",
       "      <th>unique</th>\n",
       "    </tr>\n",
       "    <tr>\n",
       "      <th>AMBITO</th>\n",
       "      <th></th>\n",
       "    </tr>\n",
       "  </thead>\n",
       "  <tbody>\n",
       "    <tr>\n",
       "      <th>11</th>\n",
       "      <td>[3, 1]</td>\n",
       "    </tr>\n",
       "    <tr>\n",
       "      <th>21</th>\n",
       "      <td>[1, 4]</td>\n",
       "    </tr>\n",
       "    <tr>\n",
       "      <th>22</th>\n",
       "      <td>[1]</td>\n",
       "    </tr>\n",
       "    <tr>\n",
       "      <th>23</th>\n",
       "      <td>[1, 3]</td>\n",
       "    </tr>\n",
       "    <tr>\n",
       "      <th>31</th>\n",
       "      <td>[3, 1]</td>\n",
       "    </tr>\n",
       "    <tr>\n",
       "      <th>32</th>\n",
       "      <td>[3, 1]</td>\n",
       "    </tr>\n",
       "    <tr>\n",
       "      <th>41</th>\n",
       "      <td>[3]</td>\n",
       "    </tr>\n",
       "    <tr>\n",
       "      <th>42</th>\n",
       "      <td>[3]</td>\n",
       "    </tr>\n",
       "    <tr>\n",
       "      <th>51</th>\n",
       "      <td>[2, 5]</td>\n",
       "    </tr>\n",
       "    <tr>\n",
       "      <th>52</th>\n",
       "      <td>[2]</td>\n",
       "    </tr>\n",
       "    <tr>\n",
       "      <th>53</th>\n",
       "      <td>[2, 1, 3, 4]</td>\n",
       "    </tr>\n",
       "    <tr>\n",
       "      <th>54</th>\n",
       "      <td>[2, 4, 3]</td>\n",
       "    </tr>\n",
       "    <tr>\n",
       "      <th>61</th>\n",
       "      <td>[4]</td>\n",
       "    </tr>\n",
       "    <tr>\n",
       "      <th>71</th>\n",
       "      <td>[4, 2]</td>\n",
       "    </tr>\n",
       "    <tr>\n",
       "      <th>72</th>\n",
       "      <td>[4, 5, 2]</td>\n",
       "    </tr>\n",
       "    <tr>\n",
       "      <th>73</th>\n",
       "      <td>[4, 1]</td>\n",
       "    </tr>\n",
       "    <tr>\n",
       "      <th>81</th>\n",
       "      <td>[4]</td>\n",
       "    </tr>\n",
       "    <tr>\n",
       "      <th>82</th>\n",
       "      <td>[4]</td>\n",
       "    </tr>\n",
       "    <tr>\n",
       "      <th>84</th>\n",
       "      <td>[5]</td>\n",
       "    </tr>\n",
       "    <tr>\n",
       "      <th>91</th>\n",
       "      <td>[5, 4, 2, 3]</td>\n",
       "    </tr>\n",
       "    <tr>\n",
       "      <th>92</th>\n",
       "      <td>[3]</td>\n",
       "    </tr>\n",
       "    <tr>\n",
       "      <th>109</th>\n",
       "      <td>[4, 3]</td>\n",
       "    </tr>\n",
       "    <tr>\n",
       "      <th>112</th>\n",
       "      <td>[3]</td>\n",
       "    </tr>\n",
       "    <tr>\n",
       "      <th>113</th>\n",
       "      <td>[3]</td>\n",
       "    </tr>\n",
       "    <tr>\n",
       "      <th>211</th>\n",
       "      <td>[3, 1, 4]</td>\n",
       "    </tr>\n",
       "    <tr>\n",
       "      <th>311</th>\n",
       "      <td>[3]</td>\n",
       "    </tr>\n",
       "    <tr>\n",
       "      <th>313</th>\n",
       "      <td>[5, 3]</td>\n",
       "    </tr>\n",
       "    <tr>\n",
       "      <th>413</th>\n",
       "      <td>[3]</td>\n",
       "    </tr>\n",
       "    <tr>\n",
       "      <th>912</th>\n",
       "      <td>[5]</td>\n",
       "    </tr>\n",
       "    <tr>\n",
       "      <th>913</th>\n",
       "      <td>[5]</td>\n",
       "    </tr>\n",
       "    <tr>\n",
       "      <th>1014</th>\n",
       "      <td>[3, 5]</td>\n",
       "    </tr>\n",
       "    <tr>\n",
       "      <th>1015</th>\n",
       "      <td>[3]</td>\n",
       "    </tr>\n",
       "  </tbody>\n",
       "</table>\n",
       "</div>"
      ],
      "text/plain": [
       "                RAMA\n",
       "              unique\n",
       "AMBITO              \n",
       "11            [3, 1]\n",
       "21            [1, 4]\n",
       "22               [1]\n",
       "23            [1, 3]\n",
       "31            [3, 1]\n",
       "32            [3, 1]\n",
       "41               [3]\n",
       "42               [3]\n",
       "51            [2, 5]\n",
       "52               [2]\n",
       "53      [2, 1, 3, 4]\n",
       "54         [2, 4, 3]\n",
       "61               [4]\n",
       "71            [4, 2]\n",
       "72         [4, 5, 2]\n",
       "73            [4, 1]\n",
       "81               [4]\n",
       "82               [4]\n",
       "84               [5]\n",
       "91      [5, 4, 2, 3]\n",
       "92               [3]\n",
       "109           [4, 3]\n",
       "112              [3]\n",
       "113              [3]\n",
       "211        [3, 1, 4]\n",
       "311              [3]\n",
       "313           [5, 3]\n",
       "413              [3]\n",
       "912              [5]\n",
       "913              [5]\n",
       "1014          [3, 5]\n",
       "1015             [3]"
      ]
     },
     "execution_count": 26,
     "metadata": {},
     "output_type": "execute_result"
    }
   ],
   "source": [
    "# Varias ramas adscritas a más de un ámbito de estudio\n",
    "df_grad[['RAMA','AMBITO']].groupby('AMBITO').agg(['unique'])"
   ]
  },
  {
   "attachments": {},
   "cell_type": "markdown",
   "metadata": {},
   "source": [
    "#### 'T_UNIV'\n",
    "**Tipo de universidad**: 1=Universidad Pública presencial, 2=Universidad Pública a distancia, 3=Universidad Privada presencial, 4=Universidad Privada a distancia."
   ]
  },
  {
   "cell_type": "code",
   "execution_count": 27,
   "metadata": {},
   "outputs": [
    {
     "data": {
      "text/plain": [
       "array([2, 1, 4, 3])"
      ]
     },
     "execution_count": 27,
     "metadata": {},
     "output_type": "execute_result"
    }
   ],
   "source": [
    "df_grad['T_UNIV'].unique()"
   ]
  },
  {
   "cell_type": "code",
   "execution_count": 28,
   "metadata": {},
   "outputs": [
    {
     "data": {
      "text/plain": [
       "1    25898\n",
       "3     3793\n",
       "2     1080\n",
       "4      880\n",
       "Name: T_UNIV, dtype: int64"
      ]
     },
     "execution_count": 28,
     "metadata": {},
     "output_type": "execute_result"
    }
   ],
   "source": [
    "df_grad['T_UNIV'].value_counts()"
   ]
  },
  {
   "cell_type": "code",
   "execution_count": 29,
   "metadata": {},
   "outputs": [
    {
     "data": {
      "text/plain": [
       "1    0.818236\n",
       "3    0.119838\n",
       "2    0.034122\n",
       "4    0.027803\n",
       "Name: T_UNIV, dtype: float64"
      ]
     },
     "execution_count": 29,
     "metadata": {},
     "output_type": "execute_result"
    }
   ],
   "source": [
    "df_grad['T_UNIV'].value_counts()/df_grad['T_UNIV'].count()"
   ]
  },
  {
   "attachments": {},
   "cell_type": "markdown",
   "metadata": {},
   "source": [
    "#### 'DISCA'\n",
    "Tiene **discapacidad reconocida** superior al 33 %: 1=Sí, 2=No. "
   ]
  },
  {
   "cell_type": "code",
   "execution_count": 30,
   "metadata": {},
   "outputs": [
    {
     "data": {
      "text/plain": [
       "array([2, 1])"
      ]
     },
     "execution_count": 30,
     "metadata": {},
     "output_type": "execute_result"
    }
   ],
   "source": [
    "df_grad['DISCA'].unique()"
   ]
  },
  {
   "cell_type": "code",
   "execution_count": 31,
   "metadata": {},
   "outputs": [
    {
     "data": {
      "text/plain": [
       "2    0.987804\n",
       "1    0.012196\n",
       "Name: DISCA, dtype: float64"
      ]
     },
     "execution_count": 31,
     "metadata": {},
     "output_type": "execute_result"
    }
   ],
   "source": [
    "df_grad['DISCA'].value_counts()/df_grad['DISCA'].count()"
   ]
  },
  {
   "cell_type": "code",
   "execution_count": 32,
   "metadata": {},
   "outputs": [
    {
     "data": {
      "text/html": [
       "<div>\n",
       "<style scoped>\n",
       "    .dataframe tbody tr th:only-of-type {\n",
       "        vertical-align: middle;\n",
       "    }\n",
       "\n",
       "    .dataframe tbody tr th {\n",
       "        vertical-align: top;\n",
       "    }\n",
       "\n",
       "    .dataframe thead th {\n",
       "        text-align: right;\n",
       "    }\n",
       "</style>\n",
       "<table border=\"1\" class=\"dataframe\">\n",
       "  <thead>\n",
       "    <tr style=\"text-align: right;\">\n",
       "      <th></th>\n",
       "      <th></th>\n",
       "      <th>DISCA</th>\n",
       "    </tr>\n",
       "    <tr>\n",
       "      <th>T_UNIV</th>\n",
       "      <th>DISCA</th>\n",
       "      <th></th>\n",
       "    </tr>\n",
       "  </thead>\n",
       "  <tbody>\n",
       "    <tr>\n",
       "      <th rowspan=\"2\" valign=\"top\">1</th>\n",
       "      <th>1</th>\n",
       "      <td>315</td>\n",
       "    </tr>\n",
       "    <tr>\n",
       "      <th>2</th>\n",
       "      <td>25583</td>\n",
       "    </tr>\n",
       "    <tr>\n",
       "      <th rowspan=\"2\" valign=\"top\">2</th>\n",
       "      <th>1</th>\n",
       "      <td>29</td>\n",
       "    </tr>\n",
       "    <tr>\n",
       "      <th>2</th>\n",
       "      <td>1051</td>\n",
       "    </tr>\n",
       "    <tr>\n",
       "      <th rowspan=\"2\" valign=\"top\">3</th>\n",
       "      <th>1</th>\n",
       "      <td>23</td>\n",
       "    </tr>\n",
       "    <tr>\n",
       "      <th>2</th>\n",
       "      <td>3770</td>\n",
       "    </tr>\n",
       "    <tr>\n",
       "      <th rowspan=\"2\" valign=\"top\">4</th>\n",
       "      <th>1</th>\n",
       "      <td>19</td>\n",
       "    </tr>\n",
       "    <tr>\n",
       "      <th>2</th>\n",
       "      <td>861</td>\n",
       "    </tr>\n",
       "  </tbody>\n",
       "</table>\n",
       "</div>"
      ],
      "text/plain": [
       "              DISCA\n",
       "T_UNIV DISCA       \n",
       "1      1        315\n",
       "       2      25583\n",
       "2      1         29\n",
       "       2       1051\n",
       "3      1         23\n",
       "       2       3770\n",
       "4      1         19\n",
       "       2        861"
      ]
     },
     "execution_count": 32,
     "metadata": {},
     "output_type": "execute_result"
    }
   ],
   "source": [
    "df_grad[['T_UNIV','DISCA']].groupby(['T_UNIV','DISCA']).agg({'DISCA':'count'})"
   ]
  },
  {
   "cell_type": "code",
   "execution_count": 33,
   "metadata": {},
   "outputs": [
    {
     "data": {
      "text/html": [
       "<div>\n",
       "<style scoped>\n",
       "    .dataframe tbody tr th:only-of-type {\n",
       "        vertical-align: middle;\n",
       "    }\n",
       "\n",
       "    .dataframe tbody tr th {\n",
       "        vertical-align: top;\n",
       "    }\n",
       "\n",
       "    .dataframe thead th {\n",
       "        text-align: right;\n",
       "    }\n",
       "</style>\n",
       "<table border=\"1\" class=\"dataframe\">\n",
       "  <thead>\n",
       "    <tr style=\"text-align: right;\">\n",
       "      <th></th>\n",
       "      <th>DISCA</th>\n",
       "    </tr>\n",
       "    <tr>\n",
       "      <th>T_UNIV</th>\n",
       "      <th></th>\n",
       "    </tr>\n",
       "  </thead>\n",
       "  <tbody>\n",
       "    <tr>\n",
       "      <th>1</th>\n",
       "      <td>25898</td>\n",
       "    </tr>\n",
       "    <tr>\n",
       "      <th>2</th>\n",
       "      <td>1080</td>\n",
       "    </tr>\n",
       "    <tr>\n",
       "      <th>3</th>\n",
       "      <td>3793</td>\n",
       "    </tr>\n",
       "    <tr>\n",
       "      <th>4</th>\n",
       "      <td>880</td>\n",
       "    </tr>\n",
       "  </tbody>\n",
       "</table>\n",
       "</div>"
      ],
      "text/plain": [
       "        DISCA\n",
       "T_UNIV       \n",
       "1       25898\n",
       "2        1080\n",
       "3        3793\n",
       "4         880"
      ]
     },
     "execution_count": 33,
     "metadata": {},
     "output_type": "execute_result"
    }
   ],
   "source": [
    "df_grad[['T_UNIV','DISCA']].groupby('T_UNIV').agg({'DISCA':'count'})"
   ]
  },
  {
   "cell_type": "code",
   "execution_count": 34,
   "metadata": {},
   "outputs": [
    {
     "data": {
      "text/html": [
       "<div>\n",
       "<style scoped>\n",
       "    .dataframe tbody tr th:only-of-type {\n",
       "        vertical-align: middle;\n",
       "    }\n",
       "\n",
       "    .dataframe tbody tr th {\n",
       "        vertical-align: top;\n",
       "    }\n",
       "\n",
       "    .dataframe thead th {\n",
       "        text-align: right;\n",
       "    }\n",
       "</style>\n",
       "<table border=\"1\" class=\"dataframe\">\n",
       "  <thead>\n",
       "    <tr style=\"text-align: right;\">\n",
       "      <th></th>\n",
       "      <th></th>\n",
       "      <th>DISCA</th>\n",
       "    </tr>\n",
       "    <tr>\n",
       "      <th>T_UNIV</th>\n",
       "      <th>DISCA</th>\n",
       "      <th></th>\n",
       "    </tr>\n",
       "  </thead>\n",
       "  <tbody>\n",
       "    <tr>\n",
       "      <th rowspan=\"2\" valign=\"top\">1</th>\n",
       "      <th>1</th>\n",
       "      <td>0.012163</td>\n",
       "    </tr>\n",
       "    <tr>\n",
       "      <th>2</th>\n",
       "      <td>0.987837</td>\n",
       "    </tr>\n",
       "    <tr>\n",
       "      <th rowspan=\"2\" valign=\"top\">2</th>\n",
       "      <th>1</th>\n",
       "      <td>0.026852</td>\n",
       "    </tr>\n",
       "    <tr>\n",
       "      <th>2</th>\n",
       "      <td>0.973148</td>\n",
       "    </tr>\n",
       "    <tr>\n",
       "      <th rowspan=\"2\" valign=\"top\">3</th>\n",
       "      <th>1</th>\n",
       "      <td>0.006064</td>\n",
       "    </tr>\n",
       "    <tr>\n",
       "      <th>2</th>\n",
       "      <td>0.993936</td>\n",
       "    </tr>\n",
       "    <tr>\n",
       "      <th rowspan=\"2\" valign=\"top\">4</th>\n",
       "      <th>1</th>\n",
       "      <td>0.021591</td>\n",
       "    </tr>\n",
       "    <tr>\n",
       "      <th>2</th>\n",
       "      <td>0.978409</td>\n",
       "    </tr>\n",
       "  </tbody>\n",
       "</table>\n",
       "</div>"
      ],
      "text/plain": [
       "                 DISCA\n",
       "T_UNIV DISCA          \n",
       "1      1      0.012163\n",
       "       2      0.987837\n",
       "2      1      0.026852\n",
       "       2      0.973148\n",
       "3      1      0.006064\n",
       "       2      0.993936\n",
       "4      1      0.021591\n",
       "       2      0.978409"
      ]
     },
     "execution_count": 34,
     "metadata": {},
     "output_type": "execute_result"
    }
   ],
   "source": [
    "# Proporción de discapacidad en cada tipo de universidad: \n",
    "df_grad[['T_UNIV','DISCA']].groupby(['T_UNIV','DISCA']).agg({'DISCA':'count'}\n",
    "                ).div(df_grad[['T_UNIV','DISCA']].groupby('T_UNIV').agg({'DISCA':'count'}),level='T_UNIV')"
   ]
  },
  {
   "cell_type": "code",
   "execution_count": 35,
   "metadata": {},
   "outputs": [
    {
     "data": {
      "text/html": [
       "<div>\n",
       "<style scoped>\n",
       "    .dataframe tbody tr th:only-of-type {\n",
       "        vertical-align: middle;\n",
       "    }\n",
       "\n",
       "    .dataframe tbody tr th {\n",
       "        vertical-align: top;\n",
       "    }\n",
       "\n",
       "    .dataframe thead th {\n",
       "        text-align: right;\n",
       "    }\n",
       "</style>\n",
       "<table border=\"1\" class=\"dataframe\">\n",
       "  <thead>\n",
       "    <tr style=\"text-align: right;\">\n",
       "      <th></th>\n",
       "      <th></th>\n",
       "      <th>T_UNIV</th>\n",
       "    </tr>\n",
       "    <tr>\n",
       "      <th>DISCA</th>\n",
       "      <th>T_UNIV</th>\n",
       "      <th></th>\n",
       "    </tr>\n",
       "  </thead>\n",
       "  <tbody>\n",
       "    <tr>\n",
       "      <th rowspan=\"4\" valign=\"top\">1</th>\n",
       "      <th>1</th>\n",
       "      <td>0.816062</td>\n",
       "    </tr>\n",
       "    <tr>\n",
       "      <th>2</th>\n",
       "      <td>0.075130</td>\n",
       "    </tr>\n",
       "    <tr>\n",
       "      <th>3</th>\n",
       "      <td>0.059585</td>\n",
       "    </tr>\n",
       "    <tr>\n",
       "      <th>4</th>\n",
       "      <td>0.049223</td>\n",
       "    </tr>\n",
       "    <tr>\n",
       "      <th rowspan=\"4\" valign=\"top\">2</th>\n",
       "      <th>1</th>\n",
       "      <td>0.818263</td>\n",
       "    </tr>\n",
       "    <tr>\n",
       "      <th>2</th>\n",
       "      <td>0.033616</td>\n",
       "    </tr>\n",
       "    <tr>\n",
       "      <th>3</th>\n",
       "      <td>0.120582</td>\n",
       "    </tr>\n",
       "    <tr>\n",
       "      <th>4</th>\n",
       "      <td>0.027539</td>\n",
       "    </tr>\n",
       "  </tbody>\n",
       "</table>\n",
       "</div>"
      ],
      "text/plain": [
       "                T_UNIV\n",
       "DISCA T_UNIV          \n",
       "1     1       0.816062\n",
       "      2       0.075130\n",
       "      3       0.059585\n",
       "      4       0.049223\n",
       "2     1       0.818263\n",
       "      2       0.033616\n",
       "      3       0.120582\n",
       "      4       0.027539"
      ]
     },
     "execution_count": 35,
     "metadata": {},
     "output_type": "execute_result"
    }
   ],
   "source": [
    "# Proporción de universidad de cada tipo según discapacidad: \n",
    "df_grad[['DISCA','T_UNIV']].groupby(['DISCA','T_UNIV']).agg({'T_UNIV':'count'}\n",
    "                ).div(df_grad[['DISCA','T_UNIV']].groupby('DISCA').agg({'T_UNIV':'count'}),level='DISCA')"
   ]
  },
  {
   "cell_type": "code",
   "execution_count": null,
   "metadata": {},
   "outputs": [],
   "source": []
  }
 ],
 "metadata": {
  "kernelspec": {
   "display_name": "Python 3",
   "language": "python",
   "name": "python3"
  },
  "language_info": {
   "codemirror_mode": {
    "name": "ipython",
    "version": 3
   },
   "file_extension": ".py",
   "mimetype": "text/x-python",
   "name": "python",
   "nbconvert_exporter": "python",
   "pygments_lexer": "ipython3",
   "version": "3.6.9"
  }
 },
 "nbformat": 4,
 "nbformat_minor": 4
}
