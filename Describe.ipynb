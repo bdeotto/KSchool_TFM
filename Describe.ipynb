{
 "cells": [
  {
   "cell_type": "code",
   "execution_count": 1,
   "metadata": {},
   "outputs": [],
   "source": [
    "import pandas as pd\n",
    "import numpy as np\n",
    "\n",
    "import seaborn as sns\n",
    "from matplotlib import pyplot as plt\n",
    "from matplotlib import gridspec\n",
    "import textwrap\n",
    "\n",
    "sns.set_style('whitegrid')\n",
    "pd.options.display.max_colwidth=800"
   ]
  },
  {
   "cell_type": "code",
   "execution_count": 2,
   "metadata": {},
   "outputs": [
    {
     "data": {
      "text/plain": [
       "(73513, 426)"
      ]
     },
     "execution_count": 2,
     "metadata": {},
     "output_type": "execute_result"
    }
   ],
   "source": [
    "# Dataset completo procesado\n",
    "ruta='data/formacion_procesado.csv'\n",
    "df=pd.read_csv(ruta,index_col=0,low_memory=False)\n",
    "df.shape"
   ]
  },
  {
   "cell_type": "code",
   "execution_count": 3,
   "metadata": {},
   "outputs": [],
   "source": [
    "# Dataset ocupados\n",
    "df_oc=df[df['ocupacion'].notna()]"
   ]
  },
  {
   "cell_type": "code",
   "execution_count": 4,
   "metadata": {},
   "outputs": [],
   "source": [
    "# Diccionario de diccionarios de códigos de variables y valores literales. \n",
    "# (Se irán incluyendo las variables necesarias para el análisis descriptivo)\n",
    "D_dicc=dict()"
   ]
  },
  {
   "cell_type": "markdown",
   "metadata": {},
   "source": [
    "# Tamaño del dataset"
   ]
  },
  {
   "cell_type": "code",
   "execution_count": 5,
   "metadata": {},
   "outputs": [
    {
     "data": {
      "text/plain": [
       "173"
      ]
     },
     "execution_count": 5,
     "metadata": {},
     "output_type": "execute_result"
    }
   ],
   "source": [
    "# Número de títulos distintos: \n",
    "df['titulo_ppal_'].nunique()"
   ]
  },
  {
   "cell_type": "code",
   "execution_count": 6,
   "metadata": {},
   "outputs": [
    {
     "data": {
      "text/plain": [
       "62"
      ]
     },
     "execution_count": 6,
     "metadata": {},
     "output_type": "execute_result"
    }
   ],
   "source": [
    "# Número de ocupaciones distintas\n",
    "df_oc['ocupacion_'].nunique()"
   ]
  },
  {
   "cell_type": "code",
   "execution_count": 7,
   "metadata": {},
   "outputs": [
    {
     "data": {
      "text/plain": [
       "73513"
      ]
     },
     "execution_count": 7,
     "metadata": {},
     "output_type": "execute_result"
    }
   ],
   "source": [
    "# Número de encuestados: \n",
    "df.shape[0]"
   ]
  },
  {
   "cell_type": "markdown",
   "metadata": {},
   "source": [
    "# Distribución de encuestados por sexos"
   ]
  },
  {
   "cell_type": "code",
   "execution_count": 8,
   "metadata": {},
   "outputs": [],
   "source": [
    "# Diccionario de códigos de sexos:\n",
    "D_dicc['sexo']=dict(zip(df['sexo'].unique(),df['sexo_'].unique()))"
   ]
  },
  {
   "cell_type": "code",
   "execution_count": 9,
   "metadata": {},
   "outputs": [
    {
     "data": {
      "text/html": [
       "<div>\n",
       "<style scoped>\n",
       "    .dataframe tbody tr th:only-of-type {\n",
       "        vertical-align: middle;\n",
       "    }\n",
       "\n",
       "    .dataframe tbody tr th {\n",
       "        vertical-align: top;\n",
       "    }\n",
       "\n",
       "    .dataframe thead th {\n",
       "        text-align: right;\n",
       "    }\n",
       "</style>\n",
       "<table border=\"1\" class=\"dataframe\">\n",
       "  <thead>\n",
       "    <tr style=\"text-align: right;\">\n",
       "      <th></th>\n",
       "      <th>sexo</th>\n",
       "    </tr>\n",
       "  </thead>\n",
       "  <tbody>\n",
       "    <tr>\n",
       "      <th>1</th>\n",
       "      <td>57.44</td>\n",
       "    </tr>\n",
       "    <tr>\n",
       "      <th>0</th>\n",
       "      <td>42.56</td>\n",
       "    </tr>\n",
       "  </tbody>\n",
       "</table>\n",
       "</div>"
      ],
      "text/plain": [
       "    sexo\n",
       "1  57.44\n",
       "0  42.56"
      ]
     },
     "execution_count": 9,
     "metadata": {},
     "output_type": "execute_result"
    }
   ],
   "source": [
    "sexos=pd.DataFrame(df['sexo'].value_counts(normalize=True))\n",
    "sexos['sexo']=(sexos['sexo']*100).round(2)\n",
    "sexos"
   ]
  },
  {
   "cell_type": "code",
   "execution_count": 10,
   "metadata": {
    "scrolled": true
   },
   "outputs": [
    {
     "data": {
      "image/png": "[encoded data removed]",
      "text/plain": [
       "<Figure size 432x288 with 1 Axes>"
      ]
     },
     "metadata": {},
     "output_type": "display_data"
    }
   ],
   "source": [
    "# Distribución de encuestados por sexos: \n",
    "\n",
    "sns.set_style('whitegrid')\n",
    "fig, ax = plt.subplots(1,figsize=(6,4))\n",
    "\n",
    "sns.barplot(data=sexos,x=sexos.index,y='sexo',palette='tab10')\n",
    "ax.set_xticklabels([D_dicc['sexo'][float(tick.get_text())] for tick in ax.get_xticklabels()])\n",
    "ax.set_xlabel('')\n",
    "ax.set_ylabel('Frecuencia relativa')\n",
    "ax.set_title('Titulados por sexos', fontsize=16)\n",
    "#sns.despine()\n",
    "\n",
    "fig.savefig('img/titulados_sexos.png',dpi=400)\n",
    "plt.show()"
   ]
  },
  {
   "cell_type": "markdown",
   "metadata": {},
   "source": [
    "# Tipo de formación"
   ]
  },
  {
   "cell_type": "markdown",
   "metadata": {},
   "source": [
    "## Universidades públicas y privadas"
   ]
  },
  {
   "cell_type": "code",
   "execution_count": 11,
   "metadata": {},
   "outputs": [],
   "source": [
    "# Diccionario de códigos de tipo de centros:\n",
    "D_dicc['tipo_centro']=dict(zip(df['tipo_centro'].unique(),df['tipo_centro_'].unique()))"
   ]
  },
  {
   "cell_type": "code",
   "execution_count": 12,
   "metadata": {},
   "outputs": [
    {
     "data": {
      "text/html": [
       "<div>\n",
       "<style scoped>\n",
       "    .dataframe tbody tr th:only-of-type {\n",
       "        vertical-align: middle;\n",
       "    }\n",
       "\n",
       "    .dataframe tbody tr th {\n",
       "        vertical-align: top;\n",
       "    }\n",
       "\n",
       "    .dataframe thead th {\n",
       "        text-align: right;\n",
       "    }\n",
       "</style>\n",
       "<table border=\"1\" class=\"dataframe\">\n",
       "  <thead>\n",
       "    <tr style=\"text-align: right;\">\n",
       "      <th></th>\n",
       "      <th>tipo_centro</th>\n",
       "    </tr>\n",
       "  </thead>\n",
       "  <tbody>\n",
       "    <tr>\n",
       "      <th>1</th>\n",
       "      <td>83.95</td>\n",
       "    </tr>\n",
       "    <tr>\n",
       "      <th>0</th>\n",
       "      <td>16.05</td>\n",
       "    </tr>\n",
       "  </tbody>\n",
       "</table>\n",
       "</div>"
      ],
      "text/plain": [
       "   tipo_centro\n",
       "1        83.95\n",
       "0        16.05"
      ]
     },
     "execution_count": 12,
     "metadata": {},
     "output_type": "execute_result"
    }
   ],
   "source": [
    "centros=pd.DataFrame(df['tipo_centro'].value_counts(normalize=True))\n",
    "centros['tipo_centro']=(centros['tipo_centro']*100).round(2)\n",
    "centros"
   ]
  },
  {
   "cell_type": "markdown",
   "metadata": {},
   "source": [
    "## Enseñanza presencial y a distancia"
   ]
  },
  {
   "cell_type": "code",
   "execution_count": 13,
   "metadata": {},
   "outputs": [],
   "source": [
    "# Diccionario de códigos de tipo de docencia:\n",
    "D_dicc['tipo_docencia']=dict(zip(df['tipo_docencia'].unique(),df['tipo_docencia_'].unique()))"
   ]
  },
  {
   "cell_type": "code",
   "execution_count": 14,
   "metadata": {},
   "outputs": [
    {
     "data": {
      "text/html": [
       "<div>\n",
       "<style scoped>\n",
       "    .dataframe tbody tr th:only-of-type {\n",
       "        vertical-align: middle;\n",
       "    }\n",
       "\n",
       "    .dataframe tbody tr th {\n",
       "        vertical-align: top;\n",
       "    }\n",
       "\n",
       "    .dataframe thead th {\n",
       "        text-align: right;\n",
       "    }\n",
       "</style>\n",
       "<table border=\"1\" class=\"dataframe\">\n",
       "  <thead>\n",
       "    <tr style=\"text-align: right;\">\n",
       "      <th></th>\n",
       "      <th>tipo_docencia</th>\n",
       "    </tr>\n",
       "  </thead>\n",
       "  <tbody>\n",
       "    <tr>\n",
       "      <th>0.0</th>\n",
       "      <td>92.11</td>\n",
       "    </tr>\n",
       "    <tr>\n",
       "      <th>1.0</th>\n",
       "      <td>7.89</td>\n",
       "    </tr>\n",
       "  </tbody>\n",
       "</table>\n",
       "</div>"
      ],
      "text/plain": [
       "     tipo_docencia\n",
       "0.0          92.11\n",
       "1.0           7.89"
      ]
     },
     "execution_count": 14,
     "metadata": {},
     "output_type": "execute_result"
    }
   ],
   "source": [
    "docencia=pd.DataFrame(df['tipo_docencia'].value_counts(normalize=True))\n",
    "docencia['tipo_docencia']=(docencia['tipo_docencia']*100).round(2)\n",
    "docencia"
   ]
  },
  {
   "cell_type": "code",
   "execution_count": 15,
   "metadata": {
    "scrolled": true
   },
   "outputs": [
    {
     "data": {
      "image/png": "[encoded data removed]",
      "text/plain": [
       "<Figure size 576x288 with 2 Axes>"
      ]
     },
     "metadata": {},
     "output_type": "display_data"
    }
   ],
   "source": [
    "# Tipo de universidad y docencia: \n",
    "\n",
    "sns.set_style('whitegrid')\n",
    "fig, ax = plt.subplots(1,2,figsize=(8,4))\n",
    "\n",
    "sns.barplot(ax=ax[0],data=centros,x=centros.index,y='tipo_centro',palette='Paired')\n",
    "ax[0].set_xticklabels([D_dicc['tipo_centro'][float(tick.get_text())] for tick in ax[0].get_xticklabels()])\n",
    "ax[0].set_xticklabels([tick.get_text()[:-1]+'a' for tick in ax[0].get_xticklabels()])\n",
    "ax[0].set_xlabel('')\n",
    "ax[0].set_ylabel('Frecuencia relativa')\n",
    "ax[0].set_ylim(0,99)\n",
    "ax[0].set_title('Tipo de universidad', fontsize=16)\n",
    "\n",
    "\n",
    "\n",
    "sns.barplot(ax=ax[1],data=docencia,x=docencia.index,y='tipo_docencia',palette='Paired')\n",
    "ax[1].set_xticklabels([D_dicc['tipo_docencia'][float(tick.get_text())] for tick in ax[1].get_xticklabels()])\n",
    "ax[1].set_xticklabels([textwrap.fill(tick.get_text(),12) for tick in ax[1].get_xticklabels()])\n",
    "ax[1].tick_params(left=False,labelleft=False)\n",
    "ax[1].set_xlabel('')\n",
    "ax[1].set_ylabel('')\n",
    "ax[1].set_ylim(0,99)\n",
    "ax[1].set_title('Tipo de docencia', fontsize=16)\n",
    "\n",
    "fig.savefig('img/tipos_universidad.png',dpi=400)\n",
    "plt.show()"
   ]
  },
  {
   "cell_type": "markdown",
   "metadata": {},
   "source": [
    "# Distribución de encuestados según discapacidad"
   ]
  },
  {
   "cell_type": "code",
   "execution_count": 16,
   "metadata": {},
   "outputs": [
    {
     "data": {
      "text/html": [
       "<div>\n",
       "<style scoped>\n",
       "    .dataframe tbody tr th:only-of-type {\n",
       "        vertical-align: middle;\n",
       "    }\n",
       "\n",
       "    .dataframe tbody tr th {\n",
       "        vertical-align: top;\n",
       "    }\n",
       "\n",
       "    .dataframe thead th {\n",
       "        text-align: right;\n",
       "    }\n",
       "</style>\n",
       "<table border=\"1\" class=\"dataframe\">\n",
       "  <thead>\n",
       "    <tr style=\"text-align: right;\">\n",
       "      <th></th>\n",
       "      <th>discapacidad</th>\n",
       "    </tr>\n",
       "  </thead>\n",
       "  <tbody>\n",
       "    <tr>\n",
       "      <th>0</th>\n",
       "      <td>98.93</td>\n",
       "    </tr>\n",
       "    <tr>\n",
       "      <th>1</th>\n",
       "      <td>1.07</td>\n",
       "    </tr>\n",
       "  </tbody>\n",
       "</table>\n",
       "</div>"
      ],
      "text/plain": [
       "   discapacidad\n",
       "0         98.93\n",
       "1          1.07"
      ]
     },
     "execution_count": 16,
     "metadata": {},
     "output_type": "execute_result"
    }
   ],
   "source": [
    "D_dicc['discapacidad']=dict(zip(df['discapacidad'].unique(),df['discapacidad_'].unique()))\n",
    "\n",
    "discapacidad=pd.DataFrame(df['discapacidad'].value_counts(normalize=True))\n",
    "discapacidad['discapacidad']=(discapacidad['discapacidad']*100).round(2)\n",
    "discapacidad"
   ]
  },
  {
   "cell_type": "code",
   "execution_count": 17,
   "metadata": {},
   "outputs": [],
   "source": [
    "def df_histograma(data,ref,criterio,umbral=0):\n",
    "    \"\"\" Devuelve un histograma de frecuencias relativas (dataframe) de los datos de data agrupados de acuerdo con \n",
    "    las columnas en la lista ref según los valores de la columna criterio \n",
    "    Es equivalente a data[ref+[criterio]].groupby(ref, as_index=False).value_counts(normalize=True) si esta \n",
    "    instrucción fuera legítima.\n",
    "    El argumento umbral establece una frecuencia mínima (en porcentaje) por debajo de la cual se omiten los \n",
    "    resultados. \n",
    "    \"\"\"\n",
    "    \n",
    "    if type(ref)!=list: ref=[ref]\n",
    "    \n",
    "    aux_totales=data[ref+[criterio]].groupby(ref).agg(['count'])\n",
    "    aux_totales.columns=aux_totales.columns.to_flat_index()\n",
    "    aux_totales.rename(columns={aux_totales.columns[-1]:'total'},inplace=True)\n",
    "    hist=data[ref+[criterio]].merge(aux_totales,left_on=ref,right_on=ref)\n",
    "\n",
    "    # Frecuencias relativas:\n",
    "    aux_fr=hist[ref+[criterio]].groupby(ref).agg(['value_counts'])\n",
    "    aux_fr.columns=aux_fr.columns.to_flat_index()\n",
    "    aux_fr.rename(columns={aux_fr.columns[-1]:'fr'},inplace=True)\n",
    "    hist=hist.merge(aux_fr,left_on=ref+[criterio],right_on=ref+[criterio])\n",
    "    hist.drop_duplicates(inplace=True)\n",
    "    hist['fr']=(hist['fr'].div(hist['total']))*100\n",
    "    hist=hist[hist['fr']>=umbral]\n",
    "    hist.sort_values(by='fr',ascending=False,inplace=True)\n",
    "    hist.reset_index(drop=True,inplace=True)\n",
    "\n",
    "    return hist"
   ]
  },
  {
   "cell_type": "code",
   "execution_count": 18,
   "metadata": {},
   "outputs": [
    {
     "data": {
      "text/html": [
       "<div>\n",
       "<style scoped>\n",
       "    .dataframe tbody tr th:only-of-type {\n",
       "        vertical-align: middle;\n",
       "    }\n",
       "\n",
       "    .dataframe tbody tr th {\n",
       "        vertical-align: top;\n",
       "    }\n",
       "\n",
       "    .dataframe thead th {\n",
       "        text-align: right;\n",
       "    }\n",
       "</style>\n",
       "<table border=\"1\" class=\"dataframe\">\n",
       "  <thead>\n",
       "    <tr style=\"text-align: right;\">\n",
       "      <th></th>\n",
       "      <th>discapacidad</th>\n",
       "      <th>tipo_centro_</th>\n",
       "      <th>total</th>\n",
       "      <th>fr</th>\n",
       "    </tr>\n",
       "  </thead>\n",
       "  <tbody>\n",
       "    <tr>\n",
       "      <th>0</th>\n",
       "      <td>1</td>\n",
       "      <td>Público</td>\n",
       "      <td>790</td>\n",
       "      <td>85.189873</td>\n",
       "    </tr>\n",
       "    <tr>\n",
       "      <th>1</th>\n",
       "      <td>0</td>\n",
       "      <td>Público</td>\n",
       "      <td>72723</td>\n",
       "      <td>83.932181</td>\n",
       "    </tr>\n",
       "    <tr>\n",
       "      <th>2</th>\n",
       "      <td>0</td>\n",
       "      <td>Privado</td>\n",
       "      <td>72723</td>\n",
       "      <td>16.067819</td>\n",
       "    </tr>\n",
       "    <tr>\n",
       "      <th>3</th>\n",
       "      <td>1</td>\n",
       "      <td>Privado</td>\n",
       "      <td>790</td>\n",
       "      <td>14.810127</td>\n",
       "    </tr>\n",
       "  </tbody>\n",
       "</table>\n",
       "</div>"
      ],
      "text/plain": [
       "   discapacidad tipo_centro_  total         fr\n",
       "0             1      Público    790  85.189873\n",
       "1             0      Público  72723  83.932181\n",
       "2             0      Privado  72723  16.067819\n",
       "3             1      Privado    790  14.810127"
      ]
     },
     "execution_count": 18,
     "metadata": {},
     "output_type": "execute_result"
    }
   ],
   "source": [
    "discapacidad_centro=df_histograma(df,ref='discapacidad',criterio='tipo_centro_')\n",
    "discapacidad_centro"
   ]
  },
  {
   "cell_type": "code",
   "execution_count": 19,
   "metadata": {},
   "outputs": [
    {
     "data": {
      "text/html": [
       "<div>\n",
       "<style scoped>\n",
       "    .dataframe tbody tr th:only-of-type {\n",
       "        vertical-align: middle;\n",
       "    }\n",
       "\n",
       "    .dataframe tbody tr th {\n",
       "        vertical-align: top;\n",
       "    }\n",
       "\n",
       "    .dataframe thead th {\n",
       "        text-align: right;\n",
       "    }\n",
       "</style>\n",
       "<table border=\"1\" class=\"dataframe\">\n",
       "  <thead>\n",
       "    <tr style=\"text-align: right;\">\n",
       "      <th></th>\n",
       "      <th>discapacidad</th>\n",
       "      <th>tipo_docencia_</th>\n",
       "      <th>total</th>\n",
       "      <th>fr</th>\n",
       "    </tr>\n",
       "  </thead>\n",
       "  <tbody>\n",
       "    <tr>\n",
       "      <th>0</th>\n",
       "      <td>0</td>\n",
       "      <td>Formación presencial</td>\n",
       "      <td>42632</td>\n",
       "      <td>92.179583</td>\n",
       "    </tr>\n",
       "    <tr>\n",
       "      <th>1</th>\n",
       "      <td>1</td>\n",
       "      <td>Formación presencial</td>\n",
       "      <td>502</td>\n",
       "      <td>86.454183</td>\n",
       "    </tr>\n",
       "    <tr>\n",
       "      <th>2</th>\n",
       "      <td>1</td>\n",
       "      <td>Formación a distancia</td>\n",
       "      <td>502</td>\n",
       "      <td>13.545817</td>\n",
       "    </tr>\n",
       "    <tr>\n",
       "      <th>3</th>\n",
       "      <td>0</td>\n",
       "      <td>Formación a distancia</td>\n",
       "      <td>42632</td>\n",
       "      <td>7.820417</td>\n",
       "    </tr>\n",
       "  </tbody>\n",
       "</table>\n",
       "</div>"
      ],
      "text/plain": [
       "   discapacidad         tipo_docencia_  total         fr\n",
       "0             0   Formación presencial  42632  92.179583\n",
       "1             1   Formación presencial    502  86.454183\n",
       "2             1  Formación a distancia    502  13.545817\n",
       "3             0  Formación a distancia  42632   7.820417"
      ]
     },
     "execution_count": 19,
     "metadata": {},
     "output_type": "execute_result"
    }
   ],
   "source": [
    "discapacidad_docencia=df_histograma(df,ref='discapacidad',criterio='tipo_docencia_')\n",
    "discapacidad_docencia"
   ]
  },
  {
   "cell_type": "code",
   "execution_count": 20,
   "metadata": {
    "scrolled": true
   },
   "outputs": [
    {
     "data": {
      "image/png": "[encoded data removed]",
      "text/plain": [
       "<Figure size 576x288 with 2 Axes>"
      ]
     },
     "metadata": {},
     "output_type": "display_data"
    }
   ],
   "source": [
    "# Tipo de universidad y docencia según discapacidad: \n",
    "\n",
    "sns.set_style('whitegrid')\n",
    "fig, ax = plt.subplots(1,2,figsize=(8,4))\n",
    "\n",
    "sns.barplot(ax=ax[0],data=discapacidad_centro,x='tipo_centro_',y='fr',hue='discapacidad',\n",
    "            palette='Paired')\n",
    "ax[0].set_xticklabels([tick.get_text()[:-1]+'a' for tick in ax[0].get_xticklabels()])\n",
    "ax[0].set_xlabel('')\n",
    "ax[0].set_ylabel('Frecuencia relativa')\n",
    "ax[0].set_ylim(0,99)\n",
    "ax[0].set_title('Tipo de universidad', fontsize=16)\n",
    "ax[0].legend_.remove()\n",
    "\n",
    "\n",
    "sns.barplot(ax=ax[1],data=discapacidad_docencia,x='tipo_docencia_',y='fr',hue='discapacidad',palette='Paired')\n",
    "ax[1].set_xticklabels([textwrap.fill(tick.get_text(),12) for tick in ax[1].get_xticklabels()])\n",
    "ax[1].tick_params(left=False,labelleft=False)\n",
    "ax[1].set_xlabel('')\n",
    "ax[1].set_ylabel('')\n",
    "ax[1].set_ylim(0,99)\n",
    "ax[1].set_title('Tipo de docencia', fontsize=16)\n",
    "handles,labels=ax[1].get_legend_handles_labels()\n",
    "labels=[D_dicc['discapacidad'][int(label)] for label in labels]\n",
    "ax[1].legend(title='Discapacidad',handles=handles,labels=labels,fontsize='small')\n",
    "\n",
    "fig.savefig('img/discapacidad_tipo_universidad.png',dpi=400)\n",
    "plt.show()"
   ]
  },
  {
   "cell_type": "markdown",
   "metadata": {},
   "source": [
    "# Distribución de encuestados por títulos y familias de estudios "
   ]
  },
  {
   "cell_type": "markdown",
   "metadata": {},
   "source": [
    "### Distribución de encuestados por títulos"
   ]
  },
  {
   "cell_type": "code",
   "execution_count": 21,
   "metadata": {
    "scrolled": true
   },
   "outputs": [
    {
     "data": {
      "text/html": [
       "<div>\n",
       "<style scoped>\n",
       "    .dataframe tbody tr th:only-of-type {\n",
       "        vertical-align: middle;\n",
       "    }\n",
       "\n",
       "    .dataframe tbody tr th {\n",
       "        vertical-align: top;\n",
       "    }\n",
       "\n",
       "    .dataframe thead th {\n",
       "        text-align: right;\n",
       "    }\n",
       "</style>\n",
       "<table border=\"1\" class=\"dataframe\">\n",
       "  <thead>\n",
       "    <tr style=\"text-align: right;\">\n",
       "      <th></th>\n",
       "      <th>título</th>\n",
       "      <th>Núm. titulados encuestados</th>\n",
       "    </tr>\n",
       "  </thead>\n",
       "  <tbody>\n",
       "    <tr>\n",
       "      <th>0</th>\n",
       "      <td>Grado Administración y empresa</td>\n",
       "      <td>3042</td>\n",
       "    </tr>\n",
       "    <tr>\n",
       "      <th>1</th>\n",
       "      <td>Grado Derecho</td>\n",
       "      <td>2923</td>\n",
       "    </tr>\n",
       "    <tr>\n",
       "      <th>2</th>\n",
       "      <td>Grado Enfermería</td>\n",
       "      <td>2851</td>\n",
       "    </tr>\n",
       "    <tr>\n",
       "      <th>3</th>\n",
       "      <td>Grado Educación primaria</td>\n",
       "      <td>2586</td>\n",
       "    </tr>\n",
       "    <tr>\n",
       "      <th>4</th>\n",
       "      <td>Grado Educación infantil</td>\n",
       "      <td>2481</td>\n",
       "    </tr>\n",
       "    <tr>\n",
       "      <th>5</th>\n",
       "      <td>Grado Informática</td>\n",
       "      <td>2372</td>\n",
       "    </tr>\n",
       "  </tbody>\n",
       "</table>\n",
       "</div>"
      ],
      "text/plain": [
       "                           título  Núm. titulados encuestados\n",
       "0  Grado Administración y empresa                        3042\n",
       "1                   Grado Derecho                        2923\n",
       "2                Grado Enfermería                        2851\n",
       "3        Grado Educación primaria                        2586\n",
       "4        Grado Educación infantil                        2481\n",
       "5               Grado Informática                        2372"
      ]
     },
     "execution_count": 21,
     "metadata": {},
     "output_type": "execute_result"
    }
   ],
   "source": [
    "# Auxiliar para cálculo de distribución de encuestados para cada título: \n",
    "tts=pd.DataFrame(df['titulo_ppal_'].value_counts())\n",
    "tts.reset_index(inplace=True)\n",
    "tts.rename(columns={'index':'título','titulo_ppal_':'Núm. titulados encuestados'},inplace=True)\n",
    "tts.head(6)"
   ]
  },
  {
   "cell_type": "code",
   "execution_count": 22,
   "metadata": {},
   "outputs": [
    {
     "data": {
      "text/html": [
       "<div>\n",
       "<style scoped>\n",
       "    .dataframe tbody tr th:only-of-type {\n",
       "        vertical-align: middle;\n",
       "    }\n",
       "\n",
       "    .dataframe tbody tr th {\n",
       "        vertical-align: top;\n",
       "    }\n",
       "\n",
       "    .dataframe thead th {\n",
       "        text-align: right;\n",
       "    }\n",
       "</style>\n",
       "<table border=\"1\" class=\"dataframe\">\n",
       "  <thead>\n",
       "    <tr style=\"text-align: right;\">\n",
       "      <th></th>\n",
       "      <th>Núm. titulados encuestados</th>\n",
       "    </tr>\n",
       "    <tr>\n",
       "      <th>título</th>\n",
       "      <th></th>\n",
       "    </tr>\n",
       "  </thead>\n",
       "  <tbody>\n",
       "    <tr>\n",
       "      <th>Grado Administración y empresa</th>\n",
       "      <td>3042</td>\n",
       "    </tr>\n",
       "    <tr>\n",
       "      <th>Grado Derecho</th>\n",
       "      <td>2923</td>\n",
       "    </tr>\n",
       "    <tr>\n",
       "      <th>Grado Enfermería</th>\n",
       "      <td>2851</td>\n",
       "    </tr>\n",
       "    <tr>\n",
       "      <th>Grado Educación primaria</th>\n",
       "      <td>2586</td>\n",
       "    </tr>\n",
       "    <tr>\n",
       "      <th>Grado Educación infantil</th>\n",
       "      <td>2481</td>\n",
       "    </tr>\n",
       "    <tr>\n",
       "      <th>Grado Informática</th>\n",
       "      <td>2372</td>\n",
       "    </tr>\n",
       "  </tbody>\n",
       "</table>\n",
       "</div>"
      ],
      "text/plain": [
       "                                Núm. titulados encuestados\n",
       "título                                                    \n",
       "Grado Administración y empresa                        3042\n",
       "Grado Derecho                                         2923\n",
       "Grado Enfermería                                      2851\n",
       "Grado Educación primaria                              2586\n",
       "Grado Educación infantil                              2481\n",
       "Grado Informática                                     2372"
      ]
     },
     "execution_count": 22,
     "metadata": {},
     "output_type": "execute_result"
    }
   ],
   "source": [
    "# Títulos con más de 2000 encuestados: \n",
    "tts_2000=tts[tts['Núm. titulados encuestados']>=2000]\n",
    "tts_2000.set_index('título',drop=True,inplace=True)\n",
    "tts_2000"
   ]
  },
  {
   "cell_type": "code",
   "execution_count": 23,
   "metadata": {},
   "outputs": [
    {
     "data": {
      "image/png": "[encoded data removed]",
      "text/plain": [
       "<Figure size 1008x288 with 2 Axes>"
      ]
     },
     "metadata": {},
     "output_type": "display_data"
    }
   ],
   "source": [
    "# Distribución de encuestados por títulos: \n",
    "\n",
    "sns.set_style('whitegrid')\n",
    "fig= plt.figure(figsize=(14,4)) \n",
    "gs = gridspec.GridSpec(1,2, width_ratios=[4, 1]) \n",
    "fig.suptitle('Distribución de encuestados por títulos',fontsize=16)\n",
    "\n",
    "ax=plt.subplot(gs[0])\n",
    "sns.barplot(data=tts,x=tts.index,y='Núm. titulados encuestados',palette='tab20')\n",
    "ax.set_xlabel('Titulos universitarios (173 títulos)')\n",
    "ax.set_xticklabels(['']*len(tts['Núm. titulados encuestados']))\n",
    "ax.set_ylim(0,3200)\n",
    "ax.set_ylabel('Núm. de titulados encuestados')\n",
    "\n",
    "ax=plt.subplot(gs[1])\n",
    "sns.boxplot(data=tts,y='Núm. titulados encuestados',palette='Paired')\n",
    "ax.set_ylim(0,3200)\n",
    "ax.tick_params(right=True,labelright=True,left=False,labelleft=False)\n",
    "ax.set_ylabel('')\n",
    "\n",
    "fig.subplots_adjust(wspace=0.02)\n",
    "\n",
    "fig.savefig('img/distribucion_encuestados_titulo.png',dpi=400)\n",
    "plt.show()"
   ]
  },
  {
   "cell_type": "markdown",
   "metadata": {},
   "source": [
    "### Distribución de encuestados por familias de estudios"
   ]
  },
  {
   "cell_type": "code",
   "execution_count": 24,
   "metadata": {},
   "outputs": [
    {
     "data": {
      "text/html": [
       "<div>\n",
       "<style scoped>\n",
       "    .dataframe tbody tr th:only-of-type {\n",
       "        vertical-align: middle;\n",
       "    }\n",
       "\n",
       "    .dataframe tbody tr th {\n",
       "        vertical-align: top;\n",
       "    }\n",
       "\n",
       "    .dataframe thead th {\n",
       "        text-align: right;\n",
       "    }\n",
       "</style>\n",
       "<table border=\"1\" class=\"dataframe\">\n",
       "  <thead>\n",
       "    <tr style=\"text-align: right;\">\n",
       "      <th></th>\n",
       "      <th>familia</th>\n",
       "      <th>Núm. titulados encuestados</th>\n",
       "    </tr>\n",
       "  </thead>\n",
       "  <tbody>\n",
       "    <tr>\n",
       "      <th>0</th>\n",
       "      <td>Negocios, administración y derecho</td>\n",
       "      <td>10851</td>\n",
       "    </tr>\n",
       "    <tr>\n",
       "      <th>1</th>\n",
       "      <td>Educación</td>\n",
       "      <td>10704</td>\n",
       "    </tr>\n",
       "    <tr>\n",
       "      <th>2</th>\n",
       "      <td>Ingeniería, industria y construcción</td>\n",
       "      <td>10596</td>\n",
       "    </tr>\n",
       "    <tr>\n",
       "      <th>3</th>\n",
       "      <td>Salud y servicios sociales</td>\n",
       "      <td>10092</td>\n",
       "    </tr>\n",
       "    <tr>\n",
       "      <th>4</th>\n",
       "      <td>Artes y humanidades</td>\n",
       "      <td>7872</td>\n",
       "    </tr>\n",
       "    <tr>\n",
       "      <th>5</th>\n",
       "      <td>Ciencias sociales, periodismo y documentación</td>\n",
       "      <td>7251</td>\n",
       "    </tr>\n",
       "    <tr>\n",
       "      <th>6</th>\n",
       "      <td>Ciencias</td>\n",
       "      <td>6341</td>\n",
       "    </tr>\n",
       "    <tr>\n",
       "      <th>7</th>\n",
       "      <td>Servicios</td>\n",
       "      <td>4160</td>\n",
       "    </tr>\n",
       "    <tr>\n",
       "      <th>8</th>\n",
       "      <td>Informática</td>\n",
       "      <td>2824</td>\n",
       "    </tr>\n",
       "    <tr>\n",
       "      <th>9</th>\n",
       "      <td>Agricultura, ganadería, silvicultura, pesca y veterinaria</td>\n",
       "      <td>2822</td>\n",
       "    </tr>\n",
       "  </tbody>\n",
       "</table>\n",
       "</div>"
      ],
      "text/plain": [
       "                                                     familia  \\\n",
       "0                         Negocios, administración y derecho   \n",
       "1                                                  Educación   \n",
       "2                       Ingeniería, industria y construcción   \n",
       "3                                 Salud y servicios sociales   \n",
       "4                                        Artes y humanidades   \n",
       "5              Ciencias sociales, periodismo y documentación   \n",
       "6                                                   Ciencias   \n",
       "7                                                  Servicios   \n",
       "8                                                Informática   \n",
       "9  Agricultura, ganadería, silvicultura, pesca y veterinaria   \n",
       "\n",
       "   Núm. titulados encuestados  \n",
       "0                       10851  \n",
       "1                       10704  \n",
       "2                       10596  \n",
       "3                       10092  \n",
       "4                        7872  \n",
       "5                        7251  \n",
       "6                        6341  \n",
       "7                        4160  \n",
       "8                        2824  \n",
       "9                        2822  "
      ]
     },
     "execution_count": 24,
     "metadata": {},
     "output_type": "execute_result"
    }
   ],
   "source": [
    "# Auxiliar para cálculo de distribución de encuestados por familias de estudios: \n",
    "fms=pd.DataFrame(df['familia_ppal_'].value_counts())\n",
    "fms.reset_index(inplace=True)\n",
    "fms.rename(columns={'index':'familia','familia_ppal_':'Núm. titulados encuestados'},inplace=True)\n",
    "fms"
   ]
  },
  {
   "cell_type": "code",
   "execution_count": 25,
   "metadata": {
    "scrolled": false
   },
   "outputs": [
    {
     "data": {
      "image/png": "[encoded data removed]",
      "text/plain": [
       "<Figure size 1008x288 with 2 Axes>"
      ]
     },
     "metadata": {},
     "output_type": "display_data"
    }
   ],
   "source": [
    "# Distribución de encuestados por familias de estudios: \n",
    "\n",
    "sns.set_style('whitegrid')\n",
    "fig= plt.figure(figsize=(14,4)) \n",
    "gs = gridspec.GridSpec(2,2,height_ratios=[4, 1],width_ratios=[5,1]) \n",
    "\n",
    "ax=plt.subplot(gs[0,0])\n",
    "fig.suptitle('Distribución de encuestados por familias de estudios',fontsize=16)\n",
    "sns.barplot(data=fms,x='familia',y='Núm. titulados encuestados',palette='tab20')\n",
    "ax.set_xlabel('')\n",
    "ax.set_xticklabels(textwrap.fill(tick.get_text(),15) for tick in ax.get_xticklabels())\n",
    "ax.set_ylim(0,11000)\n",
    "ax.set_ylabel('Núm. de titulados encuestados')\n",
    "\n",
    "ax=plt.subplot(gs[0,1])\n",
    "sns.boxplot(data=fms,y='Núm. titulados encuestados',palette='Paired')\n",
    "ax.set_ylim(0,11000)\n",
    "ax.tick_params(right=True,labelright=True,left=False,labelleft=False)\n",
    "ax.set_ylabel('')\n",
    "\n",
    "fig.savefig('img/encuestados_familias_estudios.png',dpi=400)\n",
    "fig.subplots_adjust(wspace=0.02)\n",
    "plt.show()"
   ]
  },
  {
   "cell_type": "markdown",
   "metadata": {},
   "source": [
    "### Función df_histograma"
   ]
  },
  {
   "cell_type": "code",
   "execution_count": 26,
   "metadata": {},
   "outputs": [],
   "source": [
    "def df_histograma(data,ref,criterio,umbral=0):\n",
    "    \"\"\" Devuelve un histograma de frecuencias relativas (dataframe) de los datos de data agrupados de acuerdo con \n",
    "    las columnas en la lista ref según los valores de la columna criterio \n",
    "    Es equivalente a data[ref+[criterio]].groupby(ref, as_index=False).value_counts(normalize=True) si esta \n",
    "    instrucción fuera legítima.\n",
    "    El argumento umbral establece una frecuencia mínima (en porcentaje) por debajo de la cual se omiten los \n",
    "    resultados. \n",
    "    \"\"\"\n",
    "    \n",
    "    if type(ref)!=list: ref=[ref]\n",
    "    \n",
    "    aux_totales=data[ref+[criterio]].groupby(ref).agg(['count'])\n",
    "    aux_totales.columns=aux_totales.columns.to_flat_index()\n",
    "    aux_totales.rename(columns={aux_totales.columns[-1]:'total'},inplace=True)\n",
    "    hist=data[ref+[criterio]].merge(aux_totales,left_on=ref,right_on=ref)\n",
    "\n",
    "    # Frecuencias relativas:\n",
    "    aux_fr=hist[ref+[criterio]].groupby(ref).agg(['value_counts'])\n",
    "    aux_fr.columns=aux_fr.columns.to_flat_index()\n",
    "    aux_fr.rename(columns={aux_fr.columns[-1]:'fr'},inplace=True)\n",
    "    hist=hist.merge(aux_fr,left_on=ref+[criterio],right_on=ref+[criterio])\n",
    "    hist.drop_duplicates(inplace=True)\n",
    "    hist['fr']=(hist['fr'].div(hist['total']))*100\n",
    "    hist=hist[hist['fr']>=umbral]\n",
    "    hist.sort_values(by='fr',ascending=False,inplace=True)\n",
    "    hist.reset_index(drop=True,inplace=True)\n",
    "\n",
    "    return hist"
   ]
  },
  {
   "cell_type": "markdown",
   "metadata": {},
   "source": [
    "## Presencia de hombres y mujeres en cada familia de estudios"
   ]
  },
  {
   "cell_type": "code",
   "execution_count": 27,
   "metadata": {},
   "outputs": [
    {
     "data": {
      "text/html": [
       "<div>\n",
       "<style scoped>\n",
       "    .dataframe tbody tr th:only-of-type {\n",
       "        vertical-align: middle;\n",
       "    }\n",
       "\n",
       "    .dataframe tbody tr th {\n",
       "        vertical-align: top;\n",
       "    }\n",
       "\n",
       "    .dataframe thead th {\n",
       "        text-align: right;\n",
       "    }\n",
       "</style>\n",
       "<table border=\"1\" class=\"dataframe\">\n",
       "  <thead>\n",
       "    <tr style=\"text-align: right;\">\n",
       "      <th></th>\n",
       "      <th>familia_ppal_</th>\n",
       "      <th>sexo_</th>\n",
       "      <th>total</th>\n",
       "      <th>fr</th>\n",
       "    </tr>\n",
       "  </thead>\n",
       "  <tbody>\n",
       "    <tr>\n",
       "      <th>9</th>\n",
       "      <td>Agricultura, ganadería, silvicultura, pesca y veterinaria</td>\n",
       "      <td>Mujer</td>\n",
       "      <td>2822</td>\n",
       "      <td>50.637845</td>\n",
       "    </tr>\n",
       "    <tr>\n",
       "      <th>10</th>\n",
       "      <td>Agricultura, ganadería, silvicultura, pesca y veterinaria</td>\n",
       "      <td>Hombre</td>\n",
       "      <td>2822</td>\n",
       "      <td>49.362155</td>\n",
       "    </tr>\n",
       "    <tr>\n",
       "      <th>14</th>\n",
       "      <td>Artes y humanidades</td>\n",
       "      <td>Hombre</td>\n",
       "      <td>7872</td>\n",
       "      <td>39.430894</td>\n",
       "    </tr>\n",
       "    <tr>\n",
       "      <th>5</th>\n",
       "      <td>Artes y humanidades</td>\n",
       "      <td>Mujer</td>\n",
       "      <td>7872</td>\n",
       "      <td>60.569106</td>\n",
       "    </tr>\n",
       "    <tr>\n",
       "      <th>12</th>\n",
       "      <td>Ciencias</td>\n",
       "      <td>Hombre</td>\n",
       "      <td>6341</td>\n",
       "      <td>43.873206</td>\n",
       "    </tr>\n",
       "    <tr>\n",
       "      <th>7</th>\n",
       "      <td>Ciencias</td>\n",
       "      <td>Mujer</td>\n",
       "      <td>6341</td>\n",
       "      <td>56.126794</td>\n",
       "    </tr>\n",
       "    <tr>\n",
       "      <th>15</th>\n",
       "      <td>Ciencias sociales, periodismo y documentación</td>\n",
       "      <td>Hombre</td>\n",
       "      <td>7251</td>\n",
       "      <td>38.256792</td>\n",
       "    </tr>\n",
       "    <tr>\n",
       "      <th>4</th>\n",
       "      <td>Ciencias sociales, periodismo y documentación</td>\n",
       "      <td>Mujer</td>\n",
       "      <td>7251</td>\n",
       "      <td>61.743208</td>\n",
       "    </tr>\n",
       "    <tr>\n",
       "      <th>1</th>\n",
       "      <td>Educación</td>\n",
       "      <td>Mujer</td>\n",
       "      <td>10704</td>\n",
       "      <td>75.355007</td>\n",
       "    </tr>\n",
       "    <tr>\n",
       "      <th>18</th>\n",
       "      <td>Educación</td>\n",
       "      <td>Hombre</td>\n",
       "      <td>10704</td>\n",
       "      <td>24.644993</td>\n",
       "    </tr>\n",
       "    <tr>\n",
       "      <th>0</th>\n",
       "      <td>Informática</td>\n",
       "      <td>Hombre</td>\n",
       "      <td>2824</td>\n",
       "      <td>80.559490</td>\n",
       "    </tr>\n",
       "    <tr>\n",
       "      <th>19</th>\n",
       "      <td>Informática</td>\n",
       "      <td>Mujer</td>\n",
       "      <td>2824</td>\n",
       "      <td>19.440510</td>\n",
       "    </tr>\n",
       "    <tr>\n",
       "      <th>3</th>\n",
       "      <td>Ingeniería, industria y construcción</td>\n",
       "      <td>Hombre</td>\n",
       "      <td>10596</td>\n",
       "      <td>65.015100</td>\n",
       "    </tr>\n",
       "    <tr>\n",
       "      <th>16</th>\n",
       "      <td>Ingeniería, industria y construcción</td>\n",
       "      <td>Mujer</td>\n",
       "      <td>10596</td>\n",
       "      <td>34.984900</td>\n",
       "    </tr>\n",
       "    <tr>\n",
       "      <th>6</th>\n",
       "      <td>Negocios, administración y derecho</td>\n",
       "      <td>Mujer</td>\n",
       "      <td>10851</td>\n",
       "      <td>56.566215</td>\n",
       "    </tr>\n",
       "    <tr>\n",
       "      <th>13</th>\n",
       "      <td>Negocios, administración y derecho</td>\n",
       "      <td>Hombre</td>\n",
       "      <td>10851</td>\n",
       "      <td>43.433785</td>\n",
       "    </tr>\n",
       "    <tr>\n",
       "      <th>2</th>\n",
       "      <td>Salud y servicios sociales</td>\n",
       "      <td>Mujer</td>\n",
       "      <td>10092</td>\n",
       "      <td>75.049544</td>\n",
       "    </tr>\n",
       "    <tr>\n",
       "      <th>17</th>\n",
       "      <td>Salud y servicios sociales</td>\n",
       "      <td>Hombre</td>\n",
       "      <td>10092</td>\n",
       "      <td>24.950456</td>\n",
       "    </tr>\n",
       "    <tr>\n",
       "      <th>11</th>\n",
       "      <td>Servicios</td>\n",
       "      <td>Mujer</td>\n",
       "      <td>4160</td>\n",
       "      <td>47.115385</td>\n",
       "    </tr>\n",
       "    <tr>\n",
       "      <th>8</th>\n",
       "      <td>Servicios</td>\n",
       "      <td>Hombre</td>\n",
       "      <td>4160</td>\n",
       "      <td>52.884615</td>\n",
       "    </tr>\n",
       "  </tbody>\n",
       "</table>\n",
       "</div>"
      ],
      "text/plain": [
       "                                                familia_ppal_   sexo_  total  \\\n",
       "9   Agricultura, ganadería, silvicultura, pesca y veterinaria   Mujer   2822   \n",
       "10  Agricultura, ganadería, silvicultura, pesca y veterinaria  Hombre   2822   \n",
       "14                                        Artes y humanidades  Hombre   7872   \n",
       "5                                         Artes y humanidades   Mujer   7872   \n",
       "12                                                   Ciencias  Hombre   6341   \n",
       "7                                                    Ciencias   Mujer   6341   \n",
       "15              Ciencias sociales, periodismo y documentación  Hombre   7251   \n",
       "4               Ciencias sociales, periodismo y documentación   Mujer   7251   \n",
       "1                                                   Educación   Mujer  10704   \n",
       "18                                                  Educación  Hombre  10704   \n",
       "0                                                 Informática  Hombre   2824   \n",
       "19                                                Informática   Mujer   2824   \n",
       "3                        Ingeniería, industria y construcción  Hombre  10596   \n",
       "16                       Ingeniería, industria y construcción   Mujer  10596   \n",
       "6                          Negocios, administración y derecho   Mujer  10851   \n",
       "13                         Negocios, administración y derecho  Hombre  10851   \n",
       "2                                  Salud y servicios sociales   Mujer  10092   \n",
       "17                                 Salud y servicios sociales  Hombre  10092   \n",
       "11                                                  Servicios   Mujer   4160   \n",
       "8                                                   Servicios  Hombre   4160   \n",
       "\n",
       "           fr  \n",
       "9   50.637845  \n",
       "10  49.362155  \n",
       "14  39.430894  \n",
       "5   60.569106  \n",
       "12  43.873206  \n",
       "7   56.126794  \n",
       "15  38.256792  \n",
       "4   61.743208  \n",
       "1   75.355007  \n",
       "18  24.644993  \n",
       "0   80.559490  \n",
       "19  19.440510  \n",
       "3   65.015100  \n",
       "16  34.984900  \n",
       "6   56.566215  \n",
       "13  43.433785  \n",
       "2   75.049544  \n",
       "17  24.950456  \n",
       "11  47.115385  \n",
       "8   52.884615  "
      ]
     },
     "execution_count": 27,
     "metadata": {},
     "output_type": "execute_result"
    }
   ],
   "source": [
    "familias_por_sexos=df_histograma(df,ref='familia_ppal_',criterio='sexo_').sort_values(by='familia_ppal_')\n",
    "familias_por_sexos"
   ]
  },
  {
   "cell_type": "code",
   "execution_count": 28,
   "metadata": {
    "scrolled": true
   },
   "outputs": [
    {
     "data": {
      "image/png": "[encoded data removed]",
      "text/plain": [
       "<Figure size 1008x288 with 1 Axes>"
      ]
     },
     "metadata": {},
     "output_type": "display_data"
    }
   ],
   "source": [
    "# Presencia de hombres y mujeres en cada familia de estudios: \n",
    "\n",
    "sns.set_style('whitegrid')\n",
    "fig, ax = plt.subplots(1,figsize=(14,4))\n",
    "gs = gridspec.GridSpec(2,1, height_ratios=[4, 1]) \n",
    "\n",
    "paleta=sns.color_palette('tab10').as_hex()\n",
    "paleta=[paleta[1],paleta[0]]\n",
    "\n",
    "ax=plt.subplot(gs[0])\n",
    "sns.barplot(data=familias_por_sexos,x='familia_ppal_',y='fr',hue='sexo_',palette=paleta)\n",
    "ax.set_xlabel('')\n",
    "ax.set_xticklabels(textwrap.fill(tick.get_text(),15) for tick in ax.get_xticklabels())\n",
    "ax.set_ylim(0,99)\n",
    "ax.set_ylabel('Frecuencia relativa')\n",
    "ax.set_title('Presencia de mujeres y hombres en cada familia de estudios',fontsize=16)\n",
    "ax.legend()\n",
    "\n",
    "sns.despine(right=True,left=True,top=True)\n",
    "\n",
    "fig.savefig('img/familias_estudios_sexos.png',dpi=400)\n",
    "plt.show()"
   ]
  },
  {
   "cell_type": "markdown",
   "metadata": {},
   "source": [
    "# Distribución de encuestados por situación laboral"
   ]
  },
  {
   "cell_type": "code",
   "execution_count": 29,
   "metadata": {},
   "outputs": [],
   "source": [
    "# Diccionario de códigos de sit_lab\n",
    "D_dicc['sit_lab']=dict(zip(df['sit_lab'].unique(),df['sit_lab_'].unique()))"
   ]
  },
  {
   "cell_type": "code",
   "execution_count": 30,
   "metadata": {},
   "outputs": [
    {
     "data": {
      "text/html": [
       "<div>\n",
       "<style scoped>\n",
       "    .dataframe tbody tr th:only-of-type {\n",
       "        vertical-align: middle;\n",
       "    }\n",
       "\n",
       "    .dataframe tbody tr th {\n",
       "        vertical-align: top;\n",
       "    }\n",
       "\n",
       "    .dataframe thead th {\n",
       "        text-align: right;\n",
       "    }\n",
       "</style>\n",
       "<table border=\"1\" class=\"dataframe\">\n",
       "  <thead>\n",
       "    <tr style=\"text-align: right;\">\n",
       "      <th></th>\n",
       "      <th>sit_lab</th>\n",
       "    </tr>\n",
       "  </thead>\n",
       "  <tbody>\n",
       "    <tr>\n",
       "      <th>1.0</th>\n",
       "      <td>81.46</td>\n",
       "    </tr>\n",
       "    <tr>\n",
       "      <th>2.0</th>\n",
       "      <td>12.07</td>\n",
       "    </tr>\n",
       "    <tr>\n",
       "      <th>3.0</th>\n",
       "      <td>6.47</td>\n",
       "    </tr>\n",
       "  </tbody>\n",
       "</table>\n",
       "</div>"
      ],
      "text/plain": [
       "     sit_lab\n",
       "1.0    81.46\n",
       "2.0    12.07\n",
       "3.0     6.47"
      ]
     },
     "execution_count": 30,
     "metadata": {},
     "output_type": "execute_result"
    }
   ],
   "source": [
    "sit_lab=pd.DataFrame(df['sit_lab'].value_counts(normalize=True))\n",
    "sit_lab['sit_lab']=(sit_lab['sit_lab']*100).round(2)\n",
    "sit_lab"
   ]
  },
  {
   "cell_type": "code",
   "execution_count": 31,
   "metadata": {},
   "outputs": [
    {
     "data": {
      "image/png": "[encoded data removed]",
      "text/plain": [
       "<Figure size 432x288 with 1 Axes>"
      ]
     },
     "metadata": {},
     "output_type": "display_data"
    }
   ],
   "source": [
    "# Distribución de encuestados por situación laboral: \n",
    "\n",
    "sns.set_style('whitegrid')\n",
    "fig, ax = plt.subplots(1,figsize=(6,4))\n",
    "\n",
    "sns.barplot(data=sit_lab,x=sit_lab.index,y='sit_lab',palette='Paired')\n",
    "ax.set_xticklabels([D_dicc['sit_lab'][float(tick.get_text())] for tick in ax.get_xticklabels()])\n",
    "ax.set_xlabel('')\n",
    "ax.set_ylabel('Frecuencia relativa')\n",
    "ax.set_title('Situación laboral de los encuestados', fontsize=16)\n",
    "\n",
    "fig.savefig('img/situacion_laboral.png',dpi=400)\n",
    "plt.show()"
   ]
  },
  {
   "cell_type": "markdown",
   "metadata": {},
   "source": [
    "## Situación laboral por sexos"
   ]
  },
  {
   "cell_type": "code",
   "execution_count": 32,
   "metadata": {},
   "outputs": [
    {
     "data": {
      "text/html": [
       "<div>\n",
       "<style scoped>\n",
       "    .dataframe tbody tr th:only-of-type {\n",
       "        vertical-align: middle;\n",
       "    }\n",
       "\n",
       "    .dataframe tbody tr th {\n",
       "        vertical-align: top;\n",
       "    }\n",
       "\n",
       "    .dataframe thead th {\n",
       "        text-align: right;\n",
       "    }\n",
       "</style>\n",
       "<table border=\"1\" class=\"dataframe\">\n",
       "  <thead>\n",
       "    <tr style=\"text-align: right;\">\n",
       "      <th></th>\n",
       "      <th>sexo_</th>\n",
       "      <th>sit_lab</th>\n",
       "      <th>total</th>\n",
       "      <th>fr</th>\n",
       "    </tr>\n",
       "  </thead>\n",
       "  <tbody>\n",
       "    <tr>\n",
       "      <th>0</th>\n",
       "      <td>Hombre</td>\n",
       "      <td>1.0</td>\n",
       "      <td>31286</td>\n",
       "      <td>83.302436</td>\n",
       "    </tr>\n",
       "    <tr>\n",
       "      <th>1</th>\n",
       "      <td>Mujer</td>\n",
       "      <td>1.0</td>\n",
       "      <td>42227</td>\n",
       "      <td>80.102778</td>\n",
       "    </tr>\n",
       "    <tr>\n",
       "      <th>2</th>\n",
       "      <td>Mujer</td>\n",
       "      <td>2.0</td>\n",
       "      <td>42227</td>\n",
       "      <td>13.031946</td>\n",
       "    </tr>\n",
       "    <tr>\n",
       "      <th>3</th>\n",
       "      <td>Hombre</td>\n",
       "      <td>2.0</td>\n",
       "      <td>31286</td>\n",
       "      <td>10.771591</td>\n",
       "    </tr>\n",
       "    <tr>\n",
       "      <th>4</th>\n",
       "      <td>Mujer</td>\n",
       "      <td>3.0</td>\n",
       "      <td>42227</td>\n",
       "      <td>6.865276</td>\n",
       "    </tr>\n",
       "    <tr>\n",
       "      <th>5</th>\n",
       "      <td>Hombre</td>\n",
       "      <td>3.0</td>\n",
       "      <td>31286</td>\n",
       "      <td>5.925973</td>\n",
       "    </tr>\n",
       "  </tbody>\n",
       "</table>\n",
       "</div>"
      ],
      "text/plain": [
       "    sexo_  sit_lab  total         fr\n",
       "0  Hombre      1.0  31286  83.302436\n",
       "1   Mujer      1.0  42227  80.102778\n",
       "2   Mujer      2.0  42227  13.031946\n",
       "3  Hombre      2.0  31286  10.771591\n",
       "4   Mujer      3.0  42227   6.865276\n",
       "5  Hombre      3.0  31286   5.925973"
      ]
     },
     "execution_count": 32,
     "metadata": {},
     "output_type": "execute_result"
    }
   ],
   "source": [
    "lab_por_sexos=df_histograma(df,ref='sexo_',criterio='sit_lab').sort_values(by='sit_lab')\n",
    "lab_por_sexos"
   ]
  },
  {
   "cell_type": "code",
   "execution_count": 33,
   "metadata": {},
   "outputs": [
    {
     "data": {
      "image/png": "[encoded data removed]",
      "text/plain": [
       "<Figure size 648x288 with 1 Axes>"
      ]
     },
     "metadata": {},
     "output_type": "display_data"
    }
   ],
   "source": [
    "# Situación laboral por sexos: \n",
    "\n",
    "sns.set_style('whitegrid')\n",
    "fig, ax = plt.subplots(1,figsize=(9,4))\n",
    "\n",
    "\n",
    "sns.barplot(data=lab_por_sexos,x='sexo_',y='fr',hue='sit_lab',palette='Paired')\n",
    "ax.set_xlabel('')\n",
    "ax.set_ylim(0,99)\n",
    "ax.set_ylabel('Frecuencia relativa')\n",
    "ax.set_title('Situación laboral según sexos',fontsize=16)\n",
    "handles,labels=ax.get_legend_handles_labels()\n",
    "labels=[D_dicc['sit_lab'][float(label)] for label in labels]\n",
    "ax.legend(handles=handles,labels=labels)\n",
    "\n",
    "fig.savefig('img/situacion_laboral_sexos.png',dpi=400)\n",
    "sns.despine(right=True,left=True,top=True)\n",
    "plt.show()"
   ]
  },
  {
   "cell_type": "markdown",
   "metadata": {},
   "source": [
    "## Situación laboral según discapacidad"
   ]
  },
  {
   "cell_type": "code",
   "execution_count": 34,
   "metadata": {},
   "outputs": [
    {
     "data": {
      "text/html": [
       "<div>\n",
       "<style scoped>\n",
       "    .dataframe tbody tr th:only-of-type {\n",
       "        vertical-align: middle;\n",
       "    }\n",
       "\n",
       "    .dataframe tbody tr th {\n",
       "        vertical-align: top;\n",
       "    }\n",
       "\n",
       "    .dataframe thead th {\n",
       "        text-align: right;\n",
       "    }\n",
       "</style>\n",
       "<table border=\"1\" class=\"dataframe\">\n",
       "  <thead>\n",
       "    <tr style=\"text-align: right;\">\n",
       "      <th></th>\n",
       "      <th>discapacidad</th>\n",
       "      <th>sit_lab</th>\n",
       "      <th>total</th>\n",
       "      <th>fr</th>\n",
       "    </tr>\n",
       "  </thead>\n",
       "  <tbody>\n",
       "    <tr>\n",
       "      <th>0</th>\n",
       "      <td>0</td>\n",
       "      <td>1.0</td>\n",
       "      <td>72723</td>\n",
       "      <td>81.590418</td>\n",
       "    </tr>\n",
       "    <tr>\n",
       "      <th>1</th>\n",
       "      <td>1</td>\n",
       "      <td>1.0</td>\n",
       "      <td>790</td>\n",
       "      <td>69.873418</td>\n",
       "    </tr>\n",
       "    <tr>\n",
       "      <th>3</th>\n",
       "      <td>1</td>\n",
       "      <td>2.0</td>\n",
       "      <td>790</td>\n",
       "      <td>14.556962</td>\n",
       "    </tr>\n",
       "    <tr>\n",
       "      <th>4</th>\n",
       "      <td>0</td>\n",
       "      <td>2.0</td>\n",
       "      <td>72723</td>\n",
       "      <td>12.042958</td>\n",
       "    </tr>\n",
       "    <tr>\n",
       "      <th>2</th>\n",
       "      <td>1</td>\n",
       "      <td>3.0</td>\n",
       "      <td>790</td>\n",
       "      <td>15.569620</td>\n",
       "    </tr>\n",
       "    <tr>\n",
       "      <th>5</th>\n",
       "      <td>0</td>\n",
       "      <td>3.0</td>\n",
       "      <td>72723</td>\n",
       "      <td>6.366624</td>\n",
       "    </tr>\n",
       "  </tbody>\n",
       "</table>\n",
       "</div>"
      ],
      "text/plain": [
       "   discapacidad  sit_lab  total         fr\n",
       "0             0      1.0  72723  81.590418\n",
       "1             1      1.0    790  69.873418\n",
       "3             1      2.0    790  14.556962\n",
       "4             0      2.0  72723  12.042958\n",
       "2             1      3.0    790  15.569620\n",
       "5             0      3.0  72723   6.366624"
      ]
     },
     "execution_count": 34,
     "metadata": {},
     "output_type": "execute_result"
    }
   ],
   "source": [
    "lab_por_discapacidad=df_histograma(df,ref='discapacidad',criterio='sit_lab').sort_values(by='sit_lab')\n",
    "lab_por_discapacidad"
   ]
  },
  {
   "cell_type": "code",
   "execution_count": 35,
   "metadata": {},
   "outputs": [
    {
     "data": {
      "image/png": "[encoded data removed]",
      "text/plain": [
       "<Figure size 648x288 with 1 Axes>"
      ]
     },
     "metadata": {},
     "output_type": "display_data"
    }
   ],
   "source": [
    "# Situación laboral por sexos: \n",
    "\n",
    "sns.set_style('whitegrid')\n",
    "fig, ax = plt.subplots(1,figsize=(9,4))\n",
    "\n",
    "sns.barplot(data=lab_por_discapacidad,x='discapacidad',y='fr',hue='sit_lab',palette='Paired')\n",
    "ax.set_xlabel('')\n",
    "ax.set_ylim(0,99)\n",
    "ax.set_ylabel('Frecuencia relativa')\n",
    "ax.set_title('Situación laboral según discapacidad',fontsize=16)\n",
    "D_aux={'0':'Sin discapacidad','1':'Discapacidad superior a 33 %'}\n",
    "ax.set_xticklabels(D_aux[tick.get_text()] for tick in ax.get_xticklabels())\n",
    "\n",
    "handles,labels=ax.get_legend_handles_labels()\n",
    "labels=[D_dicc['sit_lab'][float(label)] for label in labels]\n",
    "ax.legend(handles=handles,labels=labels)\n",
    "\n",
    "fig.savefig('img/situacion_laboral_discapacidad.png',dpi=400)\n",
    "sns.despine(right=True,left=True,top=True)\n",
    "plt.show()"
   ]
  },
  {
   "cell_type": "markdown",
   "metadata": {},
   "source": [
    "# Distribución de encuestados ocupados por profesiones"
   ]
  },
  {
   "cell_type": "code",
   "execution_count": 36,
   "metadata": {},
   "outputs": [
    {
     "data": {
      "text/html": [
       "<div>\n",
       "<style scoped>\n",
       "    .dataframe tbody tr th:only-of-type {\n",
       "        vertical-align: middle;\n",
       "    }\n",
       "\n",
       "    .dataframe tbody tr th {\n",
       "        vertical-align: top;\n",
       "    }\n",
       "\n",
       "    .dataframe thead th {\n",
       "        text-align: right;\n",
       "    }\n",
       "</style>\n",
       "<table border=\"1\" class=\"dataframe\">\n",
       "  <thead>\n",
       "    <tr style=\"text-align: right;\">\n",
       "      <th></th>\n",
       "      <th>ocupación</th>\n",
       "      <th>Núm. profesionales</th>\n",
       "    </tr>\n",
       "  </thead>\n",
       "  <tbody>\n",
       "    <tr>\n",
       "      <th>0</th>\n",
       "      <td>Profesionales de la enseñanza</td>\n",
       "      <td>9809</td>\n",
       "    </tr>\n",
       "    <tr>\n",
       "      <th>1</th>\n",
       "      <td>Profesionales de las ciencias, matemáticas e ingeniería</td>\n",
       "      <td>7794</td>\n",
       "    </tr>\n",
       "    <tr>\n",
       "      <th>2</th>\n",
       "      <td>Profesionales sanitarios</td>\n",
       "      <td>7568</td>\n",
       "    </tr>\n",
       "    <tr>\n",
       "      <th>3</th>\n",
       "      <td>Expertos en gestión, finanzas, comercio, etc</td>\n",
       "      <td>2931</td>\n",
       "    </tr>\n",
       "    <tr>\n",
       "      <th>4</th>\n",
       "      <td>Empleados servicios financieros, contables y de apoyo</td>\n",
       "      <td>2531</td>\n",
       "    </tr>\n",
       "    <tr>\n",
       "      <th>...</th>\n",
       "      <td>...</td>\n",
       "      <td>...</td>\n",
       "    </tr>\n",
       "    <tr>\n",
       "      <th>57</th>\n",
       "      <td>Montadores y ensambladores en fábricas</td>\n",
       "      <td>23</td>\n",
       "    </tr>\n",
       "    <tr>\n",
       "      <th>58</th>\n",
       "      <td>Ayudantes de preparación de alimentos</td>\n",
       "      <td>23</td>\n",
       "    </tr>\n",
       "    <tr>\n",
       "      <th>59</th>\n",
       "      <td>Empleados domésticos</td>\n",
       "      <td>20</td>\n",
       "    </tr>\n",
       "    <tr>\n",
       "      <th>60</th>\n",
       "      <td>Trabajadores cualificados act. agropecuaria</td>\n",
       "      <td>16</td>\n",
       "    </tr>\n",
       "    <tr>\n",
       "      <th>61</th>\n",
       "      <td>Trabajadores cualif act forestales, pesqueras, cinegéticas</td>\n",
       "      <td>15</td>\n",
       "    </tr>\n",
       "  </tbody>\n",
       "</table>\n",
       "<p>62 rows × 2 columns</p>\n",
       "</div>"
      ],
      "text/plain": [
       "                                                     ocupación  \\\n",
       "0                                Profesionales de la enseñanza   \n",
       "1      Profesionales de las ciencias, matemáticas e ingeniería   \n",
       "2                                     Profesionales sanitarios   \n",
       "3                 Expertos en gestión, finanzas, comercio, etc   \n",
       "4        Empleados servicios financieros, contables y de apoyo   \n",
       "..                                                         ...   \n",
       "57                      Montadores y ensambladores en fábricas   \n",
       "58                       Ayudantes de preparación de alimentos   \n",
       "59                                        Empleados domésticos   \n",
       "60                 Trabajadores cualificados act. agropecuaria   \n",
       "61  Trabajadores cualif act forestales, pesqueras, cinegéticas   \n",
       "\n",
       "    Núm. profesionales  \n",
       "0                 9809  \n",
       "1                 7794  \n",
       "2                 7568  \n",
       "3                 2931  \n",
       "4                 2531  \n",
       "..                 ...  \n",
       "57                  23  \n",
       "58                  23  \n",
       "59                  20  \n",
       "60                  16  \n",
       "61                  15  \n",
       "\n",
       "[62 rows x 2 columns]"
      ]
     },
     "execution_count": 36,
     "metadata": {},
     "output_type": "execute_result"
    }
   ],
   "source": [
    "# Auxiliar para cálculo de distribución de encuestados por ocupaciones: \n",
    "ocs=pd.DataFrame(df['ocupacion_'].value_counts())\n",
    "ocs.reset_index(inplace=True)\n",
    "ocs.rename(columns={'index':'ocupación','ocupacion_':'Núm. profesionales'},inplace=True)\n",
    "ocs"
   ]
  },
  {
   "cell_type": "code",
   "execution_count": 37,
   "metadata": {},
   "outputs": [
    {
     "data": {
      "image/png": "[encoded data removed]",
      "text/plain": [
       "<Figure size 1008x288 with 2 Axes>"
      ]
     },
     "metadata": {},
     "output_type": "display_data"
    }
   ],
   "source": [
    "# Distribución de ocupaciones: \n",
    "\n",
    "sns.set_style('whitegrid')\n",
    "fig= plt.figure(figsize=(14,4)) \n",
    "gs = gridspec.GridSpec(1,2, width_ratios=[3, 1]) \n",
    "fig.suptitle('Distribución de encuestados por ocupaciones',fontsize=16)\n",
    "\n",
    "ax=plt.subplot(gs[0])\n",
    "sns.barplot(data=ocs,x=ocs.index,y='Núm. profesionales',palette='tab20')\n",
    "ax.set_xlabel('Ocupaciones profesionales (62 profesiones)')\n",
    "ax.set_xticklabels(['']*len(ocs['Núm. profesionales']))\n",
    "ax.set_ylim(0,10000)\n",
    "ax.set_ylabel('Núm. de profesionales')\n",
    "\n",
    "ax=plt.subplot(gs[1])\n",
    "sns.boxplot(data=ocs,y='Núm. profesionales',palette='Paired')\n",
    "ax.set_ylim(0,10000)\n",
    "ax.tick_params(right=True,labelright=True,left=False,labelleft=False)\n",
    "ax.set_ylabel('')\n",
    "\n",
    "fig.savefig('img/distribucion_encuestados_ocupaciones.png',dpi=400)\n",
    "fig.subplots_adjust(wspace=0.05)\n",
    "plt.show()"
   ]
  },
  {
   "cell_type": "markdown",
   "metadata": {},
   "source": [
    "## Clasificación reducida de ocupaciones\n",
    "\n",
    "Clasificación de ocupaciones con epígrafe 'otras' para profesiones no predecibles por el modelo de clasificación (regresión logística) propuesto"
   ]
  },
  {
   "cell_type": "code",
   "execution_count": 38,
   "metadata": {},
   "outputs": [],
   "source": [
    "# Diccionario de ocupaciones reducido: \n",
    "\n",
    "df_ocupaciones_reducido=pd.read_csv('data/D_ocupaciones_reducido.csv',index_col=0)\n",
    "D_ocupaciones_reducido=dict(zip(df_ocupaciones_reducido.index,\\\n",
    "                                df_ocupaciones_reducido[df_ocupaciones_reducido.columns[0]]))"
   ]
  },
  {
   "cell_type": "code",
   "execution_count": 39,
   "metadata": {},
   "outputs": [
    {
     "data": {
      "text/plain": [
       "{22.0: 'Profesionales de la enseñanza',\n",
       " 23.0: 'Profesionales de la eduación especial y no reglada',\n",
       " 999.0: 'Otras',\n",
       " 44.0: 'Telefonista, recepcionista, telefonista, agencias de viaje, etc',\n",
       " 26.0: 'Expertos en gestión, finanzas, comercio, etc',\n",
       " 28.0: 'Profesionales de las ciencias sociales',\n",
       " 33.0: 'Técnicos sanitarios y laboratorio',\n",
       " 38.0: 'Técnicos TI',\n",
       " 37.0: 'Profesionales de apoyo servicios jurídicos, socio-culturales, deportivos',\n",
       " 21.0: 'Profesionales sanitarios',\n",
       " 59.0: 'Trabajadores protección y seguridad',\n",
       " 41.0: 'Empleados servicios financieros, contables y de apoyo',\n",
       " 24.0: 'Profesionales de las ciencias, matemáticas e ingeniería',\n",
       " 25.0: 'Profesionales del derecho',\n",
       " 29.0: 'Profesionales de la cultura y el espectáculo',\n",
       " 27.0: 'Profesionales TI',\n",
       " 31.0: 'Técnicos ciencias e ingenierías'}"
      ]
     },
     "execution_count": 39,
     "metadata": {},
     "output_type": "execute_result"
    }
   ],
   "source": [
    "D_ocupaciones_reducido"
   ]
  },
  {
   "cell_type": "code",
   "execution_count": 40,
   "metadata": {},
   "outputs": [],
   "source": [
    "# Columna de ocupaciones según clasificación reducida: \n",
    "# Códigos numéricos: \n",
    "df['ocupacionR']=df['ocupacion'][df['ocupacion'].notna()]\\\n",
    "                .mask(~df['ocupacion'].isin(D_ocupaciones_reducido.keys()),999)\n",
    "# Valores literales: \n",
    "df['ocupacionR_']=df['ocupacionR'].replace(D_ocupaciones_reducido)"
   ]
  },
  {
   "cell_type": "code",
   "execution_count": 41,
   "metadata": {},
   "outputs": [],
   "source": [
    "# Actualización dataframe de ocupados \n",
    "df_oc=df[df['ocupacion'].notna()]"
   ]
  },
  {
   "cell_type": "code",
   "execution_count": 42,
   "metadata": {
    "scrolled": false
   },
   "outputs": [
    {
     "data": {
      "text/plain": [
       "['Otros empleados administrativos con atención al público',\n",
       " 'Trabajadores servicios personales',\n",
       " 'Peones de transporte, descargadores y reponedores',\n",
       " 'Empleados bibliotecas, correos, etc',\n",
       " 'Asalariados servicios de restauración',\n",
       " 'Trabajadores servicios de cuidados de salud',\n",
       " 'Gerentes hostelería y comercio',\n",
       " 'Dependientes de comercio',\n",
       " 'Representantes e intermediarios',\n",
       " 'Directores producción y operaciones',\n",
       " 'Trabajadores servicios de cuidados no de salud',\n",
       " 'Profesionales de apoyo a la gestión administrativa',\n",
       " 'Empleados administrativos sin atención al público',\n",
       " 'Personal de limpieza de establecimientos y vehículos',\n",
       " 'Directores Admón y comerciales',\n",
       " 'Peones de industrias manufactureras',\n",
       " 'Política y dirección Admón Pública',\n",
       " 'Trabajadores especializados electricidad y electrotecnología',\n",
       " 'Recogedores residuos urbanos y ocupaciones elementales servicios',\n",
       " 'Conductores vehículos transporte urbano o carretera',\n",
       " 'Gerentes en servicios excepto hostelería y comercio',\n",
       " 'Ayudantes de preparación de alimentos',\n",
       " 'Comerciantes propietarios de tiendas ',\n",
       " 'Profesionales de apoyo finanzas y matemáticas',\n",
       " 'Soldadores, chapistas, montadores de estructuras',\n",
       " 'Cajeros y taquilleros excepto bancos',\n",
       " 'Vendedores excepto comercio',\n",
       " 'Mecánicos y ajustadores de maquinaria',\n",
       " 'Trabajadores ind alimentación, bebidas y tabaco',\n",
       " 'Ocupaciones militares',\n",
       " 'Trabajadores cualificados agricultura',\n",
       " 'Maquinistas de equipos pesados móviles',\n",
       " 'Trabajadores cualificados ganadería',\n",
       " 'Empleados domésticos',\n",
       " 'Trabajadores madera, textil, confección, piel y cuero',\n",
       " 'Peones agrarios, forestales y pesca',\n",
       " 'Operadores de instalaciones y maquinaria fija',\n",
       " 'Peones de construcción y minería',\n",
       " 'Camareros y cocineros propietarios',\n",
       " 'Montadores y ensambladores en fábricas',\n",
       " 'Trabajadores construcción y afines: estructura',\n",
       " 'Mecánicos de precisión, artesanos y artes gráficas',\n",
       " 'Supervisores ingeniería, industria y construcción',\n",
       " 'Trabajadores construcción e instalaciones: acabado',\n",
       " 'Trabajadores cualificados act. agropecuaria',\n",
       " 'Trabajadores cualif act forestales, pesqueras, cinegéticas']"
      ]
     },
     "execution_count": 42,
     "metadata": {},
     "output_type": "execute_result"
    }
   ],
   "source": [
    "# Ocupaciones en epígrafe 'Otras':\n",
    "df_oc['ocupacion_'][~df_oc['ocupacion_'].isin(D_ocupaciones_reducido.values())].unique().tolist()"
   ]
  },
  {
   "cell_type": "markdown",
   "metadata": {},
   "source": [
    "## Distribución de encuestados ocupados por profesiones (clasificación reducida)"
   ]
  },
  {
   "cell_type": "code",
   "execution_count": 43,
   "metadata": {},
   "outputs": [
    {
     "data": {
      "text/html": [
       "<div>\n",
       "<style scoped>\n",
       "    .dataframe tbody tr th:only-of-type {\n",
       "        vertical-align: middle;\n",
       "    }\n",
       "\n",
       "    .dataframe tbody tr th {\n",
       "        vertical-align: top;\n",
       "    }\n",
       "\n",
       "    .dataframe thead th {\n",
       "        text-align: right;\n",
       "    }\n",
       "</style>\n",
       "<table border=\"1\" class=\"dataframe\">\n",
       "  <thead>\n",
       "    <tr style=\"text-align: right;\">\n",
       "      <th></th>\n",
       "      <th>level_0</th>\n",
       "      <th>ocupaciónR_</th>\n",
       "      <th>Núm. profesionales</th>\n",
       "    </tr>\n",
       "  </thead>\n",
       "  <tbody>\n",
       "    <tr>\n",
       "      <th>0</th>\n",
       "      <td>0</td>\n",
       "      <td>Otras</td>\n",
       "      <td>13211</td>\n",
       "    </tr>\n",
       "    <tr>\n",
       "      <th>1</th>\n",
       "      <td>1</td>\n",
       "      <td>Profesionales de la enseñanza</td>\n",
       "      <td>9809</td>\n",
       "    </tr>\n",
       "    <tr>\n",
       "      <th>2</th>\n",
       "      <td>2</td>\n",
       "      <td>Profesionales de las ciencias, matemáticas e ingeniería</td>\n",
       "      <td>7794</td>\n",
       "    </tr>\n",
       "    <tr>\n",
       "      <th>3</th>\n",
       "      <td>3</td>\n",
       "      <td>Profesionales sanitarios</td>\n",
       "      <td>7568</td>\n",
       "    </tr>\n",
       "    <tr>\n",
       "      <th>4</th>\n",
       "      <td>4</td>\n",
       "      <td>Expertos en gestión, finanzas, comercio, etc</td>\n",
       "      <td>2931</td>\n",
       "    </tr>\n",
       "    <tr>\n",
       "      <th>5</th>\n",
       "      <td>5</td>\n",
       "      <td>Empleados servicios financieros, contables y de apoyo</td>\n",
       "      <td>2531</td>\n",
       "    </tr>\n",
       "    <tr>\n",
       "      <th>6</th>\n",
       "      <td>6</td>\n",
       "      <td>Profesionales de las ciencias sociales</td>\n",
       "      <td>2200</td>\n",
       "    </tr>\n",
       "    <tr>\n",
       "      <th>7</th>\n",
       "      <td>7</td>\n",
       "      <td>Técnicos ciencias e ingenierías</td>\n",
       "      <td>2105</td>\n",
       "    </tr>\n",
       "    <tr>\n",
       "      <th>8</th>\n",
       "      <td>8</td>\n",
       "      <td>Profesionales TI</td>\n",
       "      <td>1866</td>\n",
       "    </tr>\n",
       "    <tr>\n",
       "      <th>9</th>\n",
       "      <td>9</td>\n",
       "      <td>Profesionales de la eduación especial y no reglada</td>\n",
       "      <td>1768</td>\n",
       "    </tr>\n",
       "    <tr>\n",
       "      <th>10</th>\n",
       "      <td>10</td>\n",
       "      <td>Técnicos TI</td>\n",
       "      <td>1662</td>\n",
       "    </tr>\n",
       "    <tr>\n",
       "      <th>11</th>\n",
       "      <td>11</td>\n",
       "      <td>Profesionales del derecho</td>\n",
       "      <td>1565</td>\n",
       "    </tr>\n",
       "    <tr>\n",
       "      <th>12</th>\n",
       "      <td>12</td>\n",
       "      <td>Profesionales de apoyo servicios jurídicos, socio-culturales, deportivos</td>\n",
       "      <td>1479</td>\n",
       "    </tr>\n",
       "    <tr>\n",
       "      <th>13</th>\n",
       "      <td>13</td>\n",
       "      <td>Profesionales de la cultura y el espectáculo</td>\n",
       "      <td>1142</td>\n",
       "    </tr>\n",
       "    <tr>\n",
       "      <th>14</th>\n",
       "      <td>14</td>\n",
       "      <td>Telefonista, recepcionista, telefonista, agencias de viaje, etc</td>\n",
       "      <td>1078</td>\n",
       "    </tr>\n",
       "    <tr>\n",
       "      <th>15</th>\n",
       "      <td>15</td>\n",
       "      <td>Trabajadores protección y seguridad</td>\n",
       "      <td>669</td>\n",
       "    </tr>\n",
       "    <tr>\n",
       "      <th>16</th>\n",
       "      <td>16</td>\n",
       "      <td>Técnicos sanitarios y laboratorio</td>\n",
       "      <td>466</td>\n",
       "    </tr>\n",
       "  </tbody>\n",
       "</table>\n",
       "</div>"
      ],
      "text/plain": [
       "    level_0  \\\n",
       "0         0   \n",
       "1         1   \n",
       "2         2   \n",
       "3         3   \n",
       "4         4   \n",
       "5         5   \n",
       "6         6   \n",
       "7         7   \n",
       "8         8   \n",
       "9         9   \n",
       "10       10   \n",
       "11       11   \n",
       "12       12   \n",
       "13       13   \n",
       "14       14   \n",
       "15       15   \n",
       "16       16   \n",
       "\n",
       "                                                                 ocupaciónR_  \\\n",
       "0                                                                      Otras   \n",
       "1                                              Profesionales de la enseñanza   \n",
       "2                    Profesionales de las ciencias, matemáticas e ingeniería   \n",
       "3                                                   Profesionales sanitarios   \n",
       "4                               Expertos en gestión, finanzas, comercio, etc   \n",
       "5                      Empleados servicios financieros, contables y de apoyo   \n",
       "6                                     Profesionales de las ciencias sociales   \n",
       "7                                            Técnicos ciencias e ingenierías   \n",
       "8                                                           Profesionales TI   \n",
       "9                         Profesionales de la eduación especial y no reglada   \n",
       "10                                                               Técnicos TI   \n",
       "11                                                 Profesionales del derecho   \n",
       "12  Profesionales de apoyo servicios jurídicos, socio-culturales, deportivos   \n",
       "13                              Profesionales de la cultura y el espectáculo   \n",
       "14           Telefonista, recepcionista, telefonista, agencias de viaje, etc   \n",
       "15                                       Trabajadores protección y seguridad   \n",
       "16                                         Técnicos sanitarios y laboratorio   \n",
       "\n",
       "    Núm. profesionales  \n",
       "0                13211  \n",
       "1                 9809  \n",
       "2                 7794  \n",
       "3                 7568  \n",
       "4                 2931  \n",
       "5                 2531  \n",
       "6                 2200  \n",
       "7                 2105  \n",
       "8                 1866  \n",
       "9                 1768  \n",
       "10                1662  \n",
       "11                1565  \n",
       "12                1479  \n",
       "13                1142  \n",
       "14                1078  \n",
       "15                 669  \n",
       "16                 466  "
      ]
     },
     "execution_count": 43,
     "metadata": {},
     "output_type": "execute_result"
    }
   ],
   "source": [
    "# Auxiliar para cálculo de distribución de encuestados por ocupaciones: \n",
    "ocsR=pd.DataFrame(df['ocupacionR_'].value_counts())\n",
    "ocsR.reset_index(inplace=True)\n",
    "ocsR.reset_index(inplace=True,drop=False)\n",
    "ocsR.rename(columns={'index':'ocupaciónR_','ocupacionR_':'Núm. profesionales'},inplace=True)\n",
    "ocsR"
   ]
  },
  {
   "cell_type": "code",
   "execution_count": 44,
   "metadata": {},
   "outputs": [],
   "source": [
    "# Auxiliar (ocupacionesR ordenadas por número de titulados):\n",
    "D_ocsR=dict(zip(ocsR['level_0'].unique(),ocsR['ocupaciónR_'].unique()))"
   ]
  },
  {
   "cell_type": "code",
   "execution_count": 45,
   "metadata": {},
   "outputs": [
    {
     "data": {
      "image/png": "[encoded data removed]",
      "text/plain": [
       "<Figure size 1008x504 with 2 Axes>"
      ]
     },
     "metadata": {},
     "output_type": "display_data"
    }
   ],
   "source": [
    "# Distribución de ocupaciones: \n",
    "\n",
    "sns.set_style('whitegrid')\n",
    "fig= plt.figure(figsize=(14,7)) \n",
    "gs = gridspec.GridSpec(2,2, width_ratios=[9, 1],height_ratios=[5,3]) \n",
    "fig.suptitle('Distribución de encuestados por ocupaciones (clasificación simplificada)',fontsize=16)\n",
    "\n",
    "ax=plt.subplot(gs[0,0])\n",
    "sns.barplot(data=ocsR,x='level_0',y='Núm. profesionales',palette='tab20')\n",
    "ax.set_xlabel('')\n",
    "x_ticklabels=[D_ocsR[int(tick.get_text())] for tick in ax.get_xticklabels()]\n",
    "x_ticklabels=[textwrap.fill(tick,30) for tick in x_ticklabels]\n",
    "ax.set_xticklabels(x_ticklabels,rotation=90)\n",
    "ax.set_ylim(0,13500)\n",
    "ax.set_ylabel('Núm. de profesionales')\n",
    "\n",
    "ax=plt.subplot(gs[0,1])\n",
    "sns.boxplot(data=ocsR,y='Núm. profesionales',palette='Paired')\n",
    "ax.set_ylim(0,13500)\n",
    "ax.tick_params(right=True,labelright=True,left=False,labelleft=False)\n",
    "ax.set_ylabel('')\n",
    "\n",
    "fig.savefig('img/distribucion_encuestados_ocupacionesR.png',dpi=400)\n",
    "fig.subplots_adjust(wspace=0.005)\n",
    "plt.show()"
   ]
  },
  {
   "cell_type": "markdown",
   "metadata": {},
   "source": [
    "# Sueldos medianos y medios\n",
    "\n",
    "La encuesta informa de sueldos netos mensuales agrupados en intervalos. \n",
    "\n",
    "El intervalo más alto de sueldos no está acotado superiormente. \n",
    "\n",
    "Para el cálculo de sueldos medianos y medios, se imputa una cota superior de 4000 € mensuales netos al intervalo de sueldos más altos. Así, la amplitud del último intervalo es el doble que la de los intervalos anteriores. "
   ]
  },
  {
   "cell_type": "code",
   "execution_count": 46,
   "metadata": {},
   "outputs": [],
   "source": [
    "# Columna auxiliar para cálculo de sueldos medianos: extremo superior de intervalos\n",
    "\n",
    "D_sld_upper={1:700,2:1000,3:1500,4:2000,5:2500,6:3000,7:4000}\n",
    "df['sld_upper']=df['sueldo'].replace(D_sld_upper)"
   ]
  },
  {
   "cell_type": "code",
   "execution_count": 47,
   "metadata": {},
   "outputs": [],
   "source": [
    "# Columna auxiliar para cálculo de sueldos medianos: amplitud de intervalos\n",
    "\n",
    "D_sld_amplitud={1:700,2:300,3:500,4:500,5:500,6:500,7:1000}\n",
    "df['sld_amplitud']=df['sueldo'].replace(D_sld_amplitud)"
   ]
  },
  {
   "cell_type": "code",
   "execution_count": 48,
   "metadata": {},
   "outputs": [],
   "source": [
    "# Columna auxiliar para el cálculo de sueldos medios: marcas de clase\n",
    "\n",
    "df['sld_marca']=df['sld_upper']-df['sld_amplitud']/2"
   ]
  },
  {
   "cell_type": "code",
   "execution_count": 49,
   "metadata": {},
   "outputs": [],
   "source": [
    "# Actualización df solo ocupados: \n",
    "df_oc=df[df['ocupacion'].notna()]"
   ]
  },
  {
   "cell_type": "code",
   "execution_count": 50,
   "metadata": {},
   "outputs": [
    {
     "data": {
      "text/html": [
       "<div>\n",
       "<style scoped>\n",
       "    .dataframe tbody tr th:only-of-type {\n",
       "        vertical-align: middle;\n",
       "    }\n",
       "\n",
       "    .dataframe tbody tr th {\n",
       "        vertical-align: top;\n",
       "    }\n",
       "\n",
       "    .dataframe thead th {\n",
       "        text-align: right;\n",
       "    }\n",
       "</style>\n",
       "<table border=\"1\" class=\"dataframe\">\n",
       "  <thead>\n",
       "    <tr style=\"text-align: right;\">\n",
       "      <th></th>\n",
       "      <th>sueldo</th>\n",
       "      <th>sueldo_</th>\n",
       "      <th>sld_upper</th>\n",
       "      <th>sld_amplitud</th>\n",
       "      <th>sld_marca</th>\n",
       "    </tr>\n",
       "  </thead>\n",
       "  <tbody>\n",
       "    <tr>\n",
       "      <th>14952</th>\n",
       "      <td>1.0</td>\n",
       "      <td>Menos de 700 euros</td>\n",
       "      <td>700.0</td>\n",
       "      <td>700.0</td>\n",
       "      <td>350.0</td>\n",
       "    </tr>\n",
       "    <tr>\n",
       "      <th>18954</th>\n",
       "      <td>2.0</td>\n",
       "      <td>De 700 a 999 euros</td>\n",
       "      <td>1000.0</td>\n",
       "      <td>300.0</td>\n",
       "      <td>850.0</td>\n",
       "    </tr>\n",
       "    <tr>\n",
       "      <th>17009</th>\n",
       "      <td>3.0</td>\n",
       "      <td>De 1.000 a 1.499 euros</td>\n",
       "      <td>1500.0</td>\n",
       "      <td>500.0</td>\n",
       "      <td>1250.0</td>\n",
       "    </tr>\n",
       "    <tr>\n",
       "      <th>36803</th>\n",
       "      <td>4.0</td>\n",
       "      <td>De 1.500 a 1.999 euros</td>\n",
       "      <td>2000.0</td>\n",
       "      <td>500.0</td>\n",
       "      <td>1750.0</td>\n",
       "    </tr>\n",
       "    <tr>\n",
       "      <th>42516</th>\n",
       "      <td>5.0</td>\n",
       "      <td>De 2.000 a 2.499 euros</td>\n",
       "      <td>2500.0</td>\n",
       "      <td>500.0</td>\n",
       "      <td>2250.0</td>\n",
       "    </tr>\n",
       "    <tr>\n",
       "      <th>42487</th>\n",
       "      <td>6.0</td>\n",
       "      <td>De 2.500 a 2.999 euros</td>\n",
       "      <td>3000.0</td>\n",
       "      <td>500.0</td>\n",
       "      <td>2750.0</td>\n",
       "    </tr>\n",
       "    <tr>\n",
       "      <th>31467</th>\n",
       "      <td>7.0</td>\n",
       "      <td>De 3.000 euros en adelante</td>\n",
       "      <td>4000.0</td>\n",
       "      <td>1000.0</td>\n",
       "      <td>3500.0</td>\n",
       "    </tr>\n",
       "    <tr>\n",
       "      <th>4</th>\n",
       "      <td>NaN</td>\n",
       "      <td>NaN</td>\n",
       "      <td>NaN</td>\n",
       "      <td>NaN</td>\n",
       "      <td>NaN</td>\n",
       "    </tr>\n",
       "  </tbody>\n",
       "</table>\n",
       "</div>"
      ],
      "text/plain": [
       "       sueldo                     sueldo_  sld_upper  sld_amplitud  sld_marca\n",
       "14952     1.0          Menos de 700 euros      700.0         700.0      350.0\n",
       "18954     2.0          De 700 a 999 euros     1000.0         300.0      850.0\n",
       "17009     3.0      De 1.000 a 1.499 euros     1500.0         500.0     1250.0\n",
       "36803     4.0      De 1.500 a 1.999 euros     2000.0         500.0     1750.0\n",
       "42516     5.0      De 2.000 a 2.499 euros     2500.0         500.0     2250.0\n",
       "42487     6.0      De 2.500 a 2.999 euros     3000.0         500.0     2750.0\n",
       "31467     7.0  De 3.000 euros en adelante     4000.0        1000.0     3500.0\n",
       "4         NaN                         NaN        NaN           NaN        NaN"
      ]
     },
     "execution_count": 50,
     "metadata": {},
     "output_type": "execute_result"
    }
   ],
   "source": [
    "df[['sueldo','sueldo_','sld_upper','sld_amplitud','sld_marca']].sort_values(by='sueldo').drop_duplicates()"
   ]
  },
  {
   "cell_type": "markdown",
   "metadata": {},
   "source": [
    "### Función sueldo_mediano"
   ]
  },
  {
   "cell_type": "code",
   "execution_count": 51,
   "metadata": {},
   "outputs": [],
   "source": [
    "def sueldo_mediano(data,ref,totales=False):\n",
    "    \n",
    "    \"\"\" Calcula el sueldo mediano (procedimiento de calculo de mediana para datos agrupados en intervalos) \n",
    "    para los encuestados agrupados por las columnas especificadas en el argumento 'ref'. \n",
    "    \n",
    "    El intervalo superior de la variable sueldo es no acotado. Se ha fijado su amplitud en el doble de la amplitud\n",
    "    más frecuente. Así, la cota superior para el sueldo mensual más alto se establece en 4000 € mensuales netos. \n",
    "    \"\"\"\n",
    "    \n",
    "    if type(ref)!=list: ref=[ref]\n",
    "    data=data[ref+['sld_upper','sld_amplitud']]\n",
    "    \n",
    "    # Frecuencias relativas:\n",
    "    aux_fr=df_histograma(data=data,ref=ref,criterio='sld_upper')\n",
    "    aux_fr['fr']=aux_fr['fr']/100\n",
    "    \n",
    "    \n",
    "    merge_on=ref+['sld_upper']\n",
    "    out=data.merge(aux_fr,left_on=merge_on,right_on=merge_on)\n",
    "    out.drop_duplicates(inplace=True)\n",
    "    \n",
    "    # Orden según sueldo: \n",
    "    out.sort_values(by='sld_upper',inplace=True)\n",
    "    \n",
    "    # Frecuencias acumuladas: \n",
    "    out['fr cum']=out[ref+['fr']].groupby(ref).cumsum()\n",
    "    \n",
    "    # Frecuencia acumulada anterior: \n",
    "    out['fr cum-1']=out['fr cum']-out['fr']\n",
    "    \n",
    "    # Intervalo mediano: \n",
    "    out=out[out['fr cum']>=0.5]\n",
    "    out.drop_duplicates(subset=ref,keep='first',inplace=True)\n",
    "    \n",
    "    # Sueldo mediano (=upper anterior+amplitud*(0.5-fr acum. anterior)/fr): \n",
    "    out['sueldo mensual mediano']=out['sld_upper']-out['sld_amplitud']\\\n",
    "                         +out['sld_amplitud']*(0.5-out['fr cum-1'])/out['fr'] \n",
    "    \n",
    "    for col in ['sld_upper','sld_amplitud','fr','fr cum','fr cum-1']:\n",
    "        del out[col]\n",
    "    if totales==False: del out['total']\n",
    "        \n",
    "    out.reset_index(drop=True,inplace=True)\n",
    "    out.sort_values(by=ref,inplace=True)\n",
    "    \n",
    "    return out"
   ]
  },
  {
   "cell_type": "markdown",
   "metadata": {},
   "source": [
    "## Sueldos medianos por ocupaciones (clasificación simplificada)"
   ]
  },
  {
   "cell_type": "code",
   "execution_count": 52,
   "metadata": {},
   "outputs": [
    {
     "data": {
      "text/html": [
       "<div>\n",
       "<style scoped>\n",
       "    .dataframe tbody tr th:only-of-type {\n",
       "        vertical-align: middle;\n",
       "    }\n",
       "\n",
       "    .dataframe tbody tr th {\n",
       "        vertical-align: top;\n",
       "    }\n",
       "\n",
       "    .dataframe thead th {\n",
       "        text-align: right;\n",
       "    }\n",
       "</style>\n",
       "<table border=\"1\" class=\"dataframe\">\n",
       "  <thead>\n",
       "    <tr style=\"text-align: right;\">\n",
       "      <th></th>\n",
       "      <th>index</th>\n",
       "      <th>ocupacionR_</th>\n",
       "      <th>total</th>\n",
       "      <th>sueldo mensual mediano</th>\n",
       "    </tr>\n",
       "  </thead>\n",
       "  <tbody>\n",
       "    <tr>\n",
       "      <th>0</th>\n",
       "      <td>0</td>\n",
       "      <td>Profesionales de apoyo servicios jurídicos, socio-culturales, deportivos</td>\n",
       "      <td>864</td>\n",
       "      <td>1094.155844</td>\n",
       "    </tr>\n",
       "    <tr>\n",
       "      <th>1</th>\n",
       "      <td>1</td>\n",
       "      <td>Telefonista, recepcionista, telefonista, agencias de viaje, etc</td>\n",
       "      <td>599</td>\n",
       "      <td>1151.098901</td>\n",
       "    </tr>\n",
       "    <tr>\n",
       "      <th>2</th>\n",
       "      <td>2</td>\n",
       "      <td>Profesionales de la eduación especial y no reglada</td>\n",
       "      <td>1053</td>\n",
       "      <td>1208.614865</td>\n",
       "    </tr>\n",
       "    <tr>\n",
       "      <th>3</th>\n",
       "      <td>3</td>\n",
       "      <td>Profesionales de la cultura y el espectáculo</td>\n",
       "      <td>716</td>\n",
       "      <td>1288.256228</td>\n",
       "    </tr>\n",
       "    <tr>\n",
       "      <th>4</th>\n",
       "      <td>4</td>\n",
       "      <td>Profesionales de las ciencias sociales</td>\n",
       "      <td>1336</td>\n",
       "      <td>1338.550247</td>\n",
       "    </tr>\n",
       "    <tr>\n",
       "      <th>5</th>\n",
       "      <td>5</td>\n",
       "      <td>Otras</td>\n",
       "      <td>8195</td>\n",
       "      <td>1378.123959</td>\n",
       "    </tr>\n",
       "    <tr>\n",
       "      <th>6</th>\n",
       "      <td>6</td>\n",
       "      <td>Empleados servicios financieros, contables y de apoyo</td>\n",
       "      <td>996</td>\n",
       "      <td>1442.757009</td>\n",
       "    </tr>\n",
       "    <tr>\n",
       "      <th>7</th>\n",
       "      <td>7</td>\n",
       "      <td>Técnicos sanitarios y laboratorio</td>\n",
       "      <td>352</td>\n",
       "      <td>1450.617284</td>\n",
       "    </tr>\n",
       "    <tr>\n",
       "      <th>8</th>\n",
       "      <td>8</td>\n",
       "      <td>Técnicos ciencias e ingenierías</td>\n",
       "      <td>1471</td>\n",
       "      <td>1550.717213</td>\n",
       "    </tr>\n",
       "    <tr>\n",
       "      <th>9</th>\n",
       "      <td>9</td>\n",
       "      <td>Técnicos TI</td>\n",
       "      <td>811</td>\n",
       "      <td>1658.934708</td>\n",
       "    </tr>\n",
       "    <tr>\n",
       "      <th>10</th>\n",
       "      <td>10</td>\n",
       "      <td>Profesionales de la enseñanza</td>\n",
       "      <td>6676</td>\n",
       "      <td>1662.852897</td>\n",
       "    </tr>\n",
       "    <tr>\n",
       "      <th>11</th>\n",
       "      <td>11</td>\n",
       "      <td>Profesionales del derecho</td>\n",
       "      <td>995</td>\n",
       "      <td>1704.637097</td>\n",
       "    </tr>\n",
       "    <tr>\n",
       "      <th>12</th>\n",
       "      <td>12</td>\n",
       "      <td>Profesionales de las ciencias, matemáticas e ingeniería</td>\n",
       "      <td>3956</td>\n",
       "      <td>1726.624406</td>\n",
       "    </tr>\n",
       "    <tr>\n",
       "      <th>13</th>\n",
       "      <td>13</td>\n",
       "      <td>Trabajadores protección y seguridad</td>\n",
       "      <td>451</td>\n",
       "      <td>1733.091787</td>\n",
       "    </tr>\n",
       "    <tr>\n",
       "      <th>14</th>\n",
       "      <td>14</td>\n",
       "      <td>Profesionales sanitarios</td>\n",
       "      <td>4134</td>\n",
       "      <td>1741.064337</td>\n",
       "    </tr>\n",
       "    <tr>\n",
       "      <th>15</th>\n",
       "      <td>15</td>\n",
       "      <td>Expertos en gestión, finanzas, comercio, etc</td>\n",
       "      <td>2301</td>\n",
       "      <td>1764.144737</td>\n",
       "    </tr>\n",
       "    <tr>\n",
       "      <th>16</th>\n",
       "      <td>16</td>\n",
       "      <td>Profesionales TI</td>\n",
       "      <td>1237</td>\n",
       "      <td>1901.995305</td>\n",
       "    </tr>\n",
       "  </tbody>\n",
       "</table>\n",
       "</div>"
      ],
      "text/plain": [
       "    index  \\\n",
       "0       0   \n",
       "1       1   \n",
       "2       2   \n",
       "3       3   \n",
       "4       4   \n",
       "5       5   \n",
       "6       6   \n",
       "7       7   \n",
       "8       8   \n",
       "9       9   \n",
       "10     10   \n",
       "11     11   \n",
       "12     12   \n",
       "13     13   \n",
       "14     14   \n",
       "15     15   \n",
       "16     16   \n",
       "\n",
       "                                                                 ocupacionR_  \\\n",
       "0   Profesionales de apoyo servicios jurídicos, socio-culturales, deportivos   \n",
       "1            Telefonista, recepcionista, telefonista, agencias de viaje, etc   \n",
       "2                         Profesionales de la eduación especial y no reglada   \n",
       "3                               Profesionales de la cultura y el espectáculo   \n",
       "4                                     Profesionales de las ciencias sociales   \n",
       "5                                                                      Otras   \n",
       "6                      Empleados servicios financieros, contables y de apoyo   \n",
       "7                                          Técnicos sanitarios y laboratorio   \n",
       "8                                            Técnicos ciencias e ingenierías   \n",
       "9                                                                Técnicos TI   \n",
       "10                                             Profesionales de la enseñanza   \n",
       "11                                                 Profesionales del derecho   \n",
       "12                   Profesionales de las ciencias, matemáticas e ingeniería   \n",
       "13                                       Trabajadores protección y seguridad   \n",
       "14                                                  Profesionales sanitarios   \n",
       "15                              Expertos en gestión, finanzas, comercio, etc   \n",
       "16                                                          Profesionales TI   \n",
       "\n",
       "    total  sueldo mensual mediano  \n",
       "0     864             1094.155844  \n",
       "1     599             1151.098901  \n",
       "2    1053             1208.614865  \n",
       "3     716             1288.256228  \n",
       "4    1336             1338.550247  \n",
       "5    8195             1378.123959  \n",
       "6     996             1442.757009  \n",
       "7     352             1450.617284  \n",
       "8    1471             1550.717213  \n",
       "9     811             1658.934708  \n",
       "10   6676             1662.852897  \n",
       "11    995             1704.637097  \n",
       "12   3956             1726.624406  \n",
       "13    451             1733.091787  \n",
       "14   4134             1741.064337  \n",
       "15   2301             1764.144737  \n",
       "16   1237             1901.995305  "
      ]
     },
     "execution_count": 52,
     "metadata": {},
     "output_type": "execute_result"
    }
   ],
   "source": [
    "sueldo_mediano_oc=sueldo_mediano(df_oc,ref='ocupacionR_',totales=True)\n",
    "sueldo_mediano_oc.sort_values(by='sueldo mensual mediano',inplace=True)\n",
    "sueldo_mediano_oc.reset_index(inplace=True,drop=True)\n",
    "sueldo_mediano_oc.reset_index(inplace=True,drop=False)\n",
    "sueldo_mediano_oc"
   ]
  },
  {
   "cell_type": "code",
   "execution_count": 53,
   "metadata": {},
   "outputs": [],
   "source": [
    "# Diccionario de índices, ocupacionesR:\n",
    "D_index_sld_mediano_ocR=dict(zip(sueldo_mediano_oc['index'].unique(),sueldo_mediano_oc['ocupacionR_'].unique()))\n",
    "\n",
    "# Diccionario para orden de ocupaciones según sueldo mediano (ocupacionesR, índices): \n",
    "D_orden_sld_mediano_ocR=dict(zip(sueldo_mediano_oc['ocupacionR_'].unique(),sueldo_mediano_oc['index'].unique()))"
   ]
  },
  {
   "cell_type": "code",
   "execution_count": 54,
   "metadata": {
    "scrolled": false
   },
   "outputs": [],
   "source": [
    "# Reindex para incorporar frecuencias en boxplot: \n",
    "sueldo_mediano_oc_box=sueldo_mediano_oc.reindex(sueldo_mediano_oc.index.repeat(sueldo_mediano_oc['total']))"
   ]
  },
  {
   "cell_type": "code",
   "execution_count": 55,
   "metadata": {
    "scrolled": false
   },
   "outputs": [
    {
     "data": {
      "image/png": "[encoded data removed]",
      "text/plain": [
       "<Figure size 1224x432 with 2 Axes>"
      ]
     },
     "metadata": {},
     "output_type": "display_data"
    }
   ],
   "source": [
    "# Sueldos medianos por ocupaciones:\n",
    "\n",
    "import matplotlib.ticker as ticker\n",
    "\n",
    "sns.set_style('whitegrid')\n",
    "fig= plt.figure(figsize=(17,6)) \n",
    "gs = gridspec.GridSpec(2,2, width_ratios=[9,1],height_ratios=[5,3]) \n",
    "\n",
    "fig.suptitle('Sueldos medianos por ocupaciones (clasificación simplificada)',fontsize=16)\n",
    "\n",
    "ax=plt.subplot(gs[0,0])\n",
    "sns.scatterplot(data=sueldo_mediano_oc,x='index',y='sueldo mensual mediano',\n",
    "                palette='tab10',size='total',legend=False)\n",
    "ax.set_xlabel('')\n",
    "ax.set_ylim(1,2200)\n",
    "ax.set_ylabel('Sueldo mensual mediano neto')\n",
    "\n",
    "ax.set_xticks(np.arange(0,17,1))\n",
    "x_ticklabels=[D_index_sld_mediano_ocR[tick] for tick in np.arange(0,17,1)]\n",
    "x_ticklabels=[textwrap.fill(tick,30) for tick in x_ticklabels]\n",
    "ax.set_xticklabels(x_ticklabels,rotation=90)\n",
    "\n",
    "ax=plt.subplot(gs[0,1])\n",
    "sns.boxplot(data=sueldo_mediano_oc_box,y='sueldo mensual mediano',palette='tab10')\n",
    "ax.set_ylim(1,2200)\n",
    "ax.tick_params(right=False,labelright=False,left=False,labelleft=False)\n",
    "ax.set_ylabel('')\n",
    "\n",
    "fig.savefig('img/sueldos_medianos_ocupacionesR.png',dpi=400)\n",
    "fig.subplots_adjust(wspace=0.005)\n",
    "plt.show()"
   ]
  },
  {
   "cell_type": "markdown",
   "metadata": {},
   "source": [
    "## Sueldos medianos por ocupaciones (clasificación simplificada) y sexos"
   ]
  },
  {
   "cell_type": "code",
   "execution_count": 56,
   "metadata": {},
   "outputs": [
    {
     "data": {
      "text/html": [
       "<div>\n",
       "<style scoped>\n",
       "    .dataframe tbody tr th:only-of-type {\n",
       "        vertical-align: middle;\n",
       "    }\n",
       "\n",
       "    .dataframe tbody tr th {\n",
       "        vertical-align: top;\n",
       "    }\n",
       "\n",
       "    .dataframe thead th {\n",
       "        text-align: right;\n",
       "    }\n",
       "</style>\n",
       "<table border=\"1\" class=\"dataframe\">\n",
       "  <thead>\n",
       "    <tr style=\"text-align: right;\">\n",
       "      <th></th>\n",
       "      <th>ocupacionR_</th>\n",
       "      <th>sexo_</th>\n",
       "      <th>total</th>\n",
       "      <th>sueldo mensual mediano</th>\n",
       "      <th>ocupacionR_index</th>\n",
       "    </tr>\n",
       "  </thead>\n",
       "  <tbody>\n",
       "    <tr>\n",
       "      <th>0</th>\n",
       "      <td>Profesionales de apoyo servicios jurídicos, socio-culturales, deportivos</td>\n",
       "      <td>Hombre</td>\n",
       "      <td>420</td>\n",
       "      <td>1135.416667</td>\n",
       "      <td>0</td>\n",
       "    </tr>\n",
       "    <tr>\n",
       "      <th>11</th>\n",
       "      <td>Profesionales de apoyo servicios jurídicos, socio-culturales, deportivos</td>\n",
       "      <td>Mujer</td>\n",
       "      <td>444</td>\n",
       "      <td>1057.926829</td>\n",
       "      <td>0</td>\n",
       "    </tr>\n",
       "    <tr>\n",
       "      <th>9</th>\n",
       "      <td>Telefonista, recepcionista, telefonista, agencias de viaje, etc</td>\n",
       "      <td>Mujer</td>\n",
       "      <td>423</td>\n",
       "      <td>1122.928177</td>\n",
       "      <td>1</td>\n",
       "    </tr>\n",
       "    <tr>\n",
       "      <th>5</th>\n",
       "      <td>Telefonista, recepcionista, telefonista, agencias de viaje, etc</td>\n",
       "      <td>Hombre</td>\n",
       "      <td>176</td>\n",
       "      <td>1206.521739</td>\n",
       "      <td>1</td>\n",
       "    </tr>\n",
       "    <tr>\n",
       "      <th>10</th>\n",
       "      <td>Profesionales de la eduación especial y no reglada</td>\n",
       "      <td>Mujer</td>\n",
       "      <td>718</td>\n",
       "      <td>1188.118812</td>\n",
       "      <td>2</td>\n",
       "    </tr>\n",
       "  </tbody>\n",
       "</table>\n",
       "</div>"
      ],
      "text/plain": [
       "                                                                 ocupacionR_  \\\n",
       "0   Profesionales de apoyo servicios jurídicos, socio-culturales, deportivos   \n",
       "11  Profesionales de apoyo servicios jurídicos, socio-culturales, deportivos   \n",
       "9            Telefonista, recepcionista, telefonista, agencias de viaje, etc   \n",
       "5            Telefonista, recepcionista, telefonista, agencias de viaje, etc   \n",
       "10                        Profesionales de la eduación especial y no reglada   \n",
       "\n",
       "     sexo_  total  sueldo mensual mediano  ocupacionR_index  \n",
       "0   Hombre    420             1135.416667                 0  \n",
       "11   Mujer    444             1057.926829                 0  \n",
       "9    Mujer    423             1122.928177                 1  \n",
       "5   Hombre    176             1206.521739                 1  \n",
       "10   Mujer    718             1188.118812                 2  "
      ]
     },
     "execution_count": 56,
     "metadata": {},
     "output_type": "execute_result"
    }
   ],
   "source": [
    "sueldo_mediano_ocR_sexos=sueldo_mediano(df_oc,ref=['ocupacionR_','sexo_'],totales=True)\n",
    "sueldo_mediano_ocR_sexos['ocupacionR_index']=sueldo_mediano_ocR_sexos['ocupacionR_']\\\n",
    "                                            .replace(D_orden_sld_mediano_ocR)\n",
    "sueldo_mediano_ocR_sexos.sort_values(by='ocupacionR_index',inplace=True)\n",
    "sueldo_mediano_ocR_sexos.head()"
   ]
  },
  {
   "cell_type": "code",
   "execution_count": 57,
   "metadata": {
    "scrolled": true
   },
   "outputs": [],
   "source": [
    "# Reindex para incorporar frecuencias en boxplot: \n",
    "# Hombres:\n",
    "sueldo_mediano_ocR_H=sueldo_mediano_ocR_sexos[sueldo_mediano_ocR_sexos['sexo_']=='Hombre']\n",
    "sueldo_mediano_ocR_H=sueldo_mediano_ocR_H.reindex(sueldo_mediano_ocR_H.index.repeat(sueldo_mediano_ocR_H['total']))\n",
    "# Mujeres:\n",
    "sueldo_mediano_ocR_M=sueldo_mediano_ocR_sexos[sueldo_mediano_ocR_sexos['sexo_']=='Mujer']\n",
    "sueldo_mediano_ocR_M=sueldo_mediano_ocR_M.reindex(sueldo_mediano_ocR_M.index.repeat(sueldo_mediano_ocR_M['total']))"
   ]
  },
  {
   "cell_type": "code",
   "execution_count": 58,
   "metadata": {},
   "outputs": [
    {
     "data": {
      "image/png": "[encoded data removed]",
      "text/plain": [
       "<Figure size 1224x432 with 3 Axes>"
      ]
     },
     "metadata": {},
     "output_type": "display_data"
    }
   ],
   "source": [
    "# Sueldos medianos por ocupaciones (clasificación simplificada) y sexos:\n",
    "\n",
    "import matplotlib.ticker as ticker\n",
    "\n",
    "sns.set_style('whitegrid')\n",
    "fig= plt.figure(figsize=(17,6)) \n",
    "gs = gridspec.GridSpec(2,3, width_ratios=[9,1,1],height_ratios=[5,3]) \n",
    "\n",
    "fig.suptitle('Sueldos medianos por ocupaciones (clasificación simplificada)',fontsize=16)\n",
    "paleta=sns.color_palette('tab10').as_hex()\n",
    "\n",
    "ax=plt.subplot(gs[0,0])\n",
    "sns.scatterplot(data=sueldo_mediano_ocR_sexos,x='ocupacionR_index',y='sueldo mensual mediano',hue='sexo_',\n",
    "                palette='tab10',size='total')\n",
    "ax.set_xlabel('')\n",
    "ax.set_ylim(1,2200)\n",
    "ax.set_ylabel('Sueldo mensual mediano neto')\n",
    "\n",
    "ax.set_xticks(np.arange(0,17,1))\n",
    "x_ticklabels=[D_index_sld_mediano_ocR[tick] for tick in np.arange(0,17,1)]\n",
    "x_ticklabels=[textwrap.fill(tick,30) for tick in x_ticklabels]\n",
    "ax.set_xticklabels(x_ticklabels,rotation=90)\n",
    "\n",
    "handles, labels=ax.get_legend_handles_labels()\n",
    "handles, labels=handles[1:3], labels[1:3]\n",
    "ax.legend(handles=handles,labels=labels)\n",
    "\n",
    "ax=plt.subplot(gs[0,1])\n",
    "sns.boxplot(data=sueldo_mediano_ocR_H,y='sueldo mensual mediano',color=paleta[0])\n",
    "ax.set_ylim(1,2200)\n",
    "ax.tick_params(right=False,labelright=False,left=False,labelleft=False)\n",
    "ax.set_ylabel('')\n",
    "\n",
    "ax=plt.subplot(gs[0,2])\n",
    "sns.boxplot(data=sueldo_mediano_ocR_M,y='sueldo mensual mediano',color=paleta[1])\n",
    "ax.set_ylim(1,2200)\n",
    "ax.tick_params(right=False,labelright=False,left=False,labelleft=False)\n",
    "ax.set_ylabel('')\n",
    "\n",
    "fig.savefig('img/sueldos_medianos_ocupacionesR_sexos.png',dpi=400)\n",
    "fig.subplots_adjust(wspace=0.005)\n",
    "plt.show()"
   ]
  },
  {
   "cell_type": "markdown",
   "metadata": {},
   "source": [
    "## Sueldos medianos por sexos"
   ]
  },
  {
   "cell_type": "code",
   "execution_count": 59,
   "metadata": {},
   "outputs": [
    {
     "data": {
      "text/html": [
       "<div>\n",
       "<style scoped>\n",
       "    .dataframe tbody tr th:only-of-type {\n",
       "        vertical-align: middle;\n",
       "    }\n",
       "\n",
       "    .dataframe tbody tr th {\n",
       "        vertical-align: top;\n",
       "    }\n",
       "\n",
       "    .dataframe thead th {\n",
       "        text-align: right;\n",
       "    }\n",
       "</style>\n",
       "<table border=\"1\" class=\"dataframe\">\n",
       "  <thead>\n",
       "    <tr style=\"text-align: right;\">\n",
       "      <th></th>\n",
       "      <th>sexo</th>\n",
       "      <th>sueldo mensual mediano</th>\n",
       "    </tr>\n",
       "  </thead>\n",
       "  <tbody>\n",
       "    <tr>\n",
       "      <th>1</th>\n",
       "      <td>0</td>\n",
       "      <td>1694.947285</td>\n",
       "    </tr>\n",
       "    <tr>\n",
       "      <th>0</th>\n",
       "      <td>1</td>\n",
       "      <td>1475.445081</td>\n",
       "    </tr>\n",
       "  </tbody>\n",
       "</table>\n",
       "</div>"
      ],
      "text/plain": [
       "   sexo  sueldo mensual mediano\n",
       "1     0             1694.947285\n",
       "0     1             1475.445081"
      ]
     },
     "execution_count": 59,
     "metadata": {},
     "output_type": "execute_result"
    }
   ],
   "source": [
    "# Sueldos medianos según sexos: \n",
    "\n",
    "sueldo_mediano_sexos=sueldo_mediano(data=df_oc,ref=['sexo'])\n",
    "sueldo_mediano_sexos"
   ]
  },
  {
   "cell_type": "code",
   "execution_count": 60,
   "metadata": {
    "scrolled": true
   },
   "outputs": [
    {
     "data": {
      "image/png": "[encoded data removed]",
      "text/plain": [
       "<Figure size 432x288 with 1 Axes>"
      ]
     },
     "metadata": {},
     "output_type": "display_data"
    }
   ],
   "source": [
    "# Distribución de sueldos medianos por sexos: \n",
    "\n",
    "sns.set_style('whitegrid')\n",
    "fig, ax = plt.subplots(1,figsize=(6,4))\n",
    "\n",
    "\n",
    "\n",
    "sns.barplot(data=sueldo_mediano_sexos,x='sexo',y='sueldo mensual mediano',palette='tab10')\n",
    "ax.set_xticklabels([D_dicc['sexo'][float(tick.get_text())] for tick in ax.get_xticklabels()])\n",
    "ax.set_xlabel('')\n",
    "ax.set_ylabel('Sueldo mensual mediano neto')\n",
    "ax.set_title('Sueldos medianos por sexos', fontsize=16)\n",
    "\n",
    "fig.savefig('img/sueldo_mediano_sexos.png',dpi=400)\n",
    "plt.show()"
   ]
  },
  {
   "cell_type": "markdown",
   "metadata": {},
   "source": [
    "## Sueldos medianos por ocupaciones y sexos"
   ]
  },
  {
   "cell_type": "code",
   "execution_count": 61,
   "metadata": {},
   "outputs": [
    {
     "data": {
      "text/html": [
       "<div>\n",
       "<style scoped>\n",
       "    .dataframe tbody tr th:only-of-type {\n",
       "        vertical-align: middle;\n",
       "    }\n",
       "\n",
       "    .dataframe tbody tr th {\n",
       "        vertical-align: top;\n",
       "    }\n",
       "\n",
       "    .dataframe thead th {\n",
       "        text-align: right;\n",
       "    }\n",
       "</style>\n",
       "<table border=\"1\" class=\"dataframe\">\n",
       "  <thead>\n",
       "    <tr style=\"text-align: right;\">\n",
       "      <th></th>\n",
       "      <th>index</th>\n",
       "      <th>ocupacion</th>\n",
       "      <th>sueldo mensual mediano</th>\n",
       "    </tr>\n",
       "  </thead>\n",
       "  <tbody>\n",
       "    <tr>\n",
       "      <th>0</th>\n",
       "      <td>0</td>\n",
       "      <td>57.0</td>\n",
       "      <td>835.714286</td>\n",
       "    </tr>\n",
       "    <tr>\n",
       "      <th>1</th>\n",
       "      <td>1</td>\n",
       "      <td>55.0</td>\n",
       "      <td>880.882353</td>\n",
       "    </tr>\n",
       "    <tr>\n",
       "      <th>2</th>\n",
       "      <td>2</td>\n",
       "      <td>91.0</td>\n",
       "      <td>887.500000</td>\n",
       "    </tr>\n",
       "    <tr>\n",
       "      <th>3</th>\n",
       "      <td>3</td>\n",
       "      <td>92.0</td>\n",
       "      <td>897.368421</td>\n",
       "    </tr>\n",
       "    <tr>\n",
       "      <th>4</th>\n",
       "      <td>4</td>\n",
       "      <td>52.0</td>\n",
       "      <td>976.086957</td>\n",
       "    </tr>\n",
       "  </tbody>\n",
       "</table>\n",
       "</div>"
      ],
      "text/plain": [
       "   index  ocupacion  sueldo mensual mediano\n",
       "0      0       57.0              835.714286\n",
       "1      1       55.0              880.882353\n",
       "2      2       91.0              887.500000\n",
       "3      3       92.0              897.368421\n",
       "4      4       52.0              976.086957"
      ]
     },
     "execution_count": 61,
     "metadata": {},
     "output_type": "execute_result"
    }
   ],
   "source": [
    "# Auxiliar para orden de ocupaciones según sueldo mediano sin distinguir por sexos:\n",
    "\n",
    "sueldo_oc_medio=sueldo_mediano(data=df_oc,ref=['ocupacion'])\n",
    "sueldo_oc_medio.sort_values(by=['sueldo mensual mediano'],inplace=True)\n",
    "sueldo_oc_medio.reset_index(inplace=True,drop=True)\n",
    "sueldo_oc_medio.reset_index(inplace=True,drop=False)\n",
    "sueldo_oc_medio.head()"
   ]
  },
  {
   "cell_type": "code",
   "execution_count": 62,
   "metadata": {},
   "outputs": [],
   "source": [
    "# Diccionario para orden de ocupaciones según sueldo mediano: \n",
    "\n",
    "D_orden_sld_oc=dict(zip(sueldo_oc_medio['ocupacion'].unique(),sueldo_oc_medio['index'].unique()))"
   ]
  },
  {
   "cell_type": "code",
   "execution_count": 63,
   "metadata": {},
   "outputs": [
    {
     "data": {
      "text/html": [
       "<div>\n",
       "<style scoped>\n",
       "    .dataframe tbody tr th:only-of-type {\n",
       "        vertical-align: middle;\n",
       "    }\n",
       "\n",
       "    .dataframe tbody tr th {\n",
       "        vertical-align: top;\n",
       "    }\n",
       "\n",
       "    .dataframe thead th {\n",
       "        text-align: right;\n",
       "    }\n",
       "</style>\n",
       "<table border=\"1\" class=\"dataframe\">\n",
       "  <thead>\n",
       "    <tr style=\"text-align: right;\">\n",
       "      <th></th>\n",
       "      <th>ocupacion</th>\n",
       "      <th>sexo_</th>\n",
       "      <th>total</th>\n",
       "      <th>sueldo mensual mediano</th>\n",
       "      <th>ocupacion_index</th>\n",
       "    </tr>\n",
       "  </thead>\n",
       "  <tbody>\n",
       "    <tr>\n",
       "      <th>74</th>\n",
       "      <td>57.0</td>\n",
       "      <td>Hombre</td>\n",
       "      <td>22</td>\n",
       "      <td>1111.111111</td>\n",
       "      <td>0.0</td>\n",
       "    </tr>\n",
       "    <tr>\n",
       "      <th>3</th>\n",
       "      <td>57.0</td>\n",
       "      <td>Mujer</td>\n",
       "      <td>140</td>\n",
       "      <td>812.500000</td>\n",
       "      <td>0.0</td>\n",
       "    </tr>\n",
       "    <tr>\n",
       "      <th>9</th>\n",
       "      <td>55.0</td>\n",
       "      <td>Mujer</td>\n",
       "      <td>63</td>\n",
       "      <td>875.000000</td>\n",
       "      <td>1.0</td>\n",
       "    </tr>\n",
       "    <tr>\n",
       "      <th>10</th>\n",
       "      <td>55.0</td>\n",
       "      <td>Hombre</td>\n",
       "      <td>20</td>\n",
       "      <td>925.000000</td>\n",
       "      <td>1.0</td>\n",
       "    </tr>\n",
       "    <tr>\n",
       "      <th>6</th>\n",
       "      <td>91.0</td>\n",
       "      <td>Mujer</td>\n",
       "      <td>11</td>\n",
       "      <td>887.500000</td>\n",
       "      <td>2.0</td>\n",
       "    </tr>\n",
       "  </tbody>\n",
       "</table>\n",
       "</div>"
      ],
      "text/plain": [
       "    ocupacion   sexo_  total  sueldo mensual mediano  ocupacion_index\n",
       "74       57.0  Hombre     22             1111.111111              0.0\n",
       "3        57.0   Mujer    140              812.500000              0.0\n",
       "9        55.0   Mujer     63              875.000000              1.0\n",
       "10       55.0  Hombre     20              925.000000              1.0\n",
       "6        91.0   Mujer     11              887.500000              2.0"
      ]
     },
     "execution_count": 63,
     "metadata": {},
     "output_type": "execute_result"
    }
   ],
   "source": [
    "# Sueldos medianos por ocupaciones y sexos: \n",
    "\n",
    "sueldo_oc=sueldo_mediano(data=df_oc,ref=['ocupacion','sexo_'],totales=True)\n",
    "sueldo_oc.sort_values(by=['sueldo mensual mediano'],inplace=True)\n",
    "sueldo_oc['ocupacion_index']=sueldo_oc['ocupacion'].replace(D_orden_sld_oc)\n",
    "sueldo_oc.sort_values(by='ocupacion_index',inplace=True)\n",
    "sueldo_oc.head()"
   ]
  },
  {
   "cell_type": "code",
   "execution_count": 64,
   "metadata": {
    "scrolled": true
   },
   "outputs": [],
   "source": [
    "# Reindex para incorporar frecuencias en boxplot: \n",
    "# Hombres:\n",
    "sueldo_oc_H=sueldo_oc[sueldo_oc['sexo_']=='Hombre']\n",
    "sueldo_oc_H=sueldo_oc_H.reindex(sueldo_oc_H.index.repeat(sueldo_oc_H['total']))\n",
    "# Mujeres:\n",
    "sueldo_oc_M=sueldo_oc[sueldo_oc['sexo_']=='Mujer']\n",
    "sueldo_oc_M=sueldo_oc_M.reindex(sueldo_oc_M.index.repeat(sueldo_oc_M['total']))"
   ]
  },
  {
   "cell_type": "code",
   "execution_count": 65,
   "metadata": {},
   "outputs": [
    {
     "data": {
      "image/png": "[encoded data removed]",
      "text/plain": [
       "<Figure size 1008x288 with 3 Axes>"
      ]
     },
     "metadata": {},
     "output_type": "display_data"
    }
   ],
   "source": [
    "# Sueldos medianos por ocupaciones y sexos:\n",
    "\n",
    "sns.set_style('whitegrid')\n",
    "fig= plt.figure(figsize=(14,4)) \n",
    "gs = gridspec.GridSpec(1,3, width_ratios=[7,1,1]) \n",
    "fig.suptitle('Sueldos medianos por ocupaciones según sexos',fontsize=16)\n",
    "\n",
    "paleta=sns.color_palette('tab10')\n",
    "\n",
    "ax=plt.subplot(gs[0])\n",
    "sns.scatterplot(data=sueldo_oc,x='ocupacion_index',y='sueldo mensual mediano',\n",
    "                hue='sexo_',palette='tab10',size='total')\n",
    "ax.set_xlabel('Ocupaciones (62 profesiones)')\n",
    "ax.set_ylim(1,2400)\n",
    "ax.set_xlim(sueldo_oc['ocupacion_index'].min()-1,sueldo_oc['ocupacion_index'].max()+1)\n",
    "ax.set_ylabel('Sueldo mensual mediano neto')\n",
    "ax.tick_params(bottom=False,labelbottom=False)\n",
    "handles, labels=ax.get_legend_handles_labels()\n",
    "handles, labels=handles[1:3], labels[1:3]\n",
    "ax.legend(handles=handles,labels=labels)\n",
    "\n",
    "ax=plt.subplot(gs[1])\n",
    "sns.boxplot(data=sueldo_oc_H,y='sueldo mensual mediano',color=paleta.as_hex()[0])\n",
    "ax.set_ylim(1,2400)\n",
    "ax.tick_params(right=False,labelright=False,left=False,labelleft=False)\n",
    "ax.set_ylabel('')\n",
    "\n",
    "ax=plt.subplot(gs[2])\n",
    "sns.boxplot(data=sueldo_oc_M,y='sueldo mensual mediano',color=paleta.as_hex()[1])\n",
    "ax.set_ylim(1,2400)\n",
    "ax.tick_params(right=False,labelright=True,left=False,labelleft=False)\n",
    "ax.set_ylabel('')\n",
    "\n",
    "fig.savefig('img/sueldos_medianos_ocupaciones.png',dpi=400)\n",
    "fig.subplots_adjust(wspace=0.05)\n",
    "plt.show()"
   ]
  },
  {
   "cell_type": "code",
   "execution_count": 66,
   "metadata": {},
   "outputs": [
    {
     "data": {
      "text/html": [
       "<div>\n",
       "<style scoped>\n",
       "    .dataframe tbody tr th:only-of-type {\n",
       "        vertical-align: middle;\n",
       "    }\n",
       "\n",
       "    .dataframe tbody tr th {\n",
       "        vertical-align: top;\n",
       "    }\n",
       "\n",
       "    .dataframe thead th {\n",
       "        text-align: right;\n",
       "    }\n",
       "</style>\n",
       "<table border=\"1\" class=\"dataframe\">\n",
       "  <thead>\n",
       "    <tr style=\"text-align: right;\">\n",
       "      <th></th>\n",
       "      <th>ocupacion</th>\n",
       "      <th>sexo_</th>\n",
       "      <th>total</th>\n",
       "      <th>sueldo mensual mediano</th>\n",
       "      <th>ocupacion_index</th>\n",
       "    </tr>\n",
       "  </thead>\n",
       "  <tbody>\n",
       "    <tr>\n",
       "      <th>6</th>\n",
       "      <td>91.0</td>\n",
       "      <td>Mujer</td>\n",
       "      <td>11</td>\n",
       "      <td>887.500000</td>\n",
       "      <td>2.0</td>\n",
       "    </tr>\n",
       "    <tr>\n",
       "      <th>38</th>\n",
       "      <td>93.0</td>\n",
       "      <td>Mujer</td>\n",
       "      <td>19</td>\n",
       "      <td>1068.181818</td>\n",
       "      <td>7.0</td>\n",
       "    </tr>\n",
       "    <tr>\n",
       "      <th>47</th>\n",
       "      <td>98.0</td>\n",
       "      <td>Mujer</td>\n",
       "      <td>28</td>\n",
       "      <td>1100.000000</td>\n",
       "      <td>9.0</td>\n",
       "    </tr>\n",
       "    <tr>\n",
       "      <th>101</th>\n",
       "      <td>75.0</td>\n",
       "      <td>Mujer</td>\n",
       "      <td>6</td>\n",
       "      <td>1750.000000</td>\n",
       "      <td>38.0</td>\n",
       "    </tr>\n",
       "    <tr>\n",
       "      <th>87</th>\n",
       "      <td>62.0</td>\n",
       "      <td>Mujer</td>\n",
       "      <td>5</td>\n",
       "      <td>1875.000000</td>\n",
       "      <td>39.0</td>\n",
       "    </tr>\n",
       "  </tbody>\n",
       "</table>\n",
       "</div>"
      ],
      "text/plain": [
       "     ocupacion  sexo_  total  sueldo mensual mediano  ocupacion_index\n",
       "6         91.0  Mujer     11              887.500000              2.0\n",
       "38        93.0  Mujer     19             1068.181818              7.0\n",
       "47        98.0  Mujer     28             1100.000000              9.0\n",
       "101       75.0  Mujer      6             1750.000000             38.0\n",
       "87        62.0  Mujer      5             1875.000000             39.0"
      ]
     },
     "execution_count": 66,
     "metadata": {},
     "output_type": "execute_result"
    }
   ],
   "source": [
    "# Excepciones a brecha salarial por ocupación: \n",
    "\n",
    "excepcion_brecha=sueldo_oc.sort_values(by=['sueldo mensual mediano'])\\\n",
    "                          .drop_duplicates(subset=['ocupacion'],keep='last')\n",
    "excepcion_brecha=excepcion_brecha[excepcion_brecha['sexo_']=='Mujer']\n",
    "excepcion_brecha"
   ]
  },
  {
   "cell_type": "code",
   "execution_count": 67,
   "metadata": {},
   "outputs": [],
   "source": [
    "# Diccionario de ocupaciones: \n",
    "D_dicc['ocupacion']=dict(zip(df['ocupacion'].unique(),df['ocupacion_'].unique()))"
   ]
  },
  {
   "cell_type": "code",
   "execution_count": 68,
   "metadata": {},
   "outputs": [
    {
     "data": {
      "text/html": [
       "<div>\n",
       "<style scoped>\n",
       "    .dataframe tbody tr th:only-of-type {\n",
       "        vertical-align: middle;\n",
       "    }\n",
       "\n",
       "    .dataframe tbody tr th {\n",
       "        vertical-align: top;\n",
       "    }\n",
       "\n",
       "    .dataframe thead th {\n",
       "        text-align: right;\n",
       "    }\n",
       "</style>\n",
       "<table border=\"1\" class=\"dataframe\">\n",
       "  <thead>\n",
       "    <tr style=\"text-align: right;\">\n",
       "      <th></th>\n",
       "      <th>ocupacion</th>\n",
       "      <th>sexo_</th>\n",
       "      <th>total</th>\n",
       "      <th>sueldo mensual mediano</th>\n",
       "      <th>ocupacion_index</th>\n",
       "    </tr>\n",
       "  </thead>\n",
       "  <tbody>\n",
       "    <tr>\n",
       "      <th>6</th>\n",
       "      <td>Empleados domésticos</td>\n",
       "      <td>Mujer</td>\n",
       "      <td>11</td>\n",
       "      <td>887.500000</td>\n",
       "      <td>2.0</td>\n",
       "    </tr>\n",
       "    <tr>\n",
       "      <th>38</th>\n",
       "      <td>Ayudantes de preparación de alimentos</td>\n",
       "      <td>Mujer</td>\n",
       "      <td>19</td>\n",
       "      <td>1068.181818</td>\n",
       "      <td>7.0</td>\n",
       "    </tr>\n",
       "    <tr>\n",
       "      <th>47</th>\n",
       "      <td>Peones de transporte, descargadores y reponedores</td>\n",
       "      <td>Mujer</td>\n",
       "      <td>28</td>\n",
       "      <td>1100.000000</td>\n",
       "      <td>9.0</td>\n",
       "    </tr>\n",
       "    <tr>\n",
       "      <th>101</th>\n",
       "      <td>Trabajadores especializados electricidad y electrotecnología</td>\n",
       "      <td>Mujer</td>\n",
       "      <td>6</td>\n",
       "      <td>1750.000000</td>\n",
       "      <td>38.0</td>\n",
       "    </tr>\n",
       "    <tr>\n",
       "      <th>87</th>\n",
       "      <td>Trabajadores cualificados ganadería</td>\n",
       "      <td>Mujer</td>\n",
       "      <td>5</td>\n",
       "      <td>1875.000000</td>\n",
       "      <td>39.0</td>\n",
       "    </tr>\n",
       "  </tbody>\n",
       "</table>\n",
       "</div>"
      ],
      "text/plain": [
       "                                                        ocupacion  sexo_  \\\n",
       "6                                            Empleados domésticos  Mujer   \n",
       "38                          Ayudantes de preparación de alimentos  Mujer   \n",
       "47              Peones de transporte, descargadores y reponedores  Mujer   \n",
       "101  Trabajadores especializados electricidad y electrotecnología  Mujer   \n",
       "87                            Trabajadores cualificados ganadería  Mujer   \n",
       "\n",
       "     total  sueldo mensual mediano  ocupacion_index  \n",
       "6       11              887.500000              2.0  \n",
       "38      19             1068.181818              7.0  \n",
       "47      28             1100.000000              9.0  \n",
       "101      6             1750.000000             38.0  \n",
       "87       5             1875.000000             39.0  "
      ]
     },
     "execution_count": 68,
     "metadata": {},
     "output_type": "execute_result"
    }
   ],
   "source": [
    "excepcion_brecha['ocupacion'].replace(D_dicc['ocupacion'],inplace=True)\n",
    "excepcion_brecha"
   ]
  },
  {
   "cell_type": "markdown",
   "metadata": {},
   "source": [
    "## Sueldos medianos por titulos y sexos"
   ]
  },
  {
   "cell_type": "code",
   "execution_count": 69,
   "metadata": {
    "scrolled": true
   },
   "outputs": [
    {
     "data": {
      "text/html": [
       "<div>\n",
       "<style scoped>\n",
       "    .dataframe tbody tr th:only-of-type {\n",
       "        vertical-align: middle;\n",
       "    }\n",
       "\n",
       "    .dataframe tbody tr th {\n",
       "        vertical-align: top;\n",
       "    }\n",
       "\n",
       "    .dataframe thead th {\n",
       "        text-align: right;\n",
       "    }\n",
       "</style>\n",
       "<table border=\"1\" class=\"dataframe\">\n",
       "  <thead>\n",
       "    <tr style=\"text-align: right;\">\n",
       "      <th></th>\n",
       "      <th>index</th>\n",
       "      <th>titulo_ppal</th>\n",
       "      <th>sueldo mensual mediano</th>\n",
       "    </tr>\n",
       "  </thead>\n",
       "  <tbody>\n",
       "    <tr>\n",
       "      <th>0</th>\n",
       "      <td>0</td>\n",
       "      <td>21301</td>\n",
       "      <td>1079.268293</td>\n",
       "    </tr>\n",
       "    <tr>\n",
       "      <th>1</th>\n",
       "      <td>1</td>\n",
       "      <td>21401</td>\n",
       "      <td>1102.941176</td>\n",
       "    </tr>\n",
       "    <tr>\n",
       "      <th>2</th>\n",
       "      <td>2</td>\n",
       "      <td>22201</td>\n",
       "      <td>1144.736842</td>\n",
       "    </tr>\n",
       "    <tr>\n",
       "      <th>3</th>\n",
       "      <td>3</td>\n",
       "      <td>213</td>\n",
       "      <td>1171.875000</td>\n",
       "    </tr>\n",
       "    <tr>\n",
       "      <th>4</th>\n",
       "      <td>4</td>\n",
       "      <td>91502</td>\n",
       "      <td>1177.419355</td>\n",
       "    </tr>\n",
       "  </tbody>\n",
       "</table>\n",
       "</div>"
      ],
      "text/plain": [
       "   index  titulo_ppal  sueldo mensual mediano\n",
       "0      0        21301             1079.268293\n",
       "1      1        21401             1102.941176\n",
       "2      2        22201             1144.736842\n",
       "3      3          213             1171.875000\n",
       "4      4        91502             1177.419355"
      ]
     },
     "execution_count": 69,
     "metadata": {},
     "output_type": "execute_result"
    }
   ],
   "source": [
    "# Auxiliar para orden de títulos según sueldo mediano sin distinguir por sexos\n",
    "\n",
    "sueldo_tt_medio=sueldo_mediano(data=df_oc,ref=['titulo_ppal'])\n",
    "sueldo_tt_medio.sort_values(by=['sueldo mensual mediano'],inplace=True)\n",
    "sueldo_tt_medio.reset_index(inplace=True,drop=True)\n",
    "sueldo_tt_medio.reset_index(inplace=True,drop=False)\n",
    "sueldo_tt_medio.head()"
   ]
  },
  {
   "cell_type": "code",
   "execution_count": 70,
   "metadata": {},
   "outputs": [],
   "source": [
    "# Diccionario para orden de títulos según sueldo mediano: \n",
    "\n",
    "D_orden_sld_tt=dict(zip(sueldo_tt_medio['titulo_ppal'].unique(),sueldo_tt_medio['index'].unique()))"
   ]
  },
  {
   "cell_type": "code",
   "execution_count": 71,
   "metadata": {},
   "outputs": [
    {
     "data": {
      "text/html": [
       "<div>\n",
       "<style scoped>\n",
       "    .dataframe tbody tr th:only-of-type {\n",
       "        vertical-align: middle;\n",
       "    }\n",
       "\n",
       "    .dataframe tbody tr th {\n",
       "        vertical-align: top;\n",
       "    }\n",
       "\n",
       "    .dataframe thead th {\n",
       "        text-align: right;\n",
       "    }\n",
       "</style>\n",
       "<table border=\"1\" class=\"dataframe\">\n",
       "  <thead>\n",
       "    <tr style=\"text-align: right;\">\n",
       "      <th></th>\n",
       "      <th>titulo_ppal</th>\n",
       "      <th>sexo_</th>\n",
       "      <th>total</th>\n",
       "      <th>sueldo mensual mediano</th>\n",
       "    </tr>\n",
       "  </thead>\n",
       "  <tbody>\n",
       "    <tr>\n",
       "      <th>83</th>\n",
       "      <td>0</td>\n",
       "      <td>Mujer</td>\n",
       "      <td>155</td>\n",
       "      <td>1055.000000</td>\n",
       "    </tr>\n",
       "    <tr>\n",
       "      <th>84</th>\n",
       "      <td>0</td>\n",
       "      <td>Hombre</td>\n",
       "      <td>83</td>\n",
       "      <td>1117.187500</td>\n",
       "    </tr>\n",
       "    <tr>\n",
       "      <th>63</th>\n",
       "      <td>1</td>\n",
       "      <td>Mujer</td>\n",
       "      <td>31</td>\n",
       "      <td>1057.692308</td>\n",
       "    </tr>\n",
       "    <tr>\n",
       "      <th>72</th>\n",
       "      <td>1</td>\n",
       "      <td>Hombre</td>\n",
       "      <td>10</td>\n",
       "      <td>1250.000000</td>\n",
       "    </tr>\n",
       "    <tr>\n",
       "      <th>64</th>\n",
       "      <td>2</td>\n",
       "      <td>Hombre</td>\n",
       "      <td>10</td>\n",
       "      <td>1214.285714</td>\n",
       "    </tr>\n",
       "  </tbody>\n",
       "</table>\n",
       "</div>"
      ],
      "text/plain": [
       "    titulo_ppal   sexo_  total  sueldo mensual mediano\n",
       "83            0   Mujer    155             1055.000000\n",
       "84            0  Hombre     83             1117.187500\n",
       "63            1   Mujer     31             1057.692308\n",
       "72            1  Hombre     10             1250.000000\n",
       "64            2  Hombre     10             1214.285714"
      ]
     },
     "execution_count": 71,
     "metadata": {},
     "output_type": "execute_result"
    }
   ],
   "source": [
    "# Sueldos medianos por títulos y sexos: \n",
    "\n",
    "sueldo_tt=sueldo_mediano(data=df_oc,ref=['titulo_ppal','sexo_'],totales=True)\n",
    "sueldo_tt.sort_values(by=['sueldo mensual mediano'],inplace=True)\n",
    "sueldo_tt['titulo_ppal'].replace(D_orden_sld_tt,inplace=True)\n",
    "sueldo_tt.sort_values(by='titulo_ppal',inplace=True)\n",
    "sueldo_tt.head()"
   ]
  },
  {
   "cell_type": "code",
   "execution_count": 72,
   "metadata": {
    "scrolled": true
   },
   "outputs": [],
   "source": [
    "# Reindex para incorporar frecuencias en boxplot: \n",
    "# Hombres:\n",
    "sueldo_tt_H=sueldo_tt[sueldo_tt['sexo_']=='Hombre']\n",
    "sueldo_tt_H=sueldo_tt_H.reindex(sueldo_tt_H.index.repeat(sueldo_tt_H['total']))\n",
    "# Mujeres:\n",
    "sueldo_tt_M=sueldo_tt[sueldo_tt['sexo_']=='Mujer']\n",
    "sueldo_tt_M=sueldo_tt_M.reindex(sueldo_tt_M.index.repeat(sueldo_tt_M['total']))"
   ]
  },
  {
   "cell_type": "code",
   "execution_count": 73,
   "metadata": {},
   "outputs": [
    {
     "data": {
      "image/png": "[encoded data removed]",
      "text/plain": [
       "<Figure size 1008x288 with 3 Axes>"
      ]
     },
     "metadata": {},
     "output_type": "display_data"
    }
   ],
   "source": [
    "# Sueldos medianos por títulos y sexos:\n",
    "\n",
    "sns.set_style('whitegrid')\n",
    "fig= plt.figure(figsize=(14,4)) \n",
    "gs = gridspec.GridSpec(1,3, width_ratios=[7,1,1]) \n",
    "fig.suptitle('Sueldos medianos por títulos según sexos',fontsize=16)\n",
    "\n",
    "paleta=sns.color_palette('tab10')\n",
    "paleta=paleta.as_hex()[:2]\n",
    "paleta_r=[paleta[1],paleta[0]]\n",
    "\n",
    "ax=plt.subplot(gs[0])\n",
    "sns.scatterplot(data=sueldo_tt,x='titulo_ppal',y='sueldo mensual mediano',hue='sexo_', size='total',\n",
    "                palette=paleta_r)\n",
    "ax.set_xlabel('Títulos')\n",
    "ax.set_xlim(sueldo_tt['titulo_ppal'].min()-1,sueldo_tt['titulo_ppal'].max()+1)\n",
    "ax.set_ylim(1,3200)\n",
    "ax.set_ylabel('Sueldo mensual mediano neto')\n",
    "ax.tick_params(bottom=False,labelbottom=False)\n",
    "handles, labels=ax.get_legend_handles_labels()\n",
    "handles, labels=handles[1:3], labels[1:3]\n",
    "ax.legend(handles=handles,labels=labels)\n",
    "\n",
    "ax=plt.subplot(gs[1])\n",
    "sns.boxplot(data=sueldo_tt_H,y='sueldo mensual mediano',color=paleta[0])\n",
    "ax.set_ylim(1,3200)\n",
    "ax.tick_params(right=False,labelright=False,left=False,labelleft=False)\n",
    "ax.set_ylabel('')\n",
    "\n",
    "ax=plt.subplot(gs[2])\n",
    "sns.boxplot(data=sueldo_tt_M,y='sueldo mensual mediano',color=paleta[1])\n",
    "ax.set_ylim(1,3200)\n",
    "ax.tick_params(right=False,labelright=True,left=False,labelleft=False)\n",
    "ax.set_ylabel('')\n",
    "\n",
    "fig.savefig('img/sueldos_medianos_titulos.png',dpi=400)\n",
    "fig.subplots_adjust(wspace=0.05)\n",
    "plt.show()"
   ]
  },
  {
   "cell_type": "markdown",
   "metadata": {},
   "source": [
    "## Sueldos medianos por titulos, ocupaciones y sexos"
   ]
  },
  {
   "cell_type": "code",
   "execution_count": 74,
   "metadata": {},
   "outputs": [],
   "source": [
    "def lista_primos(n):\n",
    "    \"\"\"Devuelve una lista con los n primeros números primos\n",
    "    \"\"\"\n",
    "    \n",
    "    import numpy as np\n",
    "    \n",
    "    lista=[2,3]\n",
    "    candidato=3\n",
    "    while len(lista)<n:\n",
    "        candidato=candidato+2\n",
    "        prueba=0\n",
    "        for divisor in [primo for primo in lista if primo<=np.sqrt(candidato)]:\n",
    "            max_pruebas=len([primo for primo in lista if primo<=np.sqrt(candidato)])\n",
    "            prueba=prueba+1\n",
    "            if candidato%divisor==0: \n",
    "                break\n",
    "            if prueba==max_pruebas: \n",
    "                lista.append(candidato)\n",
    "        \n",
    "    return lista[:n]"
   ]
  },
  {
   "cell_type": "code",
   "execution_count": 75,
   "metadata": {
    "scrolled": false
   },
   "outputs": [
    {
     "data": {
      "text/html": [
       "<div>\n",
       "<style scoped>\n",
       "    .dataframe tbody tr th:only-of-type {\n",
       "        vertical-align: middle;\n",
       "    }\n",
       "\n",
       "    .dataframe tbody tr th {\n",
       "        vertical-align: top;\n",
       "    }\n",
       "\n",
       "    .dataframe thead th {\n",
       "        text-align: right;\n",
       "    }\n",
       "</style>\n",
       "<table border=\"1\" class=\"dataframe\">\n",
       "  <thead>\n",
       "    <tr style=\"text-align: right;\">\n",
       "      <th></th>\n",
       "      <th>index</th>\n",
       "      <th>titulo_ppal</th>\n",
       "      <th>ocupacion</th>\n",
       "      <th>total</th>\n",
       "      <th>sueldo mensual mediano</th>\n",
       "      <th>tt_oc</th>\n",
       "    </tr>\n",
       "  </thead>\n",
       "  <tbody>\n",
       "    <tr>\n",
       "      <th>1193</th>\n",
       "      <td>1193</td>\n",
       "      <td>587</td>\n",
       "      <td>1283.0</td>\n",
       "      <td>5</td>\n",
       "      <td>3166.666667</td>\n",
       "      <td>753121.0</td>\n",
       "    </tr>\n",
       "    <tr>\n",
       "      <th>1194</th>\n",
       "      <td>1194</td>\n",
       "      <td>193</td>\n",
       "      <td>1361.0</td>\n",
       "      <td>9</td>\n",
       "      <td>3250.000000</td>\n",
       "      <td>262673.0</td>\n",
       "    </tr>\n",
       "    <tr>\n",
       "      <th>1195</th>\n",
       "      <td>1195</td>\n",
       "      <td>751</td>\n",
       "      <td>1283.0</td>\n",
       "      <td>8</td>\n",
       "      <td>3333.333333</td>\n",
       "      <td>963533.0</td>\n",
       "    </tr>\n",
       "    <tr>\n",
       "      <th>1196</th>\n",
       "      <td>1196</td>\n",
       "      <td>929</td>\n",
       "      <td>1303.0</td>\n",
       "      <td>5</td>\n",
       "      <td>3375.000000</td>\n",
       "      <td>1210487.0</td>\n",
       "    </tr>\n",
       "    <tr>\n",
       "      <th>1197</th>\n",
       "      <td>1197</td>\n",
       "      <td>991</td>\n",
       "      <td>1303.0</td>\n",
       "      <td>5</td>\n",
       "      <td>3375.000000</td>\n",
       "      <td>1291273.0</td>\n",
       "    </tr>\n",
       "  </tbody>\n",
       "</table>\n",
       "</div>"
      ],
      "text/plain": [
       "      index  titulo_ppal  ocupacion  total  sueldo mensual mediano      tt_oc\n",
       "1193   1193          587     1283.0      5             3166.666667   753121.0\n",
       "1194   1194          193     1361.0      9             3250.000000   262673.0\n",
       "1195   1195          751     1283.0      8             3333.333333   963533.0\n",
       "1196   1196          929     1303.0      5             3375.000000  1210487.0\n",
       "1197   1197          991     1303.0      5             3375.000000  1291273.0"
      ]
     },
     "execution_count": 75,
     "metadata": {},
     "output_type": "execute_result"
    }
   ],
   "source": [
    "# Auxiliar para orden de títulos y ocupaciones según sueldo mediano sin distinguir por sexos\n",
    "\n",
    "sueldo_tt_oc_medio=sueldo_mediano(data=df_oc,ref=['titulo_ppal','ocupacion'],totales=True)\n",
    "sueldo_tt_oc_medio.sort_values(by=['sueldo mensual mediano'],inplace=True)\n",
    "\n",
    "# Al menos un número n_min de observaciones: \n",
    "n_min=5\n",
    "sueldo_tt_oc_medio=sueldo_tt_oc_medio[sueldo_tt_oc_medio['total']>=n_min]\n",
    "\n",
    "sueldo_tt_oc_medio.reset_index(inplace=True,drop=True)\n",
    "sueldo_tt_oc_medio.reset_index(inplace=True,drop=False)\n",
    "\n",
    "# Se remplazan los códigos de titulo y de ocupación por números primos:\n",
    "# (evita productos repetidos al crear códigos de titulo y ocupación combinados)\n",
    "\n",
    "lista_primos_tt=lista_primos(sueldo_tt_oc_medio['titulo_ppal'].nunique())\n",
    "D_tt_primos=dict(zip(sueldo_tt_oc_medio['titulo_ppal'].unique(),lista_primos_tt))\n",
    "sueldo_tt_oc_medio['titulo_ppal'].replace(D_tt_primos,inplace=True)\n",
    "\n",
    "# Códigos primos par ocupación a partir del último asignado a titulos: \n",
    "lista_primos_oc=lista_primos(sueldo_tt_oc_medio['titulo_ppal'].nunique()\n",
    "                             +sueldo_tt_oc_medio['ocupacion'].nunique())\\\n",
    "                            [sueldo_tt_oc_medio['titulo_ppal'].nunique():]\n",
    "D_oc_primos=dict(zip(sueldo_tt_oc_medio['ocupacion'].unique(),lista_primos_oc))\n",
    "sueldo_tt_oc_medio['ocupacion'].replace(D_oc_primos,inplace=True)\n",
    "\n",
    "# Se crean códigos de título y ocupación combinados (para orden de sueldos)\n",
    "sueldo_tt_oc_medio['tt_oc']=sueldo_tt_oc_medio['titulo_ppal']*sueldo_tt_oc_medio['ocupacion']\n",
    "sueldo_tt_oc_medio.tail()"
   ]
  },
  {
   "cell_type": "code",
   "execution_count": 76,
   "metadata": {},
   "outputs": [
    {
     "data": {
      "text/plain": [
       "1198"
      ]
     },
     "execution_count": 76,
     "metadata": {},
     "output_type": "execute_result"
    }
   ],
   "source": [
    "# Comprobación (no hay códigos de título y ocupación repetidos)\n",
    "sueldo_tt_oc_medio['tt_oc'].nunique() "
   ]
  },
  {
   "cell_type": "code",
   "execution_count": 77,
   "metadata": {},
   "outputs": [],
   "source": [
    "# Diccionario para orden de títulos y ocupaciones (columna 'tt_oc') según sueldo mediano: \n",
    "\n",
    "D_orden_sld_tt_oc=dict(zip(sueldo_tt_oc_medio['tt_oc'].unique(),sueldo_tt_oc_medio['index'].unique()))"
   ]
  },
  {
   "cell_type": "code",
   "execution_count": 78,
   "metadata": {},
   "outputs": [
    {
     "data": {
      "text/html": [
       "<div>\n",
       "<style scoped>\n",
       "    .dataframe tbody tr th:only-of-type {\n",
       "        vertical-align: middle;\n",
       "    }\n",
       "\n",
       "    .dataframe tbody tr th {\n",
       "        vertical-align: top;\n",
       "    }\n",
       "\n",
       "    .dataframe thead th {\n",
       "        text-align: right;\n",
       "    }\n",
       "</style>\n",
       "<table border=\"1\" class=\"dataframe\">\n",
       "  <thead>\n",
       "    <tr style=\"text-align: right;\">\n",
       "      <th></th>\n",
       "      <th>titulo_ppal</th>\n",
       "      <th>ocupacion</th>\n",
       "      <th>sexo_</th>\n",
       "      <th>total</th>\n",
       "      <th>sueldo mensual mediano</th>\n",
       "      <th>tt_oc</th>\n",
       "    </tr>\n",
       "  </thead>\n",
       "  <tbody>\n",
       "    <tr>\n",
       "      <th>26</th>\n",
       "      <td>2</td>\n",
       "      <td>1033.0</td>\n",
       "      <td>Mujer</td>\n",
       "      <td>3</td>\n",
       "      <td>350.0</td>\n",
       "      <td>0.0</td>\n",
       "    </tr>\n",
       "    <tr>\n",
       "      <th>8</th>\n",
       "      <td>2</td>\n",
       "      <td>1033.0</td>\n",
       "      <td>Hombre</td>\n",
       "      <td>2</td>\n",
       "      <td>350.0</td>\n",
       "      <td>0.0</td>\n",
       "    </tr>\n",
       "    <tr>\n",
       "      <th>232</th>\n",
       "      <td>3</td>\n",
       "      <td>1039.0</td>\n",
       "      <td>Hombre</td>\n",
       "      <td>2</td>\n",
       "      <td>700.0</td>\n",
       "      <td>1.0</td>\n",
       "    </tr>\n",
       "    <tr>\n",
       "      <th>173</th>\n",
       "      <td>3</td>\n",
       "      <td>1039.0</td>\n",
       "      <td>Mujer</td>\n",
       "      <td>3</td>\n",
       "      <td>350.0</td>\n",
       "      <td>1.0</td>\n",
       "    </tr>\n",
       "    <tr>\n",
       "      <th>113</th>\n",
       "      <td>5</td>\n",
       "      <td>1049.0</td>\n",
       "      <td>Hombre</td>\n",
       "      <td>2</td>\n",
       "      <td>350.0</td>\n",
       "      <td>2.0</td>\n",
       "    </tr>\n",
       "    <tr>\n",
       "      <th>...</th>\n",
       "      <td>...</td>\n",
       "      <td>...</td>\n",
       "      <td>...</td>\n",
       "      <td>...</td>\n",
       "      <td>...</td>\n",
       "      <td>...</td>\n",
       "    </tr>\n",
       "    <tr>\n",
       "      <th>5405</th>\n",
       "      <td>983</td>\n",
       "      <td>1361.0</td>\n",
       "      <td>Hombre</td>\n",
       "      <td>1</td>\n",
       "      <td>2250.0</td>\n",
       "      <td>1337863.0</td>\n",
       "    </tr>\n",
       "    <tr>\n",
       "      <th>1289</th>\n",
       "      <td>1019</td>\n",
       "      <td>1319.0</td>\n",
       "      <td>Mujer</td>\n",
       "      <td>1</td>\n",
       "      <td>1250.0</td>\n",
       "      <td>1344061.0</td>\n",
       "    </tr>\n",
       "    <tr>\n",
       "      <th>5855</th>\n",
       "      <td>991</td>\n",
       "      <td>1361.0</td>\n",
       "      <td>Hombre</td>\n",
       "      <td>1</td>\n",
       "      <td>2750.0</td>\n",
       "      <td>1348751.0</td>\n",
       "    </tr>\n",
       "    <tr>\n",
       "      <th>1888</th>\n",
       "      <td>997</td>\n",
       "      <td>1361.0</td>\n",
       "      <td>Hombre</td>\n",
       "      <td>1</td>\n",
       "      <td>1250.0</td>\n",
       "      <td>1356917.0</td>\n",
       "    </tr>\n",
       "    <tr>\n",
       "      <th>1977</th>\n",
       "      <td>1031</td>\n",
       "      <td>1361.0</td>\n",
       "      <td>Mujer</td>\n",
       "      <td>1</td>\n",
       "      <td>1250.0</td>\n",
       "      <td>1403191.0</td>\n",
       "    </tr>\n",
       "  </tbody>\n",
       "</table>\n",
       "<p>6180 rows × 6 columns</p>\n",
       "</div>"
      ],
      "text/plain": [
       "      titulo_ppal  ocupacion   sexo_  total  sueldo mensual mediano      tt_oc\n",
       "26              2     1033.0   Mujer      3                   350.0        0.0\n",
       "8               2     1033.0  Hombre      2                   350.0        0.0\n",
       "232             3     1039.0  Hombre      2                   700.0        1.0\n",
       "173             3     1039.0   Mujer      3                   350.0        1.0\n",
       "113             5     1049.0  Hombre      2                   350.0        2.0\n",
       "...           ...        ...     ...    ...                     ...        ...\n",
       "5405          983     1361.0  Hombre      1                  2250.0  1337863.0\n",
       "1289         1019     1319.0   Mujer      1                  1250.0  1344061.0\n",
       "5855          991     1361.0  Hombre      1                  2750.0  1348751.0\n",
       "1888          997     1361.0  Hombre      1                  1250.0  1356917.0\n",
       "1977         1031     1361.0   Mujer      1                  1250.0  1403191.0\n",
       "\n",
       "[6180 rows x 6 columns]"
      ]
     },
     "execution_count": 78,
     "metadata": {},
     "output_type": "execute_result"
    }
   ],
   "source": [
    "# Sueldos medianos por títulos y sexos: \n",
    "\n",
    "sueldo_tt_oc=sueldo_mediano(data=df_oc,ref=['titulo_ppal','ocupacion','sexo_'],totales=True)\n",
    "sueldo_tt_oc.sort_values(by=['sueldo mensual mediano'],inplace=True)\n",
    "\n",
    "# Recodificación títulos: \n",
    "sueldo_tt_oc['titulo_ppal'].replace(D_tt_primos,inplace=True)\n",
    "\n",
    "# Recodificación ocupaciones: \n",
    "sueldo_tt_oc['ocupacion'].replace(D_oc_primos,inplace=True)\n",
    "\n",
    "# Recodificación títulos y ocupaciones combinados: \n",
    "sueldo_tt_oc['tt_oc']=sueldo_tt_oc['titulo_ppal']*sueldo_tt_oc['ocupacion']\n",
    "sueldo_tt_oc['tt_oc'].replace(D_orden_sld_tt_oc,inplace=True)\n",
    "sueldo_tt_oc.sort_values(by='tt_oc',inplace=True)\n",
    "sueldo_tt_oc"
   ]
  },
  {
   "cell_type": "code",
   "execution_count": 79,
   "metadata": {},
   "outputs": [],
   "source": [
    "# Al menos n_min observaciones para cada sexo: \n",
    "sueldo_tt_oc=sueldo_tt_oc[sueldo_tt_oc['total']>=n_min]"
   ]
  },
  {
   "cell_type": "code",
   "execution_count": 80,
   "metadata": {
    "scrolled": true
   },
   "outputs": [],
   "source": [
    "# Reindex para incorporar frecuencias en boxplot: \n",
    "# Hombres:\n",
    "sueldo_tt_oc_H=sueldo_tt_oc[sueldo_tt_oc['sexo_']=='Hombre']\n",
    "sueldo_tt_oc_H=sueldo_tt_oc_H.reindex(sueldo_tt_oc_H.index.repeat(sueldo_tt_oc_H['total']))\n",
    "# Mujeres:\n",
    "sueldo_tt_oc_M=sueldo_tt_oc[sueldo_tt_oc['sexo_']=='Mujer']\n",
    "sueldo_tt_oc_M=sueldo_tt_oc_M.reindex(sueldo_tt_oc_M.index.repeat(sueldo_tt_oc_M['total']))"
   ]
  },
  {
   "cell_type": "code",
   "execution_count": 81,
   "metadata": {},
   "outputs": [
    {
     "data": {
      "image/png": "[encoded data removed]",
      "text/plain": [
       "<Figure size 1008x432 with 3 Axes>"
      ]
     },
     "metadata": {},
     "output_type": "display_data"
    }
   ],
   "source": [
    "# Sueldos medianos por títulos y sexos:\n",
    "\n",
    "sns.set_style('whitegrid')\n",
    "fig= plt.figure(figsize=(14,6)) \n",
    "gs = gridspec.GridSpec(1,3, width_ratios=[15,1,1]) \n",
    "fig.suptitle('Sueldos medianos por títulos y ocupaciones según sexos',fontsize=16)\n",
    "\n",
    "paleta=sns.color_palette('tab10')\n",
    "paleta_r=[paleta[1],paleta[0]]\n",
    "\n",
    "ax=plt.subplot(gs[0])\n",
    "sns.scatterplot(data=sueldo_tt_oc,x='tt_oc',y='sueldo mensual mediano',hue='sexo_',palette=paleta_r,size='total')\n",
    "sns.lineplot(data=sueldo_tt_oc_medio,x=sueldo_tt_oc_medio.index,y='sueldo mensual mediano',\n",
    "             color=paleta[3],label='Sueldo mediano sin distinción por sexos')\n",
    "x_label='Combinaciones observadas de títulos y ocupaciones\\n\\\n",
    "(con al menos 5 observaciones)'\n",
    "ax.set_xlabel(x_label)\n",
    "ax.set_ylim(1,3500)\n",
    "ax.set_xlim(sueldo_tt_oc['tt_oc'].min()-5,sueldo_tt_oc['tt_oc'].max()+5)\n",
    "ax.set_ylabel('Sueldo mensual mediano neto')\n",
    "ax.tick_params(bottom=False,labelbottom=False)\n",
    "ax.legend(loc='upper left',ncol=3)\n",
    "handles, labels=ax.get_legend_handles_labels()\n",
    "handles, labels=[handles[0]]+handles[2:4], [labels[0]]+labels[2:4]\n",
    "ax.legend(handles=handles,labels=labels,loc='upper left')\n",
    "\n",
    "ax=plt.subplot(gs[1])\n",
    "sns.boxplot(data=sueldo_tt_oc_H,y='sueldo mensual mediano',color=paleta[0])\n",
    "ax.set_ylim(1,3500)\n",
    "ax.tick_params(right=False,labelright=False,left=False,labelleft=False)\n",
    "ax.set_ylabel('')\n",
    "\n",
    "ax=plt.subplot(gs[2])\n",
    "sns.boxplot(data=sueldo_tt_oc_M,y='sueldo mensual mediano',color=paleta[1])\n",
    "ax.set_ylim(1,3500)\n",
    "ax.tick_params(right=False,labelright=True,left=False,labelleft=False)\n",
    "ax.set_ylabel('')\n",
    "\n",
    "fig.savefig('img/sueldos_medianos_titulos_ocupaciones.png',dpi=400)\n",
    "fig.subplots_adjust(wspace=0.05)\n",
    "plt.show()"
   ]
  },
  {
   "cell_type": "markdown",
   "metadata": {},
   "source": [
    "## Jornada laboral según sexos"
   ]
  },
  {
   "cell_type": "code",
   "execution_count": 82,
   "metadata": {},
   "outputs": [
    {
     "data": {
      "text/html": [
       "<div>\n",
       "<style scoped>\n",
       "    .dataframe tbody tr th:only-of-type {\n",
       "        vertical-align: middle;\n",
       "    }\n",
       "\n",
       "    .dataframe tbody tr th {\n",
       "        vertical-align: top;\n",
       "    }\n",
       "\n",
       "    .dataframe thead th {\n",
       "        text-align: right;\n",
       "    }\n",
       "</style>\n",
       "<table border=\"1\" class=\"dataframe\">\n",
       "  <thead>\n",
       "    <tr style=\"text-align: right;\">\n",
       "      <th></th>\n",
       "      <th>sexo_</th>\n",
       "      <th>jornada_</th>\n",
       "      <th>total</th>\n",
       "      <th>fr</th>\n",
       "    </tr>\n",
       "  </thead>\n",
       "  <tbody>\n",
       "    <tr>\n",
       "      <th>0</th>\n",
       "      <td>Hombre</td>\n",
       "      <td>A tiempo completo</td>\n",
       "      <td>25983</td>\n",
       "      <td>87.888235</td>\n",
       "    </tr>\n",
       "    <tr>\n",
       "      <th>1</th>\n",
       "      <td>Mujer</td>\n",
       "      <td>A tiempo completo</td>\n",
       "      <td>33751</td>\n",
       "      <td>78.406566</td>\n",
       "    </tr>\n",
       "    <tr>\n",
       "      <th>2</th>\n",
       "      <td>Mujer</td>\n",
       "      <td>A tiempo parcial</td>\n",
       "      <td>33751</td>\n",
       "      <td>21.593434</td>\n",
       "    </tr>\n",
       "    <tr>\n",
       "      <th>3</th>\n",
       "      <td>Hombre</td>\n",
       "      <td>A tiempo parcial</td>\n",
       "      <td>25983</td>\n",
       "      <td>12.111765</td>\n",
       "    </tr>\n",
       "  </tbody>\n",
       "</table>\n",
       "</div>"
      ],
      "text/plain": [
       "    sexo_           jornada_  total         fr\n",
       "0  Hombre  A tiempo completo  25983  87.888235\n",
       "1   Mujer  A tiempo completo  33751  78.406566\n",
       "2   Mujer   A tiempo parcial  33751  21.593434\n",
       "3  Hombre   A tiempo parcial  25983  12.111765"
      ]
     },
     "execution_count": 82,
     "metadata": {},
     "output_type": "execute_result"
    }
   ],
   "source": [
    "# Jornada laboral por sexos: \n",
    "jornada=df_histograma(df_oc,ref='sexo_',criterio='jornada_')\n",
    "jornada"
   ]
  },
  {
   "cell_type": "code",
   "execution_count": 83,
   "metadata": {
    "scrolled": true
   },
   "outputs": [
    {
     "data": {
      "image/png": "[encoded data removed]",
      "text/plain": [
       "<Figure size 648x288 with 1 Axes>"
      ]
     },
     "metadata": {},
     "output_type": "display_data"
    }
   ],
   "source": [
    "# Jornada laboral por sexos: \n",
    "\n",
    "sns.set_style('whitegrid')\n",
    "fig, ax = plt.subplots(1,figsize=(9,4))\n",
    "\n",
    "sns.barplot(data=jornada,x='sexo_',y='fr',hue='jornada_',palette='Paired')\n",
    "ax.set_xlabel('')\n",
    "ax.set_ylim(0,99)\n",
    "ax.set_ylabel('Frecuencia relativa')\n",
    "ax.set_title('Jornada laboral según sexos',fontsize=16)\n",
    "ax.legend()\n",
    "\n",
    "fig.savefig('img/jornada_laboral_sexos.png',dpi=400)\n",
    "sns.despine(right=True,left=True,top=True)\n",
    "plt.show()"
   ]
  },
  {
   "cell_type": "code",
   "execution_count": null,
   "metadata": {},
   "outputs": [],
   "source": []
  },
  {
   "cell_type": "code",
   "execution_count": null,
   "metadata": {},
   "outputs": [],
   "source": []
  },
  {
   "cell_type": "code",
   "execution_count": null,
   "metadata": {},
   "outputs": [],
   "source": []
  },
  {
   "cell_type": "code",
   "execution_count": null,
   "metadata": {},
   "outputs": [],
   "source": []
  },
  {
   "cell_type": "code",
   "execution_count": null,
   "metadata": {},
   "outputs": [],
   "source": []
  },
  {
   "cell_type": "code",
   "execution_count": null,
   "metadata": {},
   "outputs": [],
   "source": []
  },
  {
   "cell_type": "code",
   "execution_count": null,
   "metadata": {},
   "outputs": [],
   "source": []
  },
  {
   "cell_type": "code",
   "execution_count": null,
   "metadata": {},
   "outputs": [],
   "source": []
  }
 ],
 "metadata": {
  "kernelspec": {
   "display_name": "Python 3",
   "language": "python",
   "name": "python3"
  },
  "language_info": {
   "codemirror_mode": {
    "name": "ipython",
    "version": 3
   },
   "file_extension": ".py",
   "mimetype": "text/x-python",
   "name": "python",
   "nbconvert_exporter": "python",
   "pygments_lexer": "ipython3",
   "version": "3.6.9"
  }
 },
 "nbformat": 4,
 "nbformat_minor": 4
}
