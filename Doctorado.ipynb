{
 "cells": [
  {
   "cell_type": "code",
   "execution_count": 150,
   "metadata": {},
   "outputs": [],
   "source": [
    "import pandas as pd\n",
    "import numpy as np\n",
    "pd.options.display.max_columns=None\n",
    "pd.options.display.max_colwidth=300\n",
    "import xlrd"
   ]
  },
  {
   "cell_type": "markdown",
   "metadata": {},
   "source": [
    "### Loading the data\n",
    "Dataset cargado en el DataFrame df_raw: todas las columnas aparecen en un único string.  \n",
    "Las instrucciones para separar los datos en columnas están recogidas en el fichero disreg_recurciencia.xls. Las columnas relevantes para asignar nombres a las variables y establecer los caracteres correspondientes se cargan en el Dataframe df_aux. "
   ]
  },
  {
   "cell_type": "code",
   "execution_count": 337,
   "metadata": {},
   "outputs": [
    {
     "data": {
      "text/html": [
       "<div>\n",
       "<style scoped>\n",
       "    .dataframe tbody tr th:only-of-type {\n",
       "        vertical-align: middle;\n",
       "    }\n",
       "\n",
       "    .dataframe tbody tr th {\n",
       "        vertical-align: top;\n",
       "    }\n",
       "\n",
       "    .dataframe thead th {\n",
       "        text-align: right;\n",
       "    }\n",
       "</style>\n",
       "<table border=\"1\" class=\"dataframe\">\n",
       "  <thead>\n",
       "    <tr style=\"text-align: right;\">\n",
       "      <th></th>\n",
       "      <th>string</th>\n",
       "    </tr>\n",
       "  </thead>\n",
       "  <tbody>\n",
       "    <tr>\n",
       "      <th>0</th>\n",
       "      <td>01000416196516EU271EU27NNNNNNNN21 0 2 07 8 122222211612NN 0NN 013031111992 9 311EU27198810 . .1418147200016EU271226 1 1 33311111432111110 NNN . .0          .  .  .                      NMOV   .   .  .NMOV   .   .  .NMOV   .   .  .NMOV   .   .  .NMOV   .   .  .NMOV   .   .  .NMOV   .   .  .      ...</td>\n",
       "    </tr>\n",
       "    <tr>\n",
       "      <th>1</th>\n",
       "      <td>01000616197213EU271EU27NNNNNNNN21 0 0 08 7 151N33111612NN 0NN 01104110200011 211EU27199511 0 02 .  NN   .NNNNNN NNN                       NNN . .           .  .  . 111111 1 1           NMOV   .   .  .NMOV   .   .  .NMOV   .   .  .NMOV   .   .  .NMOV   .   .  .NMOV   .   .  .NMOV   .   .  .      ...</td>\n",
       "    </tr>\n",
       "    <tr>\n",
       "      <th>2</th>\n",
       "      <td>01000716196816EU271EU27NNNNNNNN21 1 1 02 2 155N11111612NN 0NN 015041102001 6 9 2EU27199161 1 11405185200517EU27223124 1 22122111212111110 NNN . .0          .  .  .                      NMOV   .   .  .NMOV   .   .  .NMOV   .   .  .NMOV   .   .  .NMOV   .   .  .NMOV   .   .  .NMOV   .   .  .      ...</td>\n",
       "    </tr>\n",
       "    <tr>\n",
       "      <th>3</th>\n",
       "      <td>01000816196916EU271EU27NNNNNNNN26 0 2 03 3 127912111612NN 0NN 012070112002 2 8 5EU27199361 0 11376085199616EU2732314311 22112111112111110 NNN . .0          .  .  .                      EU2720062009 48EU2720052005  7EU2720002005 65NMOV   .   .  .NMOV   .   .  .NMOV   .   .  .NMOV   .   .  .   1  ...</td>\n",
       "    </tr>\n",
       "    <tr>\n",
       "      <th>4</th>\n",
       "      <td>01000916197516EU271EU27NNNNNNNN21 0 0 04 3 157N22211612NN 0NN 013031002002 6 4 0EU27199810 . .1408021200216EU271226 211 33222222211222220 NNN . .0          .  .  .                      NMOV   .   .  .NMOV   .   .  .NMOV   .   .  .NMOV   .   .  .NMOV   .   .  .NMOV   .   .  .NMOV   .   .  .      ...</td>\n",
       "    </tr>\n",
       "  </tbody>\n",
       "</table>\n",
       "</div>"
      ],
      "text/plain": [
       "                                                                                                                                                                                                                                                                                                        string\n",
       "0  01000416196516EU271EU27NNNNNNNN21 0 2 07 8 122222211612NN 0NN 013031111992 9 311EU27198810 . .1418147200016EU271226 1 1 33311111432111110 NNN . .0          .  .  .                      NMOV   .   .  .NMOV   .   .  .NMOV   .   .  .NMOV   .   .  .NMOV   .   .  .NMOV   .   .  .NMOV   .   .  .      ...\n",
       "1  01000616197213EU271EU27NNNNNNNN21 0 0 08 7 151N33111612NN 0NN 01104110200011 211EU27199511 0 02 .  NN   .NNNNNN NNN                       NNN . .           .  .  . 111111 1 1           NMOV   .   .  .NMOV   .   .  .NMOV   .   .  .NMOV   .   .  .NMOV   .   .  .NMOV   .   .  .NMOV   .   .  .      ...\n",
       "2  01000716196816EU271EU27NNNNNNNN21 1 1 02 2 155N11111612NN 0NN 015041102001 6 9 2EU27199161 1 11405185200517EU27223124 1 22122111212111110 NNN . .0          .  .  .                      NMOV   .   .  .NMOV   .   .  .NMOV   .   .  .NMOV   .   .  .NMOV   .   .  .NMOV   .   .  .NMOV   .   .  .      ...\n",
       "3  01000816196916EU271EU27NNNNNNNN26 0 2 03 3 127912111612NN 0NN 012070112002 2 8 5EU27199361 0 11376085199616EU2732314311 22112111112111110 NNN . .0          .  .  .                      EU2720062009 48EU2720052005  7EU2720002005 65NMOV   .   .  .NMOV   .   .  .NMOV   .   .  .NMOV   .   .  .   1  ...\n",
       "4  01000916197516EU271EU27NNNNNNNN21 0 0 04 3 157N22211612NN 0NN 013031002002 6 4 0EU27199810 . .1408021200216EU271226 211 33222222211222220 NNN . .0          .  .  .                      NMOV   .   .  .NMOV   .   .  .NMOV   .   .  .NMOV   .   .  .NMOV   .   .  .NMOV   .   .  .NMOV   .   .  .      ..."
      ]
     },
     "execution_count": 337,
     "metadata": {},
     "output_type": "execute_result"
    }
   ],
   "source": [
    "df_raw=pd.read_csv('/home/bea/Escritorio/Encuesta_RRHH_Ciencia_Tecnología/RRHH09.txt',header=0,names=['string'])\n",
    "df_raw.head()"
   ]
  },
  {
   "cell_type": "code",
   "execution_count": 338,
   "metadata": {},
   "outputs": [],
   "source": [
    "df_aux=pd.read_excel('/home/bea/Escritorio/Encuesta_RRHH_Ciencia_Tecnología/disreg_recurciencia.xls',\n",
    "                    sheet_name='RRHH09',skiprows=2,usecols=['Nemotécnico','Fin'],skipfooter=6)\n",
    "df_aux.rename(columns={'Nemotécnico':'Col_name'},inplace=True) # Columna de nombres de las variables de df_raw\n",
    "df_aux['Fin']=df_aux['Fin'].astype('int') # Columna de último caracter correspondiente a cada variable (numerados desde 1)"
   ]
  },
  {
   "cell_type": "code",
   "execution_count": 339,
   "metadata": {},
   "outputs": [
    {
     "data": {
      "text/html": [
       "<div>\n",
       "<style scoped>\n",
       "    .dataframe tbody tr th:only-of-type {\n",
       "        vertical-align: middle;\n",
       "    }\n",
       "\n",
       "    .dataframe tbody tr th {\n",
       "        vertical-align: top;\n",
       "    }\n",
       "\n",
       "    .dataframe thead th {\n",
       "        text-align: right;\n",
       "    }\n",
       "</style>\n",
       "<table border=\"1\" class=\"dataframe\">\n",
       "  <thead>\n",
       "    <tr style=\"text-align: right;\">\n",
       "      <th></th>\n",
       "      <th>Col_name</th>\n",
       "      <th>Fin</th>\n",
       "    </tr>\n",
       "  </thead>\n",
       "  <tbody>\n",
       "    <tr>\n",
       "      <th>0</th>\n",
       "      <td>MUIDENT</td>\n",
       "      <td>6</td>\n",
       "    </tr>\n",
       "    <tr>\n",
       "      <th>1</th>\n",
       "      <td>CCAARESI</td>\n",
       "      <td>8</td>\n",
       "    </tr>\n",
       "    <tr>\n",
       "      <th>2</th>\n",
       "      <td>ANONAC</td>\n",
       "      <td>12</td>\n",
       "    </tr>\n",
       "    <tr>\n",
       "      <th>3</th>\n",
       "      <td>CCAANAC</td>\n",
       "      <td>14</td>\n",
       "    </tr>\n",
       "    <tr>\n",
       "      <th>4</th>\n",
       "      <td>CONTNACIM</td>\n",
       "      <td>18</td>\n",
       "    </tr>\n",
       "  </tbody>\n",
       "</table>\n",
       "</div>"
      ],
      "text/plain": [
       "    Col_name  Fin\n",
       "0    MUIDENT    6\n",
       "1   CCAARESI    8\n",
       "2     ANONAC   12\n",
       "3    CCAANAC   14\n",
       "4  CONTNACIM   18"
      ]
     },
     "execution_count": 339,
     "metadata": {},
     "output_type": "execute_result"
    }
   ],
   "source": [
    "df_aux.head()"
   ]
  },
  {
   "cell_type": "code",
   "execution_count": 340,
   "metadata": {},
   "outputs": [
    {
     "data": {
      "text/html": [
       "<div>\n",
       "<style scoped>\n",
       "    .dataframe tbody tr th:only-of-type {\n",
       "        vertical-align: middle;\n",
       "    }\n",
       "\n",
       "    .dataframe tbody tr th {\n",
       "        vertical-align: top;\n",
       "    }\n",
       "\n",
       "    .dataframe thead th {\n",
       "        text-align: right;\n",
       "    }\n",
       "</style>\n",
       "<table border=\"1\" class=\"dataframe\">\n",
       "  <thead>\n",
       "    <tr style=\"text-align: right;\">\n",
       "      <th></th>\n",
       "      <th>Col_name</th>\n",
       "      <th>Fin</th>\n",
       "    </tr>\n",
       "  </thead>\n",
       "  <tbody>\n",
       "    <tr>\n",
       "      <th>194</th>\n",
       "      <td>COMPA</td>\n",
       "      <td>356</td>\n",
       "    </tr>\n",
       "    <tr>\n",
       "      <th>195</th>\n",
       "      <td>TUTOR</td>\n",
       "      <td>357</td>\n",
       "    </tr>\n",
       "    <tr>\n",
       "      <th>196</th>\n",
       "      <td>COOPERA</td>\n",
       "      <td>358</td>\n",
       "    </tr>\n",
       "    <tr>\n",
       "      <th>197</th>\n",
       "      <td>INVFUT</td>\n",
       "      <td>359</td>\n",
       "    </tr>\n",
       "    <tr>\n",
       "      <th>198</th>\n",
       "      <td>FACTOR</td>\n",
       "      <td>370</td>\n",
       "    </tr>\n",
       "  </tbody>\n",
       "</table>\n",
       "</div>"
      ],
      "text/plain": [
       "    Col_name  Fin\n",
       "194    COMPA  356\n",
       "195    TUTOR  357\n",
       "196  COOPERA  358\n",
       "197   INVFUT  359\n",
       "198   FACTOR  370"
      ]
     },
     "execution_count": 340,
     "metadata": {},
     "output_type": "execute_result"
    }
   ],
   "source": [
    "df_aux.tail()"
   ]
  },
  {
   "cell_type": "markdown",
   "metadata": {},
   "source": [
    "### Retrieving the variables \n",
    "Cada fila de df_aux corresponde a una variable (o columna) del dataset: incluye nombre de la variable y posicion del último caracter. \n",
    "Para separar el string único df_raw['string'] en columnas y asignarle a cada una su denominacion original: "
   ]
  },
  {
   "cell_type": "code",
   "execution_count": 341,
   "metadata": {},
   "outputs": [
    {
     "data": {
      "text/html": [
       "<div>\n",
       "<style scoped>\n",
       "    .dataframe tbody tr th:only-of-type {\n",
       "        vertical-align: middle;\n",
       "    }\n",
       "\n",
       "    .dataframe tbody tr th {\n",
       "        vertical-align: top;\n",
       "    }\n",
       "\n",
       "    .dataframe thead th {\n",
       "        text-align: right;\n",
       "    }\n",
       "</style>\n",
       "<table border=\"1\" class=\"dataframe\">\n",
       "  <thead>\n",
       "    <tr style=\"text-align: right;\">\n",
       "      <th></th>\n",
       "      <th>MUIDENT</th>\n",
       "      <th>CCAARESI</th>\n",
       "      <th>ANONAC</th>\n",
       "      <th>CCAANAC</th>\n",
       "      <th>CONTNACIM</th>\n",
       "      <th>RELA</th>\n",
       "      <th>CONTNAC1</th>\n",
       "      <th>CONTNAC2</th>\n",
       "      <th>CONTNAC3</th>\n",
       "      <th>SEXO</th>\n",
       "      <th>ESTADOCIVIL</th>\n",
       "      <th>DEPEN5</th>\n",
       "      <th>DEPEN18</th>\n",
       "      <th>DEPENMAS</th>\n",
       "      <th>NIVESTPA</th>\n",
       "      <th>NIVESTMA</th>\n",
       "      <th>NIVPROFPA</th>\n",
       "      <th>NIVPROFMA</th>\n",
       "      <th>ACTIPRIPA1</th>\n",
       "      <th>ACTIPRIMA1</th>\n",
       "      <th>EDUPRIM</th>\n",
       "      <th>EDUSECUN</th>\n",
       "      <th>BACHILLER</th>\n",
       "      <th>RES</th>\n",
       "      <th>CARES1</th>\n",
       "      <th>MESRES1</th>\n",
       "      <th>CARES2</th>\n",
       "      <th>MESRES2</th>\n",
       "      <th>CARES3</th>\n",
       "      <th>MESRES3</th>\n",
       "      <th>DOCTOR</th>\n",
       "      <th>CODIDOC</th>\n",
       "      <th>INFUN</th>\n",
       "      <th>INAPL</th>\n",
       "      <th>DESTEC</th>\n",
       "      <th>ANODOC</th>\n",
       "      <th>MESDOC</th>\n",
       "      <th>DURDOCANO</th>\n",
       "      <th>DURDOCMES</th>\n",
       "      <th>CONTEST</th>\n",
       "      <th>ANOEST</th>\n",
       "      <th>FINADOC</th>\n",
       "      <th>TRABDOC</th>\n",
       "      <th>ANOSINTRA</th>\n",
       "      <th>MESSINTRA</th>\n",
       "      <th>SITLAB</th>\n",
       "      <th>HTRAB</th>\n",
       "      <th>INGRESOS</th>\n",
       "      <th>AUTON</th>\n",
       "      <th>CNAE2</th>\n",
       "      <th>ANOINIALP</th>\n",
       "      <th>CAEMP</th>\n",
       "      <th>CONTEMP</th>\n",
       "      <th>SECTOR</th>\n",
       "      <th>CODALP</th>\n",
       "      <th>CATEGPROF</th>\n",
       "      <th>HLECT</th>\n",
       "      <th>TIPOCONT</th>\n",
       "      <th>JORLAB</th>\n",
       "      <th>BUSCATRAB</th>\n",
       "      <th>NIVELMIN</th>\n",
       "      <th>NIVELEST</th>\n",
       "      <th>RELTRABDOC</th>\n",
       "      <th>NIVELSAT1</th>\n",
       "      <th>NIVELSAT2</th>\n",
       "      <th>NIVELSAT3</th>\n",
       "      <th>NIVELSAT4</th>\n",
       "      <th>NIVELSAT5</th>\n",
       "      <th>NIVELSAT6</th>\n",
       "      <th>NIVELSAT7</th>\n",
       "      <th>NIVELSAT8</th>\n",
       "      <th>NIVELSAT9</th>\n",
       "      <th>NIVELSAT10</th>\n",
       "      <th>NIVELSAT11</th>\n",
       "      <th>NIVELSAT12</th>\n",
       "      <th>NIVELSAT13</th>\n",
       "      <th>ACTIANT</th>\n",
       "      <th>SECTORANT</th>\n",
       "      <th>ACTIPRIANT</th>\n",
       "      <th>ACTIANTANO</th>\n",
       "      <th>ACTIANTMES</th>\n",
       "      <th>TRABPOS</th>\n",
       "      <th>MOTIVOPOS1</th>\n",
       "      <th>MOTIVOPOS2</th>\n",
       "      <th>MOTIVOPOS3</th>\n",
       "      <th>MOTIVOPOS4</th>\n",
       "      <th>MOTIVOPOS5</th>\n",
       "      <th>MOTIVOPOS6</th>\n",
       "      <th>MOTIVOPOS7</th>\n",
       "      <th>MOTIVOPOS8</th>\n",
       "      <th>PORCINVES</th>\n",
       "      <th>PORCDOC</th>\n",
       "      <th>PORCOTRAS</th>\n",
       "      <th>FINANPOS</th>\n",
       "      <th>GESBUSEMP</th>\n",
       "      <th>PASOSEMP1</th>\n",
       "      <th>PASOSEMP2</th>\n",
       "      <th>PASOSEMP3</th>\n",
       "      <th>PASOSEMP4</th>\n",
       "      <th>PASOSEMP5</th>\n",
       "      <th>PASOSEMP6</th>\n",
       "      <th>PASOSEMP7</th>\n",
       "      <th>PASOSEMP8</th>\n",
       "      <th>PASOSEMP9</th>\n",
       "      <th>PASOSEMP10</th>\n",
       "      <th>PASOSEMP11</th>\n",
       "      <th>NOPASOSEMP1</th>\n",
       "      <th>NOPASOSEMP2</th>\n",
       "      <th>NOPASOSEMP3</th>\n",
       "      <th>NOPASOSEMP4</th>\n",
       "      <th>NOPASOSEMP5</th>\n",
       "      <th>NOPASOSEMP6</th>\n",
       "      <th>NOPASOSEMP7</th>\n",
       "      <th>NOPASOSEMP8</th>\n",
       "      <th>NOPASOSEMP9</th>\n",
       "      <th>CONT1</th>\n",
       "      <th>ANOIPAIS1</th>\n",
       "      <th>ANOFPAIS1</th>\n",
       "      <th>MESES1</th>\n",
       "      <th>CONT2</th>\n",
       "      <th>ANOIPAIS2</th>\n",
       "      <th>ANOFPAIS2</th>\n",
       "      <th>MESES2</th>\n",
       "      <th>CONT3</th>\n",
       "      <th>ANOIPAIS3</th>\n",
       "      <th>ANOFPAIS3</th>\n",
       "      <th>MESES3</th>\n",
       "      <th>CONT4</th>\n",
       "      <th>ANOIPAIS4</th>\n",
       "      <th>ANOFPAIS4</th>\n",
       "      <th>MESES4</th>\n",
       "      <th>CONT5</th>\n",
       "      <th>ANOIPAIS5</th>\n",
       "      <th>ANOFPAIS5</th>\n",
       "      <th>MESES5</th>\n",
       "      <th>CONT6</th>\n",
       "      <th>ANOIPAIS6</th>\n",
       "      <th>ANOFPAIS6</th>\n",
       "      <th>MESES6</th>\n",
       "      <th>CONT7</th>\n",
       "      <th>ANOIPAIS7</th>\n",
       "      <th>ANOFPAIS7</th>\n",
       "      <th>MESES7</th>\n",
       "      <th>MOTFUERA1</th>\n",
       "      <th>MOTFUERA2</th>\n",
       "      <th>MOTFUERA3</th>\n",
       "      <th>MOTFUERA4</th>\n",
       "      <th>MOTFUERA5</th>\n",
       "      <th>MOTFUERA6</th>\n",
       "      <th>MOTFUERA7</th>\n",
       "      <th>MOTVENIR1</th>\n",
       "      <th>MOTVENIR2</th>\n",
       "      <th>MOTVENIR3</th>\n",
       "      <th>MOTVENIR4</th>\n",
       "      <th>MOTVENIR5</th>\n",
       "      <th>MOTVENIR6</th>\n",
       "      <th>MOTVENIR7</th>\n",
       "      <th>PREVIRSE</th>\n",
       "      <th>MESANTESIR</th>\n",
       "      <th>MOTIRSE1</th>\n",
       "      <th>MOTIRSE2</th>\n",
       "      <th>MOTIRSE3</th>\n",
       "      <th>MOTIRSE4</th>\n",
       "      <th>MOTIRSE5</th>\n",
       "      <th>MOTIRSE6</th>\n",
       "      <th>CONTOUT</th>\n",
       "      <th>INV</th>\n",
       "      <th>MOTNOINV1</th>\n",
       "      <th>MOTNOINV2</th>\n",
       "      <th>MOTNOINV3</th>\n",
       "      <th>MOTNOINV4</th>\n",
       "      <th>MOTNOINV5</th>\n",
       "      <th>MOTNOINV6</th>\n",
       "      <th>MOTNOINV7</th>\n",
       "      <th>MOTNOINV8</th>\n",
       "      <th>MOTNOINV9</th>\n",
       "      <th>ALGINV</th>\n",
       "      <th>MOTINV1</th>\n",
       "      <th>MOTINV2</th>\n",
       "      <th>MOTINV3</th>\n",
       "      <th>MOTINV4</th>\n",
       "      <th>MOTINV5</th>\n",
       "      <th>MOTINV6</th>\n",
       "      <th>MOTINV7</th>\n",
       "      <th>MOTINV8</th>\n",
       "      <th>MOTINV9</th>\n",
       "      <th>MESESINV</th>\n",
       "      <th>ARTIC</th>\n",
       "      <th>LIBROS</th>\n",
       "      <th>NUMPAT</th>\n",
       "      <th>PATNAC</th>\n",
       "      <th>PATEU</th>\n",
       "      <th>PATCOOP</th>\n",
       "      <th>PATCOM</th>\n",
       "      <th>COMPA</th>\n",
       "      <th>TUTOR</th>\n",
       "      <th>COOPERA</th>\n",
       "      <th>INVFUT</th>\n",
       "      <th>FACTOR</th>\n",
       "    </tr>\n",
       "  </thead>\n",
       "  <tbody>\n",
       "    <tr>\n",
       "      <th>0</th>\n",
       "      <td>010004</td>\n",
       "      <td>16</td>\n",
       "      <td>1965</td>\n",
       "      <td>16</td>\n",
       "      <td>EU27</td>\n",
       "      <td>1</td>\n",
       "      <td>EU27</td>\n",
       "      <td>NNNN</td>\n",
       "      <td>NNNN</td>\n",
       "      <td>2</td>\n",
       "      <td>1</td>\n",
       "      <td>0</td>\n",
       "      <td>2</td>\n",
       "      <td>0</td>\n",
       "      <td>7</td>\n",
       "      <td>8</td>\n",
       "      <td>1</td>\n",
       "      <td>2</td>\n",
       "      <td>2</td>\n",
       "      <td>2</td>\n",
       "      <td>2</td>\n",
       "      <td>2</td>\n",
       "      <td>2</td>\n",
       "      <td>1</td>\n",
       "      <td>16</td>\n",
       "      <td>12</td>\n",
       "      <td>NN</td>\n",
       "      <td>0</td>\n",
       "      <td>NN</td>\n",
       "      <td>0</td>\n",
       "      <td>1</td>\n",
       "      <td>303</td>\n",
       "      <td>1</td>\n",
       "      <td>1</td>\n",
       "      <td>1</td>\n",
       "      <td>1992</td>\n",
       "      <td>9</td>\n",
       "      <td>3</td>\n",
       "      <td>11</td>\n",
       "      <td>EU27</td>\n",
       "      <td>1988</td>\n",
       "      <td>1</td>\n",
       "      <td>0</td>\n",
       "      <td>.</td>\n",
       "      <td>.</td>\n",
       "      <td>1</td>\n",
       "      <td>41</td>\n",
       "      <td>8</td>\n",
       "      <td>1</td>\n",
       "      <td>47</td>\n",
       "      <td>2000</td>\n",
       "      <td>16</td>\n",
       "      <td>EU27</td>\n",
       "      <td>1</td>\n",
       "      <td>226</td>\n",
       "      <td></td>\n",
       "      <td>1</td>\n",
       "      <td></td>\n",
       "      <td>1</td>\n",
       "      <td></td>\n",
       "      <td>3</td>\n",
       "      <td>3</td>\n",
       "      <td>3</td>\n",
       "      <td>1</td>\n",
       "      <td>1</td>\n",
       "      <td>1</td>\n",
       "      <td>1</td>\n",
       "      <td>1</td>\n",
       "      <td>4</td>\n",
       "      <td>3</td>\n",
       "      <td>2</td>\n",
       "      <td>1</td>\n",
       "      <td>1</td>\n",
       "      <td>1</td>\n",
       "      <td>1</td>\n",
       "      <td>1</td>\n",
       "      <td>0</td>\n",
       "      <td></td>\n",
       "      <td>NNN</td>\n",
       "      <td>.</td>\n",
       "      <td>.</td>\n",
       "      <td>0</td>\n",
       "      <td></td>\n",
       "      <td></td>\n",
       "      <td></td>\n",
       "      <td></td>\n",
       "      <td></td>\n",
       "      <td></td>\n",
       "      <td></td>\n",
       "      <td></td>\n",
       "      <td>.</td>\n",
       "      <td>.</td>\n",
       "      <td>.</td>\n",
       "      <td></td>\n",
       "      <td></td>\n",
       "      <td></td>\n",
       "      <td></td>\n",
       "      <td></td>\n",
       "      <td></td>\n",
       "      <td></td>\n",
       "      <td></td>\n",
       "      <td></td>\n",
       "      <td></td>\n",
       "      <td></td>\n",
       "      <td></td>\n",
       "      <td></td>\n",
       "      <td></td>\n",
       "      <td></td>\n",
       "      <td></td>\n",
       "      <td></td>\n",
       "      <td></td>\n",
       "      <td></td>\n",
       "      <td></td>\n",
       "      <td></td>\n",
       "      <td></td>\n",
       "      <td>NMOV</td>\n",
       "      <td>.</td>\n",
       "      <td>.</td>\n",
       "      <td>.</td>\n",
       "      <td>NMOV</td>\n",
       "      <td>.</td>\n",
       "      <td>.</td>\n",
       "      <td>.</td>\n",
       "      <td>NMOV</td>\n",
       "      <td>.</td>\n",
       "      <td>.</td>\n",
       "      <td>.</td>\n",
       "      <td>NMOV</td>\n",
       "      <td>.</td>\n",
       "      <td>.</td>\n",
       "      <td>.</td>\n",
       "      <td>NMOV</td>\n",
       "      <td>.</td>\n",
       "      <td>.</td>\n",
       "      <td>.</td>\n",
       "      <td>NMOV</td>\n",
       "      <td>.</td>\n",
       "      <td>.</td>\n",
       "      <td>.</td>\n",
       "      <td>NMOV</td>\n",
       "      <td>.</td>\n",
       "      <td>.</td>\n",
       "      <td>.</td>\n",
       "      <td></td>\n",
       "      <td></td>\n",
       "      <td></td>\n",
       "      <td></td>\n",
       "      <td></td>\n",
       "      <td></td>\n",
       "      <td></td>\n",
       "      <td></td>\n",
       "      <td></td>\n",
       "      <td></td>\n",
       "      <td></td>\n",
       "      <td></td>\n",
       "      <td></td>\n",
       "      <td></td>\n",
       "      <td>3</td>\n",
       "      <td></td>\n",
       "      <td></td>\n",
       "      <td></td>\n",
       "      <td></td>\n",
       "      <td></td>\n",
       "      <td></td>\n",
       "      <td></td>\n",
       "      <td>NMOV</td>\n",
       "      <td>0</td>\n",
       "      <td></td>\n",
       "      <td></td>\n",
       "      <td></td>\n",
       "      <td></td>\n",
       "      <td></td>\n",
       "      <td></td>\n",
       "      <td></td>\n",
       "      <td></td>\n",
       "      <td>1</td>\n",
       "      <td>0</td>\n",
       "      <td></td>\n",
       "      <td></td>\n",
       "      <td></td>\n",
       "      <td></td>\n",
       "      <td></td>\n",
       "      <td></td>\n",
       "      <td></td>\n",
       "      <td></td>\n",
       "      <td></td>\n",
       "      <td>.</td>\n",
       "      <td>.</td>\n",
       "      <td>.</td>\n",
       "      <td>.</td>\n",
       "      <td>.</td>\n",
       "      <td>.</td>\n",
       "      <td>.</td>\n",
       "      <td>0</td>\n",
       "      <td>0</td>\n",
       "      <td>0</td>\n",
       "      <td>0</td>\n",
       "      <td>0</td>\n",
       "      <td>13.04720815</td>\n",
       "    </tr>\n",
       "    <tr>\n",
       "      <th>1</th>\n",
       "      <td>010006</td>\n",
       "      <td>16</td>\n",
       "      <td>1972</td>\n",
       "      <td>13</td>\n",
       "      <td>EU27</td>\n",
       "      <td>1</td>\n",
       "      <td>EU27</td>\n",
       "      <td>NNNN</td>\n",
       "      <td>NNNN</td>\n",
       "      <td>2</td>\n",
       "      <td>1</td>\n",
       "      <td>0</td>\n",
       "      <td>0</td>\n",
       "      <td>0</td>\n",
       "      <td>8</td>\n",
       "      <td>7</td>\n",
       "      <td>1</td>\n",
       "      <td>5</td>\n",
       "      <td>1</td>\n",
       "      <td>N</td>\n",
       "      <td>3</td>\n",
       "      <td>3</td>\n",
       "      <td>1</td>\n",
       "      <td>1</td>\n",
       "      <td>16</td>\n",
       "      <td>12</td>\n",
       "      <td>NN</td>\n",
       "      <td>0</td>\n",
       "      <td>NN</td>\n",
       "      <td>0</td>\n",
       "      <td>1</td>\n",
       "      <td>104</td>\n",
       "      <td>1</td>\n",
       "      <td>1</td>\n",
       "      <td>0</td>\n",
       "      <td>2000</td>\n",
       "      <td>11</td>\n",
       "      <td>2</td>\n",
       "      <td>11</td>\n",
       "      <td>EU27</td>\n",
       "      <td>1995</td>\n",
       "      <td>1</td>\n",
       "      <td>1</td>\n",
       "      <td>0</td>\n",
       "      <td>0</td>\n",
       "      <td>2</td>\n",
       "      <td>.</td>\n",
       "      <td></td>\n",
       "      <td></td>\n",
       "      <td>NN</td>\n",
       "      <td>.</td>\n",
       "      <td>NN</td>\n",
       "      <td>NNNN</td>\n",
       "      <td></td>\n",
       "      <td>NNN</td>\n",
       "      <td></td>\n",
       "      <td></td>\n",
       "      <td></td>\n",
       "      <td></td>\n",
       "      <td></td>\n",
       "      <td></td>\n",
       "      <td></td>\n",
       "      <td></td>\n",
       "      <td></td>\n",
       "      <td></td>\n",
       "      <td></td>\n",
       "      <td></td>\n",
       "      <td></td>\n",
       "      <td></td>\n",
       "      <td></td>\n",
       "      <td></td>\n",
       "      <td></td>\n",
       "      <td></td>\n",
       "      <td></td>\n",
       "      <td></td>\n",
       "      <td></td>\n",
       "      <td></td>\n",
       "      <td></td>\n",
       "      <td>NNN</td>\n",
       "      <td>.</td>\n",
       "      <td>.</td>\n",
       "      <td></td>\n",
       "      <td></td>\n",
       "      <td></td>\n",
       "      <td></td>\n",
       "      <td></td>\n",
       "      <td></td>\n",
       "      <td></td>\n",
       "      <td></td>\n",
       "      <td></td>\n",
       "      <td>.</td>\n",
       "      <td>.</td>\n",
       "      <td>.</td>\n",
       "      <td></td>\n",
       "      <td>1</td>\n",
       "      <td>1</td>\n",
       "      <td>1</td>\n",
       "      <td>1</td>\n",
       "      <td>1</td>\n",
       "      <td>1</td>\n",
       "      <td></td>\n",
       "      <td>1</td>\n",
       "      <td></td>\n",
       "      <td>1</td>\n",
       "      <td></td>\n",
       "      <td></td>\n",
       "      <td></td>\n",
       "      <td></td>\n",
       "      <td></td>\n",
       "      <td></td>\n",
       "      <td></td>\n",
       "      <td></td>\n",
       "      <td></td>\n",
       "      <td></td>\n",
       "      <td></td>\n",
       "      <td>NMOV</td>\n",
       "      <td>.</td>\n",
       "      <td>.</td>\n",
       "      <td>.</td>\n",
       "      <td>NMOV</td>\n",
       "      <td>.</td>\n",
       "      <td>.</td>\n",
       "      <td>.</td>\n",
       "      <td>NMOV</td>\n",
       "      <td>.</td>\n",
       "      <td>.</td>\n",
       "      <td>.</td>\n",
       "      <td>NMOV</td>\n",
       "      <td>.</td>\n",
       "      <td>.</td>\n",
       "      <td>.</td>\n",
       "      <td>NMOV</td>\n",
       "      <td>.</td>\n",
       "      <td>.</td>\n",
       "      <td>.</td>\n",
       "      <td>NMOV</td>\n",
       "      <td>.</td>\n",
       "      <td>.</td>\n",
       "      <td>.</td>\n",
       "      <td>NMOV</td>\n",
       "      <td>.</td>\n",
       "      <td>.</td>\n",
       "      <td>.</td>\n",
       "      <td></td>\n",
       "      <td></td>\n",
       "      <td></td>\n",
       "      <td></td>\n",
       "      <td></td>\n",
       "      <td></td>\n",
       "      <td></td>\n",
       "      <td></td>\n",
       "      <td></td>\n",
       "      <td></td>\n",
       "      <td></td>\n",
       "      <td></td>\n",
       "      <td></td>\n",
       "      <td></td>\n",
       "      <td>3</td>\n",
       "      <td></td>\n",
       "      <td></td>\n",
       "      <td></td>\n",
       "      <td></td>\n",
       "      <td></td>\n",
       "      <td></td>\n",
       "      <td></td>\n",
       "      <td>NMOV</td>\n",
       "      <td>0</td>\n",
       "      <td></td>\n",
       "      <td>1</td>\n",
       "      <td></td>\n",
       "      <td></td>\n",
       "      <td></td>\n",
       "      <td></td>\n",
       "      <td></td>\n",
       "      <td></td>\n",
       "      <td></td>\n",
       "      <td>1</td>\n",
       "      <td>1</td>\n",
       "      <td></td>\n",
       "      <td></td>\n",
       "      <td></td>\n",
       "      <td></td>\n",
       "      <td></td>\n",
       "      <td></td>\n",
       "      <td></td>\n",
       "      <td></td>\n",
       "      <td>36</td>\n",
       "      <td>0</td>\n",
       "      <td>0</td>\n",
       "      <td>0</td>\n",
       "      <td>0</td>\n",
       "      <td>0</td>\n",
       "      <td>0</td>\n",
       "      <td>0</td>\n",
       "      <td>0</td>\n",
       "      <td>0</td>\n",
       "      <td>1</td>\n",
       "      <td>0</td>\n",
       "      <td>13.04720815</td>\n",
       "    </tr>\n",
       "    <tr>\n",
       "      <th>2</th>\n",
       "      <td>010007</td>\n",
       "      <td>16</td>\n",
       "      <td>1968</td>\n",
       "      <td>16</td>\n",
       "      <td>EU27</td>\n",
       "      <td>1</td>\n",
       "      <td>EU27</td>\n",
       "      <td>NNNN</td>\n",
       "      <td>NNNN</td>\n",
       "      <td>2</td>\n",
       "      <td>1</td>\n",
       "      <td>1</td>\n",
       "      <td>1</td>\n",
       "      <td>0</td>\n",
       "      <td>2</td>\n",
       "      <td>2</td>\n",
       "      <td>1</td>\n",
       "      <td>5</td>\n",
       "      <td>5</td>\n",
       "      <td>N</td>\n",
       "      <td>1</td>\n",
       "      <td>1</td>\n",
       "      <td>1</td>\n",
       "      <td>1</td>\n",
       "      <td>16</td>\n",
       "      <td>12</td>\n",
       "      <td>NN</td>\n",
       "      <td>0</td>\n",
       "      <td>NN</td>\n",
       "      <td>0</td>\n",
       "      <td>1</td>\n",
       "      <td>504</td>\n",
       "      <td>1</td>\n",
       "      <td>1</td>\n",
       "      <td>0</td>\n",
       "      <td>2001</td>\n",
       "      <td>6</td>\n",
       "      <td>9</td>\n",
       "      <td>2</td>\n",
       "      <td>EU27</td>\n",
       "      <td>1991</td>\n",
       "      <td>6</td>\n",
       "      <td>1</td>\n",
       "      <td>1</td>\n",
       "      <td>1</td>\n",
       "      <td>1</td>\n",
       "      <td>40</td>\n",
       "      <td>5</td>\n",
       "      <td>1</td>\n",
       "      <td>85</td>\n",
       "      <td>2005</td>\n",
       "      <td>17</td>\n",
       "      <td>EU27</td>\n",
       "      <td>2</td>\n",
       "      <td>231</td>\n",
       "      <td>2</td>\n",
       "      <td>4</td>\n",
       "      <td></td>\n",
       "      <td>1</td>\n",
       "      <td></td>\n",
       "      <td>2</td>\n",
       "      <td>2</td>\n",
       "      <td>1</td>\n",
       "      <td>2</td>\n",
       "      <td>2</td>\n",
       "      <td>1</td>\n",
       "      <td>1</td>\n",
       "      <td>1</td>\n",
       "      <td>2</td>\n",
       "      <td>1</td>\n",
       "      <td>2</td>\n",
       "      <td>1</td>\n",
       "      <td>1</td>\n",
       "      <td>1</td>\n",
       "      <td>1</td>\n",
       "      <td>1</td>\n",
       "      <td>0</td>\n",
       "      <td></td>\n",
       "      <td>NNN</td>\n",
       "      <td>.</td>\n",
       "      <td>.</td>\n",
       "      <td>0</td>\n",
       "      <td></td>\n",
       "      <td></td>\n",
       "      <td></td>\n",
       "      <td></td>\n",
       "      <td></td>\n",
       "      <td></td>\n",
       "      <td></td>\n",
       "      <td></td>\n",
       "      <td>.</td>\n",
       "      <td>.</td>\n",
       "      <td>.</td>\n",
       "      <td></td>\n",
       "      <td></td>\n",
       "      <td></td>\n",
       "      <td></td>\n",
       "      <td></td>\n",
       "      <td></td>\n",
       "      <td></td>\n",
       "      <td></td>\n",
       "      <td></td>\n",
       "      <td></td>\n",
       "      <td></td>\n",
       "      <td></td>\n",
       "      <td></td>\n",
       "      <td></td>\n",
       "      <td></td>\n",
       "      <td></td>\n",
       "      <td></td>\n",
       "      <td></td>\n",
       "      <td></td>\n",
       "      <td></td>\n",
       "      <td></td>\n",
       "      <td></td>\n",
       "      <td>NMOV</td>\n",
       "      <td>.</td>\n",
       "      <td>.</td>\n",
       "      <td>.</td>\n",
       "      <td>NMOV</td>\n",
       "      <td>.</td>\n",
       "      <td>.</td>\n",
       "      <td>.</td>\n",
       "      <td>NMOV</td>\n",
       "      <td>.</td>\n",
       "      <td>.</td>\n",
       "      <td>.</td>\n",
       "      <td>NMOV</td>\n",
       "      <td>.</td>\n",
       "      <td>.</td>\n",
       "      <td>.</td>\n",
       "      <td>NMOV</td>\n",
       "      <td>.</td>\n",
       "      <td>.</td>\n",
       "      <td>.</td>\n",
       "      <td>NMOV</td>\n",
       "      <td>.</td>\n",
       "      <td>.</td>\n",
       "      <td>.</td>\n",
       "      <td>NMOV</td>\n",
       "      <td>.</td>\n",
       "      <td>.</td>\n",
       "      <td>.</td>\n",
       "      <td></td>\n",
       "      <td></td>\n",
       "      <td></td>\n",
       "      <td></td>\n",
       "      <td></td>\n",
       "      <td></td>\n",
       "      <td></td>\n",
       "      <td></td>\n",
       "      <td></td>\n",
       "      <td></td>\n",
       "      <td></td>\n",
       "      <td></td>\n",
       "      <td></td>\n",
       "      <td></td>\n",
       "      <td>3</td>\n",
       "      <td></td>\n",
       "      <td></td>\n",
       "      <td></td>\n",
       "      <td></td>\n",
       "      <td></td>\n",
       "      <td></td>\n",
       "      <td></td>\n",
       "      <td>NMOV</td>\n",
       "      <td>1</td>\n",
       "      <td></td>\n",
       "      <td></td>\n",
       "      <td></td>\n",
       "      <td></td>\n",
       "      <td></td>\n",
       "      <td></td>\n",
       "      <td></td>\n",
       "      <td></td>\n",
       "      <td></td>\n",
       "      <td></td>\n",
       "      <td>1</td>\n",
       "      <td></td>\n",
       "      <td></td>\n",
       "      <td></td>\n",
       "      <td></td>\n",
       "      <td></td>\n",
       "      <td></td>\n",
       "      <td></td>\n",
       "      <td></td>\n",
       "      <td>40</td>\n",
       "      <td>4</td>\n",
       "      <td>2</td>\n",
       "      <td>0</td>\n",
       "      <td>0</td>\n",
       "      <td>0</td>\n",
       "      <td>0</td>\n",
       "      <td>0</td>\n",
       "      <td>0</td>\n",
       "      <td>0</td>\n",
       "      <td>1</td>\n",
       "      <td>1</td>\n",
       "      <td>13.04720815</td>\n",
       "    </tr>\n",
       "    <tr>\n",
       "      <th>3</th>\n",
       "      <td>010008</td>\n",
       "      <td>16</td>\n",
       "      <td>1969</td>\n",
       "      <td>16</td>\n",
       "      <td>EU27</td>\n",
       "      <td>1</td>\n",
       "      <td>EU27</td>\n",
       "      <td>NNNN</td>\n",
       "      <td>NNNN</td>\n",
       "      <td>2</td>\n",
       "      <td>6</td>\n",
       "      <td>0</td>\n",
       "      <td>2</td>\n",
       "      <td>0</td>\n",
       "      <td>3</td>\n",
       "      <td>3</td>\n",
       "      <td>1</td>\n",
       "      <td>2</td>\n",
       "      <td>7</td>\n",
       "      <td>9</td>\n",
       "      <td>1</td>\n",
       "      <td>2</td>\n",
       "      <td>1</td>\n",
       "      <td>1</td>\n",
       "      <td>16</td>\n",
       "      <td>12</td>\n",
       "      <td>NN</td>\n",
       "      <td>0</td>\n",
       "      <td>NN</td>\n",
       "      <td>0</td>\n",
       "      <td>1</td>\n",
       "      <td>207</td>\n",
       "      <td>0</td>\n",
       "      <td>1</td>\n",
       "      <td>1</td>\n",
       "      <td>2002</td>\n",
       "      <td>2</td>\n",
       "      <td>8</td>\n",
       "      <td>5</td>\n",
       "      <td>EU27</td>\n",
       "      <td>1993</td>\n",
       "      <td>6</td>\n",
       "      <td>1</td>\n",
       "      <td>0</td>\n",
       "      <td>1</td>\n",
       "      <td>1</td>\n",
       "      <td>37</td>\n",
       "      <td>6</td>\n",
       "      <td>0</td>\n",
       "      <td>85</td>\n",
       "      <td>1996</td>\n",
       "      <td>16</td>\n",
       "      <td>EU27</td>\n",
       "      <td>3</td>\n",
       "      <td>231</td>\n",
       "      <td>4</td>\n",
       "      <td>3</td>\n",
       "      <td>1</td>\n",
       "      <td>1</td>\n",
       "      <td></td>\n",
       "      <td>2</td>\n",
       "      <td>2</td>\n",
       "      <td>1</td>\n",
       "      <td>1</td>\n",
       "      <td>2</td>\n",
       "      <td>1</td>\n",
       "      <td>1</td>\n",
       "      <td>1</td>\n",
       "      <td>1</td>\n",
       "      <td>1</td>\n",
       "      <td>2</td>\n",
       "      <td>1</td>\n",
       "      <td>1</td>\n",
       "      <td>1</td>\n",
       "      <td>1</td>\n",
       "      <td>1</td>\n",
       "      <td>0</td>\n",
       "      <td></td>\n",
       "      <td>NNN</td>\n",
       "      <td>.</td>\n",
       "      <td>.</td>\n",
       "      <td>0</td>\n",
       "      <td></td>\n",
       "      <td></td>\n",
       "      <td></td>\n",
       "      <td></td>\n",
       "      <td></td>\n",
       "      <td></td>\n",
       "      <td></td>\n",
       "      <td></td>\n",
       "      <td>.</td>\n",
       "      <td>.</td>\n",
       "      <td>.</td>\n",
       "      <td></td>\n",
       "      <td></td>\n",
       "      <td></td>\n",
       "      <td></td>\n",
       "      <td></td>\n",
       "      <td></td>\n",
       "      <td></td>\n",
       "      <td></td>\n",
       "      <td></td>\n",
       "      <td></td>\n",
       "      <td></td>\n",
       "      <td></td>\n",
       "      <td></td>\n",
       "      <td></td>\n",
       "      <td></td>\n",
       "      <td></td>\n",
       "      <td></td>\n",
       "      <td></td>\n",
       "      <td></td>\n",
       "      <td></td>\n",
       "      <td></td>\n",
       "      <td></td>\n",
       "      <td>EU27</td>\n",
       "      <td>2006</td>\n",
       "      <td>2009</td>\n",
       "      <td>48</td>\n",
       "      <td>EU27</td>\n",
       "      <td>2005</td>\n",
       "      <td>2005</td>\n",
       "      <td>7</td>\n",
       "      <td>EU27</td>\n",
       "      <td>2000</td>\n",
       "      <td>2005</td>\n",
       "      <td>65</td>\n",
       "      <td>NMOV</td>\n",
       "      <td>.</td>\n",
       "      <td>.</td>\n",
       "      <td>.</td>\n",
       "      <td>NMOV</td>\n",
       "      <td>.</td>\n",
       "      <td>.</td>\n",
       "      <td>.</td>\n",
       "      <td>NMOV</td>\n",
       "      <td>.</td>\n",
       "      <td>.</td>\n",
       "      <td>.</td>\n",
       "      <td>NMOV</td>\n",
       "      <td>.</td>\n",
       "      <td>.</td>\n",
       "      <td>.</td>\n",
       "      <td></td>\n",
       "      <td></td>\n",
       "      <td></td>\n",
       "      <td>1</td>\n",
       "      <td></td>\n",
       "      <td></td>\n",
       "      <td></td>\n",
       "      <td></td>\n",
       "      <td>1</td>\n",
       "      <td></td>\n",
       "      <td></td>\n",
       "      <td></td>\n",
       "      <td></td>\n",
       "      <td></td>\n",
       "      <td>2</td>\n",
       "      <td>5</td>\n",
       "      <td></td>\n",
       "      <td></td>\n",
       "      <td>1</td>\n",
       "      <td></td>\n",
       "      <td></td>\n",
       "      <td></td>\n",
       "      <td>EUCA</td>\n",
       "      <td>1</td>\n",
       "      <td></td>\n",
       "      <td></td>\n",
       "      <td></td>\n",
       "      <td></td>\n",
       "      <td></td>\n",
       "      <td></td>\n",
       "      <td></td>\n",
       "      <td></td>\n",
       "      <td></td>\n",
       "      <td></td>\n",
       "      <td></td>\n",
       "      <td></td>\n",
       "      <td></td>\n",
       "      <td></td>\n",
       "      <td></td>\n",
       "      <td></td>\n",
       "      <td></td>\n",
       "      <td>1</td>\n",
       "      <td></td>\n",
       "      <td>120</td>\n",
       "      <td>3</td>\n",
       "      <td>10</td>\n",
       "      <td>0</td>\n",
       "      <td>0</td>\n",
       "      <td>0</td>\n",
       "      <td>0</td>\n",
       "      <td>0</td>\n",
       "      <td>0</td>\n",
       "      <td>0</td>\n",
       "      <td>1</td>\n",
       "      <td>1</td>\n",
       "      <td>13.04720815</td>\n",
       "    </tr>\n",
       "    <tr>\n",
       "      <th>4</th>\n",
       "      <td>010009</td>\n",
       "      <td>16</td>\n",
       "      <td>1975</td>\n",
       "      <td>16</td>\n",
       "      <td>EU27</td>\n",
       "      <td>1</td>\n",
       "      <td>EU27</td>\n",
       "      <td>NNNN</td>\n",
       "      <td>NNNN</td>\n",
       "      <td>2</td>\n",
       "      <td>1</td>\n",
       "      <td>0</td>\n",
       "      <td>0</td>\n",
       "      <td>0</td>\n",
       "      <td>4</td>\n",
       "      <td>3</td>\n",
       "      <td>1</td>\n",
       "      <td>5</td>\n",
       "      <td>7</td>\n",
       "      <td>N</td>\n",
       "      <td>2</td>\n",
       "      <td>2</td>\n",
       "      <td>2</td>\n",
       "      <td>1</td>\n",
       "      <td>16</td>\n",
       "      <td>12</td>\n",
       "      <td>NN</td>\n",
       "      <td>0</td>\n",
       "      <td>NN</td>\n",
       "      <td>0</td>\n",
       "      <td>1</td>\n",
       "      <td>303</td>\n",
       "      <td>1</td>\n",
       "      <td>0</td>\n",
       "      <td>0</td>\n",
       "      <td>2002</td>\n",
       "      <td>6</td>\n",
       "      <td>4</td>\n",
       "      <td>0</td>\n",
       "      <td>EU27</td>\n",
       "      <td>1998</td>\n",
       "      <td>1</td>\n",
       "      <td>0</td>\n",
       "      <td>.</td>\n",
       "      <td>.</td>\n",
       "      <td>1</td>\n",
       "      <td>40</td>\n",
       "      <td>8</td>\n",
       "      <td>0</td>\n",
       "      <td>21</td>\n",
       "      <td>2002</td>\n",
       "      <td>16</td>\n",
       "      <td>EU27</td>\n",
       "      <td>1</td>\n",
       "      <td>226</td>\n",
       "      <td></td>\n",
       "      <td>2</td>\n",
       "      <td>1</td>\n",
       "      <td>1</td>\n",
       "      <td></td>\n",
       "      <td>3</td>\n",
       "      <td>3</td>\n",
       "      <td>2</td>\n",
       "      <td>2</td>\n",
       "      <td>2</td>\n",
       "      <td>2</td>\n",
       "      <td>2</td>\n",
       "      <td>2</td>\n",
       "      <td>2</td>\n",
       "      <td>1</td>\n",
       "      <td>1</td>\n",
       "      <td>2</td>\n",
       "      <td>2</td>\n",
       "      <td>2</td>\n",
       "      <td>2</td>\n",
       "      <td>2</td>\n",
       "      <td>0</td>\n",
       "      <td></td>\n",
       "      <td>NNN</td>\n",
       "      <td>.</td>\n",
       "      <td>.</td>\n",
       "      <td>0</td>\n",
       "      <td></td>\n",
       "      <td></td>\n",
       "      <td></td>\n",
       "      <td></td>\n",
       "      <td></td>\n",
       "      <td></td>\n",
       "      <td></td>\n",
       "      <td></td>\n",
       "      <td>.</td>\n",
       "      <td>.</td>\n",
       "      <td>.</td>\n",
       "      <td></td>\n",
       "      <td></td>\n",
       "      <td></td>\n",
       "      <td></td>\n",
       "      <td></td>\n",
       "      <td></td>\n",
       "      <td></td>\n",
       "      <td></td>\n",
       "      <td></td>\n",
       "      <td></td>\n",
       "      <td></td>\n",
       "      <td></td>\n",
       "      <td></td>\n",
       "      <td></td>\n",
       "      <td></td>\n",
       "      <td></td>\n",
       "      <td></td>\n",
       "      <td></td>\n",
       "      <td></td>\n",
       "      <td></td>\n",
       "      <td></td>\n",
       "      <td></td>\n",
       "      <td>NMOV</td>\n",
       "      <td>.</td>\n",
       "      <td>.</td>\n",
       "      <td>.</td>\n",
       "      <td>NMOV</td>\n",
       "      <td>.</td>\n",
       "      <td>.</td>\n",
       "      <td>.</td>\n",
       "      <td>NMOV</td>\n",
       "      <td>.</td>\n",
       "      <td>.</td>\n",
       "      <td>.</td>\n",
       "      <td>NMOV</td>\n",
       "      <td>.</td>\n",
       "      <td>.</td>\n",
       "      <td>.</td>\n",
       "      <td>NMOV</td>\n",
       "      <td>.</td>\n",
       "      <td>.</td>\n",
       "      <td>.</td>\n",
       "      <td>NMOV</td>\n",
       "      <td>.</td>\n",
       "      <td>.</td>\n",
       "      <td>.</td>\n",
       "      <td>NMOV</td>\n",
       "      <td>.</td>\n",
       "      <td>.</td>\n",
       "      <td>.</td>\n",
       "      <td></td>\n",
       "      <td></td>\n",
       "      <td></td>\n",
       "      <td></td>\n",
       "      <td></td>\n",
       "      <td></td>\n",
       "      <td></td>\n",
       "      <td></td>\n",
       "      <td></td>\n",
       "      <td></td>\n",
       "      <td></td>\n",
       "      <td></td>\n",
       "      <td></td>\n",
       "      <td></td>\n",
       "      <td>3</td>\n",
       "      <td></td>\n",
       "      <td></td>\n",
       "      <td></td>\n",
       "      <td></td>\n",
       "      <td></td>\n",
       "      <td></td>\n",
       "      <td></td>\n",
       "      <td>NMOV</td>\n",
       "      <td>0</td>\n",
       "      <td></td>\n",
       "      <td></td>\n",
       "      <td></td>\n",
       "      <td></td>\n",
       "      <td></td>\n",
       "      <td></td>\n",
       "      <td></td>\n",
       "      <td></td>\n",
       "      <td>1</td>\n",
       "      <td>0</td>\n",
       "      <td></td>\n",
       "      <td></td>\n",
       "      <td></td>\n",
       "      <td></td>\n",
       "      <td></td>\n",
       "      <td></td>\n",
       "      <td></td>\n",
       "      <td></td>\n",
       "      <td></td>\n",
       "      <td>.</td>\n",
       "      <td>.</td>\n",
       "      <td>.</td>\n",
       "      <td>.</td>\n",
       "      <td>.</td>\n",
       "      <td>.</td>\n",
       "      <td>.</td>\n",
       "      <td>0</td>\n",
       "      <td>0</td>\n",
       "      <td>0</td>\n",
       "      <td>0</td>\n",
       "      <td>0</td>\n",
       "      <td>13.04720815</td>\n",
       "    </tr>\n",
       "  </tbody>\n",
       "</table>\n",
       "</div>"
      ],
      "text/plain": [
       "  MUIDENT CCAARESI ANONAC CCAANAC CONTNACIM RELA CONTNAC1 CONTNAC2 CONTNAC3  \\\n",
       "0  010004       16   1965      16      EU27    1     EU27     NNNN     NNNN   \n",
       "1  010006       16   1972      13      EU27    1     EU27     NNNN     NNNN   \n",
       "2  010007       16   1968      16      EU27    1     EU27     NNNN     NNNN   \n",
       "3  010008       16   1969      16      EU27    1     EU27     NNNN     NNNN   \n",
       "4  010009       16   1975      16      EU27    1     EU27     NNNN     NNNN   \n",
       "\n",
       "  SEXO ESTADOCIVIL DEPEN5 DEPEN18 DEPENMAS NIVESTPA NIVESTMA NIVPROFPA  \\\n",
       "0    2           1      0       2        0       7        8          1   \n",
       "1    2           1      0       0        0       8        7          1   \n",
       "2    2           1      1       1        0       2        2          1   \n",
       "3    2           6      0       2        0       3        3          1   \n",
       "4    2           1      0       0        0       4        3          1   \n",
       "\n",
       "  NIVPROFMA ACTIPRIPA1 ACTIPRIMA1 EDUPRIM EDUSECUN BACHILLER RES CARES1  \\\n",
       "0         2          2          2       2        2         2   1     16   \n",
       "1         5          1          N       3        3         1   1     16   \n",
       "2         5          5          N       1        1         1   1     16   \n",
       "3         2          7          9       1        2         1   1     16   \n",
       "4         5          7          N       2        2         2   1     16   \n",
       "\n",
       "  MESRES1 CARES2 MESRES2 CARES3 MESRES3 DOCTOR CODIDOC INFUN INAPL DESTEC  \\\n",
       "0      12     NN       0     NN       0      1     303     1     1      1   \n",
       "1      12     NN       0     NN       0      1     104     1     1      0   \n",
       "2      12     NN       0     NN       0      1     504     1     1      0   \n",
       "3      12     NN       0     NN       0      1     207     0     1      1   \n",
       "4      12     NN       0     NN       0      1     303     1     0      0   \n",
       "\n",
       "  ANODOC MESDOC DURDOCANO DURDOCMES CONTEST ANOEST FINADOC TRABDOC ANOSINTRA  \\\n",
       "0   1992      9         3        11    EU27   1988       1       0         .   \n",
       "1   2000     11         2        11    EU27   1995       1       1         0   \n",
       "2   2001      6         9         2    EU27   1991       6       1         1   \n",
       "3   2002      2         8         5    EU27   1993       6       1         0   \n",
       "4   2002      6         4         0    EU27   1998       1       0         .   \n",
       "\n",
       "  MESSINTRA SITLAB HTRAB INGRESOS AUTON CNAE2 ANOINIALP CAEMP CONTEMP SECTOR  \\\n",
       "0         .      1    41        8     1    47      2000    16    EU27      1   \n",
       "1         0      2     .                   NN         .    NN    NNNN          \n",
       "2         1      1    40        5     1    85      2005    17    EU27      2   \n",
       "3         1      1    37        6     0    85      1996    16    EU27      3   \n",
       "4         .      1    40        8     0    21      2002    16    EU27      1   \n",
       "\n",
       "  CODALP CATEGPROF HLECT TIPOCONT JORLAB BUSCATRAB NIVELMIN NIVELEST  \\\n",
       "0    226               1               1                  3        3   \n",
       "1    NNN                                                               \n",
       "2    231         2     4               1                  2        2   \n",
       "3    231         4     3        1      1                  2        2   \n",
       "4    226               2        1      1                  3        3   \n",
       "\n",
       "  RELTRABDOC NIVELSAT1 NIVELSAT2 NIVELSAT3 NIVELSAT4 NIVELSAT5 NIVELSAT6  \\\n",
       "0          3         1         1         1         1         1         4   \n",
       "1                                                                          \n",
       "2          1         2         2         1         1         1         2   \n",
       "3          1         1         2         1         1         1         1   \n",
       "4          2         2         2         2         2         2         2   \n",
       "\n",
       "  NIVELSAT7 NIVELSAT8 NIVELSAT9 NIVELSAT10 NIVELSAT11 NIVELSAT12 NIVELSAT13  \\\n",
       "0         3         2         1          1          1          1          1   \n",
       "1                                                                             \n",
       "2         1         2         1          1          1          1          1   \n",
       "3         1         2         1          1          1          1          1   \n",
       "4         1         1         2          2          2          2          2   \n",
       "\n",
       "  ACTIANT SECTORANT ACTIPRIANT ACTIANTANO ACTIANTMES TRABPOS MOTIVOPOS1  \\\n",
       "0       0                  NNN          .          .       0              \n",
       "1                          NNN          .          .                      \n",
       "2       0                  NNN          .          .       0              \n",
       "3       0                  NNN          .          .       0              \n",
       "4       0                  NNN          .          .       0              \n",
       "\n",
       "  MOTIVOPOS2 MOTIVOPOS3 MOTIVOPOS4 MOTIVOPOS5 MOTIVOPOS6 MOTIVOPOS7  \\\n",
       "0                                                                     \n",
       "1                                                                     \n",
       "2                                                                     \n",
       "3                                                                     \n",
       "4                                                                     \n",
       "\n",
       "  MOTIVOPOS8 PORCINVES PORCDOC PORCOTRAS FINANPOS GESBUSEMP PASOSEMP1  \\\n",
       "0                    .       .         .                                \n",
       "1                    .       .         .                  1         1   \n",
       "2                    .       .         .                                \n",
       "3                    .       .         .                                \n",
       "4                    .       .         .                                \n",
       "\n",
       "  PASOSEMP2 PASOSEMP3 PASOSEMP4 PASOSEMP5 PASOSEMP6 PASOSEMP7 PASOSEMP8  \\\n",
       "0                                                                         \n",
       "1         1         1         1         1                   1             \n",
       "2                                                                         \n",
       "3                                                                         \n",
       "4                                                                         \n",
       "\n",
       "  PASOSEMP9 PASOSEMP10 PASOSEMP11 NOPASOSEMP1 NOPASOSEMP2 NOPASOSEMP3  \\\n",
       "0                                                                       \n",
       "1         1                                                             \n",
       "2                                                                       \n",
       "3                                                                       \n",
       "4                                                                       \n",
       "\n",
       "  NOPASOSEMP4 NOPASOSEMP5 NOPASOSEMP6 NOPASOSEMP7 NOPASOSEMP8 NOPASOSEMP9  \\\n",
       "0                                                                           \n",
       "1                                                                           \n",
       "2                                                                           \n",
       "3                                                                           \n",
       "4                                                                           \n",
       "\n",
       "  CONT1 ANOIPAIS1 ANOFPAIS1 MESES1 CONT2 ANOIPAIS2 ANOFPAIS2 MESES2 CONT3  \\\n",
       "0  NMOV         .         .      .  NMOV         .         .      .  NMOV   \n",
       "1  NMOV         .         .      .  NMOV         .         .      .  NMOV   \n",
       "2  NMOV         .         .      .  NMOV         .         .      .  NMOV   \n",
       "3  EU27      2006      2009     48  EU27      2005      2005      7  EU27   \n",
       "4  NMOV         .         .      .  NMOV         .         .      .  NMOV   \n",
       "\n",
       "  ANOIPAIS3 ANOFPAIS3 MESES3 CONT4 ANOIPAIS4 ANOFPAIS4 MESES4 CONT5 ANOIPAIS5  \\\n",
       "0         .         .      .  NMOV         .         .      .  NMOV         .   \n",
       "1         .         .      .  NMOV         .         .      .  NMOV         .   \n",
       "2         .         .      .  NMOV         .         .      .  NMOV         .   \n",
       "3      2000      2005     65  NMOV         .         .      .  NMOV         .   \n",
       "4         .         .      .  NMOV         .         .      .  NMOV         .   \n",
       "\n",
       "  ANOFPAIS5 MESES5 CONT6 ANOIPAIS6 ANOFPAIS6 MESES6 CONT7 ANOIPAIS7 ANOFPAIS7  \\\n",
       "0         .      .  NMOV         .         .      .  NMOV         .         .   \n",
       "1         .      .  NMOV         .         .      .  NMOV         .         .   \n",
       "2         .      .  NMOV         .         .      .  NMOV         .         .   \n",
       "3         .      .  NMOV         .         .      .  NMOV         .         .   \n",
       "4         .      .  NMOV         .         .      .  NMOV         .         .   \n",
       "\n",
       "  MESES7 MOTFUERA1 MOTFUERA2 MOTFUERA3 MOTFUERA4 MOTFUERA5 MOTFUERA6  \\\n",
       "0      .                                                               \n",
       "1      .                                                               \n",
       "2      .                                                               \n",
       "3      .                                       1                       \n",
       "4      .                                                               \n",
       "\n",
       "  MOTFUERA7 MOTVENIR1 MOTVENIR2 MOTVENIR3 MOTVENIR4 MOTVENIR5 MOTVENIR6  \\\n",
       "0                                                                         \n",
       "1                                                                         \n",
       "2                                                                         \n",
       "3                             1                                           \n",
       "4                                                                         \n",
       "\n",
       "  MOTVENIR7 PREVIRSE MESANTESIR MOTIRSE1 MOTIRSE2 MOTIRSE3 MOTIRSE4 MOTIRSE5  \\\n",
       "0                  3                                                           \n",
       "1                  3                                                           \n",
       "2                  3                                                           \n",
       "3                  2          5                          1                     \n",
       "4                  3                                                           \n",
       "\n",
       "  MOTIRSE6 CONTOUT INV MOTNOINV1 MOTNOINV2 MOTNOINV3 MOTNOINV4 MOTNOINV5  \\\n",
       "0             NMOV   0                                                     \n",
       "1             NMOV   0                   1                                 \n",
       "2             NMOV   1                                                     \n",
       "3             EUCA   1                                                     \n",
       "4             NMOV   0                                                     \n",
       "\n",
       "  MOTNOINV6 MOTNOINV7 MOTNOINV8 MOTNOINV9 ALGINV MOTINV1 MOTINV2 MOTINV3  \\\n",
       "0                                       1      0                           \n",
       "1                                              1       1                   \n",
       "2                                                      1                   \n",
       "3                                                                          \n",
       "4                                       1      0                           \n",
       "\n",
       "  MOTINV4 MOTINV5 MOTINV6 MOTINV7 MOTINV8 MOTINV9 MESESINV ARTIC LIBROS  \\\n",
       "0                                                        .     .      .   \n",
       "1                                                       36     0      0   \n",
       "2                                                       40     4      2   \n",
       "3                                       1              120     3     10   \n",
       "4                                                        .     .      .   \n",
       "\n",
       "  NUMPAT PATNAC PATEU PATCOOP PATCOM COMPA TUTOR COOPERA INVFUT       FACTOR  \n",
       "0      .      .     .       .      0     0     0       0      0  13.04720815  \n",
       "1      0      0     0       0      0     0     0       1      0  13.04720815  \n",
       "2      0      0     0       0      0     0     0       1      1  13.04720815  \n",
       "3      0      0     0       0      0     0     0       1      1  13.04720815  \n",
       "4      .      .     .       .      0     0     0       0      0  13.04720815  "
      ]
     },
     "execution_count": 341,
     "metadata": {},
     "output_type": "execute_result"
    }
   ],
   "source": [
    "inicio=0\n",
    "for i in range(0,199):\n",
    "    df_raw[df_aux['Col_name'].iloc[i]]=df_raw['string'].str[inicio:df_aux['Fin'].iloc[i]]\n",
    "    inicio=df_aux['Fin'].iloc[i]\n",
    "del df_raw['string'] \n",
    "df_raw.head()"
   ]
  },
  {
   "cell_type": "code",
   "execution_count": 342,
   "metadata": {},
   "outputs": [
    {
     "data": {
      "text/html": [
       "<div>\n",
       "<style scoped>\n",
       "    .dataframe tbody tr th:only-of-type {\n",
       "        vertical-align: middle;\n",
       "    }\n",
       "\n",
       "    .dataframe tbody tr th {\n",
       "        vertical-align: top;\n",
       "    }\n",
       "\n",
       "    .dataframe thead th {\n",
       "        text-align: right;\n",
       "    }\n",
       "</style>\n",
       "<table border=\"1\" class=\"dataframe\">\n",
       "  <thead>\n",
       "    <tr style=\"text-align: right;\">\n",
       "      <th></th>\n",
       "      <th>MUIDENT</th>\n",
       "      <th>CCAARESI</th>\n",
       "      <th>ANONAC</th>\n",
       "      <th>CCAANAC</th>\n",
       "      <th>CONTNACIM</th>\n",
       "      <th>RELA</th>\n",
       "      <th>CONTNAC1</th>\n",
       "      <th>CONTNAC2</th>\n",
       "      <th>CONTNAC3</th>\n",
       "      <th>SEXO</th>\n",
       "      <th>ESTADOCIVIL</th>\n",
       "      <th>DEPEN5</th>\n",
       "      <th>DEPEN18</th>\n",
       "      <th>DEPENMAS</th>\n",
       "      <th>NIVESTPA</th>\n",
       "      <th>NIVESTMA</th>\n",
       "      <th>NIVPROFPA</th>\n",
       "      <th>NIVPROFMA</th>\n",
       "      <th>ACTIPRIPA1</th>\n",
       "      <th>ACTIPRIMA1</th>\n",
       "      <th>EDUPRIM</th>\n",
       "      <th>EDUSECUN</th>\n",
       "      <th>BACHILLER</th>\n",
       "      <th>RES</th>\n",
       "      <th>CARES1</th>\n",
       "      <th>MESRES1</th>\n",
       "      <th>CARES2</th>\n",
       "      <th>MESRES2</th>\n",
       "      <th>CARES3</th>\n",
       "      <th>MESRES3</th>\n",
       "      <th>DOCTOR</th>\n",
       "      <th>CODIDOC</th>\n",
       "      <th>INFUN</th>\n",
       "      <th>INAPL</th>\n",
       "      <th>DESTEC</th>\n",
       "      <th>ANODOC</th>\n",
       "      <th>MESDOC</th>\n",
       "      <th>DURDOCANO</th>\n",
       "      <th>DURDOCMES</th>\n",
       "      <th>CONTEST</th>\n",
       "      <th>ANOEST</th>\n",
       "      <th>FINADOC</th>\n",
       "      <th>TRABDOC</th>\n",
       "      <th>ANOSINTRA</th>\n",
       "      <th>MESSINTRA</th>\n",
       "      <th>SITLAB</th>\n",
       "      <th>HTRAB</th>\n",
       "      <th>INGRESOS</th>\n",
       "      <th>AUTON</th>\n",
       "      <th>CNAE2</th>\n",
       "      <th>ANOINIALP</th>\n",
       "      <th>CAEMP</th>\n",
       "      <th>CONTEMP</th>\n",
       "      <th>SECTOR</th>\n",
       "      <th>CODALP</th>\n",
       "      <th>CATEGPROF</th>\n",
       "      <th>HLECT</th>\n",
       "      <th>TIPOCONT</th>\n",
       "      <th>JORLAB</th>\n",
       "      <th>BUSCATRAB</th>\n",
       "      <th>NIVELMIN</th>\n",
       "      <th>NIVELEST</th>\n",
       "      <th>RELTRABDOC</th>\n",
       "      <th>NIVELSAT1</th>\n",
       "      <th>NIVELSAT2</th>\n",
       "      <th>NIVELSAT3</th>\n",
       "      <th>NIVELSAT4</th>\n",
       "      <th>NIVELSAT5</th>\n",
       "      <th>NIVELSAT6</th>\n",
       "      <th>NIVELSAT7</th>\n",
       "      <th>NIVELSAT8</th>\n",
       "      <th>NIVELSAT9</th>\n",
       "      <th>NIVELSAT10</th>\n",
       "      <th>NIVELSAT11</th>\n",
       "      <th>NIVELSAT12</th>\n",
       "      <th>NIVELSAT13</th>\n",
       "      <th>ACTIANT</th>\n",
       "      <th>SECTORANT</th>\n",
       "      <th>ACTIPRIANT</th>\n",
       "      <th>ACTIANTANO</th>\n",
       "      <th>ACTIANTMES</th>\n",
       "      <th>TRABPOS</th>\n",
       "      <th>MOTIVOPOS1</th>\n",
       "      <th>MOTIVOPOS2</th>\n",
       "      <th>MOTIVOPOS3</th>\n",
       "      <th>MOTIVOPOS4</th>\n",
       "      <th>MOTIVOPOS5</th>\n",
       "      <th>MOTIVOPOS6</th>\n",
       "      <th>MOTIVOPOS7</th>\n",
       "      <th>MOTIVOPOS8</th>\n",
       "      <th>PORCINVES</th>\n",
       "      <th>PORCDOC</th>\n",
       "      <th>PORCOTRAS</th>\n",
       "      <th>FINANPOS</th>\n",
       "      <th>GESBUSEMP</th>\n",
       "      <th>PASOSEMP1</th>\n",
       "      <th>PASOSEMP2</th>\n",
       "      <th>PASOSEMP3</th>\n",
       "      <th>PASOSEMP4</th>\n",
       "      <th>PASOSEMP5</th>\n",
       "      <th>PASOSEMP6</th>\n",
       "      <th>PASOSEMP7</th>\n",
       "      <th>PASOSEMP8</th>\n",
       "      <th>PASOSEMP9</th>\n",
       "      <th>PASOSEMP10</th>\n",
       "      <th>PASOSEMP11</th>\n",
       "      <th>NOPASOSEMP1</th>\n",
       "      <th>NOPASOSEMP2</th>\n",
       "      <th>NOPASOSEMP3</th>\n",
       "      <th>NOPASOSEMP4</th>\n",
       "      <th>NOPASOSEMP5</th>\n",
       "      <th>NOPASOSEMP6</th>\n",
       "      <th>NOPASOSEMP7</th>\n",
       "      <th>NOPASOSEMP8</th>\n",
       "      <th>NOPASOSEMP9</th>\n",
       "      <th>CONT1</th>\n",
       "      <th>ANOIPAIS1</th>\n",
       "      <th>ANOFPAIS1</th>\n",
       "      <th>MESES1</th>\n",
       "      <th>CONT2</th>\n",
       "      <th>ANOIPAIS2</th>\n",
       "      <th>ANOFPAIS2</th>\n",
       "      <th>MESES2</th>\n",
       "      <th>CONT3</th>\n",
       "      <th>ANOIPAIS3</th>\n",
       "      <th>ANOFPAIS3</th>\n",
       "      <th>MESES3</th>\n",
       "      <th>CONT4</th>\n",
       "      <th>ANOIPAIS4</th>\n",
       "      <th>ANOFPAIS4</th>\n",
       "      <th>MESES4</th>\n",
       "      <th>CONT5</th>\n",
       "      <th>ANOIPAIS5</th>\n",
       "      <th>ANOFPAIS5</th>\n",
       "      <th>MESES5</th>\n",
       "      <th>CONT6</th>\n",
       "      <th>ANOIPAIS6</th>\n",
       "      <th>ANOFPAIS6</th>\n",
       "      <th>MESES6</th>\n",
       "      <th>CONT7</th>\n",
       "      <th>ANOIPAIS7</th>\n",
       "      <th>ANOFPAIS7</th>\n",
       "      <th>MESES7</th>\n",
       "      <th>MOTFUERA1</th>\n",
       "      <th>MOTFUERA2</th>\n",
       "      <th>MOTFUERA3</th>\n",
       "      <th>MOTFUERA4</th>\n",
       "      <th>MOTFUERA5</th>\n",
       "      <th>MOTFUERA6</th>\n",
       "      <th>MOTFUERA7</th>\n",
       "      <th>MOTVENIR1</th>\n",
       "      <th>MOTVENIR2</th>\n",
       "      <th>MOTVENIR3</th>\n",
       "      <th>MOTVENIR4</th>\n",
       "      <th>MOTVENIR5</th>\n",
       "      <th>MOTVENIR6</th>\n",
       "      <th>MOTVENIR7</th>\n",
       "      <th>PREVIRSE</th>\n",
       "      <th>MESANTESIR</th>\n",
       "      <th>MOTIRSE1</th>\n",
       "      <th>MOTIRSE2</th>\n",
       "      <th>MOTIRSE3</th>\n",
       "      <th>MOTIRSE4</th>\n",
       "      <th>MOTIRSE5</th>\n",
       "      <th>MOTIRSE6</th>\n",
       "      <th>CONTOUT</th>\n",
       "      <th>INV</th>\n",
       "      <th>MOTNOINV1</th>\n",
       "      <th>MOTNOINV2</th>\n",
       "      <th>MOTNOINV3</th>\n",
       "      <th>MOTNOINV4</th>\n",
       "      <th>MOTNOINV5</th>\n",
       "      <th>MOTNOINV6</th>\n",
       "      <th>MOTNOINV7</th>\n",
       "      <th>MOTNOINV8</th>\n",
       "      <th>MOTNOINV9</th>\n",
       "      <th>ALGINV</th>\n",
       "      <th>MOTINV1</th>\n",
       "      <th>MOTINV2</th>\n",
       "      <th>MOTINV3</th>\n",
       "      <th>MOTINV4</th>\n",
       "      <th>MOTINV5</th>\n",
       "      <th>MOTINV6</th>\n",
       "      <th>MOTINV7</th>\n",
       "      <th>MOTINV8</th>\n",
       "      <th>MOTINV9</th>\n",
       "      <th>MESESINV</th>\n",
       "      <th>ARTIC</th>\n",
       "      <th>LIBROS</th>\n",
       "      <th>NUMPAT</th>\n",
       "      <th>PATNAC</th>\n",
       "      <th>PATEU</th>\n",
       "      <th>PATCOOP</th>\n",
       "      <th>PATCOM</th>\n",
       "      <th>COMPA</th>\n",
       "      <th>TUTOR</th>\n",
       "      <th>COOPERA</th>\n",
       "      <th>INVFUT</th>\n",
       "      <th>FACTOR</th>\n",
       "    </tr>\n",
       "  </thead>\n",
       "  <tbody>\n",
       "    <tr>\n",
       "      <th>4117</th>\n",
       "      <td>520044</td>\n",
       "      <td>18</td>\n",
       "      <td>1949</td>\n",
       "      <td>01</td>\n",
       "      <td>EU27</td>\n",
       "      <td>1</td>\n",
       "      <td>EU27</td>\n",
       "      <td>NNNN</td>\n",
       "      <td>NNNN</td>\n",
       "      <td>1</td>\n",
       "      <td>4</td>\n",
       "      <td>0</td>\n",
       "      <td>0</td>\n",
       "      <td>1</td>\n",
       "      <td>3</td>\n",
       "      <td>3</td>\n",
       "      <td>2</td>\n",
       "      <td>5</td>\n",
       "      <td>0</td>\n",
       "      <td>N</td>\n",
       "      <td>1</td>\n",
       "      <td>1</td>\n",
       "      <td>1</td>\n",
       "      <td>1</td>\n",
       "      <td>01</td>\n",
       "      <td>12</td>\n",
       "      <td>NN</td>\n",
       "      <td>0</td>\n",
       "      <td>NN</td>\n",
       "      <td>0</td>\n",
       "      <td>1</td>\n",
       "      <td>602</td>\n",
       "      <td>0</td>\n",
       "      <td>1</td>\n",
       "      <td>0</td>\n",
       "      <td>2000</td>\n",
       "      <td>10</td>\n",
       "      <td>5</td>\n",
       "      <td>2</td>\n",
       "      <td>EU27</td>\n",
       "      <td>1994</td>\n",
       "      <td>6</td>\n",
       "      <td>1</td>\n",
       "      <td>3</td>\n",
       "      <td>2</td>\n",
       "      <td>3</td>\n",
       "      <td>.</td>\n",
       "      <td></td>\n",
       "      <td></td>\n",
       "      <td>NN</td>\n",
       "      <td>.</td>\n",
       "      <td>NN</td>\n",
       "      <td>NNNN</td>\n",
       "      <td></td>\n",
       "      <td>NNN</td>\n",
       "      <td></td>\n",
       "      <td></td>\n",
       "      <td></td>\n",
       "      <td></td>\n",
       "      <td></td>\n",
       "      <td></td>\n",
       "      <td></td>\n",
       "      <td></td>\n",
       "      <td></td>\n",
       "      <td></td>\n",
       "      <td></td>\n",
       "      <td></td>\n",
       "      <td></td>\n",
       "      <td></td>\n",
       "      <td></td>\n",
       "      <td></td>\n",
       "      <td></td>\n",
       "      <td></td>\n",
       "      <td></td>\n",
       "      <td></td>\n",
       "      <td></td>\n",
       "      <td></td>\n",
       "      <td></td>\n",
       "      <td>NNN</td>\n",
       "      <td>.</td>\n",
       "      <td>.</td>\n",
       "      <td></td>\n",
       "      <td></td>\n",
       "      <td></td>\n",
       "      <td></td>\n",
       "      <td></td>\n",
       "      <td></td>\n",
       "      <td></td>\n",
       "      <td></td>\n",
       "      <td></td>\n",
       "      <td>.</td>\n",
       "      <td>.</td>\n",
       "      <td>.</td>\n",
       "      <td></td>\n",
       "      <td>0</td>\n",
       "      <td></td>\n",
       "      <td></td>\n",
       "      <td></td>\n",
       "      <td></td>\n",
       "      <td></td>\n",
       "      <td></td>\n",
       "      <td></td>\n",
       "      <td></td>\n",
       "      <td></td>\n",
       "      <td></td>\n",
       "      <td></td>\n",
       "      <td></td>\n",
       "      <td></td>\n",
       "      <td></td>\n",
       "      <td></td>\n",
       "      <td>1</td>\n",
       "      <td></td>\n",
       "      <td></td>\n",
       "      <td></td>\n",
       "      <td></td>\n",
       "      <td>NMOV</td>\n",
       "      <td>.</td>\n",
       "      <td>.</td>\n",
       "      <td>.</td>\n",
       "      <td>NMOV</td>\n",
       "      <td>.</td>\n",
       "      <td>.</td>\n",
       "      <td>.</td>\n",
       "      <td>NMOV</td>\n",
       "      <td>.</td>\n",
       "      <td>.</td>\n",
       "      <td>.</td>\n",
       "      <td>NMOV</td>\n",
       "      <td>.</td>\n",
       "      <td>.</td>\n",
       "      <td>.</td>\n",
       "      <td>NMOV</td>\n",
       "      <td>.</td>\n",
       "      <td>.</td>\n",
       "      <td>.</td>\n",
       "      <td>NMOV</td>\n",
       "      <td>.</td>\n",
       "      <td>.</td>\n",
       "      <td>.</td>\n",
       "      <td>NMOV</td>\n",
       "      <td>.</td>\n",
       "      <td>.</td>\n",
       "      <td>.</td>\n",
       "      <td></td>\n",
       "      <td></td>\n",
       "      <td></td>\n",
       "      <td></td>\n",
       "      <td></td>\n",
       "      <td></td>\n",
       "      <td></td>\n",
       "      <td></td>\n",
       "      <td></td>\n",
       "      <td></td>\n",
       "      <td></td>\n",
       "      <td></td>\n",
       "      <td></td>\n",
       "      <td></td>\n",
       "      <td>3</td>\n",
       "      <td></td>\n",
       "      <td></td>\n",
       "      <td></td>\n",
       "      <td></td>\n",
       "      <td></td>\n",
       "      <td></td>\n",
       "      <td></td>\n",
       "      <td>NMOV</td>\n",
       "      <td>1</td>\n",
       "      <td></td>\n",
       "      <td></td>\n",
       "      <td></td>\n",
       "      <td></td>\n",
       "      <td></td>\n",
       "      <td></td>\n",
       "      <td></td>\n",
       "      <td></td>\n",
       "      <td></td>\n",
       "      <td></td>\n",
       "      <td></td>\n",
       "      <td></td>\n",
       "      <td></td>\n",
       "      <td></td>\n",
       "      <td></td>\n",
       "      <td></td>\n",
       "      <td></td>\n",
       "      <td>1</td>\n",
       "      <td></td>\n",
       "      <td>72</td>\n",
       "      <td>0</td>\n",
       "      <td>1</td>\n",
       "      <td>0</td>\n",
       "      <td>0</td>\n",
       "      <td>0</td>\n",
       "      <td>0</td>\n",
       "      <td>0</td>\n",
       "      <td>0</td>\n",
       "      <td>1</td>\n",
       "      <td>1</td>\n",
       "      <td>1</td>\n",
       "      <td>2.557220801</td>\n",
       "    </tr>\n",
       "    <tr>\n",
       "      <th>4118</th>\n",
       "      <td>520046</td>\n",
       "      <td>18</td>\n",
       "      <td>1973</td>\n",
       "      <td>01</td>\n",
       "      <td>EU27</td>\n",
       "      <td>1</td>\n",
       "      <td>EU27</td>\n",
       "      <td>NNNN</td>\n",
       "      <td>NNNN</td>\n",
       "      <td>1</td>\n",
       "      <td>1</td>\n",
       "      <td>0</td>\n",
       "      <td>2</td>\n",
       "      <td>0</td>\n",
       "      <td>7</td>\n",
       "      <td>6</td>\n",
       "      <td>1</td>\n",
       "      <td>1</td>\n",
       "      <td>2</td>\n",
       "      <td>2</td>\n",
       "      <td>3</td>\n",
       "      <td>3</td>\n",
       "      <td>3</td>\n",
       "      <td>1</td>\n",
       "      <td>18</td>\n",
       "      <td>9</td>\n",
       "      <td>01</td>\n",
       "      <td>3</td>\n",
       "      <td>NN</td>\n",
       "      <td>0</td>\n",
       "      <td>1</td>\n",
       "      <td>601</td>\n",
       "      <td>1</td>\n",
       "      <td>1</td>\n",
       "      <td>1</td>\n",
       "      <td>2003</td>\n",
       "      <td>9</td>\n",
       "      <td>7</td>\n",
       "      <td>1</td>\n",
       "      <td>EU27</td>\n",
       "      <td>1996</td>\n",
       "      <td>8</td>\n",
       "      <td>1</td>\n",
       "      <td>3</td>\n",
       "      <td>3</td>\n",
       "      <td>1</td>\n",
       "      <td>30</td>\n",
       "      <td>3</td>\n",
       "      <td>0</td>\n",
       "      <td>85</td>\n",
       "      <td>2003</td>\n",
       "      <td>18</td>\n",
       "      <td>EU27</td>\n",
       "      <td>2</td>\n",
       "      <td>233</td>\n",
       "      <td></td>\n",
       "      <td>5</td>\n",
       "      <td>1</td>\n",
       "      <td>1</td>\n",
       "      <td></td>\n",
       "      <td>3</td>\n",
       "      <td>7</td>\n",
       "      <td>1</td>\n",
       "      <td>1</td>\n",
       "      <td>1</td>\n",
       "      <td>1</td>\n",
       "      <td>1</td>\n",
       "      <td>2</td>\n",
       "      <td>4</td>\n",
       "      <td>1</td>\n",
       "      <td>1</td>\n",
       "      <td>2</td>\n",
       "      <td>1</td>\n",
       "      <td>2</td>\n",
       "      <td>2</td>\n",
       "      <td>2</td>\n",
       "      <td>0</td>\n",
       "      <td></td>\n",
       "      <td>NNN</td>\n",
       "      <td>.</td>\n",
       "      <td>.</td>\n",
       "      <td>0</td>\n",
       "      <td></td>\n",
       "      <td></td>\n",
       "      <td></td>\n",
       "      <td></td>\n",
       "      <td></td>\n",
       "      <td></td>\n",
       "      <td></td>\n",
       "      <td></td>\n",
       "      <td>.</td>\n",
       "      <td>.</td>\n",
       "      <td>.</td>\n",
       "      <td></td>\n",
       "      <td></td>\n",
       "      <td></td>\n",
       "      <td></td>\n",
       "      <td></td>\n",
       "      <td></td>\n",
       "      <td></td>\n",
       "      <td></td>\n",
       "      <td></td>\n",
       "      <td></td>\n",
       "      <td></td>\n",
       "      <td></td>\n",
       "      <td></td>\n",
       "      <td></td>\n",
       "      <td></td>\n",
       "      <td></td>\n",
       "      <td></td>\n",
       "      <td></td>\n",
       "      <td></td>\n",
       "      <td></td>\n",
       "      <td></td>\n",
       "      <td></td>\n",
       "      <td>NMOV</td>\n",
       "      <td>.</td>\n",
       "      <td>.</td>\n",
       "      <td>.</td>\n",
       "      <td>NMOV</td>\n",
       "      <td>.</td>\n",
       "      <td>.</td>\n",
       "      <td>.</td>\n",
       "      <td>NMOV</td>\n",
       "      <td>.</td>\n",
       "      <td>.</td>\n",
       "      <td>.</td>\n",
       "      <td>NMOV</td>\n",
       "      <td>.</td>\n",
       "      <td>.</td>\n",
       "      <td>.</td>\n",
       "      <td>NMOV</td>\n",
       "      <td>.</td>\n",
       "      <td>.</td>\n",
       "      <td>.</td>\n",
       "      <td>NMOV</td>\n",
       "      <td>.</td>\n",
       "      <td>.</td>\n",
       "      <td>.</td>\n",
       "      <td>NMOV</td>\n",
       "      <td>.</td>\n",
       "      <td>.</td>\n",
       "      <td>.</td>\n",
       "      <td></td>\n",
       "      <td></td>\n",
       "      <td></td>\n",
       "      <td></td>\n",
       "      <td></td>\n",
       "      <td></td>\n",
       "      <td></td>\n",
       "      <td></td>\n",
       "      <td></td>\n",
       "      <td></td>\n",
       "      <td></td>\n",
       "      <td></td>\n",
       "      <td></td>\n",
       "      <td></td>\n",
       "      <td>2</td>\n",
       "      <td>8</td>\n",
       "      <td></td>\n",
       "      <td></td>\n",
       "      <td>1</td>\n",
       "      <td></td>\n",
       "      <td></td>\n",
       "      <td></td>\n",
       "      <td>EUCA</td>\n",
       "      <td>0</td>\n",
       "      <td></td>\n",
       "      <td>1</td>\n",
       "      <td></td>\n",
       "      <td>1</td>\n",
       "      <td></td>\n",
       "      <td></td>\n",
       "      <td></td>\n",
       "      <td></td>\n",
       "      <td></td>\n",
       "      <td>1</td>\n",
       "      <td></td>\n",
       "      <td></td>\n",
       "      <td></td>\n",
       "      <td></td>\n",
       "      <td></td>\n",
       "      <td></td>\n",
       "      <td></td>\n",
       "      <td>1</td>\n",
       "      <td></td>\n",
       "      <td>50</td>\n",
       "      <td>10</td>\n",
       "      <td>3</td>\n",
       "      <td>1</td>\n",
       "      <td>1</td>\n",
       "      <td>0</td>\n",
       "      <td>0</td>\n",
       "      <td>0</td>\n",
       "      <td>0</td>\n",
       "      <td>0</td>\n",
       "      <td>1</td>\n",
       "      <td>1</td>\n",
       "      <td>2.557220801</td>\n",
       "    </tr>\n",
       "    <tr>\n",
       "      <th>4119</th>\n",
       "      <td>520047</td>\n",
       "      <td>13</td>\n",
       "      <td>1958</td>\n",
       "      <td>18</td>\n",
       "      <td>EU27</td>\n",
       "      <td>1</td>\n",
       "      <td>EU27</td>\n",
       "      <td>NNNN</td>\n",
       "      <td>NNNN</td>\n",
       "      <td>1</td>\n",
       "      <td>6</td>\n",
       "      <td>0</td>\n",
       "      <td>0</td>\n",
       "      <td>0</td>\n",
       "      <td>6</td>\n",
       "      <td>6</td>\n",
       "      <td>2</td>\n",
       "      <td>2</td>\n",
       "      <td>4</td>\n",
       "      <td>4</td>\n",
       "      <td>2</td>\n",
       "      <td>2</td>\n",
       "      <td>2</td>\n",
       "      <td>1</td>\n",
       "      <td>13</td>\n",
       "      <td>12</td>\n",
       "      <td>NN</td>\n",
       "      <td>0</td>\n",
       "      <td>NN</td>\n",
       "      <td>0</td>\n",
       "      <td>1</td>\n",
       "      <td>601</td>\n",
       "      <td>1</td>\n",
       "      <td>1</td>\n",
       "      <td>0</td>\n",
       "      <td>1994</td>\n",
       "      <td>9</td>\n",
       "      <td>2</td>\n",
       "      <td>9</td>\n",
       "      <td>EU27</td>\n",
       "      <td>1990</td>\n",
       "      <td>8</td>\n",
       "      <td>1</td>\n",
       "      <td>1</td>\n",
       "      <td>2</td>\n",
       "      <td>1</td>\n",
       "      <td>40</td>\n",
       "      <td>2</td>\n",
       "      <td>0</td>\n",
       "      <td>85</td>\n",
       "      <td>2009</td>\n",
       "      <td>13</td>\n",
       "      <td>EU27</td>\n",
       "      <td>3</td>\n",
       "      <td>231</td>\n",
       "      <td>3</td>\n",
       "      <td>4</td>\n",
       "      <td>2</td>\n",
       "      <td>1</td>\n",
       "      <td></td>\n",
       "      <td>3</td>\n",
       "      <td>3</td>\n",
       "      <td>2</td>\n",
       "      <td>2</td>\n",
       "      <td>2</td>\n",
       "      <td>2</td>\n",
       "      <td>2</td>\n",
       "      <td>2</td>\n",
       "      <td>2</td>\n",
       "      <td>2</td>\n",
       "      <td>2</td>\n",
       "      <td>1</td>\n",
       "      <td>2</td>\n",
       "      <td>2</td>\n",
       "      <td>1</td>\n",
       "      <td>2</td>\n",
       "      <td>1</td>\n",
       "      <td>4</td>\n",
       "      <td>262</td>\n",
       "      <td>10</td>\n",
       "      <td>1</td>\n",
       "      <td>0</td>\n",
       "      <td></td>\n",
       "      <td></td>\n",
       "      <td></td>\n",
       "      <td></td>\n",
       "      <td></td>\n",
       "      <td></td>\n",
       "      <td></td>\n",
       "      <td></td>\n",
       "      <td>.</td>\n",
       "      <td>.</td>\n",
       "      <td>.</td>\n",
       "      <td></td>\n",
       "      <td></td>\n",
       "      <td></td>\n",
       "      <td></td>\n",
       "      <td></td>\n",
       "      <td></td>\n",
       "      <td></td>\n",
       "      <td></td>\n",
       "      <td></td>\n",
       "      <td></td>\n",
       "      <td></td>\n",
       "      <td></td>\n",
       "      <td></td>\n",
       "      <td></td>\n",
       "      <td></td>\n",
       "      <td></td>\n",
       "      <td></td>\n",
       "      <td></td>\n",
       "      <td></td>\n",
       "      <td></td>\n",
       "      <td></td>\n",
       "      <td></td>\n",
       "      <td>NMOV</td>\n",
       "      <td>.</td>\n",
       "      <td>.</td>\n",
       "      <td>.</td>\n",
       "      <td>NMOV</td>\n",
       "      <td>.</td>\n",
       "      <td>.</td>\n",
       "      <td>.</td>\n",
       "      <td>NMOV</td>\n",
       "      <td>.</td>\n",
       "      <td>.</td>\n",
       "      <td>.</td>\n",
       "      <td>NMOV</td>\n",
       "      <td>.</td>\n",
       "      <td>.</td>\n",
       "      <td>.</td>\n",
       "      <td>NMOV</td>\n",
       "      <td>.</td>\n",
       "      <td>.</td>\n",
       "      <td>.</td>\n",
       "      <td>NMOV</td>\n",
       "      <td>.</td>\n",
       "      <td>.</td>\n",
       "      <td>.</td>\n",
       "      <td>NMOV</td>\n",
       "      <td>.</td>\n",
       "      <td>.</td>\n",
       "      <td>.</td>\n",
       "      <td></td>\n",
       "      <td></td>\n",
       "      <td></td>\n",
       "      <td></td>\n",
       "      <td></td>\n",
       "      <td></td>\n",
       "      <td></td>\n",
       "      <td></td>\n",
       "      <td></td>\n",
       "      <td></td>\n",
       "      <td></td>\n",
       "      <td></td>\n",
       "      <td></td>\n",
       "      <td></td>\n",
       "      <td>3</td>\n",
       "      <td></td>\n",
       "      <td></td>\n",
       "      <td></td>\n",
       "      <td></td>\n",
       "      <td></td>\n",
       "      <td></td>\n",
       "      <td></td>\n",
       "      <td>NMOV</td>\n",
       "      <td>1</td>\n",
       "      <td></td>\n",
       "      <td></td>\n",
       "      <td></td>\n",
       "      <td></td>\n",
       "      <td></td>\n",
       "      <td></td>\n",
       "      <td></td>\n",
       "      <td></td>\n",
       "      <td></td>\n",
       "      <td></td>\n",
       "      <td></td>\n",
       "      <td></td>\n",
       "      <td></td>\n",
       "      <td></td>\n",
       "      <td></td>\n",
       "      <td></td>\n",
       "      <td></td>\n",
       "      <td>1</td>\n",
       "      <td></td>\n",
       "      <td>240</td>\n",
       "      <td>8</td>\n",
       "      <td>3</td>\n",
       "      <td>0</td>\n",
       "      <td>0</td>\n",
       "      <td>0</td>\n",
       "      <td>0</td>\n",
       "      <td>0</td>\n",
       "      <td>0</td>\n",
       "      <td>0</td>\n",
       "      <td>1</td>\n",
       "      <td>1</td>\n",
       "      <td>2.557220801</td>\n",
       "    </tr>\n",
       "    <tr>\n",
       "      <th>4120</th>\n",
       "      <td>520048</td>\n",
       "      <td>18</td>\n",
       "      <td>1967</td>\n",
       "      <td>10</td>\n",
       "      <td>EU27</td>\n",
       "      <td>1</td>\n",
       "      <td>EU27</td>\n",
       "      <td>NNNN</td>\n",
       "      <td>NNNN</td>\n",
       "      <td>1</td>\n",
       "      <td>1</td>\n",
       "      <td>0</td>\n",
       "      <td>1</td>\n",
       "      <td>1</td>\n",
       "      <td>6</td>\n",
       "      <td>2</td>\n",
       "      <td>2</td>\n",
       "      <td>5</td>\n",
       "      <td>2</td>\n",
       "      <td>N</td>\n",
       "      <td>3</td>\n",
       "      <td>1</td>\n",
       "      <td>1</td>\n",
       "      <td>1</td>\n",
       "      <td>18</td>\n",
       "      <td>12</td>\n",
       "      <td>NN</td>\n",
       "      <td>0</td>\n",
       "      <td>NN</td>\n",
       "      <td>0</td>\n",
       "      <td>1</td>\n",
       "      <td>503</td>\n",
       "      <td>1</td>\n",
       "      <td>0</td>\n",
       "      <td>0</td>\n",
       "      <td>2002</td>\n",
       "      <td>2</td>\n",
       "      <td>6</td>\n",
       "      <td>0</td>\n",
       "      <td>EU27</td>\n",
       "      <td>1994</td>\n",
       "      <td>8</td>\n",
       "      <td>1</td>\n",
       "      <td>0</td>\n",
       "      <td>0</td>\n",
       "      <td>1</td>\n",
       "      <td>70</td>\n",
       "      <td>8</td>\n",
       "      <td>0</td>\n",
       "      <td>85</td>\n",
       "      <td>1995</td>\n",
       "      <td>01</td>\n",
       "      <td>EU27</td>\n",
       "      <td>3</td>\n",
       "      <td>231</td>\n",
       "      <td>2</td>\n",
       "      <td>3</td>\n",
       "      <td>1</td>\n",
       "      <td>1</td>\n",
       "      <td></td>\n",
       "      <td>2</td>\n",
       "      <td>2</td>\n",
       "      <td>2</td>\n",
       "      <td>1</td>\n",
       "      <td>1</td>\n",
       "      <td>2</td>\n",
       "      <td>3</td>\n",
       "      <td>3</td>\n",
       "      <td>2</td>\n",
       "      <td>1</td>\n",
       "      <td>1</td>\n",
       "      <td>1</td>\n",
       "      <td>1</td>\n",
       "      <td>1</td>\n",
       "      <td>1</td>\n",
       "      <td>2</td>\n",
       "      <td>0</td>\n",
       "      <td></td>\n",
       "      <td>NNN</td>\n",
       "      <td>.</td>\n",
       "      <td>.</td>\n",
       "      <td>1</td>\n",
       "      <td>0</td>\n",
       "      <td>0</td>\n",
       "      <td>1</td>\n",
       "      <td>1</td>\n",
       "      <td>1</td>\n",
       "      <td>0</td>\n",
       "      <td>1</td>\n",
       "      <td>0</td>\n",
       "      <td>25</td>\n",
       "      <td>25</td>\n",
       "      <td>50</td>\n",
       "      <td>3</td>\n",
       "      <td></td>\n",
       "      <td></td>\n",
       "      <td></td>\n",
       "      <td></td>\n",
       "      <td></td>\n",
       "      <td></td>\n",
       "      <td></td>\n",
       "      <td></td>\n",
       "      <td></td>\n",
       "      <td></td>\n",
       "      <td></td>\n",
       "      <td></td>\n",
       "      <td></td>\n",
       "      <td></td>\n",
       "      <td></td>\n",
       "      <td></td>\n",
       "      <td></td>\n",
       "      <td></td>\n",
       "      <td></td>\n",
       "      <td></td>\n",
       "      <td></td>\n",
       "      <td>NMOV</td>\n",
       "      <td>.</td>\n",
       "      <td>.</td>\n",
       "      <td>.</td>\n",
       "      <td>NMOV</td>\n",
       "      <td>.</td>\n",
       "      <td>.</td>\n",
       "      <td>.</td>\n",
       "      <td>NMOV</td>\n",
       "      <td>.</td>\n",
       "      <td>.</td>\n",
       "      <td>.</td>\n",
       "      <td>NMOV</td>\n",
       "      <td>.</td>\n",
       "      <td>.</td>\n",
       "      <td>.</td>\n",
       "      <td>NMOV</td>\n",
       "      <td>.</td>\n",
       "      <td>.</td>\n",
       "      <td>.</td>\n",
       "      <td>NMOV</td>\n",
       "      <td>.</td>\n",
       "      <td>.</td>\n",
       "      <td>.</td>\n",
       "      <td>NMOV</td>\n",
       "      <td>.</td>\n",
       "      <td>.</td>\n",
       "      <td>.</td>\n",
       "      <td></td>\n",
       "      <td></td>\n",
       "      <td></td>\n",
       "      <td></td>\n",
       "      <td></td>\n",
       "      <td></td>\n",
       "      <td></td>\n",
       "      <td></td>\n",
       "      <td></td>\n",
       "      <td></td>\n",
       "      <td></td>\n",
       "      <td></td>\n",
       "      <td></td>\n",
       "      <td></td>\n",
       "      <td>2</td>\n",
       "      <td>4</td>\n",
       "      <td></td>\n",
       "      <td></td>\n",
       "      <td>1</td>\n",
       "      <td></td>\n",
       "      <td></td>\n",
       "      <td></td>\n",
       "      <td>EUCA</td>\n",
       "      <td>1</td>\n",
       "      <td></td>\n",
       "      <td></td>\n",
       "      <td></td>\n",
       "      <td></td>\n",
       "      <td></td>\n",
       "      <td></td>\n",
       "      <td></td>\n",
       "      <td></td>\n",
       "      <td></td>\n",
       "      <td></td>\n",
       "      <td>1</td>\n",
       "      <td>1</td>\n",
       "      <td>1</td>\n",
       "      <td>1</td>\n",
       "      <td>1</td>\n",
       "      <td>1</td>\n",
       "      <td></td>\n",
       "      <td></td>\n",
       "      <td></td>\n",
       "      <td>192</td>\n",
       "      <td>50</td>\n",
       "      <td>60</td>\n",
       "      <td>1</td>\n",
       "      <td>0</td>\n",
       "      <td>1</td>\n",
       "      <td>0</td>\n",
       "      <td>1</td>\n",
       "      <td>0</td>\n",
       "      <td>1</td>\n",
       "      <td>1</td>\n",
       "      <td>1</td>\n",
       "      <td>2.557220801</td>\n",
       "    </tr>\n",
       "    <tr>\n",
       "      <th>4121</th>\n",
       "      <td>520050</td>\n",
       "      <td>18</td>\n",
       "      <td>1967</td>\n",
       "      <td>13</td>\n",
       "      <td>EU27</td>\n",
       "      <td>1</td>\n",
       "      <td>EU27</td>\n",
       "      <td>NNNN</td>\n",
       "      <td>NNNN</td>\n",
       "      <td>1</td>\n",
       "      <td>6</td>\n",
       "      <td>0</td>\n",
       "      <td>0</td>\n",
       "      <td>0</td>\n",
       "      <td>6</td>\n",
       "      <td>2</td>\n",
       "      <td>2</td>\n",
       "      <td>5</td>\n",
       "      <td>9</td>\n",
       "      <td>N</td>\n",
       "      <td>1</td>\n",
       "      <td>1</td>\n",
       "      <td>1</td>\n",
       "      <td>1</td>\n",
       "      <td>18</td>\n",
       "      <td>12</td>\n",
       "      <td>NN</td>\n",
       "      <td>0</td>\n",
       "      <td>NN</td>\n",
       "      <td>0</td>\n",
       "      <td>1</td>\n",
       "      <td>602</td>\n",
       "      <td>1</td>\n",
       "      <td>0</td>\n",
       "      <td>0</td>\n",
       "      <td>2004</td>\n",
       "      <td>1</td>\n",
       "      <td>8</td>\n",
       "      <td>0</td>\n",
       "      <td>EU27</td>\n",
       "      <td>1996</td>\n",
       "      <td>8</td>\n",
       "      <td>0</td>\n",
       "      <td>.</td>\n",
       "      <td>.</td>\n",
       "      <td>1</td>\n",
       "      <td>35</td>\n",
       "      <td>5</td>\n",
       "      <td>0</td>\n",
       "      <td>85</td>\n",
       "      <td>1998</td>\n",
       "      <td>18</td>\n",
       "      <td>EU27</td>\n",
       "      <td>2</td>\n",
       "      <td>233</td>\n",
       "      <td></td>\n",
       "      <td>5</td>\n",
       "      <td>2</td>\n",
       "      <td>1</td>\n",
       "      <td></td>\n",
       "      <td>3</td>\n",
       "      <td>3</td>\n",
       "      <td>3</td>\n",
       "      <td>2</td>\n",
       "      <td>2</td>\n",
       "      <td>2</td>\n",
       "      <td>1</td>\n",
       "      <td>1</td>\n",
       "      <td>3</td>\n",
       "      <td>3</td>\n",
       "      <td>2</td>\n",
       "      <td>2</td>\n",
       "      <td>2</td>\n",
       "      <td>2</td>\n",
       "      <td>2</td>\n",
       "      <td>2</td>\n",
       "      <td>0</td>\n",
       "      <td></td>\n",
       "      <td>NNN</td>\n",
       "      <td>.</td>\n",
       "      <td>.</td>\n",
       "      <td>0</td>\n",
       "      <td></td>\n",
       "      <td></td>\n",
       "      <td></td>\n",
       "      <td></td>\n",
       "      <td></td>\n",
       "      <td></td>\n",
       "      <td></td>\n",
       "      <td></td>\n",
       "      <td>.</td>\n",
       "      <td>.</td>\n",
       "      <td>.</td>\n",
       "      <td></td>\n",
       "      <td></td>\n",
       "      <td></td>\n",
       "      <td></td>\n",
       "      <td></td>\n",
       "      <td></td>\n",
       "      <td></td>\n",
       "      <td></td>\n",
       "      <td></td>\n",
       "      <td></td>\n",
       "      <td></td>\n",
       "      <td></td>\n",
       "      <td></td>\n",
       "      <td></td>\n",
       "      <td></td>\n",
       "      <td></td>\n",
       "      <td></td>\n",
       "      <td></td>\n",
       "      <td></td>\n",
       "      <td></td>\n",
       "      <td></td>\n",
       "      <td></td>\n",
       "      <td>NMOV</td>\n",
       "      <td>.</td>\n",
       "      <td>.</td>\n",
       "      <td>.</td>\n",
       "      <td>NMOV</td>\n",
       "      <td>.</td>\n",
       "      <td>.</td>\n",
       "      <td>.</td>\n",
       "      <td>NMOV</td>\n",
       "      <td>.</td>\n",
       "      <td>.</td>\n",
       "      <td>.</td>\n",
       "      <td>NMOV</td>\n",
       "      <td>.</td>\n",
       "      <td>.</td>\n",
       "      <td>.</td>\n",
       "      <td>NMOV</td>\n",
       "      <td>.</td>\n",
       "      <td>.</td>\n",
       "      <td>.</td>\n",
       "      <td>NMOV</td>\n",
       "      <td>.</td>\n",
       "      <td>.</td>\n",
       "      <td>.</td>\n",
       "      <td>NMOV</td>\n",
       "      <td>.</td>\n",
       "      <td>.</td>\n",
       "      <td>.</td>\n",
       "      <td></td>\n",
       "      <td></td>\n",
       "      <td></td>\n",
       "      <td></td>\n",
       "      <td></td>\n",
       "      <td></td>\n",
       "      <td></td>\n",
       "      <td></td>\n",
       "      <td></td>\n",
       "      <td></td>\n",
       "      <td></td>\n",
       "      <td></td>\n",
       "      <td></td>\n",
       "      <td></td>\n",
       "      <td>3</td>\n",
       "      <td></td>\n",
       "      <td></td>\n",
       "      <td></td>\n",
       "      <td></td>\n",
       "      <td></td>\n",
       "      <td></td>\n",
       "      <td></td>\n",
       "      <td>NMOV</td>\n",
       "      <td>0</td>\n",
       "      <td></td>\n",
       "      <td>1</td>\n",
       "      <td></td>\n",
       "      <td>1</td>\n",
       "      <td>1</td>\n",
       "      <td></td>\n",
       "      <td>1</td>\n",
       "      <td></td>\n",
       "      <td>1</td>\n",
       "      <td>0</td>\n",
       "      <td></td>\n",
       "      <td></td>\n",
       "      <td></td>\n",
       "      <td></td>\n",
       "      <td></td>\n",
       "      <td></td>\n",
       "      <td></td>\n",
       "      <td></td>\n",
       "      <td></td>\n",
       "      <td>.</td>\n",
       "      <td>.</td>\n",
       "      <td>.</td>\n",
       "      <td>.</td>\n",
       "      <td>.</td>\n",
       "      <td>.</td>\n",
       "      <td>.</td>\n",
       "      <td>0</td>\n",
       "      <td>0</td>\n",
       "      <td>0</td>\n",
       "      <td>0</td>\n",
       "      <td>0</td>\n",
       "      <td>2.557220801</td>\n",
       "    </tr>\n",
       "  </tbody>\n",
       "</table>\n",
       "</div>"
      ],
      "text/plain": [
       "     MUIDENT CCAARESI ANONAC CCAANAC CONTNACIM RELA CONTNAC1 CONTNAC2  \\\n",
       "4117  520044       18   1949      01      EU27    1     EU27     NNNN   \n",
       "4118  520046       18   1973      01      EU27    1     EU27     NNNN   \n",
       "4119  520047       13   1958      18      EU27    1     EU27     NNNN   \n",
       "4120  520048       18   1967      10      EU27    1     EU27     NNNN   \n",
       "4121  520050       18   1967      13      EU27    1     EU27     NNNN   \n",
       "\n",
       "     CONTNAC3 SEXO ESTADOCIVIL DEPEN5 DEPEN18 DEPENMAS NIVESTPA NIVESTMA  \\\n",
       "4117     NNNN    1           4      0       0        1       3        3    \n",
       "4118     NNNN    1           1      0       2        0       7        6    \n",
       "4119     NNNN    1           6      0       0        0       6        6    \n",
       "4120     NNNN    1           1      0       1        1       6        2    \n",
       "4121     NNNN    1           6      0       0        0       6        2    \n",
       "\n",
       "     NIVPROFPA NIVPROFMA ACTIPRIPA1 ACTIPRIMA1 EDUPRIM EDUSECUN BACHILLER RES  \\\n",
       "4117         2         5          0          N       1        1         1   1   \n",
       "4118         1         1          2          2       3        3         3   1   \n",
       "4119         2         2          4          4       2        2         2   1   \n",
       "4120         2         5          2          N       3        1         1   1   \n",
       "4121         2         5          9          N       1        1         1   1   \n",
       "\n",
       "     CARES1 MESRES1 CARES2 MESRES2 CARES3 MESRES3 DOCTOR CODIDOC INFUN INAPL  \\\n",
       "4117     01      12     NN       0     NN       0      1     602     0     1   \n",
       "4118     18       9     01       3     NN       0      1     601     1     1   \n",
       "4119     13      12     NN       0     NN       0      1     601     1     1   \n",
       "4120     18      12     NN       0     NN       0      1     503     1     0   \n",
       "4121     18      12     NN       0     NN       0      1     602     1     0   \n",
       "\n",
       "     DESTEC ANODOC MESDOC DURDOCANO DURDOCMES CONTEST ANOEST FINADOC TRABDOC  \\\n",
       "4117      0   2000     10         5         2    EU27   1994       6       1   \n",
       "4118      1   2003      9         7         1    EU27   1996       8       1   \n",
       "4119      0   1994      9         2         9    EU27   1990       8       1   \n",
       "4120      0   2002      2         6         0    EU27   1994       8       1   \n",
       "4121      0   2004      1         8         0    EU27   1996       8       0   \n",
       "\n",
       "     ANOSINTRA MESSINTRA SITLAB HTRAB INGRESOS AUTON CNAE2 ANOINIALP CAEMP  \\\n",
       "4117         3         2      3     .                   NN         .    NN   \n",
       "4118         3         3      1    30        3     0    85      2003    18   \n",
       "4119         1         2      1    40        2     0    85      2009    13   \n",
       "4120         0         0      1    70        8     0    85      1995    01   \n",
       "4121         .         .      1    35        5     0    85      1998    18   \n",
       "\n",
       "     CONTEMP SECTOR CODALP CATEGPROF HLECT TIPOCONT JORLAB BUSCATRAB NIVELMIN  \\\n",
       "4117    NNNN           NNN                                                      \n",
       "4118    EU27      2    233               5        1      1                  3   \n",
       "4119    EU27      3    231         3     4        2      1                  3   \n",
       "4120    EU27      3    231         2     3        1      1                  2   \n",
       "4121    EU27      2    233               5        2      1                  3   \n",
       "\n",
       "     NIVELEST RELTRABDOC NIVELSAT1 NIVELSAT2 NIVELSAT3 NIVELSAT4 NIVELSAT5  \\\n",
       "4117                                                                         \n",
       "4118        7          1         1         1         1         1         2   \n",
       "4119        3          2         2         2         2         2         2   \n",
       "4120        2          2         1         1         2         3         3   \n",
       "4121        3          3         2         2         2         1         1   \n",
       "\n",
       "     NIVELSAT6 NIVELSAT7 NIVELSAT8 NIVELSAT9 NIVELSAT10 NIVELSAT11 NIVELSAT12  \\\n",
       "4117                                                                            \n",
       "4118         4         1         1         2          1          2          2   \n",
       "4119         2         2         2         1          2          2          1   \n",
       "4120         2         1         1         1          1          1          1   \n",
       "4121         3         3         2         2          2          2          2   \n",
       "\n",
       "     NIVELSAT13 ACTIANT SECTORANT ACTIPRIANT ACTIANTANO ACTIANTMES TRABPOS  \\\n",
       "4117                                     NNN          .          .           \n",
       "4118          2       0                  NNN          .          .       0   \n",
       "4119          2       1         4        262         10          1       0   \n",
       "4120          2       0                  NNN          .          .       1   \n",
       "4121          2       0                  NNN          .          .       0   \n",
       "\n",
       "     MOTIVOPOS1 MOTIVOPOS2 MOTIVOPOS3 MOTIVOPOS4 MOTIVOPOS5 MOTIVOPOS6  \\\n",
       "4117                                                                     \n",
       "4118                                                                     \n",
       "4119                                                                     \n",
       "4120          0          0          1          1          1          0   \n",
       "4121                                                                     \n",
       "\n",
       "     MOTIVOPOS7 MOTIVOPOS8 PORCINVES PORCDOC PORCOTRAS FINANPOS GESBUSEMP  \\\n",
       "4117                               .       .         .                  0   \n",
       "4118                               .       .         .                      \n",
       "4119                               .       .         .                      \n",
       "4120          1          0        25      25        50        3             \n",
       "4121                               .       .         .                      \n",
       "\n",
       "     PASOSEMP1 PASOSEMP2 PASOSEMP3 PASOSEMP4 PASOSEMP5 PASOSEMP6 PASOSEMP7  \\\n",
       "4117                                                                         \n",
       "4118                                                                         \n",
       "4119                                                                         \n",
       "4120                                                                         \n",
       "4121                                                                         \n",
       "\n",
       "     PASOSEMP8 PASOSEMP9 PASOSEMP10 PASOSEMP11 NOPASOSEMP1 NOPASOSEMP2  \\\n",
       "4117                                                                     \n",
       "4118                                                                     \n",
       "4119                                                                     \n",
       "4120                                                                     \n",
       "4121                                                                     \n",
       "\n",
       "     NOPASOSEMP3 NOPASOSEMP4 NOPASOSEMP5 NOPASOSEMP6 NOPASOSEMP7 NOPASOSEMP8  \\\n",
       "4117                                   1                                       \n",
       "4118                                                                           \n",
       "4119                                                                           \n",
       "4120                                                                           \n",
       "4121                                                                           \n",
       "\n",
       "     NOPASOSEMP9 CONT1 ANOIPAIS1 ANOFPAIS1 MESES1 CONT2 ANOIPAIS2 ANOFPAIS2  \\\n",
       "4117              NMOV         .         .      .  NMOV         .         .   \n",
       "4118              NMOV         .         .      .  NMOV         .         .   \n",
       "4119              NMOV         .         .      .  NMOV         .         .   \n",
       "4120              NMOV         .         .      .  NMOV         .         .   \n",
       "4121              NMOV         .         .      .  NMOV         .         .   \n",
       "\n",
       "     MESES2 CONT3 ANOIPAIS3 ANOFPAIS3 MESES3 CONT4 ANOIPAIS4 ANOFPAIS4 MESES4  \\\n",
       "4117      .  NMOV         .         .      .  NMOV         .         .      .   \n",
       "4118      .  NMOV         .         .      .  NMOV         .         .      .   \n",
       "4119      .  NMOV         .         .      .  NMOV         .         .      .   \n",
       "4120      .  NMOV         .         .      .  NMOV         .         .      .   \n",
       "4121      .  NMOV         .         .      .  NMOV         .         .      .   \n",
       "\n",
       "     CONT5 ANOIPAIS5 ANOFPAIS5 MESES5 CONT6 ANOIPAIS6 ANOFPAIS6 MESES6 CONT7  \\\n",
       "4117  NMOV         .         .      .  NMOV         .         .      .  NMOV   \n",
       "4118  NMOV         .         .      .  NMOV         .         .      .  NMOV   \n",
       "4119  NMOV         .         .      .  NMOV         .         .      .  NMOV   \n",
       "4120  NMOV         .         .      .  NMOV         .         .      .  NMOV   \n",
       "4121  NMOV         .         .      .  NMOV         .         .      .  NMOV   \n",
       "\n",
       "     ANOIPAIS7 ANOFPAIS7 MESES7 MOTFUERA1 MOTFUERA2 MOTFUERA3 MOTFUERA4  \\\n",
       "4117         .         .      .                                           \n",
       "4118         .         .      .                                           \n",
       "4119         .         .      .                                           \n",
       "4120         .         .      .                                           \n",
       "4121         .         .      .                                           \n",
       "\n",
       "     MOTFUERA5 MOTFUERA6 MOTFUERA7 MOTVENIR1 MOTVENIR2 MOTVENIR3 MOTVENIR4  \\\n",
       "4117                                                                         \n",
       "4118                                                                         \n",
       "4119                                                                         \n",
       "4120                                                                         \n",
       "4121                                                                         \n",
       "\n",
       "     MOTVENIR5 MOTVENIR6 MOTVENIR7 PREVIRSE MESANTESIR MOTIRSE1 MOTIRSE2  \\\n",
       "4117                                      3                                \n",
       "4118                                      2          8                     \n",
       "4119                                      3                                \n",
       "4120                                      2          4                     \n",
       "4121                                      3                                \n",
       "\n",
       "     MOTIRSE3 MOTIRSE4 MOTIRSE5 MOTIRSE6 CONTOUT INV MOTNOINV1 MOTNOINV2  \\\n",
       "4117                                        NMOV   1                       \n",
       "4118        1                               EUCA   0                   1   \n",
       "4119                                        NMOV   1                       \n",
       "4120        1                               EUCA   1                       \n",
       "4121                                        NMOV   0                   1   \n",
       "\n",
       "     MOTNOINV3 MOTNOINV4 MOTNOINV5 MOTNOINV6 MOTNOINV7 MOTNOINV8 MOTNOINV9  \\\n",
       "4117                                                                         \n",
       "4118                   1                                                     \n",
       "4119                                                                         \n",
       "4120                                                                         \n",
       "4121                   1         1                   1                   1   \n",
       "\n",
       "     ALGINV MOTINV1 MOTINV2 MOTINV3 MOTINV4 MOTINV5 MOTINV6 MOTINV7 MOTINV8  \\\n",
       "4117                                                                      1   \n",
       "4118      1                                                               1   \n",
       "4119                                                                      1   \n",
       "4120              1       1       1       1       1       1                   \n",
       "4121      0                                                                   \n",
       "\n",
       "     MOTINV9 MESESINV ARTIC LIBROS NUMPAT PATNAC PATEU PATCOOP PATCOM COMPA  \\\n",
       "4117               72     0      1      0      0     0       0      0     0   \n",
       "4118               50    10      3      1      1     0       0      0     0   \n",
       "4119              240     8      3      0      0     0       0      0     0   \n",
       "4120              192    50     60      1      0     1       0      1     0   \n",
       "4121                .     .      .      .      .     .       .      0     0   \n",
       "\n",
       "     TUTOR COOPERA INVFUT       FACTOR  \n",
       "4117     1       1      1  2.557220801  \n",
       "4118     0       1      1  2.557220801  \n",
       "4119     0       1      1  2.557220801  \n",
       "4120     1       1      1  2.557220801  \n",
       "4121     0       0      0  2.557220801  "
      ]
     },
     "execution_count": 342,
     "metadata": {},
     "output_type": "execute_result"
    }
   ],
   "source": [
    "df_raw.tail()"
   ]
  },
  {
   "cell_type": "code",
   "execution_count": 343,
   "metadata": {},
   "outputs": [
    {
     "data": {
      "text/plain": [
       "(4122, 199)"
      ]
     },
     "execution_count": 343,
     "metadata": {},
     "output_type": "execute_result"
    }
   ],
   "source": [
    "df_raw.shape"
   ]
  },
  {
   "cell_type": "code",
   "execution_count": 582,
   "metadata": {},
   "outputs": [],
   "source": [
    "df_raw.to_csv('/home/bea/Escritorio/Encuesta_RRHH_Ciencia_Tecnología/raw_doct.csv')"
   ]
  },
  {
   "cell_type": "markdown",
   "metadata": {},
   "source": [
    "### Variable description, types and missing values"
   ]
  },
  {
   "cell_type": "code",
   "execution_count": 158,
   "metadata": {},
   "outputs": [],
   "source": [
    "df_doct=df_raw"
   ]
  },
  {
   "cell_type": "markdown",
   "metadata": {},
   "source": [
    "#### 'MUIDENT'\n",
    "Índice único del entrevistado."
   ]
  },
  {
   "cell_type": "code",
   "execution_count": 159,
   "metadata": {},
   "outputs": [],
   "source": [
    "df_doct['MUIDENT']=df_doct['MUIDENT'].astype('int') # No missing values"
   ]
  },
  {
   "cell_type": "markdown",
   "metadata": {},
   "source": [
    "#### 'CCAARESI'\n",
    "CCAA de residencia el 31 de diciembre de 2009: '01'=Andalucía, '02'=Aragón, '03'=Asturias (Principado de),\n",
    "'04'=Balears (Illes), '05'=Canarias, '06'=Cantabria, '07'=Castilla y León, '08'=Castilla - La Mancha, '09'=Cataluña, '10'=Comunidad Valenciana, '11'=Extremadura, '12'=Galicia, '13'=Madrid (Comunidad de), '14'=Murcia (Región de), '15'=Navarra (Comunidad Foral de), '16'=País Vasco, '17'=Rioja (La), '18'=Ceuta y Melilla. "
   ]
  },
  {
   "cell_type": "code",
   "execution_count": 160,
   "metadata": {},
   "outputs": [
    {
     "data": {
      "text/plain": [
       "array([ 1,  2,  3,  4,  5,  6,  7,  8,  9, 10, 11, 12, 13, 14, 15, 16, 17,\n",
       "       18])"
      ]
     },
     "execution_count": 160,
     "metadata": {},
     "output_type": "execute_result"
    }
   ],
   "source": [
    "df_doct['CCAARESI']=df_doct['CCAARESI'].astype('int') # No missing values\n",
    "df_doct['CCAARESI'].sort_values().unique()"
   ]
  },
  {
   "cell_type": "markdown",
   "metadata": {},
   "source": [
    "#### 'ANONAC'\n",
    "Año de nacimiento."
   ]
  },
  {
   "cell_type": "code",
   "execution_count": 161,
   "metadata": {},
   "outputs": [
    {
     "data": {
      "text/plain": [
       "array([1940, 1941, 1942, 1943, 1944, 1945, 1946, 1947, 1948, 1949, 1950,\n",
       "       1951, 1952, 1953, 1954, 1955, 1956, 1957, 1958, 1959, 1960, 1961,\n",
       "       1962, 1963, 1964, 1965, 1966, 1967, 1968, 1969, 1970, 1971, 1972,\n",
       "       1973, 1974, 1975, 1976, 1977, 1978, 1979, 1980])"
      ]
     },
     "execution_count": 161,
     "metadata": {},
     "output_type": "execute_result"
    }
   ],
   "source": [
    "df_doct['ANONAC']=df_doct['ANONAC'].astype('int') # No missing values\n",
    "df_doct['ANONAC'].sort_values().unique()"
   ]
  },
  {
   "cell_type": "markdown",
   "metadata": {},
   "source": [
    "#### 'CCAANAC'\n",
    "CCAA de nacimiento (Códigos: vease variable 'CCAARESI')."
   ]
  },
  {
   "cell_type": "code",
   "execution_count": 162,
   "metadata": {},
   "outputs": [
    {
     "data": {
      "text/plain": [
       "array(['16', '13', 'NN', '12', '15', '08', '07', '14', '10', '09', '01',\n",
       "       '11', '04', '02', '03', '06', '18', '05', '17'], dtype=object)"
      ]
     },
     "execution_count": 162,
     "metadata": {},
     "output_type": "execute_result"
    }
   ],
   "source": [
    "df_doct['CCAANAC'].unique() # blank as 'NN' when no answer expected "
   ]
  },
  {
   "cell_type": "code",
   "execution_count": 163,
   "metadata": {},
   "outputs": [
    {
     "data": {
      "text/plain": [
       "array(['01', '02', '03', '04', '05', '06', '07', '08', '09', '10', '11',\n",
       "       '12', '13', '14', '15', '16', '17', '18', None], dtype=object)"
      ]
     },
     "execution_count": 163,
     "metadata": {},
     "output_type": "execute_result"
    }
   ],
   "source": [
    "df_doct['CCAANAC'].replace({'NN':None},inplace=True) # None when not born in Spain\n",
    "df_doct['CCAANAC'].sort_values().unique()"
   ]
  },
  {
   "cell_type": "markdown",
   "metadata": {},
   "source": [
    "#### 'CONTNACIM'\n",
    "Continente de nacimiento: 'EU27'=Unión Europea, 'REUR'=Resto de Europa, 'EUCA'=EEUU y Canadá, 'RAME'=Resto de América, 'AFRI' = África, 'ASIA'=Asia, 'OCEA'=Oceanía, 'NNNN'=Blanco."
   ]
  },
  {
   "cell_type": "code",
   "execution_count": 164,
   "metadata": {},
   "outputs": [
    {
     "data": {
      "text/plain": [
       "array(['EU27', 'RAME', 'REUR', 'EUCA', 'ASIA', 'AFRI', 'OCEA'],\n",
       "      dtype=object)"
      ]
     },
     "execution_count": 164,
     "metadata": {},
     "output_type": "execute_result"
    }
   ],
   "source": [
    "df_doct['CONTNACIM'].unique() # No missing values"
   ]
  },
  {
   "cell_type": "markdown",
   "metadata": {},
   "source": [
    "#### 'RELA'\n",
    "Relación que le une con España: '1'=Español por nacimiento, '2'=Español por nacionalización, '3'=Residente permanente, '4'=Residente temporal, '5'=Refugiado."
   ]
  },
  {
   "cell_type": "code",
   "execution_count": 165,
   "metadata": {},
   "outputs": [
    {
     "data": {
      "text/plain": [
       "array([1, 2, 3, 4])"
      ]
     },
     "execution_count": 165,
     "metadata": {},
     "output_type": "execute_result"
    }
   ],
   "source": [
    "df_doct['RELA']=df_doct['RELA'].astype('int') # No missing values\n",
    "df_doct['RELA'].unique()"
   ]
  },
  {
   "cell_type": "markdown",
   "metadata": {},
   "source": [
    "#### 'CONTNAC1'\n",
    "Continente del pais de su primera nacionalidad (Códigos: vease variable 'CONTNACIM')."
   ]
  },
  {
   "cell_type": "code",
   "execution_count": 166,
   "metadata": {},
   "outputs": [
    {
     "data": {
      "text/plain": [
       "array(['EU27', 'RAME', 'REUR', 'EUCA', 'AFRI', 'ASIA'], dtype=object)"
      ]
     },
     "execution_count": 166,
     "metadata": {},
     "output_type": "execute_result"
    }
   ],
   "source": [
    "df_doct['CONTNAC1'].unique() # No missing values"
   ]
  },
  {
   "cell_type": "markdown",
   "metadata": {},
   "source": [
    "#### 'CONTNAC2'\n",
    "Continente del pais de su segunda nacionalidad (Códigos: vease variable 'CONTNACIM')."
   ]
  },
  {
   "cell_type": "code",
   "execution_count": 167,
   "metadata": {},
   "outputs": [
    {
     "data": {
      "text/plain": [
       "array(['NNNN', 'EU27', 'EUCA', 'RAME', 'AFRI', 'REUR'], dtype=object)"
      ]
     },
     "execution_count": 167,
     "metadata": {},
     "output_type": "execute_result"
    }
   ],
   "source": [
    "df_doct['CONTNAC2'].unique() # Blank as 'NNNN' when no answer expected"
   ]
  },
  {
   "cell_type": "code",
   "execution_count": 168,
   "metadata": {},
   "outputs": [
    {
     "data": {
      "text/plain": [
       "array([None, 'EU27', 'EUCA', 'RAME', 'AFRI', 'REUR'], dtype=object)"
      ]
     },
     "execution_count": 168,
     "metadata": {},
     "output_type": "execute_result"
    }
   ],
   "source": [
    "df_doct['CONTNAC2'].replace({'NNNN':None},inplace=True) # None when no second nationality\n",
    "df_doct['CONTNAC2'].unique()"
   ]
  },
  {
   "cell_type": "markdown",
   "metadata": {},
   "source": [
    "#### 'CONTNAC3'\n",
    "Continente del pais de su tercera nacionalidad (Códigos: vease variable 'CONTNACIM')."
   ]
  },
  {
   "cell_type": "code",
   "execution_count": 169,
   "metadata": {},
   "outputs": [
    {
     "data": {
      "text/plain": [
       "array(['NNNN', 'RAME'], dtype=object)"
      ]
     },
     "execution_count": 169,
     "metadata": {},
     "output_type": "execute_result"
    }
   ],
   "source": [
    "df_doct['CONTNAC3'].unique() # Blank as 'NNNN' when no answer is expected"
   ]
  },
  {
   "cell_type": "code",
   "execution_count": 170,
   "metadata": {},
   "outputs": [
    {
     "data": {
      "text/plain": [
       "array([None, 'RAME'], dtype=object)"
      ]
     },
     "execution_count": 170,
     "metadata": {},
     "output_type": "execute_result"
    }
   ],
   "source": [
    "df_doct['CONTNAC3'].replace({'NNNN':None},inplace=True) # None when no third nationality\n",
    "df_doct['CONTNAC3'].unique()"
   ]
  },
  {
   "cell_type": "markdown",
   "metadata": {},
   "source": [
    "#### 'SEXO'\n",
    "Sexo: '1'=Hombre, '2'='Mujer'"
   ]
  },
  {
   "cell_type": "code",
   "execution_count": 171,
   "metadata": {},
   "outputs": [
    {
     "data": {
      "text/plain": [
       "array([2, 1])"
      ]
     },
     "execution_count": 171,
     "metadata": {},
     "output_type": "execute_result"
    }
   ],
   "source": [
    "df_doct['SEXO']=df_doct['SEXO'].astype('int') # No missing values \n",
    "df_doct['SEXO'].unique() "
   ]
  },
  {
   "cell_type": "markdown",
   "metadata": {},
   "source": [
    "#### 'ESTADOCIVIL'\n",
    "Estado civil: '1'=Casado, '2'=Pareja de hecho, '3'=Separado, '4'=Divorciado, '5'=Viudo, '6'=Soltero."
   ]
  },
  {
   "cell_type": "code",
   "execution_count": 172,
   "metadata": {},
   "outputs": [
    {
     "data": {
      "text/plain": [
       "array([1, 2, 3, 4, 5, 6])"
      ]
     },
     "execution_count": 172,
     "metadata": {},
     "output_type": "execute_result"
    }
   ],
   "source": [
    "df_doct['ESTADOCIVIL']=df_doct['ESTADOCIVIL'].astype('int') # No missing values\n",
    "df_doct['ESTADOCIVIL'].sort_values().unique()"
   ]
  },
  {
   "cell_type": "markdown",
   "metadata": {},
   "source": [
    "#### 'DEPEN5'\n",
    "Número de personas dependientes a su cargo de 5 años o menos.  "
   ]
  },
  {
   "cell_type": "code",
   "execution_count": 173,
   "metadata": {},
   "outputs": [
    {
     "data": {
      "text/plain": [
       "array([0, 1, 2, 3, 5])"
      ]
     },
     "execution_count": 173,
     "metadata": {},
     "output_type": "execute_result"
    }
   ],
   "source": [
    "df_doct['DEPEN5']=df_doct['DEPEN5'].astype('int') # No missing values\n",
    "df_doct['DEPEN5'].sort_values().unique()"
   ]
  },
  {
   "cell_type": "markdown",
   "metadata": {},
   "source": [
    "#### 'DEPEN18'\n",
    "Número de personas dependientes a su cargo de 6 a 18 años."
   ]
  },
  {
   "cell_type": "code",
   "execution_count": 174,
   "metadata": {},
   "outputs": [
    {
     "data": {
      "text/plain": [
       "array([0, 1, 2, 3, 4, 5, 6])"
      ]
     },
     "execution_count": 174,
     "metadata": {},
     "output_type": "execute_result"
    }
   ],
   "source": [
    "df_doct['DEPEN18']=df_doct['DEPEN18'].astype('int') # No missing values\n",
    "df_doct['DEPEN18'].sort_values().unique()"
   ]
  },
  {
   "cell_type": "markdown",
   "metadata": {},
   "source": [
    "#### 'DEPENMAS'\n",
    "Número de personas dependientes a su cargo de más de 18 años."
   ]
  },
  {
   "cell_type": "code",
   "execution_count": 175,
   "metadata": {},
   "outputs": [
    {
     "data": {
      "text/plain": [
       "array([0, 1, 2, 3, 4, 6])"
      ]
     },
     "execution_count": 175,
     "metadata": {},
     "output_type": "execute_result"
    }
   ],
   "source": [
    "df_doct['DEPENMAS']=df_doct['DEPENMAS'].astype('int') # No missing values\n",
    "df_doct['DEPENMAS'].sort_values().unique()"
   ]
  },
  {
   "cell_type": "markdown",
   "metadata": {},
   "source": [
    "#### 'NIVESTPA'\n",
    "Nivel educativo del padre: '1'=Sin estudios, '2'=Enseñanza Primaria Incompleta, '3'=ESO,EGB,Primaria completa o equivalente, '4'=FP I, '5'=FP II, '6'=Bachiller Superior,BUP,COU, '7'=Diplomado,Arquitecto o Ingeniero Técnico o equiv, '8'=Licenciado,Arquitecto o Ingeniero Superior o equiv, '9'=Doctorado,postgrado o especialización para licenciados, '10'=NS/NC."
   ]
  },
  {
   "cell_type": "code",
   "execution_count": 176,
   "metadata": {},
   "outputs": [
    {
     "data": {
      "text/plain": [
       "array([ 1,  2,  3,  4,  5,  6,  7,  8,  9, 10])"
      ]
     },
     "execution_count": 176,
     "metadata": {},
     "output_type": "execute_result"
    }
   ],
   "source": [
    "df_doct['NIVESTPA']=df_doct['NIVESTPA'].astype('int') # No missing values (NS/NC as value '10')\n",
    "df_doct['NIVESTPA'].sort_values().unique()"
   ]
  },
  {
   "cell_type": "code",
   "execution_count": 177,
   "metadata": {},
   "outputs": [
    {
     "data": {
      "text/plain": [
       "3     866\n",
       "2     848\n",
       "8     657\n",
       "7     506\n",
       "6     340\n",
       "9     316\n",
       "1     267\n",
       "5     166\n",
       "4     123\n",
       "10     33\n",
       "Name: NIVESTPA, dtype: int64"
      ]
     },
     "execution_count": 177,
     "metadata": {},
     "output_type": "execute_result"
    }
   ],
   "source": [
    "df_doct['NIVESTPA'].value_counts()"
   ]
  },
  {
   "cell_type": "code",
   "execution_count": 178,
   "metadata": {},
   "outputs": [
    {
     "data": {
      "text/plain": [
       "array([ 1.,  2.,  3.,  4.,  5.,  6.,  7.,  8.,  9., nan])"
      ]
     },
     "execution_count": 178,
     "metadata": {},
     "output_type": "execute_result"
    }
   ],
   "source": [
    "# Sustituyo NS/NC por None (evita que sea interpretada como el nivel de estudios más alto recogido)\n",
    "df_doct['NIVESTPA'].replace({10:None},inplace=True)\n",
    "df_doct['NIVESTPA']=df_doct['NIVESTPA'].astype('float')\n",
    "df_doct['NIVESTPA'].sort_values().unique()"
   ]
  },
  {
   "cell_type": "markdown",
   "metadata": {},
   "source": [
    "#### 'NIVESTMA'\n",
    "Nivel educativo de la madre (Códigos: véase la variable 'NIVESTPA')."
   ]
  },
  {
   "cell_type": "code",
   "execution_count": 179,
   "metadata": {},
   "outputs": [
    {
     "data": {
      "text/plain": [
       "array([ 1,  2,  3,  4,  5,  6,  7,  8,  9, 10])"
      ]
     },
     "execution_count": 179,
     "metadata": {},
     "output_type": "execute_result"
    }
   ],
   "source": [
    "df_doct['NIVESTMA']=df_doct['NIVESTMA'].astype('int') # No missing values\n",
    "df_doct['NIVESTMA'].sort_values().unique()"
   ]
  },
  {
   "cell_type": "code",
   "execution_count": 180,
   "metadata": {},
   "outputs": [
    {
     "data": {
      "text/plain": [
       "3     1247\n",
       "2     1137\n",
       "7      445\n",
       "6      403\n",
       "1      363\n",
       "8      298\n",
       "9       81\n",
       "4       71\n",
       "5       54\n",
       "10      23\n",
       "Name: NIVESTMA, dtype: int64"
      ]
     },
     "execution_count": 180,
     "metadata": {},
     "output_type": "execute_result"
    }
   ],
   "source": [
    "df_doct['NIVESTMA'].value_counts()"
   ]
  },
  {
   "cell_type": "code",
   "execution_count": 181,
   "metadata": {},
   "outputs": [
    {
     "data": {
      "text/plain": [
       "array([ 1.,  2.,  3.,  4.,  5.,  6.,  7.,  8.,  9., nan])"
      ]
     },
     "execution_count": 181,
     "metadata": {},
     "output_type": "execute_result"
    }
   ],
   "source": [
    "# Sustituyo NS/NC por None (evita que sea interpretada como el nivel de estudios más alto alcanzable)\n",
    "df_doct['NIVESTMA'].replace({10:None},inplace=True)\n",
    "df_doct['NIVESTMA']=df_doct['NIVESTMA'].astype('float')\n",
    "df_doct['NIVESTMA'].sort_values().unique()"
   ]
  },
  {
   "cell_type": "markdown",
   "metadata": {},
   "source": [
    "#### 'NIVPROFPA'\n",
    "Sector al que pertenece la principal organización en la que ha trabajado el padre del encuestado: 1=Empresas, 2=AAPP, 3=Enseñanza superior, 4=IPSFL, 5=No ha trabajado nunca, 6=otros."
   ]
  },
  {
   "cell_type": "code",
   "execution_count": 182,
   "metadata": {},
   "outputs": [
    {
     "data": {
      "text/plain": [
       "array([1, 2, 3, 4, 6])"
      ]
     },
     "execution_count": 182,
     "metadata": {},
     "output_type": "execute_result"
    }
   ],
   "source": [
    "df_doct['NIVPROFPA']=df_doct['NIVPROFPA'].astype('int') # No missing values\n",
    "df_doct['NIVPROFPA'].sort_values().unique()"
   ]
  },
  {
   "cell_type": "markdown",
   "metadata": {},
   "source": [
    "#### 'NIVPROFMA'\n",
    "Sector al que pertenece la principal organización en la que ha trabajado la madre del encuestado (Códigos: véase la variable 'NIVPROFPA')."
   ]
  },
  {
   "cell_type": "code",
   "execution_count": 183,
   "metadata": {},
   "outputs": [
    {
     "data": {
      "text/plain": [
       "array([1, 2, 3, 4, 5, 6])"
      ]
     },
     "execution_count": 183,
     "metadata": {},
     "output_type": "execute_result"
    }
   ],
   "source": [
    "df_doct['NIVPROFMA']=df_doct['NIVPROFMA'].astype('int') # No missing values\n",
    "df_doct['NIVPROFMA'].sort_values().unique()"
   ]
  },
  {
   "cell_type": "markdown",
   "metadata": {},
   "source": [
    "#### 'ACTIPRIPA1'\n",
    "Sector de actividad laboral principal del padre: Código de actividad laboral válido a 1 dígito o blanco"
   ]
  },
  {
   "cell_type": "code",
   "execution_count": 184,
   "metadata": {},
   "outputs": [
    {
     "data": {
      "text/plain": [
       "array([0, 1, 2, 3, 4, 5, 6, 7, 8, 9])"
      ]
     },
     "execution_count": 184,
     "metadata": {},
     "output_type": "execute_result"
    }
   ],
   "source": [
    "df_doct['ACTIPRIPA1']=df_doct['ACTIPRIPA1'].astype('int') # No missing values\n",
    "df_doct['ACTIPRIPA1'].sort_values().unique()"
   ]
  },
  {
   "cell_type": "markdown",
   "metadata": {},
   "source": [
    "#### 'ACTIPRIMA1'\n",
    "Sector de actividad laboral principal de la madre: Código de actividad laboral válido a 1 dígito o blanco"
   ]
  },
  {
   "cell_type": "code",
   "execution_count": 185,
   "metadata": {},
   "outputs": [
    {
     "data": {
      "text/plain": [
       "array(['2', 'N', '9', '5', '1', '4', '7', '6', '3', '8', '0'],\n",
       "      dtype=object)"
      ]
     },
     "execution_count": 185,
     "metadata": {},
     "output_type": "execute_result"
    }
   ],
   "source": [
    "df_doct['ACTIPRIMA1'].unique() # Blank as 'N' "
   ]
  },
  {
   "cell_type": "code",
   "execution_count": 186,
   "metadata": {},
   "outputs": [
    {
     "data": {
      "text/html": [
       "<div>\n",
       "<style scoped>\n",
       "    .dataframe tbody tr th:only-of-type {\n",
       "        vertical-align: middle;\n",
       "    }\n",
       "\n",
       "    .dataframe tbody tr th {\n",
       "        vertical-align: top;\n",
       "    }\n",
       "\n",
       "    .dataframe thead tr th {\n",
       "        text-align: left;\n",
       "    }\n",
       "\n",
       "    .dataframe thead tr:last-of-type th {\n",
       "        text-align: right;\n",
       "    }\n",
       "</style>\n",
       "<table border=\"1\" class=\"dataframe\">\n",
       "  <thead>\n",
       "    <tr>\n",
       "      <th></th>\n",
       "      <th>ACTIPRIMA1</th>\n",
       "    </tr>\n",
       "    <tr>\n",
       "      <th></th>\n",
       "      <th>unique</th>\n",
       "    </tr>\n",
       "    <tr>\n",
       "      <th>NIVPROFMA</th>\n",
       "      <th></th>\n",
       "    </tr>\n",
       "  </thead>\n",
       "  <tbody>\n",
       "    <tr>\n",
       "      <th>1</th>\n",
       "      <td>[5, 4, 2, 9, 7, 6, 3, 8, 1, 0]</td>\n",
       "    </tr>\n",
       "    <tr>\n",
       "      <th>2</th>\n",
       "      <td>[2, 9, 1, 4, 5, 3]</td>\n",
       "    </tr>\n",
       "    <tr>\n",
       "      <th>3</th>\n",
       "      <td>[2, 3, 1]</td>\n",
       "    </tr>\n",
       "    <tr>\n",
       "      <th>4</th>\n",
       "      <td>[2, 9, 4, 5]</td>\n",
       "    </tr>\n",
       "    <tr>\n",
       "      <th>5</th>\n",
       "      <td>[N]</td>\n",
       "    </tr>\n",
       "    <tr>\n",
       "      <th>6</th>\n",
       "      <td>[2]</td>\n",
       "    </tr>\n",
       "  </tbody>\n",
       "</table>\n",
       "</div>"
      ],
      "text/plain": [
       "                               ACTIPRIMA1\n",
       "                                   unique\n",
       "NIVPROFMA                                \n",
       "1          [5, 4, 2, 9, 7, 6, 3, 8, 1, 0]\n",
       "2                      [2, 9, 1, 4, 5, 3]\n",
       "3                               [2, 3, 1]\n",
       "4                            [2, 9, 4, 5]\n",
       "5                                     [N]\n",
       "6                                     [2]"
      ]
     },
     "execution_count": 186,
     "metadata": {},
     "output_type": "execute_result"
    }
   ],
   "source": [
    "# Blank when no answer is expected (no paid activity). No missing values\n",
    "df_doct[['NIVPROFMA','ACTIPRIMA1']].groupby('NIVPROFMA').agg(['unique'])"
   ]
  },
  {
   "cell_type": "code",
   "execution_count": 187,
   "metadata": {},
   "outputs": [
    {
     "data": {
      "text/plain": [
       "array([ 0.,  1.,  2.,  3.,  4.,  5.,  6.,  7.,  8.,  9., nan])"
      ]
     },
     "execution_count": 187,
     "metadata": {},
     "output_type": "execute_result"
    }
   ],
   "source": [
    "df_doct['ACTIPRIMA1'].replace({'N':None},inplace=True) # None when no paid activity (no missing values)\n",
    "df_doct['ACTIPRIMA1']=df_doct['ACTIPRIMA1'].astype('float')  \n",
    "df_doct['ACTIPRIMA1'].sort_values().unique()"
   ]
  },
  {
   "cell_type": "markdown",
   "metadata": {},
   "source": [
    "#### 'EDUPRIM'\n",
    "Tipo de centro en que cursó la educación primaria: 1=Centro Público, 2=Centro Concertado, 3=Centro Privado."
   ]
  },
  {
   "cell_type": "code",
   "execution_count": 188,
   "metadata": {},
   "outputs": [
    {
     "data": {
      "text/plain": [
       "array([1, 2, 3])"
      ]
     },
     "execution_count": 188,
     "metadata": {},
     "output_type": "execute_result"
    }
   ],
   "source": [
    "df_doct['EDUPRIM']=df_doct['EDUPRIM'].astype('int') # No missing values\n",
    "df_doct['EDUPRIM'].sort_values().unique()"
   ]
  },
  {
   "cell_type": "markdown",
   "metadata": {},
   "source": [
    "#### 'EDUSECUN'\n",
    "Tipo de centro en que cursó la educacion secundaria o la FP II (Códigos: vease la variable 'EDUPRIM')."
   ]
  },
  {
   "cell_type": "code",
   "execution_count": 189,
   "metadata": {},
   "outputs": [
    {
     "data": {
      "text/plain": [
       "array([1, 2, 3])"
      ]
     },
     "execution_count": 189,
     "metadata": {},
     "output_type": "execute_result"
    }
   ],
   "source": [
    "df_doct['EDUSECUN']=df_doct['EDUSECUN'].astype('int') # No missing values\n",
    "df_doct['EDUSECUN'].sort_values().unique()"
   ]
  },
  {
   "cell_type": "markdown",
   "metadata": {},
   "source": [
    "#### 'BACHILLER'\n",
    "Tipo de centro en que cursó el bachillerato (Códigos: vease la variable 'EDUPRIM')."
   ]
  },
  {
   "cell_type": "code",
   "execution_count": 190,
   "metadata": {},
   "outputs": [
    {
     "data": {
      "text/plain": [
       "array([1, 2, 3])"
      ]
     },
     "execution_count": 190,
     "metadata": {},
     "output_type": "execute_result"
    }
   ],
   "source": [
    "df_doct['BACHILLER']=df_doct['BACHILLER'].astype('int') # No missing values\n",
    "df_doct['BACHILLER'].sort_values().unique()"
   ]
  },
  {
   "cell_type": "markdown",
   "metadata": {},
   "source": [
    "#### 'RES'\n",
    "¿Residió en España en algún periodo de 2009? 0=No, 1=Sí. "
   ]
  },
  {
   "cell_type": "code",
   "execution_count": 191,
   "metadata": {},
   "outputs": [
    {
     "data": {
      "text/plain": [
       "array([1, 0])"
      ]
     },
     "execution_count": 191,
     "metadata": {},
     "output_type": "execute_result"
    }
   ],
   "source": [
    "df_doct['RES']=df_doct['RES'].astype('int') # No missing values\n",
    "df_doct['RES'].unique()"
   ]
  },
  {
   "cell_type": "markdown",
   "metadata": {},
   "source": [
    "#### 'CARES1'\n",
    "Primera CCAA de residencia en 2009 (Códigos: véase la variable 'CCAARESI')."
   ]
  },
  {
   "cell_type": "code",
   "execution_count": 192,
   "metadata": {},
   "outputs": [
    {
     "data": {
      "text/plain": [
       "array(['16', 'NN', '13', '09', '08', '01', '07', '10', '11', '04', '05',\n",
       "       '06', '12', '03', '14', '02', '17', '15', '18'], dtype=object)"
      ]
     },
     "execution_count": 192,
     "metadata": {},
     "output_type": "execute_result"
    }
   ],
   "source": [
    "df_doct['CARES1'].unique() # Blank as 'NN' when no answer is expected "
   ]
  },
  {
   "cell_type": "code",
   "execution_count": 193,
   "metadata": {},
   "outputs": [
    {
     "data": {
      "text/html": [
       "<div>\n",
       "<style scoped>\n",
       "    .dataframe tbody tr th:only-of-type {\n",
       "        vertical-align: middle;\n",
       "    }\n",
       "\n",
       "    .dataframe tbody tr th {\n",
       "        vertical-align: top;\n",
       "    }\n",
       "\n",
       "    .dataframe thead tr th {\n",
       "        text-align: left;\n",
       "    }\n",
       "\n",
       "    .dataframe thead tr:last-of-type th {\n",
       "        text-align: right;\n",
       "    }\n",
       "</style>\n",
       "<table border=\"1\" class=\"dataframe\">\n",
       "  <thead>\n",
       "    <tr>\n",
       "      <th></th>\n",
       "      <th>CARES1</th>\n",
       "    </tr>\n",
       "    <tr>\n",
       "      <th></th>\n",
       "      <th>unique</th>\n",
       "    </tr>\n",
       "    <tr>\n",
       "      <th>RES</th>\n",
       "      <th></th>\n",
       "    </tr>\n",
       "  </thead>\n",
       "  <tbody>\n",
       "    <tr>\n",
       "      <th>0</th>\n",
       "      <td>[NN]</td>\n",
       "    </tr>\n",
       "    <tr>\n",
       "      <th>1</th>\n",
       "      <td>[16, 13, 09, 08, 01, 07, 10, 11, 04, 05, 06, 12, 03, 14, 02, 17, 15, 18]</td>\n",
       "    </tr>\n",
       "  </tbody>\n",
       "</table>\n",
       "</div>"
      ],
      "text/plain": [
       "                                                                       CARES1\n",
       "                                                                       unique\n",
       "RES                                                                          \n",
       "0                                                                        [NN]\n",
       "1    [16, 13, 09, 08, 01, 07, 10, 11, 04, 05, 06, 12, 03, 14, 02, 17, 15, 18]"
      ]
     },
     "execution_count": 193,
     "metadata": {},
     "output_type": "execute_result"
    }
   ],
   "source": [
    "df_doct[['RES','CARES1']].groupby('RES').agg(['unique']) # 'NN' when not lived in Spain during 2009 "
   ]
  },
  {
   "cell_type": "code",
   "execution_count": 194,
   "metadata": {},
   "outputs": [
    {
     "data": {
      "text/plain": [
       "array(['01', '02', '03', '04', '05', '06', '07', '08', '09', '10', '11',\n",
       "       '12', '13', '14', '15', '16', '17', '18', None], dtype=object)"
      ]
     },
     "execution_count": 194,
     "metadata": {},
     "output_type": "execute_result"
    }
   ],
   "source": [
    "df_doct['CARES1'].replace({'NN':None},inplace=True) \n",
    "df_doct['CARES1'].sort_values().unique()"
   ]
  },
  {
   "cell_type": "markdown",
   "metadata": {},
   "source": [
    "#### 'MESRES1'\n",
    "Duración en meses del periodo de 2009 en que residió en la primera CCAA identificada."
   ]
  },
  {
   "cell_type": "code",
   "execution_count": 195,
   "metadata": {},
   "outputs": [
    {
     "data": {
      "text/plain": [
       "array(['12', ' .', ' 8', '10', ' 6', ' 9', '11', ' 7', ' 5', ' 3', ' 4',\n",
       "       ' 1', ' 2'], dtype=object)"
      ]
     },
     "execution_count": 195,
     "metadata": {},
     "output_type": "execute_result"
    }
   ],
   "source": [
    "df_doct['MESRES1'].unique() # Blank as ' .' "
   ]
  },
  {
   "cell_type": "code",
   "execution_count": 196,
   "metadata": {},
   "outputs": [
    {
     "data": {
      "text/html": [
       "<div>\n",
       "<style scoped>\n",
       "    .dataframe tbody tr th:only-of-type {\n",
       "        vertical-align: middle;\n",
       "    }\n",
       "\n",
       "    .dataframe tbody tr th {\n",
       "        vertical-align: top;\n",
       "    }\n",
       "\n",
       "    .dataframe thead tr th {\n",
       "        text-align: left;\n",
       "    }\n",
       "\n",
       "    .dataframe thead tr:last-of-type th {\n",
       "        text-align: right;\n",
       "    }\n",
       "</style>\n",
       "<table border=\"1\" class=\"dataframe\">\n",
       "  <thead>\n",
       "    <tr>\n",
       "      <th></th>\n",
       "      <th>MESRES1</th>\n",
       "    </tr>\n",
       "    <tr>\n",
       "      <th></th>\n",
       "      <th>unique</th>\n",
       "    </tr>\n",
       "    <tr>\n",
       "      <th>RES</th>\n",
       "      <th></th>\n",
       "    </tr>\n",
       "  </thead>\n",
       "  <tbody>\n",
       "    <tr>\n",
       "      <th>0</th>\n",
       "      <td>[ .]</td>\n",
       "    </tr>\n",
       "    <tr>\n",
       "      <th>1</th>\n",
       "      <td>[12,  8, 10,  6,  9, 11,  7,  5,  3,  4,  1,  2]</td>\n",
       "    </tr>\n",
       "  </tbody>\n",
       "</table>\n",
       "</div>"
      ],
      "text/plain": [
       "                                              MESRES1\n",
       "                                               unique\n",
       "RES                                                  \n",
       "0                                                [ .]\n",
       "1    [12,  8, 10,  6,  9, 11,  7,  5,  3,  4,  1,  2]"
      ]
     },
     "execution_count": 196,
     "metadata": {},
     "output_type": "execute_result"
    }
   ],
   "source": [
    "df_doct[['RES','MESRES1']].groupby('RES').agg(['unique']) # ' .' when not lived in Spain during 2009 (no missing values)"
   ]
  },
  {
   "cell_type": "code",
   "execution_count": 197,
   "metadata": {},
   "outputs": [
    {
     "data": {
      "text/plain": [
       "array([ 1.,  2.,  3.,  4.,  5.,  6.,  7.,  8.,  9., 10., 11., 12., nan])"
      ]
     },
     "execution_count": 197,
     "metadata": {},
     "output_type": "execute_result"
    }
   ],
   "source": [
    "df_doct['MESRES1'].replace({' .':None},inplace=True) # None when not lived in Spain during 2009\n",
    "df_doct['MESRES1']=df_doct['MESRES1'].astype('float')\n",
    "df_doct['MESRES1'].sort_values().unique()"
   ]
  },
  {
   "cell_type": "code",
   "execution_count": 198,
   "metadata": {},
   "outputs": [
    {
     "data": {
      "text/html": [
       "<div>\n",
       "<style scoped>\n",
       "    .dataframe tbody tr th:only-of-type {\n",
       "        vertical-align: middle;\n",
       "    }\n",
       "\n",
       "    .dataframe tbody tr th {\n",
       "        vertical-align: top;\n",
       "    }\n",
       "\n",
       "    .dataframe thead tr th {\n",
       "        text-align: left;\n",
       "    }\n",
       "\n",
       "    .dataframe thead tr:last-of-type th {\n",
       "        text-align: right;\n",
       "    }\n",
       "</style>\n",
       "<table border=\"1\" class=\"dataframe\">\n",
       "  <thead>\n",
       "    <tr>\n",
       "      <th></th>\n",
       "      <th>MESRES1</th>\n",
       "    </tr>\n",
       "    <tr>\n",
       "      <th></th>\n",
       "      <th>unique</th>\n",
       "    </tr>\n",
       "    <tr>\n",
       "      <th>RES</th>\n",
       "      <th></th>\n",
       "    </tr>\n",
       "  </thead>\n",
       "  <tbody>\n",
       "    <tr>\n",
       "      <th>0</th>\n",
       "      <td>[nan]</td>\n",
       "    </tr>\n",
       "    <tr>\n",
       "      <th>1</th>\n",
       "      <td>[12.0, 8.0, 10.0, 6.0, 9.0, 11.0, 7.0, 5.0, 3.0, 4.0, 1.0, 2.0]</td>\n",
       "    </tr>\n",
       "  </tbody>\n",
       "</table>\n",
       "</div>"
      ],
      "text/plain": [
       "                                                             MESRES1\n",
       "                                                              unique\n",
       "RES                                                                 \n",
       "0                                                              [nan]\n",
       "1    [12.0, 8.0, 10.0, 6.0, 9.0, 11.0, 7.0, 5.0, 3.0, 4.0, 1.0, 2.0]"
      ]
     },
     "execution_count": 198,
     "metadata": {},
     "output_type": "execute_result"
    }
   ],
   "source": [
    "df_doct[['RES','MESRES1']].groupby('RES').agg(['unique'])"
   ]
  },
  {
   "cell_type": "markdown",
   "metadata": {},
   "source": [
    "#### 'CARES2'\n",
    "Segunda CCAA de residencia en 2009 (Códigos: véase la variable 'CCAARESI')."
   ]
  },
  {
   "cell_type": "code",
   "execution_count": 199,
   "metadata": {},
   "outputs": [
    {
     "data": {
      "text/plain": [
       "array(['NN', '08', '10', '13', '01', '09', '11', '04', '03', '02', '05',\n",
       "       '16', '12', '07', '17', '06', '15', '18'], dtype=object)"
      ]
     },
     "execution_count": 199,
     "metadata": {},
     "output_type": "execute_result"
    }
   ],
   "source": [
    "df_doct['CARES2'].unique() # Blank as 'NN' "
   ]
  },
  {
   "cell_type": "code",
   "execution_count": 200,
   "metadata": {},
   "outputs": [
    {
     "data": {
      "text/plain": [
       "array(['01', '02', '03', '04', '05', '06', '07', '08', '09', '10', '11',\n",
       "       '12', '13', '15', '16', '17', '18', 'None'], dtype=object)"
      ]
     },
     "execution_count": 200,
     "metadata": {},
     "output_type": "execute_result"
    }
   ],
   "source": [
    "df_doct['CARES2'].replace({'NN':'None'},inplace=True) # 'None' when not lived in two different CCAA during 2009\n",
    "# 'None' as a string (above) to allow for checking the next variable values associated to this question being not answered\n",
    "df_doct['CARES2'].sort_values().unique()"
   ]
  },
  {
   "cell_type": "markdown",
   "metadata": {},
   "source": [
    "#### 'MESRES2'\n",
    "Duración en meses del periodo de 2009 en que residió en la segunda CCAA identificada."
   ]
  },
  {
   "cell_type": "code",
   "execution_count": 201,
   "metadata": {},
   "outputs": [
    {
     "data": {
      "text/plain": [
       "array([' 0', ' .', ' 6', ' 4', ' 1', ' 2', ' 3', ' 7', ' 9', ' 5', '10',\n",
       "       '11', ' 8'], dtype=object)"
      ]
     },
     "execution_count": 201,
     "metadata": {},
     "output_type": "execute_result"
    }
   ],
   "source": [
    "df_doct['MESRES2'].unique() # Blank as ' .' "
   ]
  },
  {
   "cell_type": "code",
   "execution_count": 202,
   "metadata": {},
   "outputs": [
    {
     "data": {
      "text/html": [
       "<div>\n",
       "<style scoped>\n",
       "    .dataframe tbody tr th:only-of-type {\n",
       "        vertical-align: middle;\n",
       "    }\n",
       "\n",
       "    .dataframe tbody tr th {\n",
       "        vertical-align: top;\n",
       "    }\n",
       "\n",
       "    .dataframe thead tr th {\n",
       "        text-align: left;\n",
       "    }\n",
       "\n",
       "    .dataframe thead tr:last-of-type th {\n",
       "        text-align: right;\n",
       "    }\n",
       "</style>\n",
       "<table border=\"1\" class=\"dataframe\">\n",
       "  <thead>\n",
       "    <tr>\n",
       "      <th></th>\n",
       "      <th>MESRES2</th>\n",
       "    </tr>\n",
       "    <tr>\n",
       "      <th></th>\n",
       "      <th>unique</th>\n",
       "    </tr>\n",
       "    <tr>\n",
       "      <th>CARES2</th>\n",
       "      <th></th>\n",
       "    </tr>\n",
       "  </thead>\n",
       "  <tbody>\n",
       "    <tr>\n",
       "      <th>01</th>\n",
       "      <td>[ 4,  1,  5,  6,  2,  3,  7,  8, 10]</td>\n",
       "    </tr>\n",
       "    <tr>\n",
       "      <th>02</th>\n",
       "      <td>[ 4,  6,  3, 10,  1,  8, 11]</td>\n",
       "    </tr>\n",
       "    <tr>\n",
       "      <th>03</th>\n",
       "      <td>[ 4,  1,  2,  3,  6]</td>\n",
       "    </tr>\n",
       "    <tr>\n",
       "      <th>04</th>\n",
       "      <td>[ 1,  6,  9,  3]</td>\n",
       "    </tr>\n",
       "    <tr>\n",
       "      <th>05</th>\n",
       "      <td>[ 2,  3,  9,  1]</td>\n",
       "    </tr>\n",
       "    <tr>\n",
       "      <th>06</th>\n",
       "      <td>[ 2, 10,  1,  3,  5]</td>\n",
       "    </tr>\n",
       "    <tr>\n",
       "      <th>07</th>\n",
       "      <td>[ 1,  2,  9,  5,  6,  4]</td>\n",
       "    </tr>\n",
       "    <tr>\n",
       "      <th>08</th>\n",
       "      <td>[ 6,  7,  3,  2,  1,  4]</td>\n",
       "    </tr>\n",
       "    <tr>\n",
       "      <th>09</th>\n",
       "      <td>[ 2,  6,  4,  1,  5,  9,  8]</td>\n",
       "    </tr>\n",
       "    <tr>\n",
       "      <th>10</th>\n",
       "      <td>[ 4,  1, 11,  2,  3]</td>\n",
       "    </tr>\n",
       "    <tr>\n",
       "      <th>11</th>\n",
       "      <td>[ 2]</td>\n",
       "    </tr>\n",
       "    <tr>\n",
       "      <th>12</th>\n",
       "      <td>[ 1,  4,  2,  3,  5,  9]</td>\n",
       "    </tr>\n",
       "    <tr>\n",
       "      <th>13</th>\n",
       "      <td>[ 1,  3,  2,  4,  7,  5,  8,  6,  9]</td>\n",
       "    </tr>\n",
       "    <tr>\n",
       "      <th>15</th>\n",
       "      <td>[ 1,  6]</td>\n",
       "    </tr>\n",
       "    <tr>\n",
       "      <th>16</th>\n",
       "      <td>[ 1,  3,  7,  6]</td>\n",
       "    </tr>\n",
       "    <tr>\n",
       "      <th>17</th>\n",
       "      <td>[ 1,  6]</td>\n",
       "    </tr>\n",
       "    <tr>\n",
       "      <th>18</th>\n",
       "      <td>[ 1,  9,  6]</td>\n",
       "    </tr>\n",
       "    <tr>\n",
       "      <th>None</th>\n",
       "      <td>[ 0,  .]</td>\n",
       "    </tr>\n",
       "  </tbody>\n",
       "</table>\n",
       "</div>"
      ],
      "text/plain": [
       "                                     MESRES2\n",
       "                                      unique\n",
       "CARES2                                      \n",
       "01      [ 4,  1,  5,  6,  2,  3,  7,  8, 10]\n",
       "02              [ 4,  6,  3, 10,  1,  8, 11]\n",
       "03                      [ 4,  1,  2,  3,  6]\n",
       "04                          [ 1,  6,  9,  3]\n",
       "05                          [ 2,  3,  9,  1]\n",
       "06                      [ 2, 10,  1,  3,  5]\n",
       "07                  [ 1,  2,  9,  5,  6,  4]\n",
       "08                  [ 6,  7,  3,  2,  1,  4]\n",
       "09              [ 2,  6,  4,  1,  5,  9,  8]\n",
       "10                      [ 4,  1, 11,  2,  3]\n",
       "11                                      [ 2]\n",
       "12                  [ 1,  4,  2,  3,  5,  9]\n",
       "13      [ 1,  3,  2,  4,  7,  5,  8,  6,  9]\n",
       "15                                  [ 1,  6]\n",
       "16                          [ 1,  3,  7,  6]\n",
       "17                                  [ 1,  6]\n",
       "18                              [ 1,  9,  6]\n",
       "None                                [ 0,  .]"
      ]
     },
     "execution_count": 202,
     "metadata": {},
     "output_type": "execute_result"
    }
   ],
   "source": [
    "df_doct[['CARES2','MESRES2']].groupby('CARES2').agg(['unique']) # Blank as ' .' or ' 0' when no answer is expected"
   ]
  },
  {
   "cell_type": "code",
   "execution_count": 203,
   "metadata": {},
   "outputs": [
    {
     "data": {
      "text/plain": [
       "array([ 0,  1,  2,  3,  4,  5,  6,  7,  8,  9, 10, 11])"
      ]
     },
     "execution_count": 203,
     "metadata": {},
     "output_type": "execute_result"
    }
   ],
   "source": [
    "df_doct['MESRES2'].replace({' .':0},inplace=True) # 0 when not lived in two different CCAA during 2009\n",
    "df_doct['MESRES2']=df_doct['MESRES2'].astype('int')\n",
    "df_doct['MESRES2'].sort_values().unique() # CCAA not sorted according to duration of residence (some values of 'MESRES2' greater than 6)"
   ]
  },
  {
   "cell_type": "code",
   "execution_count": 204,
   "metadata": {},
   "outputs": [
    {
     "data": {
      "text/html": [
       "<div>\n",
       "<style scoped>\n",
       "    .dataframe tbody tr th:only-of-type {\n",
       "        vertical-align: middle;\n",
       "    }\n",
       "\n",
       "    .dataframe tbody tr th {\n",
       "        vertical-align: top;\n",
       "    }\n",
       "\n",
       "    .dataframe thead tr th {\n",
       "        text-align: left;\n",
       "    }\n",
       "\n",
       "    .dataframe thead tr:last-of-type th {\n",
       "        text-align: right;\n",
       "    }\n",
       "</style>\n",
       "<table border=\"1\" class=\"dataframe\">\n",
       "  <thead>\n",
       "    <tr>\n",
       "      <th></th>\n",
       "      <th>MESRES2</th>\n",
       "    </tr>\n",
       "    <tr>\n",
       "      <th></th>\n",
       "      <th>unique</th>\n",
       "    </tr>\n",
       "    <tr>\n",
       "      <th>CARES2</th>\n",
       "      <th></th>\n",
       "    </tr>\n",
       "  </thead>\n",
       "  <tbody>\n",
       "    <tr>\n",
       "      <th>01</th>\n",
       "      <td>[4, 1, 5, 6, 2, 3, 7, 8, 10]</td>\n",
       "    </tr>\n",
       "    <tr>\n",
       "      <th>02</th>\n",
       "      <td>[4, 6, 3, 10, 1, 8, 11]</td>\n",
       "    </tr>\n",
       "    <tr>\n",
       "      <th>03</th>\n",
       "      <td>[4, 1, 2, 3, 6]</td>\n",
       "    </tr>\n",
       "    <tr>\n",
       "      <th>04</th>\n",
       "      <td>[1, 6, 9, 3]</td>\n",
       "    </tr>\n",
       "    <tr>\n",
       "      <th>05</th>\n",
       "      <td>[2, 3, 9, 1]</td>\n",
       "    </tr>\n",
       "    <tr>\n",
       "      <th>06</th>\n",
       "      <td>[2, 10, 1, 3, 5]</td>\n",
       "    </tr>\n",
       "    <tr>\n",
       "      <th>07</th>\n",
       "      <td>[1, 2, 9, 5, 6, 4]</td>\n",
       "    </tr>\n",
       "    <tr>\n",
       "      <th>08</th>\n",
       "      <td>[6, 7, 3, 2, 1, 4]</td>\n",
       "    </tr>\n",
       "    <tr>\n",
       "      <th>09</th>\n",
       "      <td>[2, 6, 4, 1, 5, 9, 8]</td>\n",
       "    </tr>\n",
       "    <tr>\n",
       "      <th>10</th>\n",
       "      <td>[4, 1, 11, 2, 3]</td>\n",
       "    </tr>\n",
       "    <tr>\n",
       "      <th>11</th>\n",
       "      <td>[2]</td>\n",
       "    </tr>\n",
       "    <tr>\n",
       "      <th>12</th>\n",
       "      <td>[1, 4, 2, 3, 5, 9]</td>\n",
       "    </tr>\n",
       "    <tr>\n",
       "      <th>13</th>\n",
       "      <td>[1, 3, 2, 4, 7, 5, 8, 6, 9]</td>\n",
       "    </tr>\n",
       "    <tr>\n",
       "      <th>15</th>\n",
       "      <td>[1, 6]</td>\n",
       "    </tr>\n",
       "    <tr>\n",
       "      <th>16</th>\n",
       "      <td>[1, 3, 7, 6]</td>\n",
       "    </tr>\n",
       "    <tr>\n",
       "      <th>17</th>\n",
       "      <td>[1, 6]</td>\n",
       "    </tr>\n",
       "    <tr>\n",
       "      <th>18</th>\n",
       "      <td>[1, 9, 6]</td>\n",
       "    </tr>\n",
       "    <tr>\n",
       "      <th>None</th>\n",
       "      <td>[0]</td>\n",
       "    </tr>\n",
       "  </tbody>\n",
       "</table>\n",
       "</div>"
      ],
      "text/plain": [
       "                             MESRES2\n",
       "                              unique\n",
       "CARES2                              \n",
       "01      [4, 1, 5, 6, 2, 3, 7, 8, 10]\n",
       "02           [4, 6, 3, 10, 1, 8, 11]\n",
       "03                   [4, 1, 2, 3, 6]\n",
       "04                      [1, 6, 9, 3]\n",
       "05                      [2, 3, 9, 1]\n",
       "06                  [2, 10, 1, 3, 5]\n",
       "07                [1, 2, 9, 5, 6, 4]\n",
       "08                [6, 7, 3, 2, 1, 4]\n",
       "09             [2, 6, 4, 1, 5, 9, 8]\n",
       "10                  [4, 1, 11, 2, 3]\n",
       "11                               [2]\n",
       "12                [1, 4, 2, 3, 5, 9]\n",
       "13       [1, 3, 2, 4, 7, 5, 8, 6, 9]\n",
       "15                            [1, 6]\n",
       "16                      [1, 3, 7, 6]\n",
       "17                            [1, 6]\n",
       "18                         [1, 9, 6]\n",
       "None                             [0]"
      ]
     },
     "execution_count": 204,
     "metadata": {},
     "output_type": "execute_result"
    }
   ],
   "source": [
    "df_doct[['CARES2','MESRES2']].groupby('CARES2').agg(['unique'])"
   ]
  },
  {
   "cell_type": "markdown",
   "metadata": {},
   "source": [
    "#### 'CARES3'\n",
    "Tercera CCAA de residencia en 2009 (Códigos: véase la variable 'CCAARESI')."
   ]
  },
  {
   "cell_type": "code",
   "execution_count": 205,
   "metadata": {},
   "outputs": [
    {
     "data": {
      "text/plain": [
       "array(['NN', '01', '12', '09', '03', '13', '07'], dtype=object)"
      ]
     },
     "execution_count": 205,
     "metadata": {},
     "output_type": "execute_result"
    }
   ],
   "source": [
    "df_doct['CARES3'].unique() # Blank as 'NN' "
   ]
  },
  {
   "cell_type": "code",
   "execution_count": 206,
   "metadata": {},
   "outputs": [
    {
     "data": {
      "text/plain": [
       "array(['01', '03', '07', '09', '12', '13', 'None'], dtype=object)"
      ]
     },
     "execution_count": 206,
     "metadata": {},
     "output_type": "execute_result"
    }
   ],
   "source": [
    "df_doct['CARES3'].replace({'NN':'None'},inplace=True) # 'None' when not lived in three different CCAA during 2009\n",
    "# 'None' as a string (above) to allow for checking the next variable values associated to this question being not answered\n",
    "df_doct['CARES3'].sort_values().unique() "
   ]
  },
  {
   "cell_type": "markdown",
   "metadata": {},
   "source": [
    "#### 'MESRES3'\n",
    "Duración en meses del periodo de 2009 en que residió en la tercera CCAA identificada."
   ]
  },
  {
   "cell_type": "code",
   "execution_count": 207,
   "metadata": {},
   "outputs": [
    {
     "data": {
      "text/plain": [
       "array([' 0', ' .', ' 2', ' 3', ' 1', '10'], dtype=object)"
      ]
     },
     "execution_count": 207,
     "metadata": {},
     "output_type": "execute_result"
    }
   ],
   "source": [
    "df_doct['MESRES3'].unique() # Blank as ' .'"
   ]
  },
  {
   "cell_type": "code",
   "execution_count": 208,
   "metadata": {},
   "outputs": [
    {
     "data": {
      "text/html": [
       "<div>\n",
       "<style scoped>\n",
       "    .dataframe tbody tr th:only-of-type {\n",
       "        vertical-align: middle;\n",
       "    }\n",
       "\n",
       "    .dataframe tbody tr th {\n",
       "        vertical-align: top;\n",
       "    }\n",
       "\n",
       "    .dataframe thead tr th {\n",
       "        text-align: left;\n",
       "    }\n",
       "\n",
       "    .dataframe thead tr:last-of-type th {\n",
       "        text-align: right;\n",
       "    }\n",
       "</style>\n",
       "<table border=\"1\" class=\"dataframe\">\n",
       "  <thead>\n",
       "    <tr>\n",
       "      <th></th>\n",
       "      <th>MESRES3</th>\n",
       "    </tr>\n",
       "    <tr>\n",
       "      <th></th>\n",
       "      <th>unique</th>\n",
       "    </tr>\n",
       "    <tr>\n",
       "      <th>CARES3</th>\n",
       "      <th></th>\n",
       "    </tr>\n",
       "  </thead>\n",
       "  <tbody>\n",
       "    <tr>\n",
       "      <th>01</th>\n",
       "      <td>[ 2,  1]</td>\n",
       "    </tr>\n",
       "    <tr>\n",
       "      <th>03</th>\n",
       "      <td>[ 3,  1]</td>\n",
       "    </tr>\n",
       "    <tr>\n",
       "      <th>07</th>\n",
       "      <td>[ 1]</td>\n",
       "    </tr>\n",
       "    <tr>\n",
       "      <th>09</th>\n",
       "      <td>[ 2,  1]</td>\n",
       "    </tr>\n",
       "    <tr>\n",
       "      <th>12</th>\n",
       "      <td>[ 3,  2]</td>\n",
       "    </tr>\n",
       "    <tr>\n",
       "      <th>13</th>\n",
       "      <td>[10,  2,  1]</td>\n",
       "    </tr>\n",
       "    <tr>\n",
       "      <th>None</th>\n",
       "      <td>[ 0,  .]</td>\n",
       "    </tr>\n",
       "  </tbody>\n",
       "</table>\n",
       "</div>"
      ],
      "text/plain": [
       "             MESRES3\n",
       "              unique\n",
       "CARES3              \n",
       "01          [ 2,  1]\n",
       "03          [ 3,  1]\n",
       "07              [ 1]\n",
       "09          [ 2,  1]\n",
       "12          [ 3,  2]\n",
       "13      [10,  2,  1]\n",
       "None        [ 0,  .]"
      ]
     },
     "execution_count": 208,
     "metadata": {},
     "output_type": "execute_result"
    }
   ],
   "source": [
    "df_doct[['CARES3','MESRES3']].groupby('CARES3').agg(['unique']) # Blank as ' .' when no answer is expected"
   ]
  },
  {
   "cell_type": "code",
   "execution_count": 209,
   "metadata": {},
   "outputs": [
    {
     "data": {
      "text/plain": [
       "array([ 0,  1,  2,  3, 10])"
      ]
     },
     "execution_count": 209,
     "metadata": {},
     "output_type": "execute_result"
    }
   ],
   "source": [
    "df_doct['MESRES3'].replace({' .':0},inplace=True) # 0 when not lived in three different CCAA during 2009\n",
    "df_doct['MESRES3']=df_doct['MESRES3'].astype('int')\n",
    "df_doct['MESRES3'].sort_values().unique() "
   ]
  },
  {
   "cell_type": "code",
   "execution_count": 210,
   "metadata": {},
   "outputs": [
    {
     "data": {
      "text/html": [
       "<div>\n",
       "<style scoped>\n",
       "    .dataframe tbody tr th:only-of-type {\n",
       "        vertical-align: middle;\n",
       "    }\n",
       "\n",
       "    .dataframe tbody tr th {\n",
       "        vertical-align: top;\n",
       "    }\n",
       "\n",
       "    .dataframe thead tr th {\n",
       "        text-align: left;\n",
       "    }\n",
       "\n",
       "    .dataframe thead tr:last-of-type th {\n",
       "        text-align: right;\n",
       "    }\n",
       "</style>\n",
       "<table border=\"1\" class=\"dataframe\">\n",
       "  <thead>\n",
       "    <tr>\n",
       "      <th></th>\n",
       "      <th>MESRES3</th>\n",
       "    </tr>\n",
       "    <tr>\n",
       "      <th></th>\n",
       "      <th>unique</th>\n",
       "    </tr>\n",
       "    <tr>\n",
       "      <th>CARES3</th>\n",
       "      <th></th>\n",
       "    </tr>\n",
       "  </thead>\n",
       "  <tbody>\n",
       "    <tr>\n",
       "      <th>01</th>\n",
       "      <td>[2, 1]</td>\n",
       "    </tr>\n",
       "    <tr>\n",
       "      <th>03</th>\n",
       "      <td>[3, 1]</td>\n",
       "    </tr>\n",
       "    <tr>\n",
       "      <th>07</th>\n",
       "      <td>[1]</td>\n",
       "    </tr>\n",
       "    <tr>\n",
       "      <th>09</th>\n",
       "      <td>[2, 1]</td>\n",
       "    </tr>\n",
       "    <tr>\n",
       "      <th>12</th>\n",
       "      <td>[3, 2]</td>\n",
       "    </tr>\n",
       "    <tr>\n",
       "      <th>13</th>\n",
       "      <td>[10, 2, 1]</td>\n",
       "    </tr>\n",
       "    <tr>\n",
       "      <th>None</th>\n",
       "      <td>[0]</td>\n",
       "    </tr>\n",
       "  </tbody>\n",
       "</table>\n",
       "</div>"
      ],
      "text/plain": [
       "           MESRES3\n",
       "            unique\n",
       "CARES3            \n",
       "01          [2, 1]\n",
       "03          [3, 1]\n",
       "07             [1]\n",
       "09          [2, 1]\n",
       "12          [3, 2]\n",
       "13      [10, 2, 1]\n",
       "None           [0]"
      ]
     },
     "execution_count": 210,
     "metadata": {},
     "output_type": "execute_result"
    }
   ],
   "source": [
    "df_doct[['CARES3','MESRES3']].groupby('CARES3').agg(['unique'])"
   ]
  },
  {
   "cell_type": "markdown",
   "metadata": {},
   "source": [
    "#### 'DOCTOR'\n",
    "Título de doctor anterior al 31 de diciembre de 2009: 0=No, 1=Sí"
   ]
  },
  {
   "cell_type": "code",
   "execution_count": 211,
   "metadata": {},
   "outputs": [
    {
     "data": {
      "text/plain": [
       "array([1])"
      ]
     },
     "execution_count": 211,
     "metadata": {},
     "output_type": "execute_result"
    }
   ],
   "source": [
    "df_doct['DOCTOR']=df_doct['DOCTOR'].astype('int') # No missing values\n",
    "df_doct['DOCTOR'].unique()"
   ]
  },
  {
   "cell_type": "code",
   "execution_count": 212,
   "metadata": {},
   "outputs": [],
   "source": [
    "del df_doct['DOCTOR'] # As all observations have the same value for 'DOCTOR'"
   ]
  },
  {
   "cell_type": "markdown",
   "metadata": {},
   "source": [
    "#### 'CODIDOC'\n",
    "Código de estudios de doctorado:  \n",
    "\n",
    "CIENCIAS NATURALES: 101=Matemáticas, 102=Informática y tecnologías de la información, 103=Ciencias físicas, 104=Ciencias químicas, 105=Ciencias de la tierra y medio ambiente, 106=Biología (excluyendo agricultura y ciencias médicas), 107=Otras ciencias naturales  \n",
    "\n",
    "INGENIERÍA Y TECNOLOGÍA: 201=Ingeniería civil, 202=Ingeniería eléctrica, electrónica y de telecomunicaciones, 203=Ingeniería mecánica, 204=Ingeniería química, 205=Ingeniería de materiales, 206=Ingeniería médica, 207=Ingeniería medioambiental, 208=Biotecnología medioambiental, 209=Biotecnología industrial, 210=Nanotecnología, 211=Otras ingenierías y tecnologías (comida, bebida y otras)  \n",
    "\n",
    "CIENCIAS MÉDICAS: 301=Medicina básica, 302=Medicina clínica, 303=Ciencias de la salud, 304=Biotecnología médica, 305=Otras ciencias médicas (forenses y otras ciencias médicas)  \n",
    "\n",
    "CIENCIAS DE LA AGRICULTURA: 401=Agricultura, ciencias forestales y piscifactorías, 402=Ciencias de los animales y de la leche, 403=Veterinaria, 404=Biotecnología agrícola, 405=Otras ciencias de la agricultura  \n",
    "\n",
    "CIENCIAS SOCIALES: 501=Psicología, 502=Economía y empresas, 503=Ciencias de la educación, 504=Sociología, 505=Derecho, 506=Ciencias políticas, 507=Geografía económica y social, 508=Periodismo y comunicaciones, 509=Otras ciencias sociales  \n",
    "\n",
    "HUMANIDADES: 601=Historia y arqueología, 602=Lenguaje y literatura, 603=Filosofía, ética y religión, 604=Arte (historia del arte, bellas artes y música), 605=Otras humanidades  "
   ]
  },
  {
   "cell_type": "code",
   "execution_count": 213,
   "metadata": {},
   "outputs": [
    {
     "data": {
      "text/plain": [
       "array([101, 102, 103, 104, 105, 106, 107, 201, 202, 203, 204, 205, 206,\n",
       "       207, 208, 209, 210, 211, 301, 302, 303, 304, 305, 401, 402, 403,\n",
       "       404, 405, 501, 502, 503, 504, 505, 506, 507, 508, 509, 601, 602,\n",
       "       603, 604, 605])"
      ]
     },
     "execution_count": 213,
     "metadata": {},
     "output_type": "execute_result"
    }
   ],
   "source": [
    "df_doct['CODIDOC']=df_doct['CODIDOC'].astype('int') # No missing values\n",
    "df_doct['CODIDOC'].sort_values().unique()"
   ]
  },
  {
   "cell_type": "markdown",
   "metadata": {},
   "source": [
    "#### 'INFUN'\n",
    "Carecter de investigación básica o fundamental de la investigación realizada durante el doctorado: 0=No, 1=Sí"
   ]
  },
  {
   "cell_type": "code",
   "execution_count": 214,
   "metadata": {},
   "outputs": [
    {
     "data": {
      "text/plain": [
       "array([1, 0])"
      ]
     },
     "execution_count": 214,
     "metadata": {},
     "output_type": "execute_result"
    }
   ],
   "source": [
    "df_doct['INFUN']=df_doct['INFUN'].astype('int') # No missing values\n",
    "df_doct['INFUN'].unique()"
   ]
  },
  {
   "cell_type": "markdown",
   "metadata": {},
   "source": [
    "#### 'INAPL'\n",
    "Carecter de investigación aplicada de la investigación realizada durante el doctorado: 0=No, 1=Sí"
   ]
  },
  {
   "cell_type": "code",
   "execution_count": 215,
   "metadata": {},
   "outputs": [
    {
     "data": {
      "text/plain": [
       "array([1, 0])"
      ]
     },
     "execution_count": 215,
     "metadata": {},
     "output_type": "execute_result"
    }
   ],
   "source": [
    "df_doct['INAPL']=df_doct['INAPL'].astype('int') # No missing values\n",
    "df_doct['INAPL'].unique()"
   ]
  },
  {
   "cell_type": "markdown",
   "metadata": {},
   "source": [
    "#### 'DESTEC'\n",
    "Carecter de desarrollo experimental de la investigación realizada durante el doctorado: 0=No, 1=Sí"
   ]
  },
  {
   "cell_type": "code",
   "execution_count": 216,
   "metadata": {},
   "outputs": [
    {
     "data": {
      "text/plain": [
       "array([1, 0])"
      ]
     },
     "execution_count": 216,
     "metadata": {},
     "output_type": "execute_result"
    }
   ],
   "source": [
    "df_doct['DESTEC']=df_doct['DESTEC'].astype('int') # No missing values\n",
    "df_doct['DESTEC'].unique()"
   ]
  },
  {
   "cell_type": "markdown",
   "metadata": {},
   "source": [
    "#### 'ANODOC'\n",
    "Año en que obtuvo el título de doctor."
   ]
  },
  {
   "cell_type": "code",
   "execution_count": 217,
   "metadata": {},
   "outputs": [
    {
     "data": {
      "text/plain": [
       "array([1990, 1991, 1992, 1993, 1994, 1995, 1996, 1997, 1998, 1999, 2000,\n",
       "       2001, 2002, 2003, 2004, 2005, 2006, 2007, 2008, 2009])"
      ]
     },
     "execution_count": 217,
     "metadata": {},
     "output_type": "execute_result"
    }
   ],
   "source": [
    "df_doct['ANODOC']=df_doct['ANODOC'].astype('int') # No missing values\n",
    "df_doct['ANODOC'].sort_values().unique()"
   ]
  },
  {
   "cell_type": "markdown",
   "metadata": {},
   "source": [
    "#### 'MESDOC'\n",
    "Mes en que obtuvo el título de doctor."
   ]
  },
  {
   "cell_type": "code",
   "execution_count": 218,
   "metadata": {},
   "outputs": [
    {
     "data": {
      "text/plain": [
       "array([ 1,  2,  3,  4,  5,  6,  7,  8,  9, 10, 11, 12])"
      ]
     },
     "execution_count": 218,
     "metadata": {},
     "output_type": "execute_result"
    }
   ],
   "source": [
    "df_doct['MESDOC']=df_doct['MESDOC'].astype('int') # No missing values\n",
    "df_doct['MESDOC'].sort_values().unique()"
   ]
  },
  {
   "cell_type": "markdown",
   "metadata": {},
   "source": [
    "#### 'DURDOCANO'\n",
    "Tiempo transcurrido desde que inició los cursos de doctorado hasta que obtuvo el título de doctor: años completos. "
   ]
  },
  {
   "cell_type": "code",
   "execution_count": 219,
   "metadata": {},
   "outputs": [
    {
     "data": {
      "text/plain": [
       "array([ 0,  1,  2,  3,  4,  5,  6,  7,  8,  9, 10, 11, 12, 13, 14, 15, 16,\n",
       "       17, 18, 19, 20, 21, 22, 23, 24, 25, 27, 30, 35])"
      ]
     },
     "execution_count": 219,
     "metadata": {},
     "output_type": "execute_result"
    }
   ],
   "source": [
    "df_doct['DURDOCANO']=df_doct['DURDOCANO'].astype('int') # No missing values\n",
    "df_doct['DURDOCANO'].sort_values().unique()"
   ]
  },
  {
   "cell_type": "markdown",
   "metadata": {},
   "source": [
    "#### 'DURDOCMES'\n",
    "Tiempo transcurrido desde que inició los cursos de doctorado hasta que obtuvo el título de doctor: meses adicionales a 'DURDOCANO'."
   ]
  },
  {
   "cell_type": "code",
   "execution_count": 220,
   "metadata": {},
   "outputs": [
    {
     "data": {
      "text/plain": [
       "array([ 0,  1,  2,  3,  4,  5,  6,  7,  8,  9, 10, 11, 12])"
      ]
     },
     "execution_count": 220,
     "metadata": {},
     "output_type": "execute_result"
    }
   ],
   "source": [
    "df_doct['DURDOCMES']=df_doct['DURDOCMES'].astype('int') # No missing values\n",
    "df_doct['DURDOCMES'].sort_values().unique()"
   ]
  },
  {
   "cell_type": "code",
   "execution_count": 221,
   "metadata": {},
   "outputs": [
    {
     "data": {
      "text/html": [
       "<div>\n",
       "<style scoped>\n",
       "    .dataframe tbody tr th:only-of-type {\n",
       "        vertical-align: middle;\n",
       "    }\n",
       "\n",
       "    .dataframe tbody tr th {\n",
       "        vertical-align: top;\n",
       "    }\n",
       "\n",
       "    .dataframe thead th {\n",
       "        text-align: right;\n",
       "    }\n",
       "</style>\n",
       "<table border=\"1\" class=\"dataframe\">\n",
       "  <thead>\n",
       "    <tr style=\"text-align: right;\">\n",
       "      <th></th>\n",
       "      <th>MUIDENT</th>\n",
       "      <th>CCAARESI</th>\n",
       "      <th>ANONAC</th>\n",
       "      <th>CCAANAC</th>\n",
       "      <th>CONTNACIM</th>\n",
       "      <th>RELA</th>\n",
       "      <th>CONTNAC1</th>\n",
       "      <th>CONTNAC2</th>\n",
       "      <th>CONTNAC3</th>\n",
       "      <th>SEXO</th>\n",
       "      <th>ESTADOCIVIL</th>\n",
       "      <th>DEPEN5</th>\n",
       "      <th>DEPEN18</th>\n",
       "      <th>DEPENMAS</th>\n",
       "      <th>NIVESTPA</th>\n",
       "      <th>NIVESTMA</th>\n",
       "      <th>NIVPROFPA</th>\n",
       "      <th>NIVPROFMA</th>\n",
       "      <th>ACTIPRIPA1</th>\n",
       "      <th>ACTIPRIMA1</th>\n",
       "      <th>EDUPRIM</th>\n",
       "      <th>EDUSECUN</th>\n",
       "      <th>BACHILLER</th>\n",
       "      <th>RES</th>\n",
       "      <th>CARES1</th>\n",
       "      <th>MESRES1</th>\n",
       "      <th>CARES2</th>\n",
       "      <th>MESRES2</th>\n",
       "      <th>CARES3</th>\n",
       "      <th>MESRES3</th>\n",
       "      <th>CODIDOC</th>\n",
       "      <th>INFUN</th>\n",
       "      <th>INAPL</th>\n",
       "      <th>DESTEC</th>\n",
       "      <th>ANODOC</th>\n",
       "      <th>MESDOC</th>\n",
       "      <th>DURDOCANO</th>\n",
       "      <th>DURDOCMES</th>\n",
       "      <th>CONTEST</th>\n",
       "      <th>ANOEST</th>\n",
       "      <th>FINADOC</th>\n",
       "      <th>TRABDOC</th>\n",
       "      <th>ANOSINTRA</th>\n",
       "      <th>MESSINTRA</th>\n",
       "      <th>SITLAB</th>\n",
       "      <th>HTRAB</th>\n",
       "      <th>INGRESOS</th>\n",
       "      <th>AUTON</th>\n",
       "      <th>CNAE2</th>\n",
       "      <th>ANOINIALP</th>\n",
       "      <th>CAEMP</th>\n",
       "      <th>CONTEMP</th>\n",
       "      <th>SECTOR</th>\n",
       "      <th>CODALP</th>\n",
       "      <th>CATEGPROF</th>\n",
       "      <th>HLECT</th>\n",
       "      <th>TIPOCONT</th>\n",
       "      <th>JORLAB</th>\n",
       "      <th>BUSCATRAB</th>\n",
       "      <th>NIVELMIN</th>\n",
       "      <th>NIVELEST</th>\n",
       "      <th>RELTRABDOC</th>\n",
       "      <th>NIVELSAT1</th>\n",
       "      <th>NIVELSAT2</th>\n",
       "      <th>NIVELSAT3</th>\n",
       "      <th>NIVELSAT4</th>\n",
       "      <th>NIVELSAT5</th>\n",
       "      <th>NIVELSAT6</th>\n",
       "      <th>NIVELSAT7</th>\n",
       "      <th>NIVELSAT8</th>\n",
       "      <th>NIVELSAT9</th>\n",
       "      <th>NIVELSAT10</th>\n",
       "      <th>NIVELSAT11</th>\n",
       "      <th>NIVELSAT12</th>\n",
       "      <th>NIVELSAT13</th>\n",
       "      <th>ACTIANT</th>\n",
       "      <th>SECTORANT</th>\n",
       "      <th>ACTIPRIANT</th>\n",
       "      <th>ACTIANTANO</th>\n",
       "      <th>ACTIANTMES</th>\n",
       "      <th>TRABPOS</th>\n",
       "      <th>MOTIVOPOS1</th>\n",
       "      <th>MOTIVOPOS2</th>\n",
       "      <th>MOTIVOPOS3</th>\n",
       "      <th>MOTIVOPOS4</th>\n",
       "      <th>MOTIVOPOS5</th>\n",
       "      <th>MOTIVOPOS6</th>\n",
       "      <th>MOTIVOPOS7</th>\n",
       "      <th>MOTIVOPOS8</th>\n",
       "      <th>PORCINVES</th>\n",
       "      <th>PORCDOC</th>\n",
       "      <th>PORCOTRAS</th>\n",
       "      <th>FINANPOS</th>\n",
       "      <th>GESBUSEMP</th>\n",
       "      <th>PASOSEMP1</th>\n",
       "      <th>PASOSEMP2</th>\n",
       "      <th>PASOSEMP3</th>\n",
       "      <th>PASOSEMP4</th>\n",
       "      <th>PASOSEMP5</th>\n",
       "      <th>PASOSEMP6</th>\n",
       "      <th>PASOSEMP7</th>\n",
       "      <th>PASOSEMP8</th>\n",
       "      <th>PASOSEMP9</th>\n",
       "      <th>PASOSEMP10</th>\n",
       "      <th>PASOSEMP11</th>\n",
       "      <th>NOPASOSEMP1</th>\n",
       "      <th>NOPASOSEMP2</th>\n",
       "      <th>NOPASOSEMP3</th>\n",
       "      <th>NOPASOSEMP4</th>\n",
       "      <th>NOPASOSEMP5</th>\n",
       "      <th>NOPASOSEMP6</th>\n",
       "      <th>NOPASOSEMP7</th>\n",
       "      <th>NOPASOSEMP8</th>\n",
       "      <th>NOPASOSEMP9</th>\n",
       "      <th>CONT1</th>\n",
       "      <th>ANOIPAIS1</th>\n",
       "      <th>ANOFPAIS1</th>\n",
       "      <th>MESES1</th>\n",
       "      <th>CONT2</th>\n",
       "      <th>ANOIPAIS2</th>\n",
       "      <th>ANOFPAIS2</th>\n",
       "      <th>MESES2</th>\n",
       "      <th>CONT3</th>\n",
       "      <th>ANOIPAIS3</th>\n",
       "      <th>ANOFPAIS3</th>\n",
       "      <th>MESES3</th>\n",
       "      <th>CONT4</th>\n",
       "      <th>ANOIPAIS4</th>\n",
       "      <th>ANOFPAIS4</th>\n",
       "      <th>MESES4</th>\n",
       "      <th>CONT5</th>\n",
       "      <th>ANOIPAIS5</th>\n",
       "      <th>ANOFPAIS5</th>\n",
       "      <th>MESES5</th>\n",
       "      <th>CONT6</th>\n",
       "      <th>ANOIPAIS6</th>\n",
       "      <th>ANOFPAIS6</th>\n",
       "      <th>MESES6</th>\n",
       "      <th>CONT7</th>\n",
       "      <th>ANOIPAIS7</th>\n",
       "      <th>ANOFPAIS7</th>\n",
       "      <th>MESES7</th>\n",
       "      <th>MOTFUERA1</th>\n",
       "      <th>MOTFUERA2</th>\n",
       "      <th>MOTFUERA3</th>\n",
       "      <th>MOTFUERA4</th>\n",
       "      <th>MOTFUERA5</th>\n",
       "      <th>MOTFUERA6</th>\n",
       "      <th>MOTFUERA7</th>\n",
       "      <th>MOTVENIR1</th>\n",
       "      <th>MOTVENIR2</th>\n",
       "      <th>MOTVENIR3</th>\n",
       "      <th>MOTVENIR4</th>\n",
       "      <th>MOTVENIR5</th>\n",
       "      <th>MOTVENIR6</th>\n",
       "      <th>MOTVENIR7</th>\n",
       "      <th>PREVIRSE</th>\n",
       "      <th>MESANTESIR</th>\n",
       "      <th>MOTIRSE1</th>\n",
       "      <th>MOTIRSE2</th>\n",
       "      <th>MOTIRSE3</th>\n",
       "      <th>MOTIRSE4</th>\n",
       "      <th>MOTIRSE5</th>\n",
       "      <th>MOTIRSE6</th>\n",
       "      <th>CONTOUT</th>\n",
       "      <th>INV</th>\n",
       "      <th>MOTNOINV1</th>\n",
       "      <th>MOTNOINV2</th>\n",
       "      <th>MOTNOINV3</th>\n",
       "      <th>MOTNOINV4</th>\n",
       "      <th>MOTNOINV5</th>\n",
       "      <th>MOTNOINV6</th>\n",
       "      <th>MOTNOINV7</th>\n",
       "      <th>MOTNOINV8</th>\n",
       "      <th>MOTNOINV9</th>\n",
       "      <th>ALGINV</th>\n",
       "      <th>MOTINV1</th>\n",
       "      <th>MOTINV2</th>\n",
       "      <th>MOTINV3</th>\n",
       "      <th>MOTINV4</th>\n",
       "      <th>MOTINV5</th>\n",
       "      <th>MOTINV6</th>\n",
       "      <th>MOTINV7</th>\n",
       "      <th>MOTINV8</th>\n",
       "      <th>MOTINV9</th>\n",
       "      <th>MESESINV</th>\n",
       "      <th>ARTIC</th>\n",
       "      <th>LIBROS</th>\n",
       "      <th>NUMPAT</th>\n",
       "      <th>PATNAC</th>\n",
       "      <th>PATEU</th>\n",
       "      <th>PATCOOP</th>\n",
       "      <th>PATCOM</th>\n",
       "      <th>COMPA</th>\n",
       "      <th>TUTOR</th>\n",
       "      <th>COOPERA</th>\n",
       "      <th>INVFUT</th>\n",
       "      <th>FACTOR</th>\n",
       "    </tr>\n",
       "  </thead>\n",
       "  <tbody>\n",
       "    <tr>\n",
       "      <th>307</th>\n",
       "      <td>70096</td>\n",
       "      <td>4</td>\n",
       "      <td>1964</td>\n",
       "      <td>04</td>\n",
       "      <td>EU27</td>\n",
       "      <td>1</td>\n",
       "      <td>EU27</td>\n",
       "      <td>None</td>\n",
       "      <td>None</td>\n",
       "      <td>1</td>\n",
       "      <td>1</td>\n",
       "      <td>0</td>\n",
       "      <td>2</td>\n",
       "      <td>0</td>\n",
       "      <td>3.0</td>\n",
       "      <td>3.0</td>\n",
       "      <td>1</td>\n",
       "      <td>1</td>\n",
       "      <td>9</td>\n",
       "      <td>9.0</td>\n",
       "      <td>1</td>\n",
       "      <td>1</td>\n",
       "      <td>1</td>\n",
       "      <td>1</td>\n",
       "      <td>04</td>\n",
       "      <td>12.0</td>\n",
       "      <td>None</td>\n",
       "      <td>0</td>\n",
       "      <td>None</td>\n",
       "      <td>0</td>\n",
       "      <td>101</td>\n",
       "      <td>1</td>\n",
       "      <td>1</td>\n",
       "      <td>0</td>\n",
       "      <td>1994</td>\n",
       "      <td>7</td>\n",
       "      <td>7</td>\n",
       "      <td>12</td>\n",
       "      <td>EU27</td>\n",
       "      <td>1987</td>\n",
       "      <td>5</td>\n",
       "      <td>1</td>\n",
       "      <td>1</td>\n",
       "      <td>10</td>\n",
       "      <td>1</td>\n",
       "      <td>40</td>\n",
       "      <td>5</td>\n",
       "      <td>0</td>\n",
       "      <td>85</td>\n",
       "      <td>1989</td>\n",
       "      <td>04</td>\n",
       "      <td>EU27</td>\n",
       "      <td>3</td>\n",
       "      <td>231</td>\n",
       "      <td>2</td>\n",
       "      <td>3</td>\n",
       "      <td>1</td>\n",
       "      <td>1</td>\n",
       "      <td></td>\n",
       "      <td>2</td>\n",
       "      <td>2</td>\n",
       "      <td>3</td>\n",
       "      <td>3</td>\n",
       "      <td>3</td>\n",
       "      <td>1</td>\n",
       "      <td>1</td>\n",
       "      <td>1</td>\n",
       "      <td>3</td>\n",
       "      <td>2</td>\n",
       "      <td>1</td>\n",
       "      <td>1</td>\n",
       "      <td>2</td>\n",
       "      <td>3</td>\n",
       "      <td>1</td>\n",
       "      <td>3</td>\n",
       "      <td>0</td>\n",
       "      <td></td>\n",
       "      <td>NNN</td>\n",
       "      <td>.</td>\n",
       "      <td>.</td>\n",
       "      <td>0</td>\n",
       "      <td></td>\n",
       "      <td></td>\n",
       "      <td></td>\n",
       "      <td></td>\n",
       "      <td></td>\n",
       "      <td></td>\n",
       "      <td></td>\n",
       "      <td></td>\n",
       "      <td>.</td>\n",
       "      <td>.</td>\n",
       "      <td>.</td>\n",
       "      <td></td>\n",
       "      <td></td>\n",
       "      <td></td>\n",
       "      <td></td>\n",
       "      <td></td>\n",
       "      <td></td>\n",
       "      <td></td>\n",
       "      <td></td>\n",
       "      <td></td>\n",
       "      <td></td>\n",
       "      <td></td>\n",
       "      <td></td>\n",
       "      <td></td>\n",
       "      <td></td>\n",
       "      <td></td>\n",
       "      <td></td>\n",
       "      <td></td>\n",
       "      <td></td>\n",
       "      <td></td>\n",
       "      <td></td>\n",
       "      <td></td>\n",
       "      <td></td>\n",
       "      <td>NMOV</td>\n",
       "      <td>.</td>\n",
       "      <td>.</td>\n",
       "      <td>.</td>\n",
       "      <td>NMOV</td>\n",
       "      <td>.</td>\n",
       "      <td>.</td>\n",
       "      <td>.</td>\n",
       "      <td>NMOV</td>\n",
       "      <td>.</td>\n",
       "      <td>.</td>\n",
       "      <td>.</td>\n",
       "      <td>NMOV</td>\n",
       "      <td>.</td>\n",
       "      <td>.</td>\n",
       "      <td>.</td>\n",
       "      <td>NMOV</td>\n",
       "      <td>.</td>\n",
       "      <td>.</td>\n",
       "      <td>.</td>\n",
       "      <td>NMOV</td>\n",
       "      <td>.</td>\n",
       "      <td>.</td>\n",
       "      <td>.</td>\n",
       "      <td>NMOV</td>\n",
       "      <td>.</td>\n",
       "      <td>.</td>\n",
       "      <td>.</td>\n",
       "      <td></td>\n",
       "      <td></td>\n",
       "      <td></td>\n",
       "      <td></td>\n",
       "      <td></td>\n",
       "      <td></td>\n",
       "      <td></td>\n",
       "      <td></td>\n",
       "      <td></td>\n",
       "      <td></td>\n",
       "      <td></td>\n",
       "      <td></td>\n",
       "      <td></td>\n",
       "      <td></td>\n",
       "      <td>3</td>\n",
       "      <td></td>\n",
       "      <td></td>\n",
       "      <td></td>\n",
       "      <td></td>\n",
       "      <td></td>\n",
       "      <td></td>\n",
       "      <td></td>\n",
       "      <td>NMOV</td>\n",
       "      <td>1</td>\n",
       "      <td></td>\n",
       "      <td></td>\n",
       "      <td></td>\n",
       "      <td></td>\n",
       "      <td></td>\n",
       "      <td></td>\n",
       "      <td></td>\n",
       "      <td></td>\n",
       "      <td></td>\n",
       "      <td></td>\n",
       "      <td>1</td>\n",
       "      <td></td>\n",
       "      <td></td>\n",
       "      <td></td>\n",
       "      <td></td>\n",
       "      <td></td>\n",
       "      <td></td>\n",
       "      <td></td>\n",
       "      <td></td>\n",
       "      <td>200</td>\n",
       "      <td>5</td>\n",
       "      <td>0</td>\n",
       "      <td>0</td>\n",
       "      <td>0</td>\n",
       "      <td>0</td>\n",
       "      <td>0</td>\n",
       "      <td>0</td>\n",
       "      <td>0</td>\n",
       "      <td>0</td>\n",
       "      <td>0</td>\n",
       "      <td>1</td>\n",
       "      <td>11.51173913</td>\n",
       "    </tr>\n",
       "    <tr>\n",
       "      <th>1297</th>\n",
       "      <td>190035</td>\n",
       "      <td>8</td>\n",
       "      <td>1965</td>\n",
       "      <td>12</td>\n",
       "      <td>EU27</td>\n",
       "      <td>1</td>\n",
       "      <td>EU27</td>\n",
       "      <td>None</td>\n",
       "      <td>None</td>\n",
       "      <td>2</td>\n",
       "      <td>6</td>\n",
       "      <td>0</td>\n",
       "      <td>0</td>\n",
       "      <td>0</td>\n",
       "      <td>7.0</td>\n",
       "      <td>7.0</td>\n",
       "      <td>2</td>\n",
       "      <td>2</td>\n",
       "      <td>2</td>\n",
       "      <td>2.0</td>\n",
       "      <td>1</td>\n",
       "      <td>1</td>\n",
       "      <td>1</td>\n",
       "      <td>0</td>\n",
       "      <td>None</td>\n",
       "      <td>NaN</td>\n",
       "      <td>None</td>\n",
       "      <td>0</td>\n",
       "      <td>None</td>\n",
       "      <td>0</td>\n",
       "      <td>605</td>\n",
       "      <td>1</td>\n",
       "      <td>0</td>\n",
       "      <td>0</td>\n",
       "      <td>1995</td>\n",
       "      <td>6</td>\n",
       "      <td>1</td>\n",
       "      <td>12</td>\n",
       "      <td>EU27</td>\n",
       "      <td>1994</td>\n",
       "      <td>8</td>\n",
       "      <td>0</td>\n",
       "      <td>.</td>\n",
       "      <td>.</td>\n",
       "      <td>1</td>\n",
       "      <td>40</td>\n",
       "      <td>5</td>\n",
       "      <td>0</td>\n",
       "      <td>01</td>\n",
       "      <td>2007</td>\n",
       "      <td>08</td>\n",
       "      <td>EU27</td>\n",
       "      <td>1</td>\n",
       "      <td>100</td>\n",
       "      <td></td>\n",
       "      <td>2</td>\n",
       "      <td>1</td>\n",
       "      <td>1</td>\n",
       "      <td></td>\n",
       "      <td>3</td>\n",
       "      <td>3</td>\n",
       "      <td>3</td>\n",
       "      <td>2</td>\n",
       "      <td>3</td>\n",
       "      <td>2</td>\n",
       "      <td>1</td>\n",
       "      <td>1</td>\n",
       "      <td>2</td>\n",
       "      <td>2</td>\n",
       "      <td>2</td>\n",
       "      <td>2</td>\n",
       "      <td>1</td>\n",
       "      <td>2</td>\n",
       "      <td>2</td>\n",
       "      <td>2</td>\n",
       "      <td>1</td>\n",
       "      <td>1</td>\n",
       "      <td>100</td>\n",
       "      <td>1</td>\n",
       "      <td>3</td>\n",
       "      <td>0</td>\n",
       "      <td></td>\n",
       "      <td></td>\n",
       "      <td></td>\n",
       "      <td></td>\n",
       "      <td></td>\n",
       "      <td></td>\n",
       "      <td></td>\n",
       "      <td></td>\n",
       "      <td>.</td>\n",
       "      <td>.</td>\n",
       "      <td>.</td>\n",
       "      <td></td>\n",
       "      <td></td>\n",
       "      <td></td>\n",
       "      <td></td>\n",
       "      <td></td>\n",
       "      <td></td>\n",
       "      <td></td>\n",
       "      <td></td>\n",
       "      <td></td>\n",
       "      <td></td>\n",
       "      <td></td>\n",
       "      <td></td>\n",
       "      <td></td>\n",
       "      <td></td>\n",
       "      <td></td>\n",
       "      <td></td>\n",
       "      <td></td>\n",
       "      <td></td>\n",
       "      <td></td>\n",
       "      <td></td>\n",
       "      <td></td>\n",
       "      <td></td>\n",
       "      <td>NMOV</td>\n",
       "      <td>.</td>\n",
       "      <td>.</td>\n",
       "      <td>.</td>\n",
       "      <td>NMOV</td>\n",
       "      <td>.</td>\n",
       "      <td>.</td>\n",
       "      <td>.</td>\n",
       "      <td>NMOV</td>\n",
       "      <td>.</td>\n",
       "      <td>.</td>\n",
       "      <td>.</td>\n",
       "      <td>NMOV</td>\n",
       "      <td>.</td>\n",
       "      <td>.</td>\n",
       "      <td>.</td>\n",
       "      <td>NMOV</td>\n",
       "      <td>.</td>\n",
       "      <td>.</td>\n",
       "      <td>.</td>\n",
       "      <td>NMOV</td>\n",
       "      <td>.</td>\n",
       "      <td>.</td>\n",
       "      <td>.</td>\n",
       "      <td>NMOV</td>\n",
       "      <td>.</td>\n",
       "      <td>.</td>\n",
       "      <td>.</td>\n",
       "      <td></td>\n",
       "      <td></td>\n",
       "      <td></td>\n",
       "      <td></td>\n",
       "      <td></td>\n",
       "      <td></td>\n",
       "      <td></td>\n",
       "      <td></td>\n",
       "      <td></td>\n",
       "      <td></td>\n",
       "      <td></td>\n",
       "      <td></td>\n",
       "      <td></td>\n",
       "      <td></td>\n",
       "      <td>3</td>\n",
       "      <td></td>\n",
       "      <td></td>\n",
       "      <td></td>\n",
       "      <td></td>\n",
       "      <td></td>\n",
       "      <td></td>\n",
       "      <td></td>\n",
       "      <td>NMOV</td>\n",
       "      <td>0</td>\n",
       "      <td></td>\n",
       "      <td></td>\n",
       "      <td></td>\n",
       "      <td></td>\n",
       "      <td></td>\n",
       "      <td></td>\n",
       "      <td></td>\n",
       "      <td></td>\n",
       "      <td>1</td>\n",
       "      <td>0</td>\n",
       "      <td></td>\n",
       "      <td></td>\n",
       "      <td></td>\n",
       "      <td></td>\n",
       "      <td></td>\n",
       "      <td></td>\n",
       "      <td></td>\n",
       "      <td></td>\n",
       "      <td></td>\n",
       "      <td>.</td>\n",
       "      <td>.</td>\n",
       "      <td>.</td>\n",
       "      <td>.</td>\n",
       "      <td>.</td>\n",
       "      <td>.</td>\n",
       "      <td>.</td>\n",
       "      <td>0</td>\n",
       "      <td>0</td>\n",
       "      <td>0</td>\n",
       "      <td>0</td>\n",
       "      <td>0</td>\n",
       "      <td>15.26447936</td>\n",
       "    </tr>\n",
       "    <tr>\n",
       "      <th>1485</th>\n",
       "      <td>250034</td>\n",
       "      <td>9</td>\n",
       "      <td>1963</td>\n",
       "      <td>09</td>\n",
       "      <td>EU27</td>\n",
       "      <td>1</td>\n",
       "      <td>EU27</td>\n",
       "      <td>None</td>\n",
       "      <td>None</td>\n",
       "      <td>1</td>\n",
       "      <td>1</td>\n",
       "      <td>0</td>\n",
       "      <td>2</td>\n",
       "      <td>0</td>\n",
       "      <td>2.0</td>\n",
       "      <td>8.0</td>\n",
       "      <td>1</td>\n",
       "      <td>2</td>\n",
       "      <td>4</td>\n",
       "      <td>2.0</td>\n",
       "      <td>2</td>\n",
       "      <td>1</td>\n",
       "      <td>1</td>\n",
       "      <td>1</td>\n",
       "      <td>09</td>\n",
       "      <td>12.0</td>\n",
       "      <td>None</td>\n",
       "      <td>0</td>\n",
       "      <td>None</td>\n",
       "      <td>0</td>\n",
       "      <td>302</td>\n",
       "      <td>1</td>\n",
       "      <td>1</td>\n",
       "      <td>0</td>\n",
       "      <td>1998</td>\n",
       "      <td>9</td>\n",
       "      <td>4</td>\n",
       "      <td>12</td>\n",
       "      <td>EU27</td>\n",
       "      <td>1988</td>\n",
       "      <td>2</td>\n",
       "      <td>0</td>\n",
       "      <td>.</td>\n",
       "      <td>.</td>\n",
       "      <td>1</td>\n",
       "      <td>50</td>\n",
       "      <td>3</td>\n",
       "      <td>0</td>\n",
       "      <td>86</td>\n",
       "      <td>1996</td>\n",
       "      <td>09</td>\n",
       "      <td>EU27</td>\n",
       "      <td>2</td>\n",
       "      <td>221</td>\n",
       "      <td></td>\n",
       "      <td>1</td>\n",
       "      <td>1</td>\n",
       "      <td>1</td>\n",
       "      <td></td>\n",
       "      <td>3</td>\n",
       "      <td>2</td>\n",
       "      <td>3</td>\n",
       "      <td>3</td>\n",
       "      <td>3</td>\n",
       "      <td>2</td>\n",
       "      <td>3</td>\n",
       "      <td>3</td>\n",
       "      <td>4</td>\n",
       "      <td>4</td>\n",
       "      <td>1</td>\n",
       "      <td>2</td>\n",
       "      <td>1</td>\n",
       "      <td>3</td>\n",
       "      <td>2</td>\n",
       "      <td>3</td>\n",
       "      <td>1</td>\n",
       "      <td>1</td>\n",
       "      <td>224</td>\n",
       "      <td>18</td>\n",
       "      <td>0</td>\n",
       "      <td>0</td>\n",
       "      <td></td>\n",
       "      <td></td>\n",
       "      <td></td>\n",
       "      <td></td>\n",
       "      <td></td>\n",
       "      <td></td>\n",
       "      <td></td>\n",
       "      <td></td>\n",
       "      <td>.</td>\n",
       "      <td>.</td>\n",
       "      <td>.</td>\n",
       "      <td></td>\n",
       "      <td></td>\n",
       "      <td></td>\n",
       "      <td></td>\n",
       "      <td></td>\n",
       "      <td></td>\n",
       "      <td></td>\n",
       "      <td></td>\n",
       "      <td></td>\n",
       "      <td></td>\n",
       "      <td></td>\n",
       "      <td></td>\n",
       "      <td></td>\n",
       "      <td></td>\n",
       "      <td></td>\n",
       "      <td></td>\n",
       "      <td></td>\n",
       "      <td></td>\n",
       "      <td></td>\n",
       "      <td></td>\n",
       "      <td></td>\n",
       "      <td></td>\n",
       "      <td>NMOV</td>\n",
       "      <td>.</td>\n",
       "      <td>.</td>\n",
       "      <td>.</td>\n",
       "      <td>NMOV</td>\n",
       "      <td>.</td>\n",
       "      <td>.</td>\n",
       "      <td>.</td>\n",
       "      <td>NMOV</td>\n",
       "      <td>.</td>\n",
       "      <td>.</td>\n",
       "      <td>.</td>\n",
       "      <td>NMOV</td>\n",
       "      <td>.</td>\n",
       "      <td>.</td>\n",
       "      <td>.</td>\n",
       "      <td>NMOV</td>\n",
       "      <td>.</td>\n",
       "      <td>.</td>\n",
       "      <td>.</td>\n",
       "      <td>NMOV</td>\n",
       "      <td>.</td>\n",
       "      <td>.</td>\n",
       "      <td>.</td>\n",
       "      <td>NMOV</td>\n",
       "      <td>.</td>\n",
       "      <td>.</td>\n",
       "      <td>.</td>\n",
       "      <td></td>\n",
       "      <td></td>\n",
       "      <td></td>\n",
       "      <td></td>\n",
       "      <td></td>\n",
       "      <td></td>\n",
       "      <td></td>\n",
       "      <td></td>\n",
       "      <td></td>\n",
       "      <td></td>\n",
       "      <td></td>\n",
       "      <td></td>\n",
       "      <td></td>\n",
       "      <td></td>\n",
       "      <td>3</td>\n",
       "      <td></td>\n",
       "      <td></td>\n",
       "      <td></td>\n",
       "      <td></td>\n",
       "      <td></td>\n",
       "      <td></td>\n",
       "      <td></td>\n",
       "      <td>NMOV</td>\n",
       "      <td>1</td>\n",
       "      <td></td>\n",
       "      <td></td>\n",
       "      <td></td>\n",
       "      <td></td>\n",
       "      <td></td>\n",
       "      <td></td>\n",
       "      <td></td>\n",
       "      <td></td>\n",
       "      <td></td>\n",
       "      <td></td>\n",
       "      <td></td>\n",
       "      <td></td>\n",
       "      <td>1</td>\n",
       "      <td></td>\n",
       "      <td></td>\n",
       "      <td></td>\n",
       "      <td></td>\n",
       "      <td></td>\n",
       "      <td></td>\n",
       "      <td>48</td>\n",
       "      <td>2</td>\n",
       "      <td>0</td>\n",
       "      <td>0</td>\n",
       "      <td>0</td>\n",
       "      <td>0</td>\n",
       "      <td>0</td>\n",
       "      <td>0</td>\n",
       "      <td>0</td>\n",
       "      <td>0</td>\n",
       "      <td>0</td>\n",
       "      <td>0</td>\n",
       "      <td>25.66619877</td>\n",
       "    </tr>\n",
       "    <tr>\n",
       "      <th>2405</th>\n",
       "      <td>290083</td>\n",
       "      <td>1</td>\n",
       "      <td>1968</td>\n",
       "      <td>11</td>\n",
       "      <td>EU27</td>\n",
       "      <td>1</td>\n",
       "      <td>EU27</td>\n",
       "      <td>None</td>\n",
       "      <td>None</td>\n",
       "      <td>1</td>\n",
       "      <td>1</td>\n",
       "      <td>0</td>\n",
       "      <td>1</td>\n",
       "      <td>1</td>\n",
       "      <td>1.0</td>\n",
       "      <td>1.0</td>\n",
       "      <td>2</td>\n",
       "      <td>5</td>\n",
       "      <td>6</td>\n",
       "      <td>NaN</td>\n",
       "      <td>1</td>\n",
       "      <td>1</td>\n",
       "      <td>1</td>\n",
       "      <td>1</td>\n",
       "      <td>01</td>\n",
       "      <td>12.0</td>\n",
       "      <td>None</td>\n",
       "      <td>0</td>\n",
       "      <td>None</td>\n",
       "      <td>0</td>\n",
       "      <td>502</td>\n",
       "      <td>0</td>\n",
       "      <td>1</td>\n",
       "      <td>0</td>\n",
       "      <td>2006</td>\n",
       "      <td>4</td>\n",
       "      <td>10</td>\n",
       "      <td>12</td>\n",
       "      <td>EU27</td>\n",
       "      <td>1992</td>\n",
       "      <td>5</td>\n",
       "      <td>1</td>\n",
       "      <td>0</td>\n",
       "      <td>0</td>\n",
       "      <td>1</td>\n",
       "      <td>45</td>\n",
       "      <td>5</td>\n",
       "      <td>0</td>\n",
       "      <td>85</td>\n",
       "      <td>1995</td>\n",
       "      <td>01</td>\n",
       "      <td>EU27</td>\n",
       "      <td>2</td>\n",
       "      <td>231</td>\n",
       "      <td>3</td>\n",
       "      <td>4</td>\n",
       "      <td>1</td>\n",
       "      <td>1</td>\n",
       "      <td></td>\n",
       "      <td>2</td>\n",
       "      <td>1</td>\n",
       "      <td>1</td>\n",
       "      <td>2</td>\n",
       "      <td>3</td>\n",
       "      <td>2</td>\n",
       "      <td>1</td>\n",
       "      <td>3</td>\n",
       "      <td>3</td>\n",
       "      <td>1</td>\n",
       "      <td>2</td>\n",
       "      <td>3</td>\n",
       "      <td>2</td>\n",
       "      <td>3</td>\n",
       "      <td>1</td>\n",
       "      <td>1</td>\n",
       "      <td>0</td>\n",
       "      <td></td>\n",
       "      <td>NNN</td>\n",
       "      <td>.</td>\n",
       "      <td>.</td>\n",
       "      <td>1</td>\n",
       "      <td>0</td>\n",
       "      <td>0</td>\n",
       "      <td>1</td>\n",
       "      <td>0</td>\n",
       "      <td>1</td>\n",
       "      <td>0</td>\n",
       "      <td>0</td>\n",
       "      <td>1</td>\n",
       "      <td>25</td>\n",
       "      <td>65</td>\n",
       "      <td>10</td>\n",
       "      <td>3</td>\n",
       "      <td></td>\n",
       "      <td></td>\n",
       "      <td></td>\n",
       "      <td></td>\n",
       "      <td></td>\n",
       "      <td></td>\n",
       "      <td></td>\n",
       "      <td></td>\n",
       "      <td></td>\n",
       "      <td></td>\n",
       "      <td></td>\n",
       "      <td></td>\n",
       "      <td></td>\n",
       "      <td></td>\n",
       "      <td></td>\n",
       "      <td></td>\n",
       "      <td></td>\n",
       "      <td></td>\n",
       "      <td></td>\n",
       "      <td></td>\n",
       "      <td></td>\n",
       "      <td>NMOV</td>\n",
       "      <td>.</td>\n",
       "      <td>.</td>\n",
       "      <td>.</td>\n",
       "      <td>NMOV</td>\n",
       "      <td>.</td>\n",
       "      <td>.</td>\n",
       "      <td>.</td>\n",
       "      <td>NMOV</td>\n",
       "      <td>.</td>\n",
       "      <td>.</td>\n",
       "      <td>.</td>\n",
       "      <td>NMOV</td>\n",
       "      <td>.</td>\n",
       "      <td>.</td>\n",
       "      <td>.</td>\n",
       "      <td>NMOV</td>\n",
       "      <td>.</td>\n",
       "      <td>.</td>\n",
       "      <td>.</td>\n",
       "      <td>NMOV</td>\n",
       "      <td>.</td>\n",
       "      <td>.</td>\n",
       "      <td>.</td>\n",
       "      <td>NMOV</td>\n",
       "      <td>.</td>\n",
       "      <td>.</td>\n",
       "      <td>.</td>\n",
       "      <td></td>\n",
       "      <td></td>\n",
       "      <td></td>\n",
       "      <td></td>\n",
       "      <td></td>\n",
       "      <td></td>\n",
       "      <td></td>\n",
       "      <td></td>\n",
       "      <td></td>\n",
       "      <td></td>\n",
       "      <td></td>\n",
       "      <td></td>\n",
       "      <td></td>\n",
       "      <td></td>\n",
       "      <td>3</td>\n",
       "      <td></td>\n",
       "      <td></td>\n",
       "      <td></td>\n",
       "      <td></td>\n",
       "      <td></td>\n",
       "      <td></td>\n",
       "      <td></td>\n",
       "      <td>NMOV</td>\n",
       "      <td>1</td>\n",
       "      <td></td>\n",
       "      <td></td>\n",
       "      <td></td>\n",
       "      <td></td>\n",
       "      <td></td>\n",
       "      <td></td>\n",
       "      <td></td>\n",
       "      <td></td>\n",
       "      <td></td>\n",
       "      <td></td>\n",
       "      <td>1</td>\n",
       "      <td></td>\n",
       "      <td>1</td>\n",
       "      <td></td>\n",
       "      <td></td>\n",
       "      <td></td>\n",
       "      <td></td>\n",
       "      <td>1</td>\n",
       "      <td></td>\n",
       "      <td>30</td>\n",
       "      <td>2</td>\n",
       "      <td>0</td>\n",
       "      <td>0</td>\n",
       "      <td>0</td>\n",
       "      <td>0</td>\n",
       "      <td>0</td>\n",
       "      <td>0</td>\n",
       "      <td>0</td>\n",
       "      <td>0</td>\n",
       "      <td>0</td>\n",
       "      <td>1</td>\n",
       "      <td>25.66800106</td>\n",
       "    </tr>\n",
       "  </tbody>\n",
       "</table>\n",
       "</div>"
      ],
      "text/plain": [
       "      MUIDENT  CCAARESI  ANONAC CCAANAC CONTNACIM  RELA CONTNAC1 CONTNAC2  \\\n",
       "307     70096         4    1964      04      EU27     1     EU27     None   \n",
       "1297   190035         8    1965      12      EU27     1     EU27     None   \n",
       "1485   250034         9    1963      09      EU27     1     EU27     None   \n",
       "2405   290083         1    1968      11      EU27     1     EU27     None   \n",
       "\n",
       "     CONTNAC3  SEXO  ESTADOCIVIL  DEPEN5  DEPEN18  DEPENMAS  NIVESTPA  \\\n",
       "307      None     1            1       0        2         0       3.0   \n",
       "1297     None     2            6       0        0         0       7.0   \n",
       "1485     None     1            1       0        2         0       2.0   \n",
       "2405     None     1            1       0        1         1       1.0   \n",
       "\n",
       "      NIVESTMA  NIVPROFPA  NIVPROFMA  ACTIPRIPA1  ACTIPRIMA1  EDUPRIM  \\\n",
       "307        3.0          1          1           9         9.0        1   \n",
       "1297       7.0          2          2           2         2.0        1   \n",
       "1485       8.0          1          2           4         2.0        2   \n",
       "2405       1.0          2          5           6         NaN        1   \n",
       "\n",
       "      EDUSECUN  BACHILLER  RES CARES1  MESRES1 CARES2  MESRES2 CARES3  \\\n",
       "307          1          1    1     04     12.0   None        0   None   \n",
       "1297         1          1    0   None      NaN   None        0   None   \n",
       "1485         1          1    1     09     12.0   None        0   None   \n",
       "2405         1          1    1     01     12.0   None        0   None   \n",
       "\n",
       "      MESRES3  CODIDOC  INFUN  INAPL  DESTEC  ANODOC  MESDOC  DURDOCANO  \\\n",
       "307         0      101      1      1       0    1994       7          7   \n",
       "1297        0      605      1      0       0    1995       6          1   \n",
       "1485        0      302      1      1       0    1998       9          4   \n",
       "2405        0      502      0      1       0    2006       4         10   \n",
       "\n",
       "      DURDOCMES CONTEST ANOEST FINADOC TRABDOC ANOSINTRA MESSINTRA SITLAB  \\\n",
       "307          12    EU27   1987       5       1         1        10      1   \n",
       "1297         12    EU27   1994       8       0         .         .      1   \n",
       "1485         12    EU27   1988       2       0         .         .      1   \n",
       "2405         12    EU27   1992       5       1         0         0      1   \n",
       "\n",
       "     HTRAB INGRESOS AUTON CNAE2 ANOINIALP CAEMP CONTEMP SECTOR CODALP  \\\n",
       "307     40        5     0    85      1989    04    EU27      3    231   \n",
       "1297    40        5     0    01      2007    08    EU27      1    100   \n",
       "1485    50        3     0    86      1996    09    EU27      2    221   \n",
       "2405    45        5     0    85      1995    01    EU27      2    231   \n",
       "\n",
       "     CATEGPROF HLECT TIPOCONT JORLAB BUSCATRAB NIVELMIN NIVELEST RELTRABDOC  \\\n",
       "307          2     3        1      1                  2        2          3   \n",
       "1297               2        1      1                  3        3          3   \n",
       "1485               1        1      1                  3        2          3   \n",
       "2405         3     4        1      1                  2        1          1   \n",
       "\n",
       "     NIVELSAT1 NIVELSAT2 NIVELSAT3 NIVELSAT4 NIVELSAT5 NIVELSAT6 NIVELSAT7  \\\n",
       "307          3         3         1         1         1         3         2   \n",
       "1297         2         3         2         1         1         2         2   \n",
       "1485         3         3         2         3         3         4         4   \n",
       "2405         2         3         2         1         3         3         1   \n",
       "\n",
       "     NIVELSAT8 NIVELSAT9 NIVELSAT10 NIVELSAT11 NIVELSAT12 NIVELSAT13 ACTIANT  \\\n",
       "307          1         1          2          3          1          3       0   \n",
       "1297         2         2          1          2          2          2       1   \n",
       "1485         1         2          1          3          2          3       1   \n",
       "2405         2         3          2          3          1          1       0   \n",
       "\n",
       "     SECTORANT ACTIPRIANT ACTIANTANO ACTIANTMES TRABPOS MOTIVOPOS1 MOTIVOPOS2  \\\n",
       "307                   NNN          .          .       0                         \n",
       "1297         1        100          1          3       0                         \n",
       "1485         1        224         18          0       0                         \n",
       "2405                  NNN          .          .       1          0          0   \n",
       "\n",
       "     MOTIVOPOS3 MOTIVOPOS4 MOTIVOPOS5 MOTIVOPOS6 MOTIVOPOS7 MOTIVOPOS8  \\\n",
       "307                                                                      \n",
       "1297                                                                     \n",
       "1485                                                                     \n",
       "2405          1          0          1          0          0          1   \n",
       "\n",
       "     PORCINVES PORCDOC PORCOTRAS FINANPOS GESBUSEMP PASOSEMP1 PASOSEMP2  \\\n",
       "307          .       .         .                                          \n",
       "1297         .       .         .                                          \n",
       "1485         .       .         .                                          \n",
       "2405        25      65        10        3                                 \n",
       "\n",
       "     PASOSEMP3 PASOSEMP4 PASOSEMP5 PASOSEMP6 PASOSEMP7 PASOSEMP8 PASOSEMP9  \\\n",
       "307                                                                          \n",
       "1297                                                                         \n",
       "1485                                                                         \n",
       "2405                                                                         \n",
       "\n",
       "     PASOSEMP10 PASOSEMP11 NOPASOSEMP1 NOPASOSEMP2 NOPASOSEMP3 NOPASOSEMP4  \\\n",
       "307                                                                          \n",
       "1297                                                                         \n",
       "1485                                                                         \n",
       "2405                                                                         \n",
       "\n",
       "     NOPASOSEMP5 NOPASOSEMP6 NOPASOSEMP7 NOPASOSEMP8 NOPASOSEMP9 CONT1  \\\n",
       "307                                                               NMOV   \n",
       "1297                                                              NMOV   \n",
       "1485                                                              NMOV   \n",
       "2405                                                              NMOV   \n",
       "\n",
       "     ANOIPAIS1 ANOFPAIS1 MESES1 CONT2 ANOIPAIS2 ANOFPAIS2 MESES2 CONT3  \\\n",
       "307          .         .      .  NMOV         .         .      .  NMOV   \n",
       "1297         .         .      .  NMOV         .         .      .  NMOV   \n",
       "1485         .         .      .  NMOV         .         .      .  NMOV   \n",
       "2405         .         .      .  NMOV         .         .      .  NMOV   \n",
       "\n",
       "     ANOIPAIS3 ANOFPAIS3 MESES3 CONT4 ANOIPAIS4 ANOFPAIS4 MESES4 CONT5  \\\n",
       "307          .         .      .  NMOV         .         .      .  NMOV   \n",
       "1297         .         .      .  NMOV         .         .      .  NMOV   \n",
       "1485         .         .      .  NMOV         .         .      .  NMOV   \n",
       "2405         .         .      .  NMOV         .         .      .  NMOV   \n",
       "\n",
       "     ANOIPAIS5 ANOFPAIS5 MESES5 CONT6 ANOIPAIS6 ANOFPAIS6 MESES6 CONT7  \\\n",
       "307          .         .      .  NMOV         .         .      .  NMOV   \n",
       "1297         .         .      .  NMOV         .         .      .  NMOV   \n",
       "1485         .         .      .  NMOV         .         .      .  NMOV   \n",
       "2405         .         .      .  NMOV         .         .      .  NMOV   \n",
       "\n",
       "     ANOIPAIS7 ANOFPAIS7 MESES7 MOTFUERA1 MOTFUERA2 MOTFUERA3 MOTFUERA4  \\\n",
       "307          .         .      .                                           \n",
       "1297         .         .      .                                           \n",
       "1485         .         .      .                                           \n",
       "2405         .         .      .                                           \n",
       "\n",
       "     MOTFUERA5 MOTFUERA6 MOTFUERA7 MOTVENIR1 MOTVENIR2 MOTVENIR3 MOTVENIR4  \\\n",
       "307                                                                          \n",
       "1297                                                                         \n",
       "1485                                                                         \n",
       "2405                                                                         \n",
       "\n",
       "     MOTVENIR5 MOTVENIR6 MOTVENIR7 PREVIRSE MESANTESIR MOTIRSE1 MOTIRSE2  \\\n",
       "307                                       3                                \n",
       "1297                                      3                                \n",
       "1485                                      3                                \n",
       "2405                                      3                                \n",
       "\n",
       "     MOTIRSE3 MOTIRSE4 MOTIRSE5 MOTIRSE6 CONTOUT INV MOTNOINV1 MOTNOINV2  \\\n",
       "307                                         NMOV   1                       \n",
       "1297                                        NMOV   0                       \n",
       "1485                                        NMOV   1                       \n",
       "2405                                        NMOV   1                       \n",
       "\n",
       "     MOTNOINV3 MOTNOINV4 MOTNOINV5 MOTNOINV6 MOTNOINV7 MOTNOINV8 MOTNOINV9  \\\n",
       "307                                                                          \n",
       "1297                                                                     1   \n",
       "1485                                                                         \n",
       "2405                                                                         \n",
       "\n",
       "     ALGINV MOTINV1 MOTINV2 MOTINV3 MOTINV4 MOTINV5 MOTINV6 MOTINV7 MOTINV8  \\\n",
       "307               1                                                           \n",
       "1297      0                                                                   \n",
       "1485                              1                                           \n",
       "2405              1               1                                       1   \n",
       "\n",
       "     MOTINV9 MESESINV ARTIC LIBROS NUMPAT PATNAC PATEU PATCOOP PATCOM COMPA  \\\n",
       "307               200     5      0      0      0     0       0      0     0   \n",
       "1297                .     .      .      .      .     .       .      0     0   \n",
       "1485               48     2      0      0      0     0       0      0     0   \n",
       "2405               30     2      0      0      0     0       0      0     0   \n",
       "\n",
       "     TUTOR COOPERA INVFUT       FACTOR  \n",
       "307      0       0      1  11.51173913  \n",
       "1297     0       0      0  15.26447936  \n",
       "1485     0       0      0  25.66619877  \n",
       "2405     0       0      1  25.66800106  "
      ]
     },
     "execution_count": 221,
     "metadata": {},
     "output_type": "execute_result"
    }
   ],
   "source": [
    "df_doct[df_doct['DURDOCMES']==12] # OBS TO BE RECONSIDERED:"
   ]
  },
  {
   "cell_type": "code",
   "execution_count": 222,
   "metadata": {},
   "outputs": [
    {
     "data": {
      "text/plain": [
       "array([ 0.        ,  0.5       ,  1.        ,  1.08333333,  1.5       ,\n",
       "        1.75      ,  2.        ,  2.08333333,  2.16666667,  2.25      ,\n",
       "        2.33333333,  2.41666667,  2.5       ,  2.58333333,  2.66666667,\n",
       "        2.75      ,  2.83333333,  2.91666667,  3.        ,  3.08333333,\n",
       "        3.16666667,  3.25      ,  3.33333333,  3.41666667,  3.5       ,\n",
       "        3.58333333,  3.66666667,  3.75      ,  3.83333333,  3.91666667,\n",
       "        4.        ,  4.08333333,  4.16666667,  4.25      ,  4.33333333,\n",
       "        4.41666667,  4.5       ,  4.58333333,  4.66666667,  4.75      ,\n",
       "        4.83333333,  4.91666667,  5.        ,  5.08333333,  5.16666667,\n",
       "        5.25      ,  5.33333333,  5.41666667,  5.5       ,  5.58333333,\n",
       "        5.66666667,  5.75      ,  5.83333333,  5.91666667,  6.        ,\n",
       "        6.08333333,  6.16666667,  6.25      ,  6.33333333,  6.41666667,\n",
       "        6.5       ,  6.58333333,  6.66666667,  6.75      ,  6.83333333,\n",
       "        6.91666667,  7.        ,  7.08333333,  7.16666667,  7.25      ,\n",
       "        7.33333333,  7.41666667,  7.5       ,  7.58333333,  7.66666667,\n",
       "        7.75      ,  7.83333333,  7.91666667,  8.        ,  8.08333333,\n",
       "        8.16666667,  8.25      ,  8.33333333,  8.41666667,  8.5       ,\n",
       "        8.58333333,  8.66666667,  8.75      ,  8.83333333,  9.        ,\n",
       "        9.08333333,  9.16666667,  9.25      ,  9.33333333,  9.41666667,\n",
       "        9.5       ,  9.58333333,  9.66666667,  9.75      ,  9.83333333,\n",
       "        9.91666667, 10.        , 10.08333333, 10.16666667, 10.25      ,\n",
       "       10.33333333, 10.41666667, 10.5       , 10.58333333, 10.66666667,\n",
       "       10.75      , 10.83333333, 10.91666667, 11.        , 11.08333333,\n",
       "       11.16666667, 11.25      , 11.33333333, 11.41666667, 11.5       ,\n",
       "       11.58333333, 11.66666667, 11.75      , 11.83333333, 11.91666667,\n",
       "       12.        , 12.08333333, 12.16666667, 12.25      , 12.33333333,\n",
       "       12.41666667, 12.5       , 12.75      , 12.91666667, 13.        ,\n",
       "       13.08333333, 13.16666667, 13.33333333, 13.66666667, 13.75      ,\n",
       "       13.83333333, 14.        , 14.08333333, 14.25      , 14.33333333,\n",
       "       14.5       , 14.58333333, 14.66666667, 14.75      , 14.83333333,\n",
       "       15.        , 15.08333333, 15.33333333, 15.41666667, 15.5       ,\n",
       "       15.75      , 16.        , 16.41666667, 16.5       , 16.83333333,\n",
       "       17.        , 17.08333333, 17.5       , 17.66666667, 17.83333333,\n",
       "       18.        , 18.08333333, 18.66666667, 18.91666667, 19.        ,\n",
       "       19.5       , 20.        , 21.        , 21.66666667, 22.        ,\n",
       "       22.08333333, 22.16666667, 22.25      , 23.        , 24.        ,\n",
       "       25.        , 27.91666667, 30.        , 35.        ])"
      ]
     },
     "execution_count": 222,
     "metadata": {},
     "output_type": "execute_result"
    }
   ],
   "source": [
    "# New variable (not in the original dataset):\n",
    "df_doct['Tmpo_doc']=df_doct['DURDOCANO']+df_doct['DURDOCMES']/12\n",
    "df_doct['Tmpo_doc'].sort_values().unique()"
   ]
  },
  {
   "cell_type": "code",
   "execution_count": 223,
   "metadata": {},
   "outputs": [
    {
     "data": {
      "text/html": [
       "<div>\n",
       "<style scoped>\n",
       "    .dataframe tbody tr th:only-of-type {\n",
       "        vertical-align: middle;\n",
       "    }\n",
       "\n",
       "    .dataframe tbody tr th {\n",
       "        vertical-align: top;\n",
       "    }\n",
       "\n",
       "    .dataframe thead th {\n",
       "        text-align: right;\n",
       "    }\n",
       "</style>\n",
       "<table border=\"1\" class=\"dataframe\">\n",
       "  <thead>\n",
       "    <tr style=\"text-align: right;\">\n",
       "      <th></th>\n",
       "      <th>MUIDENT</th>\n",
       "      <th>CCAARESI</th>\n",
       "      <th>ANONAC</th>\n",
       "      <th>CCAANAC</th>\n",
       "      <th>CONTNACIM</th>\n",
       "      <th>RELA</th>\n",
       "      <th>CONTNAC1</th>\n",
       "      <th>CONTNAC2</th>\n",
       "      <th>CONTNAC3</th>\n",
       "      <th>SEXO</th>\n",
       "      <th>ESTADOCIVIL</th>\n",
       "      <th>DEPEN5</th>\n",
       "      <th>DEPEN18</th>\n",
       "      <th>DEPENMAS</th>\n",
       "      <th>NIVESTPA</th>\n",
       "      <th>NIVESTMA</th>\n",
       "      <th>NIVPROFPA</th>\n",
       "      <th>NIVPROFMA</th>\n",
       "      <th>ACTIPRIPA1</th>\n",
       "      <th>ACTIPRIMA1</th>\n",
       "      <th>EDUPRIM</th>\n",
       "      <th>EDUSECUN</th>\n",
       "      <th>BACHILLER</th>\n",
       "      <th>RES</th>\n",
       "      <th>CARES1</th>\n",
       "      <th>MESRES1</th>\n",
       "      <th>CARES2</th>\n",
       "      <th>MESRES2</th>\n",
       "      <th>CARES3</th>\n",
       "      <th>MESRES3</th>\n",
       "      <th>CODIDOC</th>\n",
       "      <th>INFUN</th>\n",
       "      <th>INAPL</th>\n",
       "      <th>DESTEC</th>\n",
       "      <th>ANODOC</th>\n",
       "      <th>MESDOC</th>\n",
       "      <th>DURDOCANO</th>\n",
       "      <th>DURDOCMES</th>\n",
       "      <th>CONTEST</th>\n",
       "      <th>ANOEST</th>\n",
       "      <th>FINADOC</th>\n",
       "      <th>TRABDOC</th>\n",
       "      <th>ANOSINTRA</th>\n",
       "      <th>MESSINTRA</th>\n",
       "      <th>SITLAB</th>\n",
       "      <th>HTRAB</th>\n",
       "      <th>INGRESOS</th>\n",
       "      <th>AUTON</th>\n",
       "      <th>CNAE2</th>\n",
       "      <th>ANOINIALP</th>\n",
       "      <th>CAEMP</th>\n",
       "      <th>CONTEMP</th>\n",
       "      <th>SECTOR</th>\n",
       "      <th>CODALP</th>\n",
       "      <th>CATEGPROF</th>\n",
       "      <th>HLECT</th>\n",
       "      <th>TIPOCONT</th>\n",
       "      <th>JORLAB</th>\n",
       "      <th>BUSCATRAB</th>\n",
       "      <th>NIVELMIN</th>\n",
       "      <th>NIVELEST</th>\n",
       "      <th>RELTRABDOC</th>\n",
       "      <th>NIVELSAT1</th>\n",
       "      <th>NIVELSAT2</th>\n",
       "      <th>NIVELSAT3</th>\n",
       "      <th>NIVELSAT4</th>\n",
       "      <th>NIVELSAT5</th>\n",
       "      <th>NIVELSAT6</th>\n",
       "      <th>NIVELSAT7</th>\n",
       "      <th>NIVELSAT8</th>\n",
       "      <th>NIVELSAT9</th>\n",
       "      <th>NIVELSAT10</th>\n",
       "      <th>NIVELSAT11</th>\n",
       "      <th>NIVELSAT12</th>\n",
       "      <th>NIVELSAT13</th>\n",
       "      <th>ACTIANT</th>\n",
       "      <th>SECTORANT</th>\n",
       "      <th>ACTIPRIANT</th>\n",
       "      <th>ACTIANTANO</th>\n",
       "      <th>ACTIANTMES</th>\n",
       "      <th>TRABPOS</th>\n",
       "      <th>MOTIVOPOS1</th>\n",
       "      <th>MOTIVOPOS2</th>\n",
       "      <th>MOTIVOPOS3</th>\n",
       "      <th>MOTIVOPOS4</th>\n",
       "      <th>MOTIVOPOS5</th>\n",
       "      <th>MOTIVOPOS6</th>\n",
       "      <th>MOTIVOPOS7</th>\n",
       "      <th>MOTIVOPOS8</th>\n",
       "      <th>PORCINVES</th>\n",
       "      <th>PORCDOC</th>\n",
       "      <th>PORCOTRAS</th>\n",
       "      <th>FINANPOS</th>\n",
       "      <th>GESBUSEMP</th>\n",
       "      <th>PASOSEMP1</th>\n",
       "      <th>PASOSEMP2</th>\n",
       "      <th>PASOSEMP3</th>\n",
       "      <th>PASOSEMP4</th>\n",
       "      <th>PASOSEMP5</th>\n",
       "      <th>PASOSEMP6</th>\n",
       "      <th>PASOSEMP7</th>\n",
       "      <th>PASOSEMP8</th>\n",
       "      <th>PASOSEMP9</th>\n",
       "      <th>PASOSEMP10</th>\n",
       "      <th>PASOSEMP11</th>\n",
       "      <th>NOPASOSEMP1</th>\n",
       "      <th>NOPASOSEMP2</th>\n",
       "      <th>NOPASOSEMP3</th>\n",
       "      <th>NOPASOSEMP4</th>\n",
       "      <th>NOPASOSEMP5</th>\n",
       "      <th>NOPASOSEMP6</th>\n",
       "      <th>NOPASOSEMP7</th>\n",
       "      <th>NOPASOSEMP8</th>\n",
       "      <th>NOPASOSEMP9</th>\n",
       "      <th>CONT1</th>\n",
       "      <th>ANOIPAIS1</th>\n",
       "      <th>ANOFPAIS1</th>\n",
       "      <th>MESES1</th>\n",
       "      <th>CONT2</th>\n",
       "      <th>ANOIPAIS2</th>\n",
       "      <th>ANOFPAIS2</th>\n",
       "      <th>MESES2</th>\n",
       "      <th>CONT3</th>\n",
       "      <th>ANOIPAIS3</th>\n",
       "      <th>ANOFPAIS3</th>\n",
       "      <th>MESES3</th>\n",
       "      <th>CONT4</th>\n",
       "      <th>ANOIPAIS4</th>\n",
       "      <th>ANOFPAIS4</th>\n",
       "      <th>MESES4</th>\n",
       "      <th>CONT5</th>\n",
       "      <th>ANOIPAIS5</th>\n",
       "      <th>ANOFPAIS5</th>\n",
       "      <th>MESES5</th>\n",
       "      <th>CONT6</th>\n",
       "      <th>ANOIPAIS6</th>\n",
       "      <th>ANOFPAIS6</th>\n",
       "      <th>MESES6</th>\n",
       "      <th>CONT7</th>\n",
       "      <th>ANOIPAIS7</th>\n",
       "      <th>ANOFPAIS7</th>\n",
       "      <th>MESES7</th>\n",
       "      <th>MOTFUERA1</th>\n",
       "      <th>MOTFUERA2</th>\n",
       "      <th>MOTFUERA3</th>\n",
       "      <th>MOTFUERA4</th>\n",
       "      <th>MOTFUERA5</th>\n",
       "      <th>MOTFUERA6</th>\n",
       "      <th>MOTFUERA7</th>\n",
       "      <th>MOTVENIR1</th>\n",
       "      <th>MOTVENIR2</th>\n",
       "      <th>MOTVENIR3</th>\n",
       "      <th>MOTVENIR4</th>\n",
       "      <th>MOTVENIR5</th>\n",
       "      <th>MOTVENIR6</th>\n",
       "      <th>MOTVENIR7</th>\n",
       "      <th>PREVIRSE</th>\n",
       "      <th>MESANTESIR</th>\n",
       "      <th>MOTIRSE1</th>\n",
       "      <th>MOTIRSE2</th>\n",
       "      <th>MOTIRSE3</th>\n",
       "      <th>MOTIRSE4</th>\n",
       "      <th>MOTIRSE5</th>\n",
       "      <th>MOTIRSE6</th>\n",
       "      <th>CONTOUT</th>\n",
       "      <th>INV</th>\n",
       "      <th>MOTNOINV1</th>\n",
       "      <th>MOTNOINV2</th>\n",
       "      <th>MOTNOINV3</th>\n",
       "      <th>MOTNOINV4</th>\n",
       "      <th>MOTNOINV5</th>\n",
       "      <th>MOTNOINV6</th>\n",
       "      <th>MOTNOINV7</th>\n",
       "      <th>MOTNOINV8</th>\n",
       "      <th>MOTNOINV9</th>\n",
       "      <th>ALGINV</th>\n",
       "      <th>MOTINV1</th>\n",
       "      <th>MOTINV2</th>\n",
       "      <th>MOTINV3</th>\n",
       "      <th>MOTINV4</th>\n",
       "      <th>MOTINV5</th>\n",
       "      <th>MOTINV6</th>\n",
       "      <th>MOTINV7</th>\n",
       "      <th>MOTINV8</th>\n",
       "      <th>MOTINV9</th>\n",
       "      <th>MESESINV</th>\n",
       "      <th>ARTIC</th>\n",
       "      <th>LIBROS</th>\n",
       "      <th>NUMPAT</th>\n",
       "      <th>PATNAC</th>\n",
       "      <th>PATEU</th>\n",
       "      <th>PATCOOP</th>\n",
       "      <th>PATCOM</th>\n",
       "      <th>COMPA</th>\n",
       "      <th>TUTOR</th>\n",
       "      <th>COOPERA</th>\n",
       "      <th>INVFUT</th>\n",
       "      <th>FACTOR</th>\n",
       "      <th>Tmpo_doc</th>\n",
       "    </tr>\n",
       "  </thead>\n",
       "  <tbody>\n",
       "    <tr>\n",
       "      <th>469</th>\n",
       "      <td>80195</td>\n",
       "      <td>9</td>\n",
       "      <td>1951</td>\n",
       "      <td>09</td>\n",
       "      <td>EU27</td>\n",
       "      <td>1</td>\n",
       "      <td>EU27</td>\n",
       "      <td>None</td>\n",
       "      <td>None</td>\n",
       "      <td>2</td>\n",
       "      <td>1</td>\n",
       "      <td>0</td>\n",
       "      <td>2</td>\n",
       "      <td>0</td>\n",
       "      <td>2.0</td>\n",
       "      <td>2.0</td>\n",
       "      <td>1</td>\n",
       "      <td>5</td>\n",
       "      <td>7</td>\n",
       "      <td>NaN</td>\n",
       "      <td>2</td>\n",
       "      <td>2</td>\n",
       "      <td>3</td>\n",
       "      <td>1</td>\n",
       "      <td>09</td>\n",
       "      <td>12.0</td>\n",
       "      <td>None</td>\n",
       "      <td>0</td>\n",
       "      <td>None</td>\n",
       "      <td>0</td>\n",
       "      <td>601</td>\n",
       "      <td>0</td>\n",
       "      <td>1</td>\n",
       "      <td>1</td>\n",
       "      <td>1991</td>\n",
       "      <td>1</td>\n",
       "      <td>0</td>\n",
       "      <td>0</td>\n",
       "      <td>EU27</td>\n",
       "      <td>1973</td>\n",
       "      <td>5</td>\n",
       "      <td>1</td>\n",
       "      <td>0</td>\n",
       "      <td>0</td>\n",
       "      <td>1</td>\n",
       "      <td>40</td>\n",
       "      <td>7</td>\n",
       "      <td>0</td>\n",
       "      <td>91</td>\n",
       "      <td>1992</td>\n",
       "      <td>09</td>\n",
       "      <td>EU27</td>\n",
       "      <td>2</td>\n",
       "      <td>262</td>\n",
       "      <td></td>\n",
       "      <td>1</td>\n",
       "      <td>1</td>\n",
       "      <td>1</td>\n",
       "      <td></td>\n",
       "      <td>3</td>\n",
       "      <td>3</td>\n",
       "      <td>1</td>\n",
       "      <td>2</td>\n",
       "      <td>2</td>\n",
       "      <td>1</td>\n",
       "      <td>1</td>\n",
       "      <td>1</td>\n",
       "      <td>1</td>\n",
       "      <td>1</td>\n",
       "      <td>2</td>\n",
       "      <td>2</td>\n",
       "      <td>2</td>\n",
       "      <td>3</td>\n",
       "      <td>2</td>\n",
       "      <td>3</td>\n",
       "      <td>0</td>\n",
       "      <td></td>\n",
       "      <td>NNN</td>\n",
       "      <td>.</td>\n",
       "      <td>.</td>\n",
       "      <td>0</td>\n",
       "      <td></td>\n",
       "      <td></td>\n",
       "      <td></td>\n",
       "      <td></td>\n",
       "      <td></td>\n",
       "      <td></td>\n",
       "      <td></td>\n",
       "      <td></td>\n",
       "      <td>.</td>\n",
       "      <td>.</td>\n",
       "      <td>.</td>\n",
       "      <td></td>\n",
       "      <td></td>\n",
       "      <td></td>\n",
       "      <td></td>\n",
       "      <td></td>\n",
       "      <td></td>\n",
       "      <td></td>\n",
       "      <td></td>\n",
       "      <td></td>\n",
       "      <td></td>\n",
       "      <td></td>\n",
       "      <td></td>\n",
       "      <td></td>\n",
       "      <td></td>\n",
       "      <td></td>\n",
       "      <td></td>\n",
       "      <td></td>\n",
       "      <td></td>\n",
       "      <td></td>\n",
       "      <td></td>\n",
       "      <td></td>\n",
       "      <td></td>\n",
       "      <td>NMOV</td>\n",
       "      <td>.</td>\n",
       "      <td>.</td>\n",
       "      <td>.</td>\n",
       "      <td>NMOV</td>\n",
       "      <td>.</td>\n",
       "      <td>.</td>\n",
       "      <td>.</td>\n",
       "      <td>NMOV</td>\n",
       "      <td>.</td>\n",
       "      <td>.</td>\n",
       "      <td>.</td>\n",
       "      <td>NMOV</td>\n",
       "      <td>.</td>\n",
       "      <td>.</td>\n",
       "      <td>.</td>\n",
       "      <td>NMOV</td>\n",
       "      <td>.</td>\n",
       "      <td>.</td>\n",
       "      <td>.</td>\n",
       "      <td>NMOV</td>\n",
       "      <td>.</td>\n",
       "      <td>.</td>\n",
       "      <td>.</td>\n",
       "      <td>NMOV</td>\n",
       "      <td>.</td>\n",
       "      <td>.</td>\n",
       "      <td>.</td>\n",
       "      <td></td>\n",
       "      <td></td>\n",
       "      <td></td>\n",
       "      <td></td>\n",
       "      <td></td>\n",
       "      <td></td>\n",
       "      <td></td>\n",
       "      <td></td>\n",
       "      <td></td>\n",
       "      <td></td>\n",
       "      <td></td>\n",
       "      <td></td>\n",
       "      <td></td>\n",
       "      <td></td>\n",
       "      <td>3</td>\n",
       "      <td></td>\n",
       "      <td></td>\n",
       "      <td></td>\n",
       "      <td></td>\n",
       "      <td></td>\n",
       "      <td></td>\n",
       "      <td></td>\n",
       "      <td>NMOV</td>\n",
       "      <td>1</td>\n",
       "      <td></td>\n",
       "      <td></td>\n",
       "      <td></td>\n",
       "      <td></td>\n",
       "      <td></td>\n",
       "      <td></td>\n",
       "      <td></td>\n",
       "      <td></td>\n",
       "      <td></td>\n",
       "      <td></td>\n",
       "      <td></td>\n",
       "      <td></td>\n",
       "      <td></td>\n",
       "      <td></td>\n",
       "      <td></td>\n",
       "      <td></td>\n",
       "      <td></td>\n",
       "      <td>1</td>\n",
       "      <td></td>\n",
       "      <td>20</td>\n",
       "      <td>0</td>\n",
       "      <td>0</td>\n",
       "      <td>0</td>\n",
       "      <td>0</td>\n",
       "      <td>0</td>\n",
       "      <td>0</td>\n",
       "      <td>0</td>\n",
       "      <td>0</td>\n",
       "      <td>0</td>\n",
       "      <td>1</td>\n",
       "      <td>1</td>\n",
       "      <td>25.66619877</td>\n",
       "      <td>0.0</td>\n",
       "    </tr>\n",
       "    <tr>\n",
       "      <th>2120</th>\n",
       "      <td>280690</td>\n",
       "      <td>13</td>\n",
       "      <td>1942</td>\n",
       "      <td>07</td>\n",
       "      <td>EU27</td>\n",
       "      <td>1</td>\n",
       "      <td>EU27</td>\n",
       "      <td>None</td>\n",
       "      <td>None</td>\n",
       "      <td>1</td>\n",
       "      <td>1</td>\n",
       "      <td>0</td>\n",
       "      <td>0</td>\n",
       "      <td>0</td>\n",
       "      <td>9.0</td>\n",
       "      <td>3.0</td>\n",
       "      <td>1</td>\n",
       "      <td>5</td>\n",
       "      <td>3</td>\n",
       "      <td>NaN</td>\n",
       "      <td>3</td>\n",
       "      <td>3</td>\n",
       "      <td>3</td>\n",
       "      <td>1</td>\n",
       "      <td>13</td>\n",
       "      <td>12.0</td>\n",
       "      <td>None</td>\n",
       "      <td>0</td>\n",
       "      <td>None</td>\n",
       "      <td>0</td>\n",
       "      <td>201</td>\n",
       "      <td>1</td>\n",
       "      <td>1</td>\n",
       "      <td>0</td>\n",
       "      <td>1992</td>\n",
       "      <td>10</td>\n",
       "      <td>0</td>\n",
       "      <td>0</td>\n",
       "      <td>EU27</td>\n",
       "      <td>1966</td>\n",
       "      <td>9</td>\n",
       "      <td>1</td>\n",
       "      <td>0</td>\n",
       "      <td>0</td>\n",
       "      <td>1</td>\n",
       "      <td>35</td>\n",
       "      <td>8</td>\n",
       "      <td>0</td>\n",
       "      <td>85</td>\n",
       "      <td>1997</td>\n",
       "      <td>13</td>\n",
       "      <td>EU27</td>\n",
       "      <td>3</td>\n",
       "      <td>231</td>\n",
       "      <td>2</td>\n",
       "      <td>3</td>\n",
       "      <td>1</td>\n",
       "      <td>1</td>\n",
       "      <td></td>\n",
       "      <td>2</td>\n",
       "      <td>1</td>\n",
       "      <td>1</td>\n",
       "      <td>2</td>\n",
       "      <td>2</td>\n",
       "      <td>1</td>\n",
       "      <td>1</td>\n",
       "      <td>1</td>\n",
       "      <td>2</td>\n",
       "      <td>1</td>\n",
       "      <td>1</td>\n",
       "      <td>1</td>\n",
       "      <td>1</td>\n",
       "      <td>2</td>\n",
       "      <td>1</td>\n",
       "      <td>1</td>\n",
       "      <td>0</td>\n",
       "      <td></td>\n",
       "      <td>NNN</td>\n",
       "      <td>.</td>\n",
       "      <td>.</td>\n",
       "      <td>0</td>\n",
       "      <td></td>\n",
       "      <td></td>\n",
       "      <td></td>\n",
       "      <td></td>\n",
       "      <td></td>\n",
       "      <td></td>\n",
       "      <td></td>\n",
       "      <td></td>\n",
       "      <td>.</td>\n",
       "      <td>.</td>\n",
       "      <td>.</td>\n",
       "      <td></td>\n",
       "      <td></td>\n",
       "      <td></td>\n",
       "      <td></td>\n",
       "      <td></td>\n",
       "      <td></td>\n",
       "      <td></td>\n",
       "      <td></td>\n",
       "      <td></td>\n",
       "      <td></td>\n",
       "      <td></td>\n",
       "      <td></td>\n",
       "      <td></td>\n",
       "      <td></td>\n",
       "      <td></td>\n",
       "      <td></td>\n",
       "      <td></td>\n",
       "      <td></td>\n",
       "      <td></td>\n",
       "      <td></td>\n",
       "      <td></td>\n",
       "      <td></td>\n",
       "      <td>NMOV</td>\n",
       "      <td>.</td>\n",
       "      <td>.</td>\n",
       "      <td>.</td>\n",
       "      <td>NMOV</td>\n",
       "      <td>.</td>\n",
       "      <td>.</td>\n",
       "      <td>.</td>\n",
       "      <td>NMOV</td>\n",
       "      <td>.</td>\n",
       "      <td>.</td>\n",
       "      <td>.</td>\n",
       "      <td>NMOV</td>\n",
       "      <td>.</td>\n",
       "      <td>.</td>\n",
       "      <td>.</td>\n",
       "      <td>NMOV</td>\n",
       "      <td>.</td>\n",
       "      <td>.</td>\n",
       "      <td>.</td>\n",
       "      <td>NMOV</td>\n",
       "      <td>.</td>\n",
       "      <td>.</td>\n",
       "      <td>.</td>\n",
       "      <td>NMOV</td>\n",
       "      <td>.</td>\n",
       "      <td>.</td>\n",
       "      <td>.</td>\n",
       "      <td></td>\n",
       "      <td></td>\n",
       "      <td></td>\n",
       "      <td></td>\n",
       "      <td></td>\n",
       "      <td></td>\n",
       "      <td></td>\n",
       "      <td></td>\n",
       "      <td></td>\n",
       "      <td></td>\n",
       "      <td></td>\n",
       "      <td></td>\n",
       "      <td></td>\n",
       "      <td></td>\n",
       "      <td>3</td>\n",
       "      <td></td>\n",
       "      <td></td>\n",
       "      <td></td>\n",
       "      <td></td>\n",
       "      <td></td>\n",
       "      <td></td>\n",
       "      <td></td>\n",
       "      <td>NMOV</td>\n",
       "      <td>1</td>\n",
       "      <td></td>\n",
       "      <td></td>\n",
       "      <td></td>\n",
       "      <td></td>\n",
       "      <td></td>\n",
       "      <td></td>\n",
       "      <td></td>\n",
       "      <td></td>\n",
       "      <td></td>\n",
       "      <td></td>\n",
       "      <td>1</td>\n",
       "      <td></td>\n",
       "      <td></td>\n",
       "      <td></td>\n",
       "      <td></td>\n",
       "      <td>1</td>\n",
       "      <td></td>\n",
       "      <td>1</td>\n",
       "      <td></td>\n",
       "      <td>432</td>\n",
       "      <td>0</td>\n",
       "      <td>9</td>\n",
       "      <td>0</td>\n",
       "      <td>0</td>\n",
       "      <td>0</td>\n",
       "      <td>0</td>\n",
       "      <td>0</td>\n",
       "      <td>0</td>\n",
       "      <td>0</td>\n",
       "      <td>0</td>\n",
       "      <td>1</td>\n",
       "      <td>24.81791986</td>\n",
       "      <td>0.0</td>\n",
       "    </tr>\n",
       "  </tbody>\n",
       "</table>\n",
       "</div>"
      ],
      "text/plain": [
       "      MUIDENT  CCAARESI  ANONAC CCAANAC CONTNACIM  RELA CONTNAC1 CONTNAC2  \\\n",
       "469     80195         9    1951      09      EU27     1     EU27     None   \n",
       "2120   280690        13    1942      07      EU27     1     EU27     None   \n",
       "\n",
       "     CONTNAC3  SEXO  ESTADOCIVIL  DEPEN5  DEPEN18  DEPENMAS  NIVESTPA  \\\n",
       "469      None     2            1       0        2         0       2.0   \n",
       "2120     None     1            1       0        0         0       9.0   \n",
       "\n",
       "      NIVESTMA  NIVPROFPA  NIVPROFMA  ACTIPRIPA1  ACTIPRIMA1  EDUPRIM  \\\n",
       "469        2.0          1          5           7         NaN        2   \n",
       "2120       3.0          1          5           3         NaN        3   \n",
       "\n",
       "      EDUSECUN  BACHILLER  RES CARES1  MESRES1 CARES2  MESRES2 CARES3  \\\n",
       "469          2          3    1     09     12.0   None        0   None   \n",
       "2120         3          3    1     13     12.0   None        0   None   \n",
       "\n",
       "      MESRES3  CODIDOC  INFUN  INAPL  DESTEC  ANODOC  MESDOC  DURDOCANO  \\\n",
       "469         0      601      0      1       1    1991       1          0   \n",
       "2120        0      201      1      1       0    1992      10          0   \n",
       "\n",
       "      DURDOCMES CONTEST ANOEST FINADOC TRABDOC ANOSINTRA MESSINTRA SITLAB  \\\n",
       "469           0    EU27   1973       5       1         0         0      1   \n",
       "2120          0    EU27   1966       9       1         0         0      1   \n",
       "\n",
       "     HTRAB INGRESOS AUTON CNAE2 ANOINIALP CAEMP CONTEMP SECTOR CODALP  \\\n",
       "469     40        7     0    91      1992    09    EU27      2    262   \n",
       "2120    35        8     0    85      1997    13    EU27      3    231   \n",
       "\n",
       "     CATEGPROF HLECT TIPOCONT JORLAB BUSCATRAB NIVELMIN NIVELEST RELTRABDOC  \\\n",
       "469                1        1      1                  3        3          1   \n",
       "2120         2     3        1      1                  2        1          1   \n",
       "\n",
       "     NIVELSAT1 NIVELSAT2 NIVELSAT3 NIVELSAT4 NIVELSAT5 NIVELSAT6 NIVELSAT7  \\\n",
       "469          2         2         1         1         1         1         1   \n",
       "2120         2         2         1         1         1         2         1   \n",
       "\n",
       "     NIVELSAT8 NIVELSAT9 NIVELSAT10 NIVELSAT11 NIVELSAT12 NIVELSAT13 ACTIANT  \\\n",
       "469          2         2          2          3          2          3       0   \n",
       "2120         1         1          1          2          1          1       0   \n",
       "\n",
       "     SECTORANT ACTIPRIANT ACTIANTANO ACTIANTMES TRABPOS MOTIVOPOS1 MOTIVOPOS2  \\\n",
       "469                   NNN          .          .       0                         \n",
       "2120                  NNN          .          .       0                         \n",
       "\n",
       "     MOTIVOPOS3 MOTIVOPOS4 MOTIVOPOS5 MOTIVOPOS6 MOTIVOPOS7 MOTIVOPOS8  \\\n",
       "469                                                                      \n",
       "2120                                                                     \n",
       "\n",
       "     PORCINVES PORCDOC PORCOTRAS FINANPOS GESBUSEMP PASOSEMP1 PASOSEMP2  \\\n",
       "469          .       .         .                                          \n",
       "2120         .       .         .                                          \n",
       "\n",
       "     PASOSEMP3 PASOSEMP4 PASOSEMP5 PASOSEMP6 PASOSEMP7 PASOSEMP8 PASOSEMP9  \\\n",
       "469                                                                          \n",
       "2120                                                                         \n",
       "\n",
       "     PASOSEMP10 PASOSEMP11 NOPASOSEMP1 NOPASOSEMP2 NOPASOSEMP3 NOPASOSEMP4  \\\n",
       "469                                                                          \n",
       "2120                                                                         \n",
       "\n",
       "     NOPASOSEMP5 NOPASOSEMP6 NOPASOSEMP7 NOPASOSEMP8 NOPASOSEMP9 CONT1  \\\n",
       "469                                                               NMOV   \n",
       "2120                                                              NMOV   \n",
       "\n",
       "     ANOIPAIS1 ANOFPAIS1 MESES1 CONT2 ANOIPAIS2 ANOFPAIS2 MESES2 CONT3  \\\n",
       "469          .         .      .  NMOV         .         .      .  NMOV   \n",
       "2120         .         .      .  NMOV         .         .      .  NMOV   \n",
       "\n",
       "     ANOIPAIS3 ANOFPAIS3 MESES3 CONT4 ANOIPAIS4 ANOFPAIS4 MESES4 CONT5  \\\n",
       "469          .         .      .  NMOV         .         .      .  NMOV   \n",
       "2120         .         .      .  NMOV         .         .      .  NMOV   \n",
       "\n",
       "     ANOIPAIS5 ANOFPAIS5 MESES5 CONT6 ANOIPAIS6 ANOFPAIS6 MESES6 CONT7  \\\n",
       "469          .         .      .  NMOV         .         .      .  NMOV   \n",
       "2120         .         .      .  NMOV         .         .      .  NMOV   \n",
       "\n",
       "     ANOIPAIS7 ANOFPAIS7 MESES7 MOTFUERA1 MOTFUERA2 MOTFUERA3 MOTFUERA4  \\\n",
       "469          .         .      .                                           \n",
       "2120         .         .      .                                           \n",
       "\n",
       "     MOTFUERA5 MOTFUERA6 MOTFUERA7 MOTVENIR1 MOTVENIR2 MOTVENIR3 MOTVENIR4  \\\n",
       "469                                                                          \n",
       "2120                                                                         \n",
       "\n",
       "     MOTVENIR5 MOTVENIR6 MOTVENIR7 PREVIRSE MESANTESIR MOTIRSE1 MOTIRSE2  \\\n",
       "469                                       3                                \n",
       "2120                                      3                                \n",
       "\n",
       "     MOTIRSE3 MOTIRSE4 MOTIRSE5 MOTIRSE6 CONTOUT INV MOTNOINV1 MOTNOINV2  \\\n",
       "469                                         NMOV   1                       \n",
       "2120                                        NMOV   1                       \n",
       "\n",
       "     MOTNOINV3 MOTNOINV4 MOTNOINV5 MOTNOINV6 MOTNOINV7 MOTNOINV8 MOTNOINV9  \\\n",
       "469                                                                          \n",
       "2120                                                                         \n",
       "\n",
       "     ALGINV MOTINV1 MOTINV2 MOTINV3 MOTINV4 MOTINV5 MOTINV6 MOTINV7 MOTINV8  \\\n",
       "469                                                                       1   \n",
       "2120              1                                       1               1   \n",
       "\n",
       "     MOTINV9 MESESINV ARTIC LIBROS NUMPAT PATNAC PATEU PATCOOP PATCOM COMPA  \\\n",
       "469                20     0      0      0      0     0       0      0     0   \n",
       "2120              432     0      9      0      0     0       0      0     0   \n",
       "\n",
       "     TUTOR COOPERA INVFUT       FACTOR  Tmpo_doc  \n",
       "469      0       1      1  25.66619877       0.0  \n",
       "2120     0       0      1  24.81791986       0.0  "
      ]
     },
     "execution_count": 223,
     "metadata": {},
     "output_type": "execute_result"
    }
   ],
   "source": [
    "df_doct[df_doct['Tmpo_doc']==0] # OBS TO BE RECONSIDERED:"
   ]
  },
  {
   "cell_type": "markdown",
   "metadata": {},
   "source": [
    "#### 'CONTEST'\n",
    "Continente en el que realizó los estudios universitarios de segundo ciclo previos al doctorado (Códigos: véase la variable 'CONTNACIM')."
   ]
  },
  {
   "cell_type": "code",
   "execution_count": 224,
   "metadata": {},
   "outputs": [
    {
     "data": {
      "text/plain": [
       "array(['AFRI', 'ASIA', 'EU27', 'EUCA', 'RAME', 'REUR'], dtype=object)"
      ]
     },
     "execution_count": 224,
     "metadata": {},
     "output_type": "execute_result"
    }
   ],
   "source": [
    "df_doct['CONTEST'].sort_values().unique() # No missing values"
   ]
  },
  {
   "cell_type": "markdown",
   "metadata": {},
   "source": [
    "#### 'ANOEST'\n",
    "Año en el que finalizó los estudios universitarios de segundo ciclo."
   ]
  },
  {
   "cell_type": "code",
   "execution_count": 225,
   "metadata": {},
   "outputs": [
    {
     "data": {
      "text/plain": [
       "array([1965, 1966, 1967, 1968, 1969, 1970, 1971, 1972, 1973, 1974, 1975,\n",
       "       1976, 1977, 1978, 1979, 1980, 1981, 1982, 1983, 1984, 1985, 1986,\n",
       "       1987, 1988, 1989, 1990, 1991, 1992, 1993, 1994, 1995, 1996, 1997,\n",
       "       1998, 1999, 2000, 2001, 2002, 2003, 2004])"
      ]
     },
     "execution_count": 225,
     "metadata": {},
     "output_type": "execute_result"
    }
   ],
   "source": [
    "df_doct['ANOEST']=df_doct['ANOEST'].astype('int') # No missing values\n",
    "df_doct['ANOEST'].sort_values().unique()"
   ]
  },
  {
   "cell_type": "markdown",
   "metadata": {},
   "source": [
    "#### 'FINADOC'\n",
    "Fuente principal de financiación durante los estudios de doctorado: 1=Beca de la Administración Pública (central, autonómica, local,etc.), 2=Beca de otro tipo de institución española, 3=Beca de una Administración Pública extranjera, 4=Beca de otro tipo de institución extranjera, 5=Trabajó como profersor y/o ayudante de investigación, 6=Otra ocupación, 7=Subvención reembolsada por el empleador, 8=Préstamos, ahorros personales y/o ayuda familiar, 9=Otras formas. "
   ]
  },
  {
   "cell_type": "code",
   "execution_count": 226,
   "metadata": {},
   "outputs": [
    {
     "data": {
      "text/plain": [
       "array([1, 2, 3, 4, 5, 6, 7, 8, 9])"
      ]
     },
     "execution_count": 226,
     "metadata": {},
     "output_type": "execute_result"
    }
   ],
   "source": [
    "df_doct['FINADOC']=df_doct['FINADOC'].astype('int') # No missing values\n",
    "df_doct['FINADOC'].sort_values().unique()"
   ]
  },
  {
   "cell_type": "markdown",
   "metadata": {},
   "source": [
    "#### 'TRABDOC'\n",
    "¿Trabajó en algo relacionado con su doctorado una vez finalizado y antes de enero de 2010?: 0=No, 1=Sí"
   ]
  },
  {
   "cell_type": "code",
   "execution_count": 227,
   "metadata": {},
   "outputs": [
    {
     "data": {
      "text/plain": [
       "array([0, 1])"
      ]
     },
     "execution_count": 227,
     "metadata": {},
     "output_type": "execute_result"
    }
   ],
   "source": [
    "df_doct['TRABDOC']=df_doct['TRABDOC'].astype('int') # No missing values\n",
    "df_doct['TRABDOC'].sort_values().unique()"
   ]
  },
  {
   "cell_type": "markdown",
   "metadata": {},
   "source": [
    "#### 'ANOSINTRA'\n",
    "(Solo para respuesta positiva en variable 'TRABDOC')  \n",
    "Tiempo transcurrido desde la finalización de los estudios de doctorado hasta que empezó a trabajar en algo relacionado con estos: años completos. "
   ]
  },
  {
   "cell_type": "code",
   "execution_count": 228,
   "metadata": {},
   "outputs": [
    {
     "data": {
      "text/plain": [
       "array([' .', ' 0', ' 1', ' 2', ' 3', ' 4', ' 5', ' 6', ' 7', ' 8', ' 9',\n",
       "       '10', '12', '14', '15', '16', '17', '19'], dtype=object)"
      ]
     },
     "execution_count": 228,
     "metadata": {},
     "output_type": "execute_result"
    }
   ],
   "source": [
    "df_doct['ANOSINTRA'].sort_values().unique() # Blank as ' .'"
   ]
  },
  {
   "cell_type": "code",
   "execution_count": 229,
   "metadata": {},
   "outputs": [
    {
     "data": {
      "text/html": [
       "<div>\n",
       "<style scoped>\n",
       "    .dataframe tbody tr th:only-of-type {\n",
       "        vertical-align: middle;\n",
       "    }\n",
       "\n",
       "    .dataframe tbody tr th {\n",
       "        vertical-align: top;\n",
       "    }\n",
       "\n",
       "    .dataframe thead tr th {\n",
       "        text-align: left;\n",
       "    }\n",
       "\n",
       "    .dataframe thead tr:last-of-type th {\n",
       "        text-align: right;\n",
       "    }\n",
       "</style>\n",
       "<table border=\"1\" class=\"dataframe\">\n",
       "  <thead>\n",
       "    <tr>\n",
       "      <th></th>\n",
       "      <th>ANOSINTRA</th>\n",
       "    </tr>\n",
       "    <tr>\n",
       "      <th></th>\n",
       "      <th>unique</th>\n",
       "    </tr>\n",
       "    <tr>\n",
       "      <th>TRABDOC</th>\n",
       "      <th></th>\n",
       "    </tr>\n",
       "  </thead>\n",
       "  <tbody>\n",
       "    <tr>\n",
       "      <th>0</th>\n",
       "      <td>[ .]</td>\n",
       "    </tr>\n",
       "    <tr>\n",
       "      <th>1</th>\n",
       "      <td>[ 0,  1,  2,  4,  3, 14,  5, 16,  7, 15,  6,  9, 10,  8, 19, 12, 17]</td>\n",
       "    </tr>\n",
       "  </tbody>\n",
       "</table>\n",
       "</div>"
      ],
      "text/plain": [
       "                                                                    ANOSINTRA\n",
       "                                                                       unique\n",
       "TRABDOC                                                                      \n",
       "0                                                                        [ .]\n",
       "1        [ 0,  1,  2,  4,  3, 14,  5, 16,  7, 15,  6,  9, 10,  8, 19, 12, 17]"
      ]
     },
     "execution_count": 229,
     "metadata": {},
     "output_type": "execute_result"
    }
   ],
   "source": [
    "df_doct[['ANOSINTRA','TRABDOC']].groupby('TRABDOC').agg(['unique']) # No missing values"
   ]
  },
  {
   "cell_type": "code",
   "execution_count": 230,
   "metadata": {},
   "outputs": [
    {
     "data": {
      "text/plain": [
       "array([ 0.,  1.,  2.,  3.,  4.,  5.,  6.,  7.,  8.,  9., 10., 12., 14.,\n",
       "       15., 16., 17., 19., nan])"
      ]
     },
     "execution_count": 230,
     "metadata": {},
     "output_type": "execute_result"
    }
   ],
   "source": [
    "df_doct['ANOSINTRA'].replace({' .':None},inplace=True) # None when no answer is expected\n",
    "df_doct['ANOSINTRA']=df_doct['ANOSINTRA'].astype('float')\n",
    "df_doct['ANOSINTRA'].sort_values().unique()"
   ]
  },
  {
   "cell_type": "markdown",
   "metadata": {},
   "source": [
    "#### 'MESSINTRA'\n",
    "(Solo para respuesta positiva en variable 'TRABDOC')   \n",
    "Tiempo transcurrido desde la finalización de los estudios de doctorado hasta que empezó a trabajar en algo relacionado con estos: meses adicionales a 'ANOSINTRA'."
   ]
  },
  {
   "cell_type": "code",
   "execution_count": 231,
   "metadata": {},
   "outputs": [
    {
     "data": {
      "text/plain": [
       "array([' .', ' 0', ' 1', ' 2', ' 3', ' 4', ' 5', ' 6', ' 7', ' 8', ' 9',\n",
       "       '10', '11', '12'], dtype=object)"
      ]
     },
     "execution_count": 231,
     "metadata": {},
     "output_type": "execute_result"
    }
   ],
   "source": [
    "df_doct['MESSINTRA'].sort_values().unique() # Blank as ' .'"
   ]
  },
  {
   "cell_type": "code",
   "execution_count": 232,
   "metadata": {},
   "outputs": [
    {
     "data": {
      "text/html": [
       "<div>\n",
       "<style scoped>\n",
       "    .dataframe tbody tr th:only-of-type {\n",
       "        vertical-align: middle;\n",
       "    }\n",
       "\n",
       "    .dataframe tbody tr th {\n",
       "        vertical-align: top;\n",
       "    }\n",
       "\n",
       "    .dataframe thead tr th {\n",
       "        text-align: left;\n",
       "    }\n",
       "\n",
       "    .dataframe thead tr:last-of-type th {\n",
       "        text-align: right;\n",
       "    }\n",
       "</style>\n",
       "<table border=\"1\" class=\"dataframe\">\n",
       "  <thead>\n",
       "    <tr>\n",
       "      <th></th>\n",
       "      <th>MESSINTRA</th>\n",
       "    </tr>\n",
       "    <tr>\n",
       "      <th></th>\n",
       "      <th>unique</th>\n",
       "    </tr>\n",
       "    <tr>\n",
       "      <th>TRABDOC</th>\n",
       "      <th></th>\n",
       "    </tr>\n",
       "  </thead>\n",
       "  <tbody>\n",
       "    <tr>\n",
       "      <th>0</th>\n",
       "      <td>[ .]</td>\n",
       "    </tr>\n",
       "    <tr>\n",
       "      <th>1</th>\n",
       "      <td>[ 0,  1,  9,  8, 10,  3,  6,  5,  2,  7,  4, 11, 12]</td>\n",
       "    </tr>\n",
       "  </tbody>\n",
       "</table>\n",
       "</div>"
      ],
      "text/plain": [
       "                                                    MESSINTRA\n",
       "                                                       unique\n",
       "TRABDOC                                                      \n",
       "0                                                        [ .]\n",
       "1        [ 0,  1,  9,  8, 10,  3,  6,  5,  2,  7,  4, 11, 12]"
      ]
     },
     "execution_count": 232,
     "metadata": {},
     "output_type": "execute_result"
    }
   ],
   "source": [
    "df_doct[['MESSINTRA','TRABDOC']].groupby('TRABDOC').agg(['unique']) # No missing values"
   ]
  },
  {
   "cell_type": "code",
   "execution_count": 233,
   "metadata": {},
   "outputs": [
    {
     "data": {
      "text/plain": [
       "array([ 0.,  1.,  2.,  3.,  4.,  5.,  6.,  7.,  8.,  9., 10., 11., 12.,\n",
       "       nan])"
      ]
     },
     "execution_count": 233,
     "metadata": {},
     "output_type": "execute_result"
    }
   ],
   "source": [
    "df_doct['MESSINTRA'].replace({' .':None},inplace=True) # None when no answer is expected\n",
    "df_doct['MESSINTRA']=df_doct['MESSINTRA'].astype('float')\n",
    "df_doct['MESSINTRA'].sort_values().unique()"
   ]
  },
  {
   "cell_type": "code",
   "execution_count": 234,
   "metadata": {},
   "outputs": [
    {
     "data": {
      "text/plain": [
       "array([ 0.        ,  0.08333333,  0.16666667,  0.25      ,  0.33333333,\n",
       "        0.41666667,  0.5       ,  0.58333333,  0.66666667,  0.75      ,\n",
       "        0.83333333,  0.91666667,  1.        ,  1.08333333,  1.16666667,\n",
       "        1.25      ,  1.33333333,  1.41666667,  1.5       ,  1.58333333,\n",
       "        1.66666667,  1.75      ,  1.83333333,  1.91666667,  2.        ,\n",
       "        2.08333333,  2.16666667,  2.25      ,  2.33333333,  2.41666667,\n",
       "        2.5       ,  2.58333333,  2.66666667,  2.75      ,  2.83333333,\n",
       "        2.91666667,  3.        ,  3.16666667,  3.25      ,  3.33333333,\n",
       "        3.41666667,  3.5       ,  3.58333333,  3.66666667,  3.75      ,\n",
       "        3.83333333,  3.91666667,  4.        ,  4.08333333,  4.16666667,\n",
       "        4.25      ,  4.33333333,  4.41666667,  4.58333333,  4.83333333,\n",
       "        5.        ,  5.08333333,  5.16666667,  5.25      ,  5.33333333,\n",
       "        5.5       ,  5.66666667,  6.        ,  6.16666667,  6.5       ,\n",
       "        6.75      ,  7.        ,  7.16666667,  7.25      ,  7.75      ,\n",
       "        7.91666667,  8.        ,  8.75      ,  8.83333333,  9.        ,\n",
       "        9.5       ,  9.83333333, 10.        , 10.08333333, 10.5       ,\n",
       "       12.25      , 14.        , 14.41666667, 15.        , 15.08333333,\n",
       "       16.25      , 17.58333333, 19.5       ,         nan])"
      ]
     },
     "execution_count": 234,
     "metadata": {},
     "output_type": "execute_result"
    }
   ],
   "source": [
    "# New variable (not in the original dataset):\n",
    "df_doct['Tmpo_s/T']=df_doct['ANOSINTRA']+df_doct['MESSINTRA']/12\n",
    "df_doct['Tmpo_s/T'].sort_values().unique() # NULL VALUES (TO BE RECONSIDERED):"
   ]
  },
  {
   "cell_type": "markdown",
   "metadata": {},
   "source": [
    "#### 'SITLAB'\n",
    "Situación laboral el 31 de diciembre de 2009: 1=Empleado, 2=Desempleado, 3=Inactivo."
   ]
  },
  {
   "cell_type": "code",
   "execution_count": 235,
   "metadata": {},
   "outputs": [
    {
     "data": {
      "text/plain": [
       "array([1, 2, 3])"
      ]
     },
     "execution_count": 235,
     "metadata": {},
     "output_type": "execute_result"
    }
   ],
   "source": [
    "df_doct['SITLAB']=df_doct['SITLAB'].astype('int') # No missing values\n",
    "df_doct['SITLAB'].unique()"
   ]
  },
  {
   "cell_type": "markdown",
   "metadata": {},
   "source": [
    "#### 'HTRAB'\n",
    "(Solo para respuesta 'Empleado' (1) en variable 'SITLAB')  \n",
    "Número medio de horas semanales trabajadas en diciembre de 2009. "
   ]
  },
  {
   "cell_type": "code",
   "execution_count": 236,
   "metadata": {},
   "outputs": [
    {
     "data": {
      "text/plain": [
       "array([' .', ' 4', ' 5', ' 6', ' 7', ' 8', ' 9', '10', '11', '12', '13',\n",
       "       '14', '15', '16', '17', '18', '20', '21', '24', '25', '26', '27',\n",
       "       '28', '30', '31', '32', '33', '34', '35', '36', '37', '38', '39',\n",
       "       '40', '41', '42', '43', '44', '45', '46', '47', '48', '49', '50',\n",
       "       '51', '52', '53', '54', '55', '56', '57', '58', '59', '60', '62',\n",
       "       '63', '64', '65', '68', '70', '71', '72', '75', '77', '80', '82',\n",
       "       '84', '90', '98', '99'], dtype=object)"
      ]
     },
     "execution_count": 236,
     "metadata": {},
     "output_type": "execute_result"
    }
   ],
   "source": [
    "df_doct['HTRAB'].sort_values().unique() # Blank as ' .'"
   ]
  },
  {
   "cell_type": "code",
   "execution_count": 237,
   "metadata": {},
   "outputs": [
    {
     "data": {
      "text/html": [
       "<div>\n",
       "<style scoped>\n",
       "    .dataframe tbody tr th:only-of-type {\n",
       "        vertical-align: middle;\n",
       "    }\n",
       "\n",
       "    .dataframe tbody tr th {\n",
       "        vertical-align: top;\n",
       "    }\n",
       "\n",
       "    .dataframe thead tr th {\n",
       "        text-align: left;\n",
       "    }\n",
       "\n",
       "    .dataframe thead tr:last-of-type th {\n",
       "        text-align: right;\n",
       "    }\n",
       "</style>\n",
       "<table border=\"1\" class=\"dataframe\">\n",
       "  <thead>\n",
       "    <tr>\n",
       "      <th></th>\n",
       "      <th>HTRAB</th>\n",
       "    </tr>\n",
       "    <tr>\n",
       "      <th></th>\n",
       "      <th>unique</th>\n",
       "    </tr>\n",
       "    <tr>\n",
       "      <th>SITLAB</th>\n",
       "      <th></th>\n",
       "    </tr>\n",
       "  </thead>\n",
       "  <tbody>\n",
       "    <tr>\n",
       "      <th>1</th>\n",
       "      <td>[41, 40, 37, 50, 45, 30, 35, 55, 28, 52, 90, 42, 60, 38,  5, 36, 70, 12, 44, 15, 49, 25, 48, 34, 46, 56, 10, 32, 47, 18, 33, 51, 24, 84, 17, 39, 58, 20, 82, 26, 43, 65, 16, 11,  8, 75, 80, 77, 72,  6, 99, 68, 63, 53, 27, 64, 62,  7, 31, 57,  9, 21, 13, 98, 59, 14, 71, 54,  4]</td>\n",
       "    </tr>\n",
       "    <tr>\n",
       "      <th>2</th>\n",
       "      <td>[ .]</td>\n",
       "    </tr>\n",
       "    <tr>\n",
       "      <th>3</th>\n",
       "      <td>[ .]</td>\n",
       "    </tr>\n",
       "  </tbody>\n",
       "</table>\n",
       "</div>"
      ],
      "text/plain": [
       "                                                                                                                                                                                                                                                                                       HTRAB\n",
       "                                                                                                                                                                                                                                                                                      unique\n",
       "SITLAB                                                                                                                                                                                                                                                                                      \n",
       "1       [41, 40, 37, 50, 45, 30, 35, 55, 28, 52, 90, 42, 60, 38,  5, 36, 70, 12, 44, 15, 49, 25, 48, 34, 46, 56, 10, 32, 47, 18, 33, 51, 24, 84, 17, 39, 58, 20, 82, 26, 43, 65, 16, 11,  8, 75, 80, 77, 72,  6, 99, 68, 63, 53, 27, 64, 62,  7, 31, 57,  9, 21, 13, 98, 59, 14, 71, 54,  4]\n",
       "2                                                                                                                                                                                                                                                                                       [ .]\n",
       "3                                                                                                                                                                                                                                                                                       [ .]"
      ]
     },
     "execution_count": 237,
     "metadata": {},
     "output_type": "execute_result"
    }
   ],
   "source": [
    "df_doct[['SITLAB','HTRAB']].groupby('SITLAB').agg(['unique']) # No missing values"
   ]
  },
  {
   "cell_type": "code",
   "execution_count": 238,
   "metadata": {},
   "outputs": [
    {
     "data": {
      "text/plain": [
       "array([ 0,  4,  5,  6,  7,  8,  9, 10, 11, 12, 13, 14, 15, 16, 17, 18, 20,\n",
       "       21, 24, 25, 26, 27, 28, 30, 31, 32, 33, 34, 35, 36, 37, 38, 39, 40,\n",
       "       41, 42, 43, 44, 45, 46, 47, 48, 49, 50, 51, 52, 53, 54, 55, 56, 57,\n",
       "       58, 59, 60, 62, 63, 64, 65, 68, 70, 71, 72, 75, 77, 80, 82, 84, 90,\n",
       "       98, 99])"
      ]
     },
     "execution_count": 238,
     "metadata": {},
     "output_type": "execute_result"
    }
   ],
   "source": [
    "df_doct['HTRAB'].replace({' .':0},inplace=True) # 0 for 'SITLAB' different from 1\n",
    "df_doct['HTRAB']=df_doct['HTRAB'].astype('int')\n",
    "df_doct['HTRAB'].sort_values().unique()"
   ]
  },
  {
   "cell_type": "code",
   "execution_count": 379,
   "metadata": {},
   "outputs": [],
   "source": [
    "def re_sitlab(col,blank,value=None,tipus='float'):\n",
    "    print (df_doct[col].sort_values().unique())\n",
    "    print (df_doct[['SITLAB',col]].groupby('SITLAB').agg(['unique']))\n",
    "    df_doct[col].replace({blank:value},inplace=True) \n",
    "    df_doct[col]=df_doct[col].astype(tipus)\n",
    "    print (df_doct[col].sort_values().unique())\n",
    "    return "
   ]
  },
  {
   "cell_type": "markdown",
   "metadata": {},
   "source": [
    "#### 'INGRESOS'\n",
    "(Solo para respuesta 'Empleado' (1) en variable 'SITLAB')  \n",
    "Tramo en que se encontraban sus ingresos brutos anuales en 2009: 1=Menos de 10.000 euros, 2=De 10.000 a 20.000 euros, 3=De 20.001 a 30.000 euros, 4=De 30.001 a 35.000 euros, 5=De 35.001 a 40.000 euros, 6=De 40.001 a 45.000 euros, 7=De 45.001 a 50.000 euros, 8=Más de 50.000 euros. "
   ]
  },
  {
   "cell_type": "code",
   "execution_count": 382,
   "metadata": {},
   "outputs": [
    {
     "data": {
      "text/plain": [
       "array([' ', '1', '2', '3', '4', '5', '6', '7', '8'], dtype=object)"
      ]
     },
     "execution_count": 382,
     "metadata": {},
     "output_type": "execute_result"
    }
   ],
   "source": [
    "df_doct['INGRESOS'].sort_values().unique() # Blank as ' '"
   ]
  },
  {
   "cell_type": "code",
   "execution_count": 383,
   "metadata": {},
   "outputs": [
    {
     "name": "stdout",
     "output_type": "stream",
     "text": [
      "[' ' '1' '2' '3' '4' '5' '6' '7' '8']\n",
      "                        INGRESOS\n",
      "                          unique\n",
      "SITLAB                          \n",
      "1       [8, 5, 6, 3, 7, 2, 4, 1]\n",
      "2                            [ ]\n",
      "3                            [ ]\n",
      "[0 1 2 3 4 5 6 7 8]\n"
     ]
    }
   ],
   "source": [
    "re_sitlab('INGRESOS',blank=' ',value=0,tipus='int')"
   ]
  },
  {
   "cell_type": "code",
   "execution_count": 384,
   "metadata": {},
   "outputs": [
    {
     "data": {
      "text/html": [
       "<div>\n",
       "<style scoped>\n",
       "    .dataframe tbody tr th:only-of-type {\n",
       "        vertical-align: middle;\n",
       "    }\n",
       "\n",
       "    .dataframe tbody tr th {\n",
       "        vertical-align: top;\n",
       "    }\n",
       "\n",
       "    .dataframe thead tr th {\n",
       "        text-align: left;\n",
       "    }\n",
       "\n",
       "    .dataframe thead tr:last-of-type th {\n",
       "        text-align: right;\n",
       "    }\n",
       "</style>\n",
       "<table border=\"1\" class=\"dataframe\">\n",
       "  <thead>\n",
       "    <tr>\n",
       "      <th></th>\n",
       "      <th>INGRESOS</th>\n",
       "    </tr>\n",
       "    <tr>\n",
       "      <th></th>\n",
       "      <th>unique</th>\n",
       "    </tr>\n",
       "    <tr>\n",
       "      <th>SITLAB</th>\n",
       "      <th></th>\n",
       "    </tr>\n",
       "  </thead>\n",
       "  <tbody>\n",
       "    <tr>\n",
       "      <th>1</th>\n",
       "      <td>[8, 5, 6, 3, 7, 2, 4, 1]</td>\n",
       "    </tr>\n",
       "    <tr>\n",
       "      <th>2</th>\n",
       "      <td>[0]</td>\n",
       "    </tr>\n",
       "    <tr>\n",
       "      <th>3</th>\n",
       "      <td>[0]</td>\n",
       "    </tr>\n",
       "  </tbody>\n",
       "</table>\n",
       "</div>"
      ],
      "text/plain": [
       "                        INGRESOS\n",
       "                          unique\n",
       "SITLAB                          \n",
       "1       [8, 5, 6, 3, 7, 2, 4, 1]\n",
       "2                            [0]\n",
       "3                            [0]"
      ]
     },
     "execution_count": 384,
     "metadata": {},
     "output_type": "execute_result"
    }
   ],
   "source": [
    "df_doct[['SITLAB','INGRESOS']].groupby('SITLAB').agg(['unique']) # No missing values"
   ]
  },
  {
   "cell_type": "code",
   "execution_count": 385,
   "metadata": {},
   "outputs": [
    {
     "data": {
      "text/plain": [
       "dtype('int64')"
      ]
     },
     "execution_count": 385,
     "metadata": {},
     "output_type": "execute_result"
    }
   ],
   "source": [
    "df_doct['INGRESOS'].dtypes"
   ]
  },
  {
   "cell_type": "markdown",
   "metadata": {},
   "source": [
    "#### 'AUTON'\n",
    "(Solo para respuesta 'Empleado' (1) en variable 'SITLAB')  \n",
    "¿El 31 de diciembre de 2009 su actividad laboral principal era trabajador por cuenta propia? 0=No, 1=Sí. "
   ]
  },
  {
   "cell_type": "code",
   "execution_count": 386,
   "metadata": {},
   "outputs": [
    {
     "data": {
      "text/plain": [
       "array([' ', '0', '1'], dtype=object)"
      ]
     },
     "execution_count": 386,
     "metadata": {},
     "output_type": "execute_result"
    }
   ],
   "source": [
    "df_doct['AUTON'].sort_values().unique() # Blank values as ' '"
   ]
  },
  {
   "cell_type": "code",
   "execution_count": 387,
   "metadata": {},
   "outputs": [
    {
     "name": "stdout",
     "output_type": "stream",
     "text": [
      "[' ' '0' '1']\n",
      "         AUTON\n",
      "        unique\n",
      "SITLAB        \n",
      "1       [1, 0]\n",
      "2          [ ]\n",
      "3          [ ]\n",
      "[0 1]\n"
     ]
    }
   ],
   "source": [
    "re_sitlab('AUTON',blank=' ',value=0,tipus='int')"
   ]
  },
  {
   "cell_type": "markdown",
   "metadata": {},
   "source": [
    "#### 'CNAE2'\n",
    "(Solo para respuesta 'Empleado' (1) en variable 'SITLAB')  \n",
    "Descripción de la actividad principal de la empresa en la que trabaja de acuerdo con la clasificación CNAE-2009. "
   ]
  },
  {
   "cell_type": "code",
   "execution_count": 388,
   "metadata": {},
   "outputs": [
    {
     "data": {
      "text/plain": [
       "array(['01', '02', '03', '10', '11', '19', '20', '21', '22', '23', '24',\n",
       "       '25', '26', '27', '28', '30', '32', '35', '36', '38', '41', '42',\n",
       "       '43', '46', '47', '49', '51', '52', '53', '56', '58', '59', '60',\n",
       "       '61', '62', '63', '64', '65', '66', '68', '69', '70', '71', '72',\n",
       "       '73', '74', '75', '77', '78', '79', '80', '81', '82', '84', '85',\n",
       "       '86', '87', '88', '90', '91', '93', '94', '95', '96', '97', '99',\n",
       "       'NN'], dtype=object)"
      ]
     },
     "execution_count": 388,
     "metadata": {},
     "output_type": "execute_result"
    }
   ],
   "source": [
    "df_doct['CNAE2'].sort_values().unique() # Blank as 'NN'"
   ]
  },
  {
   "cell_type": "code",
   "execution_count": 389,
   "metadata": {},
   "outputs": [
    {
     "name": "stdout",
     "output_type": "stream",
     "text": [
      "['01' '02' '03' '10' '11' '19' '20' '21' '22' '23' '24' '25' '26' '27'\n",
      " '28' '30' '32' '35' '36' '38' '41' '42' '43' '46' '47' '49' '51' '52'\n",
      " '53' '56' '58' '59' '60' '61' '62' '63' '64' '65' '66' '68' '69' '70'\n",
      " '71' '72' '73' '74' '75' '77' '78' '79' '80' '81' '82' '84' '85' '86'\n",
      " '87' '88' '90' '91' '93' '94' '95' '96' '97' '99' 'NN']\n",
      "                                                                                                                                                                                                                                                                           CNAE2\n",
      "                                                                                                                                                                                                                                                                          unique\n",
      "SITLAB                                                                                                                                                                                                                                                                          \n",
      "1       [47, 85, 21, 72, 86, 62, 02, 71, 70, 84, 46, 69, 91, 94, 64, 61, 88, 75, 01, 80, 42, 74, 38, 60, 20, 32, 99, 10, 19, 36, 58, 77, 27, 11, 23, 73, 41, 68, 25, 30, 35, 63, 97, 52, 65, 22, 90, 87, 66, 26, 78, 59, 51, 53, 49, 43, 24, 03, 95, 28, 79, 81, 56, 82, 96, 93]\n",
      "2                                                                                                                                                                                                                                                                           [NN]\n",
      "3                                                                                                                                                                                                                                                                           [NN]\n",
      "[ 1.  2.  3. 10. 11. 19. 20. 21. 22. 23. 24. 25. 26. 27. 28. 30. 32. 35.\n",
      " 36. 38. 41. 42. 43. 46. 47. 49. 51. 52. 53. 56. 58. 59. 60. 61. 62. 63.\n",
      " 64. 65. 66. 68. 69. 70. 71. 72. 73. 74. 75. 77. 78. 79. 80. 81. 82. 84.\n",
      " 85. 86. 87. 88. 90. 91. 93. 94. 95. 96. 97. 99. nan]\n"
     ]
    }
   ],
   "source": [
    "re_sitlab('CNAE2',blank='NN')"
   ]
  },
  {
   "cell_type": "markdown",
   "metadata": {},
   "source": [
    "#### 'ANOINIALP'\n",
    "(Solo para respuesta 'Empleado' (1) en variable 'SITLAB')  \n",
    "Año en que empezó a trabajar en la organización.  "
   ]
  },
  {
   "cell_type": "code",
   "execution_count": 395,
   "metadata": {},
   "outputs": [
    {
     "data": {
      "text/plain": [
       "array(['   .', '1965', '1966', '1968', '1969', '1970', '1971', '1972',\n",
       "       '1973', '1974', '1975', '1976', '1977', '1978', '1979', '1980',\n",
       "       '1981', '1982', '1983', '1984', '1985', '1986', '1987', '1988',\n",
       "       '1989', '1990', '1991', '1992', '1993', '1994', '1995', '1996',\n",
       "       '1997', '1998', '1999', '2000', '2001', '2002', '2003', '2004',\n",
       "       '2005', '2006', '2007', '2008', '2009'], dtype=object)"
      ]
     },
     "execution_count": 395,
     "metadata": {},
     "output_type": "execute_result"
    }
   ],
   "source": [
    "df_doct['ANOINIALP'].sort_values().unique() # Blank as '   .'"
   ]
  },
  {
   "cell_type": "code",
   "execution_count": 396,
   "metadata": {},
   "outputs": [
    {
     "name": "stdout",
     "output_type": "stream",
     "text": [
      "['   .' '1965' '1966' '1968' '1969' '1970' '1971' '1972' '1973' '1974'\n",
      " '1975' '1976' '1977' '1978' '1979' '1980' '1981' '1982' '1983' '1984'\n",
      " '1985' '1986' '1987' '1988' '1989' '1990' '1991' '1992' '1993' '1994'\n",
      " '1995' '1996' '1997' '1998' '1999' '2000' '2001' '2002' '2003' '2004'\n",
      " '2005' '2006' '2007' '2008' '2009']\n",
      "                                                                                                                                                                                                                                                                       ANOINIALP\n",
      "                                                                                                                                                                                                                                                                          unique\n",
      "SITLAB                                                                                                                                                                                                                                                                          \n",
      "1       [2000, 2005, 1996, 2002, 2008, 1986, 2006, 1993, 2007, 1991, 2003, 1999, 1994, 1980, 1998, 1995, 1987, 2001, 1989, 1988, 2009, 1997, 1981, 2004, 1977, 1983, 1992, 1990, 1974, 1978, 1968, 1984, 1972, 1982, 1970, 1979, 1985, 1975, 1966, 1976, 1973, 1969, 1971, 1965]\n",
      "2                                                                                                                                                                                                                                                                         [   .]\n",
      "3                                                                                                                                                                                                                                                                         [   .]\n",
      "[1965. 1966. 1968. 1969. 1970. 1971. 1972. 1973. 1974. 1975. 1976. 1977.\n",
      " 1978. 1979. 1980. 1981. 1982. 1983. 1984. 1985. 1986. 1987. 1988. 1989.\n",
      " 1990. 1991. 1992. 1993. 1994. 1995. 1996. 1997. 1998. 1999. 2000. 2001.\n",
      " 2002. 2003. 2004. 2005. 2006. 2007. 2008. 2009.   nan]\n"
     ]
    }
   ],
   "source": [
    "re_sitlab('ANOINIALP',blank='   .')"
   ]
  },
  {
   "cell_type": "markdown",
   "metadata": {},
   "source": [
    "#### 'CAEMPP'\n",
    "(Solo para respuesta 'Empleado' (1) en variable 'SITLAB')  \n",
    "CCAA en la que desarrolla su actividad laboral principal el 31 de diciembre de 2009 (Códigos: véase la variable 'CCAANAC'). "
   ]
  },
  {
   "cell_type": "code",
   "execution_count": 401,
   "metadata": {},
   "outputs": [
    {
     "data": {
      "text/plain": [
       "array(['01', '02', '03', '04', '05', '06', '07', '08', '09', '10', '11',\n",
       "       '12', '13', '14', '15', '16', '17', '18', 'NN'], dtype=object)"
      ]
     },
     "execution_count": 401,
     "metadata": {},
     "output_type": "execute_result"
    }
   ],
   "source": [
    "df_doct['CAEMP'].sort_values().unique() # Blank as 'NN'"
   ]
  },
  {
   "cell_type": "code",
   "execution_count": 402,
   "metadata": {},
   "outputs": [
    {
     "name": "stdout",
     "output_type": "stream",
     "text": [
      "['01' '02' '03' '04' '05' '06' '07' '08' '09' '10' '11' '12' '13' '14'\n",
      " '15' '16' '17' '18' 'NN']\n",
      "                                                                               CAEMP\n",
      "                                                                              unique\n",
      "SITLAB                                                                              \n",
      "1       [16, 17, 02, NN, 13, 09, 15, 08, 01, 10, 14, 07, 11, 04, 05, 06, 12, 03, 18]\n",
      "2                                                                               [NN]\n",
      "3                                                                               [NN]\n",
      "[ 1.  2.  3.  4.  5.  6.  7.  8.  9. 10. 11. 12. 13. 14. 15. 16. 17. 18.\n",
      " nan]\n"
     ]
    }
   ],
   "source": [
    "re_sitlab('CAEMP',blank='NN')"
   ]
  },
  {
   "cell_type": "markdown",
   "metadata": {},
   "source": [
    "#### 'CONTEMP'\n",
    "(Solo para respuesta 'Empleado' (1) en variable 'SITLAB')  \n",
    "Continente en la que desarrolla su actividad laboral principal el 31 de diciembre de 2009 (Códigos: véase la variable 'CONTINACIM'). "
   ]
  },
  {
   "cell_type": "code",
   "execution_count": 411,
   "metadata": {},
   "outputs": [
    {
     "data": {
      "text/plain": [
       "array(['AFRI', 'ASIA', 'EU27', 'EUCA', 'NNNN', 'RAME', 'REUR'],\n",
       "      dtype=object)"
      ]
     },
     "execution_count": 411,
     "metadata": {},
     "output_type": "execute_result"
    }
   ],
   "source": [
    "df_doct['CONTEMP'].sort_values().unique() # Blank as 'NNNN'"
   ]
  },
  {
   "cell_type": "code",
   "execution_count": 412,
   "metadata": {},
   "outputs": [
    {
     "name": "stdout",
     "output_type": "stream",
     "text": [
      "['AFRI' 'ASIA' 'EU27' 'EUCA' 'NNNN' 'RAME' 'REUR']\n",
      "                                     CONTEMP\n",
      "                                      unique\n",
      "SITLAB                                      \n",
      "1       [EU27, EUCA, RAME, REUR, ASIA, AFRI]\n",
      "2                                     [NNNN]\n",
      "3                                     [NNNN]\n",
      "['AFRI' 'ASIA' 'EU27' 'EUCA' 'RAME' 'REUR' None]\n"
     ]
    }
   ],
   "source": [
    "re_sitlab('CONTEMP',blank='NNNN',tipus='object')"
   ]
  },
  {
   "cell_type": "markdown",
   "metadata": {},
   "source": [
    "#### 'SECTOR'\n",
    "(Solo para respuesta 'Empleado' (1) en variable 'SITLAB')  \n",
    "Sector al que pertenece la organización en la que trabajaba el 31 de diciembre de 2009: 1=Empresas, 2=AAPP, 3=Enseñanza superior, 4=IPSFL."
   ]
  },
  {
   "cell_type": "code",
   "execution_count": 421,
   "metadata": {},
   "outputs": [
    {
     "data": {
      "text/plain": [
       "array([' ', '1', '2', '3', '4'], dtype=object)"
      ]
     },
     "execution_count": 421,
     "metadata": {},
     "output_type": "execute_result"
    }
   ],
   "source": [
    "df_doct['SECTOR'].sort_values().unique() # Blank as ' '"
   ]
  },
  {
   "cell_type": "code",
   "execution_count": 422,
   "metadata": {},
   "outputs": [
    {
     "name": "stdout",
     "output_type": "stream",
     "text": [
      "[' ' '1' '2' '3' '4']\n",
      "              SECTOR\n",
      "              unique\n",
      "SITLAB              \n",
      "1       [1, 2, 3, 4]\n",
      "2                [ ]\n",
      "3                [ ]\n",
      "[ 1.  2.  3.  4. nan]\n"
     ]
    }
   ],
   "source": [
    "re_sitlab('SECTOR',blank=' ')"
   ]
  },
  {
   "cell_type": "markdown",
   "metadata": {},
   "source": [
    "#### 'CODALP'\n",
    "(Solo para respuesta 'Empleado' en variable 'SITLAB')  \n",
    "Actividad laboral que desarrollaba el 31 de diciembre de 2009 de acuerdo con la Clasificación internacional uniforme de ocupaciones (ISCO-08): \n",
    "\n",
    "100=Directores y gerentes\n",
    "\n",
    "Profesionales científicos e intelectuales: 211=Físicos, químicos y profesionales afines, 212=Matemáticos, actuarios y estadísticos, 213=Profesionales en ciencias biológicas, 214=Ingenieros ( excluyendo electrotecnólogos), 215=Ingenieros en electrotecnología, 216=Arquitectos, urbanistas, agrimensores y diseñadores, 221=Médicos, 222=Profesionales de enfermería y partería, 223=Profesionales de medicina tradicional y alternativa, 224=Practicantes paramédicos, 225=Practicantes, paramédicos, 226=Otros profesionales de la salud, 231=Profesores de universidades y otros establecimientos de la enseñanza superior, 232=Profesores de formación profesional, 233=Profesores de enseñanza secundaria, 234=Maestros de enseñanza primaria y maestros preescolares, 235=Otros profesionales de la enseñanza, 241=Especialistas en finanzas, 242=Especialistas en organización de administración, 243=Profesionales de las ventas, la comercialización y las relaciones públicas, 251=Desarrolladores y analistas de software y multimedia, 252=Especialistas en bases de datos y en redes de computadores, 261=Profesionales en derecho, 262=Archivistas, bibliotecarios, curadores y afines, 263=Especialistas en ciencias sociales y teología\n",
    "264=Autores, periodistas y lingüistas, 265=Artistas creativos e interpretativos\n",
    "\n",
    "Técnicos y profesionales de nivel medio: 311=Técnicos en ciencias físicas y en ingeniería, 312=Supervisores en ingeniería de minas, de industrias manufactureras y de la construcción, 313=Técnicos en control de procesos, 314=Técnicos y profesionales de nivel medio en ciencias biológicas y afines, 315=Técnicos y controladores en navegación marítima y aeronáutica, 400=Personal de apoyo administrativo, 500=Trabajadores de los servicios y vendedores de comercios y mercados, 600=Agricultores y trabajadores calificados agropecuarios y pesqueros\n",
    "700=Oficiales, operarios y artesanos de artes mecánicas y de otros oficios, 800=Operadores de instalaciones y máquinas y ensambladores, 900=Ocupaciones elementales, 000=Ocupaciones militares"
   ]
  },
  {
   "cell_type": "code",
   "execution_count": 423,
   "metadata": {},
   "outputs": [
    {
     "data": {
      "text/plain": [
       "array(['000', '100', '211', '212', '213', '214', '215', '216', '221',\n",
       "       '222', '223', '224', '225', '226', '231', '232', '233', '234',\n",
       "       '235', '241', '242', '243', '251', '252', '261', '262', '263',\n",
       "       '264', '265', '311', '313', '314', '315', '400', '500', '600',\n",
       "       '900', 'NNN'], dtype=object)"
      ]
     },
     "execution_count": 423,
     "metadata": {},
     "output_type": "execute_result"
    }
   ],
   "source": [
    "df_doct['CODALP'].sort_values().unique() # Blank as 'NNN'"
   ]
  },
  {
   "cell_type": "code",
   "execution_count": 424,
   "metadata": {},
   "outputs": [
    {
     "name": "stdout",
     "output_type": "stream",
     "text": [
      "['000' '100' '211' '212' '213' '214' '215' '216' '221' '222' '223' '224'\n",
      " '225' '226' '231' '232' '233' '234' '235' '241' '242' '243' '251' '252'\n",
      " '261' '262' '263' '264' '265' '311' '313' '314' '315' '400' '500' '600'\n",
      " '900' 'NNN']\n",
      "                                                                                                                                                                                           CODALP\n",
      "                                                                                                                                                                                           unique\n",
      "SITLAB                                                                                                                                                                                           \n",
      "1       [226, 231, 221, 252, 213, 211, 216, 223, 233, 214, 261, 235, 263, 262, 212, 100, 900, 400, 242, 243, 225, 232, 314, 234, 241, 313, 264, 222, 500, 251, 311, 265, 215, 315, 000, 600, 224]\n",
      "2                                                                                                                                                                                           [NNN]\n",
      "3                                                                                                                                                                                           [NNN]\n",
      "[  0. 100. 211. 212. 213. 214. 215. 216. 221. 222. 223. 224. 225. 226.\n",
      " 231. 232. 233. 234. 235. 241. 242. 243. 251. 252. 261. 262. 263. 264.\n",
      " 265. 311. 313. 314. 315. 400. 500. 600. 900.  nan]\n"
     ]
    }
   ],
   "source": [
    "re_sitlab('CODALP',blank='NNN')"
   ]
  },
  {
   "cell_type": "markdown",
   "metadata": {},
   "source": [
    "#### 'CATEGPROF'\n",
    "(Solo para respuesta 231 en variable 'CODALP')  \n",
    "Categoría profesional o puesto de trabajo que ocupaba el 31 de diciembre de 2009: 1=Catedrático, 2=Profesor titular, 3=Profesor asociado, emerito, visitante, ayudante o similar, 4=Otro."
   ]
  },
  {
   "cell_type": "code",
   "execution_count": 425,
   "metadata": {},
   "outputs": [
    {
     "data": {
      "text/plain": [
       "array([' ', '1', '2', '3', '4'], dtype=object)"
      ]
     },
     "execution_count": 425,
     "metadata": {},
     "output_type": "execute_result"
    }
   ],
   "source": [
    "df_doct['CATEGPROF'].sort_values().unique() # Blank as ' '"
   ]
  },
  {
   "cell_type": "code",
   "execution_count": 426,
   "metadata": {},
   "outputs": [
    {
     "data": {
      "text/html": [
       "<div>\n",
       "<style scoped>\n",
       "    .dataframe tbody tr th:only-of-type {\n",
       "        vertical-align: middle;\n",
       "    }\n",
       "\n",
       "    .dataframe tbody tr th {\n",
       "        vertical-align: top;\n",
       "    }\n",
       "\n",
       "    .dataframe thead tr th {\n",
       "        text-align: left;\n",
       "    }\n",
       "\n",
       "    .dataframe thead tr:last-of-type th {\n",
       "        text-align: right;\n",
       "    }\n",
       "</style>\n",
       "<table border=\"1\" class=\"dataframe\">\n",
       "  <thead>\n",
       "    <tr>\n",
       "      <th></th>\n",
       "      <th>CATEGPROF</th>\n",
       "    </tr>\n",
       "    <tr>\n",
       "      <th></th>\n",
       "      <th>unique</th>\n",
       "    </tr>\n",
       "    <tr>\n",
       "      <th>CODALP</th>\n",
       "      <th></th>\n",
       "    </tr>\n",
       "  </thead>\n",
       "  <tbody>\n",
       "    <tr>\n",
       "      <th>0.0</th>\n",
       "      <td>[ ]</td>\n",
       "    </tr>\n",
       "    <tr>\n",
       "      <th>100.0</th>\n",
       "      <td>[ ]</td>\n",
       "    </tr>\n",
       "    <tr>\n",
       "      <th>211.0</th>\n",
       "      <td>[ ]</td>\n",
       "    </tr>\n",
       "    <tr>\n",
       "      <th>212.0</th>\n",
       "      <td>[ ]</td>\n",
       "    </tr>\n",
       "    <tr>\n",
       "      <th>213.0</th>\n",
       "      <td>[ ]</td>\n",
       "    </tr>\n",
       "    <tr>\n",
       "      <th>214.0</th>\n",
       "      <td>[ ]</td>\n",
       "    </tr>\n",
       "    <tr>\n",
       "      <th>215.0</th>\n",
       "      <td>[ ]</td>\n",
       "    </tr>\n",
       "    <tr>\n",
       "      <th>216.0</th>\n",
       "      <td>[ ]</td>\n",
       "    </tr>\n",
       "    <tr>\n",
       "      <th>221.0</th>\n",
       "      <td>[ ]</td>\n",
       "    </tr>\n",
       "    <tr>\n",
       "      <th>222.0</th>\n",
       "      <td>[ ]</td>\n",
       "    </tr>\n",
       "    <tr>\n",
       "      <th>223.0</th>\n",
       "      <td>[ ]</td>\n",
       "    </tr>\n",
       "    <tr>\n",
       "      <th>224.0</th>\n",
       "      <td>[ ]</td>\n",
       "    </tr>\n",
       "    <tr>\n",
       "      <th>225.0</th>\n",
       "      <td>[ ]</td>\n",
       "    </tr>\n",
       "    <tr>\n",
       "      <th>226.0</th>\n",
       "      <td>[ ]</td>\n",
       "    </tr>\n",
       "    <tr>\n",
       "      <th>231.0</th>\n",
       "      <td>[2, 4, 3, 1]</td>\n",
       "    </tr>\n",
       "    <tr>\n",
       "      <th>232.0</th>\n",
       "      <td>[ ]</td>\n",
       "    </tr>\n",
       "    <tr>\n",
       "      <th>233.0</th>\n",
       "      <td>[ ]</td>\n",
       "    </tr>\n",
       "    <tr>\n",
       "      <th>234.0</th>\n",
       "      <td>[ ]</td>\n",
       "    </tr>\n",
       "    <tr>\n",
       "      <th>235.0</th>\n",
       "      <td>[ ]</td>\n",
       "    </tr>\n",
       "    <tr>\n",
       "      <th>241.0</th>\n",
       "      <td>[ ]</td>\n",
       "    </tr>\n",
       "    <tr>\n",
       "      <th>242.0</th>\n",
       "      <td>[ ]</td>\n",
       "    </tr>\n",
       "    <tr>\n",
       "      <th>243.0</th>\n",
       "      <td>[ ]</td>\n",
       "    </tr>\n",
       "    <tr>\n",
       "      <th>251.0</th>\n",
       "      <td>[ ]</td>\n",
       "    </tr>\n",
       "    <tr>\n",
       "      <th>252.0</th>\n",
       "      <td>[ ]</td>\n",
       "    </tr>\n",
       "    <tr>\n",
       "      <th>261.0</th>\n",
       "      <td>[ ]</td>\n",
       "    </tr>\n",
       "    <tr>\n",
       "      <th>262.0</th>\n",
       "      <td>[ ]</td>\n",
       "    </tr>\n",
       "    <tr>\n",
       "      <th>263.0</th>\n",
       "      <td>[ ]</td>\n",
       "    </tr>\n",
       "    <tr>\n",
       "      <th>264.0</th>\n",
       "      <td>[ ]</td>\n",
       "    </tr>\n",
       "    <tr>\n",
       "      <th>265.0</th>\n",
       "      <td>[ ]</td>\n",
       "    </tr>\n",
       "    <tr>\n",
       "      <th>311.0</th>\n",
       "      <td>[ ]</td>\n",
       "    </tr>\n",
       "    <tr>\n",
       "      <th>313.0</th>\n",
       "      <td>[ ]</td>\n",
       "    </tr>\n",
       "    <tr>\n",
       "      <th>314.0</th>\n",
       "      <td>[ ]</td>\n",
       "    </tr>\n",
       "    <tr>\n",
       "      <th>315.0</th>\n",
       "      <td>[ ]</td>\n",
       "    </tr>\n",
       "    <tr>\n",
       "      <th>400.0</th>\n",
       "      <td>[ ]</td>\n",
       "    </tr>\n",
       "    <tr>\n",
       "      <th>500.0</th>\n",
       "      <td>[ ]</td>\n",
       "    </tr>\n",
       "    <tr>\n",
       "      <th>600.0</th>\n",
       "      <td>[ ]</td>\n",
       "    </tr>\n",
       "    <tr>\n",
       "      <th>900.0</th>\n",
       "      <td>[ ]</td>\n",
       "    </tr>\n",
       "  </tbody>\n",
       "</table>\n",
       "</div>"
      ],
      "text/plain": [
       "           CATEGPROF\n",
       "              unique\n",
       "CODALP              \n",
       "0.0              [ ]\n",
       "100.0            [ ]\n",
       "211.0            [ ]\n",
       "212.0            [ ]\n",
       "213.0            [ ]\n",
       "214.0            [ ]\n",
       "215.0            [ ]\n",
       "216.0            [ ]\n",
       "221.0            [ ]\n",
       "222.0            [ ]\n",
       "223.0            [ ]\n",
       "224.0            [ ]\n",
       "225.0            [ ]\n",
       "226.0            [ ]\n",
       "231.0   [2, 4, 3, 1]\n",
       "232.0            [ ]\n",
       "233.0            [ ]\n",
       "234.0            [ ]\n",
       "235.0            [ ]\n",
       "241.0            [ ]\n",
       "242.0            [ ]\n",
       "243.0            [ ]\n",
       "251.0            [ ]\n",
       "252.0            [ ]\n",
       "261.0            [ ]\n",
       "262.0            [ ]\n",
       "263.0            [ ]\n",
       "264.0            [ ]\n",
       "265.0            [ ]\n",
       "311.0            [ ]\n",
       "313.0            [ ]\n",
       "314.0            [ ]\n",
       "315.0            [ ]\n",
       "400.0            [ ]\n",
       "500.0            [ ]\n",
       "600.0            [ ]\n",
       "900.0            [ ]"
      ]
     },
     "execution_count": 426,
     "metadata": {},
     "output_type": "execute_result"
    }
   ],
   "source": [
    "df_doct[['CODALP','CATEGPROF']].groupby('CODALP').agg(['unique']) # No missing values"
   ]
  },
  {
   "cell_type": "code",
   "execution_count": 427,
   "metadata": {},
   "outputs": [
    {
     "data": {
      "text/plain": [
       "array([ 1.,  2.,  3.,  4., nan])"
      ]
     },
     "execution_count": 427,
     "metadata": {},
     "output_type": "execute_result"
    }
   ],
   "source": [
    "df_doct['CATEGPROF'].replace({' ':np.nan},inplace=True) # None for 'CODALP' different from 231\n",
    "df_doct['CATEGPROF']=df_doct['CATEGPROF'].astype('float')\n",
    "df_doct['CATEGPROF'].sort_values().unique()"
   ]
  },
  {
   "cell_type": "markdown",
   "metadata": {},
   "source": [
    "#### 'HLECT'\n",
    "(Solo para respuesta 'Empleado' (1) en variable 'SITLAB')  \n",
    "Proporción de su trabajo dedicado a actividades de docencia: 1=Nada, 2=Menos del 25 %; 3=Del 25 a 50 %; 4=Del 50 al 75 %; 5=Más del 75%. "
   ]
  },
  {
   "cell_type": "code",
   "execution_count": 430,
   "metadata": {},
   "outputs": [
    {
     "data": {
      "text/plain": [
       "array([' ', '1', '2', '3', '4', '5'], dtype=object)"
      ]
     },
     "execution_count": 430,
     "metadata": {},
     "output_type": "execute_result"
    }
   ],
   "source": [
    "df_doct['HLECT']=df_raw['HLECT']\n",
    "df_doct['HLECT'].sort_values().unique() # Blank as ' '"
   ]
  },
  {
   "cell_type": "code",
   "execution_count": 431,
   "metadata": {},
   "outputs": [
    {
     "name": "stdout",
     "output_type": "stream",
     "text": [
      "[' ' '1' '2' '3' '4' '5']\n",
      "                  HLECT\n",
      "                 unique\n",
      "SITLAB                 \n",
      "1       [1, 4, 3, 2, 5]\n",
      "2                   [ ]\n",
      "3                   [ ]\n",
      "[ 1.  2.  3.  4.  5. nan]\n"
     ]
    }
   ],
   "source": [
    "re_sitlab('HLECT',blank=' ')"
   ]
  },
  {
   "cell_type": "markdown",
   "metadata": {},
   "source": [
    "#### 'TIPOCONT'\n",
    "(Solo para respuesta 'Empleado' (1) en variable 'SITLAB')  \n",
    "Tipo de contrato al que estaba sujeto: 1=Indefinido, 2=Temporal. "
   ]
  },
  {
   "cell_type": "code",
   "execution_count": 434,
   "metadata": {},
   "outputs": [
    {
     "data": {
      "text/plain": [
       "array([' ', '1', '2'], dtype=object)"
      ]
     },
     "execution_count": 434,
     "metadata": {},
     "output_type": "execute_result"
    }
   ],
   "source": [
    "df_doct['TIPOCONT'].sort_values().unique() # Blank as ' '"
   ]
  },
  {
   "cell_type": "code",
   "execution_count": 435,
   "metadata": {},
   "outputs": [
    {
     "data": {
      "text/html": [
       "<div>\n",
       "<style scoped>\n",
       "    .dataframe tbody tr th:only-of-type {\n",
       "        vertical-align: middle;\n",
       "    }\n",
       "\n",
       "    .dataframe tbody tr th {\n",
       "        vertical-align: top;\n",
       "    }\n",
       "\n",
       "    .dataframe thead tr th {\n",
       "        text-align: left;\n",
       "    }\n",
       "\n",
       "    .dataframe thead tr:last-of-type th {\n",
       "        text-align: right;\n",
       "    }\n",
       "</style>\n",
       "<table border=\"1\" class=\"dataframe\">\n",
       "  <thead>\n",
       "    <tr>\n",
       "      <th></th>\n",
       "      <th></th>\n",
       "      <th>TIPOCONT</th>\n",
       "    </tr>\n",
       "    <tr>\n",
       "      <th></th>\n",
       "      <th></th>\n",
       "      <th>unique</th>\n",
       "    </tr>\n",
       "    <tr>\n",
       "      <th>SITLAB</th>\n",
       "      <th>AUTON</th>\n",
       "      <th></th>\n",
       "    </tr>\n",
       "  </thead>\n",
       "  <tbody>\n",
       "    <tr>\n",
       "      <th rowspan=\"2\" valign=\"top\">1</th>\n",
       "      <th>0</th>\n",
       "      <td>[1, 2]</td>\n",
       "    </tr>\n",
       "    <tr>\n",
       "      <th>1</th>\n",
       "      <td>[ ]</td>\n",
       "    </tr>\n",
       "    <tr>\n",
       "      <th>2</th>\n",
       "      <th>0</th>\n",
       "      <td>[ ]</td>\n",
       "    </tr>\n",
       "    <tr>\n",
       "      <th>3</th>\n",
       "      <th>0</th>\n",
       "      <td>[ ]</td>\n",
       "    </tr>\n",
       "  </tbody>\n",
       "</table>\n",
       "</div>"
      ],
      "text/plain": [
       "             TIPOCONT\n",
       "               unique\n",
       "SITLAB AUTON         \n",
       "1      0       [1, 2]\n",
       "       1          [ ]\n",
       "2      0          [ ]\n",
       "3      0          [ ]"
      ]
     },
     "execution_count": 435,
     "metadata": {},
     "output_type": "execute_result"
    }
   ],
   "source": [
    "df_doct[['SITLAB','TIPOCONT','AUTON']].groupby(['SITLAB','AUTON']).agg(['unique']) #  No missing values"
   ]
  },
  {
   "cell_type": "code",
   "execution_count": 436,
   "metadata": {},
   "outputs": [
    {
     "data": {
      "text/plain": [
       "array([ 1.,  2., nan])"
      ]
     },
     "execution_count": 436,
     "metadata": {},
     "output_type": "execute_result"
    }
   ],
   "source": [
    "df_doct['TIPOCONT'].replace({' ':None},inplace=True) # None for 'SITLAB' different from 1 and 'AUTON' different from 0\n",
    "df_doct['TIPOCONT']=df_doct['TIPOCONT'].astype('float')\n",
    "df_doct['TIPOCONT'].sort_values().unique()"
   ]
  },
  {
   "cell_type": "markdown",
   "metadata": {},
   "source": [
    "#### 'JORLAB'\n",
    "(Solo para respuesta 'Empleado' (1) en variable 'SITLAB')  \n",
    "Tipo de jornada laboral: 1=A tiempo completo, 2=A tiempo parcial."
   ]
  },
  {
   "cell_type": "code",
   "execution_count": 440,
   "metadata": {},
   "outputs": [
    {
     "data": {
      "text/plain": [
       "array([' ', '1', '2'], dtype=object)"
      ]
     },
     "execution_count": 440,
     "metadata": {},
     "output_type": "execute_result"
    }
   ],
   "source": [
    "df_doct['JORLAB'].sort_values().unique() # Blank as ' '"
   ]
  },
  {
   "cell_type": "code",
   "execution_count": 441,
   "metadata": {},
   "outputs": [
    {
     "data": {
      "text/html": [
       "<div>\n",
       "<style scoped>\n",
       "    .dataframe tbody tr th:only-of-type {\n",
       "        vertical-align: middle;\n",
       "    }\n",
       "\n",
       "    .dataframe tbody tr th {\n",
       "        vertical-align: top;\n",
       "    }\n",
       "\n",
       "    .dataframe thead tr th {\n",
       "        text-align: left;\n",
       "    }\n",
       "\n",
       "    .dataframe thead tr:last-of-type th {\n",
       "        text-align: right;\n",
       "    }\n",
       "</style>\n",
       "<table border=\"1\" class=\"dataframe\">\n",
       "  <thead>\n",
       "    <tr>\n",
       "      <th></th>\n",
       "      <th>JORLAB</th>\n",
       "    </tr>\n",
       "    <tr>\n",
       "      <th></th>\n",
       "      <th>unique</th>\n",
       "    </tr>\n",
       "    <tr>\n",
       "      <th>SITLAB</th>\n",
       "      <th></th>\n",
       "    </tr>\n",
       "  </thead>\n",
       "  <tbody>\n",
       "    <tr>\n",
       "      <th>1</th>\n",
       "      <td>[1, 2]</td>\n",
       "    </tr>\n",
       "    <tr>\n",
       "      <th>2</th>\n",
       "      <td>[ ]</td>\n",
       "    </tr>\n",
       "    <tr>\n",
       "      <th>3</th>\n",
       "      <td>[ ]</td>\n",
       "    </tr>\n",
       "  </tbody>\n",
       "</table>\n",
       "</div>"
      ],
      "text/plain": [
       "        JORLAB\n",
       "        unique\n",
       "SITLAB        \n",
       "1       [1, 2]\n",
       "2          [ ]\n",
       "3          [ ]"
      ]
     },
     "execution_count": 441,
     "metadata": {},
     "output_type": "execute_result"
    }
   ],
   "source": [
    "df_doct[['SITLAB','JORLAB']].groupby('SITLAB').agg(['unique']) # No missing values"
   ]
  },
  {
   "cell_type": "code",
   "execution_count": 442,
   "metadata": {},
   "outputs": [
    {
     "data": {
      "text/plain": [
       "array([ 1.,  2., nan])"
      ]
     },
     "execution_count": 442,
     "metadata": {},
     "output_type": "execute_result"
    }
   ],
   "source": [
    "df_doct['JORLAB'].replace({' ':None},inplace=True) # None for 'SITLAB' different from 1 \n",
    "df_doct['JORLAB']=df_doct['JORLAB'].astype('float')\n",
    "df_doct['JORLAB'].sort_values().unique()"
   ]
  },
  {
   "cell_type": "markdown",
   "metadata": {},
   "source": [
    "#### 'BUSCATRAB'\n",
    "(Solo para respuesta 'Empleado' (1) en variable 'SITLAB' y respuesta 'Tiempo parcial' (2) en variable 'JORLAB')  \n",
    "¿Estaba usted buscando un trabajo a tiempo completo en diciembre de 2009? 0=No, 1=Sí."
   ]
  },
  {
   "cell_type": "code",
   "execution_count": 297,
   "metadata": {},
   "outputs": [
    {
     "data": {
      "text/plain": [
       "array([' ', '0', '1'], dtype=object)"
      ]
     },
     "execution_count": 297,
     "metadata": {},
     "output_type": "execute_result"
    }
   ],
   "source": [
    "df_doct['BUSCATRAB'].sort_values().unique() # Blank as ' '"
   ]
  },
  {
   "cell_type": "code",
   "execution_count": 298,
   "metadata": {},
   "outputs": [
    {
     "data": {
      "text/html": [
       "<div>\n",
       "<style scoped>\n",
       "    .dataframe tbody tr th:only-of-type {\n",
       "        vertical-align: middle;\n",
       "    }\n",
       "\n",
       "    .dataframe tbody tr th {\n",
       "        vertical-align: top;\n",
       "    }\n",
       "\n",
       "    .dataframe thead tr th {\n",
       "        text-align: left;\n",
       "    }\n",
       "\n",
       "    .dataframe thead tr:last-of-type th {\n",
       "        text-align: right;\n",
       "    }\n",
       "</style>\n",
       "<table border=\"1\" class=\"dataframe\">\n",
       "  <thead>\n",
       "    <tr>\n",
       "      <th></th>\n",
       "      <th></th>\n",
       "      <th>BUSCATRAB</th>\n",
       "    </tr>\n",
       "    <tr>\n",
       "      <th></th>\n",
       "      <th></th>\n",
       "      <th>unique</th>\n",
       "    </tr>\n",
       "    <tr>\n",
       "      <th>SITLAB</th>\n",
       "      <th>JORLAB</th>\n",
       "      <th></th>\n",
       "    </tr>\n",
       "  </thead>\n",
       "  <tbody>\n",
       "    <tr>\n",
       "      <th rowspan=\"2\" valign=\"top\">1</th>\n",
       "      <th>1.0</th>\n",
       "      <td>[ ]</td>\n",
       "    </tr>\n",
       "    <tr>\n",
       "      <th>2.0</th>\n",
       "      <td>[1, 0]</td>\n",
       "    </tr>\n",
       "  </tbody>\n",
       "</table>\n",
       "</div>"
      ],
      "text/plain": [
       "              BUSCATRAB\n",
       "                 unique\n",
       "SITLAB JORLAB          \n",
       "1      1.0          [ ]\n",
       "       2.0       [1, 0]"
      ]
     },
     "execution_count": 298,
     "metadata": {},
     "output_type": "execute_result"
    }
   ],
   "source": [
    "df_doct[['SITLAB','JORLAB','BUSCATRAB']].groupby(['SITLAB','JORLAB']).agg(['unique']) #  No missing values"
   ]
  },
  {
   "cell_type": "code",
   "execution_count": 299,
   "metadata": {},
   "outputs": [
    {
     "data": {
      "text/plain": [
       "array([ 0.,  1., nan])"
      ]
     },
     "execution_count": 299,
     "metadata": {},
     "output_type": "execute_result"
    }
   ],
   "source": [
    "df_doct['BUSCATRAB'].replace({' ':np.nan},inplace=True) # None for 'SITLAB' different from 1 and 'JORLAB' different from 2\n",
    "df_doct['BUSCATRAB']=df_doct['BUSCATRAB'].astype('float')\n",
    "df_doct['BUSCATRAB'].sort_values().unique()"
   ]
  },
  {
   "cell_type": "markdown",
   "metadata": {},
   "source": [
    "#### 'NIVELMIN'\n",
    "(Solo para respuesta 'Empleado' (1) en variable 'SITLAB')  \n",
    "Nivel mínimo requerido para el puesto que tenía usted en su trabajo principal el 31 de diciembre de 2009: 1=Postdoctorado, 2=Doctor universitario, 3=Licenciado, arquitecto, ingeniero, 4=Diplomado, arquitecto técnico, ingeniero técnico, 5=Ciclos formativos de grado superior, 6=Ciclos formativos de grado medio,bachiller, 7= Otros."
   ]
  },
  {
   "cell_type": "code",
   "execution_count": 444,
   "metadata": {},
   "outputs": [
    {
     "data": {
      "text/plain": [
       "array([' ', '1', '2', '3', '4', '5', '6', '7'], dtype=object)"
      ]
     },
     "execution_count": 444,
     "metadata": {},
     "output_type": "execute_result"
    }
   ],
   "source": [
    "df_doct['NIVELMIN'].sort_values().unique() # Blank as ' '"
   ]
  },
  {
   "cell_type": "code",
   "execution_count": 445,
   "metadata": {},
   "outputs": [
    {
     "name": "stdout",
     "output_type": "stream",
     "text": [
      "[' ' '1' '2' '3' '4' '5' '6' '7']\n",
      "                     NIVELMIN\n",
      "                       unique\n",
      "SITLAB                       \n",
      "1       [3, 2, 1, 4, 6, 7, 5]\n",
      "2                         [ ]\n",
      "3                         [ ]\n",
      "[ 1.  2.  3.  4.  5.  6.  7. nan]\n"
     ]
    }
   ],
   "source": [
    "re_sitlab('NIVELMIN',blank=' ')"
   ]
  },
  {
   "cell_type": "markdown",
   "metadata": {},
   "source": [
    "#### 'NIVELEST'\n",
    "(Solo para respuesta 'Empleado' (1) en variable 'SITLAB')  \n",
    "Nivel que considera que es el adecuado para el puesto que tenía usted en su trabajo principal el 31 de\n",
    "diciembre de 2009 (Códigos: véase la variable 'NIVELMIN')."
   ]
  },
  {
   "cell_type": "code",
   "execution_count": 446,
   "metadata": {},
   "outputs": [
    {
     "data": {
      "text/plain": [
       "array([' ', '1', '2', '3', '4', '5', '6', '7'], dtype=object)"
      ]
     },
     "execution_count": 446,
     "metadata": {},
     "output_type": "execute_result"
    }
   ],
   "source": [
    "df_doct['NIVELEST'].sort_values().unique() # Blank as ' '"
   ]
  },
  {
   "cell_type": "code",
   "execution_count": 447,
   "metadata": {},
   "outputs": [
    {
     "name": "stdout",
     "output_type": "stream",
     "text": [
      "[' ' '1' '2' '3' '4' '5' '6' '7']\n",
      "                     NIVELEST\n",
      "                       unique\n",
      "SITLAB                       \n",
      "1       [3, 2, 1, 7, 5, 4, 6]\n",
      "2                         [ ]\n",
      "3                         [ ]\n",
      "[ 1.  2.  3.  4.  5.  6.  7. nan]\n"
     ]
    }
   ],
   "source": [
    "re_sitlab('NIVELEST',blank=' ')"
   ]
  },
  {
   "cell_type": "markdown",
   "metadata": {},
   "source": [
    "#### 'RELTRABDOC'\n",
    "(Solo para respuesta 'Empleado' (1) en variable 'SITLAB')  \n",
    "Grado de relación entre el trabajo principal que desempeñaba a 31 de diciembre de 2009 y sus estudios\n",
    "de doctorado:1=Alto, 2=Medio, 3=Bajo."
   ]
  },
  {
   "cell_type": "code",
   "execution_count": 448,
   "metadata": {},
   "outputs": [
    {
     "data": {
      "text/plain": [
       "array([' ', '1', '2', '3'], dtype=object)"
      ]
     },
     "execution_count": 448,
     "metadata": {},
     "output_type": "execute_result"
    }
   ],
   "source": [
    "df_doct['RELTRABDOC'].sort_values().unique() # Blank as ' '"
   ]
  },
  {
   "cell_type": "code",
   "execution_count": 449,
   "metadata": {},
   "outputs": [
    {
     "name": "stdout",
     "output_type": "stream",
     "text": [
      "[' ' '1' '2' '3']\n",
      "       RELTRABDOC\n",
      "           unique\n",
      "SITLAB           \n",
      "1       [3, 1, 2]\n",
      "2             [ ]\n",
      "3             [ ]\n",
      "[ 1.  2.  3. nan]\n"
     ]
    }
   ],
   "source": [
    "re_sitlab('RELTRABDOC',blank=' ')"
   ]
  },
  {
   "cell_type": "markdown",
   "metadata": {},
   "source": [
    "#### 'NIVELSAT1'\n",
    "(Solo para respuesta 'Empleado' (1) en variable 'SITLAB')  \n",
    "Nivel de satisfacción con su salario el 31 de diciembre de 2009: 1=Alto, 2=Medio, 3=Bajo, 4=Ninguno."
   ]
  },
  {
   "cell_type": "code",
   "execution_count": 455,
   "metadata": {},
   "outputs": [
    {
     "data": {
      "text/plain": [
       "array([' ', '1', '2', '3', '4'], dtype=object)"
      ]
     },
     "execution_count": 455,
     "metadata": {},
     "output_type": "execute_result"
    }
   ],
   "source": [
    "df_doct['NIVELSAT1'].sort_values().unique() # Blank as ' '"
   ]
  },
  {
   "cell_type": "code",
   "execution_count": 456,
   "metadata": {},
   "outputs": [
    {
     "name": "stdout",
     "output_type": "stream",
     "text": [
      "[' ' '1' '2' '3' '4']\n",
      "           NIVELSAT1\n",
      "              unique\n",
      "SITLAB              \n",
      "1       [1, 2, 4, 3]\n",
      "2                [ ]\n",
      "3                [ ]\n",
      "[ 1.  2.  3.  4. nan]\n"
     ]
    }
   ],
   "source": [
    "re_sitlab('NIVELSAT1',blank=' ')"
   ]
  },
  {
   "cell_type": "markdown",
   "metadata": {},
   "source": [
    "#### 'NIVELSAT2'\n",
    "(Solo para respuesta 'Empleado' (1) en variable 'SITLAB')  \n",
    "Nivel de satisfacción con sus beneficios económicos el 31 de diciembre de 2009: 1=Alto, 2=Medio, 3=Bajo, 4=Ninguno."
   ]
  },
  {
   "cell_type": "code",
   "execution_count": 457,
   "metadata": {},
   "outputs": [
    {
     "name": "stdout",
     "output_type": "stream",
     "text": [
      "[' ' '1' '2' '3' '4']\n",
      "           NIVELSAT2\n",
      "              unique\n",
      "SITLAB              \n",
      "1       [1, 2, 3, 4]\n",
      "2                [ ]\n",
      "3                [ ]\n",
      "[ 1.  2.  3.  4. nan]\n"
     ]
    }
   ],
   "source": [
    "re_sitlab('NIVELSAT2',blank=' ')"
   ]
  },
  {
   "cell_type": "markdown",
   "metadata": {},
   "source": [
    "#### 'NIVELSAT3'\n",
    "(Solo para respuesta 'Empleado' (1) en variable 'SITLAB')  \n",
    "Nivel de satisfacción con su estabilidad laboral el 31 de diciembre de 2009: 1=Alto, 2=Medio, 3=Bajo, 4=Ninguno."
   ]
  },
  {
   "cell_type": "code",
   "execution_count": 459,
   "metadata": {},
   "outputs": [
    {
     "name": "stdout",
     "output_type": "stream",
     "text": [
      "[' ' '1' '2' '3' '4']\n",
      "           NIVELSAT3\n",
      "              unique\n",
      "SITLAB              \n",
      "1       [1, 2, 3, 4]\n",
      "2                [ ]\n",
      "3                [ ]\n",
      "[ 1.  2.  3.  4. nan]\n"
     ]
    }
   ],
   "source": [
    "re_sitlab('NIVELSAT3',blank=' ')"
   ]
  },
  {
   "cell_type": "markdown",
   "metadata": {},
   "source": [
    "#### 'NIVELSAT4'\n",
    "(Solo para respuesta 'Empleado' (1) en variable 'SITLAB')  \n",
    "Nivel de satisfacción con su localización laboral el 31 de diciembre de 2009: 1=Alto, 2=Medio, 3=Bajo, 4=Ninguno."
   ]
  },
  {
   "cell_type": "code",
   "execution_count": 460,
   "metadata": {},
   "outputs": [
    {
     "name": "stdout",
     "output_type": "stream",
     "text": [
      "[' ' '1' '2' '3' '4']\n",
      "           NIVELSAT4\n",
      "              unique\n",
      "SITLAB              \n",
      "1       [1, 2, 3, 4]\n",
      "2                [ ]\n",
      "3                [ ]\n",
      "[ 1.  2.  3.  4. nan]\n"
     ]
    }
   ],
   "source": [
    "re_sitlab('NIVELSAT4',blank=' ')"
   ]
  },
  {
   "cell_type": "markdown",
   "metadata": {},
   "source": [
    "#### 'NIVELSAT5'\n",
    "(Solo para respuesta 'Empleado' (1) en variable 'SITLAB')  \n",
    "Nivel de satisfacción con sus condiciones laborales el 31 de diciembre de 2009: 1=Alto, 2=Medio, 3=Bajo, 4=Ninguno."
   ]
  },
  {
   "cell_type": "code",
   "execution_count": 461,
   "metadata": {},
   "outputs": [
    {
     "name": "stdout",
     "output_type": "stream",
     "text": [
      "[' ' '1' '2' '3' '4']\n",
      "           NIVELSAT5\n",
      "              unique\n",
      "SITLAB              \n",
      "1       [1, 2, 4, 3]\n",
      "2                [ ]\n",
      "3                [ ]\n",
      "[ 1.  2.  3.  4. nan]\n"
     ]
    }
   ],
   "source": [
    "re_sitlab('NIVELSAT5',blank=' ')"
   ]
  },
  {
   "cell_type": "markdown",
   "metadata": {},
   "source": [
    "#### 'NIVELSAT6'\n",
    "(Solo para respuesta 'Empleado' (1) en variable 'SITLAB')  \n",
    "Nivel de satisfacción con sus oportunidades para promocionar el 31 de diciembre de 2009: 1=Alto, 2=Medio, 3=Bajo, 4=Ninguno."
   ]
  },
  {
   "cell_type": "code",
   "execution_count": 462,
   "metadata": {},
   "outputs": [
    {
     "name": "stdout",
     "output_type": "stream",
     "text": [
      "[' ' '1' '2' '3' '4']\n",
      "           NIVELSAT6\n",
      "              unique\n",
      "SITLAB              \n",
      "1       [4, 2, 1, 3]\n",
      "2                [ ]\n",
      "3                [ ]\n",
      "[ 1.  2.  3.  4. nan]\n"
     ]
    }
   ],
   "source": [
    "re_sitlab('NIVELSAT6',blank=' ')"
   ]
  },
  {
   "cell_type": "markdown",
   "metadata": {},
   "source": [
    "#### 'NIVELSAT7'\n",
    "(Solo para respuesta 'Empleado' (1) en variable 'SITLAB')  \n",
    "Nivel de satisfacción con el componente o reto intelectual el 31 de diciembre de 2009: 1=Alto, 2=Medio, 3=Bajo, 4=Ninguno."
   ]
  },
  {
   "cell_type": "code",
   "execution_count": 463,
   "metadata": {},
   "outputs": [
    {
     "name": "stdout",
     "output_type": "stream",
     "text": [
      "[' ' '1' '2' '3' '4']\n",
      "           NIVELSAT7\n",
      "              unique\n",
      "SITLAB              \n",
      "1       [3, 1, 2, 4]\n",
      "2                [ ]\n",
      "3                [ ]\n",
      "[ 1.  2.  3.  4. nan]\n"
     ]
    }
   ],
   "source": [
    "re_sitlab('NIVELSAT7',blank=' ')"
   ]
  },
  {
   "cell_type": "markdown",
   "metadata": {},
   "source": [
    "#### 'NIVELSAT8'\n",
    "(Solo para respuesta 'Empleado' (1) en variable 'SITLAB')  \n",
    "Nivel de satisfacción con su nivel de responsabilidad el 31 de diciembre de 2009: 1=Alto, 2=Medio, 3=Bajo, 4=Ninguno."
   ]
  },
  {
   "cell_type": "code",
   "execution_count": 464,
   "metadata": {},
   "outputs": [
    {
     "name": "stdout",
     "output_type": "stream",
     "text": [
      "[' ' '1' '2' '3' '4']\n",
      "           NIVELSAT8\n",
      "              unique\n",
      "SITLAB              \n",
      "1       [2, 1, 3, 4]\n",
      "2                [ ]\n",
      "3                [ ]\n",
      "[ 1.  2.  3.  4. nan]\n"
     ]
    }
   ],
   "source": [
    "re_sitlab('NIVELSAT8',blank=' ')"
   ]
  },
  {
   "cell_type": "markdown",
   "metadata": {},
   "source": [
    "#### 'NIVELSAT9'\n",
    "(Solo para respuesta 'Empleado' (1) en variable 'SITLAB')  \n",
    "Nivel de satisfacción con su grado de independencia el 31 de diciembre de 2009: 1=Alto, 2=Medio, 3=Bajo, 4=Ninguno."
   ]
  },
  {
   "cell_type": "code",
   "execution_count": 465,
   "metadata": {},
   "outputs": [
    {
     "name": "stdout",
     "output_type": "stream",
     "text": [
      "[' ' '1' '2' '3' '4']\n",
      "           NIVELSAT9\n",
      "              unique\n",
      "SITLAB              \n",
      "1       [1, 2, 3, 4]\n",
      "2                [ ]\n",
      "3                [ ]\n",
      "[ 1.  2.  3.  4. nan]\n"
     ]
    }
   ],
   "source": [
    "re_sitlab('NIVELSAT9',blank=' ')"
   ]
  },
  {
   "cell_type": "markdown",
   "metadata": {},
   "source": [
    "#### 'NIVELSAT10'\n",
    "(Solo para respuesta 'Empleado' (1) en variable 'SITLAB')  \n",
    "Nivel de satisfacción con su contribución a la sociedad el 31 de diciembre de 2009: 1=Alto, 2=Medio, 3=Bajo, 4=Ninguno."
   ]
  },
  {
   "cell_type": "code",
   "execution_count": 467,
   "metadata": {},
   "outputs": [
    {
     "name": "stdout",
     "output_type": "stream",
     "text": [
      "[' ' '1' '2' '3' '4']\n",
      "          NIVELSAT10\n",
      "              unique\n",
      "SITLAB              \n",
      "1       [1, 2, 3, 4]\n",
      "2                [ ]\n",
      "3                [ ]\n",
      "[ 1.  2.  3.  4. nan]\n"
     ]
    }
   ],
   "source": [
    "re_sitlab('NIVELSAT10',blank=' ')"
   ]
  },
  {
   "cell_type": "markdown",
   "metadata": {},
   "source": [
    "#### 'NIVELSAT11'\n",
    "(Solo para respuesta 'Empleado' (1) en variable 'SITLAB')  \n",
    "Nivel de satisfacción con su estatus social el 31 de diciembre de 2009: 1=Alto, 2=Medio, 3=Bajo, 4=Ninguno."
   ]
  },
  {
   "cell_type": "code",
   "execution_count": 468,
   "metadata": {},
   "outputs": [
    {
     "name": "stdout",
     "output_type": "stream",
     "text": [
      "[' ' '1' '2' '3' '4']\n",
      "          NIVELSAT11\n",
      "              unique\n",
      "SITLAB              \n",
      "1       [1, 2, 3, 4]\n",
      "2                [ ]\n",
      "3                [ ]\n",
      "[ 1.  2.  3.  4. nan]\n"
     ]
    }
   ],
   "source": [
    "re_sitlab('NIVELSAT11',blank=' ')"
   ]
  },
  {
   "cell_type": "markdown",
   "metadata": {},
   "source": [
    "#### 'NIVELSAT12'\n",
    "(Solo para respuesta 'Empleado' (1) en variable 'SITLAB')  \n",
    "Nivel de satisfacción con sus conciliación horario laboral/actividades personales el 31 de diciembre de 2009: 1=Alto, 2=Medio, 3=Bajo, 4=Ninguno."
   ]
  },
  {
   "cell_type": "code",
   "execution_count": 469,
   "metadata": {},
   "outputs": [
    {
     "name": "stdout",
     "output_type": "stream",
     "text": [
      "[' ' '1' '2' '3' '4']\n",
      "          NIVELSAT12\n",
      "              unique\n",
      "SITLAB              \n",
      "1       [1, 2, 4, 3]\n",
      "2                [ ]\n",
      "3                [ ]\n",
      "[ 1.  2.  3.  4. nan]\n"
     ]
    }
   ],
   "source": [
    "re_sitlab('NIVELSAT12',blank=' ')"
   ]
  },
  {
   "cell_type": "markdown",
   "metadata": {},
   "source": [
    "#### 'NIVELSAT13'\n",
    "(Solo para respuesta 'Empleado' (1) en variable 'SITLAB')  \n",
    "Evaluación global de satisfacción el 31 de diciembre de 2009: 1=Alta, 2=Media, 3=Baja, 4=Ninguna."
   ]
  },
  {
   "cell_type": "code",
   "execution_count": 470,
   "metadata": {},
   "outputs": [
    {
     "name": "stdout",
     "output_type": "stream",
     "text": [
      "[' ' '1' '2' '3' '4']\n",
      "          NIVELSAT13\n",
      "              unique\n",
      "SITLAB              \n",
      "1       [1, 2, 4, 3]\n",
      "2                [ ]\n",
      "3                [ ]\n",
      "[ 1.  2.  3.  4. nan]\n"
     ]
    }
   ],
   "source": [
    "re_sitlab('NIVELSAT13',blank=' ')"
   ]
  },
  {
   "cell_type": "markdown",
   "metadata": {},
   "source": [
    "#### 'ACTIANT'\n",
    "(Solo para respuesta 'Empleado' (1) en variable 'SITLAB')  \n",
    "En los últimos 5 años, ¿ha desempeñado alguna actividad laboral distinta de la que desarrollaba a 31 de diciembre\n",
    "de 2009? 0=No, 1=Sí."
   ]
  },
  {
   "cell_type": "code",
   "execution_count": 481,
   "metadata": {},
   "outputs": [
    {
     "data": {
      "text/plain": [
       "array([' ', '0', '1'], dtype=object)"
      ]
     },
     "execution_count": 481,
     "metadata": {},
     "output_type": "execute_result"
    }
   ],
   "source": [
    "df_doct['ACTIANT']=df_raw['ACTIANT']\n",
    "df_doct['ACTIANT'].sort_values().unique() # Blank as ' '"
   ]
  },
  {
   "cell_type": "code",
   "execution_count": 482,
   "metadata": {},
   "outputs": [
    {
     "name": "stdout",
     "output_type": "stream",
     "text": [
      "[' ' '0' '1']\n",
      "       ACTIANT\n",
      "        unique\n",
      "SITLAB        \n",
      "1       [0, 1]\n",
      "2          [ ]\n",
      "3          [ ]\n",
      "[ 0.  1. nan]\n"
     ]
    }
   ],
   "source": [
    "re_sitlab('ACTIANT',blank=' ')"
   ]
  },
  {
   "cell_type": "markdown",
   "metadata": {},
   "source": [
    "#### 'SECTORANT'\n",
    "(Solo para respuesta 'Empleado' (1) en variable 'SITLAB' y respuesta 'Sí' (1) en la variable 'ACTIANT')  \n",
    "Sector al que pertenece la organización en la que trabajaba (Códigos: véase la variable 'SECTOR')"
   ]
  },
  {
   "cell_type": "code",
   "execution_count": 486,
   "metadata": {},
   "outputs": [
    {
     "data": {
      "text/plain": [
       "array([' ', '1', '2', '3', '4'], dtype=object)"
      ]
     },
     "execution_count": 486,
     "metadata": {},
     "output_type": "execute_result"
    }
   ],
   "source": [
    "df_doct['SECTORANT'].sort_values().unique() # Blank as ' '"
   ]
  },
  {
   "cell_type": "code",
   "execution_count": 487,
   "metadata": {},
   "outputs": [],
   "source": [
    "def re_actiant(col,blank,value=None,tipus='float'):\n",
    "    print (df_doct[col].sort_values().unique())\n",
    "    print (df_doct[['SITLAB','ACTIANT',col]].groupby(['SITLAB','ACTIANT']).agg(['unique']))\n",
    "    df_doct[col].replace({blank:value},inplace=True) \n",
    "    df_doct[col]=df_doct[col].astype(tipus)\n",
    "    print (df_doct[col].sort_values().unique())\n",
    "    return "
   ]
  },
  {
   "cell_type": "code",
   "execution_count": 488,
   "metadata": {},
   "outputs": [
    {
     "name": "stdout",
     "output_type": "stream",
     "text": [
      "[' ' '1' '2' '3' '4']\n",
      "                   SECTORANT\n",
      "                      unique\n",
      "SITLAB ACTIANT              \n",
      "1      0.0               [ ]\n",
      "       1.0      [2, 1, 3, 4]\n",
      "[ 1.  2.  3.  4. nan]\n"
     ]
    }
   ],
   "source": [
    "re_actiant('SECTORANT',blank=' ')"
   ]
  },
  {
   "cell_type": "markdown",
   "metadata": {},
   "source": [
    "#### 'ACTIPRIANT'\n",
    "(Solo para respuesta 'Empleado' (1) en variable 'SITLAB' y respuesta 'Sí' (1) en la variable 'ACTIANT')  \n",
    "Actividad laboral que desarrollaba en su ocupación anterior de acuerdo con la Clasificación internacional uniforme de ocupaciones (ISCO-08) (Códigos: véase la variable 'CODALP')."
   ]
  },
  {
   "cell_type": "code",
   "execution_count": 493,
   "metadata": {},
   "outputs": [
    {
     "data": {
      "text/plain": [
       "array(['100', '211', '212', '213', '214', '215', '216', '221', '223',\n",
       "       '224', '225', '226', '231', '232', '233', '235', '241', '242',\n",
       "       '243', '251', '252', '261', '262', '263', '264', '265', '311',\n",
       "       '313', '314', '400', '500', '700', '800', '900', 'NNN'],\n",
       "      dtype=object)"
      ]
     },
     "execution_count": 493,
     "metadata": {},
     "output_type": "execute_result"
    }
   ],
   "source": [
    "df_doct['ACTIPRIANT'].sort_values().unique() # Blank as 'NNN'"
   ]
  },
  {
   "cell_type": "code",
   "execution_count": 494,
   "metadata": {},
   "outputs": [
    {
     "name": "stdout",
     "output_type": "stream",
     "text": [
      "['100' '211' '212' '213' '214' '215' '216' '221' '223' '224' '225' '226'\n",
      " '231' '232' '233' '235' '241' '242' '243' '251' '252' '261' '262' '263'\n",
      " '264' '265' '311' '313' '314' '400' '500' '700' '800' '900' 'NNN']\n",
      "                                                                                                                                                                                ACTIPRIANT\n",
      "                                                                                                                                                                                    unique\n",
      "SITLAB ACTIANT                                                                                                                                                                            \n",
      "1      0.0                                                                                                                                                                           [NNN]\n",
      "       1.0      [226, 214, 211, 231, 241, 233, 213, 400, 221, 261, 262, 215, 100, 235, 251, 314, 264, 242, 311, 243, 225, 232, 212, 500, 265, 900, 313, 263, 223, 252, 216, 224, 800, 700]\n",
      "[100. 211. 212. 213. 214. 215. 216. 221. 223. 224. 225. 226. 231. 232.\n",
      " 233. 235. 241. 242. 243. 251. 252. 261. 262. 263. 264. 265. 311. 313.\n",
      " 314. 400. 500. 700. 800. 900.  nan]\n"
     ]
    }
   ],
   "source": [
    "re_actiant('ACTIPRIANT',blank='NNN')"
   ]
  },
  {
   "cell_type": "markdown",
   "metadata": {},
   "source": [
    "#### 'ACTIANTANO'\n",
    "(Solo para respuesta 'Empleado' (1) en variable 'SITLAB' y respuesta 'Sí' (1) en la variable 'ACTIANT')  \n",
    "Duración de su ocupación anterior: años completos."
   ]
  },
  {
   "cell_type": "code",
   "execution_count": 495,
   "metadata": {},
   "outputs": [
    {
     "data": {
      "text/plain": [
       "array([' .', ' 0', ' 1', ' 2', ' 3', ' 4', ' 5', ' 6', ' 7', ' 8', ' 9',\n",
       "       '10', '11', '12', '13', '14', '15', '16', '17', '18', '19', '20',\n",
       "       '21', '22', '23', '24', '25', '26', '27', '28', '30', '31', '33',\n",
       "       '34', '39'], dtype=object)"
      ]
     },
     "execution_count": 495,
     "metadata": {},
     "output_type": "execute_result"
    }
   ],
   "source": [
    "df_doct['ACTIANTANO'].sort_values().unique() # Blank as ' .'"
   ]
  },
  {
   "cell_type": "code",
   "execution_count": 496,
   "metadata": {},
   "outputs": [
    {
     "name": "stdout",
     "output_type": "stream",
     "text": [
      "[' .' ' 0' ' 1' ' 2' ' 3' ' 4' ' 5' ' 6' ' 7' ' 8' ' 9' '10' '11' '12'\n",
      " '13' '14' '15' '16' '17' '18' '19' '20' '21' '22' '23' '24' '25' '26'\n",
      " '27' '28' '30' '31' '33' '34' '39']\n",
      "                                                                                                                                              ACTIANTANO\n",
      "                                                                                                                                                  unique\n",
      "SITLAB ACTIANT                                                                                                                                          \n",
      "1      0.0                                                                                                                                          [ .]\n",
      "       1.0      [ 3,  2, 14,  4,  1, 19,  6, 20,  5, 15,  0,  7, 11, 12,  9, 18, 10,  8, 34, 16, 27, 39, 17, 24, 25, 30, 13, 28, 23, 21, 22, 33, 31, 26]\n",
      "[ 0.  1.  2.  3.  4.  5.  6.  7.  8.  9. 10. 11. 12. 13. 14. 15. 16. 17.\n",
      " 18. 19. 20. 21. 22. 23. 24. 25. 26. 27. 28. 30. 31. 33. 34. 39. nan]\n"
     ]
    }
   ],
   "source": [
    "re_actiant('ACTIANTANO',blank=' .')"
   ]
  },
  {
   "cell_type": "markdown",
   "metadata": {},
   "source": [
    "#### 'ACTIANTMES'\n",
    "(Solo para respuesta 'Empleado' (1) en variable 'SITLAB' y respuesta 'Sí' (1) en la variable 'ACTIANT')  \n",
    "Duración de su ocupación anterior: meses que exceden los años declarados en 'ACTIANTANO'."
   ]
  },
  {
   "cell_type": "code",
   "execution_count": 497,
   "metadata": {},
   "outputs": [
    {
     "data": {
      "text/plain": [
       "array([' .', ' 0', ' 1', ' 2', ' 3', ' 4', ' 5', ' 6', ' 7', ' 8', ' 9',\n",
       "       '10', '11', '12'], dtype=object)"
      ]
     },
     "execution_count": 497,
     "metadata": {},
     "output_type": "execute_result"
    }
   ],
   "source": [
    "df_doct['ACTIANTMES'].sort_values().unique() # Blank as ' .'"
   ]
  },
  {
   "cell_type": "code",
   "execution_count": 498,
   "metadata": {},
   "outputs": [
    {
     "name": "stdout",
     "output_type": "stream",
     "text": [
      "[' .' ' 0' ' 1' ' 2' ' 3' ' 4' ' 5' ' 6' ' 7' ' 8' ' 9' '10' '11' '12']\n",
      "                                                          ACTIANTMES\n",
      "                                                              unique\n",
      "SITLAB ACTIANT                                                      \n",
      "1      0.0                                                      [ .]\n",
      "       1.0      [ 2,  0,  9,  6,  4,  7,  1,  3, 10, 12, 11,  5,  8]\n",
      "[ 0.  1.  2.  3.  4.  5.  6.  7.  8.  9. 10. 11. 12. nan]\n"
     ]
    }
   ],
   "source": [
    "re_actiant('ACTIANTMES',blank=' .')"
   ]
  },
  {
   "cell_type": "code",
   "execution_count": null,
   "metadata": {},
   "outputs": [],
   "source": [
    "# New variable (not in original dataset):\n",
    "df_doct['Temp_act_ant']=df_doct['ACTIANTANO']+df_doct['ACTIANTMES']/12\n",
    "df_doct['Temp_act_ant'].sort_values().unique() # VALORES NULOS. ¿DESCARTAR?"
   ]
  },
  {
   "cell_type": "markdown",
   "metadata": {},
   "source": [
    "#### 'TRABPOS'\n",
    "(Solo para respuesta 'Empleado' (1) en variable 'SITLAB')  \n",
    "¿Era un puesto postdoctoral su principal empleo el 31 de diciembre de 2009? 0=No, 1=Sí. "
   ]
  },
  {
   "cell_type": "code",
   "execution_count": 499,
   "metadata": {},
   "outputs": [
    {
     "data": {
      "text/plain": [
       "array([' ', '0', '1'], dtype=object)"
      ]
     },
     "execution_count": 499,
     "metadata": {},
     "output_type": "execute_result"
    }
   ],
   "source": [
    "df_doct['TRABPOS'].sort_values().unique() # Blank as ' '"
   ]
  },
  {
   "cell_type": "code",
   "execution_count": 501,
   "metadata": {},
   "outputs": [
    {
     "name": "stdout",
     "output_type": "stream",
     "text": [
      "[' ' '0' '1']\n",
      "       TRABPOS\n",
      "        unique\n",
      "SITLAB        \n",
      "1       [0, 1]\n",
      "2          [ ]\n",
      "3          [ ]\n",
      "[ 0.  1. nan]\n"
     ]
    }
   ],
   "source": [
    "re_sitlab('TRABPOS',blank=' ')"
   ]
  },
  {
   "cell_type": "markdown",
   "metadata": {},
   "source": [
    "#### 'MOTIVOPOS1'\n",
    "(Solo para respuesta 'Empleado' (1) en variable 'SITLAB' y 'Sí' (1) en la variable 'TRABPOS')  \n",
    "¿Era realizar prácticas en su campo de estudio una de las razones para realizar ese trabajo de postdoctorado? 0=No, 1=Sí. "
   ]
  },
  {
   "cell_type": "code",
   "execution_count": 508,
   "metadata": {},
   "outputs": [
    {
     "data": {
      "text/plain": [
       "array([' ', '0', '1'], dtype=object)"
      ]
     },
     "execution_count": 508,
     "metadata": {},
     "output_type": "execute_result"
    }
   ],
   "source": [
    "df_doct['MOTIVOPOS1'].sort_values().unique() # Blank as ' '"
   ]
  },
  {
   "cell_type": "code",
   "execution_count": 518,
   "metadata": {},
   "outputs": [],
   "source": [
    "def re_trabpos(col,blank=' ',value=None,tipus='float'):\n",
    "    print (df_doct[col].sort_values().unique())\n",
    "    print (df_doct[['SITLAB','TRABPOS',col]].groupby(['SITLAB','TRABPOS']).agg(['unique']))\n",
    "    df_doct[col].replace({blank:value},inplace=True) \n",
    "    df_doct[col]=df_doct[col].astype(tipus)\n",
    "    print (df_doct[col].sort_values().unique())\n",
    "    return "
   ]
  },
  {
   "cell_type": "code",
   "execution_count": 509,
   "metadata": {},
   "outputs": [
    {
     "name": "stdout",
     "output_type": "stream",
     "text": [
      "[' ' '0' '1']\n",
      "               MOTIVOPOS1\n",
      "                   unique\n",
      "SITLAB TRABPOS           \n",
      "1      0.0            [ ]\n",
      "       1.0         [1, 0]\n",
      "[ 0.  1. nan]\n"
     ]
    }
   ],
   "source": [
    "re_trabpos('MOTIVOPOS1')"
   ]
  },
  {
   "cell_type": "markdown",
   "metadata": {},
   "source": [
    "#### 'MOTIVOPOS2'\n",
    "(Solo para respuesta 'Empleado' (1) en variable 'SITLAB' y 'Sí' (1) en la variable 'TRABPOS')  \n",
    "¿Era realizar prácticas en un campo diferente al suyo una de las razones para realizar ese trabajo de postdoctorado? 0=No, 1=Sí. "
   ]
  },
  {
   "cell_type": "code",
   "execution_count": 511,
   "metadata": {},
   "outputs": [
    {
     "name": "stdout",
     "output_type": "stream",
     "text": [
      "[' ' '0' '1']\n",
      "               MOTIVOPOS2\n",
      "                   unique\n",
      "SITLAB TRABPOS           \n",
      "1      0.0            [ ]\n",
      "       1.0         [1, 0]\n",
      "[ 0.  1. nan]\n"
     ]
    }
   ],
   "source": [
    "re_trabpos('MOTIVOPOS2')"
   ]
  },
  {
   "cell_type": "markdown",
   "metadata": {},
   "source": [
    "#### 'MOTIVOPOS3'\n",
    "(Solo para respuesta 'Empleado' (1) en variable 'SITLAB' y 'Sí' (1) en la variable 'TRABPOS')  \n",
    "¿Era realizar investigación de forma independiente una de las razones para realizar ese trabajo de postdoctorado? 0=No, 1=Sí. "
   ]
  },
  {
   "cell_type": "code",
   "execution_count": 512,
   "metadata": {},
   "outputs": [
    {
     "name": "stdout",
     "output_type": "stream",
     "text": [
      "[' ' '0' '1']\n",
      "               MOTIVOPOS3\n",
      "                   unique\n",
      "SITLAB TRABPOS           \n",
      "1      0.0            [ ]\n",
      "       1.0         [1, 0]\n",
      "[ 0.  1. nan]\n"
     ]
    }
   ],
   "source": [
    "re_trabpos('MOTIVOPOS3')"
   ]
  },
  {
   "cell_type": "markdown",
   "metadata": {},
   "source": [
    "#### 'MOTIVOPOS4'\n",
    "(Solo para respuesta 'Empleado' (1) en variable 'SITLAB' y 'Sí' (1) en la variable 'TRABPOS')  \n",
    "¿Era **trabajar con una persona específica o en un lugar concreto** una de las razones para realizar ese trabajo de postdoctorado? 0=No, 1=Sí. "
   ]
  },
  {
   "cell_type": "code",
   "execution_count": 513,
   "metadata": {},
   "outputs": [
    {
     "name": "stdout",
     "output_type": "stream",
     "text": [
      "[' ' '0' '1']\n",
      "               MOTIVOPOS4\n",
      "                   unique\n",
      "SITLAB TRABPOS           \n",
      "1      0.0            [ ]\n",
      "       1.0         [0, 1]\n",
      "[ 0.  1. nan]\n"
     ]
    }
   ],
   "source": [
    "re_trabpos('MOTIVOPOS4')"
   ]
  },
  {
   "cell_type": "markdown",
   "metadata": {},
   "source": [
    "#### 'MOTIVOPOS5'\n",
    "(Solo para respuesta 'Empleado' (1) en variable 'SITLAB' y 'Sí' (1) en la variable 'TRABPOS')  \n",
    "¿Era **llevar a cabo actividades docentes** una de las razones para realizar ese trabajo de postdoctorado? 0=No, 1=Sí. "
   ]
  },
  {
   "cell_type": "code",
   "execution_count": 514,
   "metadata": {},
   "outputs": [
    {
     "name": "stdout",
     "output_type": "stream",
     "text": [
      "[' ' '0' '1']\n",
      "               MOTIVOPOS5\n",
      "                   unique\n",
      "SITLAB TRABPOS           \n",
      "1      0.0            [ ]\n",
      "       1.0         [0, 1]\n",
      "[ 0.  1. nan]\n"
     ]
    }
   ],
   "source": [
    "re_trabpos('MOTIVOPOS5')"
   ]
  },
  {
   "cell_type": "markdown",
   "metadata": {},
   "source": [
    "#### 'MOTIVOPOS6'\n",
    "(Solo para respuesta 'Empleado' (1) en variable 'SITLAB' y 'Sí' (1) en la variable 'TRABPOS')  \n",
    "¿Era **no haber podido elegir otro empleo** una de las razones para realizar ese trabajo de postdoctorado? 0=No, 1=Sí. "
   ]
  },
  {
   "cell_type": "code",
   "execution_count": 515,
   "metadata": {},
   "outputs": [
    {
     "name": "stdout",
     "output_type": "stream",
     "text": [
      "[' ' '0' '1']\n",
      "               MOTIVOPOS6\n",
      "                   unique\n",
      "SITLAB TRABPOS           \n",
      "1      0.0            [ ]\n",
      "       1.0         [0, 1]\n",
      "[ 0.  1. nan]\n"
     ]
    }
   ],
   "source": [
    "re_trabpos('MOTIVOPOS6')"
   ]
  },
  {
   "cell_type": "markdown",
   "metadata": {},
   "source": [
    "#### 'MOTIVOPOS7'\n",
    "(Solo para respuesta 'Empleado' (1) en variable 'SITLAB' y 'Sí' (1) en la variable 'TRABPOS')  \n",
    "¿Era **que es el trabajo que se suele realizar en su campo de estudio** una de las razones para realizar ese trabajo de postdoctorado? 0=No, 1=Sí. "
   ]
  },
  {
   "cell_type": "code",
   "execution_count": 516,
   "metadata": {},
   "outputs": [
    {
     "name": "stdout",
     "output_type": "stream",
     "text": [
      "[' ' '0' '1']\n",
      "               MOTIVOPOS7\n",
      "                   unique\n",
      "SITLAB TRABPOS           \n",
      "1      0.0            [ ]\n",
      "       1.0         [1, 0]\n",
      "[ 0.  1. nan]\n"
     ]
    }
   ],
   "source": [
    "re_trabpos('MOTIVOPOS7')"
   ]
  },
  {
   "cell_type": "markdown",
   "metadata": {},
   "source": [
    "#### 'MOTIVOPOS8'\n",
    "(Solo para respuesta 'Empleado' (1) en variable 'SITLAB' y 'Sí' (1) en la variable 'TRABPOS')  \n",
    "¿Eran **otras razones** las que le llevaron a realizar ese trabajo de postdoctorado? 0=No, 1=Sí. "
   ]
  },
  {
   "cell_type": "code",
   "execution_count": 517,
   "metadata": {},
   "outputs": [
    {
     "name": "stdout",
     "output_type": "stream",
     "text": [
      "[' ' '0' '1']\n",
      "               MOTIVOPOS8\n",
      "                   unique\n",
      "SITLAB TRABPOS           \n",
      "1      0.0            [ ]\n",
      "       1.0         [0, 1]\n",
      "[ 0.  1. nan]\n"
     ]
    }
   ],
   "source": [
    "re_trabpos('MOTIVOPOS8')"
   ]
  },
  {
   "cell_type": "markdown",
   "metadata": {},
   "source": [
    "#### 'PORCINVES'\n",
    "(Solo para respuesta 'Empleado' (1) en variable 'SITLAB' y 'Sí' (1) en la variable 'TRABPOS')  \n",
    "Porcentaje de su tiempo como postdoctorado empleado en **actividades de investigación**."
   ]
  },
  {
   "cell_type": "code",
   "execution_count": 524,
   "metadata": {
    "scrolled": true
   },
   "outputs": [
    {
     "data": {
      "text/plain": [
       "array(['  .', '  0', '  5', ' 10', ' 15', ' 20', ' 25', ' 30', ' 34',\n",
       "       ' 35', ' 40', ' 45', ' 49', ' 50', ' 55', ' 60', ' 65', ' 70',\n",
       "       ' 75', ' 80', ' 85', ' 90', ' 95', ' 98', ' 99', '100'],\n",
       "      dtype=object)"
      ]
     },
     "execution_count": 524,
     "metadata": {},
     "output_type": "execute_result"
    }
   ],
   "source": [
    "df_doct['PORCINVES'].sort_values().unique() # Blank as '  .'"
   ]
  },
  {
   "cell_type": "code",
   "execution_count": 525,
   "metadata": {},
   "outputs": [
    {
     "name": "stdout",
     "output_type": "stream",
     "text": [
      "['  .' '  0' '  5' ' 10' ' 15' ' 20' ' 25' ' 30' ' 34' ' 35' ' 40' ' 45'\n",
      " ' 49' ' 50' ' 55' ' 60' ' 65' ' 70' ' 75' ' 80' ' 85' ' 90' ' 95' ' 98'\n",
      " ' 99' '100']\n",
      "                                                                                                                                    PORCINVES\n",
      "                                                                                                                                       unique\n",
      "SITLAB TRABPOS                                                                                                                               \n",
      "1      0.0                                                                                                                              [  .]\n",
      "       1.0      [100,  95,  50,  40,  25,  98,  75,  80,  90,  60,  20,  30,  45,  85,  70,   0,  10,   5,  35,  34,  15,  99,  55,  49,  65]\n",
      "[  0.   5.  10.  15.  20.  25.  30.  34.  35.  40.  45.  49.  50.  55.\n",
      "  60.  65.  70.  75.  80.  85.  90.  95.  98.  99. 100.  nan]\n"
     ]
    }
   ],
   "source": [
    "re_trabpos('PORCINVES',blank='  .')"
   ]
  },
  {
   "cell_type": "markdown",
   "metadata": {},
   "source": [
    "#### 'PORCDOC'\n",
    "(Solo para respuesta 'Empleado' (1) en variable 'SITLAB' y 'Sí' (1) en la variable 'TRABPOS')  \n",
    "Porcentaje de su tiempo como postdoctorado empleado en **actividades de docencia**."
   ]
  },
  {
   "cell_type": "code",
   "execution_count": 526,
   "metadata": {},
   "outputs": [
    {
     "data": {
      "text/plain": [
       "array(['  .', '  0', '  1', '  2', '  5', '  8', ' 10', ' 15', ' 20',\n",
       "       ' 25', ' 30', ' 33', ' 35', ' 40', ' 45', ' 49', ' 50', ' 55',\n",
       "       ' 60', ' 65', ' 70', ' 75', ' 80', ' 85', ' 90', '100'],\n",
       "      dtype=object)"
      ]
     },
     "execution_count": 526,
     "metadata": {},
     "output_type": "execute_result"
    }
   ],
   "source": [
    "df_doct['PORCDOC'].sort_values().unique() # Blank as '  .'"
   ]
  },
  {
   "cell_type": "code",
   "execution_count": 527,
   "metadata": {},
   "outputs": [
    {
     "name": "stdout",
     "output_type": "stream",
     "text": [
      "['  .' '  0' '  1' '  2' '  5' '  8' ' 10' ' 15' ' 20' ' 25' ' 30' ' 33'\n",
      " ' 35' ' 40' ' 45' ' 49' ' 50' ' 55' ' 60' ' 65' ' 70' ' 75' ' 80' ' 85'\n",
      " ' 90' '100']\n",
      "                                                                                                                                      PORCDOC\n",
      "                                                                                                                                       unique\n",
      "SITLAB TRABPOS                                                                                                                               \n",
      "1      0.0                                                                                                                              [  .]\n",
      "       1.0      [  0,   5,  50,  60,  75,   2,  25,  20,  10,  30,  80,  70,  55,  15,  40, 100,  33,   1,  35,  45,  85,  90,  49,  65,   8]\n",
      "[  0.   1.   2.   5.   8.  10.  15.  20.  25.  30.  33.  35.  40.  45.\n",
      "  49.  50.  55.  60.  65.  70.  75.  80.  85.  90. 100.  nan]\n"
     ]
    }
   ],
   "source": [
    "re_trabpos('PORCDOC',blank='  .')"
   ]
  },
  {
   "cell_type": "markdown",
   "metadata": {},
   "source": [
    "#### 'PORCOTRAS'\n",
    "(Solo para respuesta 'Empleado' (1) en variable 'SITLAB' y 'Sí' (1) en la variable 'TRABPOS')  \n",
    "Porcentaje de su tiempo como postdoctorado empleado en **otras actividades**."
   ]
  },
  {
   "cell_type": "code",
   "execution_count": 528,
   "metadata": {},
   "outputs": [
    {
     "data": {
      "text/plain": [
       "array(['  .', '  0', '  2', '  5', ' 10', ' 15', ' 20', ' 25', ' 30',\n",
       "       ' 33', ' 35', ' 40', ' 50', ' 55', ' 60', ' 65', ' 70', ' 75',\n",
       "       ' 78', ' 80', ' 85', ' 90', '100'], dtype=object)"
      ]
     },
     "execution_count": 528,
     "metadata": {},
     "output_type": "execute_result"
    }
   ],
   "source": [
    "df_doct['PORCOTRAS'].sort_values().unique() # Blank as '  .'"
   ]
  },
  {
   "cell_type": "code",
   "execution_count": 529,
   "metadata": {},
   "outputs": [
    {
     "name": "stdout",
     "output_type": "stream",
     "text": [
      "['  .' '  0' '  2' '  5' ' 10' ' 15' ' 20' ' 25' ' 30' ' 33' ' 35' ' 40'\n",
      " ' 50' ' 55' ' 60' ' 65' ' 70' ' 75' ' 78' ' 80' ' 85' ' 90' '100']\n",
      "                                                                                                                     PORCOTRAS\n",
      "                                                                                                                        unique\n",
      "SITLAB TRABPOS                                                                                                                \n",
      "1      0.0                                                                                                               [  .]\n",
      "       1.0      [  0,  25,  10, 100,   5,  30,  40,  75,  20,  50,  80,  33,  85,  60,  15,  70,  65,  78,  55,   2,  90,  35]\n",
      "[  0.   2.   5.  10.  15.  20.  25.  30.  33.  35.  40.  50.  55.  60.\n",
      "  65.  70.  75.  78.  80.  85.  90. 100.  nan]\n"
     ]
    }
   ],
   "source": [
    "re_trabpos('PORCOTRAS',blank='  .')"
   ]
  },
  {
   "cell_type": "code",
   "execution_count": 530,
   "metadata": {},
   "outputs": [
    {
     "data": {
      "text/plain": [
       "array([100.,  nan])"
      ]
     },
     "execution_count": 530,
     "metadata": {},
     "output_type": "execute_result"
    }
   ],
   "source": [
    "# Variable temporal para comprobacion:\n",
    "df_doct['Temp_porc']=df_doct['PORCINVES']+df_doct['PORCDOC']+df_doct['PORCOTRAS']\n",
    "df_doct['Temp_porc'].sort_values().unique()"
   ]
  },
  {
   "cell_type": "code",
   "execution_count": 531,
   "metadata": {},
   "outputs": [],
   "source": [
    "del df_doct['Temp_porc']"
   ]
  },
  {
   "cell_type": "markdown",
   "metadata": {},
   "source": [
    "#### 'FINANCPOS'\n",
    "(Solo para respuesta 'Empleado' (1) en variable 'SITLAB' y 'Sí' (1) en la variable 'TRABPOS')  \n",
    "Fuente principal de **financiación** de ese postdoctorado: 1=Empresas, 2=AAPP, 3=Centros de enseñanza superior, 4=IPSFL, 5=Fundaciones privadas, 6=OTRAS."
   ]
  },
  {
   "cell_type": "code",
   "execution_count": 534,
   "metadata": {},
   "outputs": [
    {
     "data": {
      "text/plain": [
       "array([' ', '1', '2', '3', '4', '5', '6'], dtype=object)"
      ]
     },
     "execution_count": 534,
     "metadata": {},
     "output_type": "execute_result"
    }
   ],
   "source": [
    "df_doct['FINANPOS'].sort_values().unique() # Blank as ' '"
   ]
  },
  {
   "cell_type": "code",
   "execution_count": 535,
   "metadata": {},
   "outputs": [
    {
     "name": "stdout",
     "output_type": "stream",
     "text": [
      "[' ' '1' '2' '3' '4' '5' '6']\n",
      "                          FINANPOS\n",
      "                            unique\n",
      "SITLAB TRABPOS                    \n",
      "1      0.0                     [ ]\n",
      "       1.0      [2, 3, 5, 6, 1, 4]\n",
      "[ 1.  2.  3.  4.  5.  6. nan]\n"
     ]
    }
   ],
   "source": [
    "re_trabpos('FINANPOS')"
   ]
  },
  {
   "cell_type": "markdown",
   "metadata": {},
   "source": [
    "#### 'GESBUSEMP'\n",
    "(Solo para respuestas 'Desmpleado' (2) e 'Inactivo' (3) en variable 'SITLAB')  \n",
    "Durante enero de 2010, ¿hizo alguna gestión para buscar empleo? 0=No, 1=Sí."
   ]
  },
  {
   "cell_type": "code",
   "execution_count": 536,
   "metadata": {},
   "outputs": [
    {
     "data": {
      "text/plain": [
       "array([' ', '0', '1'], dtype=object)"
      ]
     },
     "execution_count": 536,
     "metadata": {},
     "output_type": "execute_result"
    }
   ],
   "source": [
    "df_doct['GESBUSEMP'].sort_values().unique() # Blank as ' '"
   ]
  },
  {
   "cell_type": "code",
   "execution_count": 537,
   "metadata": {},
   "outputs": [
    {
     "name": "stdout",
     "output_type": "stream",
     "text": [
      "[' ' '0' '1']\n",
      "       GESBUSEMP\n",
      "          unique\n",
      "SITLAB          \n",
      "1            [ ]\n",
      "2         [1, 0]\n",
      "3         [0, 1]\n",
      "[ 0.  1. nan]\n"
     ]
    }
   ],
   "source": [
    "re_sitlab('GESBUSEMP',blank=' ')"
   ]
  },
  {
   "cell_type": "markdown",
   "metadata": {},
   "source": [
    "#### 'PASOSEMP1'\n",
    "(Solo para respuestas 'Desmpleado' (2) e 'Inactivo' (3) en variable 'SITLAB' y 'Sí' (1) en la variable 'GESBUSEMP')  \n",
    "¿Se puso en contacto con una **empresa de trabajo temporal**? 1=Sí, blanco."
   ]
  },
  {
   "cell_type": "code",
   "execution_count": 554,
   "metadata": {},
   "outputs": [
    {
     "data": {
      "text/plain": [
       "array([' ', '1'], dtype=object)"
      ]
     },
     "execution_count": 554,
     "metadata": {},
     "output_type": "execute_result"
    }
   ],
   "source": [
    "df_doct['PASOSEMP1'].sort_values().unique() # Blank as ' '"
   ]
  },
  {
   "cell_type": "code",
   "execution_count": 555,
   "metadata": {},
   "outputs": [
    {
     "data": {
      "text/html": [
       "<div>\n",
       "<style scoped>\n",
       "    .dataframe tbody tr th:only-of-type {\n",
       "        vertical-align: middle;\n",
       "    }\n",
       "\n",
       "    .dataframe tbody tr th {\n",
       "        vertical-align: top;\n",
       "    }\n",
       "\n",
       "    .dataframe thead tr th {\n",
       "        text-align: left;\n",
       "    }\n",
       "\n",
       "    .dataframe thead tr:last-of-type th {\n",
       "        text-align: right;\n",
       "    }\n",
       "</style>\n",
       "<table border=\"1\" class=\"dataframe\">\n",
       "  <thead>\n",
       "    <tr>\n",
       "      <th></th>\n",
       "      <th></th>\n",
       "      <th>PASOSEMP1</th>\n",
       "    </tr>\n",
       "    <tr>\n",
       "      <th></th>\n",
       "      <th></th>\n",
       "      <th>unique</th>\n",
       "    </tr>\n",
       "    <tr>\n",
       "      <th>SITLAB</th>\n",
       "      <th>GESBUSEMP</th>\n",
       "      <th></th>\n",
       "    </tr>\n",
       "  </thead>\n",
       "  <tbody>\n",
       "    <tr>\n",
       "      <th rowspan=\"2\" valign=\"top\">2</th>\n",
       "      <th>0.0</th>\n",
       "      <td>[ ]</td>\n",
       "    </tr>\n",
       "    <tr>\n",
       "      <th>1.0</th>\n",
       "      <td>[1,  ]</td>\n",
       "    </tr>\n",
       "    <tr>\n",
       "      <th rowspan=\"2\" valign=\"top\">3</th>\n",
       "      <th>0.0</th>\n",
       "      <td>[ ]</td>\n",
       "    </tr>\n",
       "    <tr>\n",
       "      <th>1.0</th>\n",
       "      <td>[ , 1]</td>\n",
       "    </tr>\n",
       "  </tbody>\n",
       "</table>\n",
       "</div>"
      ],
      "text/plain": [
       "                 PASOSEMP1\n",
       "                    unique\n",
       "SITLAB GESBUSEMP          \n",
       "2      0.0             [ ]\n",
       "       1.0          [1,  ]\n",
       "3      0.0             [ ]\n",
       "       1.0          [ , 1]"
      ]
     },
     "execution_count": 555,
     "metadata": {},
     "output_type": "execute_result"
    }
   ],
   "source": [
    "df_doct[['SITLAB','GESBUSEMP','PASOSEMP1']].groupby(['SITLAB','GESBUSEMP']).agg(['unique']) "
   ]
  },
  {
   "cell_type": "code",
   "execution_count": 556,
   "metadata": {},
   "outputs": [],
   "source": [
    "def pasosemp(col):\n",
    "    print (df_doct[col].sort_values().unique())\n",
    "    print (df_doct[['SITLAB','GESBUSEMP',col]].groupby(['SITLAB','GESBUSEMP']).agg(['unique']))\n",
    "    # Se imputa respuesta 'No' (0) a quien no contesta sí habiendo sido preguntado:\n",
    "    df_doct[col].mask((df_doct['GESBUSEMP']==1)&(df_doct[col]==' '),0,inplace=True) \n",
    "    # Se imputa None cuando no se formula la pregunta:\n",
    "    df_doct[col].where((df_doct[col]==0)|(df_doct[col]=='1'),None,inplace=True)\n",
    "    df_doct[col]=df_doct[col].astype('float')\n",
    "    print (df_doct[['SITLAB','GESBUSEMP',col]].groupby(['SITLAB','GESBUSEMP']).agg(['unique']))\n",
    "    return "
   ]
  },
  {
   "cell_type": "code",
   "execution_count": 557,
   "metadata": {},
   "outputs": [
    {
     "name": "stdout",
     "output_type": "stream",
     "text": [
      "[' ' '1']\n",
      "                 PASOSEMP1\n",
      "                    unique\n",
      "SITLAB GESBUSEMP          \n",
      "2      0.0             [ ]\n",
      "       1.0          [1,  ]\n",
      "3      0.0             [ ]\n",
      "       1.0          [ , 1]\n",
      "                   PASOSEMP1\n",
      "                      unique\n",
      "SITLAB GESBUSEMP            \n",
      "2      0.0             [nan]\n",
      "       1.0        [1.0, 0.0]\n",
      "3      0.0             [nan]\n",
      "       1.0        [0.0, 1.0]\n"
     ]
    }
   ],
   "source": [
    "pasosemp('PASOSEMP1')"
   ]
  },
  {
   "cell_type": "markdown",
   "metadata": {},
   "source": [
    "#### 'PASOSEMP2'\n",
    "(Solo para respuestas 'Desmpleado' (2) e 'Inactivo' (3) en variable 'SITLAB' y 'Sí' (1) en la variable 'GESBUSEMP')  \n",
    "¿Buscó en **oficinas de empleo**? 1=Sí, blanco."
   ]
  },
  {
   "cell_type": "code",
   "execution_count": 553,
   "metadata": {},
   "outputs": [
    {
     "name": "stdout",
     "output_type": "stream",
     "text": [
      "[' ' '1']\n",
      "                 PASOSEMP2\n",
      "                    unique\n",
      "SITLAB GESBUSEMP          \n",
      "2      0.0             [ ]\n",
      "       1.0          [1,  ]\n",
      "3      0.0             [ ]\n",
      "       1.0          [1,  ]\n",
      "                   PASOSEMP2\n",
      "                      unique\n",
      "SITLAB GESBUSEMP            \n",
      "2      0.0             [nan]\n",
      "       1.0        [1.0, 0.0]\n",
      "3      0.0             [nan]\n",
      "       1.0        [1.0, 0.0]\n"
     ]
    }
   ],
   "source": [
    "pasosemp('PASOSEMP2')"
   ]
  },
  {
   "cell_type": "markdown",
   "metadata": {},
   "source": [
    "#### 'PASOSEMP3'\n",
    "(Solo para respuestas 'Desmpleado' (2) e 'Inactivo' (3) en variable 'SITLAB' y 'Sí' (1) en la variable 'GESBUSEMP')  \n",
    "¿Se puso en contacto directamente con las **empresas** que necesitan personal? 1=Sí, blanco."
   ]
  },
  {
   "cell_type": "code",
   "execution_count": 558,
   "metadata": {},
   "outputs": [
    {
     "name": "stdout",
     "output_type": "stream",
     "text": [
      "[' ' '1']\n",
      "                 PASOSEMP3\n",
      "                    unique\n",
      "SITLAB GESBUSEMP          \n",
      "2      0.0             [ ]\n",
      "       1.0          [1,  ]\n",
      "3      0.0             [ ]\n",
      "       1.0          [ , 1]\n",
      "                   PASOSEMP3\n",
      "                      unique\n",
      "SITLAB GESBUSEMP            \n",
      "2      0.0             [nan]\n",
      "       1.0        [1.0, 0.0]\n",
      "3      0.0             [nan]\n",
      "       1.0        [0.0, 1.0]\n"
     ]
    }
   ],
   "source": [
    "pasosemp('PASOSEMP3')"
   ]
  },
  {
   "cell_type": "markdown",
   "metadata": {},
   "source": [
    "#### 'PASOSEMP4'\n",
    "(Solo para respuestas 'Desmpleado' (2) e 'Inactivo' (3) en variable 'SITLAB' y 'Sí' (1) en la variable 'GESBUSEMP')  \n",
    "¿Revisó y respondió **anuncios** de periódicos? 1=Sí, blanco."
   ]
  },
  {
   "cell_type": "code",
   "execution_count": 559,
   "metadata": {},
   "outputs": [
    {
     "name": "stdout",
     "output_type": "stream",
     "text": [
      "[' ' '1']\n",
      "                 PASOSEMP4\n",
      "                    unique\n",
      "SITLAB GESBUSEMP          \n",
      "2      0.0             [ ]\n",
      "       1.0          [1,  ]\n",
      "3      0.0             [ ]\n",
      "       1.0          [ , 1]\n",
      "                   PASOSEMP4\n",
      "                      unique\n",
      "SITLAB GESBUSEMP            \n",
      "2      0.0             [nan]\n",
      "       1.0        [1.0, 0.0]\n",
      "3      0.0             [nan]\n",
      "       1.0        [0.0, 1.0]\n"
     ]
    }
   ],
   "source": [
    "pasosemp('PASOSEMP4')"
   ]
  },
  {
   "cell_type": "markdown",
   "metadata": {},
   "source": [
    "#### 'PASOSEMP5'\n",
    "(Solo para respuestas 'Desmpleado' (2) e 'Inactivo' (3) en variable 'SITLAB' y 'Sí' (1) en la variable 'GESBUSEMP')  \n",
    "¿Buscó en **Internet**? 1=Sí, blanco."
   ]
  },
  {
   "cell_type": "code",
   "execution_count": 560,
   "metadata": {},
   "outputs": [
    {
     "name": "stdout",
     "output_type": "stream",
     "text": [
      "[' ' '1']\n",
      "                 PASOSEMP5\n",
      "                    unique\n",
      "SITLAB GESBUSEMP          \n",
      "2      0.0             [ ]\n",
      "       1.0          [1,  ]\n",
      "3      0.0             [ ]\n",
      "       1.0          [ , 1]\n",
      "                   PASOSEMP5\n",
      "                      unique\n",
      "SITLAB GESBUSEMP            \n",
      "2      0.0             [nan]\n",
      "       1.0        [1.0, 0.0]\n",
      "3      0.0             [nan]\n",
      "       1.0        [0.0, 1.0]\n"
     ]
    }
   ],
   "source": [
    "pasosemp('PASOSEMP5')"
   ]
  },
  {
   "cell_type": "markdown",
   "metadata": {},
   "source": [
    "#### 'PASOSEMP6'\n",
    "(Solo para respuestas 'Desmpleado' (2) e 'Inactivo' (3) en variable 'SITLAB' y 'Sí' (1) en la variable 'GESBUSEMP')  \n",
    "¿Buscó ayuda entre **amigos y parientes**? 1=Sí, blanco."
   ]
  },
  {
   "cell_type": "code",
   "execution_count": 561,
   "metadata": {},
   "outputs": [
    {
     "name": "stdout",
     "output_type": "stream",
     "text": [
      "[' ' '1']\n",
      "                 PASOSEMP6\n",
      "                    unique\n",
      "SITLAB GESBUSEMP          \n",
      "2      0.0             [ ]\n",
      "       1.0          [ , 1]\n",
      "3      0.0             [ ]\n",
      "       1.0          [ , 1]\n",
      "                   PASOSEMP6\n",
      "                      unique\n",
      "SITLAB GESBUSEMP            \n",
      "2      0.0             [nan]\n",
      "       1.0        [0.0, 1.0]\n",
      "3      0.0             [nan]\n",
      "       1.0        [0.0, 1.0]\n"
     ]
    }
   ],
   "source": [
    "pasosemp('PASOSEMP6')"
   ]
  },
  {
   "cell_type": "markdown",
   "metadata": {},
   "source": [
    "#### 'PASOSEMP7'\n",
    "(Solo para respuestas 'Desmpleado' (2) e 'Inactivo' (3) en variable 'SITLAB' y 'Sí' (1) en la variable 'GESBUSEMP')  \n",
    "¿Buscó ayuda entre **profesionales conocidos del sector**? 1=Sí, blanco."
   ]
  },
  {
   "cell_type": "code",
   "execution_count": 562,
   "metadata": {},
   "outputs": [
    {
     "name": "stdout",
     "output_type": "stream",
     "text": [
      "[' ' '1']\n",
      "                 PASOSEMP7\n",
      "                    unique\n",
      "SITLAB GESBUSEMP          \n",
      "2      0.0             [ ]\n",
      "       1.0          [1,  ]\n",
      "3      0.0             [ ]\n",
      "       1.0          [ , 1]\n",
      "                   PASOSEMP7\n",
      "                      unique\n",
      "SITLAB GESBUSEMP            \n",
      "2      0.0             [nan]\n",
      "       1.0        [1.0, 0.0]\n",
      "3      0.0             [nan]\n",
      "       1.0        [0.0, 1.0]\n"
     ]
    }
   ],
   "source": [
    "pasosemp('PASOSEMP7')"
   ]
  },
  {
   "cell_type": "markdown",
   "metadata": {},
   "source": [
    "#### 'PASOSEMP8'\n",
    "(Solo para respuestas 'Desmpleado' (2) e 'Inactivo' (3) en variable 'SITLAB' y 'Sí' (1) en la variable 'GESBUSEMP')  \n",
    "¿Buscacó terrenos, maquinaria o equipamiento para establecer **su propia empresa**? 1=Sí, blanco."
   ]
  },
  {
   "cell_type": "code",
   "execution_count": 563,
   "metadata": {},
   "outputs": [
    {
     "name": "stdout",
     "output_type": "stream",
     "text": [
      "[' ' '1']\n",
      "                 PASOSEMP8\n",
      "                    unique\n",
      "SITLAB GESBUSEMP          \n",
      "2      0.0             [ ]\n",
      "       1.0          [ , 1]\n",
      "3      0.0             [ ]\n",
      "       1.0             [ ]\n",
      "                   PASOSEMP8\n",
      "                      unique\n",
      "SITLAB GESBUSEMP            \n",
      "2      0.0             [nan]\n",
      "       1.0        [0.0, 1.0]\n",
      "3      0.0             [nan]\n",
      "       1.0             [0.0]\n"
     ]
    }
   ],
   "source": [
    "pasosemp('PASOSEMP8')"
   ]
  },
  {
   "cell_type": "markdown",
   "metadata": {},
   "source": [
    "#### 'PASOSEMP9'\n",
    "(Solo para respuestas 'Desmpleado' (2) e 'Inactivo' (3) en variable 'SITLAB' y 'Sí' (1) en la variable 'GESBUSEMP')  \n",
    "¿Hizo **entrevistas de trabajo**? 1=Sí, blanco."
   ]
  },
  {
   "cell_type": "code",
   "execution_count": 565,
   "metadata": {},
   "outputs": [
    {
     "name": "stdout",
     "output_type": "stream",
     "text": [
      "[' ' '1']\n",
      "                 PASOSEMP9\n",
      "                    unique\n",
      "SITLAB GESBUSEMP          \n",
      "2      0.0             [ ]\n",
      "       1.0          [1,  ]\n",
      "3      0.0             [ ]\n",
      "       1.0          [ , 1]\n",
      "                   PASOSEMP9\n",
      "                      unique\n",
      "SITLAB GESBUSEMP            \n",
      "2      0.0             [nan]\n",
      "       1.0        [1.0, 0.0]\n",
      "3      0.0             [nan]\n",
      "       1.0        [0.0, 1.0]\n"
     ]
    }
   ],
   "source": [
    "pasosemp('PASOSEMP9')"
   ]
  },
  {
   "cell_type": "markdown",
   "metadata": {},
   "source": [
    "#### 'PASOSEMP10'\n",
    "(Solo para respuestas 'Desmpleado' (2) e 'Inactivo' (3) en variable 'SITLAB' y 'Sí' (1) en la variable 'GESBUSEMP')  \n",
    "¿Solicitó **permisos, licencias o recursos financieros**? 1=Sí, blanco."
   ]
  },
  {
   "cell_type": "code",
   "execution_count": 564,
   "metadata": {},
   "outputs": [
    {
     "name": "stdout",
     "output_type": "stream",
     "text": [
      "[' ' '1']\n",
      "                 PASOSEMP10\n",
      "                     unique\n",
      "SITLAB GESBUSEMP           \n",
      "2      0.0              [ ]\n",
      "       1.0           [ , 1]\n",
      "3      0.0              [ ]\n",
      "       1.0              [ ]\n",
      "                  PASOSEMP10\n",
      "                      unique\n",
      "SITLAB GESBUSEMP            \n",
      "2      0.0             [nan]\n",
      "       1.0        [0.0, 1.0]\n",
      "3      0.0             [nan]\n",
      "       1.0             [0.0]\n"
     ]
    }
   ],
   "source": [
    "pasosemp('PASOSEMP10')"
   ]
  },
  {
   "cell_type": "markdown",
   "metadata": {},
   "source": [
    "#### 'PASOSEMP11'\n",
    "(Solo para respuestas 'Desmpleado' (2) e 'Inactivo' (3) en variable 'SITLAB' y 'Sí' (1) en la variable 'GESBUSEMP')  \n",
    "¿Realizó **otras** gestiones? 1=Sí, blanco."
   ]
  },
  {
   "cell_type": "code",
   "execution_count": 566,
   "metadata": {},
   "outputs": [
    {
     "name": "stdout",
     "output_type": "stream",
     "text": [
      "[' ' '1']\n",
      "                 PASOSEMP11\n",
      "                     unique\n",
      "SITLAB GESBUSEMP           \n",
      "2      0.0              [ ]\n",
      "       1.0           [ , 1]\n",
      "3      0.0              [ ]\n",
      "       1.0           [1,  ]\n",
      "                  PASOSEMP11\n",
      "                      unique\n",
      "SITLAB GESBUSEMP            \n",
      "2      0.0             [nan]\n",
      "       1.0        [0.0, 1.0]\n",
      "3      0.0             [nan]\n",
      "       1.0        [1.0, 0.0]\n"
     ]
    }
   ],
   "source": [
    "pasosemp('PASOSEMP11')"
   ]
  },
  {
   "cell_type": "markdown",
   "metadata": {},
   "source": [
    "#### 'NOPASOSEMP1'\n",
    "(Solo para respuestas 'Desmpleado' (2) e 'Inactivo' (3) en variable 'SITLAB' y 'No' (0) en la variable 'GESBUSEMP')  \n",
    "¿La **enfermedad o discapacidad** fueron una razón para no buscar empleo? 1=Sí, blanco."
   ]
  },
  {
   "cell_type": "code",
   "execution_count": 567,
   "metadata": {},
   "outputs": [
    {
     "data": {
      "text/plain": [
       "array([' ', '1'], dtype=object)"
      ]
     },
     "execution_count": 567,
     "metadata": {},
     "output_type": "execute_result"
    }
   ],
   "source": [
    "df_doct['NOPASOSEMP1'].sort_values().unique() # Blank as ' '"
   ]
  },
  {
   "cell_type": "code",
   "execution_count": 568,
   "metadata": {},
   "outputs": [
    {
     "data": {
      "text/html": [
       "<div>\n",
       "<style scoped>\n",
       "    .dataframe tbody tr th:only-of-type {\n",
       "        vertical-align: middle;\n",
       "    }\n",
       "\n",
       "    .dataframe tbody tr th {\n",
       "        vertical-align: top;\n",
       "    }\n",
       "\n",
       "    .dataframe thead tr th {\n",
       "        text-align: left;\n",
       "    }\n",
       "\n",
       "    .dataframe thead tr:last-of-type th {\n",
       "        text-align: right;\n",
       "    }\n",
       "</style>\n",
       "<table border=\"1\" class=\"dataframe\">\n",
       "  <thead>\n",
       "    <tr>\n",
       "      <th></th>\n",
       "      <th></th>\n",
       "      <th>NOPASOSEMP1</th>\n",
       "    </tr>\n",
       "    <tr>\n",
       "      <th></th>\n",
       "      <th></th>\n",
       "      <th>unique</th>\n",
       "    </tr>\n",
       "    <tr>\n",
       "      <th>SITLAB</th>\n",
       "      <th>GESBUSEMP</th>\n",
       "      <th></th>\n",
       "    </tr>\n",
       "  </thead>\n",
       "  <tbody>\n",
       "    <tr>\n",
       "      <th rowspan=\"2\" valign=\"top\">2</th>\n",
       "      <th>0.0</th>\n",
       "      <td>[ , 1]</td>\n",
       "    </tr>\n",
       "    <tr>\n",
       "      <th>1.0</th>\n",
       "      <td>[ ]</td>\n",
       "    </tr>\n",
       "    <tr>\n",
       "      <th rowspan=\"2\" valign=\"top\">3</th>\n",
       "      <th>0.0</th>\n",
       "      <td>[ , 1]</td>\n",
       "    </tr>\n",
       "    <tr>\n",
       "      <th>1.0</th>\n",
       "      <td>[ ]</td>\n",
       "    </tr>\n",
       "  </tbody>\n",
       "</table>\n",
       "</div>"
      ],
      "text/plain": [
       "                 NOPASOSEMP1\n",
       "                      unique\n",
       "SITLAB GESBUSEMP            \n",
       "2      0.0            [ , 1]\n",
       "       1.0               [ ]\n",
       "3      0.0            [ , 1]\n",
       "       1.0               [ ]"
      ]
     },
     "execution_count": 568,
     "metadata": {},
     "output_type": "execute_result"
    }
   ],
   "source": [
    "df_doct[['SITLAB','GESBUSEMP','NOPASOSEMP1']].groupby(['SITLAB','GESBUSEMP']).agg(['unique']) "
   ]
  },
  {
   "cell_type": "code",
   "execution_count": 570,
   "metadata": {},
   "outputs": [],
   "source": [
    "def nopasosemp(col):\n",
    "    print (df_doct[col].sort_values().unique())\n",
    "    print (df_doct[['SITLAB','GESBUSEMP',col]].groupby(['SITLAB','GESBUSEMP']).agg(['unique']))\n",
    "    # Se imputa respuesta 'No' (0) a quien no contesta sí habiendo sido preguntado:\n",
    "    df_doct[col].mask((df_doct['GESBUSEMP']==0)&(df_doct[col]==' '),0,inplace=True) \n",
    "    # Se imputa None cuando no se formula la pregunta:\n",
    "    df_doct[col].where((df_doct[col]==0)|(df_doct[col]=='1'),None,inplace=True)\n",
    "    df_doct[col]=df_doct[col].astype('float')\n",
    "    print (df_doct[['SITLAB','GESBUSEMP',col]].groupby(['SITLAB','GESBUSEMP']).agg(['unique']))\n",
    "    return "
   ]
  },
  {
   "cell_type": "code",
   "execution_count": 571,
   "metadata": {},
   "outputs": [
    {
     "name": "stdout",
     "output_type": "stream",
     "text": [
      "[' ' '1']\n",
      "                 NOPASOSEMP1\n",
      "                      unique\n",
      "SITLAB GESBUSEMP            \n",
      "2      0.0            [ , 1]\n",
      "       1.0               [ ]\n",
      "3      0.0            [ , 1]\n",
      "       1.0               [ ]\n",
      "                 NOPASOSEMP1\n",
      "                      unique\n",
      "SITLAB GESBUSEMP            \n",
      "2      0.0        [0.0, 1.0]\n",
      "       1.0             [nan]\n",
      "3      0.0        [0.0, 1.0]\n",
      "       1.0             [nan]\n"
     ]
    }
   ],
   "source": [
    "nopasosemp('NOPASOSEMP1')"
   ]
  },
  {
   "cell_type": "markdown",
   "metadata": {},
   "source": [
    "#### 'NOPASOSEMP2'\n",
    "(Solo para respuestas 'Desmpleado' (2) e 'Inactivo' (3) en variable 'SITLAB' y 'No' (0) en la variable 'GESBUSEMP')  \n",
    "¿El **cuidado de hijos** fue una razón para no buscar empleo? 1=Sí, blanco."
   ]
  },
  {
   "cell_type": "code",
   "execution_count": 572,
   "metadata": {},
   "outputs": [
    {
     "name": "stdout",
     "output_type": "stream",
     "text": [
      "[' ' '1']\n",
      "                 NOPASOSEMP2\n",
      "                      unique\n",
      "SITLAB GESBUSEMP            \n",
      "2      0.0            [1,  ]\n",
      "       1.0               [ ]\n",
      "3      0.0            [1,  ]\n",
      "       1.0               [ ]\n",
      "                 NOPASOSEMP2\n",
      "                      unique\n",
      "SITLAB GESBUSEMP            \n",
      "2      0.0        [1.0, 0.0]\n",
      "       1.0             [nan]\n",
      "3      0.0        [1.0, 0.0]\n",
      "       1.0             [nan]\n"
     ]
    }
   ],
   "source": [
    "nopasosemp('NOPASOSEMP2')"
   ]
  },
  {
   "cell_type": "markdown",
   "metadata": {},
   "source": [
    "#### 'NOPASOSEMP3'\n",
    "(Solo para respuestas 'Desmpleado' (2) e 'Inactivo' (3) en variable 'SITLAB' y 'No' (0) en la variable 'GESBUSEMP')  \n",
    "¿El **cuidado de otras personas dependientes** fue una razón para no buscar empleo? 1=Sí, blanco."
   ]
  },
  {
   "cell_type": "code",
   "execution_count": 573,
   "metadata": {},
   "outputs": [
    {
     "name": "stdout",
     "output_type": "stream",
     "text": [
      "[' ' '1']\n",
      "                 NOPASOSEMP3\n",
      "                      unique\n",
      "SITLAB GESBUSEMP            \n",
      "2      0.0            [ , 1]\n",
      "       1.0               [ ]\n",
      "3      0.0            [ , 1]\n",
      "       1.0               [ ]\n",
      "                 NOPASOSEMP3\n",
      "                      unique\n",
      "SITLAB GESBUSEMP            \n",
      "2      0.0        [0.0, 1.0]\n",
      "       1.0             [nan]\n",
      "3      0.0        [0.0, 1.0]\n",
      "       1.0             [nan]\n"
     ]
    }
   ],
   "source": [
    "nopasosemp('NOPASOSEMP3')"
   ]
  },
  {
   "cell_type": "markdown",
   "metadata": {},
   "source": [
    "#### 'NOPASOSEMP4'\n",
    "(Solo para respuestas 'Desmpleado' (2) e 'Inactivo' (3) en variable 'SITLAB' y 'No' (0) en la variable 'GESBUSEMP')  \n",
    "¿Fueron **otras responsabilidades familiares** una razón para no buscar empleo? 1=Sí, blanco."
   ]
  },
  {
   "cell_type": "code",
   "execution_count": 574,
   "metadata": {},
   "outputs": [
    {
     "name": "stdout",
     "output_type": "stream",
     "text": [
      "[' ' '1']\n",
      "                 NOPASOSEMP4\n",
      "                      unique\n",
      "SITLAB GESBUSEMP            \n",
      "2      0.0            [ , 1]\n",
      "       1.0               [ ]\n",
      "3      0.0            [ , 1]\n",
      "       1.0               [ ]\n",
      "                 NOPASOSEMP4\n",
      "                      unique\n",
      "SITLAB GESBUSEMP            \n",
      "2      0.0        [0.0, 1.0]\n",
      "       1.0             [nan]\n",
      "3      0.0        [0.0, 1.0]\n",
      "       1.0             [nan]\n"
     ]
    }
   ],
   "source": [
    "nopasosemp('NOPASOSEMP4')"
   ]
  },
  {
   "cell_type": "markdown",
   "metadata": {},
   "source": [
    "#### 'NOPASOSEMP5'\n",
    "(Solo para respuestas 'Desmpleado' (2) e 'Inactivo' (3) en variable 'SITLAB' y 'No' (0) en la variable 'GESBUSEMP')  \n",
    "¿Fue la **jubilación** una razón para no buscar empleo? 1=Sí, blanco."
   ]
  },
  {
   "cell_type": "code",
   "execution_count": 575,
   "metadata": {},
   "outputs": [
    {
     "name": "stdout",
     "output_type": "stream",
     "text": [
      "[' ' '1']\n",
      "                 NOPASOSEMP5\n",
      "                      unique\n",
      "SITLAB GESBUSEMP            \n",
      "2      0.0            [ , 1]\n",
      "       1.0               [ ]\n",
      "3      0.0            [ , 1]\n",
      "       1.0               [ ]\n",
      "                 NOPASOSEMP5\n",
      "                      unique\n",
      "SITLAB GESBUSEMP            \n",
      "2      0.0        [0.0, 1.0]\n",
      "       1.0             [nan]\n",
      "3      0.0        [0.0, 1.0]\n",
      "       1.0             [nan]\n"
     ]
    }
   ],
   "source": [
    "nopasosemp('NOPASOSEMP5')"
   ]
  },
  {
   "cell_type": "markdown",
   "metadata": {},
   "source": [
    "#### 'NOPASOSEMP6'\n",
    "(Solo para respuestas 'Desmpleado' (2) e 'Inactivo' (3) en variable 'SITLAB' y 'No' (0) en la variable 'GESBUSEMP')  \n",
    "¿Fue la **asistencia a instituciones educativas** una razón para no buscar empleo? 1=Sí, blanco."
   ]
  },
  {
   "cell_type": "code",
   "execution_count": 576,
   "metadata": {},
   "outputs": [
    {
     "name": "stdout",
     "output_type": "stream",
     "text": [
      "[' ' '1']\n",
      "                 NOPASOSEMP6\n",
      "                      unique\n",
      "SITLAB GESBUSEMP            \n",
      "2      0.0               [ ]\n",
      "       1.0               [ ]\n",
      "3      0.0            [ , 1]\n",
      "       1.0               [ ]\n",
      "                 NOPASOSEMP6\n",
      "                      unique\n",
      "SITLAB GESBUSEMP            \n",
      "2      0.0             [0.0]\n",
      "       1.0             [nan]\n",
      "3      0.0        [0.0, 1.0]\n",
      "       1.0             [nan]\n"
     ]
    }
   ],
   "source": [
    "nopasosemp('NOPASOSEMP6')"
   ]
  },
  {
   "cell_type": "markdown",
   "metadata": {},
   "source": [
    "#### 'NOPASOSEMP7'\n",
    "(Solo para respuestas 'Desmpleado' (2) e 'Inactivo' (3) en variable 'SITLAB' y 'No' (0) en la variable 'GESBUSEMP')  \n",
    "¿Fue la **convicción** de que no existe ningún trabajo disponible para usted una razón para no buscar empleo? 1=Sí, blanco."
   ]
  },
  {
   "cell_type": "code",
   "execution_count": 577,
   "metadata": {},
   "outputs": [
    {
     "name": "stdout",
     "output_type": "stream",
     "text": [
      "[' ' '1']\n",
      "                 NOPASOSEMP7\n",
      "                      unique\n",
      "SITLAB GESBUSEMP            \n",
      "2      0.0            [ , 1]\n",
      "       1.0               [ ]\n",
      "3      0.0            [ , 1]\n",
      "       1.0               [ ]\n",
      "                 NOPASOSEMP7\n",
      "                      unique\n",
      "SITLAB GESBUSEMP            \n",
      "2      0.0        [0.0, 1.0]\n",
      "       1.0             [nan]\n",
      "3      0.0        [0.0, 1.0]\n",
      "       1.0             [nan]\n"
     ]
    }
   ],
   "source": [
    "nopasosemp('NOPASOSEMP7')"
   ]
  },
  {
   "cell_type": "markdown",
   "metadata": {},
   "source": [
    "#### 'NOPASOSEMP8'\n",
    "(Solo para respuestas 'Desmpleado' (2) e 'Inactivo' (3) en variable 'SITLAB' y 'No' (0) en la variable 'GESBUSEMP')  \n",
    "¿Fue que **no necesita o no quiere trabajar** una razón para no buscar empleo? 1=Sí, blanco."
   ]
  },
  {
   "cell_type": "code",
   "execution_count": 578,
   "metadata": {},
   "outputs": [
    {
     "name": "stdout",
     "output_type": "stream",
     "text": [
      "[' ' '1']\n",
      "                 NOPASOSEMP8\n",
      "                      unique\n",
      "SITLAB GESBUSEMP            \n",
      "2      0.0            [ , 1]\n",
      "       1.0               [ ]\n",
      "3      0.0            [ , 1]\n",
      "       1.0               [ ]\n",
      "                 NOPASOSEMP8\n",
      "                      unique\n",
      "SITLAB GESBUSEMP            \n",
      "2      0.0        [0.0, 1.0]\n",
      "       1.0             [nan]\n",
      "3      0.0        [0.0, 1.0]\n",
      "       1.0             [nan]\n"
     ]
    }
   ],
   "source": [
    "nopasosemp('NOPASOSEMP8')"
   ]
  },
  {
   "cell_type": "markdown",
   "metadata": {},
   "source": [
    "#### 'NOPASOSEMP9'\n",
    "(Solo para respuestas 'Desmpleado' (2) e 'Inactivo' (3) en variable 'SITLAB' y 'No' (0) en la variable 'GESBUSEMP')  \n",
    "¿Tenía **otros** motivos para no buscar empleo? 1=Sí, blanco."
   ]
  },
  {
   "cell_type": "code",
   "execution_count": 579,
   "metadata": {},
   "outputs": [
    {
     "name": "stdout",
     "output_type": "stream",
     "text": [
      "[' ' '1']\n",
      "                 NOPASOSEMP9\n",
      "                      unique\n",
      "SITLAB GESBUSEMP            \n",
      "2      0.0            [ , 1]\n",
      "       1.0               [ ]\n",
      "3      0.0            [ , 1]\n",
      "       1.0               [ ]\n",
      "                 NOPASOSEMP9\n",
      "                      unique\n",
      "SITLAB GESBUSEMP            \n",
      "2      0.0        [0.0, 1.0]\n",
      "       1.0             [nan]\n",
      "3      0.0        [0.0, 1.0]\n",
      "       1.0             [nan]\n"
     ]
    }
   ],
   "source": [
    "nopasosemp('NOPASOSEMP9')"
   ]
  },
  {
   "cell_type": "markdown",
   "metadata": {},
   "source": [
    "#### 'CONT1'\n",
    "Continente del primer país de residencia -en orden cronológico inverso- durante al menos 3 meses en el periodo 2000-2009 (Códigos: vease la variable 'CONTNACIM', y 'NMOV' si no residió fuera de España)"
   ]
  },
  {
   "cell_type": "code",
   "execution_count": 584,
   "metadata": {},
   "outputs": [
    {
     "data": {
      "text/plain": [
       "array(['AFRI', 'ASIA', 'EU27', 'EUCA', 'NMOV', 'OCEA', 'RAME', 'REUR'],\n",
       "      dtype=object)"
      ]
     },
     "execution_count": 584,
     "metadata": {},
     "output_type": "execute_result"
    }
   ],
   "source": [
    "df_doct['CONT1'].sort_values().unique()"
   ]
  },
  {
   "cell_type": "markdown",
   "metadata": {},
   "source": [
    "#### 'ANOIPAIS1'\n",
    "Año de inicio del tiempo de residencia en el primer país mencionado como de residencia al menos 3 meses en el periodo 2000-2009. "
   ]
  },
  {
   "cell_type": "code",
   "execution_count": 585,
   "metadata": {},
   "outputs": [
    {
     "data": {
      "text/plain": [
       "array(['   .', '2000', '2001', '2002', '2003', '2004', '2005', '2006',\n",
       "       '2007', '2008', '2009'], dtype=object)"
      ]
     },
     "execution_count": 585,
     "metadata": {},
     "output_type": "execute_result"
    }
   ],
   "source": [
    "df_doct['ANOIPAIS1'].sort_values().unique() # Blank as '    .'"
   ]
  },
  {
   "cell_type": "code",
   "execution_count": 593,
   "metadata": {},
   "outputs": [],
   "source": [
    "def re_cont(col,cont,blank,tipus='float'):\n",
    "    print (df_doct[[col,cont]].groupby(cont).agg(['unique']))\n",
    "    df_doct[col].replace({blank:None},inplace=True)\n",
    "    df_doct[col]=df_doct[col].astype(tipus)\n",
    "    print (df_doct[[col,cont]].groupby(cont).agg(['unique']))\n",
    "    return"
   ]
  },
  {
   "cell_type": "code",
   "execution_count": 594,
   "metadata": {},
   "outputs": [
    {
     "name": "stdout",
     "output_type": "stream",
     "text": [
      "                                                          ANOIPAIS1\n",
      "                                                             unique\n",
      "CONT1                                                              \n",
      "AFRI                                                   [2009, 2007]\n",
      "ASIA                                                   [2009, 2008]\n",
      "EU27   [2006, 2008, 2009, 2003, 2002, 2005, 2007, 2001, 2000, 2004]\n",
      "EUCA               [2000, 2008, 2009, 2005, 2004, 2006, 2002, 2007]\n",
      "NMOV                                                         [None]\n",
      "OCEA                                                         [2007]\n",
      "RAME                                                   [2009, 2006]\n",
      "REUR                                 [2009, 2008, 2002, 2007, 2004]\n",
      "                                                                              ANOIPAIS1\n",
      "                                                                                 unique\n",
      "CONT1                                                                                  \n",
      "AFRI                                                                   [2009.0, 2007.0]\n",
      "ASIA                                                                   [2009.0, 2008.0]\n",
      "EU27   [2006.0, 2008.0, 2009.0, 2003.0, 2002.0, 2005.0, 2007.0, 2001.0, 2000.0, 2004.0]\n",
      "EUCA                   [2000.0, 2008.0, 2009.0, 2005.0, 2004.0, 2006.0, 2002.0, 2007.0]\n",
      "NMOV                                                                              [nan]\n",
      "OCEA                                                                           [2007.0]\n",
      "RAME                                                                   [2009.0, 2006.0]\n",
      "REUR                                           [2009.0, 2008.0, 2002.0, 2007.0, 2004.0]\n"
     ]
    }
   ],
   "source": [
    "re_cont('ANOIPAIS1','CONT1',blank='   .')"
   ]
  },
  {
   "cell_type": "markdown",
   "metadata": {},
   "source": [
    "#### 'ANOFPAIS1'\n",
    "Año final del tiempo de residencia en el primer país mencionado como de residencia al menos 3 meses en el periodo 2000-2009. "
   ]
  },
  {
   "cell_type": "code",
   "execution_count": 595,
   "metadata": {},
   "outputs": [
    {
     "data": {
      "text/plain": [
       "array(['   .', '2009'], dtype=object)"
      ]
     },
     "execution_count": 595,
     "metadata": {},
     "output_type": "execute_result"
    }
   ],
   "source": [
    "df_doct['ANOFPAIS1'].sort_values().unique() # Blank as '   .'"
   ]
  },
  {
   "cell_type": "code",
   "execution_count": 596,
   "metadata": {},
   "outputs": [
    {
     "name": "stdout",
     "output_type": "stream",
     "text": [
      "      ANOFPAIS1\n",
      "         unique\n",
      "CONT1          \n",
      "AFRI     [2009]\n",
      "ASIA     [2009]\n",
      "EU27     [2009]\n",
      "EUCA     [2009]\n",
      "NMOV     [   .]\n",
      "OCEA     [2009]\n",
      "RAME     [2009]\n",
      "REUR     [2009]\n",
      "      ANOFPAIS1\n",
      "         unique\n",
      "CONT1          \n",
      "AFRI   [2009.0]\n",
      "ASIA   [2009.0]\n",
      "EU27   [2009.0]\n",
      "EUCA   [2009.0]\n",
      "NMOV      [nan]\n",
      "OCEA   [2009.0]\n",
      "RAME   [2009.0]\n",
      "REUR   [2009.0]\n"
     ]
    }
   ],
   "source": [
    "re_cont('ANOFPAIS1','CONT1',blank='   .')\n",
    "# Los registros de duración de la residencia en España han sido suprimidos"
   ]
  },
  {
   "cell_type": "markdown",
   "metadata": {},
   "source": [
    "#### 'MESES1'\n",
    "Duración en meses del tiempo de residencia en el primer país mencionado como de residencia al menos 3 meses en el periodo 2000-2009. "
   ]
  },
  {
   "cell_type": "code",
   "execution_count": 597,
   "metadata": {},
   "outputs": [
    {
     "data": {
      "text/plain": [
       "array(['  .', '  2', '  3', '  4', '  5', '  6', '  7', '  8', '  9',\n",
       "       ' 10', ' 11', ' 12', ' 13', ' 14', ' 15', ' 16', ' 17', ' 18',\n",
       "       ' 19', ' 20', ' 21', ' 22', ' 23', ' 24', ' 25', ' 26', ' 27',\n",
       "       ' 28', ' 29', ' 30', ' 31', ' 32', ' 33', ' 34', ' 35', ' 36',\n",
       "       ' 37', ' 38', ' 39', ' 40', ' 41', ' 42', ' 43', ' 44', ' 45',\n",
       "       ' 46', ' 47', ' 48', ' 49', ' 50', ' 51', ' 52', ' 53', ' 54',\n",
       "       ' 55', ' 56', ' 57', ' 58', ' 59', ' 60', ' 61', ' 62', ' 63',\n",
       "       ' 64', ' 65', ' 66', ' 67', ' 68', ' 69', ' 70', ' 71', ' 72',\n",
       "       ' 73', ' 74', ' 75', ' 76', ' 77', ' 78', ' 79', ' 80', ' 81',\n",
       "       ' 82', ' 83', ' 84', ' 85', ' 86', ' 87', ' 88', ' 89', ' 90',\n",
       "       ' 91', ' 92', ' 93', ' 94', ' 95', ' 96', ' 97', ' 98', ' 99',\n",
       "       '100', '101', '102', '104', '105', '106', '107', '108', '109',\n",
       "       '110', '111', '112', '113', '114', '115', '116', '117', '120'],\n",
       "      dtype=object)"
      ]
     },
     "execution_count": 597,
     "metadata": {},
     "output_type": "execute_result"
    }
   ],
   "source": [
    "df_doct['MESES1'].sort_values().unique() # Blank as '  .'"
   ]
  },
  {
   "cell_type": "code",
   "execution_count": 599,
   "metadata": {},
   "outputs": [
    {
     "name": "stdout",
     "output_type": "stream",
     "text": [
      "                                                                                                                                                                                                                                                                                                            MESES1\n",
      "                                                                                                                                                                                                                                                                                                            unique\n",
      "CONT1                                                                                                                                                                                                                                                                                                             \n",
      "AFRI                                                                                                                                                                                                                                                                                                    [  3,  28]\n",
      "ASIA                                                                                                                                                                                                                                                                                               [  3,  16,  11]\n",
      "EU27   [ 48,  16,  39,   8,  84,  91,  89,   6,  51,  15,  79,  27, 100, 112,  38,  58,   3,  30, 113,  98,  75,  96,  67,  87, 108,  18,  42,  59, 117,  37,  50,  78,  25,  14,  97,  76, 111,  19,  74,  49,  64,  85,  36,  61,  77,  41,  55,  24,  63, 120,  54,  72,  56,  52, 106,  26,   4, 110,  81, ...\n",
      "EUCA                                                                                                                                                                                                               [120,  23,   4,  15,  60,  61,  50,  37,  16,  62,  70,  87,  10,  45,   5,  48,  39,  30,   8]\n",
      "NMOV                                                                                                                                                                                                                                                                                                         [  .]\n",
      "OCEA                                                                                                                                                                                                                                                                                                         [ 26]\n",
      "RAME                                                                                                                                                                                                                                                                                               [ 12,   3,  48]\n",
      "REUR                                                                                                                                                                                                                                                                                [ 10,  13,  89,  27,   3,  64]\n",
      "                                                                                                                                                                                                                                                                                                            MESES1\n",
      "                                                                                                                                                                                                                                                                                                            unique\n",
      "CONT1                                                                                                                                                                                                                                                                                                             \n",
      "AFRI                                                                                                                                                                                                                                                                                                   [3.0, 28.0]\n",
      "ASIA                                                                                                                                                                                                                                                                                             [3.0, 16.0, 11.0]\n",
      "EU27   [48.0, 16.0, 39.0, 8.0, 84.0, 91.0, 89.0, 6.0, 51.0, 15.0, 79.0, 27.0, 100.0, 112.0, 38.0, 58.0, 3.0, 30.0, 113.0, 98.0, 75.0, 96.0, 67.0, 87.0, 108.0, 18.0, 42.0, 59.0, 117.0, 37.0, 50.0, 78.0, 25.0, 14.0, 97.0, 76.0, 111.0, 19.0, 74.0, 49.0, 64.0, 85.0, 36.0, 61.0, 77.0, 41.0, 55.0, 24.0, 63.0...\n",
      "EUCA                                                                                                                                                                                              [120.0, 23.0, 4.0, 15.0, 60.0, 61.0, 50.0, 37.0, 16.0, 62.0, 70.0, 87.0, 10.0, 45.0, 5.0, 48.0, 39.0, 30.0, 8.0]\n",
      "NMOV                                                                                                                                                                                                                                                                                                         [nan]\n",
      "OCEA                                                                                                                                                                                                                                                                                                        [26.0]\n",
      "RAME                                                                                                                                                                                                                                                                                             [12.0, 3.0, 48.0]\n",
      "REUR                                                                                                                                                                                                                                                                           [10.0, 13.0, 89.0, 27.0, 3.0, 64.0]\n"
     ]
    }
   ],
   "source": [
    "re_cont('MESES1','CONT1',blank='  .')"
   ]
  },
  {
   "cell_type": "markdown",
   "metadata": {},
   "source": [
    "#### 'CONT2'\n",
    "Continente del segundo país de residencia -en orden cronológico inverso- durante al menos 3 meses en el periodo 2000-2009 (Códigos: vease la variable 'CONTNACIM', y 'NMOV' si no residió fuera de España)"
   ]
  },
  {
   "cell_type": "code",
   "execution_count": 600,
   "metadata": {},
   "outputs": [
    {
     "data": {
      "text/plain": [
       "array(['AFRI', 'ASIA', 'EU27', 'EUCA', 'NMOV', 'OCEA', 'RAME', 'REUR'],\n",
       "      dtype=object)"
      ]
     },
     "execution_count": 600,
     "metadata": {},
     "output_type": "execute_result"
    }
   ],
   "source": [
    "df_doct['CONT2'].sort_values().unique() # Blank as '   .'"
   ]
  },
  {
   "cell_type": "markdown",
   "metadata": {},
   "source": [
    "#### 'ANOIPAIS2'\n",
    "Año de inicio del tiempo de residencia en el segundo país distinto de España mencionado como de residencia al menos 3 meses en el periodo 2000-2009. "
   ]
  },
  {
   "cell_type": "code",
   "execution_count": 669,
   "metadata": {},
   "outputs": [
    {
     "data": {
      "text/plain": [
       "array(['   .', '2000', '2001', '2002', '2003', '2004', '2005', '2006',\n",
       "       '2007', '2008', '2009'], dtype=object)"
      ]
     },
     "execution_count": 669,
     "metadata": {},
     "output_type": "execute_result"
    }
   ],
   "source": [
    "df_doct['ANOIPAIS2'].sort_values().unique() # Blank as '   .'"
   ]
  },
  {
   "cell_type": "code",
   "execution_count": 670,
   "metadata": {},
   "outputs": [
    {
     "name": "stdout",
     "output_type": "stream",
     "text": [
      "                                                          ANOIPAIS2\n",
      "                                                             unique\n",
      "CONT2                                                              \n",
      "AFRI                                 [2002, 2003, 2004, 2007, 2000]\n",
      "ASIA                     [2007, 2008, 2009, 2003, 2000, 2002, 2004]\n",
      "EU27   [2005, 2000, 2007, 2001, 2002, 2009, 2008, 2003, 2004, 2006]\n",
      "EUCA   [2006, 2000, 2004, 2001, 2005, 2002, 2007, 2008, 2003, 2009]\n",
      "NMOV                                                   [   ., 2006]\n",
      "OCEA                     [2004, 2009, 2003, 2005, 2000, 2007, 2001]\n",
      "RAME   [2006, 2008, 2003, 2001, 2007, 2000, 2004, 2009, 2002, 2005]\n",
      "REUR         [2008, 2009, 2005, 2007, 2001, 2000, 2002, 2006, 2003]\n",
      "                                                                              ANOIPAIS2\n",
      "                                                                                 unique\n",
      "CONT2                                                                                  \n",
      "AFRI                                           [2002.0, 2003.0, 2004.0, 2007.0, 2000.0]\n",
      "ASIA                           [2007.0, 2008.0, 2009.0, 2003.0, 2000.0, 2002.0, 2004.0]\n",
      "EU27   [2005.0, 2000.0, 2007.0, 2001.0, 2002.0, 2009.0, 2008.0, 2003.0, 2004.0, 2006.0]\n",
      "EUCA   [2006.0, 2000.0, 2004.0, 2001.0, 2005.0, 2002.0, 2007.0, 2008.0, 2003.0, 2009.0]\n",
      "NMOV                                                                      [nan, 2006.0]\n",
      "OCEA                           [2004.0, 2009.0, 2003.0, 2005.0, 2000.0, 2007.0, 2001.0]\n",
      "RAME   [2006.0, 2008.0, 2003.0, 2001.0, 2007.0, 2000.0, 2004.0, 2009.0, 2002.0, 2005.0]\n",
      "REUR           [2008.0, 2009.0, 2005.0, 2007.0, 2001.0, 2000.0, 2002.0, 2006.0, 2003.0]\n"
     ]
    }
   ],
   "source": [
    "re_cont('ANOIPAIS2','CONT2',blank='   .')"
   ]
  },
  {
   "cell_type": "code",
   "execution_count": 671,
   "metadata": {},
   "outputs": [
    {
     "data": {
      "text/html": [
       "<div>\n",
       "<style scoped>\n",
       "    .dataframe tbody tr th:only-of-type {\n",
       "        vertical-align: middle;\n",
       "    }\n",
       "\n",
       "    .dataframe tbody tr th {\n",
       "        vertical-align: top;\n",
       "    }\n",
       "\n",
       "    .dataframe thead th {\n",
       "        text-align: right;\n",
       "    }\n",
       "</style>\n",
       "<table border=\"1\" class=\"dataframe\">\n",
       "  <thead>\n",
       "    <tr style=\"text-align: right;\">\n",
       "      <th></th>\n",
       "      <th>MUIDENT</th>\n",
       "      <th>CCAARESI</th>\n",
       "      <th>ANONAC</th>\n",
       "      <th>CCAANAC</th>\n",
       "      <th>CONTNACIM</th>\n",
       "      <th>RELA</th>\n",
       "      <th>CONTNAC1</th>\n",
       "      <th>CONTNAC2</th>\n",
       "      <th>CONTNAC3</th>\n",
       "      <th>SEXO</th>\n",
       "      <th>ESTADOCIVIL</th>\n",
       "      <th>DEPEN5</th>\n",
       "      <th>DEPEN18</th>\n",
       "      <th>DEPENMAS</th>\n",
       "      <th>NIVESTPA</th>\n",
       "      <th>NIVESTMA</th>\n",
       "      <th>NIVPROFPA</th>\n",
       "      <th>NIVPROFMA</th>\n",
       "      <th>ACTIPRIPA1</th>\n",
       "      <th>ACTIPRIMA1</th>\n",
       "      <th>EDUPRIM</th>\n",
       "      <th>EDUSECUN</th>\n",
       "      <th>BACHILLER</th>\n",
       "      <th>RES</th>\n",
       "      <th>CARES1</th>\n",
       "      <th>MESRES1</th>\n",
       "      <th>CARES2</th>\n",
       "      <th>MESRES2</th>\n",
       "      <th>CARES3</th>\n",
       "      <th>MESRES3</th>\n",
       "      <th>CODIDOC</th>\n",
       "      <th>INFUN</th>\n",
       "      <th>INAPL</th>\n",
       "      <th>DESTEC</th>\n",
       "      <th>ANODOC</th>\n",
       "      <th>MESDOC</th>\n",
       "      <th>DURDOCANO</th>\n",
       "      <th>DURDOCMES</th>\n",
       "      <th>CONTEST</th>\n",
       "      <th>ANOEST</th>\n",
       "      <th>FINADOC</th>\n",
       "      <th>TRABDOC</th>\n",
       "      <th>ANOSINTRA</th>\n",
       "      <th>MESSINTRA</th>\n",
       "      <th>SITLAB</th>\n",
       "      <th>HTRAB</th>\n",
       "      <th>INGRESOS</th>\n",
       "      <th>AUTON</th>\n",
       "      <th>CNAE2</th>\n",
       "      <th>ANOINIALP</th>\n",
       "      <th>CAEMP</th>\n",
       "      <th>CONTEMP</th>\n",
       "      <th>SECTOR</th>\n",
       "      <th>CODALP</th>\n",
       "      <th>CATEGPROF</th>\n",
       "      <th>HLECT</th>\n",
       "      <th>TIPOCONT</th>\n",
       "      <th>JORLAB</th>\n",
       "      <th>BUSCATRAB</th>\n",
       "      <th>NIVELMIN</th>\n",
       "      <th>NIVELEST</th>\n",
       "      <th>RELTRABDOC</th>\n",
       "      <th>NIVELSAT1</th>\n",
       "      <th>NIVELSAT2</th>\n",
       "      <th>NIVELSAT3</th>\n",
       "      <th>NIVELSAT4</th>\n",
       "      <th>NIVELSAT5</th>\n",
       "      <th>NIVELSAT6</th>\n",
       "      <th>NIVELSAT7</th>\n",
       "      <th>NIVELSAT8</th>\n",
       "      <th>NIVELSAT9</th>\n",
       "      <th>NIVELSAT10</th>\n",
       "      <th>NIVELSAT11</th>\n",
       "      <th>NIVELSAT12</th>\n",
       "      <th>NIVELSAT13</th>\n",
       "      <th>ACTIANT</th>\n",
       "      <th>SECTORANT</th>\n",
       "      <th>ACTIPRIANT</th>\n",
       "      <th>ACTIANTANO</th>\n",
       "      <th>ACTIANTMES</th>\n",
       "      <th>TRABPOS</th>\n",
       "      <th>MOTIVOPOS1</th>\n",
       "      <th>MOTIVOPOS2</th>\n",
       "      <th>MOTIVOPOS3</th>\n",
       "      <th>MOTIVOPOS4</th>\n",
       "      <th>MOTIVOPOS5</th>\n",
       "      <th>MOTIVOPOS6</th>\n",
       "      <th>MOTIVOPOS7</th>\n",
       "      <th>MOTIVOPOS8</th>\n",
       "      <th>PORCINVES</th>\n",
       "      <th>PORCDOC</th>\n",
       "      <th>PORCOTRAS</th>\n",
       "      <th>FINANPOS</th>\n",
       "      <th>GESBUSEMP</th>\n",
       "      <th>PASOSEMP1</th>\n",
       "      <th>PASOSEMP2</th>\n",
       "      <th>PASOSEMP3</th>\n",
       "      <th>PASOSEMP4</th>\n",
       "      <th>PASOSEMP5</th>\n",
       "      <th>PASOSEMP6</th>\n",
       "      <th>PASOSEMP7</th>\n",
       "      <th>PASOSEMP8</th>\n",
       "      <th>PASOSEMP9</th>\n",
       "      <th>PASOSEMP10</th>\n",
       "      <th>PASOSEMP11</th>\n",
       "      <th>NOPASOSEMP1</th>\n",
       "      <th>NOPASOSEMP2</th>\n",
       "      <th>NOPASOSEMP3</th>\n",
       "      <th>NOPASOSEMP4</th>\n",
       "      <th>NOPASOSEMP5</th>\n",
       "      <th>NOPASOSEMP6</th>\n",
       "      <th>NOPASOSEMP7</th>\n",
       "      <th>NOPASOSEMP8</th>\n",
       "      <th>NOPASOSEMP9</th>\n",
       "      <th>CONT1</th>\n",
       "      <th>ANOIPAIS1</th>\n",
       "      <th>ANOFPAIS1</th>\n",
       "      <th>MESES1</th>\n",
       "      <th>CONT2</th>\n",
       "      <th>ANOIPAIS2</th>\n",
       "      <th>ANOFPAIS2</th>\n",
       "      <th>MESES2</th>\n",
       "      <th>CONT3</th>\n",
       "      <th>ANOIPAIS3</th>\n",
       "      <th>ANOFPAIS3</th>\n",
       "      <th>MESES3</th>\n",
       "      <th>CONT4</th>\n",
       "      <th>ANOIPAIS4</th>\n",
       "      <th>ANOFPAIS4</th>\n",
       "      <th>MESES4</th>\n",
       "      <th>CONT5</th>\n",
       "      <th>ANOIPAIS5</th>\n",
       "      <th>ANOFPAIS5</th>\n",
       "      <th>MESES5</th>\n",
       "      <th>CONT6</th>\n",
       "      <th>ANOIPAIS6</th>\n",
       "      <th>ANOFPAIS6</th>\n",
       "      <th>MESES6</th>\n",
       "      <th>CONT7</th>\n",
       "      <th>ANOIPAIS7</th>\n",
       "      <th>ANOFPAIS7</th>\n",
       "      <th>MESES7</th>\n",
       "      <th>MOTFUERA1</th>\n",
       "      <th>MOTFUERA2</th>\n",
       "      <th>MOTFUERA3</th>\n",
       "      <th>MOTFUERA4</th>\n",
       "      <th>MOTFUERA5</th>\n",
       "      <th>MOTFUERA6</th>\n",
       "      <th>MOTFUERA7</th>\n",
       "      <th>MOTVENIR1</th>\n",
       "      <th>MOTVENIR2</th>\n",
       "      <th>MOTVENIR3</th>\n",
       "      <th>MOTVENIR4</th>\n",
       "      <th>MOTVENIR5</th>\n",
       "      <th>MOTVENIR6</th>\n",
       "      <th>MOTVENIR7</th>\n",
       "      <th>PREVIRSE</th>\n",
       "      <th>MESANTESIR</th>\n",
       "      <th>MOTIRSE1</th>\n",
       "      <th>MOTIRSE2</th>\n",
       "      <th>MOTIRSE3</th>\n",
       "      <th>MOTIRSE4</th>\n",
       "      <th>MOTIRSE5</th>\n",
       "      <th>MOTIRSE6</th>\n",
       "      <th>CONTOUT</th>\n",
       "      <th>INV</th>\n",
       "      <th>MOTNOINV1</th>\n",
       "      <th>MOTNOINV2</th>\n",
       "      <th>MOTNOINV3</th>\n",
       "      <th>MOTNOINV4</th>\n",
       "      <th>MOTNOINV5</th>\n",
       "      <th>MOTNOINV6</th>\n",
       "      <th>MOTNOINV7</th>\n",
       "      <th>MOTNOINV8</th>\n",
       "      <th>MOTNOINV9</th>\n",
       "      <th>ALGINV</th>\n",
       "      <th>MOTINV1</th>\n",
       "      <th>MOTINV2</th>\n",
       "      <th>MOTINV3</th>\n",
       "      <th>MOTINV4</th>\n",
       "      <th>MOTINV5</th>\n",
       "      <th>MOTINV6</th>\n",
       "      <th>MOTINV7</th>\n",
       "      <th>MOTINV8</th>\n",
       "      <th>MOTINV9</th>\n",
       "      <th>MESESINV</th>\n",
       "      <th>ARTIC</th>\n",
       "      <th>LIBROS</th>\n",
       "      <th>NUMPAT</th>\n",
       "      <th>PATNAC</th>\n",
       "      <th>PATEU</th>\n",
       "      <th>PATCOOP</th>\n",
       "      <th>PATCOM</th>\n",
       "      <th>COMPA</th>\n",
       "      <th>TUTOR</th>\n",
       "      <th>COOPERA</th>\n",
       "      <th>INVFUT</th>\n",
       "      <th>FACTOR</th>\n",
       "      <th>Tmpo_doc</th>\n",
       "      <th>Tmpo_s/T</th>\n",
       "      <th>(3416, ANOFPAIS2)</th>\n",
       "      <th>(733, ANOFPAIS2)</th>\n",
       "    </tr>\n",
       "  </thead>\n",
       "  <tbody>\n",
       "    <tr>\n",
       "      <th>3416</th>\n",
       "      <td>410103</td>\n",
       "      <td>1</td>\n",
       "      <td>1960</td>\n",
       "      <td>01</td>\n",
       "      <td>EU27</td>\n",
       "      <td>1</td>\n",
       "      <td>EU27</td>\n",
       "      <td>None</td>\n",
       "      <td>None</td>\n",
       "      <td>2</td>\n",
       "      <td>4</td>\n",
       "      <td>0</td>\n",
       "      <td>0</td>\n",
       "      <td>1</td>\n",
       "      <td>8.0</td>\n",
       "      <td>3.0</td>\n",
       "      <td>1</td>\n",
       "      <td>5</td>\n",
       "      <td>2</td>\n",
       "      <td>NaN</td>\n",
       "      <td>1</td>\n",
       "      <td>1</td>\n",
       "      <td>1</td>\n",
       "      <td>1</td>\n",
       "      <td>01</td>\n",
       "      <td>10.0</td>\n",
       "      <td>01</td>\n",
       "      <td>2</td>\n",
       "      <td>None</td>\n",
       "      <td>0</td>\n",
       "      <td>508</td>\n",
       "      <td>1</td>\n",
       "      <td>1</td>\n",
       "      <td>1</td>\n",
       "      <td>2004</td>\n",
       "      <td>7</td>\n",
       "      <td>6</td>\n",
       "      <td>0</td>\n",
       "      <td>EU27</td>\n",
       "      <td>1983</td>\n",
       "      <td>5</td>\n",
       "      <td>1</td>\n",
       "      <td>0.0</td>\n",
       "      <td>0.0</td>\n",
       "      <td>1</td>\n",
       "      <td>90</td>\n",
       "      <td>4</td>\n",
       "      <td>0</td>\n",
       "      <td>85.0</td>\n",
       "      <td>2009.0</td>\n",
       "      <td>1.0</td>\n",
       "      <td>EU27</td>\n",
       "      <td>3.0</td>\n",
       "      <td>231.0</td>\n",
       "      <td>4.0</td>\n",
       "      <td>4.0</td>\n",
       "      <td>1.0</td>\n",
       "      <td>1.0</td>\n",
       "      <td>NaN</td>\n",
       "      <td>2.0</td>\n",
       "      <td>2.0</td>\n",
       "      <td>1.0</td>\n",
       "      <td>2.0</td>\n",
       "      <td>3.0</td>\n",
       "      <td>1.0</td>\n",
       "      <td>2.0</td>\n",
       "      <td>3.0</td>\n",
       "      <td>1.0</td>\n",
       "      <td>1.0</td>\n",
       "      <td>2.0</td>\n",
       "      <td>3.0</td>\n",
       "      <td>3.0</td>\n",
       "      <td>2.0</td>\n",
       "      <td>3.0</td>\n",
       "      <td>2.0</td>\n",
       "      <td>1.0</td>\n",
       "      <td>1.0</td>\n",
       "      <td>265.0</td>\n",
       "      <td>5.0</td>\n",
       "      <td>0.0</td>\n",
       "      <td>1.0</td>\n",
       "      <td>1.0</td>\n",
       "      <td>0.0</td>\n",
       "      <td>1.0</td>\n",
       "      <td>0.0</td>\n",
       "      <td>1.0</td>\n",
       "      <td>0.0</td>\n",
       "      <td>0.0</td>\n",
       "      <td>0.0</td>\n",
       "      <td>40.0</td>\n",
       "      <td>60.0</td>\n",
       "      <td>0.0</td>\n",
       "      <td>2.0</td>\n",
       "      <td>NaN</td>\n",
       "      <td>NaN</td>\n",
       "      <td>NaN</td>\n",
       "      <td>NaN</td>\n",
       "      <td>NaN</td>\n",
       "      <td>NaN</td>\n",
       "      <td>NaN</td>\n",
       "      <td>NaN</td>\n",
       "      <td>NaN</td>\n",
       "      <td>NaN</td>\n",
       "      <td>NaN</td>\n",
       "      <td>NaN</td>\n",
       "      <td>NaN</td>\n",
       "      <td>NaN</td>\n",
       "      <td>NaN</td>\n",
       "      <td>NaN</td>\n",
       "      <td>NaN</td>\n",
       "      <td>NaN</td>\n",
       "      <td>NaN</td>\n",
       "      <td>NaN</td>\n",
       "      <td>NaN</td>\n",
       "      <td>EU27</td>\n",
       "      <td>2006.0</td>\n",
       "      <td>2009.0</td>\n",
       "      <td>42.0</td>\n",
       "      <td>NMOV</td>\n",
       "      <td>2006.0</td>\n",
       "      <td>2006.0</td>\n",
       "      <td>5.0</td>\n",
       "      <td>EU27</td>\n",
       "      <td>2000.0</td>\n",
       "      <td>2006.0</td>\n",
       "      <td>73.0</td>\n",
       "      <td>NMOV</td>\n",
       "      <td>NaN</td>\n",
       "      <td>NaN</td>\n",
       "      <td>NaN</td>\n",
       "      <td>NMOV</td>\n",
       "      <td>NaN</td>\n",
       "      <td>NaN</td>\n",
       "      <td>NaN</td>\n",
       "      <td>NMOV</td>\n",
       "      <td>NaN</td>\n",
       "      <td>NaN</td>\n",
       "      <td>NaN</td>\n",
       "      <td>NMOV</td>\n",
       "      <td>NaN</td>\n",
       "      <td>NaN</td>\n",
       "      <td>NaN</td>\n",
       "      <td></td>\n",
       "      <td></td>\n",
       "      <td></td>\n",
       "      <td>1</td>\n",
       "      <td></td>\n",
       "      <td></td>\n",
       "      <td></td>\n",
       "      <td></td>\n",
       "      <td></td>\n",
       "      <td>1</td>\n",
       "      <td></td>\n",
       "      <td></td>\n",
       "      <td></td>\n",
       "      <td></td>\n",
       "      <td>3</td>\n",
       "      <td></td>\n",
       "      <td></td>\n",
       "      <td></td>\n",
       "      <td></td>\n",
       "      <td></td>\n",
       "      <td></td>\n",
       "      <td></td>\n",
       "      <td>NMOV</td>\n",
       "      <td>1</td>\n",
       "      <td></td>\n",
       "      <td></td>\n",
       "      <td></td>\n",
       "      <td></td>\n",
       "      <td></td>\n",
       "      <td></td>\n",
       "      <td></td>\n",
       "      <td></td>\n",
       "      <td></td>\n",
       "      <td></td>\n",
       "      <td>1</td>\n",
       "      <td></td>\n",
       "      <td>1</td>\n",
       "      <td></td>\n",
       "      <td></td>\n",
       "      <td>1</td>\n",
       "      <td></td>\n",
       "      <td>1</td>\n",
       "      <td></td>\n",
       "      <td>60</td>\n",
       "      <td>7</td>\n",
       "      <td>4</td>\n",
       "      <td>0</td>\n",
       "      <td>0</td>\n",
       "      <td>0</td>\n",
       "      <td>0</td>\n",
       "      <td>0</td>\n",
       "      <td>0</td>\n",
       "      <td>1</td>\n",
       "      <td>1</td>\n",
       "      <td>1</td>\n",
       "      <td>25.66800106</td>\n",
       "      <td>6.0</td>\n",
       "      <td>0.0</td>\n",
       "      <td>NaN</td>\n",
       "      <td>NaN</td>\n",
       "    </tr>\n",
       "  </tbody>\n",
       "</table>\n",
       "</div>"
      ],
      "text/plain": [
       "      MUIDENT  CCAARESI  ANONAC CCAANAC CONTNACIM  RELA CONTNAC1 CONTNAC2  \\\n",
       "3416   410103         1    1960      01      EU27     1     EU27     None   \n",
       "\n",
       "     CONTNAC3  SEXO  ESTADOCIVIL  DEPEN5  DEPEN18  DEPENMAS  NIVESTPA  \\\n",
       "3416     None     2            4       0        0         1       8.0   \n",
       "\n",
       "      NIVESTMA  NIVPROFPA  NIVPROFMA  ACTIPRIPA1  ACTIPRIMA1  EDUPRIM  \\\n",
       "3416       3.0          1          5           2         NaN        1   \n",
       "\n",
       "      EDUSECUN  BACHILLER  RES CARES1  MESRES1 CARES2  MESRES2 CARES3  \\\n",
       "3416         1          1    1     01     10.0     01        2   None   \n",
       "\n",
       "      MESRES3  CODIDOC  INFUN  INAPL  DESTEC  ANODOC  MESDOC  DURDOCANO  \\\n",
       "3416        0      508      1      1       1    2004       7          6   \n",
       "\n",
       "      DURDOCMES CONTEST  ANOEST  FINADOC  TRABDOC  ANOSINTRA  MESSINTRA  \\\n",
       "3416          0    EU27    1983        5        1        0.0        0.0   \n",
       "\n",
       "      SITLAB  HTRAB  INGRESOS  AUTON  CNAE2  ANOINIALP  CAEMP CONTEMP  SECTOR  \\\n",
       "3416       1     90         4      0   85.0     2009.0    1.0    EU27     3.0   \n",
       "\n",
       "      CODALP  CATEGPROF  HLECT  TIPOCONT  JORLAB  BUSCATRAB  NIVELMIN  \\\n",
       "3416   231.0        4.0    4.0       1.0     1.0        NaN       2.0   \n",
       "\n",
       "      NIVELEST  RELTRABDOC  NIVELSAT1  NIVELSAT2  NIVELSAT3  NIVELSAT4  \\\n",
       "3416       2.0         1.0        2.0        3.0        1.0        2.0   \n",
       "\n",
       "      NIVELSAT5  NIVELSAT6  NIVELSAT7  NIVELSAT8  NIVELSAT9  NIVELSAT10  \\\n",
       "3416        3.0        1.0        1.0        2.0        3.0         3.0   \n",
       "\n",
       "      NIVELSAT11  NIVELSAT12  NIVELSAT13  ACTIANT  SECTORANT  ACTIPRIANT  \\\n",
       "3416         2.0         3.0         2.0      1.0        1.0       265.0   \n",
       "\n",
       "      ACTIANTANO  ACTIANTMES  TRABPOS  MOTIVOPOS1  MOTIVOPOS2  MOTIVOPOS3  \\\n",
       "3416         5.0         0.0      1.0         1.0         0.0         1.0   \n",
       "\n",
       "      MOTIVOPOS4  MOTIVOPOS5  MOTIVOPOS6  MOTIVOPOS7  MOTIVOPOS8  PORCINVES  \\\n",
       "3416         0.0         1.0         0.0         0.0         0.0       40.0   \n",
       "\n",
       "      PORCDOC  PORCOTRAS  FINANPOS  GESBUSEMP  PASOSEMP1  PASOSEMP2  \\\n",
       "3416     60.0        0.0       2.0        NaN        NaN        NaN   \n",
       "\n",
       "      PASOSEMP3  PASOSEMP4  PASOSEMP5  PASOSEMP6  PASOSEMP7  PASOSEMP8  \\\n",
       "3416        NaN        NaN        NaN        NaN        NaN        NaN   \n",
       "\n",
       "      PASOSEMP9  PASOSEMP10  PASOSEMP11  NOPASOSEMP1  NOPASOSEMP2  \\\n",
       "3416        NaN         NaN         NaN          NaN          NaN   \n",
       "\n",
       "      NOPASOSEMP3  NOPASOSEMP4  NOPASOSEMP5  NOPASOSEMP6  NOPASOSEMP7  \\\n",
       "3416          NaN          NaN          NaN          NaN          NaN   \n",
       "\n",
       "      NOPASOSEMP8  NOPASOSEMP9 CONT1  ANOIPAIS1  ANOFPAIS1  MESES1 CONT2  \\\n",
       "3416          NaN          NaN  EU27     2006.0     2009.0    42.0  NMOV   \n",
       "\n",
       "      ANOIPAIS2  ANOFPAIS2  MESES2 CONT3  ANOIPAIS3  ANOFPAIS3  MESES3 CONT4  \\\n",
       "3416     2006.0     2006.0     5.0  EU27     2000.0     2006.0    73.0  NMOV   \n",
       "\n",
       "      ANOIPAIS4  ANOFPAIS4  MESES4 CONT5  ANOIPAIS5  ANOFPAIS5  MESES5 CONT6  \\\n",
       "3416        NaN        NaN     NaN  NMOV        NaN        NaN     NaN  NMOV   \n",
       "\n",
       "      ANOIPAIS6  ANOFPAIS6  MESES6 CONT7  ANOIPAIS7  ANOFPAIS7  MESES7  \\\n",
       "3416        NaN        NaN     NaN  NMOV        NaN        NaN     NaN   \n",
       "\n",
       "     MOTFUERA1 MOTFUERA2 MOTFUERA3 MOTFUERA4 MOTFUERA5 MOTFUERA6 MOTFUERA7  \\\n",
       "3416                                       1                                 \n",
       "\n",
       "     MOTVENIR1 MOTVENIR2 MOTVENIR3 MOTVENIR4 MOTVENIR5 MOTVENIR6 MOTVENIR7  \\\n",
       "3416                             1                                           \n",
       "\n",
       "     PREVIRSE MESANTESIR MOTIRSE1 MOTIRSE2 MOTIRSE3 MOTIRSE4 MOTIRSE5  \\\n",
       "3416        3                                                           \n",
       "\n",
       "     MOTIRSE6 CONTOUT INV MOTNOINV1 MOTNOINV2 MOTNOINV3 MOTNOINV4 MOTNOINV5  \\\n",
       "3416             NMOV   1                                                     \n",
       "\n",
       "     MOTNOINV6 MOTNOINV7 MOTNOINV8 MOTNOINV9 ALGINV MOTINV1 MOTINV2 MOTINV3  \\\n",
       "3416                                                      1               1   \n",
       "\n",
       "     MOTINV4 MOTINV5 MOTINV6 MOTINV7 MOTINV8 MOTINV9 MESESINV ARTIC LIBROS  \\\n",
       "3416                       1               1               60     7      4   \n",
       "\n",
       "     NUMPAT PATNAC PATEU PATCOOP PATCOM COMPA TUTOR COOPERA INVFUT  \\\n",
       "3416      0      0     0       0      0     0     1       1      1   \n",
       "\n",
       "           FACTOR  Tmpo_doc  Tmpo_s/T  (3416, ANOFPAIS2)  (733, ANOFPAIS2)  \n",
       "3416  25.66800106       6.0       0.0                NaN               NaN  "
      ]
     },
     "execution_count": 671,
     "metadata": {},
     "output_type": "execute_result"
    }
   ],
   "source": [
    "df_doct[(df_doct['CONT2']=='NMOV')&(df_doct['ANOIPAIS2'].notna())] \n",
    "# Observación peculiar: periodo intermedio en España con registros de duración no suprimidos"
   ]
  },
  {
   "cell_type": "code",
   "execution_count": 672,
   "metadata": {},
   "outputs": [
    {
     "data": {
      "text/html": [
       "<div>\n",
       "<style scoped>\n",
       "    .dataframe tbody tr th:only-of-type {\n",
       "        vertical-align: middle;\n",
       "    }\n",
       "\n",
       "    .dataframe tbody tr th {\n",
       "        vertical-align: top;\n",
       "    }\n",
       "\n",
       "    .dataframe thead tr th {\n",
       "        text-align: left;\n",
       "    }\n",
       "\n",
       "    .dataframe thead tr:last-of-type th {\n",
       "        text-align: right;\n",
       "    }\n",
       "</style>\n",
       "<table border=\"1\" class=\"dataframe\">\n",
       "  <thead>\n",
       "    <tr>\n",
       "      <th></th>\n",
       "      <th>ANOIPAIS2</th>\n",
       "    </tr>\n",
       "    <tr>\n",
       "      <th></th>\n",
       "      <th>unique</th>\n",
       "    </tr>\n",
       "    <tr>\n",
       "      <th>CONT2</th>\n",
       "      <th></th>\n",
       "    </tr>\n",
       "  </thead>\n",
       "  <tbody>\n",
       "    <tr>\n",
       "      <th>AFRI</th>\n",
       "      <td>[2002.0, 2003.0, 2004.0, 2007.0, 2000.0]</td>\n",
       "    </tr>\n",
       "    <tr>\n",
       "      <th>ASIA</th>\n",
       "      <td>[2007.0, 2008.0, 2009.0, 2003.0, 2000.0, 2002.0, 2004.0]</td>\n",
       "    </tr>\n",
       "    <tr>\n",
       "      <th>EU27</th>\n",
       "      <td>[2005.0, 2000.0, 2007.0, 2001.0, 2002.0, 2009.0, 2008.0, 2003.0, 2004.0, 2006.0]</td>\n",
       "    </tr>\n",
       "    <tr>\n",
       "      <th>EUCA</th>\n",
       "      <td>[2006.0, 2000.0, 2004.0, 2001.0, 2005.0, 2002.0, 2007.0, 2008.0, 2003.0, 2009.0]</td>\n",
       "    </tr>\n",
       "    <tr>\n",
       "      <th>NMOV</th>\n",
       "      <td>[nan]</td>\n",
       "    </tr>\n",
       "    <tr>\n",
       "      <th>OCEA</th>\n",
       "      <td>[2004.0, 2009.0, 2003.0, 2005.0, 2000.0, 2007.0, 2001.0]</td>\n",
       "    </tr>\n",
       "    <tr>\n",
       "      <th>RAME</th>\n",
       "      <td>[2006.0, 2008.0, 2003.0, 2001.0, 2007.0, 2000.0, 2004.0, 2009.0, 2002.0, 2005.0]</td>\n",
       "    </tr>\n",
       "    <tr>\n",
       "      <th>REUR</th>\n",
       "      <td>[2008.0, 2009.0, 2005.0, 2007.0, 2001.0, 2000.0, 2002.0, 2006.0, 2003.0]</td>\n",
       "    </tr>\n",
       "  </tbody>\n",
       "</table>\n",
       "</div>"
      ],
      "text/plain": [
       "                                                                              ANOIPAIS2\n",
       "                                                                                 unique\n",
       "CONT2                                                                                  \n",
       "AFRI                                           [2002.0, 2003.0, 2004.0, 2007.0, 2000.0]\n",
       "ASIA                           [2007.0, 2008.0, 2009.0, 2003.0, 2000.0, 2002.0, 2004.0]\n",
       "EU27   [2005.0, 2000.0, 2007.0, 2001.0, 2002.0, 2009.0, 2008.0, 2003.0, 2004.0, 2006.0]\n",
       "EUCA   [2006.0, 2000.0, 2004.0, 2001.0, 2005.0, 2002.0, 2007.0, 2008.0, 2003.0, 2009.0]\n",
       "NMOV                                                                              [nan]\n",
       "OCEA                           [2004.0, 2009.0, 2003.0, 2005.0, 2000.0, 2007.0, 2001.0]\n",
       "RAME   [2006.0, 2008.0, 2003.0, 2001.0, 2007.0, 2000.0, 2004.0, 2009.0, 2002.0, 2005.0]\n",
       "REUR           [2008.0, 2009.0, 2005.0, 2007.0, 2001.0, 2000.0, 2002.0, 2006.0, 2003.0]"
      ]
     },
     "execution_count": 672,
     "metadata": {},
     "output_type": "execute_result"
    }
   ],
   "source": [
    "# Corrección observación no homogénea: \n",
    "df_doct.loc[3416,'ANOIPAIS2']=np.nan\n",
    "df_doct[['ANOIPAIS2','CONT2']].groupby('CONT2').agg(['unique'])"
   ]
  },
  {
   "cell_type": "markdown",
   "metadata": {},
   "source": [
    "#### 'ANOFPAIS2'\n",
    "Año final del tiempo de residencia en el segundo país distinto de España mencionado como de residencia al menos 3 meses en el periodo 2000-2009. "
   ]
  },
  {
   "cell_type": "code",
   "execution_count": 673,
   "metadata": {},
   "outputs": [
    {
     "data": {
      "text/plain": [
       "array(['   .', '2000', '2001', '2002', '2003', '2004', '2005', '2006',\n",
       "       '2007', '2008', '2009'], dtype=object)"
      ]
     },
     "execution_count": 673,
     "metadata": {},
     "output_type": "execute_result"
    }
   ],
   "source": [
    "df_doct['ANOFPAIS2'].sort_values().unique() # Blank as '   .'"
   ]
  },
  {
   "cell_type": "code",
   "execution_count": 674,
   "metadata": {},
   "outputs": [
    {
     "name": "stdout",
     "output_type": "stream",
     "text": [
      "                                                          ANOFPAIS2\n",
      "                                                             unique\n",
      "CONT2                                                              \n",
      "AFRI                                       [2007, 2004, 2009, 2008]\n",
      "ASIA                                 [2007, 2009, 2003, 2000, 2004]\n",
      "EU27   [2005, 2006, 2009, 2002, 2008, 2003, 2007, 2001, 2004, 2000]\n",
      "EUCA   [2008, 2002, 2000, 2005, 2007, 2001, 2003, 2006, 2004, 2009]\n",
      "NMOV                                                   [   ., 2006]\n",
      "OCEA                     [2005, 2009, 2000, 2006, 2008, 2002, 2004]\n",
      "RAME   [2008, 2006, 2005, 2004, 2007, 2002, 2000, 2009, 2003, 2001]\n",
      "REUR                     [2009, 2008, 2005, 2002, 2004, 2007, 2000]\n",
      "                                                                              ANOFPAIS2\n",
      "                                                                                 unique\n",
      "CONT2                                                                                  \n",
      "AFRI                                                   [2007.0, 2004.0, 2009.0, 2008.0]\n",
      "ASIA                                           [2007.0, 2009.0, 2003.0, 2000.0, 2004.0]\n",
      "EU27   [2005.0, 2006.0, 2009.0, 2002.0, 2008.0, 2003.0, 2007.0, 2001.0, 2004.0, 2000.0]\n",
      "EUCA   [2008.0, 2002.0, 2000.0, 2005.0, 2007.0, 2001.0, 2003.0, 2006.0, 2004.0, 2009.0]\n",
      "NMOV                                                                      [nan, 2006.0]\n",
      "OCEA                           [2005.0, 2009.0, 2000.0, 2006.0, 2008.0, 2002.0, 2004.0]\n",
      "RAME   [2008.0, 2006.0, 2005.0, 2004.0, 2007.0, 2002.0, 2000.0, 2009.0, 2003.0, 2001.0]\n",
      "REUR                           [2009.0, 2008.0, 2005.0, 2002.0, 2004.0, 2007.0, 2000.0]\n"
     ]
    }
   ],
   "source": [
    "re_cont('ANOFPAIS2','CONT2',blank='   .')"
   ]
  },
  {
   "cell_type": "code",
   "execution_count": 675,
   "metadata": {},
   "outputs": [
    {
     "data": {
      "text/html": [
       "<div>\n",
       "<style scoped>\n",
       "    .dataframe tbody tr th:only-of-type {\n",
       "        vertical-align: middle;\n",
       "    }\n",
       "\n",
       "    .dataframe tbody tr th {\n",
       "        vertical-align: top;\n",
       "    }\n",
       "\n",
       "    .dataframe thead th {\n",
       "        text-align: right;\n",
       "    }\n",
       "</style>\n",
       "<table border=\"1\" class=\"dataframe\">\n",
       "  <thead>\n",
       "    <tr style=\"text-align: right;\">\n",
       "      <th></th>\n",
       "      <th>MUIDENT</th>\n",
       "      <th>CCAARESI</th>\n",
       "      <th>ANONAC</th>\n",
       "      <th>CCAANAC</th>\n",
       "      <th>CONTNACIM</th>\n",
       "      <th>RELA</th>\n",
       "      <th>CONTNAC1</th>\n",
       "      <th>CONTNAC2</th>\n",
       "      <th>CONTNAC3</th>\n",
       "      <th>SEXO</th>\n",
       "      <th>ESTADOCIVIL</th>\n",
       "      <th>DEPEN5</th>\n",
       "      <th>DEPEN18</th>\n",
       "      <th>DEPENMAS</th>\n",
       "      <th>NIVESTPA</th>\n",
       "      <th>NIVESTMA</th>\n",
       "      <th>NIVPROFPA</th>\n",
       "      <th>NIVPROFMA</th>\n",
       "      <th>ACTIPRIPA1</th>\n",
       "      <th>ACTIPRIMA1</th>\n",
       "      <th>EDUPRIM</th>\n",
       "      <th>EDUSECUN</th>\n",
       "      <th>BACHILLER</th>\n",
       "      <th>RES</th>\n",
       "      <th>CARES1</th>\n",
       "      <th>MESRES1</th>\n",
       "      <th>CARES2</th>\n",
       "      <th>MESRES2</th>\n",
       "      <th>CARES3</th>\n",
       "      <th>MESRES3</th>\n",
       "      <th>CODIDOC</th>\n",
       "      <th>INFUN</th>\n",
       "      <th>INAPL</th>\n",
       "      <th>DESTEC</th>\n",
       "      <th>ANODOC</th>\n",
       "      <th>MESDOC</th>\n",
       "      <th>DURDOCANO</th>\n",
       "      <th>DURDOCMES</th>\n",
       "      <th>CONTEST</th>\n",
       "      <th>ANOEST</th>\n",
       "      <th>FINADOC</th>\n",
       "      <th>TRABDOC</th>\n",
       "      <th>ANOSINTRA</th>\n",
       "      <th>MESSINTRA</th>\n",
       "      <th>SITLAB</th>\n",
       "      <th>HTRAB</th>\n",
       "      <th>INGRESOS</th>\n",
       "      <th>AUTON</th>\n",
       "      <th>CNAE2</th>\n",
       "      <th>ANOINIALP</th>\n",
       "      <th>CAEMP</th>\n",
       "      <th>CONTEMP</th>\n",
       "      <th>SECTOR</th>\n",
       "      <th>CODALP</th>\n",
       "      <th>CATEGPROF</th>\n",
       "      <th>HLECT</th>\n",
       "      <th>TIPOCONT</th>\n",
       "      <th>JORLAB</th>\n",
       "      <th>BUSCATRAB</th>\n",
       "      <th>NIVELMIN</th>\n",
       "      <th>NIVELEST</th>\n",
       "      <th>RELTRABDOC</th>\n",
       "      <th>NIVELSAT1</th>\n",
       "      <th>NIVELSAT2</th>\n",
       "      <th>NIVELSAT3</th>\n",
       "      <th>NIVELSAT4</th>\n",
       "      <th>NIVELSAT5</th>\n",
       "      <th>NIVELSAT6</th>\n",
       "      <th>NIVELSAT7</th>\n",
       "      <th>NIVELSAT8</th>\n",
       "      <th>NIVELSAT9</th>\n",
       "      <th>NIVELSAT10</th>\n",
       "      <th>NIVELSAT11</th>\n",
       "      <th>NIVELSAT12</th>\n",
       "      <th>NIVELSAT13</th>\n",
       "      <th>ACTIANT</th>\n",
       "      <th>SECTORANT</th>\n",
       "      <th>ACTIPRIANT</th>\n",
       "      <th>ACTIANTANO</th>\n",
       "      <th>ACTIANTMES</th>\n",
       "      <th>TRABPOS</th>\n",
       "      <th>MOTIVOPOS1</th>\n",
       "      <th>MOTIVOPOS2</th>\n",
       "      <th>MOTIVOPOS3</th>\n",
       "      <th>MOTIVOPOS4</th>\n",
       "      <th>MOTIVOPOS5</th>\n",
       "      <th>MOTIVOPOS6</th>\n",
       "      <th>MOTIVOPOS7</th>\n",
       "      <th>MOTIVOPOS8</th>\n",
       "      <th>PORCINVES</th>\n",
       "      <th>PORCDOC</th>\n",
       "      <th>PORCOTRAS</th>\n",
       "      <th>FINANPOS</th>\n",
       "      <th>GESBUSEMP</th>\n",
       "      <th>PASOSEMP1</th>\n",
       "      <th>PASOSEMP2</th>\n",
       "      <th>PASOSEMP3</th>\n",
       "      <th>PASOSEMP4</th>\n",
       "      <th>PASOSEMP5</th>\n",
       "      <th>PASOSEMP6</th>\n",
       "      <th>PASOSEMP7</th>\n",
       "      <th>PASOSEMP8</th>\n",
       "      <th>PASOSEMP9</th>\n",
       "      <th>PASOSEMP10</th>\n",
       "      <th>PASOSEMP11</th>\n",
       "      <th>NOPASOSEMP1</th>\n",
       "      <th>NOPASOSEMP2</th>\n",
       "      <th>NOPASOSEMP3</th>\n",
       "      <th>NOPASOSEMP4</th>\n",
       "      <th>NOPASOSEMP5</th>\n",
       "      <th>NOPASOSEMP6</th>\n",
       "      <th>NOPASOSEMP7</th>\n",
       "      <th>NOPASOSEMP8</th>\n",
       "      <th>NOPASOSEMP9</th>\n",
       "      <th>CONT1</th>\n",
       "      <th>ANOIPAIS1</th>\n",
       "      <th>ANOFPAIS1</th>\n",
       "      <th>MESES1</th>\n",
       "      <th>CONT2</th>\n",
       "      <th>ANOIPAIS2</th>\n",
       "      <th>ANOFPAIS2</th>\n",
       "      <th>MESES2</th>\n",
       "      <th>CONT3</th>\n",
       "      <th>ANOIPAIS3</th>\n",
       "      <th>ANOFPAIS3</th>\n",
       "      <th>MESES3</th>\n",
       "      <th>CONT4</th>\n",
       "      <th>ANOIPAIS4</th>\n",
       "      <th>ANOFPAIS4</th>\n",
       "      <th>MESES4</th>\n",
       "      <th>CONT5</th>\n",
       "      <th>ANOIPAIS5</th>\n",
       "      <th>ANOFPAIS5</th>\n",
       "      <th>MESES5</th>\n",
       "      <th>CONT6</th>\n",
       "      <th>ANOIPAIS6</th>\n",
       "      <th>ANOFPAIS6</th>\n",
       "      <th>MESES6</th>\n",
       "      <th>CONT7</th>\n",
       "      <th>ANOIPAIS7</th>\n",
       "      <th>ANOFPAIS7</th>\n",
       "      <th>MESES7</th>\n",
       "      <th>MOTFUERA1</th>\n",
       "      <th>MOTFUERA2</th>\n",
       "      <th>MOTFUERA3</th>\n",
       "      <th>MOTFUERA4</th>\n",
       "      <th>MOTFUERA5</th>\n",
       "      <th>MOTFUERA6</th>\n",
       "      <th>MOTFUERA7</th>\n",
       "      <th>MOTVENIR1</th>\n",
       "      <th>MOTVENIR2</th>\n",
       "      <th>MOTVENIR3</th>\n",
       "      <th>MOTVENIR4</th>\n",
       "      <th>MOTVENIR5</th>\n",
       "      <th>MOTVENIR6</th>\n",
       "      <th>MOTVENIR7</th>\n",
       "      <th>PREVIRSE</th>\n",
       "      <th>MESANTESIR</th>\n",
       "      <th>MOTIRSE1</th>\n",
       "      <th>MOTIRSE2</th>\n",
       "      <th>MOTIRSE3</th>\n",
       "      <th>MOTIRSE4</th>\n",
       "      <th>MOTIRSE5</th>\n",
       "      <th>MOTIRSE6</th>\n",
       "      <th>CONTOUT</th>\n",
       "      <th>INV</th>\n",
       "      <th>MOTNOINV1</th>\n",
       "      <th>MOTNOINV2</th>\n",
       "      <th>MOTNOINV3</th>\n",
       "      <th>MOTNOINV4</th>\n",
       "      <th>MOTNOINV5</th>\n",
       "      <th>MOTNOINV6</th>\n",
       "      <th>MOTNOINV7</th>\n",
       "      <th>MOTNOINV8</th>\n",
       "      <th>MOTNOINV9</th>\n",
       "      <th>ALGINV</th>\n",
       "      <th>MOTINV1</th>\n",
       "      <th>MOTINV2</th>\n",
       "      <th>MOTINV3</th>\n",
       "      <th>MOTINV4</th>\n",
       "      <th>MOTINV5</th>\n",
       "      <th>MOTINV6</th>\n",
       "      <th>MOTINV7</th>\n",
       "      <th>MOTINV8</th>\n",
       "      <th>MOTINV9</th>\n",
       "      <th>MESESINV</th>\n",
       "      <th>ARTIC</th>\n",
       "      <th>LIBROS</th>\n",
       "      <th>NUMPAT</th>\n",
       "      <th>PATNAC</th>\n",
       "      <th>PATEU</th>\n",
       "      <th>PATCOOP</th>\n",
       "      <th>PATCOM</th>\n",
       "      <th>COMPA</th>\n",
       "      <th>TUTOR</th>\n",
       "      <th>COOPERA</th>\n",
       "      <th>INVFUT</th>\n",
       "      <th>FACTOR</th>\n",
       "      <th>Tmpo_doc</th>\n",
       "      <th>Tmpo_s/T</th>\n",
       "      <th>(3416, ANOFPAIS2)</th>\n",
       "      <th>(733, ANOFPAIS2)</th>\n",
       "    </tr>\n",
       "  </thead>\n",
       "  <tbody>\n",
       "    <tr>\n",
       "      <th>733</th>\n",
       "      <td>90002</td>\n",
       "      <td>7</td>\n",
       "      <td>1961</td>\n",
       "      <td>07</td>\n",
       "      <td>EU27</td>\n",
       "      <td>1</td>\n",
       "      <td>EU27</td>\n",
       "      <td>None</td>\n",
       "      <td>None</td>\n",
       "      <td>2</td>\n",
       "      <td>6</td>\n",
       "      <td>0</td>\n",
       "      <td>0</td>\n",
       "      <td>0</td>\n",
       "      <td>2.0</td>\n",
       "      <td>2.0</td>\n",
       "      <td>1</td>\n",
       "      <td>5</td>\n",
       "      <td>6</td>\n",
       "      <td>NaN</td>\n",
       "      <td>1</td>\n",
       "      <td>1</td>\n",
       "      <td>2</td>\n",
       "      <td>0</td>\n",
       "      <td>None</td>\n",
       "      <td>NaN</td>\n",
       "      <td>None</td>\n",
       "      <td>0</td>\n",
       "      <td>None</td>\n",
       "      <td>0</td>\n",
       "      <td>601</td>\n",
       "      <td>1</td>\n",
       "      <td>1</td>\n",
       "      <td>0</td>\n",
       "      <td>2006</td>\n",
       "      <td>4</td>\n",
       "      <td>5</td>\n",
       "      <td>0</td>\n",
       "      <td>EU27</td>\n",
       "      <td>1985</td>\n",
       "      <td>8</td>\n",
       "      <td>1</td>\n",
       "      <td>1.0</td>\n",
       "      <td>0.0</td>\n",
       "      <td>1</td>\n",
       "      <td>40</td>\n",
       "      <td>5</td>\n",
       "      <td>0</td>\n",
       "      <td>85.0</td>\n",
       "      <td>2007.0</td>\n",
       "      <td>NaN</td>\n",
       "      <td>EU27</td>\n",
       "      <td>2.0</td>\n",
       "      <td>231.0</td>\n",
       "      <td>2.0</td>\n",
       "      <td>4.0</td>\n",
       "      <td>1.0</td>\n",
       "      <td>1.0</td>\n",
       "      <td>NaN</td>\n",
       "      <td>2.0</td>\n",
       "      <td>1.0</td>\n",
       "      <td>1.0</td>\n",
       "      <td>2.0</td>\n",
       "      <td>4.0</td>\n",
       "      <td>2.0</td>\n",
       "      <td>2.0</td>\n",
       "      <td>2.0</td>\n",
       "      <td>1.0</td>\n",
       "      <td>1.0</td>\n",
       "      <td>1.0</td>\n",
       "      <td>1.0</td>\n",
       "      <td>1.0</td>\n",
       "      <td>2.0</td>\n",
       "      <td>2.0</td>\n",
       "      <td>1.0</td>\n",
       "      <td>0.0</td>\n",
       "      <td>NaN</td>\n",
       "      <td>NaN</td>\n",
       "      <td>NaN</td>\n",
       "      <td>NaN</td>\n",
       "      <td>1.0</td>\n",
       "      <td>0.0</td>\n",
       "      <td>0.0</td>\n",
       "      <td>0.0</td>\n",
       "      <td>0.0</td>\n",
       "      <td>0.0</td>\n",
       "      <td>0.0</td>\n",
       "      <td>1.0</td>\n",
       "      <td>0.0</td>\n",
       "      <td>35.0</td>\n",
       "      <td>50.0</td>\n",
       "      <td>15.0</td>\n",
       "      <td>6.0</td>\n",
       "      <td>NaN</td>\n",
       "      <td>NaN</td>\n",
       "      <td>NaN</td>\n",
       "      <td>NaN</td>\n",
       "      <td>NaN</td>\n",
       "      <td>NaN</td>\n",
       "      <td>NaN</td>\n",
       "      <td>NaN</td>\n",
       "      <td>NaN</td>\n",
       "      <td>NaN</td>\n",
       "      <td>NaN</td>\n",
       "      <td>NaN</td>\n",
       "      <td>NaN</td>\n",
       "      <td>NaN</td>\n",
       "      <td>NaN</td>\n",
       "      <td>NaN</td>\n",
       "      <td>NaN</td>\n",
       "      <td>NaN</td>\n",
       "      <td>NaN</td>\n",
       "      <td>NaN</td>\n",
       "      <td>NaN</td>\n",
       "      <td>EU27</td>\n",
       "      <td>2007.0</td>\n",
       "      <td>2009.0</td>\n",
       "      <td>36.0</td>\n",
       "      <td>NMOV</td>\n",
       "      <td>NaN</td>\n",
       "      <td>2006.0</td>\n",
       "      <td>NaN</td>\n",
       "      <td>NMOV</td>\n",
       "      <td>NaN</td>\n",
       "      <td>NaN</td>\n",
       "      <td>NaN</td>\n",
       "      <td>NMOV</td>\n",
       "      <td>NaN</td>\n",
       "      <td>NaN</td>\n",
       "      <td>NaN</td>\n",
       "      <td>NMOV</td>\n",
       "      <td>NaN</td>\n",
       "      <td>NaN</td>\n",
       "      <td>NaN</td>\n",
       "      <td>NMOV</td>\n",
       "      <td>NaN</td>\n",
       "      <td>NaN</td>\n",
       "      <td>NaN</td>\n",
       "      <td>NMOV</td>\n",
       "      <td>NaN</td>\n",
       "      <td>NaN</td>\n",
       "      <td>NaN</td>\n",
       "      <td></td>\n",
       "      <td></td>\n",
       "      <td>1</td>\n",
       "      <td></td>\n",
       "      <td></td>\n",
       "      <td></td>\n",
       "      <td></td>\n",
       "      <td></td>\n",
       "      <td></td>\n",
       "      <td></td>\n",
       "      <td></td>\n",
       "      <td></td>\n",
       "      <td></td>\n",
       "      <td></td>\n",
       "      <td>3</td>\n",
       "      <td></td>\n",
       "      <td></td>\n",
       "      <td></td>\n",
       "      <td></td>\n",
       "      <td></td>\n",
       "      <td></td>\n",
       "      <td></td>\n",
       "      <td>NMOV</td>\n",
       "      <td>1</td>\n",
       "      <td></td>\n",
       "      <td></td>\n",
       "      <td></td>\n",
       "      <td></td>\n",
       "      <td></td>\n",
       "      <td></td>\n",
       "      <td></td>\n",
       "      <td></td>\n",
       "      <td></td>\n",
       "      <td></td>\n",
       "      <td>1</td>\n",
       "      <td>1</td>\n",
       "      <td>1</td>\n",
       "      <td>1</td>\n",
       "      <td>1</td>\n",
       "      <td>1</td>\n",
       "      <td></td>\n",
       "      <td>1</td>\n",
       "      <td></td>\n",
       "      <td>252</td>\n",
       "      <td>4</td>\n",
       "      <td>2</td>\n",
       "      <td>0</td>\n",
       "      <td>0</td>\n",
       "      <td>0</td>\n",
       "      <td>0</td>\n",
       "      <td>0</td>\n",
       "      <td>0</td>\n",
       "      <td>0</td>\n",
       "      <td>1</td>\n",
       "      <td>1</td>\n",
       "      <td>19.18458881</td>\n",
       "      <td>5.0</td>\n",
       "      <td>1.0</td>\n",
       "      <td>NaN</td>\n",
       "      <td>NaN</td>\n",
       "    </tr>\n",
       "    <tr>\n",
       "      <th>3416</th>\n",
       "      <td>410103</td>\n",
       "      <td>1</td>\n",
       "      <td>1960</td>\n",
       "      <td>01</td>\n",
       "      <td>EU27</td>\n",
       "      <td>1</td>\n",
       "      <td>EU27</td>\n",
       "      <td>None</td>\n",
       "      <td>None</td>\n",
       "      <td>2</td>\n",
       "      <td>4</td>\n",
       "      <td>0</td>\n",
       "      <td>0</td>\n",
       "      <td>1</td>\n",
       "      <td>8.0</td>\n",
       "      <td>3.0</td>\n",
       "      <td>1</td>\n",
       "      <td>5</td>\n",
       "      <td>2</td>\n",
       "      <td>NaN</td>\n",
       "      <td>1</td>\n",
       "      <td>1</td>\n",
       "      <td>1</td>\n",
       "      <td>1</td>\n",
       "      <td>01</td>\n",
       "      <td>10.0</td>\n",
       "      <td>01</td>\n",
       "      <td>2</td>\n",
       "      <td>None</td>\n",
       "      <td>0</td>\n",
       "      <td>508</td>\n",
       "      <td>1</td>\n",
       "      <td>1</td>\n",
       "      <td>1</td>\n",
       "      <td>2004</td>\n",
       "      <td>7</td>\n",
       "      <td>6</td>\n",
       "      <td>0</td>\n",
       "      <td>EU27</td>\n",
       "      <td>1983</td>\n",
       "      <td>5</td>\n",
       "      <td>1</td>\n",
       "      <td>0.0</td>\n",
       "      <td>0.0</td>\n",
       "      <td>1</td>\n",
       "      <td>90</td>\n",
       "      <td>4</td>\n",
       "      <td>0</td>\n",
       "      <td>85.0</td>\n",
       "      <td>2009.0</td>\n",
       "      <td>1.0</td>\n",
       "      <td>EU27</td>\n",
       "      <td>3.0</td>\n",
       "      <td>231.0</td>\n",
       "      <td>4.0</td>\n",
       "      <td>4.0</td>\n",
       "      <td>1.0</td>\n",
       "      <td>1.0</td>\n",
       "      <td>NaN</td>\n",
       "      <td>2.0</td>\n",
       "      <td>2.0</td>\n",
       "      <td>1.0</td>\n",
       "      <td>2.0</td>\n",
       "      <td>3.0</td>\n",
       "      <td>1.0</td>\n",
       "      <td>2.0</td>\n",
       "      <td>3.0</td>\n",
       "      <td>1.0</td>\n",
       "      <td>1.0</td>\n",
       "      <td>2.0</td>\n",
       "      <td>3.0</td>\n",
       "      <td>3.0</td>\n",
       "      <td>2.0</td>\n",
       "      <td>3.0</td>\n",
       "      <td>2.0</td>\n",
       "      <td>1.0</td>\n",
       "      <td>1.0</td>\n",
       "      <td>265.0</td>\n",
       "      <td>5.0</td>\n",
       "      <td>0.0</td>\n",
       "      <td>1.0</td>\n",
       "      <td>1.0</td>\n",
       "      <td>0.0</td>\n",
       "      <td>1.0</td>\n",
       "      <td>0.0</td>\n",
       "      <td>1.0</td>\n",
       "      <td>0.0</td>\n",
       "      <td>0.0</td>\n",
       "      <td>0.0</td>\n",
       "      <td>40.0</td>\n",
       "      <td>60.0</td>\n",
       "      <td>0.0</td>\n",
       "      <td>2.0</td>\n",
       "      <td>NaN</td>\n",
       "      <td>NaN</td>\n",
       "      <td>NaN</td>\n",
       "      <td>NaN</td>\n",
       "      <td>NaN</td>\n",
       "      <td>NaN</td>\n",
       "      <td>NaN</td>\n",
       "      <td>NaN</td>\n",
       "      <td>NaN</td>\n",
       "      <td>NaN</td>\n",
       "      <td>NaN</td>\n",
       "      <td>NaN</td>\n",
       "      <td>NaN</td>\n",
       "      <td>NaN</td>\n",
       "      <td>NaN</td>\n",
       "      <td>NaN</td>\n",
       "      <td>NaN</td>\n",
       "      <td>NaN</td>\n",
       "      <td>NaN</td>\n",
       "      <td>NaN</td>\n",
       "      <td>NaN</td>\n",
       "      <td>EU27</td>\n",
       "      <td>2006.0</td>\n",
       "      <td>2009.0</td>\n",
       "      <td>42.0</td>\n",
       "      <td>NMOV</td>\n",
       "      <td>NaN</td>\n",
       "      <td>2006.0</td>\n",
       "      <td>5.0</td>\n",
       "      <td>EU27</td>\n",
       "      <td>2000.0</td>\n",
       "      <td>2006.0</td>\n",
       "      <td>73.0</td>\n",
       "      <td>NMOV</td>\n",
       "      <td>NaN</td>\n",
       "      <td>NaN</td>\n",
       "      <td>NaN</td>\n",
       "      <td>NMOV</td>\n",
       "      <td>NaN</td>\n",
       "      <td>NaN</td>\n",
       "      <td>NaN</td>\n",
       "      <td>NMOV</td>\n",
       "      <td>NaN</td>\n",
       "      <td>NaN</td>\n",
       "      <td>NaN</td>\n",
       "      <td>NMOV</td>\n",
       "      <td>NaN</td>\n",
       "      <td>NaN</td>\n",
       "      <td>NaN</td>\n",
       "      <td></td>\n",
       "      <td></td>\n",
       "      <td></td>\n",
       "      <td>1</td>\n",
       "      <td></td>\n",
       "      <td></td>\n",
       "      <td></td>\n",
       "      <td></td>\n",
       "      <td></td>\n",
       "      <td>1</td>\n",
       "      <td></td>\n",
       "      <td></td>\n",
       "      <td></td>\n",
       "      <td></td>\n",
       "      <td>3</td>\n",
       "      <td></td>\n",
       "      <td></td>\n",
       "      <td></td>\n",
       "      <td></td>\n",
       "      <td></td>\n",
       "      <td></td>\n",
       "      <td></td>\n",
       "      <td>NMOV</td>\n",
       "      <td>1</td>\n",
       "      <td></td>\n",
       "      <td></td>\n",
       "      <td></td>\n",
       "      <td></td>\n",
       "      <td></td>\n",
       "      <td></td>\n",
       "      <td></td>\n",
       "      <td></td>\n",
       "      <td></td>\n",
       "      <td></td>\n",
       "      <td>1</td>\n",
       "      <td></td>\n",
       "      <td>1</td>\n",
       "      <td></td>\n",
       "      <td></td>\n",
       "      <td>1</td>\n",
       "      <td></td>\n",
       "      <td>1</td>\n",
       "      <td></td>\n",
       "      <td>60</td>\n",
       "      <td>7</td>\n",
       "      <td>4</td>\n",
       "      <td>0</td>\n",
       "      <td>0</td>\n",
       "      <td>0</td>\n",
       "      <td>0</td>\n",
       "      <td>0</td>\n",
       "      <td>0</td>\n",
       "      <td>1</td>\n",
       "      <td>1</td>\n",
       "      <td>1</td>\n",
       "      <td>25.66800106</td>\n",
       "      <td>6.0</td>\n",
       "      <td>0.0</td>\n",
       "      <td>NaN</td>\n",
       "      <td>NaN</td>\n",
       "    </tr>\n",
       "  </tbody>\n",
       "</table>\n",
       "</div>"
      ],
      "text/plain": [
       "      MUIDENT  CCAARESI  ANONAC CCAANAC CONTNACIM  RELA CONTNAC1 CONTNAC2  \\\n",
       "733     90002         7    1961      07      EU27     1     EU27     None   \n",
       "3416   410103         1    1960      01      EU27     1     EU27     None   \n",
       "\n",
       "     CONTNAC3  SEXO  ESTADOCIVIL  DEPEN5  DEPEN18  DEPENMAS  NIVESTPA  \\\n",
       "733      None     2            6       0        0         0       2.0   \n",
       "3416     None     2            4       0        0         1       8.0   \n",
       "\n",
       "      NIVESTMA  NIVPROFPA  NIVPROFMA  ACTIPRIPA1  ACTIPRIMA1  EDUPRIM  \\\n",
       "733        2.0          1          5           6         NaN        1   \n",
       "3416       3.0          1          5           2         NaN        1   \n",
       "\n",
       "      EDUSECUN  BACHILLER  RES CARES1  MESRES1 CARES2  MESRES2 CARES3  \\\n",
       "733          1          2    0   None      NaN   None        0   None   \n",
       "3416         1          1    1     01     10.0     01        2   None   \n",
       "\n",
       "      MESRES3  CODIDOC  INFUN  INAPL  DESTEC  ANODOC  MESDOC  DURDOCANO  \\\n",
       "733         0      601      1      1       0    2006       4          5   \n",
       "3416        0      508      1      1       1    2004       7          6   \n",
       "\n",
       "      DURDOCMES CONTEST  ANOEST  FINADOC  TRABDOC  ANOSINTRA  MESSINTRA  \\\n",
       "733           0    EU27    1985        8        1        1.0        0.0   \n",
       "3416          0    EU27    1983        5        1        0.0        0.0   \n",
       "\n",
       "      SITLAB  HTRAB  INGRESOS  AUTON  CNAE2  ANOINIALP  CAEMP CONTEMP  SECTOR  \\\n",
       "733        1     40         5      0   85.0     2007.0    NaN    EU27     2.0   \n",
       "3416       1     90         4      0   85.0     2009.0    1.0    EU27     3.0   \n",
       "\n",
       "      CODALP  CATEGPROF  HLECT  TIPOCONT  JORLAB  BUSCATRAB  NIVELMIN  \\\n",
       "733    231.0        2.0    4.0       1.0     1.0        NaN       2.0   \n",
       "3416   231.0        4.0    4.0       1.0     1.0        NaN       2.0   \n",
       "\n",
       "      NIVELEST  RELTRABDOC  NIVELSAT1  NIVELSAT2  NIVELSAT3  NIVELSAT4  \\\n",
       "733        1.0         1.0        2.0        4.0        2.0        2.0   \n",
       "3416       2.0         1.0        2.0        3.0        1.0        2.0   \n",
       "\n",
       "      NIVELSAT5  NIVELSAT6  NIVELSAT7  NIVELSAT8  NIVELSAT9  NIVELSAT10  \\\n",
       "733         2.0        1.0        1.0        1.0        1.0         1.0   \n",
       "3416        3.0        1.0        1.0        2.0        3.0         3.0   \n",
       "\n",
       "      NIVELSAT11  NIVELSAT12  NIVELSAT13  ACTIANT  SECTORANT  ACTIPRIANT  \\\n",
       "733          2.0         2.0         1.0      0.0        NaN         NaN   \n",
       "3416         2.0         3.0         2.0      1.0        1.0       265.0   \n",
       "\n",
       "      ACTIANTANO  ACTIANTMES  TRABPOS  MOTIVOPOS1  MOTIVOPOS2  MOTIVOPOS3  \\\n",
       "733          NaN         NaN      1.0         0.0         0.0         0.0   \n",
       "3416         5.0         0.0      1.0         1.0         0.0         1.0   \n",
       "\n",
       "      MOTIVOPOS4  MOTIVOPOS5  MOTIVOPOS6  MOTIVOPOS7  MOTIVOPOS8  PORCINVES  \\\n",
       "733          0.0         0.0         0.0         1.0         0.0       35.0   \n",
       "3416         0.0         1.0         0.0         0.0         0.0       40.0   \n",
       "\n",
       "      PORCDOC  PORCOTRAS  FINANPOS  GESBUSEMP  PASOSEMP1  PASOSEMP2  \\\n",
       "733      50.0       15.0       6.0        NaN        NaN        NaN   \n",
       "3416     60.0        0.0       2.0        NaN        NaN        NaN   \n",
       "\n",
       "      PASOSEMP3  PASOSEMP4  PASOSEMP5  PASOSEMP6  PASOSEMP7  PASOSEMP8  \\\n",
       "733         NaN        NaN        NaN        NaN        NaN        NaN   \n",
       "3416        NaN        NaN        NaN        NaN        NaN        NaN   \n",
       "\n",
       "      PASOSEMP9  PASOSEMP10  PASOSEMP11  NOPASOSEMP1  NOPASOSEMP2  \\\n",
       "733         NaN         NaN         NaN          NaN          NaN   \n",
       "3416        NaN         NaN         NaN          NaN          NaN   \n",
       "\n",
       "      NOPASOSEMP3  NOPASOSEMP4  NOPASOSEMP5  NOPASOSEMP6  NOPASOSEMP7  \\\n",
       "733           NaN          NaN          NaN          NaN          NaN   \n",
       "3416          NaN          NaN          NaN          NaN          NaN   \n",
       "\n",
       "      NOPASOSEMP8  NOPASOSEMP9 CONT1  ANOIPAIS1  ANOFPAIS1  MESES1 CONT2  \\\n",
       "733           NaN          NaN  EU27     2007.0     2009.0    36.0  NMOV   \n",
       "3416          NaN          NaN  EU27     2006.0     2009.0    42.0  NMOV   \n",
       "\n",
       "      ANOIPAIS2  ANOFPAIS2  MESES2 CONT3  ANOIPAIS3  ANOFPAIS3  MESES3 CONT4  \\\n",
       "733         NaN     2006.0     NaN  NMOV        NaN        NaN     NaN  NMOV   \n",
       "3416        NaN     2006.0     5.0  EU27     2000.0     2006.0    73.0  NMOV   \n",
       "\n",
       "      ANOIPAIS4  ANOFPAIS4  MESES4 CONT5  ANOIPAIS5  ANOFPAIS5  MESES5 CONT6  \\\n",
       "733         NaN        NaN     NaN  NMOV        NaN        NaN     NaN  NMOV   \n",
       "3416        NaN        NaN     NaN  NMOV        NaN        NaN     NaN  NMOV   \n",
       "\n",
       "      ANOIPAIS6  ANOFPAIS6  MESES6 CONT7  ANOIPAIS7  ANOFPAIS7  MESES7  \\\n",
       "733         NaN        NaN     NaN  NMOV        NaN        NaN     NaN   \n",
       "3416        NaN        NaN     NaN  NMOV        NaN        NaN     NaN   \n",
       "\n",
       "     MOTFUERA1 MOTFUERA2 MOTFUERA3 MOTFUERA4 MOTFUERA5 MOTFUERA6 MOTFUERA7  \\\n",
       "733                              1                                           \n",
       "3416                                       1                                 \n",
       "\n",
       "     MOTVENIR1 MOTVENIR2 MOTVENIR3 MOTVENIR4 MOTVENIR5 MOTVENIR6 MOTVENIR7  \\\n",
       "733                                                                          \n",
       "3416                             1                                           \n",
       "\n",
       "     PREVIRSE MESANTESIR MOTIRSE1 MOTIRSE2 MOTIRSE3 MOTIRSE4 MOTIRSE5  \\\n",
       "733         3                                                           \n",
       "3416        3                                                           \n",
       "\n",
       "     MOTIRSE6 CONTOUT INV MOTNOINV1 MOTNOINV2 MOTNOINV3 MOTNOINV4 MOTNOINV5  \\\n",
       "733              NMOV   1                                                     \n",
       "3416             NMOV   1                                                     \n",
       "\n",
       "     MOTNOINV6 MOTNOINV7 MOTNOINV8 MOTNOINV9 ALGINV MOTINV1 MOTINV2 MOTINV3  \\\n",
       "733                                                       1       1       1   \n",
       "3416                                                      1               1   \n",
       "\n",
       "     MOTINV4 MOTINV5 MOTINV6 MOTINV7 MOTINV8 MOTINV9 MESESINV ARTIC LIBROS  \\\n",
       "733        1       1       1               1              252     4      2   \n",
       "3416                       1               1               60     7      4   \n",
       "\n",
       "     NUMPAT PATNAC PATEU PATCOOP PATCOM COMPA TUTOR COOPERA INVFUT  \\\n",
       "733       0      0     0       0      0     0     0       1      1   \n",
       "3416      0      0     0       0      0     0     1       1      1   \n",
       "\n",
       "           FACTOR  Tmpo_doc  Tmpo_s/T  (3416, ANOFPAIS2)  (733, ANOFPAIS2)  \n",
       "733   19.18458881       5.0       1.0                NaN               NaN  \n",
       "3416  25.66800106       6.0       0.0                NaN               NaN  "
      ]
     },
     "execution_count": 675,
     "metadata": {},
     "output_type": "execute_result"
    }
   ],
   "source": [
    "df_doct[(df_doct['CONT2']=='NMOV')&(df_doct['ANOFPAIS2'].notna())] \n",
    "# Observaciones peculiares: periodo intermedio en España con registros de duración no suprimidos"
   ]
  },
  {
   "cell_type": "code",
   "execution_count": 676,
   "metadata": {},
   "outputs": [
    {
     "data": {
      "text/html": [
       "<div>\n",
       "<style scoped>\n",
       "    .dataframe tbody tr th:only-of-type {\n",
       "        vertical-align: middle;\n",
       "    }\n",
       "\n",
       "    .dataframe tbody tr th {\n",
       "        vertical-align: top;\n",
       "    }\n",
       "\n",
       "    .dataframe thead tr th {\n",
       "        text-align: left;\n",
       "    }\n",
       "\n",
       "    .dataframe thead tr:last-of-type th {\n",
       "        text-align: right;\n",
       "    }\n",
       "</style>\n",
       "<table border=\"1\" class=\"dataframe\">\n",
       "  <thead>\n",
       "    <tr>\n",
       "      <th></th>\n",
       "      <th>ANOFPAIS2</th>\n",
       "    </tr>\n",
       "    <tr>\n",
       "      <th></th>\n",
       "      <th>unique</th>\n",
       "    </tr>\n",
       "    <tr>\n",
       "      <th>CONT2</th>\n",
       "      <th></th>\n",
       "    </tr>\n",
       "  </thead>\n",
       "  <tbody>\n",
       "    <tr>\n",
       "      <th>AFRI</th>\n",
       "      <td>[2007.0, 2004.0, 2009.0, 2008.0]</td>\n",
       "    </tr>\n",
       "    <tr>\n",
       "      <th>ASIA</th>\n",
       "      <td>[2007.0, 2009.0, 2003.0, 2000.0, 2004.0]</td>\n",
       "    </tr>\n",
       "    <tr>\n",
       "      <th>EU27</th>\n",
       "      <td>[2005.0, 2006.0, 2009.0, 2002.0, 2008.0, 2003.0, 2007.0, 2001.0, 2004.0, 2000.0]</td>\n",
       "    </tr>\n",
       "    <tr>\n",
       "      <th>EUCA</th>\n",
       "      <td>[2008.0, 2002.0, 2000.0, 2005.0, 2007.0, 2001.0, 2003.0, 2006.0, 2004.0, 2009.0]</td>\n",
       "    </tr>\n",
       "    <tr>\n",
       "      <th>NMOV</th>\n",
       "      <td>[nan]</td>\n",
       "    </tr>\n",
       "    <tr>\n",
       "      <th>OCEA</th>\n",
       "      <td>[2005.0, 2009.0, 2000.0, 2006.0, 2008.0, 2002.0, 2004.0]</td>\n",
       "    </tr>\n",
       "    <tr>\n",
       "      <th>RAME</th>\n",
       "      <td>[2008.0, 2006.0, 2005.0, 2004.0, 2007.0, 2002.0, 2000.0, 2009.0, 2003.0, 2001.0]</td>\n",
       "    </tr>\n",
       "    <tr>\n",
       "      <th>REUR</th>\n",
       "      <td>[2009.0, 2008.0, 2005.0, 2002.0, 2004.0, 2007.0, 2000.0]</td>\n",
       "    </tr>\n",
       "  </tbody>\n",
       "</table>\n",
       "</div>"
      ],
      "text/plain": [
       "                                                                              ANOFPAIS2\n",
       "                                                                                 unique\n",
       "CONT2                                                                                  \n",
       "AFRI                                                   [2007.0, 2004.0, 2009.0, 2008.0]\n",
       "ASIA                                           [2007.0, 2009.0, 2003.0, 2000.0, 2004.0]\n",
       "EU27   [2005.0, 2006.0, 2009.0, 2002.0, 2008.0, 2003.0, 2007.0, 2001.0, 2004.0, 2000.0]\n",
       "EUCA   [2008.0, 2002.0, 2000.0, 2005.0, 2007.0, 2001.0, 2003.0, 2006.0, 2004.0, 2009.0]\n",
       "NMOV                                                                              [nan]\n",
       "OCEA                           [2005.0, 2009.0, 2000.0, 2006.0, 2008.0, 2002.0, 2004.0]\n",
       "RAME   [2008.0, 2006.0, 2005.0, 2004.0, 2007.0, 2002.0, 2000.0, 2009.0, 2003.0, 2001.0]\n",
       "REUR                           [2009.0, 2008.0, 2005.0, 2002.0, 2004.0, 2007.0, 2000.0]"
      ]
     },
     "execution_count": 676,
     "metadata": {},
     "output_type": "execute_result"
    }
   ],
   "source": [
    "# Corrección observaciones no homogéneas: \n",
    "df_doct.loc[733,'ANOFPAIS2']=np.nan\n",
    "df_doct.loc[3416,'ANOFPAIS2']=np.nan\n",
    "df_doct[['ANOFPAIS2','CONT2']].groupby('CONT2').agg(['unique'])"
   ]
  },
  {
   "cell_type": "markdown",
   "metadata": {},
   "source": [
    "#### 'MESES2'\n",
    "Duración en meses del tiempo de residencia en el segundo país distinto de España mencionado como de residencia al menos 3 meses en el periodo 2000-2009. "
   ]
  },
  {
   "cell_type": "code",
   "execution_count": 610,
   "metadata": {},
   "outputs": [
    {
     "data": {
      "text/plain": [
       "array(['  .', '  3', '  4', '  5', '  6', '  7', '  8', '  9', ' 10',\n",
       "       ' 11', ' 12', ' 13', ' 14', ' 15', ' 16', ' 17', ' 18', ' 19',\n",
       "       ' 20', ' 21', ' 22', ' 23', ' 24', ' 25', ' 26', ' 27', ' 28',\n",
       "       ' 29', ' 30', ' 31', ' 32', ' 33', ' 34', ' 35', ' 36', ' 37',\n",
       "       ' 38', ' 40', ' 41', ' 42', ' 43', ' 44', ' 45', ' 46', ' 47',\n",
       "       ' 48', ' 49', ' 50', ' 52', ' 53', ' 54', ' 55', ' 56', ' 57',\n",
       "       ' 58', ' 59', ' 60', ' 61', ' 62', ' 63', ' 67', ' 68', ' 70',\n",
       "       ' 71', ' 72', ' 74', ' 75', ' 76', ' 81', ' 82', ' 83', ' 84',\n",
       "       ' 86', ' 89', ' 90', ' 91', ' 92', ' 93', ' 95', ' 96', ' 97',\n",
       "       '103', '104', '105', '108', '109', '110', '111', '114', '115',\n",
       "       '116', '117'], dtype=object)"
      ]
     },
     "execution_count": 610,
     "metadata": {},
     "output_type": "execute_result"
    }
   ],
   "source": [
    "df_doct['MESES2'].sort_values().unique() # Blank as '  .'"
   ]
  },
  {
   "cell_type": "code",
   "execution_count": 611,
   "metadata": {},
   "outputs": [
    {
     "name": "stdout",
     "output_type": "stream",
     "text": [
      "                                                                                                                                                                                                                                                                                                            MESES2\n",
      "                                                                                                                                                                                                                                                                                                            unique\n",
      "CONT2                                                                                                                                                                                                                                                                                                             \n",
      "AFRI                                                                                                                                                                                                                                                                                [ 72,  48,   4,  29,  89, 104]\n",
      "ASIA                                                                                                                                                                                                                                                                                          [  3,   5,   7,  13]\n",
      "EU27   [  7,  81,  24,  16,   4,   3,   6,  26,  36,  92,  20,  23,   9,   8,  25,   5,  12,  13,  18,  29, 114,  45,  41,  54,  62,  34,  27,  68,  82,  37,  61,  67,  33,  32,  31,  43,  10,  35,  14,  86,  22,  15, 103,  44,  52,  17,  95,  21, 105,  40,  19,  48,  96,  63,  93,  58,  57,  46,  60, ...\n",
      "EUCA                                                                             [ 27,  36,   8,   7,  75,   9,  28,   3,  25,   5,  12,   6,   4,  24,  10,  50,  48,  71,  43,  38,  20,  11,  13,  30,  45,  31,  19,  33,  29,  26,  14,  60,  22,  41,  17,  15,  35,  16,  42,  70,  32,  56,  72,  23,  55]\n",
      "NMOV                                                                                                                                                                                                                                                                                                    [  .,   5]\n",
      "OCEA                                                                                                                                                                                                                                                                           [ 12,   7,  75,   4,   3,   6,  10]\n",
      "RAME                                                                                                                                                                                                                    [ 22,   3,   5,   4,  26,  18,  58,  35,  60,  12,   7,  32,  72,   6,  11,  61,  30,  13]\n",
      "REUR                                                                                                                                                                                                                                        [ 16,   4,   3,  21,  12,  57,  11,   5,  23,  41,  13,  26,   9,  29]\n",
      "                                                                                                                                                                                                                                                                                                            MESES2\n",
      "                                                                                                                                                                                                                                                                                                            unique\n",
      "CONT2                                                                                                                                                                                                                                                                                                             \n",
      "AFRI                                                                                                                                                                                                                                                                          [72.0, 48.0, 4.0, 29.0, 89.0, 104.0]\n",
      "ASIA                                                                                                                                                                                                                                                                                         [3.0, 5.0, 7.0, 13.0]\n",
      "EU27   [7.0, 81.0, 24.0, 16.0, 4.0, 3.0, 6.0, 26.0, 36.0, 92.0, 20.0, 23.0, 9.0, 8.0, 25.0, 5.0, 12.0, 13.0, 18.0, 29.0, 114.0, 45.0, 41.0, 54.0, 62.0, 34.0, 27.0, 68.0, 82.0, 37.0, 61.0, 67.0, 33.0, 32.0, 31.0, 43.0, 10.0, 35.0, 14.0, 86.0, 22.0, 15.0, 103.0, 44.0, 52.0, 17.0, 95.0, 21.0, 105.0, 40.0,...\n",
      "EUCA                                       [27.0, 36.0, 8.0, 7.0, 75.0, 9.0, 28.0, 3.0, 25.0, 5.0, 12.0, 6.0, 4.0, 24.0, 10.0, 50.0, 48.0, 71.0, 43.0, 38.0, 20.0, 11.0, 13.0, 30.0, 45.0, 31.0, 19.0, 33.0, 29.0, 26.0, 14.0, 60.0, 22.0, 41.0, 17.0, 15.0, 35.0, 16.0, 42.0, 70.0, 32.0, 56.0, 72.0, 23.0, 55.0]\n",
      "NMOV                                                                                                                                                                                                                                                                                                    [nan, 5.0]\n",
      "OCEA                                                                                                                                                                                                                                                                        [12.0, 7.0, 75.0, 4.0, 3.0, 6.0, 10.0]\n",
      "RAME                                                                                                                                                                                                       [22.0, 3.0, 5.0, 4.0, 26.0, 18.0, 58.0, 35.0, 60.0, 12.0, 7.0, 32.0, 72.0, 6.0, 11.0, 61.0, 30.0, 13.0]\n",
      "REUR                                                                                                                                                                                                                              [16.0, 4.0, 3.0, 21.0, 12.0, 57.0, 11.0, 5.0, 23.0, 41.0, 13.0, 26.0, 9.0, 29.0]\n"
     ]
    }
   ],
   "source": [
    "re_cont('MESES2','CONT2',blank='  .')"
   ]
  },
  {
   "cell_type": "code",
   "execution_count": 677,
   "metadata": {},
   "outputs": [
    {
     "data": {
      "text/html": [
       "<div>\n",
       "<style scoped>\n",
       "    .dataframe tbody tr th:only-of-type {\n",
       "        vertical-align: middle;\n",
       "    }\n",
       "\n",
       "    .dataframe tbody tr th {\n",
       "        vertical-align: top;\n",
       "    }\n",
       "\n",
       "    .dataframe thead th {\n",
       "        text-align: right;\n",
       "    }\n",
       "</style>\n",
       "<table border=\"1\" class=\"dataframe\">\n",
       "  <thead>\n",
       "    <tr style=\"text-align: right;\">\n",
       "      <th></th>\n",
       "      <th>MUIDENT</th>\n",
       "      <th>CCAARESI</th>\n",
       "      <th>ANONAC</th>\n",
       "      <th>CCAANAC</th>\n",
       "      <th>CONTNACIM</th>\n",
       "      <th>RELA</th>\n",
       "      <th>CONTNAC1</th>\n",
       "      <th>CONTNAC2</th>\n",
       "      <th>CONTNAC3</th>\n",
       "      <th>SEXO</th>\n",
       "      <th>ESTADOCIVIL</th>\n",
       "      <th>DEPEN5</th>\n",
       "      <th>DEPEN18</th>\n",
       "      <th>DEPENMAS</th>\n",
       "      <th>NIVESTPA</th>\n",
       "      <th>NIVESTMA</th>\n",
       "      <th>NIVPROFPA</th>\n",
       "      <th>NIVPROFMA</th>\n",
       "      <th>ACTIPRIPA1</th>\n",
       "      <th>ACTIPRIMA1</th>\n",
       "      <th>EDUPRIM</th>\n",
       "      <th>EDUSECUN</th>\n",
       "      <th>BACHILLER</th>\n",
       "      <th>RES</th>\n",
       "      <th>CARES1</th>\n",
       "      <th>MESRES1</th>\n",
       "      <th>CARES2</th>\n",
       "      <th>MESRES2</th>\n",
       "      <th>CARES3</th>\n",
       "      <th>MESRES3</th>\n",
       "      <th>CODIDOC</th>\n",
       "      <th>INFUN</th>\n",
       "      <th>INAPL</th>\n",
       "      <th>DESTEC</th>\n",
       "      <th>ANODOC</th>\n",
       "      <th>MESDOC</th>\n",
       "      <th>DURDOCANO</th>\n",
       "      <th>DURDOCMES</th>\n",
       "      <th>CONTEST</th>\n",
       "      <th>ANOEST</th>\n",
       "      <th>FINADOC</th>\n",
       "      <th>TRABDOC</th>\n",
       "      <th>ANOSINTRA</th>\n",
       "      <th>MESSINTRA</th>\n",
       "      <th>SITLAB</th>\n",
       "      <th>HTRAB</th>\n",
       "      <th>INGRESOS</th>\n",
       "      <th>AUTON</th>\n",
       "      <th>CNAE2</th>\n",
       "      <th>ANOINIALP</th>\n",
       "      <th>CAEMP</th>\n",
       "      <th>CONTEMP</th>\n",
       "      <th>SECTOR</th>\n",
       "      <th>CODALP</th>\n",
       "      <th>CATEGPROF</th>\n",
       "      <th>HLECT</th>\n",
       "      <th>TIPOCONT</th>\n",
       "      <th>JORLAB</th>\n",
       "      <th>BUSCATRAB</th>\n",
       "      <th>NIVELMIN</th>\n",
       "      <th>NIVELEST</th>\n",
       "      <th>RELTRABDOC</th>\n",
       "      <th>NIVELSAT1</th>\n",
       "      <th>NIVELSAT2</th>\n",
       "      <th>NIVELSAT3</th>\n",
       "      <th>NIVELSAT4</th>\n",
       "      <th>NIVELSAT5</th>\n",
       "      <th>NIVELSAT6</th>\n",
       "      <th>NIVELSAT7</th>\n",
       "      <th>NIVELSAT8</th>\n",
       "      <th>NIVELSAT9</th>\n",
       "      <th>NIVELSAT10</th>\n",
       "      <th>NIVELSAT11</th>\n",
       "      <th>NIVELSAT12</th>\n",
       "      <th>NIVELSAT13</th>\n",
       "      <th>ACTIANT</th>\n",
       "      <th>SECTORANT</th>\n",
       "      <th>ACTIPRIANT</th>\n",
       "      <th>ACTIANTANO</th>\n",
       "      <th>ACTIANTMES</th>\n",
       "      <th>TRABPOS</th>\n",
       "      <th>MOTIVOPOS1</th>\n",
       "      <th>MOTIVOPOS2</th>\n",
       "      <th>MOTIVOPOS3</th>\n",
       "      <th>MOTIVOPOS4</th>\n",
       "      <th>MOTIVOPOS5</th>\n",
       "      <th>MOTIVOPOS6</th>\n",
       "      <th>MOTIVOPOS7</th>\n",
       "      <th>MOTIVOPOS8</th>\n",
       "      <th>PORCINVES</th>\n",
       "      <th>PORCDOC</th>\n",
       "      <th>PORCOTRAS</th>\n",
       "      <th>FINANPOS</th>\n",
       "      <th>GESBUSEMP</th>\n",
       "      <th>PASOSEMP1</th>\n",
       "      <th>PASOSEMP2</th>\n",
       "      <th>PASOSEMP3</th>\n",
       "      <th>PASOSEMP4</th>\n",
       "      <th>PASOSEMP5</th>\n",
       "      <th>PASOSEMP6</th>\n",
       "      <th>PASOSEMP7</th>\n",
       "      <th>PASOSEMP8</th>\n",
       "      <th>PASOSEMP9</th>\n",
       "      <th>PASOSEMP10</th>\n",
       "      <th>PASOSEMP11</th>\n",
       "      <th>NOPASOSEMP1</th>\n",
       "      <th>NOPASOSEMP2</th>\n",
       "      <th>NOPASOSEMP3</th>\n",
       "      <th>NOPASOSEMP4</th>\n",
       "      <th>NOPASOSEMP5</th>\n",
       "      <th>NOPASOSEMP6</th>\n",
       "      <th>NOPASOSEMP7</th>\n",
       "      <th>NOPASOSEMP8</th>\n",
       "      <th>NOPASOSEMP9</th>\n",
       "      <th>CONT1</th>\n",
       "      <th>ANOIPAIS1</th>\n",
       "      <th>ANOFPAIS1</th>\n",
       "      <th>MESES1</th>\n",
       "      <th>CONT2</th>\n",
       "      <th>ANOIPAIS2</th>\n",
       "      <th>ANOFPAIS2</th>\n",
       "      <th>MESES2</th>\n",
       "      <th>CONT3</th>\n",
       "      <th>ANOIPAIS3</th>\n",
       "      <th>ANOFPAIS3</th>\n",
       "      <th>MESES3</th>\n",
       "      <th>CONT4</th>\n",
       "      <th>ANOIPAIS4</th>\n",
       "      <th>ANOFPAIS4</th>\n",
       "      <th>MESES4</th>\n",
       "      <th>CONT5</th>\n",
       "      <th>ANOIPAIS5</th>\n",
       "      <th>ANOFPAIS5</th>\n",
       "      <th>MESES5</th>\n",
       "      <th>CONT6</th>\n",
       "      <th>ANOIPAIS6</th>\n",
       "      <th>ANOFPAIS6</th>\n",
       "      <th>MESES6</th>\n",
       "      <th>CONT7</th>\n",
       "      <th>ANOIPAIS7</th>\n",
       "      <th>ANOFPAIS7</th>\n",
       "      <th>MESES7</th>\n",
       "      <th>MOTFUERA1</th>\n",
       "      <th>MOTFUERA2</th>\n",
       "      <th>MOTFUERA3</th>\n",
       "      <th>MOTFUERA4</th>\n",
       "      <th>MOTFUERA5</th>\n",
       "      <th>MOTFUERA6</th>\n",
       "      <th>MOTFUERA7</th>\n",
       "      <th>MOTVENIR1</th>\n",
       "      <th>MOTVENIR2</th>\n",
       "      <th>MOTVENIR3</th>\n",
       "      <th>MOTVENIR4</th>\n",
       "      <th>MOTVENIR5</th>\n",
       "      <th>MOTVENIR6</th>\n",
       "      <th>MOTVENIR7</th>\n",
       "      <th>PREVIRSE</th>\n",
       "      <th>MESANTESIR</th>\n",
       "      <th>MOTIRSE1</th>\n",
       "      <th>MOTIRSE2</th>\n",
       "      <th>MOTIRSE3</th>\n",
       "      <th>MOTIRSE4</th>\n",
       "      <th>MOTIRSE5</th>\n",
       "      <th>MOTIRSE6</th>\n",
       "      <th>CONTOUT</th>\n",
       "      <th>INV</th>\n",
       "      <th>MOTNOINV1</th>\n",
       "      <th>MOTNOINV2</th>\n",
       "      <th>MOTNOINV3</th>\n",
       "      <th>MOTNOINV4</th>\n",
       "      <th>MOTNOINV5</th>\n",
       "      <th>MOTNOINV6</th>\n",
       "      <th>MOTNOINV7</th>\n",
       "      <th>MOTNOINV8</th>\n",
       "      <th>MOTNOINV9</th>\n",
       "      <th>ALGINV</th>\n",
       "      <th>MOTINV1</th>\n",
       "      <th>MOTINV2</th>\n",
       "      <th>MOTINV3</th>\n",
       "      <th>MOTINV4</th>\n",
       "      <th>MOTINV5</th>\n",
       "      <th>MOTINV6</th>\n",
       "      <th>MOTINV7</th>\n",
       "      <th>MOTINV8</th>\n",
       "      <th>MOTINV9</th>\n",
       "      <th>MESESINV</th>\n",
       "      <th>ARTIC</th>\n",
       "      <th>LIBROS</th>\n",
       "      <th>NUMPAT</th>\n",
       "      <th>PATNAC</th>\n",
       "      <th>PATEU</th>\n",
       "      <th>PATCOOP</th>\n",
       "      <th>PATCOM</th>\n",
       "      <th>COMPA</th>\n",
       "      <th>TUTOR</th>\n",
       "      <th>COOPERA</th>\n",
       "      <th>INVFUT</th>\n",
       "      <th>FACTOR</th>\n",
       "      <th>Tmpo_doc</th>\n",
       "      <th>Tmpo_s/T</th>\n",
       "      <th>(3416, ANOFPAIS2)</th>\n",
       "      <th>(733, ANOFPAIS2)</th>\n",
       "    </tr>\n",
       "  </thead>\n",
       "  <tbody>\n",
       "    <tr>\n",
       "      <th>3416</th>\n",
       "      <td>410103</td>\n",
       "      <td>1</td>\n",
       "      <td>1960</td>\n",
       "      <td>01</td>\n",
       "      <td>EU27</td>\n",
       "      <td>1</td>\n",
       "      <td>EU27</td>\n",
       "      <td>None</td>\n",
       "      <td>None</td>\n",
       "      <td>2</td>\n",
       "      <td>4</td>\n",
       "      <td>0</td>\n",
       "      <td>0</td>\n",
       "      <td>1</td>\n",
       "      <td>8.0</td>\n",
       "      <td>3.0</td>\n",
       "      <td>1</td>\n",
       "      <td>5</td>\n",
       "      <td>2</td>\n",
       "      <td>NaN</td>\n",
       "      <td>1</td>\n",
       "      <td>1</td>\n",
       "      <td>1</td>\n",
       "      <td>1</td>\n",
       "      <td>01</td>\n",
       "      <td>10.0</td>\n",
       "      <td>01</td>\n",
       "      <td>2</td>\n",
       "      <td>None</td>\n",
       "      <td>0</td>\n",
       "      <td>508</td>\n",
       "      <td>1</td>\n",
       "      <td>1</td>\n",
       "      <td>1</td>\n",
       "      <td>2004</td>\n",
       "      <td>7</td>\n",
       "      <td>6</td>\n",
       "      <td>0</td>\n",
       "      <td>EU27</td>\n",
       "      <td>1983</td>\n",
       "      <td>5</td>\n",
       "      <td>1</td>\n",
       "      <td>0.0</td>\n",
       "      <td>0.0</td>\n",
       "      <td>1</td>\n",
       "      <td>90</td>\n",
       "      <td>4</td>\n",
       "      <td>0</td>\n",
       "      <td>85.0</td>\n",
       "      <td>2009.0</td>\n",
       "      <td>1.0</td>\n",
       "      <td>EU27</td>\n",
       "      <td>3.0</td>\n",
       "      <td>231.0</td>\n",
       "      <td>4.0</td>\n",
       "      <td>4.0</td>\n",
       "      <td>1.0</td>\n",
       "      <td>1.0</td>\n",
       "      <td>NaN</td>\n",
       "      <td>2.0</td>\n",
       "      <td>2.0</td>\n",
       "      <td>1.0</td>\n",
       "      <td>2.0</td>\n",
       "      <td>3.0</td>\n",
       "      <td>1.0</td>\n",
       "      <td>2.0</td>\n",
       "      <td>3.0</td>\n",
       "      <td>1.0</td>\n",
       "      <td>1.0</td>\n",
       "      <td>2.0</td>\n",
       "      <td>3.0</td>\n",
       "      <td>3.0</td>\n",
       "      <td>2.0</td>\n",
       "      <td>3.0</td>\n",
       "      <td>2.0</td>\n",
       "      <td>1.0</td>\n",
       "      <td>1.0</td>\n",
       "      <td>265.0</td>\n",
       "      <td>5.0</td>\n",
       "      <td>0.0</td>\n",
       "      <td>1.0</td>\n",
       "      <td>1.0</td>\n",
       "      <td>0.0</td>\n",
       "      <td>1.0</td>\n",
       "      <td>0.0</td>\n",
       "      <td>1.0</td>\n",
       "      <td>0.0</td>\n",
       "      <td>0.0</td>\n",
       "      <td>0.0</td>\n",
       "      <td>40.0</td>\n",
       "      <td>60.0</td>\n",
       "      <td>0.0</td>\n",
       "      <td>2.0</td>\n",
       "      <td>NaN</td>\n",
       "      <td>NaN</td>\n",
       "      <td>NaN</td>\n",
       "      <td>NaN</td>\n",
       "      <td>NaN</td>\n",
       "      <td>NaN</td>\n",
       "      <td>NaN</td>\n",
       "      <td>NaN</td>\n",
       "      <td>NaN</td>\n",
       "      <td>NaN</td>\n",
       "      <td>NaN</td>\n",
       "      <td>NaN</td>\n",
       "      <td>NaN</td>\n",
       "      <td>NaN</td>\n",
       "      <td>NaN</td>\n",
       "      <td>NaN</td>\n",
       "      <td>NaN</td>\n",
       "      <td>NaN</td>\n",
       "      <td>NaN</td>\n",
       "      <td>NaN</td>\n",
       "      <td>NaN</td>\n",
       "      <td>EU27</td>\n",
       "      <td>2006.0</td>\n",
       "      <td>2009.0</td>\n",
       "      <td>42.0</td>\n",
       "      <td>NMOV</td>\n",
       "      <td>NaN</td>\n",
       "      <td>NaN</td>\n",
       "      <td>5.0</td>\n",
       "      <td>EU27</td>\n",
       "      <td>2000.0</td>\n",
       "      <td>2006.0</td>\n",
       "      <td>73.0</td>\n",
       "      <td>NMOV</td>\n",
       "      <td>NaN</td>\n",
       "      <td>NaN</td>\n",
       "      <td>NaN</td>\n",
       "      <td>NMOV</td>\n",
       "      <td>NaN</td>\n",
       "      <td>NaN</td>\n",
       "      <td>NaN</td>\n",
       "      <td>NMOV</td>\n",
       "      <td>NaN</td>\n",
       "      <td>NaN</td>\n",
       "      <td>NaN</td>\n",
       "      <td>NMOV</td>\n",
       "      <td>NaN</td>\n",
       "      <td>NaN</td>\n",
       "      <td>NaN</td>\n",
       "      <td></td>\n",
       "      <td></td>\n",
       "      <td></td>\n",
       "      <td>1</td>\n",
       "      <td></td>\n",
       "      <td></td>\n",
       "      <td></td>\n",
       "      <td></td>\n",
       "      <td></td>\n",
       "      <td>1</td>\n",
       "      <td></td>\n",
       "      <td></td>\n",
       "      <td></td>\n",
       "      <td></td>\n",
       "      <td>3</td>\n",
       "      <td></td>\n",
       "      <td></td>\n",
       "      <td></td>\n",
       "      <td></td>\n",
       "      <td></td>\n",
       "      <td></td>\n",
       "      <td></td>\n",
       "      <td>NMOV</td>\n",
       "      <td>1</td>\n",
       "      <td></td>\n",
       "      <td></td>\n",
       "      <td></td>\n",
       "      <td></td>\n",
       "      <td></td>\n",
       "      <td></td>\n",
       "      <td></td>\n",
       "      <td></td>\n",
       "      <td></td>\n",
       "      <td></td>\n",
       "      <td>1</td>\n",
       "      <td></td>\n",
       "      <td>1</td>\n",
       "      <td></td>\n",
       "      <td></td>\n",
       "      <td>1</td>\n",
       "      <td></td>\n",
       "      <td>1</td>\n",
       "      <td></td>\n",
       "      <td>60</td>\n",
       "      <td>7</td>\n",
       "      <td>4</td>\n",
       "      <td>0</td>\n",
       "      <td>0</td>\n",
       "      <td>0</td>\n",
       "      <td>0</td>\n",
       "      <td>0</td>\n",
       "      <td>0</td>\n",
       "      <td>1</td>\n",
       "      <td>1</td>\n",
       "      <td>1</td>\n",
       "      <td>25.66800106</td>\n",
       "      <td>6.0</td>\n",
       "      <td>0.0</td>\n",
       "      <td>NaN</td>\n",
       "      <td>NaN</td>\n",
       "    </tr>\n",
       "  </tbody>\n",
       "</table>\n",
       "</div>"
      ],
      "text/plain": [
       "      MUIDENT  CCAARESI  ANONAC CCAANAC CONTNACIM  RELA CONTNAC1 CONTNAC2  \\\n",
       "3416   410103         1    1960      01      EU27     1     EU27     None   \n",
       "\n",
       "     CONTNAC3  SEXO  ESTADOCIVIL  DEPEN5  DEPEN18  DEPENMAS  NIVESTPA  \\\n",
       "3416     None     2            4       0        0         1       8.0   \n",
       "\n",
       "      NIVESTMA  NIVPROFPA  NIVPROFMA  ACTIPRIPA1  ACTIPRIMA1  EDUPRIM  \\\n",
       "3416       3.0          1          5           2         NaN        1   \n",
       "\n",
       "      EDUSECUN  BACHILLER  RES CARES1  MESRES1 CARES2  MESRES2 CARES3  \\\n",
       "3416         1          1    1     01     10.0     01        2   None   \n",
       "\n",
       "      MESRES3  CODIDOC  INFUN  INAPL  DESTEC  ANODOC  MESDOC  DURDOCANO  \\\n",
       "3416        0      508      1      1       1    2004       7          6   \n",
       "\n",
       "      DURDOCMES CONTEST  ANOEST  FINADOC  TRABDOC  ANOSINTRA  MESSINTRA  \\\n",
       "3416          0    EU27    1983        5        1        0.0        0.0   \n",
       "\n",
       "      SITLAB  HTRAB  INGRESOS  AUTON  CNAE2  ANOINIALP  CAEMP CONTEMP  SECTOR  \\\n",
       "3416       1     90         4      0   85.0     2009.0    1.0    EU27     3.0   \n",
       "\n",
       "      CODALP  CATEGPROF  HLECT  TIPOCONT  JORLAB  BUSCATRAB  NIVELMIN  \\\n",
       "3416   231.0        4.0    4.0       1.0     1.0        NaN       2.0   \n",
       "\n",
       "      NIVELEST  RELTRABDOC  NIVELSAT1  NIVELSAT2  NIVELSAT3  NIVELSAT4  \\\n",
       "3416       2.0         1.0        2.0        3.0        1.0        2.0   \n",
       "\n",
       "      NIVELSAT5  NIVELSAT6  NIVELSAT7  NIVELSAT8  NIVELSAT9  NIVELSAT10  \\\n",
       "3416        3.0        1.0        1.0        2.0        3.0         3.0   \n",
       "\n",
       "      NIVELSAT11  NIVELSAT12  NIVELSAT13  ACTIANT  SECTORANT  ACTIPRIANT  \\\n",
       "3416         2.0         3.0         2.0      1.0        1.0       265.0   \n",
       "\n",
       "      ACTIANTANO  ACTIANTMES  TRABPOS  MOTIVOPOS1  MOTIVOPOS2  MOTIVOPOS3  \\\n",
       "3416         5.0         0.0      1.0         1.0         0.0         1.0   \n",
       "\n",
       "      MOTIVOPOS4  MOTIVOPOS5  MOTIVOPOS6  MOTIVOPOS7  MOTIVOPOS8  PORCINVES  \\\n",
       "3416         0.0         1.0         0.0         0.0         0.0       40.0   \n",
       "\n",
       "      PORCDOC  PORCOTRAS  FINANPOS  GESBUSEMP  PASOSEMP1  PASOSEMP2  \\\n",
       "3416     60.0        0.0       2.0        NaN        NaN        NaN   \n",
       "\n",
       "      PASOSEMP3  PASOSEMP4  PASOSEMP5  PASOSEMP6  PASOSEMP7  PASOSEMP8  \\\n",
       "3416        NaN        NaN        NaN        NaN        NaN        NaN   \n",
       "\n",
       "      PASOSEMP9  PASOSEMP10  PASOSEMP11  NOPASOSEMP1  NOPASOSEMP2  \\\n",
       "3416        NaN         NaN         NaN          NaN          NaN   \n",
       "\n",
       "      NOPASOSEMP3  NOPASOSEMP4  NOPASOSEMP5  NOPASOSEMP6  NOPASOSEMP7  \\\n",
       "3416          NaN          NaN          NaN          NaN          NaN   \n",
       "\n",
       "      NOPASOSEMP8  NOPASOSEMP9 CONT1  ANOIPAIS1  ANOFPAIS1  MESES1 CONT2  \\\n",
       "3416          NaN          NaN  EU27     2006.0     2009.0    42.0  NMOV   \n",
       "\n",
       "      ANOIPAIS2  ANOFPAIS2  MESES2 CONT3  ANOIPAIS3  ANOFPAIS3  MESES3 CONT4  \\\n",
       "3416        NaN        NaN     5.0  EU27     2000.0     2006.0    73.0  NMOV   \n",
       "\n",
       "      ANOIPAIS4  ANOFPAIS4  MESES4 CONT5  ANOIPAIS5  ANOFPAIS5  MESES5 CONT6  \\\n",
       "3416        NaN        NaN     NaN  NMOV        NaN        NaN     NaN  NMOV   \n",
       "\n",
       "      ANOIPAIS6  ANOFPAIS6  MESES6 CONT7  ANOIPAIS7  ANOFPAIS7  MESES7  \\\n",
       "3416        NaN        NaN     NaN  NMOV        NaN        NaN     NaN   \n",
       "\n",
       "     MOTFUERA1 MOTFUERA2 MOTFUERA3 MOTFUERA4 MOTFUERA5 MOTFUERA6 MOTFUERA7  \\\n",
       "3416                                       1                                 \n",
       "\n",
       "     MOTVENIR1 MOTVENIR2 MOTVENIR3 MOTVENIR4 MOTVENIR5 MOTVENIR6 MOTVENIR7  \\\n",
       "3416                             1                                           \n",
       "\n",
       "     PREVIRSE MESANTESIR MOTIRSE1 MOTIRSE2 MOTIRSE3 MOTIRSE4 MOTIRSE5  \\\n",
       "3416        3                                                           \n",
       "\n",
       "     MOTIRSE6 CONTOUT INV MOTNOINV1 MOTNOINV2 MOTNOINV3 MOTNOINV4 MOTNOINV5  \\\n",
       "3416             NMOV   1                                                     \n",
       "\n",
       "     MOTNOINV6 MOTNOINV7 MOTNOINV8 MOTNOINV9 ALGINV MOTINV1 MOTINV2 MOTINV3  \\\n",
       "3416                                                      1               1   \n",
       "\n",
       "     MOTINV4 MOTINV5 MOTINV6 MOTINV7 MOTINV8 MOTINV9 MESESINV ARTIC LIBROS  \\\n",
       "3416                       1               1               60     7      4   \n",
       "\n",
       "     NUMPAT PATNAC PATEU PATCOOP PATCOM COMPA TUTOR COOPERA INVFUT  \\\n",
       "3416      0      0     0       0      0     0     1       1      1   \n",
       "\n",
       "           FACTOR  Tmpo_doc  Tmpo_s/T  (3416, ANOFPAIS2)  (733, ANOFPAIS2)  \n",
       "3416  25.66800106       6.0       0.0                NaN               NaN  "
      ]
     },
     "execution_count": 677,
     "metadata": {},
     "output_type": "execute_result"
    }
   ],
   "source": [
    "df_doct[(df_doct['CONT2']=='NMOV')&(df_doct['MESES2'].notna())] \n",
    "# Observación peculiar: periodo intermedio en España con registros de duración no suprimidos"
   ]
  },
  {
   "cell_type": "code",
   "execution_count": 678,
   "metadata": {},
   "outputs": [
    {
     "data": {
      "text/html": [
       "<div>\n",
       "<style scoped>\n",
       "    .dataframe tbody tr th:only-of-type {\n",
       "        vertical-align: middle;\n",
       "    }\n",
       "\n",
       "    .dataframe tbody tr th {\n",
       "        vertical-align: top;\n",
       "    }\n",
       "\n",
       "    .dataframe thead tr th {\n",
       "        text-align: left;\n",
       "    }\n",
       "\n",
       "    .dataframe thead tr:last-of-type th {\n",
       "        text-align: right;\n",
       "    }\n",
       "</style>\n",
       "<table border=\"1\" class=\"dataframe\">\n",
       "  <thead>\n",
       "    <tr>\n",
       "      <th></th>\n",
       "      <th>MESES2</th>\n",
       "    </tr>\n",
       "    <tr>\n",
       "      <th></th>\n",
       "      <th>unique</th>\n",
       "    </tr>\n",
       "    <tr>\n",
       "      <th>CONT2</th>\n",
       "      <th></th>\n",
       "    </tr>\n",
       "  </thead>\n",
       "  <tbody>\n",
       "    <tr>\n",
       "      <th>AFRI</th>\n",
       "      <td>[72.0, 48.0, 4.0, 29.0, 89.0, 104.0]</td>\n",
       "    </tr>\n",
       "    <tr>\n",
       "      <th>ASIA</th>\n",
       "      <td>[3.0, 5.0, 7.0, 13.0]</td>\n",
       "    </tr>\n",
       "    <tr>\n",
       "      <th>EU27</th>\n",
       "      <td>[7.0, 81.0, 24.0, 16.0, 4.0, 3.0, 6.0, 26.0, 36.0, 92.0, 20.0, 23.0, 9.0, 8.0, 25.0, 5.0, 12.0, 13.0, 18.0, 29.0, 114.0, 45.0, 41.0, 54.0, 62.0, 34.0, 27.0, 68.0, 82.0, 37.0, 61.0, 67.0, 33.0, 32.0, 31.0, 43.0, 10.0, 35.0, 14.0, 86.0, 22.0, 15.0, 103.0, 44.0, 52.0, 17.0, 95.0, 21.0, 105.0, 40.0,...</td>\n",
       "    </tr>\n",
       "    <tr>\n",
       "      <th>EUCA</th>\n",
       "      <td>[27.0, 36.0, 8.0, 7.0, 75.0, 9.0, 28.0, 3.0, 25.0, 5.0, 12.0, 6.0, 4.0, 24.0, 10.0, 50.0, 48.0, 71.0, 43.0, 38.0, 20.0, 11.0, 13.0, 30.0, 45.0, 31.0, 19.0, 33.0, 29.0, 26.0, 14.0, 60.0, 22.0, 41.0, 17.0, 15.0, 35.0, 16.0, 42.0, 70.0, 32.0, 56.0, 72.0, 23.0, 55.0]</td>\n",
       "    </tr>\n",
       "    <tr>\n",
       "      <th>NMOV</th>\n",
       "      <td>[nan]</td>\n",
       "    </tr>\n",
       "    <tr>\n",
       "      <th>OCEA</th>\n",
       "      <td>[12.0, 7.0, 75.0, 4.0, 3.0, 6.0, 10.0]</td>\n",
       "    </tr>\n",
       "    <tr>\n",
       "      <th>RAME</th>\n",
       "      <td>[22.0, 3.0, 5.0, 4.0, 26.0, 18.0, 58.0, 35.0, 60.0, 12.0, 7.0, 32.0, 72.0, 6.0, 11.0, 61.0, 30.0, 13.0]</td>\n",
       "    </tr>\n",
       "    <tr>\n",
       "      <th>REUR</th>\n",
       "      <td>[16.0, 4.0, 3.0, 21.0, 12.0, 57.0, 11.0, 5.0, 23.0, 41.0, 13.0, 26.0, 9.0, 29.0]</td>\n",
       "    </tr>\n",
       "  </tbody>\n",
       "</table>\n",
       "</div>"
      ],
      "text/plain": [
       "                                                                                                                                                                                                                                                                                                            MESES2\n",
       "                                                                                                                                                                                                                                                                                                            unique\n",
       "CONT2                                                                                                                                                                                                                                                                                                             \n",
       "AFRI                                                                                                                                                                                                                                                                          [72.0, 48.0, 4.0, 29.0, 89.0, 104.0]\n",
       "ASIA                                                                                                                                                                                                                                                                                         [3.0, 5.0, 7.0, 13.0]\n",
       "EU27   [7.0, 81.0, 24.0, 16.0, 4.0, 3.0, 6.0, 26.0, 36.0, 92.0, 20.0, 23.0, 9.0, 8.0, 25.0, 5.0, 12.0, 13.0, 18.0, 29.0, 114.0, 45.0, 41.0, 54.0, 62.0, 34.0, 27.0, 68.0, 82.0, 37.0, 61.0, 67.0, 33.0, 32.0, 31.0, 43.0, 10.0, 35.0, 14.0, 86.0, 22.0, 15.0, 103.0, 44.0, 52.0, 17.0, 95.0, 21.0, 105.0, 40.0,...\n",
       "EUCA                                       [27.0, 36.0, 8.0, 7.0, 75.0, 9.0, 28.0, 3.0, 25.0, 5.0, 12.0, 6.0, 4.0, 24.0, 10.0, 50.0, 48.0, 71.0, 43.0, 38.0, 20.0, 11.0, 13.0, 30.0, 45.0, 31.0, 19.0, 33.0, 29.0, 26.0, 14.0, 60.0, 22.0, 41.0, 17.0, 15.0, 35.0, 16.0, 42.0, 70.0, 32.0, 56.0, 72.0, 23.0, 55.0]\n",
       "NMOV                                                                                                                                                                                                                                                                                                         [nan]\n",
       "OCEA                                                                                                                                                                                                                                                                        [12.0, 7.0, 75.0, 4.0, 3.0, 6.0, 10.0]\n",
       "RAME                                                                                                                                                                                                       [22.0, 3.0, 5.0, 4.0, 26.0, 18.0, 58.0, 35.0, 60.0, 12.0, 7.0, 32.0, 72.0, 6.0, 11.0, 61.0, 30.0, 13.0]\n",
       "REUR                                                                                                                                                                                                                              [16.0, 4.0, 3.0, 21.0, 12.0, 57.0, 11.0, 5.0, 23.0, 41.0, 13.0, 26.0, 9.0, 29.0]"
      ]
     },
     "execution_count": 678,
     "metadata": {},
     "output_type": "execute_result"
    }
   ],
   "source": [
    "# Corrección observación no homogénea: \n",
    "df_doct.loc[3416,'MESES2']=np.nan\n",
    "df_doct[['MESES2','CONT2']].groupby('CONT2').agg(['unique'])"
   ]
  },
  {
   "cell_type": "markdown",
   "metadata": {},
   "source": [
    "#### 'CONT3'\n",
    "Continente del tercer país de residencia -en orden cronológico inverso- durante al menos 3 meses en el periodo 2000-2009 (Códigos: vease la variable 'CONTNACIM', y 'NMOV' si no residió fuera de España)"
   ]
  },
  {
   "cell_type": "code",
   "execution_count": 612,
   "metadata": {},
   "outputs": [
    {
     "data": {
      "text/plain": [
       "array(['AFRI', 'ASIA', 'EU27', 'EUCA', 'NMOV', 'OCEA', 'RAME', 'REUR'],\n",
       "      dtype=object)"
      ]
     },
     "execution_count": 612,
     "metadata": {},
     "output_type": "execute_result"
    }
   ],
   "source": [
    "df_doct['CONT3'].sort_values().unique() # Blank as '   .'"
   ]
  },
  {
   "cell_type": "markdown",
   "metadata": {},
   "source": [
    "#### 'ANOIPAIS3'\n",
    "Año de inicio del tiempo de residencia en el tercer país distinto de España mencionado como de residencia al menos 3 meses en el periodo 2000-2009. "
   ]
  },
  {
   "cell_type": "code",
   "execution_count": 613,
   "metadata": {},
   "outputs": [
    {
     "data": {
      "text/plain": [
       "array(['   .', '2000', '2001', '2002', '2003', '2004', '2005', '2006',\n",
       "       '2007', '2008', '2009'], dtype=object)"
      ]
     },
     "execution_count": 613,
     "metadata": {},
     "output_type": "execute_result"
    }
   ],
   "source": [
    "df_doct['ANOIPAIS3'].sort_values().unique() # Blank as '   .'"
   ]
  },
  {
   "cell_type": "code",
   "execution_count": 614,
   "metadata": {},
   "outputs": [
    {
     "name": "stdout",
     "output_type": "stream",
     "text": [
      "                                                          ANOIPAIS3\n",
      "                                                             unique\n",
      "CONT3                                                              \n",
      "AFRI                                                   [2000, 2008]\n",
      "ASIA                                                   [2007, 2000]\n",
      "EU27   [2000, 2005, 2008, 2002, 2007, 2006, 2001, 2003, 2004, 2009]\n",
      "EUCA         [2007, 2008, 2004, 2003, 2002, 2000, 2001, 2006, 2005]\n",
      "NMOV                                                         [   .]\n",
      "OCEA                                                         [2004]\n",
      "RAME                           [2003, 2006, 2002, 2000, 2004, 2005]\n",
      "REUR                                                   [2007, 2000]\n",
      "                                                                              ANOIPAIS3\n",
      "                                                                                 unique\n",
      "CONT3                                                                                  \n",
      "AFRI                                                                   [2000.0, 2008.0]\n",
      "ASIA                                                                   [2007.0, 2000.0]\n",
      "EU27   [2000.0, 2005.0, 2008.0, 2002.0, 2007.0, 2006.0, 2001.0, 2003.0, 2004.0, 2009.0]\n",
      "EUCA           [2007.0, 2008.0, 2004.0, 2003.0, 2002.0, 2000.0, 2001.0, 2006.0, 2005.0]\n",
      "NMOV                                                                              [nan]\n",
      "OCEA                                                                           [2004.0]\n",
      "RAME                                   [2003.0, 2006.0, 2002.0, 2000.0, 2004.0, 2005.0]\n",
      "REUR                                                                   [2007.0, 2000.0]\n"
     ]
    }
   ],
   "source": [
    "re_cont('ANOIPAIS3','CONT3',blank='   .')"
   ]
  },
  {
   "cell_type": "markdown",
   "metadata": {},
   "source": [
    "#### 'ANOFPAIS3'\n",
    "Año final del tiempo de residencia en el tercer país distinto de España mencionado como de residencia al menos 3 meses en el periodo 2000-2009. "
   ]
  },
  {
   "cell_type": "code",
   "execution_count": 615,
   "metadata": {},
   "outputs": [
    {
     "data": {
      "text/plain": [
       "array(['   .', '2000', '2001', '2002', '2003', '2004', '2005', '2006',\n",
       "       '2007', '2008', '2009'], dtype=object)"
      ]
     },
     "execution_count": 615,
     "metadata": {},
     "output_type": "execute_result"
    }
   ],
   "source": [
    "df_doct['ANOFPAIS3'].sort_values().unique() # Blank as '   .'"
   ]
  },
  {
   "cell_type": "code",
   "execution_count": 616,
   "metadata": {},
   "outputs": [
    {
     "name": "stdout",
     "output_type": "stream",
     "text": [
      "                                                          ANOFPAIS3\n",
      "                                                             unique\n",
      "CONT3                                                              \n",
      "AFRI                                                   [2001, 2008]\n",
      "ASIA                                       [2007, 2000, 2008, 2006]\n",
      "EU27   [2005, 2007, 2001, 2002, 2009, 2008, 2003, 2004, 2006, 2000]\n",
      "EUCA         [2007, 2009, 2005, 2004, 2002, 2001, 2008, 2006, 2000]\n",
      "NMOV                                                         [   .]\n",
      "OCEA                                                         [2005]\n",
      "RAME                     [2006, 2008, 2002, 2000, 2003, 2005, 2007]\n",
      "REUR                                             [2008, 2001, 2002]\n",
      "                                                                              ANOFPAIS3\n",
      "                                                                                 unique\n",
      "CONT3                                                                                  \n",
      "AFRI                                                                   [2001.0, 2008.0]\n",
      "ASIA                                                   [2007.0, 2000.0, 2008.0, 2006.0]\n",
      "EU27   [2005.0, 2007.0, 2001.0, 2002.0, 2009.0, 2008.0, 2003.0, 2004.0, 2006.0, 2000.0]\n",
      "EUCA           [2007.0, 2009.0, 2005.0, 2004.0, 2002.0, 2001.0, 2008.0, 2006.0, 2000.0]\n",
      "NMOV                                                                              [nan]\n",
      "OCEA                                                                           [2005.0]\n",
      "RAME                           [2006.0, 2008.0, 2002.0, 2000.0, 2003.0, 2005.0, 2007.0]\n",
      "REUR                                                           [2008.0, 2001.0, 2002.0]\n"
     ]
    }
   ],
   "source": [
    "re_cont('ANOFPAIS3','CONT3',blank='   .')"
   ]
  },
  {
   "cell_type": "markdown",
   "metadata": {},
   "source": [
    "#### 'MESES3'\n",
    "Duración en meses del tiempo de residencia en el tercer país distinto de España mencionado como de residencia al menos 3 meses en el periodo 2000-2009. "
   ]
  },
  {
   "cell_type": "code",
   "execution_count": 617,
   "metadata": {},
   "outputs": [
    {
     "data": {
      "text/plain": [
       "array(['  .', '  2', '  3', '  4', '  5', '  6', '  7', '  8', '  9',\n",
       "       ' 10', ' 11', ' 12', ' 13', ' 14', ' 15', ' 16', ' 17', ' 18',\n",
       "       ' 19', ' 20', ' 21', ' 22', ' 23', ' 24', ' 25', ' 26', ' 27',\n",
       "       ' 28', ' 29', ' 30', ' 31', ' 32', ' 33', ' 34', ' 35', ' 36',\n",
       "       ' 37', ' 38', ' 39', ' 40', ' 41', ' 42', ' 43', ' 44', ' 45',\n",
       "       ' 46', ' 47', ' 48', ' 49', ' 50', ' 51', ' 52', ' 53', ' 54',\n",
       "       ' 55', ' 56', ' 57', ' 58', ' 59', ' 60', ' 61', ' 62', ' 64',\n",
       "       ' 65', ' 66', ' 67', ' 68', ' 69', ' 70', ' 72', ' 73', ' 74',\n",
       "       ' 75', ' 76', ' 77', ' 78', ' 79', ' 80', ' 81', ' 82', ' 83',\n",
       "       ' 85', ' 86', ' 87', ' 88', ' 89', ' 90', ' 91', ' 92', ' 93',\n",
       "       ' 96', ' 97', ' 98', '100', '101', '102', '103', '104', '105',\n",
       "       '106', '108', '109', '110', '112', '113', '114'], dtype=object)"
      ]
     },
     "execution_count": 617,
     "metadata": {},
     "output_type": "execute_result"
    }
   ],
   "source": [
    "df_doct['MESES3'].sort_values().unique() # Blank as '  .'"
   ]
  },
  {
   "cell_type": "code",
   "execution_count": 618,
   "metadata": {},
   "outputs": [
    {
     "name": "stdout",
     "output_type": "stream",
     "text": [
      "                                                                                                                                                                                                                                                                                                            MESES3\n",
      "                                                                                                                                                                                                                                                                                                            unique\n",
      "CONT3                                                                                                                                                                                                                                                                                                             \n",
      "AFRI                                                                                                                                                                                                                                                                                               [ 13,   3,   4]\n",
      "ASIA                                                                                                                                                                                                                                                                                               [  3,   7,  78]\n",
      "EU27   [ 65,  23,  13,  27,  15,  29,  10,  38,  17,  46,  55,   9,  12,  20,  50,  24,   8,  22,  72,  16,  41,  80,  44,  51,  39,  90,  96,  32,  31,  33,   5,  42,  53,  30,  43,  75,  14,  48,  36,   6,  56,  82,  83,  78,  26,   3,  57,  49,  67,  35,  89, 105,  86,   7, 100,  19,  18,   4,  77, ...\n",
      "EUCA                                                                                                                                                                                                                                                            [  7,   8,  10,  36,  12,   3,  11,   4,  22,  28]\n",
      "NMOV                                                                                                                                                                                                                                                                                                         [  .]\n",
      "OCEA                                                                                                                                                                                                                                                                                                         [  5]\n",
      "RAME                                                                                                                                                                                                                                                            [ 40,  25,  12,   5,   4,  68,  36,  22,  24,  13]\n",
      "REUR                                                                                                                                                                                                                                                                                               [ 19,  18,  33]\n",
      "                                                                                                                                                                                                                                                                                                            MESES3\n",
      "                                                                                                                                                                                                                                                                                                            unique\n",
      "CONT3                                                                                                                                                                                                                                                                                                             \n",
      "AFRI                                                                                                                                                                                                                                                                                              [13.0, 3.0, 4.0]\n",
      "ASIA                                                                                                                                                                                                                                                                                              [3.0, 7.0, 78.0]\n",
      "EU27   [65.0, 23.0, 13.0, 27.0, 15.0, 29.0, 10.0, 38.0, 17.0, 46.0, 55.0, 9.0, 12.0, 20.0, 50.0, 24.0, 8.0, 22.0, 72.0, 16.0, 41.0, 80.0, 44.0, 51.0, 39.0, 90.0, 96.0, 32.0, 31.0, 33.0, 5.0, 42.0, 53.0, 30.0, 43.0, 75.0, 14.0, 48.0, 36.0, 6.0, 56.0, 82.0, 83.0, 78.0, 26.0, 3.0, 57.0, 49.0, 67.0, 35.0, ...\n",
      "EUCA                                                                                                                                                                                                                                                      [7.0, 8.0, 10.0, 36.0, 12.0, 3.0, 11.0, 4.0, 22.0, 28.0]\n",
      "NMOV                                                                                                                                                                                                                                                                                                         [nan]\n",
      "OCEA                                                                                                                                                                                                                                                                                                         [5.0]\n",
      "RAME                                                                                                                                                                                                                                                    [40.0, 25.0, 12.0, 5.0, 4.0, 68.0, 36.0, 22.0, 24.0, 13.0]\n",
      "REUR                                                                                                                                                                                                                                                                                            [19.0, 18.0, 33.0]\n"
     ]
    }
   ],
   "source": [
    "re_cont('MESES3','CONT3',blank='  .')"
   ]
  },
  {
   "cell_type": "markdown",
   "metadata": {},
   "source": [
    "#### 'CONT4'\n",
    "Continente del cuarto país de residencia -en orden cronológico inverso- durante al menos 3 meses en el periodo 2000-2009 (Códigos: vease la variable 'CONTNACIM', y 'NMOV' si no residió fuera de España)"
   ]
  },
  {
   "cell_type": "code",
   "execution_count": 619,
   "metadata": {},
   "outputs": [
    {
     "data": {
      "text/plain": [
       "array(['AFRI', 'ASIA', 'EU27', 'EUCA', 'NMOV', 'OCEA', 'RAME', 'REUR'],\n",
       "      dtype=object)"
      ]
     },
     "execution_count": 619,
     "metadata": {},
     "output_type": "execute_result"
    }
   ],
   "source": [
    "df_doct['CONT4'].sort_values().unique() # Blank as '   .'"
   ]
  },
  {
   "cell_type": "markdown",
   "metadata": {},
   "source": [
    "#### 'ANOIPAIS4'\n",
    "Año de inicio del tiempo de residencia en el cuarto país distinto de España mencionado como de residencia al menos 3 meses en el periodo 2000-2009. "
   ]
  },
  {
   "cell_type": "code",
   "execution_count": 620,
   "metadata": {},
   "outputs": [
    {
     "data": {
      "text/plain": [
       "array(['   .', '2000', '2001', '2002', '2003', '2004', '2005', '2006',\n",
       "       '2007', '2008'], dtype=object)"
      ]
     },
     "execution_count": 620,
     "metadata": {},
     "output_type": "execute_result"
    }
   ],
   "source": [
    "df_doct['ANOIPAIS4'].sort_values().unique() # Blank as '   .'"
   ]
  },
  {
   "cell_type": "code",
   "execution_count": 623,
   "metadata": {},
   "outputs": [
    {
     "name": "stdout",
     "output_type": "stream",
     "text": [
      "                                                    ANOIPAIS4\n",
      "                                                       unique\n",
      "CONT4                                                        \n",
      "AFRI                                             [2007, 2001]\n",
      "ASIA                                       [2000, 2002, 2004]\n",
      "EU27   [2000, 2005, 2007, 2002, 2008, 2006, 2001, 2004, 2003]\n",
      "EUCA   [2004, 2000, 2008, 2003, 2005, 2002, 2006, 2007, 2001]\n",
      "NMOV                                                   [   .]\n",
      "OCEA                                       [2000, 2002, 2006]\n",
      "RAME   [2002, 2004, 2005, 2001, 2007, 2008, 2003, 2000, 2006]\n",
      "REUR                                 [2003, 2004, 2002, 2005]\n",
      "                                                                      ANOIPAIS4\n",
      "                                                                         unique\n",
      "CONT4                                                                          \n",
      "AFRI                                                           [2007.0, 2001.0]\n",
      "ASIA                                                   [2000.0, 2002.0, 2004.0]\n",
      "EU27   [2000.0, 2005.0, 2007.0, 2002.0, 2008.0, 2006.0, 2001.0, 2004.0, 2003.0]\n",
      "EUCA   [2004.0, 2000.0, 2008.0, 2003.0, 2005.0, 2002.0, 2006.0, 2007.0, 2001.0]\n",
      "NMOV                                                                      [nan]\n",
      "OCEA                                                   [2000.0, 2002.0, 2006.0]\n",
      "RAME   [2002.0, 2004.0, 2005.0, 2001.0, 2007.0, 2008.0, 2003.0, 2000.0, 2006.0]\n",
      "REUR                                           [2003.0, 2004.0, 2002.0, 2005.0]\n"
     ]
    }
   ],
   "source": [
    "re_cont('ANOIPAIS4','CONT4',blank='   .')"
   ]
  },
  {
   "cell_type": "markdown",
   "metadata": {},
   "source": [
    "#### 'ANOFPAIS4'\n",
    "Año final del tiempo de residencia en el cuarto país distinto de España mencionado como de residencia al menos 3 meses en el periodo 2000-2009. "
   ]
  },
  {
   "cell_type": "code",
   "execution_count": 622,
   "metadata": {},
   "outputs": [
    {
     "data": {
      "text/plain": [
       "array([2000., 2001., 2002., 2003., 2004., 2005., 2006., 2007., 2008.,\n",
       "         nan])"
      ]
     },
     "execution_count": 622,
     "metadata": {},
     "output_type": "execute_result"
    }
   ],
   "source": [
    "df_doct['ANOFPAIS4'].sort_values().unique() # Blank as '   .'"
   ]
  },
  {
   "cell_type": "code",
   "execution_count": 621,
   "metadata": {},
   "outputs": [
    {
     "name": "stdout",
     "output_type": "stream",
     "text": [
      "                                                    ANOFPAIS4\n",
      "                                                       unique\n",
      "CONT4                                                        \n",
      "AFRI                                             [2007, 2001]\n",
      "ASIA                                             [2002, 2005]\n",
      "EU27   [2003, 2005, 2007, 2002, 2008, 2006, 2001, 2004, 2000]\n",
      "EUCA   [2004, 2000, 2008, 2003, 2005, 2002, 2006, 2001, 2007]\n",
      "NMOV                                                   [   .]\n",
      "OCEA                                       [2000, 2002, 2006]\n",
      "RAME   [2002, 2005, 2001, 2007, 2008, 2003, 2004, 2000, 2006]\n",
      "REUR                                       [2003, 2004, 2005]\n",
      "                                                                      ANOFPAIS4\n",
      "                                                                         unique\n",
      "CONT4                                                                          \n",
      "AFRI                                                           [2007.0, 2001.0]\n",
      "ASIA                                                           [2002.0, 2005.0]\n",
      "EU27   [2003.0, 2005.0, 2007.0, 2002.0, 2008.0, 2006.0, 2001.0, 2004.0, 2000.0]\n",
      "EUCA   [2004.0, 2000.0, 2008.0, 2003.0, 2005.0, 2002.0, 2006.0, 2001.0, 2007.0]\n",
      "NMOV                                                                      [nan]\n",
      "OCEA                                                   [2000.0, 2002.0, 2006.0]\n",
      "RAME   [2002.0, 2005.0, 2001.0, 2007.0, 2008.0, 2003.0, 2004.0, 2000.0, 2006.0]\n",
      "REUR                                                   [2003.0, 2004.0, 2005.0]\n"
     ]
    }
   ],
   "source": [
    "re_cont('ANOFPAIS4','CONT4',blank='   .')"
   ]
  },
  {
   "cell_type": "markdown",
   "metadata": {},
   "source": [
    "#### 'MESES4'\n",
    "Duración en meses del tiempo de residencia en el cuarto país distinto de España mencionado como de residencia al menos 3 meses en el periodo 2000-2009. "
   ]
  },
  {
   "cell_type": "code",
   "execution_count": 625,
   "metadata": {},
   "outputs": [
    {
     "data": {
      "text/plain": [
       "array(['  .', '  3', '  4', '  5', '  6', '  7', '  8', '  9', ' 10',\n",
       "       ' 11', ' 12', ' 13', ' 14', ' 15', ' 16', ' 17', ' 18', ' 19',\n",
       "       ' 20', ' 21', ' 23', ' 24', ' 26', ' 27', ' 28', ' 29', ' 31',\n",
       "       ' 32', ' 33', ' 34', ' 35', ' 36', ' 38', ' 39', ' 44', ' 45',\n",
       "       ' 48', ' 49', ' 50', ' 53', ' 57', ' 58', ' 60', ' 76', ' 77',\n",
       "       ' 78', ' 84', ' 88', ' 92', ' 93', ' 99', '101'], dtype=object)"
      ]
     },
     "execution_count": 625,
     "metadata": {},
     "output_type": "execute_result"
    }
   ],
   "source": [
    "df_doct['MESES4'].sort_values().unique() # Blank as '  .'"
   ]
  },
  {
   "cell_type": "code",
   "execution_count": 626,
   "metadata": {},
   "outputs": [
    {
     "name": "stdout",
     "output_type": "stream",
     "text": [
      "                                                                                                                                                                                                                                                 MESES4\n",
      "                                                                                                                                                                                                                                                 unique\n",
      "CONT4                                                                                                                                                                                                                                                  \n",
      "AFRI                                                                                                                                                                                                                                         [  3,  12]\n",
      "ASIA                                                                                                                                                                                                                                    [ 31,   3,  11]\n",
      "EU27   [ 35,   3,   4,   6,   7,   5,  13,  24,  11,   9,  50,  19,  84,  36,  23,   8,  16,  88,  18,  12,  20,  76,  32,  53,  28,  49,  17,  27,  58,  14,  21,  33,  57,  48,  93,  92,  34,  26,  99,  10,  60,  77,  44,  78,  39,  38,  45, 101]\n",
      "EUCA                                                                                                                                                                                       [  4,   6,   3,  35,   5,   9,  19,   7,  13,  15,  24,  29]\n",
      "NMOV                                                                                                                                                                                                                                              [  .]\n",
      "OCEA                                                                                                                                                                                                                                    [  3,   5,   4]\n",
      "RAME                                                                                                                                                                                                      [  4,  20,   3,   9,  15,   8,   7,   5,  14]\n",
      "REUR                                                                                                                                                                                                                                    [  6,   3,   4]\n",
      "                                                                                                                                                                                                                                                                                           MESES4\n",
      "                                                                                                                                                                                                                                                                                           unique\n",
      "CONT4                                                                                                                                                                                                                                                                                            \n",
      "AFRI                                                                                                                                                                                                                                                                                  [3.0, 12.0]\n",
      "ASIA                                                                                                                                                                                                                                                                            [31.0, 3.0, 11.0]\n",
      "EU27   [35.0, 3.0, 4.0, 6.0, 7.0, 5.0, 13.0, 24.0, 11.0, 9.0, 50.0, 19.0, 84.0, 36.0, 23.0, 8.0, 16.0, 88.0, 18.0, 12.0, 20.0, 76.0, 32.0, 53.0, 28.0, 49.0, 17.0, 27.0, 58.0, 14.0, 21.0, 33.0, 57.0, 48.0, 93.0, 92.0, 34.0, 26.0, 99.0, 10.0, 60.0, 77.0, 44.0, 78.0, 39.0, 38.0, 45.0, 101.0]\n",
      "EUCA                                                                                                                                                                                                                           [4.0, 6.0, 3.0, 35.0, 5.0, 9.0, 19.0, 7.0, 13.0, 15.0, 24.0, 29.0]\n",
      "NMOV                                                                                                                                                                                                                                                                                        [nan]\n",
      "OCEA                                                                                                                                                                                                                                                                              [3.0, 5.0, 4.0]\n",
      "RAME                                                                                                                                                                                                                                             [4.0, 20.0, 3.0, 9.0, 15.0, 8.0, 7.0, 5.0, 14.0]\n",
      "REUR                                                                                                                                                                                                                                                                              [6.0, 3.0, 4.0]\n"
     ]
    }
   ],
   "source": [
    "re_cont('MESES4','CONT4',blank='  .')"
   ]
  },
  {
   "cell_type": "markdown",
   "metadata": {},
   "source": [
    "#### 'CONT5'\n",
    "Continente del quinto país de residencia -en orden cronológico inverso- durante al menos 3 meses en el periodo 2000-2009 (Códigos: vease la variable 'CONTNACIM', y 'NMOV' si no residió fuera de España)"
   ]
  },
  {
   "cell_type": "code",
   "execution_count": 627,
   "metadata": {},
   "outputs": [
    {
     "data": {
      "text/plain": [
       "array(['EU27', 'EUCA', 'NMOV', 'RAME'], dtype=object)"
      ]
     },
     "execution_count": 627,
     "metadata": {},
     "output_type": "execute_result"
    }
   ],
   "source": [
    "df_doct['CONT5'].sort_values().unique() # Blank as '   .'"
   ]
  },
  {
   "cell_type": "markdown",
   "metadata": {},
   "source": [
    "#### 'ANOIPAIS5'\n",
    "Año de inicio del tiempo de residencia en el quinto país distinto de España mencionado como de residencia al menos 3 meses en el periodo 2000-2009. "
   ]
  },
  {
   "cell_type": "code",
   "execution_count": 628,
   "metadata": {},
   "outputs": [
    {
     "data": {
      "text/plain": [
       "array(['   .', '2000', '2001', '2002', '2003', '2004', '2005', '2006',\n",
       "       '2007', '2008'], dtype=object)"
      ]
     },
     "execution_count": 628,
     "metadata": {},
     "output_type": "execute_result"
    }
   ],
   "source": [
    "df_doct['ANOIPAIS5'].sort_values().unique() # Blank as '   .'"
   ]
  },
  {
   "cell_type": "code",
   "execution_count": 629,
   "metadata": {},
   "outputs": [
    {
     "name": "stdout",
     "output_type": "stream",
     "text": [
      "                                                    ANOIPAIS5\n",
      "                                                       unique\n",
      "CONT5                                                        \n",
      "EU27   [2000, 2003, 2004, 2001, 2005, 2002, 2007, 2006, 2008]\n",
      "EUCA                                             [2007, 2000]\n",
      "NMOV                                                   [   .]\n",
      "RAME                                       [2002, 2004, 2003]\n",
      "                                                                      ANOIPAIS5\n",
      "                                                                         unique\n",
      "CONT5                                                                          \n",
      "EU27   [2000.0, 2003.0, 2004.0, 2001.0, 2005.0, 2002.0, 2007.0, 2006.0, 2008.0]\n",
      "EUCA                                                           [2007.0, 2000.0]\n",
      "NMOV                                                                      [nan]\n",
      "RAME                                                   [2002.0, 2004.0, 2003.0]\n"
     ]
    }
   ],
   "source": [
    "re_cont('ANOIPAIS5','CONT5',blank='   .')"
   ]
  },
  {
   "cell_type": "markdown",
   "metadata": {},
   "source": [
    "#### 'ANOFPAIS5'\n",
    "Año final del tiempo de residencia en el quinto país distinto de España mencionado como de residencia al menos 3 meses en el periodo 2000-2009. "
   ]
  },
  {
   "cell_type": "code",
   "execution_count": 630,
   "metadata": {},
   "outputs": [
    {
     "data": {
      "text/plain": [
       "array(['   .', '2000', '2001', '2002', '2003', '2004', '2005', '2006',\n",
       "       '2007', '2008'], dtype=object)"
      ]
     },
     "execution_count": 630,
     "metadata": {},
     "output_type": "execute_result"
    }
   ],
   "source": [
    "df_doct['ANOFPAIS5'].sort_values().unique() # Blank as '   .'"
   ]
  },
  {
   "cell_type": "code",
   "execution_count": 631,
   "metadata": {},
   "outputs": [
    {
     "name": "stdout",
     "output_type": "stream",
     "text": [
      "                                                    ANOFPAIS5\n",
      "                                                       unique\n",
      "CONT5                                                        \n",
      "EU27   [2005, 2007, 2002, 2004, 2003, 2006, 2001, 2000, 2008]\n",
      "EUCA                                       [2008, 2000, 2007]\n",
      "NMOV                                                   [   .]\n",
      "RAME                                       [2002, 2004, 2006]\n",
      "                                                                      ANOFPAIS5\n",
      "                                                                         unique\n",
      "CONT5                                                                          \n",
      "EU27   [2005.0, 2007.0, 2002.0, 2004.0, 2003.0, 2006.0, 2001.0, 2000.0, 2008.0]\n",
      "EUCA                                                   [2008.0, 2000.0, 2007.0]\n",
      "NMOV                                                                      [nan]\n",
      "RAME                                                   [2002.0, 2004.0, 2006.0]\n"
     ]
    }
   ],
   "source": [
    "re_cont('ANOFPAIS5','CONT5',blank='   .')"
   ]
  },
  {
   "cell_type": "markdown",
   "metadata": {},
   "source": [
    "#### 'MESES5'\n",
    "Duración en meses del tiempo de residencia en el quinto país distinto de España mencionado como de residencia al menos 3 meses en el periodo 2000-2009. "
   ]
  },
  {
   "cell_type": "code",
   "execution_count": 632,
   "metadata": {},
   "outputs": [
    {
     "data": {
      "text/plain": [
       "array(['  .', '  3', '  4', '  5', '  6', '  7', '  8', '  9', ' 10',\n",
       "       ' 11', ' 12', ' 13', ' 14', ' 15', ' 16', ' 17', ' 18', ' 19',\n",
       "       ' 20', ' 21', ' 22', ' 24', ' 25', ' 26', ' 27', ' 28', ' 29',\n",
       "       ' 30', ' 31', ' 32', ' 33', ' 34', ' 37', ' 38', ' 41', ' 42',\n",
       "       ' 43', ' 44', ' 45', ' 48', ' 49', ' 50', ' 51', ' 52', ' 53',\n",
       "       ' 54', ' 56', ' 60', ' 61', ' 62', ' 63', ' 64', ' 65', ' 66',\n",
       "       ' 69', ' 73', ' 74', ' 80', ' 81', ' 86', ' 89', ' 90', ' 92',\n",
       "       ' 93', '101'], dtype=object)"
      ]
     },
     "execution_count": 632,
     "metadata": {},
     "output_type": "execute_result"
    }
   ],
   "source": [
    "df_doct['MESES5'].sort_values().unique() # Blank as '  .'"
   ]
  },
  {
   "cell_type": "code",
   "execution_count": 633,
   "metadata": {},
   "outputs": [
    {
     "name": "stdout",
     "output_type": "stream",
     "text": [
      "                                                                                                                                                                                                                                                                                                            MESES5\n",
      "                                                                                                                                                                                                                                                                                                            unique\n",
      "CONT5                                                                                                                                                                                                                                                                                                             \n",
      "EU27   [ 62,  45,  22,  89,  25,   7,   9,  18,  20,  48,  31,  14,  24,  15,  21,   6,   5,  60,  54,   4,  86,  53,  29,  51,   8,  19,  65,  42,  44,  13,  32,  33,  50,  80,  16,   3,  17,  12,  64,  38,  27,  34,  26, 101,  69,  41,  92,  11,  93,  10,  90,  49,  81,  73,  66,  63,  61,  74,  30, ...\n",
      "EUCA                                                                                                                                                                                                                                                                                               [  8,   3,   4]\n",
      "NMOV                                                                                                                                                                                                                                                                                                         [  .]\n",
      "RAME                                                                                                                                                                                                                                                                                               [  5,   3,  37]\n",
      "                                                                                                                                                                                                                                                                                                            MESES5\n",
      "                                                                                                                                                                                                                                                                                                            unique\n",
      "CONT5                                                                                                                                                                                                                                                                                                             \n",
      "EU27   [62.0, 45.0, 22.0, 89.0, 25.0, 7.0, 9.0, 18.0, 20.0, 48.0, 31.0, 14.0, 24.0, 15.0, 21.0, 6.0, 5.0, 60.0, 54.0, 4.0, 86.0, 53.0, 29.0, 51.0, 8.0, 19.0, 65.0, 42.0, 44.0, 13.0, 32.0, 33.0, 50.0, 80.0, 16.0, 3.0, 17.0, 12.0, 64.0, 38.0, 27.0, 34.0, 26.0, 101.0, 69.0, 41.0, 92.0, 11.0, 93.0, 10.0, 9...\n",
      "EUCA                                                                                                                                                                                                                                                                                               [8.0, 3.0, 4.0]\n",
      "NMOV                                                                                                                                                                                                                                                                                                         [nan]\n",
      "RAME                                                                                                                                                                                                                                                                                              [5.0, 3.0, 37.0]\n"
     ]
    }
   ],
   "source": [
    "re_cont('MESES5','CONT5',blank='  .')"
   ]
  },
  {
   "cell_type": "markdown",
   "metadata": {},
   "source": [
    "#### 'CONT6'\n",
    "Continente del sexto país de residencia -en orden cronológico inverso- durante al menos 3 meses en el periodo 2000-2009 (Códigos: vease la variable 'CONTNACIM', y 'NMOV' si no residió fuera de España)"
   ]
  },
  {
   "cell_type": "code",
   "execution_count": 634,
   "metadata": {},
   "outputs": [
    {
     "data": {
      "text/plain": [
       "array(['ASIA', 'EU27', 'EUCA', 'NMOV', 'OCEA', 'RAME', 'REUR'],\n",
       "      dtype=object)"
      ]
     },
     "execution_count": 634,
     "metadata": {},
     "output_type": "execute_result"
    }
   ],
   "source": [
    "df_doct['CONT6'].sort_values().unique() # Blank as '   .'"
   ]
  },
  {
   "cell_type": "markdown",
   "metadata": {},
   "source": [
    "#### 'ANOIPAIS6'\n",
    "Año de inicio del tiempo de residencia en el sexto país distinto de España mencionado como de residencia al menos 3 meses en el periodo 2000-2009. "
   ]
  },
  {
   "cell_type": "code",
   "execution_count": 635,
   "metadata": {},
   "outputs": [
    {
     "data": {
      "text/plain": [
       "array(['   .', '2000', '2001', '2002', '2003', '2004', '2005', '2006',\n",
       "       '2007'], dtype=object)"
      ]
     },
     "execution_count": 635,
     "metadata": {},
     "output_type": "execute_result"
    }
   ],
   "source": [
    "df_doct['ANOIPAIS6'].sort_values().unique() # Blank as '   .'"
   ]
  },
  {
   "cell_type": "code",
   "execution_count": 636,
   "metadata": {},
   "outputs": [
    {
     "name": "stdout",
     "output_type": "stream",
     "text": [
      "                                              ANOIPAIS6\n",
      "                                                 unique\n",
      "CONT6                                                  \n",
      "ASIA                                             [2000]\n",
      "EU27   [2000, 2003, 2004, 2002, 2001, 2006, 2005, 2007]\n",
      "EUCA   [2003, 2000, 2007, 2001, 2004, 2002, 2005, 2006]\n",
      "NMOV                                             [   .]\n",
      "OCEA                                             [2005]\n",
      "RAME                     [2002, 2000, 2005, 2006, 2001]\n",
      "REUR                                       [2003, 2004]\n",
      "                                                              ANOIPAIS6\n",
      "                                                                 unique\n",
      "CONT6                                                                  \n",
      "ASIA                                                           [2000.0]\n",
      "EU27   [2000.0, 2003.0, 2004.0, 2002.0, 2001.0, 2006.0, 2005.0, 2007.0]\n",
      "EUCA   [2003.0, 2000.0, 2007.0, 2001.0, 2004.0, 2002.0, 2005.0, 2006.0]\n",
      "NMOV                                                              [nan]\n",
      "OCEA                                                           [2005.0]\n",
      "RAME                           [2002.0, 2000.0, 2005.0, 2006.0, 2001.0]\n",
      "REUR                                                   [2003.0, 2004.0]\n"
     ]
    }
   ],
   "source": [
    "re_cont('ANOIPAIS6','CONT6',blank='   .')"
   ]
  },
  {
   "cell_type": "markdown",
   "metadata": {},
   "source": [
    "#### 'ANOFPAIS6'\n",
    "Año final del tiempo de residencia en el sexto país distinto de España mencionado como de residencia al menos 3 meses en el periodo 2000-2009. "
   ]
  },
  {
   "cell_type": "code",
   "execution_count": 637,
   "metadata": {},
   "outputs": [
    {
     "data": {
      "text/plain": [
       "array(['   .', '2000', '2001', '2002', '2003', '2004', '2005', '2006',\n",
       "       '2007'], dtype=object)"
      ]
     },
     "execution_count": 637,
     "metadata": {},
     "output_type": "execute_result"
    }
   ],
   "source": [
    "df_doct['ANOFPAIS6'].sort_values().unique() # Blank as '   .'"
   ]
  },
  {
   "cell_type": "code",
   "execution_count": 638,
   "metadata": {},
   "outputs": [
    {
     "name": "stdout",
     "output_type": "stream",
     "text": [
      "                                              ANOFPAIS6\n",
      "                                                 unique\n",
      "CONT6                                                  \n",
      "ASIA                                             [2001]\n",
      "EU27   [2000, 2003, 2004, 2001, 2002, 2006, 2007, 2005]\n",
      "EUCA         [2003, 2000, 2007, 2001, 2004, 2005, 2002]\n",
      "NMOV                                             [   .]\n",
      "OCEA                                             [2005]\n",
      "RAME                     [2002, 2000, 2001, 2005, 2006]\n",
      "REUR                                       [2003, 2004]\n",
      "                                                              ANOFPAIS6\n",
      "                                                                 unique\n",
      "CONT6                                                                  \n",
      "ASIA                                                           [2001.0]\n",
      "EU27   [2000.0, 2003.0, 2004.0, 2001.0, 2002.0, 2006.0, 2007.0, 2005.0]\n",
      "EUCA           [2003.0, 2000.0, 2007.0, 2001.0, 2004.0, 2005.0, 2002.0]\n",
      "NMOV                                                              [nan]\n",
      "OCEA                                                           [2005.0]\n",
      "RAME                           [2002.0, 2000.0, 2001.0, 2005.0, 2006.0]\n",
      "REUR                                                   [2003.0, 2004.0]\n"
     ]
    }
   ],
   "source": [
    "re_cont('ANOFPAIS6','CONT6',blank='   .')"
   ]
  },
  {
   "cell_type": "markdown",
   "metadata": {},
   "source": [
    "#### 'MESES6'\n",
    "Duración en meses del tiempo de residencia en el sexto país distinto de España mencionado como de residencia al menos 3 meses en el periodo 2000-2009. "
   ]
  },
  {
   "cell_type": "code",
   "execution_count": 639,
   "metadata": {},
   "outputs": [
    {
     "data": {
      "text/plain": [
       "array(['  .', '  3', '  4', '  5', '  6', '  7', '  8', '  9', ' 11',\n",
       "       ' 12', ' 16', ' 18', ' 19', ' 20', ' 21', ' 30', ' 31', ' 37',\n",
       "       ' 41', ' 53', ' 57', ' 58', ' 88'], dtype=object)"
      ]
     },
     "execution_count": 639,
     "metadata": {},
     "output_type": "execute_result"
    }
   ],
   "source": [
    "df_doct['MESES6'].sort_values().unique() # Blank as '  .'"
   ]
  },
  {
   "cell_type": "code",
   "execution_count": 641,
   "metadata": {},
   "outputs": [
    {
     "name": "stdout",
     "output_type": "stream",
     "text": [
      "                                                                                                          MESES6\n",
      "                                                                                                          unique\n",
      "CONT6                                                                                                           \n",
      "ASIA                                                                                                       [ 12]\n",
      "EU27   [  3,   7,  57,   4,  53,   5,  41,  31,   9,  12,  19,   6,  58,  18,  88,  20,  21,  30,  37,  16,   8]\n",
      "EUCA                                                                    [  3,   4,   5,   6,   9,  19,  11,   7]\n",
      "NMOV                                                                                                       [  .]\n",
      "OCEA                                                                                                       [  3]\n",
      "RAME                                                                                   [  4,   3,  20,   6,   5]\n",
      "REUR                                                                                                  [  3,   4]\n",
      "                                                                                                                        MESES6\n",
      "                                                                                                                        unique\n",
      "CONT6                                                                                                                         \n",
      "ASIA                                                                                                                    [12.0]\n",
      "EU27   [3.0, 7.0, 57.0, 4.0, 53.0, 5.0, 41.0, 31.0, 9.0, 12.0, 19.0, 6.0, 58.0, 18.0, 88.0, 20.0, 21.0, 30.0, 37.0, 16.0, 8.0]\n",
      "EUCA                                                                                [3.0, 4.0, 5.0, 6.0, 9.0, 19.0, 11.0, 7.0]\n",
      "NMOV                                                                                                                     [nan]\n",
      "OCEA                                                                                                                     [3.0]\n",
      "RAME                                                                                                [4.0, 3.0, 20.0, 6.0, 5.0]\n",
      "REUR                                                                                                                [3.0, 4.0]\n"
     ]
    }
   ],
   "source": [
    "re_cont('MESES6','CONT6',blank='  .')"
   ]
  },
  {
   "cell_type": "markdown",
   "metadata": {},
   "source": [
    "#### 'CONT7'\n",
    "Continente del séptimo país de residencia -en orden cronológico inverso- durante al menos 3 meses en el periodo 2000-2009 (Códigos: vease la variable 'CONTNACIM', y 'NMOV' si no residió fuera de España)"
   ]
  },
  {
   "cell_type": "code",
   "execution_count": 642,
   "metadata": {},
   "outputs": [
    {
     "data": {
      "text/plain": [
       "array(['AFRI', 'EU27', 'EUCA', 'NMOV'], dtype=object)"
      ]
     },
     "execution_count": 642,
     "metadata": {},
     "output_type": "execute_result"
    }
   ],
   "source": [
    "df_doct['CONT7'].sort_values().unique() # Blank as '   .'"
   ]
  },
  {
   "cell_type": "markdown",
   "metadata": {},
   "source": [
    "#### 'ANOIPAIS7'\n",
    "Año de inicio del tiempo de residencia en el séptimo país distinto de España mencionado como de residencia al menos 3 meses en el periodo 2000-2009. "
   ]
  },
  {
   "cell_type": "code",
   "execution_count": 643,
   "metadata": {},
   "outputs": [
    {
     "data": {
      "text/plain": [
       "array(['   .', '2000', '2001', '2002', '2003', '2004', '2005', '2006'],\n",
       "      dtype=object)"
      ]
     },
     "execution_count": 643,
     "metadata": {},
     "output_type": "execute_result"
    }
   ],
   "source": [
    "df_doct['ANOIPAIS7'].sort_values().unique() # Blank as '   .'"
   ]
  },
  {
   "cell_type": "code",
   "execution_count": 644,
   "metadata": {},
   "outputs": [
    {
     "name": "stdout",
     "output_type": "stream",
     "text": [
      "                                        ANOIPAIS7\n",
      "                                           unique\n",
      "CONT7                                            \n",
      "AFRI                                       [2005]\n",
      "EU27   [2000, 2001, 2003, 2006, 2004, 2005, 2002]\n",
      "EUCA                                       [2006]\n",
      "NMOV                                       [   .]\n",
      "                                                      ANOIPAIS7\n",
      "                                                         unique\n",
      "CONT7                                                          \n",
      "AFRI                                                   [2005.0]\n",
      "EU27   [2000.0, 2001.0, 2003.0, 2006.0, 2004.0, 2005.0, 2002.0]\n",
      "EUCA                                                   [2006.0]\n",
      "NMOV                                                      [nan]\n"
     ]
    }
   ],
   "source": [
    "re_cont('ANOIPAIS7','CONT7',blank='   .')"
   ]
  },
  {
   "cell_type": "markdown",
   "metadata": {},
   "source": [
    "#### 'ANOFPAIS7'\n",
    "Año final del tiempo de residencia en el séptimo país distinto de España mencionado como de residencia al menos 3 meses en el periodo 2000-2009. "
   ]
  },
  {
   "cell_type": "code",
   "execution_count": 645,
   "metadata": {},
   "outputs": [
    {
     "data": {
      "text/plain": [
       "array(['   .', '2000', '2001', '2002', '2003', '2004', '2005', '2006',\n",
       "       '2007'], dtype=object)"
      ]
     },
     "execution_count": 645,
     "metadata": {},
     "output_type": "execute_result"
    }
   ],
   "source": [
    "df_doct['ANOFPAIS7'].sort_values().unique() # Blank as '   .'"
   ]
  },
  {
   "cell_type": "code",
   "execution_count": 646,
   "metadata": {},
   "outputs": [
    {
     "name": "stdout",
     "output_type": "stream",
     "text": [
      "                                              ANOFPAIS7\n",
      "                                                 unique\n",
      "CONT7                                                  \n",
      "AFRI                                             [2005]\n",
      "EU27   [2003, 2002, 2000, 2004, 2006, 2001, 2005, 2007]\n",
      "EUCA                                             [2007]\n",
      "NMOV                                             [   .]\n",
      "                                                              ANOFPAIS7\n",
      "                                                                 unique\n",
      "CONT7                                                                  \n",
      "AFRI                                                           [2005.0]\n",
      "EU27   [2003.0, 2002.0, 2000.0, 2004.0, 2006.0, 2001.0, 2005.0, 2007.0]\n",
      "EUCA                                                           [2007.0]\n",
      "NMOV                                                              [nan]\n"
     ]
    }
   ],
   "source": [
    "re_cont('ANOFPAIS7','CONT7',blank='   .')"
   ]
  },
  {
   "cell_type": "markdown",
   "metadata": {},
   "source": [
    "#### 'MESES7'\n",
    "Duración en meses del tiempo de residencia en el septimo país distinto de España mencionado como de residencia al menos 3 meses en el periodo 2000-2009. "
   ]
  },
  {
   "cell_type": "code",
   "execution_count": 647,
   "metadata": {},
   "outputs": [
    {
     "data": {
      "text/plain": [
       "array(['  .', '  3', '  4', '  5', '  6', '  7', '  8', '  9', ' 10',\n",
       "       ' 11', ' 12', ' 17', ' 19', ' 20', ' 23', ' 24', ' 27', ' 29',\n",
       "       ' 30', ' 31', ' 32', ' 36', ' 37', ' 41', ' 42', ' 44', ' 48',\n",
       "       ' 51', ' 52', ' 53', ' 56', ' 60', ' 63', ' 64', ' 69', ' 86'],\n",
       "      dtype=object)"
      ]
     },
     "execution_count": 647,
     "metadata": {},
     "output_type": "execute_result"
    }
   ],
   "source": [
    "df_doct['MESES7'].sort_values().unique() # Blank as '  .'"
   ]
  },
  {
   "cell_type": "code",
   "execution_count": 648,
   "metadata": {},
   "outputs": [
    {
     "name": "stdout",
     "output_type": "stream",
     "text": [
      "                                                                                                                                                                                MESES7\n",
      "                                                                                                                                                                                unique\n",
      "CONT7                                                                                                                                                                                 \n",
      "AFRI                                                                                                                                                                             [  4]\n",
      "EU27   [ 44,  36,  23,  32,  10,   9,  27,   7,   8,  20,  37,  19,  63,  30,   6,   4,  24,  48,  17,  60,  31,  41,  11,  12,  51,   5,  53,  29,  42,   3,  86,  69,  52,  64,  56]\n",
      "EUCA                                                                                                                                                                             [  8]\n",
      "NMOV                                                                                                                                                                             [  .]\n",
      "                                                                                                                                                                                                            MESES7\n",
      "                                                                                                                                                                                                            unique\n",
      "CONT7                                                                                                                                                                                                             \n",
      "AFRI                                                                                                                                                                                                         [4.0]\n",
      "EU27   [44.0, 36.0, 23.0, 32.0, 10.0, 9.0, 27.0, 7.0, 8.0, 20.0, 37.0, 19.0, 63.0, 30.0, 6.0, 4.0, 24.0, 48.0, 17.0, 60.0, 31.0, 41.0, 11.0, 12.0, 51.0, 5.0, 53.0, 29.0, 42.0, 3.0, 86.0, 69.0, 52.0, 64.0, 56.0]\n",
      "EUCA                                                                                                                                                                                                         [8.0]\n",
      "NMOV                                                                                                                                                                                                         [nan]\n"
     ]
    }
   ],
   "source": [
    "re_cont('MESES7','CONT7',blank='  .')"
   ]
  },
  {
   "cell_type": "markdown",
   "metadata": {},
   "source": [
    "#### 'MOTFUERA1'\n",
    "(Solo si se fue a vivir fuera de España en el periodo 2000-2009)  \n",
    "¿**Realizar el doctorado** fue un motivo para vivir fuera de España en el periodo 2000-2009?"
   ]
  },
  {
   "cell_type": "code",
   "execution_count": 769,
   "metadata": {},
   "outputs": [
    {
     "data": {
      "text/plain": [
       "array([' ', '1'], dtype=object)"
      ]
     },
     "execution_count": 769,
     "metadata": {},
     "output_type": "execute_result"
    }
   ],
   "source": [
    "df_doct['MOTFUERA1'].sort_values().unique() # Blank as ' '"
   ]
  },
  {
   "cell_type": "code",
   "execution_count": 770,
   "metadata": {},
   "outputs": [
    {
     "data": {
      "text/html": [
       "<div>\n",
       "<style scoped>\n",
       "    .dataframe tbody tr th:only-of-type {\n",
       "        vertical-align: middle;\n",
       "    }\n",
       "\n",
       "    .dataframe tbody tr th {\n",
       "        vertical-align: top;\n",
       "    }\n",
       "\n",
       "    .dataframe thead tr th {\n",
       "        text-align: left;\n",
       "    }\n",
       "\n",
       "    .dataframe thead tr:last-of-type th {\n",
       "        text-align: right;\n",
       "    }\n",
       "</style>\n",
       "<table border=\"1\" class=\"dataframe\">\n",
       "  <thead>\n",
       "    <tr>\n",
       "      <th></th>\n",
       "      <th>CONT1</th>\n",
       "      <th>CONT2</th>\n",
       "      <th>CONT3</th>\n",
       "      <th>CONT4</th>\n",
       "      <th>CONT5</th>\n",
       "      <th>CONT6</th>\n",
       "      <th>CONT7</th>\n",
       "    </tr>\n",
       "    <tr>\n",
       "      <th></th>\n",
       "      <th>unique</th>\n",
       "      <th>unique</th>\n",
       "      <th>unique</th>\n",
       "      <th>unique</th>\n",
       "      <th>unique</th>\n",
       "      <th>unique</th>\n",
       "      <th>unique</th>\n",
       "    </tr>\n",
       "    <tr>\n",
       "      <th>MOTFUERA1</th>\n",
       "      <th></th>\n",
       "      <th></th>\n",
       "      <th></th>\n",
       "      <th></th>\n",
       "      <th></th>\n",
       "      <th></th>\n",
       "      <th></th>\n",
       "    </tr>\n",
       "  </thead>\n",
       "  <tbody>\n",
       "    <tr>\n",
       "      <th></th>\n",
       "      <td>[NMOV, EU27, RAME, EUCA, REUR, AFRI, OCEA, ASIA]</td>\n",
       "      <td>[NMOV, EU27, EUCA, RAME, REUR, AFRI, OCEA, ASIA]</td>\n",
       "      <td>[NMOV, EU27, RAME, AFRI, REUR, EUCA, ASIA]</td>\n",
       "      <td>[NMOV, EU27, RAME, EUCA, REUR, OCEA, ASIA, AFRI]</td>\n",
       "      <td>[NMOV, EU27, EUCA, RAME]</td>\n",
       "      <td>[NMOV, EU27, EUCA, ASIA, RAME, OCEA]</td>\n",
       "      <td>[NMOV, EU27, EUCA, AFRI]</td>\n",
       "    </tr>\n",
       "    <tr>\n",
       "      <th>1</th>\n",
       "      <td>[EU27, REUR, EUCA]</td>\n",
       "      <td>[EU27, EUCA, RAME, REUR, ASIA]</td>\n",
       "      <td>[EU27, NMOV, OCEA, EUCA, RAME]</td>\n",
       "      <td>[NMOV, EU27, EUCA, RAME, REUR, ASIA]</td>\n",
       "      <td>[NMOV, EU27, EUCA, RAME]</td>\n",
       "      <td>[NMOV, EUCA, EU27, RAME, REUR]</td>\n",
       "      <td>[NMOV, EU27]</td>\n",
       "    </tr>\n",
       "  </tbody>\n",
       "</table>\n",
       "</div>"
      ],
      "text/plain": [
       "                                                      CONT1  \\\n",
       "                                                     unique   \n",
       "MOTFUERA1                                                     \n",
       "           [NMOV, EU27, RAME, EUCA, REUR, AFRI, OCEA, ASIA]   \n",
       "1                                        [EU27, REUR, EUCA]   \n",
       "\n",
       "                                                      CONT2  \\\n",
       "                                                     unique   \n",
       "MOTFUERA1                                                     \n",
       "           [NMOV, EU27, EUCA, RAME, REUR, AFRI, OCEA, ASIA]   \n",
       "1                            [EU27, EUCA, RAME, REUR, ASIA]   \n",
       "\n",
       "                                                CONT3  \\\n",
       "                                               unique   \n",
       "MOTFUERA1                                               \n",
       "           [NMOV, EU27, RAME, AFRI, REUR, EUCA, ASIA]   \n",
       "1                      [EU27, NMOV, OCEA, EUCA, RAME]   \n",
       "\n",
       "                                                      CONT4  \\\n",
       "                                                     unique   \n",
       "MOTFUERA1                                                     \n",
       "           [NMOV, EU27, RAME, EUCA, REUR, OCEA, ASIA, AFRI]   \n",
       "1                      [NMOV, EU27, EUCA, RAME, REUR, ASIA]   \n",
       "\n",
       "                              CONT5                                 CONT6  \\\n",
       "                             unique                                unique   \n",
       "MOTFUERA1                                                                   \n",
       "           [NMOV, EU27, EUCA, RAME]  [NMOV, EU27, EUCA, ASIA, RAME, OCEA]   \n",
       "1          [NMOV, EU27, EUCA, RAME]        [NMOV, EUCA, EU27, RAME, REUR]   \n",
       "\n",
       "                              CONT7  \n",
       "                             unique  \n",
       "MOTFUERA1                            \n",
       "           [NMOV, EU27, EUCA, AFRI]  \n",
       "1                      [NMOV, EU27]  "
      ]
     },
     "execution_count": 770,
     "metadata": {},
     "output_type": "execute_result"
    }
   ],
   "source": [
    "df_doct[['CONT1','CONT2','CONT3','CONT4','CONT5','CONT6','CONT7','MOTFUERA1']].groupby('MOTFUERA1').agg(['unique'])"
   ]
  },
  {
   "cell_type": "code",
   "execution_count": 771,
   "metadata": {},
   "outputs": [],
   "source": [
    "def motfuera(col):\n",
    "    # Se imputa respuesta No (0) si fue preguntado y no respondió Sí: \n",
    "    df_doct[col].mask(((df_doct['CONT1']!='NMOV')|(df_doct['CONT2']!='NMOV')|(df_doct['CONT3']!='NMOV')\n",
    "                             |(df_doct['CONT4']!='NMOV')|(df_doct['CONT5']!='NMOV')|(df_doct['CONT6']!='NMOV')\n",
    "                             |(df_doct['CONT7']!='NMOV'))\n",
    "                      &(df_doct[col]!='1'),0,inplace=True)\n",
    "    # Se imputa None a quien no fue preguntado: \n",
    "    df_doct[col].where((df_doct[col]==0)|(df_doct[col]=='1'),None, inplace=True)\n",
    "    df_doct[col]=df_doct[col].astype('float')\n",
    "    return"
   ]
  },
  {
   "cell_type": "code",
   "execution_count": 772,
   "metadata": {},
   "outputs": [],
   "source": [
    "motfuera('MOTFUERA1')"
   ]
  },
  {
   "cell_type": "code",
   "execution_count": 773,
   "metadata": {},
   "outputs": [
    {
     "data": {
      "text/html": [
       "<div>\n",
       "<style scoped>\n",
       "    .dataframe tbody tr th:only-of-type {\n",
       "        vertical-align: middle;\n",
       "    }\n",
       "\n",
       "    .dataframe tbody tr th {\n",
       "        vertical-align: top;\n",
       "    }\n",
       "\n",
       "    .dataframe thead tr th {\n",
       "        text-align: left;\n",
       "    }\n",
       "\n",
       "    .dataframe thead tr:last-of-type th {\n",
       "        text-align: right;\n",
       "    }\n",
       "</style>\n",
       "<table border=\"1\" class=\"dataframe\">\n",
       "  <thead>\n",
       "    <tr>\n",
       "      <th></th>\n",
       "      <th>CONT1</th>\n",
       "      <th>CONT2</th>\n",
       "      <th>CONT3</th>\n",
       "      <th>CONT4</th>\n",
       "      <th>CONT5</th>\n",
       "      <th>CONT6</th>\n",
       "      <th>CONT7</th>\n",
       "    </tr>\n",
       "    <tr>\n",
       "      <th></th>\n",
       "      <th>unique</th>\n",
       "      <th>unique</th>\n",
       "      <th>unique</th>\n",
       "      <th>unique</th>\n",
       "      <th>unique</th>\n",
       "      <th>unique</th>\n",
       "      <th>unique</th>\n",
       "    </tr>\n",
       "    <tr>\n",
       "      <th>MOTFUERA1</th>\n",
       "      <th></th>\n",
       "      <th></th>\n",
       "      <th></th>\n",
       "      <th></th>\n",
       "      <th></th>\n",
       "      <th></th>\n",
       "      <th></th>\n",
       "    </tr>\n",
       "  </thead>\n",
       "  <tbody>\n",
       "    <tr>\n",
       "      <th>0.0</th>\n",
       "      <td>[EU27, RAME, EUCA, REUR, AFRI, OCEA, ASIA]</td>\n",
       "      <td>[EU27, EUCA, RAME, REUR, AFRI, NMOV, OCEA, ASIA]</td>\n",
       "      <td>[EU27, RAME, NMOV, AFRI, REUR, EUCA, ASIA]</td>\n",
       "      <td>[NMOV, EU27, RAME, EUCA, REUR, OCEA, ASIA, AFRI]</td>\n",
       "      <td>[NMOV, EU27, EUCA, RAME]</td>\n",
       "      <td>[NMOV, EU27, EUCA, ASIA, RAME, OCEA]</td>\n",
       "      <td>[NMOV, EU27, EUCA, AFRI]</td>\n",
       "    </tr>\n",
       "    <tr>\n",
       "      <th>1.0</th>\n",
       "      <td>[EU27, REUR, EUCA]</td>\n",
       "      <td>[EU27, EUCA, RAME, REUR, ASIA]</td>\n",
       "      <td>[EU27, NMOV, OCEA, EUCA, RAME]</td>\n",
       "      <td>[NMOV, EU27, EUCA, RAME, REUR, ASIA]</td>\n",
       "      <td>[NMOV, EU27, EUCA, RAME]</td>\n",
       "      <td>[NMOV, EUCA, EU27, RAME, REUR]</td>\n",
       "      <td>[NMOV, EU27]</td>\n",
       "    </tr>\n",
       "  </tbody>\n",
       "</table>\n",
       "</div>"
      ],
      "text/plain": [
       "                                                CONT1  \\\n",
       "                                               unique   \n",
       "MOTFUERA1                                               \n",
       "0.0        [EU27, RAME, EUCA, REUR, AFRI, OCEA, ASIA]   \n",
       "1.0                                [EU27, REUR, EUCA]   \n",
       "\n",
       "                                                      CONT2  \\\n",
       "                                                     unique   \n",
       "MOTFUERA1                                                     \n",
       "0.0        [EU27, EUCA, RAME, REUR, AFRI, NMOV, OCEA, ASIA]   \n",
       "1.0                          [EU27, EUCA, RAME, REUR, ASIA]   \n",
       "\n",
       "                                                CONT3  \\\n",
       "                                               unique   \n",
       "MOTFUERA1                                               \n",
       "0.0        [EU27, RAME, NMOV, AFRI, REUR, EUCA, ASIA]   \n",
       "1.0                    [EU27, NMOV, OCEA, EUCA, RAME]   \n",
       "\n",
       "                                                      CONT4  \\\n",
       "                                                     unique   \n",
       "MOTFUERA1                                                     \n",
       "0.0        [NMOV, EU27, RAME, EUCA, REUR, OCEA, ASIA, AFRI]   \n",
       "1.0                    [NMOV, EU27, EUCA, RAME, REUR, ASIA]   \n",
       "\n",
       "                              CONT5                                 CONT6  \\\n",
       "                             unique                                unique   \n",
       "MOTFUERA1                                                                   \n",
       "0.0        [NMOV, EU27, EUCA, RAME]  [NMOV, EU27, EUCA, ASIA, RAME, OCEA]   \n",
       "1.0        [NMOV, EU27, EUCA, RAME]        [NMOV, EUCA, EU27, RAME, REUR]   \n",
       "\n",
       "                              CONT7  \n",
       "                             unique  \n",
       "MOTFUERA1                            \n",
       "0.0        [NMOV, EU27, EUCA, AFRI]  \n",
       "1.0                    [NMOV, EU27]  "
      ]
     },
     "execution_count": 773,
     "metadata": {},
     "output_type": "execute_result"
    }
   ],
   "source": [
    "df_doct[['CONT1','CONT2','CONT3','CONT4','CONT5','CONT6','CONT7','MOTFUERA1']].groupby('MOTFUERA1').agg(['unique'])"
   ]
  },
  {
   "cell_type": "code",
   "execution_count": 774,
   "metadata": {},
   "outputs": [
    {
     "data": {
      "text/plain": [
       "array([ 0.,  1., nan])"
      ]
     },
     "execution_count": 774,
     "metadata": {},
     "output_type": "execute_result"
    }
   ],
   "source": [
    "df_doct['MOTFUERA1'].sort_values().unique()"
   ]
  },
  {
   "cell_type": "markdown",
   "metadata": {},
   "source": [
    "#### 'MOTFUERA2'\n",
    "(Solo si se fue a vivir fuera de España en el periodo 2000-2009)  \n",
    "¿**Finalizar el postdoctorado o un contrato de trabajo** fue un motivo para vivir fuera de España en el periodo 2000-2009?"
   ]
  },
  {
   "cell_type": "code",
   "execution_count": 776,
   "metadata": {},
   "outputs": [
    {
     "data": {
      "text/plain": [
       "array([' ', '1'], dtype=object)"
      ]
     },
     "execution_count": 776,
     "metadata": {},
     "output_type": "execute_result"
    }
   ],
   "source": [
    "df_doct['MOTFUERA2'].sort_values().unique() # Blank as ' '"
   ]
  },
  {
   "cell_type": "code",
   "execution_count": 777,
   "metadata": {},
   "outputs": [
    {
     "data": {
      "text/plain": [
       "array([ 0.,  1., nan])"
      ]
     },
     "execution_count": 777,
     "metadata": {},
     "output_type": "execute_result"
    }
   ],
   "source": [
    "motfuera('MOTFUERA2')\n",
    "df_doct['MOTFUERA2'].sort_values().unique()"
   ]
  },
  {
   "cell_type": "markdown",
   "metadata": {},
   "source": [
    "#### 'MOTFUERA3'\n",
    "(Solo si se fue a vivir fuera de España en el periodo 2000-2009)  \n",
    "¿Fueron **otros factores relacionados con el empleo o económicos** (traslado laboral porel mismo organismo o empresa, cambio de empleo, garantía u oferta de trabajo, o realización de un postdoctorado) motivos para vivir fuera de España en el periodo 2000-2009?"
   ]
  },
  {
   "cell_type": "code",
   "execution_count": 778,
   "metadata": {},
   "outputs": [
    {
     "data": {
      "text/plain": [
       "array([' ', '1'], dtype=object)"
      ]
     },
     "execution_count": 778,
     "metadata": {},
     "output_type": "execute_result"
    }
   ],
   "source": [
    "df_doct['MOTFUERA3'].sort_values().unique() # Blank as ' '"
   ]
  },
  {
   "cell_type": "code",
   "execution_count": 779,
   "metadata": {},
   "outputs": [
    {
     "data": {
      "text/plain": [
       "array([ 0.,  1., nan])"
      ]
     },
     "execution_count": 779,
     "metadata": {},
     "output_type": "execute_result"
    }
   ],
   "source": [
    "motfuera('MOTFUERA3')\n",
    "df_doct['MOTFUERA3'].sort_values().unique()"
   ]
  },
  {
   "cell_type": "markdown",
   "metadata": {},
   "source": [
    "#### 'MOTFUERA4'\n",
    "(Solo si se fue a vivir fuera de España en el periodo 2000-2009)  \n",
    "¿Fueron **factores académicos** (mayor posibilidad de realizar publicaciones, desarrollo o continuidad de la tesis doctoral, trabajar en un área específica no existente en el país de origen, creación de un equipo propio o una nueva área de investigación) motivos para vivir fuera de España en el periodo 2000-2009?"
   ]
  },
  {
   "cell_type": "code",
   "execution_count": 780,
   "metadata": {},
   "outputs": [
    {
     "data": {
      "text/plain": [
       "array([' ', '1'], dtype=object)"
      ]
     },
     "execution_count": 780,
     "metadata": {},
     "output_type": "execute_result"
    }
   ],
   "source": [
    "df_doct['MOTFUERA4'].sort_values().unique() # Blank as ' '"
   ]
  },
  {
   "cell_type": "code",
   "execution_count": 781,
   "metadata": {},
   "outputs": [
    {
     "data": {
      "text/plain": [
       "array([ 0.,  1., nan])"
      ]
     },
     "execution_count": 781,
     "metadata": {},
     "output_type": "execute_result"
    }
   ],
   "source": [
    "motfuera('MOTFUERA4')\n",
    "df_doct['MOTFUERA4'].sort_values().unique()"
   ]
  },
  {
   "cell_type": "markdown",
   "metadata": {},
   "source": [
    "#### 'MOTFUERA5'\n",
    "(Solo si se fue a vivir fuera de España en el periodo 2000-2009)  \n",
    "¿Fueron **factores personales o familiares** motivos para vivir fuera de España en el periodo 2000-2009?"
   ]
  },
  {
   "cell_type": "code",
   "execution_count": 782,
   "metadata": {},
   "outputs": [
    {
     "data": {
      "text/plain": [
       "array([' ', '1'], dtype=object)"
      ]
     },
     "execution_count": 782,
     "metadata": {},
     "output_type": "execute_result"
    }
   ],
   "source": [
    "df_doct['MOTFUERA5'].sort_values().unique() # Blank as ' '"
   ]
  },
  {
   "cell_type": "code",
   "execution_count": 783,
   "metadata": {},
   "outputs": [
    {
     "data": {
      "text/plain": [
       "array([ 0.,  1., nan])"
      ]
     },
     "execution_count": 783,
     "metadata": {},
     "output_type": "execute_result"
    }
   ],
   "source": [
    "motfuera('MOTFUERA5')\n",
    "df_doct['MOTFUERA5'].sort_values().unique()"
   ]
  },
  {
   "cell_type": "markdown",
   "metadata": {},
   "source": [
    "#### 'MOTFUERA6'\n",
    "(Solo si se fue a vivir fuera de España en el periodo 2000-2009)  \n",
    "¿Fueron **factores políticos o administrativos** (finalización de permiso de residencia o visado, etc.) motivos para vivir fuera de España en el periodo 2000-2009?"
   ]
  },
  {
   "cell_type": "code",
   "execution_count": 784,
   "metadata": {},
   "outputs": [
    {
     "data": {
      "text/plain": [
       "array([' ', '1'], dtype=object)"
      ]
     },
     "execution_count": 784,
     "metadata": {},
     "output_type": "execute_result"
    }
   ],
   "source": [
    "df_doct['MOTFUERA6'].sort_values().unique() # Blank as ' '"
   ]
  },
  {
   "cell_type": "code",
   "execution_count": 785,
   "metadata": {},
   "outputs": [
    {
     "data": {
      "text/plain": [
       "array([ 0.,  1., nan])"
      ]
     },
     "execution_count": 785,
     "metadata": {},
     "output_type": "execute_result"
    }
   ],
   "source": [
    "motfuera('MOTFUERA6')\n",
    "df_doct['MOTFUERA6'].sort_values().unique()"
   ]
  },
  {
   "cell_type": "markdown",
   "metadata": {},
   "source": [
    "#### 'MOTFUERA7'\n",
    "(Solo si se fue a vivir fuera de España en el periodo 2000-2009)  \n",
    "¿Fueron **otros motivos** los que le llevaron a vivir fuera de España en el periodo 2000-2009?"
   ]
  },
  {
   "cell_type": "code",
   "execution_count": 786,
   "metadata": {},
   "outputs": [
    {
     "data": {
      "text/plain": [
       "array([' ', '1'], dtype=object)"
      ]
     },
     "execution_count": 786,
     "metadata": {},
     "output_type": "execute_result"
    }
   ],
   "source": [
    "df_doct['MOTFUERA7'].sort_values().unique() # Blank as ' '"
   ]
  },
  {
   "cell_type": "code",
   "execution_count": 787,
   "metadata": {},
   "outputs": [
    {
     "data": {
      "text/plain": [
       "array([ 0.,  1., nan])"
      ]
     },
     "execution_count": 787,
     "metadata": {},
     "output_type": "execute_result"
    }
   ],
   "source": [
    "motfuera('MOTFUERA7')\n",
    "df_doct['MOTFUERA7'].sort_values().unique()"
   ]
  },
  {
   "cell_type": "markdown",
   "metadata": {},
   "source": [
    "#### 'MOTVENIR1'\n",
    "(Solo si vino a vivir o regresó a España en el periodo 2000-2009)   \n",
    "¿Fue **finalizar el doctorado** un motivo para venir o volver a España en el periodo 2000-2009?"
   ]
  },
  {
   "cell_type": "code",
   "execution_count": 842,
   "metadata": {},
   "outputs": [
    {
     "data": {
      "text/plain": [
       "array([' ', '1'], dtype=object)"
      ]
     },
     "execution_count": 842,
     "metadata": {},
     "output_type": "execute_result"
    }
   ],
   "source": [
    "df_doct['MOTVENIR1'].sort_values().unique() # Blank as ' '"
   ]
  },
  {
   "cell_type": "code",
   "execution_count": 843,
   "metadata": {},
   "outputs": [
    {
     "data": {
      "text/html": [
       "<div>\n",
       "<style scoped>\n",
       "    .dataframe tbody tr th:only-of-type {\n",
       "        vertical-align: middle;\n",
       "    }\n",
       "\n",
       "    .dataframe tbody tr th {\n",
       "        vertical-align: top;\n",
       "    }\n",
       "\n",
       "    .dataframe thead tr th {\n",
       "        text-align: left;\n",
       "    }\n",
       "\n",
       "    .dataframe thead tr:last-of-type th {\n",
       "        text-align: right;\n",
       "    }\n",
       "</style>\n",
       "<table border=\"1\" class=\"dataframe\">\n",
       "  <thead>\n",
       "    <tr>\n",
       "      <th></th>\n",
       "      <th>CONT1</th>\n",
       "      <th>CONT2</th>\n",
       "      <th>CONT3</th>\n",
       "      <th>CONT4</th>\n",
       "      <th>CONT5</th>\n",
       "      <th>CONT6</th>\n",
       "      <th>CONT7</th>\n",
       "    </tr>\n",
       "    <tr>\n",
       "      <th></th>\n",
       "      <th>unique</th>\n",
       "      <th>unique</th>\n",
       "      <th>unique</th>\n",
       "      <th>unique</th>\n",
       "      <th>unique</th>\n",
       "      <th>unique</th>\n",
       "      <th>unique</th>\n",
       "    </tr>\n",
       "    <tr>\n",
       "      <th>MOTVENIR1</th>\n",
       "      <th></th>\n",
       "      <th></th>\n",
       "      <th></th>\n",
       "      <th></th>\n",
       "      <th></th>\n",
       "      <th></th>\n",
       "      <th></th>\n",
       "    </tr>\n",
       "  </thead>\n",
       "  <tbody>\n",
       "    <tr>\n",
       "      <th></th>\n",
       "      <td>[NMOV, EU27, RAME, EUCA, REUR, AFRI, OCEA, ASIA]</td>\n",
       "      <td>[NMOV, EU27, EUCA, RAME, REUR, AFRI, OCEA, ASIA]</td>\n",
       "      <td>[NMOV, EU27, RAME, AFRI, REUR, EUCA, ASIA]</td>\n",
       "      <td>[NMOV, EU27, RAME, EUCA, REUR, OCEA, ASIA, AFRI]</td>\n",
       "      <td>[NMOV, EU27, EUCA, RAME]</td>\n",
       "      <td>[NMOV, EUCA, EU27, RAME, OCEA, REUR]</td>\n",
       "      <td>[NMOV, EU27, EUCA, AFRI]</td>\n",
       "    </tr>\n",
       "    <tr>\n",
       "      <th>1</th>\n",
       "      <td>[EU27, REUR, EUCA]</td>\n",
       "      <td>[EU27, RAME, EUCA, REUR, ASIA]</td>\n",
       "      <td>[EU27, NMOV, OCEA, AFRI, REUR]</td>\n",
       "      <td>[NMOV, EU27, RAME, EUCA, REUR, ASIA]</td>\n",
       "      <td>[NMOV, EU27, RAME]</td>\n",
       "      <td>[NMOV, EU27, EUCA, RAME, ASIA, REUR]</td>\n",
       "      <td>[NMOV, EU27]</td>\n",
       "    </tr>\n",
       "  </tbody>\n",
       "</table>\n",
       "</div>"
      ],
      "text/plain": [
       "                                                      CONT1  \\\n",
       "                                                     unique   \n",
       "MOTVENIR1                                                     \n",
       "           [NMOV, EU27, RAME, EUCA, REUR, AFRI, OCEA, ASIA]   \n",
       "1                                        [EU27, REUR, EUCA]   \n",
       "\n",
       "                                                      CONT2  \\\n",
       "                                                     unique   \n",
       "MOTVENIR1                                                     \n",
       "           [NMOV, EU27, EUCA, RAME, REUR, AFRI, OCEA, ASIA]   \n",
       "1                            [EU27, RAME, EUCA, REUR, ASIA]   \n",
       "\n",
       "                                                CONT3  \\\n",
       "                                               unique   \n",
       "MOTVENIR1                                               \n",
       "           [NMOV, EU27, RAME, AFRI, REUR, EUCA, ASIA]   \n",
       "1                      [EU27, NMOV, OCEA, AFRI, REUR]   \n",
       "\n",
       "                                                      CONT4  \\\n",
       "                                                     unique   \n",
       "MOTVENIR1                                                     \n",
       "           [NMOV, EU27, RAME, EUCA, REUR, OCEA, ASIA, AFRI]   \n",
       "1                      [NMOV, EU27, RAME, EUCA, REUR, ASIA]   \n",
       "\n",
       "                              CONT5                                 CONT6  \\\n",
       "                             unique                                unique   \n",
       "MOTVENIR1                                                                   \n",
       "           [NMOV, EU27, EUCA, RAME]  [NMOV, EUCA, EU27, RAME, OCEA, REUR]   \n",
       "1                [NMOV, EU27, RAME]  [NMOV, EU27, EUCA, RAME, ASIA, REUR]   \n",
       "\n",
       "                              CONT7  \n",
       "                             unique  \n",
       "MOTVENIR1                            \n",
       "           [NMOV, EU27, EUCA, AFRI]  \n",
       "1                      [NMOV, EU27]  "
      ]
     },
     "execution_count": 843,
     "metadata": {},
     "output_type": "execute_result"
    }
   ],
   "source": [
    "df_doct[['CONT1','CONT2','CONT3','CONT4','CONT5','CONT6','CONT7','MOTVENIR1']].groupby('MOTVENIR1').agg(['unique'])"
   ]
  },
  {
   "cell_type": "code",
   "execution_count": 844,
   "metadata": {},
   "outputs": [],
   "source": [
    "def motvenir(col):\n",
    "    # Se imputa respuesta No (0) si fue preguntado y no respondió Sí: \n",
    "    df_doct[col].mask(((df_doct['CONT1']=='NMOV')&((df_doct['CONT2']!='NMOV')|(df_doct['CONT3']!='NMOV')\n",
    "                      |(df_doct['CONT4']!='NMOV')|(df_doct['CONT5']!='NMOV')|(df_doct['CONT6']!='NMOV')\n",
    "                      |(df_doct['CONT7']!='NMOV')))\n",
    "                      |((df_doct['CONT2']=='NMOV')&((df_doct['CONT3']!='NMOV')|(df_doct['CONT4']!='NMOV')\n",
    "                            |(df_doct['CONT5']!='NMOV')|(df_doct['CONT6']!='NMOV')|(df_doct['CONT7']!='NMOV')))\n",
    "                      |((df_doct['CONT3']=='NMOV')&((df_doct['CONT4']!='NMOV')|(df_doct['CONT5']!='NMOV')\n",
    "                            |(df_doct['CONT6']!='NMOV')|(df_doct['CONT7']!='NMOV')) )                   \n",
    "                      |((df_doct['CONT4']=='NMOV')&((df_doct['CONT5']!='NMOV')|(df_doct['CONT6']!='NMOV')\n",
    "                            |(df_doct['CONT7']!='NMOV')) )\n",
    "                      |((df_doct['CONT5']=='NMOV')&((df_doct['CONT6']!='NMOV')|(df_doct['CONT7']!='NMOV')))\n",
    "                      |((df_doct['CONT6']=='NMOV')&(df_doct['CONT7']!='NMOV'))                  \n",
    "                      &(df_doct[col]!='1'),0,inplace=True)\n",
    "    # Se imputa None a quien no fue preguntado: \n",
    "    df_doct[col].where((df_doct[col]==0)|(df_doct[col]=='1'),None, inplace=True)\n",
    "    df_doct[col]=df_doct[col].astype('float')\n",
    "    return"
   ]
  },
  {
   "cell_type": "code",
   "execution_count": 845,
   "metadata": {},
   "outputs": [],
   "source": [
    "motvenir('MOTVENIR1')"
   ]
  },
  {
   "cell_type": "code",
   "execution_count": 846,
   "metadata": {},
   "outputs": [
    {
     "data": {
      "text/html": [
       "<div>\n",
       "<style scoped>\n",
       "    .dataframe tbody tr th:only-of-type {\n",
       "        vertical-align: middle;\n",
       "    }\n",
       "\n",
       "    .dataframe tbody tr th {\n",
       "        vertical-align: top;\n",
       "    }\n",
       "\n",
       "    .dataframe thead tr th {\n",
       "        text-align: left;\n",
       "    }\n",
       "\n",
       "    .dataframe thead tr:last-of-type th {\n",
       "        text-align: right;\n",
       "    }\n",
       "</style>\n",
       "<table border=\"1\" class=\"dataframe\">\n",
       "  <thead>\n",
       "    <tr>\n",
       "      <th></th>\n",
       "      <th>CONT1</th>\n",
       "      <th>CONT2</th>\n",
       "      <th>CONT3</th>\n",
       "      <th>CONT4</th>\n",
       "      <th>CONT5</th>\n",
       "      <th>CONT6</th>\n",
       "      <th>CONT7</th>\n",
       "    </tr>\n",
       "    <tr>\n",
       "      <th></th>\n",
       "      <th>unique</th>\n",
       "      <th>unique</th>\n",
       "      <th>unique</th>\n",
       "      <th>unique</th>\n",
       "      <th>unique</th>\n",
       "      <th>unique</th>\n",
       "      <th>unique</th>\n",
       "    </tr>\n",
       "    <tr>\n",
       "      <th>MOTVENIR1</th>\n",
       "      <th></th>\n",
       "      <th></th>\n",
       "      <th></th>\n",
       "      <th></th>\n",
       "      <th></th>\n",
       "      <th></th>\n",
       "      <th></th>\n",
       "    </tr>\n",
       "  </thead>\n",
       "  <tbody>\n",
       "    <tr>\n",
       "      <th>0.0</th>\n",
       "      <td>[EU27]</td>\n",
       "      <td>[NMOV]</td>\n",
       "      <td>[EU27]</td>\n",
       "      <td>[NMOV]</td>\n",
       "      <td>[NMOV]</td>\n",
       "      <td>[NMOV]</td>\n",
       "      <td>[NMOV]</td>\n",
       "    </tr>\n",
       "    <tr>\n",
       "      <th>1.0</th>\n",
       "      <td>[EU27, REUR, EUCA]</td>\n",
       "      <td>[EU27, RAME, EUCA, REUR, ASIA]</td>\n",
       "      <td>[EU27, NMOV, OCEA, AFRI, REUR]</td>\n",
       "      <td>[NMOV, EU27, RAME, EUCA, REUR, ASIA]</td>\n",
       "      <td>[NMOV, EU27, RAME]</td>\n",
       "      <td>[NMOV, EU27, EUCA, RAME, ASIA, REUR]</td>\n",
       "      <td>[NMOV, EU27]</td>\n",
       "    </tr>\n",
       "  </tbody>\n",
       "</table>\n",
       "</div>"
      ],
      "text/plain": [
       "                        CONT1                           CONT2  \\\n",
       "                       unique                          unique   \n",
       "MOTVENIR1                                                       \n",
       "0.0                    [EU27]                          [NMOV]   \n",
       "1.0        [EU27, REUR, EUCA]  [EU27, RAME, EUCA, REUR, ASIA]   \n",
       "\n",
       "                                    CONT3  \\\n",
       "                                   unique   \n",
       "MOTVENIR1                                   \n",
       "0.0                                [EU27]   \n",
       "1.0        [EU27, NMOV, OCEA, AFRI, REUR]   \n",
       "\n",
       "                                          CONT4               CONT5  \\\n",
       "                                         unique              unique   \n",
       "MOTVENIR1                                                             \n",
       "0.0                                      [NMOV]              [NMOV]   \n",
       "1.0        [NMOV, EU27, RAME, EUCA, REUR, ASIA]  [NMOV, EU27, RAME]   \n",
       "\n",
       "                                          CONT6         CONT7  \n",
       "                                         unique        unique  \n",
       "MOTVENIR1                                                      \n",
       "0.0                                      [NMOV]        [NMOV]  \n",
       "1.0        [NMOV, EU27, EUCA, RAME, ASIA, REUR]  [NMOV, EU27]  "
      ]
     },
     "execution_count": 846,
     "metadata": {},
     "output_type": "execute_result"
    }
   ],
   "source": [
    "df_doct[['CONT1','CONT2','CONT3','CONT4','CONT5','CONT6','CONT7','MOTVENIR1']].groupby('MOTVENIR1').agg(['unique'])"
   ]
  },
  {
   "cell_type": "code",
   "execution_count": 847,
   "metadata": {},
   "outputs": [
    {
     "data": {
      "text/html": [
       "<div>\n",
       "<style scoped>\n",
       "    .dataframe tbody tr th:only-of-type {\n",
       "        vertical-align: middle;\n",
       "    }\n",
       "\n",
       "    .dataframe tbody tr th {\n",
       "        vertical-align: top;\n",
       "    }\n",
       "\n",
       "    .dataframe thead th {\n",
       "        text-align: right;\n",
       "    }\n",
       "</style>\n",
       "<table border=\"1\" class=\"dataframe\">\n",
       "  <thead>\n",
       "    <tr style=\"text-align: right;\">\n",
       "      <th></th>\n",
       "      <th>MUIDENT</th>\n",
       "      <th>CCAARESI</th>\n",
       "      <th>ANONAC</th>\n",
       "      <th>CCAANAC</th>\n",
       "      <th>CONTNACIM</th>\n",
       "      <th>RELA</th>\n",
       "      <th>CONTNAC1</th>\n",
       "      <th>CONTNAC2</th>\n",
       "      <th>CONTNAC3</th>\n",
       "      <th>SEXO</th>\n",
       "      <th>ESTADOCIVIL</th>\n",
       "      <th>DEPEN5</th>\n",
       "      <th>DEPEN18</th>\n",
       "      <th>DEPENMAS</th>\n",
       "      <th>NIVESTPA</th>\n",
       "      <th>NIVESTMA</th>\n",
       "      <th>NIVPROFPA</th>\n",
       "      <th>NIVPROFMA</th>\n",
       "      <th>ACTIPRIPA1</th>\n",
       "      <th>ACTIPRIMA1</th>\n",
       "      <th>EDUPRIM</th>\n",
       "      <th>EDUSECUN</th>\n",
       "      <th>BACHILLER</th>\n",
       "      <th>RES</th>\n",
       "      <th>CARES1</th>\n",
       "      <th>MESRES1</th>\n",
       "      <th>CARES2</th>\n",
       "      <th>MESRES2</th>\n",
       "      <th>CARES3</th>\n",
       "      <th>MESRES3</th>\n",
       "      <th>CODIDOC</th>\n",
       "      <th>INFUN</th>\n",
       "      <th>INAPL</th>\n",
       "      <th>DESTEC</th>\n",
       "      <th>ANODOC</th>\n",
       "      <th>MESDOC</th>\n",
       "      <th>DURDOCANO</th>\n",
       "      <th>DURDOCMES</th>\n",
       "      <th>CONTEST</th>\n",
       "      <th>ANOEST</th>\n",
       "      <th>FINADOC</th>\n",
       "      <th>TRABDOC</th>\n",
       "      <th>ANOSINTRA</th>\n",
       "      <th>MESSINTRA</th>\n",
       "      <th>SITLAB</th>\n",
       "      <th>HTRAB</th>\n",
       "      <th>INGRESOS</th>\n",
       "      <th>AUTON</th>\n",
       "      <th>CNAE2</th>\n",
       "      <th>ANOINIALP</th>\n",
       "      <th>CAEMP</th>\n",
       "      <th>CONTEMP</th>\n",
       "      <th>SECTOR</th>\n",
       "      <th>CODALP</th>\n",
       "      <th>CATEGPROF</th>\n",
       "      <th>HLECT</th>\n",
       "      <th>TIPOCONT</th>\n",
       "      <th>JORLAB</th>\n",
       "      <th>BUSCATRAB</th>\n",
       "      <th>NIVELMIN</th>\n",
       "      <th>NIVELEST</th>\n",
       "      <th>RELTRABDOC</th>\n",
       "      <th>NIVELSAT1</th>\n",
       "      <th>NIVELSAT2</th>\n",
       "      <th>NIVELSAT3</th>\n",
       "      <th>NIVELSAT4</th>\n",
       "      <th>NIVELSAT5</th>\n",
       "      <th>NIVELSAT6</th>\n",
       "      <th>NIVELSAT7</th>\n",
       "      <th>NIVELSAT8</th>\n",
       "      <th>NIVELSAT9</th>\n",
       "      <th>NIVELSAT10</th>\n",
       "      <th>NIVELSAT11</th>\n",
       "      <th>NIVELSAT12</th>\n",
       "      <th>NIVELSAT13</th>\n",
       "      <th>ACTIANT</th>\n",
       "      <th>SECTORANT</th>\n",
       "      <th>ACTIPRIANT</th>\n",
       "      <th>ACTIANTANO</th>\n",
       "      <th>ACTIANTMES</th>\n",
       "      <th>TRABPOS</th>\n",
       "      <th>MOTIVOPOS1</th>\n",
       "      <th>MOTIVOPOS2</th>\n",
       "      <th>MOTIVOPOS3</th>\n",
       "      <th>MOTIVOPOS4</th>\n",
       "      <th>MOTIVOPOS5</th>\n",
       "      <th>MOTIVOPOS6</th>\n",
       "      <th>MOTIVOPOS7</th>\n",
       "      <th>MOTIVOPOS8</th>\n",
       "      <th>PORCINVES</th>\n",
       "      <th>PORCDOC</th>\n",
       "      <th>PORCOTRAS</th>\n",
       "      <th>FINANPOS</th>\n",
       "      <th>GESBUSEMP</th>\n",
       "      <th>PASOSEMP1</th>\n",
       "      <th>PASOSEMP2</th>\n",
       "      <th>PASOSEMP3</th>\n",
       "      <th>PASOSEMP4</th>\n",
       "      <th>PASOSEMP5</th>\n",
       "      <th>PASOSEMP6</th>\n",
       "      <th>PASOSEMP7</th>\n",
       "      <th>PASOSEMP8</th>\n",
       "      <th>PASOSEMP9</th>\n",
       "      <th>PASOSEMP10</th>\n",
       "      <th>PASOSEMP11</th>\n",
       "      <th>NOPASOSEMP1</th>\n",
       "      <th>NOPASOSEMP2</th>\n",
       "      <th>NOPASOSEMP3</th>\n",
       "      <th>NOPASOSEMP4</th>\n",
       "      <th>NOPASOSEMP5</th>\n",
       "      <th>NOPASOSEMP6</th>\n",
       "      <th>NOPASOSEMP7</th>\n",
       "      <th>NOPASOSEMP8</th>\n",
       "      <th>NOPASOSEMP9</th>\n",
       "      <th>CONT1</th>\n",
       "      <th>ANOIPAIS1</th>\n",
       "      <th>ANOFPAIS1</th>\n",
       "      <th>MESES1</th>\n",
       "      <th>CONT2</th>\n",
       "      <th>ANOIPAIS2</th>\n",
       "      <th>ANOFPAIS2</th>\n",
       "      <th>MESES2</th>\n",
       "      <th>CONT3</th>\n",
       "      <th>ANOIPAIS3</th>\n",
       "      <th>ANOFPAIS3</th>\n",
       "      <th>MESES3</th>\n",
       "      <th>CONT4</th>\n",
       "      <th>ANOIPAIS4</th>\n",
       "      <th>ANOFPAIS4</th>\n",
       "      <th>MESES4</th>\n",
       "      <th>CONT5</th>\n",
       "      <th>ANOIPAIS5</th>\n",
       "      <th>ANOFPAIS5</th>\n",
       "      <th>MESES5</th>\n",
       "      <th>CONT6</th>\n",
       "      <th>ANOIPAIS6</th>\n",
       "      <th>ANOFPAIS6</th>\n",
       "      <th>MESES6</th>\n",
       "      <th>CONT7</th>\n",
       "      <th>ANOIPAIS7</th>\n",
       "      <th>ANOFPAIS7</th>\n",
       "      <th>MESES7</th>\n",
       "      <th>MOTFUERA1</th>\n",
       "      <th>MOTFUERA2</th>\n",
       "      <th>MOTFUERA3</th>\n",
       "      <th>MOTFUERA4</th>\n",
       "      <th>MOTFUERA5</th>\n",
       "      <th>MOTFUERA6</th>\n",
       "      <th>MOTFUERA7</th>\n",
       "      <th>MOTVENIR1</th>\n",
       "      <th>MOTVENIR2</th>\n",
       "      <th>MOTVENIR3</th>\n",
       "      <th>MOTVENIR4</th>\n",
       "      <th>MOTVENIR5</th>\n",
       "      <th>MOTVENIR6</th>\n",
       "      <th>MOTVENIR7</th>\n",
       "      <th>PREVIRSE</th>\n",
       "      <th>MESANTESIR</th>\n",
       "      <th>MOTIRSE1</th>\n",
       "      <th>MOTIRSE2</th>\n",
       "      <th>MOTIRSE3</th>\n",
       "      <th>MOTIRSE4</th>\n",
       "      <th>MOTIRSE5</th>\n",
       "      <th>MOTIRSE6</th>\n",
       "      <th>CONTOUT</th>\n",
       "      <th>INV</th>\n",
       "      <th>MOTNOINV1</th>\n",
       "      <th>MOTNOINV2</th>\n",
       "      <th>MOTNOINV3</th>\n",
       "      <th>MOTNOINV4</th>\n",
       "      <th>MOTNOINV5</th>\n",
       "      <th>MOTNOINV6</th>\n",
       "      <th>MOTNOINV7</th>\n",
       "      <th>MOTNOINV8</th>\n",
       "      <th>MOTNOINV9</th>\n",
       "      <th>ALGINV</th>\n",
       "      <th>MOTINV1</th>\n",
       "      <th>MOTINV2</th>\n",
       "      <th>MOTINV3</th>\n",
       "      <th>MOTINV4</th>\n",
       "      <th>MOTINV5</th>\n",
       "      <th>MOTINV6</th>\n",
       "      <th>MOTINV7</th>\n",
       "      <th>MOTINV8</th>\n",
       "      <th>MOTINV9</th>\n",
       "      <th>MESESINV</th>\n",
       "      <th>ARTIC</th>\n",
       "      <th>LIBROS</th>\n",
       "      <th>NUMPAT</th>\n",
       "      <th>PATNAC</th>\n",
       "      <th>PATEU</th>\n",
       "      <th>PATCOOP</th>\n",
       "      <th>PATCOM</th>\n",
       "      <th>COMPA</th>\n",
       "      <th>TUTOR</th>\n",
       "      <th>COOPERA</th>\n",
       "      <th>INVFUT</th>\n",
       "      <th>FACTOR</th>\n",
       "      <th>Tmpo_doc</th>\n",
       "      <th>Tmpo_s/T</th>\n",
       "      <th>(3416, ANOFPAIS2)</th>\n",
       "      <th>(733, ANOFPAIS2)</th>\n",
       "    </tr>\n",
       "  </thead>\n",
       "  <tbody>\n",
       "    <tr>\n",
       "      <th>3416</th>\n",
       "      <td>410103</td>\n",
       "      <td>1</td>\n",
       "      <td>1960</td>\n",
       "      <td>01</td>\n",
       "      <td>EU27</td>\n",
       "      <td>1</td>\n",
       "      <td>EU27</td>\n",
       "      <td>None</td>\n",
       "      <td>None</td>\n",
       "      <td>2</td>\n",
       "      <td>4</td>\n",
       "      <td>0</td>\n",
       "      <td>0</td>\n",
       "      <td>1</td>\n",
       "      <td>8.0</td>\n",
       "      <td>3.0</td>\n",
       "      <td>1</td>\n",
       "      <td>5</td>\n",
       "      <td>2</td>\n",
       "      <td>NaN</td>\n",
       "      <td>1</td>\n",
       "      <td>1</td>\n",
       "      <td>1</td>\n",
       "      <td>1</td>\n",
       "      <td>01</td>\n",
       "      <td>10.0</td>\n",
       "      <td>01</td>\n",
       "      <td>2</td>\n",
       "      <td>None</td>\n",
       "      <td>0</td>\n",
       "      <td>508</td>\n",
       "      <td>1</td>\n",
       "      <td>1</td>\n",
       "      <td>1</td>\n",
       "      <td>2004</td>\n",
       "      <td>7</td>\n",
       "      <td>6</td>\n",
       "      <td>0</td>\n",
       "      <td>EU27</td>\n",
       "      <td>1983</td>\n",
       "      <td>5</td>\n",
       "      <td>1</td>\n",
       "      <td>0.0</td>\n",
       "      <td>0.0</td>\n",
       "      <td>1</td>\n",
       "      <td>90</td>\n",
       "      <td>4</td>\n",
       "      <td>0</td>\n",
       "      <td>85.0</td>\n",
       "      <td>2009.0</td>\n",
       "      <td>1.0</td>\n",
       "      <td>EU27</td>\n",
       "      <td>3.0</td>\n",
       "      <td>231.0</td>\n",
       "      <td>4.0</td>\n",
       "      <td>4.0</td>\n",
       "      <td>1.0</td>\n",
       "      <td>1.0</td>\n",
       "      <td>NaN</td>\n",
       "      <td>2.0</td>\n",
       "      <td>2.0</td>\n",
       "      <td>1.0</td>\n",
       "      <td>2.0</td>\n",
       "      <td>3.0</td>\n",
       "      <td>1.0</td>\n",
       "      <td>2.0</td>\n",
       "      <td>3.0</td>\n",
       "      <td>1.0</td>\n",
       "      <td>1.0</td>\n",
       "      <td>2.0</td>\n",
       "      <td>3.0</td>\n",
       "      <td>3.0</td>\n",
       "      <td>2.0</td>\n",
       "      <td>3.0</td>\n",
       "      <td>2.0</td>\n",
       "      <td>1.0</td>\n",
       "      <td>1.0</td>\n",
       "      <td>265.0</td>\n",
       "      <td>5.0</td>\n",
       "      <td>0.0</td>\n",
       "      <td>1.0</td>\n",
       "      <td>1.0</td>\n",
       "      <td>0.0</td>\n",
       "      <td>1.0</td>\n",
       "      <td>0.0</td>\n",
       "      <td>1.0</td>\n",
       "      <td>0.0</td>\n",
       "      <td>0.0</td>\n",
       "      <td>0.0</td>\n",
       "      <td>40.0</td>\n",
       "      <td>60.0</td>\n",
       "      <td>0.0</td>\n",
       "      <td>2.0</td>\n",
       "      <td>NaN</td>\n",
       "      <td>NaN</td>\n",
       "      <td>NaN</td>\n",
       "      <td>NaN</td>\n",
       "      <td>NaN</td>\n",
       "      <td>NaN</td>\n",
       "      <td>NaN</td>\n",
       "      <td>NaN</td>\n",
       "      <td>NaN</td>\n",
       "      <td>NaN</td>\n",
       "      <td>NaN</td>\n",
       "      <td>NaN</td>\n",
       "      <td>NaN</td>\n",
       "      <td>NaN</td>\n",
       "      <td>NaN</td>\n",
       "      <td>NaN</td>\n",
       "      <td>NaN</td>\n",
       "      <td>NaN</td>\n",
       "      <td>NaN</td>\n",
       "      <td>NaN</td>\n",
       "      <td>NaN</td>\n",
       "      <td>EU27</td>\n",
       "      <td>2006.0</td>\n",
       "      <td>2009.0</td>\n",
       "      <td>42.0</td>\n",
       "      <td>NMOV</td>\n",
       "      <td>NaN</td>\n",
       "      <td>NaN</td>\n",
       "      <td>NaN</td>\n",
       "      <td>EU27</td>\n",
       "      <td>2000.0</td>\n",
       "      <td>2006.0</td>\n",
       "      <td>73.0</td>\n",
       "      <td>NMOV</td>\n",
       "      <td>NaN</td>\n",
       "      <td>NaN</td>\n",
       "      <td>NaN</td>\n",
       "      <td>NMOV</td>\n",
       "      <td>NaN</td>\n",
       "      <td>NaN</td>\n",
       "      <td>NaN</td>\n",
       "      <td>NMOV</td>\n",
       "      <td>NaN</td>\n",
       "      <td>NaN</td>\n",
       "      <td>NaN</td>\n",
       "      <td>NMOV</td>\n",
       "      <td>NaN</td>\n",
       "      <td>NaN</td>\n",
       "      <td>NaN</td>\n",
       "      <td>0.0</td>\n",
       "      <td>0.0</td>\n",
       "      <td>0.0</td>\n",
       "      <td>1.0</td>\n",
       "      <td>0.0</td>\n",
       "      <td>0.0</td>\n",
       "      <td>0.0</td>\n",
       "      <td>0.0</td>\n",
       "      <td>0.0</td>\n",
       "      <td>1</td>\n",
       "      <td></td>\n",
       "      <td></td>\n",
       "      <td></td>\n",
       "      <td></td>\n",
       "      <td>3</td>\n",
       "      <td></td>\n",
       "      <td></td>\n",
       "      <td></td>\n",
       "      <td></td>\n",
       "      <td></td>\n",
       "      <td></td>\n",
       "      <td></td>\n",
       "      <td>NMOV</td>\n",
       "      <td>1</td>\n",
       "      <td></td>\n",
       "      <td></td>\n",
       "      <td></td>\n",
       "      <td></td>\n",
       "      <td></td>\n",
       "      <td></td>\n",
       "      <td></td>\n",
       "      <td></td>\n",
       "      <td></td>\n",
       "      <td></td>\n",
       "      <td>1</td>\n",
       "      <td></td>\n",
       "      <td>1</td>\n",
       "      <td></td>\n",
       "      <td></td>\n",
       "      <td>1</td>\n",
       "      <td></td>\n",
       "      <td>1</td>\n",
       "      <td></td>\n",
       "      <td>60</td>\n",
       "      <td>7</td>\n",
       "      <td>4</td>\n",
       "      <td>0</td>\n",
       "      <td>0</td>\n",
       "      <td>0</td>\n",
       "      <td>0</td>\n",
       "      <td>0</td>\n",
       "      <td>0</td>\n",
       "      <td>1</td>\n",
       "      <td>1</td>\n",
       "      <td>1</td>\n",
       "      <td>25.66800106</td>\n",
       "      <td>6.0</td>\n",
       "      <td>0.0</td>\n",
       "      <td>NaN</td>\n",
       "      <td>NaN</td>\n",
       "    </tr>\n",
       "  </tbody>\n",
       "</table>\n",
       "</div>"
      ],
      "text/plain": [
       "      MUIDENT  CCAARESI  ANONAC CCAANAC CONTNACIM  RELA CONTNAC1 CONTNAC2  \\\n",
       "3416   410103         1    1960      01      EU27     1     EU27     None   \n",
       "\n",
       "     CONTNAC3  SEXO  ESTADOCIVIL  DEPEN5  DEPEN18  DEPENMAS  NIVESTPA  \\\n",
       "3416     None     2            4       0        0         1       8.0   \n",
       "\n",
       "      NIVESTMA  NIVPROFPA  NIVPROFMA  ACTIPRIPA1  ACTIPRIMA1  EDUPRIM  \\\n",
       "3416       3.0          1          5           2         NaN        1   \n",
       "\n",
       "      EDUSECUN  BACHILLER  RES CARES1  MESRES1 CARES2  MESRES2 CARES3  \\\n",
       "3416         1          1    1     01     10.0     01        2   None   \n",
       "\n",
       "      MESRES3  CODIDOC  INFUN  INAPL  DESTEC  ANODOC  MESDOC  DURDOCANO  \\\n",
       "3416        0      508      1      1       1    2004       7          6   \n",
       "\n",
       "      DURDOCMES CONTEST  ANOEST  FINADOC  TRABDOC  ANOSINTRA  MESSINTRA  \\\n",
       "3416          0    EU27    1983        5        1        0.0        0.0   \n",
       "\n",
       "      SITLAB  HTRAB  INGRESOS  AUTON  CNAE2  ANOINIALP  CAEMP CONTEMP  SECTOR  \\\n",
       "3416       1     90         4      0   85.0     2009.0    1.0    EU27     3.0   \n",
       "\n",
       "      CODALP  CATEGPROF  HLECT  TIPOCONT  JORLAB  BUSCATRAB  NIVELMIN  \\\n",
       "3416   231.0        4.0    4.0       1.0     1.0        NaN       2.0   \n",
       "\n",
       "      NIVELEST  RELTRABDOC  NIVELSAT1  NIVELSAT2  NIVELSAT3  NIVELSAT4  \\\n",
       "3416       2.0         1.0        2.0        3.0        1.0        2.0   \n",
       "\n",
       "      NIVELSAT5  NIVELSAT6  NIVELSAT7  NIVELSAT8  NIVELSAT9  NIVELSAT10  \\\n",
       "3416        3.0        1.0        1.0        2.0        3.0         3.0   \n",
       "\n",
       "      NIVELSAT11  NIVELSAT12  NIVELSAT13  ACTIANT  SECTORANT  ACTIPRIANT  \\\n",
       "3416         2.0         3.0         2.0      1.0        1.0       265.0   \n",
       "\n",
       "      ACTIANTANO  ACTIANTMES  TRABPOS  MOTIVOPOS1  MOTIVOPOS2  MOTIVOPOS3  \\\n",
       "3416         5.0         0.0      1.0         1.0         0.0         1.0   \n",
       "\n",
       "      MOTIVOPOS4  MOTIVOPOS5  MOTIVOPOS6  MOTIVOPOS7  MOTIVOPOS8  PORCINVES  \\\n",
       "3416         0.0         1.0         0.0         0.0         0.0       40.0   \n",
       "\n",
       "      PORCDOC  PORCOTRAS  FINANPOS  GESBUSEMP  PASOSEMP1  PASOSEMP2  \\\n",
       "3416     60.0        0.0       2.0        NaN        NaN        NaN   \n",
       "\n",
       "      PASOSEMP3  PASOSEMP4  PASOSEMP5  PASOSEMP6  PASOSEMP7  PASOSEMP8  \\\n",
       "3416        NaN        NaN        NaN        NaN        NaN        NaN   \n",
       "\n",
       "      PASOSEMP9  PASOSEMP10  PASOSEMP11  NOPASOSEMP1  NOPASOSEMP2  \\\n",
       "3416        NaN         NaN         NaN          NaN          NaN   \n",
       "\n",
       "      NOPASOSEMP3  NOPASOSEMP4  NOPASOSEMP5  NOPASOSEMP6  NOPASOSEMP7  \\\n",
       "3416          NaN          NaN          NaN          NaN          NaN   \n",
       "\n",
       "      NOPASOSEMP8  NOPASOSEMP9 CONT1  ANOIPAIS1  ANOFPAIS1  MESES1 CONT2  \\\n",
       "3416          NaN          NaN  EU27     2006.0     2009.0    42.0  NMOV   \n",
       "\n",
       "      ANOIPAIS2  ANOFPAIS2  MESES2 CONT3  ANOIPAIS3  ANOFPAIS3  MESES3 CONT4  \\\n",
       "3416        NaN        NaN     NaN  EU27     2000.0     2006.0    73.0  NMOV   \n",
       "\n",
       "      ANOIPAIS4  ANOFPAIS4  MESES4 CONT5  ANOIPAIS5  ANOFPAIS5  MESES5 CONT6  \\\n",
       "3416        NaN        NaN     NaN  NMOV        NaN        NaN     NaN  NMOV   \n",
       "\n",
       "      ANOIPAIS6  ANOFPAIS6  MESES6 CONT7  ANOIPAIS7  ANOFPAIS7  MESES7  \\\n",
       "3416        NaN        NaN     NaN  NMOV        NaN        NaN     NaN   \n",
       "\n",
       "      MOTFUERA1  MOTFUERA2  MOTFUERA3  MOTFUERA4  MOTFUERA5  MOTFUERA6  \\\n",
       "3416        0.0        0.0        0.0        1.0        0.0        0.0   \n",
       "\n",
       "      MOTFUERA7  MOTVENIR1  MOTVENIR2 MOTVENIR3 MOTVENIR4 MOTVENIR5 MOTVENIR6  \\\n",
       "3416        0.0        0.0        0.0         1                                 \n",
       "\n",
       "     MOTVENIR7 PREVIRSE MESANTESIR MOTIRSE1 MOTIRSE2 MOTIRSE3 MOTIRSE4  \\\n",
       "3416                  3                                                  \n",
       "\n",
       "     MOTIRSE5 MOTIRSE6 CONTOUT INV MOTNOINV1 MOTNOINV2 MOTNOINV3 MOTNOINV4  \\\n",
       "3416                      NMOV   1                                           \n",
       "\n",
       "     MOTNOINV5 MOTNOINV6 MOTNOINV7 MOTNOINV8 MOTNOINV9 ALGINV MOTINV1 MOTINV2  \\\n",
       "3416                                                                1           \n",
       "\n",
       "     MOTINV3 MOTINV4 MOTINV5 MOTINV6 MOTINV7 MOTINV8 MOTINV9 MESESINV ARTIC  \\\n",
       "3416       1                       1               1               60     7   \n",
       "\n",
       "     LIBROS NUMPAT PATNAC PATEU PATCOOP PATCOM COMPA TUTOR COOPERA INVFUT  \\\n",
       "3416      4      0      0     0       0      0     0     1       1      1   \n",
       "\n",
       "           FACTOR  Tmpo_doc  Tmpo_s/T  (3416, ANOFPAIS2)  (733, ANOFPAIS2)  \n",
       "3416  25.66800106       6.0       0.0                NaN               NaN  "
      ]
     },
     "execution_count": 847,
     "metadata": {},
     "output_type": "execute_result"
    }
   ],
   "source": [
    "df_doct[df_doct['MOTVENIR1']==0] #  Solo una observación (regresó por motivos distintos a finalizar el doctorado)"
   ]
  },
  {
   "cell_type": "markdown",
   "metadata": {},
   "source": [
    "#### 'MOTVENIR2'\n",
    "(Solo si vino a vivir o regresó a España en el periodo 2000-2009)   \n",
    "¿Fueron **finalizar el postdoctorado o un contrato de trabajo** motivos para venir o volver a España en el periodo 2000-2009?"
   ]
  },
  {
   "cell_type": "code",
   "execution_count": 848,
   "metadata": {},
   "outputs": [
    {
     "data": {
      "text/plain": [
       "array([' ', '1'], dtype=object)"
      ]
     },
     "execution_count": 848,
     "metadata": {},
     "output_type": "execute_result"
    }
   ],
   "source": [
    "df_doct['MOTVENIR2'].sort_values().unique() # Blank as ' '"
   ]
  },
  {
   "cell_type": "code",
   "execution_count": 849,
   "metadata": {},
   "outputs": [
    {
     "data": {
      "text/plain": [
       "array([ 0.,  1., nan])"
      ]
     },
     "execution_count": 849,
     "metadata": {},
     "output_type": "execute_result"
    }
   ],
   "source": [
    "motvenir('MOTVENIR2')\n",
    "df_doct['MOTVENIR2'].sort_values().unique() # Blank as ' '"
   ]
  },
  {
   "cell_type": "markdown",
   "metadata": {},
   "source": [
    "#### 'MOTVENIR3'\n",
    "(Solo si vino a vivir o regresó a España en el periodo 2000-2009)   \n",
    "¿Fueron **otros factores relacionados con el empleo o económicos** (traslado laboral por el mismo organismo o empresa, cambio de empleo, garantía u oferta de trabajo, o realización de un postdoctorado) motivos para venir o volver a España en el periodo 2000-2009?"
   ]
  },
  {
   "cell_type": "code",
   "execution_count": 850,
   "metadata": {},
   "outputs": [
    {
     "data": {
      "text/plain": [
       "array([' ', '1'], dtype=object)"
      ]
     },
     "execution_count": 850,
     "metadata": {},
     "output_type": "execute_result"
    }
   ],
   "source": [
    "df_doct['MOTVENIR3'].sort_values().unique() # Blank as ' '"
   ]
  },
  {
   "cell_type": "code",
   "execution_count": 851,
   "metadata": {},
   "outputs": [
    {
     "data": {
      "text/plain": [
       "array([ 0.,  1., nan])"
      ]
     },
     "execution_count": 851,
     "metadata": {},
     "output_type": "execute_result"
    }
   ],
   "source": [
    "motvenir('MOTVENIR3')\n",
    "df_doct['MOTVENIR3'].sort_values().unique() # Blank as ' '"
   ]
  },
  {
   "cell_type": "markdown",
   "metadata": {},
   "source": [
    "#### 'MOTVENIR4'\n",
    "(Solo si vino a vivir o regresó a España en el periodo 2000-2009)   \n",
    "¿Fueron **factores académicos** (mayor posibilidad de realizar publicaciones, desarrollo o continuidad de la tesis doctoral, trabajar en un área específica no existente en el país de origen, creación de un equipo propio o una nueva área de investigación) motivos para venir o volver a España en el periodo 2000-2009?"
   ]
  },
  {
   "cell_type": "code",
   "execution_count": 852,
   "metadata": {},
   "outputs": [
    {
     "data": {
      "text/plain": [
       "array([' ', '1'], dtype=object)"
      ]
     },
     "execution_count": 852,
     "metadata": {},
     "output_type": "execute_result"
    }
   ],
   "source": [
    "df_doct['MOTVENIR4'].sort_values().unique() # Blank as ' '"
   ]
  },
  {
   "cell_type": "code",
   "execution_count": 853,
   "metadata": {},
   "outputs": [
    {
     "data": {
      "text/plain": [
       "array([ 0.,  1., nan])"
      ]
     },
     "execution_count": 853,
     "metadata": {},
     "output_type": "execute_result"
    }
   ],
   "source": [
    "motvenir('MOTVENIR4')\n",
    "df_doct['MOTVENIR4'].sort_values().unique() # Blank as ' '"
   ]
  },
  {
   "cell_type": "markdown",
   "metadata": {},
   "source": [
    "#### 'MOTVENIR5'\n",
    "(Solo si vino a vivir o regresó a España en el periodo 2000-2009)   \n",
    "¿Fueron **factores personales o familiares** motivos para venir o volver a España en el periodo 2000-2009?"
   ]
  },
  {
   "cell_type": "code",
   "execution_count": 854,
   "metadata": {},
   "outputs": [
    {
     "data": {
      "text/plain": [
       "array([' ', '1'], dtype=object)"
      ]
     },
     "execution_count": 854,
     "metadata": {},
     "output_type": "execute_result"
    }
   ],
   "source": [
    "df_doct['MOTVENIR5'].sort_values().unique() # Blank as ' '"
   ]
  },
  {
   "cell_type": "code",
   "execution_count": 855,
   "metadata": {},
   "outputs": [
    {
     "data": {
      "text/plain": [
       "array([ 0.,  1., nan])"
      ]
     },
     "execution_count": 855,
     "metadata": {},
     "output_type": "execute_result"
    }
   ],
   "source": [
    "motvenir('MOTVENIR5')\n",
    "df_doct['MOTVENIR5'].sort_values().unique() # Blank as ' '"
   ]
  },
  {
   "cell_type": "markdown",
   "metadata": {},
   "source": [
    "#### 'MOTVENIR6'\n",
    "(Solo si vino a vivir o regresó a España en el periodo 2000-2009)   \n",
    "¿Fueron **factores políticos o administrativos** (finalización de permiso de residencia o visado, etc.) motivos para venir o volver a España en el periodo 2000-2009?"
   ]
  },
  {
   "cell_type": "code",
   "execution_count": 857,
   "metadata": {},
   "outputs": [
    {
     "data": {
      "text/plain": [
       "array([' ', '1'], dtype=object)"
      ]
     },
     "execution_count": 857,
     "metadata": {},
     "output_type": "execute_result"
    }
   ],
   "source": [
    "df_doct['MOTVENIR6'].sort_values().unique() # Blank as ' '"
   ]
  },
  {
   "cell_type": "code",
   "execution_count": 858,
   "metadata": {},
   "outputs": [
    {
     "data": {
      "text/plain": [
       "array([ 0.,  1., nan])"
      ]
     },
     "execution_count": 858,
     "metadata": {},
     "output_type": "execute_result"
    }
   ],
   "source": [
    "motvenir('MOTVENIR6')\n",
    "df_doct['MOTVENIR6'].sort_values().unique() # Blank as ' '"
   ]
  },
  {
   "cell_type": "markdown",
   "metadata": {},
   "source": [
    "#### 'MOTVENIR7'\n",
    "(Solo si vino a vivir o regresó a España en el periodo 2000-2009)   \n",
    "¿Fueron **otros motivos** los que le llevaron a venir o volver a España en el periodo 2000-2009?"
   ]
  },
  {
   "cell_type": "code",
   "execution_count": 859,
   "metadata": {},
   "outputs": [
    {
     "data": {
      "text/plain": [
       "array([' ', '1'], dtype=object)"
      ]
     },
     "execution_count": 859,
     "metadata": {},
     "output_type": "execute_result"
    }
   ],
   "source": [
    "df_doct['MOTVENIR7'].sort_values().unique() # Blank as ' '"
   ]
  },
  {
   "cell_type": "code",
   "execution_count": 860,
   "metadata": {},
   "outputs": [
    {
     "data": {
      "text/plain": [
       "array([ 0.,  1., nan])"
      ]
     },
     "execution_count": 860,
     "metadata": {},
     "output_type": "execute_result"
    }
   ],
   "source": [
    "motvenir('MOTVENIR7')\n",
    "df_doct['MOTVENIR7'].sort_values().unique() # Blank as ' '"
   ]
  },
  {
   "cell_type": "code",
   "execution_count": null,
   "metadata": {},
   "outputs": [],
   "source": [
    "df_doct['PREVIRSE'].sort_values().unique() # Blank as ' '"
   ]
  },
  {
   "cell_type": "code",
   "execution_count": null,
   "metadata": {},
   "outputs": [],
   "source": [
    "df_doct['MESANTESIR'].sort_values().unique() # Blank as ' '"
   ]
  },
  {
   "cell_type": "code",
   "execution_count": null,
   "metadata": {},
   "outputs": [],
   "source": [
    "df_doct['MOTIRSE1'].sort_values().unique() # Blank as ' '"
   ]
  },
  {
   "cell_type": "code",
   "execution_count": null,
   "metadata": {},
   "outputs": [],
   "source": [
    "df_doct['MOTIRSE2'].sort_values().unique() # Blank as ' '"
   ]
  },
  {
   "cell_type": "code",
   "execution_count": null,
   "metadata": {},
   "outputs": [],
   "source": [
    "df_doct['MOTIRSE3'].sort_values().unique() # Blank as ' '"
   ]
  },
  {
   "cell_type": "code",
   "execution_count": null,
   "metadata": {},
   "outputs": [],
   "source": [
    "df_doct['MOTIRSE4'].sort_values().unique() # Blank as ' '"
   ]
  },
  {
   "cell_type": "code",
   "execution_count": null,
   "metadata": {},
   "outputs": [],
   "source": [
    "df_doct['MOTIRSE5'].sort_values().unique() # Blank as ' '"
   ]
  },
  {
   "cell_type": "code",
   "execution_count": null,
   "metadata": {},
   "outputs": [],
   "source": [
    "df_doct['MOTIRSE6'].sort_values().unique() # Blank as ' '"
   ]
  },
  {
   "cell_type": "code",
   "execution_count": null,
   "metadata": {},
   "outputs": [],
   "source": [
    "df_doct['CONTOUT'].sort_values().unique() "
   ]
  },
  {
   "cell_type": "code",
   "execution_count": null,
   "metadata": {},
   "outputs": [],
   "source": [
    "df_doct['INV'].sort_values().unique() # Blank as ' '"
   ]
  },
  {
   "cell_type": "code",
   "execution_count": null,
   "metadata": {},
   "outputs": [],
   "source": [
    "df_doct['MOTNOINV1'].sort_values().unique() # Blank as ' '"
   ]
  },
  {
   "cell_type": "code",
   "execution_count": null,
   "metadata": {},
   "outputs": [],
   "source": [
    "df_doct['MOTNOINV2'].sort_values().unique() # Blank as ' '"
   ]
  },
  {
   "cell_type": "code",
   "execution_count": null,
   "metadata": {},
   "outputs": [],
   "source": [
    "df_doct['MOTNOINV3'].sort_values().unique() # Blank as ' '"
   ]
  },
  {
   "cell_type": "code",
   "execution_count": null,
   "metadata": {},
   "outputs": [],
   "source": [
    "df_doct['MOTNOINV4'].sort_values().unique() # Blank as ' '"
   ]
  },
  {
   "cell_type": "code",
   "execution_count": null,
   "metadata": {},
   "outputs": [],
   "source": [
    "df_doct['MOTNOINV5'].sort_values().unique() # Blank as ' '"
   ]
  },
  {
   "cell_type": "code",
   "execution_count": null,
   "metadata": {},
   "outputs": [],
   "source": [
    "df_doct['MOTNOINV6'].sort_values().unique() # Blank as ' '"
   ]
  },
  {
   "cell_type": "code",
   "execution_count": null,
   "metadata": {},
   "outputs": [],
   "source": [
    "df_doct['MOTNOINV7'].sort_values().unique() # Blank as ' '"
   ]
  },
  {
   "cell_type": "code",
   "execution_count": null,
   "metadata": {},
   "outputs": [],
   "source": [
    "df_doct['MOTNOINV8'].sort_values().unique() # Blank as ' '"
   ]
  },
  {
   "cell_type": "code",
   "execution_count": null,
   "metadata": {},
   "outputs": [],
   "source": [
    "df_doct['MOTNOINV9'].sort_values().unique() # Blank as ' '"
   ]
  },
  {
   "cell_type": "code",
   "execution_count": null,
   "metadata": {},
   "outputs": [],
   "source": [
    "df_doct['MOTNOINV9'].sort_values().unique() # Blank as ' '"
   ]
  },
  {
   "cell_type": "code",
   "execution_count": null,
   "metadata": {},
   "outputs": [],
   "source": [
    "df_doct['MOTINV1'].sort_values().unique() # Blank as ' '"
   ]
  },
  {
   "cell_type": "code",
   "execution_count": null,
   "metadata": {},
   "outputs": [],
   "source": [
    "df_doct['MOTINV2'].sort_values().unique() # Blank as ' '"
   ]
  },
  {
   "cell_type": "code",
   "execution_count": null,
   "metadata": {},
   "outputs": [],
   "source": [
    "df_doct['MOTINV3'].sort_values().unique() # Blank as ' '"
   ]
  },
  {
   "cell_type": "code",
   "execution_count": null,
   "metadata": {},
   "outputs": [],
   "source": [
    "df_doct['MOTINV4'].sort_values().unique() # Blank as ' '"
   ]
  },
  {
   "cell_type": "code",
   "execution_count": null,
   "metadata": {},
   "outputs": [],
   "source": [
    "df_doct['MOTINV5'].sort_values().unique() # Blank as ' '"
   ]
  },
  {
   "cell_type": "code",
   "execution_count": null,
   "metadata": {},
   "outputs": [],
   "source": [
    "df_doct['MOTINV6'].sort_values().unique() # Blank as ' '"
   ]
  },
  {
   "cell_type": "code",
   "execution_count": null,
   "metadata": {},
   "outputs": [],
   "source": [
    "df_doct['MOTINV7'].sort_values().unique() # Blank as ' '"
   ]
  },
  {
   "cell_type": "code",
   "execution_count": null,
   "metadata": {},
   "outputs": [],
   "source": [
    "df_doct['MOTINV8'].sort_values().unique() # Blank as ' '"
   ]
  },
  {
   "cell_type": "code",
   "execution_count": null,
   "metadata": {},
   "outputs": [],
   "source": [
    "df_doct['MOTINV9'].sort_values().unique() # Blank as ' '"
   ]
  },
  {
   "cell_type": "code",
   "execution_count": null,
   "metadata": {},
   "outputs": [],
   "source": [
    "df_doct['MESESINV'].sort_values().unique() # Blank as '  .'"
   ]
  },
  {
   "cell_type": "code",
   "execution_count": null,
   "metadata": {},
   "outputs": [],
   "source": [
    "df_doct['ARTIC'].sort_values().unique() # Blank as ' '"
   ]
  },
  {
   "cell_type": "code",
   "execution_count": null,
   "metadata": {},
   "outputs": [],
   "source": [
    "df_doct['LIBROS'].sort_values().unique() # Blank as ' '"
   ]
  },
  {
   "cell_type": "code",
   "execution_count": null,
   "metadata": {},
   "outputs": [],
   "source": [
    "df_doct['NUMPAT'].sort_values().unique() # Blank as ' '"
   ]
  },
  {
   "cell_type": "code",
   "execution_count": null,
   "metadata": {},
   "outputs": [],
   "source": [
    "df_doct['PATNAC'].sort_values().unique() # Blank as ' '"
   ]
  },
  {
   "cell_type": "code",
   "execution_count": null,
   "metadata": {},
   "outputs": [],
   "source": [
    "df_doct['PATEU'].sort_values().unique() # Blank as ' '"
   ]
  },
  {
   "cell_type": "code",
   "execution_count": null,
   "metadata": {},
   "outputs": [],
   "source": [
    "df_doct['PATCOOP'].sort_values().unique() # Blank as ' '"
   ]
  },
  {
   "cell_type": "code",
   "execution_count": null,
   "metadata": {},
   "outputs": [],
   "source": [
    "df_doct['PATCOM'].sort_values().unique() # Blank as ' '"
   ]
  },
  {
   "cell_type": "code",
   "execution_count": null,
   "metadata": {},
   "outputs": [],
   "source": [
    "df_doct['COMPA'].sort_values().unique() # Blank as ' '"
   ]
  },
  {
   "cell_type": "code",
   "execution_count": null,
   "metadata": {},
   "outputs": [],
   "source": [
    "df_doct['TUTOR'].sort_values().unique() # Blank as ' '"
   ]
  },
  {
   "cell_type": "code",
   "execution_count": null,
   "metadata": {},
   "outputs": [],
   "source": [
    "df_doct['COOPERA'].sort_values().unique() # Blank as ' '"
   ]
  },
  {
   "cell_type": "code",
   "execution_count": null,
   "metadata": {},
   "outputs": [],
   "source": [
    "df_doct['INVFUT'].sort_values().unique() # Blank as ' '"
   ]
  },
  {
   "cell_type": "code",
   "execution_count": null,
   "metadata": {},
   "outputs": [],
   "source": [
    "df_doct['FACTOR'].sort_values().unique()"
   ]
  },
  {
   "cell_type": "code",
   "execution_count": 688,
   "metadata": {},
   "outputs": [
    {
     "name": "stdout",
     "output_type": "stream",
     "text": [
      "MUIDENT int64\n",
      "CCAARESI int64\n",
      "ANONAC int64\n",
      "CCAANAC object\n",
      "CONTNACIM object\n",
      "RELA int64\n",
      "CONTNAC1 object\n",
      "CONTNAC2 object\n",
      "CONTNAC3 object\n",
      "SEXO int64\n",
      "ESTADOCIVIL int64\n",
      "DEPEN5 int64\n",
      "DEPEN18 int64\n",
      "DEPENMAS int64\n",
      "NIVESTPA float64\n",
      "NIVESTMA float64\n",
      "NIVPROFPA int64\n",
      "NIVPROFMA int64\n",
      "ACTIPRIPA1 int64\n",
      "ACTIPRIMA1 float64\n",
      "EDUPRIM int64\n",
      "EDUSECUN int64\n",
      "BACHILLER int64\n",
      "RES int64\n",
      "CARES1 object\n",
      "MESRES1 float64\n",
      "CARES2 object\n",
      "MESRES2 int64\n",
      "CARES3 object\n",
      "MESRES3 int64\n",
      "CODIDOC int64\n",
      "INFUN int64\n",
      "INAPL int64\n",
      "DESTEC int64\n",
      "ANODOC int64\n",
      "MESDOC int64\n",
      "DURDOCANO int64\n",
      "DURDOCMES int64\n",
      "CONTEST object\n",
      "ANOEST int64\n",
      "FINADOC int64\n",
      "TRABDOC int64\n",
      "ANOSINTRA float64\n",
      "MESSINTRA float64\n",
      "SITLAB int64\n",
      "HTRAB int64\n",
      "INGRESOS int64\n",
      "AUTON int64\n",
      "CNAE2 float64\n",
      "ANOINIALP float64\n",
      "CAEMP float64\n",
      "CONTEMP object\n",
      "SECTOR float64\n",
      "CODALP float64\n",
      "CATEGPROF float64\n",
      "HLECT float64\n",
      "TIPOCONT float64\n",
      "JORLAB float64\n",
      "BUSCATRAB float64\n",
      "NIVELMIN float64\n",
      "NIVELEST float64\n",
      "RELTRABDOC float64\n",
      "NIVELSAT1 float64\n",
      "NIVELSAT2 float64\n",
      "NIVELSAT3 float64\n",
      "NIVELSAT4 float64\n",
      "NIVELSAT5 float64\n",
      "NIVELSAT6 float64\n",
      "NIVELSAT7 float64\n",
      "NIVELSAT8 float64\n",
      "NIVELSAT9 float64\n",
      "NIVELSAT10 float64\n",
      "NIVELSAT11 float64\n",
      "NIVELSAT12 float64\n",
      "NIVELSAT13 float64\n",
      "ACTIANT float64\n",
      "SECTORANT float64\n",
      "ACTIPRIANT float64\n",
      "ACTIANTANO float64\n",
      "ACTIANTMES float64\n",
      "TRABPOS float64\n",
      "MOTIVOPOS1 float64\n",
      "MOTIVOPOS2 float64\n",
      "MOTIVOPOS3 float64\n",
      "MOTIVOPOS4 float64\n",
      "MOTIVOPOS5 float64\n",
      "MOTIVOPOS6 float64\n",
      "MOTIVOPOS7 float64\n",
      "MOTIVOPOS8 float64\n",
      "PORCINVES float64\n",
      "PORCDOC float64\n",
      "PORCOTRAS float64\n",
      "FINANPOS float64\n",
      "GESBUSEMP float64\n",
      "PASOSEMP1 float64\n",
      "PASOSEMP2 float64\n",
      "PASOSEMP3 float64\n",
      "PASOSEMP4 float64\n",
      "PASOSEMP5 float64\n",
      "PASOSEMP6 float64\n",
      "PASOSEMP7 float64\n",
      "PASOSEMP8 float64\n",
      "PASOSEMP9 float64\n",
      "PASOSEMP10 float64\n",
      "PASOSEMP11 float64\n",
      "NOPASOSEMP1 float64\n",
      "NOPASOSEMP2 float64\n",
      "NOPASOSEMP3 float64\n",
      "NOPASOSEMP4 float64\n",
      "NOPASOSEMP5 float64\n",
      "NOPASOSEMP6 float64\n",
      "NOPASOSEMP7 float64\n",
      "NOPASOSEMP8 float64\n",
      "NOPASOSEMP9 float64\n",
      "CONT1 object\n",
      "ANOIPAIS1 float64\n",
      "ANOFPAIS1 float64\n",
      "MESES1 float64\n",
      "CONT2 object\n",
      "ANOIPAIS2 float64\n",
      "ANOFPAIS2 float64\n",
      "MESES2 float64\n",
      "CONT3 object\n",
      "ANOIPAIS3 float64\n",
      "ANOFPAIS3 float64\n",
      "MESES3 float64\n",
      "CONT4 object\n",
      "ANOIPAIS4 float64\n",
      "ANOFPAIS4 float64\n",
      "MESES4 float64\n",
      "CONT5 object\n",
      "ANOIPAIS5 float64\n",
      "ANOFPAIS5 float64\n",
      "MESES5 float64\n",
      "CONT6 object\n",
      "ANOIPAIS6 float64\n",
      "ANOFPAIS6 float64\n",
      "MESES6 float64\n",
      "CONT7 object\n",
      "ANOIPAIS7 float64\n",
      "ANOFPAIS7 float64\n",
      "MESES7 float64\n",
      "MOTFUERA1 object\n",
      "MOTFUERA2 object\n",
      "MOTFUERA3 object\n",
      "MOTFUERA4 object\n",
      "MOTFUERA5 object\n",
      "MOTFUERA6 object\n",
      "MOTFUERA7 object\n",
      "MOTVENIR1 object\n",
      "MOTVENIR2 object\n",
      "MOTVENIR3 object\n",
      "MOTVENIR4 object\n",
      "MOTVENIR5 object\n",
      "MOTVENIR6 object\n",
      "MOTVENIR7 object\n",
      "PREVIRSE object\n",
      "MESANTESIR object\n",
      "MOTIRSE1 object\n",
      "MOTIRSE2 object\n",
      "MOTIRSE3 object\n",
      "MOTIRSE4 object\n",
      "MOTIRSE5 object\n",
      "MOTIRSE6 object\n",
      "CONTOUT object\n",
      "INV object\n",
      "MOTNOINV1 object\n",
      "MOTNOINV2 object\n",
      "MOTNOINV3 object\n",
      "MOTNOINV4 object\n",
      "MOTNOINV5 object\n",
      "MOTNOINV6 object\n",
      "MOTNOINV7 object\n",
      "MOTNOINV8 object\n",
      "MOTNOINV9 object\n",
      "ALGINV object\n",
      "MOTINV1 object\n",
      "MOTINV2 object\n",
      "MOTINV3 object\n",
      "MOTINV4 object\n",
      "MOTINV5 object\n",
      "MOTINV6 object\n",
      "MOTINV7 object\n",
      "MOTINV8 object\n",
      "MOTINV9 object\n",
      "MESESINV object\n",
      "ARTIC object\n",
      "LIBROS object\n",
      "NUMPAT object\n",
      "PATNAC object\n",
      "PATEU object\n",
      "PATCOOP object\n",
      "PATCOM object\n",
      "COMPA object\n",
      "TUTOR object\n",
      "COOPERA object\n",
      "INVFUT object\n",
      "FACTOR object\n",
      "Tmpo_doc float64\n",
      "Tmpo_s/T float64\n",
      "(3416, 'ANOFPAIS2') float64\n",
      "(733, 'ANOFPAIS2') float64\n"
     ]
    }
   ],
   "source": [
    "for col in df_doct.columns: \n",
    "    print (col, df_doct[col].dtype)"
   ]
  },
  {
   "cell_type": "code",
   "execution_count": null,
   "metadata": {},
   "outputs": [],
   "source": []
  },
  {
   "cell_type": "code",
   "execution_count": null,
   "metadata": {},
   "outputs": [],
   "source": []
  }
 ],
 "metadata": {
  "kernelspec": {
   "display_name": "Python 3",
   "language": "python",
   "name": "python3"
  },
  "language_info": {
   "codemirror_mode": {
    "name": "ipython",
    "version": 3
   },
   "file_extension": ".py",
   "mimetype": "text/x-python",
   "name": "python",
   "nbconvert_exporter": "python",
   "pygments_lexer": "ipython3",
   "version": "3.6.9"
  }
 },
 "nbformat": 4,
 "nbformat_minor": 4
}
