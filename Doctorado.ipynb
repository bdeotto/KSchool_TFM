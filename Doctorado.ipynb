{
 "cells": [
  {
   "cell_type": "code",
   "execution_count": 1,
   "metadata": {},
   "outputs": [],
   "source": [
    "import pandas as pd\n",
    "import numpy as np\n",
    "pd.options.display.max_columns=None\n",
    "pd.options.display.max_colwidth=300\n",
    "from lower_case_dict import d_dict as D_dict\n",
    "from lower_case_dict import d_describe as D_describe\n",
    "from lower_case_dict import D_ambito_to_rama\n",
    "import traduce as tr\n",
    "import xlrd"
   ]
  },
  {
   "cell_type": "markdown",
   "metadata": {},
   "source": [
    "Los **diccionarios de las variables originales** en la encuesta y los definidos para las **variables nuevas** (creadas inicialmente para el dataset de graduados 2019) se importan del **módulo lower_case_dict**:  \n",
    "\n",
    "- **D_dict**; diccionarios de traducción de las variables categóricas. Construidos de acuerdo con los códigos facilitados en el archivo de diseño de la encuesta 'dr_EILU_GRAD_2019.xlsx' y con los definidos para las variables nuevas creadas en la inspeccion de la encuesta de graduados 2019. Para cada variable: D_dict[variable][código_categórico]=interpretación_código. \n",
    "- **D_describe**; diccionario de interpretación de las variables originales y nuevas: D_describe[variable]=interpretación_variable.   \n",
    "\n",
    "También se importa del módulo lower_case_dict el diccionario D_ambito_to_rama que asocia los ámbitos de estudios a su rama de conocimiento. "
   ]
  },
  {
   "cell_type": "markdown",
   "metadata": {},
   "source": [
    "Se importa el **módulo traduce** y se transforman sus **funciones traduce() y leyenda()** para simplificar sus argumentos:\n"
   ]
  },
  {
   "cell_type": "code",
   "execution_count": 2,
   "metadata": {},
   "outputs": [],
   "source": [
    "def traduce(col,check=True,save=True):\n",
    "    return tr.traduce(df=df,dicc=D_dict,LO_=v_originales_L,LM=v_modelos,LM_=v_modelos_L,\n",
    "                      col=col,check=check,save=save)\n",
    "def leyenda(col):\n",
    "    return tr.leyenda(D_dict,col)"
   ]
  },
  {
   "cell_type": "markdown",
   "metadata": {},
   "source": [
    "# Recuperación del dataset\n",
    "Dataset cargado en el DataFrame df_raw: todas las columnas aparecen en un único string.  \n",
    "Las instrucciones para separar el string de datos en columnas están recogidas en el fichero disreg_recurciencia.xls. Las columnas relevantes para asignar nombres a las variables y establecer los caracteres correspondientes se cargan en el Dataframe df_aux: \n",
    "- Columna 'Nemotécnico' (renombrada 'Col_name'): denominación de las variables o columnas. \n",
    "- Columna 'Fin': último caracter correspondiente a cada columna. "
   ]
  },
  {
   "cell_type": "code",
   "execution_count": 3,
   "metadata": {},
   "outputs": [
    {
     "data": {
      "text/html": [
       "<div>\n",
       "<style scoped>\n",
       "    .dataframe tbody tr th:only-of-type {\n",
       "        vertical-align: middle;\n",
       "    }\n",
       "\n",
       "    .dataframe tbody tr th {\n",
       "        vertical-align: top;\n",
       "    }\n",
       "\n",
       "    .dataframe thead th {\n",
       "        text-align: right;\n",
       "    }\n",
       "</style>\n",
       "<table border=\"1\" class=\"dataframe\">\n",
       "  <thead>\n",
       "    <tr style=\"text-align: right;\">\n",
       "      <th></th>\n",
       "      <th>string</th>\n",
       "    </tr>\n",
       "  </thead>\n",
       "  <tbody>\n",
       "    <tr>\n",
       "      <th>0</th>\n",
       "      <td>01000416196516EU271EU27NNNNNNNN21 0 2 07 8 122222211612NN 0NN 013031111992 9 311EU27198810 . .1418147200016EU271226 1 1 33311111432111110 NNN . .0          .  .  .                      NMOV   .   .  .NMOV   .   .  .NMOV   .   .  .NMOV   .   .  .NMOV   .   .  .NMOV   .   .  .NMOV   .   .  .      ...</td>\n",
       "    </tr>\n",
       "    <tr>\n",
       "      <th>1</th>\n",
       "      <td>01000616197213EU271EU27NNNNNNNN21 0 0 08 7 151N33111612NN 0NN 01104110200011 211EU27199511 0 02 .  NN   .NNNNNN NNN                       NNN . .           .  .  . 111111 1 1           NMOV   .   .  .NMOV   .   .  .NMOV   .   .  .NMOV   .   .  .NMOV   .   .  .NMOV   .   .  .NMOV   .   .  .      ...</td>\n",
       "    </tr>\n",
       "    <tr>\n",
       "      <th>2</th>\n",
       "      <td>01000716196816EU271EU27NNNNNNNN21 1 1 02 2 155N11111612NN 0NN 015041102001 6 9 2EU27199161 1 11405185200517EU27223124 1 22122111212111110 NNN . .0          .  .  .                      NMOV   .   .  .NMOV   .   .  .NMOV   .   .  .NMOV   .   .  .NMOV   .   .  .NMOV   .   .  .NMOV   .   .  .      ...</td>\n",
       "    </tr>\n",
       "    <tr>\n",
       "      <th>3</th>\n",
       "      <td>01000816196916EU271EU27NNNNNNNN26 0 2 03 3 127912111612NN 0NN 012070112002 2 8 5EU27199361 0 11376085199616EU2732314311 22112111112111110 NNN . .0          .  .  .                      EU2720062009 48EU2720052005  7EU2720002005 65NMOV   .   .  .NMOV   .   .  .NMOV   .   .  .NMOV   .   .  .   1  ...</td>\n",
       "    </tr>\n",
       "    <tr>\n",
       "      <th>4</th>\n",
       "      <td>01000916197516EU271EU27NNNNNNNN21 0 0 04 3 157N22211612NN 0NN 013031002002 6 4 0EU27199810 . .1408021200216EU271226 211 33222222211222220 NNN . .0          .  .  .                      NMOV   .   .  .NMOV   .   .  .NMOV   .   .  .NMOV   .   .  .NMOV   .   .  .NMOV   .   .  .NMOV   .   .  .      ...</td>\n",
       "    </tr>\n",
       "  </tbody>\n",
       "</table>\n",
       "</div>"
      ],
      "text/plain": [
       "                                                                                                                                                                                                                                                                                                        string\n",
       "0  01000416196516EU271EU27NNNNNNNN21 0 2 07 8 122222211612NN 0NN 013031111992 9 311EU27198810 . .1418147200016EU271226 1 1 33311111432111110 NNN . .0          .  .  .                      NMOV   .   .  .NMOV   .   .  .NMOV   .   .  .NMOV   .   .  .NMOV   .   .  .NMOV   .   .  .NMOV   .   .  .      ...\n",
       "1  01000616197213EU271EU27NNNNNNNN21 0 0 08 7 151N33111612NN 0NN 01104110200011 211EU27199511 0 02 .  NN   .NNNNNN NNN                       NNN . .           .  .  . 111111 1 1           NMOV   .   .  .NMOV   .   .  .NMOV   .   .  .NMOV   .   .  .NMOV   .   .  .NMOV   .   .  .NMOV   .   .  .      ...\n",
       "2  01000716196816EU271EU27NNNNNNNN21 1 1 02 2 155N11111612NN 0NN 015041102001 6 9 2EU27199161 1 11405185200517EU27223124 1 22122111212111110 NNN . .0          .  .  .                      NMOV   .   .  .NMOV   .   .  .NMOV   .   .  .NMOV   .   .  .NMOV   .   .  .NMOV   .   .  .NMOV   .   .  .      ...\n",
       "3  01000816196916EU271EU27NNNNNNNN26 0 2 03 3 127912111612NN 0NN 012070112002 2 8 5EU27199361 0 11376085199616EU2732314311 22112111112111110 NNN . .0          .  .  .                      EU2720062009 48EU2720052005  7EU2720002005 65NMOV   .   .  .NMOV   .   .  .NMOV   .   .  .NMOV   .   .  .   1  ...\n",
       "4  01000916197516EU271EU27NNNNNNNN21 0 0 04 3 157N22211612NN 0NN 013031002002 6 4 0EU27199810 . .1408021200216EU271226 211 33222222211222220 NNN . .0          .  .  .                      NMOV   .   .  .NMOV   .   .  .NMOV   .   .  .NMOV   .   .  .NMOV   .   .  .NMOV   .   .  .NMOV   .   .  .      ..."
      ]
     },
     "execution_count": 3,
     "metadata": {},
     "output_type": "execute_result"
    }
   ],
   "source": [
    "# Dataset con un único string sin separadores: \n",
    "df_raw=pd.read_csv('/home/bea/Escritorio/KSchool_TFM/Principales/Encuesta_RRHH_Ciencia_Tecnologia_2009/RRHH09.txt',\n",
    "                   header=0,names=['string'])\n",
    "df_raw.head()"
   ]
  },
  {
   "cell_type": "code",
   "execution_count": 4,
   "metadata": {},
   "outputs": [],
   "source": [
    "# Dataset auxiliar: permite separar el string de datos en df_raw en columnas:\n",
    "df_aux=pd.read_excel('/home/bea/Escritorio/KSchool_TFM/Principales/Encuesta_RRHH_Ciencia_Tecnologia_2009/disreg_recurciencia.xls',\n",
    "                    sheet_name='RRHH09',skiprows=2,usecols=['Nemotécnico','Fin'],skipfooter=6)\n",
    "# Columna de nombres de las variables de df_raw:\n",
    "df_aux.rename(columns={'Nemotécnico':'Col_name'},inplace=True) \n",
    "# Columna de último caracter correspondiente a cada variable (numerados desde 1):\n",
    "df_aux['Fin']=df_aux['Fin'].astype('int') "
   ]
  },
  {
   "cell_type": "code",
   "execution_count": 5,
   "metadata": {},
   "outputs": [
    {
     "data": {
      "text/html": [
       "<div>\n",
       "<style scoped>\n",
       "    .dataframe tbody tr th:only-of-type {\n",
       "        vertical-align: middle;\n",
       "    }\n",
       "\n",
       "    .dataframe tbody tr th {\n",
       "        vertical-align: top;\n",
       "    }\n",
       "\n",
       "    .dataframe thead th {\n",
       "        text-align: right;\n",
       "    }\n",
       "</style>\n",
       "<table border=\"1\" class=\"dataframe\">\n",
       "  <thead>\n",
       "    <tr style=\"text-align: right;\">\n",
       "      <th></th>\n",
       "      <th>Col_name</th>\n",
       "      <th>Fin</th>\n",
       "    </tr>\n",
       "  </thead>\n",
       "  <tbody>\n",
       "    <tr>\n",
       "      <th>0</th>\n",
       "      <td>MUIDENT</td>\n",
       "      <td>6</td>\n",
       "    </tr>\n",
       "    <tr>\n",
       "      <th>1</th>\n",
       "      <td>CCAARESI</td>\n",
       "      <td>8</td>\n",
       "    </tr>\n",
       "    <tr>\n",
       "      <th>2</th>\n",
       "      <td>ANONAC</td>\n",
       "      <td>12</td>\n",
       "    </tr>\n",
       "    <tr>\n",
       "      <th>3</th>\n",
       "      <td>CCAANAC</td>\n",
       "      <td>14</td>\n",
       "    </tr>\n",
       "    <tr>\n",
       "      <th>4</th>\n",
       "      <td>CONTNACIM</td>\n",
       "      <td>18</td>\n",
       "    </tr>\n",
       "  </tbody>\n",
       "</table>\n",
       "</div>"
      ],
      "text/plain": [
       "    Col_name  Fin\n",
       "0    MUIDENT    6\n",
       "1   CCAARESI    8\n",
       "2     ANONAC   12\n",
       "3    CCAANAC   14\n",
       "4  CONTNACIM   18"
      ]
     },
     "execution_count": 5,
     "metadata": {},
     "output_type": "execute_result"
    }
   ],
   "source": [
    "# Denominaciones de columnas ('Col_name') y último caracter que ocupan ('Fin'):\n",
    "df_aux.head()"
   ]
  },
  {
   "cell_type": "code",
   "execution_count": 6,
   "metadata": {},
   "outputs": [
    {
     "data": {
      "text/html": [
       "<div>\n",
       "<style scoped>\n",
       "    .dataframe tbody tr th:only-of-type {\n",
       "        vertical-align: middle;\n",
       "    }\n",
       "\n",
       "    .dataframe tbody tr th {\n",
       "        vertical-align: top;\n",
       "    }\n",
       "\n",
       "    .dataframe thead th {\n",
       "        text-align: right;\n",
       "    }\n",
       "</style>\n",
       "<table border=\"1\" class=\"dataframe\">\n",
       "  <thead>\n",
       "    <tr style=\"text-align: right;\">\n",
       "      <th></th>\n",
       "      <th>Col_name</th>\n",
       "      <th>Fin</th>\n",
       "    </tr>\n",
       "  </thead>\n",
       "  <tbody>\n",
       "    <tr>\n",
       "      <th>194</th>\n",
       "      <td>COMPA</td>\n",
       "      <td>356</td>\n",
       "    </tr>\n",
       "    <tr>\n",
       "      <th>195</th>\n",
       "      <td>TUTOR</td>\n",
       "      <td>357</td>\n",
       "    </tr>\n",
       "    <tr>\n",
       "      <th>196</th>\n",
       "      <td>COOPERA</td>\n",
       "      <td>358</td>\n",
       "    </tr>\n",
       "    <tr>\n",
       "      <th>197</th>\n",
       "      <td>INVFUT</td>\n",
       "      <td>359</td>\n",
       "    </tr>\n",
       "    <tr>\n",
       "      <th>198</th>\n",
       "      <td>FACTOR</td>\n",
       "      <td>370</td>\n",
       "    </tr>\n",
       "  </tbody>\n",
       "</table>\n",
       "</div>"
      ],
      "text/plain": [
       "    Col_name  Fin\n",
       "194    COMPA  356\n",
       "195    TUTOR  357\n",
       "196  COOPERA  358\n",
       "197   INVFUT  359\n",
       "198   FACTOR  370"
      ]
     },
     "execution_count": 6,
     "metadata": {},
     "output_type": "execute_result"
    }
   ],
   "source": [
    "df_aux.tail()"
   ]
  },
  {
   "cell_type": "markdown",
   "metadata": {},
   "source": [
    "## Recuperación de las variables\n",
    "Cada fila de df_aux corresponde a una variable (o columna) del dataset: incluye nombre de la variable y posición del último caracter. \n",
    "Para separar el string único df_raw['string'] en columnas y asignarle a cada una su denominacion original: "
   ]
  },
  {
   "cell_type": "code",
   "execution_count": 7,
   "metadata": {},
   "outputs": [
    {
     "data": {
      "text/html": [
       "<div>\n",
       "<style scoped>\n",
       "    .dataframe tbody tr th:only-of-type {\n",
       "        vertical-align: middle;\n",
       "    }\n",
       "\n",
       "    .dataframe tbody tr th {\n",
       "        vertical-align: top;\n",
       "    }\n",
       "\n",
       "    .dataframe thead th {\n",
       "        text-align: right;\n",
       "    }\n",
       "</style>\n",
       "<table border=\"1\" class=\"dataframe\">\n",
       "  <thead>\n",
       "    <tr style=\"text-align: right;\">\n",
       "      <th></th>\n",
       "      <th>MUIDENT</th>\n",
       "      <th>CCAARESI</th>\n",
       "      <th>ANONAC</th>\n",
       "      <th>CCAANAC</th>\n",
       "      <th>CONTNACIM</th>\n",
       "      <th>RELA</th>\n",
       "      <th>CONTNAC1</th>\n",
       "      <th>CONTNAC2</th>\n",
       "      <th>CONTNAC3</th>\n",
       "      <th>SEXO</th>\n",
       "      <th>ESTADOCIVIL</th>\n",
       "      <th>DEPEN5</th>\n",
       "      <th>DEPEN18</th>\n",
       "      <th>DEPENMAS</th>\n",
       "      <th>NIVESTPA</th>\n",
       "      <th>NIVESTMA</th>\n",
       "      <th>NIVPROFPA</th>\n",
       "      <th>NIVPROFMA</th>\n",
       "      <th>ACTIPRIPA1</th>\n",
       "      <th>ACTIPRIMA1</th>\n",
       "      <th>EDUPRIM</th>\n",
       "      <th>EDUSECUN</th>\n",
       "      <th>BACHILLER</th>\n",
       "      <th>RES</th>\n",
       "      <th>CARES1</th>\n",
       "      <th>MESRES1</th>\n",
       "      <th>CARES2</th>\n",
       "      <th>MESRES2</th>\n",
       "      <th>CARES3</th>\n",
       "      <th>MESRES3</th>\n",
       "      <th>DOCTOR</th>\n",
       "      <th>CODIDOC</th>\n",
       "      <th>INFUN</th>\n",
       "      <th>INAPL</th>\n",
       "      <th>DESTEC</th>\n",
       "      <th>ANODOC</th>\n",
       "      <th>MESDOC</th>\n",
       "      <th>DURDOCANO</th>\n",
       "      <th>DURDOCMES</th>\n",
       "      <th>CONTEST</th>\n",
       "      <th>ANOEST</th>\n",
       "      <th>FINADOC</th>\n",
       "      <th>TRABDOC</th>\n",
       "      <th>ANOSINTRA</th>\n",
       "      <th>MESSINTRA</th>\n",
       "      <th>SITLAB</th>\n",
       "      <th>HTRAB</th>\n",
       "      <th>INGRESOS</th>\n",
       "      <th>AUTON</th>\n",
       "      <th>CNAE2</th>\n",
       "      <th>ANOINIALP</th>\n",
       "      <th>CAEMP</th>\n",
       "      <th>CONTEMP</th>\n",
       "      <th>SECTOR</th>\n",
       "      <th>CODALP</th>\n",
       "      <th>CATEGPROF</th>\n",
       "      <th>HLECT</th>\n",
       "      <th>TIPOCONT</th>\n",
       "      <th>JORLAB</th>\n",
       "      <th>BUSCATRAB</th>\n",
       "      <th>NIVELMIN</th>\n",
       "      <th>NIVELEST</th>\n",
       "      <th>RELTRABDOC</th>\n",
       "      <th>NIVELSAT1</th>\n",
       "      <th>NIVELSAT2</th>\n",
       "      <th>NIVELSAT3</th>\n",
       "      <th>NIVELSAT4</th>\n",
       "      <th>NIVELSAT5</th>\n",
       "      <th>NIVELSAT6</th>\n",
       "      <th>NIVELSAT7</th>\n",
       "      <th>NIVELSAT8</th>\n",
       "      <th>NIVELSAT9</th>\n",
       "      <th>NIVELSAT10</th>\n",
       "      <th>NIVELSAT11</th>\n",
       "      <th>NIVELSAT12</th>\n",
       "      <th>NIVELSAT13</th>\n",
       "      <th>ACTIANT</th>\n",
       "      <th>SECTORANT</th>\n",
       "      <th>ACTIPRIANT</th>\n",
       "      <th>ACTIANTANO</th>\n",
       "      <th>ACTIANTMES</th>\n",
       "      <th>TRABPOS</th>\n",
       "      <th>MOTIVOPOS1</th>\n",
       "      <th>MOTIVOPOS2</th>\n",
       "      <th>MOTIVOPOS3</th>\n",
       "      <th>MOTIVOPOS4</th>\n",
       "      <th>MOTIVOPOS5</th>\n",
       "      <th>MOTIVOPOS6</th>\n",
       "      <th>MOTIVOPOS7</th>\n",
       "      <th>MOTIVOPOS8</th>\n",
       "      <th>PORCINVES</th>\n",
       "      <th>PORCDOC</th>\n",
       "      <th>PORCOTRAS</th>\n",
       "      <th>FINANPOS</th>\n",
       "      <th>GESBUSEMP</th>\n",
       "      <th>PASOSEMP1</th>\n",
       "      <th>PASOSEMP2</th>\n",
       "      <th>PASOSEMP3</th>\n",
       "      <th>PASOSEMP4</th>\n",
       "      <th>PASOSEMP5</th>\n",
       "      <th>PASOSEMP6</th>\n",
       "      <th>PASOSEMP7</th>\n",
       "      <th>PASOSEMP8</th>\n",
       "      <th>PASOSEMP9</th>\n",
       "      <th>PASOSEMP10</th>\n",
       "      <th>PASOSEMP11</th>\n",
       "      <th>NOPASOSEMP1</th>\n",
       "      <th>NOPASOSEMP2</th>\n",
       "      <th>NOPASOSEMP3</th>\n",
       "      <th>NOPASOSEMP4</th>\n",
       "      <th>NOPASOSEMP5</th>\n",
       "      <th>NOPASOSEMP6</th>\n",
       "      <th>NOPASOSEMP7</th>\n",
       "      <th>NOPASOSEMP8</th>\n",
       "      <th>NOPASOSEMP9</th>\n",
       "      <th>CONT1</th>\n",
       "      <th>ANOIPAIS1</th>\n",
       "      <th>ANOFPAIS1</th>\n",
       "      <th>MESES1</th>\n",
       "      <th>CONT2</th>\n",
       "      <th>ANOIPAIS2</th>\n",
       "      <th>ANOFPAIS2</th>\n",
       "      <th>MESES2</th>\n",
       "      <th>CONT3</th>\n",
       "      <th>ANOIPAIS3</th>\n",
       "      <th>ANOFPAIS3</th>\n",
       "      <th>MESES3</th>\n",
       "      <th>CONT4</th>\n",
       "      <th>ANOIPAIS4</th>\n",
       "      <th>ANOFPAIS4</th>\n",
       "      <th>MESES4</th>\n",
       "      <th>CONT5</th>\n",
       "      <th>ANOIPAIS5</th>\n",
       "      <th>ANOFPAIS5</th>\n",
       "      <th>MESES5</th>\n",
       "      <th>CONT6</th>\n",
       "      <th>ANOIPAIS6</th>\n",
       "      <th>ANOFPAIS6</th>\n",
       "      <th>MESES6</th>\n",
       "      <th>CONT7</th>\n",
       "      <th>ANOIPAIS7</th>\n",
       "      <th>ANOFPAIS7</th>\n",
       "      <th>MESES7</th>\n",
       "      <th>MOTFUERA1</th>\n",
       "      <th>MOTFUERA2</th>\n",
       "      <th>MOTFUERA3</th>\n",
       "      <th>MOTFUERA4</th>\n",
       "      <th>MOTFUERA5</th>\n",
       "      <th>MOTFUERA6</th>\n",
       "      <th>MOTFUERA7</th>\n",
       "      <th>MOTVENIR1</th>\n",
       "      <th>MOTVENIR2</th>\n",
       "      <th>MOTVENIR3</th>\n",
       "      <th>MOTVENIR4</th>\n",
       "      <th>MOTVENIR5</th>\n",
       "      <th>MOTVENIR6</th>\n",
       "      <th>MOTVENIR7</th>\n",
       "      <th>PREVIRSE</th>\n",
       "      <th>MESANTESIR</th>\n",
       "      <th>MOTIRSE1</th>\n",
       "      <th>MOTIRSE2</th>\n",
       "      <th>MOTIRSE3</th>\n",
       "      <th>MOTIRSE4</th>\n",
       "      <th>MOTIRSE5</th>\n",
       "      <th>MOTIRSE6</th>\n",
       "      <th>CONTOUT</th>\n",
       "      <th>INV</th>\n",
       "      <th>MOTNOINV1</th>\n",
       "      <th>MOTNOINV2</th>\n",
       "      <th>MOTNOINV3</th>\n",
       "      <th>MOTNOINV4</th>\n",
       "      <th>MOTNOINV5</th>\n",
       "      <th>MOTNOINV6</th>\n",
       "      <th>MOTNOINV7</th>\n",
       "      <th>MOTNOINV8</th>\n",
       "      <th>MOTNOINV9</th>\n",
       "      <th>ALGINV</th>\n",
       "      <th>MOTINV1</th>\n",
       "      <th>MOTINV2</th>\n",
       "      <th>MOTINV3</th>\n",
       "      <th>MOTINV4</th>\n",
       "      <th>MOTINV5</th>\n",
       "      <th>MOTINV6</th>\n",
       "      <th>MOTINV7</th>\n",
       "      <th>MOTINV8</th>\n",
       "      <th>MOTINV9</th>\n",
       "      <th>MESESINV</th>\n",
       "      <th>ARTIC</th>\n",
       "      <th>LIBROS</th>\n",
       "      <th>NUMPAT</th>\n",
       "      <th>PATNAC</th>\n",
       "      <th>PATEU</th>\n",
       "      <th>PATCOOP</th>\n",
       "      <th>PATCOM</th>\n",
       "      <th>COMPA</th>\n",
       "      <th>TUTOR</th>\n",
       "      <th>COOPERA</th>\n",
       "      <th>INVFUT</th>\n",
       "      <th>FACTOR</th>\n",
       "    </tr>\n",
       "  </thead>\n",
       "  <tbody>\n",
       "    <tr>\n",
       "      <th>0</th>\n",
       "      <td>010004</td>\n",
       "      <td>16</td>\n",
       "      <td>1965</td>\n",
       "      <td>16</td>\n",
       "      <td>EU27</td>\n",
       "      <td>1</td>\n",
       "      <td>EU27</td>\n",
       "      <td>NNNN</td>\n",
       "      <td>NNNN</td>\n",
       "      <td>2</td>\n",
       "      <td>1</td>\n",
       "      <td>0</td>\n",
       "      <td>2</td>\n",
       "      <td>0</td>\n",
       "      <td>7</td>\n",
       "      <td>8</td>\n",
       "      <td>1</td>\n",
       "      <td>2</td>\n",
       "      <td>2</td>\n",
       "      <td>2</td>\n",
       "      <td>2</td>\n",
       "      <td>2</td>\n",
       "      <td>2</td>\n",
       "      <td>1</td>\n",
       "      <td>16</td>\n",
       "      <td>12</td>\n",
       "      <td>NN</td>\n",
       "      <td>0</td>\n",
       "      <td>NN</td>\n",
       "      <td>0</td>\n",
       "      <td>1</td>\n",
       "      <td>303</td>\n",
       "      <td>1</td>\n",
       "      <td>1</td>\n",
       "      <td>1</td>\n",
       "      <td>1992</td>\n",
       "      <td>9</td>\n",
       "      <td>3</td>\n",
       "      <td>11</td>\n",
       "      <td>EU27</td>\n",
       "      <td>1988</td>\n",
       "      <td>1</td>\n",
       "      <td>0</td>\n",
       "      <td>.</td>\n",
       "      <td>.</td>\n",
       "      <td>1</td>\n",
       "      <td>41</td>\n",
       "      <td>8</td>\n",
       "      <td>1</td>\n",
       "      <td>47</td>\n",
       "      <td>2000</td>\n",
       "      <td>16</td>\n",
       "      <td>EU27</td>\n",
       "      <td>1</td>\n",
       "      <td>226</td>\n",
       "      <td></td>\n",
       "      <td>1</td>\n",
       "      <td></td>\n",
       "      <td>1</td>\n",
       "      <td></td>\n",
       "      <td>3</td>\n",
       "      <td>3</td>\n",
       "      <td>3</td>\n",
       "      <td>1</td>\n",
       "      <td>1</td>\n",
       "      <td>1</td>\n",
       "      <td>1</td>\n",
       "      <td>1</td>\n",
       "      <td>4</td>\n",
       "      <td>3</td>\n",
       "      <td>2</td>\n",
       "      <td>1</td>\n",
       "      <td>1</td>\n",
       "      <td>1</td>\n",
       "      <td>1</td>\n",
       "      <td>1</td>\n",
       "      <td>0</td>\n",
       "      <td></td>\n",
       "      <td>NNN</td>\n",
       "      <td>.</td>\n",
       "      <td>.</td>\n",
       "      <td>0</td>\n",
       "      <td></td>\n",
       "      <td></td>\n",
       "      <td></td>\n",
       "      <td></td>\n",
       "      <td></td>\n",
       "      <td></td>\n",
       "      <td></td>\n",
       "      <td></td>\n",
       "      <td>.</td>\n",
       "      <td>.</td>\n",
       "      <td>.</td>\n",
       "      <td></td>\n",
       "      <td></td>\n",
       "      <td></td>\n",
       "      <td></td>\n",
       "      <td></td>\n",
       "      <td></td>\n",
       "      <td></td>\n",
       "      <td></td>\n",
       "      <td></td>\n",
       "      <td></td>\n",
       "      <td></td>\n",
       "      <td></td>\n",
       "      <td></td>\n",
       "      <td></td>\n",
       "      <td></td>\n",
       "      <td></td>\n",
       "      <td></td>\n",
       "      <td></td>\n",
       "      <td></td>\n",
       "      <td></td>\n",
       "      <td></td>\n",
       "      <td></td>\n",
       "      <td>NMOV</td>\n",
       "      <td>.</td>\n",
       "      <td>.</td>\n",
       "      <td>.</td>\n",
       "      <td>NMOV</td>\n",
       "      <td>.</td>\n",
       "      <td>.</td>\n",
       "      <td>.</td>\n",
       "      <td>NMOV</td>\n",
       "      <td>.</td>\n",
       "      <td>.</td>\n",
       "      <td>.</td>\n",
       "      <td>NMOV</td>\n",
       "      <td>.</td>\n",
       "      <td>.</td>\n",
       "      <td>.</td>\n",
       "      <td>NMOV</td>\n",
       "      <td>.</td>\n",
       "      <td>.</td>\n",
       "      <td>.</td>\n",
       "      <td>NMOV</td>\n",
       "      <td>.</td>\n",
       "      <td>.</td>\n",
       "      <td>.</td>\n",
       "      <td>NMOV</td>\n",
       "      <td>.</td>\n",
       "      <td>.</td>\n",
       "      <td>.</td>\n",
       "      <td></td>\n",
       "      <td></td>\n",
       "      <td></td>\n",
       "      <td></td>\n",
       "      <td></td>\n",
       "      <td></td>\n",
       "      <td></td>\n",
       "      <td></td>\n",
       "      <td></td>\n",
       "      <td></td>\n",
       "      <td></td>\n",
       "      <td></td>\n",
       "      <td></td>\n",
       "      <td></td>\n",
       "      <td>3</td>\n",
       "      <td></td>\n",
       "      <td></td>\n",
       "      <td></td>\n",
       "      <td></td>\n",
       "      <td></td>\n",
       "      <td></td>\n",
       "      <td></td>\n",
       "      <td>NMOV</td>\n",
       "      <td>0</td>\n",
       "      <td></td>\n",
       "      <td></td>\n",
       "      <td></td>\n",
       "      <td></td>\n",
       "      <td></td>\n",
       "      <td></td>\n",
       "      <td></td>\n",
       "      <td></td>\n",
       "      <td>1</td>\n",
       "      <td>0</td>\n",
       "      <td></td>\n",
       "      <td></td>\n",
       "      <td></td>\n",
       "      <td></td>\n",
       "      <td></td>\n",
       "      <td></td>\n",
       "      <td></td>\n",
       "      <td></td>\n",
       "      <td></td>\n",
       "      <td>.</td>\n",
       "      <td>.</td>\n",
       "      <td>.</td>\n",
       "      <td>.</td>\n",
       "      <td>.</td>\n",
       "      <td>.</td>\n",
       "      <td>.</td>\n",
       "      <td>0</td>\n",
       "      <td>0</td>\n",
       "      <td>0</td>\n",
       "      <td>0</td>\n",
       "      <td>0</td>\n",
       "      <td>13.04720815</td>\n",
       "    </tr>\n",
       "    <tr>\n",
       "      <th>1</th>\n",
       "      <td>010006</td>\n",
       "      <td>16</td>\n",
       "      <td>1972</td>\n",
       "      <td>13</td>\n",
       "      <td>EU27</td>\n",
       "      <td>1</td>\n",
       "      <td>EU27</td>\n",
       "      <td>NNNN</td>\n",
       "      <td>NNNN</td>\n",
       "      <td>2</td>\n",
       "      <td>1</td>\n",
       "      <td>0</td>\n",
       "      <td>0</td>\n",
       "      <td>0</td>\n",
       "      <td>8</td>\n",
       "      <td>7</td>\n",
       "      <td>1</td>\n",
       "      <td>5</td>\n",
       "      <td>1</td>\n",
       "      <td>N</td>\n",
       "      <td>3</td>\n",
       "      <td>3</td>\n",
       "      <td>1</td>\n",
       "      <td>1</td>\n",
       "      <td>16</td>\n",
       "      <td>12</td>\n",
       "      <td>NN</td>\n",
       "      <td>0</td>\n",
       "      <td>NN</td>\n",
       "      <td>0</td>\n",
       "      <td>1</td>\n",
       "      <td>104</td>\n",
       "      <td>1</td>\n",
       "      <td>1</td>\n",
       "      <td>0</td>\n",
       "      <td>2000</td>\n",
       "      <td>11</td>\n",
       "      <td>2</td>\n",
       "      <td>11</td>\n",
       "      <td>EU27</td>\n",
       "      <td>1995</td>\n",
       "      <td>1</td>\n",
       "      <td>1</td>\n",
       "      <td>0</td>\n",
       "      <td>0</td>\n",
       "      <td>2</td>\n",
       "      <td>.</td>\n",
       "      <td></td>\n",
       "      <td></td>\n",
       "      <td>NN</td>\n",
       "      <td>.</td>\n",
       "      <td>NN</td>\n",
       "      <td>NNNN</td>\n",
       "      <td></td>\n",
       "      <td>NNN</td>\n",
       "      <td></td>\n",
       "      <td></td>\n",
       "      <td></td>\n",
       "      <td></td>\n",
       "      <td></td>\n",
       "      <td></td>\n",
       "      <td></td>\n",
       "      <td></td>\n",
       "      <td></td>\n",
       "      <td></td>\n",
       "      <td></td>\n",
       "      <td></td>\n",
       "      <td></td>\n",
       "      <td></td>\n",
       "      <td></td>\n",
       "      <td></td>\n",
       "      <td></td>\n",
       "      <td></td>\n",
       "      <td></td>\n",
       "      <td></td>\n",
       "      <td></td>\n",
       "      <td></td>\n",
       "      <td></td>\n",
       "      <td>NNN</td>\n",
       "      <td>.</td>\n",
       "      <td>.</td>\n",
       "      <td></td>\n",
       "      <td></td>\n",
       "      <td></td>\n",
       "      <td></td>\n",
       "      <td></td>\n",
       "      <td></td>\n",
       "      <td></td>\n",
       "      <td></td>\n",
       "      <td></td>\n",
       "      <td>.</td>\n",
       "      <td>.</td>\n",
       "      <td>.</td>\n",
       "      <td></td>\n",
       "      <td>1</td>\n",
       "      <td>1</td>\n",
       "      <td>1</td>\n",
       "      <td>1</td>\n",
       "      <td>1</td>\n",
       "      <td>1</td>\n",
       "      <td></td>\n",
       "      <td>1</td>\n",
       "      <td></td>\n",
       "      <td>1</td>\n",
       "      <td></td>\n",
       "      <td></td>\n",
       "      <td></td>\n",
       "      <td></td>\n",
       "      <td></td>\n",
       "      <td></td>\n",
       "      <td></td>\n",
       "      <td></td>\n",
       "      <td></td>\n",
       "      <td></td>\n",
       "      <td></td>\n",
       "      <td>NMOV</td>\n",
       "      <td>.</td>\n",
       "      <td>.</td>\n",
       "      <td>.</td>\n",
       "      <td>NMOV</td>\n",
       "      <td>.</td>\n",
       "      <td>.</td>\n",
       "      <td>.</td>\n",
       "      <td>NMOV</td>\n",
       "      <td>.</td>\n",
       "      <td>.</td>\n",
       "      <td>.</td>\n",
       "      <td>NMOV</td>\n",
       "      <td>.</td>\n",
       "      <td>.</td>\n",
       "      <td>.</td>\n",
       "      <td>NMOV</td>\n",
       "      <td>.</td>\n",
       "      <td>.</td>\n",
       "      <td>.</td>\n",
       "      <td>NMOV</td>\n",
       "      <td>.</td>\n",
       "      <td>.</td>\n",
       "      <td>.</td>\n",
       "      <td>NMOV</td>\n",
       "      <td>.</td>\n",
       "      <td>.</td>\n",
       "      <td>.</td>\n",
       "      <td></td>\n",
       "      <td></td>\n",
       "      <td></td>\n",
       "      <td></td>\n",
       "      <td></td>\n",
       "      <td></td>\n",
       "      <td></td>\n",
       "      <td></td>\n",
       "      <td></td>\n",
       "      <td></td>\n",
       "      <td></td>\n",
       "      <td></td>\n",
       "      <td></td>\n",
       "      <td></td>\n",
       "      <td>3</td>\n",
       "      <td></td>\n",
       "      <td></td>\n",
       "      <td></td>\n",
       "      <td></td>\n",
       "      <td></td>\n",
       "      <td></td>\n",
       "      <td></td>\n",
       "      <td>NMOV</td>\n",
       "      <td>0</td>\n",
       "      <td></td>\n",
       "      <td>1</td>\n",
       "      <td></td>\n",
       "      <td></td>\n",
       "      <td></td>\n",
       "      <td></td>\n",
       "      <td></td>\n",
       "      <td></td>\n",
       "      <td></td>\n",
       "      <td>1</td>\n",
       "      <td>1</td>\n",
       "      <td></td>\n",
       "      <td></td>\n",
       "      <td></td>\n",
       "      <td></td>\n",
       "      <td></td>\n",
       "      <td></td>\n",
       "      <td></td>\n",
       "      <td></td>\n",
       "      <td>36</td>\n",
       "      <td>0</td>\n",
       "      <td>0</td>\n",
       "      <td>0</td>\n",
       "      <td>0</td>\n",
       "      <td>0</td>\n",
       "      <td>0</td>\n",
       "      <td>0</td>\n",
       "      <td>0</td>\n",
       "      <td>0</td>\n",
       "      <td>1</td>\n",
       "      <td>0</td>\n",
       "      <td>13.04720815</td>\n",
       "    </tr>\n",
       "    <tr>\n",
       "      <th>2</th>\n",
       "      <td>010007</td>\n",
       "      <td>16</td>\n",
       "      <td>1968</td>\n",
       "      <td>16</td>\n",
       "      <td>EU27</td>\n",
       "      <td>1</td>\n",
       "      <td>EU27</td>\n",
       "      <td>NNNN</td>\n",
       "      <td>NNNN</td>\n",
       "      <td>2</td>\n",
       "      <td>1</td>\n",
       "      <td>1</td>\n",
       "      <td>1</td>\n",
       "      <td>0</td>\n",
       "      <td>2</td>\n",
       "      <td>2</td>\n",
       "      <td>1</td>\n",
       "      <td>5</td>\n",
       "      <td>5</td>\n",
       "      <td>N</td>\n",
       "      <td>1</td>\n",
       "      <td>1</td>\n",
       "      <td>1</td>\n",
       "      <td>1</td>\n",
       "      <td>16</td>\n",
       "      <td>12</td>\n",
       "      <td>NN</td>\n",
       "      <td>0</td>\n",
       "      <td>NN</td>\n",
       "      <td>0</td>\n",
       "      <td>1</td>\n",
       "      <td>504</td>\n",
       "      <td>1</td>\n",
       "      <td>1</td>\n",
       "      <td>0</td>\n",
       "      <td>2001</td>\n",
       "      <td>6</td>\n",
       "      <td>9</td>\n",
       "      <td>2</td>\n",
       "      <td>EU27</td>\n",
       "      <td>1991</td>\n",
       "      <td>6</td>\n",
       "      <td>1</td>\n",
       "      <td>1</td>\n",
       "      <td>1</td>\n",
       "      <td>1</td>\n",
       "      <td>40</td>\n",
       "      <td>5</td>\n",
       "      <td>1</td>\n",
       "      <td>85</td>\n",
       "      <td>2005</td>\n",
       "      <td>17</td>\n",
       "      <td>EU27</td>\n",
       "      <td>2</td>\n",
       "      <td>231</td>\n",
       "      <td>2</td>\n",
       "      <td>4</td>\n",
       "      <td></td>\n",
       "      <td>1</td>\n",
       "      <td></td>\n",
       "      <td>2</td>\n",
       "      <td>2</td>\n",
       "      <td>1</td>\n",
       "      <td>2</td>\n",
       "      <td>2</td>\n",
       "      <td>1</td>\n",
       "      <td>1</td>\n",
       "      <td>1</td>\n",
       "      <td>2</td>\n",
       "      <td>1</td>\n",
       "      <td>2</td>\n",
       "      <td>1</td>\n",
       "      <td>1</td>\n",
       "      <td>1</td>\n",
       "      <td>1</td>\n",
       "      <td>1</td>\n",
       "      <td>0</td>\n",
       "      <td></td>\n",
       "      <td>NNN</td>\n",
       "      <td>.</td>\n",
       "      <td>.</td>\n",
       "      <td>0</td>\n",
       "      <td></td>\n",
       "      <td></td>\n",
       "      <td></td>\n",
       "      <td></td>\n",
       "      <td></td>\n",
       "      <td></td>\n",
       "      <td></td>\n",
       "      <td></td>\n",
       "      <td>.</td>\n",
       "      <td>.</td>\n",
       "      <td>.</td>\n",
       "      <td></td>\n",
       "      <td></td>\n",
       "      <td></td>\n",
       "      <td></td>\n",
       "      <td></td>\n",
       "      <td></td>\n",
       "      <td></td>\n",
       "      <td></td>\n",
       "      <td></td>\n",
       "      <td></td>\n",
       "      <td></td>\n",
       "      <td></td>\n",
       "      <td></td>\n",
       "      <td></td>\n",
       "      <td></td>\n",
       "      <td></td>\n",
       "      <td></td>\n",
       "      <td></td>\n",
       "      <td></td>\n",
       "      <td></td>\n",
       "      <td></td>\n",
       "      <td></td>\n",
       "      <td>NMOV</td>\n",
       "      <td>.</td>\n",
       "      <td>.</td>\n",
       "      <td>.</td>\n",
       "      <td>NMOV</td>\n",
       "      <td>.</td>\n",
       "      <td>.</td>\n",
       "      <td>.</td>\n",
       "      <td>NMOV</td>\n",
       "      <td>.</td>\n",
       "      <td>.</td>\n",
       "      <td>.</td>\n",
       "      <td>NMOV</td>\n",
       "      <td>.</td>\n",
       "      <td>.</td>\n",
       "      <td>.</td>\n",
       "      <td>NMOV</td>\n",
       "      <td>.</td>\n",
       "      <td>.</td>\n",
       "      <td>.</td>\n",
       "      <td>NMOV</td>\n",
       "      <td>.</td>\n",
       "      <td>.</td>\n",
       "      <td>.</td>\n",
       "      <td>NMOV</td>\n",
       "      <td>.</td>\n",
       "      <td>.</td>\n",
       "      <td>.</td>\n",
       "      <td></td>\n",
       "      <td></td>\n",
       "      <td></td>\n",
       "      <td></td>\n",
       "      <td></td>\n",
       "      <td></td>\n",
       "      <td></td>\n",
       "      <td></td>\n",
       "      <td></td>\n",
       "      <td></td>\n",
       "      <td></td>\n",
       "      <td></td>\n",
       "      <td></td>\n",
       "      <td></td>\n",
       "      <td>3</td>\n",
       "      <td></td>\n",
       "      <td></td>\n",
       "      <td></td>\n",
       "      <td></td>\n",
       "      <td></td>\n",
       "      <td></td>\n",
       "      <td></td>\n",
       "      <td>NMOV</td>\n",
       "      <td>1</td>\n",
       "      <td></td>\n",
       "      <td></td>\n",
       "      <td></td>\n",
       "      <td></td>\n",
       "      <td></td>\n",
       "      <td></td>\n",
       "      <td></td>\n",
       "      <td></td>\n",
       "      <td></td>\n",
       "      <td></td>\n",
       "      <td>1</td>\n",
       "      <td></td>\n",
       "      <td></td>\n",
       "      <td></td>\n",
       "      <td></td>\n",
       "      <td></td>\n",
       "      <td></td>\n",
       "      <td></td>\n",
       "      <td></td>\n",
       "      <td>40</td>\n",
       "      <td>4</td>\n",
       "      <td>2</td>\n",
       "      <td>0</td>\n",
       "      <td>0</td>\n",
       "      <td>0</td>\n",
       "      <td>0</td>\n",
       "      <td>0</td>\n",
       "      <td>0</td>\n",
       "      <td>0</td>\n",
       "      <td>1</td>\n",
       "      <td>1</td>\n",
       "      <td>13.04720815</td>\n",
       "    </tr>\n",
       "    <tr>\n",
       "      <th>3</th>\n",
       "      <td>010008</td>\n",
       "      <td>16</td>\n",
       "      <td>1969</td>\n",
       "      <td>16</td>\n",
       "      <td>EU27</td>\n",
       "      <td>1</td>\n",
       "      <td>EU27</td>\n",
       "      <td>NNNN</td>\n",
       "      <td>NNNN</td>\n",
       "      <td>2</td>\n",
       "      <td>6</td>\n",
       "      <td>0</td>\n",
       "      <td>2</td>\n",
       "      <td>0</td>\n",
       "      <td>3</td>\n",
       "      <td>3</td>\n",
       "      <td>1</td>\n",
       "      <td>2</td>\n",
       "      <td>7</td>\n",
       "      <td>9</td>\n",
       "      <td>1</td>\n",
       "      <td>2</td>\n",
       "      <td>1</td>\n",
       "      <td>1</td>\n",
       "      <td>16</td>\n",
       "      <td>12</td>\n",
       "      <td>NN</td>\n",
       "      <td>0</td>\n",
       "      <td>NN</td>\n",
       "      <td>0</td>\n",
       "      <td>1</td>\n",
       "      <td>207</td>\n",
       "      <td>0</td>\n",
       "      <td>1</td>\n",
       "      <td>1</td>\n",
       "      <td>2002</td>\n",
       "      <td>2</td>\n",
       "      <td>8</td>\n",
       "      <td>5</td>\n",
       "      <td>EU27</td>\n",
       "      <td>1993</td>\n",
       "      <td>6</td>\n",
       "      <td>1</td>\n",
       "      <td>0</td>\n",
       "      <td>1</td>\n",
       "      <td>1</td>\n",
       "      <td>37</td>\n",
       "      <td>6</td>\n",
       "      <td>0</td>\n",
       "      <td>85</td>\n",
       "      <td>1996</td>\n",
       "      <td>16</td>\n",
       "      <td>EU27</td>\n",
       "      <td>3</td>\n",
       "      <td>231</td>\n",
       "      <td>4</td>\n",
       "      <td>3</td>\n",
       "      <td>1</td>\n",
       "      <td>1</td>\n",
       "      <td></td>\n",
       "      <td>2</td>\n",
       "      <td>2</td>\n",
       "      <td>1</td>\n",
       "      <td>1</td>\n",
       "      <td>2</td>\n",
       "      <td>1</td>\n",
       "      <td>1</td>\n",
       "      <td>1</td>\n",
       "      <td>1</td>\n",
       "      <td>1</td>\n",
       "      <td>2</td>\n",
       "      <td>1</td>\n",
       "      <td>1</td>\n",
       "      <td>1</td>\n",
       "      <td>1</td>\n",
       "      <td>1</td>\n",
       "      <td>0</td>\n",
       "      <td></td>\n",
       "      <td>NNN</td>\n",
       "      <td>.</td>\n",
       "      <td>.</td>\n",
       "      <td>0</td>\n",
       "      <td></td>\n",
       "      <td></td>\n",
       "      <td></td>\n",
       "      <td></td>\n",
       "      <td></td>\n",
       "      <td></td>\n",
       "      <td></td>\n",
       "      <td></td>\n",
       "      <td>.</td>\n",
       "      <td>.</td>\n",
       "      <td>.</td>\n",
       "      <td></td>\n",
       "      <td></td>\n",
       "      <td></td>\n",
       "      <td></td>\n",
       "      <td></td>\n",
       "      <td></td>\n",
       "      <td></td>\n",
       "      <td></td>\n",
       "      <td></td>\n",
       "      <td></td>\n",
       "      <td></td>\n",
       "      <td></td>\n",
       "      <td></td>\n",
       "      <td></td>\n",
       "      <td></td>\n",
       "      <td></td>\n",
       "      <td></td>\n",
       "      <td></td>\n",
       "      <td></td>\n",
       "      <td></td>\n",
       "      <td></td>\n",
       "      <td></td>\n",
       "      <td>EU27</td>\n",
       "      <td>2006</td>\n",
       "      <td>2009</td>\n",
       "      <td>48</td>\n",
       "      <td>EU27</td>\n",
       "      <td>2005</td>\n",
       "      <td>2005</td>\n",
       "      <td>7</td>\n",
       "      <td>EU27</td>\n",
       "      <td>2000</td>\n",
       "      <td>2005</td>\n",
       "      <td>65</td>\n",
       "      <td>NMOV</td>\n",
       "      <td>.</td>\n",
       "      <td>.</td>\n",
       "      <td>.</td>\n",
       "      <td>NMOV</td>\n",
       "      <td>.</td>\n",
       "      <td>.</td>\n",
       "      <td>.</td>\n",
       "      <td>NMOV</td>\n",
       "      <td>.</td>\n",
       "      <td>.</td>\n",
       "      <td>.</td>\n",
       "      <td>NMOV</td>\n",
       "      <td>.</td>\n",
       "      <td>.</td>\n",
       "      <td>.</td>\n",
       "      <td></td>\n",
       "      <td></td>\n",
       "      <td></td>\n",
       "      <td>1</td>\n",
       "      <td></td>\n",
       "      <td></td>\n",
       "      <td></td>\n",
       "      <td></td>\n",
       "      <td>1</td>\n",
       "      <td></td>\n",
       "      <td></td>\n",
       "      <td></td>\n",
       "      <td></td>\n",
       "      <td></td>\n",
       "      <td>2</td>\n",
       "      <td>5</td>\n",
       "      <td></td>\n",
       "      <td></td>\n",
       "      <td>1</td>\n",
       "      <td></td>\n",
       "      <td></td>\n",
       "      <td></td>\n",
       "      <td>EUCA</td>\n",
       "      <td>1</td>\n",
       "      <td></td>\n",
       "      <td></td>\n",
       "      <td></td>\n",
       "      <td></td>\n",
       "      <td></td>\n",
       "      <td></td>\n",
       "      <td></td>\n",
       "      <td></td>\n",
       "      <td></td>\n",
       "      <td></td>\n",
       "      <td></td>\n",
       "      <td></td>\n",
       "      <td></td>\n",
       "      <td></td>\n",
       "      <td></td>\n",
       "      <td></td>\n",
       "      <td></td>\n",
       "      <td>1</td>\n",
       "      <td></td>\n",
       "      <td>120</td>\n",
       "      <td>3</td>\n",
       "      <td>10</td>\n",
       "      <td>0</td>\n",
       "      <td>0</td>\n",
       "      <td>0</td>\n",
       "      <td>0</td>\n",
       "      <td>0</td>\n",
       "      <td>0</td>\n",
       "      <td>0</td>\n",
       "      <td>1</td>\n",
       "      <td>1</td>\n",
       "      <td>13.04720815</td>\n",
       "    </tr>\n",
       "    <tr>\n",
       "      <th>4</th>\n",
       "      <td>010009</td>\n",
       "      <td>16</td>\n",
       "      <td>1975</td>\n",
       "      <td>16</td>\n",
       "      <td>EU27</td>\n",
       "      <td>1</td>\n",
       "      <td>EU27</td>\n",
       "      <td>NNNN</td>\n",
       "      <td>NNNN</td>\n",
       "      <td>2</td>\n",
       "      <td>1</td>\n",
       "      <td>0</td>\n",
       "      <td>0</td>\n",
       "      <td>0</td>\n",
       "      <td>4</td>\n",
       "      <td>3</td>\n",
       "      <td>1</td>\n",
       "      <td>5</td>\n",
       "      <td>7</td>\n",
       "      <td>N</td>\n",
       "      <td>2</td>\n",
       "      <td>2</td>\n",
       "      <td>2</td>\n",
       "      <td>1</td>\n",
       "      <td>16</td>\n",
       "      <td>12</td>\n",
       "      <td>NN</td>\n",
       "      <td>0</td>\n",
       "      <td>NN</td>\n",
       "      <td>0</td>\n",
       "      <td>1</td>\n",
       "      <td>303</td>\n",
       "      <td>1</td>\n",
       "      <td>0</td>\n",
       "      <td>0</td>\n",
       "      <td>2002</td>\n",
       "      <td>6</td>\n",
       "      <td>4</td>\n",
       "      <td>0</td>\n",
       "      <td>EU27</td>\n",
       "      <td>1998</td>\n",
       "      <td>1</td>\n",
       "      <td>0</td>\n",
       "      <td>.</td>\n",
       "      <td>.</td>\n",
       "      <td>1</td>\n",
       "      <td>40</td>\n",
       "      <td>8</td>\n",
       "      <td>0</td>\n",
       "      <td>21</td>\n",
       "      <td>2002</td>\n",
       "      <td>16</td>\n",
       "      <td>EU27</td>\n",
       "      <td>1</td>\n",
       "      <td>226</td>\n",
       "      <td></td>\n",
       "      <td>2</td>\n",
       "      <td>1</td>\n",
       "      <td>1</td>\n",
       "      <td></td>\n",
       "      <td>3</td>\n",
       "      <td>3</td>\n",
       "      <td>2</td>\n",
       "      <td>2</td>\n",
       "      <td>2</td>\n",
       "      <td>2</td>\n",
       "      <td>2</td>\n",
       "      <td>2</td>\n",
       "      <td>2</td>\n",
       "      <td>1</td>\n",
       "      <td>1</td>\n",
       "      <td>2</td>\n",
       "      <td>2</td>\n",
       "      <td>2</td>\n",
       "      <td>2</td>\n",
       "      <td>2</td>\n",
       "      <td>0</td>\n",
       "      <td></td>\n",
       "      <td>NNN</td>\n",
       "      <td>.</td>\n",
       "      <td>.</td>\n",
       "      <td>0</td>\n",
       "      <td></td>\n",
       "      <td></td>\n",
       "      <td></td>\n",
       "      <td></td>\n",
       "      <td></td>\n",
       "      <td></td>\n",
       "      <td></td>\n",
       "      <td></td>\n",
       "      <td>.</td>\n",
       "      <td>.</td>\n",
       "      <td>.</td>\n",
       "      <td></td>\n",
       "      <td></td>\n",
       "      <td></td>\n",
       "      <td></td>\n",
       "      <td></td>\n",
       "      <td></td>\n",
       "      <td></td>\n",
       "      <td></td>\n",
       "      <td></td>\n",
       "      <td></td>\n",
       "      <td></td>\n",
       "      <td></td>\n",
       "      <td></td>\n",
       "      <td></td>\n",
       "      <td></td>\n",
       "      <td></td>\n",
       "      <td></td>\n",
       "      <td></td>\n",
       "      <td></td>\n",
       "      <td></td>\n",
       "      <td></td>\n",
       "      <td></td>\n",
       "      <td>NMOV</td>\n",
       "      <td>.</td>\n",
       "      <td>.</td>\n",
       "      <td>.</td>\n",
       "      <td>NMOV</td>\n",
       "      <td>.</td>\n",
       "      <td>.</td>\n",
       "      <td>.</td>\n",
       "      <td>NMOV</td>\n",
       "      <td>.</td>\n",
       "      <td>.</td>\n",
       "      <td>.</td>\n",
       "      <td>NMOV</td>\n",
       "      <td>.</td>\n",
       "      <td>.</td>\n",
       "      <td>.</td>\n",
       "      <td>NMOV</td>\n",
       "      <td>.</td>\n",
       "      <td>.</td>\n",
       "      <td>.</td>\n",
       "      <td>NMOV</td>\n",
       "      <td>.</td>\n",
       "      <td>.</td>\n",
       "      <td>.</td>\n",
       "      <td>NMOV</td>\n",
       "      <td>.</td>\n",
       "      <td>.</td>\n",
       "      <td>.</td>\n",
       "      <td></td>\n",
       "      <td></td>\n",
       "      <td></td>\n",
       "      <td></td>\n",
       "      <td></td>\n",
       "      <td></td>\n",
       "      <td></td>\n",
       "      <td></td>\n",
       "      <td></td>\n",
       "      <td></td>\n",
       "      <td></td>\n",
       "      <td></td>\n",
       "      <td></td>\n",
       "      <td></td>\n",
       "      <td>3</td>\n",
       "      <td></td>\n",
       "      <td></td>\n",
       "      <td></td>\n",
       "      <td></td>\n",
       "      <td></td>\n",
       "      <td></td>\n",
       "      <td></td>\n",
       "      <td>NMOV</td>\n",
       "      <td>0</td>\n",
       "      <td></td>\n",
       "      <td></td>\n",
       "      <td></td>\n",
       "      <td></td>\n",
       "      <td></td>\n",
       "      <td></td>\n",
       "      <td></td>\n",
       "      <td></td>\n",
       "      <td>1</td>\n",
       "      <td>0</td>\n",
       "      <td></td>\n",
       "      <td></td>\n",
       "      <td></td>\n",
       "      <td></td>\n",
       "      <td></td>\n",
       "      <td></td>\n",
       "      <td></td>\n",
       "      <td></td>\n",
       "      <td></td>\n",
       "      <td>.</td>\n",
       "      <td>.</td>\n",
       "      <td>.</td>\n",
       "      <td>.</td>\n",
       "      <td>.</td>\n",
       "      <td>.</td>\n",
       "      <td>.</td>\n",
       "      <td>0</td>\n",
       "      <td>0</td>\n",
       "      <td>0</td>\n",
       "      <td>0</td>\n",
       "      <td>0</td>\n",
       "      <td>13.04720815</td>\n",
       "    </tr>\n",
       "  </tbody>\n",
       "</table>\n",
       "</div>"
      ],
      "text/plain": [
       "  MUIDENT CCAARESI ANONAC CCAANAC CONTNACIM RELA CONTNAC1 CONTNAC2 CONTNAC3  \\\n",
       "0  010004       16   1965      16      EU27    1     EU27     NNNN     NNNN   \n",
       "1  010006       16   1972      13      EU27    1     EU27     NNNN     NNNN   \n",
       "2  010007       16   1968      16      EU27    1     EU27     NNNN     NNNN   \n",
       "3  010008       16   1969      16      EU27    1     EU27     NNNN     NNNN   \n",
       "4  010009       16   1975      16      EU27    1     EU27     NNNN     NNNN   \n",
       "\n",
       "  SEXO ESTADOCIVIL DEPEN5 DEPEN18 DEPENMAS NIVESTPA NIVESTMA NIVPROFPA  \\\n",
       "0    2           1      0       2        0       7        8          1   \n",
       "1    2           1      0       0        0       8        7          1   \n",
       "2    2           1      1       1        0       2        2          1   \n",
       "3    2           6      0       2        0       3        3          1   \n",
       "4    2           1      0       0        0       4        3          1   \n",
       "\n",
       "  NIVPROFMA ACTIPRIPA1 ACTIPRIMA1 EDUPRIM EDUSECUN BACHILLER RES CARES1  \\\n",
       "0         2          2          2       2        2         2   1     16   \n",
       "1         5          1          N       3        3         1   1     16   \n",
       "2         5          5          N       1        1         1   1     16   \n",
       "3         2          7          9       1        2         1   1     16   \n",
       "4         5          7          N       2        2         2   1     16   \n",
       "\n",
       "  MESRES1 CARES2 MESRES2 CARES3 MESRES3 DOCTOR CODIDOC INFUN INAPL DESTEC  \\\n",
       "0      12     NN       0     NN       0      1     303     1     1      1   \n",
       "1      12     NN       0     NN       0      1     104     1     1      0   \n",
       "2      12     NN       0     NN       0      1     504     1     1      0   \n",
       "3      12     NN       0     NN       0      1     207     0     1      1   \n",
       "4      12     NN       0     NN       0      1     303     1     0      0   \n",
       "\n",
       "  ANODOC MESDOC DURDOCANO DURDOCMES CONTEST ANOEST FINADOC TRABDOC ANOSINTRA  \\\n",
       "0   1992      9         3        11    EU27   1988       1       0         .   \n",
       "1   2000     11         2        11    EU27   1995       1       1         0   \n",
       "2   2001      6         9         2    EU27   1991       6       1         1   \n",
       "3   2002      2         8         5    EU27   1993       6       1         0   \n",
       "4   2002      6         4         0    EU27   1998       1       0         .   \n",
       "\n",
       "  MESSINTRA SITLAB HTRAB INGRESOS AUTON CNAE2 ANOINIALP CAEMP CONTEMP SECTOR  \\\n",
       "0         .      1    41        8     1    47      2000    16    EU27      1   \n",
       "1         0      2     .                   NN         .    NN    NNNN          \n",
       "2         1      1    40        5     1    85      2005    17    EU27      2   \n",
       "3         1      1    37        6     0    85      1996    16    EU27      3   \n",
       "4         .      1    40        8     0    21      2002    16    EU27      1   \n",
       "\n",
       "  CODALP CATEGPROF HLECT TIPOCONT JORLAB BUSCATRAB NIVELMIN NIVELEST  \\\n",
       "0    226               1               1                  3        3   \n",
       "1    NNN                                                               \n",
       "2    231         2     4               1                  2        2   \n",
       "3    231         4     3        1      1                  2        2   \n",
       "4    226               2        1      1                  3        3   \n",
       "\n",
       "  RELTRABDOC NIVELSAT1 NIVELSAT2 NIVELSAT3 NIVELSAT4 NIVELSAT5 NIVELSAT6  \\\n",
       "0          3         1         1         1         1         1         4   \n",
       "1                                                                          \n",
       "2          1         2         2         1         1         1         2   \n",
       "3          1         1         2         1         1         1         1   \n",
       "4          2         2         2         2         2         2         2   \n",
       "\n",
       "  NIVELSAT7 NIVELSAT8 NIVELSAT9 NIVELSAT10 NIVELSAT11 NIVELSAT12 NIVELSAT13  \\\n",
       "0         3         2         1          1          1          1          1   \n",
       "1                                                                             \n",
       "2         1         2         1          1          1          1          1   \n",
       "3         1         2         1          1          1          1          1   \n",
       "4         1         1         2          2          2          2          2   \n",
       "\n",
       "  ACTIANT SECTORANT ACTIPRIANT ACTIANTANO ACTIANTMES TRABPOS MOTIVOPOS1  \\\n",
       "0       0                  NNN          .          .       0              \n",
       "1                          NNN          .          .                      \n",
       "2       0                  NNN          .          .       0              \n",
       "3       0                  NNN          .          .       0              \n",
       "4       0                  NNN          .          .       0              \n",
       "\n",
       "  MOTIVOPOS2 MOTIVOPOS3 MOTIVOPOS4 MOTIVOPOS5 MOTIVOPOS6 MOTIVOPOS7  \\\n",
       "0                                                                     \n",
       "1                                                                     \n",
       "2                                                                     \n",
       "3                                                                     \n",
       "4                                                                     \n",
       "\n",
       "  MOTIVOPOS8 PORCINVES PORCDOC PORCOTRAS FINANPOS GESBUSEMP PASOSEMP1  \\\n",
       "0                    .       .         .                                \n",
       "1                    .       .         .                  1         1   \n",
       "2                    .       .         .                                \n",
       "3                    .       .         .                                \n",
       "4                    .       .         .                                \n",
       "\n",
       "  PASOSEMP2 PASOSEMP3 PASOSEMP4 PASOSEMP5 PASOSEMP6 PASOSEMP7 PASOSEMP8  \\\n",
       "0                                                                         \n",
       "1         1         1         1         1                   1             \n",
       "2                                                                         \n",
       "3                                                                         \n",
       "4                                                                         \n",
       "\n",
       "  PASOSEMP9 PASOSEMP10 PASOSEMP11 NOPASOSEMP1 NOPASOSEMP2 NOPASOSEMP3  \\\n",
       "0                                                                       \n",
       "1         1                                                             \n",
       "2                                                                       \n",
       "3                                                                       \n",
       "4                                                                       \n",
       "\n",
       "  NOPASOSEMP4 NOPASOSEMP5 NOPASOSEMP6 NOPASOSEMP7 NOPASOSEMP8 NOPASOSEMP9  \\\n",
       "0                                                                           \n",
       "1                                                                           \n",
       "2                                                                           \n",
       "3                                                                           \n",
       "4                                                                           \n",
       "\n",
       "  CONT1 ANOIPAIS1 ANOFPAIS1 MESES1 CONT2 ANOIPAIS2 ANOFPAIS2 MESES2 CONT3  \\\n",
       "0  NMOV         .         .      .  NMOV         .         .      .  NMOV   \n",
       "1  NMOV         .         .      .  NMOV         .         .      .  NMOV   \n",
       "2  NMOV         .         .      .  NMOV         .         .      .  NMOV   \n",
       "3  EU27      2006      2009     48  EU27      2005      2005      7  EU27   \n",
       "4  NMOV         .         .      .  NMOV         .         .      .  NMOV   \n",
       "\n",
       "  ANOIPAIS3 ANOFPAIS3 MESES3 CONT4 ANOIPAIS4 ANOFPAIS4 MESES4 CONT5 ANOIPAIS5  \\\n",
       "0         .         .      .  NMOV         .         .      .  NMOV         .   \n",
       "1         .         .      .  NMOV         .         .      .  NMOV         .   \n",
       "2         .         .      .  NMOV         .         .      .  NMOV         .   \n",
       "3      2000      2005     65  NMOV         .         .      .  NMOV         .   \n",
       "4         .         .      .  NMOV         .         .      .  NMOV         .   \n",
       "\n",
       "  ANOFPAIS5 MESES5 CONT6 ANOIPAIS6 ANOFPAIS6 MESES6 CONT7 ANOIPAIS7 ANOFPAIS7  \\\n",
       "0         .      .  NMOV         .         .      .  NMOV         .         .   \n",
       "1         .      .  NMOV         .         .      .  NMOV         .         .   \n",
       "2         .      .  NMOV         .         .      .  NMOV         .         .   \n",
       "3         .      .  NMOV         .         .      .  NMOV         .         .   \n",
       "4         .      .  NMOV         .         .      .  NMOV         .         .   \n",
       "\n",
       "  MESES7 MOTFUERA1 MOTFUERA2 MOTFUERA3 MOTFUERA4 MOTFUERA5 MOTFUERA6  \\\n",
       "0      .                                                               \n",
       "1      .                                                               \n",
       "2      .                                                               \n",
       "3      .                                       1                       \n",
       "4      .                                                               \n",
       "\n",
       "  MOTFUERA7 MOTVENIR1 MOTVENIR2 MOTVENIR3 MOTVENIR4 MOTVENIR5 MOTVENIR6  \\\n",
       "0                                                                         \n",
       "1                                                                         \n",
       "2                                                                         \n",
       "3                             1                                           \n",
       "4                                                                         \n",
       "\n",
       "  MOTVENIR7 PREVIRSE MESANTESIR MOTIRSE1 MOTIRSE2 MOTIRSE3 MOTIRSE4 MOTIRSE5  \\\n",
       "0                  3                                                           \n",
       "1                  3                                                           \n",
       "2                  3                                                           \n",
       "3                  2          5                          1                     \n",
       "4                  3                                                           \n",
       "\n",
       "  MOTIRSE6 CONTOUT INV MOTNOINV1 MOTNOINV2 MOTNOINV3 MOTNOINV4 MOTNOINV5  \\\n",
       "0             NMOV   0                                                     \n",
       "1             NMOV   0                   1                                 \n",
       "2             NMOV   1                                                     \n",
       "3             EUCA   1                                                     \n",
       "4             NMOV   0                                                     \n",
       "\n",
       "  MOTNOINV6 MOTNOINV7 MOTNOINV8 MOTNOINV9 ALGINV MOTINV1 MOTINV2 MOTINV3  \\\n",
       "0                                       1      0                           \n",
       "1                                              1       1                   \n",
       "2                                                      1                   \n",
       "3                                                                          \n",
       "4                                       1      0                           \n",
       "\n",
       "  MOTINV4 MOTINV5 MOTINV6 MOTINV7 MOTINV8 MOTINV9 MESESINV ARTIC LIBROS  \\\n",
       "0                                                        .     .      .   \n",
       "1                                                       36     0      0   \n",
       "2                                                       40     4      2   \n",
       "3                                       1              120     3     10   \n",
       "4                                                        .     .      .   \n",
       "\n",
       "  NUMPAT PATNAC PATEU PATCOOP PATCOM COMPA TUTOR COOPERA INVFUT       FACTOR  \n",
       "0      .      .     .       .      0     0     0       0      0  13.04720815  \n",
       "1      0      0     0       0      0     0     0       1      0  13.04720815  \n",
       "2      0      0     0       0      0     0     0       1      1  13.04720815  \n",
       "3      0      0     0       0      0     0     0       1      1  13.04720815  \n",
       "4      .      .     .       .      0     0     0       0      0  13.04720815  "
      ]
     },
     "execution_count": 7,
     "metadata": {},
     "output_type": "execute_result"
    }
   ],
   "source": [
    "# Bucle para separar el string único de df_raw en columnas de acuerdo con instrucciones en df_aux: \n",
    "inicio=0\n",
    "for i in range(0,199):\n",
    "    df_raw[df_aux['Col_name'].iloc[i]]=df_raw['string'].str[inicio:df_aux['Fin'].iloc[i]]\n",
    "    inicio=df_aux['Fin'].iloc[i]\n",
    "del df_raw['string'] \n",
    "del df_aux\n",
    "df_raw.head()"
   ]
  },
  {
   "cell_type": "code",
   "execution_count": 8,
   "metadata": {},
   "outputs": [
    {
     "data": {
      "text/html": [
       "<div>\n",
       "<style scoped>\n",
       "    .dataframe tbody tr th:only-of-type {\n",
       "        vertical-align: middle;\n",
       "    }\n",
       "\n",
       "    .dataframe tbody tr th {\n",
       "        vertical-align: top;\n",
       "    }\n",
       "\n",
       "    .dataframe thead th {\n",
       "        text-align: right;\n",
       "    }\n",
       "</style>\n",
       "<table border=\"1\" class=\"dataframe\">\n",
       "  <thead>\n",
       "    <tr style=\"text-align: right;\">\n",
       "      <th></th>\n",
       "      <th>MUIDENT</th>\n",
       "      <th>CCAARESI</th>\n",
       "      <th>ANONAC</th>\n",
       "      <th>CCAANAC</th>\n",
       "      <th>CONTNACIM</th>\n",
       "      <th>RELA</th>\n",
       "      <th>CONTNAC1</th>\n",
       "      <th>CONTNAC2</th>\n",
       "      <th>CONTNAC3</th>\n",
       "      <th>SEXO</th>\n",
       "      <th>ESTADOCIVIL</th>\n",
       "      <th>DEPEN5</th>\n",
       "      <th>DEPEN18</th>\n",
       "      <th>DEPENMAS</th>\n",
       "      <th>NIVESTPA</th>\n",
       "      <th>NIVESTMA</th>\n",
       "      <th>NIVPROFPA</th>\n",
       "      <th>NIVPROFMA</th>\n",
       "      <th>ACTIPRIPA1</th>\n",
       "      <th>ACTIPRIMA1</th>\n",
       "      <th>EDUPRIM</th>\n",
       "      <th>EDUSECUN</th>\n",
       "      <th>BACHILLER</th>\n",
       "      <th>RES</th>\n",
       "      <th>CARES1</th>\n",
       "      <th>MESRES1</th>\n",
       "      <th>CARES2</th>\n",
       "      <th>MESRES2</th>\n",
       "      <th>CARES3</th>\n",
       "      <th>MESRES3</th>\n",
       "      <th>DOCTOR</th>\n",
       "      <th>CODIDOC</th>\n",
       "      <th>INFUN</th>\n",
       "      <th>INAPL</th>\n",
       "      <th>DESTEC</th>\n",
       "      <th>ANODOC</th>\n",
       "      <th>MESDOC</th>\n",
       "      <th>DURDOCANO</th>\n",
       "      <th>DURDOCMES</th>\n",
       "      <th>CONTEST</th>\n",
       "      <th>ANOEST</th>\n",
       "      <th>FINADOC</th>\n",
       "      <th>TRABDOC</th>\n",
       "      <th>ANOSINTRA</th>\n",
       "      <th>MESSINTRA</th>\n",
       "      <th>SITLAB</th>\n",
       "      <th>HTRAB</th>\n",
       "      <th>INGRESOS</th>\n",
       "      <th>AUTON</th>\n",
       "      <th>CNAE2</th>\n",
       "      <th>ANOINIALP</th>\n",
       "      <th>CAEMP</th>\n",
       "      <th>CONTEMP</th>\n",
       "      <th>SECTOR</th>\n",
       "      <th>CODALP</th>\n",
       "      <th>CATEGPROF</th>\n",
       "      <th>HLECT</th>\n",
       "      <th>TIPOCONT</th>\n",
       "      <th>JORLAB</th>\n",
       "      <th>BUSCATRAB</th>\n",
       "      <th>NIVELMIN</th>\n",
       "      <th>NIVELEST</th>\n",
       "      <th>RELTRABDOC</th>\n",
       "      <th>NIVELSAT1</th>\n",
       "      <th>NIVELSAT2</th>\n",
       "      <th>NIVELSAT3</th>\n",
       "      <th>NIVELSAT4</th>\n",
       "      <th>NIVELSAT5</th>\n",
       "      <th>NIVELSAT6</th>\n",
       "      <th>NIVELSAT7</th>\n",
       "      <th>NIVELSAT8</th>\n",
       "      <th>NIVELSAT9</th>\n",
       "      <th>NIVELSAT10</th>\n",
       "      <th>NIVELSAT11</th>\n",
       "      <th>NIVELSAT12</th>\n",
       "      <th>NIVELSAT13</th>\n",
       "      <th>ACTIANT</th>\n",
       "      <th>SECTORANT</th>\n",
       "      <th>ACTIPRIANT</th>\n",
       "      <th>ACTIANTANO</th>\n",
       "      <th>ACTIANTMES</th>\n",
       "      <th>TRABPOS</th>\n",
       "      <th>MOTIVOPOS1</th>\n",
       "      <th>MOTIVOPOS2</th>\n",
       "      <th>MOTIVOPOS3</th>\n",
       "      <th>MOTIVOPOS4</th>\n",
       "      <th>MOTIVOPOS5</th>\n",
       "      <th>MOTIVOPOS6</th>\n",
       "      <th>MOTIVOPOS7</th>\n",
       "      <th>MOTIVOPOS8</th>\n",
       "      <th>PORCINVES</th>\n",
       "      <th>PORCDOC</th>\n",
       "      <th>PORCOTRAS</th>\n",
       "      <th>FINANPOS</th>\n",
       "      <th>GESBUSEMP</th>\n",
       "      <th>PASOSEMP1</th>\n",
       "      <th>PASOSEMP2</th>\n",
       "      <th>PASOSEMP3</th>\n",
       "      <th>PASOSEMP4</th>\n",
       "      <th>PASOSEMP5</th>\n",
       "      <th>PASOSEMP6</th>\n",
       "      <th>PASOSEMP7</th>\n",
       "      <th>PASOSEMP8</th>\n",
       "      <th>PASOSEMP9</th>\n",
       "      <th>PASOSEMP10</th>\n",
       "      <th>PASOSEMP11</th>\n",
       "      <th>NOPASOSEMP1</th>\n",
       "      <th>NOPASOSEMP2</th>\n",
       "      <th>NOPASOSEMP3</th>\n",
       "      <th>NOPASOSEMP4</th>\n",
       "      <th>NOPASOSEMP5</th>\n",
       "      <th>NOPASOSEMP6</th>\n",
       "      <th>NOPASOSEMP7</th>\n",
       "      <th>NOPASOSEMP8</th>\n",
       "      <th>NOPASOSEMP9</th>\n",
       "      <th>CONT1</th>\n",
       "      <th>ANOIPAIS1</th>\n",
       "      <th>ANOFPAIS1</th>\n",
       "      <th>MESES1</th>\n",
       "      <th>CONT2</th>\n",
       "      <th>ANOIPAIS2</th>\n",
       "      <th>ANOFPAIS2</th>\n",
       "      <th>MESES2</th>\n",
       "      <th>CONT3</th>\n",
       "      <th>ANOIPAIS3</th>\n",
       "      <th>ANOFPAIS3</th>\n",
       "      <th>MESES3</th>\n",
       "      <th>CONT4</th>\n",
       "      <th>ANOIPAIS4</th>\n",
       "      <th>ANOFPAIS4</th>\n",
       "      <th>MESES4</th>\n",
       "      <th>CONT5</th>\n",
       "      <th>ANOIPAIS5</th>\n",
       "      <th>ANOFPAIS5</th>\n",
       "      <th>MESES5</th>\n",
       "      <th>CONT6</th>\n",
       "      <th>ANOIPAIS6</th>\n",
       "      <th>ANOFPAIS6</th>\n",
       "      <th>MESES6</th>\n",
       "      <th>CONT7</th>\n",
       "      <th>ANOIPAIS7</th>\n",
       "      <th>ANOFPAIS7</th>\n",
       "      <th>MESES7</th>\n",
       "      <th>MOTFUERA1</th>\n",
       "      <th>MOTFUERA2</th>\n",
       "      <th>MOTFUERA3</th>\n",
       "      <th>MOTFUERA4</th>\n",
       "      <th>MOTFUERA5</th>\n",
       "      <th>MOTFUERA6</th>\n",
       "      <th>MOTFUERA7</th>\n",
       "      <th>MOTVENIR1</th>\n",
       "      <th>MOTVENIR2</th>\n",
       "      <th>MOTVENIR3</th>\n",
       "      <th>MOTVENIR4</th>\n",
       "      <th>MOTVENIR5</th>\n",
       "      <th>MOTVENIR6</th>\n",
       "      <th>MOTVENIR7</th>\n",
       "      <th>PREVIRSE</th>\n",
       "      <th>MESANTESIR</th>\n",
       "      <th>MOTIRSE1</th>\n",
       "      <th>MOTIRSE2</th>\n",
       "      <th>MOTIRSE3</th>\n",
       "      <th>MOTIRSE4</th>\n",
       "      <th>MOTIRSE5</th>\n",
       "      <th>MOTIRSE6</th>\n",
       "      <th>CONTOUT</th>\n",
       "      <th>INV</th>\n",
       "      <th>MOTNOINV1</th>\n",
       "      <th>MOTNOINV2</th>\n",
       "      <th>MOTNOINV3</th>\n",
       "      <th>MOTNOINV4</th>\n",
       "      <th>MOTNOINV5</th>\n",
       "      <th>MOTNOINV6</th>\n",
       "      <th>MOTNOINV7</th>\n",
       "      <th>MOTNOINV8</th>\n",
       "      <th>MOTNOINV9</th>\n",
       "      <th>ALGINV</th>\n",
       "      <th>MOTINV1</th>\n",
       "      <th>MOTINV2</th>\n",
       "      <th>MOTINV3</th>\n",
       "      <th>MOTINV4</th>\n",
       "      <th>MOTINV5</th>\n",
       "      <th>MOTINV6</th>\n",
       "      <th>MOTINV7</th>\n",
       "      <th>MOTINV8</th>\n",
       "      <th>MOTINV9</th>\n",
       "      <th>MESESINV</th>\n",
       "      <th>ARTIC</th>\n",
       "      <th>LIBROS</th>\n",
       "      <th>NUMPAT</th>\n",
       "      <th>PATNAC</th>\n",
       "      <th>PATEU</th>\n",
       "      <th>PATCOOP</th>\n",
       "      <th>PATCOM</th>\n",
       "      <th>COMPA</th>\n",
       "      <th>TUTOR</th>\n",
       "      <th>COOPERA</th>\n",
       "      <th>INVFUT</th>\n",
       "      <th>FACTOR</th>\n",
       "    </tr>\n",
       "  </thead>\n",
       "  <tbody>\n",
       "    <tr>\n",
       "      <th>4117</th>\n",
       "      <td>520044</td>\n",
       "      <td>18</td>\n",
       "      <td>1949</td>\n",
       "      <td>01</td>\n",
       "      <td>EU27</td>\n",
       "      <td>1</td>\n",
       "      <td>EU27</td>\n",
       "      <td>NNNN</td>\n",
       "      <td>NNNN</td>\n",
       "      <td>1</td>\n",
       "      <td>4</td>\n",
       "      <td>0</td>\n",
       "      <td>0</td>\n",
       "      <td>1</td>\n",
       "      <td>3</td>\n",
       "      <td>3</td>\n",
       "      <td>2</td>\n",
       "      <td>5</td>\n",
       "      <td>0</td>\n",
       "      <td>N</td>\n",
       "      <td>1</td>\n",
       "      <td>1</td>\n",
       "      <td>1</td>\n",
       "      <td>1</td>\n",
       "      <td>01</td>\n",
       "      <td>12</td>\n",
       "      <td>NN</td>\n",
       "      <td>0</td>\n",
       "      <td>NN</td>\n",
       "      <td>0</td>\n",
       "      <td>1</td>\n",
       "      <td>602</td>\n",
       "      <td>0</td>\n",
       "      <td>1</td>\n",
       "      <td>0</td>\n",
       "      <td>2000</td>\n",
       "      <td>10</td>\n",
       "      <td>5</td>\n",
       "      <td>2</td>\n",
       "      <td>EU27</td>\n",
       "      <td>1994</td>\n",
       "      <td>6</td>\n",
       "      <td>1</td>\n",
       "      <td>3</td>\n",
       "      <td>2</td>\n",
       "      <td>3</td>\n",
       "      <td>.</td>\n",
       "      <td></td>\n",
       "      <td></td>\n",
       "      <td>NN</td>\n",
       "      <td>.</td>\n",
       "      <td>NN</td>\n",
       "      <td>NNNN</td>\n",
       "      <td></td>\n",
       "      <td>NNN</td>\n",
       "      <td></td>\n",
       "      <td></td>\n",
       "      <td></td>\n",
       "      <td></td>\n",
       "      <td></td>\n",
       "      <td></td>\n",
       "      <td></td>\n",
       "      <td></td>\n",
       "      <td></td>\n",
       "      <td></td>\n",
       "      <td></td>\n",
       "      <td></td>\n",
       "      <td></td>\n",
       "      <td></td>\n",
       "      <td></td>\n",
       "      <td></td>\n",
       "      <td></td>\n",
       "      <td></td>\n",
       "      <td></td>\n",
       "      <td></td>\n",
       "      <td></td>\n",
       "      <td></td>\n",
       "      <td></td>\n",
       "      <td>NNN</td>\n",
       "      <td>.</td>\n",
       "      <td>.</td>\n",
       "      <td></td>\n",
       "      <td></td>\n",
       "      <td></td>\n",
       "      <td></td>\n",
       "      <td></td>\n",
       "      <td></td>\n",
       "      <td></td>\n",
       "      <td></td>\n",
       "      <td></td>\n",
       "      <td>.</td>\n",
       "      <td>.</td>\n",
       "      <td>.</td>\n",
       "      <td></td>\n",
       "      <td>0</td>\n",
       "      <td></td>\n",
       "      <td></td>\n",
       "      <td></td>\n",
       "      <td></td>\n",
       "      <td></td>\n",
       "      <td></td>\n",
       "      <td></td>\n",
       "      <td></td>\n",
       "      <td></td>\n",
       "      <td></td>\n",
       "      <td></td>\n",
       "      <td></td>\n",
       "      <td></td>\n",
       "      <td></td>\n",
       "      <td></td>\n",
       "      <td>1</td>\n",
       "      <td></td>\n",
       "      <td></td>\n",
       "      <td></td>\n",
       "      <td></td>\n",
       "      <td>NMOV</td>\n",
       "      <td>.</td>\n",
       "      <td>.</td>\n",
       "      <td>.</td>\n",
       "      <td>NMOV</td>\n",
       "      <td>.</td>\n",
       "      <td>.</td>\n",
       "      <td>.</td>\n",
       "      <td>NMOV</td>\n",
       "      <td>.</td>\n",
       "      <td>.</td>\n",
       "      <td>.</td>\n",
       "      <td>NMOV</td>\n",
       "      <td>.</td>\n",
       "      <td>.</td>\n",
       "      <td>.</td>\n",
       "      <td>NMOV</td>\n",
       "      <td>.</td>\n",
       "      <td>.</td>\n",
       "      <td>.</td>\n",
       "      <td>NMOV</td>\n",
       "      <td>.</td>\n",
       "      <td>.</td>\n",
       "      <td>.</td>\n",
       "      <td>NMOV</td>\n",
       "      <td>.</td>\n",
       "      <td>.</td>\n",
       "      <td>.</td>\n",
       "      <td></td>\n",
       "      <td></td>\n",
       "      <td></td>\n",
       "      <td></td>\n",
       "      <td></td>\n",
       "      <td></td>\n",
       "      <td></td>\n",
       "      <td></td>\n",
       "      <td></td>\n",
       "      <td></td>\n",
       "      <td></td>\n",
       "      <td></td>\n",
       "      <td></td>\n",
       "      <td></td>\n",
       "      <td>3</td>\n",
       "      <td></td>\n",
       "      <td></td>\n",
       "      <td></td>\n",
       "      <td></td>\n",
       "      <td></td>\n",
       "      <td></td>\n",
       "      <td></td>\n",
       "      <td>NMOV</td>\n",
       "      <td>1</td>\n",
       "      <td></td>\n",
       "      <td></td>\n",
       "      <td></td>\n",
       "      <td></td>\n",
       "      <td></td>\n",
       "      <td></td>\n",
       "      <td></td>\n",
       "      <td></td>\n",
       "      <td></td>\n",
       "      <td></td>\n",
       "      <td></td>\n",
       "      <td></td>\n",
       "      <td></td>\n",
       "      <td></td>\n",
       "      <td></td>\n",
       "      <td></td>\n",
       "      <td></td>\n",
       "      <td>1</td>\n",
       "      <td></td>\n",
       "      <td>72</td>\n",
       "      <td>0</td>\n",
       "      <td>1</td>\n",
       "      <td>0</td>\n",
       "      <td>0</td>\n",
       "      <td>0</td>\n",
       "      <td>0</td>\n",
       "      <td>0</td>\n",
       "      <td>0</td>\n",
       "      <td>1</td>\n",
       "      <td>1</td>\n",
       "      <td>1</td>\n",
       "      <td>2.557220801</td>\n",
       "    </tr>\n",
       "    <tr>\n",
       "      <th>4118</th>\n",
       "      <td>520046</td>\n",
       "      <td>18</td>\n",
       "      <td>1973</td>\n",
       "      <td>01</td>\n",
       "      <td>EU27</td>\n",
       "      <td>1</td>\n",
       "      <td>EU27</td>\n",
       "      <td>NNNN</td>\n",
       "      <td>NNNN</td>\n",
       "      <td>1</td>\n",
       "      <td>1</td>\n",
       "      <td>0</td>\n",
       "      <td>2</td>\n",
       "      <td>0</td>\n",
       "      <td>7</td>\n",
       "      <td>6</td>\n",
       "      <td>1</td>\n",
       "      <td>1</td>\n",
       "      <td>2</td>\n",
       "      <td>2</td>\n",
       "      <td>3</td>\n",
       "      <td>3</td>\n",
       "      <td>3</td>\n",
       "      <td>1</td>\n",
       "      <td>18</td>\n",
       "      <td>9</td>\n",
       "      <td>01</td>\n",
       "      <td>3</td>\n",
       "      <td>NN</td>\n",
       "      <td>0</td>\n",
       "      <td>1</td>\n",
       "      <td>601</td>\n",
       "      <td>1</td>\n",
       "      <td>1</td>\n",
       "      <td>1</td>\n",
       "      <td>2003</td>\n",
       "      <td>9</td>\n",
       "      <td>7</td>\n",
       "      <td>1</td>\n",
       "      <td>EU27</td>\n",
       "      <td>1996</td>\n",
       "      <td>8</td>\n",
       "      <td>1</td>\n",
       "      <td>3</td>\n",
       "      <td>3</td>\n",
       "      <td>1</td>\n",
       "      <td>30</td>\n",
       "      <td>3</td>\n",
       "      <td>0</td>\n",
       "      <td>85</td>\n",
       "      <td>2003</td>\n",
       "      <td>18</td>\n",
       "      <td>EU27</td>\n",
       "      <td>2</td>\n",
       "      <td>233</td>\n",
       "      <td></td>\n",
       "      <td>5</td>\n",
       "      <td>1</td>\n",
       "      <td>1</td>\n",
       "      <td></td>\n",
       "      <td>3</td>\n",
       "      <td>7</td>\n",
       "      <td>1</td>\n",
       "      <td>1</td>\n",
       "      <td>1</td>\n",
       "      <td>1</td>\n",
       "      <td>1</td>\n",
       "      <td>2</td>\n",
       "      <td>4</td>\n",
       "      <td>1</td>\n",
       "      <td>1</td>\n",
       "      <td>2</td>\n",
       "      <td>1</td>\n",
       "      <td>2</td>\n",
       "      <td>2</td>\n",
       "      <td>2</td>\n",
       "      <td>0</td>\n",
       "      <td></td>\n",
       "      <td>NNN</td>\n",
       "      <td>.</td>\n",
       "      <td>.</td>\n",
       "      <td>0</td>\n",
       "      <td></td>\n",
       "      <td></td>\n",
       "      <td></td>\n",
       "      <td></td>\n",
       "      <td></td>\n",
       "      <td></td>\n",
       "      <td></td>\n",
       "      <td></td>\n",
       "      <td>.</td>\n",
       "      <td>.</td>\n",
       "      <td>.</td>\n",
       "      <td></td>\n",
       "      <td></td>\n",
       "      <td></td>\n",
       "      <td></td>\n",
       "      <td></td>\n",
       "      <td></td>\n",
       "      <td></td>\n",
       "      <td></td>\n",
       "      <td></td>\n",
       "      <td></td>\n",
       "      <td></td>\n",
       "      <td></td>\n",
       "      <td></td>\n",
       "      <td></td>\n",
       "      <td></td>\n",
       "      <td></td>\n",
       "      <td></td>\n",
       "      <td></td>\n",
       "      <td></td>\n",
       "      <td></td>\n",
       "      <td></td>\n",
       "      <td></td>\n",
       "      <td>NMOV</td>\n",
       "      <td>.</td>\n",
       "      <td>.</td>\n",
       "      <td>.</td>\n",
       "      <td>NMOV</td>\n",
       "      <td>.</td>\n",
       "      <td>.</td>\n",
       "      <td>.</td>\n",
       "      <td>NMOV</td>\n",
       "      <td>.</td>\n",
       "      <td>.</td>\n",
       "      <td>.</td>\n",
       "      <td>NMOV</td>\n",
       "      <td>.</td>\n",
       "      <td>.</td>\n",
       "      <td>.</td>\n",
       "      <td>NMOV</td>\n",
       "      <td>.</td>\n",
       "      <td>.</td>\n",
       "      <td>.</td>\n",
       "      <td>NMOV</td>\n",
       "      <td>.</td>\n",
       "      <td>.</td>\n",
       "      <td>.</td>\n",
       "      <td>NMOV</td>\n",
       "      <td>.</td>\n",
       "      <td>.</td>\n",
       "      <td>.</td>\n",
       "      <td></td>\n",
       "      <td></td>\n",
       "      <td></td>\n",
       "      <td></td>\n",
       "      <td></td>\n",
       "      <td></td>\n",
       "      <td></td>\n",
       "      <td></td>\n",
       "      <td></td>\n",
       "      <td></td>\n",
       "      <td></td>\n",
       "      <td></td>\n",
       "      <td></td>\n",
       "      <td></td>\n",
       "      <td>2</td>\n",
       "      <td>8</td>\n",
       "      <td></td>\n",
       "      <td></td>\n",
       "      <td>1</td>\n",
       "      <td></td>\n",
       "      <td></td>\n",
       "      <td></td>\n",
       "      <td>EUCA</td>\n",
       "      <td>0</td>\n",
       "      <td></td>\n",
       "      <td>1</td>\n",
       "      <td></td>\n",
       "      <td>1</td>\n",
       "      <td></td>\n",
       "      <td></td>\n",
       "      <td></td>\n",
       "      <td></td>\n",
       "      <td></td>\n",
       "      <td>1</td>\n",
       "      <td></td>\n",
       "      <td></td>\n",
       "      <td></td>\n",
       "      <td></td>\n",
       "      <td></td>\n",
       "      <td></td>\n",
       "      <td></td>\n",
       "      <td>1</td>\n",
       "      <td></td>\n",
       "      <td>50</td>\n",
       "      <td>10</td>\n",
       "      <td>3</td>\n",
       "      <td>1</td>\n",
       "      <td>1</td>\n",
       "      <td>0</td>\n",
       "      <td>0</td>\n",
       "      <td>0</td>\n",
       "      <td>0</td>\n",
       "      <td>0</td>\n",
       "      <td>1</td>\n",
       "      <td>1</td>\n",
       "      <td>2.557220801</td>\n",
       "    </tr>\n",
       "    <tr>\n",
       "      <th>4119</th>\n",
       "      <td>520047</td>\n",
       "      <td>13</td>\n",
       "      <td>1958</td>\n",
       "      <td>18</td>\n",
       "      <td>EU27</td>\n",
       "      <td>1</td>\n",
       "      <td>EU27</td>\n",
       "      <td>NNNN</td>\n",
       "      <td>NNNN</td>\n",
       "      <td>1</td>\n",
       "      <td>6</td>\n",
       "      <td>0</td>\n",
       "      <td>0</td>\n",
       "      <td>0</td>\n",
       "      <td>6</td>\n",
       "      <td>6</td>\n",
       "      <td>2</td>\n",
       "      <td>2</td>\n",
       "      <td>4</td>\n",
       "      <td>4</td>\n",
       "      <td>2</td>\n",
       "      <td>2</td>\n",
       "      <td>2</td>\n",
       "      <td>1</td>\n",
       "      <td>13</td>\n",
       "      <td>12</td>\n",
       "      <td>NN</td>\n",
       "      <td>0</td>\n",
       "      <td>NN</td>\n",
       "      <td>0</td>\n",
       "      <td>1</td>\n",
       "      <td>601</td>\n",
       "      <td>1</td>\n",
       "      <td>1</td>\n",
       "      <td>0</td>\n",
       "      <td>1994</td>\n",
       "      <td>9</td>\n",
       "      <td>2</td>\n",
       "      <td>9</td>\n",
       "      <td>EU27</td>\n",
       "      <td>1990</td>\n",
       "      <td>8</td>\n",
       "      <td>1</td>\n",
       "      <td>1</td>\n",
       "      <td>2</td>\n",
       "      <td>1</td>\n",
       "      <td>40</td>\n",
       "      <td>2</td>\n",
       "      <td>0</td>\n",
       "      <td>85</td>\n",
       "      <td>2009</td>\n",
       "      <td>13</td>\n",
       "      <td>EU27</td>\n",
       "      <td>3</td>\n",
       "      <td>231</td>\n",
       "      <td>3</td>\n",
       "      <td>4</td>\n",
       "      <td>2</td>\n",
       "      <td>1</td>\n",
       "      <td></td>\n",
       "      <td>3</td>\n",
       "      <td>3</td>\n",
       "      <td>2</td>\n",
       "      <td>2</td>\n",
       "      <td>2</td>\n",
       "      <td>2</td>\n",
       "      <td>2</td>\n",
       "      <td>2</td>\n",
       "      <td>2</td>\n",
       "      <td>2</td>\n",
       "      <td>2</td>\n",
       "      <td>1</td>\n",
       "      <td>2</td>\n",
       "      <td>2</td>\n",
       "      <td>1</td>\n",
       "      <td>2</td>\n",
       "      <td>1</td>\n",
       "      <td>4</td>\n",
       "      <td>262</td>\n",
       "      <td>10</td>\n",
       "      <td>1</td>\n",
       "      <td>0</td>\n",
       "      <td></td>\n",
       "      <td></td>\n",
       "      <td></td>\n",
       "      <td></td>\n",
       "      <td></td>\n",
       "      <td></td>\n",
       "      <td></td>\n",
       "      <td></td>\n",
       "      <td>.</td>\n",
       "      <td>.</td>\n",
       "      <td>.</td>\n",
       "      <td></td>\n",
       "      <td></td>\n",
       "      <td></td>\n",
       "      <td></td>\n",
       "      <td></td>\n",
       "      <td></td>\n",
       "      <td></td>\n",
       "      <td></td>\n",
       "      <td></td>\n",
       "      <td></td>\n",
       "      <td></td>\n",
       "      <td></td>\n",
       "      <td></td>\n",
       "      <td></td>\n",
       "      <td></td>\n",
       "      <td></td>\n",
       "      <td></td>\n",
       "      <td></td>\n",
       "      <td></td>\n",
       "      <td></td>\n",
       "      <td></td>\n",
       "      <td></td>\n",
       "      <td>NMOV</td>\n",
       "      <td>.</td>\n",
       "      <td>.</td>\n",
       "      <td>.</td>\n",
       "      <td>NMOV</td>\n",
       "      <td>.</td>\n",
       "      <td>.</td>\n",
       "      <td>.</td>\n",
       "      <td>NMOV</td>\n",
       "      <td>.</td>\n",
       "      <td>.</td>\n",
       "      <td>.</td>\n",
       "      <td>NMOV</td>\n",
       "      <td>.</td>\n",
       "      <td>.</td>\n",
       "      <td>.</td>\n",
       "      <td>NMOV</td>\n",
       "      <td>.</td>\n",
       "      <td>.</td>\n",
       "      <td>.</td>\n",
       "      <td>NMOV</td>\n",
       "      <td>.</td>\n",
       "      <td>.</td>\n",
       "      <td>.</td>\n",
       "      <td>NMOV</td>\n",
       "      <td>.</td>\n",
       "      <td>.</td>\n",
       "      <td>.</td>\n",
       "      <td></td>\n",
       "      <td></td>\n",
       "      <td></td>\n",
       "      <td></td>\n",
       "      <td></td>\n",
       "      <td></td>\n",
       "      <td></td>\n",
       "      <td></td>\n",
       "      <td></td>\n",
       "      <td></td>\n",
       "      <td></td>\n",
       "      <td></td>\n",
       "      <td></td>\n",
       "      <td></td>\n",
       "      <td>3</td>\n",
       "      <td></td>\n",
       "      <td></td>\n",
       "      <td></td>\n",
       "      <td></td>\n",
       "      <td></td>\n",
       "      <td></td>\n",
       "      <td></td>\n",
       "      <td>NMOV</td>\n",
       "      <td>1</td>\n",
       "      <td></td>\n",
       "      <td></td>\n",
       "      <td></td>\n",
       "      <td></td>\n",
       "      <td></td>\n",
       "      <td></td>\n",
       "      <td></td>\n",
       "      <td></td>\n",
       "      <td></td>\n",
       "      <td></td>\n",
       "      <td></td>\n",
       "      <td></td>\n",
       "      <td></td>\n",
       "      <td></td>\n",
       "      <td></td>\n",
       "      <td></td>\n",
       "      <td></td>\n",
       "      <td>1</td>\n",
       "      <td></td>\n",
       "      <td>240</td>\n",
       "      <td>8</td>\n",
       "      <td>3</td>\n",
       "      <td>0</td>\n",
       "      <td>0</td>\n",
       "      <td>0</td>\n",
       "      <td>0</td>\n",
       "      <td>0</td>\n",
       "      <td>0</td>\n",
       "      <td>0</td>\n",
       "      <td>1</td>\n",
       "      <td>1</td>\n",
       "      <td>2.557220801</td>\n",
       "    </tr>\n",
       "    <tr>\n",
       "      <th>4120</th>\n",
       "      <td>520048</td>\n",
       "      <td>18</td>\n",
       "      <td>1967</td>\n",
       "      <td>10</td>\n",
       "      <td>EU27</td>\n",
       "      <td>1</td>\n",
       "      <td>EU27</td>\n",
       "      <td>NNNN</td>\n",
       "      <td>NNNN</td>\n",
       "      <td>1</td>\n",
       "      <td>1</td>\n",
       "      <td>0</td>\n",
       "      <td>1</td>\n",
       "      <td>1</td>\n",
       "      <td>6</td>\n",
       "      <td>2</td>\n",
       "      <td>2</td>\n",
       "      <td>5</td>\n",
       "      <td>2</td>\n",
       "      <td>N</td>\n",
       "      <td>3</td>\n",
       "      <td>1</td>\n",
       "      <td>1</td>\n",
       "      <td>1</td>\n",
       "      <td>18</td>\n",
       "      <td>12</td>\n",
       "      <td>NN</td>\n",
       "      <td>0</td>\n",
       "      <td>NN</td>\n",
       "      <td>0</td>\n",
       "      <td>1</td>\n",
       "      <td>503</td>\n",
       "      <td>1</td>\n",
       "      <td>0</td>\n",
       "      <td>0</td>\n",
       "      <td>2002</td>\n",
       "      <td>2</td>\n",
       "      <td>6</td>\n",
       "      <td>0</td>\n",
       "      <td>EU27</td>\n",
       "      <td>1994</td>\n",
       "      <td>8</td>\n",
       "      <td>1</td>\n",
       "      <td>0</td>\n",
       "      <td>0</td>\n",
       "      <td>1</td>\n",
       "      <td>70</td>\n",
       "      <td>8</td>\n",
       "      <td>0</td>\n",
       "      <td>85</td>\n",
       "      <td>1995</td>\n",
       "      <td>01</td>\n",
       "      <td>EU27</td>\n",
       "      <td>3</td>\n",
       "      <td>231</td>\n",
       "      <td>2</td>\n",
       "      <td>3</td>\n",
       "      <td>1</td>\n",
       "      <td>1</td>\n",
       "      <td></td>\n",
       "      <td>2</td>\n",
       "      <td>2</td>\n",
       "      <td>2</td>\n",
       "      <td>1</td>\n",
       "      <td>1</td>\n",
       "      <td>2</td>\n",
       "      <td>3</td>\n",
       "      <td>3</td>\n",
       "      <td>2</td>\n",
       "      <td>1</td>\n",
       "      <td>1</td>\n",
       "      <td>1</td>\n",
       "      <td>1</td>\n",
       "      <td>1</td>\n",
       "      <td>1</td>\n",
       "      <td>2</td>\n",
       "      <td>0</td>\n",
       "      <td></td>\n",
       "      <td>NNN</td>\n",
       "      <td>.</td>\n",
       "      <td>.</td>\n",
       "      <td>1</td>\n",
       "      <td>0</td>\n",
       "      <td>0</td>\n",
       "      <td>1</td>\n",
       "      <td>1</td>\n",
       "      <td>1</td>\n",
       "      <td>0</td>\n",
       "      <td>1</td>\n",
       "      <td>0</td>\n",
       "      <td>25</td>\n",
       "      <td>25</td>\n",
       "      <td>50</td>\n",
       "      <td>3</td>\n",
       "      <td></td>\n",
       "      <td></td>\n",
       "      <td></td>\n",
       "      <td></td>\n",
       "      <td></td>\n",
       "      <td></td>\n",
       "      <td></td>\n",
       "      <td></td>\n",
       "      <td></td>\n",
       "      <td></td>\n",
       "      <td></td>\n",
       "      <td></td>\n",
       "      <td></td>\n",
       "      <td></td>\n",
       "      <td></td>\n",
       "      <td></td>\n",
       "      <td></td>\n",
       "      <td></td>\n",
       "      <td></td>\n",
       "      <td></td>\n",
       "      <td></td>\n",
       "      <td>NMOV</td>\n",
       "      <td>.</td>\n",
       "      <td>.</td>\n",
       "      <td>.</td>\n",
       "      <td>NMOV</td>\n",
       "      <td>.</td>\n",
       "      <td>.</td>\n",
       "      <td>.</td>\n",
       "      <td>NMOV</td>\n",
       "      <td>.</td>\n",
       "      <td>.</td>\n",
       "      <td>.</td>\n",
       "      <td>NMOV</td>\n",
       "      <td>.</td>\n",
       "      <td>.</td>\n",
       "      <td>.</td>\n",
       "      <td>NMOV</td>\n",
       "      <td>.</td>\n",
       "      <td>.</td>\n",
       "      <td>.</td>\n",
       "      <td>NMOV</td>\n",
       "      <td>.</td>\n",
       "      <td>.</td>\n",
       "      <td>.</td>\n",
       "      <td>NMOV</td>\n",
       "      <td>.</td>\n",
       "      <td>.</td>\n",
       "      <td>.</td>\n",
       "      <td></td>\n",
       "      <td></td>\n",
       "      <td></td>\n",
       "      <td></td>\n",
       "      <td></td>\n",
       "      <td></td>\n",
       "      <td></td>\n",
       "      <td></td>\n",
       "      <td></td>\n",
       "      <td></td>\n",
       "      <td></td>\n",
       "      <td></td>\n",
       "      <td></td>\n",
       "      <td></td>\n",
       "      <td>2</td>\n",
       "      <td>4</td>\n",
       "      <td></td>\n",
       "      <td></td>\n",
       "      <td>1</td>\n",
       "      <td></td>\n",
       "      <td></td>\n",
       "      <td></td>\n",
       "      <td>EUCA</td>\n",
       "      <td>1</td>\n",
       "      <td></td>\n",
       "      <td></td>\n",
       "      <td></td>\n",
       "      <td></td>\n",
       "      <td></td>\n",
       "      <td></td>\n",
       "      <td></td>\n",
       "      <td></td>\n",
       "      <td></td>\n",
       "      <td></td>\n",
       "      <td>1</td>\n",
       "      <td>1</td>\n",
       "      <td>1</td>\n",
       "      <td>1</td>\n",
       "      <td>1</td>\n",
       "      <td>1</td>\n",
       "      <td></td>\n",
       "      <td></td>\n",
       "      <td></td>\n",
       "      <td>192</td>\n",
       "      <td>50</td>\n",
       "      <td>60</td>\n",
       "      <td>1</td>\n",
       "      <td>0</td>\n",
       "      <td>1</td>\n",
       "      <td>0</td>\n",
       "      <td>1</td>\n",
       "      <td>0</td>\n",
       "      <td>1</td>\n",
       "      <td>1</td>\n",
       "      <td>1</td>\n",
       "      <td>2.557220801</td>\n",
       "    </tr>\n",
       "    <tr>\n",
       "      <th>4121</th>\n",
       "      <td>520050</td>\n",
       "      <td>18</td>\n",
       "      <td>1967</td>\n",
       "      <td>13</td>\n",
       "      <td>EU27</td>\n",
       "      <td>1</td>\n",
       "      <td>EU27</td>\n",
       "      <td>NNNN</td>\n",
       "      <td>NNNN</td>\n",
       "      <td>1</td>\n",
       "      <td>6</td>\n",
       "      <td>0</td>\n",
       "      <td>0</td>\n",
       "      <td>0</td>\n",
       "      <td>6</td>\n",
       "      <td>2</td>\n",
       "      <td>2</td>\n",
       "      <td>5</td>\n",
       "      <td>9</td>\n",
       "      <td>N</td>\n",
       "      <td>1</td>\n",
       "      <td>1</td>\n",
       "      <td>1</td>\n",
       "      <td>1</td>\n",
       "      <td>18</td>\n",
       "      <td>12</td>\n",
       "      <td>NN</td>\n",
       "      <td>0</td>\n",
       "      <td>NN</td>\n",
       "      <td>0</td>\n",
       "      <td>1</td>\n",
       "      <td>602</td>\n",
       "      <td>1</td>\n",
       "      <td>0</td>\n",
       "      <td>0</td>\n",
       "      <td>2004</td>\n",
       "      <td>1</td>\n",
       "      <td>8</td>\n",
       "      <td>0</td>\n",
       "      <td>EU27</td>\n",
       "      <td>1996</td>\n",
       "      <td>8</td>\n",
       "      <td>0</td>\n",
       "      <td>.</td>\n",
       "      <td>.</td>\n",
       "      <td>1</td>\n",
       "      <td>35</td>\n",
       "      <td>5</td>\n",
       "      <td>0</td>\n",
       "      <td>85</td>\n",
       "      <td>1998</td>\n",
       "      <td>18</td>\n",
       "      <td>EU27</td>\n",
       "      <td>2</td>\n",
       "      <td>233</td>\n",
       "      <td></td>\n",
       "      <td>5</td>\n",
       "      <td>2</td>\n",
       "      <td>1</td>\n",
       "      <td></td>\n",
       "      <td>3</td>\n",
       "      <td>3</td>\n",
       "      <td>3</td>\n",
       "      <td>2</td>\n",
       "      <td>2</td>\n",
       "      <td>2</td>\n",
       "      <td>1</td>\n",
       "      <td>1</td>\n",
       "      <td>3</td>\n",
       "      <td>3</td>\n",
       "      <td>2</td>\n",
       "      <td>2</td>\n",
       "      <td>2</td>\n",
       "      <td>2</td>\n",
       "      <td>2</td>\n",
       "      <td>2</td>\n",
       "      <td>0</td>\n",
       "      <td></td>\n",
       "      <td>NNN</td>\n",
       "      <td>.</td>\n",
       "      <td>.</td>\n",
       "      <td>0</td>\n",
       "      <td></td>\n",
       "      <td></td>\n",
       "      <td></td>\n",
       "      <td></td>\n",
       "      <td></td>\n",
       "      <td></td>\n",
       "      <td></td>\n",
       "      <td></td>\n",
       "      <td>.</td>\n",
       "      <td>.</td>\n",
       "      <td>.</td>\n",
       "      <td></td>\n",
       "      <td></td>\n",
       "      <td></td>\n",
       "      <td></td>\n",
       "      <td></td>\n",
       "      <td></td>\n",
       "      <td></td>\n",
       "      <td></td>\n",
       "      <td></td>\n",
       "      <td></td>\n",
       "      <td></td>\n",
       "      <td></td>\n",
       "      <td></td>\n",
       "      <td></td>\n",
       "      <td></td>\n",
       "      <td></td>\n",
       "      <td></td>\n",
       "      <td></td>\n",
       "      <td></td>\n",
       "      <td></td>\n",
       "      <td></td>\n",
       "      <td></td>\n",
       "      <td>NMOV</td>\n",
       "      <td>.</td>\n",
       "      <td>.</td>\n",
       "      <td>.</td>\n",
       "      <td>NMOV</td>\n",
       "      <td>.</td>\n",
       "      <td>.</td>\n",
       "      <td>.</td>\n",
       "      <td>NMOV</td>\n",
       "      <td>.</td>\n",
       "      <td>.</td>\n",
       "      <td>.</td>\n",
       "      <td>NMOV</td>\n",
       "      <td>.</td>\n",
       "      <td>.</td>\n",
       "      <td>.</td>\n",
       "      <td>NMOV</td>\n",
       "      <td>.</td>\n",
       "      <td>.</td>\n",
       "      <td>.</td>\n",
       "      <td>NMOV</td>\n",
       "      <td>.</td>\n",
       "      <td>.</td>\n",
       "      <td>.</td>\n",
       "      <td>NMOV</td>\n",
       "      <td>.</td>\n",
       "      <td>.</td>\n",
       "      <td>.</td>\n",
       "      <td></td>\n",
       "      <td></td>\n",
       "      <td></td>\n",
       "      <td></td>\n",
       "      <td></td>\n",
       "      <td></td>\n",
       "      <td></td>\n",
       "      <td></td>\n",
       "      <td></td>\n",
       "      <td></td>\n",
       "      <td></td>\n",
       "      <td></td>\n",
       "      <td></td>\n",
       "      <td></td>\n",
       "      <td>3</td>\n",
       "      <td></td>\n",
       "      <td></td>\n",
       "      <td></td>\n",
       "      <td></td>\n",
       "      <td></td>\n",
       "      <td></td>\n",
       "      <td></td>\n",
       "      <td>NMOV</td>\n",
       "      <td>0</td>\n",
       "      <td></td>\n",
       "      <td>1</td>\n",
       "      <td></td>\n",
       "      <td>1</td>\n",
       "      <td>1</td>\n",
       "      <td></td>\n",
       "      <td>1</td>\n",
       "      <td></td>\n",
       "      <td>1</td>\n",
       "      <td>0</td>\n",
       "      <td></td>\n",
       "      <td></td>\n",
       "      <td></td>\n",
       "      <td></td>\n",
       "      <td></td>\n",
       "      <td></td>\n",
       "      <td></td>\n",
       "      <td></td>\n",
       "      <td></td>\n",
       "      <td>.</td>\n",
       "      <td>.</td>\n",
       "      <td>.</td>\n",
       "      <td>.</td>\n",
       "      <td>.</td>\n",
       "      <td>.</td>\n",
       "      <td>.</td>\n",
       "      <td>0</td>\n",
       "      <td>0</td>\n",
       "      <td>0</td>\n",
       "      <td>0</td>\n",
       "      <td>0</td>\n",
       "      <td>2.557220801</td>\n",
       "    </tr>\n",
       "  </tbody>\n",
       "</table>\n",
       "</div>"
      ],
      "text/plain": [
       "     MUIDENT CCAARESI ANONAC CCAANAC CONTNACIM RELA CONTNAC1 CONTNAC2  \\\n",
       "4117  520044       18   1949      01      EU27    1     EU27     NNNN   \n",
       "4118  520046       18   1973      01      EU27    1     EU27     NNNN   \n",
       "4119  520047       13   1958      18      EU27    1     EU27     NNNN   \n",
       "4120  520048       18   1967      10      EU27    1     EU27     NNNN   \n",
       "4121  520050       18   1967      13      EU27    1     EU27     NNNN   \n",
       "\n",
       "     CONTNAC3 SEXO ESTADOCIVIL DEPEN5 DEPEN18 DEPENMAS NIVESTPA NIVESTMA  \\\n",
       "4117     NNNN    1           4      0       0        1       3        3    \n",
       "4118     NNNN    1           1      0       2        0       7        6    \n",
       "4119     NNNN    1           6      0       0        0       6        6    \n",
       "4120     NNNN    1           1      0       1        1       6        2    \n",
       "4121     NNNN    1           6      0       0        0       6        2    \n",
       "\n",
       "     NIVPROFPA NIVPROFMA ACTIPRIPA1 ACTIPRIMA1 EDUPRIM EDUSECUN BACHILLER RES  \\\n",
       "4117         2         5          0          N       1        1         1   1   \n",
       "4118         1         1          2          2       3        3         3   1   \n",
       "4119         2         2          4          4       2        2         2   1   \n",
       "4120         2         5          2          N       3        1         1   1   \n",
       "4121         2         5          9          N       1        1         1   1   \n",
       "\n",
       "     CARES1 MESRES1 CARES2 MESRES2 CARES3 MESRES3 DOCTOR CODIDOC INFUN INAPL  \\\n",
       "4117     01      12     NN       0     NN       0      1     602     0     1   \n",
       "4118     18       9     01       3     NN       0      1     601     1     1   \n",
       "4119     13      12     NN       0     NN       0      1     601     1     1   \n",
       "4120     18      12     NN       0     NN       0      1     503     1     0   \n",
       "4121     18      12     NN       0     NN       0      1     602     1     0   \n",
       "\n",
       "     DESTEC ANODOC MESDOC DURDOCANO DURDOCMES CONTEST ANOEST FINADOC TRABDOC  \\\n",
       "4117      0   2000     10         5         2    EU27   1994       6       1   \n",
       "4118      1   2003      9         7         1    EU27   1996       8       1   \n",
       "4119      0   1994      9         2         9    EU27   1990       8       1   \n",
       "4120      0   2002      2         6         0    EU27   1994       8       1   \n",
       "4121      0   2004      1         8         0    EU27   1996       8       0   \n",
       "\n",
       "     ANOSINTRA MESSINTRA SITLAB HTRAB INGRESOS AUTON CNAE2 ANOINIALP CAEMP  \\\n",
       "4117         3         2      3     .                   NN         .    NN   \n",
       "4118         3         3      1    30        3     0    85      2003    18   \n",
       "4119         1         2      1    40        2     0    85      2009    13   \n",
       "4120         0         0      1    70        8     0    85      1995    01   \n",
       "4121         .         .      1    35        5     0    85      1998    18   \n",
       "\n",
       "     CONTEMP SECTOR CODALP CATEGPROF HLECT TIPOCONT JORLAB BUSCATRAB NIVELMIN  \\\n",
       "4117    NNNN           NNN                                                      \n",
       "4118    EU27      2    233               5        1      1                  3   \n",
       "4119    EU27      3    231         3     4        2      1                  3   \n",
       "4120    EU27      3    231         2     3        1      1                  2   \n",
       "4121    EU27      2    233               5        2      1                  3   \n",
       "\n",
       "     NIVELEST RELTRABDOC NIVELSAT1 NIVELSAT2 NIVELSAT3 NIVELSAT4 NIVELSAT5  \\\n",
       "4117                                                                         \n",
       "4118        7          1         1         1         1         1         2   \n",
       "4119        3          2         2         2         2         2         2   \n",
       "4120        2          2         1         1         2         3         3   \n",
       "4121        3          3         2         2         2         1         1   \n",
       "\n",
       "     NIVELSAT6 NIVELSAT7 NIVELSAT8 NIVELSAT9 NIVELSAT10 NIVELSAT11 NIVELSAT12  \\\n",
       "4117                                                                            \n",
       "4118         4         1         1         2          1          2          2   \n",
       "4119         2         2         2         1          2          2          1   \n",
       "4120         2         1         1         1          1          1          1   \n",
       "4121         3         3         2         2          2          2          2   \n",
       "\n",
       "     NIVELSAT13 ACTIANT SECTORANT ACTIPRIANT ACTIANTANO ACTIANTMES TRABPOS  \\\n",
       "4117                                     NNN          .          .           \n",
       "4118          2       0                  NNN          .          .       0   \n",
       "4119          2       1         4        262         10          1       0   \n",
       "4120          2       0                  NNN          .          .       1   \n",
       "4121          2       0                  NNN          .          .       0   \n",
       "\n",
       "     MOTIVOPOS1 MOTIVOPOS2 MOTIVOPOS3 MOTIVOPOS4 MOTIVOPOS5 MOTIVOPOS6  \\\n",
       "4117                                                                     \n",
       "4118                                                                     \n",
       "4119                                                                     \n",
       "4120          0          0          1          1          1          0   \n",
       "4121                                                                     \n",
       "\n",
       "     MOTIVOPOS7 MOTIVOPOS8 PORCINVES PORCDOC PORCOTRAS FINANPOS GESBUSEMP  \\\n",
       "4117                               .       .         .                  0   \n",
       "4118                               .       .         .                      \n",
       "4119                               .       .         .                      \n",
       "4120          1          0        25      25        50        3             \n",
       "4121                               .       .         .                      \n",
       "\n",
       "     PASOSEMP1 PASOSEMP2 PASOSEMP3 PASOSEMP4 PASOSEMP5 PASOSEMP6 PASOSEMP7  \\\n",
       "4117                                                                         \n",
       "4118                                                                         \n",
       "4119                                                                         \n",
       "4120                                                                         \n",
       "4121                                                                         \n",
       "\n",
       "     PASOSEMP8 PASOSEMP9 PASOSEMP10 PASOSEMP11 NOPASOSEMP1 NOPASOSEMP2  \\\n",
       "4117                                                                     \n",
       "4118                                                                     \n",
       "4119                                                                     \n",
       "4120                                                                     \n",
       "4121                                                                     \n",
       "\n",
       "     NOPASOSEMP3 NOPASOSEMP4 NOPASOSEMP5 NOPASOSEMP6 NOPASOSEMP7 NOPASOSEMP8  \\\n",
       "4117                                   1                                       \n",
       "4118                                                                           \n",
       "4119                                                                           \n",
       "4120                                                                           \n",
       "4121                                                                           \n",
       "\n",
       "     NOPASOSEMP9 CONT1 ANOIPAIS1 ANOFPAIS1 MESES1 CONT2 ANOIPAIS2 ANOFPAIS2  \\\n",
       "4117              NMOV         .         .      .  NMOV         .         .   \n",
       "4118              NMOV         .         .      .  NMOV         .         .   \n",
       "4119              NMOV         .         .      .  NMOV         .         .   \n",
       "4120              NMOV         .         .      .  NMOV         .         .   \n",
       "4121              NMOV         .         .      .  NMOV         .         .   \n",
       "\n",
       "     MESES2 CONT3 ANOIPAIS3 ANOFPAIS3 MESES3 CONT4 ANOIPAIS4 ANOFPAIS4 MESES4  \\\n",
       "4117      .  NMOV         .         .      .  NMOV         .         .      .   \n",
       "4118      .  NMOV         .         .      .  NMOV         .         .      .   \n",
       "4119      .  NMOV         .         .      .  NMOV         .         .      .   \n",
       "4120      .  NMOV         .         .      .  NMOV         .         .      .   \n",
       "4121      .  NMOV         .         .      .  NMOV         .         .      .   \n",
       "\n",
       "     CONT5 ANOIPAIS5 ANOFPAIS5 MESES5 CONT6 ANOIPAIS6 ANOFPAIS6 MESES6 CONT7  \\\n",
       "4117  NMOV         .         .      .  NMOV         .         .      .  NMOV   \n",
       "4118  NMOV         .         .      .  NMOV         .         .      .  NMOV   \n",
       "4119  NMOV         .         .      .  NMOV         .         .      .  NMOV   \n",
       "4120  NMOV         .         .      .  NMOV         .         .      .  NMOV   \n",
       "4121  NMOV         .         .      .  NMOV         .         .      .  NMOV   \n",
       "\n",
       "     ANOIPAIS7 ANOFPAIS7 MESES7 MOTFUERA1 MOTFUERA2 MOTFUERA3 MOTFUERA4  \\\n",
       "4117         .         .      .                                           \n",
       "4118         .         .      .                                           \n",
       "4119         .         .      .                                           \n",
       "4120         .         .      .                                           \n",
       "4121         .         .      .                                           \n",
       "\n",
       "     MOTFUERA5 MOTFUERA6 MOTFUERA7 MOTVENIR1 MOTVENIR2 MOTVENIR3 MOTVENIR4  \\\n",
       "4117                                                                         \n",
       "4118                                                                         \n",
       "4119                                                                         \n",
       "4120                                                                         \n",
       "4121                                                                         \n",
       "\n",
       "     MOTVENIR5 MOTVENIR6 MOTVENIR7 PREVIRSE MESANTESIR MOTIRSE1 MOTIRSE2  \\\n",
       "4117                                      3                                \n",
       "4118                                      2          8                     \n",
       "4119                                      3                                \n",
       "4120                                      2          4                     \n",
       "4121                                      3                                \n",
       "\n",
       "     MOTIRSE3 MOTIRSE4 MOTIRSE5 MOTIRSE6 CONTOUT INV MOTNOINV1 MOTNOINV2  \\\n",
       "4117                                        NMOV   1                       \n",
       "4118        1                               EUCA   0                   1   \n",
       "4119                                        NMOV   1                       \n",
       "4120        1                               EUCA   1                       \n",
       "4121                                        NMOV   0                   1   \n",
       "\n",
       "     MOTNOINV3 MOTNOINV4 MOTNOINV5 MOTNOINV6 MOTNOINV7 MOTNOINV8 MOTNOINV9  \\\n",
       "4117                                                                         \n",
       "4118                   1                                                     \n",
       "4119                                                                         \n",
       "4120                                                                         \n",
       "4121                   1         1                   1                   1   \n",
       "\n",
       "     ALGINV MOTINV1 MOTINV2 MOTINV3 MOTINV4 MOTINV5 MOTINV6 MOTINV7 MOTINV8  \\\n",
       "4117                                                                      1   \n",
       "4118      1                                                               1   \n",
       "4119                                                                      1   \n",
       "4120              1       1       1       1       1       1                   \n",
       "4121      0                                                                   \n",
       "\n",
       "     MOTINV9 MESESINV ARTIC LIBROS NUMPAT PATNAC PATEU PATCOOP PATCOM COMPA  \\\n",
       "4117               72     0      1      0      0     0       0      0     0   \n",
       "4118               50    10      3      1      1     0       0      0     0   \n",
       "4119              240     8      3      0      0     0       0      0     0   \n",
       "4120              192    50     60      1      0     1       0      1     0   \n",
       "4121                .     .      .      .      .     .       .      0     0   \n",
       "\n",
       "     TUTOR COOPERA INVFUT       FACTOR  \n",
       "4117     1       1      1  2.557220801  \n",
       "4118     0       1      1  2.557220801  \n",
       "4119     0       1      1  2.557220801  \n",
       "4120     1       1      1  2.557220801  \n",
       "4121     0       0      0  2.557220801  "
      ]
     },
     "execution_count": 8,
     "metadata": {},
     "output_type": "execute_result"
    }
   ],
   "source": [
    "df_raw.tail()"
   ]
  },
  {
   "cell_type": "code",
   "execution_count": 9,
   "metadata": {},
   "outputs": [
    {
     "data": {
      "text/plain": [
       "(4122, 199)"
      ]
     },
     "execution_count": 9,
     "metadata": {},
     "output_type": "execute_result"
    }
   ],
   "source": [
    "df_raw.shape"
   ]
  },
  {
   "cell_type": "code",
   "execution_count": 10,
   "metadata": {},
   "outputs": [],
   "source": [
    "# Raw dataset en formato csv: \n",
    "df_raw.to_csv('/home/bea/Escritorio/KSchool_TFM/Principales/Encuesta_RRHH_Ciencia_Tecnologia_2009/raw_doct.csv')"
   ]
  },
  {
   "cell_type": "code",
   "execution_count": 11,
   "metadata": {},
   "outputs": [],
   "source": [
    "df=df_raw.copy()"
   ]
  },
  {
   "cell_type": "markdown",
   "metadata": {},
   "source": [
    "# Inspección y ajustes\n",
    "\n",
    "Descripción de las variables de acuerdo con la información proporcionada en:\n",
    "\n",
    "- El fichero de instrucciones y definiciones, disreg_recurciencia.xls\n",
    "- La encuesta, en el fichero t1430225_09_cues.pdf\n",
    "\n",
    "**Objetivo**: Inspección del dataset, imputación de valores perdidos debido a los itinerarios de la encuesta y creación de variables nuevas para análisis descriptivo y predictivo.   \n",
    "\n",
    "De esta etapa del proceso se obtienen **dos datasets**:    \n",
    "\n",
    "1- Un dataset con las **variables originales** (designadas con nombres en mayúsculas) a las que, a lo sumo, se aplica alguna de las transformaciones siguientes:  \n",
    "- Imputación de valores perdidos que pueden deducirse de los itinerarios de la encuesta.  \n",
    "- Sustitución de las no respuestas y las respuestas NS/NC por el valor None.  \n",
    "\n",
    "2- Un **dataset nuevo** formado por algunas de las variables originales escogidas como candidatas a formar parte de los modelos descriptivos o predictivos y por algunas variables nuevas creadas a partir de las originales. Las variables de este dataset se designan por nombres en minúsculas para facilitar su identificación. Algunas de las transformaciones que dan lugar a este conjunto de variables son:  \n",
    "- Sustitución del valor asociado a la respuesta No en las preguntas de respuesta Sí o No: se cambia el valor 2 asociado al No en el dataset original por el valor 0.  \n",
    "- Creación de variables binarias para cada una de las categorías de algunas de las variables cualitativas del dataset original.  \n",
    "- Creación de variables nuevas para información que puede deducirse de una o varias de las columnas del dataset original.  \n",
    "- Creación de variables con información del dataset (año de la encuesta, población objeto de muestreo, etc.) con el fin de que sea posible identificar la procedencia de cada observación del el dataset que resulte de reunir todos los empleados en este estudio.  \n",
    "\n",
    "En esta etapa **no se imputan valores a las no respuestas o a las respuestas NS/NC** que no puedan deducirse de los itinerarios de la encuesta. Solo se sustituyen por el valor None. Se procede así para evitar que los valores imputados interfieran en los resultados del análisis descriptivo. "
   ]
  },
  {
   "cell_type": "code",
   "execution_count": 12,
   "metadata": {},
   "outputs": [],
   "source": [
    "# Lista de variables originales. Permite recuperar el dataset original después de imputar los valores perdidos ...\n",
    "# ... como consecuencia de los itinerarios de la encuesta. \n",
    "v_originales=df.columns.tolist()\n",
    "# Lista a la que se agregarán las variables candidatas a ser incluidas en el modelo predictivo\n",
    "v_modelos=list()\n",
    "# Listas de variables literales (interpretación de códigos de variables categóricas)\n",
    "v_originales_L=list()\n",
    "v_modelos_L=list()"
   ]
  },
  {
   "cell_type": "code",
   "execution_count": 13,
   "metadata": {},
   "outputs": [],
   "source": [
    "def no_respuesta(col,blank=' ',nsnc='9',tipo=None):\n",
    "    \"\"\" Sustituye respuestas en blanco y NS/NC por None y establece tipo 'float' si es posible'.\n",
    "    \"\"\"\n",
    "    if tipo=='int':\n",
    "        blank=None\n",
    "        nsnc=int(nsnc)\n",
    "    try: df[col].replace({blank:None,nsnc:None},inplace=True)\n",
    "    except: \n",
    "        serie=df[col].astype('O') # Evita conflictos cuando se aplica más de una vez\n",
    "        serie.replace({blank:None,str(nsnc):None},inplace=True)\n",
    "    try:df[col]=df[col].astype('float')\n",
    "    except:pass # Algunas variables categóricas tienen valores no numéricos (e.g. CNAE)\n",
    "    try:traduce(col,check=False)\n",
    "    except:pass # Para variables no categóricas (sin diccionario)\n",
    "    print (df[col].sort_values().unique())\n",
    "    return"
   ]
  },
  {
   "cell_type": "code",
   "execution_count": 14,
   "metadata": {},
   "outputs": [],
   "source": [
    "def redefine(col,nuevo=True,cat=True,si_no=False):\n",
    "    \"\"\" Crea una columna denominada 'nuevo' (por defecto, el nombre original en minúsculas) a partir \n",
    "    de la columna 'col', la añade a la lista de variables para los modelos descriptivos y predictivos. \n",
    "    Si 'cat' True, asocia la variable a su diccionario, traduce y conserva la variable traducida.\n",
    "    Si si_no=True, modifica el valor asociado a respuesta No (0 en lugar de 2).  \n",
    "    \"\"\"\n",
    "    if nuevo==True:\n",
    "        nuevo=col.lower()\n",
    "    df[nuevo]=df[col]\n",
    "    D_describe[nuevo]=D_describe[col]\n",
    "    if str(nuevo) not in v_modelos: \n",
    "        v_modelos.append(nuevo)\n",
    "    if cat==True: \n",
    "        D_dict[nuevo]=D_dict[col]\n",
    "        traduce(nuevo,check=False)\n",
    "        if str(nuevo)+'_' not in v_modelos_L: \n",
    "            v_modelos_L.append(str(nuevo)+'_')\n",
    "    if si_no==True: \n",
    "        df[nuevo].replace({2:0},inplace=True)\n",
    "        D_dict[nuevo]=D_dict['si_no']\n",
    "        traduce(nuevo)\n",
    "    return"
   ]
  },
  {
   "cell_type": "code",
   "execution_count": 15,
   "metadata": {},
   "outputs": [],
   "source": [
    "def a_lista(col):\n",
    "    if col==col.lower() and col==col.strip('_') and str(col) not in v_modelos:\n",
    "        v_modelos.append(col)\n",
    "    return"
   ]
  },
  {
   "cell_type": "code",
   "execution_count": 16,
   "metadata": {},
   "outputs": [],
   "source": [
    "def print_listas():\n",
    "    print ('v_originales_L:','\\t',v_originales_L)\n",
    "    print ('v_modelos:','\\t',v_modelos,'\\nv_modelos_L:','\\t',v_modelos_L)\n",
    "    return"
   ]
  },
  {
   "cell_type": "code",
   "execution_count": 17,
   "metadata": {},
   "outputs": [],
   "source": [
    "def reset(col_or_list):\n",
    "    \"\"\" Argumentos: columna o lista de columnas.\n",
    "    Elimina la variable col y su literal col_ de las listas de variables redefinidas o literales.\n",
    "    Si col es una variable en el dataset original, reestablece sus valores iniciales. \n",
    "    Si el argumento es una lista de columnas, aplica reset a cada columna de la lista.\n",
    "    \"\"\"\n",
    "    global v_originales_L, v_modelos, v_modelos_L\n",
    "    if type(col_or_list)!=list:\n",
    "        L=[col_or_list]\n",
    "    else: \n",
    "        L=col_or_list\n",
    "    for col in L:\n",
    "        if col==col.upper() and str(col)+'_' in v_originales_L:\n",
    "            v_originales_L.remove(str(col)+'_')\n",
    "        if col==col.lower() and str(col) in v_modelos:\n",
    "            v_modelos.remove(str(col))\n",
    "        if col==col.lower() and str(col)+'_' in LM_:\n",
    "            v_modelos_L.remove(str(col)+'_')\n",
    "        try:\n",
    "            df[col]=df_raw[col]\n",
    "            del df[str(col)+'_']\n",
    "        except:pass\n",
    "    return"
   ]
  },
  {
   "cell_type": "markdown",
   "metadata": {},
   "source": [
    "## Nueva variable: 'año'\n",
    "\n",
    "Año en el que se realizó la encuesta.\n",
    "Se añade para que las observaciones de este dataset sean identificables cuando se reunan varios datasets."
   ]
  },
  {
   "cell_type": "code",
   "execution_count": 18,
   "metadata": {},
   "outputs": [],
   "source": [
    "df['año']=2009\n",
    "a_lista('año')"
   ]
  },
  {
   "cell_type": "markdown",
   "metadata": {},
   "source": [
    "## Nueva variable: 'est_encuesta'\n",
    "\n",
    "Estudios oficiales objeto de la encuesta (los que definen la población objeto de muestreo).\n",
    "Se añade para que las observaciones de este dataset sean identificables cuando se reunan varios datasets"
   ]
  },
  {
   "cell_type": "code",
   "execution_count": 19,
   "metadata": {},
   "outputs": [],
   "source": [
    "df['est_encuesta']='doctorado'\n",
    "a_lista('est_encuesta')"
   ]
  },
  {
   "cell_type": "markdown",
   "metadata": {},
   "source": [
    "## 'MUIDENT'\n",
    "**Índice** único del entrevistado."
   ]
  },
  {
   "cell_type": "code",
   "execution_count": 20,
   "metadata": {},
   "outputs": [],
   "source": [
    "df['MUIDENT']=df['MUIDENT'].astype('int') # Sin valores no informados"
   ]
  },
  {
   "cell_type": "markdown",
   "metadata": {},
   "source": [
    "## 'CCAARESI'\n",
    "**CCAA de residencia** el 31 de diciembre de 2009: '01'=Andalucía, '02'=Aragón, '03'=Asturias (Principado de),\n",
    "'04'=Balears (Illes), '05'=Canarias, '06'=Cantabria, '07'=Castilla y León, '08'=Castilla - La Mancha, '09'=Cataluña, '10'=Comunidad Valenciana, '11'=Extremadura, '12'=Galicia, '13'=Madrid (Comunidad de), '14'=Murcia (Región de), '15'=Navarra (Comunidad Foral de), '16'=País Vasco, '17'=Rioja (La), '18'=Ceuta y Melilla. "
   ]
  },
  {
   "cell_type": "code",
   "execution_count": 21,
   "metadata": {},
   "outputs": [
    {
     "data": {
      "text/plain": [
       "array([ 1,  2,  3,  4,  5,  6,  7,  8,  9, 10, 11, 12, 13, 14, 15, 16, 17,\n",
       "       18])"
      ]
     },
     "execution_count": 21,
     "metadata": {},
     "output_type": "execute_result"
    }
   ],
   "source": [
    "df['CCAARESI']=df['CCAARESI'].astype('int') # Sin valores no informados\n",
    "df['CCAARESI'].sort_values().unique()"
   ]
  },
  {
   "cell_type": "markdown",
   "metadata": {},
   "source": [
    "## 'ANONAC'\n",
    "**Año de nacimiento**."
   ]
  },
  {
   "cell_type": "code",
   "execution_count": 22,
   "metadata": {},
   "outputs": [
    {
     "data": {
      "text/plain": [
       "array([1940, 1941, 1942, 1943, 1944, 1945, 1946, 1947, 1948, 1949, 1950,\n",
       "       1951, 1952, 1953, 1954, 1955, 1956, 1957, 1958, 1959, 1960, 1961,\n",
       "       1962, 1963, 1964, 1965, 1966, 1967, 1968, 1969, 1970, 1971, 1972,\n",
       "       1973, 1974, 1975, 1976, 1977, 1978, 1979, 1980])"
      ]
     },
     "execution_count": 22,
     "metadata": {},
     "output_type": "execute_result"
    }
   ],
   "source": [
    "df['ANONAC']=df['ANONAC'].astype('int') # Sin valores no informados\n",
    "df['ANONAC'].sort_values().unique()"
   ]
  },
  {
   "cell_type": "markdown",
   "metadata": {},
   "source": [
    "## Nuevas variables: 'edad_años' y 'edad'   \n",
    "**edad_años**: edad en el momento de la encuesta.  \n",
    "**edad**: frupo de edad en el momento de la encuesta.  \n",
    "Se agrupa en intervalos para hacerla comparable con la de graduados y titulados de máster universitario. "
   ]
  },
  {
   "cell_type": "code",
   "execution_count": 23,
   "metadata": {},
   "outputs": [],
   "source": [
    "df['edad_años']=df['año']-df['ANONAC'] "
   ]
  },
  {
   "cell_type": "code",
   "execution_count": 24,
   "metadata": {},
   "outputs": [
    {
     "data": {
      "text/plain": [
       "array([29, 30, 31, 32, 33, 34, 35, 36, 37, 38, 39, 40, 41, 42, 43, 44, 45,\n",
       "       46, 47, 48, 49, 50, 51, 52, 53, 54, 55, 56, 57, 58, 59, 60, 61, 62,\n",
       "       63, 64, 65, 66, 67, 68, 69])"
      ]
     },
     "execution_count": 24,
     "metadata": {},
     "output_type": "execute_result"
    }
   ],
   "source": [
    "df['edad_años'].sort_values().unique()"
   ]
  },
  {
   "cell_type": "code",
   "execution_count": 25,
   "metadata": {},
   "outputs": [
    {
     "data": {
      "text/html": [
       "<div>\n",
       "<style scoped>\n",
       "    .dataframe tbody tr th:only-of-type {\n",
       "        vertical-align: middle;\n",
       "    }\n",
       "\n",
       "    .dataframe tbody tr th {\n",
       "        vertical-align: top;\n",
       "    }\n",
       "\n",
       "    .dataframe thead tr th {\n",
       "        text-align: left;\n",
       "    }\n",
       "\n",
       "    .dataframe thead tr:last-of-type th {\n",
       "        text-align: right;\n",
       "    }\n",
       "</style>\n",
       "<table border=\"1\" class=\"dataframe\">\n",
       "  <thead>\n",
       "    <tr>\n",
       "      <th></th>\n",
       "      <th>edad_años</th>\n",
       "      <th>edad</th>\n",
       "    </tr>\n",
       "    <tr>\n",
       "      <th></th>\n",
       "      <th>unique</th>\n",
       "      <th>unique</th>\n",
       "    </tr>\n",
       "    <tr>\n",
       "      <th>edad_</th>\n",
       "      <th></th>\n",
       "      <th></th>\n",
       "    </tr>\n",
       "  </thead>\n",
       "  <tbody>\n",
       "    <tr>\n",
       "      <th>De 30 a 34 años</th>\n",
       "      <td>[34, 32, 30, 33, 31]</td>\n",
       "      <td>[2]\n",
       "Categories (1, int64): [2]</td>\n",
       "    </tr>\n",
       "    <tr>\n",
       "      <th>De 35 y más años</th>\n",
       "      <td>[44, 37, 41, 40, 48, 42, 36, 35, 53, 39, 51, 43, 38, 52, 47, 50, 49, 54, 45, 46, 61, 55, 63, 69, 57, 62, 68, 66, 64, 59, 58, 60, 56, 67, 65]</td>\n",
       "      <td>[3]\n",
       "Categories (1, int64): [3]</td>\n",
       "    </tr>\n",
       "    <tr>\n",
       "      <th>Menores de 30 años</th>\n",
       "      <td>[29]</td>\n",
       "      <td>[1]\n",
       "Categories (1, int64): [1]</td>\n",
       "    </tr>\n",
       "  </tbody>\n",
       "</table>\n",
       "</div>"
      ],
      "text/plain": [
       "                                                                                                                                                       edad_años  \\\n",
       "                                                                                                                                                          unique   \n",
       "edad_                                                                                                                                                              \n",
       "De 30 a 34 años                                                                                                                             [34, 32, 30, 33, 31]   \n",
       "De 35 y más años    [44, 37, 41, 40, 48, 42, 36, 35, 53, 39, 51, 43, 38, 52, 47, 50, 49, 54, 45, 46, 61, 55, 63, 69, 57, 62, 68, 66, 64, 59, 58, 60, 56, 67, 65]   \n",
       "Menores de 30 años                                                                                                                                          [29]   \n",
       "\n",
       "                                              edad  \n",
       "                                            unique  \n",
       "edad_                                               \n",
       "De 30 a 34 años     [2]\n",
       "Categories (1, int64): [2]  \n",
       "De 35 y más años    [3]\n",
       "Categories (1, int64): [3]  \n",
       "Menores de 30 años  [1]\n",
       "Categories (1, int64): [1]  "
      ]
     },
     "execution_count": 25,
     "metadata": {},
     "output_type": "execute_result"
    }
   ],
   "source": [
    "df['edad']=pd.cut(df['edad_años'],[0,29,34,100],labels=[1,2,3])\n",
    "traduce('edad',check=False)\n",
    "df[['edad_años','edad','edad_']].groupby('edad_').agg(['unique']) # Comprobación"
   ]
  },
  {
   "cell_type": "markdown",
   "metadata": {},
   "source": [
    "## 'CCAANAC'\n",
    "**CCAA de nacimiento**: '01'=Andalucía, '02'=Aragón, '03'=Asturias (Principado de), '04'=Balears (Illes), '05'=Canarias, '06'=Cantabria, '07'=Castilla y León, '08'=Castilla - La Mancha, '09'=Cataluña, '10'=Comunidad Valenciana, '11'=Extremadura, '12'=Galicia, '13'=Madrid (Comunidad de), '14'=Murcia (Región de), '15'=Navarra (Comunidad Foral de), '16'=País Vasco, '17'=Rioja (La), '18'=Ceuta y Melilla. "
   ]
  },
  {
   "cell_type": "code",
   "execution_count": 26,
   "metadata": {},
   "outputs": [
    {
     "data": {
      "text/plain": [
       "array(['16', '13', 'NN', '12', '15', '08', '07', '14', '10', '09', '01',\n",
       "       '11', '04', '02', '03', '06', '18', '05', '17'], dtype=object)"
      ]
     },
     "execution_count": 26,
     "metadata": {},
     "output_type": "execute_result"
    }
   ],
   "source": [
    "df['CCAANAC'].unique() # No informados como 'NN' (no nacidos en España)"
   ]
  },
  {
   "cell_type": "code",
   "execution_count": 27,
   "metadata": {},
   "outputs": [
    {
     "data": {
      "text/plain": [
       "array(['01', '02', '03', '04', '05', '06', '07', '08', '09', '10', '11',\n",
       "       '12', '13', '14', '15', '16', '17', '18', None], dtype=object)"
      ]
     },
     "execution_count": 27,
     "metadata": {},
     "output_type": "execute_result"
    }
   ],
   "source": [
    "df['CCAANAC'].replace({'NN':None},inplace=True) \n",
    "df['CCAANAC'].sort_values().unique()"
   ]
  },
  {
   "cell_type": "markdown",
   "metadata": {},
   "source": [
    "## 'CONTNACIM'\n",
    "**Continente de nacimiento**: 'EU27'=Unión Europea, 'REUR'=Resto de Europa, 'EUCA'=EEUU y Canadá, 'RAME'=Resto de América, 'AFRI' = África, 'ASIA'=Asia, 'OCEA'=Oceanía, 'NNNN'=Blanco."
   ]
  },
  {
   "cell_type": "code",
   "execution_count": 28,
   "metadata": {},
   "outputs": [
    {
     "data": {
      "text/plain": [
       "array(['EU27', 'RAME', 'REUR', 'EUCA', 'ASIA', 'AFRI', 'OCEA'],\n",
       "      dtype=object)"
      ]
     },
     "execution_count": 28,
     "metadata": {},
     "output_type": "execute_result"
    }
   ],
   "source": [
    "df['CONTNACIM'].unique() # Sin no informados"
   ]
  },
  {
   "cell_type": "markdown",
   "metadata": {},
   "source": [
    "## Nueva variable: 'eu27'   \n",
    "**eu27**: 1=Nacido en EU27, 0=No nacido en EU27"
   ]
  },
  {
   "cell_type": "code",
   "execution_count": 29,
   "metadata": {},
   "outputs": [
    {
     "data": {
      "text/html": [
       "<div>\n",
       "<style scoped>\n",
       "    .dataframe tbody tr th:only-of-type {\n",
       "        vertical-align: middle;\n",
       "    }\n",
       "\n",
       "    .dataframe tbody tr th {\n",
       "        vertical-align: top;\n",
       "    }\n",
       "\n",
       "    .dataframe thead tr th {\n",
       "        text-align: left;\n",
       "    }\n",
       "\n",
       "    .dataframe thead tr:last-of-type th {\n",
       "        text-align: right;\n",
       "    }\n",
       "</style>\n",
       "<table border=\"1\" class=\"dataframe\">\n",
       "  <thead>\n",
       "    <tr>\n",
       "      <th></th>\n",
       "      <th>eu27</th>\n",
       "      <th>CONTNACIM</th>\n",
       "    </tr>\n",
       "    <tr>\n",
       "      <th></th>\n",
       "      <th>unique</th>\n",
       "      <th>unique</th>\n",
       "    </tr>\n",
       "    <tr>\n",
       "      <th>eu27_</th>\n",
       "      <th></th>\n",
       "      <th></th>\n",
       "    </tr>\n",
       "  </thead>\n",
       "  <tbody>\n",
       "    <tr>\n",
       "      <th>Nacido en EU27</th>\n",
       "      <td>[1]</td>\n",
       "      <td>[EU27]</td>\n",
       "    </tr>\n",
       "    <tr>\n",
       "      <th>No nacido en EU27</th>\n",
       "      <td>[0]</td>\n",
       "      <td>[RAME, REUR, EUCA, ASIA, AFRI, OCEA]</td>\n",
       "    </tr>\n",
       "  </tbody>\n",
       "</table>\n",
       "</div>"
      ],
      "text/plain": [
       "                    eu27                             CONTNACIM\n",
       "                  unique                                unique\n",
       "eu27_                                                         \n",
       "Nacido en EU27       [1]                                [EU27]\n",
       "No nacido en EU27    [0]  [RAME, REUR, EUCA, ASIA, AFRI, OCEA]"
      ]
     },
     "execution_count": 29,
     "metadata": {},
     "output_type": "execute_result"
    }
   ],
   "source": [
    "df['eu27']=0\n",
    "df['eu27'].mask(df['CONTNACIM']=='EU27',1,inplace=True)\n",
    "traduce('eu27',check=False)\n",
    "df[['eu27','eu27_','CONTNACIM']].groupby('eu27_').agg(['unique']) # Comprobación"
   ]
  },
  {
   "cell_type": "markdown",
   "metadata": {},
   "source": [
    "## 'RELA'\n",
    "**Relación** que le une **con España**: '1'=Español por nacimiento, '2'=Español por nacionalización, '3'=Residente permanente, '4'=Residente temporal, '5'=Refugiado."
   ]
  },
  {
   "cell_type": "code",
   "execution_count": 30,
   "metadata": {},
   "outputs": [
    {
     "data": {
      "text/plain": [
       "array([1, 2, 3, 4])"
      ]
     },
     "execution_count": 30,
     "metadata": {},
     "output_type": "execute_result"
    }
   ],
   "source": [
    "df['RELA']=df['RELA'].astype('int') # Sin no informados\n",
    "df['RELA'].unique()"
   ]
  },
  {
   "cell_type": "markdown",
   "metadata": {},
   "source": [
    "## Nueva variable: 'nacionalidad'\n",
    "\n",
    "**Nacionalidad española** u otra: 0=Nacionalidad no española, 1=Nacionalidad española."
   ]
  },
  {
   "cell_type": "code",
   "execution_count": 31,
   "metadata": {},
   "outputs": [
    {
     "data": {
      "text/html": [
       "<div>\n",
       "<style scoped>\n",
       "    .dataframe tbody tr th:only-of-type {\n",
       "        vertical-align: middle;\n",
       "    }\n",
       "\n",
       "    .dataframe tbody tr th {\n",
       "        vertical-align: top;\n",
       "    }\n",
       "\n",
       "    .dataframe thead tr th {\n",
       "        text-align: left;\n",
       "    }\n",
       "\n",
       "    .dataframe thead tr:last-of-type th {\n",
       "        text-align: right;\n",
       "    }\n",
       "</style>\n",
       "<table border=\"1\" class=\"dataframe\">\n",
       "  <thead>\n",
       "    <tr>\n",
       "      <th></th>\n",
       "      <th>nacionalidad</th>\n",
       "      <th>RELA</th>\n",
       "    </tr>\n",
       "    <tr>\n",
       "      <th></th>\n",
       "      <th>unique</th>\n",
       "      <th>unique</th>\n",
       "    </tr>\n",
       "    <tr>\n",
       "      <th>nacionalidad_</th>\n",
       "      <th></th>\n",
       "      <th></th>\n",
       "    </tr>\n",
       "  </thead>\n",
       "  <tbody>\n",
       "    <tr>\n",
       "      <th>Nacionalidad española</th>\n",
       "      <td>[1]</td>\n",
       "      <td>[1, 2]</td>\n",
       "    </tr>\n",
       "    <tr>\n",
       "      <th>Nacionalidad no española</th>\n",
       "      <td>[0]</td>\n",
       "      <td>[3, 4]</td>\n",
       "    </tr>\n",
       "  </tbody>\n",
       "</table>\n",
       "</div>"
      ],
      "text/plain": [
       "                         nacionalidad    RELA\n",
       "                               unique  unique\n",
       "nacionalidad_                                \n",
       "Nacionalidad española             [1]  [1, 2]\n",
       "Nacionalidad no española          [0]  [3, 4]"
      ]
     },
     "execution_count": 31,
     "metadata": {},
     "output_type": "execute_result"
    }
   ],
   "source": [
    "df['nacionalidad']=0\n",
    "df['nacionalidad'].mask((df['RELA']==1)|(df['RELA']==2),1,inplace=True)\n",
    "traduce('nacionalidad',check=False)\n",
    "df[['nacionalidad_','nacionalidad','RELA']].groupby('nacionalidad_').agg(['unique']) # Comprobación"
   ]
  },
  {
   "cell_type": "markdown",
   "metadata": {},
   "source": [
    "## 'CONTNAC1'\n",
    "**Continente** del pais de su **primera nacionalidad**: 'EU27'=Unión Europea, 'REUR'=Resto de Europa, 'EUCA'=EEUU y Canadá, 'RAME'=Resto de América, 'AFRI' = África, 'ASIA'=Asia, 'OCEA'=Oceanía, 'NNNN'=Blanco."
   ]
  },
  {
   "cell_type": "code",
   "execution_count": 32,
   "metadata": {},
   "outputs": [
    {
     "data": {
      "text/plain": [
       "array(['EU27', 'RAME', 'REUR', 'EUCA', 'AFRI', 'ASIA'], dtype=object)"
      ]
     },
     "execution_count": 32,
     "metadata": {},
     "output_type": "execute_result"
    }
   ],
   "source": [
    "df['CONTNAC1'].unique() # Sin no informados"
   ]
  },
  {
   "cell_type": "markdown",
   "metadata": {},
   "source": [
    "## 'CONTNAC2'\n",
    "**Continente** del pais de su **segunda nacionalidad**: 'EU27'=Unión Europea, 'REUR'=Resto de Europa, 'EUCA'=EEUU y Canadá, 'RAME'=Resto de América, 'AFRI' = África, 'ASIA'=Asia, 'OCEA'=Oceanía, 'NNNN'=Blanco."
   ]
  },
  {
   "cell_type": "code",
   "execution_count": 33,
   "metadata": {},
   "outputs": [
    {
     "data": {
      "text/plain": [
       "array(['NNNN', 'EU27', 'EUCA', 'RAME', 'AFRI', 'REUR'], dtype=object)"
      ]
     },
     "execution_count": 33,
     "metadata": {},
     "output_type": "execute_result"
    }
   ],
   "source": [
    "df['CONTNAC2'].unique() # No informados como 'NNNN' "
   ]
  },
  {
   "cell_type": "code",
   "execution_count": 34,
   "metadata": {},
   "outputs": [
    {
     "data": {
      "text/plain": [
       "array([None, 'EU27', 'EUCA', 'RAME', 'AFRI', 'REUR'], dtype=object)"
      ]
     },
     "execution_count": 34,
     "metadata": {},
     "output_type": "execute_result"
    }
   ],
   "source": [
    "df['CONTNAC2'].replace({'NNNN':None},inplace=True) \n",
    "df['CONTNAC2'].unique()"
   ]
  },
  {
   "cell_type": "markdown",
   "metadata": {},
   "source": [
    "## 'CONTNAC3'\n",
    "**Continente** del pais de su **tercera nacionalidad**: 'EU27'=Unión Europea, 'REUR'=Resto de Europa, 'EUCA'=EEUU y Canadá, 'RAME'=Resto de América, 'AFRI' = África, 'ASIA'=Asia, 'OCEA'=Oceanía, 'NNNN'=Blanco."
   ]
  },
  {
   "cell_type": "code",
   "execution_count": 35,
   "metadata": {},
   "outputs": [
    {
     "data": {
      "text/plain": [
       "array(['NNNN', 'RAME'], dtype=object)"
      ]
     },
     "execution_count": 35,
     "metadata": {},
     "output_type": "execute_result"
    }
   ],
   "source": [
    "df['CONTNAC3'].unique() # No informados como 'NNNN' "
   ]
  },
  {
   "cell_type": "code",
   "execution_count": 36,
   "metadata": {},
   "outputs": [
    {
     "data": {
      "text/plain": [
       "array([None, 'RAME'], dtype=object)"
      ]
     },
     "execution_count": 36,
     "metadata": {},
     "output_type": "execute_result"
    }
   ],
   "source": [
    "df['CONTNAC3'].replace({'NNNN':None},inplace=True) \n",
    "df['CONTNAC3'].unique()"
   ]
  },
  {
   "cell_type": "markdown",
   "metadata": {},
   "source": [
    "## 'SEXO' (redefinida como 'sexo')\n",
    "**Sexo**: '1'=Hombre, '2'='Mujer'"
   ]
  },
  {
   "cell_type": "code",
   "execution_count": 37,
   "metadata": {},
   "outputs": [
    {
     "data": {
      "text/plain": [
       "array([2, 1])"
      ]
     },
     "execution_count": 37,
     "metadata": {},
     "output_type": "execute_result"
    }
   ],
   "source": [
    "df['SEXO']=df['SEXO'].astype('int') # Sin no informados\n",
    "df['SEXO'].unique() "
   ]
  },
  {
   "cell_type": "code",
   "execution_count": 38,
   "metadata": {},
   "outputs": [
    {
     "data": {
      "text/html": [
       "<div>\n",
       "<style scoped>\n",
       "    .dataframe tbody tr th:only-of-type {\n",
       "        vertical-align: middle;\n",
       "    }\n",
       "\n",
       "    .dataframe tbody tr th {\n",
       "        vertical-align: top;\n",
       "    }\n",
       "\n",
       "    .dataframe thead tr th {\n",
       "        text-align: left;\n",
       "    }\n",
       "\n",
       "    .dataframe thead tr:last-of-type th {\n",
       "        text-align: right;\n",
       "    }\n",
       "</style>\n",
       "<table border=\"1\" class=\"dataframe\">\n",
       "  <thead>\n",
       "    <tr>\n",
       "      <th></th>\n",
       "      <th>sexo</th>\n",
       "      <th>SEXO</th>\n",
       "    </tr>\n",
       "    <tr>\n",
       "      <th></th>\n",
       "      <th>unique</th>\n",
       "      <th>unique</th>\n",
       "    </tr>\n",
       "    <tr>\n",
       "      <th>sexo_</th>\n",
       "      <th></th>\n",
       "      <th></th>\n",
       "    </tr>\n",
       "  </thead>\n",
       "  <tbody>\n",
       "    <tr>\n",
       "      <th>Hombre</th>\n",
       "      <td>[0]</td>\n",
       "      <td>[1]</td>\n",
       "    </tr>\n",
       "    <tr>\n",
       "      <th>Mujer</th>\n",
       "      <td>[1]</td>\n",
       "      <td>[2]</td>\n",
       "    </tr>\n",
       "  </tbody>\n",
       "</table>\n",
       "</div>"
      ],
      "text/plain": [
       "         sexo   SEXO\n",
       "       unique unique\n",
       "sexo_               \n",
       "Hombre    [0]    [1]\n",
       "Mujer     [1]    [2]"
      ]
     },
     "execution_count": 38,
     "metadata": {},
     "output_type": "execute_result"
    }
   ],
   "source": [
    "df['sexo']=0\n",
    "df['sexo'].mask(df['SEXO']==2,1,inplace=True)\n",
    "traduce('sexo',check=False)\n",
    "df[['sexo_','sexo','SEXO']].groupby('sexo_').agg(['unique']) # Comprobación"
   ]
  },
  {
   "cell_type": "markdown",
   "metadata": {},
   "source": [
    "## 'ESTADOCIVIL' (redefinida como 'e_civil')\n",
    "**Estado civil**: '1'=Casado, '2'=Pareja de hecho, '3'=Separado, '4'=Divorciado, '5'=Viudo, '6'=Soltero.\n",
    "\n",
    "Nota: se modifican los valores numéricos para hacerlos coincidir con empleados en las encuestas de graduados y titulados de máster universitario. Se omite la categoría 'Pareja de hecho' por la misma razón."
   ]
  },
  {
   "cell_type": "code",
   "execution_count": 39,
   "metadata": {},
   "outputs": [
    {
     "data": {
      "text/plain": [
       "array([1, 2, 3, 4, 5, 6])"
      ]
     },
     "execution_count": 39,
     "metadata": {},
     "output_type": "execute_result"
    }
   ],
   "source": [
    "df['ESTADOCIVIL']=df['ESTADOCIVIL'].astype('int') # Sin no informados\n",
    "df['ESTADOCIVIL'].sort_values().unique()"
   ]
  },
  {
   "cell_type": "code",
   "execution_count": 40,
   "metadata": {},
   "outputs": [
    {
     "data": {
      "text/html": [
       "<div>\n",
       "<style scoped>\n",
       "    .dataframe tbody tr th:only-of-type {\n",
       "        vertical-align: middle;\n",
       "    }\n",
       "\n",
       "    .dataframe tbody tr th {\n",
       "        vertical-align: top;\n",
       "    }\n",
       "\n",
       "    .dataframe thead tr th {\n",
       "        text-align: left;\n",
       "    }\n",
       "\n",
       "    .dataframe thead tr:last-of-type th {\n",
       "        text-align: right;\n",
       "    }\n",
       "</style>\n",
       "<table border=\"1\" class=\"dataframe\">\n",
       "  <thead>\n",
       "    <tr>\n",
       "      <th></th>\n",
       "      <th>e_civil</th>\n",
       "      <th>ESTADOCIVIL</th>\n",
       "    </tr>\n",
       "    <tr>\n",
       "      <th></th>\n",
       "      <th>unique</th>\n",
       "      <th>unique</th>\n",
       "    </tr>\n",
       "    <tr>\n",
       "      <th>e_civil_</th>\n",
       "      <th></th>\n",
       "      <th></th>\n",
       "    </tr>\n",
       "  </thead>\n",
       "  <tbody>\n",
       "    <tr>\n",
       "      <th>Casado</th>\n",
       "      <td>[2]</td>\n",
       "      <td>[1]</td>\n",
       "    </tr>\n",
       "    <tr>\n",
       "      <th>Divorciado</th>\n",
       "      <td>[5]</td>\n",
       "      <td>[4]</td>\n",
       "    </tr>\n",
       "    <tr>\n",
       "      <th>Separado</th>\n",
       "      <td>[4]</td>\n",
       "      <td>[3]</td>\n",
       "    </tr>\n",
       "    <tr>\n",
       "      <th>Soltero</th>\n",
       "      <td>[1]</td>\n",
       "      <td>[6]</td>\n",
       "    </tr>\n",
       "    <tr>\n",
       "      <th>Viudo</th>\n",
       "      <td>[3]</td>\n",
       "      <td>[5]</td>\n",
       "    </tr>\n",
       "  </tbody>\n",
       "</table>\n",
       "</div>"
      ],
      "text/plain": [
       "           e_civil ESTADOCIVIL\n",
       "            unique      unique\n",
       "e_civil_                      \n",
       "Casado         [2]         [1]\n",
       "Divorciado     [5]         [4]\n",
       "Separado       [4]         [3]\n",
       "Soltero        [1]         [6]\n",
       "Viudo          [3]         [5]"
      ]
     },
     "execution_count": 40,
     "metadata": {},
     "output_type": "execute_result"
    }
   ],
   "source": [
    "df['e_civil']=None\n",
    "df['e_civil'].mask(df['ESTADOCIVIL']==6,1,inplace=True)\n",
    "df['e_civil'].mask(df['ESTADOCIVIL']==1,2,inplace=True)\n",
    "df['e_civil'].mask(df['ESTADOCIVIL']==5,3,inplace=True)\n",
    "df['e_civil'].mask(df['ESTADOCIVIL']==3,4,inplace=True)\n",
    "df['e_civil'].mask(df['ESTADOCIVIL']==4,5,inplace=True)\n",
    "traduce('e_civil',check=False)\n",
    "df[['e_civil_','e_civil','ESTADOCIVIL']].groupby('e_civil_').agg(['unique']) # Comprobación"
   ]
  },
  {
   "cell_type": "markdown",
   "metadata": {},
   "source": [
    "## 'DEPEN5'\n",
    "Número de **personas dependientes a su cargo de 5 años o menos**.  "
   ]
  },
  {
   "cell_type": "code",
   "execution_count": 41,
   "metadata": {},
   "outputs": [
    {
     "data": {
      "text/plain": [
       "array([0, 1, 2, 3, 5])"
      ]
     },
     "execution_count": 41,
     "metadata": {},
     "output_type": "execute_result"
    }
   ],
   "source": [
    "df['DEPEN5']=df['DEPEN5'].astype('int') # Sin no informados\n",
    "df['DEPEN5'].sort_values().unique()"
   ]
  },
  {
   "cell_type": "markdown",
   "metadata": {},
   "source": [
    "## 'DEPEN18'\n",
    "Número de **personas dependientes a su cargo de 6 a 18 años**."
   ]
  },
  {
   "cell_type": "code",
   "execution_count": 42,
   "metadata": {},
   "outputs": [
    {
     "data": {
      "text/plain": [
       "array([0, 1, 2, 3, 4, 5, 6])"
      ]
     },
     "execution_count": 42,
     "metadata": {},
     "output_type": "execute_result"
    }
   ],
   "source": [
    "df['DEPEN18']=df['DEPEN18'].astype('int') # Sin no informados\n",
    "df['DEPEN18'].sort_values().unique()"
   ]
  },
  {
   "cell_type": "markdown",
   "metadata": {},
   "source": [
    "## 'DEPENMAS'\n",
    "Número de **personas dependientes a su cargo de más de 18 años**."
   ]
  },
  {
   "cell_type": "code",
   "execution_count": 43,
   "metadata": {},
   "outputs": [
    {
     "data": {
      "text/plain": [
       "array([0, 1, 2, 3, 4, 6])"
      ]
     },
     "execution_count": 43,
     "metadata": {},
     "output_type": "execute_result"
    }
   ],
   "source": [
    "df['DEPENMAS']=df['DEPENMAS'].astype('int') # Sin no informados\n",
    "df['DEPENMAS'].sort_values().unique()"
   ]
  },
  {
   "cell_type": "markdown",
   "metadata": {},
   "source": [
    "## 'NIVESTPA' (redefinida como 'estudios_pa')\n",
    "**Nivel educativo del padre**: '1'=Sin estudios, '2'=Enseñanza Primaria Incompleta, '3'=ESO,EGB,Primaria completa o equivalente, '4'=FP I, '5'=FP II, '6'=Bachiller Superior,BUP,COU, '7'=Diplomado,Arquitecto o Ingeniero Técnico o equiv, '8'=Licenciado,Arquitecto o Ingeniero Superior o equiv, '9'=Doctorado,postgrado o especialización para licenciados, '10'=NS/NC.\n",
    "\n",
    "Nota: se modifican algunos los valores en 'estudios_pa' para hacerlos consistentes con los definidos en las encuesta de graduados y titulados de máster universitario. "
   ]
  },
  {
   "cell_type": "code",
   "execution_count": 44,
   "metadata": {},
   "outputs": [
    {
     "data": {
      "text/plain": [
       "array(['1 ', '10', '2 ', '3 ', '4 ', '5 ', '6 ', '7 ', '8 ', '9 '],\n",
       "      dtype=object)"
      ]
     },
     "execution_count": 44,
     "metadata": {},
     "output_type": "execute_result"
    }
   ],
   "source": [
    "df['NIVESTPA'].sort_values().unique()  # No informados como '10'"
   ]
  },
  {
   "cell_type": "code",
   "execution_count": 45,
   "metadata": {},
   "outputs": [
    {
     "name": "stdout",
     "output_type": "stream",
     "text": [
      "[ 1.  2.  3.  4.  5.  6.  7.  8.  9. nan]\n"
     ]
    }
   ],
   "source": [
    "no_respuesta('NIVESTPA',nsnc='10')"
   ]
  },
  {
   "cell_type": "code",
   "execution_count": 46,
   "metadata": {},
   "outputs": [
    {
     "data": {
      "text/html": [
       "<div>\n",
       "<style scoped>\n",
       "    .dataframe tbody tr th:only-of-type {\n",
       "        vertical-align: middle;\n",
       "    }\n",
       "\n",
       "    .dataframe tbody tr th {\n",
       "        vertical-align: top;\n",
       "    }\n",
       "\n",
       "    .dataframe thead tr th {\n",
       "        text-align: left;\n",
       "    }\n",
       "\n",
       "    .dataframe thead tr:last-of-type th {\n",
       "        text-align: right;\n",
       "    }\n",
       "</style>\n",
       "<table border=\"1\" class=\"dataframe\">\n",
       "  <thead>\n",
       "    <tr>\n",
       "      <th></th>\n",
       "      <th>estudios_pa</th>\n",
       "      <th>NIVESTPA</th>\n",
       "    </tr>\n",
       "    <tr>\n",
       "      <th></th>\n",
       "      <th>unique</th>\n",
       "      <th>unique</th>\n",
       "    </tr>\n",
       "    <tr>\n",
       "      <th>estudios_pa_</th>\n",
       "      <th></th>\n",
       "      <th></th>\n",
       "    </tr>\n",
       "  </thead>\n",
       "  <tbody>\n",
       "    <tr>\n",
       "      <th>Educación primaria completa</th>\n",
       "      <td>[3.0]</td>\n",
       "      <td>[3.0]</td>\n",
       "    </tr>\n",
       "    <tr>\n",
       "      <th>Educación primaria incompleta (ha asistido menos de 5 años a la escuela)</th>\n",
       "      <td>[2.0]</td>\n",
       "      <td>[2.0]</td>\n",
       "    </tr>\n",
       "    <tr>\n",
       "      <th>Enseñanzas profesionales de grado medio o equivalentes</th>\n",
       "      <td>[6.0]</td>\n",
       "      <td>[4.0]</td>\n",
       "    </tr>\n",
       "    <tr>\n",
       "      <th>Enseñanzas profesionales de grado superior o equivalentes</th>\n",
       "      <td>[7.0]</td>\n",
       "      <td>[5.0]</td>\n",
       "    </tr>\n",
       "    <tr>\n",
       "      <th>Estudios de Bachillerato (Bachillerato LOGSE, BUP, COU, Preu)</th>\n",
       "      <td>[5.0]</td>\n",
       "      <td>[6.0]</td>\n",
       "    </tr>\n",
       "    <tr>\n",
       "      <th>Estudios universitarios (Diplomatura, Licenciatura, Doctorado) o equivalentes</th>\n",
       "      <td>[8.0]</td>\n",
       "      <td>[7.0, 8.0, 9.0]</td>\n",
       "    </tr>\n",
       "    <tr>\n",
       "      <th>No sabe leer o escribir</th>\n",
       "      <td>[1.0]</td>\n",
       "      <td>[1.0]</td>\n",
       "    </tr>\n",
       "  </tbody>\n",
       "</table>\n",
       "</div>"
      ],
      "text/plain": [
       "                                                                              estudios_pa  \\\n",
       "                                                                                   unique   \n",
       "estudios_pa_                                                                                \n",
       "Educación primaria completa                                                         [3.0]   \n",
       "Educación primaria incompleta (ha asistido menos de 5 años a la escuela)            [2.0]   \n",
       "Enseñanzas profesionales de grado medio o equivalentes                              [6.0]   \n",
       "Enseñanzas profesionales de grado superior o equivalentes                           [7.0]   \n",
       "Estudios de Bachillerato (Bachillerato LOGSE, BUP, COU, Preu)                       [5.0]   \n",
       "Estudios universitarios (Diplomatura, Licenciatura, Doctorado) o equivalentes       [8.0]   \n",
       "No sabe leer o escribir                                                             [1.0]   \n",
       "\n",
       "                                                                                      NIVESTPA  \n",
       "                                                                                        unique  \n",
       "estudios_pa_                                                                                    \n",
       "Educación primaria completa                                                              [3.0]  \n",
       "Educación primaria incompleta (ha asistido menos de 5 años a la escuela)                 [2.0]  \n",
       "Enseñanzas profesionales de grado medio o equivalentes                                   [4.0]  \n",
       "Enseñanzas profesionales de grado superior o equivalentes                                [5.0]  \n",
       "Estudios de Bachillerato (Bachillerato LOGSE, BUP, COU, Preu)                            [6.0]  \n",
       "Estudios universitarios (Diplomatura, Licenciatura, Doctorado) o equivalentes  [7.0, 8.0, 9.0]  \n",
       "No sabe leer o escribir                                                                  [1.0]  "
      ]
     },
     "execution_count": 46,
     "metadata": {},
     "output_type": "execute_result"
    }
   ],
   "source": [
    "df['estudios_pa']=df['NIVESTPA']\n",
    "df['estudios_pa'].mask(df['NIVESTPA']==6,5,inplace=True)\n",
    "df['estudios_pa'].mask(df['NIVESTPA']==4,6,inplace=True)\n",
    "df['estudios_pa'].mask(df['NIVESTPA']==5,7,inplace=True)\n",
    "df['estudios_pa'].mask(df['NIVESTPA']==7,8,inplace=True)\n",
    "df['estudios_pa'].mask(df['NIVESTPA']==8,8,inplace=True)\n",
    "df['estudios_pa'].mask(df['NIVESTPA']==9,8,inplace=True)\n",
    "traduce('estudios_pa',check=False)\n",
    "df[['estudios_pa_','estudios_pa','NIVESTPA']].groupby('estudios_pa_').agg(['unique'])"
   ]
  },
  {
   "cell_type": "markdown",
   "metadata": {},
   "source": [
    "## Nueva variable: 'grado_med_pa'\n",
    "**Padre** con o sin **estudios de enseñanzas medias o superiores**, incluidos los universitarios: 1=Con estudios de enseñanzas medias o superiores, 0=Sin estudios de enseñanzas medias o superiores."
   ]
  },
  {
   "cell_type": "code",
   "execution_count": 47,
   "metadata": {},
   "outputs": [
    {
     "name": "stdout",
     "output_type": "stream",
     "text": [
      "                                                  aux_traduce\n",
      "                                                       unique\n",
      "grad_med_pa                                                  \n",
      "0            [Sin estudios de enseñanzas medias o superiores]\n",
      "1            [Con estudios de enseñanzas medias o superiores]\n"
     ]
    },
    {
     "data": {
      "text/html": [
       "<div>\n",
       "<style scoped>\n",
       "    .dataframe tbody tr th:only-of-type {\n",
       "        vertical-align: middle;\n",
       "    }\n",
       "\n",
       "    .dataframe tbody tr th {\n",
       "        vertical-align: top;\n",
       "    }\n",
       "\n",
       "    .dataframe thead tr th {\n",
       "        text-align: left;\n",
       "    }\n",
       "\n",
       "    .dataframe thead tr:last-of-type th {\n",
       "        text-align: right;\n",
       "    }\n",
       "</style>\n",
       "<table border=\"1\" class=\"dataframe\">\n",
       "  <thead>\n",
       "    <tr>\n",
       "      <th></th>\n",
       "      <th>estudios_pa_</th>\n",
       "    </tr>\n",
       "    <tr>\n",
       "      <th></th>\n",
       "      <th>unique</th>\n",
       "    </tr>\n",
       "    <tr>\n",
       "      <th>grad_med_pa</th>\n",
       "      <th></th>\n",
       "    </tr>\n",
       "  </thead>\n",
       "  <tbody>\n",
       "    <tr>\n",
       "      <th>0</th>\n",
       "      <td>[Educación primaria incompleta (ha asistido menos de 5 años a la escuela), Educación primaria completa, No sabe leer o escribir, nan]</td>\n",
       "    </tr>\n",
       "    <tr>\n",
       "      <th>1</th>\n",
       "      <td>[Estudios universitarios (Diplomatura, Licenciatura, Doctorado) o equivalentes, Enseñanzas profesionales de grado medio o equivalentes, Enseñanzas profesionales de grado superior o equivalentes, Estudios de Bachillerato (Bachillerato LOGSE, BUP, COU, Preu)]</td>\n",
       "    </tr>\n",
       "  </tbody>\n",
       "</table>\n",
       "</div>"
      ],
      "text/plain": [
       "                                                                                                                                                                                                                                                                  estudios_pa_\n",
       "                                                                                                                                                                                                                                                                        unique\n",
       "grad_med_pa                                                                                                                                                                                                                                                                   \n",
       "0                                                                                                                                        [Educación primaria incompleta (ha asistido menos de 5 años a la escuela), Educación primaria completa, No sabe leer o escribir, nan]\n",
       "1            [Estudios universitarios (Diplomatura, Licenciatura, Doctorado) o equivalentes, Enseñanzas profesionales de grado medio o equivalentes, Enseñanzas profesionales de grado superior o equivalentes, Estudios de Bachillerato (Bachillerato LOGSE, BUP, COU, Preu)]"
      ]
     },
     "execution_count": 47,
     "metadata": {},
     "output_type": "execute_result"
    }
   ],
   "source": [
    "df['grad_med_pa']=0\n",
    "df['grad_med_pa'].mask(df['estudios_pa']>=5,1,inplace=True)\n",
    "traduce('grad_med_pa')\n",
    "df[['estudios_pa_','grad_med_pa']].groupby('grad_med_pa').agg(['unique']) # Comprobación: "
   ]
  },
  {
   "cell_type": "markdown",
   "metadata": {},
   "source": [
    "## Nueva variable: 'univ_pa'\n",
    "**Padre** con o sin **estudios universitarios**: 1=Con estudios universitarios, 0=Sin estudios universitarios "
   ]
  },
  {
   "cell_type": "code",
   "execution_count": 48,
   "metadata": {},
   "outputs": [
    {
     "name": "stdout",
     "output_type": "stream",
     "text": [
      "                           aux_traduce\n",
      "                                unique\n",
      "univ_pa                               \n",
      "0        [Sin estudios universitarios]\n",
      "1        [Con estudios universitarios]\n"
     ]
    },
    {
     "data": {
      "text/html": [
       "<div>\n",
       "<style scoped>\n",
       "    .dataframe tbody tr th:only-of-type {\n",
       "        vertical-align: middle;\n",
       "    }\n",
       "\n",
       "    .dataframe tbody tr th {\n",
       "        vertical-align: top;\n",
       "    }\n",
       "\n",
       "    .dataframe thead tr th {\n",
       "        text-align: left;\n",
       "    }\n",
       "\n",
       "    .dataframe thead tr:last-of-type th {\n",
       "        text-align: right;\n",
       "    }\n",
       "</style>\n",
       "<table border=\"1\" class=\"dataframe\">\n",
       "  <thead>\n",
       "    <tr>\n",
       "      <th></th>\n",
       "      <th>estudios_pa_</th>\n",
       "    </tr>\n",
       "    <tr>\n",
       "      <th></th>\n",
       "      <th>unique</th>\n",
       "    </tr>\n",
       "    <tr>\n",
       "      <th>univ_pa</th>\n",
       "      <th></th>\n",
       "    </tr>\n",
       "  </thead>\n",
       "  <tbody>\n",
       "    <tr>\n",
       "      <th>0</th>\n",
       "      <td>[Educación primaria incompleta (ha asistido menos de 5 años a la escuela), Educación primaria completa, Enseñanzas profesionales de grado medio o equivalentes, Enseñanzas profesionales de grado superior o equivalentes, No sabe leer o escribir, Estudios de Bachillerato (Bachillerato LOGSE, BUP, C...</td>\n",
       "    </tr>\n",
       "    <tr>\n",
       "      <th>1</th>\n",
       "      <td>[Estudios universitarios (Diplomatura, Licenciatura, Doctorado) o equivalentes]</td>\n",
       "    </tr>\n",
       "  </tbody>\n",
       "</table>\n",
       "</div>"
      ],
      "text/plain": [
       "                                                                                                                                                                                                                                                                                                        estudios_pa_\n",
       "                                                                                                                                                                                                                                                                                                              unique\n",
       "univ_pa                                                                                                                                                                                                                                                                                                             \n",
       "0        [Educación primaria incompleta (ha asistido menos de 5 años a la escuela), Educación primaria completa, Enseñanzas profesionales de grado medio o equivalentes, Enseñanzas profesionales de grado superior o equivalentes, No sabe leer o escribir, Estudios de Bachillerato (Bachillerato LOGSE, BUP, C...\n",
       "1                                                                                                                                                                                                                                    [Estudios universitarios (Diplomatura, Licenciatura, Doctorado) o equivalentes]"
      ]
     },
     "execution_count": 48,
     "metadata": {},
     "output_type": "execute_result"
    }
   ],
   "source": [
    "df['univ_pa']=0\n",
    "df['univ_pa'].mask(df['estudios_pa']==8,1,inplace=True)\n",
    "traduce('univ_pa')\n",
    "df[['estudios_pa_','univ_pa']].groupby('univ_pa').agg(['unique']) # Comprobación: "
   ]
  },
  {
   "cell_type": "markdown",
   "metadata": {},
   "source": [
    "## 'NIVESTMA'  (redefinida como 'estudios_ma')\n",
    "**Nivel educativo de la madre**: '1'=Sin estudios, '2'=Enseñanza Primaria Incompleta, '3'=ESO,EGB,Primaria completa o equivalente, '4'=FP I, '5'=FP II, '6'=Bachiller Superior,BUP,COU, '7'=Diplomado,Arquitecto o Ingeniero Técnico o equiv, '8'=Licenciado,Arquitecto o Ingeniero Superior o equiv, '9'=Doctorado,postgrado o especialización para licenciados, '10'=NS/NC.\n",
    "\n",
    "Nota: se modifican algunos los valores en 'estudios_ma' para hacerlos consistentes con los definidos en las encuesta de graduados y titulados de máster universitario. "
   ]
  },
  {
   "cell_type": "code",
   "execution_count": 49,
   "metadata": {},
   "outputs": [
    {
     "data": {
      "text/plain": [
       "array(['1 ', '10', '2 ', '3 ', '4 ', '5 ', '6 ', '7 ', '8 ', '9 '],\n",
       "      dtype=object)"
      ]
     },
     "execution_count": 49,
     "metadata": {},
     "output_type": "execute_result"
    }
   ],
   "source": [
    "df['NIVESTMA'].sort_values().unique()  # No informados como '10'"
   ]
  },
  {
   "cell_type": "code",
   "execution_count": 50,
   "metadata": {},
   "outputs": [
    {
     "name": "stdout",
     "output_type": "stream",
     "text": [
      "[ 1.  2.  3.  4.  5.  6.  7.  8.  9. nan]\n"
     ]
    }
   ],
   "source": [
    "no_respuesta('NIVESTMA',nsnc='10')"
   ]
  },
  {
   "cell_type": "code",
   "execution_count": 51,
   "metadata": {},
   "outputs": [
    {
     "data": {
      "text/html": [
       "<div>\n",
       "<style scoped>\n",
       "    .dataframe tbody tr th:only-of-type {\n",
       "        vertical-align: middle;\n",
       "    }\n",
       "\n",
       "    .dataframe tbody tr th {\n",
       "        vertical-align: top;\n",
       "    }\n",
       "\n",
       "    .dataframe thead tr th {\n",
       "        text-align: left;\n",
       "    }\n",
       "\n",
       "    .dataframe thead tr:last-of-type th {\n",
       "        text-align: right;\n",
       "    }\n",
       "</style>\n",
       "<table border=\"1\" class=\"dataframe\">\n",
       "  <thead>\n",
       "    <tr>\n",
       "      <th></th>\n",
       "      <th>estudios_ma</th>\n",
       "      <th>NIVESTMA</th>\n",
       "    </tr>\n",
       "    <tr>\n",
       "      <th></th>\n",
       "      <th>unique</th>\n",
       "      <th>unique</th>\n",
       "    </tr>\n",
       "    <tr>\n",
       "      <th>estudios_ma_</th>\n",
       "      <th></th>\n",
       "      <th></th>\n",
       "    </tr>\n",
       "  </thead>\n",
       "  <tbody>\n",
       "    <tr>\n",
       "      <th>Educación primaria completa</th>\n",
       "      <td>[3.0]</td>\n",
       "      <td>[3.0]</td>\n",
       "    </tr>\n",
       "    <tr>\n",
       "      <th>Educación primaria incompleta (ha asistido menos de 5 años a la escuela)</th>\n",
       "      <td>[2.0]</td>\n",
       "      <td>[2.0]</td>\n",
       "    </tr>\n",
       "    <tr>\n",
       "      <th>Enseñanzas profesionales de grado medio o equivalentes</th>\n",
       "      <td>[6.0]</td>\n",
       "      <td>[4.0]</td>\n",
       "    </tr>\n",
       "    <tr>\n",
       "      <th>Enseñanzas profesionales de grado superior o equivalentes</th>\n",
       "      <td>[7.0]</td>\n",
       "      <td>[5.0]</td>\n",
       "    </tr>\n",
       "    <tr>\n",
       "      <th>Estudios de Bachillerato (Bachillerato LOGSE, BUP, COU, Preu)</th>\n",
       "      <td>[5.0]</td>\n",
       "      <td>[6.0]</td>\n",
       "    </tr>\n",
       "    <tr>\n",
       "      <th>Estudios universitarios (Diplomatura, Licenciatura, Doctorado) o equivalentes</th>\n",
       "      <td>[8.0]</td>\n",
       "      <td>[8.0, 7.0, 9.0]</td>\n",
       "    </tr>\n",
       "    <tr>\n",
       "      <th>No sabe leer o escribir</th>\n",
       "      <td>[1.0]</td>\n",
       "      <td>[1.0]</td>\n",
       "    </tr>\n",
       "  </tbody>\n",
       "</table>\n",
       "</div>"
      ],
      "text/plain": [
       "                                                                              estudios_ma  \\\n",
       "                                                                                   unique   \n",
       "estudios_ma_                                                                                \n",
       "Educación primaria completa                                                         [3.0]   \n",
       "Educación primaria incompleta (ha asistido menos de 5 años a la escuela)            [2.0]   \n",
       "Enseñanzas profesionales de grado medio o equivalentes                              [6.0]   \n",
       "Enseñanzas profesionales de grado superior o equivalentes                           [7.0]   \n",
       "Estudios de Bachillerato (Bachillerato LOGSE, BUP, COU, Preu)                       [5.0]   \n",
       "Estudios universitarios (Diplomatura, Licenciatura, Doctorado) o equivalentes       [8.0]   \n",
       "No sabe leer o escribir                                                             [1.0]   \n",
       "\n",
       "                                                                                      NIVESTMA  \n",
       "                                                                                        unique  \n",
       "estudios_ma_                                                                                    \n",
       "Educación primaria completa                                                              [3.0]  \n",
       "Educación primaria incompleta (ha asistido menos de 5 años a la escuela)                 [2.0]  \n",
       "Enseñanzas profesionales de grado medio o equivalentes                                   [4.0]  \n",
       "Enseñanzas profesionales de grado superior o equivalentes                                [5.0]  \n",
       "Estudios de Bachillerato (Bachillerato LOGSE, BUP, COU, Preu)                            [6.0]  \n",
       "Estudios universitarios (Diplomatura, Licenciatura, Doctorado) o equivalentes  [8.0, 7.0, 9.0]  \n",
       "No sabe leer o escribir                                                                  [1.0]  "
      ]
     },
     "execution_count": 51,
     "metadata": {},
     "output_type": "execute_result"
    }
   ],
   "source": [
    "df['estudios_ma']=df['NIVESTMA']\n",
    "df['estudios_ma'].mask(df['NIVESTMA']==6,5,inplace=True)\n",
    "df['estudios_ma'].mask(df['NIVESTMA']==4,6,inplace=True)\n",
    "df['estudios_ma'].mask(df['NIVESTMA']==5,7,inplace=True)\n",
    "df['estudios_ma'].mask(df['NIVESTMA']==7,8,inplace=True)\n",
    "df['estudios_ma'].mask(df['NIVESTMA']==8,8,inplace=True)\n",
    "df['estudios_ma'].mask(df['NIVESTMA']==9,8,inplace=True)\n",
    "traduce('estudios_ma',check=False)\n",
    "df[['estudios_ma_','estudios_ma','NIVESTMA']].groupby('estudios_ma_').agg(['unique'])"
   ]
  },
  {
   "cell_type": "markdown",
   "metadata": {},
   "source": [
    "## Nueva variable: 'grado_med_ma'\n",
    "**Madre** con o sin **estudios de enseñanzas medias o superiores**, incluidos los universitarios: 1=Con estudios de enseñanzas medias o superiores, 0=Sin estudios de enseñanzas medias o superiores."
   ]
  },
  {
   "cell_type": "code",
   "execution_count": 52,
   "metadata": {},
   "outputs": [
    {
     "name": "stdout",
     "output_type": "stream",
     "text": [
      "                                                  aux_traduce\n",
      "                                                       unique\n",
      "grad_med_ma                                                  \n",
      "0            [Sin estudios de enseñanzas medias o superiores]\n",
      "1            [Con estudios de enseñanzas medias o superiores]\n"
     ]
    },
    {
     "data": {
      "text/html": [
       "<div>\n",
       "<style scoped>\n",
       "    .dataframe tbody tr th:only-of-type {\n",
       "        vertical-align: middle;\n",
       "    }\n",
       "\n",
       "    .dataframe tbody tr th {\n",
       "        vertical-align: top;\n",
       "    }\n",
       "\n",
       "    .dataframe thead tr th {\n",
       "        text-align: left;\n",
       "    }\n",
       "\n",
       "    .dataframe thead tr:last-of-type th {\n",
       "        text-align: right;\n",
       "    }\n",
       "</style>\n",
       "<table border=\"1\" class=\"dataframe\">\n",
       "  <thead>\n",
       "    <tr>\n",
       "      <th></th>\n",
       "      <th>estudios_ma_</th>\n",
       "    </tr>\n",
       "    <tr>\n",
       "      <th></th>\n",
       "      <th>unique</th>\n",
       "    </tr>\n",
       "    <tr>\n",
       "      <th>grad_med_ma</th>\n",
       "      <th></th>\n",
       "    </tr>\n",
       "  </thead>\n",
       "  <tbody>\n",
       "    <tr>\n",
       "      <th>0</th>\n",
       "      <td>[Educación primaria incompleta (ha asistido menos de 5 años a la escuela), Educación primaria completa, No sabe leer o escribir, nan]</td>\n",
       "    </tr>\n",
       "    <tr>\n",
       "      <th>1</th>\n",
       "      <td>[Estudios universitarios (Diplomatura, Licenciatura, Doctorado) o equivalentes, Estudios de Bachillerato (Bachillerato LOGSE, BUP, COU, Preu), Enseñanzas profesionales de grado superior o equivalentes, Enseñanzas profesionales de grado medio o equivalentes]</td>\n",
       "    </tr>\n",
       "  </tbody>\n",
       "</table>\n",
       "</div>"
      ],
      "text/plain": [
       "                                                                                                                                                                                                                                                                  estudios_ma_\n",
       "                                                                                                                                                                                                                                                                        unique\n",
       "grad_med_ma                                                                                                                                                                                                                                                                   \n",
       "0                                                                                                                                        [Educación primaria incompleta (ha asistido menos de 5 años a la escuela), Educación primaria completa, No sabe leer o escribir, nan]\n",
       "1            [Estudios universitarios (Diplomatura, Licenciatura, Doctorado) o equivalentes, Estudios de Bachillerato (Bachillerato LOGSE, BUP, COU, Preu), Enseñanzas profesionales de grado superior o equivalentes, Enseñanzas profesionales de grado medio o equivalentes]"
      ]
     },
     "execution_count": 52,
     "metadata": {},
     "output_type": "execute_result"
    }
   ],
   "source": [
    "df['grad_med_ma']=0\n",
    "df['grad_med_ma'].mask(df['estudios_ma']>=5,1,inplace=True)\n",
    "traduce('grad_med_ma')\n",
    "df[['estudios_ma_','grad_med_ma']].groupby('grad_med_ma').agg(['unique']) # Comprobación: "
   ]
  },
  {
   "cell_type": "markdown",
   "metadata": {},
   "source": [
    "## Nueva variable: 'univ_ma'\n",
    "**Madre** con o sin **estudios universitarios**: 1=Con estudios universitarios, 0=Sin estudios universitarios "
   ]
  },
  {
   "cell_type": "code",
   "execution_count": 53,
   "metadata": {},
   "outputs": [
    {
     "name": "stdout",
     "output_type": "stream",
     "text": [
      "                           aux_traduce\n",
      "                                unique\n",
      "univ_ma                               \n",
      "0        [Sin estudios universitarios]\n",
      "1        [Con estudios universitarios]\n"
     ]
    },
    {
     "data": {
      "text/html": [
       "<div>\n",
       "<style scoped>\n",
       "    .dataframe tbody tr th:only-of-type {\n",
       "        vertical-align: middle;\n",
       "    }\n",
       "\n",
       "    .dataframe tbody tr th {\n",
       "        vertical-align: top;\n",
       "    }\n",
       "\n",
       "    .dataframe thead tr th {\n",
       "        text-align: left;\n",
       "    }\n",
       "\n",
       "    .dataframe thead tr:last-of-type th {\n",
       "        text-align: right;\n",
       "    }\n",
       "</style>\n",
       "<table border=\"1\" class=\"dataframe\">\n",
       "  <thead>\n",
       "    <tr>\n",
       "      <th></th>\n",
       "      <th>estudios_ma_</th>\n",
       "    </tr>\n",
       "    <tr>\n",
       "      <th></th>\n",
       "      <th>unique</th>\n",
       "    </tr>\n",
       "    <tr>\n",
       "      <th>univ_ma</th>\n",
       "      <th></th>\n",
       "    </tr>\n",
       "  </thead>\n",
       "  <tbody>\n",
       "    <tr>\n",
       "      <th>0</th>\n",
       "      <td>[Educación primaria incompleta (ha asistido menos de 5 años a la escuela), Educación primaria completa, Estudios de Bachillerato (Bachillerato LOGSE, BUP, COU, Preu), No sabe leer o escribir, Enseñanzas profesionales de grado superior o equivalentes, Enseñanzas profesionales de grado medio o equ...</td>\n",
       "    </tr>\n",
       "    <tr>\n",
       "      <th>1</th>\n",
       "      <td>[Estudios universitarios (Diplomatura, Licenciatura, Doctorado) o equivalentes]</td>\n",
       "    </tr>\n",
       "  </tbody>\n",
       "</table>\n",
       "</div>"
      ],
      "text/plain": [
       "                                                                                                                                                                                                                                                                                                        estudios_ma_\n",
       "                                                                                                                                                                                                                                                                                                              unique\n",
       "univ_ma                                                                                                                                                                                                                                                                                                             \n",
       "0        [Educación primaria incompleta (ha asistido menos de 5 años a la escuela), Educación primaria completa, Estudios de Bachillerato (Bachillerato LOGSE, BUP, COU, Preu), No sabe leer o escribir, Enseñanzas profesionales de grado superior o equivalentes, Enseñanzas profesionales de grado medio o equ...\n",
       "1                                                                                                                                                                                                                                    [Estudios universitarios (Diplomatura, Licenciatura, Doctorado) o equivalentes]"
      ]
     },
     "execution_count": 53,
     "metadata": {},
     "output_type": "execute_result"
    }
   ],
   "source": [
    "df['univ_ma']=0\n",
    "df['univ_ma'].mask(df['estudios_ma']==8,1,inplace=True)\n",
    "traduce('univ_ma')\n",
    "df[['estudios_ma_','univ_ma']].groupby('univ_ma').agg(['unique']) # Comprobación: "
   ]
  },
  {
   "cell_type": "markdown",
   "metadata": {},
   "source": [
    "## 'NIVPROFPA'\n",
    "**Sector** al que pertenece la principal organización en la que **ha trabajado el padre** del encuestado: 1=Empresas, 2=AAPP, 3=Enseñanza superior, 4=IPSFL, 5=No ha trabajado nunca, 6=otros."
   ]
  },
  {
   "cell_type": "code",
   "execution_count": 54,
   "metadata": {},
   "outputs": [
    {
     "data": {
      "text/plain": [
       "array([1, 2, 3, 4, 6])"
      ]
     },
     "execution_count": 54,
     "metadata": {},
     "output_type": "execute_result"
    }
   ],
   "source": [
    "df['NIVPROFPA']=df['NIVPROFPA'].astype('int') # Sin no informados\n",
    "df['NIVPROFPA'].sort_values().unique()"
   ]
  },
  {
   "cell_type": "markdown",
   "metadata": {},
   "source": [
    "## 'NIVPROFMA'\n",
    "**Sector** al que pertenece la principal organización en la que **ha trabajado la madre** del encuestado: 1=Empresas, 2=AAPP, 3=Enseñanza superior, 4=IPSFL, 5=No ha trabajado nunca, 6=otros."
   ]
  },
  {
   "cell_type": "code",
   "execution_count": 55,
   "metadata": {},
   "outputs": [
    {
     "data": {
      "text/plain": [
       "array([1, 2, 3, 4, 5, 6])"
      ]
     },
     "execution_count": 55,
     "metadata": {},
     "output_type": "execute_result"
    }
   ],
   "source": [
    "df['NIVPROFMA']=df['NIVPROFMA'].astype('int') # Sin no informados\n",
    "df['NIVPROFMA'].sort_values().unique()"
   ]
  },
  {
   "cell_type": "markdown",
   "metadata": {},
   "source": [
    "## 'ACTIPRIPA1'\n",
    "**Sector de actividad laboral** principal del **padre**: Código de actividad laboral válido a 1 dígito o blanco"
   ]
  },
  {
   "cell_type": "code",
   "execution_count": 56,
   "metadata": {},
   "outputs": [
    {
     "data": {
      "text/plain": [
       "array([0, 1, 2, 3, 4, 5, 6, 7, 8, 9])"
      ]
     },
     "execution_count": 56,
     "metadata": {},
     "output_type": "execute_result"
    }
   ],
   "source": [
    "df['ACTIPRIPA1']=df['ACTIPRIPA1'].astype('int') # Sin no informados\n",
    "df['ACTIPRIPA1'].sort_values().unique()"
   ]
  },
  {
   "cell_type": "markdown",
   "metadata": {},
   "source": [
    "## 'ACTIPRIMA1'\n",
    "**Sector de actividad laboral** principal de la **madre**: Código de actividad laboral válido a 1 dígito o blanco"
   ]
  },
  {
   "cell_type": "code",
   "execution_count": 57,
   "metadata": {},
   "outputs": [
    {
     "data": {
      "text/plain": [
       "array(['2', 'N', '9', '5', '1', '4', '7', '6', '3', '8', '0'],\n",
       "      dtype=object)"
      ]
     },
     "execution_count": 57,
     "metadata": {},
     "output_type": "execute_result"
    }
   ],
   "source": [
    "df['ACTIPRIMA1'].unique() # No informados como 'N'"
   ]
  },
  {
   "cell_type": "code",
   "execution_count": 58,
   "metadata": {},
   "outputs": [
    {
     "data": {
      "text/html": [
       "<div>\n",
       "<style scoped>\n",
       "    .dataframe tbody tr th:only-of-type {\n",
       "        vertical-align: middle;\n",
       "    }\n",
       "\n",
       "    .dataframe tbody tr th {\n",
       "        vertical-align: top;\n",
       "    }\n",
       "\n",
       "    .dataframe thead tr th {\n",
       "        text-align: left;\n",
       "    }\n",
       "\n",
       "    .dataframe thead tr:last-of-type th {\n",
       "        text-align: right;\n",
       "    }\n",
       "</style>\n",
       "<table border=\"1\" class=\"dataframe\">\n",
       "  <thead>\n",
       "    <tr>\n",
       "      <th></th>\n",
       "      <th>ACTIPRIMA1</th>\n",
       "    </tr>\n",
       "    <tr>\n",
       "      <th></th>\n",
       "      <th>unique</th>\n",
       "    </tr>\n",
       "    <tr>\n",
       "      <th>NIVPROFMA</th>\n",
       "      <th></th>\n",
       "    </tr>\n",
       "  </thead>\n",
       "  <tbody>\n",
       "    <tr>\n",
       "      <th>1</th>\n",
       "      <td>[5, 4, 2, 9, 7, 6, 3, 8, 1, 0]</td>\n",
       "    </tr>\n",
       "    <tr>\n",
       "      <th>2</th>\n",
       "      <td>[2, 9, 1, 4, 5, 3]</td>\n",
       "    </tr>\n",
       "    <tr>\n",
       "      <th>3</th>\n",
       "      <td>[2, 3, 1]</td>\n",
       "    </tr>\n",
       "    <tr>\n",
       "      <th>4</th>\n",
       "      <td>[2, 9, 4, 5]</td>\n",
       "    </tr>\n",
       "    <tr>\n",
       "      <th>5</th>\n",
       "      <td>[N]</td>\n",
       "    </tr>\n",
       "    <tr>\n",
       "      <th>6</th>\n",
       "      <td>[2]</td>\n",
       "    </tr>\n",
       "  </tbody>\n",
       "</table>\n",
       "</div>"
      ],
      "text/plain": [
       "                               ACTIPRIMA1\n",
       "                                   unique\n",
       "NIVPROFMA                                \n",
       "1          [5, 4, 2, 9, 7, 6, 3, 8, 1, 0]\n",
       "2                      [2, 9, 1, 4, 5, 3]\n",
       "3                               [2, 3, 1]\n",
       "4                            [2, 9, 4, 5]\n",
       "5                                     [N]\n",
       "6                                     [2]"
      ]
     },
     "execution_count": 58,
     "metadata": {},
     "output_type": "execute_result"
    }
   ],
   "source": [
    "df[['NIVPROFMA','ACTIPRIMA1']].groupby('NIVPROFMA').agg(['unique'])"
   ]
  },
  {
   "cell_type": "code",
   "execution_count": 59,
   "metadata": {},
   "outputs": [
    {
     "data": {
      "text/plain": [
       "array([ 0.,  1.,  2.,  3.,  4.,  5.,  6.,  7.,  8.,  9., nan])"
      ]
     },
     "execution_count": 59,
     "metadata": {},
     "output_type": "execute_result"
    }
   ],
   "source": [
    "df['ACTIPRIMA1'].replace({'N':None},inplace=True) \n",
    "df['ACTIPRIMA1']=df['ACTIPRIMA1'].astype('float')  \n",
    "df['ACTIPRIMA1'].sort_values().unique()"
   ]
  },
  {
   "cell_type": "markdown",
   "metadata": {},
   "source": [
    "## 'EDUPRIM'\n",
    "**Tipo de centro** en que cursó la **educación primaria**: 1=Centro Público, 2=Centro Concertado, 3=Centro Privado."
   ]
  },
  {
   "cell_type": "code",
   "execution_count": 60,
   "metadata": {},
   "outputs": [
    {
     "data": {
      "text/plain": [
       "array([1, 2, 3])"
      ]
     },
     "execution_count": 60,
     "metadata": {},
     "output_type": "execute_result"
    }
   ],
   "source": [
    "df['EDUPRIM']=df['EDUPRIM'].astype('int') # Sin no informados\n",
    "df['EDUPRIM'].sort_values().unique()"
   ]
  },
  {
   "cell_type": "markdown",
   "metadata": {},
   "source": [
    "## 'EDUSECUN'\n",
    "**Tipo de centro** en que cursó la **educacion secundaria o la FP II**: 1=Centro Público, 2=Centro Concertado, 3=Centro Privado."
   ]
  },
  {
   "cell_type": "code",
   "execution_count": 61,
   "metadata": {},
   "outputs": [
    {
     "data": {
      "text/plain": [
       "array([1, 2, 3])"
      ]
     },
     "execution_count": 61,
     "metadata": {},
     "output_type": "execute_result"
    }
   ],
   "source": [
    "df['EDUSECUN']=df['EDUSECUN'].astype('int') # Sin no informados\n",
    "df['EDUSECUN'].sort_values().unique()"
   ]
  },
  {
   "cell_type": "markdown",
   "metadata": {},
   "source": [
    "## 'BACHILLER'\n",
    "**Tipo de centro** en que cursó el **bachillerato**: 1=Centro Público, 2=Centro Concertado, 3=Centro Privado."
   ]
  },
  {
   "cell_type": "code",
   "execution_count": 62,
   "metadata": {},
   "outputs": [
    {
     "data": {
      "text/plain": [
       "array([1, 2, 3])"
      ]
     },
     "execution_count": 62,
     "metadata": {},
     "output_type": "execute_result"
    }
   ],
   "source": [
    "df['BACHILLER']=df['BACHILLER'].astype('int') # Sin no informados\n",
    "df['BACHILLER'].sort_values().unique()"
   ]
  },
  {
   "cell_type": "markdown",
   "metadata": {},
   "source": [
    "### Inspección de cambios de centro en bachillerato\n",
    "El bachillerato no tiene concierto (es educación secundaria no obligatoria). Se estudian los cambios de centro al acceder a bachillerato para valorar si está justificado tomar el bachillerato como nivel de referencia para resumir el tipo de centro -público o privado- en una única columna. \n",
    "Se toma esta decisión por tres razones: \n",
    "- El resultado académco en bachillerato tiene influencia directa en el acceso a la universidad.  \n",
    "- No está subvencionado en los centros concertados.  \n",
    "- La el cambio de centro más frecuente entre ESO y bachillerato es de concertadas a pública (refleja el aspecto económico de la elección)."
   ]
  },
  {
   "cell_type": "code",
   "execution_count": 63,
   "metadata": {},
   "outputs": [],
   "source": [
    "df['bach_aux']=df['BACHILLER']\n",
    "preuniv=['EDUPRIM','EDUSECUN','BACHILLER','bach_aux']"
   ]
  },
  {
   "cell_type": "code",
   "execution_count": 64,
   "metadata": {},
   "outputs": [
    {
     "data": {
      "text/html": [
       "<div>\n",
       "<style scoped>\n",
       "    .dataframe tbody tr th:only-of-type {\n",
       "        vertical-align: middle;\n",
       "    }\n",
       "\n",
       "    .dataframe tbody tr th {\n",
       "        vertical-align: top;\n",
       "    }\n",
       "\n",
       "    .dataframe thead tr th {\n",
       "        text-align: left;\n",
       "    }\n",
       "\n",
       "    .dataframe thead tr:last-of-type th {\n",
       "        text-align: right;\n",
       "    }\n",
       "</style>\n",
       "<table border=\"1\" class=\"dataframe\">\n",
       "  <thead>\n",
       "    <tr>\n",
       "      <th></th>\n",
       "      <th></th>\n",
       "      <th colspan=\"4\" halign=\"left\">count</th>\n",
       "    </tr>\n",
       "    <tr>\n",
       "      <th></th>\n",
       "      <th>BACHILLER</th>\n",
       "      <th>1</th>\n",
       "      <th>2</th>\n",
       "      <th>3</th>\n",
       "      <th>All</th>\n",
       "    </tr>\n",
       "    <tr>\n",
       "      <th>EDUPRIM</th>\n",
       "      <th>EDUSECUN</th>\n",
       "      <th></th>\n",
       "      <th></th>\n",
       "      <th></th>\n",
       "      <th></th>\n",
       "    </tr>\n",
       "  </thead>\n",
       "  <tbody>\n",
       "    <tr>\n",
       "      <th rowspan=\"3\" valign=\"top\">1</th>\n",
       "      <th>1</th>\n",
       "      <td>1508</td>\n",
       "      <td>33</td>\n",
       "      <td>47</td>\n",
       "      <td>1588</td>\n",
       "    </tr>\n",
       "    <tr>\n",
       "      <th>2</th>\n",
       "      <td>22</td>\n",
       "      <td>71</td>\n",
       "      <td>5</td>\n",
       "      <td>98</td>\n",
       "    </tr>\n",
       "    <tr>\n",
       "      <th>3</th>\n",
       "      <td>21</td>\n",
       "      <td>2</td>\n",
       "      <td>105</td>\n",
       "      <td>128</td>\n",
       "    </tr>\n",
       "    <tr>\n",
       "      <th rowspan=\"3\" valign=\"top\">2</th>\n",
       "      <th>1</th>\n",
       "      <td>302</td>\n",
       "      <td>2</td>\n",
       "      <td>2</td>\n",
       "      <td>306</td>\n",
       "    </tr>\n",
       "    <tr>\n",
       "      <th>2</th>\n",
       "      <td>156</td>\n",
       "      <td>514</td>\n",
       "      <td>80</td>\n",
       "      <td>750</td>\n",
       "    </tr>\n",
       "    <tr>\n",
       "      <th>3</th>\n",
       "      <td>4</td>\n",
       "      <td>1</td>\n",
       "      <td>36</td>\n",
       "      <td>41</td>\n",
       "    </tr>\n",
       "    <tr>\n",
       "      <th rowspan=\"3\" valign=\"top\">3</th>\n",
       "      <th>1</th>\n",
       "      <td>192</td>\n",
       "      <td>0</td>\n",
       "      <td>1</td>\n",
       "      <td>193</td>\n",
       "    </tr>\n",
       "    <tr>\n",
       "      <th>2</th>\n",
       "      <td>9</td>\n",
       "      <td>31</td>\n",
       "      <td>5</td>\n",
       "      <td>45</td>\n",
       "    </tr>\n",
       "    <tr>\n",
       "      <th>3</th>\n",
       "      <td>145</td>\n",
       "      <td>12</td>\n",
       "      <td>816</td>\n",
       "      <td>973</td>\n",
       "    </tr>\n",
       "    <tr>\n",
       "      <th>All</th>\n",
       "      <th></th>\n",
       "      <td>2359</td>\n",
       "      <td>666</td>\n",
       "      <td>1097</td>\n",
       "      <td>4122</td>\n",
       "    </tr>\n",
       "  </tbody>\n",
       "</table>\n",
       "</div>"
      ],
      "text/plain": [
       "                 count                 \n",
       "BACHILLER            1    2     3   All\n",
       "EDUPRIM EDUSECUN                       \n",
       "1       1         1508   33    47  1588\n",
       "        2           22   71     5    98\n",
       "        3           21    2   105   128\n",
       "2       1          302    2     2   306\n",
       "        2          156  514    80   750\n",
       "        3            4    1    36    41\n",
       "3       1          192    0     1   193\n",
       "        2            9   31     5    45\n",
       "        3          145   12   816   973\n",
       "All               2359  666  1097  4122"
      ]
     },
     "execution_count": 64,
     "metadata": {},
     "output_type": "execute_result"
    }
   ],
   "source": [
    "df_preuniv=df[preuniv].pivot_table(values='bach_aux',index=['EDUPRIM','EDUSECUN'],columns='BACHILLER',\n",
    "                        aggfunc=['count'],margins=True,fill_value=0)\n",
    "df_preuniv#.rank(axis=1,ascending=False)\n",
    "# Los cambios de centro más frecuentes entre secundaria y bachillerato son hacia la pública (a pesar de que lo ...\n",
    "# ... más frecuente es permanecer en el mismo tipo de centro)"
   ]
  },
  {
   "cell_type": "code",
   "execution_count": 65,
   "metadata": {},
   "outputs": [
    {
     "data": {
      "text/html": [
       "<div>\n",
       "<style scoped>\n",
       "    .dataframe tbody tr th:only-of-type {\n",
       "        vertical-align: middle;\n",
       "    }\n",
       "\n",
       "    .dataframe tbody tr th {\n",
       "        vertical-align: top;\n",
       "    }\n",
       "\n",
       "    .dataframe thead tr th {\n",
       "        text-align: left;\n",
       "    }\n",
       "\n",
       "    .dataframe thead tr:last-of-type th {\n",
       "        text-align: right;\n",
       "    }\n",
       "</style>\n",
       "<table border=\"1\" class=\"dataframe\">\n",
       "  <thead>\n",
       "    <tr>\n",
       "      <th></th>\n",
       "      <th></th>\n",
       "      <th colspan=\"4\" halign=\"left\">count</th>\n",
       "      <th>prop1</th>\n",
       "      <th>prop2</th>\n",
       "      <th>prop3</th>\n",
       "      <th>check</th>\n",
       "    </tr>\n",
       "    <tr>\n",
       "      <th></th>\n",
       "      <th>BACHILLER</th>\n",
       "      <th>1</th>\n",
       "      <th>2</th>\n",
       "      <th>3</th>\n",
       "      <th>All</th>\n",
       "      <th></th>\n",
       "      <th></th>\n",
       "      <th></th>\n",
       "      <th></th>\n",
       "    </tr>\n",
       "    <tr>\n",
       "      <th>EDUPRIM</th>\n",
       "      <th>EDUSECUN</th>\n",
       "      <th></th>\n",
       "      <th></th>\n",
       "      <th></th>\n",
       "      <th></th>\n",
       "      <th></th>\n",
       "      <th></th>\n",
       "      <th></th>\n",
       "      <th></th>\n",
       "    </tr>\n",
       "  </thead>\n",
       "  <tbody>\n",
       "    <tr>\n",
       "      <th rowspan=\"3\" valign=\"top\">1</th>\n",
       "      <th>1</th>\n",
       "      <td>1508</td>\n",
       "      <td>33</td>\n",
       "      <td>47</td>\n",
       "      <td>1588</td>\n",
       "      <td>0.949622</td>\n",
       "      <td>0.020781</td>\n",
       "      <td>0.029597</td>\n",
       "      <td>1.0</td>\n",
       "    </tr>\n",
       "    <tr>\n",
       "      <th>2</th>\n",
       "      <td>22</td>\n",
       "      <td>71</td>\n",
       "      <td>5</td>\n",
       "      <td>98</td>\n",
       "      <td>0.224490</td>\n",
       "      <td>0.724490</td>\n",
       "      <td>0.051020</td>\n",
       "      <td>1.0</td>\n",
       "    </tr>\n",
       "    <tr>\n",
       "      <th>3</th>\n",
       "      <td>21</td>\n",
       "      <td>2</td>\n",
       "      <td>105</td>\n",
       "      <td>128</td>\n",
       "      <td>0.164062</td>\n",
       "      <td>0.015625</td>\n",
       "      <td>0.820312</td>\n",
       "      <td>1.0</td>\n",
       "    </tr>\n",
       "    <tr>\n",
       "      <th rowspan=\"3\" valign=\"top\">2</th>\n",
       "      <th>1</th>\n",
       "      <td>302</td>\n",
       "      <td>2</td>\n",
       "      <td>2</td>\n",
       "      <td>306</td>\n",
       "      <td>0.986928</td>\n",
       "      <td>0.006536</td>\n",
       "      <td>0.006536</td>\n",
       "      <td>1.0</td>\n",
       "    </tr>\n",
       "    <tr>\n",
       "      <th>2</th>\n",
       "      <td>156</td>\n",
       "      <td>514</td>\n",
       "      <td>80</td>\n",
       "      <td>750</td>\n",
       "      <td>0.208000</td>\n",
       "      <td>0.685333</td>\n",
       "      <td>0.106667</td>\n",
       "      <td>1.0</td>\n",
       "    </tr>\n",
       "    <tr>\n",
       "      <th>3</th>\n",
       "      <td>4</td>\n",
       "      <td>1</td>\n",
       "      <td>36</td>\n",
       "      <td>41</td>\n",
       "      <td>0.097561</td>\n",
       "      <td>0.024390</td>\n",
       "      <td>0.878049</td>\n",
       "      <td>1.0</td>\n",
       "    </tr>\n",
       "    <tr>\n",
       "      <th rowspan=\"3\" valign=\"top\">3</th>\n",
       "      <th>1</th>\n",
       "      <td>192</td>\n",
       "      <td>0</td>\n",
       "      <td>1</td>\n",
       "      <td>193</td>\n",
       "      <td>0.994819</td>\n",
       "      <td>0.000000</td>\n",
       "      <td>0.005181</td>\n",
       "      <td>1.0</td>\n",
       "    </tr>\n",
       "    <tr>\n",
       "      <th>2</th>\n",
       "      <td>9</td>\n",
       "      <td>31</td>\n",
       "      <td>5</td>\n",
       "      <td>45</td>\n",
       "      <td>0.200000</td>\n",
       "      <td>0.688889</td>\n",
       "      <td>0.111111</td>\n",
       "      <td>1.0</td>\n",
       "    </tr>\n",
       "    <tr>\n",
       "      <th>3</th>\n",
       "      <td>145</td>\n",
       "      <td>12</td>\n",
       "      <td>816</td>\n",
       "      <td>973</td>\n",
       "      <td>0.149024</td>\n",
       "      <td>0.012333</td>\n",
       "      <td>0.838643</td>\n",
       "      <td>1.0</td>\n",
       "    </tr>\n",
       "    <tr>\n",
       "      <th>All</th>\n",
       "      <th></th>\n",
       "      <td>2359</td>\n",
       "      <td>666</td>\n",
       "      <td>1097</td>\n",
       "      <td>4122</td>\n",
       "      <td>0.572295</td>\n",
       "      <td>0.161572</td>\n",
       "      <td>0.266133</td>\n",
       "      <td>1.0</td>\n",
       "    </tr>\n",
       "  </tbody>\n",
       "</table>\n",
       "</div>"
      ],
      "text/plain": [
       "                 count                      prop1     prop2     prop3 check\n",
       "BACHILLER            1    2     3   All                                    \n",
       "EDUPRIM EDUSECUN                                                           \n",
       "1       1         1508   33    47  1588  0.949622  0.020781  0.029597   1.0\n",
       "        2           22   71     5    98  0.224490  0.724490  0.051020   1.0\n",
       "        3           21    2   105   128  0.164062  0.015625  0.820312   1.0\n",
       "2       1          302    2     2   306  0.986928  0.006536  0.006536   1.0\n",
       "        2          156  514    80   750  0.208000  0.685333  0.106667   1.0\n",
       "        3            4    1    36    41  0.097561  0.024390  0.878049   1.0\n",
       "3       1          192    0     1   193  0.994819  0.000000  0.005181   1.0\n",
       "        2            9   31     5    45  0.200000  0.688889  0.111111   1.0\n",
       "        3          145   12   816   973  0.149024  0.012333  0.838643   1.0\n",
       "All               2359  666  1097  4122  0.572295  0.161572  0.266133   1.0"
      ]
     },
     "execution_count": 65,
     "metadata": {},
     "output_type": "execute_result"
    }
   ],
   "source": [
    "# Para calcular porcentajes para cada fila: nuevas columnas de porcentajes por filas\n",
    "for i in range(3):\n",
    "    df_preuniv['prop'+str(i+1)]=df_preuniv[df_preuniv.columns[i]]/df_preuniv[df_preuniv.columns[3]]\n",
    "df_preuniv['check']=df_preuniv[['prop'+str(i+1) for i in range(3)]].sum(axis=1) # Comprobación\n",
    "df_preuniv"
   ]
  },
  {
   "cell_type": "code",
   "execution_count": 66,
   "metadata": {},
   "outputs": [],
   "source": [
    "del df_preuniv"
   ]
  },
  {
   "cell_type": "code",
   "execution_count": 67,
   "metadata": {},
   "outputs": [
    {
     "name": "stdout",
     "output_type": "stream",
     "text": [
      "            aux_traduce\n",
      "                 unique\n",
      "tipo_centro            \n",
      "0             [Privado]\n",
      "1             [Público]\n"
     ]
    },
    {
     "data": {
      "text/html": [
       "<div>\n",
       "<style scoped>\n",
       "    .dataframe tbody tr th:only-of-type {\n",
       "        vertical-align: middle;\n",
       "    }\n",
       "\n",
       "    .dataframe tbody tr th {\n",
       "        vertical-align: top;\n",
       "    }\n",
       "\n",
       "    .dataframe thead tr th {\n",
       "        text-align: left;\n",
       "    }\n",
       "\n",
       "    .dataframe thead tr:last-of-type th {\n",
       "        text-align: right;\n",
       "    }\n",
       "</style>\n",
       "<table border=\"1\" class=\"dataframe\">\n",
       "  <thead>\n",
       "    <tr>\n",
       "      <th></th>\n",
       "      <th>BACHILLER</th>\n",
       "    </tr>\n",
       "    <tr>\n",
       "      <th></th>\n",
       "      <th>unique</th>\n",
       "    </tr>\n",
       "    <tr>\n",
       "      <th>tipo_centro_</th>\n",
       "      <th></th>\n",
       "    </tr>\n",
       "  </thead>\n",
       "  <tbody>\n",
       "    <tr>\n",
       "      <th>Privado</th>\n",
       "      <td>[2, 3]</td>\n",
       "    </tr>\n",
       "    <tr>\n",
       "      <th>Público</th>\n",
       "      <td>[1]</td>\n",
       "    </tr>\n",
       "  </tbody>\n",
       "</table>\n",
       "</div>"
      ],
      "text/plain": [
       "             BACHILLER\n",
       "                unique\n",
       "tipo_centro_          \n",
       "Privado         [2, 3]\n",
       "Público            [1]"
      ]
     },
     "execution_count": 67,
     "metadata": {},
     "output_type": "execute_result"
    }
   ],
   "source": [
    "# Tipo de centro público o privado definido en referencia al bachillerato (único nivel educativo no financiado ...\n",
    "# ... por concierto de los tres sobre los que se pregunta)\n",
    "df['tipo_centro']=0\n",
    "df['tipo_centro'].mask(df['BACHILLER']==1,1,inplace=True) \n",
    "traduce('tipo_centro')\n",
    "df[['tipo_centro_','BACHILLER']].groupby('tipo_centro_',dropna=False).agg(['unique']) #Comprobación"
   ]
  },
  {
   "cell_type": "markdown",
   "metadata": {},
   "source": [
    "## 'RES'\n",
    "¿**Residió en España** en algún periodo de 2009? 0=No, 1=Sí. "
   ]
  },
  {
   "cell_type": "code",
   "execution_count": 68,
   "metadata": {},
   "outputs": [
    {
     "data": {
      "text/plain": [
       "array([1, 0])"
      ]
     },
     "execution_count": 68,
     "metadata": {},
     "output_type": "execute_result"
    }
   ],
   "source": [
    "df['RES']=df['RES'].astype('int') # Sin no informados\n",
    "df['RES'].unique()"
   ]
  },
  {
   "cell_type": "code",
   "execution_count": 69,
   "metadata": {},
   "outputs": [
    {
     "data": {
      "text/plain": [
       "0.9798641436196022"
      ]
     },
     "execution_count": 69,
     "metadata": {},
     "output_type": "execute_result"
    }
   ],
   "source": [
    "df['RES'].mean()"
   ]
  },
  {
   "cell_type": "markdown",
   "metadata": {},
   "source": [
    "## 'CARES1'\n",
    "**Primera CCAA de residencia en 2009**: '01'=Andalucía, '02'=Aragón, '03'=Asturias (Principado de), '04'=Balears (Illes), '05'=Canarias, '06'=Cantabria, '07'=Castilla y León, '08'=Castilla - La Mancha, '09'=Cataluña, '10'=Comunidad Valenciana, '11'=Extremadura, '12'=Galicia, '13'=Madrid (Comunidad de), '14'=Murcia (Región de), '15'=Navarra (Comunidad Foral de), '16'=País Vasco, '17'=Rioja (La), '18'=Ceuta y Melilla. "
   ]
  },
  {
   "cell_type": "code",
   "execution_count": 70,
   "metadata": {},
   "outputs": [
    {
     "data": {
      "text/plain": [
       "array(['16', 'NN', '13', '09', '08', '01', '07', '10', '11', '04', '05',\n",
       "       '06', '12', '03', '14', '02', '17', '15', '18'], dtype=object)"
      ]
     },
     "execution_count": 70,
     "metadata": {},
     "output_type": "execute_result"
    }
   ],
   "source": [
    "df['CARES1'].unique() # No informados como 'NN' "
   ]
  },
  {
   "cell_type": "code",
   "execution_count": 71,
   "metadata": {},
   "outputs": [
    {
     "data": {
      "text/html": [
       "<div>\n",
       "<style scoped>\n",
       "    .dataframe tbody tr th:only-of-type {\n",
       "        vertical-align: middle;\n",
       "    }\n",
       "\n",
       "    .dataframe tbody tr th {\n",
       "        vertical-align: top;\n",
       "    }\n",
       "\n",
       "    .dataframe thead tr th {\n",
       "        text-align: left;\n",
       "    }\n",
       "\n",
       "    .dataframe thead tr:last-of-type th {\n",
       "        text-align: right;\n",
       "    }\n",
       "</style>\n",
       "<table border=\"1\" class=\"dataframe\">\n",
       "  <thead>\n",
       "    <tr>\n",
       "      <th></th>\n",
       "      <th>CARES1</th>\n",
       "    </tr>\n",
       "    <tr>\n",
       "      <th></th>\n",
       "      <th>unique</th>\n",
       "    </tr>\n",
       "    <tr>\n",
       "      <th>RES</th>\n",
       "      <th></th>\n",
       "    </tr>\n",
       "  </thead>\n",
       "  <tbody>\n",
       "    <tr>\n",
       "      <th>0</th>\n",
       "      <td>[NN]</td>\n",
       "    </tr>\n",
       "    <tr>\n",
       "      <th>1</th>\n",
       "      <td>[16, 13, 09, 08, 01, 07, 10, 11, 04, 05, 06, 12, 03, 14, 02, 17, 15, 18]</td>\n",
       "    </tr>\n",
       "  </tbody>\n",
       "</table>\n",
       "</div>"
      ],
      "text/plain": [
       "                                                                       CARES1\n",
       "                                                                       unique\n",
       "RES                                                                          \n",
       "0                                                                        [NN]\n",
       "1    [16, 13, 09, 08, 01, 07, 10, 11, 04, 05, 06, 12, 03, 14, 02, 17, 15, 18]"
      ]
     },
     "execution_count": 71,
     "metadata": {},
     "output_type": "execute_result"
    }
   ],
   "source": [
    "df[['RES','CARES1']].groupby('RES').agg(['unique']) "
   ]
  },
  {
   "cell_type": "code",
   "execution_count": 72,
   "metadata": {},
   "outputs": [
    {
     "data": {
      "text/plain": [
       "array(['01', '02', '03', '04', '05', '06', '07', '08', '09', '10', '11',\n",
       "       '12', '13', '14', '15', '16', '17', '18', None], dtype=object)"
      ]
     },
     "execution_count": 72,
     "metadata": {},
     "output_type": "execute_result"
    }
   ],
   "source": [
    "df['CARES1'].replace({'NN':None},inplace=True) \n",
    "df['CARES1'].sort_values().unique()"
   ]
  },
  {
   "cell_type": "markdown",
   "metadata": {},
   "source": [
    "## 'MESRES1'\n",
    "**Duración en meses** del periodo de 2009 en que **residió en la primera CCAA** identificada."
   ]
  },
  {
   "cell_type": "code",
   "execution_count": 73,
   "metadata": {},
   "outputs": [
    {
     "data": {
      "text/plain": [
       "array(['12', ' .', ' 8', '10', ' 6', ' 9', '11', ' 7', ' 5', ' 3', ' 4',\n",
       "       ' 1', ' 2'], dtype=object)"
      ]
     },
     "execution_count": 73,
     "metadata": {},
     "output_type": "execute_result"
    }
   ],
   "source": [
    "df['MESRES1'].unique() # No informados como  ' .' "
   ]
  },
  {
   "cell_type": "code",
   "execution_count": 74,
   "metadata": {},
   "outputs": [
    {
     "data": {
      "text/html": [
       "<div>\n",
       "<style scoped>\n",
       "    .dataframe tbody tr th:only-of-type {\n",
       "        vertical-align: middle;\n",
       "    }\n",
       "\n",
       "    .dataframe tbody tr th {\n",
       "        vertical-align: top;\n",
       "    }\n",
       "\n",
       "    .dataframe thead tr th {\n",
       "        text-align: left;\n",
       "    }\n",
       "\n",
       "    .dataframe thead tr:last-of-type th {\n",
       "        text-align: right;\n",
       "    }\n",
       "</style>\n",
       "<table border=\"1\" class=\"dataframe\">\n",
       "  <thead>\n",
       "    <tr>\n",
       "      <th></th>\n",
       "      <th>MESRES1</th>\n",
       "    </tr>\n",
       "    <tr>\n",
       "      <th></th>\n",
       "      <th>unique</th>\n",
       "    </tr>\n",
       "    <tr>\n",
       "      <th>RES</th>\n",
       "      <th></th>\n",
       "    </tr>\n",
       "  </thead>\n",
       "  <tbody>\n",
       "    <tr>\n",
       "      <th>0</th>\n",
       "      <td>[ .]</td>\n",
       "    </tr>\n",
       "    <tr>\n",
       "      <th>1</th>\n",
       "      <td>[12,  8, 10,  6,  9, 11,  7,  5,  3,  4,  1,  2]</td>\n",
       "    </tr>\n",
       "  </tbody>\n",
       "</table>\n",
       "</div>"
      ],
      "text/plain": [
       "                                              MESRES1\n",
       "                                               unique\n",
       "RES                                                  \n",
       "0                                                [ .]\n",
       "1    [12,  8, 10,  6,  9, 11,  7,  5,  3,  4,  1,  2]"
      ]
     },
     "execution_count": 74,
     "metadata": {},
     "output_type": "execute_result"
    }
   ],
   "source": [
    "df[['RES','MESRES1']].groupby('RES').agg(['unique']) "
   ]
  },
  {
   "cell_type": "code",
   "execution_count": 75,
   "metadata": {},
   "outputs": [
    {
     "data": {
      "text/plain": [
       "array([ 1.,  2.,  3.,  4.,  5.,  6.,  7.,  8.,  9., 10., 11., 12., nan])"
      ]
     },
     "execution_count": 75,
     "metadata": {},
     "output_type": "execute_result"
    }
   ],
   "source": [
    "df['MESRES1'].replace({' .':None},inplace=True) \n",
    "df['MESRES1']=df['MESRES1'].astype('float')\n",
    "df['MESRES1'].sort_values().unique()"
   ]
  },
  {
   "cell_type": "code",
   "execution_count": 76,
   "metadata": {},
   "outputs": [
    {
     "data": {
      "text/html": [
       "<div>\n",
       "<style scoped>\n",
       "    .dataframe tbody tr th:only-of-type {\n",
       "        vertical-align: middle;\n",
       "    }\n",
       "\n",
       "    .dataframe tbody tr th {\n",
       "        vertical-align: top;\n",
       "    }\n",
       "\n",
       "    .dataframe thead tr th {\n",
       "        text-align: left;\n",
       "    }\n",
       "\n",
       "    .dataframe thead tr:last-of-type th {\n",
       "        text-align: right;\n",
       "    }\n",
       "</style>\n",
       "<table border=\"1\" class=\"dataframe\">\n",
       "  <thead>\n",
       "    <tr>\n",
       "      <th></th>\n",
       "      <th>MESRES1</th>\n",
       "    </tr>\n",
       "    <tr>\n",
       "      <th></th>\n",
       "      <th>unique</th>\n",
       "    </tr>\n",
       "    <tr>\n",
       "      <th>RES</th>\n",
       "      <th></th>\n",
       "    </tr>\n",
       "  </thead>\n",
       "  <tbody>\n",
       "    <tr>\n",
       "      <th>0</th>\n",
       "      <td>[nan]</td>\n",
       "    </tr>\n",
       "    <tr>\n",
       "      <th>1</th>\n",
       "      <td>[12.0, 8.0, 10.0, 6.0, 9.0, 11.0, 7.0, 5.0, 3.0, 4.0, 1.0, 2.0]</td>\n",
       "    </tr>\n",
       "  </tbody>\n",
       "</table>\n",
       "</div>"
      ],
      "text/plain": [
       "                                                             MESRES1\n",
       "                                                              unique\n",
       "RES                                                                 \n",
       "0                                                              [nan]\n",
       "1    [12.0, 8.0, 10.0, 6.0, 9.0, 11.0, 7.0, 5.0, 3.0, 4.0, 1.0, 2.0]"
      ]
     },
     "execution_count": 76,
     "metadata": {},
     "output_type": "execute_result"
    }
   ],
   "source": [
    "df[['RES','MESRES1']].groupby('RES').agg(['unique'])"
   ]
  },
  {
   "cell_type": "markdown",
   "metadata": {},
   "source": [
    "## 'CARES2'\n",
    "**Segunda CCAA de residencia** en 2009: '01'=Andalucía, '02'=Aragón, '03'=Asturias (Principado de), '04'=Balears (Illes), '05'=Canarias, '06'=Cantabria, '07'=Castilla y León, '08'=Castilla - La Mancha, '09'=Cataluña, '10'=Comunidad Valenciana, '11'=Extremadura, '12'=Galicia, '13'=Madrid (Comunidad de), '14'=Murcia (Región de), '15'=Navarra (Comunidad Foral de), '16'=País Vasco, '17'=Rioja (La), '18'=Ceuta y Melilla. "
   ]
  },
  {
   "cell_type": "code",
   "execution_count": 77,
   "metadata": {},
   "outputs": [
    {
     "data": {
      "text/plain": [
       "array(['NN', '08', '10', '13', '01', '09', '11', '04', '03', '02', '05',\n",
       "       '16', '12', '07', '17', '06', '15', '18'], dtype=object)"
      ]
     },
     "execution_count": 77,
     "metadata": {},
     "output_type": "execute_result"
    }
   ],
   "source": [
    "df['CARES2'].unique() # No informados como 'NN' "
   ]
  },
  {
   "cell_type": "code",
   "execution_count": 78,
   "metadata": {},
   "outputs": [
    {
     "data": {
      "text/plain": [
       "array(['01', '02', '03', '04', '05', '06', '07', '08', '09', '10', '11',\n",
       "       '12', '13', '15', '16', '17', '18', None], dtype=object)"
      ]
     },
     "execution_count": 78,
     "metadata": {},
     "output_type": "execute_result"
    }
   ],
   "source": [
    "df['CARES2'].replace({'NN':None},inplace=True) # None when not lived in two different CCAA during 2009\n",
    "df['CARES2'].sort_values().unique()"
   ]
  },
  {
   "cell_type": "markdown",
   "metadata": {},
   "source": [
    "## 'MESRES2'\n",
    "**Duración en meses** del periodo de 2009 en que **residió en la segunda CCAA** identificada."
   ]
  },
  {
   "cell_type": "code",
   "execution_count": 79,
   "metadata": {},
   "outputs": [
    {
     "data": {
      "text/plain": [
       "array([' 0', ' .', ' 6', ' 4', ' 1', ' 2', ' 3', ' 7', ' 9', ' 5', '10',\n",
       "       '11', ' 8'], dtype=object)"
      ]
     },
     "execution_count": 79,
     "metadata": {},
     "output_type": "execute_result"
    }
   ],
   "source": [
    "df['MESRES2'].unique() # No informados como ' .' o '0'"
   ]
  },
  {
   "cell_type": "code",
   "execution_count": 80,
   "metadata": {},
   "outputs": [
    {
     "data": {
      "text/html": [
       "<div>\n",
       "<style scoped>\n",
       "    .dataframe tbody tr th:only-of-type {\n",
       "        vertical-align: middle;\n",
       "    }\n",
       "\n",
       "    .dataframe tbody tr th {\n",
       "        vertical-align: top;\n",
       "    }\n",
       "\n",
       "    .dataframe thead tr th {\n",
       "        text-align: left;\n",
       "    }\n",
       "\n",
       "    .dataframe thead tr:last-of-type th {\n",
       "        text-align: right;\n",
       "    }\n",
       "</style>\n",
       "<table border=\"1\" class=\"dataframe\">\n",
       "  <thead>\n",
       "    <tr>\n",
       "      <th></th>\n",
       "      <th>MESRES2</th>\n",
       "    </tr>\n",
       "    <tr>\n",
       "      <th></th>\n",
       "      <th>unique</th>\n",
       "    </tr>\n",
       "    <tr>\n",
       "      <th>CARES2</th>\n",
       "      <th></th>\n",
       "    </tr>\n",
       "  </thead>\n",
       "  <tbody>\n",
       "    <tr>\n",
       "      <th>01</th>\n",
       "      <td>[ 4,  1,  5,  6,  2,  3,  7,  8, 10]</td>\n",
       "    </tr>\n",
       "    <tr>\n",
       "      <th>02</th>\n",
       "      <td>[ 4,  6,  3, 10,  1,  8, 11]</td>\n",
       "    </tr>\n",
       "    <tr>\n",
       "      <th>03</th>\n",
       "      <td>[ 4,  1,  2,  3,  6]</td>\n",
       "    </tr>\n",
       "    <tr>\n",
       "      <th>04</th>\n",
       "      <td>[ 1,  6,  9,  3]</td>\n",
       "    </tr>\n",
       "    <tr>\n",
       "      <th>05</th>\n",
       "      <td>[ 2,  3,  9,  1]</td>\n",
       "    </tr>\n",
       "    <tr>\n",
       "      <th>06</th>\n",
       "      <td>[ 2, 10,  1,  3,  5]</td>\n",
       "    </tr>\n",
       "    <tr>\n",
       "      <th>07</th>\n",
       "      <td>[ 1,  2,  9,  5,  6,  4]</td>\n",
       "    </tr>\n",
       "    <tr>\n",
       "      <th>08</th>\n",
       "      <td>[ 6,  7,  3,  2,  1,  4]</td>\n",
       "    </tr>\n",
       "    <tr>\n",
       "      <th>09</th>\n",
       "      <td>[ 2,  6,  4,  1,  5,  9,  8]</td>\n",
       "    </tr>\n",
       "    <tr>\n",
       "      <th>10</th>\n",
       "      <td>[ 4,  1, 11,  2,  3]</td>\n",
       "    </tr>\n",
       "    <tr>\n",
       "      <th>11</th>\n",
       "      <td>[ 2]</td>\n",
       "    </tr>\n",
       "    <tr>\n",
       "      <th>12</th>\n",
       "      <td>[ 1,  4,  2,  3,  5,  9]</td>\n",
       "    </tr>\n",
       "    <tr>\n",
       "      <th>13</th>\n",
       "      <td>[ 1,  3,  2,  4,  7,  5,  8,  6,  9]</td>\n",
       "    </tr>\n",
       "    <tr>\n",
       "      <th>15</th>\n",
       "      <td>[ 1,  6]</td>\n",
       "    </tr>\n",
       "    <tr>\n",
       "      <th>16</th>\n",
       "      <td>[ 1,  3,  7,  6]</td>\n",
       "    </tr>\n",
       "    <tr>\n",
       "      <th>17</th>\n",
       "      <td>[ 1,  6]</td>\n",
       "    </tr>\n",
       "    <tr>\n",
       "      <th>18</th>\n",
       "      <td>[ 1,  9,  6]</td>\n",
       "    </tr>\n",
       "    <tr>\n",
       "      <th>NaN</th>\n",
       "      <td>[ 0,  .]</td>\n",
       "    </tr>\n",
       "  </tbody>\n",
       "</table>\n",
       "</div>"
      ],
      "text/plain": [
       "                                     MESRES2\n",
       "                                      unique\n",
       "CARES2                                      \n",
       "01      [ 4,  1,  5,  6,  2,  3,  7,  8, 10]\n",
       "02              [ 4,  6,  3, 10,  1,  8, 11]\n",
       "03                      [ 4,  1,  2,  3,  6]\n",
       "04                          [ 1,  6,  9,  3]\n",
       "05                          [ 2,  3,  9,  1]\n",
       "06                      [ 2, 10,  1,  3,  5]\n",
       "07                  [ 1,  2,  9,  5,  6,  4]\n",
       "08                  [ 6,  7,  3,  2,  1,  4]\n",
       "09              [ 2,  6,  4,  1,  5,  9,  8]\n",
       "10                      [ 4,  1, 11,  2,  3]\n",
       "11                                      [ 2]\n",
       "12                  [ 1,  4,  2,  3,  5,  9]\n",
       "13      [ 1,  3,  2,  4,  7,  5,  8,  6,  9]\n",
       "15                                  [ 1,  6]\n",
       "16                          [ 1,  3,  7,  6]\n",
       "17                                  [ 1,  6]\n",
       "18                              [ 1,  9,  6]\n",
       "NaN                                 [ 0,  .]"
      ]
     },
     "execution_count": 80,
     "metadata": {},
     "output_type": "execute_result"
    }
   ],
   "source": [
    "df[['CARES2','MESRES2']].groupby('CARES2',dropna=False).agg(['unique']) "
   ]
  },
  {
   "cell_type": "code",
   "execution_count": 81,
   "metadata": {},
   "outputs": [
    {
     "data": {
      "text/plain": [
       "array([ 0,  1,  2,  3,  4,  5,  6,  7,  8,  9, 10, 11])"
      ]
     },
     "execution_count": 81,
     "metadata": {},
     "output_type": "execute_result"
    }
   ],
   "source": [
    "df['MESRES2'].replace({' .':0},inplace=True) \n",
    "df['MESRES2']=df['MESRES2'].astype('int')\n",
    "df['MESRES2'].sort_values().unique() \n",
    "# CCAA no ordenadas de acuerdo con la duración de la residencia (algunos valores de 'MESRES2' mayores que 6)"
   ]
  },
  {
   "cell_type": "code",
   "execution_count": 82,
   "metadata": {},
   "outputs": [
    {
     "data": {
      "text/html": [
       "<div>\n",
       "<style scoped>\n",
       "    .dataframe tbody tr th:only-of-type {\n",
       "        vertical-align: middle;\n",
       "    }\n",
       "\n",
       "    .dataframe tbody tr th {\n",
       "        vertical-align: top;\n",
       "    }\n",
       "\n",
       "    .dataframe thead tr th {\n",
       "        text-align: left;\n",
       "    }\n",
       "\n",
       "    .dataframe thead tr:last-of-type th {\n",
       "        text-align: right;\n",
       "    }\n",
       "</style>\n",
       "<table border=\"1\" class=\"dataframe\">\n",
       "  <thead>\n",
       "    <tr>\n",
       "      <th></th>\n",
       "      <th>MESRES2</th>\n",
       "    </tr>\n",
       "    <tr>\n",
       "      <th></th>\n",
       "      <th>unique</th>\n",
       "    </tr>\n",
       "    <tr>\n",
       "      <th>CARES2</th>\n",
       "      <th></th>\n",
       "    </tr>\n",
       "  </thead>\n",
       "  <tbody>\n",
       "    <tr>\n",
       "      <th>01</th>\n",
       "      <td>[4, 1, 5, 6, 2, 3, 7, 8, 10]</td>\n",
       "    </tr>\n",
       "    <tr>\n",
       "      <th>02</th>\n",
       "      <td>[4, 6, 3, 10, 1, 8, 11]</td>\n",
       "    </tr>\n",
       "    <tr>\n",
       "      <th>03</th>\n",
       "      <td>[4, 1, 2, 3, 6]</td>\n",
       "    </tr>\n",
       "    <tr>\n",
       "      <th>04</th>\n",
       "      <td>[1, 6, 9, 3]</td>\n",
       "    </tr>\n",
       "    <tr>\n",
       "      <th>05</th>\n",
       "      <td>[2, 3, 9, 1]</td>\n",
       "    </tr>\n",
       "    <tr>\n",
       "      <th>06</th>\n",
       "      <td>[2, 10, 1, 3, 5]</td>\n",
       "    </tr>\n",
       "    <tr>\n",
       "      <th>07</th>\n",
       "      <td>[1, 2, 9, 5, 6, 4]</td>\n",
       "    </tr>\n",
       "    <tr>\n",
       "      <th>08</th>\n",
       "      <td>[6, 7, 3, 2, 1, 4]</td>\n",
       "    </tr>\n",
       "    <tr>\n",
       "      <th>09</th>\n",
       "      <td>[2, 6, 4, 1, 5, 9, 8]</td>\n",
       "    </tr>\n",
       "    <tr>\n",
       "      <th>10</th>\n",
       "      <td>[4, 1, 11, 2, 3]</td>\n",
       "    </tr>\n",
       "    <tr>\n",
       "      <th>11</th>\n",
       "      <td>[2]</td>\n",
       "    </tr>\n",
       "    <tr>\n",
       "      <th>12</th>\n",
       "      <td>[1, 4, 2, 3, 5, 9]</td>\n",
       "    </tr>\n",
       "    <tr>\n",
       "      <th>13</th>\n",
       "      <td>[1, 3, 2, 4, 7, 5, 8, 6, 9]</td>\n",
       "    </tr>\n",
       "    <tr>\n",
       "      <th>15</th>\n",
       "      <td>[1, 6]</td>\n",
       "    </tr>\n",
       "    <tr>\n",
       "      <th>16</th>\n",
       "      <td>[1, 3, 7, 6]</td>\n",
       "    </tr>\n",
       "    <tr>\n",
       "      <th>17</th>\n",
       "      <td>[1, 6]</td>\n",
       "    </tr>\n",
       "    <tr>\n",
       "      <th>18</th>\n",
       "      <td>[1, 9, 6]</td>\n",
       "    </tr>\n",
       "    <tr>\n",
       "      <th>NaN</th>\n",
       "      <td>[0]</td>\n",
       "    </tr>\n",
       "  </tbody>\n",
       "</table>\n",
       "</div>"
      ],
      "text/plain": [
       "                             MESRES2\n",
       "                              unique\n",
       "CARES2                              \n",
       "01      [4, 1, 5, 6, 2, 3, 7, 8, 10]\n",
       "02           [4, 6, 3, 10, 1, 8, 11]\n",
       "03                   [4, 1, 2, 3, 6]\n",
       "04                      [1, 6, 9, 3]\n",
       "05                      [2, 3, 9, 1]\n",
       "06                  [2, 10, 1, 3, 5]\n",
       "07                [1, 2, 9, 5, 6, 4]\n",
       "08                [6, 7, 3, 2, 1, 4]\n",
       "09             [2, 6, 4, 1, 5, 9, 8]\n",
       "10                  [4, 1, 11, 2, 3]\n",
       "11                               [2]\n",
       "12                [1, 4, 2, 3, 5, 9]\n",
       "13       [1, 3, 2, 4, 7, 5, 8, 6, 9]\n",
       "15                            [1, 6]\n",
       "16                      [1, 3, 7, 6]\n",
       "17                            [1, 6]\n",
       "18                         [1, 9, 6]\n",
       "NaN                              [0]"
      ]
     },
     "execution_count": 82,
     "metadata": {},
     "output_type": "execute_result"
    }
   ],
   "source": [
    "df[['CARES2','MESRES2']].groupby('CARES2',dropna=False).agg(['unique'])"
   ]
  },
  {
   "cell_type": "markdown",
   "metadata": {},
   "source": [
    "## 'CARES3'\n",
    "**Tercera CCAA de residencia** en 2009: '01'=Andalucía, '02'=Aragón, '03'=Asturias (Principado de), '04'=Balears (Illes), '05'=Canarias, '06'=Cantabria, '07'=Castilla y León, '08'=Castilla - La Mancha, '09'=Cataluña, '10'=Comunidad Valenciana, '11'=Extremadura, '12'=Galicia, '13'=Madrid (Comunidad de), '14'=Murcia (Región de), '15'=Navarra (Comunidad Foral de), '16'=País Vasco, '17'=Rioja (La), '18'=Ceuta y Melilla. "
   ]
  },
  {
   "cell_type": "code",
   "execution_count": 83,
   "metadata": {},
   "outputs": [
    {
     "data": {
      "text/plain": [
       "array(['NN', '01', '12', '09', '03', '13', '07'], dtype=object)"
      ]
     },
     "execution_count": 83,
     "metadata": {},
     "output_type": "execute_result"
    }
   ],
   "source": [
    "df['CARES3'].unique() # No informados como 'NN' "
   ]
  },
  {
   "cell_type": "code",
   "execution_count": 84,
   "metadata": {},
   "outputs": [
    {
     "data": {
      "text/plain": [
       "array(['01', '03', '07', '09', '12', '13', None], dtype=object)"
      ]
     },
     "execution_count": 84,
     "metadata": {},
     "output_type": "execute_result"
    }
   ],
   "source": [
    "df['CARES3'].replace({'NN':None},inplace=True) \n",
    "df['CARES3'].sort_values().unique() "
   ]
  },
  {
   "cell_type": "markdown",
   "metadata": {},
   "source": [
    "## 'MESRES3'\n",
    "**Duración en meses** del periodo de 2009 en que **residió en la tercera CCAA** identificada."
   ]
  },
  {
   "cell_type": "code",
   "execution_count": 85,
   "metadata": {},
   "outputs": [
    {
     "data": {
      "text/plain": [
       "array([' 0', ' .', ' 2', ' 3', ' 1', '10'], dtype=object)"
      ]
     },
     "execution_count": 85,
     "metadata": {},
     "output_type": "execute_result"
    }
   ],
   "source": [
    "df['MESRES3'].unique() # No informados como ' .' o '0'"
   ]
  },
  {
   "cell_type": "code",
   "execution_count": 86,
   "metadata": {},
   "outputs": [
    {
     "data": {
      "text/html": [
       "<div>\n",
       "<style scoped>\n",
       "    .dataframe tbody tr th:only-of-type {\n",
       "        vertical-align: middle;\n",
       "    }\n",
       "\n",
       "    .dataframe tbody tr th {\n",
       "        vertical-align: top;\n",
       "    }\n",
       "\n",
       "    .dataframe thead tr th {\n",
       "        text-align: left;\n",
       "    }\n",
       "\n",
       "    .dataframe thead tr:last-of-type th {\n",
       "        text-align: right;\n",
       "    }\n",
       "</style>\n",
       "<table border=\"1\" class=\"dataframe\">\n",
       "  <thead>\n",
       "    <tr>\n",
       "      <th></th>\n",
       "      <th>MESRES3</th>\n",
       "    </tr>\n",
       "    <tr>\n",
       "      <th></th>\n",
       "      <th>unique</th>\n",
       "    </tr>\n",
       "    <tr>\n",
       "      <th>CARES3</th>\n",
       "      <th></th>\n",
       "    </tr>\n",
       "  </thead>\n",
       "  <tbody>\n",
       "    <tr>\n",
       "      <th>01</th>\n",
       "      <td>[ 2,  1]</td>\n",
       "    </tr>\n",
       "    <tr>\n",
       "      <th>03</th>\n",
       "      <td>[ 3,  1]</td>\n",
       "    </tr>\n",
       "    <tr>\n",
       "      <th>07</th>\n",
       "      <td>[ 1]</td>\n",
       "    </tr>\n",
       "    <tr>\n",
       "      <th>09</th>\n",
       "      <td>[ 2,  1]</td>\n",
       "    </tr>\n",
       "    <tr>\n",
       "      <th>12</th>\n",
       "      <td>[ 3,  2]</td>\n",
       "    </tr>\n",
       "    <tr>\n",
       "      <th>13</th>\n",
       "      <td>[10,  2,  1]</td>\n",
       "    </tr>\n",
       "    <tr>\n",
       "      <th>NaN</th>\n",
       "      <td>[ 0,  .]</td>\n",
       "    </tr>\n",
       "  </tbody>\n",
       "</table>\n",
       "</div>"
      ],
      "text/plain": [
       "             MESRES3\n",
       "              unique\n",
       "CARES3              \n",
       "01          [ 2,  1]\n",
       "03          [ 3,  1]\n",
       "07              [ 1]\n",
       "09          [ 2,  1]\n",
       "12          [ 3,  2]\n",
       "13      [10,  2,  1]\n",
       "NaN         [ 0,  .]"
      ]
     },
     "execution_count": 86,
     "metadata": {},
     "output_type": "execute_result"
    }
   ],
   "source": [
    "df[['CARES3','MESRES3']].groupby('CARES3',dropna=False).agg(['unique']) # Blank as ' .' or '0' when no answer is expected"
   ]
  },
  {
   "cell_type": "code",
   "execution_count": 87,
   "metadata": {},
   "outputs": [
    {
     "data": {
      "text/plain": [
       "array([ 0,  1,  2,  3, 10])"
      ]
     },
     "execution_count": 87,
     "metadata": {},
     "output_type": "execute_result"
    }
   ],
   "source": [
    "df['MESRES3'].replace({' .':0},inplace=True) # 0 when not lived in three different CCAA during 2009\n",
    "df['MESRES3']=df['MESRES3'].astype('int')\n",
    "df['MESRES3'].sort_values().unique() "
   ]
  },
  {
   "cell_type": "code",
   "execution_count": 88,
   "metadata": {},
   "outputs": [
    {
     "data": {
      "text/html": [
       "<div>\n",
       "<style scoped>\n",
       "    .dataframe tbody tr th:only-of-type {\n",
       "        vertical-align: middle;\n",
       "    }\n",
       "\n",
       "    .dataframe tbody tr th {\n",
       "        vertical-align: top;\n",
       "    }\n",
       "\n",
       "    .dataframe thead tr th {\n",
       "        text-align: left;\n",
       "    }\n",
       "\n",
       "    .dataframe thead tr:last-of-type th {\n",
       "        text-align: right;\n",
       "    }\n",
       "</style>\n",
       "<table border=\"1\" class=\"dataframe\">\n",
       "  <thead>\n",
       "    <tr>\n",
       "      <th></th>\n",
       "      <th>MESRES3</th>\n",
       "    </tr>\n",
       "    <tr>\n",
       "      <th></th>\n",
       "      <th>unique</th>\n",
       "    </tr>\n",
       "    <tr>\n",
       "      <th>CARES3</th>\n",
       "      <th></th>\n",
       "    </tr>\n",
       "  </thead>\n",
       "  <tbody>\n",
       "    <tr>\n",
       "      <th>01</th>\n",
       "      <td>[2, 1]</td>\n",
       "    </tr>\n",
       "    <tr>\n",
       "      <th>03</th>\n",
       "      <td>[3, 1]</td>\n",
       "    </tr>\n",
       "    <tr>\n",
       "      <th>07</th>\n",
       "      <td>[1]</td>\n",
       "    </tr>\n",
       "    <tr>\n",
       "      <th>09</th>\n",
       "      <td>[2, 1]</td>\n",
       "    </tr>\n",
       "    <tr>\n",
       "      <th>12</th>\n",
       "      <td>[3, 2]</td>\n",
       "    </tr>\n",
       "    <tr>\n",
       "      <th>13</th>\n",
       "      <td>[10, 2, 1]</td>\n",
       "    </tr>\n",
       "    <tr>\n",
       "      <th>NaN</th>\n",
       "      <td>[0]</td>\n",
       "    </tr>\n",
       "  </tbody>\n",
       "</table>\n",
       "</div>"
      ],
      "text/plain": [
       "           MESRES3\n",
       "            unique\n",
       "CARES3            \n",
       "01          [2, 1]\n",
       "03          [3, 1]\n",
       "07             [1]\n",
       "09          [2, 1]\n",
       "12          [3, 2]\n",
       "13      [10, 2, 1]\n",
       "NaN            [0]"
      ]
     },
     "execution_count": 88,
     "metadata": {},
     "output_type": "execute_result"
    }
   ],
   "source": [
    "df[['CARES3','MESRES3']].groupby('CARES3',dropna=False).agg(['unique'])"
   ]
  },
  {
   "cell_type": "markdown",
   "metadata": {},
   "source": [
    "## 'DOCTOR' (redefinida como 'doctor')\n",
    "**Título de doctor anterior** al 31 de diciembre de 2009: 0=No, 1=Sí"
   ]
  },
  {
   "cell_type": "code",
   "execution_count": 89,
   "metadata": {},
   "outputs": [
    {
     "data": {
      "text/plain": [
       "array([1])"
      ]
     },
     "execution_count": 89,
     "metadata": {},
     "output_type": "execute_result"
    }
   ],
   "source": [
    "df['DOCTOR']=df['DOCTOR'].astype('int') # Sin no informados \n",
    "df['DOCTOR'].unique()"
   ]
  },
  {
   "cell_type": "code",
   "execution_count": 90,
   "metadata": {},
   "outputs": [
    {
     "name": "stdout",
     "output_type": "stream",
     "text": [
      "       aux_traduce\n",
      "            unique\n",
      "doctor            \n",
      "1             [Sí]\n"
     ]
    }
   ],
   "source": [
    "df['doctor']=df['DOCTOR']\n",
    "traduce('doctor')"
   ]
  },
  {
   "cell_type": "markdown",
   "metadata": {},
   "source": [
    "## 'CODIDOC' (redefinida como 'titulo_doc')\n",
    "Código de **estudios de doctorado**:  \n",
    "\n",
    "CIENCIAS NATURALES: 101=Matemáticas, 102=Informática y tecnologías de la información, 103=Ciencias físicas, 104=Ciencias químicas, 105=Ciencias de la tierra y medio ambiente, 106=Biología (excluyendo agricultura y ciencias médicas), 107=Otras ciencias naturales  \n",
    "\n",
    "INGENIERÍA Y TECNOLOGÍA: 201=Ingeniería civil, 202=Ingeniería eléctrica, electrónica y de telecomunicaciones, 203=Ingeniería mecánica, 204=Ingeniería química, 205=Ingeniería de materiales, 206=Ingeniería médica, 207=Ingeniería medioambiental, 208=Biotecnología medioambiental, 209=Biotecnología industrial, 210=Nanotecnología, 211=Otras ingenierías y tecnologías (comida, bebida y otras)  \n",
    "\n",
    "CIENCIAS MÉDICAS: 301=Medicina básica, 302=Medicina clínica, 303=Ciencias de la salud, 304=Biotecnología médica, 305=Otras ciencias médicas (forenses y otras ciencias médicas)  \n",
    "\n",
    "CIENCIAS DE LA AGRICULTURA: 401=Agricultura, ciencias forestales y piscifactorías, 402=Ciencias de los animales y de la leche, 403=Veterinaria, 404=Biotecnología agrícola, 405=Otras ciencias de la agricultura  \n",
    "\n",
    "CIENCIAS SOCIALES: 501=Psicología, 502=Economía y empresas, 503=Ciencias de la educación, 504=Sociología, 505=Derecho, 506=Ciencias políticas, 507=Geografía económica y social, 508=Periodismo y comunicaciones, 509=Otras ciencias sociales  \n",
    "\n",
    "HUMANIDADES: 601=Historia y arqueología, 602=Lenguaje y literatura, 603=Filosofía, ética y religión, 604=Arte (historia del arte, bellas artes y música), 605=Otras humanidades  "
   ]
  },
  {
   "cell_type": "code",
   "execution_count": 91,
   "metadata": {},
   "outputs": [
    {
     "data": {
      "text/plain": [
       "array(['101', '102', '103', '104', '105', '106', '107', '201', '202',\n",
       "       '203', '204', '205', '206', '207', '208', '209', '210', '211',\n",
       "       '301', '302', '303', '304', '305', '401', '402', '403', '404',\n",
       "       '405', '501', '502', '503', '504', '505', '506', '507', '508',\n",
       "       '509', '601', '602', '603', '604', '605'], dtype=object)"
      ]
     },
     "execution_count": 91,
     "metadata": {},
     "output_type": "execute_result"
    }
   ],
   "source": [
    "df['CODIDOC'].sort_values().unique() # Sin no informados"
   ]
  },
  {
   "cell_type": "markdown",
   "metadata": {},
   "source": [
    "### Diccionario de códigos de estudios de doctorado\n",
    "Se importa el diccionario para la columna 'CODIDOC' desde el fichero de diseño de la encuesta disreg_recurciencia.xls."
   ]
  },
  {
   "cell_type": "code",
   "execution_count": 92,
   "metadata": {},
   "outputs": [
    {
     "data": {
      "text/html": [
       "<div>\n",
       "<style scoped>\n",
       "    .dataframe tbody tr th:only-of-type {\n",
       "        vertical-align: middle;\n",
       "    }\n",
       "\n",
       "    .dataframe tbody tr th {\n",
       "        vertical-align: top;\n",
       "    }\n",
       "\n",
       "    .dataframe thead th {\n",
       "        text-align: right;\n",
       "    }\n",
       "</style>\n",
       "<table border=\"1\" class=\"dataframe\">\n",
       "  <thead>\n",
       "    <tr style=\"text-align: right;\">\n",
       "      <th></th>\n",
       "      <th>Clasificación 1. Campos de Ciencia y Tecnología</th>\n",
       "    </tr>\n",
       "  </thead>\n",
       "  <tbody>\n",
       "    <tr>\n",
       "      <th>0</th>\n",
       "      <td>CIENCIAS NATURALES</td>\n",
       "    </tr>\n",
       "    <tr>\n",
       "      <th>1</th>\n",
       "      <td>101 Matemáticas</td>\n",
       "    </tr>\n",
       "    <tr>\n",
       "      <th>2</th>\n",
       "      <td>102 Informática y tecnologías de la información</td>\n",
       "    </tr>\n",
       "    <tr>\n",
       "      <th>3</th>\n",
       "      <td>103 Ciencias físicas</td>\n",
       "    </tr>\n",
       "    <tr>\n",
       "      <th>4</th>\n",
       "      <td>104 Ciencias químicas</td>\n",
       "    </tr>\n",
       "  </tbody>\n",
       "</table>\n",
       "</div>"
      ],
      "text/plain": [
       "   Clasificación 1. Campos de Ciencia y Tecnología\n",
       "0                               CIENCIAS NATURALES\n",
       "1                                  101 Matemáticas\n",
       "2  102 Informática y tecnologías de la información\n",
       "3                             103 Ciencias físicas\n",
       "4                            104 Ciencias químicas"
      ]
     },
     "execution_count": 92,
     "metadata": {},
     "output_type": "execute_result"
    }
   ],
   "source": [
    "ruta_aux_codidoc='data/disreg_recurciencia.xls'\n",
    "df_aux_codidoc=pd.read_excel(ruta_aux_codidoc,sheet_name='ANEXO II',usecols='A',header=1,skiprows=0)\n",
    "df_aux_codidoc.head()"
   ]
  },
  {
   "cell_type": "code",
   "execution_count": 93,
   "metadata": {},
   "outputs": [
    {
     "data": {
      "text/html": [
       "<div>\n",
       "<style scoped>\n",
       "    .dataframe tbody tr th:only-of-type {\n",
       "        vertical-align: middle;\n",
       "    }\n",
       "\n",
       "    .dataframe tbody tr th {\n",
       "        vertical-align: top;\n",
       "    }\n",
       "\n",
       "    .dataframe thead th {\n",
       "        text-align: right;\n",
       "    }\n",
       "</style>\n",
       "<table border=\"1\" class=\"dataframe\">\n",
       "  <thead>\n",
       "    <tr style=\"text-align: right;\">\n",
       "      <th></th>\n",
       "      <th>Clasificación 1. Campos de Ciencia y Tecnología</th>\n",
       "    </tr>\n",
       "  </thead>\n",
       "  <tbody>\n",
       "    <tr>\n",
       "      <th>41</th>\n",
       "      <td>509 Otras ciencias sociales</td>\n",
       "    </tr>\n",
       "    <tr>\n",
       "      <th>42</th>\n",
       "      <td>HUMANIDADES</td>\n",
       "    </tr>\n",
       "    <tr>\n",
       "      <th>43</th>\n",
       "      <td>601 Historia y arqueología</td>\n",
       "    </tr>\n",
       "    <tr>\n",
       "      <th>44</th>\n",
       "      <td>602 Lenguaje y literatura</td>\n",
       "    </tr>\n",
       "    <tr>\n",
       "      <th>45</th>\n",
       "      <td>603 Filosofía, ética y religión</td>\n",
       "    </tr>\n",
       "    <tr>\n",
       "      <th>46</th>\n",
       "      <td>604 Arte (historia del arte, bellas artes y música)</td>\n",
       "    </tr>\n",
       "    <tr>\n",
       "      <th>47</th>\n",
       "      <td>605 Otras humanidades</td>\n",
       "    </tr>\n",
       "  </tbody>\n",
       "</table>\n",
       "</div>"
      ],
      "text/plain": [
       "        Clasificación 1. Campos de Ciencia y Tecnología\n",
       "41                          509 Otras ciencias sociales\n",
       "42                                          HUMANIDADES\n",
       "43                           601 Historia y arqueología\n",
       "44                            602 Lenguaje y literatura\n",
       "45                      603 Filosofía, ética y religión\n",
       "46  604 Arte (historia del arte, bellas artes y música)\n",
       "47                                605 Otras humanidades"
      ]
     },
     "execution_count": 93,
     "metadata": {},
     "output_type": "execute_result"
    }
   ],
   "source": [
    "df_aux_codidoc.tail(7)"
   ]
  },
  {
   "cell_type": "code",
   "execution_count": 94,
   "metadata": {},
   "outputs": [
    {
     "data": {
      "text/plain": [
       "-6"
      ]
     },
     "execution_count": 94,
     "metadata": {},
     "output_type": "execute_result"
    }
   ],
   "source": [
    "# Se eliminan los títulos de grupo (en mayúsculas)\n",
    "len_0=len(df_aux_codidoc)\n",
    "for i in range(len(df_aux_codidoc['Clasificación 1. Campos de Ciencia y Tecnología'])):\n",
    "    if df_aux_codidoc['Clasificación 1. Campos de Ciencia y Tecnología'].iloc[i].upper()\\\n",
    "                ==df_aux_codidoc['Clasificación 1. Campos de Ciencia y Tecnología'].iloc[i]:\n",
    "        df_aux_codidoc['Clasificación 1. Campos de Ciencia y Tecnología'].iloc[i]=None\n",
    "df_aux_codidoc.dropna(inplace=True)\n",
    "df_aux_codidoc.reset_index(drop=True,inplace=True)\n",
    "len(df_aux_codidoc)-len_0 # Comprobación"
   ]
  },
  {
   "cell_type": "code",
   "execution_count": 95,
   "metadata": {},
   "outputs": [
    {
     "data": {
      "text/html": [
       "<div>\n",
       "<style scoped>\n",
       "    .dataframe tbody tr th:only-of-type {\n",
       "        vertical-align: middle;\n",
       "    }\n",
       "\n",
       "    .dataframe tbody tr th {\n",
       "        vertical-align: top;\n",
       "    }\n",
       "\n",
       "    .dataframe thead th {\n",
       "        text-align: right;\n",
       "    }\n",
       "</style>\n",
       "<table border=\"1\" class=\"dataframe\">\n",
       "  <thead>\n",
       "    <tr style=\"text-align: right;\">\n",
       "      <th></th>\n",
       "      <th>Clasificación 1. Campos de Ciencia y Tecnología</th>\n",
       "    </tr>\n",
       "  </thead>\n",
       "  <tbody>\n",
       "    <tr>\n",
       "      <th>0</th>\n",
       "      <td>101 Matemáticas</td>\n",
       "    </tr>\n",
       "    <tr>\n",
       "      <th>1</th>\n",
       "      <td>102 Informática y tecnologías de la información</td>\n",
       "    </tr>\n",
       "    <tr>\n",
       "      <th>2</th>\n",
       "      <td>103 Ciencias físicas</td>\n",
       "    </tr>\n",
       "    <tr>\n",
       "      <th>3</th>\n",
       "      <td>104 Ciencias químicas</td>\n",
       "    </tr>\n",
       "    <tr>\n",
       "      <th>4</th>\n",
       "      <td>105 Ciencias de la tierra y medio ambiente</td>\n",
       "    </tr>\n",
       "  </tbody>\n",
       "</table>\n",
       "</div>"
      ],
      "text/plain": [
       "   Clasificación 1. Campos de Ciencia y Tecnología\n",
       "0                                  101 Matemáticas\n",
       "1  102 Informática y tecnologías de la información\n",
       "2                             103 Ciencias físicas\n",
       "3                            104 Ciencias químicas\n",
       "4       105 Ciencias de la tierra y medio ambiente"
      ]
     },
     "execution_count": 95,
     "metadata": {},
     "output_type": "execute_result"
    }
   ],
   "source": [
    "df_aux_codidoc.head()"
   ]
  },
  {
   "cell_type": "code",
   "execution_count": 96,
   "metadata": {},
   "outputs": [
    {
     "data": {
      "text/plain": [
       "0    101\n",
       "1    102\n",
       "2    103\n",
       "3    104\n",
       "4    105\n",
       "Name: codigos, dtype: object"
      ]
     },
     "execution_count": 96,
     "metadata": {},
     "output_type": "execute_result"
    }
   ],
   "source": [
    "df_aux_codidoc['codigos']=df_aux_codidoc['Clasificación 1. Campos de Ciencia y Tecnología'].str.split(' ',1).str[0]\n",
    "df_aux_codidoc['codigos'].head()"
   ]
  },
  {
   "cell_type": "code",
   "execution_count": 97,
   "metadata": {},
   "outputs": [
    {
     "data": {
      "text/plain": [
       "0                                    Matemáticas\n",
       "1    Informática y tecnologías de la información\n",
       "2                               Ciencias físicas\n",
       "3                              Ciencias químicas\n",
       "4         Ciencias de la tierra y medio ambiente\n",
       "Name: titulos, dtype: object"
      ]
     },
     "execution_count": 97,
     "metadata": {},
     "output_type": "execute_result"
    }
   ],
   "source": [
    "df_aux_codidoc['titulos']=df_aux_codidoc['Clasificación 1. Campos de Ciencia y Tecnología'].str.split(' ',1).str[1]\n",
    "df_aux_codidoc['titulos'].head()"
   ]
  },
  {
   "cell_type": "code",
   "execution_count": 98,
   "metadata": {},
   "outputs": [],
   "source": [
    "D_dict['CODIDOC']=dict()\n",
    "for i in range(len(df_aux_codidoc['codigos'])):\n",
    "    D_dict['CODIDOC'][df_aux_codidoc['codigos'].iloc[i]]=df_aux_codidoc['titulos'].iloc[i]\n",
    "    D_dict['CODIDOC'][int(df_aux_codidoc['codigos'].iloc[i])]=df_aux_codidoc['titulos'].iloc[i]"
   ]
  },
  {
   "cell_type": "code",
   "execution_count": 99,
   "metadata": {},
   "outputs": [
    {
     "name": "stdout",
     "output_type": "stream",
     "text": [
      "                                                          aux_traduce\n",
      "                                                               unique\n",
      "CODIDOC                                                              \n",
      "101                                                     [Matemáticas]\n",
      "102                     [Informática y tecnologías de la información]\n",
      "103                                                [Ciencias físicas]\n",
      "104                                               [Ciencias químicas]\n",
      "105                          [Ciencias de la tierra y medio ambiente]\n",
      "106            [Biología (excluyendo agricultura y ciencias médicas)]\n",
      "107                                        [Otras ciencias naturales]\n",
      "201                                                [Ingeniería civil]\n",
      "202       [Ingeniería eléctrica, electrónica y de telecomunicaciones]\n",
      "203                                             [Ingeniería mecánica]\n",
      "204                                              [Ingeniería química]\n",
      "205                                        [Ingeniería de materiales]\n",
      "206                                               [Ingeniería médica]\n",
      "207                                       [Ingeniería medioambiental]\n",
      "208                                    [Biotecnología medioambiental]\n",
      "209                                        [Biotecnología industrial]\n",
      "210                                                  [Nanotecnología]\n",
      "211        [Otras ingenierías y tecnologías (comida, bebida y otras)]\n",
      "301                                                 [Medicina básica]\n",
      "302                                                [Medicina clínica]\n",
      "303                                            [Ciencias de la salud]\n",
      "304                                            [Biotecnología médica]\n",
      "305      [Otras ciencias médicas (forenses y otras ciencias médicas)]\n",
      "401               [Agricultura, ciencias forestales y piscifactorías]\n",
      "402                          [Ciencias de los animales y de la leche]\n",
      "403                                                     [Veterinaria]\n",
      "404                                          [Biotecnología agrícola]\n",
      "405                                [Otras ciencias de la agricultura]\n",
      "501                                                      [Psicología]\n",
      "502                                             [Economía y empresas]\n",
      "503                                        [Ciencias de la educación]\n",
      "504                                                      [Sociología]\n",
      "505                                                         [Derecho]\n",
      "506                                              [Ciencias políticas]\n",
      "507                                    [Geografía económica y social]\n",
      "508                                     [Periodismo y comunicaciones]\n",
      "509                                         [Otras ciencias sociales]\n",
      "601                                          [Historia y arqueología]\n",
      "602                                           [Lenguaje y literatura]\n",
      "603                                     [Filosofía, ética y religión]\n",
      "604                 [Arte (historia del arte, bellas artes y música)]\n",
      "605                                               [Otras humanidades]\n"
     ]
    }
   ],
   "source": [
    "D_describe['CODIDOC']='Código de estudios de doctorado'\n",
    "traduce('CODIDOC')"
   ]
  },
  {
   "cell_type": "code",
   "execution_count": 100,
   "metadata": {},
   "outputs": [
    {
     "data": {
      "text/plain": [
       "0            Ciencias de la salud\n",
       "1               Ciencias químicas\n",
       "2                      Sociología\n",
       "3       Ingeniería medioambiental\n",
       "4            Ciencias de la salud\n",
       "                  ...            \n",
       "4117        Lenguaje y literatura\n",
       "4118       Historia y arqueología\n",
       "4119       Historia y arqueología\n",
       "4120     Ciencias de la educación\n",
       "4121        Lenguaje y literatura\n",
       "Name: titulo_doc_, Length: 4122, dtype: object"
      ]
     },
     "execution_count": 100,
     "metadata": {},
     "output_type": "execute_result"
    }
   ],
   "source": [
    "redefine('CODIDOC','titulo_doc')\n",
    "df['titulo_doc_']"
   ]
  },
  {
   "cell_type": "markdown",
   "metadata": {},
   "source": [
    "## Nuevas variable: 'rama_doc' \n",
    "**rama_doc**: rama de conocimiento de los estudios de doctorado. "
   ]
  },
  {
   "cell_type": "code",
   "execution_count": 101,
   "metadata": {},
   "outputs": [
    {
     "data": {
      "text/html": [
       "<div>\n",
       "<style scoped>\n",
       "    .dataframe tbody tr th:only-of-type {\n",
       "        vertical-align: middle;\n",
       "    }\n",
       "\n",
       "    .dataframe tbody tr th {\n",
       "        vertical-align: top;\n",
       "    }\n",
       "\n",
       "    .dataframe thead tr th {\n",
       "        text-align: left;\n",
       "    }\n",
       "\n",
       "    .dataframe thead tr:last-of-type th {\n",
       "        text-align: right;\n",
       "    }\n",
       "</style>\n",
       "<table border=\"1\" class=\"dataframe\">\n",
       "  <thead>\n",
       "    <tr>\n",
       "      <th></th>\n",
       "      <th>CODIDOC</th>\n",
       "    </tr>\n",
       "    <tr>\n",
       "      <th></th>\n",
       "      <th>unique</th>\n",
       "    </tr>\n",
       "    <tr>\n",
       "      <th>rama_doc</th>\n",
       "      <th></th>\n",
       "    </tr>\n",
       "  </thead>\n",
       "  <tbody>\n",
       "    <tr>\n",
       "      <th>1</th>\n",
       "      <td>[601, 604, 602, 603, 605]</td>\n",
       "    </tr>\n",
       "    <tr>\n",
       "      <th>2</th>\n",
       "      <td>[104, 107, 106, 105, 103, 102, 405, 101, 404, 403, 401, 402]</td>\n",
       "    </tr>\n",
       "    <tr>\n",
       "      <th>3</th>\n",
       "      <td>[504, 505, 503, 502, 507, 501, 509, 508, 506]</td>\n",
       "    </tr>\n",
       "    <tr>\n",
       "      <th>4</th>\n",
       "      <td>[207, 211, 204, 203, 205, 201, 202, 208, 209, 206, 210]</td>\n",
       "    </tr>\n",
       "    <tr>\n",
       "      <th>5</th>\n",
       "      <td>[303, 302, 305, 304, 301]</td>\n",
       "    </tr>\n",
       "  </tbody>\n",
       "</table>\n",
       "</div>"
      ],
      "text/plain": [
       "                                                               CODIDOC\n",
       "                                                                unique\n",
       "rama_doc                                                              \n",
       "1                                            [601, 604, 602, 603, 605]\n",
       "2         [104, 107, 106, 105, 103, 102, 405, 101, 404, 403, 401, 402]\n",
       "3                        [504, 505, 503, 502, 507, 501, 509, 508, 506]\n",
       "4              [207, 211, 204, 203, 205, 201, 202, 208, 209, 206, 210]\n",
       "5                                            [303, 302, 305, 304, 301]"
      ]
     },
     "execution_count": 101,
     "metadata": {},
     "output_type": "execute_result"
    }
   ],
   "source": [
    "df['rama_doc']=None\n",
    "df['rama_doc'].mask(df['CODIDOC'].str[0]=='6' ,1,inplace=True)\n",
    "df['rama_doc'].mask(df['CODIDOC'].str[0]=='1' ,2,inplace=True)\n",
    "df['rama_doc'].mask(df['CODIDOC'].str[0]=='4' ,2,inplace=True)\n",
    "df['rama_doc'].mask(df['CODIDOC'].str[0]=='5' ,3,inplace=True)\n",
    "df['rama_doc'].mask(df['CODIDOC'].str[0]=='2' ,4,inplace=True)\n",
    "df['rama_doc'].mask(df['CODIDOC'].str[0]=='3' ,5,inplace=True)\n",
    "df[['rama_doc','CODIDOC']].groupby('rama_doc').agg(['unique']) # Comprobación"
   ]
  },
  {
   "cell_type": "code",
   "execution_count": 102,
   "metadata": {},
   "outputs": [
    {
     "name": "stdout",
     "output_type": "stream",
     "text": [
      "                              aux_traduce\n",
      "                                   unique\n",
      "rama_doc                                 \n",
      "1                   [Artes y humanidades]\n",
      "2                              [Ciencias]\n",
      "3         [Ciencias sociales y jurídicas]\n",
      "4             [Ingeniería y arquitectura]\n",
      "5                  [Ciencias de la salud]\n"
     ]
    }
   ],
   "source": [
    "# Se aplica el diccionario de ramas de conocimiento definido en la encuesta de graduados 2019\n",
    "D_dict['rama_doc']=D_dict['rama_g1']\n",
    "traduce('rama_doc')"
   ]
  },
  {
   "cell_type": "markdown",
   "metadata": {},
   "source": [
    "## Nuevas variables: 'n_art_hum', 'n_ciencias', 'n_cc_soc_ju', 'n_ing_arq', 'n_cc_salud'\n",
    "**'n_art_hum'**: Número de títulos universitarios (grado, máster, doctorado o equivalente) en la rama de artes y humanidades    \n",
    "**'n_ciencias'**: Número de títulos universitarios (grado, máster, doctorado o equivalente) en la rama de Ciencias  \n",
    "**'n_cc_soc_ju'**: Número de títulos universitarios (grado, máster, doctorado o equivalente) en la rama de ciencias sociales y jurídicas  \n",
    "**'n_ing_arq'**: Número de títulos universitarios (grado, máster, doctorado o equivalente) en la rama de ingeniería y arquitectura  \n",
    "**'n_cc_salud'**: Número de títulos universitarios (grado, máster, doctorado o equivalente) en la rama de ciencias de la salud  "
   ]
  },
  {
   "cell_type": "code",
   "execution_count": 103,
   "metadata": {},
   "outputs": [
    {
     "data": {
      "text/html": [
       "<div>\n",
       "<style scoped>\n",
       "    .dataframe tbody tr th:only-of-type {\n",
       "        vertical-align: middle;\n",
       "    }\n",
       "\n",
       "    .dataframe tbody tr th {\n",
       "        vertical-align: top;\n",
       "    }\n",
       "\n",
       "    .dataframe thead tr th {\n",
       "        text-align: left;\n",
       "    }\n",
       "\n",
       "    .dataframe thead tr:last-of-type th {\n",
       "        text-align: right;\n",
       "    }\n",
       "</style>\n",
       "<table border=\"1\" class=\"dataframe\">\n",
       "  <thead>\n",
       "    <tr>\n",
       "      <th></th>\n",
       "      <th>n_art_hum</th>\n",
       "      <th>n_ciencias</th>\n",
       "      <th>n_cc_soc_ju</th>\n",
       "      <th>n_ing_arq</th>\n",
       "      <th>n_cc_salud</th>\n",
       "    </tr>\n",
       "    <tr>\n",
       "      <th></th>\n",
       "      <th>unique</th>\n",
       "      <th>unique</th>\n",
       "      <th>unique</th>\n",
       "      <th>unique</th>\n",
       "      <th>unique</th>\n",
       "    </tr>\n",
       "    <tr>\n",
       "      <th>rama_doc_</th>\n",
       "      <th></th>\n",
       "      <th></th>\n",
       "      <th></th>\n",
       "      <th></th>\n",
       "      <th></th>\n",
       "    </tr>\n",
       "  </thead>\n",
       "  <tbody>\n",
       "    <tr>\n",
       "      <th>Artes y humanidades</th>\n",
       "      <td>[1]</td>\n",
       "      <td>[0]</td>\n",
       "      <td>[0]</td>\n",
       "      <td>[0]</td>\n",
       "      <td>[0]</td>\n",
       "    </tr>\n",
       "    <tr>\n",
       "      <th>Ciencias</th>\n",
       "      <td>[0]</td>\n",
       "      <td>[1]</td>\n",
       "      <td>[0]</td>\n",
       "      <td>[0]</td>\n",
       "      <td>[0]</td>\n",
       "    </tr>\n",
       "    <tr>\n",
       "      <th>Ciencias de la salud</th>\n",
       "      <td>[0]</td>\n",
       "      <td>[0]</td>\n",
       "      <td>[0]</td>\n",
       "      <td>[0]</td>\n",
       "      <td>[1]</td>\n",
       "    </tr>\n",
       "    <tr>\n",
       "      <th>Ciencias sociales y jurídicas</th>\n",
       "      <td>[0]</td>\n",
       "      <td>[0]</td>\n",
       "      <td>[1]</td>\n",
       "      <td>[0]</td>\n",
       "      <td>[0]</td>\n",
       "    </tr>\n",
       "    <tr>\n",
       "      <th>Ingeniería y arquitectura</th>\n",
       "      <td>[0]</td>\n",
       "      <td>[0]</td>\n",
       "      <td>[0]</td>\n",
       "      <td>[1]</td>\n",
       "      <td>[0]</td>\n",
       "    </tr>\n",
       "  </tbody>\n",
       "</table>\n",
       "</div>"
      ],
      "text/plain": [
       "                              n_art_hum n_ciencias n_cc_soc_ju n_ing_arq  \\\n",
       "                                 unique     unique      unique    unique   \n",
       "rama_doc_                                                                  \n",
       "Artes y humanidades                 [1]        [0]         [0]       [0]   \n",
       "Ciencias                            [0]        [1]         [0]       [0]   \n",
       "Ciencias de la salud                [0]        [0]         [0]       [0]   \n",
       "Ciencias sociales y jurídicas       [0]        [0]         [1]       [0]   \n",
       "Ingeniería y arquitectura           [0]        [0]         [0]       [1]   \n",
       "\n",
       "                              n_cc_salud  \n",
       "                                  unique  \n",
       "rama_doc_                                 \n",
       "Artes y humanidades                  [0]  \n",
       "Ciencias                             [0]  \n",
       "Ciencias de la salud                 [1]  \n",
       "Ciencias sociales y jurídicas        [0]  \n",
       "Ingeniería y arquitectura            [0]  "
      ]
     },
     "execution_count": 103,
     "metadata": {},
     "output_type": "execute_result"
    }
   ],
   "source": [
    "L_ramas=['n_art_hum','n_ciencias','n_cc_soc_ju','n_ing_arq','n_cc_salud']\n",
    "for i,rama in enumerate (L_ramas): \n",
    "    df[rama]=0\n",
    "    df[rama].mask(df['rama_doc']==i+1,1,inplace=True)\n",
    "df[L_ramas+['rama_doc_']].groupby('rama_doc_').agg(['unique']) # Comprobación: "
   ]
  },
  {
   "cell_type": "markdown",
   "metadata": {},
   "source": [
    "## 'INFUN'\n",
    "Carecter de **investigación básica o fundamental** de la investigación realizada durante el doctorado: 0=No, 1=Sí"
   ]
  },
  {
   "cell_type": "code",
   "execution_count": 104,
   "metadata": {},
   "outputs": [
    {
     "data": {
      "text/plain": [
       "array([1, 0])"
      ]
     },
     "execution_count": 104,
     "metadata": {},
     "output_type": "execute_result"
    }
   ],
   "source": [
    "df['INFUN']=df['INFUN'].astype('int') # Sin no informados\n",
    "df['INFUN'].unique()"
   ]
  },
  {
   "cell_type": "markdown",
   "metadata": {},
   "source": [
    "## 'INAPL'\n",
    "Carecter de **investigación aplicada** de la investigación realizada durante el doctorado: 0=No, 1=Sí"
   ]
  },
  {
   "cell_type": "code",
   "execution_count": 105,
   "metadata": {},
   "outputs": [
    {
     "data": {
      "text/plain": [
       "array([1, 0])"
      ]
     },
     "execution_count": 105,
     "metadata": {},
     "output_type": "execute_result"
    }
   ],
   "source": [
    "df['INAPL']=df['INAPL'].astype('int') # Sin no informados\n",
    "df['INAPL'].unique()"
   ]
  },
  {
   "cell_type": "markdown",
   "metadata": {},
   "source": [
    "## 'DESTEC'\n",
    "Carecter de **desarrollo experimental** de la investigación realizada durante el doctorado: 0=No, 1=Sí"
   ]
  },
  {
   "cell_type": "code",
   "execution_count": 106,
   "metadata": {},
   "outputs": [
    {
     "data": {
      "text/plain": [
       "array([1, 0])"
      ]
     },
     "execution_count": 106,
     "metadata": {},
     "output_type": "execute_result"
    }
   ],
   "source": [
    "df['DESTEC']=df['DESTEC'].astype('int') # Sin no informados\n",
    "df['DESTEC'].unique()"
   ]
  },
  {
   "cell_type": "markdown",
   "metadata": {},
   "source": [
    "## 'ANODOC'\n",
    "**Año en que obtuvo el título de doctor**."
   ]
  },
  {
   "cell_type": "code",
   "execution_count": 107,
   "metadata": {},
   "outputs": [
    {
     "data": {
      "text/plain": [
       "array([1990, 1991, 1992, 1993, 1994, 1995, 1996, 1997, 1998, 1999, 2000,\n",
       "       2001, 2002, 2003, 2004, 2005, 2006, 2007, 2008, 2009])"
      ]
     },
     "execution_count": 107,
     "metadata": {},
     "output_type": "execute_result"
    }
   ],
   "source": [
    "df['ANODOC']=df['ANODOC'].astype('int') # Sin no informados\n",
    "df['ANODOC'].sort_values().unique()"
   ]
  },
  {
   "cell_type": "markdown",
   "metadata": {},
   "source": [
    "## 'MESDOC'\n",
    "**Mes en que obtuvo el título de doctor**."
   ]
  },
  {
   "cell_type": "code",
   "execution_count": 108,
   "metadata": {},
   "outputs": [
    {
     "data": {
      "text/plain": [
       "array([ 1,  2,  3,  4,  5,  6,  7,  8,  9, 10, 11, 12])"
      ]
     },
     "execution_count": 108,
     "metadata": {},
     "output_type": "execute_result"
    }
   ],
   "source": [
    "df['MESDOC']=df['MESDOC'].astype('int') # Sin no informados\n",
    "df['MESDOC'].sort_values().unique()"
   ]
  },
  {
   "cell_type": "markdown",
   "metadata": {},
   "source": [
    "## 'DURDOCANO'\n",
    "**Tiempo** transcurrido desde que inició los cursos de doctorado hasta que obtuvo el **título de doctor: años completos**. "
   ]
  },
  {
   "cell_type": "code",
   "execution_count": 109,
   "metadata": {},
   "outputs": [
    {
     "data": {
      "text/plain": [
       "array([ 0,  1,  2,  3,  4,  5,  6,  7,  8,  9, 10, 11, 12, 13, 14, 15, 16,\n",
       "       17, 18, 19, 20, 21, 22, 23, 24, 25, 27, 30, 35])"
      ]
     },
     "execution_count": 109,
     "metadata": {},
     "output_type": "execute_result"
    }
   ],
   "source": [
    "df['DURDOCANO']=df['DURDOCANO'].astype('int') # Sin no informados\n",
    "df['DURDOCANO'].sort_values().unique()"
   ]
  },
  {
   "cell_type": "markdown",
   "metadata": {},
   "source": [
    "## 'DURDOCMES'\n",
    "**Tiempo** transcurrido desde que inició los cursos de doctorado hasta que obtuvo el **título de doctor: meses adicionales a 'DURDOCANO'**."
   ]
  },
  {
   "cell_type": "code",
   "execution_count": 110,
   "metadata": {},
   "outputs": [
    {
     "data": {
      "text/plain": [
       "array([ 0,  1,  2,  3,  4,  5,  6,  7,  8,  9, 10, 11, 12])"
      ]
     },
     "execution_count": 110,
     "metadata": {},
     "output_type": "execute_result"
    }
   ],
   "source": [
    "df['DURDOCMES']=df['DURDOCMES'].astype('int') # Sin no informados\n",
    "df['DURDOCMES'].sort_values().unique()"
   ]
  },
  {
   "cell_type": "code",
   "execution_count": 111,
   "metadata": {},
   "outputs": [
    {
     "data": {
      "text/html": [
       "<div>\n",
       "<style scoped>\n",
       "    .dataframe tbody tr th:only-of-type {\n",
       "        vertical-align: middle;\n",
       "    }\n",
       "\n",
       "    .dataframe tbody tr th {\n",
       "        vertical-align: top;\n",
       "    }\n",
       "\n",
       "    .dataframe thead th {\n",
       "        text-align: right;\n",
       "    }\n",
       "</style>\n",
       "<table border=\"1\" class=\"dataframe\">\n",
       "  <thead>\n",
       "    <tr style=\"text-align: right;\">\n",
       "      <th></th>\n",
       "      <th>MUIDENT</th>\n",
       "      <th>CCAARESI</th>\n",
       "      <th>ANONAC</th>\n",
       "      <th>CCAANAC</th>\n",
       "      <th>CONTNACIM</th>\n",
       "      <th>RELA</th>\n",
       "      <th>CONTNAC1</th>\n",
       "      <th>CONTNAC2</th>\n",
       "      <th>CONTNAC3</th>\n",
       "      <th>SEXO</th>\n",
       "      <th>ESTADOCIVIL</th>\n",
       "      <th>DEPEN5</th>\n",
       "      <th>DEPEN18</th>\n",
       "      <th>DEPENMAS</th>\n",
       "      <th>NIVESTPA</th>\n",
       "      <th>NIVESTMA</th>\n",
       "      <th>NIVPROFPA</th>\n",
       "      <th>NIVPROFMA</th>\n",
       "      <th>ACTIPRIPA1</th>\n",
       "      <th>ACTIPRIMA1</th>\n",
       "      <th>EDUPRIM</th>\n",
       "      <th>EDUSECUN</th>\n",
       "      <th>BACHILLER</th>\n",
       "      <th>RES</th>\n",
       "      <th>CARES1</th>\n",
       "      <th>MESRES1</th>\n",
       "      <th>CARES2</th>\n",
       "      <th>MESRES2</th>\n",
       "      <th>CARES3</th>\n",
       "      <th>MESRES3</th>\n",
       "      <th>DOCTOR</th>\n",
       "      <th>CODIDOC</th>\n",
       "      <th>INFUN</th>\n",
       "      <th>INAPL</th>\n",
       "      <th>DESTEC</th>\n",
       "      <th>ANODOC</th>\n",
       "      <th>MESDOC</th>\n",
       "      <th>DURDOCANO</th>\n",
       "      <th>DURDOCMES</th>\n",
       "      <th>CONTEST</th>\n",
       "      <th>ANOEST</th>\n",
       "      <th>FINADOC</th>\n",
       "      <th>TRABDOC</th>\n",
       "      <th>ANOSINTRA</th>\n",
       "      <th>MESSINTRA</th>\n",
       "      <th>SITLAB</th>\n",
       "      <th>HTRAB</th>\n",
       "      <th>INGRESOS</th>\n",
       "      <th>AUTON</th>\n",
       "      <th>CNAE2</th>\n",
       "      <th>ANOINIALP</th>\n",
       "      <th>CAEMP</th>\n",
       "      <th>CONTEMP</th>\n",
       "      <th>SECTOR</th>\n",
       "      <th>CODALP</th>\n",
       "      <th>CATEGPROF</th>\n",
       "      <th>HLECT</th>\n",
       "      <th>TIPOCONT</th>\n",
       "      <th>JORLAB</th>\n",
       "      <th>BUSCATRAB</th>\n",
       "      <th>NIVELMIN</th>\n",
       "      <th>NIVELEST</th>\n",
       "      <th>RELTRABDOC</th>\n",
       "      <th>NIVELSAT1</th>\n",
       "      <th>NIVELSAT2</th>\n",
       "      <th>NIVELSAT3</th>\n",
       "      <th>NIVELSAT4</th>\n",
       "      <th>NIVELSAT5</th>\n",
       "      <th>NIVELSAT6</th>\n",
       "      <th>NIVELSAT7</th>\n",
       "      <th>NIVELSAT8</th>\n",
       "      <th>NIVELSAT9</th>\n",
       "      <th>NIVELSAT10</th>\n",
       "      <th>NIVELSAT11</th>\n",
       "      <th>NIVELSAT12</th>\n",
       "      <th>NIVELSAT13</th>\n",
       "      <th>ACTIANT</th>\n",
       "      <th>SECTORANT</th>\n",
       "      <th>ACTIPRIANT</th>\n",
       "      <th>ACTIANTANO</th>\n",
       "      <th>ACTIANTMES</th>\n",
       "      <th>TRABPOS</th>\n",
       "      <th>MOTIVOPOS1</th>\n",
       "      <th>MOTIVOPOS2</th>\n",
       "      <th>MOTIVOPOS3</th>\n",
       "      <th>MOTIVOPOS4</th>\n",
       "      <th>MOTIVOPOS5</th>\n",
       "      <th>MOTIVOPOS6</th>\n",
       "      <th>MOTIVOPOS7</th>\n",
       "      <th>MOTIVOPOS8</th>\n",
       "      <th>PORCINVES</th>\n",
       "      <th>PORCDOC</th>\n",
       "      <th>PORCOTRAS</th>\n",
       "      <th>FINANPOS</th>\n",
       "      <th>GESBUSEMP</th>\n",
       "      <th>PASOSEMP1</th>\n",
       "      <th>PASOSEMP2</th>\n",
       "      <th>PASOSEMP3</th>\n",
       "      <th>PASOSEMP4</th>\n",
       "      <th>PASOSEMP5</th>\n",
       "      <th>PASOSEMP6</th>\n",
       "      <th>PASOSEMP7</th>\n",
       "      <th>PASOSEMP8</th>\n",
       "      <th>PASOSEMP9</th>\n",
       "      <th>PASOSEMP10</th>\n",
       "      <th>PASOSEMP11</th>\n",
       "      <th>NOPASOSEMP1</th>\n",
       "      <th>NOPASOSEMP2</th>\n",
       "      <th>NOPASOSEMP3</th>\n",
       "      <th>NOPASOSEMP4</th>\n",
       "      <th>NOPASOSEMP5</th>\n",
       "      <th>NOPASOSEMP6</th>\n",
       "      <th>NOPASOSEMP7</th>\n",
       "      <th>NOPASOSEMP8</th>\n",
       "      <th>NOPASOSEMP9</th>\n",
       "      <th>CONT1</th>\n",
       "      <th>ANOIPAIS1</th>\n",
       "      <th>ANOFPAIS1</th>\n",
       "      <th>MESES1</th>\n",
       "      <th>CONT2</th>\n",
       "      <th>ANOIPAIS2</th>\n",
       "      <th>ANOFPAIS2</th>\n",
       "      <th>MESES2</th>\n",
       "      <th>CONT3</th>\n",
       "      <th>ANOIPAIS3</th>\n",
       "      <th>ANOFPAIS3</th>\n",
       "      <th>MESES3</th>\n",
       "      <th>CONT4</th>\n",
       "      <th>ANOIPAIS4</th>\n",
       "      <th>ANOFPAIS4</th>\n",
       "      <th>MESES4</th>\n",
       "      <th>CONT5</th>\n",
       "      <th>ANOIPAIS5</th>\n",
       "      <th>ANOFPAIS5</th>\n",
       "      <th>MESES5</th>\n",
       "      <th>CONT6</th>\n",
       "      <th>ANOIPAIS6</th>\n",
       "      <th>ANOFPAIS6</th>\n",
       "      <th>MESES6</th>\n",
       "      <th>CONT7</th>\n",
       "      <th>ANOIPAIS7</th>\n",
       "      <th>ANOFPAIS7</th>\n",
       "      <th>MESES7</th>\n",
       "      <th>MOTFUERA1</th>\n",
       "      <th>MOTFUERA2</th>\n",
       "      <th>MOTFUERA3</th>\n",
       "      <th>MOTFUERA4</th>\n",
       "      <th>MOTFUERA5</th>\n",
       "      <th>MOTFUERA6</th>\n",
       "      <th>MOTFUERA7</th>\n",
       "      <th>MOTVENIR1</th>\n",
       "      <th>MOTVENIR2</th>\n",
       "      <th>MOTVENIR3</th>\n",
       "      <th>MOTVENIR4</th>\n",
       "      <th>MOTVENIR5</th>\n",
       "      <th>MOTVENIR6</th>\n",
       "      <th>MOTVENIR7</th>\n",
       "      <th>PREVIRSE</th>\n",
       "      <th>MESANTESIR</th>\n",
       "      <th>MOTIRSE1</th>\n",
       "      <th>MOTIRSE2</th>\n",
       "      <th>MOTIRSE3</th>\n",
       "      <th>MOTIRSE4</th>\n",
       "      <th>MOTIRSE5</th>\n",
       "      <th>MOTIRSE6</th>\n",
       "      <th>CONTOUT</th>\n",
       "      <th>INV</th>\n",
       "      <th>MOTNOINV1</th>\n",
       "      <th>MOTNOINV2</th>\n",
       "      <th>MOTNOINV3</th>\n",
       "      <th>MOTNOINV4</th>\n",
       "      <th>MOTNOINV5</th>\n",
       "      <th>MOTNOINV6</th>\n",
       "      <th>MOTNOINV7</th>\n",
       "      <th>MOTNOINV8</th>\n",
       "      <th>MOTNOINV9</th>\n",
       "      <th>ALGINV</th>\n",
       "      <th>MOTINV1</th>\n",
       "      <th>MOTINV2</th>\n",
       "      <th>MOTINV3</th>\n",
       "      <th>MOTINV4</th>\n",
       "      <th>MOTINV5</th>\n",
       "      <th>MOTINV6</th>\n",
       "      <th>MOTINV7</th>\n",
       "      <th>MOTINV8</th>\n",
       "      <th>MOTINV9</th>\n",
       "      <th>MESESINV</th>\n",
       "      <th>ARTIC</th>\n",
       "      <th>LIBROS</th>\n",
       "      <th>NUMPAT</th>\n",
       "      <th>PATNAC</th>\n",
       "      <th>PATEU</th>\n",
       "      <th>PATCOOP</th>\n",
       "      <th>PATCOM</th>\n",
       "      <th>COMPA</th>\n",
       "      <th>TUTOR</th>\n",
       "      <th>COOPERA</th>\n",
       "      <th>INVFUT</th>\n",
       "      <th>FACTOR</th>\n",
       "      <th>año</th>\n",
       "      <th>est_encuesta</th>\n",
       "      <th>edad_años</th>\n",
       "      <th>edad</th>\n",
       "      <th>edad_</th>\n",
       "      <th>eu27</th>\n",
       "      <th>eu27_</th>\n",
       "      <th>nacionalidad</th>\n",
       "      <th>nacionalidad_</th>\n",
       "      <th>sexo</th>\n",
       "      <th>sexo_</th>\n",
       "      <th>e_civil</th>\n",
       "      <th>e_civil_</th>\n",
       "      <th>estudios_pa</th>\n",
       "      <th>estudios_pa_</th>\n",
       "      <th>grad_med_pa</th>\n",
       "      <th>grad_med_pa_</th>\n",
       "      <th>univ_pa</th>\n",
       "      <th>univ_pa_</th>\n",
       "      <th>estudios_ma</th>\n",
       "      <th>estudios_ma_</th>\n",
       "      <th>grad_med_ma</th>\n",
       "      <th>grad_med_ma_</th>\n",
       "      <th>univ_ma</th>\n",
       "      <th>univ_ma_</th>\n",
       "      <th>bach_aux</th>\n",
       "      <th>tipo_centro</th>\n",
       "      <th>tipo_centro_</th>\n",
       "      <th>doctor</th>\n",
       "      <th>doctor_</th>\n",
       "      <th>CODIDOC_</th>\n",
       "      <th>titulo_doc</th>\n",
       "      <th>titulo_doc_</th>\n",
       "      <th>rama_doc</th>\n",
       "      <th>rama_doc_</th>\n",
       "      <th>n_art_hum</th>\n",
       "      <th>n_ciencias</th>\n",
       "      <th>n_cc_soc_ju</th>\n",
       "      <th>n_ing_arq</th>\n",
       "      <th>n_cc_salud</th>\n",
       "    </tr>\n",
       "  </thead>\n",
       "  <tbody>\n",
       "    <tr>\n",
       "      <th>307</th>\n",
       "      <td>70096</td>\n",
       "      <td>4</td>\n",
       "      <td>1964</td>\n",
       "      <td>04</td>\n",
       "      <td>EU27</td>\n",
       "      <td>1</td>\n",
       "      <td>EU27</td>\n",
       "      <td>None</td>\n",
       "      <td>None</td>\n",
       "      <td>1</td>\n",
       "      <td>1</td>\n",
       "      <td>0</td>\n",
       "      <td>2</td>\n",
       "      <td>0</td>\n",
       "      <td>3.0</td>\n",
       "      <td>3.0</td>\n",
       "      <td>1</td>\n",
       "      <td>1</td>\n",
       "      <td>9</td>\n",
       "      <td>9.0</td>\n",
       "      <td>1</td>\n",
       "      <td>1</td>\n",
       "      <td>1</td>\n",
       "      <td>1</td>\n",
       "      <td>04</td>\n",
       "      <td>12.0</td>\n",
       "      <td>None</td>\n",
       "      <td>0</td>\n",
       "      <td>None</td>\n",
       "      <td>0</td>\n",
       "      <td>1</td>\n",
       "      <td>101</td>\n",
       "      <td>1</td>\n",
       "      <td>1</td>\n",
       "      <td>0</td>\n",
       "      <td>1994</td>\n",
       "      <td>7</td>\n",
       "      <td>7</td>\n",
       "      <td>12</td>\n",
       "      <td>EU27</td>\n",
       "      <td>1987</td>\n",
       "      <td>5</td>\n",
       "      <td>1</td>\n",
       "      <td>1</td>\n",
       "      <td>10</td>\n",
       "      <td>1</td>\n",
       "      <td>40</td>\n",
       "      <td>5</td>\n",
       "      <td>0</td>\n",
       "      <td>85</td>\n",
       "      <td>1989</td>\n",
       "      <td>04</td>\n",
       "      <td>EU27</td>\n",
       "      <td>3</td>\n",
       "      <td>231</td>\n",
       "      <td>2</td>\n",
       "      <td>3</td>\n",
       "      <td>1</td>\n",
       "      <td>1</td>\n",
       "      <td></td>\n",
       "      <td>2</td>\n",
       "      <td>2</td>\n",
       "      <td>3</td>\n",
       "      <td>3</td>\n",
       "      <td>3</td>\n",
       "      <td>1</td>\n",
       "      <td>1</td>\n",
       "      <td>1</td>\n",
       "      <td>3</td>\n",
       "      <td>2</td>\n",
       "      <td>1</td>\n",
       "      <td>1</td>\n",
       "      <td>2</td>\n",
       "      <td>3</td>\n",
       "      <td>1</td>\n",
       "      <td>3</td>\n",
       "      <td>0</td>\n",
       "      <td></td>\n",
       "      <td>NNN</td>\n",
       "      <td>.</td>\n",
       "      <td>.</td>\n",
       "      <td>0</td>\n",
       "      <td></td>\n",
       "      <td></td>\n",
       "      <td></td>\n",
       "      <td></td>\n",
       "      <td></td>\n",
       "      <td></td>\n",
       "      <td></td>\n",
       "      <td></td>\n",
       "      <td>.</td>\n",
       "      <td>.</td>\n",
       "      <td>.</td>\n",
       "      <td></td>\n",
       "      <td></td>\n",
       "      <td></td>\n",
       "      <td></td>\n",
       "      <td></td>\n",
       "      <td></td>\n",
       "      <td></td>\n",
       "      <td></td>\n",
       "      <td></td>\n",
       "      <td></td>\n",
       "      <td></td>\n",
       "      <td></td>\n",
       "      <td></td>\n",
       "      <td></td>\n",
       "      <td></td>\n",
       "      <td></td>\n",
       "      <td></td>\n",
       "      <td></td>\n",
       "      <td></td>\n",
       "      <td></td>\n",
       "      <td></td>\n",
       "      <td></td>\n",
       "      <td>NMOV</td>\n",
       "      <td>.</td>\n",
       "      <td>.</td>\n",
       "      <td>.</td>\n",
       "      <td>NMOV</td>\n",
       "      <td>.</td>\n",
       "      <td>.</td>\n",
       "      <td>.</td>\n",
       "      <td>NMOV</td>\n",
       "      <td>.</td>\n",
       "      <td>.</td>\n",
       "      <td>.</td>\n",
       "      <td>NMOV</td>\n",
       "      <td>.</td>\n",
       "      <td>.</td>\n",
       "      <td>.</td>\n",
       "      <td>NMOV</td>\n",
       "      <td>.</td>\n",
       "      <td>.</td>\n",
       "      <td>.</td>\n",
       "      <td>NMOV</td>\n",
       "      <td>.</td>\n",
       "      <td>.</td>\n",
       "      <td>.</td>\n",
       "      <td>NMOV</td>\n",
       "      <td>.</td>\n",
       "      <td>.</td>\n",
       "      <td>.</td>\n",
       "      <td></td>\n",
       "      <td></td>\n",
       "      <td></td>\n",
       "      <td></td>\n",
       "      <td></td>\n",
       "      <td></td>\n",
       "      <td></td>\n",
       "      <td></td>\n",
       "      <td></td>\n",
       "      <td></td>\n",
       "      <td></td>\n",
       "      <td></td>\n",
       "      <td></td>\n",
       "      <td></td>\n",
       "      <td>3</td>\n",
       "      <td></td>\n",
       "      <td></td>\n",
       "      <td></td>\n",
       "      <td></td>\n",
       "      <td></td>\n",
       "      <td></td>\n",
       "      <td></td>\n",
       "      <td>NMOV</td>\n",
       "      <td>1</td>\n",
       "      <td></td>\n",
       "      <td></td>\n",
       "      <td></td>\n",
       "      <td></td>\n",
       "      <td></td>\n",
       "      <td></td>\n",
       "      <td></td>\n",
       "      <td></td>\n",
       "      <td></td>\n",
       "      <td></td>\n",
       "      <td>1</td>\n",
       "      <td></td>\n",
       "      <td></td>\n",
       "      <td></td>\n",
       "      <td></td>\n",
       "      <td></td>\n",
       "      <td></td>\n",
       "      <td></td>\n",
       "      <td></td>\n",
       "      <td>200</td>\n",
       "      <td>5</td>\n",
       "      <td>0</td>\n",
       "      <td>0</td>\n",
       "      <td>0</td>\n",
       "      <td>0</td>\n",
       "      <td>0</td>\n",
       "      <td>0</td>\n",
       "      <td>0</td>\n",
       "      <td>0</td>\n",
       "      <td>0</td>\n",
       "      <td>1</td>\n",
       "      <td>11.51173913</td>\n",
       "      <td>2009</td>\n",
       "      <td>doctorado</td>\n",
       "      <td>45</td>\n",
       "      <td>3</td>\n",
       "      <td>De 35 y más años</td>\n",
       "      <td>1</td>\n",
       "      <td>Nacido en EU27</td>\n",
       "      <td>1</td>\n",
       "      <td>Nacionalidad española</td>\n",
       "      <td>0</td>\n",
       "      <td>Hombre</td>\n",
       "      <td>2</td>\n",
       "      <td>Casado</td>\n",
       "      <td>3.0</td>\n",
       "      <td>Educación primaria completa</td>\n",
       "      <td>0</td>\n",
       "      <td>Sin estudios de enseñanzas medias o superiores</td>\n",
       "      <td>0</td>\n",
       "      <td>Sin estudios universitarios</td>\n",
       "      <td>3.0</td>\n",
       "      <td>Educación primaria completa</td>\n",
       "      <td>0</td>\n",
       "      <td>Sin estudios de enseñanzas medias o superiores</td>\n",
       "      <td>0</td>\n",
       "      <td>Sin estudios universitarios</td>\n",
       "      <td>1</td>\n",
       "      <td>1</td>\n",
       "      <td>Público</td>\n",
       "      <td>1</td>\n",
       "      <td>Sí</td>\n",
       "      <td>Matemáticas</td>\n",
       "      <td>101</td>\n",
       "      <td>Matemáticas</td>\n",
       "      <td>2</td>\n",
       "      <td>Ciencias</td>\n",
       "      <td>0</td>\n",
       "      <td>1</td>\n",
       "      <td>0</td>\n",
       "      <td>0</td>\n",
       "      <td>0</td>\n",
       "    </tr>\n",
       "    <tr>\n",
       "      <th>1297</th>\n",
       "      <td>190035</td>\n",
       "      <td>8</td>\n",
       "      <td>1965</td>\n",
       "      <td>12</td>\n",
       "      <td>EU27</td>\n",
       "      <td>1</td>\n",
       "      <td>EU27</td>\n",
       "      <td>None</td>\n",
       "      <td>None</td>\n",
       "      <td>2</td>\n",
       "      <td>6</td>\n",
       "      <td>0</td>\n",
       "      <td>0</td>\n",
       "      <td>0</td>\n",
       "      <td>7.0</td>\n",
       "      <td>7.0</td>\n",
       "      <td>2</td>\n",
       "      <td>2</td>\n",
       "      <td>2</td>\n",
       "      <td>2.0</td>\n",
       "      <td>1</td>\n",
       "      <td>1</td>\n",
       "      <td>1</td>\n",
       "      <td>0</td>\n",
       "      <td>None</td>\n",
       "      <td>NaN</td>\n",
       "      <td>None</td>\n",
       "      <td>0</td>\n",
       "      <td>None</td>\n",
       "      <td>0</td>\n",
       "      <td>1</td>\n",
       "      <td>605</td>\n",
       "      <td>1</td>\n",
       "      <td>0</td>\n",
       "      <td>0</td>\n",
       "      <td>1995</td>\n",
       "      <td>6</td>\n",
       "      <td>1</td>\n",
       "      <td>12</td>\n",
       "      <td>EU27</td>\n",
       "      <td>1994</td>\n",
       "      <td>8</td>\n",
       "      <td>0</td>\n",
       "      <td>.</td>\n",
       "      <td>.</td>\n",
       "      <td>1</td>\n",
       "      <td>40</td>\n",
       "      <td>5</td>\n",
       "      <td>0</td>\n",
       "      <td>01</td>\n",
       "      <td>2007</td>\n",
       "      <td>08</td>\n",
       "      <td>EU27</td>\n",
       "      <td>1</td>\n",
       "      <td>100</td>\n",
       "      <td></td>\n",
       "      <td>2</td>\n",
       "      <td>1</td>\n",
       "      <td>1</td>\n",
       "      <td></td>\n",
       "      <td>3</td>\n",
       "      <td>3</td>\n",
       "      <td>3</td>\n",
       "      <td>2</td>\n",
       "      <td>3</td>\n",
       "      <td>2</td>\n",
       "      <td>1</td>\n",
       "      <td>1</td>\n",
       "      <td>2</td>\n",
       "      <td>2</td>\n",
       "      <td>2</td>\n",
       "      <td>2</td>\n",
       "      <td>1</td>\n",
       "      <td>2</td>\n",
       "      <td>2</td>\n",
       "      <td>2</td>\n",
       "      <td>1</td>\n",
       "      <td>1</td>\n",
       "      <td>100</td>\n",
       "      <td>1</td>\n",
       "      <td>3</td>\n",
       "      <td>0</td>\n",
       "      <td></td>\n",
       "      <td></td>\n",
       "      <td></td>\n",
       "      <td></td>\n",
       "      <td></td>\n",
       "      <td></td>\n",
       "      <td></td>\n",
       "      <td></td>\n",
       "      <td>.</td>\n",
       "      <td>.</td>\n",
       "      <td>.</td>\n",
       "      <td></td>\n",
       "      <td></td>\n",
       "      <td></td>\n",
       "      <td></td>\n",
       "      <td></td>\n",
       "      <td></td>\n",
       "      <td></td>\n",
       "      <td></td>\n",
       "      <td></td>\n",
       "      <td></td>\n",
       "      <td></td>\n",
       "      <td></td>\n",
       "      <td></td>\n",
       "      <td></td>\n",
       "      <td></td>\n",
       "      <td></td>\n",
       "      <td></td>\n",
       "      <td></td>\n",
       "      <td></td>\n",
       "      <td></td>\n",
       "      <td></td>\n",
       "      <td></td>\n",
       "      <td>NMOV</td>\n",
       "      <td>.</td>\n",
       "      <td>.</td>\n",
       "      <td>.</td>\n",
       "      <td>NMOV</td>\n",
       "      <td>.</td>\n",
       "      <td>.</td>\n",
       "      <td>.</td>\n",
       "      <td>NMOV</td>\n",
       "      <td>.</td>\n",
       "      <td>.</td>\n",
       "      <td>.</td>\n",
       "      <td>NMOV</td>\n",
       "      <td>.</td>\n",
       "      <td>.</td>\n",
       "      <td>.</td>\n",
       "      <td>NMOV</td>\n",
       "      <td>.</td>\n",
       "      <td>.</td>\n",
       "      <td>.</td>\n",
       "      <td>NMOV</td>\n",
       "      <td>.</td>\n",
       "      <td>.</td>\n",
       "      <td>.</td>\n",
       "      <td>NMOV</td>\n",
       "      <td>.</td>\n",
       "      <td>.</td>\n",
       "      <td>.</td>\n",
       "      <td></td>\n",
       "      <td></td>\n",
       "      <td></td>\n",
       "      <td></td>\n",
       "      <td></td>\n",
       "      <td></td>\n",
       "      <td></td>\n",
       "      <td></td>\n",
       "      <td></td>\n",
       "      <td></td>\n",
       "      <td></td>\n",
       "      <td></td>\n",
       "      <td></td>\n",
       "      <td></td>\n",
       "      <td>3</td>\n",
       "      <td></td>\n",
       "      <td></td>\n",
       "      <td></td>\n",
       "      <td></td>\n",
       "      <td></td>\n",
       "      <td></td>\n",
       "      <td></td>\n",
       "      <td>NMOV</td>\n",
       "      <td>0</td>\n",
       "      <td></td>\n",
       "      <td></td>\n",
       "      <td></td>\n",
       "      <td></td>\n",
       "      <td></td>\n",
       "      <td></td>\n",
       "      <td></td>\n",
       "      <td></td>\n",
       "      <td>1</td>\n",
       "      <td>0</td>\n",
       "      <td></td>\n",
       "      <td></td>\n",
       "      <td></td>\n",
       "      <td></td>\n",
       "      <td></td>\n",
       "      <td></td>\n",
       "      <td></td>\n",
       "      <td></td>\n",
       "      <td></td>\n",
       "      <td>.</td>\n",
       "      <td>.</td>\n",
       "      <td>.</td>\n",
       "      <td>.</td>\n",
       "      <td>.</td>\n",
       "      <td>.</td>\n",
       "      <td>.</td>\n",
       "      <td>0</td>\n",
       "      <td>0</td>\n",
       "      <td>0</td>\n",
       "      <td>0</td>\n",
       "      <td>0</td>\n",
       "      <td>15.26447936</td>\n",
       "      <td>2009</td>\n",
       "      <td>doctorado</td>\n",
       "      <td>44</td>\n",
       "      <td>3</td>\n",
       "      <td>De 35 y más años</td>\n",
       "      <td>1</td>\n",
       "      <td>Nacido en EU27</td>\n",
       "      <td>1</td>\n",
       "      <td>Nacionalidad española</td>\n",
       "      <td>1</td>\n",
       "      <td>Mujer</td>\n",
       "      <td>1</td>\n",
       "      <td>Soltero</td>\n",
       "      <td>8.0</td>\n",
       "      <td>Estudios universitarios (Diplomatura, Licenciatura, Doctorado) o equivalentes</td>\n",
       "      <td>1</td>\n",
       "      <td>Con estudios de enseñanzas medias o superiores</td>\n",
       "      <td>1</td>\n",
       "      <td>Con estudios universitarios</td>\n",
       "      <td>8.0</td>\n",
       "      <td>Estudios universitarios (Diplomatura, Licenciatura, Doctorado) o equivalentes</td>\n",
       "      <td>1</td>\n",
       "      <td>Con estudios de enseñanzas medias o superiores</td>\n",
       "      <td>1</td>\n",
       "      <td>Con estudios universitarios</td>\n",
       "      <td>1</td>\n",
       "      <td>1</td>\n",
       "      <td>Público</td>\n",
       "      <td>1</td>\n",
       "      <td>Sí</td>\n",
       "      <td>Otras humanidades</td>\n",
       "      <td>605</td>\n",
       "      <td>Otras humanidades</td>\n",
       "      <td>1</td>\n",
       "      <td>Artes y humanidades</td>\n",
       "      <td>1</td>\n",
       "      <td>0</td>\n",
       "      <td>0</td>\n",
       "      <td>0</td>\n",
       "      <td>0</td>\n",
       "    </tr>\n",
       "    <tr>\n",
       "      <th>1485</th>\n",
       "      <td>250034</td>\n",
       "      <td>9</td>\n",
       "      <td>1963</td>\n",
       "      <td>09</td>\n",
       "      <td>EU27</td>\n",
       "      <td>1</td>\n",
       "      <td>EU27</td>\n",
       "      <td>None</td>\n",
       "      <td>None</td>\n",
       "      <td>1</td>\n",
       "      <td>1</td>\n",
       "      <td>0</td>\n",
       "      <td>2</td>\n",
       "      <td>0</td>\n",
       "      <td>2.0</td>\n",
       "      <td>8.0</td>\n",
       "      <td>1</td>\n",
       "      <td>2</td>\n",
       "      <td>4</td>\n",
       "      <td>2.0</td>\n",
       "      <td>2</td>\n",
       "      <td>1</td>\n",
       "      <td>1</td>\n",
       "      <td>1</td>\n",
       "      <td>09</td>\n",
       "      <td>12.0</td>\n",
       "      <td>None</td>\n",
       "      <td>0</td>\n",
       "      <td>None</td>\n",
       "      <td>0</td>\n",
       "      <td>1</td>\n",
       "      <td>302</td>\n",
       "      <td>1</td>\n",
       "      <td>1</td>\n",
       "      <td>0</td>\n",
       "      <td>1998</td>\n",
       "      <td>9</td>\n",
       "      <td>4</td>\n",
       "      <td>12</td>\n",
       "      <td>EU27</td>\n",
       "      <td>1988</td>\n",
       "      <td>2</td>\n",
       "      <td>0</td>\n",
       "      <td>.</td>\n",
       "      <td>.</td>\n",
       "      <td>1</td>\n",
       "      <td>50</td>\n",
       "      <td>3</td>\n",
       "      <td>0</td>\n",
       "      <td>86</td>\n",
       "      <td>1996</td>\n",
       "      <td>09</td>\n",
       "      <td>EU27</td>\n",
       "      <td>2</td>\n",
       "      <td>221</td>\n",
       "      <td></td>\n",
       "      <td>1</td>\n",
       "      <td>1</td>\n",
       "      <td>1</td>\n",
       "      <td></td>\n",
       "      <td>3</td>\n",
       "      <td>2</td>\n",
       "      <td>3</td>\n",
       "      <td>3</td>\n",
       "      <td>3</td>\n",
       "      <td>2</td>\n",
       "      <td>3</td>\n",
       "      <td>3</td>\n",
       "      <td>4</td>\n",
       "      <td>4</td>\n",
       "      <td>1</td>\n",
       "      <td>2</td>\n",
       "      <td>1</td>\n",
       "      <td>3</td>\n",
       "      <td>2</td>\n",
       "      <td>3</td>\n",
       "      <td>1</td>\n",
       "      <td>1</td>\n",
       "      <td>224</td>\n",
       "      <td>18</td>\n",
       "      <td>0</td>\n",
       "      <td>0</td>\n",
       "      <td></td>\n",
       "      <td></td>\n",
       "      <td></td>\n",
       "      <td></td>\n",
       "      <td></td>\n",
       "      <td></td>\n",
       "      <td></td>\n",
       "      <td></td>\n",
       "      <td>.</td>\n",
       "      <td>.</td>\n",
       "      <td>.</td>\n",
       "      <td></td>\n",
       "      <td></td>\n",
       "      <td></td>\n",
       "      <td></td>\n",
       "      <td></td>\n",
       "      <td></td>\n",
       "      <td></td>\n",
       "      <td></td>\n",
       "      <td></td>\n",
       "      <td></td>\n",
       "      <td></td>\n",
       "      <td></td>\n",
       "      <td></td>\n",
       "      <td></td>\n",
       "      <td></td>\n",
       "      <td></td>\n",
       "      <td></td>\n",
       "      <td></td>\n",
       "      <td></td>\n",
       "      <td></td>\n",
       "      <td></td>\n",
       "      <td></td>\n",
       "      <td>NMOV</td>\n",
       "      <td>.</td>\n",
       "      <td>.</td>\n",
       "      <td>.</td>\n",
       "      <td>NMOV</td>\n",
       "      <td>.</td>\n",
       "      <td>.</td>\n",
       "      <td>.</td>\n",
       "      <td>NMOV</td>\n",
       "      <td>.</td>\n",
       "      <td>.</td>\n",
       "      <td>.</td>\n",
       "      <td>NMOV</td>\n",
       "      <td>.</td>\n",
       "      <td>.</td>\n",
       "      <td>.</td>\n",
       "      <td>NMOV</td>\n",
       "      <td>.</td>\n",
       "      <td>.</td>\n",
       "      <td>.</td>\n",
       "      <td>NMOV</td>\n",
       "      <td>.</td>\n",
       "      <td>.</td>\n",
       "      <td>.</td>\n",
       "      <td>NMOV</td>\n",
       "      <td>.</td>\n",
       "      <td>.</td>\n",
       "      <td>.</td>\n",
       "      <td></td>\n",
       "      <td></td>\n",
       "      <td></td>\n",
       "      <td></td>\n",
       "      <td></td>\n",
       "      <td></td>\n",
       "      <td></td>\n",
       "      <td></td>\n",
       "      <td></td>\n",
       "      <td></td>\n",
       "      <td></td>\n",
       "      <td></td>\n",
       "      <td></td>\n",
       "      <td></td>\n",
       "      <td>3</td>\n",
       "      <td></td>\n",
       "      <td></td>\n",
       "      <td></td>\n",
       "      <td></td>\n",
       "      <td></td>\n",
       "      <td></td>\n",
       "      <td></td>\n",
       "      <td>NMOV</td>\n",
       "      <td>1</td>\n",
       "      <td></td>\n",
       "      <td></td>\n",
       "      <td></td>\n",
       "      <td></td>\n",
       "      <td></td>\n",
       "      <td></td>\n",
       "      <td></td>\n",
       "      <td></td>\n",
       "      <td></td>\n",
       "      <td></td>\n",
       "      <td></td>\n",
       "      <td></td>\n",
       "      <td>1</td>\n",
       "      <td></td>\n",
       "      <td></td>\n",
       "      <td></td>\n",
       "      <td></td>\n",
       "      <td></td>\n",
       "      <td></td>\n",
       "      <td>48</td>\n",
       "      <td>2</td>\n",
       "      <td>0</td>\n",
       "      <td>0</td>\n",
       "      <td>0</td>\n",
       "      <td>0</td>\n",
       "      <td>0</td>\n",
       "      <td>0</td>\n",
       "      <td>0</td>\n",
       "      <td>0</td>\n",
       "      <td>0</td>\n",
       "      <td>0</td>\n",
       "      <td>25.66619877</td>\n",
       "      <td>2009</td>\n",
       "      <td>doctorado</td>\n",
       "      <td>46</td>\n",
       "      <td>3</td>\n",
       "      <td>De 35 y más años</td>\n",
       "      <td>1</td>\n",
       "      <td>Nacido en EU27</td>\n",
       "      <td>1</td>\n",
       "      <td>Nacionalidad española</td>\n",
       "      <td>0</td>\n",
       "      <td>Hombre</td>\n",
       "      <td>2</td>\n",
       "      <td>Casado</td>\n",
       "      <td>2.0</td>\n",
       "      <td>Educación primaria incompleta (ha asistido menos de 5 años a la escuela)</td>\n",
       "      <td>0</td>\n",
       "      <td>Sin estudios de enseñanzas medias o superiores</td>\n",
       "      <td>0</td>\n",
       "      <td>Sin estudios universitarios</td>\n",
       "      <td>8.0</td>\n",
       "      <td>Estudios universitarios (Diplomatura, Licenciatura, Doctorado) o equivalentes</td>\n",
       "      <td>1</td>\n",
       "      <td>Con estudios de enseñanzas medias o superiores</td>\n",
       "      <td>1</td>\n",
       "      <td>Con estudios universitarios</td>\n",
       "      <td>1</td>\n",
       "      <td>1</td>\n",
       "      <td>Público</td>\n",
       "      <td>1</td>\n",
       "      <td>Sí</td>\n",
       "      <td>Medicina clínica</td>\n",
       "      <td>302</td>\n",
       "      <td>Medicina clínica</td>\n",
       "      <td>5</td>\n",
       "      <td>Ciencias de la salud</td>\n",
       "      <td>0</td>\n",
       "      <td>0</td>\n",
       "      <td>0</td>\n",
       "      <td>0</td>\n",
       "      <td>1</td>\n",
       "    </tr>\n",
       "    <tr>\n",
       "      <th>2405</th>\n",
       "      <td>290083</td>\n",
       "      <td>1</td>\n",
       "      <td>1968</td>\n",
       "      <td>11</td>\n",
       "      <td>EU27</td>\n",
       "      <td>1</td>\n",
       "      <td>EU27</td>\n",
       "      <td>None</td>\n",
       "      <td>None</td>\n",
       "      <td>1</td>\n",
       "      <td>1</td>\n",
       "      <td>0</td>\n",
       "      <td>1</td>\n",
       "      <td>1</td>\n",
       "      <td>1.0</td>\n",
       "      <td>1.0</td>\n",
       "      <td>2</td>\n",
       "      <td>5</td>\n",
       "      <td>6</td>\n",
       "      <td>NaN</td>\n",
       "      <td>1</td>\n",
       "      <td>1</td>\n",
       "      <td>1</td>\n",
       "      <td>1</td>\n",
       "      <td>01</td>\n",
       "      <td>12.0</td>\n",
       "      <td>None</td>\n",
       "      <td>0</td>\n",
       "      <td>None</td>\n",
       "      <td>0</td>\n",
       "      <td>1</td>\n",
       "      <td>502</td>\n",
       "      <td>0</td>\n",
       "      <td>1</td>\n",
       "      <td>0</td>\n",
       "      <td>2006</td>\n",
       "      <td>4</td>\n",
       "      <td>10</td>\n",
       "      <td>12</td>\n",
       "      <td>EU27</td>\n",
       "      <td>1992</td>\n",
       "      <td>5</td>\n",
       "      <td>1</td>\n",
       "      <td>0</td>\n",
       "      <td>0</td>\n",
       "      <td>1</td>\n",
       "      <td>45</td>\n",
       "      <td>5</td>\n",
       "      <td>0</td>\n",
       "      <td>85</td>\n",
       "      <td>1995</td>\n",
       "      <td>01</td>\n",
       "      <td>EU27</td>\n",
       "      <td>2</td>\n",
       "      <td>231</td>\n",
       "      <td>3</td>\n",
       "      <td>4</td>\n",
       "      <td>1</td>\n",
       "      <td>1</td>\n",
       "      <td></td>\n",
       "      <td>2</td>\n",
       "      <td>1</td>\n",
       "      <td>1</td>\n",
       "      <td>2</td>\n",
       "      <td>3</td>\n",
       "      <td>2</td>\n",
       "      <td>1</td>\n",
       "      <td>3</td>\n",
       "      <td>3</td>\n",
       "      <td>1</td>\n",
       "      <td>2</td>\n",
       "      <td>3</td>\n",
       "      <td>2</td>\n",
       "      <td>3</td>\n",
       "      <td>1</td>\n",
       "      <td>1</td>\n",
       "      <td>0</td>\n",
       "      <td></td>\n",
       "      <td>NNN</td>\n",
       "      <td>.</td>\n",
       "      <td>.</td>\n",
       "      <td>1</td>\n",
       "      <td>0</td>\n",
       "      <td>0</td>\n",
       "      <td>1</td>\n",
       "      <td>0</td>\n",
       "      <td>1</td>\n",
       "      <td>0</td>\n",
       "      <td>0</td>\n",
       "      <td>1</td>\n",
       "      <td>25</td>\n",
       "      <td>65</td>\n",
       "      <td>10</td>\n",
       "      <td>3</td>\n",
       "      <td></td>\n",
       "      <td></td>\n",
       "      <td></td>\n",
       "      <td></td>\n",
       "      <td></td>\n",
       "      <td></td>\n",
       "      <td></td>\n",
       "      <td></td>\n",
       "      <td></td>\n",
       "      <td></td>\n",
       "      <td></td>\n",
       "      <td></td>\n",
       "      <td></td>\n",
       "      <td></td>\n",
       "      <td></td>\n",
       "      <td></td>\n",
       "      <td></td>\n",
       "      <td></td>\n",
       "      <td></td>\n",
       "      <td></td>\n",
       "      <td></td>\n",
       "      <td>NMOV</td>\n",
       "      <td>.</td>\n",
       "      <td>.</td>\n",
       "      <td>.</td>\n",
       "      <td>NMOV</td>\n",
       "      <td>.</td>\n",
       "      <td>.</td>\n",
       "      <td>.</td>\n",
       "      <td>NMOV</td>\n",
       "      <td>.</td>\n",
       "      <td>.</td>\n",
       "      <td>.</td>\n",
       "      <td>NMOV</td>\n",
       "      <td>.</td>\n",
       "      <td>.</td>\n",
       "      <td>.</td>\n",
       "      <td>NMOV</td>\n",
       "      <td>.</td>\n",
       "      <td>.</td>\n",
       "      <td>.</td>\n",
       "      <td>NMOV</td>\n",
       "      <td>.</td>\n",
       "      <td>.</td>\n",
       "      <td>.</td>\n",
       "      <td>NMOV</td>\n",
       "      <td>.</td>\n",
       "      <td>.</td>\n",
       "      <td>.</td>\n",
       "      <td></td>\n",
       "      <td></td>\n",
       "      <td></td>\n",
       "      <td></td>\n",
       "      <td></td>\n",
       "      <td></td>\n",
       "      <td></td>\n",
       "      <td></td>\n",
       "      <td></td>\n",
       "      <td></td>\n",
       "      <td></td>\n",
       "      <td></td>\n",
       "      <td></td>\n",
       "      <td></td>\n",
       "      <td>3</td>\n",
       "      <td></td>\n",
       "      <td></td>\n",
       "      <td></td>\n",
       "      <td></td>\n",
       "      <td></td>\n",
       "      <td></td>\n",
       "      <td></td>\n",
       "      <td>NMOV</td>\n",
       "      <td>1</td>\n",
       "      <td></td>\n",
       "      <td></td>\n",
       "      <td></td>\n",
       "      <td></td>\n",
       "      <td></td>\n",
       "      <td></td>\n",
       "      <td></td>\n",
       "      <td></td>\n",
       "      <td></td>\n",
       "      <td></td>\n",
       "      <td>1</td>\n",
       "      <td></td>\n",
       "      <td>1</td>\n",
       "      <td></td>\n",
       "      <td></td>\n",
       "      <td></td>\n",
       "      <td></td>\n",
       "      <td>1</td>\n",
       "      <td></td>\n",
       "      <td>30</td>\n",
       "      <td>2</td>\n",
       "      <td>0</td>\n",
       "      <td>0</td>\n",
       "      <td>0</td>\n",
       "      <td>0</td>\n",
       "      <td>0</td>\n",
       "      <td>0</td>\n",
       "      <td>0</td>\n",
       "      <td>0</td>\n",
       "      <td>0</td>\n",
       "      <td>1</td>\n",
       "      <td>25.66800106</td>\n",
       "      <td>2009</td>\n",
       "      <td>doctorado</td>\n",
       "      <td>41</td>\n",
       "      <td>3</td>\n",
       "      <td>De 35 y más años</td>\n",
       "      <td>1</td>\n",
       "      <td>Nacido en EU27</td>\n",
       "      <td>1</td>\n",
       "      <td>Nacionalidad española</td>\n",
       "      <td>0</td>\n",
       "      <td>Hombre</td>\n",
       "      <td>2</td>\n",
       "      <td>Casado</td>\n",
       "      <td>1.0</td>\n",
       "      <td>No sabe leer o escribir</td>\n",
       "      <td>0</td>\n",
       "      <td>Sin estudios de enseñanzas medias o superiores</td>\n",
       "      <td>0</td>\n",
       "      <td>Sin estudios universitarios</td>\n",
       "      <td>1.0</td>\n",
       "      <td>No sabe leer o escribir</td>\n",
       "      <td>0</td>\n",
       "      <td>Sin estudios de enseñanzas medias o superiores</td>\n",
       "      <td>0</td>\n",
       "      <td>Sin estudios universitarios</td>\n",
       "      <td>1</td>\n",
       "      <td>1</td>\n",
       "      <td>Público</td>\n",
       "      <td>1</td>\n",
       "      <td>Sí</td>\n",
       "      <td>Economía y empresas</td>\n",
       "      <td>502</td>\n",
       "      <td>Economía y empresas</td>\n",
       "      <td>3</td>\n",
       "      <td>Ciencias sociales y jurídicas</td>\n",
       "      <td>0</td>\n",
       "      <td>0</td>\n",
       "      <td>1</td>\n",
       "      <td>0</td>\n",
       "      <td>0</td>\n",
       "    </tr>\n",
       "  </tbody>\n",
       "</table>\n",
       "</div>"
      ],
      "text/plain": [
       "      MUIDENT  CCAARESI  ANONAC CCAANAC CONTNACIM  RELA CONTNAC1 CONTNAC2  \\\n",
       "307     70096         4    1964      04      EU27     1     EU27     None   \n",
       "1297   190035         8    1965      12      EU27     1     EU27     None   \n",
       "1485   250034         9    1963      09      EU27     1     EU27     None   \n",
       "2405   290083         1    1968      11      EU27     1     EU27     None   \n",
       "\n",
       "     CONTNAC3  SEXO  ESTADOCIVIL  DEPEN5  DEPEN18  DEPENMAS  NIVESTPA  \\\n",
       "307      None     1            1       0        2         0       3.0   \n",
       "1297     None     2            6       0        0         0       7.0   \n",
       "1485     None     1            1       0        2         0       2.0   \n",
       "2405     None     1            1       0        1         1       1.0   \n",
       "\n",
       "      NIVESTMA  NIVPROFPA  NIVPROFMA  ACTIPRIPA1  ACTIPRIMA1  EDUPRIM  \\\n",
       "307        3.0          1          1           9         9.0        1   \n",
       "1297       7.0          2          2           2         2.0        1   \n",
       "1485       8.0          1          2           4         2.0        2   \n",
       "2405       1.0          2          5           6         NaN        1   \n",
       "\n",
       "      EDUSECUN  BACHILLER  RES CARES1  MESRES1 CARES2  MESRES2 CARES3  \\\n",
       "307          1          1    1     04     12.0   None        0   None   \n",
       "1297         1          1    0   None      NaN   None        0   None   \n",
       "1485         1          1    1     09     12.0   None        0   None   \n",
       "2405         1          1    1     01     12.0   None        0   None   \n",
       "\n",
       "      MESRES3  DOCTOR CODIDOC  INFUN  INAPL  DESTEC  ANODOC  MESDOC  \\\n",
       "307         0       1     101      1      1       0    1994       7   \n",
       "1297        0       1     605      1      0       0    1995       6   \n",
       "1485        0       1     302      1      1       0    1998       9   \n",
       "2405        0       1     502      0      1       0    2006       4   \n",
       "\n",
       "      DURDOCANO  DURDOCMES CONTEST ANOEST FINADOC TRABDOC ANOSINTRA MESSINTRA  \\\n",
       "307           7         12    EU27   1987       5       1         1        10   \n",
       "1297          1         12    EU27   1994       8       0         .         .   \n",
       "1485          4         12    EU27   1988       2       0         .         .   \n",
       "2405         10         12    EU27   1992       5       1         0         0   \n",
       "\n",
       "     SITLAB HTRAB INGRESOS AUTON CNAE2 ANOINIALP CAEMP CONTEMP SECTOR CODALP  \\\n",
       "307       1    40        5     0    85      1989    04    EU27      3    231   \n",
       "1297      1    40        5     0    01      2007    08    EU27      1    100   \n",
       "1485      1    50        3     0    86      1996    09    EU27      2    221   \n",
       "2405      1    45        5     0    85      1995    01    EU27      2    231   \n",
       "\n",
       "     CATEGPROF HLECT TIPOCONT JORLAB BUSCATRAB NIVELMIN NIVELEST RELTRABDOC  \\\n",
       "307          2     3        1      1                  2        2          3   \n",
       "1297               2        1      1                  3        3          3   \n",
       "1485               1        1      1                  3        2          3   \n",
       "2405         3     4        1      1                  2        1          1   \n",
       "\n",
       "     NIVELSAT1 NIVELSAT2 NIVELSAT3 NIVELSAT4 NIVELSAT5 NIVELSAT6 NIVELSAT7  \\\n",
       "307          3         3         1         1         1         3         2   \n",
       "1297         2         3         2         1         1         2         2   \n",
       "1485         3         3         2         3         3         4         4   \n",
       "2405         2         3         2         1         3         3         1   \n",
       "\n",
       "     NIVELSAT8 NIVELSAT9 NIVELSAT10 NIVELSAT11 NIVELSAT12 NIVELSAT13 ACTIANT  \\\n",
       "307          1         1          2          3          1          3       0   \n",
       "1297         2         2          1          2          2          2       1   \n",
       "1485         1         2          1          3          2          3       1   \n",
       "2405         2         3          2          3          1          1       0   \n",
       "\n",
       "     SECTORANT ACTIPRIANT ACTIANTANO ACTIANTMES TRABPOS MOTIVOPOS1 MOTIVOPOS2  \\\n",
       "307                   NNN          .          .       0                         \n",
       "1297         1        100          1          3       0                         \n",
       "1485         1        224         18          0       0                         \n",
       "2405                  NNN          .          .       1          0          0   \n",
       "\n",
       "     MOTIVOPOS3 MOTIVOPOS4 MOTIVOPOS5 MOTIVOPOS6 MOTIVOPOS7 MOTIVOPOS8  \\\n",
       "307                                                                      \n",
       "1297                                                                     \n",
       "1485                                                                     \n",
       "2405          1          0          1          0          0          1   \n",
       "\n",
       "     PORCINVES PORCDOC PORCOTRAS FINANPOS GESBUSEMP PASOSEMP1 PASOSEMP2  \\\n",
       "307          .       .         .                                          \n",
       "1297         .       .         .                                          \n",
       "1485         .       .         .                                          \n",
       "2405        25      65        10        3                                 \n",
       "\n",
       "     PASOSEMP3 PASOSEMP4 PASOSEMP5 PASOSEMP6 PASOSEMP7 PASOSEMP8 PASOSEMP9  \\\n",
       "307                                                                          \n",
       "1297                                                                         \n",
       "1485                                                                         \n",
       "2405                                                                         \n",
       "\n",
       "     PASOSEMP10 PASOSEMP11 NOPASOSEMP1 NOPASOSEMP2 NOPASOSEMP3 NOPASOSEMP4  \\\n",
       "307                                                                          \n",
       "1297                                                                         \n",
       "1485                                                                         \n",
       "2405                                                                         \n",
       "\n",
       "     NOPASOSEMP5 NOPASOSEMP6 NOPASOSEMP7 NOPASOSEMP8 NOPASOSEMP9 CONT1  \\\n",
       "307                                                               NMOV   \n",
       "1297                                                              NMOV   \n",
       "1485                                                              NMOV   \n",
       "2405                                                              NMOV   \n",
       "\n",
       "     ANOIPAIS1 ANOFPAIS1 MESES1 CONT2 ANOIPAIS2 ANOFPAIS2 MESES2 CONT3  \\\n",
       "307          .         .      .  NMOV         .         .      .  NMOV   \n",
       "1297         .         .      .  NMOV         .         .      .  NMOV   \n",
       "1485         .         .      .  NMOV         .         .      .  NMOV   \n",
       "2405         .         .      .  NMOV         .         .      .  NMOV   \n",
       "\n",
       "     ANOIPAIS3 ANOFPAIS3 MESES3 CONT4 ANOIPAIS4 ANOFPAIS4 MESES4 CONT5  \\\n",
       "307          .         .      .  NMOV         .         .      .  NMOV   \n",
       "1297         .         .      .  NMOV         .         .      .  NMOV   \n",
       "1485         .         .      .  NMOV         .         .      .  NMOV   \n",
       "2405         .         .      .  NMOV         .         .      .  NMOV   \n",
       "\n",
       "     ANOIPAIS5 ANOFPAIS5 MESES5 CONT6 ANOIPAIS6 ANOFPAIS6 MESES6 CONT7  \\\n",
       "307          .         .      .  NMOV         .         .      .  NMOV   \n",
       "1297         .         .      .  NMOV         .         .      .  NMOV   \n",
       "1485         .         .      .  NMOV         .         .      .  NMOV   \n",
       "2405         .         .      .  NMOV         .         .      .  NMOV   \n",
       "\n",
       "     ANOIPAIS7 ANOFPAIS7 MESES7 MOTFUERA1 MOTFUERA2 MOTFUERA3 MOTFUERA4  \\\n",
       "307          .         .      .                                           \n",
       "1297         .         .      .                                           \n",
       "1485         .         .      .                                           \n",
       "2405         .         .      .                                           \n",
       "\n",
       "     MOTFUERA5 MOTFUERA6 MOTFUERA7 MOTVENIR1 MOTVENIR2 MOTVENIR3 MOTVENIR4  \\\n",
       "307                                                                          \n",
       "1297                                                                         \n",
       "1485                                                                         \n",
       "2405                                                                         \n",
       "\n",
       "     MOTVENIR5 MOTVENIR6 MOTVENIR7 PREVIRSE MESANTESIR MOTIRSE1 MOTIRSE2  \\\n",
       "307                                       3                                \n",
       "1297                                      3                                \n",
       "1485                                      3                                \n",
       "2405                                      3                                \n",
       "\n",
       "     MOTIRSE3 MOTIRSE4 MOTIRSE5 MOTIRSE6 CONTOUT INV MOTNOINV1 MOTNOINV2  \\\n",
       "307                                         NMOV   1                       \n",
       "1297                                        NMOV   0                       \n",
       "1485                                        NMOV   1                       \n",
       "2405                                        NMOV   1                       \n",
       "\n",
       "     MOTNOINV3 MOTNOINV4 MOTNOINV5 MOTNOINV6 MOTNOINV7 MOTNOINV8 MOTNOINV9  \\\n",
       "307                                                                          \n",
       "1297                                                                     1   \n",
       "1485                                                                         \n",
       "2405                                                                         \n",
       "\n",
       "     ALGINV MOTINV1 MOTINV2 MOTINV3 MOTINV4 MOTINV5 MOTINV6 MOTINV7 MOTINV8  \\\n",
       "307               1                                                           \n",
       "1297      0                                                                   \n",
       "1485                              1                                           \n",
       "2405              1               1                                       1   \n",
       "\n",
       "     MOTINV9 MESESINV ARTIC LIBROS NUMPAT PATNAC PATEU PATCOOP PATCOM COMPA  \\\n",
       "307               200     5      0      0      0     0       0      0     0   \n",
       "1297                .     .      .      .      .     .       .      0     0   \n",
       "1485               48     2      0      0      0     0       0      0     0   \n",
       "2405               30     2      0      0      0     0       0      0     0   \n",
       "\n",
       "     TUTOR COOPERA INVFUT       FACTOR   año est_encuesta  edad_años edad  \\\n",
       "307      0       0      1  11.51173913  2009    doctorado         45    3   \n",
       "1297     0       0      0  15.26447936  2009    doctorado         44    3   \n",
       "1485     0       0      0  25.66619877  2009    doctorado         46    3   \n",
       "2405     0       0      1  25.66800106  2009    doctorado         41    3   \n",
       "\n",
       "                 edad_  eu27           eu27_  nacionalidad  \\\n",
       "307   De 35 y más años     1  Nacido en EU27             1   \n",
       "1297  De 35 y más años     1  Nacido en EU27             1   \n",
       "1485  De 35 y más años     1  Nacido en EU27             1   \n",
       "2405  De 35 y más años     1  Nacido en EU27             1   \n",
       "\n",
       "              nacionalidad_  sexo   sexo_ e_civil e_civil_  estudios_pa  \\\n",
       "307   Nacionalidad española     0  Hombre       2   Casado          3.0   \n",
       "1297  Nacionalidad española     1   Mujer       1  Soltero          8.0   \n",
       "1485  Nacionalidad española     0  Hombre       2   Casado          2.0   \n",
       "2405  Nacionalidad española     0  Hombre       2   Casado          1.0   \n",
       "\n",
       "                                                                       estudios_pa_  \\\n",
       "307                                                     Educación primaria completa   \n",
       "1297  Estudios universitarios (Diplomatura, Licenciatura, Doctorado) o equivalentes   \n",
       "1485       Educación primaria incompleta (ha asistido menos de 5 años a la escuela)   \n",
       "2405                                                        No sabe leer o escribir   \n",
       "\n",
       "      grad_med_pa                                    grad_med_pa_  univ_pa  \\\n",
       "307             0  Sin estudios de enseñanzas medias o superiores        0   \n",
       "1297            1  Con estudios de enseñanzas medias o superiores        1   \n",
       "1485            0  Sin estudios de enseñanzas medias o superiores        0   \n",
       "2405            0  Sin estudios de enseñanzas medias o superiores        0   \n",
       "\n",
       "                         univ_pa_  estudios_ma  \\\n",
       "307   Sin estudios universitarios          3.0   \n",
       "1297  Con estudios universitarios          8.0   \n",
       "1485  Sin estudios universitarios          8.0   \n",
       "2405  Sin estudios universitarios          1.0   \n",
       "\n",
       "                                                                       estudios_ma_  \\\n",
       "307                                                     Educación primaria completa   \n",
       "1297  Estudios universitarios (Diplomatura, Licenciatura, Doctorado) o equivalentes   \n",
       "1485  Estudios universitarios (Diplomatura, Licenciatura, Doctorado) o equivalentes   \n",
       "2405                                                        No sabe leer o escribir   \n",
       "\n",
       "      grad_med_ma                                    grad_med_ma_  univ_ma  \\\n",
       "307             0  Sin estudios de enseñanzas medias o superiores        0   \n",
       "1297            1  Con estudios de enseñanzas medias o superiores        1   \n",
       "1485            1  Con estudios de enseñanzas medias o superiores        1   \n",
       "2405            0  Sin estudios de enseñanzas medias o superiores        0   \n",
       "\n",
       "                         univ_ma_  bach_aux  tipo_centro tipo_centro_  doctor  \\\n",
       "307   Sin estudios universitarios         1            1      Público       1   \n",
       "1297  Con estudios universitarios         1            1      Público       1   \n",
       "1485  Con estudios universitarios         1            1      Público       1   \n",
       "2405  Sin estudios universitarios         1            1      Público       1   \n",
       "\n",
       "     doctor_             CODIDOC_ titulo_doc          titulo_doc_ rama_doc  \\\n",
       "307       Sí          Matemáticas        101          Matemáticas        2   \n",
       "1297      Sí    Otras humanidades        605    Otras humanidades        1   \n",
       "1485      Sí     Medicina clínica        302     Medicina clínica        5   \n",
       "2405      Sí  Economía y empresas        502  Economía y empresas        3   \n",
       "\n",
       "                          rama_doc_  n_art_hum  n_ciencias  n_cc_soc_ju  \\\n",
       "307                        Ciencias          0           1            0   \n",
       "1297            Artes y humanidades          1           0            0   \n",
       "1485           Ciencias de la salud          0           0            0   \n",
       "2405  Ciencias sociales y jurídicas          0           0            1   \n",
       "\n",
       "      n_ing_arq  n_cc_salud  \n",
       "307           0           0  \n",
       "1297          0           0  \n",
       "1485          0           1  \n",
       "2405          0           0  "
      ]
     },
     "execution_count": 111,
     "metadata": {},
     "output_type": "execute_result"
    }
   ],
   "source": [
    "df[df['DURDOCMES']==12] \n",
    "# Observaciones atípicas: refieren 12 meses en lugar de un año"
   ]
  },
  {
   "cell_type": "code",
   "execution_count": 112,
   "metadata": {},
   "outputs": [
    {
     "data": {
      "text/plain": [
       "array([ 0.        ,  0.5       ,  1.        ,  1.08333333,  1.5       ,\n",
       "        1.75      ,  2.        ,  2.08333333,  2.16666667,  2.25      ,\n",
       "        2.33333333,  2.41666667,  2.5       ,  2.58333333,  2.66666667,\n",
       "        2.75      ,  2.83333333,  2.91666667,  3.        ,  3.08333333,\n",
       "        3.16666667,  3.25      ,  3.33333333,  3.41666667,  3.5       ,\n",
       "        3.58333333,  3.66666667,  3.75      ,  3.83333333,  3.91666667,\n",
       "        4.        ,  4.08333333,  4.16666667,  4.25      ,  4.33333333,\n",
       "        4.41666667,  4.5       ,  4.58333333,  4.66666667,  4.75      ,\n",
       "        4.83333333,  4.91666667,  5.        ,  5.08333333,  5.16666667,\n",
       "        5.25      ,  5.33333333,  5.41666667,  5.5       ,  5.58333333,\n",
       "        5.66666667,  5.75      ,  5.83333333,  5.91666667,  6.        ,\n",
       "        6.08333333,  6.16666667,  6.25      ,  6.33333333,  6.41666667,\n",
       "        6.5       ,  6.58333333,  6.66666667,  6.75      ,  6.83333333,\n",
       "        6.91666667,  7.        ,  7.08333333,  7.16666667,  7.25      ,\n",
       "        7.33333333,  7.41666667,  7.5       ,  7.58333333,  7.66666667,\n",
       "        7.75      ,  7.83333333,  7.91666667,  8.        ,  8.08333333,\n",
       "        8.16666667,  8.25      ,  8.33333333,  8.41666667,  8.5       ,\n",
       "        8.58333333,  8.66666667,  8.75      ,  8.83333333,  9.        ,\n",
       "        9.08333333,  9.16666667,  9.25      ,  9.33333333,  9.41666667,\n",
       "        9.5       ,  9.58333333,  9.66666667,  9.75      ,  9.83333333,\n",
       "        9.91666667, 10.        , 10.08333333, 10.16666667, 10.25      ,\n",
       "       10.33333333, 10.41666667, 10.5       , 10.58333333, 10.66666667,\n",
       "       10.75      , 10.83333333, 10.91666667, 11.        , 11.08333333,\n",
       "       11.16666667, 11.25      , 11.33333333, 11.41666667, 11.5       ,\n",
       "       11.58333333, 11.66666667, 11.75      , 11.83333333, 11.91666667,\n",
       "       12.        , 12.08333333, 12.16666667, 12.25      , 12.33333333,\n",
       "       12.41666667, 12.5       , 12.75      , 12.91666667, 13.        ,\n",
       "       13.08333333, 13.16666667, 13.33333333, 13.66666667, 13.75      ,\n",
       "       13.83333333, 14.        , 14.08333333, 14.25      , 14.33333333,\n",
       "       14.5       , 14.58333333, 14.66666667, 14.75      , 14.83333333,\n",
       "       15.        , 15.08333333, 15.33333333, 15.41666667, 15.5       ,\n",
       "       15.75      , 16.        , 16.41666667, 16.5       , 16.83333333,\n",
       "       17.        , 17.08333333, 17.5       , 17.66666667, 17.83333333,\n",
       "       18.        , 18.08333333, 18.66666667, 18.91666667, 19.        ,\n",
       "       19.5       , 20.        , 21.        , 21.66666667, 22.        ,\n",
       "       22.08333333, 22.16666667, 22.25      , 23.        , 24.        ,\n",
       "       25.        , 27.91666667, 30.        , 35.        ])"
      ]
     },
     "execution_count": 112,
     "metadata": {},
     "output_type": "execute_result"
    }
   ],
   "source": [
    "# New variable (not in the original dataset):\n",
    "df['Tmpo_doc']=df['DURDOCANO']+df['DURDOCMES']/12\n",
    "df['Tmpo_doc'].sort_values().unique()"
   ]
  },
  {
   "cell_type": "code",
   "execution_count": 113,
   "metadata": {},
   "outputs": [
    {
     "data": {
      "text/html": [
       "<div>\n",
       "<style scoped>\n",
       "    .dataframe tbody tr th:only-of-type {\n",
       "        vertical-align: middle;\n",
       "    }\n",
       "\n",
       "    .dataframe tbody tr th {\n",
       "        vertical-align: top;\n",
       "    }\n",
       "\n",
       "    .dataframe thead th {\n",
       "        text-align: right;\n",
       "    }\n",
       "</style>\n",
       "<table border=\"1\" class=\"dataframe\">\n",
       "  <thead>\n",
       "    <tr style=\"text-align: right;\">\n",
       "      <th></th>\n",
       "      <th>MUIDENT</th>\n",
       "      <th>CCAARESI</th>\n",
       "      <th>ANONAC</th>\n",
       "      <th>CCAANAC</th>\n",
       "      <th>CONTNACIM</th>\n",
       "      <th>RELA</th>\n",
       "      <th>CONTNAC1</th>\n",
       "      <th>CONTNAC2</th>\n",
       "      <th>CONTNAC3</th>\n",
       "      <th>SEXO</th>\n",
       "      <th>ESTADOCIVIL</th>\n",
       "      <th>DEPEN5</th>\n",
       "      <th>DEPEN18</th>\n",
       "      <th>DEPENMAS</th>\n",
       "      <th>NIVESTPA</th>\n",
       "      <th>NIVESTMA</th>\n",
       "      <th>NIVPROFPA</th>\n",
       "      <th>NIVPROFMA</th>\n",
       "      <th>ACTIPRIPA1</th>\n",
       "      <th>ACTIPRIMA1</th>\n",
       "      <th>EDUPRIM</th>\n",
       "      <th>EDUSECUN</th>\n",
       "      <th>BACHILLER</th>\n",
       "      <th>RES</th>\n",
       "      <th>CARES1</th>\n",
       "      <th>MESRES1</th>\n",
       "      <th>CARES2</th>\n",
       "      <th>MESRES2</th>\n",
       "      <th>CARES3</th>\n",
       "      <th>MESRES3</th>\n",
       "      <th>DOCTOR</th>\n",
       "      <th>CODIDOC</th>\n",
       "      <th>INFUN</th>\n",
       "      <th>INAPL</th>\n",
       "      <th>DESTEC</th>\n",
       "      <th>ANODOC</th>\n",
       "      <th>MESDOC</th>\n",
       "      <th>DURDOCANO</th>\n",
       "      <th>DURDOCMES</th>\n",
       "      <th>CONTEST</th>\n",
       "      <th>ANOEST</th>\n",
       "      <th>FINADOC</th>\n",
       "      <th>TRABDOC</th>\n",
       "      <th>ANOSINTRA</th>\n",
       "      <th>MESSINTRA</th>\n",
       "      <th>SITLAB</th>\n",
       "      <th>HTRAB</th>\n",
       "      <th>INGRESOS</th>\n",
       "      <th>AUTON</th>\n",
       "      <th>CNAE2</th>\n",
       "      <th>ANOINIALP</th>\n",
       "      <th>CAEMP</th>\n",
       "      <th>CONTEMP</th>\n",
       "      <th>SECTOR</th>\n",
       "      <th>CODALP</th>\n",
       "      <th>CATEGPROF</th>\n",
       "      <th>HLECT</th>\n",
       "      <th>TIPOCONT</th>\n",
       "      <th>JORLAB</th>\n",
       "      <th>BUSCATRAB</th>\n",
       "      <th>NIVELMIN</th>\n",
       "      <th>NIVELEST</th>\n",
       "      <th>RELTRABDOC</th>\n",
       "      <th>NIVELSAT1</th>\n",
       "      <th>NIVELSAT2</th>\n",
       "      <th>NIVELSAT3</th>\n",
       "      <th>NIVELSAT4</th>\n",
       "      <th>NIVELSAT5</th>\n",
       "      <th>NIVELSAT6</th>\n",
       "      <th>NIVELSAT7</th>\n",
       "      <th>NIVELSAT8</th>\n",
       "      <th>NIVELSAT9</th>\n",
       "      <th>NIVELSAT10</th>\n",
       "      <th>NIVELSAT11</th>\n",
       "      <th>NIVELSAT12</th>\n",
       "      <th>NIVELSAT13</th>\n",
       "      <th>ACTIANT</th>\n",
       "      <th>SECTORANT</th>\n",
       "      <th>ACTIPRIANT</th>\n",
       "      <th>ACTIANTANO</th>\n",
       "      <th>ACTIANTMES</th>\n",
       "      <th>TRABPOS</th>\n",
       "      <th>MOTIVOPOS1</th>\n",
       "      <th>MOTIVOPOS2</th>\n",
       "      <th>MOTIVOPOS3</th>\n",
       "      <th>MOTIVOPOS4</th>\n",
       "      <th>MOTIVOPOS5</th>\n",
       "      <th>MOTIVOPOS6</th>\n",
       "      <th>MOTIVOPOS7</th>\n",
       "      <th>MOTIVOPOS8</th>\n",
       "      <th>PORCINVES</th>\n",
       "      <th>PORCDOC</th>\n",
       "      <th>PORCOTRAS</th>\n",
       "      <th>FINANPOS</th>\n",
       "      <th>GESBUSEMP</th>\n",
       "      <th>PASOSEMP1</th>\n",
       "      <th>PASOSEMP2</th>\n",
       "      <th>PASOSEMP3</th>\n",
       "      <th>PASOSEMP4</th>\n",
       "      <th>PASOSEMP5</th>\n",
       "      <th>PASOSEMP6</th>\n",
       "      <th>PASOSEMP7</th>\n",
       "      <th>PASOSEMP8</th>\n",
       "      <th>PASOSEMP9</th>\n",
       "      <th>PASOSEMP10</th>\n",
       "      <th>PASOSEMP11</th>\n",
       "      <th>NOPASOSEMP1</th>\n",
       "      <th>NOPASOSEMP2</th>\n",
       "      <th>NOPASOSEMP3</th>\n",
       "      <th>NOPASOSEMP4</th>\n",
       "      <th>NOPASOSEMP5</th>\n",
       "      <th>NOPASOSEMP6</th>\n",
       "      <th>NOPASOSEMP7</th>\n",
       "      <th>NOPASOSEMP8</th>\n",
       "      <th>NOPASOSEMP9</th>\n",
       "      <th>CONT1</th>\n",
       "      <th>ANOIPAIS1</th>\n",
       "      <th>ANOFPAIS1</th>\n",
       "      <th>MESES1</th>\n",
       "      <th>CONT2</th>\n",
       "      <th>ANOIPAIS2</th>\n",
       "      <th>ANOFPAIS2</th>\n",
       "      <th>MESES2</th>\n",
       "      <th>CONT3</th>\n",
       "      <th>ANOIPAIS3</th>\n",
       "      <th>ANOFPAIS3</th>\n",
       "      <th>MESES3</th>\n",
       "      <th>CONT4</th>\n",
       "      <th>ANOIPAIS4</th>\n",
       "      <th>ANOFPAIS4</th>\n",
       "      <th>MESES4</th>\n",
       "      <th>CONT5</th>\n",
       "      <th>ANOIPAIS5</th>\n",
       "      <th>ANOFPAIS5</th>\n",
       "      <th>MESES5</th>\n",
       "      <th>CONT6</th>\n",
       "      <th>ANOIPAIS6</th>\n",
       "      <th>ANOFPAIS6</th>\n",
       "      <th>MESES6</th>\n",
       "      <th>CONT7</th>\n",
       "      <th>ANOIPAIS7</th>\n",
       "      <th>ANOFPAIS7</th>\n",
       "      <th>MESES7</th>\n",
       "      <th>MOTFUERA1</th>\n",
       "      <th>MOTFUERA2</th>\n",
       "      <th>MOTFUERA3</th>\n",
       "      <th>MOTFUERA4</th>\n",
       "      <th>MOTFUERA5</th>\n",
       "      <th>MOTFUERA6</th>\n",
       "      <th>MOTFUERA7</th>\n",
       "      <th>MOTVENIR1</th>\n",
       "      <th>MOTVENIR2</th>\n",
       "      <th>MOTVENIR3</th>\n",
       "      <th>MOTVENIR4</th>\n",
       "      <th>MOTVENIR5</th>\n",
       "      <th>MOTVENIR6</th>\n",
       "      <th>MOTVENIR7</th>\n",
       "      <th>PREVIRSE</th>\n",
       "      <th>MESANTESIR</th>\n",
       "      <th>MOTIRSE1</th>\n",
       "      <th>MOTIRSE2</th>\n",
       "      <th>MOTIRSE3</th>\n",
       "      <th>MOTIRSE4</th>\n",
       "      <th>MOTIRSE5</th>\n",
       "      <th>MOTIRSE6</th>\n",
       "      <th>CONTOUT</th>\n",
       "      <th>INV</th>\n",
       "      <th>MOTNOINV1</th>\n",
       "      <th>MOTNOINV2</th>\n",
       "      <th>MOTNOINV3</th>\n",
       "      <th>MOTNOINV4</th>\n",
       "      <th>MOTNOINV5</th>\n",
       "      <th>MOTNOINV6</th>\n",
       "      <th>MOTNOINV7</th>\n",
       "      <th>MOTNOINV8</th>\n",
       "      <th>MOTNOINV9</th>\n",
       "      <th>ALGINV</th>\n",
       "      <th>MOTINV1</th>\n",
       "      <th>MOTINV2</th>\n",
       "      <th>MOTINV3</th>\n",
       "      <th>MOTINV4</th>\n",
       "      <th>MOTINV5</th>\n",
       "      <th>MOTINV6</th>\n",
       "      <th>MOTINV7</th>\n",
       "      <th>MOTINV8</th>\n",
       "      <th>MOTINV9</th>\n",
       "      <th>MESESINV</th>\n",
       "      <th>ARTIC</th>\n",
       "      <th>LIBROS</th>\n",
       "      <th>NUMPAT</th>\n",
       "      <th>PATNAC</th>\n",
       "      <th>PATEU</th>\n",
       "      <th>PATCOOP</th>\n",
       "      <th>PATCOM</th>\n",
       "      <th>COMPA</th>\n",
       "      <th>TUTOR</th>\n",
       "      <th>COOPERA</th>\n",
       "      <th>INVFUT</th>\n",
       "      <th>FACTOR</th>\n",
       "      <th>año</th>\n",
       "      <th>est_encuesta</th>\n",
       "      <th>edad_años</th>\n",
       "      <th>edad</th>\n",
       "      <th>edad_</th>\n",
       "      <th>eu27</th>\n",
       "      <th>eu27_</th>\n",
       "      <th>nacionalidad</th>\n",
       "      <th>nacionalidad_</th>\n",
       "      <th>sexo</th>\n",
       "      <th>sexo_</th>\n",
       "      <th>e_civil</th>\n",
       "      <th>e_civil_</th>\n",
       "      <th>estudios_pa</th>\n",
       "      <th>estudios_pa_</th>\n",
       "      <th>grad_med_pa</th>\n",
       "      <th>grad_med_pa_</th>\n",
       "      <th>univ_pa</th>\n",
       "      <th>univ_pa_</th>\n",
       "      <th>estudios_ma</th>\n",
       "      <th>estudios_ma_</th>\n",
       "      <th>grad_med_ma</th>\n",
       "      <th>grad_med_ma_</th>\n",
       "      <th>univ_ma</th>\n",
       "      <th>univ_ma_</th>\n",
       "      <th>bach_aux</th>\n",
       "      <th>tipo_centro</th>\n",
       "      <th>tipo_centro_</th>\n",
       "      <th>doctor</th>\n",
       "      <th>doctor_</th>\n",
       "      <th>CODIDOC_</th>\n",
       "      <th>titulo_doc</th>\n",
       "      <th>titulo_doc_</th>\n",
       "      <th>rama_doc</th>\n",
       "      <th>rama_doc_</th>\n",
       "      <th>n_art_hum</th>\n",
       "      <th>n_ciencias</th>\n",
       "      <th>n_cc_soc_ju</th>\n",
       "      <th>n_ing_arq</th>\n",
       "      <th>n_cc_salud</th>\n",
       "      <th>Tmpo_doc</th>\n",
       "    </tr>\n",
       "  </thead>\n",
       "  <tbody>\n",
       "    <tr>\n",
       "      <th>469</th>\n",
       "      <td>80195</td>\n",
       "      <td>9</td>\n",
       "      <td>1951</td>\n",
       "      <td>09</td>\n",
       "      <td>EU27</td>\n",
       "      <td>1</td>\n",
       "      <td>EU27</td>\n",
       "      <td>None</td>\n",
       "      <td>None</td>\n",
       "      <td>2</td>\n",
       "      <td>1</td>\n",
       "      <td>0</td>\n",
       "      <td>2</td>\n",
       "      <td>0</td>\n",
       "      <td>2.0</td>\n",
       "      <td>2.0</td>\n",
       "      <td>1</td>\n",
       "      <td>5</td>\n",
       "      <td>7</td>\n",
       "      <td>NaN</td>\n",
       "      <td>2</td>\n",
       "      <td>2</td>\n",
       "      <td>3</td>\n",
       "      <td>1</td>\n",
       "      <td>09</td>\n",
       "      <td>12.0</td>\n",
       "      <td>None</td>\n",
       "      <td>0</td>\n",
       "      <td>None</td>\n",
       "      <td>0</td>\n",
       "      <td>1</td>\n",
       "      <td>601</td>\n",
       "      <td>0</td>\n",
       "      <td>1</td>\n",
       "      <td>1</td>\n",
       "      <td>1991</td>\n",
       "      <td>1</td>\n",
       "      <td>0</td>\n",
       "      <td>0</td>\n",
       "      <td>EU27</td>\n",
       "      <td>1973</td>\n",
       "      <td>5</td>\n",
       "      <td>1</td>\n",
       "      <td>0</td>\n",
       "      <td>0</td>\n",
       "      <td>1</td>\n",
       "      <td>40</td>\n",
       "      <td>7</td>\n",
       "      <td>0</td>\n",
       "      <td>91</td>\n",
       "      <td>1992</td>\n",
       "      <td>09</td>\n",
       "      <td>EU27</td>\n",
       "      <td>2</td>\n",
       "      <td>262</td>\n",
       "      <td></td>\n",
       "      <td>1</td>\n",
       "      <td>1</td>\n",
       "      <td>1</td>\n",
       "      <td></td>\n",
       "      <td>3</td>\n",
       "      <td>3</td>\n",
       "      <td>1</td>\n",
       "      <td>2</td>\n",
       "      <td>2</td>\n",
       "      <td>1</td>\n",
       "      <td>1</td>\n",
       "      <td>1</td>\n",
       "      <td>1</td>\n",
       "      <td>1</td>\n",
       "      <td>2</td>\n",
       "      <td>2</td>\n",
       "      <td>2</td>\n",
       "      <td>3</td>\n",
       "      <td>2</td>\n",
       "      <td>3</td>\n",
       "      <td>0</td>\n",
       "      <td></td>\n",
       "      <td>NNN</td>\n",
       "      <td>.</td>\n",
       "      <td>.</td>\n",
       "      <td>0</td>\n",
       "      <td></td>\n",
       "      <td></td>\n",
       "      <td></td>\n",
       "      <td></td>\n",
       "      <td></td>\n",
       "      <td></td>\n",
       "      <td></td>\n",
       "      <td></td>\n",
       "      <td>.</td>\n",
       "      <td>.</td>\n",
       "      <td>.</td>\n",
       "      <td></td>\n",
       "      <td></td>\n",
       "      <td></td>\n",
       "      <td></td>\n",
       "      <td></td>\n",
       "      <td></td>\n",
       "      <td></td>\n",
       "      <td></td>\n",
       "      <td></td>\n",
       "      <td></td>\n",
       "      <td></td>\n",
       "      <td></td>\n",
       "      <td></td>\n",
       "      <td></td>\n",
       "      <td></td>\n",
       "      <td></td>\n",
       "      <td></td>\n",
       "      <td></td>\n",
       "      <td></td>\n",
       "      <td></td>\n",
       "      <td></td>\n",
       "      <td></td>\n",
       "      <td>NMOV</td>\n",
       "      <td>.</td>\n",
       "      <td>.</td>\n",
       "      <td>.</td>\n",
       "      <td>NMOV</td>\n",
       "      <td>.</td>\n",
       "      <td>.</td>\n",
       "      <td>.</td>\n",
       "      <td>NMOV</td>\n",
       "      <td>.</td>\n",
       "      <td>.</td>\n",
       "      <td>.</td>\n",
       "      <td>NMOV</td>\n",
       "      <td>.</td>\n",
       "      <td>.</td>\n",
       "      <td>.</td>\n",
       "      <td>NMOV</td>\n",
       "      <td>.</td>\n",
       "      <td>.</td>\n",
       "      <td>.</td>\n",
       "      <td>NMOV</td>\n",
       "      <td>.</td>\n",
       "      <td>.</td>\n",
       "      <td>.</td>\n",
       "      <td>NMOV</td>\n",
       "      <td>.</td>\n",
       "      <td>.</td>\n",
       "      <td>.</td>\n",
       "      <td></td>\n",
       "      <td></td>\n",
       "      <td></td>\n",
       "      <td></td>\n",
       "      <td></td>\n",
       "      <td></td>\n",
       "      <td></td>\n",
       "      <td></td>\n",
       "      <td></td>\n",
       "      <td></td>\n",
       "      <td></td>\n",
       "      <td></td>\n",
       "      <td></td>\n",
       "      <td></td>\n",
       "      <td>3</td>\n",
       "      <td></td>\n",
       "      <td></td>\n",
       "      <td></td>\n",
       "      <td></td>\n",
       "      <td></td>\n",
       "      <td></td>\n",
       "      <td></td>\n",
       "      <td>NMOV</td>\n",
       "      <td>1</td>\n",
       "      <td></td>\n",
       "      <td></td>\n",
       "      <td></td>\n",
       "      <td></td>\n",
       "      <td></td>\n",
       "      <td></td>\n",
       "      <td></td>\n",
       "      <td></td>\n",
       "      <td></td>\n",
       "      <td></td>\n",
       "      <td></td>\n",
       "      <td></td>\n",
       "      <td></td>\n",
       "      <td></td>\n",
       "      <td></td>\n",
       "      <td></td>\n",
       "      <td></td>\n",
       "      <td>1</td>\n",
       "      <td></td>\n",
       "      <td>20</td>\n",
       "      <td>0</td>\n",
       "      <td>0</td>\n",
       "      <td>0</td>\n",
       "      <td>0</td>\n",
       "      <td>0</td>\n",
       "      <td>0</td>\n",
       "      <td>0</td>\n",
       "      <td>0</td>\n",
       "      <td>0</td>\n",
       "      <td>1</td>\n",
       "      <td>1</td>\n",
       "      <td>25.66619877</td>\n",
       "      <td>2009</td>\n",
       "      <td>doctorado</td>\n",
       "      <td>58</td>\n",
       "      <td>3</td>\n",
       "      <td>De 35 y más años</td>\n",
       "      <td>1</td>\n",
       "      <td>Nacido en EU27</td>\n",
       "      <td>1</td>\n",
       "      <td>Nacionalidad española</td>\n",
       "      <td>1</td>\n",
       "      <td>Mujer</td>\n",
       "      <td>2</td>\n",
       "      <td>Casado</td>\n",
       "      <td>2.0</td>\n",
       "      <td>Educación primaria incompleta (ha asistido menos de 5 años a la escuela)</td>\n",
       "      <td>0</td>\n",
       "      <td>Sin estudios de enseñanzas medias o superiores</td>\n",
       "      <td>0</td>\n",
       "      <td>Sin estudios universitarios</td>\n",
       "      <td>2.0</td>\n",
       "      <td>Educación primaria incompleta (ha asistido menos de 5 años a la escuela)</td>\n",
       "      <td>0</td>\n",
       "      <td>Sin estudios de enseñanzas medias o superiores</td>\n",
       "      <td>0</td>\n",
       "      <td>Sin estudios universitarios</td>\n",
       "      <td>3</td>\n",
       "      <td>0</td>\n",
       "      <td>Privado</td>\n",
       "      <td>1</td>\n",
       "      <td>Sí</td>\n",
       "      <td>Historia y arqueología</td>\n",
       "      <td>601</td>\n",
       "      <td>Historia y arqueología</td>\n",
       "      <td>1</td>\n",
       "      <td>Artes y humanidades</td>\n",
       "      <td>1</td>\n",
       "      <td>0</td>\n",
       "      <td>0</td>\n",
       "      <td>0</td>\n",
       "      <td>0</td>\n",
       "      <td>0.0</td>\n",
       "    </tr>\n",
       "    <tr>\n",
       "      <th>2120</th>\n",
       "      <td>280690</td>\n",
       "      <td>13</td>\n",
       "      <td>1942</td>\n",
       "      <td>07</td>\n",
       "      <td>EU27</td>\n",
       "      <td>1</td>\n",
       "      <td>EU27</td>\n",
       "      <td>None</td>\n",
       "      <td>None</td>\n",
       "      <td>1</td>\n",
       "      <td>1</td>\n",
       "      <td>0</td>\n",
       "      <td>0</td>\n",
       "      <td>0</td>\n",
       "      <td>9.0</td>\n",
       "      <td>3.0</td>\n",
       "      <td>1</td>\n",
       "      <td>5</td>\n",
       "      <td>3</td>\n",
       "      <td>NaN</td>\n",
       "      <td>3</td>\n",
       "      <td>3</td>\n",
       "      <td>3</td>\n",
       "      <td>1</td>\n",
       "      <td>13</td>\n",
       "      <td>12.0</td>\n",
       "      <td>None</td>\n",
       "      <td>0</td>\n",
       "      <td>None</td>\n",
       "      <td>0</td>\n",
       "      <td>1</td>\n",
       "      <td>201</td>\n",
       "      <td>1</td>\n",
       "      <td>1</td>\n",
       "      <td>0</td>\n",
       "      <td>1992</td>\n",
       "      <td>10</td>\n",
       "      <td>0</td>\n",
       "      <td>0</td>\n",
       "      <td>EU27</td>\n",
       "      <td>1966</td>\n",
       "      <td>9</td>\n",
       "      <td>1</td>\n",
       "      <td>0</td>\n",
       "      <td>0</td>\n",
       "      <td>1</td>\n",
       "      <td>35</td>\n",
       "      <td>8</td>\n",
       "      <td>0</td>\n",
       "      <td>85</td>\n",
       "      <td>1997</td>\n",
       "      <td>13</td>\n",
       "      <td>EU27</td>\n",
       "      <td>3</td>\n",
       "      <td>231</td>\n",
       "      <td>2</td>\n",
       "      <td>3</td>\n",
       "      <td>1</td>\n",
       "      <td>1</td>\n",
       "      <td></td>\n",
       "      <td>2</td>\n",
       "      <td>1</td>\n",
       "      <td>1</td>\n",
       "      <td>2</td>\n",
       "      <td>2</td>\n",
       "      <td>1</td>\n",
       "      <td>1</td>\n",
       "      <td>1</td>\n",
       "      <td>2</td>\n",
       "      <td>1</td>\n",
       "      <td>1</td>\n",
       "      <td>1</td>\n",
       "      <td>1</td>\n",
       "      <td>2</td>\n",
       "      <td>1</td>\n",
       "      <td>1</td>\n",
       "      <td>0</td>\n",
       "      <td></td>\n",
       "      <td>NNN</td>\n",
       "      <td>.</td>\n",
       "      <td>.</td>\n",
       "      <td>0</td>\n",
       "      <td></td>\n",
       "      <td></td>\n",
       "      <td></td>\n",
       "      <td></td>\n",
       "      <td></td>\n",
       "      <td></td>\n",
       "      <td></td>\n",
       "      <td></td>\n",
       "      <td>.</td>\n",
       "      <td>.</td>\n",
       "      <td>.</td>\n",
       "      <td></td>\n",
       "      <td></td>\n",
       "      <td></td>\n",
       "      <td></td>\n",
       "      <td></td>\n",
       "      <td></td>\n",
       "      <td></td>\n",
       "      <td></td>\n",
       "      <td></td>\n",
       "      <td></td>\n",
       "      <td></td>\n",
       "      <td></td>\n",
       "      <td></td>\n",
       "      <td></td>\n",
       "      <td></td>\n",
       "      <td></td>\n",
       "      <td></td>\n",
       "      <td></td>\n",
       "      <td></td>\n",
       "      <td></td>\n",
       "      <td></td>\n",
       "      <td></td>\n",
       "      <td>NMOV</td>\n",
       "      <td>.</td>\n",
       "      <td>.</td>\n",
       "      <td>.</td>\n",
       "      <td>NMOV</td>\n",
       "      <td>.</td>\n",
       "      <td>.</td>\n",
       "      <td>.</td>\n",
       "      <td>NMOV</td>\n",
       "      <td>.</td>\n",
       "      <td>.</td>\n",
       "      <td>.</td>\n",
       "      <td>NMOV</td>\n",
       "      <td>.</td>\n",
       "      <td>.</td>\n",
       "      <td>.</td>\n",
       "      <td>NMOV</td>\n",
       "      <td>.</td>\n",
       "      <td>.</td>\n",
       "      <td>.</td>\n",
       "      <td>NMOV</td>\n",
       "      <td>.</td>\n",
       "      <td>.</td>\n",
       "      <td>.</td>\n",
       "      <td>NMOV</td>\n",
       "      <td>.</td>\n",
       "      <td>.</td>\n",
       "      <td>.</td>\n",
       "      <td></td>\n",
       "      <td></td>\n",
       "      <td></td>\n",
       "      <td></td>\n",
       "      <td></td>\n",
       "      <td></td>\n",
       "      <td></td>\n",
       "      <td></td>\n",
       "      <td></td>\n",
       "      <td></td>\n",
       "      <td></td>\n",
       "      <td></td>\n",
       "      <td></td>\n",
       "      <td></td>\n",
       "      <td>3</td>\n",
       "      <td></td>\n",
       "      <td></td>\n",
       "      <td></td>\n",
       "      <td></td>\n",
       "      <td></td>\n",
       "      <td></td>\n",
       "      <td></td>\n",
       "      <td>NMOV</td>\n",
       "      <td>1</td>\n",
       "      <td></td>\n",
       "      <td></td>\n",
       "      <td></td>\n",
       "      <td></td>\n",
       "      <td></td>\n",
       "      <td></td>\n",
       "      <td></td>\n",
       "      <td></td>\n",
       "      <td></td>\n",
       "      <td></td>\n",
       "      <td>1</td>\n",
       "      <td></td>\n",
       "      <td></td>\n",
       "      <td></td>\n",
       "      <td></td>\n",
       "      <td>1</td>\n",
       "      <td></td>\n",
       "      <td>1</td>\n",
       "      <td></td>\n",
       "      <td>432</td>\n",
       "      <td>0</td>\n",
       "      <td>9</td>\n",
       "      <td>0</td>\n",
       "      <td>0</td>\n",
       "      <td>0</td>\n",
       "      <td>0</td>\n",
       "      <td>0</td>\n",
       "      <td>0</td>\n",
       "      <td>0</td>\n",
       "      <td>0</td>\n",
       "      <td>1</td>\n",
       "      <td>24.81791986</td>\n",
       "      <td>2009</td>\n",
       "      <td>doctorado</td>\n",
       "      <td>67</td>\n",
       "      <td>3</td>\n",
       "      <td>De 35 y más años</td>\n",
       "      <td>1</td>\n",
       "      <td>Nacido en EU27</td>\n",
       "      <td>1</td>\n",
       "      <td>Nacionalidad española</td>\n",
       "      <td>0</td>\n",
       "      <td>Hombre</td>\n",
       "      <td>2</td>\n",
       "      <td>Casado</td>\n",
       "      <td>8.0</td>\n",
       "      <td>Estudios universitarios (Diplomatura, Licenciatura, Doctorado) o equivalentes</td>\n",
       "      <td>1</td>\n",
       "      <td>Con estudios de enseñanzas medias o superiores</td>\n",
       "      <td>1</td>\n",
       "      <td>Con estudios universitarios</td>\n",
       "      <td>3.0</td>\n",
       "      <td>Educación primaria completa</td>\n",
       "      <td>0</td>\n",
       "      <td>Sin estudios de enseñanzas medias o superiores</td>\n",
       "      <td>0</td>\n",
       "      <td>Sin estudios universitarios</td>\n",
       "      <td>3</td>\n",
       "      <td>0</td>\n",
       "      <td>Privado</td>\n",
       "      <td>1</td>\n",
       "      <td>Sí</td>\n",
       "      <td>Ingeniería civil</td>\n",
       "      <td>201</td>\n",
       "      <td>Ingeniería civil</td>\n",
       "      <td>4</td>\n",
       "      <td>Ingeniería y arquitectura</td>\n",
       "      <td>0</td>\n",
       "      <td>0</td>\n",
       "      <td>0</td>\n",
       "      <td>1</td>\n",
       "      <td>0</td>\n",
       "      <td>0.0</td>\n",
       "    </tr>\n",
       "  </tbody>\n",
       "</table>\n",
       "</div>"
      ],
      "text/plain": [
       "      MUIDENT  CCAARESI  ANONAC CCAANAC CONTNACIM  RELA CONTNAC1 CONTNAC2  \\\n",
       "469     80195         9    1951      09      EU27     1     EU27     None   \n",
       "2120   280690        13    1942      07      EU27     1     EU27     None   \n",
       "\n",
       "     CONTNAC3  SEXO  ESTADOCIVIL  DEPEN5  DEPEN18  DEPENMAS  NIVESTPA  \\\n",
       "469      None     2            1       0        2         0       2.0   \n",
       "2120     None     1            1       0        0         0       9.0   \n",
       "\n",
       "      NIVESTMA  NIVPROFPA  NIVPROFMA  ACTIPRIPA1  ACTIPRIMA1  EDUPRIM  \\\n",
       "469        2.0          1          5           7         NaN        2   \n",
       "2120       3.0          1          5           3         NaN        3   \n",
       "\n",
       "      EDUSECUN  BACHILLER  RES CARES1  MESRES1 CARES2  MESRES2 CARES3  \\\n",
       "469          2          3    1     09     12.0   None        0   None   \n",
       "2120         3          3    1     13     12.0   None        0   None   \n",
       "\n",
       "      MESRES3  DOCTOR CODIDOC  INFUN  INAPL  DESTEC  ANODOC  MESDOC  \\\n",
       "469         0       1     601      0      1       1    1991       1   \n",
       "2120        0       1     201      1      1       0    1992      10   \n",
       "\n",
       "      DURDOCANO  DURDOCMES CONTEST ANOEST FINADOC TRABDOC ANOSINTRA MESSINTRA  \\\n",
       "469           0          0    EU27   1973       5       1         0         0   \n",
       "2120          0          0    EU27   1966       9       1         0         0   \n",
       "\n",
       "     SITLAB HTRAB INGRESOS AUTON CNAE2 ANOINIALP CAEMP CONTEMP SECTOR CODALP  \\\n",
       "469       1    40        7     0    91      1992    09    EU27      2    262   \n",
       "2120      1    35        8     0    85      1997    13    EU27      3    231   \n",
       "\n",
       "     CATEGPROF HLECT TIPOCONT JORLAB BUSCATRAB NIVELMIN NIVELEST RELTRABDOC  \\\n",
       "469                1        1      1                  3        3          1   \n",
       "2120         2     3        1      1                  2        1          1   \n",
       "\n",
       "     NIVELSAT1 NIVELSAT2 NIVELSAT3 NIVELSAT4 NIVELSAT5 NIVELSAT6 NIVELSAT7  \\\n",
       "469          2         2         1         1         1         1         1   \n",
       "2120         2         2         1         1         1         2         1   \n",
       "\n",
       "     NIVELSAT8 NIVELSAT9 NIVELSAT10 NIVELSAT11 NIVELSAT12 NIVELSAT13 ACTIANT  \\\n",
       "469          2         2          2          3          2          3       0   \n",
       "2120         1         1          1          2          1          1       0   \n",
       "\n",
       "     SECTORANT ACTIPRIANT ACTIANTANO ACTIANTMES TRABPOS MOTIVOPOS1 MOTIVOPOS2  \\\n",
       "469                   NNN          .          .       0                         \n",
       "2120                  NNN          .          .       0                         \n",
       "\n",
       "     MOTIVOPOS3 MOTIVOPOS4 MOTIVOPOS5 MOTIVOPOS6 MOTIVOPOS7 MOTIVOPOS8  \\\n",
       "469                                                                      \n",
       "2120                                                                     \n",
       "\n",
       "     PORCINVES PORCDOC PORCOTRAS FINANPOS GESBUSEMP PASOSEMP1 PASOSEMP2  \\\n",
       "469          .       .         .                                          \n",
       "2120         .       .         .                                          \n",
       "\n",
       "     PASOSEMP3 PASOSEMP4 PASOSEMP5 PASOSEMP6 PASOSEMP7 PASOSEMP8 PASOSEMP9  \\\n",
       "469                                                                          \n",
       "2120                                                                         \n",
       "\n",
       "     PASOSEMP10 PASOSEMP11 NOPASOSEMP1 NOPASOSEMP2 NOPASOSEMP3 NOPASOSEMP4  \\\n",
       "469                                                                          \n",
       "2120                                                                         \n",
       "\n",
       "     NOPASOSEMP5 NOPASOSEMP6 NOPASOSEMP7 NOPASOSEMP8 NOPASOSEMP9 CONT1  \\\n",
       "469                                                               NMOV   \n",
       "2120                                                              NMOV   \n",
       "\n",
       "     ANOIPAIS1 ANOFPAIS1 MESES1 CONT2 ANOIPAIS2 ANOFPAIS2 MESES2 CONT3  \\\n",
       "469          .         .      .  NMOV         .         .      .  NMOV   \n",
       "2120         .         .      .  NMOV         .         .      .  NMOV   \n",
       "\n",
       "     ANOIPAIS3 ANOFPAIS3 MESES3 CONT4 ANOIPAIS4 ANOFPAIS4 MESES4 CONT5  \\\n",
       "469          .         .      .  NMOV         .         .      .  NMOV   \n",
       "2120         .         .      .  NMOV         .         .      .  NMOV   \n",
       "\n",
       "     ANOIPAIS5 ANOFPAIS5 MESES5 CONT6 ANOIPAIS6 ANOFPAIS6 MESES6 CONT7  \\\n",
       "469          .         .      .  NMOV         .         .      .  NMOV   \n",
       "2120         .         .      .  NMOV         .         .      .  NMOV   \n",
       "\n",
       "     ANOIPAIS7 ANOFPAIS7 MESES7 MOTFUERA1 MOTFUERA2 MOTFUERA3 MOTFUERA4  \\\n",
       "469          .         .      .                                           \n",
       "2120         .         .      .                                           \n",
       "\n",
       "     MOTFUERA5 MOTFUERA6 MOTFUERA7 MOTVENIR1 MOTVENIR2 MOTVENIR3 MOTVENIR4  \\\n",
       "469                                                                          \n",
       "2120                                                                         \n",
       "\n",
       "     MOTVENIR5 MOTVENIR6 MOTVENIR7 PREVIRSE MESANTESIR MOTIRSE1 MOTIRSE2  \\\n",
       "469                                       3                                \n",
       "2120                                      3                                \n",
       "\n",
       "     MOTIRSE3 MOTIRSE4 MOTIRSE5 MOTIRSE6 CONTOUT INV MOTNOINV1 MOTNOINV2  \\\n",
       "469                                         NMOV   1                       \n",
       "2120                                        NMOV   1                       \n",
       "\n",
       "     MOTNOINV3 MOTNOINV4 MOTNOINV5 MOTNOINV6 MOTNOINV7 MOTNOINV8 MOTNOINV9  \\\n",
       "469                                                                          \n",
       "2120                                                                         \n",
       "\n",
       "     ALGINV MOTINV1 MOTINV2 MOTINV3 MOTINV4 MOTINV5 MOTINV6 MOTINV7 MOTINV8  \\\n",
       "469                                                                       1   \n",
       "2120              1                                       1               1   \n",
       "\n",
       "     MOTINV9 MESESINV ARTIC LIBROS NUMPAT PATNAC PATEU PATCOOP PATCOM COMPA  \\\n",
       "469                20     0      0      0      0     0       0      0     0   \n",
       "2120              432     0      9      0      0     0       0      0     0   \n",
       "\n",
       "     TUTOR COOPERA INVFUT       FACTOR   año est_encuesta  edad_años edad  \\\n",
       "469      0       1      1  25.66619877  2009    doctorado         58    3   \n",
       "2120     0       0      1  24.81791986  2009    doctorado         67    3   \n",
       "\n",
       "                 edad_  eu27           eu27_  nacionalidad  \\\n",
       "469   De 35 y más años     1  Nacido en EU27             1   \n",
       "2120  De 35 y más años     1  Nacido en EU27             1   \n",
       "\n",
       "              nacionalidad_  sexo   sexo_ e_civil e_civil_  estudios_pa  \\\n",
       "469   Nacionalidad española     1   Mujer       2   Casado          2.0   \n",
       "2120  Nacionalidad española     0  Hombre       2   Casado          8.0   \n",
       "\n",
       "                                                                       estudios_pa_  \\\n",
       "469        Educación primaria incompleta (ha asistido menos de 5 años a la escuela)   \n",
       "2120  Estudios universitarios (Diplomatura, Licenciatura, Doctorado) o equivalentes   \n",
       "\n",
       "      grad_med_pa                                    grad_med_pa_  univ_pa  \\\n",
       "469             0  Sin estudios de enseñanzas medias o superiores        0   \n",
       "2120            1  Con estudios de enseñanzas medias o superiores        1   \n",
       "\n",
       "                         univ_pa_  estudios_ma  \\\n",
       "469   Sin estudios universitarios          2.0   \n",
       "2120  Con estudios universitarios          3.0   \n",
       "\n",
       "                                                                  estudios_ma_  \\\n",
       "469   Educación primaria incompleta (ha asistido menos de 5 años a la escuela)   \n",
       "2120                                               Educación primaria completa   \n",
       "\n",
       "      grad_med_ma                                    grad_med_ma_  univ_ma  \\\n",
       "469             0  Sin estudios de enseñanzas medias o superiores        0   \n",
       "2120            0  Sin estudios de enseñanzas medias o superiores        0   \n",
       "\n",
       "                         univ_ma_  bach_aux  tipo_centro tipo_centro_  doctor  \\\n",
       "469   Sin estudios universitarios         3            0      Privado       1   \n",
       "2120  Sin estudios universitarios         3            0      Privado       1   \n",
       "\n",
       "     doctor_                CODIDOC_ titulo_doc             titulo_doc_  \\\n",
       "469       Sí  Historia y arqueología        601  Historia y arqueología   \n",
       "2120      Sí        Ingeniería civil        201        Ingeniería civil   \n",
       "\n",
       "     rama_doc                  rama_doc_  n_art_hum  n_ciencias  n_cc_soc_ju  \\\n",
       "469         1        Artes y humanidades          1           0            0   \n",
       "2120        4  Ingeniería y arquitectura          0           0            0   \n",
       "\n",
       "      n_ing_arq  n_cc_salud  Tmpo_doc  \n",
       "469           0           0       0.0  \n",
       "2120          1           0       0.0  "
      ]
     },
     "execution_count": 113,
     "metadata": {},
     "output_type": "execute_result"
    }
   ],
   "source": [
    "df[df['Tmpo_doc']==0] \n",
    "# Observaciones peculiares: refieren tiempo de doctorado=0. "
   ]
  },
  {
   "cell_type": "markdown",
   "metadata": {},
   "source": [
    "## 'CONTEST'\n",
    "**Continente** en el que realizó los **estudios universitarios de segundo ciclo** previos al doctorado: 'EU27'=Unión Europea, 'REUR'=Resto de Europa, 'EUCA'=EEUU y Canadá, 'RAME'=Resto de América, 'AFRI' = África, 'ASIA'=Asia, 'OCEA'=Oceanía, 'NNNN'=Blanco."
   ]
  },
  {
   "cell_type": "code",
   "execution_count": 114,
   "metadata": {},
   "outputs": [
    {
     "data": {
      "text/plain": [
       "array(['AFRI', 'ASIA', 'EU27', 'EUCA', 'RAME', 'REUR'], dtype=object)"
      ]
     },
     "execution_count": 114,
     "metadata": {},
     "output_type": "execute_result"
    }
   ],
   "source": [
    "df['CONTEST'].sort_values().unique() # Sin no informados"
   ]
  },
  {
   "cell_type": "markdown",
   "metadata": {},
   "source": [
    "## 'ANOEST'\n",
    "**Año en el que finalizó los estudios universitarios de segundo ciclo**."
   ]
  },
  {
   "cell_type": "code",
   "execution_count": 115,
   "metadata": {},
   "outputs": [
    {
     "data": {
      "text/plain": [
       "array([1965, 1966, 1967, 1968, 1969, 1970, 1971, 1972, 1973, 1974, 1975,\n",
       "       1976, 1977, 1978, 1979, 1980, 1981, 1982, 1983, 1984, 1985, 1986,\n",
       "       1987, 1988, 1989, 1990, 1991, 1992, 1993, 1994, 1995, 1996, 1997,\n",
       "       1998, 1999, 2000, 2001, 2002, 2003, 2004])"
      ]
     },
     "execution_count": 115,
     "metadata": {},
     "output_type": "execute_result"
    }
   ],
   "source": [
    "df['ANOEST']=df['ANOEST'].astype('int') # Sin no informados\n",
    "df['ANOEST'].sort_values().unique()"
   ]
  },
  {
   "cell_type": "markdown",
   "metadata": {},
   "source": [
    "## 'FINADOC'\n",
    "**Fuente principal de financiación** durante los **estudios de doctorado**: 1=Beca de la Administración Pública (central, autonómica, local,etc.), 2=Beca de otro tipo de institución española, 3=Beca de una Administración Pública extranjera, 4=Beca de otro tipo de institución extranjera, 5=Trabajó como profersor y/o ayudante de investigación, 6=Otra ocupación, 7=Subvención reembolsada por el empleador, 8=Préstamos, ahorros personales y/o ayuda familiar, 9=Otras formas. "
   ]
  },
  {
   "cell_type": "code",
   "execution_count": 116,
   "metadata": {},
   "outputs": [
    {
     "data": {
      "text/plain": [
       "array([1, 2, 3, 4, 5, 6, 7, 8, 9])"
      ]
     },
     "execution_count": 116,
     "metadata": {},
     "output_type": "execute_result"
    }
   ],
   "source": [
    "df['FINADOC']=df['FINADOC'].astype('int') # Sin no informados\n",
    "df['FINADOC'].sort_values().unique()"
   ]
  },
  {
   "cell_type": "markdown",
   "metadata": {},
   "source": [
    "## 'TRABDOC'\n",
    "¿**Trabajó** en algo **relacionado con su doctorado** una vez finalizado y antes de enero de 2010?: 0=No, 1=Sí"
   ]
  },
  {
   "cell_type": "code",
   "execution_count": 117,
   "metadata": {},
   "outputs": [
    {
     "data": {
      "text/plain": [
       "array([0, 1])"
      ]
     },
     "execution_count": 117,
     "metadata": {},
     "output_type": "execute_result"
    }
   ],
   "source": [
    "df['TRABDOC']=df['TRABDOC'].astype('int') # Sin no informados\n",
    "df['TRABDOC'].sort_values().unique()"
   ]
  },
  {
   "cell_type": "markdown",
   "metadata": {},
   "source": [
    "## 'ANOSINTRA'\n",
    "(Solo para respuesta positiva en variable 'TRABDOC')  \n",
    "\n",
    "**Tiempo** transcurrido **desde la finalización de los estudios de doctorado hasta que empezó a trabajar en algo relacionado con estos**: **años** completos. "
   ]
  },
  {
   "cell_type": "code",
   "execution_count": 118,
   "metadata": {},
   "outputs": [
    {
     "data": {
      "text/plain": [
       "array([' .', ' 0', ' 1', ' 2', ' 3', ' 4', ' 5', ' 6', ' 7', ' 8', ' 9',\n",
       "       '10', '12', '14', '15', '16', '17', '19'], dtype=object)"
      ]
     },
     "execution_count": 118,
     "metadata": {},
     "output_type": "execute_result"
    }
   ],
   "source": [
    "df['ANOSINTRA'].sort_values().unique() # No informados como ' .'"
   ]
  },
  {
   "cell_type": "code",
   "execution_count": 119,
   "metadata": {},
   "outputs": [
    {
     "data": {
      "text/html": [
       "<div>\n",
       "<style scoped>\n",
       "    .dataframe tbody tr th:only-of-type {\n",
       "        vertical-align: middle;\n",
       "    }\n",
       "\n",
       "    .dataframe tbody tr th {\n",
       "        vertical-align: top;\n",
       "    }\n",
       "\n",
       "    .dataframe thead tr th {\n",
       "        text-align: left;\n",
       "    }\n",
       "\n",
       "    .dataframe thead tr:last-of-type th {\n",
       "        text-align: right;\n",
       "    }\n",
       "</style>\n",
       "<table border=\"1\" class=\"dataframe\">\n",
       "  <thead>\n",
       "    <tr>\n",
       "      <th></th>\n",
       "      <th>ANOSINTRA</th>\n",
       "    </tr>\n",
       "    <tr>\n",
       "      <th></th>\n",
       "      <th>unique</th>\n",
       "    </tr>\n",
       "    <tr>\n",
       "      <th>TRABDOC</th>\n",
       "      <th></th>\n",
       "    </tr>\n",
       "  </thead>\n",
       "  <tbody>\n",
       "    <tr>\n",
       "      <th>0</th>\n",
       "      <td>[ .]</td>\n",
       "    </tr>\n",
       "    <tr>\n",
       "      <th>1</th>\n",
       "      <td>[ 0,  1,  2,  4,  3, 14,  5, 16,  7, 15,  6,  9, 10,  8, 19, 12, 17]</td>\n",
       "    </tr>\n",
       "  </tbody>\n",
       "</table>\n",
       "</div>"
      ],
      "text/plain": [
       "                                                                    ANOSINTRA\n",
       "                                                                       unique\n",
       "TRABDOC                                                                      \n",
       "0                                                                        [ .]\n",
       "1        [ 0,  1,  2,  4,  3, 14,  5, 16,  7, 15,  6,  9, 10,  8, 19, 12, 17]"
      ]
     },
     "execution_count": 119,
     "metadata": {},
     "output_type": "execute_result"
    }
   ],
   "source": [
    "df[['ANOSINTRA','TRABDOC']].groupby('TRABDOC').agg(['unique']) "
   ]
  },
  {
   "cell_type": "code",
   "execution_count": 120,
   "metadata": {},
   "outputs": [
    {
     "data": {
      "text/plain": [
       "array([ 0.,  1.,  2.,  3.,  4.,  5.,  6.,  7.,  8.,  9., 10., 12., 14.,\n",
       "       15., 16., 17., 19., nan])"
      ]
     },
     "execution_count": 120,
     "metadata": {},
     "output_type": "execute_result"
    }
   ],
   "source": [
    "df['ANOSINTRA'].replace({' .':None},inplace=True) \n",
    "df['ANOSINTRA']=df['ANOSINTRA'].astype('float')\n",
    "df['ANOSINTRA'].sort_values().unique()"
   ]
  },
  {
   "cell_type": "markdown",
   "metadata": {},
   "source": [
    "## 'MESSINTRA'\n",
    "(Solo para respuesta positiva en variable 'TRABDOC')   \n",
    "\n",
    "**Tiempo** transcurrido **desde la finalización de los estudios de doctorado hasta que empezó a trabajar en algo relacionado con estos**: **meses** adicionales a 'ANOSINTRA'."
   ]
  },
  {
   "cell_type": "code",
   "execution_count": 121,
   "metadata": {},
   "outputs": [
    {
     "data": {
      "text/plain": [
       "array([' .', ' 0', ' 1', ' 2', ' 3', ' 4', ' 5', ' 6', ' 7', ' 8', ' 9',\n",
       "       '10', '11', '12'], dtype=object)"
      ]
     },
     "execution_count": 121,
     "metadata": {},
     "output_type": "execute_result"
    }
   ],
   "source": [
    "df['MESSINTRA'].sort_values().unique() # No informados como  ' .'"
   ]
  },
  {
   "cell_type": "code",
   "execution_count": 122,
   "metadata": {},
   "outputs": [
    {
     "data": {
      "text/html": [
       "<div>\n",
       "<style scoped>\n",
       "    .dataframe tbody tr th:only-of-type {\n",
       "        vertical-align: middle;\n",
       "    }\n",
       "\n",
       "    .dataframe tbody tr th {\n",
       "        vertical-align: top;\n",
       "    }\n",
       "\n",
       "    .dataframe thead tr th {\n",
       "        text-align: left;\n",
       "    }\n",
       "\n",
       "    .dataframe thead tr:last-of-type th {\n",
       "        text-align: right;\n",
       "    }\n",
       "</style>\n",
       "<table border=\"1\" class=\"dataframe\">\n",
       "  <thead>\n",
       "    <tr>\n",
       "      <th></th>\n",
       "      <th>MESSINTRA</th>\n",
       "    </tr>\n",
       "    <tr>\n",
       "      <th></th>\n",
       "      <th>unique</th>\n",
       "    </tr>\n",
       "    <tr>\n",
       "      <th>TRABDOC</th>\n",
       "      <th></th>\n",
       "    </tr>\n",
       "  </thead>\n",
       "  <tbody>\n",
       "    <tr>\n",
       "      <th>0</th>\n",
       "      <td>[ .]</td>\n",
       "    </tr>\n",
       "    <tr>\n",
       "      <th>1</th>\n",
       "      <td>[ 0,  1,  9,  8, 10,  3,  6,  5,  2,  7,  4, 11, 12]</td>\n",
       "    </tr>\n",
       "  </tbody>\n",
       "</table>\n",
       "</div>"
      ],
      "text/plain": [
       "                                                    MESSINTRA\n",
       "                                                       unique\n",
       "TRABDOC                                                      \n",
       "0                                                        [ .]\n",
       "1        [ 0,  1,  9,  8, 10,  3,  6,  5,  2,  7,  4, 11, 12]"
      ]
     },
     "execution_count": 122,
     "metadata": {},
     "output_type": "execute_result"
    }
   ],
   "source": [
    "df[['MESSINTRA','TRABDOC']].groupby('TRABDOC').agg(['unique']) "
   ]
  },
  {
   "cell_type": "code",
   "execution_count": 123,
   "metadata": {},
   "outputs": [
    {
     "data": {
      "text/plain": [
       "array([ 0.,  1.,  2.,  3.,  4.,  5.,  6.,  7.,  8.,  9., 10., 11., 12.,\n",
       "       nan])"
      ]
     },
     "execution_count": 123,
     "metadata": {},
     "output_type": "execute_result"
    }
   ],
   "source": [
    "df['MESSINTRA'].replace({' .':None},inplace=True) \n",
    "df['MESSINTRA']=df['MESSINTRA'].astype('float')\n",
    "df['MESSINTRA'].sort_values().unique()"
   ]
  },
  {
   "cell_type": "markdown",
   "metadata": {},
   "source": [
    "## Nueva variable: 'Tmpo_s/T'\n",
    "(Solo para respuesta positiva en variable 'TRABDOC')   \n",
    "\n",
    "**Tiempo** transcurrido **desde la finalización de los estudios de doctorado hasta que empezó a trabajar en algo relacionado con estos**: en meses."
   ]
  },
  {
   "cell_type": "code",
   "execution_count": 124,
   "metadata": {},
   "outputs": [
    {
     "data": {
      "text/plain": [
       "array([ 0.        ,  0.08333333,  0.16666667,  0.25      ,  0.33333333,\n",
       "        0.41666667,  0.5       ,  0.58333333,  0.66666667,  0.75      ,\n",
       "        0.83333333,  0.91666667,  1.        ,  1.08333333,  1.16666667,\n",
       "        1.25      ,  1.33333333,  1.41666667,  1.5       ,  1.58333333,\n",
       "        1.66666667,  1.75      ,  1.83333333,  1.91666667,  2.        ,\n",
       "        2.08333333,  2.16666667,  2.25      ,  2.33333333,  2.41666667,\n",
       "        2.5       ,  2.58333333,  2.66666667,  2.75      ,  2.83333333,\n",
       "        2.91666667,  3.        ,  3.16666667,  3.25      ,  3.33333333,\n",
       "        3.41666667,  3.5       ,  3.58333333,  3.66666667,  3.75      ,\n",
       "        3.83333333,  3.91666667,  4.        ,  4.08333333,  4.16666667,\n",
       "        4.25      ,  4.33333333,  4.41666667,  4.58333333,  4.83333333,\n",
       "        5.        ,  5.08333333,  5.16666667,  5.25      ,  5.33333333,\n",
       "        5.5       ,  5.66666667,  6.        ,  6.16666667,  6.5       ,\n",
       "        6.75      ,  7.        ,  7.16666667,  7.25      ,  7.75      ,\n",
       "        7.91666667,  8.        ,  8.75      ,  8.83333333,  9.        ,\n",
       "        9.5       ,  9.83333333, 10.        , 10.08333333, 10.5       ,\n",
       "       12.25      , 14.        , 14.41666667, 15.        , 15.08333333,\n",
       "       16.25      , 17.58333333, 19.5       ,         nan])"
      ]
     },
     "execution_count": 124,
     "metadata": {},
     "output_type": "execute_result"
    }
   ],
   "source": [
    "df['Tmpo_s/T']=df['ANOSINTRA']+df['MESSINTRA']/12\n",
    "df['Tmpo_s/T'].sort_values().unique() # valores nulos (a reconsiderar)"
   ]
  },
  {
   "cell_type": "markdown",
   "metadata": {},
   "source": [
    "## 'SITLAB' (redefinida como 'sit_lab')\n",
    "**Situación laboral** el 31 de diciembre de 2009: 1=Empleado, 2=Desempleado, 3=Inactivo."
   ]
  },
  {
   "cell_type": "code",
   "execution_count": 125,
   "metadata": {},
   "outputs": [
    {
     "data": {
      "text/plain": [
       "array([1, 2, 3])"
      ]
     },
     "execution_count": 125,
     "metadata": {},
     "output_type": "execute_result"
    }
   ],
   "source": [
    "df['SITLAB']=df['SITLAB'].astype('int') # Sin no informados\n",
    "df['SITLAB'].unique()"
   ]
  },
  {
   "cell_type": "code",
   "execution_count": 126,
   "metadata": {},
   "outputs": [],
   "source": [
    "df['sit_lab']=df['SITLAB']"
   ]
  },
  {
   "cell_type": "code",
   "execution_count": 127,
   "metadata": {},
   "outputs": [
    {
     "name": "stdout",
     "output_type": "stream",
     "text": [
      "            aux_traduce\n",
      "                 unique\n",
      "sit_lab                \n",
      "1          [Trabajando]\n",
      "2        [En desempleo]\n",
      "3            [Inactivo]\n"
     ]
    }
   ],
   "source": [
    "traduce('sit_lab')"
   ]
  },
  {
   "cell_type": "markdown",
   "metadata": {},
   "source": [
    "## Nueva variable: 'sit_lab_detalle'\n",
    "**Detalle de situación laboral** de acuerdo con las categorías definidas para los datasets de graduados y titulados de máster universitario. "
   ]
  },
  {
   "cell_type": "code",
   "execution_count": 128,
   "metadata": {},
   "outputs": [
    {
     "name": "stdout",
     "output_type": "stream",
     "text": [
      "1 \t (Inactivo) Estudiante (estudiante o preparando oposiciones) \n",
      "2 \t (Inactivo) Jubilado\n",
      "3 \t (Inactivo) Incapacitado para trabajar\n",
      "9 \t (Ocupado) Asalariado con trabajo temporal o contrato de trabajo de duración determinada\n",
      "4 \t (Inactivo) Dedicado a las labores del hogar\n",
      "5 \t (Inactivo) Otra situación\n",
      "11 \t (Ocupado) Trabajador independiente o empresario sin asalariados\n",
      "6 \t Desempleado\n",
      "7 \t (Ocupado) Trabajador en prácticas, formación (incluido MIR, EIR, FIR,…) o becario\n",
      "8 \t (Ocupado) Asalariado con trabajo permanente o contrato de trabajo de duración indefinida\n",
      "10 \t (Ocupado) Empresario con asalariados\n",
      "12 \t (Ocupado) Ayuda en la empresa o negocio familiar\n"
     ]
    }
   ],
   "source": [
    "leyenda('sit_lab_detalle')"
   ]
  },
  {
   "cell_type": "code",
   "execution_count": 129,
   "metadata": {},
   "outputs": [
    {
     "ename": "NameError",
     "evalue": "name 'sdfghjklñlkjhbgvfd' is not defined",
     "output_type": "error",
     "traceback": [
      "\u001b[0;31m---------------------------------------------------------------------------\u001b[0m",
      "\u001b[0;31mNameError\u001b[0m                                 Traceback (most recent call last)",
      "\u001b[0;32m<ipython-input-129-c7d173b0c62a>\u001b[0m in \u001b[0;36m<module>\u001b[0;34m\u001b[0m\n\u001b[0;32m----> 1\u001b[0;31m \u001b[0msdfghjklñlkjhbgvfd\u001b[0m\u001b[0;34m\u001b[0m\u001b[0;34m\u001b[0m\u001b[0m\n\u001b[0m",
      "\u001b[0;31mNameError\u001b[0m: name 'sdfghjklñlkjhbgvfd' is not defined"
     ]
    }
   ],
   "source": [
    "sdfghjklñlkjhbgvfd"
   ]
  },
  {
   "cell_type": "code",
   "execution_count": null,
   "metadata": {},
   "outputs": [],
   "source": []
  },
  {
   "cell_type": "code",
   "execution_count": null,
   "metadata": {},
   "outputs": [],
   "source": []
  },
  {
   "cell_type": "markdown",
   "metadata": {},
   "source": [
    "## 'HTRAB'\n",
    "(Solo para respuesta 'Empleado' (1) en variable 'SITLAB')  \n",
    "\n",
    "Número medio de **horas semanales trabajadas** en diciembre de 2009. "
   ]
  },
  {
   "cell_type": "code",
   "execution_count": null,
   "metadata": {},
   "outputs": [],
   "source": [
    "df['HTRAB'].sort_values().unique() # No informados como ' .'"
   ]
  },
  {
   "cell_type": "code",
   "execution_count": null,
   "metadata": {},
   "outputs": [],
   "source": [
    "df[['SITLAB','HTRAB']].groupby('SITLAB').agg(['unique']) "
   ]
  },
  {
   "cell_type": "code",
   "execution_count": null,
   "metadata": {},
   "outputs": [],
   "source": [
    "df['HTRAB'].replace({' .':0},inplace=True) \n",
    "df['HTRAB']=df['HTRAB'].astype('int')\n",
    "df['HTRAB'].sort_values().unique()"
   ]
  },
  {
   "cell_type": "code",
   "execution_count": null,
   "metadata": {},
   "outputs": [],
   "source": [
    "# función re_sitlab: inspección e imputacion de valores de variables condicionadas por respuesta a 'SITLAB'\n",
    "def re_sitlab(col,blank,value=None,tipus='float'):\n",
    "    print (df[['SITLAB',col]].groupby('SITLAB').agg(['unique']))\n",
    "    df[col].replace({blank:value},inplace=True) \n",
    "    df[col]=df[col].astype(tipus)\n",
    "    print (df[['SITLAB',col]].groupby('SITLAB').agg(['unique']))\n",
    "    return "
   ]
  },
  {
   "cell_type": "markdown",
   "metadata": {},
   "source": [
    "## 'INGRESOS'\n",
    "(Solo para respuesta 'Empleado' (1) en variable 'SITLAB') \n",
    "\n",
    "Tramo en que se encontraban sus **ingresos brutos anuales** en 2009: 1=Menos de 10.000 euros, 2=De 10.000 a 20.000 euros, 3=De 20.001 a 30.000 euros, 4=De 30.001 a 35.000 euros, 5=De 35.001 a 40.000 euros, 6=De 40.001 a 45.000 euros, 7=De 45.001 a 50.000 euros, 8=Más de 50.000 euros. \n",
    "\n",
    "@@@@@@@@@@@@@@@@@@@@@@@@@@@@@@@@@@@@@@@@@@@@@@@@@@@@  \n",
    "Pendiente: convertir en sueldo mensual NETO"
   ]
  },
  {
   "cell_type": "code",
   "execution_count": null,
   "metadata": {},
   "outputs": [],
   "source": [
    "df['INGRESOS'].sort_values().unique() # Blank as ' '"
   ]
  },
  {
   "cell_type": "code",
   "execution_count": null,
   "metadata": {},
   "outputs": [],
   "source": [
    "re_sitlab('INGRESOS',blank=' ',value=0,tipus='int')"
   ]
  },
  {
   "cell_type": "code",
   "execution_count": null,
   "metadata": {},
   "outputs": [],
   "source": [
    "df['INGRESOS'].dtypes"
   ]
  },
  {
   "cell_type": "markdown",
   "metadata": {},
   "source": [
    "## 'AUTON'  (informa la variable 'sit_lab_detalle')\n",
    "(Solo para respuesta 'Empleado' (1) en variable 'SITLAB')  \n",
    "\n",
    "¿El 31 de diciembre de 2009 su actividad laboral principal era **trabajador por cuenta propia**? 0=No, 1=Sí. "
   ]
  },
  {
   "cell_type": "code",
   "execution_count": null,
   "metadata": {},
   "outputs": [],
   "source": [
    "df['AUTON'].sort_values().unique() # No informados como ' '"
   ]
  },
  {
   "cell_type": "code",
   "execution_count": null,
   "metadata": {},
   "outputs": [],
   "source": [
    "re_sitlab('AUTON',blank=' ',value=0,tipus='int')"
   ]
  },
  {
   "cell_type": "markdown",
   "metadata": {},
   "source": [
    "## 'CNAE2'\n",
    "(Solo para respuesta 'Empleado' (1) en variable 'SITLAB')  \n",
    "\n",
    "Descripción de la **actividad principal** de la empresa en la que trabaja de acuerdo con la clasificación CNAE-2009. "
   ]
  },
  {
   "cell_type": "code",
   "execution_count": null,
   "metadata": {},
   "outputs": [],
   "source": [
    "df['CNAE2'].sort_values().unique() # No informados como 'NN'"
   ]
  },
  {
   "cell_type": "code",
   "execution_count": null,
   "metadata": {},
   "outputs": [],
   "source": [
    "re_sitlab('CNAE2',blank='NN')"
   ]
  },
  {
   "cell_type": "markdown",
   "metadata": {},
   "source": [
    "## 'ANOINIALP'\n",
    "(Solo para respuesta 'Empleado' (1) en variable 'SITLAB') \n",
    "\n",
    "**Año en que empezó a trabajar** en la organización.  "
   ]
  },
  {
   "cell_type": "code",
   "execution_count": null,
   "metadata": {},
   "outputs": [],
   "source": [
    "df['ANOINIALP'].sort_values().unique() # No informados como '   .'"
   ]
  },
  {
   "cell_type": "code",
   "execution_count": null,
   "metadata": {},
   "outputs": [],
   "source": [
    "re_sitlab('ANOINIALP',blank='   .')"
   ]
  },
  {
   "cell_type": "markdown",
   "metadata": {},
   "source": [
    "## 'CAEMPP'\n",
    "(Solo para respuesta 'Empleado' (1) en variable 'SITLAB')  \n",
    "\n",
    "**CCAA** en la que desarrolla su **actividad laboral principal** el 31 de diciembre de 2009: '01'=Andalucía, '02'=Aragón, '03'=Asturias (Principado de), '04'=Balears (Illes), '05'=Canarias, '06'=Cantabria, '07'=Castilla y León, '08'=Castilla - La Mancha, '09'=Cataluña, '10'=Comunidad Valenciana, '11'=Extremadura, '12'=Galicia, '13'=Madrid (Comunidad de), '14'=Murcia (Región de), '15'=Navarra (Comunidad Foral de), '16'=País Vasco, '17'=Rioja (La), '18'=Ceuta y Melilla. "
   ]
  },
  {
   "cell_type": "code",
   "execution_count": null,
   "metadata": {},
   "outputs": [],
   "source": [
    "df['CAEMP'].sort_values().unique() # No informados como 'NN'"
   ]
  },
  {
   "cell_type": "code",
   "execution_count": null,
   "metadata": {},
   "outputs": [],
   "source": [
    "re_sitlab('CAEMP',blank='NN')"
   ]
  },
  {
   "cell_type": "markdown",
   "metadata": {},
   "source": [
    "## 'CONTEMP'\n",
    "(Solo para respuesta 'Empleado' (1) en variable 'SITLAB')  \n",
    "\n",
    "**Continente** en la que desarrolla su **actividad laboral principal** el 31 de diciembre de 2009: 'EU27'=Unión Europea, 'REUR'=Resto de Europa, 'EUCA'=EEUU y Canadá, 'RAME'=Resto de América, 'AFRI' = África, 'ASIA'=Asia, 'OCEA'=Oceanía, 'NNNN'=Blanco."
   ]
  },
  {
   "cell_type": "code",
   "execution_count": null,
   "metadata": {},
   "outputs": [],
   "source": [
    "df['CONTEMP'].sort_values().unique() # No informados como 'NNNN'"
   ]
  },
  {
   "cell_type": "code",
   "execution_count": null,
   "metadata": {},
   "outputs": [],
   "source": [
    "re_sitlab('CONTEMP',blank='NNNN',tipus='object')"
   ]
  },
  {
   "cell_type": "markdown",
   "metadata": {},
   "source": [
    "## 'SECTOR'\n",
    "(Solo para respuesta 'Empleado' (1) en variable 'SITLAB')  \n",
    "\n",
    "**Sector** al que pertenece la organización en la que trabajaba el 31 de diciembre de 2009: 1=Empresas, 2=AAPP, 3=Enseñanza superior, 4=IPSFL."
   ]
  },
  {
   "cell_type": "code",
   "execution_count": null,
   "metadata": {},
   "outputs": [],
   "source": [
    "df['SECTOR'].sort_values().unique() # No informados como ' '"
   ]
  },
  {
   "cell_type": "code",
   "execution_count": null,
   "metadata": {},
   "outputs": [],
   "source": [
    "re_sitlab('SECTOR',blank=' ')"
   ]
  },
  {
   "cell_type": "markdown",
   "metadata": {},
   "source": [
    "## 'CODALP'\n",
    "(Solo para respuesta 'Empleado' en variable 'SITLAB')  \n",
    "\n",
    "**Actividad laboral** que desarrollaba el 31 de diciembre de 2009 de acuerdo con la Clasificación internacional uniforme de ocupaciones (ISCO-08): \n",
    "\n",
    "100=Directores y gerentes\n",
    "\n",
    "Profesionales científicos e intelectuales: 211=Físicos, químicos y profesionales afines, 212=Matemáticos, actuarios y estadísticos, 213=Profesionales en ciencias biológicas, 214=Ingenieros ( excluyendo electrotecnólogos), 215=Ingenieros en electrotecnología, 216=Arquitectos, urbanistas, agrimensores y diseñadores, 221=Médicos, 222=Profesionales de enfermería y partería, 223=Profesionales de medicina tradicional y alternativa, 224=Practicantes paramédicos, 225=Practicantes, paramédicos, 226=Otros profesionales de la salud, 231=Profesores de universidades y otros establecimientos de la enseñanza superior, 232=Profesores de formación profesional, 233=Profesores de enseñanza secundaria, 234=Maestros de enseñanza primaria y maestros preescolares, 235=Otros profesionales de la enseñanza, 241=Especialistas en finanzas, 242=Especialistas en organización de administración, 243=Profesionales de las ventas, la comercialización y las relaciones públicas, 251=Desarrolladores y analistas de software y multimedia, 252=Especialistas en bases de datos y en redes de computadores, 261=Profesionales en derecho, 262=Archivistas, bibliotecarios, curadores y afines, 263=Especialistas en ciencias sociales y teología\n",
    "264=Autores, periodistas y lingüistas, 265=Artistas creativos e interpretativos\n",
    "\n",
    "Técnicos y profesionales de nivel medio: 311=Técnicos en ciencias físicas y en ingeniería, 312=Supervisores en ingeniería de minas, de industrias manufactureras y de la construcción, 313=Técnicos en control de procesos, 314=Técnicos y profesionales de nivel medio en ciencias biológicas y afines, 315=Técnicos y controladores en navegación marítima y aeronáutica, 400=Personal de apoyo administrativo, 500=Trabajadores de los servicios y vendedores de comercios y mercados, 600=Agricultores y trabajadores calificados agropecuarios y pesqueros\n",
    "700=Oficiales, operarios y artesanos de artes mecánicas y de otros oficios, 800=Operadores de instalaciones y máquinas y ensambladores, 900=Ocupaciones elementales, 000=Ocupaciones militares"
   ]
  },
  {
   "cell_type": "code",
   "execution_count": null,
   "metadata": {},
   "outputs": [],
   "source": [
    "df['CODALP'].sort_values().unique() # No informados como 'NNN'"
   ]
  },
  {
   "cell_type": "code",
   "execution_count": null,
   "metadata": {},
   "outputs": [],
   "source": [
    "df['CODALP'].nunique()"
   ]
  },
  {
   "cell_type": "code",
   "execution_count": null,
   "metadata": {},
   "outputs": [],
   "source": [
    "re_sitlab('CODALP',blank='NNN')"
   ]
  },
  {
   "cell_type": "markdown",
   "metadata": {},
   "source": [
    "## 'CATEGPROF'\n",
    "(Solo para respuesta 231 en variable 'CODALP')  \n",
    "\n",
    "**Categoría profesional o puesto de trabajo** que ocupaba el 31 de diciembre de 2009: 1=Catedrático, 2=Profesor titular, 3=Profesor asociado, emerito, visitante, ayudante o similar, 4=Otro."
   ]
  },
  {
   "cell_type": "code",
   "execution_count": null,
   "metadata": {},
   "outputs": [],
   "source": [
    "df['CATEGPROF'].sort_values().unique() # No informados como ' '"
   ]
  },
  {
   "cell_type": "code",
   "execution_count": null,
   "metadata": {},
   "outputs": [],
   "source": [
    "df[['CODALP','CATEGPROF']].groupby('CODALP',dropna=False).agg(['unique']) # Inspección"
   ]
  },
  {
   "cell_type": "code",
   "execution_count": null,
   "metadata": {},
   "outputs": [],
   "source": [
    "df['CATEGPROF'].replace({' ':np.nan},inplace=True) # None para 'CODALP' distinto de 231\n",
    "df['CATEGPROF']=df['CATEGPROF'].astype('float')\n",
    "df['CATEGPROF'].sort_values().unique()"
   ]
  },
  {
   "cell_type": "markdown",
   "metadata": {},
   "source": [
    "## 'HLECT'\n",
    "(Solo para respuesta 'Empleado' (1) en variable 'SITLAB')  \n",
    "\n",
    "Proporción de su trabajo dedicado a **actividades de docencia**: 1=Nada, 2=Menos del 25 %; 3=Del 25 a 50 %; 4=Del 50 al 75 %; 5=Más del 75%. "
   ]
  },
  {
   "cell_type": "code",
   "execution_count": null,
   "metadata": {},
   "outputs": [],
   "source": [
    "df['HLECT']=df['HLECT']\n",
    "df['HLECT'].sort_values().unique() # No informados como ' '"
   ]
  },
  {
   "cell_type": "code",
   "execution_count": null,
   "metadata": {},
   "outputs": [],
   "source": [
    "re_sitlab('HLECT',blank=' ')"
   ]
  },
  {
   "cell_type": "markdown",
   "metadata": {},
   "source": [
    "## 'TIPOCONT' (informa la variable 'sit_lab_detalle')\n",
    "(Solo para respuesta 'Empleado' (1) en variable 'SITLAB')  \n",
    "\n",
    "**Tipo de contrato** al que estaba sujeto: 1=Indefinido, 2=Temporal. "
   ]
  },
  {
   "cell_type": "code",
   "execution_count": null,
   "metadata": {},
   "outputs": [],
   "source": [
    "leyenda('sit_lab_detalle')"
   ]
  },
  {
   "cell_type": "code",
   "execution_count": null,
   "metadata": {},
   "outputs": [],
   "source": [
    "df['TIPOCONT'].sort_values().unique() # no informados como ' '"
   ]
  },
  {
   "cell_type": "code",
   "execution_count": null,
   "metadata": {},
   "outputs": [],
   "source": [
    "df[['SITLAB','TIPOCONT','AUTON']].groupby(['SITLAB','AUTON']).agg(['unique']) # Inspección"
   ]
  },
  {
   "cell_type": "code",
   "execution_count": null,
   "metadata": {},
   "outputs": [],
   "source": [
    "df['TIPOCONT'].replace({' ':None},inplace=True) \n",
    "df['TIPOCONT']=df['TIPOCONT'].astype('float')\n",
    "df['TIPOCONT'].sort_values().unique()"
   ]
  },
  {
   "cell_type": "markdown",
   "metadata": {},
   "source": [
    "#### 'JORLAB'\n",
    "(Solo para respuesta 'Empleado' (1) en variable 'SITLAB') \n",
    "\n",
    "Tipo de **jornada laboral**: 1=A tiempo completo, 2=A tiempo parcial."
   ]
  },
  {
   "cell_type": "code",
   "execution_count": null,
   "metadata": {},
   "outputs": [],
   "source": [
    "df['JORLAB'].sort_values().unique() # Blank as ' '"
   ]
  },
  {
   "cell_type": "code",
   "execution_count": null,
   "metadata": {},
   "outputs": [],
   "source": [
    "df[['SITLAB','JORLAB']].groupby('SITLAB').agg(['unique']) # No missing values"
   ]
  },
  {
   "cell_type": "code",
   "execution_count": null,
   "metadata": {},
   "outputs": [],
   "source": [
    "df['JORLAB'].replace({' ':None},inplace=True) # None for 'SITLAB' different from 1 \n",
    "df['JORLAB']=df['JORLAB'].astype('float')\n",
    "df['JORLAB'].sort_values().unique()"
   ]
  },
  {
   "cell_type": "markdown",
   "metadata": {},
   "source": [
    "#### 'BUSCATRAB'\n",
    "(Solo para respuesta 'Empleado' (1) en variable 'SITLAB' y respuesta 'Tiempo parcial' (2) en variable 'JORLAB') \n",
    "\n",
    "¿Estaba usted **buscando un trabajo a tiempo completo** en diciembre de 2009? 0=No, 1=Sí."
   ]
  },
  {
   "cell_type": "code",
   "execution_count": null,
   "metadata": {},
   "outputs": [],
   "source": [
    "df['BUSCATRAB'].sort_values().unique() # Blank as ' '"
   ]
  },
  {
   "cell_type": "code",
   "execution_count": null,
   "metadata": {},
   "outputs": [],
   "source": [
    "df[['SITLAB','JORLAB','BUSCATRAB']].groupby(['SITLAB','JORLAB'],dropna=False).agg(['unique']) \n",
    "#  No missing values"
   ]
  },
  {
   "cell_type": "code",
   "execution_count": null,
   "metadata": {},
   "outputs": [],
   "source": [
    "df['BUSCATRAB'].replace({' ':None},inplace=True) \n",
    "# None for 'SITLAB' different from 1 and 'JORLAB' different from 2\n",
    "df['BUSCATRAB']=df['BUSCATRAB'].astype('float')\n",
    "df['BUSCATRAB'].sort_values().unique()"
   ]
  },
  {
   "cell_type": "markdown",
   "metadata": {},
   "source": [
    "#### 'NIVELMIN'\n",
    "(Solo para respuesta 'Empleado' (1) en variable 'SITLAB') \n",
    "\n",
    "**Nivel mínimo requerido para el puesto** que tenía usted en su trabajo principal el 31 de diciembre de 2009: 1=Postdoctorado, 2=Doctor universitario, 3=Licenciado, arquitecto, ingeniero, 4=Diplomado, arquitecto técnico, ingeniero técnico, 5=Ciclos formativos de grado superior, 6=Ciclos formativos de grado medio,bachiller, 7= Otros."
   ]
  },
  {
   "cell_type": "code",
   "execution_count": null,
   "metadata": {},
   "outputs": [],
   "source": [
    "df['NIVELMIN'].sort_values().unique() # Blank as ' '"
   ]
  },
  {
   "cell_type": "code",
   "execution_count": null,
   "metadata": {},
   "outputs": [],
   "source": [
    "re_sitlab('NIVELMIN',blank=' ')"
   ]
  },
  {
   "cell_type": "markdown",
   "metadata": {},
   "source": [
    "#### 'NIVELEST'\n",
    "(Solo para respuesta 'Empleado' (1) en variable 'SITLAB')  \n",
    "\n",
    "**Nivel** que considera que es el **adecuado para el puesto** que tenía usted en su trabajo principal el 31 de\n",
    "diciembre de 2009: 1=Postdoctorado, 2=Doctor universitario, 3=Licenciado, arquitecto, ingeniero, 4=Diplomado, arquitecto técnico, ingeniero técnico, 5=Ciclos formativos de grado superior, 6=Ciclos formativos de grado medio,bachiller, 7= Otros."
   ]
  },
  {
   "cell_type": "code",
   "execution_count": null,
   "metadata": {},
   "outputs": [],
   "source": [
    "df['NIVELEST'].sort_values().unique() # Blank as ' '"
   ]
  },
  {
   "cell_type": "code",
   "execution_count": null,
   "metadata": {},
   "outputs": [],
   "source": [
    "re_sitlab('NIVELEST',blank=' ')"
   ]
  },
  {
   "cell_type": "markdown",
   "metadata": {},
   "source": [
    "#### 'RELTRABDOC'\n",
    "(Solo para respuesta 'Empleado' (1) en variable 'SITLAB')  \n",
    "\n",
    "Grado de **relación entre el trabajo principal** que desempeñaba a 31 de diciembre de 2009 **y sus estudios\n",
    "de doctorado**:1=Alto, 2=Medio, 3=Bajo."
   ]
  },
  {
   "cell_type": "code",
   "execution_count": null,
   "metadata": {},
   "outputs": [],
   "source": [
    "df['RELTRABDOC'].sort_values().unique() # Blank as ' '"
   ]
  },
  {
   "cell_type": "code",
   "execution_count": null,
   "metadata": {},
   "outputs": [],
   "source": [
    "re_sitlab('RELTRABDOC',blank=' ')"
   ]
  },
  {
   "cell_type": "markdown",
   "metadata": {},
   "source": [
    "#### 'NIVELSAT1'\n",
    "(Solo para respuesta 'Empleado' (1) en variable 'SITLAB')  \n",
    "\n",
    "Nivel de **satisfacción con su salario** el 31 de diciembre de 2009: 1=Alto, 2=Medio, 3=Bajo, 4=Ninguno."
   ]
  },
  {
   "cell_type": "code",
   "execution_count": null,
   "metadata": {},
   "outputs": [],
   "source": [
    "df['NIVELSAT1'].sort_values().unique() # Blank as ' '"
   ]
  },
  {
   "cell_type": "code",
   "execution_count": null,
   "metadata": {},
   "outputs": [],
   "source": [
    "re_sitlab('NIVELSAT1',blank=' ')"
   ]
  },
  {
   "cell_type": "markdown",
   "metadata": {},
   "source": [
    "#### 'NIVELSAT2'\n",
    "(Solo para respuesta 'Empleado' (1) en variable 'SITLAB')  \n",
    "\n",
    "Nivel de **satisfacción con sus beneficios económicos** el 31 de diciembre de 2009: 1=Alto, 2=Medio, 3=Bajo, 4=Ninguno."
   ]
  },
  {
   "cell_type": "code",
   "execution_count": null,
   "metadata": {},
   "outputs": [],
   "source": [
    "re_sitlab('NIVELSAT2',blank=' ')"
   ]
  },
  {
   "cell_type": "markdown",
   "metadata": {},
   "source": [
    "#### 'NIVELSAT3'\n",
    "(Solo para respuesta 'Empleado' (1) en variable 'SITLAB')\n",
    "\n",
    "Nivel de **satisfacción con su estabilidad laboral** el 31 de diciembre de 2009: 1=Alto, 2=Medio, 3=Bajo, 4=Ninguno."
   ]
  },
  {
   "cell_type": "code",
   "execution_count": null,
   "metadata": {},
   "outputs": [],
   "source": [
    "re_sitlab('NIVELSAT3',blank=' ')"
   ]
  },
  {
   "cell_type": "markdown",
   "metadata": {},
   "source": [
    "#### 'NIVELSAT4'\n",
    "(Solo para respuesta 'Empleado' (1) en variable 'SITLAB')  \n",
    "\n",
    "Nivel de **satisfacción con su localización laboral** el 31 de diciembre de 2009: 1=Alto, 2=Medio, 3=Bajo, 4=Ninguno."
   ]
  },
  {
   "cell_type": "code",
   "execution_count": null,
   "metadata": {},
   "outputs": [],
   "source": [
    "re_sitlab('NIVELSAT4',blank=' ')"
   ]
  },
  {
   "cell_type": "markdown",
   "metadata": {},
   "source": [
    "#### 'NIVELSAT5'\n",
    "(Solo para respuesta 'Empleado' (1) en variable 'SITLAB')  \n",
    "\n",
    "Nivel de **satisfacción con sus condiciones laborales** el 31 de diciembre de 2009: 1=Alto, 2=Medio, 3=Bajo, 4=Ninguno."
   ]
  },
  {
   "cell_type": "code",
   "execution_count": null,
   "metadata": {},
   "outputs": [],
   "source": [
    "re_sitlab('NIVELSAT5',blank=' ')"
   ]
  },
  {
   "cell_type": "markdown",
   "metadata": {},
   "source": [
    "#### 'NIVELSAT6'\n",
    "(Solo para respuesta 'Empleado' (1) en variable 'SITLAB')  \n",
    "\n",
    "Nivel de **satisfacción con sus oportunidades para promocionar** el 31 de diciembre de 2009: 1=Alto, 2=Medio, 3=Bajo, 4=Ninguno."
   ]
  },
  {
   "cell_type": "code",
   "execution_count": null,
   "metadata": {},
   "outputs": [],
   "source": [
    "re_sitlab('NIVELSAT6',blank=' ')"
   ]
  },
  {
   "cell_type": "markdown",
   "metadata": {},
   "source": [
    "#### 'NIVELSAT7'\n",
    "(Solo para respuesta 'Empleado' (1) en variable 'SITLAB')  \n",
    "\n",
    "Nivel de **satisfacción con el componente o reto intelectual** el 31 de diciembre de 2009: 1=Alto, 2=Medio, 3=Bajo, 4=Ninguno."
   ]
  },
  {
   "cell_type": "code",
   "execution_count": null,
   "metadata": {},
   "outputs": [],
   "source": [
    "re_sitlab('NIVELSAT7',blank=' ')"
   ]
  },
  {
   "cell_type": "markdown",
   "metadata": {},
   "source": [
    "#### 'NIVELSAT8'\n",
    "(Solo para respuesta 'Empleado' (1) en variable 'SITLAB')  \n",
    "\n",
    "Nivel de **satisfacción con su nivel de responsabilidad** el 31 de diciembre de 2009: 1=Alto, 2=Medio, 3=Bajo, 4=Ninguno."
   ]
  },
  {
   "cell_type": "code",
   "execution_count": null,
   "metadata": {},
   "outputs": [],
   "source": [
    "re_sitlab('NIVELSAT8',blank=' ')"
   ]
  },
  {
   "cell_type": "markdown",
   "metadata": {},
   "source": [
    "#### 'NIVELSAT9'\n",
    "(Solo para respuesta 'Empleado' (1) en variable 'SITLAB')  \n",
    "\n",
    "Nivel de **satisfacción con su grado de independencia** el 31 de diciembre de 2009: 1=Alto, 2=Medio, 3=Bajo, 4=Ninguno."
   ]
  },
  {
   "cell_type": "code",
   "execution_count": null,
   "metadata": {},
   "outputs": [],
   "source": [
    "re_sitlab('NIVELSAT9',blank=' ')"
   ]
  },
  {
   "cell_type": "markdown",
   "metadata": {},
   "source": [
    "#### 'NIVELSAT10'\n",
    "(Solo para respuesta 'Empleado' (1) en variable 'SITLAB')  \n",
    "Nivel de **satisfacción con su contribución a la sociedad** el 31 de diciembre de 2009: 1=Alto, 2=Medio, 3=Bajo, 4=Ninguno."
   ]
  },
  {
   "cell_type": "code",
   "execution_count": null,
   "metadata": {},
   "outputs": [],
   "source": [
    "re_sitlab('NIVELSAT10',blank=' ')"
   ]
  },
  {
   "cell_type": "markdown",
   "metadata": {},
   "source": [
    "#### 'NIVELSAT11'\n",
    "(Solo para respuesta 'Empleado' (1) en variable 'SITLAB')  \n",
    "\n",
    "Nivel de **satisfacción con su estatus social** el 31 de diciembre de 2009: 1=Alto, 2=Medio, 3=Bajo, 4=Ninguno."
   ]
  },
  {
   "cell_type": "code",
   "execution_count": null,
   "metadata": {},
   "outputs": [],
   "source": [
    "re_sitlab('NIVELSAT11',blank=' ')"
   ]
  },
  {
   "cell_type": "markdown",
   "metadata": {},
   "source": [
    "#### 'NIVELSAT12'\n",
    "(Solo para respuesta 'Empleado' (1) en variable 'SITLAB')  \n",
    "\n",
    "Nivel de **satisfacción con sus conciliación horario laboral/actividades personales** el 31 de diciembre de 2009: 1=Alto, 2=Medio, 3=Bajo, 4=Ninguno."
   ]
  },
  {
   "cell_type": "code",
   "execution_count": null,
   "metadata": {},
   "outputs": [],
   "source": [
    "re_sitlab('NIVELSAT12',blank=' ')"
   ]
  },
  {
   "cell_type": "markdown",
   "metadata": {},
   "source": [
    "#### 'NIVELSAT13'\n",
    "(Solo para respuesta 'Empleado' (1) en variable 'SITLAB')  \n",
    "\n",
    "**Evaluación global de satisfacción** el 31 de diciembre de 2009: 1=Alta, 2=Media, 3=Baja, 4=Ninguna."
   ]
  },
  {
   "cell_type": "code",
   "execution_count": null,
   "metadata": {},
   "outputs": [],
   "source": [
    "re_sitlab('NIVELSAT13',blank=' ')"
   ]
  },
  {
   "cell_type": "markdown",
   "metadata": {},
   "source": [
    "#### 'ACTIANT'\n",
    "(Solo para respuesta 'Empleado' (1) en variable 'SITLAB')  \n",
    "\n",
    "En los últimos 5 años, ¿ha desempeñado **alguna actividad laboral distinta** de la que desarrollaba a 31 de diciembre\n",
    "de 2009? 0=No, 1=Sí."
   ]
  },
  {
   "cell_type": "code",
   "execution_count": null,
   "metadata": {},
   "outputs": [],
   "source": [
    "df['ACTIANT']=df['ACTIANT']\n",
    "df['ACTIANT'].sort_values().unique() # Blank as ' '"
   ]
  },
  {
   "cell_type": "code",
   "execution_count": null,
   "metadata": {},
   "outputs": [],
   "source": [
    "re_sitlab('ACTIANT',blank=' ')"
   ]
  },
  {
   "cell_type": "markdown",
   "metadata": {},
   "source": [
    "#### 'SECTORANT'\n",
    "(Solo para respuesta 'Empleado' (1) en variable 'SITLAB' y respuesta 'Sí' (1) en la variable 'ACTIANT')  \n",
    "\n",
    "**Sector** al que pertenece la organización en la que trabajaba en su **actividad anterior**: 1=Empresas, 2=AAPP, 3=Enseñanza superior, 4=IPSFL."
   ]
  },
  {
   "cell_type": "code",
   "execution_count": null,
   "metadata": {},
   "outputs": [],
   "source": [
    "df['SECTORANT'].sort_values().unique() # Blank as ' '"
   ]
  },
  {
   "cell_type": "code",
   "execution_count": null,
   "metadata": {},
   "outputs": [],
   "source": [
    "# Función re_actiant: inspección e imputación de valores de variables condicionadas por respuesta a 'ACTIANT'\n",
    "def re_actiant(col,blank,value=None,tipus='float'):\n",
    "    print (df[['SITLAB','ACTIANT',col]].groupby(['SITLAB','ACTIANT'],dropna=False).agg(['unique']))\n",
    "    df[col].replace({blank:value},inplace=True) \n",
    "    df[col]=df[col].astype(tipus)\n",
    "    print (df[['SITLAB','ACTIANT',col]].groupby(['SITLAB','ACTIANT'],dropna=False).agg(['unique']))\n",
    "    return "
   ]
  },
  {
   "cell_type": "code",
   "execution_count": null,
   "metadata": {},
   "outputs": [],
   "source": [
    "re_actiant('SECTORANT',blank=' ')"
   ]
  },
  {
   "cell_type": "markdown",
   "metadata": {},
   "source": [
    "#### 'ACTIPRIANT'\n",
    "(Solo para respuesta 'Empleado' (1) en variable 'SITLAB' y respuesta 'Sí' (1) en la variable 'ACTIANT')  \n",
    "\n",
    "**Actividad laboral** que desarrollaba en su **ocupación anterior** de acuerdo con la Clasificación internacional uniforme de ocupaciones (ISCO-08) (Códigos: véase la variable 'CODALP')."
   ]
  },
  {
   "cell_type": "code",
   "execution_count": null,
   "metadata": {},
   "outputs": [],
   "source": [
    "df['ACTIPRIANT'].sort_values().unique() # Blank as 'NNN'"
   ]
  },
  {
   "cell_type": "code",
   "execution_count": null,
   "metadata": {},
   "outputs": [],
   "source": [
    "re_actiant('ACTIPRIANT',blank='NNN')"
   ]
  },
  {
   "cell_type": "markdown",
   "metadata": {},
   "source": [
    "#### 'ACTIANTANO'\n",
    "(Solo para respuesta 'Empleado' (1) en variable 'SITLAB' y respuesta 'Sí' (1) en la variable 'ACTIANT')  \n",
    "\n",
    "Duración de su **ocupación anterior: años completos**."
   ]
  },
  {
   "cell_type": "code",
   "execution_count": null,
   "metadata": {},
   "outputs": [],
   "source": [
    "df['ACTIANTANO'].sort_values().unique() # Blank as ' .'"
   ]
  },
  {
   "cell_type": "code",
   "execution_count": null,
   "metadata": {},
   "outputs": [],
   "source": [
    "re_actiant('ACTIANTANO',blank=' .')"
   ]
  },
  {
   "cell_type": "markdown",
   "metadata": {},
   "source": [
    "#### 'ACTIANTMES'\n",
    "(Solo para respuesta 'Empleado' (1) en variable 'SITLAB' y respuesta 'Sí' (1) en la variable 'ACTIANT')  \n",
    "\n",
    "Duración de su **ocupación anterior: meses** que exceden los años declarados en 'ACTIANTANO'."
   ]
  },
  {
   "cell_type": "code",
   "execution_count": null,
   "metadata": {},
   "outputs": [],
   "source": [
    "df['ACTIANTMES'].sort_values().unique() # Blank as ' .'"
   ]
  },
  {
   "cell_type": "code",
   "execution_count": null,
   "metadata": {},
   "outputs": [],
   "source": [
    "re_actiant('ACTIANTMES',blank=' .')"
   ]
  },
  {
   "cell_type": "code",
   "execution_count": null,
   "metadata": {},
   "outputs": [],
   "source": [
    "# New variable (not in original dataset):\n",
    "df['Temp_act_ant']=df['ACTIANTANO']+df['ACTIANTMES']/12\n",
    "df['Temp_act_ant'].sort_values().unique() # VALORES NULOS. ¿DESCARTAR?"
   ]
  },
  {
   "cell_type": "markdown",
   "metadata": {},
   "source": [
    "#### 'TRABPOS'\n",
    "(Solo para respuesta 'Empleado' (1) en variable 'SITLAB')  \n",
    "\n",
    "¿Era un **puesto postdoctoral** su principal empleo el 31 de diciembre de 2009? 0=No, 1=Sí. "
   ]
  },
  {
   "cell_type": "code",
   "execution_count": null,
   "metadata": {},
   "outputs": [],
   "source": [
    "df['TRABPOS'].sort_values().unique() # Blank as ' '"
   ]
  },
  {
   "cell_type": "code",
   "execution_count": null,
   "metadata": {},
   "outputs": [],
   "source": [
    "re_sitlab('TRABPOS',blank=' ')"
   ]
  },
  {
   "cell_type": "markdown",
   "metadata": {},
   "source": [
    "#### 'MOTIVOPOS1'\n",
    "(Solo para respuesta 'Empleado' (1) en variable 'SITLAB' y 'Sí' (1) en la variable 'TRABPOS')  \n",
    "\n",
    "¿Era **realizar prácticas en su campo de estudio** una de las razones para realizar ese trabajo de postdoctorado? 0=No, 1=Sí. "
   ]
  },
  {
   "cell_type": "code",
   "execution_count": null,
   "metadata": {},
   "outputs": [],
   "source": [
    "df['MOTIVOPOS1'].sort_values().unique() # Blank as ' '"
   ]
  },
  {
   "cell_type": "code",
   "execution_count": null,
   "metadata": {},
   "outputs": [],
   "source": [
    "# Función re_trabpos: Inspección e imputación de valores de variables condicionadas por respuesta a 'TRABPOS'\n",
    "def re_trabpos(col,blank=' ',value=None,tipus='float'):\n",
    "    print (df[['SITLAB','TRABPOS',col]].groupby(['SITLAB','TRABPOS'],dropna=False).agg(['unique']))\n",
    "    df[col].replace({blank:value},inplace=True) \n",
    "    df[col]=df[col].astype(tipus)\n",
    "    print (df[['SITLAB','TRABPOS',col]].groupby(['SITLAB','TRABPOS'],dropna=False).agg(['unique']))\n",
    "    return "
   ]
  },
  {
   "cell_type": "code",
   "execution_count": null,
   "metadata": {},
   "outputs": [],
   "source": [
    "re_trabpos('MOTIVOPOS1')"
   ]
  },
  {
   "cell_type": "markdown",
   "metadata": {},
   "source": [
    "#### 'MOTIVOPOS2'\n",
    "(Solo para respuesta 'Empleado' (1) en variable 'SITLAB' y 'Sí' (1) en la variable 'TRABPOS')  \n",
    "\n",
    "¿Era **realizar prácticas en un campo diferente al suyo** una de las razones para realizar ese trabajo de postdoctorado? 0=No, 1=Sí. "
   ]
  },
  {
   "cell_type": "code",
   "execution_count": null,
   "metadata": {},
   "outputs": [],
   "source": [
    "re_trabpos('MOTIVOPOS2')"
   ]
  },
  {
   "cell_type": "markdown",
   "metadata": {},
   "source": [
    "#### 'MOTIVOPOS3'\n",
    "(Solo para respuesta 'Empleado' (1) en variable 'SITLAB' y 'Sí' (1) en la variable 'TRABPOS')  \n",
    "\n",
    "¿Era **realizar investigación de forma independiente** una de las razones para realizar ese trabajo de postdoctorado? 0=No, 1=Sí. "
   ]
  },
  {
   "cell_type": "code",
   "execution_count": null,
   "metadata": {},
   "outputs": [],
   "source": [
    "re_trabpos('MOTIVOPOS3')"
   ]
  },
  {
   "cell_type": "markdown",
   "metadata": {},
   "source": [
    "#### 'MOTIVOPOS4'\n",
    "(Solo para respuesta 'Empleado' (1) en variable 'SITLAB' y 'Sí' (1) en la variable 'TRABPOS')  \n",
    "\n",
    "¿Era **trabajar con una persona específica o en un lugar concreto** una de las razones para realizar ese trabajo de postdoctorado? 0=No, 1=Sí. "
   ]
  },
  {
   "cell_type": "code",
   "execution_count": null,
   "metadata": {},
   "outputs": [],
   "source": [
    "re_trabpos('MOTIVOPOS4')"
   ]
  },
  {
   "cell_type": "markdown",
   "metadata": {},
   "source": [
    "#### 'MOTIVOPOS5'\n",
    "(Solo para respuesta 'Empleado' (1) en variable 'SITLAB' y 'Sí' (1) en la variable 'TRABPOS')  \n",
    "\n",
    "¿Era **llevar a cabo actividades docentes** una de las razones para realizar ese trabajo de postdoctorado? 0=No, 1=Sí. "
   ]
  },
  {
   "cell_type": "code",
   "execution_count": null,
   "metadata": {},
   "outputs": [],
   "source": [
    "re_trabpos('MOTIVOPOS5')"
   ]
  },
  {
   "cell_type": "markdown",
   "metadata": {},
   "source": [
    "#### 'MOTIVOPOS6'\n",
    "(Solo para respuesta 'Empleado' (1) en variable 'SITLAB' y 'Sí' (1) en la variable 'TRABPOS')  \n",
    "\n",
    "¿Era **no haber podido elegir otro empleo** una de las razones para realizar ese trabajo de postdoctorado? 0=No, 1=Sí. "
   ]
  },
  {
   "cell_type": "code",
   "execution_count": null,
   "metadata": {},
   "outputs": [],
   "source": [
    "re_trabpos('MOTIVOPOS6')"
   ]
  },
  {
   "cell_type": "markdown",
   "metadata": {},
   "source": [
    "#### 'MOTIVOPOS7'\n",
    "(Solo para respuesta 'Empleado' (1) en variable 'SITLAB' y 'Sí' (1) en la variable 'TRABPOS')  \n",
    "\n",
    "¿Era que es el **trabajo que se suele realizar en su campo de estudio** una de las razones para realizar ese trabajo de postdoctorado? 0=No, 1=Sí. "
   ]
  },
  {
   "cell_type": "code",
   "execution_count": null,
   "metadata": {},
   "outputs": [],
   "source": [
    "re_trabpos('MOTIVOPOS7')"
   ]
  },
  {
   "cell_type": "markdown",
   "metadata": {},
   "source": [
    "#### 'MOTIVOPOS8'\n",
    "(Solo para respuesta 'Empleado' (1) en variable 'SITLAB' y 'Sí' (1) en la variable 'TRABPOS')  \n",
    "\n",
    "¿Eran **otras razones** las que le llevaron a realizar ese trabajo de postdoctorado? 0=No, 1=Sí. "
   ]
  },
  {
   "cell_type": "code",
   "execution_count": null,
   "metadata": {},
   "outputs": [],
   "source": [
    "re_trabpos('MOTIVOPOS8')"
   ]
  },
  {
   "cell_type": "markdown",
   "metadata": {},
   "source": [
    "#### 'PORCINVES'\n",
    "(Solo para respuesta 'Empleado' (1) en variable 'SITLAB' y 'Sí' (1) en la variable 'TRABPOS')  \n",
    "\n",
    "Porcentaje de su tiempo como postdoctorado empleado en **actividades de investigación**."
   ]
  },
  {
   "cell_type": "code",
   "execution_count": null,
   "metadata": {
    "scrolled": true
   },
   "outputs": [],
   "source": [
    "df['PORCINVES'].sort_values().unique() # Blank as '  .'"
   ]
  },
  {
   "cell_type": "code",
   "execution_count": null,
   "metadata": {},
   "outputs": [],
   "source": [
    "re_trabpos('PORCINVES',blank='  .')"
   ]
  },
  {
   "cell_type": "markdown",
   "metadata": {},
   "source": [
    "#### 'PORCDOC'\n",
    "(Solo para respuesta 'Empleado' (1) en variable 'SITLAB' y 'Sí' (1) en la variable 'TRABPOS')  \n",
    "\n",
    "Porcentaje de su tiempo como postdoctorado empleado en **actividades de docencia**."
   ]
  },
  {
   "cell_type": "code",
   "execution_count": null,
   "metadata": {},
   "outputs": [],
   "source": [
    "df['PORCDOC'].sort_values().unique() # Blank as '  .'"
   ]
  },
  {
   "cell_type": "code",
   "execution_count": null,
   "metadata": {},
   "outputs": [],
   "source": [
    "re_trabpos('PORCDOC',blank='  .')"
   ]
  },
  {
   "cell_type": "markdown",
   "metadata": {},
   "source": [
    "#### 'PORCOTRAS'\n",
    "(Solo para respuesta 'Empleado' (1) en variable 'SITLAB' y 'Sí' (1) en la variable 'TRABPOS')  \n",
    "\n",
    "Porcentaje de su tiempo como postdoctorado empleado en **otras actividades**."
   ]
  },
  {
   "cell_type": "code",
   "execution_count": null,
   "metadata": {},
   "outputs": [],
   "source": [
    "df['PORCOTRAS'].sort_values().unique() # Blank as '  .'"
   ]
  },
  {
   "cell_type": "code",
   "execution_count": null,
   "metadata": {},
   "outputs": [],
   "source": [
    "re_trabpos('PORCOTRAS',blank='  .')"
   ]
  },
  {
   "cell_type": "code",
   "execution_count": null,
   "metadata": {},
   "outputs": [],
   "source": [
    "# Variable temporal para comprobacion:\n",
    "df['Temp_porc']=df['PORCINVES']+df['PORCDOC']+df['PORCOTRAS']\n",
    "df['Temp_porc'].sort_values().unique()"
   ]
  },
  {
   "cell_type": "code",
   "execution_count": null,
   "metadata": {},
   "outputs": [],
   "source": [
    "del df['Temp_porc']"
   ]
  },
  {
   "cell_type": "markdown",
   "metadata": {},
   "source": [
    "#### 'FINANCPOS'\n",
    "(Solo para respuesta 'Empleado' (1) en variable 'SITLAB' y 'Sí' (1) en la variable 'TRABPOS')  \n",
    "\n",
    "Fuente principal de **financiación** de ese postdoctorado: 1=Empresas, 2=AAPP, 3=Centros de enseñanza superior, 4=IPSFL, 5=Fundaciones privadas, 6=OTRAS."
   ]
  },
  {
   "cell_type": "code",
   "execution_count": null,
   "metadata": {},
   "outputs": [],
   "source": [
    "df['FINANPOS'].sort_values().unique() # Blank as ' '"
   ]
  },
  {
   "cell_type": "code",
   "execution_count": null,
   "metadata": {},
   "outputs": [],
   "source": [
    "re_trabpos('FINANPOS')"
   ]
  },
  {
   "cell_type": "markdown",
   "metadata": {},
   "source": [
    "#### 'GESBUSEMP'\n",
    "(Solo para respuestas 'Desmpleado' (2) e 'Inactivo' (3) en variable 'SITLAB')  \n",
    "\n",
    "Durante enero de 2010, ¿hizo alguna **gestión para buscar empleo**? 0=No, 1=Sí."
   ]
  },
  {
   "cell_type": "code",
   "execution_count": null,
   "metadata": {},
   "outputs": [],
   "source": [
    "df['GESBUSEMP'].sort_values().unique() # Blank as ' '"
   ]
  },
  {
   "cell_type": "code",
   "execution_count": null,
   "metadata": {},
   "outputs": [],
   "source": [
    "re_sitlab('GESBUSEMP',blank=' ')"
   ]
  },
  {
   "cell_type": "markdown",
   "metadata": {},
   "source": [
    "#### 'PASOSEMP1'\n",
    "(Solo para respuestas 'Desmpleado' (2) e 'Inactivo' (3) en variable 'SITLAB' y 'Sí' (1) en la variable 'GESBUSEMP')  \n",
    "\n",
    "¿Se puso en contacto con una **empresa de trabajo temporal**? 1=Sí, blanco."
   ]
  },
  {
   "cell_type": "code",
   "execution_count": null,
   "metadata": {},
   "outputs": [],
   "source": [
    "df['PASOSEMP1'].sort_values().unique() # Blank as ' '"
   ]
  },
  {
   "cell_type": "code",
   "execution_count": null,
   "metadata": {},
   "outputs": [],
   "source": [
    "df[['SITLAB','GESBUSEMP','PASOSEMP1']].groupby(['SITLAB','GESBUSEMP'],dropna=False).agg(['unique']) "
   ]
  },
  {
   "cell_type": "code",
   "execution_count": null,
   "metadata": {},
   "outputs": [],
   "source": [
    "# Función pasosemp: inspeccion e imputación de valores de las variables 'PASOSEMPi' (i=1,2,...11)\n",
    "def pasosemp(col):\n",
    "    print (df[['SITLAB','GESBUSEMP',col]].groupby(['SITLAB','GESBUSEMP'],dropna=False).agg(['unique']))\n",
    "    # Se imputa respuesta 'No' (0) a quien no contesta sí habiendo sido preguntado:\n",
    "    df[col].mask((df['GESBUSEMP']==1)&(df[col]==' '),0,inplace=True) \n",
    "    # Se imputa None cuando no se formula la pregunta:\n",
    "    df[col].where((df[col]==0)|(df[col]=='1'),None,inplace=True)\n",
    "    df[col]=df[col].astype('float')\n",
    "    print (df[['SITLAB','GESBUSEMP',col]].groupby(['SITLAB','GESBUSEMP'],dropna=False).agg(['unique']))\n",
    "    return "
   ]
  },
  {
   "cell_type": "code",
   "execution_count": null,
   "metadata": {},
   "outputs": [],
   "source": [
    "pasosemp('PASOSEMP1')"
   ]
  },
  {
   "cell_type": "markdown",
   "metadata": {},
   "source": [
    "#### 'PASOSEMP2'\n",
    "(Solo para respuestas 'Desmpleado' (2) e 'Inactivo' (3) en variable 'SITLAB' y 'Sí' (1) en la variable 'GESBUSEMP')  \n",
    "\n",
    "¿Buscó en **oficinas de empleo**? 1=Sí, blanco."
   ]
  },
  {
   "cell_type": "code",
   "execution_count": null,
   "metadata": {},
   "outputs": [],
   "source": [
    "pasosemp('PASOSEMP2')"
   ]
  },
  {
   "cell_type": "markdown",
   "metadata": {},
   "source": [
    "#### 'PASOSEMP3'\n",
    "(Solo para respuestas 'Desmpleado' (2) e 'Inactivo' (3) en variable 'SITLAB' y 'Sí' (1) en la variable 'GESBUSEMP')  \n",
    "\n",
    "¿Se puso en contacto directamente con las **empresas** que necesitan personal? 1=Sí, blanco."
   ]
  },
  {
   "cell_type": "code",
   "execution_count": null,
   "metadata": {},
   "outputs": [],
   "source": [
    "pasosemp('PASOSEMP3')"
   ]
  },
  {
   "cell_type": "markdown",
   "metadata": {},
   "source": [
    "#### 'PASOSEMP4'\n",
    "(Solo para respuestas 'Desmpleado' (2) e 'Inactivo' (3) en variable 'SITLAB' y 'Sí' (1) en la variable 'GESBUSEMP')  \n",
    "\n",
    "¿Revisó y respondió **anuncios** de periódicos? 1=Sí, blanco."
   ]
  },
  {
   "cell_type": "code",
   "execution_count": null,
   "metadata": {},
   "outputs": [],
   "source": [
    "pasosemp('PASOSEMP4')"
   ]
  },
  {
   "cell_type": "markdown",
   "metadata": {},
   "source": [
    "#### 'PASOSEMP5'\n",
    "(Solo para respuestas 'Desmpleado' (2) e 'Inactivo' (3) en variable 'SITLAB' y 'Sí' (1) en la variable 'GESBUSEMP')  \n",
    "\n",
    "¿Buscó en **Internet**? 1=Sí, blanco."
   ]
  },
  {
   "cell_type": "code",
   "execution_count": null,
   "metadata": {},
   "outputs": [],
   "source": [
    "pasosemp('PASOSEMP5')"
   ]
  },
  {
   "cell_type": "markdown",
   "metadata": {},
   "source": [
    "#### 'PASOSEMP6'\n",
    "(Solo para respuestas 'Desmpleado' (2) e 'Inactivo' (3) en variable 'SITLAB' y 'Sí' (1) en la variable 'GESBUSEMP')  \n",
    "\n",
    "¿Buscó ayuda entre **amigos y parientes**? 1=Sí, blanco."
   ]
  },
  {
   "cell_type": "code",
   "execution_count": null,
   "metadata": {},
   "outputs": [],
   "source": [
    "pasosemp('PASOSEMP6')"
   ]
  },
  {
   "cell_type": "markdown",
   "metadata": {},
   "source": [
    "#### 'PASOSEMP7'\n",
    "(Solo para respuestas 'Desmpleado' (2) e 'Inactivo' (3) en variable 'SITLAB' y 'Sí' (1) en la variable 'GESBUSEMP')  \n",
    "\n",
    "¿Buscó ayuda entre **profesionales conocidos del sector**? 1=Sí, blanco."
   ]
  },
  {
   "cell_type": "code",
   "execution_count": null,
   "metadata": {},
   "outputs": [],
   "source": [
    "pasosemp('PASOSEMP7')"
   ]
  },
  {
   "cell_type": "markdown",
   "metadata": {},
   "source": [
    "#### 'PASOSEMP8'\n",
    "(Solo para respuestas 'Desmpleado' (2) e 'Inactivo' (3) en variable 'SITLAB' y 'Sí' (1) en la variable 'GESBUSEMP')  \n",
    "\n",
    "¿Buscó terrenos, maquinaria o equipamiento para establecer **su propia empresa**? 1=Sí, blanco."
   ]
  },
  {
   "cell_type": "code",
   "execution_count": null,
   "metadata": {},
   "outputs": [],
   "source": [
    "pasosemp('PASOSEMP8')"
   ]
  },
  {
   "cell_type": "markdown",
   "metadata": {},
   "source": [
    "#### 'PASOSEMP9'\n",
    "(Solo para respuestas 'Desmpleado' (2) e 'Inactivo' (3) en variable 'SITLAB' y 'Sí' (1) en la variable 'GESBUSEMP')  \n",
    "\n",
    "¿Hizo **entrevistas de trabajo**? 1=Sí, blanco."
   ]
  },
  {
   "cell_type": "code",
   "execution_count": null,
   "metadata": {},
   "outputs": [],
   "source": [
    "pasosemp('PASOSEMP9')"
   ]
  },
  {
   "cell_type": "markdown",
   "metadata": {},
   "source": [
    "#### 'PASOSEMP10'\n",
    "(Solo para respuestas 'Desmpleado' (2) e 'Inactivo' (3) en variable 'SITLAB' y 'Sí' (1) en la variable 'GESBUSEMP')  \n",
    "\n",
    "¿Solicitó **permisos, licencias o recursos financieros**? 1=Sí, blanco."
   ]
  },
  {
   "cell_type": "code",
   "execution_count": null,
   "metadata": {},
   "outputs": [],
   "source": [
    "pasosemp('PASOSEMP10')"
   ]
  },
  {
   "cell_type": "markdown",
   "metadata": {},
   "source": [
    "#### 'PASOSEMP11'\n",
    "(Solo para respuestas 'Desmpleado' (2) e 'Inactivo' (3) en variable 'SITLAB' y 'Sí' (1) en la variable 'GESBUSEMP')  \n",
    "\n",
    "¿Realizó **otras** gestiones? 1=Sí, blanco."
   ]
  },
  {
   "cell_type": "code",
   "execution_count": null,
   "metadata": {},
   "outputs": [],
   "source": [
    "pasosemp('PASOSEMP11')"
   ]
  },
  {
   "cell_type": "markdown",
   "metadata": {},
   "source": [
    "#### 'NOPASOSEMP1'\n",
    "(Solo para respuestas 'Desmpleado' (2) e 'Inactivo' (3) en variable 'SITLAB' y 'No' (0) en la variable 'GESBUSEMP')  \n",
    "\n",
    "¿La **enfermedad o discapacidad** fueron una razón para no buscar empleo? 1=Sí, blanco."
   ]
  },
  {
   "cell_type": "code",
   "execution_count": null,
   "metadata": {},
   "outputs": [],
   "source": [
    "df['NOPASOSEMP1'].sort_values().unique() # Blank as ' '"
   ]
  },
  {
   "cell_type": "code",
   "execution_count": null,
   "metadata": {},
   "outputs": [],
   "source": [
    "df[['SITLAB','GESBUSEMP','NOPASOSEMP1']].groupby(['SITLAB','GESBUSEMP'],dropna=False).agg(['unique']) "
   ]
  },
  {
   "cell_type": "code",
   "execution_count": null,
   "metadata": {},
   "outputs": [],
   "source": [
    "# Función mopasosemp: inspeccion e imputación de valores de las variables 'NOPASOSEMPi' (i=1,2,...9)\n",
    "def nopasosemp(col):\n",
    "    print (df[['SITLAB','GESBUSEMP',col]].groupby(['SITLAB','GESBUSEMP'],dropna=False).agg(['unique']))\n",
    "    # Se imputa respuesta 'No' (0) a quien no contesta sí habiendo sido preguntado:\n",
    "    df[col].mask((df['GESBUSEMP']==0)&(df[col]==' '),0,inplace=True) \n",
    "    # Se imputa None cuando no se formula la pregunta:\n",
    "    df[col].where((df[col]==0)|(df[col]=='1'),None,inplace=True)\n",
    "    df[col]=df[col].astype('float')\n",
    "    print (df[['SITLAB','GESBUSEMP',col]].groupby(['SITLAB','GESBUSEMP'],dropna=False).agg(['unique']))\n",
    "    return "
   ]
  },
  {
   "cell_type": "code",
   "execution_count": null,
   "metadata": {},
   "outputs": [],
   "source": [
    "nopasosemp('NOPASOSEMP1')"
   ]
  },
  {
   "cell_type": "markdown",
   "metadata": {},
   "source": [
    "#### 'NOPASOSEMP2'\n",
    "(Solo para respuestas 'Desmpleado' (2) e 'Inactivo' (3) en variable 'SITLAB' y 'No' (0) en la variable 'GESBUSEMP')  \n",
    "\n",
    "¿El **cuidado de hijos** fue una razón para no buscar empleo? 1=Sí, blanco."
   ]
  },
  {
   "cell_type": "code",
   "execution_count": null,
   "metadata": {},
   "outputs": [],
   "source": [
    "nopasosemp('NOPASOSEMP2')"
   ]
  },
  {
   "cell_type": "markdown",
   "metadata": {},
   "source": [
    "#### 'NOPASOSEMP3'\n",
    "(Solo para respuestas 'Desmpleado' (2) e 'Inactivo' (3) en variable 'SITLAB' y 'No' (0) en la variable 'GESBUSEMP')  \n",
    "\n",
    "¿El **cuidado de otras personas dependientes** fue una razón para no buscar empleo? 1=Sí, blanco."
   ]
  },
  {
   "cell_type": "code",
   "execution_count": null,
   "metadata": {},
   "outputs": [],
   "source": [
    "nopasosemp('NOPASOSEMP3')"
   ]
  },
  {
   "cell_type": "markdown",
   "metadata": {},
   "source": [
    "#### 'NOPASOSEMP4'\n",
    "(Solo para respuestas 'Desmpleado' (2) e 'Inactivo' (3) en variable 'SITLAB' y 'No' (0) en la variable 'GESBUSEMP')  \n",
    "\n",
    "¿Fueron **otras responsabilidades familiares** una razón para no buscar empleo? 1=Sí, blanco."
   ]
  },
  {
   "cell_type": "code",
   "execution_count": null,
   "metadata": {},
   "outputs": [],
   "source": [
    "nopasosemp('NOPASOSEMP4')"
   ]
  },
  {
   "cell_type": "markdown",
   "metadata": {},
   "source": [
    "#### 'NOPASOSEMP5'\n",
    "(Solo para respuestas 'Desmpleado' (2) e 'Inactivo' (3) en variable 'SITLAB' y 'No' (0) en la variable 'GESBUSEMP')  \n",
    "\n",
    "¿Fue la **jubilación** una razón para no buscar empleo? 1=Sí, blanco."
   ]
  },
  {
   "cell_type": "code",
   "execution_count": null,
   "metadata": {},
   "outputs": [],
   "source": [
    "nopasosemp('NOPASOSEMP5')"
   ]
  },
  {
   "cell_type": "markdown",
   "metadata": {},
   "source": [
    "#### 'NOPASOSEMP6'\n",
    "(Solo para respuestas 'Desmpleado' (2) e 'Inactivo' (3) en variable 'SITLAB' y 'No' (0) en la variable 'GESBUSEMP')  \n",
    "\n",
    "¿Fue la **asistencia a instituciones educativas** una razón para no buscar empleo? 1=Sí, blanco."
   ]
  },
  {
   "cell_type": "code",
   "execution_count": null,
   "metadata": {},
   "outputs": [],
   "source": [
    "nopasosemp('NOPASOSEMP6')"
   ]
  },
  {
   "cell_type": "markdown",
   "metadata": {},
   "source": [
    "#### 'NOPASOSEMP7'\n",
    "(Solo para respuestas 'Desmpleado' (2) e 'Inactivo' (3) en variable 'SITLAB' y 'No' (0) en la variable 'GESBUSEMP')  \n",
    "\n",
    "¿Fue la **convicción** de que no existe ningún trabajo disponible para usted una razón para no buscar empleo? 1=Sí, blanco."
   ]
  },
  {
   "cell_type": "code",
   "execution_count": null,
   "metadata": {},
   "outputs": [],
   "source": [
    "nopasosemp('NOPASOSEMP7')"
   ]
  },
  {
   "cell_type": "markdown",
   "metadata": {},
   "source": [
    "#### 'NOPASOSEMP8'\n",
    "(Solo para respuestas 'Desmpleado' (2) e 'Inactivo' (3) en variable 'SITLAB' y 'No' (0) en la variable 'GESBUSEMP')  \n",
    "\n",
    "¿Fue que **no necesita o no quiere trabajar** una razón para no buscar empleo? 1=Sí, blanco."
   ]
  },
  {
   "cell_type": "code",
   "execution_count": null,
   "metadata": {},
   "outputs": [],
   "source": [
    "nopasosemp('NOPASOSEMP8')"
   ]
  },
  {
   "cell_type": "markdown",
   "metadata": {},
   "source": [
    "#### 'NOPASOSEMP9'\n",
    "(Solo para respuestas 'Desmpleado' (2) e 'Inactivo' (3) en variable 'SITLAB' y 'No' (0) en la variable 'GESBUSEMP')  \n",
    "\n",
    "¿Tenía **otros** motivos para no buscar empleo? 1=Sí, blanco."
   ]
  },
  {
   "cell_type": "code",
   "execution_count": null,
   "metadata": {},
   "outputs": [],
   "source": [
    "nopasosemp('NOPASOSEMP9')"
   ]
  },
  {
   "cell_type": "markdown",
   "metadata": {},
   "source": [
    "#### 'CONT1'\n",
    "\n",
    "**Continente del primer país de residencia** -en orden cronológico inverso- durante **al menos 3 meses en el periodo 2000-2009**: 'EU27'=Unión Europea, 'REUR'=Resto de Europa, 'EUCA'=EEUU y Canadá, 'RAME'=Resto de América, 'AFRI' = África, 'ASIA'=Asia, 'OCEA'=Oceanía, 'NMOV'=Sin movilidad.\n",
    "\n",
    "**Observaciones**: \n",
    "'CONT1' es la primera de 7 variables 'CONTi' (i=1,2,...,7). Sus valores se construyen a partir de las respuestas a la petición de enumerar los países de residencia en el periodo 2000-2009. Solo se pide esta relación de países a quienes han vivido algún tiempo fuera de España en el periodo: \n",
    "- El INE ha imputado 'NMOV' en todas las columnas 'CONTi' (i=1,2,...,7) a quienes no aportan una relación de países por no haber vivido fuera de España en el periodo de referencia. \n",
    "- 'NMOV' también es el valor con el que se han relleado los continentes 'CONTi'  cuando se agotan los países referidos por el encuestado.\n",
    "- 'La respuesta 'España' en la relación de países de residencia parece haber sido sustituida por 'EU27' o, al menos en una ocasión, por 'NMOV' (véanse las observaciones atípicas de la columna 'CONT2'). \n",
    "\n",
    "La variedad de usos del valor 'NMOV' dificulta que se pueda emplear para identificar a quienes se han ido o han vuelto a España en el periodo. Esta información es imprescindible para imputar valores de otras columnas definidas posteriormente. "
   ]
  },
  {
   "cell_type": "code",
   "execution_count": null,
   "metadata": {},
   "outputs": [],
   "source": [
    "df['CONT1'].sort_values().unique()"
   ]
  },
  {
   "cell_type": "code",
   "execution_count": null,
   "metadata": {},
   "outputs": [],
   "source": [
    "# Función cont_nmov: función auxiliar para facilitar la interpretación de respuesta 'NMOV' en 'CONTi' (i=1,2,...,7)\n",
    "# Valores de todos los 'CONTi' cuando el i-ésimo es 'NMOV', agrupados por el i-ésimo: \n",
    "def cont_nmov(i):\n",
    "    List=['CONT'+str(j) for j in range(i,8)]\n",
    "    print (df[List][df['CONT'+str(i)]=='NMOV'].groupby('CONT'+str(i)).agg(['unique']))"
   ]
  },
  {
   "cell_type": "code",
   "execution_count": null,
   "metadata": {},
   "outputs": [],
   "source": [
    "cont_nmov(1)\n",
    "# 'CONT1'='NMOV' implica no movilidad en todo el periodo"
   ]
  },
  {
   "cell_type": "code",
   "execution_count": null,
   "metadata": {},
   "outputs": [],
   "source": [
    "cont_nmov(2)\n",
    "# 'CONT2'='NMOV' tiene un comportamiento distinto del resto de las variables 'CONTi'"
   ]
  },
  {
   "cell_type": "code",
   "execution_count": null,
   "metadata": {},
   "outputs": [],
   "source": [
    "cont_nmov(3)\n",
    "# 'CONT3'='NMOV' implica no movilidad anterior"
   ]
  },
  {
   "cell_type": "code",
   "execution_count": null,
   "metadata": {},
   "outputs": [],
   "source": [
    "cont_nmov(4)\n",
    "# 'CONT4'='NMOV' implica no movilidad anterior"
   ]
  },
  {
   "cell_type": "code",
   "execution_count": null,
   "metadata": {},
   "outputs": [],
   "source": [
    "cont_nmov(5)\n",
    "# 'CONT5'='NMOV' implica no movilidad anterior"
   ]
  },
  {
   "cell_type": "code",
   "execution_count": null,
   "metadata": {},
   "outputs": [],
   "source": [
    "cont_nmov(6)\n",
    "# 'CONT6'='NMOV' implica no movilidad anterior"
   ]
  },
  {
   "cell_type": "markdown",
   "metadata": {},
   "source": [
    "#### 'ANOIPAIS1'\n",
    "**Año de inicio del tiempo de residencia en el primer país** mencionado como de residencia al menos 3 meses en el periodo 2000-2009. "
   ]
  },
  {
   "cell_type": "code",
   "execution_count": null,
   "metadata": {},
   "outputs": [],
   "source": [
    "df['ANOIPAIS1'].sort_values().unique() # Blank as '   .'"
   ]
  },
  {
   "cell_type": "code",
   "execution_count": null,
   "metadata": {},
   "outputs": [],
   "source": [
    "# Funcion re_cont: inspección e imputación de valores de variables condicionadas por respuesta \n",
    "# a 'CONTi' (i=1,2,...,7).\n",
    "def re_cont(col,cont,blank,tipus='float'):\n",
    "    print (df[[col,cont]].groupby(cont,dropna=False).agg(['unique']))\n",
    "    df[col].replace({blank:None},inplace=True)\n",
    "    df[col]=df[col].astype(tipus)\n",
    "    print (df[[col,cont]].groupby(cont,dropna=False).agg(['unique']))\n",
    "    return"
   ]
  },
  {
   "cell_type": "code",
   "execution_count": null,
   "metadata": {},
   "outputs": [],
   "source": [
    "re_cont('ANOIPAIS1','CONT1',blank='   .')"
   ]
  },
  {
   "cell_type": "markdown",
   "metadata": {},
   "source": [
    "#### 'ANOFPAIS1'\n",
    "**Año final del tiempo de residencia en el primer país** mencionado como de residencia al menos 3 meses en el periodo 2000-2009. "
   ]
  },
  {
   "cell_type": "code",
   "execution_count": null,
   "metadata": {},
   "outputs": [],
   "source": [
    "df['ANOFPAIS1'].sort_values().unique() # Blank as '   .'"
   ]
  },
  {
   "cell_type": "code",
   "execution_count": null,
   "metadata": {},
   "outputs": [],
   "source": [
    "re_cont('ANOFPAIS1','CONT1',blank='   .')"
   ]
  },
  {
   "cell_type": "markdown",
   "metadata": {},
   "source": [
    "#### 'MESES1'\n",
    "**Duración en meses** del tiempo de residencia en el **primer país** mencionado como de residencia al menos 3 meses en el periodo 2000-2009. "
   ]
  },
  {
   "cell_type": "code",
   "execution_count": null,
   "metadata": {},
   "outputs": [],
   "source": [
    "df['MESES1'].sort_values().unique() # Blank as '  .'"
   ]
  },
  {
   "cell_type": "code",
   "execution_count": null,
   "metadata": {},
   "outputs": [],
   "source": [
    "re_cont('MESES1','CONT1',blank='  .')"
   ]
  },
  {
   "cell_type": "markdown",
   "metadata": {},
   "source": [
    "#### 'CONT2'\n",
    "**Continente del segundo país de residencia** -en orden cronológico inverso- durante **al menos 3 meses en el periodo 2000-2009**: 'EU27'=Unión Europea, 'REUR'=Resto de Europa, 'EUCA'=EEUU y Canadá, 'RAME'=Resto de América, 'AFRI' = África, 'ASIA'=Asia, 'OCEA'=Oceanía, 'NMOV'=Sin movilidad."
   ]
  },
  {
   "cell_type": "code",
   "execution_count": null,
   "metadata": {},
   "outputs": [],
   "source": [
    "df['CONT2'].sort_values().unique() "
   ]
  },
  {
   "cell_type": "markdown",
   "metadata": {},
   "source": [
    "#### 'ANOIPAIS2'\n",
    "**Año de inicio del tiempo de residencia en el segundo país** mencionado como de residencia al menos 3 meses en el periodo 2000-2009. "
   ]
  },
  {
   "cell_type": "code",
   "execution_count": null,
   "metadata": {},
   "outputs": [],
   "source": [
    "df['ANOIPAIS2'].sort_values().unique() # Blank as '   .'"
   ]
  },
  {
   "cell_type": "code",
   "execution_count": null,
   "metadata": {},
   "outputs": [],
   "source": [
    "re_cont('ANOIPAIS2','CONT2',blank='   .')\n",
    "# Hay observaciones atípicas"
   ]
  },
  {
   "cell_type": "code",
   "execution_count": null,
   "metadata": {},
   "outputs": [],
   "source": [
    "# Lista de columnas 'CONTi' (i=1,2,...,7) para simplificar notación: \n",
    "L_CONT=['CONT'+str(i) for i in range(1,8)]\n",
    "L_CONT"
   ]
  },
  {
   "cell_type": "code",
   "execution_count": null,
   "metadata": {},
   "outputs": [],
   "source": [
    "df[L_CONT+['ANOIPAIS2','ANOFPAIS2','MESES2']][(df['CONT2']=='NMOV')&(df['ANOIPAIS2'].notna())] \n",
    "# Observación peculiar: periodo intermedio registrado como 'sin movilidad' ('NMOV') con info temporal completa."
   ]
  },
  {
   "cell_type": "code",
   "execution_count": null,
   "metadata": {},
   "outputs": [],
   "source": [
    "# Corrección observación no homogénea: \n",
    "df.loc[3416,'CONT2']='EU27' #Se imputa este valor por entender que se trata de un periodo intermedio en España\n",
    "df[['ANOIPAIS2','CONT2']].groupby('CONT2').agg(['unique'])"
   ]
  },
  {
   "cell_type": "markdown",
   "metadata": {},
   "source": [
    "#### 'ANOFPAIS2'\n",
    "**Año final del tiempo de residencia en el segundo país** mencionado como de residencia al menos 3 meses en el periodo 2000-2009. "
   ]
  },
  {
   "cell_type": "code",
   "execution_count": null,
   "metadata": {},
   "outputs": [],
   "source": [
    "df['ANOFPAIS2'].sort_values().unique() # Blank as '   .'"
   ]
  },
  {
   "cell_type": "code",
   "execution_count": null,
   "metadata": {},
   "outputs": [],
   "source": [
    "re_cont('ANOFPAIS2','CONT2',blank='   .')\n",
    "# Observaciones atipicas."
   ]
  },
  {
   "cell_type": "code",
   "execution_count": null,
   "metadata": {},
   "outputs": [],
   "source": [
    "df[L_CONT+['ANOIPAIS2','ANOFPAIS2','MESES2']][(df['CONT2']=='NMOV')&(df['ANOFPAIS2'].notna())] \n",
    "# Observación peculiar: Aparente no movilidad y con valores temporales incompletos (solo año final)"
   ]
  },
  {
   "cell_type": "code",
   "execution_count": null,
   "metadata": {},
   "outputs": [],
   "source": [
    "# Corrección observación atípica: \n",
    "df.loc[733,'ANOFPAIS2']=None # Sin información suficiente para mejorar la interpretación de la respuesta. \n",
    "df[['ANOFPAIS2','CONT2']].groupby('CONT2').agg(['unique'])"
   ]
  },
  {
   "cell_type": "markdown",
   "metadata": {},
   "source": [
    "#### 'MESES2'\n",
    "**Duración en meses del tiempo de residencia en el segundo país** mencionado como de residencia al menos 3 meses en el periodo 2000-2009. "
   ]
  },
  {
   "cell_type": "code",
   "execution_count": null,
   "metadata": {},
   "outputs": [],
   "source": [
    "df['MESES2'].sort_values().unique() # Blank as '  .'"
   ]
  },
  {
   "cell_type": "code",
   "execution_count": null,
   "metadata": {},
   "outputs": [],
   "source": [
    "re_cont('MESES2','CONT2',blank='  .')"
   ]
  },
  {
   "cell_type": "code",
   "execution_count": null,
   "metadata": {},
   "outputs": [],
   "source": [
    "# Revisión de las correcciones en 'CONT2' y las variables condicionadas por esta: \n",
    "cont_nmov(2)\n",
    "# Tras la corrección en las observaciones atípicas, 'CONT2'='NMOV' implica no movilidad posterior.\n",
    "# El resultado de las correcciones parece coherente con el resto de las variables 'CONTi'."
   ]
  },
  {
   "cell_type": "markdown",
   "metadata": {},
   "source": [
    "#### 'CONT3'\n",
    "**Continente del tercer país de residencia** -en orden cronológico inverso- durante **al menos 3 meses en el periodo 2000-2009**: 'EU27'=Unión Europea, 'REUR'=Resto de Europa, 'EUCA'=EEUU y Canadá, 'RAME'=Resto de América, 'AFRI' = África, 'ASIA'=Asia, 'OCEA'=Oceanía, 'NMOV'=Sin movilidad"
   ]
  },
  {
   "cell_type": "code",
   "execution_count": null,
   "metadata": {},
   "outputs": [],
   "source": [
    "df['CONT3'].sort_values().unique() "
   ]
  },
  {
   "cell_type": "markdown",
   "metadata": {},
   "source": [
    "#### 'ANOIPAIS3'\n",
    "**Año de inicio del tiempo de residencia en el tercer país** mencionado como de residencia al menos 3 meses en el periodo 2000-2009. "
   ]
  },
  {
   "cell_type": "code",
   "execution_count": null,
   "metadata": {},
   "outputs": [],
   "source": [
    "df['ANOIPAIS3'].sort_values().unique() # Blank as '   .'"
   ]
  },
  {
   "cell_type": "code",
   "execution_count": null,
   "metadata": {},
   "outputs": [],
   "source": [
    "re_cont('ANOIPAIS3','CONT3',blank='   .')"
   ]
  },
  {
   "cell_type": "markdown",
   "metadata": {},
   "source": [
    "#### 'ANOFPAIS3'\n",
    "**Año final del tiempo de residencia en el tercer país** mencionado como de residencia al menos 3 meses en el periodo 2000-2009. "
   ]
  },
  {
   "cell_type": "code",
   "execution_count": null,
   "metadata": {},
   "outputs": [],
   "source": [
    "df['ANOFPAIS3'].sort_values().unique() # Blank as '   .'"
   ]
  },
  {
   "cell_type": "code",
   "execution_count": null,
   "metadata": {},
   "outputs": [],
   "source": [
    "re_cont('ANOFPAIS3','CONT3',blank='   .')"
   ]
  },
  {
   "cell_type": "markdown",
   "metadata": {},
   "source": [
    "#### 'MESES3'\n",
    "**Duración en meses del tiempo de residencia en el tercer país** mencionado como de residencia al menos 3 meses en el periodo 2000-2009. "
   ]
  },
  {
   "cell_type": "code",
   "execution_count": null,
   "metadata": {},
   "outputs": [],
   "source": [
    "df['MESES3'].sort_values().unique() # Blank as '  .'"
   ]
  },
  {
   "cell_type": "code",
   "execution_count": null,
   "metadata": {},
   "outputs": [],
   "source": [
    "re_cont('MESES3','CONT3',blank='  .')"
   ]
  },
  {
   "cell_type": "markdown",
   "metadata": {},
   "source": [
    "#### 'CONT4'\n",
    "**Continente del cuarto país de residencia** -en orden cronológico inverso- durante **al menos 3 meses en el periodo 2000-2009**: 'EU27'=Unión Europea, 'REUR'=Resto de Europa, 'EUCA'=EEUU y Canadá, 'RAME'=Resto de América, 'AFRI' = África, 'ASIA'=Asia, 'OCEA'=Oceanía, 'NMOV'=Sin movilidad."
   ]
  },
  {
   "cell_type": "code",
   "execution_count": null,
   "metadata": {},
   "outputs": [],
   "source": [
    "df['CONT4'].sort_values().unique() "
   ]
  },
  {
   "cell_type": "markdown",
   "metadata": {},
   "source": [
    "#### 'ANOIPAIS4'\n",
    "**Año de inicio del tiempo de residencia en el cuarto país** mencionado como de residencia al menos 3 meses en el periodo 2000-2009. "
   ]
  },
  {
   "cell_type": "code",
   "execution_count": null,
   "metadata": {},
   "outputs": [],
   "source": [
    "df['ANOIPAIS4'].sort_values().unique() # Blank as '   .'"
   ]
  },
  {
   "cell_type": "code",
   "execution_count": null,
   "metadata": {},
   "outputs": [],
   "source": [
    "re_cont('ANOIPAIS4','CONT4',blank='   .')"
   ]
  },
  {
   "cell_type": "markdown",
   "metadata": {},
   "source": [
    "#### 'ANOFPAIS4'\n",
    "**Año final del tiempo de residencia en el cuarto país** mencionado como de residencia al menos 3 meses en el periodo 2000-2009. "
   ]
  },
  {
   "cell_type": "code",
   "execution_count": null,
   "metadata": {},
   "outputs": [],
   "source": [
    "df['ANOFPAIS4'].sort_values().unique() # Blank as '   .'"
   ]
  },
  {
   "cell_type": "code",
   "execution_count": null,
   "metadata": {},
   "outputs": [],
   "source": [
    "re_cont('ANOFPAIS4','CONT4',blank='   .')"
   ]
  },
  {
   "cell_type": "markdown",
   "metadata": {},
   "source": [
    "#### 'MESES4'\n",
    "**Duración en meses del tiempo de residencia en el cuarto país** mencionado como de residencia al menos 3 meses en el periodo 2000-2009. "
   ]
  },
  {
   "cell_type": "code",
   "execution_count": null,
   "metadata": {},
   "outputs": [],
   "source": [
    "df['MESES4'].sort_values().unique() # Blank as '  .'"
   ]
  },
  {
   "cell_type": "code",
   "execution_count": null,
   "metadata": {},
   "outputs": [],
   "source": [
    "re_cont('MESES4','CONT4',blank='  .')"
   ]
  },
  {
   "cell_type": "markdown",
   "metadata": {},
   "source": [
    "#### 'CONT5'\n",
    "**Continente del quinto país de residencia** -en orden cronológico inverso- durante **al menos 3 meses en el periodo 2000-2009**: 'EU27'=Unión Europea, 'REUR'=Resto de Europa, 'EUCA'=EEUU y Canadá, 'RAME'=Resto de América, 'AFRI' = África, 'ASIA'=Asia, 'OCEA'=Oceanía, 'NMOV'=Sin movilidad."
   ]
  },
  {
   "cell_type": "code",
   "execution_count": null,
   "metadata": {},
   "outputs": [],
   "source": [
    "df['CONT5'].sort_values().unique() "
   ]
  },
  {
   "cell_type": "markdown",
   "metadata": {},
   "source": [
    "#### 'ANOIPAIS5'\n",
    "**Año de inicio del tiempo de residencia en el quinto país** mencionado como de residencia al menos 3 meses en el periodo 2000-2009. "
   ]
  },
  {
   "cell_type": "code",
   "execution_count": null,
   "metadata": {},
   "outputs": [],
   "source": [
    "df['ANOIPAIS5'].sort_values().unique() # Blank as '   .'"
   ]
  },
  {
   "cell_type": "code",
   "execution_count": null,
   "metadata": {},
   "outputs": [],
   "source": [
    "re_cont('ANOIPAIS5','CONT5',blank='   .')"
   ]
  },
  {
   "cell_type": "markdown",
   "metadata": {},
   "source": [
    "#### 'ANOFPAIS5'\n",
    "**Año final del tiempo de residencia en el quinto país** mencionado como de residencia al menos 3 meses en el periodo 2000-2009. "
   ]
  },
  {
   "cell_type": "code",
   "execution_count": null,
   "metadata": {},
   "outputs": [],
   "source": [
    "df['ANOFPAIS5'].sort_values().unique() # Blank as '   .'"
   ]
  },
  {
   "cell_type": "code",
   "execution_count": null,
   "metadata": {},
   "outputs": [],
   "source": [
    "re_cont('ANOFPAIS5','CONT5',blank='   .')"
   ]
  },
  {
   "cell_type": "markdown",
   "metadata": {},
   "source": [
    "#### 'MESES5'\n",
    "**Duración en meses del tiempo de residencia en el quinto país** mencionado como de residencia al menos 3 meses en el periodo 2000-2009. "
   ]
  },
  {
   "cell_type": "code",
   "execution_count": null,
   "metadata": {},
   "outputs": [],
   "source": [
    "df['MESES5'].sort_values().unique() # Blank as '  .'"
   ]
  },
  {
   "cell_type": "code",
   "execution_count": null,
   "metadata": {},
   "outputs": [],
   "source": [
    "re_cont('MESES5','CONT5',blank='  .')"
   ]
  },
  {
   "cell_type": "markdown",
   "metadata": {},
   "source": [
    "#### 'CONT6'\n",
    "**Continente del sexto país de residencia** -en orden cronológico inverso- durante **al menos 3 meses en el periodo 2000-2009**: 'EU27'=Unión Europea, 'REUR'=Resto de Europa, 'EUCA'=EEUU y Canadá, 'RAME'=Resto de América, 'AFRI' = África, 'ASIA'=Asia, 'OCEA'=Oceanía, 'NMOV'=Sin movilidad."
   ]
  },
  {
   "cell_type": "code",
   "execution_count": null,
   "metadata": {},
   "outputs": [],
   "source": [
    "df['CONT6'].sort_values().unique() "
   ]
  },
  {
   "cell_type": "markdown",
   "metadata": {},
   "source": [
    "#### 'ANOIPAIS6'\n",
    "**Año de inicio del tiempo de residencia en el sexto país** mencionado como de residencia al menos 3 meses en el periodo 2000-2009. "
   ]
  },
  {
   "cell_type": "code",
   "execution_count": null,
   "metadata": {},
   "outputs": [],
   "source": [
    "df['ANOIPAIS6'].sort_values().unique() # Blank as '   .'"
   ]
  },
  {
   "cell_type": "code",
   "execution_count": null,
   "metadata": {},
   "outputs": [],
   "source": [
    "re_cont('ANOIPAIS6','CONT6',blank='   .')"
   ]
  },
  {
   "cell_type": "markdown",
   "metadata": {},
   "source": [
    "#### 'ANOFPAIS6'\n",
    "**Año final del tiempo de residencia en el sexto país** mencionado como de residencia al menos 3 meses en el periodo 2000-2009. "
   ]
  },
  {
   "cell_type": "code",
   "execution_count": null,
   "metadata": {},
   "outputs": [],
   "source": [
    "df['ANOFPAIS6'].sort_values().unique() # Blank as '   .'"
   ]
  },
  {
   "cell_type": "code",
   "execution_count": null,
   "metadata": {},
   "outputs": [],
   "source": [
    "re_cont('ANOFPAIS6','CONT6',blank='   .')"
   ]
  },
  {
   "cell_type": "markdown",
   "metadata": {},
   "source": [
    "#### 'MESES6'\n",
    "**Duración en meses del tiempo de residencia en el sexto país** mencionado como de residencia al menos 3 meses en el periodo 2000-2009. "
   ]
  },
  {
   "cell_type": "code",
   "execution_count": null,
   "metadata": {},
   "outputs": [],
   "source": [
    "df['MESES6'].sort_values().unique() # Blank as '  .'"
   ]
  },
  {
   "cell_type": "code",
   "execution_count": null,
   "metadata": {},
   "outputs": [],
   "source": [
    "re_cont('MESES6','CONT6',blank='  .')"
   ]
  },
  {
   "cell_type": "markdown",
   "metadata": {},
   "source": [
    "#### 'CONT7'\n",
    "**Continente del séptimo país de residencia** -en orden cronológico inverso- durante **al menos 3 meses en el periodo 2000-2009**: 'EU27'=Unión Europea, 'REUR'=Resto de Europa, 'EUCA'=EEUU y Canadá, 'RAME'=Resto de América, 'AFRI' = África, 'ASIA'=Asia, 'OCEA'=Oceanía, 'NMOV'=Sin movilidad"
   ]
  },
  {
   "cell_type": "code",
   "execution_count": null,
   "metadata": {},
   "outputs": [],
   "source": [
    "df['CONT7'].sort_values().unique() "
   ]
  },
  {
   "cell_type": "markdown",
   "metadata": {},
   "source": [
    "#### 'ANOIPAIS7'\n",
    "**Año de inicio del tiempo de residencia en el séptimo país** mencionado como de residencia al menos 3 meses en el periodo 2000-2009. "
   ]
  },
  {
   "cell_type": "code",
   "execution_count": null,
   "metadata": {},
   "outputs": [],
   "source": [
    "df['ANOIPAIS7'].sort_values().unique() # Blank as '   .'"
   ]
  },
  {
   "cell_type": "code",
   "execution_count": null,
   "metadata": {},
   "outputs": [],
   "source": [
    "re_cont('ANOIPAIS7','CONT7',blank='   .')"
   ]
  },
  {
   "cell_type": "markdown",
   "metadata": {},
   "source": [
    "#### 'ANOFPAIS7'\n",
    "**Año final del tiempo de residencia en el séptimo país** mencionado como de residencia al menos 3 meses en el periodo 2000-2009. "
   ]
  },
  {
   "cell_type": "code",
   "execution_count": null,
   "metadata": {},
   "outputs": [],
   "source": [
    "df['ANOFPAIS7'].sort_values().unique() # Blank as '   .'"
   ]
  },
  {
   "cell_type": "code",
   "execution_count": null,
   "metadata": {},
   "outputs": [],
   "source": [
    "re_cont('ANOFPAIS7','CONT7',blank='   .')"
   ]
  },
  {
   "cell_type": "markdown",
   "metadata": {},
   "source": [
    "#### 'MESES7'\n",
    "**Duración en meses del tiempo de residencia en el septimo país** mencionado como de residencia al menos 3 meses en el periodo 2000-2009. "
   ]
  },
  {
   "cell_type": "code",
   "execution_count": null,
   "metadata": {},
   "outputs": [],
   "source": [
    "df['MESES7'].sort_values().unique() # Blank as '  .'"
   ]
  },
  {
   "cell_type": "code",
   "execution_count": null,
   "metadata": {},
   "outputs": [],
   "source": [
    "re_cont('MESES7','CONT7',blank='  .')"
   ]
  },
  {
   "cell_type": "markdown",
   "metadata": {},
   "source": [
    "#### 'MOTFUERA1'\n",
    "(Solo si se fue a vivir fuera de España en el periodo 2000-2009)  \n",
    "\n",
    "¿**Realizar el doctorado** fue un motivo para vivir fuera de España en el periodo 2000-2009? 1=Sí, blanco.\n",
    "\n",
    "**Observaciones**: \n",
    "- Las variables con respuesta Sí o blanco se formulan solo a un subconjunto de la muestra. Para imputar valor No a quien fué preguntado y no respondió Sí (como distinto los valores blancos por no haber sido preguntados) es imprescindible identificar a quienes fueron preguntados; en este caso, quienes vivieron fuera de España al menos 3 meses durante el periodo de referencia.  \n",
    "- El uso ambiguo del valor 'NMOV' en las variables 'CONTi' (i=1,2,...,7) hace preferible usar otras variables para identificar a los preguntados. Así, se asumirá que solo fueron preguntados por los motivos para irse de España los que identifican al menos uno de los motivos sugeridos (variables 'MOTFUERAi', i=1,2,...,7)."
   ]
  },
  {
   "cell_type": "code",
   "execution_count": null,
   "metadata": {},
   "outputs": [],
   "source": [
    "df['MOTFUERA1'].sort_values().unique() # Blank as ' '"
   ]
  },
  {
   "cell_type": "code",
   "execution_count": null,
   "metadata": {},
   "outputs": [],
   "source": [
    "# Variable auxiliar 'emigro': toma valor 1 para los encuestados que se identifican con al menos uno de los ...\n",
    "# ... motivos sugeridos como razón para vivir fuera de España en el periodo referido. \n",
    "# Se imputa valor 0 (No) a los registros en blanco (provisional) y 1 (int) a '1' para habilitar operaciones: \n",
    "for i in range(1,8):\n",
    "    df['MOTFUERA'+str(i)].replace({'1':1,' ':0},inplace=True) \n",
    "# Condición o filtro: \n",
    "cond_emigro=sum([df['MOTFUERA'+str(i)] for i in range(1,8)])!=0 # True si algún valor no nulo (algún Sí)\n",
    "# Variable auxiliar: \n",
    "df['emigro']=0\n",
    "df['emigro'].mask(cond_emigro,1,inplace=True)"
   ]
  },
  {
   "cell_type": "code",
   "execution_count": null,
   "metadata": {},
   "outputs": [],
   "source": [
    "# Comprobación: \n",
    "df[['MOTFUERA'+str(i) for i in range(1,8)]+['emigro']].groupby('emigro').agg(['value_counts'])"
   ]
  },
  {
   "cell_type": "code",
   "execution_count": null,
   "metadata": {},
   "outputs": [],
   "source": [
    "# Comprobación adicional: los no preguntados son los mismos para los que 'CONT1'='NMOV'.\n",
    "df[['CONT1','emigro']][df['CONT1']=='NMOV'].groupby('emigro').agg(['value_counts'])"
   ]
  },
  {
   "cell_type": "code",
   "execution_count": null,
   "metadata": {},
   "outputs": [],
   "source": [
    "# Función motfuera: inspeccion e imputación de valores de las variables 'MOTFUERAi' (i=1,2,...,7)\n",
    "def motfuera(col):\n",
    "    print(df[['emigro',col]].groupby('emigro').agg(['unique'])) \n",
    "    # Anteriormente se imputó No (0) a todas las no respuestas\n",
    "    # Se corrige imputando None a quien no fue preguntado: \n",
    "    df[col].mask(df['emigro']==0,None,inplace=True)\n",
    "    df[col]=df[col].astype('float')\n",
    "    print(df[['emigro',col]].groupby('emigro').agg(['unique']))\n",
    "    return"
   ]
  },
  {
   "cell_type": "code",
   "execution_count": null,
   "metadata": {},
   "outputs": [],
   "source": [
    "motfuera('MOTFUERA1')"
   ]
  },
  {
   "cell_type": "markdown",
   "metadata": {},
   "source": [
    "#### 'MOTFUERA2'\n",
    "(Solo si se fue a vivir fuera de España en el periodo 2000-2009)  \n",
    "\n",
    "¿**Finalizar el postdoctorado o un contrato de trabajo** fue un motivo para vivir fuera de España en el periodo 2000-2009? 1=Sí, blanco."
   ]
  },
  {
   "cell_type": "code",
   "execution_count": null,
   "metadata": {},
   "outputs": [],
   "source": [
    "motfuera('MOTFUERA2')"
   ]
  },
  {
   "cell_type": "markdown",
   "metadata": {},
   "source": [
    "#### 'MOTFUERA3'\n",
    "(Solo si se fue a vivir fuera de España en el periodo 2000-2009)  \n",
    "\n",
    "¿Fueron **otros factores relacionados con el empleo o económicos** (traslado laboral porel mismo organismo o empresa, cambio de empleo, garantía u oferta de trabajo, o realización de un postdoctorado) motivos para vivir fuera de España en el periodo 2000-2009? 1=Sí, blanco."
   ]
  },
  {
   "cell_type": "code",
   "execution_count": null,
   "metadata": {},
   "outputs": [],
   "source": [
    "motfuera('MOTFUERA3')"
   ]
  },
  {
   "cell_type": "markdown",
   "metadata": {},
   "source": [
    "#### 'MOTFUERA4'\n",
    "(Solo si se fue a vivir fuera de España en el periodo 2000-2009)  \n",
    "\n",
    "¿Fueron **factores académicos** (mayor posibilidad de realizar publicaciones, desarrollo o continuidad de la tesis doctoral, trabajar en un área específica no existente en el país de origen, creación de un equipo propio o una nueva área de investigación) motivos para vivir fuera de España en el periodo 2000-2009? 1=Sí, blanco."
   ]
  },
  {
   "cell_type": "code",
   "execution_count": null,
   "metadata": {},
   "outputs": [],
   "source": [
    "motfuera('MOTFUERA4')"
   ]
  },
  {
   "cell_type": "markdown",
   "metadata": {},
   "source": [
    "#### 'MOTFUERA5'\n",
    "(Solo si se fue a vivir fuera de España en el periodo 2000-2009)  \n",
    "\n",
    "¿Fueron **factores personales o familiares** motivos para vivir fuera de España en el periodo 2000-2009? 1=Sí, blanco."
   ]
  },
  {
   "cell_type": "code",
   "execution_count": null,
   "metadata": {},
   "outputs": [],
   "source": [
    "motfuera('MOTFUERA5')"
   ]
  },
  {
   "cell_type": "markdown",
   "metadata": {},
   "source": [
    "#### 'MOTFUERA6'\n",
    "(Solo si se fue a vivir fuera de España en el periodo 2000-2009)  \n",
    "\n",
    "¿Fueron **factores políticos o administrativos** (finalización de permiso de residencia o visado, etc.) motivos para vivir fuera de España en el periodo 2000-2009? 1=Sí, blanco."
   ]
  },
  {
   "cell_type": "code",
   "execution_count": null,
   "metadata": {},
   "outputs": [],
   "source": [
    "motfuera('MOTFUERA6')"
   ]
  },
  {
   "cell_type": "markdown",
   "metadata": {},
   "source": [
    "#### 'MOTFUERA7'\n",
    "(Solo si se fue a vivir fuera de España en el periodo 2000-2009)  \n",
    "\n",
    "¿Fueron **otros motivos** los que le llevaron a vivir fuera de España en el periodo 2000-2009? 1=Sí, blanco."
   ]
  },
  {
   "cell_type": "code",
   "execution_count": null,
   "metadata": {},
   "outputs": [],
   "source": [
    "motfuera('MOTFUERA7')"
   ]
  },
  {
   "cell_type": "markdown",
   "metadata": {},
   "source": [
    "#### 'MOTVENIR1'\n",
    "(Solo si vino a vivir o regresó a España en el periodo 2000-2009)  \n",
    "\n",
    "¿Fue **finalizar el doctorado** un motivo para venir o volver a España en el periodo 2000-2009? 1=Sí, blanco.\n",
    "\n",
    "**Observación**: Se procede de forma análoga a como se hizo con la familia de variables 'MOTFUERAi' para imputar valores perdidos debido a los itinerarios de la encuesta. "
   ]
  },
  {
   "cell_type": "code",
   "execution_count": null,
   "metadata": {},
   "outputs": [],
   "source": [
    "df['MOTVENIR1'].sort_values().unique() # Blank as ' '"
   ]
  },
  {
   "cell_type": "code",
   "execution_count": null,
   "metadata": {},
   "outputs": [],
   "source": [
    "# Variable auxiliar 'regreso': toma valor 1 para los encuestados que se identifican con al menos uno de los ...\n",
    "# ... motivos sugeridos como razón para venir o regresar a España en el periodo referido. \n",
    "# Se imputa valor 0 (No) a los registros en blanco (provisional) y 1 (int) a '1' para habilitar operaciones: \n",
    "for i in range(1,8):\n",
    "    df['MOTVENIR'+str(i)].replace({'1':1,' ':0},inplace=True) \n",
    "# Condición o filtro: \n",
    "cond_regreso=sum([df['MOTVENIR'+str(i)] for i in range(1,8)])!=0 # True si algún valor no nulo (algún Sí)\n",
    "# Variable auxiliar: \n",
    "df['regreso']=0\n",
    "df['regreso'].mask(cond_regreso,1,inplace=True)"
   ]
  },
  {
   "cell_type": "code",
   "execution_count": null,
   "metadata": {},
   "outputs": [],
   "source": [
    "# Inspección: \n",
    "df['regreso'].value_counts()"
   ]
  },
  {
   "cell_type": "code",
   "execution_count": null,
   "metadata": {},
   "outputs": [],
   "source": [
    "# Comprobación: \n",
    "df[['MOTVENIR'+str(i) for i in range(1,8)]+['regreso']].groupby('regreso').agg(['value_counts'])"
   ]
  },
  {
   "cell_type": "code",
   "execution_count": null,
   "metadata": {},
   "outputs": [],
   "source": [
    "# Inspección adicional I: \n",
    "df[L_CONT][df['regreso']==0].value_counts()"
   ]
  },
  {
   "cell_type": "code",
   "execution_count": null,
   "metadata": {},
   "outputs": [],
   "source": [
    "# Inspección adicional II: \n",
    "df[L_CONT][df['regreso']==1].value_counts()\n",
    "# Las inspecciones adicionales I y II permiten comprobar que el análisis de los valores de 'CONTi' no permite ...\n",
    "# ... identificar a quienen vinieron o retornaron: algunas filas aparecen asociadas a 'regreso'=0 en algunos ...\n",
    "# ... casos y a 'regreso'=1 en otros. "
   ]
  },
  {
   "cell_type": "code",
   "execution_count": null,
   "metadata": {},
   "outputs": [],
   "source": [
    "# Función motvenir: inspeccion e imputación de valores de las variables 'MOTVENIRi' (i=1,2,...,7)\n",
    "def motvenir(col):\n",
    "    print(df[['regreso',col]].groupby('regreso').agg(['unique']))\n",
    "    # Anteriormente se imputó 0 (No) a todas las repuestas en blanco\n",
    "    # Se imputa None a quien no fue preguntado: \n",
    "    df[col].mask(df['regreso']==0,None,inplace=True)\n",
    "    df[col]=df[col].astype('float')\n",
    "    print(df[['regreso',col]].groupby('regreso').agg(['unique']))\n",
    "    return"
   ]
  },
  {
   "cell_type": "code",
   "execution_count": null,
   "metadata": {},
   "outputs": [],
   "source": [
    "motvenir('MOTVENIR1')"
   ]
  },
  {
   "cell_type": "markdown",
   "metadata": {},
   "source": [
    "#### 'MOTVENIR2'\n",
    "(Solo si vino a vivir o regresó a España en el periodo 2000-2009)   \n",
    "\n",
    "¿Fueron **finalizar el postdoctorado o un contrato de trabajo** motivos para venir o volver a España en el periodo 2000-2009?"
   ]
  },
  {
   "cell_type": "code",
   "execution_count": null,
   "metadata": {},
   "outputs": [],
   "source": [
    "motvenir('MOTVENIR2')"
   ]
  },
  {
   "cell_type": "markdown",
   "metadata": {},
   "source": [
    "#### 'MOTVENIR3'\n",
    "(Solo si vino a vivir o regresó a España en el periodo 2000-2009)   \n",
    "\n",
    "¿Fueron **otros factores relacionados con el empleo o económicos** (traslado laboral por el mismo organismo o empresa, cambio de empleo, garantía u oferta de trabajo, o realización de un postdoctorado) motivos para venir o volver a España en el periodo 2000-2009?"
   ]
  },
  {
   "cell_type": "code",
   "execution_count": null,
   "metadata": {},
   "outputs": [],
   "source": [
    "motvenir('MOTVENIR3')"
   ]
  },
  {
   "cell_type": "markdown",
   "metadata": {},
   "source": [
    "#### 'MOTVENIR4'\n",
    "(Solo si vino a vivir o regresó a España en el periodo 2000-2009)   \n",
    "\n",
    "¿Fueron **factores académicos** (mayor posibilidad de realizar publicaciones, desarrollo o continuidad de la tesis doctoral, trabajar en un área específica no existente en el país de origen, creación de un equipo propio o una nueva área de investigación) motivos para venir o volver a España en el periodo 2000-2009?"
   ]
  },
  {
   "cell_type": "code",
   "execution_count": null,
   "metadata": {},
   "outputs": [],
   "source": [
    "motvenir('MOTVENIR4')"
   ]
  },
  {
   "cell_type": "markdown",
   "metadata": {},
   "source": [
    "#### 'MOTVENIR5'\n",
    "(Solo si vino a vivir o regresó a España en el periodo 2000-2009)   \n",
    "\n",
    "¿Fueron **factores personales o familiares** motivos para venir o volver a España en el periodo 2000-2009?"
   ]
  },
  {
   "cell_type": "code",
   "execution_count": null,
   "metadata": {},
   "outputs": [],
   "source": [
    "motvenir('MOTVENIR5')"
   ]
  },
  {
   "cell_type": "markdown",
   "metadata": {},
   "source": [
    "#### 'MOTVENIR6'\n",
    "(Solo si vino a vivir o regresó a España en el periodo 2000-2009)   \n",
    "\n",
    "¿Fueron **factores políticos o administrativos** (finalización de permiso de residencia o visado, etc.) motivos para venir o volver a España en el periodo 2000-2009?"
   ]
  },
  {
   "cell_type": "code",
   "execution_count": null,
   "metadata": {},
   "outputs": [],
   "source": [
    "motvenir('MOTVENIR6')"
   ]
  },
  {
   "cell_type": "markdown",
   "metadata": {},
   "source": [
    "#### 'MOTVENIR7'\n",
    "(Solo si vino a vivir o regresó a España en el periodo 2000-2009)   \n",
    "\n",
    "¿Fueron **otros motivos** los que le llevaron a venir o volver a España en el periodo 2000-2009?"
   ]
  },
  {
   "cell_type": "code",
   "execution_count": null,
   "metadata": {},
   "outputs": [],
   "source": [
    "motvenir('MOTVENIR7')"
   ]
  },
  {
   "cell_type": "markdown",
   "metadata": {},
   "source": [
    "#### 'PREVIRSE'\n",
    "¿Tiene previsto marcharse a vivir fuera de España?  1=Sí, permanentemente, 2=Sí, temporalmente, 3= No. "
   ]
  },
  {
   "cell_type": "code",
   "execution_count": null,
   "metadata": {},
   "outputs": [],
   "source": [
    "df['PREVIRSE'].sort_values().unique() # No missing values"
   ]
  },
  {
   "cell_type": "code",
   "execution_count": null,
   "metadata": {},
   "outputs": [],
   "source": [
    "df['PREVIRSE']=df['PREVIRSE'].astype('int') \n",
    "df['PREVIRSE'].sort_values().unique() "
   ]
  },
  {
   "cell_type": "markdown",
   "metadata": {},
   "source": [
    "#### 'MESANTESIR'\n",
    "(Solo para respuesta 1 o 2 en variable 'PREVIRSE')  \n",
    "\n",
    "Tiempo que considera que va a transcurrir antes de abandonar España:1=Menos de 6 meses, 2=De 6 a  12 meses, 3=De 1 a 2 años, 4=De 2 a 3 años, 5=De 3 a 4 años, 6=De 4 a 5 años, 7=De 5 a 10 años, 8=Más de 10 años."
   ]
  },
  {
   "cell_type": "code",
   "execution_count": null,
   "metadata": {},
   "outputs": [],
   "source": [
    "df['MESANTESIR'].sort_values().unique() # Blank as ' '"
   ]
  },
  {
   "cell_type": "code",
   "execution_count": null,
   "metadata": {},
   "outputs": [],
   "source": [
    "df[['MESANTESIR','PREVIRSE']].groupby('PREVIRSE').agg(['unique']) # No missing values"
   ]
  },
  {
   "cell_type": "code",
   "execution_count": null,
   "metadata": {},
   "outputs": [],
   "source": [
    "# Función re_previrse: inspección e imputación de valores de variables condicionadas por la respuesta a 'PREVIRSE'.\n",
    "def re_previrse(col,blank=' ',tipus='float'):\n",
    "    print (df[[col,'PREVIRSE']].groupby('PREVIRSE').agg(['unique']))\n",
    "    df[col].replace({blank:None},inplace=True)\n",
    "    df[col]=df[col].astype(tipus)\n",
    "    print (df[[col,'PREVIRSE']].groupby('PREVIRSE').agg(['unique']))\n",
    "    return    "
   ]
  },
  {
   "cell_type": "code",
   "execution_count": null,
   "metadata": {},
   "outputs": [],
   "source": [
    "re_previrse('MESANTESIR')"
   ]
  },
  {
   "cell_type": "markdown",
   "metadata": {},
   "source": [
    "#### 'MOTIRSE1'\n",
    "(Solo para respuesta 1 o 2 en variable 'PREVIRSE')  \n",
    "\n",
    "¿Fueron **finalizar el postdoctorado o un contrato de trabajo** motivos para tomar la decision de marcharse a vivir fuera de España? 1=Sí, blanco."
   ]
  },
  {
   "cell_type": "code",
   "execution_count": null,
   "metadata": {},
   "outputs": [],
   "source": [
    "df[['MOTIRSE1','PREVIRSE']].groupby('PREVIRSE').agg(['unique']) "
   ]
  },
  {
   "cell_type": "code",
   "execution_count": null,
   "metadata": {},
   "outputs": [],
   "source": [
    "# Función motirse: inspección e imputación de valores de la familia de variables 'MOTIRSEi' (i=1,2,...,6)\n",
    "def motirse(col):\n",
    "    print (df[[col,'PREVIRSE']].groupby('PREVIRSE').agg(['unique']))\n",
    "    # Se imputa respuesta No (0) cuando no se ha contestado Sí (1) habiendo sido preguntado\n",
    "    df[col].mask(((df['PREVIRSE']==1)|(df['PREVIRSE']==2))&(df[col]!='1'),0,inplace=True)\n",
    "    # Se imputa None cuando no ha sido preguntado\n",
    "    df[col].replace({' ':None},inplace=True)\n",
    "    df[col]=df[col].astype('float')\n",
    "    print (df[[col,'PREVIRSE']].groupby('PREVIRSE').agg(['unique']))\n",
    "    return    "
   ]
  },
  {
   "cell_type": "code",
   "execution_count": null,
   "metadata": {},
   "outputs": [],
   "source": [
    "motirse('MOTIRSE1')"
   ]
  },
  {
   "cell_type": "markdown",
   "metadata": {},
   "source": [
    "#### 'MOTIRSE2'\n",
    "(Solo para respuesta 1 o 2 en variable 'PREVIRSE')  \n",
    "\n",
    "¿Fueron **otros factores relacionados con el empleo o económicos** (traslado laboral por el mismo organismo o empresa, cambio de empleo, garantía u oferta de trabajo, o realización de un postdoctorado motivos para tomar la decision de marcharse a vivir fuera de España? 1=Sí, blanco."
   ]
  },
  {
   "cell_type": "code",
   "execution_count": null,
   "metadata": {},
   "outputs": [],
   "source": [
    "motirse('MOTIRSE2')"
   ]
  },
  {
   "cell_type": "markdown",
   "metadata": {},
   "source": [
    "#### 'MOTIRSE3'\n",
    "(Solo para respuesta 1 o 2 en variable 'PREVIRSE')  \n",
    "\n",
    "¿Fueron **factores académicos** (mayor posibilidad de realizar publicaciones, desarrollo o continuidad de la tesis doctoral, trabajar en un área específica no existente en el país de origen, creación de un equipo propio o una nueva área de investigación) motivos para tomar la decision de marcharse a vivir fuera de España? 1=Sí, blanco."
   ]
  },
  {
   "cell_type": "code",
   "execution_count": null,
   "metadata": {},
   "outputs": [],
   "source": [
    "motirse('MOTIRSE3')"
   ]
  },
  {
   "cell_type": "markdown",
   "metadata": {},
   "source": [
    "#### 'MOTIRSE4'\n",
    "(Solo para respuesta 1 o 2 en variable 'PREVIRSE')  \n",
    "\n",
    "¿Fueron **factores personales o familiares** motivos para tomar la decision de marcharse a vivir fuera de España? 1=Sí, blanco."
   ]
  },
  {
   "cell_type": "code",
   "execution_count": null,
   "metadata": {},
   "outputs": [],
   "source": [
    "motirse('MOTIRSE4')"
   ]
  },
  {
   "cell_type": "markdown",
   "metadata": {},
   "source": [
    "#### 'MOTIRSE5'\n",
    "(Solo para respuesta 1 o 2 en variable 'PREVIRSE')  \n",
    "\n",
    "¿Fueron **factores políticos o administrativos** (finalización de permiso de residencia o visado, etc.) motivos para tomar la decision de marcharse a vivir fuera de España? 1=Sí, blanco."
   ]
  },
  {
   "cell_type": "code",
   "execution_count": null,
   "metadata": {},
   "outputs": [],
   "source": [
    "motirse('MOTIRSE5')"
   ]
  },
  {
   "cell_type": "markdown",
   "metadata": {},
   "source": [
    "#### 'MOTIRSE6'\n",
    "(Solo para respuesta 1 o 2 en variable 'PREVIRSE')  \n",
    "\n",
    "¿Fueron **otros motivos** las razones para tomar la decision de marcharse a vivir fuera de España? 1=Sí, blanco."
   ]
  },
  {
   "cell_type": "code",
   "execution_count": null,
   "metadata": {},
   "outputs": [],
   "source": [
    "motirse('MOTIRSE6')"
   ]
  },
  {
   "cell_type": "markdown",
   "metadata": {},
   "source": [
    "#### 'CONTOUT'\n",
    "(Solo para respuesta 1 o 2 en variable 'PREVIRSE')  \n",
    "\n",
    "**Continente** del país **al que tiene pensado marcharse a vivir**: 'EU27'=Unión Europea, 'REUR'=Resto de Europa, 'EUCA'=EEUU y Canadá, 'RAME'=Resto de América, 'AFRI' = África, 'ASIA'=Asia, 'OCEA'=Oceanía, 'NMOV'=Sin movilidad."
   ]
  },
  {
   "cell_type": "code",
   "execution_count": null,
   "metadata": {},
   "outputs": [],
   "source": [
    "df['CONTOUT'].sort_values().unique() # No missing values"
   ]
  },
  {
   "cell_type": "markdown",
   "metadata": {},
   "source": [
    "#### 'INV'\n",
    "¿Estaba **trabajando como investigador** el 31 de diciembre de 2009? 1=Sí, 0=No. "
   ]
  },
  {
   "cell_type": "code",
   "execution_count": null,
   "metadata": {},
   "outputs": [],
   "source": [
    "df['INV'].sort_values().unique() # No missing values"
   ]
  },
  {
   "cell_type": "code",
   "execution_count": null,
   "metadata": {},
   "outputs": [],
   "source": [
    "df['INV']=df['INV'].astype('int')\n",
    "df['INV'].sort_values().unique() "
   ]
  },
  {
   "cell_type": "markdown",
   "metadata": {},
   "source": [
    "#### 'MOTNOINV1'\n",
    "(Solo para respuesta No (0) en variable 'INV')  \n",
    "\n",
    "¿Fue que **no estaba interesado** en investigar un motivo para no estar trabajando como investigador? 1=Sí, blanco."
   ]
  },
  {
   "cell_type": "code",
   "execution_count": null,
   "metadata": {},
   "outputs": [],
   "source": [
    "df['MOTNOINV1'].sort_values().unique() # Blank as ' '"
   ]
  },
  {
   "cell_type": "code",
   "execution_count": null,
   "metadata": {},
   "outputs": [],
   "source": [
    "# Función motnoinv: inspección e imputación de valores de la familia de variables 'MOTNOINVi' (i=1,2,...,9)\n",
    "def motnoinv(col):\n",
    "    print (df[[col,'INV']].groupby('INV').agg(['unique']))\n",
    "    # Se imputa respuesta No (0) cuando no se ha contestado Sí (1) habiendo sido preguntado\n",
    "    df[col].mask((df['INV']==0)&(df[col]!='1'),0,inplace=True)\n",
    "    # Se imputa None cuando no ha sido preguntado\n",
    "    df[col].replace({' ':None},inplace=True)\n",
    "    df[col]=df[col].astype('float')\n",
    "    print (df[[col,'INV']].groupby('INV').agg(['unique']))\n",
    "    return    "
   ]
  },
  {
   "cell_type": "code",
   "execution_count": null,
   "metadata": {},
   "outputs": [],
   "source": [
    "motnoinv('MOTNOINV1')"
   ]
  },
  {
   "cell_type": "markdown",
   "metadata": {},
   "source": [
    "#### 'MOTNOINV2'\n",
    "(Solo para respuesta No (0) en variable 'INV')  \n",
    "\n",
    "¿Fueron las **oportunidades laborales muy limitadas en el campo de la investigación** un motivo para no estar trabajando como investigador? 1=Sí, blanco."
   ]
  },
  {
   "cell_type": "code",
   "execution_count": null,
   "metadata": {},
   "outputs": [],
   "source": [
    "motnoinv('MOTNOINV2')"
   ]
  },
  {
   "cell_type": "markdown",
   "metadata": {},
   "source": [
    "#### 'MOTNOINV3'\n",
    "(Solo para respuesta No (0) en variable 'INV')  \n",
    "\n",
    "¿Fue la **falta de estructura para el desarrollo de la carrera investigadora** un motivo para no estar trabajando como investigador? 1=Sí, blanco."
   ]
  },
  {
   "cell_type": "code",
   "execution_count": null,
   "metadata": {},
   "outputs": [],
   "source": [
    "motnoinv('MOTNOINV3')"
   ]
  },
  {
   "cell_type": "markdown",
   "metadata": {},
   "source": [
    "#### 'MOTNOINV4'\n",
    "(Solo para respuesta No (0) en variable 'INV')  \n",
    "\n",
    "¿Fue la **baja remuneración** un motivo para no estar trabajando como investigador? 1=Sí, blanco."
   ]
  },
  {
   "cell_type": "code",
   "execution_count": null,
   "metadata": {},
   "outputs": [],
   "source": [
    "motnoinv('MOTNOINV4')"
   ]
  },
  {
   "cell_type": "markdown",
   "metadata": {},
   "source": [
    "#### 'MOTNOINV5'\n",
    "(Solo para respuesta No (0) en variable 'INV')  \n",
    "\n",
    "¿Fueron las **malas condiciones laborales** un motivo para no estar trabajando como investigador? 1=Sí, blanco."
   ]
  },
  {
   "cell_type": "code",
   "execution_count": null,
   "metadata": {},
   "outputs": [],
   "source": [
    "motnoinv('MOTNOINV5')"
   ]
  },
  {
   "cell_type": "markdown",
   "metadata": {},
   "source": [
    "#### 'MOTNOINV6'\n",
    "(Solo para respuesta No (0) en variable 'INV')  \n",
    "\n",
    "¿Fue la **falta de reconocimiento público a la investigación** un motivo para no estar trabajando como investigador? 1=Sí, blanco."
   ]
  },
  {
   "cell_type": "code",
   "execution_count": null,
   "metadata": {},
   "outputs": [],
   "source": [
    "motnoinv('MOTNOINV6')"
   ]
  },
  {
   "cell_type": "markdown",
   "metadata": {},
   "source": [
    "#### 'MOTNOINV7'\n",
    "(Solo para respuesta No (0) en variable 'INV')  \n",
    "\n",
    "¿Fue la **incertidumbre sobre las perspectivas profesionales a largo plazo** un motivo para no estar trabajando como investigador? 1=Sí, blanco."
   ]
  },
  {
   "cell_type": "code",
   "execution_count": null,
   "metadata": {},
   "outputs": [],
   "source": [
    "motnoinv('MOTNOINV7')"
   ]
  },
  {
   "cell_type": "markdown",
   "metadata": {},
   "source": [
    "#### 'MOTNOINV8'\n",
    "(Solo para respuesta No (0) en variable 'INV')  \n",
    "\n",
    "¿Fue la **jubilación** un motivo para no estar trabajando como investigador? 1=Sí, blanco."
   ]
  },
  {
   "cell_type": "code",
   "execution_count": null,
   "metadata": {},
   "outputs": [],
   "source": [
    "motnoinv('MOTNOINV8')"
   ]
  },
  {
   "cell_type": "markdown",
   "metadata": {},
   "source": [
    "#### 'MOTNOINV9'\n",
    "(Solo para respuesta No (0) en variable 'INV')  \n",
    "\n",
    "¿Fueron **otros** los motivos para no estar trabajando como investigador? 1=Sí, blanco."
   ]
  },
  {
   "cell_type": "code",
   "execution_count": null,
   "metadata": {},
   "outputs": [],
   "source": [
    "motnoinv('MOTNOINV9')"
   ]
  },
  {
   "cell_type": "markdown",
   "metadata": {},
   "source": [
    "#### 'ALGINV'\n",
    "(Solo para respuesta No (0) en variable 'INV')  \n",
    "\n",
    "¿Ha **trabajado alguna vez como investigador**? 1=Sí, 0=No."
   ]
  },
  {
   "cell_type": "code",
   "execution_count": null,
   "metadata": {},
   "outputs": [],
   "source": [
    "df[['ALGINV','INV']].groupby('INV').agg(['unique']) # No missing values"
   ]
  },
  {
   "cell_type": "code",
   "execution_count": null,
   "metadata": {},
   "outputs": [],
   "source": [
    "# Se imputa valor 1 a quienes trabajaban como investigadores en el momento de la encuesta (1 en 'INV')\n",
    "df['ALGINV'].replace({' ':1},inplace=True)\n",
    "df['ALGINV']=df['ALGINV'].astype('int')\n",
    "df[['ALGINV','INV']].groupby('INV').agg(['unique'])"
   ]
  },
  {
   "cell_type": "markdown",
   "metadata": {},
   "source": [
    "#### 'MOTINV1'\n",
    "(Solo para respuesta Sí (1) en la variable 'ALGINV' o Sí (1) a la variable 'INV')  \n",
    "\n",
    "¿Fue el **trabajo creativo e innovador** un motivo para decidir trabajar como investigador? 1=Sí, blanco"
   ]
  },
  {
   "cell_type": "code",
   "execution_count": null,
   "metadata": {},
   "outputs": [],
   "source": [
    "df[['MOTINV1','ALGINV']].groupby('ALGINV').agg(['unique']) "
   ]
  },
  {
   "cell_type": "code",
   "execution_count": null,
   "metadata": {},
   "outputs": [],
   "source": [
    "# Función motinv: inspección e imputación de valores de la familia de variables 'MOTINVi' (i=1,2,...,6)\n",
    "def motinv(col):\n",
    "    print(df[[col,'ALGINV']].groupby('ALGINV').agg(['unique']))\n",
    "    # Se imputa respuesta No (0) a quienes han trabajado como investigadores y no responden Sí (1)\n",
    "    df[col].mask((df['ALGINV']==1)&(df[col]!='1'),0,inplace=True)\n",
    "    # Se imputa None cuando no ha sido preguntado\n",
    "    df[col].replace({' ':None},inplace=True)\n",
    "    df[col]=df[col].astype('float')\n",
    "    print (df[[col,'ALGINV']].groupby('ALGINV').agg(['unique']))\n",
    "    return    "
   ]
  },
  {
   "cell_type": "code",
   "execution_count": null,
   "metadata": {},
   "outputs": [],
   "source": [
    "motinv('MOTINV1')"
   ]
  },
  {
   "cell_type": "markdown",
   "metadata": {},
   "source": [
    "#### 'MOTINV2'\n",
    "(Solo para respuesta Sí (1) en la variable 'ALGINV' o Sí (1) a la variable 'INV')  \n",
    "\n",
    "¿Fue la **alta remuneración** un motivo para decidir trabajar como investigador? 1=Sí, blanco"
   ]
  },
  {
   "cell_type": "code",
   "execution_count": null,
   "metadata": {},
   "outputs": [],
   "source": [
    "motinv('MOTINV2')"
   ]
  },
  {
   "cell_type": "markdown",
   "metadata": {},
   "source": [
    "#### 'MOTINV3'\n",
    "(Solo para respuesta Sí (1) en la variable 'ALGINV' o Sí (1) a la variable 'INV')  \n",
    "\n",
    "¿Fue la **promoción profesional** un motivo para decidir trabajar como investigador? 1=Sí, blanco"
   ]
  },
  {
   "cell_type": "code",
   "execution_count": null,
   "metadata": {},
   "outputs": [],
   "source": [
    "motinv('MOTINV3')"
   ]
  },
  {
   "cell_type": "markdown",
   "metadata": {},
   "source": [
    "#### 'MOTINV4'\n",
    "(Solo para respuesta Sí (1) en la variable 'ALGINV' o Sí (1) a la variable 'INV')  \n",
    "\n",
    "¿Fue la **seguridad laboral** un motivo para decidir trabajar como investigador? 1=Sí, blanco"
   ]
  },
  {
   "cell_type": "code",
   "execution_count": null,
   "metadata": {},
   "outputs": [],
   "source": [
    "motinv('MOTINV4')"
   ]
  },
  {
   "cell_type": "markdown",
   "metadata": {},
   "source": [
    "#### 'MOTINV5'\n",
    "(Solo para respuesta Sí (1) en la variable 'ALGINV' o Sí (1) a la variable 'INV')  \n",
    "\n",
    "¿Fueron las **buenas condiciones laborales** un motivo para decidir trabajar como investigador? 1=Sí, blanco"
   ]
  },
  {
   "cell_type": "code",
   "execution_count": null,
   "metadata": {},
   "outputs": [],
   "source": [
    "motinv('MOTINV5')"
   ]
  },
  {
   "cell_type": "markdown",
   "metadata": {},
   "source": [
    "#### 'MOTINV6'\n",
    "(Solo para respuesta Sí (1) en la variable 'ALGINV' o Sí (1) a la variable 'INV')   \n",
    "\n",
    "¿Fue la **contribución a la sociedad** un motivo para decidir trabajar como investigador? 1=Sí, blanco"
   ]
  },
  {
   "cell_type": "code",
   "execution_count": null,
   "metadata": {},
   "outputs": [],
   "source": [
    "motinv('MOTINV6')"
   ]
  },
  {
   "cell_type": "markdown",
   "metadata": {},
   "source": [
    "#### 'MOTINV7'\n",
    "(Solo para respuesta Sí (1) en la variable 'ALGINV' o Sí (1) a la variable 'INV')  \n",
    "\n",
    "¿Fue que **no pudo elegir otro empleo** un motivo para decidir trabajar como investigador? 1=Sí, blanco"
   ]
  },
  {
   "cell_type": "code",
   "execution_count": null,
   "metadata": {},
   "outputs": [],
   "source": [
    "motinv('MOTINV7')"
   ]
  },
  {
   "cell_type": "markdown",
   "metadata": {},
   "source": [
    "#### 'MOTINV8'\n",
    "(Solo para respuesta Sí (1) en la variable 'ALGINV' o Sí (1) a la variable 'INV')   \n",
    "\n",
    "¿Fue el mero **interés por la investigación y el conocimiento** un motivo para decidir trabajar como investigador? 1=Sí, blanco"
   ]
  },
  {
   "cell_type": "code",
   "execution_count": null,
   "metadata": {},
   "outputs": [],
   "source": [
    "motinv('MOTINV8')"
   ]
  },
  {
   "cell_type": "markdown",
   "metadata": {},
   "source": [
    "#### 'MOTINV9'\n",
    "(Solo para respuesta Sí (1) en la variable 'ALGINV' o Sí (1) a la variable 'INV')    \n",
    "\n",
    "¿Fue **otros** los motivos para decidir trabajar como investigador? 1=Sí, blanco"
   ]
  },
  {
   "cell_type": "code",
   "execution_count": null,
   "metadata": {},
   "outputs": [],
   "source": [
    "motinv('MOTINV9')"
   ]
  },
  {
   "cell_type": "markdown",
   "metadata": {},
   "source": [
    "#### 'MESESINV'\n",
    "(Solo para respuesta Sí (1) en la variable 'ALGINV' o Sí (1) a la variable 'INV')    \n",
    "\n",
    "Numero total de **meses que ha trabajado como investigador** a lo largo de su vida. "
   ]
  },
  {
   "cell_type": "code",
   "execution_count": null,
   "metadata": {},
   "outputs": [],
   "source": [
    "df[['MESESINV','ALGINV']].groupby('ALGINV').agg(['unique']) # Blank as '  .'. No missing values"
   ]
  },
  {
   "cell_type": "code",
   "execution_count": null,
   "metadata": {},
   "outputs": [],
   "source": [
    "# Función re_alginv: inspección e imputación de valores de variables condicionadas por respuesta a 'ALGINV'.\n",
    "def re_alginv(col,blank):\n",
    "    print (df[[col,'ALGINV']].groupby('ALGINV').agg(['unique']))\n",
    "    # Se imputa valor 0 a quienes no han trabajado nunca como investigadores: \n",
    "    df[col].replace({blank:0},inplace=True) # No missing values para varlor 1 de 'ALGINV'\n",
    "    df[col]=df[col].astype('int')\n",
    "    print (df[[col,'ALGINV']].groupby('ALGINV').agg(['unique']))"
   ]
  },
  {
   "cell_type": "code",
   "execution_count": null,
   "metadata": {},
   "outputs": [],
   "source": [
    "re_alginv('MESESINV',blank='  .')"
   ]
  },
  {
   "cell_type": "markdown",
   "metadata": {},
   "source": [
    "#### 'ARTIC'\n",
    "(Solo para respuesta Sí (1) en la variable 'ALGINV' o Sí (1) a la variable 'INV')    \n",
    "\n",
    "Número de **artículos** que le han sido publicados o aceptados por una publicación especializada entre enero de 2007 y diciembre de 2009."
   ]
  },
  {
   "cell_type": "code",
   "execution_count": null,
   "metadata": {},
   "outputs": [],
   "source": [
    "df[['ARTIC','ALGINV']].groupby('ALGINV').agg(['unique']) # Blank as '  .'. No missing values"
   ]
  },
  {
   "cell_type": "code",
   "execution_count": null,
   "metadata": {},
   "outputs": [],
   "source": [
    "# Se imputa valor 0 a quienes no han trabajado nunca como investigadores: \n",
    "re_alginv('ARTIC',blank='  .')"
   ]
  },
  {
   "cell_type": "markdown",
   "metadata": {},
   "source": [
    "#### 'LIBROS'\n",
    "(Solo para respuesta Sí (1) en la variable 'ALGINV' o Sí (1) a la variable 'INV')    \n",
    "\n",
    "Número de **libros o monografías** (incluyendo colaboraciones) que le han sido publicados o aceptados por una publicación especializada entre enero de 2007 y diciembre de 2009."
   ]
  },
  {
   "cell_type": "code",
   "execution_count": null,
   "metadata": {},
   "outputs": [],
   "source": [
    "df[['LIBROS','ALGINV']].groupby('ALGINV').agg(['unique']) # Blank as '  .'. No missing values"
   ]
  },
  {
   "cell_type": "code",
   "execution_count": null,
   "metadata": {},
   "outputs": [],
   "source": [
    "# Se imputa valor 0 a quienes no han trabajado nunca como investigadores: \n",
    "re_alginv('LIBROS',blank='  .')"
   ]
  },
  {
   "cell_type": "markdown",
   "metadata": {},
   "source": [
    "#### 'NUMPAT'\n",
    "(Solo para respuesta Sí (1) en la variable 'ALGINV' o Sí (1) a la variable 'INV')    \n",
    "\n",
    "Número de **solicitudes de patentes** en las que figuraba como inventor entre enero de 2007 y diciembre de 2009"
   ]
  },
  {
   "cell_type": "code",
   "execution_count": null,
   "metadata": {},
   "outputs": [],
   "source": [
    "df[['NUMPAT','ALGINV']].groupby('ALGINV').agg(['unique']) # Blank as ' .'. No missing values"
   ]
  },
  {
   "cell_type": "code",
   "execution_count": null,
   "metadata": {},
   "outputs": [],
   "source": [
    "# Se imputa valor 0 a quienes no han trabajado nunca como investigadores: \n",
    "re_alginv('NUMPAT',blank=' .')"
   ]
  },
  {
   "cell_type": "markdown",
   "metadata": {},
   "source": [
    "#### 'PATNAC'\n",
    "(Solo para respuesta Sí (1) en la variable 'ALGINV' o Sí (1) a la variable 'INV')    \n",
    "\n",
    "Número de **solicitudes de patentes con protección nacional** en las que figuraba como inventor entre enero de 2007 y diciembre de 2009"
   ]
  },
  {
   "cell_type": "code",
   "execution_count": null,
   "metadata": {},
   "outputs": [],
   "source": [
    "df[['PATNAC','ALGINV']].groupby('ALGINV').agg(['unique'])  # Blank as ' .'. No missing values"
   ]
  },
  {
   "cell_type": "code",
   "execution_count": null,
   "metadata": {},
   "outputs": [],
   "source": [
    "# Se imputa valor 0 a quienes no han trabajado nunca como investigadores: \n",
    "re_alginv('PATNAC',blank=' .')"
   ]
  },
  {
   "cell_type": "markdown",
   "metadata": {},
   "source": [
    "#### 'PATEU'\n",
    "(Solo para respuesta Sí (1) en la variable 'ALGINV' o Sí (1) a la variable 'INV')    \n",
    "\n",
    "Número de **solicitudes de patentes con protección europea** en las que figuraba como inventor entre enero de 2007 y diciembre de 2009"
   ]
  },
  {
   "cell_type": "code",
   "execution_count": null,
   "metadata": {},
   "outputs": [],
   "source": [
    "df[['PATEU','ALGINV']].groupby('ALGINV').agg(['unique']) # Blank as ' .'. No missing values"
   ]
  },
  {
   "cell_type": "code",
   "execution_count": null,
   "metadata": {},
   "outputs": [],
   "source": [
    "# Se imputa valor 0 a quienes no han trabajado nunca como investigadores: \n",
    "re_alginv('PATEU',blank=' .')"
   ]
  },
  {
   "cell_type": "markdown",
   "metadata": {},
   "source": [
    "#### 'PATCOOP'\n",
    "(Solo para respuesta Sí (1) en la variable 'ALGINV' o Sí (1) a la variable 'INV')    \n",
    "\n",
    "Número de **solicitudes de patentes con protección del Tratado de Cooperación de Patentes** en las que figuraba como inventor entre enero de 2007 y diciembre de 2009"
   ]
  },
  {
   "cell_type": "code",
   "execution_count": null,
   "metadata": {},
   "outputs": [],
   "source": [
    "df[['PATCOOP','ALGINV']].groupby('ALGINV').agg(['unique']) # Blank as ' .'. No missing values"
   ]
  },
  {
   "cell_type": "code",
   "execution_count": null,
   "metadata": {},
   "outputs": [],
   "source": [
    "# Se imputa valor 0 a quienes no han trabajado nunca como investigadores: \n",
    "re_alginv('PATCOOP',blank=' .')"
   ]
  },
  {
   "cell_type": "markdown",
   "metadata": {},
   "source": [
    "#### 'PATCOOP'   \n",
    "Número de sus **patentes de productos o procesos que han sido comercializadas** o han obtenido ya las licencias necesarias para ello entre enero de 2007 y diciembre de 2009."
   ]
  },
  {
   "cell_type": "code",
   "execution_count": null,
   "metadata": {},
   "outputs": [],
   "source": [
    "df[['PATCOM','ALGINV']].groupby('ALGINV').agg(['unique']) # No missing values"
   ]
  },
  {
   "cell_type": "code",
   "execution_count": null,
   "metadata": {},
   "outputs": [],
   "source": [
    "df['PATCOM']=df['PATCOM'].astype('int')"
   ]
  },
  {
   "cell_type": "markdown",
   "metadata": {},
   "source": [
    "#### 'COMPA'   \n",
    "¿Ha **constituido una empresa** entre enero de 2007 y diciembre de 2009? 1=Sí, 0=No."
   ]
  },
  {
   "cell_type": "code",
   "execution_count": null,
   "metadata": {},
   "outputs": [],
   "source": [
    "df['COMPA'].sort_values().unique() # No missing values"
   ]
  },
  {
   "cell_type": "code",
   "execution_count": null,
   "metadata": {},
   "outputs": [],
   "source": [
    "df['COMPA']=df['COMPA'].astype('int')"
   ]
  },
  {
   "cell_type": "markdown",
   "metadata": {},
   "source": [
    "#### 'TUTOR'   \n",
    "¿Ha **dirigido algún Master o tesis doctoral** entre enero de 2007 y diciembre de 2009? 1=Sí, 0=No."
   ]
  },
  {
   "cell_type": "code",
   "execution_count": null,
   "metadata": {},
   "outputs": [],
   "source": [
    "df['TUTOR'].sort_values().unique() # No missing values"
   ]
  },
  {
   "cell_type": "code",
   "execution_count": null,
   "metadata": {},
   "outputs": [],
   "source": [
    "df['TUTOR']=df['TUTOR'].astype('int')"
   ]
  },
  {
   "cell_type": "markdown",
   "metadata": {},
   "source": [
    "#### 'COOPERA'   \n",
    "¿Ha **cooperado con grupos de investigación extranjeros** entre enero de 2007 y diciembre de 2009? 1=Sí, 0=No."
   ]
  },
  {
   "cell_type": "code",
   "execution_count": null,
   "metadata": {},
   "outputs": [],
   "source": [
    "df['COOPERA'].sort_values().unique() # No missing values"
   ]
  },
  {
   "cell_type": "code",
   "execution_count": null,
   "metadata": {},
   "outputs": [],
   "source": [
    "df['COOPERA']=df['TUTOR'].astype('int')"
   ]
  },
  {
   "cell_type": "markdown",
   "metadata": {},
   "source": [
    "#### 'INVFUT'   \n",
    "¿Tiene **intención de dedicarse a la investigación** en el periodo 2010-2011? 1=Sí, 0=No."
   ]
  },
  {
   "cell_type": "code",
   "execution_count": null,
   "metadata": {},
   "outputs": [],
   "source": [
    "df['INVFUT'].sort_values().unique() # No missing values"
   ]
  },
  {
   "cell_type": "code",
   "execution_count": null,
   "metadata": {},
   "outputs": [],
   "source": [
    "df['INVFUT']=df['INVFUT'].astype('int')"
   ]
  },
  {
   "cell_type": "markdown",
   "metadata": {},
   "source": [
    "#### 'FACTOR'   \n",
    "Variable no descrita en la documentación adjunta. "
   ]
  },
  {
   "cell_type": "code",
   "execution_count": null,
   "metadata": {},
   "outputs": [],
   "source": [
    "df['FACTOR'].sort_values().unique()"
   ]
  },
  {
   "cell_type": "code",
   "execution_count": null,
   "metadata": {},
   "outputs": [],
   "source": [
    "for col in df.columns: \n",
    "    print (col, df[col].dtype)"
   ]
  },
  {
   "cell_type": "code",
   "execution_count": null,
   "metadata": {},
   "outputs": [],
   "source": [
    "df.to_csv('/home/bea/Escritorio/KSchool_TFM/Principales/Encuesta_RRHH_Ciencia_Tecnologia_2009/prep_doct.csv')"
   ]
  },
  {
   "cell_type": "code",
   "execution_count": null,
   "metadata": {},
   "outputs": [],
   "source": []
  }
 ],
 "metadata": {
  "kernelspec": {
   "display_name": "Python 3",
   "language": "python",
   "name": "python3"
  },
  "language_info": {
   "codemirror_mode": {
    "name": "ipython",
    "version": 3
   },
   "file_extension": ".py",
   "mimetype": "text/x-python",
   "name": "python",
   "nbconvert_exporter": "python",
   "pygments_lexer": "ipython3",
   "version": "3.6.9"
  }
 },
 "nbformat": 4,
 "nbformat_minor": 4
}
