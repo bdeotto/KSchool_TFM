{
 "cells": [
  {
   "cell_type": "code",
   "execution_count": 1,
   "metadata": {},
   "outputs": [],
   "source": [
    "import pandas as pd\n",
    "import numpy as np\n",
    "import openpyxl\n",
    "from lower_case_dict import d_dict as D_dict\n",
    "from lower_case_dict import d_describe as D_describe\n",
    "from lower_case_dict import D_ambito_a_rama\n",
    "from lower_case_dict import D_ocupaciones\n",
    "from lower_case_dict import D_cnae_a_num\n",
    "from upper_case_dict_Master19 import diccionario \n",
    "from traduce import leyenda\n",
    "from traduce import traduce\n",
    "import traduce as tr\n",
    "pd.options.display.max_columns=None\n",
    "pd.options.display.max_colwidth=300"
   ]
  },
  {
   "cell_type": "markdown",
   "metadata": {},
   "source": [
    "# Objetivo: Inspección y ajustes\n",
    "\n",
    "**Objetivo**: Inspección del dataset, imputación de valores perdidos debido a los itinerarios de la encuesta y creación de variables nuevas para análisis descriptivo y predictivo.   \n",
    "\n",
    "De esta etapa del proceso se obtienen **dos datasets**:    \n",
    "\n",
    "1- Un dataset con las **variables originales** (designadas con nombres en mayúsculas) a las que, a lo sumo, se aplica alguna de las transformaciones siguientes:  \n",
    "- Imputación de valores perdidos que pueden deducirse de los itinerarios de la encuesta.  \n",
    "- Sustitución de las no respuestas y las respuestas NS/NC por el valor None.  \n",
    "\n",
    "2- Un **dataset nuevo** formado por algunas de las variables originales escogidas como candidatas a formar parte de los modelos descriptivos o predictivos y por algunas variables nuevas creadas a partir de las originales. Las variables de este dataset se designan por nombres en minúsculas para facilitar su identificación. Algunas de las transformaciones que dan lugar a este conjunto de variables son:  \n",
    "- Sustitución del valor asociado a la respuesta No en las preguntas de respuesta Sí o No: se cambia el valor 2 asociado al No en el dataset original por el valor 0.  \n",
    "- Creación de variables binarias para cada una de las categorías de algunas de las variables cualitativas del dataset original.  \n",
    "- Creación de variables nuevas para información que puede deducirse de una o varias de las columnas del dataset original.  \n",
    "- Creación de variables con información del dataset (año de la encuesta, población objeto de muestreo, etc.) con el fin de que sea posible identificar la procedencia de cada observación del el dataset que resulte de reunir todos los empleados en este estudio.  \n",
    "\n",
    "En esta etapa **no se imputan valores a las no respuestas o a las respuestas NS/NC** que no puedan deducirse de los itinerarios de la encuesta. Solo se sustituyen por el valor None. Se procede así para evitar que los valores imputados interfieran en los resultados del análisis descriptivo. "
   ]
  },
  {
   "cell_type": "markdown",
   "metadata": {},
   "source": [
    "# Diccionarios de variables categóricas\n",
    "\n",
    "Los **diccionarios de las variables originales** en la encuesta y los definidos para las **variables nuevas** (creadas inicialmente para el dataset de graduados 2019) se importan, con algunas excepciones, del **módulo lower_case_dict**:  \n",
    "\n",
    "- **D_dict**; diccionarios de traducción de las variables categóricas. Construidos de acuerdo con los códigos facilitados en el archivo de diseño de la encuesta 'dr_EILU_GRAD_2019.xlsx' y con los definidos para las variables nuevas creadas en la inspeccion de la encuesta de graduados 2019. Para cada variable: D_dict[variable][código_categórico]=interpretación_código.  \n",
    "\n",
    "- **D_describe**; diccionario de interpretación de las variables originales y nuevas: D_describe[variable]=interpretación_variable.  \n",
    "\n",
    "Las **excepciones** son algunos diccionnarios que no son iguales para las encuestas a graduados y titulados de máster 2019. Estos se importan a través de la función diccionario definida en el **módulo upper_case_dict_Master19**, una adaptación del módulo módulo upper_case_dict ajustada a la encuesta de titulados de máster 2019. Se invocan y aplican caso a caso cuando procede. \n",
    "\n",
    "En el proceso de inspección se redefinen algunas variables originales y se definen otras nuevas. Estas se añaden a los diccionarios D_dict y D_describe para ser recuperados con el módulo lower_case_dict.  \n",
    "\n",
    "También se importa del módulo lower_case_dict el diccionario D_ambito_a_rama que asocia los ámbitos de estudios a su rama de conocimiento. \n",
    "\n",
    "### Funciones de traducción\n",
    "\n",
    "Se importan las funciones traduce y leyenda del módulo traduce. "
   ]
  },
  {
   "cell_type": "markdown",
   "metadata": {},
   "source": [
    "# Recuperación del dataset\n",
    "Dataset 'Encuesta_insercion_laboral_titulados_universitarios_2019' en formato csv.   \n",
    "\n",
    "Enlace a fuente (INE): https://www.ine.es/dyngs/INEbase/es/operacion.htm?c=Estadistica_C&cid=1254736176991&menu=resultados&idp=1254735573113#!tabs-1254736195339"
   ]
  },
  {
   "cell_type": "code",
   "execution_count": 2,
   "metadata": {},
   "outputs": [],
   "source": [
    "ruta_dataset='data/EILU_MAST_2019.csv'"
   ]
  },
  {
   "cell_type": "code",
   "execution_count": 3,
   "metadata": {},
   "outputs": [],
   "source": [
    "df_raw=pd.read_csv(ruta_dataset,sep='\\t',low_memory=False)"
   ]
  },
  {
   "cell_type": "code",
   "execution_count": 4,
   "metadata": {},
   "outputs": [],
   "source": [
    "df=df_raw.copy()\n",
    "\n",
    "# Declaración de variables globales en en módulo traduce (tr):\n",
    "tr.D_dict=D_dict\n",
    "tr.df=df"
   ]
  },
  {
   "cell_type": "code",
   "execution_count": 5,
   "metadata": {},
   "outputs": [
    {
     "data": {
      "text/plain": [
       "(11483, 291)"
      ]
     },
     "execution_count": 5,
     "metadata": {},
     "output_type": "execute_result"
    }
   ],
   "source": [
    "df.shape"
   ]
  },
  {
   "cell_type": "code",
   "execution_count": 6,
   "metadata": {},
   "outputs": [
    {
     "name": "stdout",
     "output_type": "stream",
     "text": [
      "0 IDENT int64\n",
      "1 SEXO int64\n",
      "2 EDAD int64\n",
      "3 NACIO int64\n",
      "4 NACIO1 object\n",
      "5 NACIO2 object\n",
      "6 PAIS_NACI int64\n",
      "7 TITU int64\n",
      "8 RAMA int64\n",
      "9 AMBITO int64\n",
      "10 T_UNIV int64\n",
      "11 DISCA int64\n",
      "12 PROXY int64\n",
      "13 LUG_RES_PAIS int64\n",
      "14 PAIS_NAC_PADRE int64\n",
      "15 ESTUDIOS_PADRE int64\n",
      "16 PAIS_NAC_MADRE int64\n",
      "17 ESTUDIOS_MADRE int64\n",
      "18 EST_B1 int64\n",
      "19 EST_B2_1 object\n",
      "20 EST_B2_2 object\n",
      "21 EST_B2_3 object\n",
      "22 EST_B2_4 object\n",
      "23 EST_B2_5 object\n",
      "24 EST_M1 int64\n",
      "25 EST_M2 object\n",
      "26 EST_M3 object\n",
      "27 EST_M4 object\n",
      "28 EST_MES int64\n",
      "29 EST_B8 int64\n",
      "30 SAT1 int64\n",
      "31 SAT2 object\n",
      "32 EST_B11_1 int64\n",
      "33 EST_B11_2 int64\n",
      "34 EST_B11_3 int64\n",
      "35 EST_B11_4 int64\n",
      "36 EST_B11_5 int64\n",
      "37 EST_B11_6 int64\n",
      "38 EST_B12 object\n",
      "39 EST_B13_AMB1 object\n",
      "40 EST_B14_1 object\n",
      "41 EST_B15_1 object\n",
      "42 EST_B13_AMB2 object\n",
      "43 EST_B14_2 object\n",
      "44 EST_B15_2 object\n",
      "45 EST_B13_AMB3 object\n",
      "46 EST_B14_3 object\n",
      "47 EST_B15_3 object\n",
      "48 EST_B16 object\n",
      "49 EST_B17_M1 object\n",
      "50 EST_B18_1 object\n",
      "51 EST_B19_1 object\n",
      "52 EST_B17_M2 object\n",
      "53 EST_B18_2 object\n",
      "54 EST_B19_2 object\n",
      "55 EST_B17_M3 object\n",
      "56 EST_B18_3 object\n",
      "57 EST_B19_3 object\n",
      "58 EST_B21 object\n",
      "59 EST_B22 object\n",
      "60 EST_B23 object\n",
      "61 EST_B24 object\n",
      "62 EST_B25_FA1 object\n",
      "63 EST_B26_1 object\n",
      "64 EST_B27_1 object\n",
      "65 EST_B25_FA2 object\n",
      "66 EST_B26_2 object\n",
      "67 EST_B27_2 object\n",
      "68 EST_B25_FA3 object\n",
      "69 EST_B26_3 object\n",
      "70 EST_B27_3 object\n",
      "71 EST_B28 object\n",
      "72 EST_B29_FA1 object\n",
      "73 EST_B30_1 object\n",
      "74 EST_B31_1 object\n",
      "75 EST_B29_FA2 object\n",
      "76 EST_B30_2 object\n",
      "77 EST_B31_2 object\n",
      "78 EST_B29_FA3 object\n",
      "79 EST_B30_3 object\n",
      "80 EST_B31_3 object\n",
      "81 EST2_NC int64\n",
      "82 IDI_MT1 int64\n",
      "83 IDI_MT2 object\n",
      "84 IDIOMAS int64\n",
      "85 IDIOMA1 object\n",
      "86 NIV_ID1 object\n",
      "87 ACREIDI1 object\n",
      "88 TIPOACREIDI1 object\n",
      "89 IDIOMA2 object\n",
      "90 NIV_ID2 object\n",
      "91 ACREIDI2 object\n",
      "92 TIPOACREIDI2 object\n",
      "93 IDIOMA3 object\n",
      "94 NIV_ID3 object\n",
      "95 ACREIDI3 object\n",
      "96 TIPOACREIDI3 object\n",
      "97 IDIOMA4 object\n",
      "98 NIV_ID4 object\n",
      "99 ACREIDI4 object\n",
      "100 TIPOACREIDI4 object\n",
      "101 TITIDI object\n",
      "102 TIC int64\n",
      "103 EST_B38_1 int64\n",
      "104 EST_B39_1 object\n",
      "105 EST_B38_2 int64\n",
      "106 EST_B39_2 object\n",
      "107 EST_B38_3 int64\n",
      "108 EST_B39_3 object\n",
      "109 EST_B38_4 int64\n",
      "110 EST_B39_4 object\n",
      "111 EST_B38_5 int64\n",
      "112 EST_B39_5 object\n",
      "113 EST_B38_6 int64\n",
      "114 EST_B39_6 object\n",
      "115 EST_B38_7 int64\n",
      "116 EST_B39_7 object\n",
      "117 MOV_IN object\n",
      "118 MOVRAZ1 object\n",
      "119 MOVRAZ2 object\n",
      "120 MOVRAZ3 object\n",
      "121 MOVRAZ4 object\n",
      "122 MOVRAZ5 object\n",
      "123 MVFUERA int64\n",
      "124 MOVPAI1 object\n",
      "125 MOVPAI2 object\n",
      "126 MOVPAI3 object\n",
      "127 MOVRA21 object\n",
      "128 MOVRA22 object\n",
      "129 MOVRA23 object\n",
      "130 MOVRA24 object\n",
      "131 MOVRA25 object\n",
      "132 MOVRA26 object\n",
      "133 MOV_C7 object\n",
      "134 MOV_C8_1 object\n",
      "135 MOV_C8_2 object\n",
      "136 MOV_C8_3 object\n",
      "137 MOV_C8_4 object\n",
      "138 MOV_C8_5 object\n",
      "139 MOV_C8_6 object\n",
      "140 MOV_C9 object\n",
      "141 RETORNO object\n",
      "142 TRBPRN1 int64\n",
      "143 TRBPRN2 object\n",
      "144 TRINAC_D4 object\n",
      "145 TRINAC_D5 object\n",
      "146 TRINAC_D6 object\n",
      "147 TRPARA_D5 object\n",
      "148 TRPARA_D6 object\n",
      "149 TRPARA_D7_1 object\n",
      "150 TRPARA_D7_2 object\n",
      "151 TRPARA_D7_3 object\n",
      "152 TRPARA_D7_4 object\n",
      "153 TRPARA_D7_5 object\n",
      "154 TRPARA_D7_6 object\n",
      "155 TRPARA_D7_7 object\n",
      "156 TRPARA_D7_8 object\n",
      "157 TRPARA_D7_9 object\n",
      "158 TRPARA_D7_10 object\n",
      "159 TRPARA_D8_1 object\n",
      "160 TRPARA_D8_2 object\n",
      "161 TRPARA_D8_3 object\n",
      "162 TRPARA_D8_4 object\n",
      "163 TRPARA_D8_5 object\n",
      "164 TRPARA_D8_6 object\n",
      "165 TRAC_D9 object\n",
      "166 LUG_TRAB_PAIS object\n",
      "167 SIT_PRO object\n",
      "168 JORNADA object\n",
      "169 TRABOC object\n",
      "170 TR_CNAE object\n",
      "171 TR_TAM object\n",
      "172 TR_ANIO object\n",
      "173 TR_SUELDO object\n",
      "174 TR_D19 object\n",
      "175 TR_D20 object\n",
      "176 TR_D21 object\n",
      "177 TR_D22_1 object\n",
      "178 TR_D22_2 object\n",
      "179 TR_D22_3 object\n",
      "180 TR_D22_4 object\n",
      "181 TR_D22_5 object\n",
      "182 TR_D22_6 object\n",
      "183 TR_D23 object\n",
      "184 HL_E0 int64\n",
      "185 HL_E00 object\n",
      "186 HL_E1 int64\n",
      "187 HL_E2 object\n",
      "188 HL_E3 int64\n",
      "189 HL_E5 object\n",
      "190 HL_JOR object\n",
      "191 HL_E7 object\n",
      "192 HL_E8 object\n",
      "193 HA_TRAB int64\n",
      "194 HATR_E11 object\n",
      "195 HATR_E12 object\n",
      "196 HATR_BSQ1 object\n",
      "197 HATR_BSQ2 object\n",
      "198 HATR_BSQ3 object\n",
      "199 HATR_BSQ4 object\n",
      "200 HATR_BSQ5 object\n",
      "201 HATR_BSQ6 object\n",
      "202 HATR_BSQ7 object\n",
      "203 HATR_BSQ8 object\n",
      "204 HATR_BSQ9 object\n",
      "205 HATR_BSQ10 object\n",
      "206 HATR_BSQ11 object\n",
      "207 P_CONTI object\n",
      "208 PR_PAIS object\n",
      "209 PR_OCU object\n",
      "210 PR_SIT_PR object\n",
      "211 PR_JOR object\n",
      "212 PR_NIVEL object\n",
      "213 PR_AREA object\n",
      "214 PR_CONOC object\n",
      "215 PR_SUELDO object\n",
      "216 HATR_TIEMP object\n",
      "217 HATR_NUM object\n",
      "218 HATR_E27 object\n",
      "219 NOTRAB_BUS object\n",
      "220 NOTRAB_BUSM object\n",
      "221 NOTRAB_BUST object\n",
      "222 NOTRAB_BSQ1 object\n",
      "223 NOTRAB_BSQ2 object\n",
      "224 NOTRAB_BSQ3 object\n",
      "225 NOTRAB_BSQ4 object\n",
      "226 NOTRAB_BSQ5 object\n",
      "227 NOTRAB_BSQ6 object\n",
      "228 NOTRAB_BSQ7 object\n",
      "229 NOTRAB_BSQ8 object\n",
      "230 NOTRAB_BSQ9 object\n",
      "231 NOTRAB_BSQ10 object\n",
      "232 NOTRAB_DIF1 object\n",
      "233 NOTRAB_DIF2 object\n",
      "234 NOTRAB_DIF3 object\n",
      "235 NOTRAB_DIF4 object\n",
      "236 NOTRAB_DIF5 object\n",
      "237 NOTRAB_DIF6 object\n",
      "238 RECHA_TR int64\n",
      "239 RECHA_M1 object\n",
      "240 RECHA_M2 object\n",
      "241 RECHA_M3 object\n",
      "242 RECHA_M4 object\n",
      "243 RECHA_M5 object\n",
      "244 RECHA_M6 object\n",
      "245 RECHA_M7 object\n",
      "246 RECHA_M8 object\n",
      "247 RECHA_M9 object\n",
      "248 HO_F1 int64\n",
      "249 HO_PAREJ int64\n",
      "250 HO_NPER int64\n",
      "251 HO_NPER_TR int64\n",
      "252 HO_TIPO int64\n",
      "253 ALSSM15 int64\n",
      "254 COTIZ15 object\n",
      "255 DIAS15 float64\n",
      "256 BCOTC15 object\n",
      "257 ALSSM16 int64\n",
      "258 COTIZ16 object\n",
      "259 DIAS16 float64\n",
      "260 BCOTC16 object\n",
      "261 ALSSM17 int64\n",
      "262 COTIZ17 object\n",
      "263 DIAS17 float64\n",
      "264 BCOTC17 object\n",
      "265 ALSSM18 int64\n",
      "266 COTIZ18 object\n",
      "267 DIAS18 float64\n",
      "268 BCOTC18 object\n",
      "269 ALSSM19 int64\n",
      "270 COTIZ19 object\n",
      "271 DIAS19 float64\n",
      "272 BCOTC19 object\n",
      "273 N_CURS int64\n",
      "274 DENCUR1 object\n",
      "275 DURCUR1 object\n",
      "276 RESCUR1 object\n",
      "277 ANHCUR1 object\n",
      "278 DENCUR2 object\n",
      "279 DURCUR2 object\n",
      "280 RESCUR2 object\n",
      "281 ANHCUR2 object\n",
      "282 DENCUR3 object\n",
      "283 DURCUR3 object\n",
      "284 RESCUR3 object\n",
      "285 ANHCUR3 object\n",
      "286 DENCUR4 object\n",
      "287 DURCUR4 object\n",
      "288 RESCUR4 object\n",
      "289 ANHCUR4 object\n",
      "290 FACTOR float64\n"
     ]
    }
   ],
   "source": [
    "for n,col in enumerate(df.columns):\n",
    "    print(n,col,df[col].dtype)"
   ]
  },
  {
   "cell_type": "markdown",
   "metadata": {},
   "source": [
    "# Análisis exploratorio: funciones \n",
    "\n",
    "Funciones definidas para facilitar la inspección de variables categóricas: distribución de frecuencias relativas, distribuciones condicionadas, etc.    "
   ]
  },
  {
   "cell_type": "code",
   "execution_count": 7,
   "metadata": {},
   "outputs": [],
   "source": [
    "def proporciones(col,dropna=False):\n",
    "    \"\"\" Frecuencias relativas de los valores que toma una variable categórica en orden ascendente.\n",
    "    Si dropna=False, incluye los valores NaN.\"\"\"\n",
    "    out=df[col].value_counts(normalize=True,ascending=False,dropna=dropna)\n",
    "    out=pd.DataFrame(out)\n",
    "    return out"
   ]
  },
  {
   "cell_type": "code",
   "execution_count": 8,
   "metadata": {},
   "outputs": [],
   "source": [
    "# Lista de variables originales. Permite recuperar el dataset original después de imputar los valores perdidos ...\n",
    "# ... como consecuencia de los itinerarios de la encuesta. \n",
    "v_originales=df.columns.tolist()\n",
    "# Lista a la que se agregarán las variables candidatas a ser incluidas en el modelo predictivo\n",
    "v_modelos=list()\n",
    "# Listas de variables literales (interpretación de códigos de variables categóricas)\n",
    "v_originales_L=list()\n",
    "v_modelos_L=list()\n",
    "\n",
    "# Declaración de variables globales en en módulo traduce (tr):\n",
    "tr.v_originales_L=v_originales_L\n",
    "tr.v_modelos=v_modelos\n",
    "tr.v_modelos_L=v_modelos_L"
   ]
  },
  {
   "cell_type": "code",
   "execution_count": 9,
   "metadata": {},
   "outputs": [],
   "source": [
    "def no_respuesta(col,blank=' ',nsnc='9',tipo=None):\n",
    "    \"\"\" Sustituye respuestas en blanco y NS/NC por None y establece tipo 'float' si es posible'.\n",
    "    \"\"\"\n",
    "    if tipo=='int':\n",
    "        blank=None\n",
    "        nsnc=int(nsnc)\n",
    "    try: df[col].replace({blank:None,nsnc:None},inplace=True)\n",
    "    except: \n",
    "        serie=df[col].astype('O') # Evita conflictos cuando se aplica más de una vez\n",
    "        serie.replace({blank:None,str(nsnc):None},inplace=True)\n",
    "    try:df[col]=df[col].astype('float')\n",
    "    except:pass # Algunas variables categóricas tienen valores no numéricos (e.g. CNAE)\n",
    "    try:traduce(col,check=False)\n",
    "    except:pass # Para variables no categóricas (sin diccionario)\n",
    "    print (df[col].sort_values().unique())\n",
    "    return"
   ]
  },
  {
   "cell_type": "code",
   "execution_count": 10,
   "metadata": {},
   "outputs": [],
   "source": [
    "def redefine(col,nuevo=True,cat=True,si_no=False):\n",
    "    \"\"\" Crea una columna denominada 'nuevo' (por defecto, el nombre original en minúsculas) a partir \n",
    "    de la columna 'col', la añade a la lista de variables para los modelos descriptivos y predictivos. \n",
    "    Si 'cat' True, asocia la variable a su diccionario, traduce y conserva la variable traducida.\n",
    "    Si si_no=True, modifica el valor asociado a respuesta No (0 en lugar de 2).  \n",
    "    \"\"\"\n",
    "    if nuevo==True:\n",
    "        nuevo=col.lower()\n",
    "    df[nuevo]=df[col]\n",
    "    #D_describe[nuevo]=D_describe[col]\n",
    "    if str(nuevo) not in v_modelos: \n",
    "        v_modelos.append(nuevo)\n",
    "    if cat==True: \n",
    "        D_dict[nuevo]=D_dict[col]\n",
    "        traduce(nuevo,check=False)\n",
    "        if str(nuevo)+'_' not in v_modelos_L: \n",
    "            v_modelos_L.append(str(nuevo)+'_')\n",
    "    if si_no==True: \n",
    "        df[nuevo].replace({2:0},inplace=True)\n",
    "        D_dict[nuevo]=D_dict['si_no']\n",
    "        traduce(nuevo)\n",
    "    return"
   ]
  },
  {
   "cell_type": "code",
   "execution_count": 11,
   "metadata": {},
   "outputs": [],
   "source": [
    "def a_lista(col):\n",
    "    if col==col.lower() and col==col.strip('_') and str(col) not in v_modelos:\n",
    "        v_modelos.append(col)   \n",
    "    return"
   ]
  },
  {
   "cell_type": "code",
   "execution_count": 12,
   "metadata": {},
   "outputs": [],
   "source": [
    "def print_listas():\n",
    "    print ('v_originales_L:','\\t',v_originales_L)\n",
    "    print ('v_modelos:','\\t',v_modelos,'\\nv_modelos_L:','\\t',v_modelos_L)\n",
    "    return"
   ]
  },
  {
   "cell_type": "code",
   "execution_count": 13,
   "metadata": {},
   "outputs": [],
   "source": [
    "def reset(col_or_list):\n",
    "    \"\"\" Argumentos: columna o lista de columnas.\n",
    "    Elimina la variable col y su literal col_ de las listas de variables redefinidas o literales.\n",
    "    Si col es una variable en el dataset original, reestablece sus valores iniciales. \n",
    "    Si el argumento es una lista de columnas, aplica reset a cada columna de la lista.\n",
    "    \"\"\"\n",
    "    global v_originales_L, v_modelos, v_modelos_L\n",
    "    if type(col_or_list)!=list:\n",
    "        L=[col_or_list]\n",
    "    else: \n",
    "        L=col_or_list\n",
    "    for col in L:\n",
    "        if col==col.upper() and str(col)+'_' in v_originales_L:\n",
    "            v_originales_L.remove(str(col)+'_')\n",
    "        if col==col.lower() and str(col) in v_modelos:\n",
    "            v_modelos.remove(str(col))\n",
    "        if col==col.lower() and str(col)+'_' in LM_:\n",
    "            v_modelos_L.remove(str(col)+'_')\n",
    "        try:\n",
    "            df[col]=df_raw[col]\n",
    "            del df[str(col)+'_']\n",
    "        except:pass\n",
    "    return"
   ]
  },
  {
   "cell_type": "markdown",
   "metadata": {},
   "source": [
    "# BLOQUE A. DATOS PERSONALES Y SOCIODEMOGRÁFICOS"
   ]
  },
  {
   "cell_type": "markdown",
   "metadata": {},
   "source": [
    "## 'IDENT' \n",
    "**Índice** único del entrevistado."
   ]
  },
  {
   "cell_type": "code",
   "execution_count": 14,
   "metadata": {},
   "outputs": [
    {
     "data": {
      "text/plain": [
       "11483"
      ]
     },
     "execution_count": 14,
     "metadata": {},
     "output_type": "execute_result"
    }
   ],
   "source": [
    "df['IDENT'].nunique()"
   ]
  },
  {
   "cell_type": "markdown",
   "metadata": {},
   "source": [
    "## Nueva variable: 'año' \n",
    "**Año** en el que se realizó la encuesta.  \n",
    "Se añade para que las observaciones de este dataset sean identificables cuando se reunan varios datasets."
   ]
  },
  {
   "cell_type": "code",
   "execution_count": 15,
   "metadata": {},
   "outputs": [
    {
     "data": {
      "text/plain": [
       "array([2019])"
      ]
     },
     "execution_count": 15,
     "metadata": {},
     "output_type": "execute_result"
    }
   ],
   "source": [
    "df['año']=2019 \n",
    "df['año'].unique() # Comprobación"
   ]
  },
  {
   "cell_type": "code",
   "execution_count": 16,
   "metadata": {},
   "outputs": [],
   "source": [
    "a_lista('año')"
   ]
  },
  {
   "cell_type": "markdown",
   "metadata": {},
   "source": [
    "## Nueva variable: 'est_encuesta' \n",
    "**Estudios** oficiales objeto de la encuesta (los que definen la población objeto de muestreo).   \n",
    "Se añade para que las observaciones de este dataset sean identificables cuando se reunan varios datasets."
   ]
  },
  {
   "cell_type": "code",
   "execution_count": 17,
   "metadata": {},
   "outputs": [],
   "source": [
    "df['est_encuesta']=2 \n",
    "D_dict['est_encuesta'][2]='Máster universitario'  "
   ]
  },
  {
   "cell_type": "code",
   "execution_count": 18,
   "metadata": {},
   "outputs": [],
   "source": [
    "a_lista('est_encuesta')"
   ]
  },
  {
   "cell_type": "markdown",
   "metadata": {},
   "source": [
    "## 'SEXO' (redefinida como 'sexo')\n",
    "**Sexo** del entrevistado.  \n",
    "\n",
    "**'fem'**: 1= Mujer, 0=Hombre. "
   ]
  },
  {
   "cell_type": "code",
   "execution_count": 19,
   "metadata": {},
   "outputs": [
    {
     "data": {
      "text/plain": [
       "array([1, 2])"
      ]
     },
     "execution_count": 19,
     "metadata": {},
     "output_type": "execute_result"
    }
   ],
   "source": [
    "df['SEXO'].unique() # Sin valores no informados"
   ]
  },
  {
   "cell_type": "code",
   "execution_count": 20,
   "metadata": {},
   "outputs": [
    {
     "name": "stdout",
     "output_type": "stream",
     "text": [
      "     aux_traduce\n",
      "          unique\n",
      "SEXO            \n",
      "1       [Hombre]\n",
      "2        [Mujer]\n"
     ]
    }
   ],
   "source": [
    "traduce('SEXO')"
   ]
  },
  {
   "cell_type": "code",
   "execution_count": 21,
   "metadata": {},
   "outputs": [
    {
     "data": {
      "text/html": [
       "<div>\n",
       "<style scoped>\n",
       "    .dataframe tbody tr th:only-of-type {\n",
       "        vertical-align: middle;\n",
       "    }\n",
       "\n",
       "    .dataframe tbody tr th {\n",
       "        vertical-align: top;\n",
       "    }\n",
       "\n",
       "    .dataframe thead tr th {\n",
       "        text-align: left;\n",
       "    }\n",
       "\n",
       "    .dataframe thead tr:last-of-type th {\n",
       "        text-align: right;\n",
       "    }\n",
       "</style>\n",
       "<table border=\"1\" class=\"dataframe\">\n",
       "  <thead>\n",
       "    <tr>\n",
       "      <th></th>\n",
       "      <th>SEXO_</th>\n",
       "    </tr>\n",
       "    <tr>\n",
       "      <th></th>\n",
       "      <th>unique</th>\n",
       "    </tr>\n",
       "    <tr>\n",
       "      <th>sexo</th>\n",
       "      <th></th>\n",
       "    </tr>\n",
       "  </thead>\n",
       "  <tbody>\n",
       "    <tr>\n",
       "      <th>0</th>\n",
       "      <td>[Hombre]</td>\n",
       "    </tr>\n",
       "    <tr>\n",
       "      <th>1</th>\n",
       "      <td>[Mujer]</td>\n",
       "    </tr>\n",
       "  </tbody>\n",
       "</table>\n",
       "</div>"
      ],
      "text/plain": [
       "         SEXO_\n",
       "        unique\n",
       "sexo          \n",
       "0     [Hombre]\n",
       "1      [Mujer]"
      ]
     },
     "execution_count": 21,
     "metadata": {},
     "output_type": "execute_result"
    }
   ],
   "source": [
    "df['sexo']=0\n",
    "df['sexo'].mask(df['SEXO']==2,1,inplace=True)\n",
    "df[['SEXO_','sexo']].groupby('sexo').agg(['unique']) # Comprobación"
   ]
  },
  {
   "cell_type": "code",
   "execution_count": 22,
   "metadata": {},
   "outputs": [
    {
     "name": "stdout",
     "output_type": "stream",
     "text": [
      "     aux_traduce\n",
      "          unique\n",
      "sexo            \n",
      "0       [Hombre]\n",
      "1        [Mujer]\n"
     ]
    }
   ],
   "source": [
    "traduce('sexo')"
   ]
  },
  {
   "cell_type": "markdown",
   "metadata": {},
   "source": [
    "## 'EDAD' (redefinida como 'edad')\n",
    "**Edad** del entrevistado."
   ]
  },
  {
   "cell_type": "code",
   "execution_count": 23,
   "metadata": {},
   "outputs": [
    {
     "data": {
      "text/plain": [
       "'Grupo de edad en el momento de la encuesta'"
      ]
     },
     "execution_count": 23,
     "metadata": {},
     "output_type": "execute_result"
    }
   ],
   "source": [
    "D_describe['EDAD']"
   ]
  },
  {
   "cell_type": "code",
   "execution_count": 24,
   "metadata": {},
   "outputs": [
    {
     "data": {
      "text/plain": [
       "array([1, 2, 3])"
      ]
     },
     "execution_count": 24,
     "metadata": {},
     "output_type": "execute_result"
    }
   ],
   "source": [
    "df['EDAD'].unique() # Sin valores no informados"
   ]
  },
  {
   "cell_type": "code",
   "execution_count": 25,
   "metadata": {},
   "outputs": [
    {
     "name": "stdout",
     "output_type": "stream",
     "text": [
      "               aux_traduce\n",
      "                    unique\n",
      "EDAD                      \n",
      "1     [Menores de 30 años]\n",
      "2        [De 30 a 34 años]\n",
      "3       [De 35 y más años]\n"
     ]
    }
   ],
   "source": [
    "traduce('EDAD')"
   ]
  },
  {
   "cell_type": "code",
   "execution_count": 26,
   "metadata": {},
   "outputs": [],
   "source": [
    "redefine('EDAD')"
   ]
  },
  {
   "cell_type": "markdown",
   "metadata": {},
   "source": [
    "## 'NACIO'\n",
    "**Nacionalidad** del entrevistado."
   ]
  },
  {
   "cell_type": "code",
   "execution_count": 27,
   "metadata": {},
   "outputs": [
    {
     "data": {
      "text/plain": [
       "array([1, 3, 2])"
      ]
     },
     "execution_count": 27,
     "metadata": {},
     "output_type": "execute_result"
    }
   ],
   "source": [
    "df['NACIO'].unique() # Sin valores no informados"
   ]
  },
  {
   "cell_type": "code",
   "execution_count": 28,
   "metadata": {},
   "outputs": [
    {
     "name": "stdout",
     "output_type": "stream",
     "text": [
      "               aux_traduce\n",
      "                    unique\n",
      "NACIO                     \n",
      "1               [Española]\n",
      "2        [Española y otra]\n",
      "3      [Otra nacionalidad]\n"
     ]
    }
   ],
   "source": [
    "traduce('NACIO')"
   ]
  },
  {
   "cell_type": "markdown",
   "metadata": {},
   "source": [
    "## Nueva variable: 'nacionalidad'\n",
    "**Nacionalidad española** u otra: 0=Nacionalidad no española, 1=Nacionalidad española. "
   ]
  },
  {
   "cell_type": "code",
   "execution_count": 29,
   "metadata": {},
   "outputs": [
    {
     "data": {
      "text/html": [
       "<div>\n",
       "<style scoped>\n",
       "    .dataframe tbody tr th:only-of-type {\n",
       "        vertical-align: middle;\n",
       "    }\n",
       "\n",
       "    .dataframe tbody tr th {\n",
       "        vertical-align: top;\n",
       "    }\n",
       "\n",
       "    .dataframe thead tr th {\n",
       "        text-align: left;\n",
       "    }\n",
       "\n",
       "    .dataframe thead tr:last-of-type th {\n",
       "        text-align: right;\n",
       "    }\n",
       "</style>\n",
       "<table border=\"1\" class=\"dataframe\">\n",
       "  <thead>\n",
       "    <tr>\n",
       "      <th></th>\n",
       "      <th>nacionalidad</th>\n",
       "    </tr>\n",
       "    <tr>\n",
       "      <th></th>\n",
       "      <th>unique</th>\n",
       "    </tr>\n",
       "    <tr>\n",
       "      <th>NACIO</th>\n",
       "      <th></th>\n",
       "    </tr>\n",
       "  </thead>\n",
       "  <tbody>\n",
       "    <tr>\n",
       "      <th>1</th>\n",
       "      <td>[1]</td>\n",
       "    </tr>\n",
       "    <tr>\n",
       "      <th>2</th>\n",
       "      <td>[1]</td>\n",
       "    </tr>\n",
       "    <tr>\n",
       "      <th>3</th>\n",
       "      <td>[0]</td>\n",
       "    </tr>\n",
       "  </tbody>\n",
       "</table>\n",
       "</div>"
      ],
      "text/plain": [
       "      nacionalidad\n",
       "            unique\n",
       "NACIO             \n",
       "1              [1]\n",
       "2              [1]\n",
       "3              [0]"
      ]
     },
     "execution_count": 29,
     "metadata": {},
     "output_type": "execute_result"
    }
   ],
   "source": [
    "df['nacionalidad']=1\n",
    "df['nacionalidad'].mask(df['NACIO']==3,0,inplace=True)\n",
    "df[['nacionalidad','NACIO']].groupby(['NACIO']).agg(['unique']) # Comprobación"
   ]
  },
  {
   "cell_type": "code",
   "execution_count": 30,
   "metadata": {},
   "outputs": [
    {
     "name": "stdout",
     "output_type": "stream",
     "text": [
      "                             aux_traduce\n",
      "                                  unique\n",
      "nacionalidad                            \n",
      "0             [Nacionalidad no española]\n",
      "1                [Nacionalidad española]\n"
     ]
    }
   ],
   "source": [
    "traduce('nacionalidad')"
   ]
  },
  {
   "cell_type": "markdown",
   "metadata": {},
   "source": [
    "## 'NACIO1'\n",
    "\n",
    "(Solo a quienes declaran nacionalidad distinta de 'Española' -respuesta distinta a 1 en 'NACIO'-)  \n",
    "\n",
    "**País de primera nacionalidad**."
   ]
  },
  {
   "cell_type": "code",
   "execution_count": 31,
   "metadata": {},
   "outputs": [
    {
     "data": {
      "text/plain": [
       "array([' ', '2', '1', '9'], dtype=object)"
      ]
     },
     "execution_count": 31,
     "metadata": {},
     "output_type": "execute_result"
    }
   ],
   "source": [
    "df['NACIO1'].unique() # Valores no informados: ' ' o '9'"
   ]
  },
  {
   "cell_type": "code",
   "execution_count": 32,
   "metadata": {},
   "outputs": [
    {
     "name": "stdout",
     "output_type": "stream",
     "text": [
      "                     aux_traduce\n",
      "                          unique\n",
      "NACIO1                          \n",
      "                  [No aplicable]\n",
      "1             [Un país de la UE]\n",
      "2       [Un país fuera de la UE]\n",
      "9                        [NS/NC]\n"
     ]
    }
   ],
   "source": [
    "traduce('NACIO1')"
   ]
  },
  {
   "cell_type": "code",
   "execution_count": 33,
   "metadata": {},
   "outputs": [
    {
     "data": {
      "text/html": [
       "<div>\n",
       "<style scoped>\n",
       "    .dataframe tbody tr th:only-of-type {\n",
       "        vertical-align: middle;\n",
       "    }\n",
       "\n",
       "    .dataframe tbody tr th {\n",
       "        vertical-align: top;\n",
       "    }\n",
       "\n",
       "    .dataframe thead tr th {\n",
       "        text-align: left;\n",
       "    }\n",
       "\n",
       "    .dataframe thead tr:last-of-type th {\n",
       "        text-align: right;\n",
       "    }\n",
       "</style>\n",
       "<table border=\"1\" class=\"dataframe\">\n",
       "  <thead>\n",
       "    <tr>\n",
       "      <th></th>\n",
       "      <th>NACIO1_</th>\n",
       "    </tr>\n",
       "    <tr>\n",
       "      <th></th>\n",
       "      <th>unique</th>\n",
       "    </tr>\n",
       "    <tr>\n",
       "      <th>NACIO_</th>\n",
       "      <th></th>\n",
       "    </tr>\n",
       "  </thead>\n",
       "  <tbody>\n",
       "    <tr>\n",
       "      <th>Española</th>\n",
       "      <td>[No aplicable]</td>\n",
       "    </tr>\n",
       "    <tr>\n",
       "      <th>Española y otra</th>\n",
       "      <td>[Un país de la UE, Un país fuera de la UE, NS/NC]</td>\n",
       "    </tr>\n",
       "    <tr>\n",
       "      <th>Otra nacionalidad</th>\n",
       "      <td>[Un país fuera de la UE, Un país de la UE, NS/NC]</td>\n",
       "    </tr>\n",
       "  </tbody>\n",
       "</table>\n",
       "</div>"
      ],
      "text/plain": [
       "                                                             NACIO1_\n",
       "                                                              unique\n",
       "NACIO_                                                              \n",
       "Española                                              [No aplicable]\n",
       "Española y otra    [Un país de la UE, Un país fuera de la UE, NS/NC]\n",
       "Otra nacionalidad  [Un país fuera de la UE, Un país de la UE, NS/NC]"
      ]
     },
     "execution_count": 33,
     "metadata": {},
     "output_type": "execute_result"
    }
   ],
   "source": [
    "df[['NACIO_','NACIO1_']].groupby('NACIO_',dropna=False).agg(['unique'])\n",
    "# No informado para quienes declararon solo nacionalidad española en 'NACIO'"
   ]
  },
  {
   "cell_type": "code",
   "execution_count": 34,
   "metadata": {},
   "outputs": [
    {
     "name": "stdout",
     "output_type": "stream",
     "text": [
      "[ 1.  2. nan]\n"
     ]
    }
   ],
   "source": [
    "# Se imputa provisionalmente None a no informados\n",
    "no_respuesta('NACIO1')"
   ]
  },
  {
   "cell_type": "code",
   "execution_count": 35,
   "metadata": {},
   "outputs": [
    {
     "data": {
      "text/html": [
       "<div>\n",
       "<style scoped>\n",
       "    .dataframe tbody tr th:only-of-type {\n",
       "        vertical-align: middle;\n",
       "    }\n",
       "\n",
       "    .dataframe tbody tr th {\n",
       "        vertical-align: top;\n",
       "    }\n",
       "\n",
       "    .dataframe thead tr th {\n",
       "        text-align: left;\n",
       "    }\n",
       "\n",
       "    .dataframe thead tr:last-of-type th {\n",
       "        text-align: right;\n",
       "    }\n",
       "</style>\n",
       "<table border=\"1\" class=\"dataframe\">\n",
       "  <thead>\n",
       "    <tr>\n",
       "      <th></th>\n",
       "      <th>NACIO1_</th>\n",
       "    </tr>\n",
       "    <tr>\n",
       "      <th></th>\n",
       "      <th>unique</th>\n",
       "    </tr>\n",
       "    <tr>\n",
       "      <th>NACIO_</th>\n",
       "      <th></th>\n",
       "    </tr>\n",
       "  </thead>\n",
       "  <tbody>\n",
       "    <tr>\n",
       "      <th>Española</th>\n",
       "      <td>[Un país de la UE]</td>\n",
       "    </tr>\n",
       "    <tr>\n",
       "      <th>Española y otra</th>\n",
       "      <td>[Un país de la UE, Un país fuera de la UE, nan]</td>\n",
       "    </tr>\n",
       "    <tr>\n",
       "      <th>Otra nacionalidad</th>\n",
       "      <td>[Un país fuera de la UE, Un país de la UE, nan]</td>\n",
       "    </tr>\n",
       "  </tbody>\n",
       "</table>\n",
       "</div>"
      ],
      "text/plain": [
       "                                                           NACIO1_\n",
       "                                                            unique\n",
       "NACIO_                                                            \n",
       "Española                                        [Un país de la UE]\n",
       "Española y otra    [Un país de la UE, Un país fuera de la UE, nan]\n",
       "Otra nacionalidad  [Un país fuera de la UE, Un país de la UE, nan]"
      ]
     },
     "execution_count": 35,
     "metadata": {},
     "output_type": "execute_result"
    }
   ],
   "source": [
    "# Se imputa nacionalidad de un país de la UE (1) a quien declaró solo nacionalidad española en variable 'NACIO'\n",
    "# (Pueden quedar nacionales españoles con doble nacionalidad sin identificar como EU en NACIO1)\n",
    "df['NACIO1'].mask(df['NACIO']==1,1,inplace=True)\n",
    "traduce('NACIO1',check=False)\n",
    "df[['NACIO_','NACIO1_']].groupby('NACIO_').agg(['unique']) # Comprobación"
   ]
  },
  {
   "cell_type": "markdown",
   "metadata": {},
   "source": [
    "## 'NACIO2'\n",
    "\n",
    "(Solo a algunos de los que declaran 'Otra nacionalidad' -respuesta 3 en variable 'NACIO')  \n",
    "\n",
    "**País de segunda nacionalidad**."
   ]
  },
  {
   "cell_type": "code",
   "execution_count": 36,
   "metadata": {},
   "outputs": [
    {
     "data": {
      "text/plain": [
       "array([' ', '2', '1'], dtype=object)"
      ]
     },
     "execution_count": 36,
     "metadata": {},
     "output_type": "execute_result"
    }
   ],
   "source": [
    "df['NACIO2'].unique() # No informados como ' '"
   ]
  },
  {
   "cell_type": "code",
   "execution_count": 37,
   "metadata": {},
   "outputs": [
    {
     "name": "stdout",
     "output_type": "stream",
     "text": [
      "                     aux_traduce\n",
      "                          unique\n",
      "NACIO2                          \n",
      "                  [No aplicable]\n",
      "1             [Un país de la UE]\n",
      "2       [Un país fuera de la UE]\n"
     ]
    }
   ],
   "source": [
    "traduce('NACIO2')"
   ]
  },
  {
   "cell_type": "code",
   "execution_count": 38,
   "metadata": {},
   "outputs": [
    {
     "data": {
      "text/html": [
       "<div>\n",
       "<style scoped>\n",
       "    .dataframe tbody tr th:only-of-type {\n",
       "        vertical-align: middle;\n",
       "    }\n",
       "\n",
       "    .dataframe tbody tr th {\n",
       "        vertical-align: top;\n",
       "    }\n",
       "\n",
       "    .dataframe thead tr th {\n",
       "        text-align: left;\n",
       "    }\n",
       "\n",
       "    .dataframe thead tr:last-of-type th {\n",
       "        text-align: right;\n",
       "    }\n",
       "</style>\n",
       "<table border=\"1\" class=\"dataframe\">\n",
       "  <thead>\n",
       "    <tr>\n",
       "      <th></th>\n",
       "      <th></th>\n",
       "      <th>NACIO2_</th>\n",
       "    </tr>\n",
       "    <tr>\n",
       "      <th></th>\n",
       "      <th></th>\n",
       "      <th>unique</th>\n",
       "    </tr>\n",
       "    <tr>\n",
       "      <th>NACIO_</th>\n",
       "      <th>NACIO1_</th>\n",
       "      <th></th>\n",
       "    </tr>\n",
       "  </thead>\n",
       "  <tbody>\n",
       "    <tr>\n",
       "      <th>Española</th>\n",
       "      <th>Un país de la UE</th>\n",
       "      <td>[No aplicable]</td>\n",
       "    </tr>\n",
       "    <tr>\n",
       "      <th rowspan=\"2\" valign=\"top\">Española y otra</th>\n",
       "      <th>Un país de la UE</th>\n",
       "      <td>[No aplicable]</td>\n",
       "    </tr>\n",
       "    <tr>\n",
       "      <th>Un país fuera de la UE</th>\n",
       "      <td>[No aplicable]</td>\n",
       "    </tr>\n",
       "    <tr>\n",
       "      <th rowspan=\"2\" valign=\"top\">Otra nacionalidad</th>\n",
       "      <th>Un país de la UE</th>\n",
       "      <td>[No aplicable, Un país fuera de la UE]</td>\n",
       "    </tr>\n",
       "    <tr>\n",
       "      <th>Un país fuera de la UE</th>\n",
       "      <td>[No aplicable, Un país de la UE, Un país fuera de la UE]</td>\n",
       "    </tr>\n",
       "  </tbody>\n",
       "</table>\n",
       "</div>"
      ],
      "text/plain": [
       "                                                                                           NACIO2_\n",
       "                                                                                            unique\n",
       "NACIO_            NACIO1_                                                                         \n",
       "Española          Un país de la UE                                                  [No aplicable]\n",
       "Española y otra   Un país de la UE                                                  [No aplicable]\n",
       "                  Un país fuera de la UE                                            [No aplicable]\n",
       "Otra nacionalidad Un país de la UE                          [No aplicable, Un país fuera de la UE]\n",
       "                  Un país fuera de la UE  [No aplicable, Un país de la UE, Un país fuera de la UE]"
      ]
     },
     "execution_count": 38,
     "metadata": {},
     "output_type": "execute_result"
    }
   ],
   "source": [
    "df[['NACIO_','NACIO1_','NACIO2_']].groupby(['NACIO_','NACIO1_']).agg(['unique'])\n",
    "# Sin respuesta para quienes declaran 'nacionalidad española' y 'nacionalidad española y otra' (1 y 2 en 'NACIO').\n",
    "# No se consigue afinar por completo el criterio para establecer cuándo es 'No aplicable'."
   ]
  },
  {
   "cell_type": "code",
   "execution_count": 39,
   "metadata": {},
   "outputs": [
    {
     "name": "stdout",
     "output_type": "stream",
     "text": [
      "[ 1.  2. nan]\n"
     ]
    }
   ],
   "source": [
    "# Provisionalmente se imputa None a las no respuestas:\n",
    "no_respuesta('NACIO2')"
   ]
  },
  {
   "cell_type": "code",
   "execution_count": 40,
   "metadata": {},
   "outputs": [
    {
     "data": {
      "text/html": [
       "<div>\n",
       "<style scoped>\n",
       "    .dataframe tbody tr th:only-of-type {\n",
       "        vertical-align: middle;\n",
       "    }\n",
       "\n",
       "    .dataframe tbody tr th {\n",
       "        vertical-align: top;\n",
       "    }\n",
       "\n",
       "    .dataframe thead tr th {\n",
       "        text-align: left;\n",
       "    }\n",
       "\n",
       "    .dataframe thead tr:last-of-type th {\n",
       "        text-align: right;\n",
       "    }\n",
       "</style>\n",
       "<table border=\"1\" class=\"dataframe\">\n",
       "  <thead>\n",
       "    <tr>\n",
       "      <th></th>\n",
       "      <th>NACIO2_</th>\n",
       "    </tr>\n",
       "    <tr>\n",
       "      <th></th>\n",
       "      <th>unique</th>\n",
       "    </tr>\n",
       "    <tr>\n",
       "      <th>NACIO_</th>\n",
       "      <th></th>\n",
       "    </tr>\n",
       "  </thead>\n",
       "  <tbody>\n",
       "    <tr>\n",
       "      <th>Española</th>\n",
       "      <td>[nan]</td>\n",
       "    </tr>\n",
       "    <tr>\n",
       "      <th>Española y otra</th>\n",
       "      <td>[nan, Un país de la UE]</td>\n",
       "    </tr>\n",
       "    <tr>\n",
       "      <th>Otra nacionalidad</th>\n",
       "      <td>[nan, Un país fuera de la UE, Un país de la UE]</td>\n",
       "    </tr>\n",
       "  </tbody>\n",
       "</table>\n",
       "</div>"
      ],
      "text/plain": [
       "                                                           NACIO2_\n",
       "                                                            unique\n",
       "NACIO_                                                            \n",
       "Española                                                     [nan]\n",
       "Española y otra                            [nan, Un país de la UE]\n",
       "Otra nacionalidad  [nan, Un país fuera de la UE, Un país de la UE]"
      ]
     },
     "execution_count": 40,
     "metadata": {},
     "output_type": "execute_result"
    }
   ],
   "source": [
    "# Se imputa 'NACIO2'=1 (UE)  a quienes declararon 'nacionalidad española y otra' (2 en 'NACIO') y la primera ...\n",
    "# ... no es nacionalidad EU ('NACIO1' distinta de 1), ya que la española es su segunda nacionalidad:\n",
    "df['NACIO2'].mask((df['NACIO']==2)&(df['NACIO1']!=1),1,inplace=True)\n",
    "traduce('NACIO2',check=False)\n",
    "df[['NACIO_','NACIO2_']].groupby('NACIO_').agg(['unique']) # Comprobación: "
   ]
  },
  {
   "cell_type": "markdown",
   "metadata": {},
   "source": [
    "## 'PAIS_NACI'\n",
    "**País de nacimiento**."
   ]
  },
  {
   "cell_type": "code",
   "execution_count": 41,
   "metadata": {},
   "outputs": [
    {
     "data": {
      "text/plain": [
       "array([1, 2, 3])"
      ]
     },
     "execution_count": 41,
     "metadata": {},
     "output_type": "execute_result"
    }
   ],
   "source": [
    "df['PAIS_NACI'].unique() # Sin valores no informados"
   ]
  },
  {
   "cell_type": "code",
   "execution_count": 42,
   "metadata": {},
   "outputs": [
    {
     "name": "stdout",
     "output_type": "stream",
     "text": [
      "                          aux_traduce\n",
      "                               unique\n",
      "PAIS_NACI                            \n",
      "1                            [España]\n",
      "2                [Otro país de la UE]\n",
      "3          [Otro país fuera de la UE]\n"
     ]
    }
   ],
   "source": [
    "traduce('PAIS_NACI')"
   ]
  },
  {
   "cell_type": "markdown",
   "metadata": {},
   "source": [
    "## Nueva variable 'eu27'\n",
    "**Nacido en EU27**: 1=Nacido en EU27, 0=No nacido en EU27"
   ]
  },
  {
   "cell_type": "code",
   "execution_count": 43,
   "metadata": {},
   "outputs": [
    {
     "data": {
      "text/html": [
       "<div>\n",
       "<style scoped>\n",
       "    .dataframe tbody tr th:only-of-type {\n",
       "        vertical-align: middle;\n",
       "    }\n",
       "\n",
       "    .dataframe tbody tr th {\n",
       "        vertical-align: top;\n",
       "    }\n",
       "\n",
       "    .dataframe thead tr th {\n",
       "        text-align: left;\n",
       "    }\n",
       "\n",
       "    .dataframe thead tr:last-of-type th {\n",
       "        text-align: right;\n",
       "    }\n",
       "</style>\n",
       "<table border=\"1\" class=\"dataframe\">\n",
       "  <thead>\n",
       "    <tr>\n",
       "      <th></th>\n",
       "      <th>PAIS_NACI_</th>\n",
       "    </tr>\n",
       "    <tr>\n",
       "      <th></th>\n",
       "      <th>unique</th>\n",
       "    </tr>\n",
       "    <tr>\n",
       "      <th>eu27</th>\n",
       "      <th></th>\n",
       "    </tr>\n",
       "  </thead>\n",
       "  <tbody>\n",
       "    <tr>\n",
       "      <th>0</th>\n",
       "      <td>[Otro país fuera de la UE]</td>\n",
       "    </tr>\n",
       "    <tr>\n",
       "      <th>1</th>\n",
       "      <td>[España, Otro país de la UE]</td>\n",
       "    </tr>\n",
       "  </tbody>\n",
       "</table>\n",
       "</div>"
      ],
      "text/plain": [
       "                        PAIS_NACI_\n",
       "                            unique\n",
       "eu27                              \n",
       "0       [Otro país fuera de la UE]\n",
       "1     [España, Otro país de la UE]"
      ]
     },
     "execution_count": 43,
     "metadata": {},
     "output_type": "execute_result"
    }
   ],
   "source": [
    "df['eu27']=0\n",
    "df['eu27'].mask((df['PAIS_NACI']==1)|(df['PAIS_NACI']==2),1,inplace=True)\n",
    "df[['eu27','PAIS_NACI_']].groupby('eu27').agg(['unique']) # Comprobación"
   ]
  },
  {
   "cell_type": "code",
   "execution_count": 44,
   "metadata": {},
   "outputs": [
    {
     "name": "stdout",
     "output_type": "stream",
     "text": [
      "              aux_traduce\n",
      "                   unique\n",
      "eu27                     \n",
      "0     [No nacido en EU27]\n",
      "1        [Nacido en EU27]\n"
     ]
    }
   ],
   "source": [
    "traduce('eu27')"
   ]
  },
  {
   "cell_type": "markdown",
   "metadata": {},
   "source": [
    "## 'TITU' (redefinida como 'titulo_m1')\n",
    "**Titulación** de máster universitario  \n",
    "\n",
    "Nota: el diccionario asociado es el propio de los títulos de máster, definido en el fichero dr_EILU_MAST_2019.xlsx. "
   ]
  },
  {
   "cell_type": "code",
   "execution_count": 45,
   "metadata": {},
   "outputs": [
    {
     "data": {
      "text/plain": [
       "'Titulación'"
      ]
     },
     "execution_count": 45,
     "metadata": {},
     "output_type": "execute_result"
    }
   ],
   "source": [
    "D_describe['TITU']"
   ]
  },
  {
   "cell_type": "code",
   "execution_count": 46,
   "metadata": {},
   "outputs": [
    {
     "data": {
      "text/plain": [
       "array([ 111,  113,  114,  119,  211,  213,  215,  219,  221,  222,  223,\n",
       "        229,  231,  232,  239,  311,  312,  313,  314,  319,  321,  322,\n",
       "        411,  412,  413,  414,  416,  419,  421,  511,  512,  519,  521,\n",
       "        522,  531,  532,  533,  541,  542,  599,  612,  613,  619,  711,\n",
       "        712,  713,  714,  715,  716,  719,  721,  722,  731,  732,  811,\n",
       "        821,  831,  841,  911,  912,  913,  914,  915,  916,  919,  923,\n",
       "       1013, 1014, 1015, 1022, 1032, 1041])"
      ]
     },
     "execution_count": 46,
     "metadata": {},
     "output_type": "execute_result"
    }
   ],
   "source": [
    "df['TITU'].sort_values().unique() # Sin valores no informados"
   ]
  },
  {
   "cell_type": "code",
   "execution_count": 47,
   "metadata": {},
   "outputs": [
    {
     "data": {
      "text/plain": [
       "72"
      ]
     },
     "execution_count": 47,
     "metadata": {},
     "output_type": "execute_result"
    }
   ],
   "source": [
    "df['TITU'].nunique()"
   ]
  },
  {
   "cell_type": "code",
   "execution_count": 48,
   "metadata": {},
   "outputs": [],
   "source": [
    "# Ajuste en el diccionario asociado: \n",
    "D_dict['TITU']=diccionario('TTITULA')"
   ]
  },
  {
   "cell_type": "code",
   "execution_count": 49,
   "metadata": {},
   "outputs": [
    {
     "name": "stdout",
     "output_type": "stream",
     "text": [
      "                                                                  aux_traduce\n",
      "                                                                       unique\n",
      "TITU                                                                         \n",
      "111                                                [Ciencias de la Educación]\n",
      "113                             [Formación de docentes de enseñanza primaria]\n",
      "114   [Formación de docentes de educación secundaria y formación profesional]\n",
      "119                                              [Educación (Otros estudios)]\n",
      "211                         [Técnicas audiovisuales y medios de comunicación]\n",
      "...                                                                       ...\n",
      "1014                                       [Actividades físicas y deportivas]\n",
      "1015                                                 [Viajes, turismo y ocio]\n",
      "1022                                              [Salud y seguridad laboral]\n",
      "1032          [Protección de la propiedad y las personas y enseñanza militar]\n",
      "1041                                                [Servicios de transporte]\n",
      "\n",
      "[72 rows x 1 columns]\n"
     ]
    }
   ],
   "source": [
    "traduce('TITU')"
   ]
  },
  {
   "cell_type": "code",
   "execution_count": 50,
   "metadata": {},
   "outputs": [],
   "source": [
    "redefine('TITU','titulo_m1')"
   ]
  },
  {
   "cell_type": "code",
   "execution_count": 51,
   "metadata": {},
   "outputs": [],
   "source": [
    "# Se añade indicador de título de máster para distinguirlos de títulos de grado con idéntica denominación: \n",
    "df['titulo_m1_']='Máster '+df['titulo_m1_']"
   ]
  },
  {
   "cell_type": "code",
   "execution_count": 52,
   "metadata": {},
   "outputs": [
    {
     "data": {
      "text/html": [
       "<div>\n",
       "<style scoped>\n",
       "    .dataframe tbody tr th:only-of-type {\n",
       "        vertical-align: middle;\n",
       "    }\n",
       "\n",
       "    .dataframe tbody tr th {\n",
       "        vertical-align: top;\n",
       "    }\n",
       "\n",
       "    .dataframe thead th {\n",
       "        text-align: right;\n",
       "    }\n",
       "</style>\n",
       "<table border=\"1\" class=\"dataframe\">\n",
       "  <thead>\n",
       "    <tr style=\"text-align: right;\">\n",
       "      <th></th>\n",
       "      <th>titulo_m1_</th>\n",
       "    </tr>\n",
       "  </thead>\n",
       "  <tbody>\n",
       "    <tr>\n",
       "      <th>Máster Formación de docentes de educación secundaria y formación profesional</th>\n",
       "      <td>0.169903</td>\n",
       "    </tr>\n",
       "    <tr>\n",
       "      <th>Máster Dirección y administración</th>\n",
       "      <td>0.048681</td>\n",
       "    </tr>\n",
       "    <tr>\n",
       "      <th>Máster Salud y seguridad laboral</th>\n",
       "      <td>0.047200</td>\n",
       "    </tr>\n",
       "    <tr>\n",
       "      <th>Máster Derecho</th>\n",
       "      <td>0.034312</td>\n",
       "    </tr>\n",
       "    <tr>\n",
       "      <th>Máster Psicología</th>\n",
       "      <td>0.027345</td>\n",
       "    </tr>\n",
       "    <tr>\n",
       "      <th>Máster Sociología, antropología y geografía social y cultural</th>\n",
       "      <td>0.021945</td>\n",
       "    </tr>\n",
       "    <tr>\n",
       "      <th>Máster Ciencias de la Educación</th>\n",
       "      <td>0.021858</td>\n",
       "    </tr>\n",
       "    <tr>\n",
       "      <th>Máster Trabajo social y orientación</th>\n",
       "      <td>0.021510</td>\n",
       "    </tr>\n",
       "    <tr>\n",
       "      <th>Máster Electricidad y energía</th>\n",
       "      <td>0.019333</td>\n",
       "    </tr>\n",
       "    <tr>\n",
       "      <th>Máster Maquinaria y metalurgia</th>\n",
       "      <td>0.018375</td>\n",
       "    </tr>\n",
       "    <tr>\n",
       "      <th>Máster Salud (Otros estudios)</th>\n",
       "      <td>0.018114</td>\n",
       "    </tr>\n",
       "    <tr>\n",
       "      <th>Máster Desarrollo y análisis de aplicaciones y de software</th>\n",
       "      <td>0.015937</td>\n",
       "    </tr>\n",
       "    <tr>\n",
       "      <th>Máster Historia y arqueología</th>\n",
       "      <td>0.015762</td>\n",
       "    </tr>\n",
       "    <tr>\n",
       "      <th>Máster Terapia y rehabilitación</th>\n",
       "      <td>0.015153</td>\n",
       "    </tr>\n",
       "    <tr>\n",
       "      <th>Máster Enfermería</th>\n",
       "      <td>0.014195</td>\n",
       "    </tr>\n",
       "    <tr>\n",
       "      <th>Máster Química</th>\n",
       "      <td>0.014021</td>\n",
       "    </tr>\n",
       "    <tr>\n",
       "      <th>Máster Medicina</th>\n",
       "      <td>0.014021</td>\n",
       "    </tr>\n",
       "    <tr>\n",
       "      <th>Máster Producción agrícola, explotación ganadera, horticultura y jardinería</th>\n",
       "      <td>0.013585</td>\n",
       "    </tr>\n",
       "    <tr>\n",
       "      <th>Máster Ciencias políticas</th>\n",
       "      <td>0.013150</td>\n",
       "    </tr>\n",
       "    <tr>\n",
       "      <th>Máster Actividades físicas y deportivas</th>\n",
       "      <td>0.012453</td>\n",
       "    </tr>\n",
       "    <tr>\n",
       "      <th>Máster Finanzas, banca y seguros</th>\n",
       "      <td>0.012366</td>\n",
       "    </tr>\n",
       "    <tr>\n",
       "      <th>Máster Bioquímica</th>\n",
       "      <td>0.012279</td>\n",
       "    </tr>\n",
       "    <tr>\n",
       "      <th>Máster Tecnologías de la información y las comunicaciones (Otros estudios)</th>\n",
       "      <td>0.011844</td>\n",
       "    </tr>\n",
       "    <tr>\n",
       "      <th>Máster Ciencias de la tierra</th>\n",
       "      <td>0.011844</td>\n",
       "    </tr>\n",
       "    <tr>\n",
       "      <th>Máster Física</th>\n",
       "      <td>0.011844</td>\n",
       "    </tr>\n",
       "    <tr>\n",
       "      <th>Máster Arquitectura, urbanismo y construcción</th>\n",
       "      <td>0.011669</td>\n",
       "    </tr>\n",
       "    <tr>\n",
       "      <th>Máster Electrónica y automática</th>\n",
       "      <td>0.011582</td>\n",
       "    </tr>\n",
       "    <tr>\n",
       "      <th>Máster Industria de la alimentación</th>\n",
       "      <td>0.011408</td>\n",
       "    </tr>\n",
       "    <tr>\n",
       "      <th>Máster Biología</th>\n",
       "      <td>0.011408</td>\n",
       "    </tr>\n",
       "    <tr>\n",
       "      <th>Máster Contabilidad y gestión de impuestos</th>\n",
       "      <td>0.011408</td>\n",
       "    </tr>\n",
       "  </tbody>\n",
       "</table>\n",
       "</div>"
      ],
      "text/plain": [
       "                                                                              titulo_m1_\n",
       "Máster Formación de docentes de educación secundaria y formación profesional    0.169903\n",
       "Máster Dirección y administración                                               0.048681\n",
       "Máster Salud y seguridad laboral                                                0.047200\n",
       "Máster Derecho                                                                  0.034312\n",
       "Máster Psicología                                                               0.027345\n",
       "Máster Sociología, antropología y geografía social y cultural                   0.021945\n",
       "Máster Ciencias de la Educación                                                 0.021858\n",
       "Máster Trabajo social y orientación                                             0.021510\n",
       "Máster Electricidad y energía                                                   0.019333\n",
       "Máster Maquinaria y metalurgia                                                  0.018375\n",
       "Máster Salud (Otros estudios)                                                   0.018114\n",
       "Máster Desarrollo y análisis de aplicaciones y de software                      0.015937\n",
       "Máster Historia y arqueología                                                   0.015762\n",
       "Máster Terapia y rehabilitación                                                 0.015153\n",
       "Máster Enfermería                                                               0.014195\n",
       "Máster Química                                                                  0.014021\n",
       "Máster Medicina                                                                 0.014021\n",
       "Máster Producción agrícola, explotación ganadera, horticultura y jardinería     0.013585\n",
       "Máster Ciencias políticas                                                       0.013150\n",
       "Máster Actividades físicas y deportivas                                         0.012453\n",
       "Máster Finanzas, banca y seguros                                                0.012366\n",
       "Máster Bioquímica                                                               0.012279\n",
       "Máster Tecnologías de la información y las comunicaciones (Otros estudios)      0.011844\n",
       "Máster Ciencias de la tierra                                                    0.011844\n",
       "Máster Física                                                                   0.011844\n",
       "Máster Arquitectura, urbanismo y construcción                                   0.011669\n",
       "Máster Electrónica y automática                                                 0.011582\n",
       "Máster Industria de la alimentación                                             0.011408\n",
       "Máster Biología                                                                 0.011408\n",
       "Máster Contabilidad y gestión de impuestos                                      0.011408"
      ]
     },
     "execution_count": 52,
     "metadata": {},
     "output_type": "execute_result"
    }
   ],
   "source": [
    "proporciones('titulo_m1_').head(30)"
   ]
  },
  {
   "cell_type": "code",
   "execution_count": 53,
   "metadata": {},
   "outputs": [
    {
     "data": {
      "text/html": [
       "<div>\n",
       "<style scoped>\n",
       "    .dataframe tbody tr th:only-of-type {\n",
       "        vertical-align: middle;\n",
       "    }\n",
       "\n",
       "    .dataframe tbody tr th {\n",
       "        vertical-align: top;\n",
       "    }\n",
       "\n",
       "    .dataframe thead th {\n",
       "        text-align: right;\n",
       "    }\n",
       "</style>\n",
       "<table border=\"1\" class=\"dataframe\">\n",
       "  <thead>\n",
       "    <tr style=\"text-align: right;\">\n",
       "      <th></th>\n",
       "      <th>titulo_m1_</th>\n",
       "    </tr>\n",
       "  </thead>\n",
       "  <tbody>\n",
       "    <tr>\n",
       "      <th>Máster Tecnología de diagnóstico y tratamiento médico</th>\n",
       "      <td>0.011234</td>\n",
       "    </tr>\n",
       "    <tr>\n",
       "      <th>Máster Periodismo y comunicación</th>\n",
       "      <td>0.011147</td>\n",
       "    </tr>\n",
       "    <tr>\n",
       "      <th>Máster Ingeniería y profesiones afines (Otros estudios)</th>\n",
       "      <td>0.010799</td>\n",
       "    </tr>\n",
       "    <tr>\n",
       "      <th>Máster Control y tecnología medioambiental</th>\n",
       "      <td>0.010799</td>\n",
       "    </tr>\n",
       "    <tr>\n",
       "      <th>Máster Ingeniería civil y de la edificación</th>\n",
       "      <td>0.010711</td>\n",
       "    </tr>\n",
       "    <tr>\n",
       "      <th>Máster Marketing y publicidad</th>\n",
       "      <td>0.010363</td>\n",
       "    </tr>\n",
       "    <tr>\n",
       "      <th>Máster Aprendizaje de segundas lenguas</th>\n",
       "      <td>0.010276</td>\n",
       "    </tr>\n",
       "    <tr>\n",
       "      <th>Máster Economía</th>\n",
       "      <td>0.010276</td>\n",
       "    </tr>\n",
       "    <tr>\n",
       "      <th>Máster Técnicas audiovisuales y medios de comunicación</th>\n",
       "      <td>0.010102</td>\n",
       "    </tr>\n",
       "    <tr>\n",
       "      <th>Máster Literatura y lingüística</th>\n",
       "      <td>0.010102</td>\n",
       "    </tr>\n",
       "    <tr>\n",
       "      <th>Máster Bellas artes</th>\n",
       "      <td>0.009492</td>\n",
       "    </tr>\n",
       "    <tr>\n",
       "      <th>Máster Filosofía y ética</th>\n",
       "      <td>0.009492</td>\n",
       "    </tr>\n",
       "    <tr>\n",
       "      <th>Máster Ciencias del medio ambiente</th>\n",
       "      <td>0.009318</td>\n",
       "    </tr>\n",
       "    <tr>\n",
       "      <th>Máster Música y artes del espectáculo</th>\n",
       "      <td>0.009057</td>\n",
       "    </tr>\n",
       "    <tr>\n",
       "      <th>Máster Ciencias de la vida (Otros estudios)</th>\n",
       "      <td>0.008709</td>\n",
       "    </tr>\n",
       "    <tr>\n",
       "      <th>Máster Protección de la propiedad y las personas y enseñanza militar</th>\n",
       "      <td>0.008447</td>\n",
       "    </tr>\n",
       "    <tr>\n",
       "      <th>Máster Farmacia</th>\n",
       "      <td>0.008360</td>\n",
       "    </tr>\n",
       "    <tr>\n",
       "      <th>Máster Ciencias sociales y del comportamiento (Otros estudios)</th>\n",
       "      <td>0.008012</td>\n",
       "    </tr>\n",
       "    <tr>\n",
       "      <th>Máster Formación de docentes de enseñanza primaria</th>\n",
       "      <td>0.007664</td>\n",
       "    </tr>\n",
       "    <tr>\n",
       "      <th>Máster Biblioteconomía, documentación y archivos</th>\n",
       "      <td>0.007664</td>\n",
       "    </tr>\n",
       "    <tr>\n",
       "      <th>Máster Entornos naturales y vida silvestre</th>\n",
       "      <td>0.007402</td>\n",
       "    </tr>\n",
       "    <tr>\n",
       "      <th>Máster Matemáticas</th>\n",
       "      <td>0.007141</td>\n",
       "    </tr>\n",
       "    <tr>\n",
       "      <th>Máster Viajes, turismo y ocio</th>\n",
       "      <td>0.007054</td>\n",
       "    </tr>\n",
       "    <tr>\n",
       "      <th>Máster Humanidades (Otros estudios)</th>\n",
       "      <td>0.006967</td>\n",
       "    </tr>\n",
       "    <tr>\n",
       "      <th>Máster Odontología</th>\n",
       "      <td>0.006618</td>\n",
       "    </tr>\n",
       "    <tr>\n",
       "      <th>Máster Servicios de transporte</th>\n",
       "      <td>0.006270</td>\n",
       "    </tr>\n",
       "    <tr>\n",
       "      <th>Máster Lenguas (Otros estudios)</th>\n",
       "      <td>0.005922</td>\n",
       "    </tr>\n",
       "    <tr>\n",
       "      <th>Máster Vehículos de motor, barcos y aeronaves</th>\n",
       "      <td>0.005748</td>\n",
       "    </tr>\n",
       "    <tr>\n",
       "      <th>Máster Industrias de otros materiales (madera, papel, plástico, vidrio,..)</th>\n",
       "      <td>0.005661</td>\n",
       "    </tr>\n",
       "    <tr>\n",
       "      <th>Máster Diseño y administración de bases de datos y redes</th>\n",
       "      <td>0.005486</td>\n",
       "    </tr>\n",
       "    <tr>\n",
       "      <th>Máster Estadística</th>\n",
       "      <td>0.005312</td>\n",
       "    </tr>\n",
       "    <tr>\n",
       "      <th>Máster Ventas al por mayor y al por menor</th>\n",
       "      <td>0.005225</td>\n",
       "    </tr>\n",
       "    <tr>\n",
       "      <th>Máster Artes (Otros estudios)</th>\n",
       "      <td>0.005051</td>\n",
       "    </tr>\n",
       "    <tr>\n",
       "      <th>Máster Veterinaria</th>\n",
       "      <td>0.004703</td>\n",
       "    </tr>\n",
       "    <tr>\n",
       "      <th>Máster Ingeniería y procesos químicos</th>\n",
       "      <td>0.004528</td>\n",
       "    </tr>\n",
       "    <tr>\n",
       "      <th>Máster Educación (Otros estudios)</th>\n",
       "      <td>0.004354</td>\n",
       "    </tr>\n",
       "    <tr>\n",
       "      <th>Máster Negocios y administración (Otros estudios)</th>\n",
       "      <td>0.004180</td>\n",
       "    </tr>\n",
       "    <tr>\n",
       "      <th>Máster Pesca</th>\n",
       "      <td>0.004180</td>\n",
       "    </tr>\n",
       "    <tr>\n",
       "      <th>Máster Silvicultura</th>\n",
       "      <td>0.004006</td>\n",
       "    </tr>\n",
       "    <tr>\n",
       "      <th>Máster Ciencias químicas, físicas y geológicas; Matemáticas y estadística (Otros estudios)</th>\n",
       "      <td>0.002961</td>\n",
       "    </tr>\n",
       "    <tr>\n",
       "      <th>Máster Religión y teología</th>\n",
       "      <td>0.002613</td>\n",
       "    </tr>\n",
       "    <tr>\n",
       "      <th>Máster Hostelería</th>\n",
       "      <td>0.002090</td>\n",
       "    </tr>\n",
       "  </tbody>\n",
       "</table>\n",
       "</div>"
      ],
      "text/plain": [
       "                                                                                            titulo_m1_\n",
       "Máster Tecnología de diagnóstico y tratamiento médico                                         0.011234\n",
       "Máster Periodismo y comunicación                                                              0.011147\n",
       "Máster Ingeniería y profesiones afines (Otros estudios)                                       0.010799\n",
       "Máster Control y tecnología medioambiental                                                    0.010799\n",
       "Máster Ingeniería civil y de la edificación                                                   0.010711\n",
       "Máster Marketing y publicidad                                                                 0.010363\n",
       "Máster Aprendizaje de segundas lenguas                                                        0.010276\n",
       "Máster Economía                                                                               0.010276\n",
       "Máster Técnicas audiovisuales y medios de comunicación                                        0.010102\n",
       "Máster Literatura y lingüística                                                               0.010102\n",
       "Máster Bellas artes                                                                           0.009492\n",
       "Máster Filosofía y ética                                                                      0.009492\n",
       "Máster Ciencias del medio ambiente                                                            0.009318\n",
       "Máster Música y artes del espectáculo                                                         0.009057\n",
       "Máster Ciencias de la vida (Otros estudios)                                                   0.008709\n",
       "Máster Protección de la propiedad y las personas y enseñanza militar                          0.008447\n",
       "Máster Farmacia                                                                               0.008360\n",
       "Máster Ciencias sociales y del comportamiento (Otros estudios)                                0.008012\n",
       "Máster Formación de docentes de enseñanza primaria                                            0.007664\n",
       "Máster Biblioteconomía, documentación y archivos                                              0.007664\n",
       "Máster Entornos naturales y vida silvestre                                                    0.007402\n",
       "Máster Matemáticas                                                                            0.007141\n",
       "Máster Viajes, turismo y ocio                                                                 0.007054\n",
       "Máster Humanidades (Otros estudios)                                                           0.006967\n",
       "Máster Odontología                                                                            0.006618\n",
       "Máster Servicios de transporte                                                                0.006270\n",
       "Máster Lenguas (Otros estudios)                                                               0.005922\n",
       "Máster Vehículos de motor, barcos y aeronaves                                                 0.005748\n",
       "Máster Industrias de otros materiales (madera, papel, plástico, vidrio,..)                    0.005661\n",
       "Máster Diseño y administración de bases de datos y redes                                      0.005486\n",
       "Máster Estadística                                                                            0.005312\n",
       "Máster Ventas al por mayor y al por menor                                                     0.005225\n",
       "Máster Artes (Otros estudios)                                                                 0.005051\n",
       "Máster Veterinaria                                                                            0.004703\n",
       "Máster Ingeniería y procesos químicos                                                         0.004528\n",
       "Máster Educación (Otros estudios)                                                             0.004354\n",
       "Máster Negocios y administración (Otros estudios)                                             0.004180\n",
       "Máster Pesca                                                                                  0.004180\n",
       "Máster Silvicultura                                                                           0.004006\n",
       "Máster Ciencias químicas, físicas y geológicas; Matemáticas y estadística (Otros estudios)    0.002961\n",
       "Máster Religión y teología                                                                    0.002613\n",
       "Máster Hostelería                                                                             0.002090"
      ]
     },
     "execution_count": 53,
     "metadata": {},
     "output_type": "execute_result"
    }
   ],
   "source": [
    "proporciones('titulo_m1_')[30:]"
   ]
  },
  {
   "cell_type": "code",
   "execution_count": 54,
   "metadata": {},
   "outputs": [],
   "source": [
    "D_describe['titulo_m1']='Titulación del primer máster universitario'\n",
    "# Actualización diccionario para filas no informadas en datasets de grado o doctorado:\n",
    "D_dict['titulo_m1'][0]='No tiene'\n",
    "D_dict['titulo_m1'][str(0)]='No tiene'\n",
    "D_dict['titulo_m1'][1]='Título no conocido'\n",
    "D_dict['titulo_m1'][str(1)]='Título no conocido'"
   ]
  },
  {
   "cell_type": "markdown",
   "metadata": {},
   "source": [
    "## 'RAMA' (redefinida como 'rama_m1')\n",
    "**Rama de conocimiento** de la titulación."
   ]
  },
  {
   "cell_type": "code",
   "execution_count": 55,
   "metadata": {},
   "outputs": [
    {
     "data": {
      "text/plain": [
       "array([5, 3, 4, 2, 1])"
      ]
     },
     "execution_count": 55,
     "metadata": {},
     "output_type": "execute_result"
    }
   ],
   "source": [
    "df['RAMA'].unique() # Sin valores no informados"
   ]
  },
  {
   "cell_type": "code",
   "execution_count": 56,
   "metadata": {},
   "outputs": [
    {
     "name": "stdout",
     "output_type": "stream",
     "text": [
      "                          aux_traduce\n",
      "                               unique\n",
      "RAMA                                 \n",
      "1               [Artes y humanidades]\n",
      "2                          [Ciencias]\n",
      "3     [Ciencias sociales y jurídicas]\n",
      "4         [Ingeniería y arquitectura]\n",
      "5              [Ciencias de la salud]\n"
     ]
    }
   ],
   "source": [
    "traduce('RAMA')"
   ]
  },
  {
   "cell_type": "code",
   "execution_count": 57,
   "metadata": {},
   "outputs": [],
   "source": [
    "redefine('RAMA',nuevo='rama_m1')\n",
    "D_describe['rama_m1']='Rama de conocimiento del primer máster universitario'"
   ]
  },
  {
   "cell_type": "markdown",
   "metadata": {},
   "source": [
    "### Corrección de títulos adscritos a varias ramas\n",
    "\n",
    "La mayor parte de los títulos aparecen asociados a varias ramas de conocimiento. Se les asigna la más correcta de acuerdo las clasificaciones en ámbitos de los títulos de máster. En todos los casos salvo dos, esta es la asignación que se hace con más frecuencia para cada título. \n",
    "\n",
    "Se crea una rama nueva de 'Servicios' por homogeneidad con la modificación hecha para los títulos de grado. Se añaden a la categoría de servicios los asociados a la actividad física y el deporte, al turismo, al transporte y a la protección de la propiedad y de las personas (de acuerdo con la clasificación en ámbitos de los títulos de máster). "
   ]
  },
  {
   "cell_type": "code",
   "execution_count": 58,
   "metadata": {},
   "outputs": [],
   "source": [
    "# Muchos títulos asociados a varias ramas: \n",
    "aux_ramas=df[['rama_m1_','titulo_m1']].groupby(['titulo_m1']).agg(['nunique'])\n",
    "aux_ramas.columns=aux_ramas.columns.to_flat_index()\n",
    "aux_ramas.rename(columns={aux_ramas.columns[-1]:'num_ramas'},inplace=True)\n",
    "#aux_ramas[aux_ramas['num_ramas']>1]"
   ]
  },
  {
   "cell_type": "code",
   "execution_count": 59,
   "metadata": {},
   "outputs": [
    {
     "data": {
      "text/plain": [
       "52"
      ]
     },
     "execution_count": 59,
     "metadata": {},
     "output_type": "execute_result"
    }
   ],
   "source": [
    "lista_titulos_corregir=aux_ramas[aux_ramas['num_ramas']>1].index.tolist()\n",
    "len(lista_titulos_corregir)"
   ]
  },
  {
   "cell_type": "code",
   "execution_count": 60,
   "metadata": {},
   "outputs": [],
   "source": [
    "#lista_titulos_corregir"
   ]
  },
  {
   "cell_type": "code",
   "execution_count": 61,
   "metadata": {},
   "outputs": [
    {
     "data": {
      "text/html": [
       "<div>\n",
       "<style scoped>\n",
       "    .dataframe tbody tr th:only-of-type {\n",
       "        vertical-align: middle;\n",
       "    }\n",
       "\n",
       "    .dataframe tbody tr th {\n",
       "        vertical-align: top;\n",
       "    }\n",
       "\n",
       "    .dataframe thead tr th {\n",
       "        text-align: left;\n",
       "    }\n",
       "\n",
       "    .dataframe thead tr:last-of-type th {\n",
       "        text-align: right;\n",
       "    }\n",
       "</style>\n",
       "<table border=\"1\" class=\"dataframe\">\n",
       "  <thead>\n",
       "    <tr>\n",
       "      <th></th>\n",
       "      <th></th>\n",
       "      <th></th>\n",
       "      <th>rama_m1_</th>\n",
       "    </tr>\n",
       "    <tr>\n",
       "      <th></th>\n",
       "      <th></th>\n",
       "      <th></th>\n",
       "      <th>value_counts</th>\n",
       "    </tr>\n",
       "    <tr>\n",
       "      <th>titulo_m1</th>\n",
       "      <th>titulo_m1_</th>\n",
       "      <th>rama_m1_</th>\n",
       "      <th></th>\n",
       "    </tr>\n",
       "  </thead>\n",
       "  <tbody>\n",
       "    <tr>\n",
       "      <th rowspan=\"2\" valign=\"top\">111</th>\n",
       "      <th rowspan=\"2\" valign=\"top\">Máster Ciencias de la Educación</th>\n",
       "      <th>Ciencias sociales y jurídicas</th>\n",
       "      <td>200</td>\n",
       "    </tr>\n",
       "    <tr>\n",
       "      <th>Artes y humanidades</th>\n",
       "      <td>51</td>\n",
       "    </tr>\n",
       "    <tr>\n",
       "      <th>113</th>\n",
       "      <th>Máster Formación de docentes de enseñanza primaria</th>\n",
       "      <th>Ciencias sociales y jurídicas</th>\n",
       "      <td>88</td>\n",
       "    </tr>\n",
       "    <tr>\n",
       "      <th rowspan=\"2\" valign=\"top\">114</th>\n",
       "      <th rowspan=\"2\" valign=\"top\">Máster Formación de docentes de educación secundaria y formación profesional</th>\n",
       "      <th>Ciencias sociales y jurídicas</th>\n",
       "      <td>1857</td>\n",
       "    </tr>\n",
       "    <tr>\n",
       "      <th>Artes y humanidades</th>\n",
       "      <td>94</td>\n",
       "    </tr>\n",
       "    <tr>\n",
       "      <th>119</th>\n",
       "      <th>Máster Educación (Otros estudios)</th>\n",
       "      <th>Ciencias sociales y jurídicas</th>\n",
       "      <td>50</td>\n",
       "    </tr>\n",
       "    <tr>\n",
       "      <th rowspan=\"3\" valign=\"top\">211</th>\n",
       "      <th rowspan=\"3\" valign=\"top\">Máster Técnicas audiovisuales y medios de comunicación</th>\n",
       "      <th>Ciencias sociales y jurídicas</th>\n",
       "      <td>86</td>\n",
       "    </tr>\n",
       "    <tr>\n",
       "      <th>Artes y humanidades</th>\n",
       "      <td>22</td>\n",
       "    </tr>\n",
       "    <tr>\n",
       "      <th>Ingeniería y arquitectura</th>\n",
       "      <td>8</td>\n",
       "    </tr>\n",
       "    <tr>\n",
       "      <th rowspan=\"2\" valign=\"top\">213</th>\n",
       "      <th rowspan=\"2\" valign=\"top\">Máster Bellas artes</th>\n",
       "      <th>Artes y humanidades</th>\n",
       "      <td>107</td>\n",
       "    </tr>\n",
       "    <tr>\n",
       "      <th>Ciencias sociales y jurídicas</th>\n",
       "      <td>2</td>\n",
       "    </tr>\n",
       "    <tr>\n",
       "      <th rowspan=\"2\" valign=\"top\">215</th>\n",
       "      <th rowspan=\"2\" valign=\"top\">Máster Música y artes del espectáculo</th>\n",
       "      <th>Artes y humanidades</th>\n",
       "      <td>101</td>\n",
       "    </tr>\n",
       "    <tr>\n",
       "      <th>Ciencias sociales y jurídicas</th>\n",
       "      <td>3</td>\n",
       "    </tr>\n",
       "    <tr>\n",
       "      <th rowspan=\"2\" valign=\"top\">219</th>\n",
       "      <th rowspan=\"2\" valign=\"top\">Máster Artes (Otros estudios)</th>\n",
       "      <th>Artes y humanidades</th>\n",
       "      <td>50</td>\n",
       "    </tr>\n",
       "    <tr>\n",
       "      <th>Ciencias sociales y jurídicas</th>\n",
       "      <td>8</td>\n",
       "    </tr>\n",
       "    <tr>\n",
       "      <th>221</th>\n",
       "      <th>Máster Religión y teología</th>\n",
       "      <th>Artes y humanidades</th>\n",
       "      <td>30</td>\n",
       "    </tr>\n",
       "    <tr>\n",
       "      <th rowspan=\"2\" valign=\"top\">222</th>\n",
       "      <th rowspan=\"2\" valign=\"top\">Máster Historia y arqueología</th>\n",
       "      <th>Artes y humanidades</th>\n",
       "      <td>174</td>\n",
       "    </tr>\n",
       "    <tr>\n",
       "      <th>Ciencias sociales y jurídicas</th>\n",
       "      <td>7</td>\n",
       "    </tr>\n",
       "    <tr>\n",
       "      <th rowspan=\"2\" valign=\"top\">223</th>\n",
       "      <th rowspan=\"2\" valign=\"top\">Máster Filosofía y ética</th>\n",
       "      <th>Artes y humanidades</th>\n",
       "      <td>82</td>\n",
       "    </tr>\n",
       "    <tr>\n",
       "      <th>Ciencias de la salud</th>\n",
       "      <td>27</td>\n",
       "    </tr>\n",
       "    <tr>\n",
       "      <th rowspan=\"2\" valign=\"top\">229</th>\n",
       "      <th rowspan=\"2\" valign=\"top\">Máster Humanidades (Otros estudios)</th>\n",
       "      <th>Artes y humanidades</th>\n",
       "      <td>76</td>\n",
       "    </tr>\n",
       "    <tr>\n",
       "      <th>Ciencias sociales y jurídicas</th>\n",
       "      <td>4</td>\n",
       "    </tr>\n",
       "    <tr>\n",
       "      <th>231</th>\n",
       "      <th>Máster Aprendizaje de segundas lenguas</th>\n",
       "      <th>Artes y humanidades</th>\n",
       "      <td>118</td>\n",
       "    </tr>\n",
       "    <tr>\n",
       "      <th>232</th>\n",
       "      <th>Máster Literatura y lingüística</th>\n",
       "      <th>Artes y humanidades</th>\n",
       "      <td>116</td>\n",
       "    </tr>\n",
       "    <tr>\n",
       "      <th rowspan=\"2\" valign=\"top\">239</th>\n",
       "      <th rowspan=\"2\" valign=\"top\">Máster Lenguas (Otros estudios)</th>\n",
       "      <th>Artes y humanidades</th>\n",
       "      <td>66</td>\n",
       "    </tr>\n",
       "    <tr>\n",
       "      <th>Ingeniería y arquitectura</th>\n",
       "      <td>2</td>\n",
       "    </tr>\n",
       "    <tr>\n",
       "      <th rowspan=\"2\" valign=\"top\">311</th>\n",
       "      <th rowspan=\"2\" valign=\"top\">Máster Economía</th>\n",
       "      <th>Ciencias sociales y jurídicas</th>\n",
       "      <td>116</td>\n",
       "    </tr>\n",
       "    <tr>\n",
       "      <th>Artes y humanidades</th>\n",
       "      <td>2</td>\n",
       "    </tr>\n",
       "    <tr>\n",
       "      <th rowspan=\"2\" valign=\"top\">312</th>\n",
       "      <th rowspan=\"2\" valign=\"top\">Máster Ciencias políticas</th>\n",
       "      <th>Ciencias sociales y jurídicas</th>\n",
       "      <td>145</td>\n",
       "    </tr>\n",
       "    <tr>\n",
       "      <th>Artes y humanidades</th>\n",
       "      <td>6</td>\n",
       "    </tr>\n",
       "  </tbody>\n",
       "</table>\n",
       "</div>"
      ],
      "text/plain": [
       "                                                                                                                         rama_m1_\n",
       "                                                                                                                     value_counts\n",
       "titulo_m1 titulo_m1_                                                                   rama_m1_                                  \n",
       "111       Máster Ciencias de la Educación                                              Ciencias sociales y jurídicas          200\n",
       "                                                                                       Artes y humanidades                     51\n",
       "113       Máster Formación de docentes de enseñanza primaria                           Ciencias sociales y jurídicas           88\n",
       "114       Máster Formación de docentes de educación secundaria y formación profesional Ciencias sociales y jurídicas         1857\n",
       "                                                                                       Artes y humanidades                     94\n",
       "119       Máster Educación (Otros estudios)                                            Ciencias sociales y jurídicas           50\n",
       "211       Máster Técnicas audiovisuales y medios de comunicación                       Ciencias sociales y jurídicas           86\n",
       "                                                                                       Artes y humanidades                     22\n",
       "                                                                                       Ingeniería y arquitectura                8\n",
       "213       Máster Bellas artes                                                          Artes y humanidades                    107\n",
       "                                                                                       Ciencias sociales y jurídicas            2\n",
       "215       Máster Música y artes del espectáculo                                        Artes y humanidades                    101\n",
       "                                                                                       Ciencias sociales y jurídicas            3\n",
       "219       Máster Artes (Otros estudios)                                                Artes y humanidades                     50\n",
       "                                                                                       Ciencias sociales y jurídicas            8\n",
       "221       Máster Religión y teología                                                   Artes y humanidades                     30\n",
       "222       Máster Historia y arqueología                                                Artes y humanidades                    174\n",
       "                                                                                       Ciencias sociales y jurídicas            7\n",
       "223       Máster Filosofía y ética                                                     Artes y humanidades                     82\n",
       "                                                                                       Ciencias de la salud                    27\n",
       "229       Máster Humanidades (Otros estudios)                                          Artes y humanidades                     76\n",
       "                                                                                       Ciencias sociales y jurídicas            4\n",
       "231       Máster Aprendizaje de segundas lenguas                                       Artes y humanidades                    118\n",
       "232       Máster Literatura y lingüística                                              Artes y humanidades                    116\n",
       "239       Máster Lenguas (Otros estudios)                                              Artes y humanidades                     66\n",
       "                                                                                       Ingeniería y arquitectura                2\n",
       "311       Máster Economía                                                              Ciencias sociales y jurídicas          116\n",
       "                                                                                       Artes y humanidades                      2\n",
       "312       Máster Ciencias políticas                                                    Ciencias sociales y jurídicas          145\n",
       "                                                                                       Artes y humanidades                      6"
      ]
     },
     "execution_count": 61,
     "metadata": {},
     "output_type": "execute_result"
    }
   ],
   "source": [
    "# Inspección: se revisan todos los títulos y ramas\n",
    "df[['titulo_m1','titulo_m1_','rama_m1_']]\\\n",
    "        .groupby(['titulo_m1','titulo_m1_']).agg(['value_counts'])[:30]"
   ]
  },
  {
   "cell_type": "code",
   "execution_count": 62,
   "metadata": {},
   "outputs": [
    {
     "data": {
      "text/html": [
       "<div>\n",
       "<style scoped>\n",
       "    .dataframe tbody tr th:only-of-type {\n",
       "        vertical-align: middle;\n",
       "    }\n",
       "\n",
       "    .dataframe tbody tr th {\n",
       "        vertical-align: top;\n",
       "    }\n",
       "\n",
       "    .dataframe thead tr th {\n",
       "        text-align: left;\n",
       "    }\n",
       "\n",
       "    .dataframe thead tr:last-of-type th {\n",
       "        text-align: right;\n",
       "    }\n",
       "</style>\n",
       "<table border=\"1\" class=\"dataframe\">\n",
       "  <thead>\n",
       "    <tr>\n",
       "      <th></th>\n",
       "      <th></th>\n",
       "      <th></th>\n",
       "      <th>rama_m1_</th>\n",
       "    </tr>\n",
       "    <tr>\n",
       "      <th></th>\n",
       "      <th></th>\n",
       "      <th></th>\n",
       "      <th>value_counts</th>\n",
       "    </tr>\n",
       "    <tr>\n",
       "      <th>titulo_m1</th>\n",
       "      <th>titulo_m1_</th>\n",
       "      <th>rama_m1_</th>\n",
       "      <th></th>\n",
       "    </tr>\n",
       "  </thead>\n",
       "  <tbody>\n",
       "    <tr>\n",
       "      <th rowspan=\"2\" valign=\"top\">313</th>\n",
       "      <th rowspan=\"2\" valign=\"top\">Máster Psicología</th>\n",
       "      <th>Ciencias sociales y jurídicas</th>\n",
       "      <td>161</td>\n",
       "    </tr>\n",
       "    <tr>\n",
       "      <th>Ciencias de la salud</th>\n",
       "      <td>153</td>\n",
       "    </tr>\n",
       "    <tr>\n",
       "      <th rowspan=\"3\" valign=\"top\">314</th>\n",
       "      <th rowspan=\"3\" valign=\"top\">Máster Sociología, antropología y geografía social y cultural</th>\n",
       "      <th>Ciencias sociales y jurídicas</th>\n",
       "      <td>143</td>\n",
       "    </tr>\n",
       "    <tr>\n",
       "      <th>Artes y humanidades</th>\n",
       "      <td>108</td>\n",
       "    </tr>\n",
       "    <tr>\n",
       "      <th>Ciencias de la salud</th>\n",
       "      <td>1</td>\n",
       "    </tr>\n",
       "    <tr>\n",
       "      <th rowspan=\"2\" valign=\"top\">319</th>\n",
       "      <th rowspan=\"2\" valign=\"top\">Máster Ciencias sociales y del comportamiento (Otros estudios)</th>\n",
       "      <th>Ciencias sociales y jurídicas</th>\n",
       "      <td>90</td>\n",
       "    </tr>\n",
       "    <tr>\n",
       "      <th>Artes y humanidades</th>\n",
       "      <td>2</td>\n",
       "    </tr>\n",
       "    <tr>\n",
       "      <th rowspan=\"2\" valign=\"top\">321</th>\n",
       "      <th rowspan=\"2\" valign=\"top\">Máster Periodismo y comunicación</th>\n",
       "      <th>Ciencias sociales y jurídicas</th>\n",
       "      <td>108</td>\n",
       "    </tr>\n",
       "    <tr>\n",
       "      <th>Artes y humanidades</th>\n",
       "      <td>20</td>\n",
       "    </tr>\n",
       "    <tr>\n",
       "      <th rowspan=\"3\" valign=\"top\">322</th>\n",
       "      <th rowspan=\"3\" valign=\"top\">Máster Biblioteconomía, documentación y archivos</th>\n",
       "      <th>Ciencias sociales y jurídicas</th>\n",
       "      <td>74</td>\n",
       "    </tr>\n",
       "    <tr>\n",
       "      <th>Artes y humanidades</th>\n",
       "      <td>13</td>\n",
       "    </tr>\n",
       "    <tr>\n",
       "      <th>Ingeniería y arquitectura</th>\n",
       "      <td>1</td>\n",
       "    </tr>\n",
       "    <tr>\n",
       "      <th>411</th>\n",
       "      <th>Máster Contabilidad y gestión de impuestos</th>\n",
       "      <th>Ciencias sociales y jurídicas</th>\n",
       "      <td>131</td>\n",
       "    </tr>\n",
       "    <tr>\n",
       "      <th>412</th>\n",
       "      <th>Máster Finanzas, banca y seguros</th>\n",
       "      <th>Ciencias sociales y jurídicas</th>\n",
       "      <td>142</td>\n",
       "    </tr>\n",
       "    <tr>\n",
       "      <th rowspan=\"3\" valign=\"top\">413</th>\n",
       "      <th rowspan=\"3\" valign=\"top\">Máster Dirección y administración</th>\n",
       "      <th>Ciencias sociales y jurídicas</th>\n",
       "      <td>525</td>\n",
       "    </tr>\n",
       "    <tr>\n",
       "      <th>Ciencias de la salud</th>\n",
       "      <td>33</td>\n",
       "    </tr>\n",
       "    <tr>\n",
       "      <th>Ingeniería y arquitectura</th>\n",
       "      <td>1</td>\n",
       "    </tr>\n",
       "    <tr>\n",
       "      <th>414</th>\n",
       "      <th>Máster Marketing y publicidad</th>\n",
       "      <th>Ciencias sociales y jurídicas</th>\n",
       "      <td>119</td>\n",
       "    </tr>\n",
       "    <tr>\n",
       "      <th>416</th>\n",
       "      <th>Máster Ventas al por mayor y al por menor</th>\n",
       "      <th>Ciencias sociales y jurídicas</th>\n",
       "      <td>60</td>\n",
       "    </tr>\n",
       "    <tr>\n",
       "      <th rowspan=\"2\" valign=\"top\">419</th>\n",
       "      <th rowspan=\"2\" valign=\"top\">Máster Negocios y administración (Otros estudios)</th>\n",
       "      <th>Ciencias sociales y jurídicas</th>\n",
       "      <td>43</td>\n",
       "    </tr>\n",
       "    <tr>\n",
       "      <th>Ingeniería y arquitectura</th>\n",
       "      <td>5</td>\n",
       "    </tr>\n",
       "    <tr>\n",
       "      <th>421</th>\n",
       "      <th>Máster Derecho</th>\n",
       "      <th>Ciencias sociales y jurídicas</th>\n",
       "      <td>394</td>\n",
       "    </tr>\n",
       "    <tr>\n",
       "      <th rowspan=\"2\" valign=\"top\">511</th>\n",
       "      <th rowspan=\"2\" valign=\"top\">Máster Biología</th>\n",
       "      <th>Ciencias</th>\n",
       "      <td>103</td>\n",
       "    </tr>\n",
       "    <tr>\n",
       "      <th>Ciencias de la salud</th>\n",
       "      <td>28</td>\n",
       "    </tr>\n",
       "    <tr>\n",
       "      <th rowspan=\"3\" valign=\"top\">512</th>\n",
       "      <th rowspan=\"3\" valign=\"top\">Máster Bioquímica</th>\n",
       "      <th>Ciencias</th>\n",
       "      <td>98</td>\n",
       "    </tr>\n",
       "    <tr>\n",
       "      <th>Ciencias de la salud</th>\n",
       "      <td>42</td>\n",
       "    </tr>\n",
       "    <tr>\n",
       "      <th>Ingeniería y arquitectura</th>\n",
       "      <td>1</td>\n",
       "    </tr>\n",
       "    <tr>\n",
       "      <th rowspan=\"2\" valign=\"top\">519</th>\n",
       "      <th rowspan=\"2\" valign=\"top\">Máster Ciencias de la vida (Otros estudios)</th>\n",
       "      <th>Ciencias de la salud</th>\n",
       "      <td>64</td>\n",
       "    </tr>\n",
       "    <tr>\n",
       "      <th>Ciencias</th>\n",
       "      <td>36</td>\n",
       "    </tr>\n",
       "    <tr>\n",
       "      <th>521</th>\n",
       "      <th>Máster Ciencias del medio ambiente</th>\n",
       "      <th>Ciencias</th>\n",
       "      <td>78</td>\n",
       "    </tr>\n",
       "  </tbody>\n",
       "</table>\n",
       "</div>"
      ],
      "text/plain": [
       "                                                                                                           rama_m1_\n",
       "                                                                                                       value_counts\n",
       "titulo_m1 titulo_m1_                                                     rama_m1_                                  \n",
       "313       Máster Psicología                                              Ciencias sociales y jurídicas          161\n",
       "                                                                         Ciencias de la salud                   153\n",
       "314       Máster Sociología, antropología y geografía social y cultural  Ciencias sociales y jurídicas          143\n",
       "                                                                         Artes y humanidades                    108\n",
       "                                                                         Ciencias de la salud                     1\n",
       "319       Máster Ciencias sociales y del comportamiento (Otros estudios) Ciencias sociales y jurídicas           90\n",
       "                                                                         Artes y humanidades                      2\n",
       "321       Máster Periodismo y comunicación                               Ciencias sociales y jurídicas          108\n",
       "                                                                         Artes y humanidades                     20\n",
       "322       Máster Biblioteconomía, documentación y archivos               Ciencias sociales y jurídicas           74\n",
       "                                                                         Artes y humanidades                     13\n",
       "                                                                         Ingeniería y arquitectura                1\n",
       "411       Máster Contabilidad y gestión de impuestos                     Ciencias sociales y jurídicas          131\n",
       "412       Máster Finanzas, banca y seguros                               Ciencias sociales y jurídicas          142\n",
       "413       Máster Dirección y administración                              Ciencias sociales y jurídicas          525\n",
       "                                                                         Ciencias de la salud                    33\n",
       "                                                                         Ingeniería y arquitectura                1\n",
       "414       Máster Marketing y publicidad                                  Ciencias sociales y jurídicas          119\n",
       "416       Máster Ventas al por mayor y al por menor                      Ciencias sociales y jurídicas           60\n",
       "419       Máster Negocios y administración (Otros estudios)              Ciencias sociales y jurídicas           43\n",
       "                                                                         Ingeniería y arquitectura                5\n",
       "421       Máster Derecho                                                 Ciencias sociales y jurídicas          394\n",
       "511       Máster Biología                                                Ciencias                               103\n",
       "                                                                         Ciencias de la salud                    28\n",
       "512       Máster Bioquímica                                              Ciencias                                98\n",
       "                                                                         Ciencias de la salud                    42\n",
       "                                                                         Ingeniería y arquitectura                1\n",
       "519       Máster Ciencias de la vida (Otros estudios)                    Ciencias de la salud                    64\n",
       "                                                                         Ciencias                                36\n",
       "521       Máster Ciencias del medio ambiente                             Ciencias                                78"
      ]
     },
     "execution_count": 62,
     "metadata": {},
     "output_type": "execute_result"
    }
   ],
   "source": [
    "# Inspección: \n",
    "df[['titulo_m1','titulo_m1_','rama_m1_']]\\\n",
    "        .groupby(['titulo_m1','titulo_m1_']).agg(['value_counts'])[30:60]"
   ]
  },
  {
   "cell_type": "code",
   "execution_count": 63,
   "metadata": {},
   "outputs": [
    {
     "data": {
      "text/html": [
       "<div>\n",
       "<style scoped>\n",
       "    .dataframe tbody tr th:only-of-type {\n",
       "        vertical-align: middle;\n",
       "    }\n",
       "\n",
       "    .dataframe tbody tr th {\n",
       "        vertical-align: top;\n",
       "    }\n",
       "\n",
       "    .dataframe thead tr th {\n",
       "        text-align: left;\n",
       "    }\n",
       "\n",
       "    .dataframe thead tr:last-of-type th {\n",
       "        text-align: right;\n",
       "    }\n",
       "</style>\n",
       "<table border=\"1\" class=\"dataframe\">\n",
       "  <thead>\n",
       "    <tr>\n",
       "      <th></th>\n",
       "      <th></th>\n",
       "      <th></th>\n",
       "      <th>rama_m1_</th>\n",
       "    </tr>\n",
       "    <tr>\n",
       "      <th></th>\n",
       "      <th></th>\n",
       "      <th></th>\n",
       "      <th>value_counts</th>\n",
       "    </tr>\n",
       "    <tr>\n",
       "      <th>titulo_m1</th>\n",
       "      <th>titulo_m1_</th>\n",
       "      <th>rama_m1_</th>\n",
       "      <th></th>\n",
       "    </tr>\n",
       "  </thead>\n",
       "  <tbody>\n",
       "    <tr>\n",
       "      <th rowspan=\"3\" valign=\"top\">521</th>\n",
       "      <th rowspan=\"3\" valign=\"top\">Máster Ciencias del medio ambiente</th>\n",
       "      <th>Ciencias</th>\n",
       "      <td>78</td>\n",
       "    </tr>\n",
       "    <tr>\n",
       "      <th>Ingeniería y arquitectura</th>\n",
       "      <td>18</td>\n",
       "    </tr>\n",
       "    <tr>\n",
       "      <th>Ciencias sociales y jurídicas</th>\n",
       "      <td>11</td>\n",
       "    </tr>\n",
       "    <tr>\n",
       "      <th rowspan=\"2\" valign=\"top\">522</th>\n",
       "      <th rowspan=\"2\" valign=\"top\">Máster Entornos naturales y vida silvestre</th>\n",
       "      <th>Ciencias</th>\n",
       "      <td>84</td>\n",
       "    </tr>\n",
       "    <tr>\n",
       "      <th>Ciencias sociales y jurídicas</th>\n",
       "      <td>1</td>\n",
       "    </tr>\n",
       "    <tr>\n",
       "      <th>531</th>\n",
       "      <th>Máster Química</th>\n",
       "      <th>Ciencias</th>\n",
       "      <td>161</td>\n",
       "    </tr>\n",
       "    <tr>\n",
       "      <th rowspan=\"3\" valign=\"top\">532</th>\n",
       "      <th rowspan=\"3\" valign=\"top\">Máster Ciencias de la tierra</th>\n",
       "      <th>Ciencias</th>\n",
       "      <td>95</td>\n",
       "    </tr>\n",
       "    <tr>\n",
       "      <th>Ingeniería y arquitectura</th>\n",
       "      <td>24</td>\n",
       "    </tr>\n",
       "    <tr>\n",
       "      <th>Ciencias sociales y jurídicas</th>\n",
       "      <td>17</td>\n",
       "    </tr>\n",
       "    <tr>\n",
       "      <th rowspan=\"3\" valign=\"top\">533</th>\n",
       "      <th rowspan=\"3\" valign=\"top\">Máster Física</th>\n",
       "      <th>Ciencias</th>\n",
       "      <td>121</td>\n",
       "    </tr>\n",
       "    <tr>\n",
       "      <th>Ingeniería y arquitectura</th>\n",
       "      <td>12</td>\n",
       "    </tr>\n",
       "    <tr>\n",
       "      <th>Ciencias de la salud</th>\n",
       "      <td>3</td>\n",
       "    </tr>\n",
       "    <tr>\n",
       "      <th rowspan=\"2\" valign=\"top\">541</th>\n",
       "      <th rowspan=\"2\" valign=\"top\">Máster Matemáticas</th>\n",
       "      <th>Ciencias</th>\n",
       "      <td>59</td>\n",
       "    </tr>\n",
       "    <tr>\n",
       "      <th>Ingeniería y arquitectura</th>\n",
       "      <td>23</td>\n",
       "    </tr>\n",
       "    <tr>\n",
       "      <th rowspan=\"2\" valign=\"top\">542</th>\n",
       "      <th rowspan=\"2\" valign=\"top\">Máster Estadística</th>\n",
       "      <th>Ciencias</th>\n",
       "      <td>50</td>\n",
       "    </tr>\n",
       "    <tr>\n",
       "      <th>Ingeniería y arquitectura</th>\n",
       "      <td>11</td>\n",
       "    </tr>\n",
       "    <tr>\n",
       "      <th>599</th>\n",
       "      <th>Máster Ciencias químicas, físicas y geológicas; Matemáticas y estadística (Otros estudios)</th>\n",
       "      <th>Ciencias</th>\n",
       "      <td>34</td>\n",
       "    </tr>\n",
       "    <tr>\n",
       "      <th>612</th>\n",
       "      <th>Máster Diseño y administración de bases de datos y redes</th>\n",
       "      <th>Ingeniería y arquitectura</th>\n",
       "      <td>63</td>\n",
       "    </tr>\n",
       "    <tr>\n",
       "      <th>613</th>\n",
       "      <th>Máster Desarrollo y análisis de aplicaciones y de software</th>\n",
       "      <th>Ingeniería y arquitectura</th>\n",
       "      <td>183</td>\n",
       "    </tr>\n",
       "    <tr>\n",
       "      <th>619</th>\n",
       "      <th>Máster Tecnologías de la información y las comunicaciones (Otros estudios)</th>\n",
       "      <th>Ingeniería y arquitectura</th>\n",
       "      <td>136</td>\n",
       "    </tr>\n",
       "    <tr>\n",
       "      <th rowspan=\"2\" valign=\"top\">711</th>\n",
       "      <th rowspan=\"2\" valign=\"top\">Máster Ingeniería y procesos químicos</th>\n",
       "      <th>Ingeniería y arquitectura</th>\n",
       "      <td>50</td>\n",
       "    </tr>\n",
       "    <tr>\n",
       "      <th>Ciencias</th>\n",
       "      <td>2</td>\n",
       "    </tr>\n",
       "    <tr>\n",
       "      <th rowspan=\"4\" valign=\"top\">712</th>\n",
       "      <th rowspan=\"4\" valign=\"top\">Máster Control y tecnología medioambiental</th>\n",
       "      <th>Ingeniería y arquitectura</th>\n",
       "      <td>104</td>\n",
       "    </tr>\n",
       "    <tr>\n",
       "      <th>Ciencias</th>\n",
       "      <td>15</td>\n",
       "    </tr>\n",
       "    <tr>\n",
       "      <th>Artes y humanidades</th>\n",
       "      <td>4</td>\n",
       "    </tr>\n",
       "    <tr>\n",
       "      <th>Ciencias sociales y jurídicas</th>\n",
       "      <td>1</td>\n",
       "    </tr>\n",
       "    <tr>\n",
       "      <th rowspan=\"2\" valign=\"top\">713</th>\n",
       "      <th rowspan=\"2\" valign=\"top\">Máster Electricidad y energía</th>\n",
       "      <th>Ingeniería y arquitectura</th>\n",
       "      <td>132</td>\n",
       "    </tr>\n",
       "    <tr>\n",
       "      <th>Ciencias</th>\n",
       "      <td>90</td>\n",
       "    </tr>\n",
       "    <tr>\n",
       "      <th rowspan=\"3\" valign=\"top\">714</th>\n",
       "      <th rowspan=\"3\" valign=\"top\">Máster Electrónica y automática</th>\n",
       "      <th>Ingeniería y arquitectura</th>\n",
       "      <td>130</td>\n",
       "    </tr>\n",
       "    <tr>\n",
       "      <th>Ciencias</th>\n",
       "      <td>2</td>\n",
       "    </tr>\n",
       "    <tr>\n",
       "      <th>Ciencias sociales y jurídicas</th>\n",
       "      <td>1</td>\n",
       "    </tr>\n",
       "  </tbody>\n",
       "</table>\n",
       "</div>"
      ],
      "text/plain": [
       "                                                                                                                                       rama_m1_\n",
       "                                                                                                                                   value_counts\n",
       "titulo_m1 titulo_m1_                                                                                 rama_m1_                                  \n",
       "521       Máster Ciencias del medio ambiente                                                         Ciencias                                78\n",
       "                                                                                                     Ingeniería y arquitectura               18\n",
       "                                                                                                     Ciencias sociales y jurídicas           11\n",
       "522       Máster Entornos naturales y vida silvestre                                                 Ciencias                                84\n",
       "                                                                                                     Ciencias sociales y jurídicas            1\n",
       "531       Máster Química                                                                             Ciencias                               161\n",
       "532       Máster Ciencias de la tierra                                                               Ciencias                                95\n",
       "                                                                                                     Ingeniería y arquitectura               24\n",
       "                                                                                                     Ciencias sociales y jurídicas           17\n",
       "533       Máster Física                                                                              Ciencias                               121\n",
       "                                                                                                     Ingeniería y arquitectura               12\n",
       "                                                                                                     Ciencias de la salud                     3\n",
       "541       Máster Matemáticas                                                                         Ciencias                                59\n",
       "                                                                                                     Ingeniería y arquitectura               23\n",
       "542       Máster Estadística                                                                         Ciencias                                50\n",
       "                                                                                                     Ingeniería y arquitectura               11\n",
       "599       Máster Ciencias químicas, físicas y geológicas; Matemáticas y estadística (Otros estudios) Ciencias                                34\n",
       "612       Máster Diseño y administración de bases de datos y redes                                   Ingeniería y arquitectura               63\n",
       "613       Máster Desarrollo y análisis de aplicaciones y de software                                 Ingeniería y arquitectura              183\n",
       "619       Máster Tecnologías de la información y las comunicaciones (Otros estudios)                 Ingeniería y arquitectura              136\n",
       "711       Máster Ingeniería y procesos químicos                                                      Ingeniería y arquitectura               50\n",
       "                                                                                                     Ciencias                                 2\n",
       "712       Máster Control y tecnología medioambiental                                                 Ingeniería y arquitectura              104\n",
       "                                                                                                     Ciencias                                15\n",
       "                                                                                                     Artes y humanidades                      4\n",
       "                                                                                                     Ciencias sociales y jurídicas            1\n",
       "713       Máster Electricidad y energía                                                              Ingeniería y arquitectura              132\n",
       "                                                                                                     Ciencias                                90\n",
       "714       Máster Electrónica y automática                                                            Ingeniería y arquitectura              130\n",
       "                                                                                                     Ciencias                                 2\n",
       "                                                                                                     Ciencias sociales y jurídicas            1"
      ]
     },
     "execution_count": 63,
     "metadata": {},
     "output_type": "execute_result"
    }
   ],
   "source": [
    "# Inspección: \n",
    "df[['titulo_m1','titulo_m1_','rama_m1_']]\\\n",
    "        .groupby(['titulo_m1','titulo_m1_']).agg(['value_counts'])[59:90]"
   ]
  },
  {
   "cell_type": "code",
   "execution_count": 64,
   "metadata": {},
   "outputs": [
    {
     "data": {
      "text/html": [
       "<div>\n",
       "<style scoped>\n",
       "    .dataframe tbody tr th:only-of-type {\n",
       "        vertical-align: middle;\n",
       "    }\n",
       "\n",
       "    .dataframe tbody tr th {\n",
       "        vertical-align: top;\n",
       "    }\n",
       "\n",
       "    .dataframe thead tr th {\n",
       "        text-align: left;\n",
       "    }\n",
       "\n",
       "    .dataframe thead tr:last-of-type th {\n",
       "        text-align: right;\n",
       "    }\n",
       "</style>\n",
       "<table border=\"1\" class=\"dataframe\">\n",
       "  <thead>\n",
       "    <tr>\n",
       "      <th></th>\n",
       "      <th></th>\n",
       "      <th></th>\n",
       "      <th>rama_m1_</th>\n",
       "    </tr>\n",
       "    <tr>\n",
       "      <th></th>\n",
       "      <th></th>\n",
       "      <th></th>\n",
       "      <th>value_counts</th>\n",
       "    </tr>\n",
       "    <tr>\n",
       "      <th>titulo_m1</th>\n",
       "      <th>titulo_m1_</th>\n",
       "      <th>rama_m1_</th>\n",
       "      <th></th>\n",
       "    </tr>\n",
       "  </thead>\n",
       "  <tbody>\n",
       "    <tr>\n",
       "      <th rowspan=\"2\" valign=\"top\">715</th>\n",
       "      <th rowspan=\"2\" valign=\"top\">Máster Maquinaria y metalurgia</th>\n",
       "      <th>Ingeniería y arquitectura</th>\n",
       "      <td>208</td>\n",
       "    </tr>\n",
       "    <tr>\n",
       "      <th>Ciencias sociales y jurídicas</th>\n",
       "      <td>3</td>\n",
       "    </tr>\n",
       "    <tr>\n",
       "      <th>716</th>\n",
       "      <th>Máster Vehículos de motor, barcos y aeronaves</th>\n",
       "      <th>Ingeniería y arquitectura</th>\n",
       "      <td>66</td>\n",
       "    </tr>\n",
       "    <tr>\n",
       "      <th rowspan=\"3\" valign=\"top\">719</th>\n",
       "      <th rowspan=\"3\" valign=\"top\">Máster Ingeniería y profesiones afines (Otros estudios)</th>\n",
       "      <th>Ingeniería y arquitectura</th>\n",
       "      <td>119</td>\n",
       "    </tr>\n",
       "    <tr>\n",
       "      <th>Ciencias</th>\n",
       "      <td>4</td>\n",
       "    </tr>\n",
       "    <tr>\n",
       "      <th>Ciencias sociales y jurídicas</th>\n",
       "      <td>1</td>\n",
       "    </tr>\n",
       "    <tr>\n",
       "      <th rowspan=\"3\" valign=\"top\">721</th>\n",
       "      <th rowspan=\"3\" valign=\"top\">Máster Industria de la alimentación</th>\n",
       "      <th>Ciencias</th>\n",
       "      <td>57</td>\n",
       "    </tr>\n",
       "    <tr>\n",
       "      <th>Ciencias de la salud</th>\n",
       "      <td>57</td>\n",
       "    </tr>\n",
       "    <tr>\n",
       "      <th>Ingeniería y arquitectura</th>\n",
       "      <td>17</td>\n",
       "    </tr>\n",
       "    <tr>\n",
       "      <th rowspan=\"2\" valign=\"top\">722</th>\n",
       "      <th rowspan=\"2\" valign=\"top\">Máster Industrias de otros materiales (madera, papel, plástico, vidrio,..)</th>\n",
       "      <th>Ingeniería y arquitectura</th>\n",
       "      <td>62</td>\n",
       "    </tr>\n",
       "    <tr>\n",
       "      <th>Ciencias</th>\n",
       "      <td>3</td>\n",
       "    </tr>\n",
       "    <tr>\n",
       "      <th rowspan=\"4\" valign=\"top\">731</th>\n",
       "      <th rowspan=\"4\" valign=\"top\">Máster Arquitectura, urbanismo y construcción</th>\n",
       "      <th>Ingeniería y arquitectura</th>\n",
       "      <td>110</td>\n",
       "    </tr>\n",
       "    <tr>\n",
       "      <th>Artes y humanidades</th>\n",
       "      <td>17</td>\n",
       "    </tr>\n",
       "    <tr>\n",
       "      <th>Ciencias</th>\n",
       "      <td>4</td>\n",
       "    </tr>\n",
       "    <tr>\n",
       "      <th>Ciencias sociales y jurídicas</th>\n",
       "      <td>3</td>\n",
       "    </tr>\n",
       "    <tr>\n",
       "      <th rowspan=\"2\" valign=\"top\">732</th>\n",
       "      <th rowspan=\"2\" valign=\"top\">Máster Ingeniería civil y de la edificación</th>\n",
       "      <th>Ingeniería y arquitectura</th>\n",
       "      <td>121</td>\n",
       "    </tr>\n",
       "    <tr>\n",
       "      <th>Ciencias</th>\n",
       "      <td>2</td>\n",
       "    </tr>\n",
       "    <tr>\n",
       "      <th rowspan=\"4\" valign=\"top\">811</th>\n",
       "      <th rowspan=\"4\" valign=\"top\">Máster Producción agrícola, explotación ganadera, horticultura y jardinería</th>\n",
       "      <th>Ingeniería y arquitectura</th>\n",
       "      <td>97</td>\n",
       "    </tr>\n",
       "    <tr>\n",
       "      <th>Ciencias</th>\n",
       "      <td>36</td>\n",
       "    </tr>\n",
       "    <tr>\n",
       "      <th>Ciencias de la salud</th>\n",
       "      <td>20</td>\n",
       "    </tr>\n",
       "    <tr>\n",
       "      <th>Ciencias sociales y jurídicas</th>\n",
       "      <td>3</td>\n",
       "    </tr>\n",
       "    <tr>\n",
       "      <th rowspan=\"3\" valign=\"top\">821</th>\n",
       "      <th rowspan=\"3\" valign=\"top\">Máster Silvicultura</th>\n",
       "      <th>Ingeniería y arquitectura</th>\n",
       "      <td>31</td>\n",
       "    </tr>\n",
       "    <tr>\n",
       "      <th>Ciencias de la salud</th>\n",
       "      <td>8</td>\n",
       "    </tr>\n",
       "    <tr>\n",
       "      <th>Ciencias</th>\n",
       "      <td>7</td>\n",
       "    </tr>\n",
       "    <tr>\n",
       "      <th>831</th>\n",
       "      <th>Máster Pesca</th>\n",
       "      <th>Ciencias</th>\n",
       "      <td>48</td>\n",
       "    </tr>\n",
       "    <tr>\n",
       "      <th rowspan=\"2\" valign=\"top\">841</th>\n",
       "      <th rowspan=\"2\" valign=\"top\">Máster Veterinaria</th>\n",
       "      <th>Ciencias de la salud</th>\n",
       "      <td>41</td>\n",
       "    </tr>\n",
       "    <tr>\n",
       "      <th>Ciencias</th>\n",
       "      <td>13</td>\n",
       "    </tr>\n",
       "    <tr>\n",
       "      <th>911</th>\n",
       "      <th>Máster Odontología</th>\n",
       "      <th>Ciencias de la salud</th>\n",
       "      <td>76</td>\n",
       "    </tr>\n",
       "    <tr>\n",
       "      <th rowspan=\"2\" valign=\"top\">912</th>\n",
       "      <th rowspan=\"2\" valign=\"top\">Máster Medicina</th>\n",
       "      <th>Ciencias de la salud</th>\n",
       "      <td>156</td>\n",
       "    </tr>\n",
       "    <tr>\n",
       "      <th>Ciencias sociales y jurídicas</th>\n",
       "      <td>5</td>\n",
       "    </tr>\n",
       "  </tbody>\n",
       "</table>\n",
       "</div>"
      ],
      "text/plain": [
       "                                                                                                                        rama_m1_\n",
       "                                                                                                                    value_counts\n",
       "titulo_m1 titulo_m1_                                                                  rama_m1_                                  \n",
       "715       Máster Maquinaria y metalurgia                                              Ingeniería y arquitectura              208\n",
       "                                                                                      Ciencias sociales y jurídicas            3\n",
       "716       Máster Vehículos de motor, barcos y aeronaves                               Ingeniería y arquitectura               66\n",
       "719       Máster Ingeniería y profesiones afines (Otros estudios)                     Ingeniería y arquitectura              119\n",
       "                                                                                      Ciencias                                 4\n",
       "                                                                                      Ciencias sociales y jurídicas            1\n",
       "721       Máster Industria de la alimentación                                         Ciencias                                57\n",
       "                                                                                      Ciencias de la salud                    57\n",
       "                                                                                      Ingeniería y arquitectura               17\n",
       "722       Máster Industrias de otros materiales (madera, papel, plástico, vidrio,..)  Ingeniería y arquitectura               62\n",
       "                                                                                      Ciencias                                 3\n",
       "731       Máster Arquitectura, urbanismo y construcción                               Ingeniería y arquitectura              110\n",
       "                                                                                      Artes y humanidades                     17\n",
       "                                                                                      Ciencias                                 4\n",
       "                                                                                      Ciencias sociales y jurídicas            3\n",
       "732       Máster Ingeniería civil y de la edificación                                 Ingeniería y arquitectura              121\n",
       "                                                                                      Ciencias                                 2\n",
       "811       Máster Producción agrícola, explotación ganadera, horticultura y jardinería Ingeniería y arquitectura               97\n",
       "                                                                                      Ciencias                                36\n",
       "                                                                                      Ciencias de la salud                    20\n",
       "                                                                                      Ciencias sociales y jurídicas            3\n",
       "821       Máster Silvicultura                                                         Ingeniería y arquitectura               31\n",
       "                                                                                      Ciencias de la salud                     8\n",
       "                                                                                      Ciencias                                 7\n",
       "831       Máster Pesca                                                                Ciencias                                48\n",
       "841       Máster Veterinaria                                                          Ciencias de la salud                    41\n",
       "                                                                                      Ciencias                                13\n",
       "911       Máster Odontología                                                          Ciencias de la salud                    76\n",
       "912       Máster Medicina                                                             Ciencias de la salud                   156\n",
       "                                                                                      Ciencias sociales y jurídicas            5"
      ]
     },
     "execution_count": 64,
     "metadata": {},
     "output_type": "execute_result"
    }
   ],
   "source": [
    "# Inspección: \n",
    "df[['titulo_m1','titulo_m1_','rama_m1_']]\\\n",
    "        .groupby(['titulo_m1','titulo_m1_']).agg(['value_counts'])[90:120]"
   ]
  },
  {
   "cell_type": "code",
   "execution_count": 65,
   "metadata": {},
   "outputs": [
    {
     "data": {
      "text/html": [
       "<div>\n",
       "<style scoped>\n",
       "    .dataframe tbody tr th:only-of-type {\n",
       "        vertical-align: middle;\n",
       "    }\n",
       "\n",
       "    .dataframe tbody tr th {\n",
       "        vertical-align: top;\n",
       "    }\n",
       "\n",
       "    .dataframe thead tr th {\n",
       "        text-align: left;\n",
       "    }\n",
       "\n",
       "    .dataframe thead tr:last-of-type th {\n",
       "        text-align: right;\n",
       "    }\n",
       "</style>\n",
       "<table border=\"1\" class=\"dataframe\">\n",
       "  <thead>\n",
       "    <tr>\n",
       "      <th></th>\n",
       "      <th></th>\n",
       "      <th></th>\n",
       "      <th>rama_m1_</th>\n",
       "    </tr>\n",
       "    <tr>\n",
       "      <th></th>\n",
       "      <th></th>\n",
       "      <th></th>\n",
       "      <th>value_counts</th>\n",
       "    </tr>\n",
       "    <tr>\n",
       "      <th>titulo_m1</th>\n",
       "      <th>titulo_m1_</th>\n",
       "      <th>rama_m1_</th>\n",
       "      <th></th>\n",
       "    </tr>\n",
       "  </thead>\n",
       "  <tbody>\n",
       "    <tr>\n",
       "      <th>913</th>\n",
       "      <th>Máster Enfermería</th>\n",
       "      <th>Ciencias de la salud</th>\n",
       "      <td>163</td>\n",
       "    </tr>\n",
       "    <tr>\n",
       "      <th rowspan=\"3\" valign=\"top\">914</th>\n",
       "      <th rowspan=\"3\" valign=\"top\">Máster Tecnología de diagnóstico y tratamiento médico</th>\n",
       "      <th>Ciencias de la salud</th>\n",
       "      <td>91</td>\n",
       "    </tr>\n",
       "    <tr>\n",
       "      <th>Ingeniería y arquitectura</th>\n",
       "      <td>27</td>\n",
       "    </tr>\n",
       "    <tr>\n",
       "      <th>Ciencias</th>\n",
       "      <td>11</td>\n",
       "    </tr>\n",
       "    <tr>\n",
       "      <th rowspan=\"2\" valign=\"top\">915</th>\n",
       "      <th rowspan=\"2\" valign=\"top\">Máster Terapia y rehabilitación</th>\n",
       "      <th>Ciencias de la salud</th>\n",
       "      <td>170</td>\n",
       "    </tr>\n",
       "    <tr>\n",
       "      <th>Ciencias sociales y jurídicas</th>\n",
       "      <td>4</td>\n",
       "    </tr>\n",
       "    <tr>\n",
       "      <th rowspan=\"3\" valign=\"top\">916</th>\n",
       "      <th rowspan=\"3\" valign=\"top\">Máster Farmacia</th>\n",
       "      <th>Ciencias de la salud</th>\n",
       "      <td>86</td>\n",
       "    </tr>\n",
       "    <tr>\n",
       "      <th>Ciencias</th>\n",
       "      <td>5</td>\n",
       "    </tr>\n",
       "    <tr>\n",
       "      <th>Ciencias sociales y jurídicas</th>\n",
       "      <td>5</td>\n",
       "    </tr>\n",
       "    <tr>\n",
       "      <th rowspan=\"3\" valign=\"top\">919</th>\n",
       "      <th rowspan=\"3\" valign=\"top\">Máster Salud (Otros estudios)</th>\n",
       "      <th>Ciencias de la salud</th>\n",
       "      <td>204</td>\n",
       "    </tr>\n",
       "    <tr>\n",
       "      <th>Ciencias sociales y jurídicas</th>\n",
       "      <td>3</td>\n",
       "    </tr>\n",
       "    <tr>\n",
       "      <th>Ciencias</th>\n",
       "      <td>1</td>\n",
       "    </tr>\n",
       "    <tr>\n",
       "      <th rowspan=\"3\" valign=\"top\">923</th>\n",
       "      <th rowspan=\"3\" valign=\"top\">Máster Trabajo social y orientación</th>\n",
       "      <th>Ciencias sociales y jurídicas</th>\n",
       "      <td>199</td>\n",
       "    </tr>\n",
       "    <tr>\n",
       "      <th>Ciencias de la salud</th>\n",
       "      <td>45</td>\n",
       "    </tr>\n",
       "    <tr>\n",
       "      <th>Artes y humanidades</th>\n",
       "      <td>3</td>\n",
       "    </tr>\n",
       "    <tr>\n",
       "      <th>1013</th>\n",
       "      <th>Máster Hostelería</th>\n",
       "      <th>Ciencias sociales y jurídicas</th>\n",
       "      <td>24</td>\n",
       "    </tr>\n",
       "    <tr>\n",
       "      <th rowspan=\"2\" valign=\"top\">1014</th>\n",
       "      <th rowspan=\"2\" valign=\"top\">Máster Actividades físicas y deportivas</th>\n",
       "      <th>Ciencias sociales y jurídicas</th>\n",
       "      <td>83</td>\n",
       "    </tr>\n",
       "    <tr>\n",
       "      <th>Ciencias de la salud</th>\n",
       "      <td>60</td>\n",
       "    </tr>\n",
       "    <tr>\n",
       "      <th rowspan=\"2\" valign=\"top\">1015</th>\n",
       "      <th rowspan=\"2\" valign=\"top\">Máster Viajes, turismo y ocio</th>\n",
       "      <th>Ciencias sociales y jurídicas</th>\n",
       "      <td>80</td>\n",
       "    </tr>\n",
       "    <tr>\n",
       "      <th>Artes y humanidades</th>\n",
       "      <td>1</td>\n",
       "    </tr>\n",
       "    <tr>\n",
       "      <th rowspan=\"4\" valign=\"top\">1022</th>\n",
       "      <th rowspan=\"4\" valign=\"top\">Máster Salud y seguridad laboral</th>\n",
       "      <th>Ciencias sociales y jurídicas</th>\n",
       "      <td>383</td>\n",
       "    </tr>\n",
       "    <tr>\n",
       "      <th>Ingeniería y arquitectura</th>\n",
       "      <td>96</td>\n",
       "    </tr>\n",
       "    <tr>\n",
       "      <th>Ciencias de la salud</th>\n",
       "      <td>36</td>\n",
       "    </tr>\n",
       "    <tr>\n",
       "      <th>Ciencias</th>\n",
       "      <td>27</td>\n",
       "    </tr>\n",
       "    <tr>\n",
       "      <th rowspan=\"4\" valign=\"top\">1032</th>\n",
       "      <th rowspan=\"4\" valign=\"top\">Máster Protección de la propiedad y las personas y enseñanza militar</th>\n",
       "      <th>Ciencias sociales y jurídicas</th>\n",
       "      <td>72</td>\n",
       "    </tr>\n",
       "    <tr>\n",
       "      <th>Ciencias</th>\n",
       "      <td>11</td>\n",
       "    </tr>\n",
       "    <tr>\n",
       "      <th>Ciencias de la salud</th>\n",
       "      <td>7</td>\n",
       "    </tr>\n",
       "    <tr>\n",
       "      <th>Ingeniería y arquitectura</th>\n",
       "      <td>7</td>\n",
       "    </tr>\n",
       "    <tr>\n",
       "      <th rowspan=\"2\" valign=\"top\">1041</th>\n",
       "      <th rowspan=\"2\" valign=\"top\">Máster Servicios de transporte</th>\n",
       "      <th>Ingeniería y arquitectura</th>\n",
       "      <td>51</td>\n",
       "    </tr>\n",
       "    <tr>\n",
       "      <th>Ciencias sociales y jurídicas</th>\n",
       "      <td>21</td>\n",
       "    </tr>\n",
       "  </tbody>\n",
       "</table>\n",
       "</div>"
      ],
      "text/plain": [
       "                                                                                                                 rama_m1_\n",
       "                                                                                                             value_counts\n",
       "titulo_m1 titulo_m1_                                                           rama_m1_                                  \n",
       "913       Máster Enfermería                                                    Ciencias de la salud                   163\n",
       "914       Máster Tecnología de diagnóstico y tratamiento médico                Ciencias de la salud                    91\n",
       "                                                                               Ingeniería y arquitectura               27\n",
       "                                                                               Ciencias                                11\n",
       "915       Máster Terapia y rehabilitación                                      Ciencias de la salud                   170\n",
       "                                                                               Ciencias sociales y jurídicas            4\n",
       "916       Máster Farmacia                                                      Ciencias de la salud                    86\n",
       "                                                                               Ciencias                                 5\n",
       "                                                                               Ciencias sociales y jurídicas            5\n",
       "919       Máster Salud (Otros estudios)                                        Ciencias de la salud                   204\n",
       "                                                                               Ciencias sociales y jurídicas            3\n",
       "                                                                               Ciencias                                 1\n",
       "923       Máster Trabajo social y orientación                                  Ciencias sociales y jurídicas          199\n",
       "                                                                               Ciencias de la salud                    45\n",
       "                                                                               Artes y humanidades                      3\n",
       "1013      Máster Hostelería                                                    Ciencias sociales y jurídicas           24\n",
       "1014      Máster Actividades físicas y deportivas                              Ciencias sociales y jurídicas           83\n",
       "                                                                               Ciencias de la salud                    60\n",
       "1015      Máster Viajes, turismo y ocio                                        Ciencias sociales y jurídicas           80\n",
       "                                                                               Artes y humanidades                      1\n",
       "1022      Máster Salud y seguridad laboral                                     Ciencias sociales y jurídicas          383\n",
       "                                                                               Ingeniería y arquitectura               96\n",
       "                                                                               Ciencias de la salud                    36\n",
       "                                                                               Ciencias                                27\n",
       "1032      Máster Protección de la propiedad y las personas y enseñanza militar Ciencias sociales y jurídicas           72\n",
       "                                                                               Ciencias                                11\n",
       "                                                                               Ciencias de la salud                     7\n",
       "                                                                               Ingeniería y arquitectura                7\n",
       "1041      Máster Servicios de transporte                                       Ingeniería y arquitectura               51\n",
       "                                                                               Ciencias sociales y jurídicas           21"
      ]
     },
     "execution_count": 65,
     "metadata": {},
     "output_type": "execute_result"
    }
   ],
   "source": [
    "# Inspección: \n",
    "df[['titulo_m1','titulo_m1_','rama_m1_']]\\\n",
    "        .groupby(['titulo_m1','titulo_m1_']).agg(['value_counts'])[120:]"
   ]
  },
  {
   "cell_type": "code",
   "execution_count": 66,
   "metadata": {},
   "outputs": [],
   "source": [
    "# En todos los casos excepto dos, la rama correcta es la que se asigna con más frecuencia. \n",
    "\n",
    "# Inicialmente se asigna a todos los títulos la rama más frecuente: \n",
    "aux_corrige=df[['titulo_m1','titulo_m1_','rama_m1']][df['titulo_m1'].isin(lista_titulos_corregir)]\\\n",
    "        .groupby(['titulo_m1','titulo_m1_']).agg(['value_counts']).groupby(['titulo_m1','titulo_m1_'])\\\n",
    "        .rank(ascending=False)\n",
    "aux_corrige.columns=aux_corrige.columns.to_flat_index()\n",
    "aux_corrige.rename(columns={aux_corrige.columns[-1]:'rank'},inplace=True)\n",
    "aux_corrige=aux_corrige[aux_corrige['rank']==1]\n",
    "aux_corrige.reset_index(inplace=True)\n",
    "#aux_corrige"
   ]
  },
  {
   "cell_type": "code",
   "execution_count": 67,
   "metadata": {},
   "outputs": [],
   "source": [
    "# Diccionario de códigos de título (los títulos a corregir) a códigos de rama (asignación inicial): \n",
    "D_corrige_titulos=dict(zip(aux_corrige['titulo_m1'],aux_corrige['rama_m1']))\n",
    "#D_corrige_titulos"
   ]
  },
  {
   "cell_type": "code",
   "execution_count": 68,
   "metadata": {},
   "outputs": [],
   "source": [
    "# Diccionario de códigos de título (modificación de excepciones en reasignación por duplicidades): \n",
    "\n",
    "D_corrige_titulos[519]=2  # Ciencias de la vida (Otros estudios) a rama Ciencias\n",
    "D_corrige_titulos[721]=4  # Industria de la alimentación a rama Ingeniería y Arquitectura"
   ]
  },
  {
   "cell_type": "code",
   "execution_count": 69,
   "metadata": {},
   "outputs": [],
   "source": [
    "# Otras ramas corregidas sin duplicidad porque corresponden a la rama 'Servicios' añadida: \n",
    "\n",
    "D_corrige_titulos[1013]=6 # Hostelería a rama Servicios\n",
    "D_corrige_titulos[1014]=6 # Actividades físicas y deportivas a rama Servicios\n",
    "D_corrige_titulos[1015]=6 # Viajes, turismo y ocio a rama Servicios\n",
    "D_corrige_titulos[1032]=6 # Protección de la propiedad y las personas y enseñanza militar a rama Servicios\n",
    "D_corrige_titulos[1041]=6 # Servicios de transporte a rama Servicios"
   ]
  },
  {
   "cell_type": "code",
   "execution_count": 70,
   "metadata": {},
   "outputs": [],
   "source": [
    "# Corrección ramas por añadido de rama 'Servicios':\n",
    "lista_titulos_corregir=lista_titulos_corregir+[1013,1014,1015,1032,1041]"
   ]
  },
  {
   "cell_type": "code",
   "execution_count": 71,
   "metadata": {},
   "outputs": [],
   "source": [
    "# Variables 'rama_g1' numérica y literal:\n",
    "df['rama_m1'].mask(df['titulo_m1'].isin(lista_titulos_corregir),\n",
    "                   df['titulo_m1'].replace(D_corrige_titulos),inplace=True)\n",
    "df['rama_m1_']=df['rama_m1'].astype('O').replace(D_dict['rama_m1'])"
   ]
  },
  {
   "cell_type": "markdown",
   "metadata": {},
   "source": [
    "## Nuevas variables: 'n_art_hum', 'n_ciencias', 'n_cc_soc_ju', 'n_ing_arq', 'n_cc_salud', 'n_servicios'\n",
    "**'n_art_hum'**: Número de títulos universitarios (grado, máster, doctorado o equivalente) en la rama de artes y humanidades    \n",
    "**'n_ciencias'**: Número de títulos universitarios (grado, máster, doctorado o equivalente) en la rama de Ciencias  \n",
    "**'n_cc_soc_ju'**: Número de títulos universitarios (grado, máster, doctorado o equivalente) en la rama de ciencias sociales y jurídicas  \n",
    "**'n_ing_arq'**: Número de títulos universitarios (grado, máster, doctorado o equivalente) en la rama de ingeniería y arquitectura  \n",
    "**'n_cc_salud'**: Número de títulos universitarios (grado, máster, doctorado o equivalente) en la rama de ciencias de la salud  \n",
    "**'n_servicios'**: Número de títulos universitarios (grado, máster, doctorado o equivalente) en la rama de servicios  \n",
    "\n",
    "Nota: Se crean a partir de la rama asociada al título de grado que motiva esta encuesta y se actualizan con las respuestas a preguntas posteriores.  "
   ]
  },
  {
   "cell_type": "code",
   "execution_count": 72,
   "metadata": {},
   "outputs": [
    {
     "data": {
      "text/html": [
       "<div>\n",
       "<style scoped>\n",
       "    .dataframe tbody tr th:only-of-type {\n",
       "        vertical-align: middle;\n",
       "    }\n",
       "\n",
       "    .dataframe tbody tr th {\n",
       "        vertical-align: top;\n",
       "    }\n",
       "\n",
       "    .dataframe thead tr th {\n",
       "        text-align: left;\n",
       "    }\n",
       "\n",
       "    .dataframe thead tr:last-of-type th {\n",
       "        text-align: right;\n",
       "    }\n",
       "</style>\n",
       "<table border=\"1\" class=\"dataframe\">\n",
       "  <thead>\n",
       "    <tr>\n",
       "      <th></th>\n",
       "      <th>n_art_hum</th>\n",
       "      <th>n_ciencias</th>\n",
       "      <th>n_cc_soc_ju</th>\n",
       "      <th>n_ing_arq</th>\n",
       "      <th>n_cc_salud</th>\n",
       "      <th>n_servicios</th>\n",
       "    </tr>\n",
       "    <tr>\n",
       "      <th></th>\n",
       "      <th>unique</th>\n",
       "      <th>unique</th>\n",
       "      <th>unique</th>\n",
       "      <th>unique</th>\n",
       "      <th>unique</th>\n",
       "      <th>unique</th>\n",
       "    </tr>\n",
       "    <tr>\n",
       "      <th>rama_m1_</th>\n",
       "      <th></th>\n",
       "      <th></th>\n",
       "      <th></th>\n",
       "      <th></th>\n",
       "      <th></th>\n",
       "      <th></th>\n",
       "    </tr>\n",
       "  </thead>\n",
       "  <tbody>\n",
       "    <tr>\n",
       "      <th>Artes y humanidades</th>\n",
       "      <td>[1]</td>\n",
       "      <td>[0]</td>\n",
       "      <td>[0]</td>\n",
       "      <td>[0]</td>\n",
       "      <td>[0]</td>\n",
       "      <td>[0]</td>\n",
       "    </tr>\n",
       "    <tr>\n",
       "      <th>Ciencias</th>\n",
       "      <td>[0]</td>\n",
       "      <td>[1]</td>\n",
       "      <td>[0]</td>\n",
       "      <td>[0]</td>\n",
       "      <td>[0]</td>\n",
       "      <td>[0]</td>\n",
       "    </tr>\n",
       "    <tr>\n",
       "      <th>Ciencias de la salud</th>\n",
       "      <td>[0]</td>\n",
       "      <td>[0]</td>\n",
       "      <td>[0]</td>\n",
       "      <td>[0]</td>\n",
       "      <td>[1]</td>\n",
       "      <td>[0]</td>\n",
       "    </tr>\n",
       "    <tr>\n",
       "      <th>Ciencias sociales y jurídicas</th>\n",
       "      <td>[0]</td>\n",
       "      <td>[0]</td>\n",
       "      <td>[1]</td>\n",
       "      <td>[0]</td>\n",
       "      <td>[0]</td>\n",
       "      <td>[0]</td>\n",
       "    </tr>\n",
       "    <tr>\n",
       "      <th>Ingeniería y arquitectura</th>\n",
       "      <td>[0]</td>\n",
       "      <td>[0]</td>\n",
       "      <td>[0]</td>\n",
       "      <td>[1]</td>\n",
       "      <td>[0]</td>\n",
       "      <td>[0]</td>\n",
       "    </tr>\n",
       "    <tr>\n",
       "      <th>Servicios</th>\n",
       "      <td>[0]</td>\n",
       "      <td>[0]</td>\n",
       "      <td>[0]</td>\n",
       "      <td>[0]</td>\n",
       "      <td>[0]</td>\n",
       "      <td>[1]</td>\n",
       "    </tr>\n",
       "  </tbody>\n",
       "</table>\n",
       "</div>"
      ],
      "text/plain": [
       "                              n_art_hum n_ciencias n_cc_soc_ju n_ing_arq  \\\n",
       "                                 unique     unique      unique    unique   \n",
       "rama_m1_                                                                   \n",
       "Artes y humanidades                 [1]        [0]         [0]       [0]   \n",
       "Ciencias                            [0]        [1]         [0]       [0]   \n",
       "Ciencias de la salud                [0]        [0]         [0]       [0]   \n",
       "Ciencias sociales y jurídicas       [0]        [0]         [1]       [0]   \n",
       "Ingeniería y arquitectura           [0]        [0]         [0]       [1]   \n",
       "Servicios                           [0]        [0]         [0]       [0]   \n",
       "\n",
       "                              n_cc_salud n_servicios  \n",
       "                                  unique      unique  \n",
       "rama_m1_                                              \n",
       "Artes y humanidades                  [0]         [0]  \n",
       "Ciencias                             [0]         [0]  \n",
       "Ciencias de la salud                 [1]         [0]  \n",
       "Ciencias sociales y jurídicas        [0]         [0]  \n",
       "Ingeniería y arquitectura            [0]         [0]  \n",
       "Servicios                            [0]         [1]  "
      ]
     },
     "execution_count": 72,
     "metadata": {},
     "output_type": "execute_result"
    }
   ],
   "source": [
    "L_ramas=['n_art_hum','n_ciencias','n_cc_soc_ju','n_ing_arq','n_cc_salud','n_servicios']\n",
    "for i,rama in enumerate (L_ramas): \n",
    "    df[rama]=0\n",
    "    df[rama].mask(df['rama_m1']==i+1,1,inplace=True)\n",
    "\n",
    "D_describe['n_art_hum']='Número de títulos universitarios (grado, máster, doctorado o equivalente) en la rama de \\\n",
    "artes y humanidades'  \n",
    "D_describe['n_ciencias']='Número de títulos universitarios (grado, máster, doctorado o equivalente) en la rama de \\\n",
    "Ciencias'\n",
    "D_describe['n_cc_soc_ju']='Número de títulos universitarios (grado, máster, doctorado o equivalente) en la rama \\\n",
    "de ciencias sociales y jurídicas'  \n",
    "D_describe['n_ing_arq']='Número de títulos universitarios (grado, máster, doctorado o equivalente) en la rama de \\\n",
    "ingeniería y arquitectura'  \n",
    "D_describe['n_cc_salud']='Número de títulos universitarios (grado, máster, doctorado o equivalente) en la rama de \\\n",
    "ciencias de la salud'  \n",
    "    \n",
    "df[L_ramas+['rama_m1_']].groupby('rama_m1_').agg(['unique']) # Comprobación: "
   ]
  },
  {
   "cell_type": "code",
   "execution_count": 73,
   "metadata": {},
   "outputs": [],
   "source": [
    "for vble in L_ramas: \n",
    "    a_lista(vble)"
   ]
  },
  {
   "cell_type": "code",
   "execution_count": 74,
   "metadata": {},
   "outputs": [],
   "source": [
    "def actualiza_ramas(col):\n",
    "    \"\"\"Actualiza los valores de las variables 'n_art_hum', 'n_ciencias', 'n_cc_soc_ju', 'n_ing_arq', 'n_cc_salud'\n",
    "    de acuerdo con la información proporcionada por la columna 'col'.\n",
    "    \"\"\"\n",
    "    for i,rama in enumerate(L_ramas): \n",
    "        df['incremento']=0 \n",
    "        # Para cada rama, +1 si el título asociado a 'col' pertenece a la rama:\n",
    "        df['incremento'].mask(df[col]==i+1,1,inplace=True) \n",
    "        df[rama]=df[rama]+df['incremento']\n",
    "    return "
   ]
  },
  {
   "cell_type": "markdown",
   "metadata": {},
   "source": [
    "## 'AMBITO' (redefinida como 'ambito_m1')\n",
    "**Ámbito de estudio** de titulación de máster universitario\n",
    "\n",
    "### Nota: Varias leyendas para 'Ambito de estudios'\n",
    "La leyenda de 'ambito de estudio' para este título de máster (el que hace a los titulados elegibles para esta muestra) es diferente a la empleada para el 'ámbito de estudios' para los títulos de grado o equivalentes en esta encuesta. \n",
    "La empleada en para este título de máster es menos detallada que la usada en los títulos de grado. Esta última es la misma que se emplea para los títulos de grado en la encuesta de graduados universitarios. \n",
    "Para el resto de títulos de máster de esta encuesta no se informa del ámbito de estudios'. "
   ]
  },
  {
   "cell_type": "code",
   "execution_count": 75,
   "metadata": {},
   "outputs": [
    {
     "data": {
      "text/plain": [
       "array([ 1,  2,  3,  4,  5,  6,  7,  8,  9, 10])"
      ]
     },
     "execution_count": 75,
     "metadata": {},
     "output_type": "execute_result"
    }
   ],
   "source": [
    "df['AMBITO'].sort_values().unique() # Sin valores no informados"
   ]
  },
  {
   "cell_type": "code",
   "execution_count": 76,
   "metadata": {},
   "outputs": [
    {
     "data": {
      "text/plain": [
       "10"
      ]
     },
     "execution_count": 76,
     "metadata": {},
     "output_type": "execute_result"
    }
   ],
   "source": [
    "df['AMBITO'].nunique()"
   ]
  },
  {
   "cell_type": "code",
   "execution_count": 77,
   "metadata": {},
   "outputs": [
    {
     "name": "stdout",
     "output_type": "stream",
     "text": [
      "                                                        aux_traduce\n",
      "                                                             unique\n",
      "AMBITO                                                             \n",
      "1                                                       [EDUCACIÓN]\n",
      "2                                             [ARTES Y HUMANIDADES]\n",
      "3                   [CIENCIAS SOCIALES, PERIODISMO Y DOCUMENTACIÓN]\n",
      "4                              [NEGOCIOS, ADMINISTRACIÓN Y DERECHO]\n",
      "5                                                        [CIENCIAS]\n",
      "6                                                     [INFORMÁTICA]\n",
      "7                            [INGENIERÍA, INDUSTRIA Y CONSTRUCCIÓN]\n",
      "8       [AGRICULTURA, GANADERÍA, SILVICULTURA, PESCA Y VETERINARIA]\n",
      "9                                      [SALUD Y SERVICIOS SOCIALES]\n",
      "10                                                      [SERVICIOS]\n"
     ]
    }
   ],
   "source": [
    "D_dict['AMBITO']=diccionario('T2AMBIT')\n",
    "traduce('AMBITO')"
   ]
  },
  {
   "cell_type": "code",
   "execution_count": 78,
   "metadata": {},
   "outputs": [],
   "source": [
    "redefine('AMBITO','ambito_m1')\n",
    "D_describe['ambito_m1']='Ámbito de conocimiento del primer máster universitario'\n",
    "# Actualización diccionario para filas no informadas en datasets de grado o doctorado:\n",
    "D_dict['ambito_m1'][0]='No tiene'\n",
    "D_dict['ambito_m1'][str(0)]='No tiene'\n",
    "D_dict['ambito_m1'][1]='Ámbito no conocido'\n",
    "D_dict['ambito_m1'][str(1)]='Ámbito no conocido'"
   ]
  },
  {
   "cell_type": "markdown",
   "metadata": {},
   "source": [
    "### Inspección de relaciones entre títulos, ámbitos de estudio y ramas de conocimiento"
   ]
  },
  {
   "cell_type": "code",
   "execution_count": 79,
   "metadata": {},
   "outputs": [
    {
     "data": {
      "text/html": [
       "<div>\n",
       "<style scoped>\n",
       "    .dataframe tbody tr th:only-of-type {\n",
       "        vertical-align: middle;\n",
       "    }\n",
       "\n",
       "    .dataframe tbody tr th {\n",
       "        vertical-align: top;\n",
       "    }\n",
       "\n",
       "    .dataframe thead tr th {\n",
       "        text-align: left;\n",
       "    }\n",
       "</style>\n",
       "<table border=\"1\" class=\"dataframe\">\n",
       "  <thead>\n",
       "    <tr>\n",
       "      <th></th>\n",
       "      <th>titulo_m1</th>\n",
       "      <th>titulo_m1_</th>\n",
       "      <th>ambito_m1</th>\n",
       "      <th>ambito_m1_</th>\n",
       "      <th>rama_m1_</th>\n",
       "    </tr>\n",
       "    <tr>\n",
       "      <th></th>\n",
       "      <th></th>\n",
       "      <th></th>\n",
       "      <th></th>\n",
       "      <th></th>\n",
       "      <th>unique</th>\n",
       "    </tr>\n",
       "  </thead>\n",
       "  <tbody>\n",
       "    <tr>\n",
       "      <th>0</th>\n",
       "      <td>111</td>\n",
       "      <td>Máster Ciencias de la Educación</td>\n",
       "      <td>1</td>\n",
       "      <td>EDUCACIÓN</td>\n",
       "      <td>[Ciencias sociales y jurídicas]</td>\n",
       "    </tr>\n",
       "    <tr>\n",
       "      <th>1</th>\n",
       "      <td>113</td>\n",
       "      <td>Máster Formación de docentes de enseñanza primaria</td>\n",
       "      <td>1</td>\n",
       "      <td>EDUCACIÓN</td>\n",
       "      <td>[Ciencias sociales y jurídicas]</td>\n",
       "    </tr>\n",
       "    <tr>\n",
       "      <th>2</th>\n",
       "      <td>114</td>\n",
       "      <td>Máster Formación de docentes de educación secundaria y formación profesional</td>\n",
       "      <td>1</td>\n",
       "      <td>EDUCACIÓN</td>\n",
       "      <td>[Ciencias sociales y jurídicas]</td>\n",
       "    </tr>\n",
       "    <tr>\n",
       "      <th>3</th>\n",
       "      <td>119</td>\n",
       "      <td>Máster Educación (Otros estudios)</td>\n",
       "      <td>1</td>\n",
       "      <td>EDUCACIÓN</td>\n",
       "      <td>[Ciencias sociales y jurídicas]</td>\n",
       "    </tr>\n",
       "    <tr>\n",
       "      <th>4</th>\n",
       "      <td>211</td>\n",
       "      <td>Máster Técnicas audiovisuales y medios de comunicación</td>\n",
       "      <td>2</td>\n",
       "      <td>ARTES Y HUMANIDADES</td>\n",
       "      <td>[Ciencias sociales y jurídicas]</td>\n",
       "    </tr>\n",
       "    <tr>\n",
       "      <th>5</th>\n",
       "      <td>213</td>\n",
       "      <td>Máster Bellas artes</td>\n",
       "      <td>2</td>\n",
       "      <td>ARTES Y HUMANIDADES</td>\n",
       "      <td>[Artes y humanidades]</td>\n",
       "    </tr>\n",
       "    <tr>\n",
       "      <th>6</th>\n",
       "      <td>215</td>\n",
       "      <td>Máster Música y artes del espectáculo</td>\n",
       "      <td>2</td>\n",
       "      <td>ARTES Y HUMANIDADES</td>\n",
       "      <td>[Artes y humanidades]</td>\n",
       "    </tr>\n",
       "    <tr>\n",
       "      <th>7</th>\n",
       "      <td>219</td>\n",
       "      <td>Máster Artes (Otros estudios)</td>\n",
       "      <td>2</td>\n",
       "      <td>ARTES Y HUMANIDADES</td>\n",
       "      <td>[Artes y humanidades]</td>\n",
       "    </tr>\n",
       "    <tr>\n",
       "      <th>8</th>\n",
       "      <td>221</td>\n",
       "      <td>Máster Religión y teología</td>\n",
       "      <td>2</td>\n",
       "      <td>ARTES Y HUMANIDADES</td>\n",
       "      <td>[Artes y humanidades]</td>\n",
       "    </tr>\n",
       "    <tr>\n",
       "      <th>9</th>\n",
       "      <td>222</td>\n",
       "      <td>Máster Historia y arqueología</td>\n",
       "      <td>2</td>\n",
       "      <td>ARTES Y HUMANIDADES</td>\n",
       "      <td>[Artes y humanidades]</td>\n",
       "    </tr>\n",
       "    <tr>\n",
       "      <th>10</th>\n",
       "      <td>223</td>\n",
       "      <td>Máster Filosofía y ética</td>\n",
       "      <td>2</td>\n",
       "      <td>ARTES Y HUMANIDADES</td>\n",
       "      <td>[Artes y humanidades]</td>\n",
       "    </tr>\n",
       "    <tr>\n",
       "      <th>11</th>\n",
       "      <td>229</td>\n",
       "      <td>Máster Humanidades (Otros estudios)</td>\n",
       "      <td>2</td>\n",
       "      <td>ARTES Y HUMANIDADES</td>\n",
       "      <td>[Artes y humanidades]</td>\n",
       "    </tr>\n",
       "    <tr>\n",
       "      <th>12</th>\n",
       "      <td>231</td>\n",
       "      <td>Máster Aprendizaje de segundas lenguas</td>\n",
       "      <td>2</td>\n",
       "      <td>ARTES Y HUMANIDADES</td>\n",
       "      <td>[Artes y humanidades]</td>\n",
       "    </tr>\n",
       "    <tr>\n",
       "      <th>13</th>\n",
       "      <td>232</td>\n",
       "      <td>Máster Literatura y lingüística</td>\n",
       "      <td>2</td>\n",
       "      <td>ARTES Y HUMANIDADES</td>\n",
       "      <td>[Artes y humanidades]</td>\n",
       "    </tr>\n",
       "    <tr>\n",
       "      <th>14</th>\n",
       "      <td>239</td>\n",
       "      <td>Máster Lenguas (Otros estudios)</td>\n",
       "      <td>2</td>\n",
       "      <td>ARTES Y HUMANIDADES</td>\n",
       "      <td>[Artes y humanidades]</td>\n",
       "    </tr>\n",
       "    <tr>\n",
       "      <th>15</th>\n",
       "      <td>311</td>\n",
       "      <td>Máster Economía</td>\n",
       "      <td>3</td>\n",
       "      <td>CIENCIAS SOCIALES, PERIODISMO Y DOCUMENTACIÓN</td>\n",
       "      <td>[Ciencias sociales y jurídicas]</td>\n",
       "    </tr>\n",
       "    <tr>\n",
       "      <th>16</th>\n",
       "      <td>312</td>\n",
       "      <td>Máster Ciencias políticas</td>\n",
       "      <td>3</td>\n",
       "      <td>CIENCIAS SOCIALES, PERIODISMO Y DOCUMENTACIÓN</td>\n",
       "      <td>[Ciencias sociales y jurídicas]</td>\n",
       "    </tr>\n",
       "    <tr>\n",
       "      <th>17</th>\n",
       "      <td>313</td>\n",
       "      <td>Máster Psicología</td>\n",
       "      <td>3</td>\n",
       "      <td>CIENCIAS SOCIALES, PERIODISMO Y DOCUMENTACIÓN</td>\n",
       "      <td>[Ciencias sociales y jurídicas]</td>\n",
       "    </tr>\n",
       "    <tr>\n",
       "      <th>18</th>\n",
       "      <td>314</td>\n",
       "      <td>Máster Sociología, antropología y geografía social y cultural</td>\n",
       "      <td>3</td>\n",
       "      <td>CIENCIAS SOCIALES, PERIODISMO Y DOCUMENTACIÓN</td>\n",
       "      <td>[Ciencias sociales y jurídicas]</td>\n",
       "    </tr>\n",
       "    <tr>\n",
       "      <th>19</th>\n",
       "      <td>319</td>\n",
       "      <td>Máster Ciencias sociales y del comportamiento (Otros estudios)</td>\n",
       "      <td>3</td>\n",
       "      <td>CIENCIAS SOCIALES, PERIODISMO Y DOCUMENTACIÓN</td>\n",
       "      <td>[Ciencias sociales y jurídicas]</td>\n",
       "    </tr>\n",
       "    <tr>\n",
       "      <th>20</th>\n",
       "      <td>321</td>\n",
       "      <td>Máster Periodismo y comunicación</td>\n",
       "      <td>3</td>\n",
       "      <td>CIENCIAS SOCIALES, PERIODISMO Y DOCUMENTACIÓN</td>\n",
       "      <td>[Ciencias sociales y jurídicas]</td>\n",
       "    </tr>\n",
       "    <tr>\n",
       "      <th>21</th>\n",
       "      <td>322</td>\n",
       "      <td>Máster Biblioteconomía, documentación y archivos</td>\n",
       "      <td>3</td>\n",
       "      <td>CIENCIAS SOCIALES, PERIODISMO Y DOCUMENTACIÓN</td>\n",
       "      <td>[Ciencias sociales y jurídicas]</td>\n",
       "    </tr>\n",
       "    <tr>\n",
       "      <th>22</th>\n",
       "      <td>411</td>\n",
       "      <td>Máster Contabilidad y gestión de impuestos</td>\n",
       "      <td>4</td>\n",
       "      <td>NEGOCIOS, ADMINISTRACIÓN Y DERECHO</td>\n",
       "      <td>[Ciencias sociales y jurídicas]</td>\n",
       "    </tr>\n",
       "    <tr>\n",
       "      <th>23</th>\n",
       "      <td>412</td>\n",
       "      <td>Máster Finanzas, banca y seguros</td>\n",
       "      <td>4</td>\n",
       "      <td>NEGOCIOS, ADMINISTRACIÓN Y DERECHO</td>\n",
       "      <td>[Ciencias sociales y jurídicas]</td>\n",
       "    </tr>\n",
       "    <tr>\n",
       "      <th>24</th>\n",
       "      <td>413</td>\n",
       "      <td>Máster Dirección y administración</td>\n",
       "      <td>4</td>\n",
       "      <td>NEGOCIOS, ADMINISTRACIÓN Y DERECHO</td>\n",
       "      <td>[Ciencias sociales y jurídicas]</td>\n",
       "    </tr>\n",
       "    <tr>\n",
       "      <th>25</th>\n",
       "      <td>414</td>\n",
       "      <td>Máster Marketing y publicidad</td>\n",
       "      <td>4</td>\n",
       "      <td>NEGOCIOS, ADMINISTRACIÓN Y DERECHO</td>\n",
       "      <td>[Ciencias sociales y jurídicas]</td>\n",
       "    </tr>\n",
       "    <tr>\n",
       "      <th>26</th>\n",
       "      <td>416</td>\n",
       "      <td>Máster Ventas al por mayor y al por menor</td>\n",
       "      <td>4</td>\n",
       "      <td>NEGOCIOS, ADMINISTRACIÓN Y DERECHO</td>\n",
       "      <td>[Ciencias sociales y jurídicas]</td>\n",
       "    </tr>\n",
       "    <tr>\n",
       "      <th>27</th>\n",
       "      <td>419</td>\n",
       "      <td>Máster Negocios y administración (Otros estudios)</td>\n",
       "      <td>4</td>\n",
       "      <td>NEGOCIOS, ADMINISTRACIÓN Y DERECHO</td>\n",
       "      <td>[Ciencias sociales y jurídicas]</td>\n",
       "    </tr>\n",
       "    <tr>\n",
       "      <th>28</th>\n",
       "      <td>421</td>\n",
       "      <td>Máster Derecho</td>\n",
       "      <td>4</td>\n",
       "      <td>NEGOCIOS, ADMINISTRACIÓN Y DERECHO</td>\n",
       "      <td>[Ciencias sociales y jurídicas]</td>\n",
       "    </tr>\n",
       "    <tr>\n",
       "      <th>29</th>\n",
       "      <td>511</td>\n",
       "      <td>Máster Biología</td>\n",
       "      <td>5</td>\n",
       "      <td>CIENCIAS</td>\n",
       "      <td>[Ciencias]</td>\n",
       "    </tr>\n",
       "  </tbody>\n",
       "</table>\n",
       "</div>"
      ],
      "text/plain": [
       "   titulo_m1  \\\n",
       "               \n",
       "0        111   \n",
       "1        113   \n",
       "2        114   \n",
       "3        119   \n",
       "4        211   \n",
       "5        213   \n",
       "6        215   \n",
       "7        219   \n",
       "8        221   \n",
       "9        222   \n",
       "10       223   \n",
       "11       229   \n",
       "12       231   \n",
       "13       232   \n",
       "14       239   \n",
       "15       311   \n",
       "16       312   \n",
       "17       313   \n",
       "18       314   \n",
       "19       319   \n",
       "20       321   \n",
       "21       322   \n",
       "22       411   \n",
       "23       412   \n",
       "24       413   \n",
       "25       414   \n",
       "26       416   \n",
       "27       419   \n",
       "28       421   \n",
       "29       511   \n",
       "\n",
       "                                                                      titulo_m1_  \\\n",
       "                                                                                   \n",
       "0                                                Máster Ciencias de la Educación   \n",
       "1                             Máster Formación de docentes de enseñanza primaria   \n",
       "2   Máster Formación de docentes de educación secundaria y formación profesional   \n",
       "3                                              Máster Educación (Otros estudios)   \n",
       "4                         Máster Técnicas audiovisuales y medios de comunicación   \n",
       "5                                                            Máster Bellas artes   \n",
       "6                                          Máster Música y artes del espectáculo   \n",
       "7                                                  Máster Artes (Otros estudios)   \n",
       "8                                                     Máster Religión y teología   \n",
       "9                                                  Máster Historia y arqueología   \n",
       "10                                                      Máster Filosofía y ética   \n",
       "11                                           Máster Humanidades (Otros estudios)   \n",
       "12                                        Máster Aprendizaje de segundas lenguas   \n",
       "13                                               Máster Literatura y lingüística   \n",
       "14                                               Máster Lenguas (Otros estudios)   \n",
       "15                                                               Máster Economía   \n",
       "16                                                     Máster Ciencias políticas   \n",
       "17                                                             Máster Psicología   \n",
       "18                 Máster Sociología, antropología y geografía social y cultural   \n",
       "19                Máster Ciencias sociales y del comportamiento (Otros estudios)   \n",
       "20                                              Máster Periodismo y comunicación   \n",
       "21                              Máster Biblioteconomía, documentación y archivos   \n",
       "22                                    Máster Contabilidad y gestión de impuestos   \n",
       "23                                              Máster Finanzas, banca y seguros   \n",
       "24                                             Máster Dirección y administración   \n",
       "25                                                 Máster Marketing y publicidad   \n",
       "26                                     Máster Ventas al por mayor y al por menor   \n",
       "27                             Máster Negocios y administración (Otros estudios)   \n",
       "28                                                                Máster Derecho   \n",
       "29                                                               Máster Biología   \n",
       "\n",
       "   ambito_m1                                     ambito_m1_  \\\n",
       "                                                              \n",
       "0          1                                      EDUCACIÓN   \n",
       "1          1                                      EDUCACIÓN   \n",
       "2          1                                      EDUCACIÓN   \n",
       "3          1                                      EDUCACIÓN   \n",
       "4          2                            ARTES Y HUMANIDADES   \n",
       "5          2                            ARTES Y HUMANIDADES   \n",
       "6          2                            ARTES Y HUMANIDADES   \n",
       "7          2                            ARTES Y HUMANIDADES   \n",
       "8          2                            ARTES Y HUMANIDADES   \n",
       "9          2                            ARTES Y HUMANIDADES   \n",
       "10         2                            ARTES Y HUMANIDADES   \n",
       "11         2                            ARTES Y HUMANIDADES   \n",
       "12         2                            ARTES Y HUMANIDADES   \n",
       "13         2                            ARTES Y HUMANIDADES   \n",
       "14         2                            ARTES Y HUMANIDADES   \n",
       "15         3  CIENCIAS SOCIALES, PERIODISMO Y DOCUMENTACIÓN   \n",
       "16         3  CIENCIAS SOCIALES, PERIODISMO Y DOCUMENTACIÓN   \n",
       "17         3  CIENCIAS SOCIALES, PERIODISMO Y DOCUMENTACIÓN   \n",
       "18         3  CIENCIAS SOCIALES, PERIODISMO Y DOCUMENTACIÓN   \n",
       "19         3  CIENCIAS SOCIALES, PERIODISMO Y DOCUMENTACIÓN   \n",
       "20         3  CIENCIAS SOCIALES, PERIODISMO Y DOCUMENTACIÓN   \n",
       "21         3  CIENCIAS SOCIALES, PERIODISMO Y DOCUMENTACIÓN   \n",
       "22         4             NEGOCIOS, ADMINISTRACIÓN Y DERECHO   \n",
       "23         4             NEGOCIOS, ADMINISTRACIÓN Y DERECHO   \n",
       "24         4             NEGOCIOS, ADMINISTRACIÓN Y DERECHO   \n",
       "25         4             NEGOCIOS, ADMINISTRACIÓN Y DERECHO   \n",
       "26         4             NEGOCIOS, ADMINISTRACIÓN Y DERECHO   \n",
       "27         4             NEGOCIOS, ADMINISTRACIÓN Y DERECHO   \n",
       "28         4             NEGOCIOS, ADMINISTRACIÓN Y DERECHO   \n",
       "29         5                                       CIENCIAS   \n",
       "\n",
       "                           rama_m1_  \n",
       "                             unique  \n",
       "0   [Ciencias sociales y jurídicas]  \n",
       "1   [Ciencias sociales y jurídicas]  \n",
       "2   [Ciencias sociales y jurídicas]  \n",
       "3   [Ciencias sociales y jurídicas]  \n",
       "4   [Ciencias sociales y jurídicas]  \n",
       "5             [Artes y humanidades]  \n",
       "6             [Artes y humanidades]  \n",
       "7             [Artes y humanidades]  \n",
       "8             [Artes y humanidades]  \n",
       "9             [Artes y humanidades]  \n",
       "10            [Artes y humanidades]  \n",
       "11            [Artes y humanidades]  \n",
       "12            [Artes y humanidades]  \n",
       "13            [Artes y humanidades]  \n",
       "14            [Artes y humanidades]  \n",
       "15  [Ciencias sociales y jurídicas]  \n",
       "16  [Ciencias sociales y jurídicas]  \n",
       "17  [Ciencias sociales y jurídicas]  \n",
       "18  [Ciencias sociales y jurídicas]  \n",
       "19  [Ciencias sociales y jurídicas]  \n",
       "20  [Ciencias sociales y jurídicas]  \n",
       "21  [Ciencias sociales y jurídicas]  \n",
       "22  [Ciencias sociales y jurídicas]  \n",
       "23  [Ciencias sociales y jurídicas]  \n",
       "24  [Ciencias sociales y jurídicas]  \n",
       "25  [Ciencias sociales y jurídicas]  \n",
       "26  [Ciencias sociales y jurídicas]  \n",
       "27  [Ciencias sociales y jurídicas]  \n",
       "28  [Ciencias sociales y jurídicas]  \n",
       "29                       [Ciencias]  "
      ]
     },
     "execution_count": 79,
     "metadata": {},
     "output_type": "execute_result"
    }
   ],
   "source": [
    "# Inspección de relaciones título, ámbito y rama (instrumental para la corrección de ramas): \n",
    "aux_inspecciona=df[['titulo_m1','titulo_m1_','ambito_m1_','ambito_m1','rama_m1_']]\\\n",
    "           .groupby(['titulo_m1','titulo_m1_','ambito_m1','ambito_m1_']).agg(['unique'])\n",
    "aux_inspecciona.reset_index(inplace=True)\n",
    "aux_inspecciona[:30]"
   ]
  },
  {
   "cell_type": "code",
   "execution_count": 80,
   "metadata": {},
   "outputs": [
    {
     "data": {
      "text/html": [
       "<div>\n",
       "<style scoped>\n",
       "    .dataframe tbody tr th:only-of-type {\n",
       "        vertical-align: middle;\n",
       "    }\n",
       "\n",
       "    .dataframe tbody tr th {\n",
       "        vertical-align: top;\n",
       "    }\n",
       "\n",
       "    .dataframe thead tr th {\n",
       "        text-align: left;\n",
       "    }\n",
       "</style>\n",
       "<table border=\"1\" class=\"dataframe\">\n",
       "  <thead>\n",
       "    <tr>\n",
       "      <th></th>\n",
       "      <th>titulo_m1</th>\n",
       "      <th>titulo_m1_</th>\n",
       "      <th>ambito_m1</th>\n",
       "      <th>ambito_m1_</th>\n",
       "      <th>rama_m1_</th>\n",
       "    </tr>\n",
       "    <tr>\n",
       "      <th></th>\n",
       "      <th></th>\n",
       "      <th></th>\n",
       "      <th></th>\n",
       "      <th></th>\n",
       "      <th>unique</th>\n",
       "    </tr>\n",
       "  </thead>\n",
       "  <tbody>\n",
       "    <tr>\n",
       "      <th>30</th>\n",
       "      <td>512</td>\n",
       "      <td>Máster Bioquímica</td>\n",
       "      <td>5</td>\n",
       "      <td>CIENCIAS</td>\n",
       "      <td>[Ciencias]</td>\n",
       "    </tr>\n",
       "    <tr>\n",
       "      <th>31</th>\n",
       "      <td>519</td>\n",
       "      <td>Máster Ciencias de la vida (Otros estudios)</td>\n",
       "      <td>5</td>\n",
       "      <td>CIENCIAS</td>\n",
       "      <td>[Ciencias]</td>\n",
       "    </tr>\n",
       "    <tr>\n",
       "      <th>32</th>\n",
       "      <td>521</td>\n",
       "      <td>Máster Ciencias del medio ambiente</td>\n",
       "      <td>5</td>\n",
       "      <td>CIENCIAS</td>\n",
       "      <td>[Ciencias]</td>\n",
       "    </tr>\n",
       "    <tr>\n",
       "      <th>33</th>\n",
       "      <td>522</td>\n",
       "      <td>Máster Entornos naturales y vida silvestre</td>\n",
       "      <td>5</td>\n",
       "      <td>CIENCIAS</td>\n",
       "      <td>[Ciencias]</td>\n",
       "    </tr>\n",
       "    <tr>\n",
       "      <th>34</th>\n",
       "      <td>531</td>\n",
       "      <td>Máster Química</td>\n",
       "      <td>5</td>\n",
       "      <td>CIENCIAS</td>\n",
       "      <td>[Ciencias]</td>\n",
       "    </tr>\n",
       "    <tr>\n",
       "      <th>35</th>\n",
       "      <td>532</td>\n",
       "      <td>Máster Ciencias de la tierra</td>\n",
       "      <td>5</td>\n",
       "      <td>CIENCIAS</td>\n",
       "      <td>[Ciencias]</td>\n",
       "    </tr>\n",
       "    <tr>\n",
       "      <th>36</th>\n",
       "      <td>533</td>\n",
       "      <td>Máster Física</td>\n",
       "      <td>5</td>\n",
       "      <td>CIENCIAS</td>\n",
       "      <td>[Ciencias]</td>\n",
       "    </tr>\n",
       "    <tr>\n",
       "      <th>37</th>\n",
       "      <td>541</td>\n",
       "      <td>Máster Matemáticas</td>\n",
       "      <td>5</td>\n",
       "      <td>CIENCIAS</td>\n",
       "      <td>[Ciencias]</td>\n",
       "    </tr>\n",
       "    <tr>\n",
       "      <th>38</th>\n",
       "      <td>542</td>\n",
       "      <td>Máster Estadística</td>\n",
       "      <td>5</td>\n",
       "      <td>CIENCIAS</td>\n",
       "      <td>[Ciencias]</td>\n",
       "    </tr>\n",
       "    <tr>\n",
       "      <th>39</th>\n",
       "      <td>599</td>\n",
       "      <td>Máster Ciencias químicas, físicas y geológicas; Matemáticas y estadística (Otros estudios)</td>\n",
       "      <td>5</td>\n",
       "      <td>CIENCIAS</td>\n",
       "      <td>[Ciencias]</td>\n",
       "    </tr>\n",
       "    <tr>\n",
       "      <th>40</th>\n",
       "      <td>612</td>\n",
       "      <td>Máster Diseño y administración de bases de datos y redes</td>\n",
       "      <td>6</td>\n",
       "      <td>INFORMÁTICA</td>\n",
       "      <td>[Ingeniería y arquitectura]</td>\n",
       "    </tr>\n",
       "    <tr>\n",
       "      <th>41</th>\n",
       "      <td>613</td>\n",
       "      <td>Máster Desarrollo y análisis de aplicaciones y de software</td>\n",
       "      <td>6</td>\n",
       "      <td>INFORMÁTICA</td>\n",
       "      <td>[Ingeniería y arquitectura]</td>\n",
       "    </tr>\n",
       "    <tr>\n",
       "      <th>42</th>\n",
       "      <td>619</td>\n",
       "      <td>Máster Tecnologías de la información y las comunicaciones (Otros estudios)</td>\n",
       "      <td>6</td>\n",
       "      <td>INFORMÁTICA</td>\n",
       "      <td>[Ingeniería y arquitectura]</td>\n",
       "    </tr>\n",
       "    <tr>\n",
       "      <th>43</th>\n",
       "      <td>711</td>\n",
       "      <td>Máster Ingeniería y procesos químicos</td>\n",
       "      <td>7</td>\n",
       "      <td>INGENIERÍA, INDUSTRIA Y CONSTRUCCIÓN</td>\n",
       "      <td>[Ingeniería y arquitectura]</td>\n",
       "    </tr>\n",
       "    <tr>\n",
       "      <th>44</th>\n",
       "      <td>712</td>\n",
       "      <td>Máster Control y tecnología medioambiental</td>\n",
       "      <td>7</td>\n",
       "      <td>INGENIERÍA, INDUSTRIA Y CONSTRUCCIÓN</td>\n",
       "      <td>[Ingeniería y arquitectura]</td>\n",
       "    </tr>\n",
       "    <tr>\n",
       "      <th>45</th>\n",
       "      <td>713</td>\n",
       "      <td>Máster Electricidad y energía</td>\n",
       "      <td>7</td>\n",
       "      <td>INGENIERÍA, INDUSTRIA Y CONSTRUCCIÓN</td>\n",
       "      <td>[Ingeniería y arquitectura]</td>\n",
       "    </tr>\n",
       "    <tr>\n",
       "      <th>46</th>\n",
       "      <td>714</td>\n",
       "      <td>Máster Electrónica y automática</td>\n",
       "      <td>7</td>\n",
       "      <td>INGENIERÍA, INDUSTRIA Y CONSTRUCCIÓN</td>\n",
       "      <td>[Ingeniería y arquitectura]</td>\n",
       "    </tr>\n",
       "    <tr>\n",
       "      <th>47</th>\n",
       "      <td>715</td>\n",
       "      <td>Máster Maquinaria y metalurgia</td>\n",
       "      <td>7</td>\n",
       "      <td>INGENIERÍA, INDUSTRIA Y CONSTRUCCIÓN</td>\n",
       "      <td>[Ingeniería y arquitectura]</td>\n",
       "    </tr>\n",
       "    <tr>\n",
       "      <th>48</th>\n",
       "      <td>716</td>\n",
       "      <td>Máster Vehículos de motor, barcos y aeronaves</td>\n",
       "      <td>7</td>\n",
       "      <td>INGENIERÍA, INDUSTRIA Y CONSTRUCCIÓN</td>\n",
       "      <td>[Ingeniería y arquitectura]</td>\n",
       "    </tr>\n",
       "    <tr>\n",
       "      <th>49</th>\n",
       "      <td>719</td>\n",
       "      <td>Máster Ingeniería y profesiones afines (Otros estudios)</td>\n",
       "      <td>7</td>\n",
       "      <td>INGENIERÍA, INDUSTRIA Y CONSTRUCCIÓN</td>\n",
       "      <td>[Ingeniería y arquitectura]</td>\n",
       "    </tr>\n",
       "    <tr>\n",
       "      <th>50</th>\n",
       "      <td>721</td>\n",
       "      <td>Máster Industria de la alimentación</td>\n",
       "      <td>7</td>\n",
       "      <td>INGENIERÍA, INDUSTRIA Y CONSTRUCCIÓN</td>\n",
       "      <td>[Ingeniería y arquitectura]</td>\n",
       "    </tr>\n",
       "    <tr>\n",
       "      <th>51</th>\n",
       "      <td>722</td>\n",
       "      <td>Máster Industrias de otros materiales (madera, papel, plástico, vidrio,..)</td>\n",
       "      <td>7</td>\n",
       "      <td>INGENIERÍA, INDUSTRIA Y CONSTRUCCIÓN</td>\n",
       "      <td>[Ingeniería y arquitectura]</td>\n",
       "    </tr>\n",
       "    <tr>\n",
       "      <th>52</th>\n",
       "      <td>731</td>\n",
       "      <td>Máster Arquitectura, urbanismo y construcción</td>\n",
       "      <td>7</td>\n",
       "      <td>INGENIERÍA, INDUSTRIA Y CONSTRUCCIÓN</td>\n",
       "      <td>[Ingeniería y arquitectura]</td>\n",
       "    </tr>\n",
       "    <tr>\n",
       "      <th>53</th>\n",
       "      <td>732</td>\n",
       "      <td>Máster Ingeniería civil y de la edificación</td>\n",
       "      <td>7</td>\n",
       "      <td>INGENIERÍA, INDUSTRIA Y CONSTRUCCIÓN</td>\n",
       "      <td>[Ingeniería y arquitectura]</td>\n",
       "    </tr>\n",
       "    <tr>\n",
       "      <th>54</th>\n",
       "      <td>811</td>\n",
       "      <td>Máster Producción agrícola, explotación ganadera, horticultura y jardinería</td>\n",
       "      <td>8</td>\n",
       "      <td>AGRICULTURA, GANADERÍA, SILVICULTURA, PESCA Y VETERINARIA</td>\n",
       "      <td>[Ingeniería y arquitectura]</td>\n",
       "    </tr>\n",
       "    <tr>\n",
       "      <th>55</th>\n",
       "      <td>821</td>\n",
       "      <td>Máster Silvicultura</td>\n",
       "      <td>8</td>\n",
       "      <td>AGRICULTURA, GANADERÍA, SILVICULTURA, PESCA Y VETERINARIA</td>\n",
       "      <td>[Ingeniería y arquitectura]</td>\n",
       "    </tr>\n",
       "    <tr>\n",
       "      <th>56</th>\n",
       "      <td>831</td>\n",
       "      <td>Máster Pesca</td>\n",
       "      <td>8</td>\n",
       "      <td>AGRICULTURA, GANADERÍA, SILVICULTURA, PESCA Y VETERINARIA</td>\n",
       "      <td>[Ciencias]</td>\n",
       "    </tr>\n",
       "    <tr>\n",
       "      <th>57</th>\n",
       "      <td>841</td>\n",
       "      <td>Máster Veterinaria</td>\n",
       "      <td>8</td>\n",
       "      <td>AGRICULTURA, GANADERÍA, SILVICULTURA, PESCA Y VETERINARIA</td>\n",
       "      <td>[Ciencias de la salud]</td>\n",
       "    </tr>\n",
       "    <tr>\n",
       "      <th>58</th>\n",
       "      <td>911</td>\n",
       "      <td>Máster Odontología</td>\n",
       "      <td>9</td>\n",
       "      <td>SALUD Y SERVICIOS SOCIALES</td>\n",
       "      <td>[Ciencias de la salud]</td>\n",
       "    </tr>\n",
       "    <tr>\n",
       "      <th>59</th>\n",
       "      <td>912</td>\n",
       "      <td>Máster Medicina</td>\n",
       "      <td>9</td>\n",
       "      <td>SALUD Y SERVICIOS SOCIALES</td>\n",
       "      <td>[Ciencias de la salud]</td>\n",
       "    </tr>\n",
       "  </tbody>\n",
       "</table>\n",
       "</div>"
      ],
      "text/plain": [
       "   titulo_m1  \\\n",
       "               \n",
       "30       512   \n",
       "31       519   \n",
       "32       521   \n",
       "33       522   \n",
       "34       531   \n",
       "35       532   \n",
       "36       533   \n",
       "37       541   \n",
       "38       542   \n",
       "39       599   \n",
       "40       612   \n",
       "41       613   \n",
       "42       619   \n",
       "43       711   \n",
       "44       712   \n",
       "45       713   \n",
       "46       714   \n",
       "47       715   \n",
       "48       716   \n",
       "49       719   \n",
       "50       721   \n",
       "51       722   \n",
       "52       731   \n",
       "53       732   \n",
       "54       811   \n",
       "55       821   \n",
       "56       831   \n",
       "57       841   \n",
       "58       911   \n",
       "59       912   \n",
       "\n",
       "                                                                                    titulo_m1_  \\\n",
       "                                                                                                 \n",
       "30                                                                           Máster Bioquímica   \n",
       "31                                                 Máster Ciencias de la vida (Otros estudios)   \n",
       "32                                                          Máster Ciencias del medio ambiente   \n",
       "33                                                  Máster Entornos naturales y vida silvestre   \n",
       "34                                                                              Máster Química   \n",
       "35                                                                Máster Ciencias de la tierra   \n",
       "36                                                                               Máster Física   \n",
       "37                                                                          Máster Matemáticas   \n",
       "38                                                                          Máster Estadística   \n",
       "39  Máster Ciencias químicas, físicas y geológicas; Matemáticas y estadística (Otros estudios)   \n",
       "40                                    Máster Diseño y administración de bases de datos y redes   \n",
       "41                                  Máster Desarrollo y análisis de aplicaciones y de software   \n",
       "42                  Máster Tecnologías de la información y las comunicaciones (Otros estudios)   \n",
       "43                                                       Máster Ingeniería y procesos químicos   \n",
       "44                                                  Máster Control y tecnología medioambiental   \n",
       "45                                                               Máster Electricidad y energía   \n",
       "46                                                             Máster Electrónica y automática   \n",
       "47                                                              Máster Maquinaria y metalurgia   \n",
       "48                                               Máster Vehículos de motor, barcos y aeronaves   \n",
       "49                                     Máster Ingeniería y profesiones afines (Otros estudios)   \n",
       "50                                                         Máster Industria de la alimentación   \n",
       "51                  Máster Industrias de otros materiales (madera, papel, plástico, vidrio,..)   \n",
       "52                                               Máster Arquitectura, urbanismo y construcción   \n",
       "53                                                 Máster Ingeniería civil y de la edificación   \n",
       "54                 Máster Producción agrícola, explotación ganadera, horticultura y jardinería   \n",
       "55                                                                         Máster Silvicultura   \n",
       "56                                                                                Máster Pesca   \n",
       "57                                                                          Máster Veterinaria   \n",
       "58                                                                          Máster Odontología   \n",
       "59                                                                             Máster Medicina   \n",
       "\n",
       "   ambito_m1                                                 ambito_m1_  \\\n",
       "                                                                          \n",
       "30         5                                                   CIENCIAS   \n",
       "31         5                                                   CIENCIAS   \n",
       "32         5                                                   CIENCIAS   \n",
       "33         5                                                   CIENCIAS   \n",
       "34         5                                                   CIENCIAS   \n",
       "35         5                                                   CIENCIAS   \n",
       "36         5                                                   CIENCIAS   \n",
       "37         5                                                   CIENCIAS   \n",
       "38         5                                                   CIENCIAS   \n",
       "39         5                                                   CIENCIAS   \n",
       "40         6                                                INFORMÁTICA   \n",
       "41         6                                                INFORMÁTICA   \n",
       "42         6                                                INFORMÁTICA   \n",
       "43         7                       INGENIERÍA, INDUSTRIA Y CONSTRUCCIÓN   \n",
       "44         7                       INGENIERÍA, INDUSTRIA Y CONSTRUCCIÓN   \n",
       "45         7                       INGENIERÍA, INDUSTRIA Y CONSTRUCCIÓN   \n",
       "46         7                       INGENIERÍA, INDUSTRIA Y CONSTRUCCIÓN   \n",
       "47         7                       INGENIERÍA, INDUSTRIA Y CONSTRUCCIÓN   \n",
       "48         7                       INGENIERÍA, INDUSTRIA Y CONSTRUCCIÓN   \n",
       "49         7                       INGENIERÍA, INDUSTRIA Y CONSTRUCCIÓN   \n",
       "50         7                       INGENIERÍA, INDUSTRIA Y CONSTRUCCIÓN   \n",
       "51         7                       INGENIERÍA, INDUSTRIA Y CONSTRUCCIÓN   \n",
       "52         7                       INGENIERÍA, INDUSTRIA Y CONSTRUCCIÓN   \n",
       "53         7                       INGENIERÍA, INDUSTRIA Y CONSTRUCCIÓN   \n",
       "54         8  AGRICULTURA, GANADERÍA, SILVICULTURA, PESCA Y VETERINARIA   \n",
       "55         8  AGRICULTURA, GANADERÍA, SILVICULTURA, PESCA Y VETERINARIA   \n",
       "56         8  AGRICULTURA, GANADERÍA, SILVICULTURA, PESCA Y VETERINARIA   \n",
       "57         8  AGRICULTURA, GANADERÍA, SILVICULTURA, PESCA Y VETERINARIA   \n",
       "58         9                                 SALUD Y SERVICIOS SOCIALES   \n",
       "59         9                                 SALUD Y SERVICIOS SOCIALES   \n",
       "\n",
       "                       rama_m1_  \n",
       "                         unique  \n",
       "30                   [Ciencias]  \n",
       "31                   [Ciencias]  \n",
       "32                   [Ciencias]  \n",
       "33                   [Ciencias]  \n",
       "34                   [Ciencias]  \n",
       "35                   [Ciencias]  \n",
       "36                   [Ciencias]  \n",
       "37                   [Ciencias]  \n",
       "38                   [Ciencias]  \n",
       "39                   [Ciencias]  \n",
       "40  [Ingeniería y arquitectura]  \n",
       "41  [Ingeniería y arquitectura]  \n",
       "42  [Ingeniería y arquitectura]  \n",
       "43  [Ingeniería y arquitectura]  \n",
       "44  [Ingeniería y arquitectura]  \n",
       "45  [Ingeniería y arquitectura]  \n",
       "46  [Ingeniería y arquitectura]  \n",
       "47  [Ingeniería y arquitectura]  \n",
       "48  [Ingeniería y arquitectura]  \n",
       "49  [Ingeniería y arquitectura]  \n",
       "50  [Ingeniería y arquitectura]  \n",
       "51  [Ingeniería y arquitectura]  \n",
       "52  [Ingeniería y arquitectura]  \n",
       "53  [Ingeniería y arquitectura]  \n",
       "54  [Ingeniería y arquitectura]  \n",
       "55  [Ingeniería y arquitectura]  \n",
       "56                   [Ciencias]  \n",
       "57       [Ciencias de la salud]  \n",
       "58       [Ciencias de la salud]  \n",
       "59       [Ciencias de la salud]  "
      ]
     },
     "execution_count": 80,
     "metadata": {},
     "output_type": "execute_result"
    }
   ],
   "source": [
    "# Inspección de relaciones título, ámbito y rama (instrumental para la corrección de ramas): \n",
    "aux_inspecciona[30:60]"
   ]
  },
  {
   "cell_type": "code",
   "execution_count": 81,
   "metadata": {},
   "outputs": [
    {
     "data": {
      "text/html": [
       "<div>\n",
       "<style scoped>\n",
       "    .dataframe tbody tr th:only-of-type {\n",
       "        vertical-align: middle;\n",
       "    }\n",
       "\n",
       "    .dataframe tbody tr th {\n",
       "        vertical-align: top;\n",
       "    }\n",
       "\n",
       "    .dataframe thead tr th {\n",
       "        text-align: left;\n",
       "    }\n",
       "</style>\n",
       "<table border=\"1\" class=\"dataframe\">\n",
       "  <thead>\n",
       "    <tr>\n",
       "      <th></th>\n",
       "      <th>titulo_m1</th>\n",
       "      <th>titulo_m1_</th>\n",
       "      <th>ambito_m1</th>\n",
       "      <th>ambito_m1_</th>\n",
       "      <th>rama_m1_</th>\n",
       "    </tr>\n",
       "    <tr>\n",
       "      <th></th>\n",
       "      <th></th>\n",
       "      <th></th>\n",
       "      <th></th>\n",
       "      <th></th>\n",
       "      <th>unique</th>\n",
       "    </tr>\n",
       "  </thead>\n",
       "  <tbody>\n",
       "    <tr>\n",
       "      <th>60</th>\n",
       "      <td>913</td>\n",
       "      <td>Máster Enfermería</td>\n",
       "      <td>9</td>\n",
       "      <td>SALUD Y SERVICIOS SOCIALES</td>\n",
       "      <td>[Ciencias de la salud]</td>\n",
       "    </tr>\n",
       "    <tr>\n",
       "      <th>61</th>\n",
       "      <td>914</td>\n",
       "      <td>Máster Tecnología de diagnóstico y tratamiento médico</td>\n",
       "      <td>9</td>\n",
       "      <td>SALUD Y SERVICIOS SOCIALES</td>\n",
       "      <td>[Ciencias de la salud]</td>\n",
       "    </tr>\n",
       "    <tr>\n",
       "      <th>62</th>\n",
       "      <td>915</td>\n",
       "      <td>Máster Terapia y rehabilitación</td>\n",
       "      <td>9</td>\n",
       "      <td>SALUD Y SERVICIOS SOCIALES</td>\n",
       "      <td>[Ciencias de la salud]</td>\n",
       "    </tr>\n",
       "    <tr>\n",
       "      <th>63</th>\n",
       "      <td>916</td>\n",
       "      <td>Máster Farmacia</td>\n",
       "      <td>9</td>\n",
       "      <td>SALUD Y SERVICIOS SOCIALES</td>\n",
       "      <td>[Ciencias de la salud]</td>\n",
       "    </tr>\n",
       "    <tr>\n",
       "      <th>64</th>\n",
       "      <td>919</td>\n",
       "      <td>Máster Salud (Otros estudios)</td>\n",
       "      <td>9</td>\n",
       "      <td>SALUD Y SERVICIOS SOCIALES</td>\n",
       "      <td>[Ciencias de la salud]</td>\n",
       "    </tr>\n",
       "    <tr>\n",
       "      <th>65</th>\n",
       "      <td>923</td>\n",
       "      <td>Máster Trabajo social y orientación</td>\n",
       "      <td>9</td>\n",
       "      <td>SALUD Y SERVICIOS SOCIALES</td>\n",
       "      <td>[Ciencias sociales y jurídicas]</td>\n",
       "    </tr>\n",
       "    <tr>\n",
       "      <th>66</th>\n",
       "      <td>1013</td>\n",
       "      <td>Máster Hostelería</td>\n",
       "      <td>10</td>\n",
       "      <td>SERVICIOS</td>\n",
       "      <td>[Servicios]</td>\n",
       "    </tr>\n",
       "    <tr>\n",
       "      <th>67</th>\n",
       "      <td>1014</td>\n",
       "      <td>Máster Actividades físicas y deportivas</td>\n",
       "      <td>10</td>\n",
       "      <td>SERVICIOS</td>\n",
       "      <td>[Servicios]</td>\n",
       "    </tr>\n",
       "    <tr>\n",
       "      <th>68</th>\n",
       "      <td>1015</td>\n",
       "      <td>Máster Viajes, turismo y ocio</td>\n",
       "      <td>10</td>\n",
       "      <td>SERVICIOS</td>\n",
       "      <td>[Servicios]</td>\n",
       "    </tr>\n",
       "    <tr>\n",
       "      <th>69</th>\n",
       "      <td>1022</td>\n",
       "      <td>Máster Salud y seguridad laboral</td>\n",
       "      <td>10</td>\n",
       "      <td>SERVICIOS</td>\n",
       "      <td>[Ciencias sociales y jurídicas]</td>\n",
       "    </tr>\n",
       "    <tr>\n",
       "      <th>70</th>\n",
       "      <td>1032</td>\n",
       "      <td>Máster Protección de la propiedad y las personas y enseñanza militar</td>\n",
       "      <td>10</td>\n",
       "      <td>SERVICIOS</td>\n",
       "      <td>[Servicios]</td>\n",
       "    </tr>\n",
       "    <tr>\n",
       "      <th>71</th>\n",
       "      <td>1041</td>\n",
       "      <td>Máster Servicios de transporte</td>\n",
       "      <td>10</td>\n",
       "      <td>SERVICIOS</td>\n",
       "      <td>[Servicios]</td>\n",
       "    </tr>\n",
       "  </tbody>\n",
       "</table>\n",
       "</div>"
      ],
      "text/plain": [
       "   titulo_m1  \\\n",
       "               \n",
       "60       913   \n",
       "61       914   \n",
       "62       915   \n",
       "63       916   \n",
       "64       919   \n",
       "65       923   \n",
       "66      1013   \n",
       "67      1014   \n",
       "68      1015   \n",
       "69      1022   \n",
       "70      1032   \n",
       "71      1041   \n",
       "\n",
       "                                                              titulo_m1_  \\\n",
       "                                                                           \n",
       "60                                                     Máster Enfermería   \n",
       "61                 Máster Tecnología de diagnóstico y tratamiento médico   \n",
       "62                                       Máster Terapia y rehabilitación   \n",
       "63                                                       Máster Farmacia   \n",
       "64                                         Máster Salud (Otros estudios)   \n",
       "65                                   Máster Trabajo social y orientación   \n",
       "66                                                     Máster Hostelería   \n",
       "67                               Máster Actividades físicas y deportivas   \n",
       "68                                         Máster Viajes, turismo y ocio   \n",
       "69                                      Máster Salud y seguridad laboral   \n",
       "70  Máster Protección de la propiedad y las personas y enseñanza militar   \n",
       "71                                        Máster Servicios de transporte   \n",
       "\n",
       "   ambito_m1                  ambito_m1_                         rama_m1_  \n",
       "                                                                   unique  \n",
       "60         9  SALUD Y SERVICIOS SOCIALES           [Ciencias de la salud]  \n",
       "61         9  SALUD Y SERVICIOS SOCIALES           [Ciencias de la salud]  \n",
       "62         9  SALUD Y SERVICIOS SOCIALES           [Ciencias de la salud]  \n",
       "63         9  SALUD Y SERVICIOS SOCIALES           [Ciencias de la salud]  \n",
       "64         9  SALUD Y SERVICIOS SOCIALES           [Ciencias de la salud]  \n",
       "65         9  SALUD Y SERVICIOS SOCIALES  [Ciencias sociales y jurídicas]  \n",
       "66        10                   SERVICIOS                      [Servicios]  \n",
       "67        10                   SERVICIOS                      [Servicios]  \n",
       "68        10                   SERVICIOS                      [Servicios]  \n",
       "69        10                   SERVICIOS  [Ciencias sociales y jurídicas]  \n",
       "70        10                   SERVICIOS                      [Servicios]  \n",
       "71        10                   SERVICIOS                      [Servicios]  "
      ]
     },
     "execution_count": 81,
     "metadata": {},
     "output_type": "execute_result"
    }
   ],
   "source": [
    "# Inspección de relaciones título, ámbito y rama (instrumental para la corrección de ramas): \n",
    "\n",
    "aux_inspecciona[60:90]"
   ]
  },
  {
   "cell_type": "code",
   "execution_count": 82,
   "metadata": {},
   "outputs": [
    {
     "data": {
      "text/plain": [
       "array([1])"
      ]
     },
     "execution_count": 82,
     "metadata": {},
     "output_type": "execute_result"
    }
   ],
   "source": [
    "# Comprobación: todos los títulos asociados a un único ámbito de estudio: \n",
    "df_comprobacion=df[['rama_m1_','titulo_m1']].groupby(['titulo_m1']).agg(['nunique'])\n",
    "df_comprobacion[df_comprobacion.columns[-1]].unique()"
   ]
  },
  {
   "cell_type": "code",
   "execution_count": null,
   "metadata": {},
   "outputs": [],
   "source": []
  },
  {
   "cell_type": "markdown",
   "metadata": {},
   "source": [
    "### Inspección ámbitos de estudios y ramas de conocimiento\n",
    "\n",
    "Algunos ámbitos de estudio están asociados a más de una rama de conocimiento. Sin embargo, las correspondencias son correctas. Formalmente, la clasificación en ramas no es una partición de la clasificación en ámbitos de títulos de máster. \n",
    "\n",
    "Las multiplicidades no son un problema para procesar ninguna otra variable ya que del resto de títulos de máster de los encuestados solo conocemos la rama y de sus títulos de grado conocemos el ámbito clasificado de acuerdo con el criterio empleado para los títulos de grado, más granulado que el de ámbitos de títulos de máster.  \n",
    "\n",
    "Tampoco es un problema para la agregación del los ámbitos de grado en familias (las familias de títulos universitarios se definen más adelante, una vez se han agregado todas las encuestas, y se corresponden con los ámbitos de máster) porque los ámbitos de grado sí son una partición de los ámbitos de máster (y también de la clasificación en ramas). "
   ]
  },
  {
   "cell_type": "code",
   "execution_count": 83,
   "metadata": {},
   "outputs": [
    {
     "data": {
      "text/plain": [
       "array([3, 2, 1])"
      ]
     },
     "execution_count": 83,
     "metadata": {},
     "output_type": "execute_result"
    }
   ],
   "source": [
    "# Algunos ámbitos de estudios están asociados a más de una rama de conocimiento: \n",
    "aux_num_ramas=df[['rama_m1_','ambito_m1_']].groupby('ambito_m1_').agg(['nunique'])\n",
    "aux_num_ramas[aux_num_ramas.columns[-1]].unique()"
   ]
  },
  {
   "cell_type": "code",
   "execution_count": 84,
   "metadata": {},
   "outputs": [
    {
     "data": {
      "text/html": [
       "<div>\n",
       "<style scoped>\n",
       "    .dataframe tbody tr th:only-of-type {\n",
       "        vertical-align: middle;\n",
       "    }\n",
       "\n",
       "    .dataframe tbody tr th {\n",
       "        vertical-align: top;\n",
       "    }\n",
       "\n",
       "    .dataframe thead th {\n",
       "        text-align: right;\n",
       "    }\n",
       "</style>\n",
       "<table border=\"1\" class=\"dataframe\">\n",
       "  <thead>\n",
       "    <tr style=\"text-align: right;\">\n",
       "      <th></th>\n",
       "      <th>num_ramas</th>\n",
       "    </tr>\n",
       "    <tr>\n",
       "      <th>ambito_m1_</th>\n",
       "      <th></th>\n",
       "    </tr>\n",
       "  </thead>\n",
       "  <tbody>\n",
       "    <tr>\n",
       "      <th>AGRICULTURA, GANADERÍA, SILVICULTURA, PESCA Y VETERINARIA</th>\n",
       "      <td>3</td>\n",
       "    </tr>\n",
       "    <tr>\n",
       "      <th>ARTES Y HUMANIDADES</th>\n",
       "      <td>2</td>\n",
       "    </tr>\n",
       "    <tr>\n",
       "      <th>CIENCIAS</th>\n",
       "      <td>1</td>\n",
       "    </tr>\n",
       "    <tr>\n",
       "      <th>CIENCIAS SOCIALES, PERIODISMO Y DOCUMENTACIÓN</th>\n",
       "      <td>1</td>\n",
       "    </tr>\n",
       "    <tr>\n",
       "      <th>EDUCACIÓN</th>\n",
       "      <td>1</td>\n",
       "    </tr>\n",
       "    <tr>\n",
       "      <th>INFORMÁTICA</th>\n",
       "      <td>1</td>\n",
       "    </tr>\n",
       "    <tr>\n",
       "      <th>INGENIERÍA, INDUSTRIA Y CONSTRUCCIÓN</th>\n",
       "      <td>1</td>\n",
       "    </tr>\n",
       "    <tr>\n",
       "      <th>NEGOCIOS, ADMINISTRACIÓN Y DERECHO</th>\n",
       "      <td>1</td>\n",
       "    </tr>\n",
       "    <tr>\n",
       "      <th>SALUD Y SERVICIOS SOCIALES</th>\n",
       "      <td>2</td>\n",
       "    </tr>\n",
       "    <tr>\n",
       "      <th>SERVICIOS</th>\n",
       "      <td>2</td>\n",
       "    </tr>\n",
       "  </tbody>\n",
       "</table>\n",
       "</div>"
      ],
      "text/plain": [
       "                                                           num_ramas\n",
       "ambito_m1_                                                          \n",
       "AGRICULTURA, GANADERÍA, SILVICULTURA, PESCA Y VETERINARIA          3\n",
       "ARTES Y HUMANIDADES                                                2\n",
       "CIENCIAS                                                           1\n",
       "CIENCIAS SOCIALES, PERIODISMO Y DOCUMENTACIÓN                      1\n",
       "EDUCACIÓN                                                          1\n",
       "INFORMÁTICA                                                        1\n",
       "INGENIERÍA, INDUSTRIA Y CONSTRUCCIÓN                               1\n",
       "NEGOCIOS, ADMINISTRACIÓN Y DERECHO                                 1\n",
       "SALUD Y SERVICIOS SOCIALES                                         2\n",
       "SERVICIOS                                                          2"
      ]
     },
     "execution_count": 84,
     "metadata": {},
     "output_type": "execute_result"
    }
   ],
   "source": [
    "aux_num_ramas.columns=aux_num_ramas.columns.to_flat_index()\n",
    "aux_num_ramas.rename(columns={aux_num_ramas.columns[-1]:'num_ramas'},inplace=True)\n",
    "aux_num_ramas"
   ]
  },
  {
   "cell_type": "code",
   "execution_count": 85,
   "metadata": {},
   "outputs": [],
   "source": [
    "aux_num_ramas=df[['titulo_m1_','ambito_m1_','rama_m1_']].merge(aux_num_ramas,on='ambito_m1_',how='left')\n",
    "#aux_num_ramas"
   ]
  },
  {
   "cell_type": "code",
   "execution_count": 86,
   "metadata": {},
   "outputs": [
    {
     "data": {
      "text/html": [
       "<div>\n",
       "<style scoped>\n",
       "    .dataframe tbody tr th:only-of-type {\n",
       "        vertical-align: middle;\n",
       "    }\n",
       "\n",
       "    .dataframe tbody tr th {\n",
       "        vertical-align: top;\n",
       "    }\n",
       "\n",
       "    .dataframe thead tr th {\n",
       "        text-align: left;\n",
       "    }\n",
       "\n",
       "    .dataframe thead tr:last-of-type th {\n",
       "        text-align: right;\n",
       "    }\n",
       "</style>\n",
       "<table border=\"1\" class=\"dataframe\">\n",
       "  <thead>\n",
       "    <tr>\n",
       "      <th></th>\n",
       "      <th></th>\n",
       "      <th>rama_m1_</th>\n",
       "    </tr>\n",
       "    <tr>\n",
       "      <th></th>\n",
       "      <th></th>\n",
       "      <th>unique</th>\n",
       "    </tr>\n",
       "    <tr>\n",
       "      <th>ambito_m1_</th>\n",
       "      <th>titulo_m1_</th>\n",
       "      <th></th>\n",
       "    </tr>\n",
       "  </thead>\n",
       "  <tbody>\n",
       "    <tr>\n",
       "      <th rowspan=\"4\" valign=\"top\">AGRICULTURA, GANADERÍA, SILVICULTURA, PESCA Y VETERINARIA</th>\n",
       "      <th>Máster Pesca</th>\n",
       "      <td>[Ciencias]</td>\n",
       "    </tr>\n",
       "    <tr>\n",
       "      <th>Máster Producción agrícola, explotación ganadera, horticultura y jardinería</th>\n",
       "      <td>[Ingeniería y arquitectura]</td>\n",
       "    </tr>\n",
       "    <tr>\n",
       "      <th>Máster Silvicultura</th>\n",
       "      <td>[Ingeniería y arquitectura]</td>\n",
       "    </tr>\n",
       "    <tr>\n",
       "      <th>Máster Veterinaria</th>\n",
       "      <td>[Ciencias de la salud]</td>\n",
       "    </tr>\n",
       "    <tr>\n",
       "      <th rowspan=\"11\" valign=\"top\">ARTES Y HUMANIDADES</th>\n",
       "      <th>Máster Aprendizaje de segundas lenguas</th>\n",
       "      <td>[Artes y humanidades]</td>\n",
       "    </tr>\n",
       "    <tr>\n",
       "      <th>Máster Artes (Otros estudios)</th>\n",
       "      <td>[Artes y humanidades]</td>\n",
       "    </tr>\n",
       "    <tr>\n",
       "      <th>Máster Bellas artes</th>\n",
       "      <td>[Artes y humanidades]</td>\n",
       "    </tr>\n",
       "    <tr>\n",
       "      <th>Máster Filosofía y ética</th>\n",
       "      <td>[Artes y humanidades]</td>\n",
       "    </tr>\n",
       "    <tr>\n",
       "      <th>Máster Historia y arqueología</th>\n",
       "      <td>[Artes y humanidades]</td>\n",
       "    </tr>\n",
       "    <tr>\n",
       "      <th>Máster Humanidades (Otros estudios)</th>\n",
       "      <td>[Artes y humanidades]</td>\n",
       "    </tr>\n",
       "    <tr>\n",
       "      <th>Máster Lenguas (Otros estudios)</th>\n",
       "      <td>[Artes y humanidades]</td>\n",
       "    </tr>\n",
       "    <tr>\n",
       "      <th>Máster Literatura y lingüística</th>\n",
       "      <td>[Artes y humanidades]</td>\n",
       "    </tr>\n",
       "    <tr>\n",
       "      <th>Máster Música y artes del espectáculo</th>\n",
       "      <td>[Artes y humanidades]</td>\n",
       "    </tr>\n",
       "    <tr>\n",
       "      <th>Máster Religión y teología</th>\n",
       "      <td>[Artes y humanidades]</td>\n",
       "    </tr>\n",
       "    <tr>\n",
       "      <th>Máster Técnicas audiovisuales y medios de comunicación</th>\n",
       "      <td>[Ciencias sociales y jurídicas]</td>\n",
       "    </tr>\n",
       "    <tr>\n",
       "      <th rowspan=\"8\" valign=\"top\">SALUD Y SERVICIOS SOCIALES</th>\n",
       "      <th>Máster Enfermería</th>\n",
       "      <td>[Ciencias de la salud]</td>\n",
       "    </tr>\n",
       "    <tr>\n",
       "      <th>Máster Farmacia</th>\n",
       "      <td>[Ciencias de la salud]</td>\n",
       "    </tr>\n",
       "    <tr>\n",
       "      <th>Máster Medicina</th>\n",
       "      <td>[Ciencias de la salud]</td>\n",
       "    </tr>\n",
       "    <tr>\n",
       "      <th>Máster Odontología</th>\n",
       "      <td>[Ciencias de la salud]</td>\n",
       "    </tr>\n",
       "    <tr>\n",
       "      <th>Máster Salud (Otros estudios)</th>\n",
       "      <td>[Ciencias de la salud]</td>\n",
       "    </tr>\n",
       "    <tr>\n",
       "      <th>Máster Tecnología de diagnóstico y tratamiento médico</th>\n",
       "      <td>[Ciencias de la salud]</td>\n",
       "    </tr>\n",
       "    <tr>\n",
       "      <th>Máster Terapia y rehabilitación</th>\n",
       "      <td>[Ciencias de la salud]</td>\n",
       "    </tr>\n",
       "    <tr>\n",
       "      <th>Máster Trabajo social y orientación</th>\n",
       "      <td>[Ciencias sociales y jurídicas]</td>\n",
       "    </tr>\n",
       "    <tr>\n",
       "      <th rowspan=\"6\" valign=\"top\">SERVICIOS</th>\n",
       "      <th>Máster Actividades físicas y deportivas</th>\n",
       "      <td>[Servicios]</td>\n",
       "    </tr>\n",
       "    <tr>\n",
       "      <th>Máster Hostelería</th>\n",
       "      <td>[Servicios]</td>\n",
       "    </tr>\n",
       "    <tr>\n",
       "      <th>Máster Protección de la propiedad y las personas y enseñanza militar</th>\n",
       "      <td>[Servicios]</td>\n",
       "    </tr>\n",
       "    <tr>\n",
       "      <th>Máster Salud y seguridad laboral</th>\n",
       "      <td>[Ciencias sociales y jurídicas]</td>\n",
       "    </tr>\n",
       "    <tr>\n",
       "      <th>Máster Servicios de transporte</th>\n",
       "      <td>[Servicios]</td>\n",
       "    </tr>\n",
       "    <tr>\n",
       "      <th>Máster Viajes, turismo y ocio</th>\n",
       "      <td>[Servicios]</td>\n",
       "    </tr>\n",
       "  </tbody>\n",
       "</table>\n",
       "</div>"
      ],
      "text/plain": [
       "                                                                                                                                                              rama_m1_\n",
       "                                                                                                                                                                unique\n",
       "ambito_m1_                                                titulo_m1_                                                                                                  \n",
       "AGRICULTURA, GANADERÍA, SILVICULTURA, PESCA Y VETERINARIA Máster Pesca                                                                                      [Ciencias]\n",
       "                                                          Máster Producción agrícola, explotación ganadera, horticultura y jardinería      [Ingeniería y arquitectura]\n",
       "                                                          Máster Silvicultura                                                              [Ingeniería y arquitectura]\n",
       "                                                          Máster Veterinaria                                                                    [Ciencias de la salud]\n",
       "ARTES Y HUMANIDADES                                       Máster Aprendizaje de segundas lenguas                                                 [Artes y humanidades]\n",
       "                                                          Máster Artes (Otros estudios)                                                          [Artes y humanidades]\n",
       "                                                          Máster Bellas artes                                                                    [Artes y humanidades]\n",
       "                                                          Máster Filosofía y ética                                                               [Artes y humanidades]\n",
       "                                                          Máster Historia y arqueología                                                          [Artes y humanidades]\n",
       "                                                          Máster Humanidades (Otros estudios)                                                    [Artes y humanidades]\n",
       "                                                          Máster Lenguas (Otros estudios)                                                        [Artes y humanidades]\n",
       "                                                          Máster Literatura y lingüística                                                        [Artes y humanidades]\n",
       "                                                          Máster Música y artes del espectáculo                                                  [Artes y humanidades]\n",
       "                                                          Máster Religión y teología                                                             [Artes y humanidades]\n",
       "                                                          Máster Técnicas audiovisuales y medios de comunicación                       [Ciencias sociales y jurídicas]\n",
       "SALUD Y SERVICIOS SOCIALES                                Máster Enfermería                                                                     [Ciencias de la salud]\n",
       "                                                          Máster Farmacia                                                                       [Ciencias de la salud]\n",
       "                                                          Máster Medicina                                                                       [Ciencias de la salud]\n",
       "                                                          Máster Odontología                                                                    [Ciencias de la salud]\n",
       "                                                          Máster Salud (Otros estudios)                                                         [Ciencias de la salud]\n",
       "                                                          Máster Tecnología de diagnóstico y tratamiento médico                                 [Ciencias de la salud]\n",
       "                                                          Máster Terapia y rehabilitación                                                       [Ciencias de la salud]\n",
       "                                                          Máster Trabajo social y orientación                                          [Ciencias sociales y jurídicas]\n",
       "SERVICIOS                                                 Máster Actividades físicas y deportivas                                                          [Servicios]\n",
       "                                                          Máster Hostelería                                                                                [Servicios]\n",
       "                                                          Máster Protección de la propiedad y las personas y enseñanza militar                             [Servicios]\n",
       "                                                          Máster Salud y seguridad laboral                                             [Ciencias sociales y jurídicas]\n",
       "                                                          Máster Servicios de transporte                                                                   [Servicios]\n",
       "                                                          Máster Viajes, turismo y ocio                                                                    [Servicios]"
      ]
     },
     "execution_count": 86,
     "metadata": {},
     "output_type": "execute_result"
    }
   ],
   "source": [
    "# Inspección: títulos de máster asociados a los ámbitos clasificados en más de una rama de conocimiento: \n",
    "aux_num_ramas=aux_num_ramas[aux_num_ramas['num_ramas']>1]\n",
    "aux_num_ramas[['titulo_m1_','ambito_m1_','rama_m1_']].groupby(['ambito_m1_','titulo_m1_']).agg(['unique'])"
   ]
  },
  {
   "cell_type": "code",
   "execution_count": 87,
   "metadata": {},
   "outputs": [
    {
     "data": {
      "text/html": [
       "<div>\n",
       "<style scoped>\n",
       "    .dataframe tbody tr th:only-of-type {\n",
       "        vertical-align: middle;\n",
       "    }\n",
       "\n",
       "    .dataframe tbody tr th {\n",
       "        vertical-align: top;\n",
       "    }\n",
       "\n",
       "    .dataframe thead th {\n",
       "        text-align: right;\n",
       "    }\n",
       "</style>\n",
       "<table border=\"1\" class=\"dataframe\">\n",
       "  <thead>\n",
       "    <tr style=\"text-align: right;\">\n",
       "      <th></th>\n",
       "      <th>ambito_m1_</th>\n",
       "    </tr>\n",
       "  </thead>\n",
       "  <tbody>\n",
       "    <tr>\n",
       "      <th>EDUCACIÓN</th>\n",
       "      <td>0.203780</td>\n",
       "    </tr>\n",
       "    <tr>\n",
       "      <th>NEGOCIOS, ADMINISTRACIÓN Y DERECHO</th>\n",
       "      <td>0.126535</td>\n",
       "    </tr>\n",
       "    <tr>\n",
       "      <th>INGENIERÍA, INDUSTRIA Y CONSTRUCCIÓN</th>\n",
       "      <td>0.120613</td>\n",
       "    </tr>\n",
       "    <tr>\n",
       "      <th>SALUD Y SERVICIOS SOCIALES</th>\n",
       "      <td>0.109205</td>\n",
       "    </tr>\n",
       "    <tr>\n",
       "      <th>CIENCIAS</th>\n",
       "      <td>0.102238</td>\n",
       "    </tr>\n",
       "    <tr>\n",
       "      <th>CIENCIAS SOCIALES, PERIODISMO Y DOCUMENTACIÓN</th>\n",
       "      <td>0.099538</td>\n",
       "    </tr>\n",
       "    <tr>\n",
       "      <th>ARTES Y HUMANIDADES</th>\n",
       "      <td>0.094836</td>\n",
       "    </tr>\n",
       "    <tr>\n",
       "      <th>SERVICIOS</th>\n",
       "      <td>0.083515</td>\n",
       "    </tr>\n",
       "    <tr>\n",
       "      <th>INFORMÁTICA</th>\n",
       "      <td>0.033267</td>\n",
       "    </tr>\n",
       "    <tr>\n",
       "      <th>AGRICULTURA, GANADERÍA, SILVICULTURA, PESCA Y VETERINARIA</th>\n",
       "      <td>0.026474</td>\n",
       "    </tr>\n",
       "  </tbody>\n",
       "</table>\n",
       "</div>"
      ],
      "text/plain": [
       "                                                           ambito_m1_\n",
       "EDUCACIÓN                                                    0.203780\n",
       "NEGOCIOS, ADMINISTRACIÓN Y DERECHO                           0.126535\n",
       "INGENIERÍA, INDUSTRIA Y CONSTRUCCIÓN                         0.120613\n",
       "SALUD Y SERVICIOS SOCIALES                                   0.109205\n",
       "CIENCIAS                                                     0.102238\n",
       "CIENCIAS SOCIALES, PERIODISMO Y DOCUMENTACIÓN                0.099538\n",
       "ARTES Y HUMANIDADES                                          0.094836\n",
       "SERVICIOS                                                    0.083515\n",
       "INFORMÁTICA                                                  0.033267\n",
       "AGRICULTURA, GANADERÍA, SILVICULTURA, PESCA Y VETERINARIA    0.026474"
      ]
     },
     "execution_count": 87,
     "metadata": {},
     "output_type": "execute_result"
    }
   ],
   "source": [
    "proporciones('ambito_m1_')"
   ]
  },
  {
   "cell_type": "markdown",
   "metadata": {},
   "source": [
    "## 'T_UNIV'\n",
    "**Tipo de universidad**."
   ]
  },
  {
   "cell_type": "code",
   "execution_count": 88,
   "metadata": {},
   "outputs": [
    {
     "data": {
      "text/plain": [
       "array([3, 4, 1, 2])"
      ]
     },
     "execution_count": 88,
     "metadata": {},
     "output_type": "execute_result"
    }
   ],
   "source": [
    "df['T_UNIV'].unique() # Sin valores no informados"
   ]
  },
  {
   "cell_type": "code",
   "execution_count": 89,
   "metadata": {},
   "outputs": [
    {
     "name": "stdout",
     "output_type": "stream",
     "text": [
      "                              aux_traduce\n",
      "                                   unique\n",
      "T_UNIV                                   \n",
      "1        [Universidad Pública presencial]\n",
      "2       [Universidad Pública a distancia]\n",
      "3        [Universidad Privada presencial]\n",
      "4       [Universidad Privada a distancia]\n"
     ]
    }
   ],
   "source": [
    "traduce('T_UNIV')"
   ]
  },
  {
   "cell_type": "markdown",
   "metadata": {},
   "source": [
    "## Nueva variable: 'tipo_centro'\n",
    "**Tipo de centro educativo**: 1=Centros públicos, 0=Centros privados  \n",
    "\n",
    "Variable proxi (en otros datasets las preguntas sobre tipo de centro están referidas a niveles educativos diferentes)."
   ]
  },
  {
   "cell_type": "code",
   "execution_count": 90,
   "metadata": {},
   "outputs": [
    {
     "data": {
      "text/html": [
       "<div>\n",
       "<style scoped>\n",
       "    .dataframe tbody tr th:only-of-type {\n",
       "        vertical-align: middle;\n",
       "    }\n",
       "\n",
       "    .dataframe tbody tr th {\n",
       "        vertical-align: top;\n",
       "    }\n",
       "\n",
       "    .dataframe thead tr th {\n",
       "        text-align: left;\n",
       "    }\n",
       "\n",
       "    .dataframe thead tr:last-of-type th {\n",
       "        text-align: right;\n",
       "    }\n",
       "</style>\n",
       "<table border=\"1\" class=\"dataframe\">\n",
       "  <thead>\n",
       "    <tr>\n",
       "      <th></th>\n",
       "      <th>T_UNIV</th>\n",
       "    </tr>\n",
       "    <tr>\n",
       "      <th></th>\n",
       "      <th>unique</th>\n",
       "    </tr>\n",
       "    <tr>\n",
       "      <th>tipo_centro</th>\n",
       "      <th></th>\n",
       "    </tr>\n",
       "  </thead>\n",
       "  <tbody>\n",
       "    <tr>\n",
       "      <th>0</th>\n",
       "      <td>[3, 4]</td>\n",
       "    </tr>\n",
       "    <tr>\n",
       "      <th>1</th>\n",
       "      <td>[1, 2]</td>\n",
       "    </tr>\n",
       "  </tbody>\n",
       "</table>\n",
       "</div>"
      ],
      "text/plain": [
       "             T_UNIV\n",
       "             unique\n",
       "tipo_centro        \n",
       "0            [3, 4]\n",
       "1            [1, 2]"
      ]
     },
     "execution_count": 90,
     "metadata": {},
     "output_type": "execute_result"
    }
   ],
   "source": [
    "df['tipo_centro']=0\n",
    "df['tipo_centro'].mask((df['T_UNIV']==1)|(df['T_UNIV']==2),1,inplace=True)\n",
    "df[['T_UNIV','tipo_centro']].groupby('tipo_centro').agg(['unique']) # Comprobación: "
   ]
  },
  {
   "cell_type": "code",
   "execution_count": 91,
   "metadata": {},
   "outputs": [
    {
     "name": "stdout",
     "output_type": "stream",
     "text": [
      "            aux_traduce\n",
      "                 unique\n",
      "tipo_centro            \n",
      "0             [Privado]\n",
      "1             [Público]\n"
     ]
    }
   ],
   "source": [
    "traduce('tipo_centro')"
   ]
  },
  {
   "cell_type": "markdown",
   "metadata": {},
   "source": [
    "## Nueva variable: 'tipo_docencia'\n",
    "**Formación presencial o a distancia**: 1=Formación a distancia, 0=Formación presencial  "
   ]
  },
  {
   "cell_type": "code",
   "execution_count": 92,
   "metadata": {},
   "outputs": [
    {
     "data": {
      "text/html": [
       "<div>\n",
       "<style scoped>\n",
       "    .dataframe tbody tr th:only-of-type {\n",
       "        vertical-align: middle;\n",
       "    }\n",
       "\n",
       "    .dataframe tbody tr th {\n",
       "        vertical-align: top;\n",
       "    }\n",
       "\n",
       "    .dataframe thead tr th {\n",
       "        text-align: left;\n",
       "    }\n",
       "\n",
       "    .dataframe thead tr:last-of-type th {\n",
       "        text-align: right;\n",
       "    }\n",
       "</style>\n",
       "<table border=\"1\" class=\"dataframe\">\n",
       "  <thead>\n",
       "    <tr>\n",
       "      <th></th>\n",
       "      <th>T_UNIV</th>\n",
       "    </tr>\n",
       "    <tr>\n",
       "      <th></th>\n",
       "      <th>unique</th>\n",
       "    </tr>\n",
       "    <tr>\n",
       "      <th>tipo_docencia</th>\n",
       "      <th></th>\n",
       "    </tr>\n",
       "  </thead>\n",
       "  <tbody>\n",
       "    <tr>\n",
       "      <th>0</th>\n",
       "      <td>[3, 1]</td>\n",
       "    </tr>\n",
       "    <tr>\n",
       "      <th>1</th>\n",
       "      <td>[4, 2]</td>\n",
       "    </tr>\n",
       "  </tbody>\n",
       "</table>\n",
       "</div>"
      ],
      "text/plain": [
       "               T_UNIV\n",
       "               unique\n",
       "tipo_docencia        \n",
       "0              [3, 1]\n",
       "1              [4, 2]"
      ]
     },
     "execution_count": 92,
     "metadata": {},
     "output_type": "execute_result"
    }
   ],
   "source": [
    "df['tipo_docencia']=0\n",
    "df['tipo_docencia'].mask((df['T_UNIV']==2)|(df['T_UNIV']==4),1,inplace=True)\n",
    "df[['T_UNIV','tipo_docencia']].groupby('tipo_docencia').agg(['unique']) # Comprobación: "
   ]
  },
  {
   "cell_type": "code",
   "execution_count": 93,
   "metadata": {},
   "outputs": [
    {
     "name": "stdout",
     "output_type": "stream",
     "text": [
      "                           aux_traduce\n",
      "                                unique\n",
      "tipo_docencia                         \n",
      "0               [Formación presencial]\n",
      "1              [Formación a distancia]\n"
     ]
    }
   ],
   "source": [
    "traduce('tipo_docencia')"
   ]
  },
  {
   "cell_type": "markdown",
   "metadata": {},
   "source": [
    "## 'DISCA' (redefinida como 'discapacidad')\n",
    "Tiene **discapacidad reconocida** superior al 33 %.  \n",
    "Nota: Se modifica en 'disca' el valor No: 0=No. "
   ]
  },
  {
   "cell_type": "code",
   "execution_count": 94,
   "metadata": {},
   "outputs": [
    {
     "data": {
      "text/plain": [
       "array([2, 1])"
      ]
     },
     "execution_count": 94,
     "metadata": {},
     "output_type": "execute_result"
    }
   ],
   "source": [
    "df['DISCA'].unique() # Sin valores no informados"
   ]
  },
  {
   "cell_type": "code",
   "execution_count": 95,
   "metadata": {},
   "outputs": [
    {
     "name": "stdout",
     "output_type": "stream",
     "text": [
      "      aux_traduce\n",
      "           unique\n",
      "DISCA            \n",
      "1            [Sí]\n",
      "2            [No]\n"
     ]
    }
   ],
   "source": [
    "traduce('DISCA')"
   ]
  },
  {
   "cell_type": "code",
   "execution_count": 96,
   "metadata": {},
   "outputs": [
    {
     "name": "stdout",
     "output_type": "stream",
     "text": [
      "             aux_traduce\n",
      "                  unique\n",
      "discapacidad            \n",
      "0                   [No]\n",
      "1                   [Sí]\n"
     ]
    }
   ],
   "source": [
    "redefine('DISCA',nuevo='discapacidad',si_no=True)"
   ]
  },
  {
   "cell_type": "markdown",
   "metadata": {},
   "source": [
    "## 'PROXY'\n",
    "**Tipo de entrevista**."
   ]
  },
  {
   "cell_type": "code",
   "execution_count": 97,
   "metadata": {},
   "outputs": [
    {
     "data": {
      "text/plain": [
       "array([1, 2])"
      ]
     },
     "execution_count": 97,
     "metadata": {},
     "output_type": "execute_result"
    }
   ],
   "source": [
    "df['PROXY'].unique() # Sin valores no informados"
   ]
  },
  {
   "cell_type": "code",
   "execution_count": 98,
   "metadata": {},
   "outputs": [
    {
     "name": "stdout",
     "output_type": "stream",
     "text": [
      "                                            aux_traduce\n",
      "                                                 unique\n",
      "PROXY                                                  \n",
      "1      [Entrevista directa con la persona seleccionada]\n",
      "2                                    [Entrevista proxy]\n"
     ]
    }
   ],
   "source": [
    "traduce('PROXY',save=False) "
   ]
  },
  {
   "cell_type": "markdown",
   "metadata": {},
   "source": [
    "## 'LUG_RES_PAIS' (redefinida como 'reside')\n",
    "**País de residencia actual**."
   ]
  },
  {
   "cell_type": "code",
   "execution_count": 99,
   "metadata": {},
   "outputs": [
    {
     "data": {
      "text/plain": [
       "array([ 1,  2,  3,  4,  5,  6,  7,  8,  9, 10, 11])"
      ]
     },
     "execution_count": 99,
     "metadata": {},
     "output_type": "execute_result"
    }
   ],
   "source": [
    "df['LUG_RES_PAIS'].sort_values().unique() # Sin valores no informados"
   ]
  },
  {
   "cell_type": "code",
   "execution_count": 100,
   "metadata": {},
   "outputs": [
    {
     "name": "stdout",
     "output_type": "stream",
     "text": [
      "                                                 aux_traduce\n",
      "                                                      unique\n",
      "LUG_RES_PAIS                                                \n",
      "1                                                   [España]\n",
      "2                                              [Reino Unido]\n",
      "3                                                 [Alemania]\n",
      "4                                                  [Francia]\n",
      "5                            [Otro país de la Unión Europea]\n",
      "6                       [Otro país europeo (fuera de la UE)]\n",
      "7                             [Un país de América del Norte]\n",
      "8             [Un país de América Central o América del Sur]\n",
      "9                                          [Un país de Asia]\n",
      "10                                       [Un país de África]\n",
      "11                                      [Un país de Oceanía]\n"
     ]
    }
   ],
   "source": [
    "traduce('LUG_RES_PAIS')"
   ]
  },
  {
   "cell_type": "code",
   "execution_count": 101,
   "metadata": {},
   "outputs": [],
   "source": [
    "redefine('LUG_RES_PAIS','reside')"
   ]
  },
  {
   "cell_type": "markdown",
   "metadata": {},
   "source": [
    "## 'PAIS_NAC_PADRE'\n",
    "**País de nacimiento del padre**."
   ]
  },
  {
   "cell_type": "code",
   "execution_count": 102,
   "metadata": {},
   "outputs": [
    {
     "data": {
      "text/plain": [
       "array([1, 2, 3, 9])"
      ]
     },
     "execution_count": 102,
     "metadata": {},
     "output_type": "execute_result"
    }
   ],
   "source": [
    "df['PAIS_NAC_PADRE'].unique() # No informados como 9"
   ]
  },
  {
   "cell_type": "code",
   "execution_count": 103,
   "metadata": {},
   "outputs": [
    {
     "name": "stdout",
     "output_type": "stream",
     "text": [
      "                               aux_traduce\n",
      "                                    unique\n",
      "PAIS_NAC_PADRE                            \n",
      "1                                 [España]\n",
      "2                     [Otro país de la UE]\n",
      "3               [Otro país fuera de la UE]\n",
      "9                                  [NS/NC]\n"
     ]
    }
   ],
   "source": [
    "traduce('PAIS_NAC_PADRE')"
   ]
  },
  {
   "cell_type": "code",
   "execution_count": 104,
   "metadata": {},
   "outputs": [
    {
     "name": "stdout",
     "output_type": "stream",
     "text": [
      "[ 1.  2.  3. nan]\n"
     ]
    }
   ],
   "source": [
    "# Se imputa None a NS/NC:\n",
    "no_respuesta('PAIS_NAC_PADRE',tipo='int')"
   ]
  },
  {
   "cell_type": "code",
   "execution_count": 105,
   "metadata": {},
   "outputs": [],
   "source": [
    "redefine('PAIS_NAC_PADRE','origen_pa')"
   ]
  },
  {
   "cell_type": "markdown",
   "metadata": {},
   "source": [
    "## 'ESTUDIOS_PADRE'  (redefinida como 'estudios_pa')\n",
    "**Nivel de formación máximo alcanzado por el padre**."
   ]
  },
  {
   "cell_type": "code",
   "execution_count": 106,
   "metadata": {},
   "outputs": [
    {
     "data": {
      "text/plain": [
       "array([8, 7, 2, 4, 9, 6, 3, 5, 1])"
      ]
     },
     "execution_count": 106,
     "metadata": {},
     "output_type": "execute_result"
    }
   ],
   "source": [
    "df['ESTUDIOS_PADRE'].unique() # No informados como 9"
   ]
  },
  {
   "cell_type": "code",
   "execution_count": 107,
   "metadata": {},
   "outputs": [
    {
     "name": "stdout",
     "output_type": "stream",
     "text": [
      "                                                                                                 aux_traduce\n",
      "                                                                                                      unique\n",
      "ESTUDIOS_PADRE                                                                                              \n",
      "1                                                                                  [No sabe leer o escribir]\n",
      "2                                 [Educación primaria incompleta (ha asistido menos de 5 años a la escuela)]\n",
      "3                                                                              [Educación primaria completa]\n",
      "4               [Primera etapa de Enseñanza Secundaria, con o sin título (ESO, EGB, Bachillerato Elemental)]\n",
      "5                                            [Estudios de Bachillerato (Bachillerato LOGSE, BUP, COU, Preu)]\n",
      "6                                                   [Enseñanzas profesionales de grado medio o equivalentes]\n",
      "7                                                [Enseñanzas profesionales de grado superior o equivalentes]\n",
      "8                            [Estudios universitarios (Diplomatura, Licenciatura, Doctorado) o equivalentes]\n",
      "9                                                                                                    [NS/NC]\n"
     ]
    }
   ],
   "source": [
    "traduce('ESTUDIOS_PADRE')"
   ]
  },
  {
   "cell_type": "code",
   "execution_count": 108,
   "metadata": {},
   "outputs": [
    {
     "name": "stdout",
     "output_type": "stream",
     "text": [
      "[ 1.  2.  3.  4.  5.  6.  7.  8. nan]\n"
     ]
    }
   ],
   "source": [
    "# Se imputa None a NS/NC (9):\n",
    "no_respuesta('ESTUDIOS_PADRE',tipo='int')"
   ]
  },
  {
   "cell_type": "code",
   "execution_count": 109,
   "metadata": {},
   "outputs": [],
   "source": [
    "redefine('ESTUDIOS_PADRE','estudios_pa')"
   ]
  },
  {
   "cell_type": "markdown",
   "metadata": {},
   "source": [
    "## Nueva variable: 'grado_med_pa'\n",
    "**Padre** con o sin **estudios de enseñanzas medias o superiores**, incluidos los universitarios: 1=Con estudios de enseñanzas medias o superiores, 0=Sin estudios de enseñanzas medias o superiores.  "
   ]
  },
  {
   "cell_type": "code",
   "execution_count": 110,
   "metadata": {},
   "outputs": [
    {
     "data": {
      "text/html": [
       "<div>\n",
       "<style scoped>\n",
       "    .dataframe tbody tr th:only-of-type {\n",
       "        vertical-align: middle;\n",
       "    }\n",
       "\n",
       "    .dataframe tbody tr th {\n",
       "        vertical-align: top;\n",
       "    }\n",
       "\n",
       "    .dataframe thead tr th {\n",
       "        text-align: left;\n",
       "    }\n",
       "\n",
       "    .dataframe thead tr:last-of-type th {\n",
       "        text-align: right;\n",
       "    }\n",
       "</style>\n",
       "<table border=\"1\" class=\"dataframe\">\n",
       "  <thead>\n",
       "    <tr>\n",
       "      <th></th>\n",
       "      <th>ESTUDIOS_PADRE</th>\n",
       "    </tr>\n",
       "    <tr>\n",
       "      <th></th>\n",
       "      <th>unique</th>\n",
       "    </tr>\n",
       "    <tr>\n",
       "      <th>grad_med_pa</th>\n",
       "      <th></th>\n",
       "    </tr>\n",
       "  </thead>\n",
       "  <tbody>\n",
       "    <tr>\n",
       "      <th>0</th>\n",
       "      <td>[2.0, 4.0, nan, 3.0, 1.0]</td>\n",
       "    </tr>\n",
       "    <tr>\n",
       "      <th>1</th>\n",
       "      <td>[8.0, 7.0, 6.0, 5.0]</td>\n",
       "    </tr>\n",
       "  </tbody>\n",
       "</table>\n",
       "</div>"
      ],
      "text/plain": [
       "                        ESTUDIOS_PADRE\n",
       "                                unique\n",
       "grad_med_pa                           \n",
       "0            [2.0, 4.0, nan, 3.0, 1.0]\n",
       "1                 [8.0, 7.0, 6.0, 5.0]"
      ]
     },
     "execution_count": 110,
     "metadata": {},
     "output_type": "execute_result"
    }
   ],
   "source": [
    "df['grad_med_pa']=0\n",
    "df['grad_med_pa'].mask(df['ESTUDIOS_PADRE']>=5,1,inplace=True)\n",
    "df[['ESTUDIOS_PADRE','grad_med_pa']].groupby('grad_med_pa').agg(['unique']) # Comprobación: "
   ]
  },
  {
   "cell_type": "code",
   "execution_count": 111,
   "metadata": {},
   "outputs": [
    {
     "name": "stdout",
     "output_type": "stream",
     "text": [
      "                                                  aux_traduce\n",
      "                                                       unique\n",
      "grad_med_pa                                                  \n",
      "0            [Sin estudios de enseñanzas medias o superiores]\n",
      "1            [Con estudios de enseñanzas medias o superiores]\n"
     ]
    }
   ],
   "source": [
    "traduce('grad_med_pa')"
   ]
  },
  {
   "cell_type": "markdown",
   "metadata": {},
   "source": [
    "## Nueva variable: 'univ_pa'\n",
    "**Padre** con o sin **estudios universitarios**: 1=Con estudios universitarios, 0=Sin estudios universitarios "
   ]
  },
  {
   "cell_type": "code",
   "execution_count": 112,
   "metadata": {},
   "outputs": [
    {
     "data": {
      "text/html": [
       "<div>\n",
       "<style scoped>\n",
       "    .dataframe tbody tr th:only-of-type {\n",
       "        vertical-align: middle;\n",
       "    }\n",
       "\n",
       "    .dataframe tbody tr th {\n",
       "        vertical-align: top;\n",
       "    }\n",
       "\n",
       "    .dataframe thead tr th {\n",
       "        text-align: left;\n",
       "    }\n",
       "\n",
       "    .dataframe thead tr:last-of-type th {\n",
       "        text-align: right;\n",
       "    }\n",
       "</style>\n",
       "<table border=\"1\" class=\"dataframe\">\n",
       "  <thead>\n",
       "    <tr>\n",
       "      <th></th>\n",
       "      <th>ESTUDIOS_PADRE</th>\n",
       "    </tr>\n",
       "    <tr>\n",
       "      <th></th>\n",
       "      <th>unique</th>\n",
       "    </tr>\n",
       "    <tr>\n",
       "      <th>univ_pa</th>\n",
       "      <th></th>\n",
       "    </tr>\n",
       "  </thead>\n",
       "  <tbody>\n",
       "    <tr>\n",
       "      <th>0</th>\n",
       "      <td>[7.0, 2.0, 4.0, nan, 6.0, 3.0, 5.0, 1.0]</td>\n",
       "    </tr>\n",
       "    <tr>\n",
       "      <th>1</th>\n",
       "      <td>[8.0]</td>\n",
       "    </tr>\n",
       "  </tbody>\n",
       "</table>\n",
       "</div>"
      ],
      "text/plain": [
       "                                   ESTUDIOS_PADRE\n",
       "                                           unique\n",
       "univ_pa                                          \n",
       "0        [7.0, 2.0, 4.0, nan, 6.0, 3.0, 5.0, 1.0]\n",
       "1                                           [8.0]"
      ]
     },
     "execution_count": 112,
     "metadata": {},
     "output_type": "execute_result"
    }
   ],
   "source": [
    "df['univ_pa']=0\n",
    "df['univ_pa'].mask(df['ESTUDIOS_PADRE']==8,1,inplace=True)\n",
    "df[['ESTUDIOS_PADRE','univ_pa']].groupby('univ_pa').agg(['unique']) # Comprobación: "
   ]
  },
  {
   "cell_type": "code",
   "execution_count": 113,
   "metadata": {},
   "outputs": [
    {
     "name": "stdout",
     "output_type": "stream",
     "text": [
      "                           aux_traduce\n",
      "                                unique\n",
      "univ_pa                               \n",
      "0        [Sin estudios universitarios]\n",
      "1        [Con estudios universitarios]\n"
     ]
    }
   ],
   "source": [
    "traduce('univ_pa')"
   ]
  },
  {
   "cell_type": "markdown",
   "metadata": {},
   "source": [
    "## 'PAIS_NAC_MADRE'\n",
    "**País de nacimiento de la madre**."
   ]
  },
  {
   "cell_type": "code",
   "execution_count": 114,
   "metadata": {},
   "outputs": [
    {
     "data": {
      "text/plain": [
       "array([1, 9, 3, 2])"
      ]
     },
     "execution_count": 114,
     "metadata": {},
     "output_type": "execute_result"
    }
   ],
   "source": [
    "df['PAIS_NAC_MADRE'].unique() # No informados como 9"
   ]
  },
  {
   "cell_type": "code",
   "execution_count": 115,
   "metadata": {},
   "outputs": [
    {
     "name": "stdout",
     "output_type": "stream",
     "text": [
      "                               aux_traduce\n",
      "                                    unique\n",
      "PAIS_NAC_MADRE                            \n",
      "1                                 [España]\n",
      "2                     [Otro país de la UE]\n",
      "3               [Otro país fuera de la UE]\n",
      "9                                  [NS/NC]\n"
     ]
    }
   ],
   "source": [
    "traduce('PAIS_NAC_MADRE')"
   ]
  },
  {
   "cell_type": "code",
   "execution_count": 116,
   "metadata": {},
   "outputs": [
    {
     "name": "stdout",
     "output_type": "stream",
     "text": [
      "[ 1.  2.  3. nan]\n"
     ]
    }
   ],
   "source": [
    "# Se imputa None a NS/NC (9):\n",
    "no_respuesta('PAIS_NAC_MADRE',tipo='int')"
   ]
  },
  {
   "cell_type": "code",
   "execution_count": 117,
   "metadata": {},
   "outputs": [],
   "source": [
    "redefine('PAIS_NAC_MADRE','origen_ma')"
   ]
  },
  {
   "cell_type": "markdown",
   "metadata": {},
   "source": [
    "## 'ESTUDIOS_MADRE' (redefinida como 'estudios_ma')\n",
    "**Nivel de formación máximo alcanzado por la madre**."
   ]
  },
  {
   "cell_type": "code",
   "execution_count": 118,
   "metadata": {},
   "outputs": [
    {
     "data": {
      "text/plain": [
       "array([8, 7, 6, 4, 5, 2, 3, 9, 1])"
      ]
     },
     "execution_count": 118,
     "metadata": {},
     "output_type": "execute_result"
    }
   ],
   "source": [
    "df['ESTUDIOS_MADRE'].unique() # Missing values as 9"
   ]
  },
  {
   "cell_type": "code",
   "execution_count": 119,
   "metadata": {},
   "outputs": [
    {
     "name": "stdout",
     "output_type": "stream",
     "text": [
      "                                                                                                 aux_traduce\n",
      "                                                                                                      unique\n",
      "ESTUDIOS_MADRE                                                                                              \n",
      "1                                                                                  [No sabe leer o escribir]\n",
      "2                                 [Educación primaria incompleta (ha asistido menos de 5 años a la escuela)]\n",
      "3                                                                              [Educación primaria completa]\n",
      "4               [Primera etapa de Enseñanza Secundaria, con o sin título (ESO, EGB, Bachillerato Elemental)]\n",
      "5                                            [Estudios de Bachillerato (Bachillerato LOGSE, BUP, COU, Preu)]\n",
      "6                                                   [Enseñanzas profesionales de grado medio o equivalentes]\n",
      "7                                                [Enseñanzas profesionales de grado superior o equivalentes]\n",
      "8                            [Estudios universitarios (Diplomatura, Licenciatura, Doctorado) o equivalentes]\n",
      "9                                                                                                    [NS/NC]\n"
     ]
    }
   ],
   "source": [
    "traduce('ESTUDIOS_MADRE')"
   ]
  },
  {
   "cell_type": "code",
   "execution_count": 120,
   "metadata": {},
   "outputs": [
    {
     "name": "stdout",
     "output_type": "stream",
     "text": [
      "[ 1.  2.  3.  4.  5.  6.  7.  8. nan]\n"
     ]
    }
   ],
   "source": [
    "# Se imputa None a NS/NC (9):\n",
    "no_respuesta('ESTUDIOS_MADRE',tipo='int')"
   ]
  },
  {
   "cell_type": "code",
   "execution_count": 121,
   "metadata": {},
   "outputs": [],
   "source": [
    "redefine('ESTUDIOS_MADRE','estudios_ma')"
   ]
  },
  {
   "cell_type": "markdown",
   "metadata": {},
   "source": [
    "## Nueva variable: 'grado_med_ma'\n",
    "**Madre** con o sin **estudios de enseñanzas medias o superiores**, incluidos los universitarios: 1=Con estudios de enseñanzas medias o superiores, 0=Sin estudios de enseñanzas medias o superiores.  "
   ]
  },
  {
   "cell_type": "code",
   "execution_count": 122,
   "metadata": {},
   "outputs": [
    {
     "data": {
      "text/html": [
       "<div>\n",
       "<style scoped>\n",
       "    .dataframe tbody tr th:only-of-type {\n",
       "        vertical-align: middle;\n",
       "    }\n",
       "\n",
       "    .dataframe tbody tr th {\n",
       "        vertical-align: top;\n",
       "    }\n",
       "\n",
       "    .dataframe thead tr th {\n",
       "        text-align: left;\n",
       "    }\n",
       "\n",
       "    .dataframe thead tr:last-of-type th {\n",
       "        text-align: right;\n",
       "    }\n",
       "</style>\n",
       "<table border=\"1\" class=\"dataframe\">\n",
       "  <thead>\n",
       "    <tr>\n",
       "      <th></th>\n",
       "      <th>ESTUDIOS_MADRE</th>\n",
       "    </tr>\n",
       "    <tr>\n",
       "      <th></th>\n",
       "      <th>unique</th>\n",
       "    </tr>\n",
       "    <tr>\n",
       "      <th>grad_med_ma</th>\n",
       "      <th></th>\n",
       "    </tr>\n",
       "  </thead>\n",
       "  <tbody>\n",
       "    <tr>\n",
       "      <th>0</th>\n",
       "      <td>[4.0, 2.0, 3.0, nan, 1.0]</td>\n",
       "    </tr>\n",
       "    <tr>\n",
       "      <th>1</th>\n",
       "      <td>[8.0, 7.0, 6.0, 5.0]</td>\n",
       "    </tr>\n",
       "  </tbody>\n",
       "</table>\n",
       "</div>"
      ],
      "text/plain": [
       "                        ESTUDIOS_MADRE\n",
       "                                unique\n",
       "grad_med_ma                           \n",
       "0            [4.0, 2.0, 3.0, nan, 1.0]\n",
       "1                 [8.0, 7.0, 6.0, 5.0]"
      ]
     },
     "execution_count": 122,
     "metadata": {},
     "output_type": "execute_result"
    }
   ],
   "source": [
    "df['grad_med_ma']=0\n",
    "df['grad_med_ma'].mask(df['ESTUDIOS_MADRE']>=5,1,inplace=True)\n",
    "df[['ESTUDIOS_MADRE','grad_med_ma']].groupby('grad_med_ma').agg(['unique']) # Comprobación: "
   ]
  },
  {
   "cell_type": "code",
   "execution_count": 123,
   "metadata": {},
   "outputs": [
    {
     "name": "stdout",
     "output_type": "stream",
     "text": [
      "                                                  aux_traduce\n",
      "                                                       unique\n",
      "grad_med_ma                                                  \n",
      "0            [Sin estudios de enseñanzas medias o superiores]\n",
      "1            [Con estudios de enseñanzas medias o superiores]\n"
     ]
    }
   ],
   "source": [
    "traduce('grad_med_ma')"
   ]
  },
  {
   "cell_type": "markdown",
   "metadata": {},
   "source": [
    "## Nueva variable: 'univ_ma'\n",
    "**Madre** con o sin **estudios universitarios**: 1=Con estudios universitarios, 0=Sin estudios universitarios "
   ]
  },
  {
   "cell_type": "code",
   "execution_count": 124,
   "metadata": {},
   "outputs": [
    {
     "data": {
      "text/html": [
       "<div>\n",
       "<style scoped>\n",
       "    .dataframe tbody tr th:only-of-type {\n",
       "        vertical-align: middle;\n",
       "    }\n",
       "\n",
       "    .dataframe tbody tr th {\n",
       "        vertical-align: top;\n",
       "    }\n",
       "\n",
       "    .dataframe thead tr th {\n",
       "        text-align: left;\n",
       "    }\n",
       "\n",
       "    .dataframe thead tr:last-of-type th {\n",
       "        text-align: right;\n",
       "    }\n",
       "</style>\n",
       "<table border=\"1\" class=\"dataframe\">\n",
       "  <thead>\n",
       "    <tr>\n",
       "      <th></th>\n",
       "      <th>ESTUDIOS_MADRE</th>\n",
       "    </tr>\n",
       "    <tr>\n",
       "      <th></th>\n",
       "      <th>unique</th>\n",
       "    </tr>\n",
       "    <tr>\n",
       "      <th>univ_ma</th>\n",
       "      <th></th>\n",
       "    </tr>\n",
       "  </thead>\n",
       "  <tbody>\n",
       "    <tr>\n",
       "      <th>0</th>\n",
       "      <td>[7.0, 6.0, 4.0, 5.0, 2.0, 3.0, nan, 1.0]</td>\n",
       "    </tr>\n",
       "    <tr>\n",
       "      <th>1</th>\n",
       "      <td>[8.0]</td>\n",
       "    </tr>\n",
       "  </tbody>\n",
       "</table>\n",
       "</div>"
      ],
      "text/plain": [
       "                                   ESTUDIOS_MADRE\n",
       "                                           unique\n",
       "univ_ma                                          \n",
       "0        [7.0, 6.0, 4.0, 5.0, 2.0, 3.0, nan, 1.0]\n",
       "1                                           [8.0]"
      ]
     },
     "execution_count": 124,
     "metadata": {},
     "output_type": "execute_result"
    }
   ],
   "source": [
    "df['univ_ma']=0\n",
    "df['univ_ma'].mask(df['ESTUDIOS_MADRE']==8,1,inplace=True)\n",
    "df[['ESTUDIOS_MADRE','univ_ma']].groupby('univ_ma').agg(['unique']) # Comprobación: "
   ]
  },
  {
   "cell_type": "code",
   "execution_count": 125,
   "metadata": {},
   "outputs": [
    {
     "name": "stdout",
     "output_type": "stream",
     "text": [
      "                           aux_traduce\n",
      "                                unique\n",
      "univ_ma                               \n",
      "0        [Sin estudios universitarios]\n",
      "1        [Con estudios universitarios]\n"
     ]
    }
   ],
   "source": [
    "traduce('univ_ma')"
   ]
  },
  {
   "cell_type": "markdown",
   "metadata": {},
   "source": [
    "# BLOQUE B. EDUCACIÓN Y APRENDIZAJE DEL TITULADO DE MÁSTER"
   ]
  },
  {
   "cell_type": "markdown",
   "metadata": {},
   "source": [
    "## 'EST_B1' (redefinida como 'beca')\n",
    "¿Disfrutó de **alguna beca** durante sus estudios?: 1=Sí, 2=No, 9=NS/NC.  \n",
    "\n",
    "Nota: se modifica en 'beca' el valor asociado a No: 0=No"
   ]
  },
  {
   "cell_type": "code",
   "execution_count": 126,
   "metadata": {},
   "outputs": [
    {
     "data": {
      "text/plain": [
       "array([2, 1, 9])"
      ]
     },
     "execution_count": 126,
     "metadata": {},
     "output_type": "execute_result"
    }
   ],
   "source": [
    "df['EST_B1'].unique() # No informados como 9"
   ]
  },
  {
   "cell_type": "code",
   "execution_count": 127,
   "metadata": {},
   "outputs": [
    {
     "name": "stdout",
     "output_type": "stream",
     "text": [
      "       aux_traduce\n",
      "            unique\n",
      "EST_B1            \n",
      "1             [Sí]\n",
      "2             [No]\n",
      "9          [NS/NC]\n"
     ]
    }
   ],
   "source": [
    "traduce('EST_B1')"
   ]
  },
  {
   "cell_type": "code",
   "execution_count": 128,
   "metadata": {},
   "outputs": [
    {
     "name": "stdout",
     "output_type": "stream",
     "text": [
      "[ 1.  2. nan]\n"
     ]
    }
   ],
   "source": [
    "# Se imputa None a NS/NC:\n",
    "no_respuesta('EST_B1',tipo='int')"
   ]
  },
  {
   "cell_type": "code",
   "execution_count": 129,
   "metadata": {},
   "outputs": [
    {
     "name": "stdout",
     "output_type": "stream",
     "text": [
      "     aux_traduce\n",
      "          unique\n",
      "beca            \n",
      "0.0         [No]\n",
      "1.0         [Sí]\n"
     ]
    }
   ],
   "source": [
    "redefine('EST_B1','beca',si_no=True)"
   ]
  },
  {
   "cell_type": "markdown",
   "metadata": {},
   "source": [
    "## 'EST_B2_1' (redefinida como 'beca_general')\n",
    "(Solo para respuesta Sí (1) en variable 'EST_B1' (beca))  \n",
    "\n",
    "¿Disfrutó de una **beca general para el estudio**?: 1=Sí, 2=No, 9=NS/NC.\n",
    "\n",
    "Nota: se modifica en 'beca_general' el valor asociado a No: 0=No"
   ]
  },
  {
   "cell_type": "code",
   "execution_count": 130,
   "metadata": {},
   "outputs": [
    {
     "data": {
      "text/plain": [
       "array([' ', '1', '2', '9'], dtype=object)"
      ]
     },
     "execution_count": 130,
     "metadata": {},
     "output_type": "execute_result"
    }
   ],
   "source": [
    "df['EST_B2_1'].unique() # No informados como ' ' o '9'"
   ]
  },
  {
   "cell_type": "code",
   "execution_count": 131,
   "metadata": {},
   "outputs": [
    {
     "name": "stdout",
     "output_type": "stream",
     "text": [
      "             aux_traduce\n",
      "                  unique\n",
      "EST_B2_1                \n",
      "          [No aplicable]\n",
      "1                   [Sí]\n",
      "2                   [No]\n",
      "9                [NS/NC]\n"
     ]
    }
   ],
   "source": [
    "traduce('EST_B2_1')"
   ]
  },
  {
   "cell_type": "code",
   "execution_count": 132,
   "metadata": {},
   "outputs": [],
   "source": [
    "def re_beca(col):\n",
    "    \"\"\"Inspeccion e imputación de valores de variables condicionadas por respuesta a 'EST_B1' cuando pueden \n",
    "    deducirse de los itinerarios de la encuesta.\n",
    "    \"\"\"\n",
    "    print (df[['EST_B1',col]].groupby('EST_B1').agg(['unique']))\n",
    "    # Se imputa respuesta No (2) a quienes manifestaron no haber disfrutado de beca (2 en 'EST_B1')\n",
    "    df[col].mask(df['EST_B1']==2,2,inplace=True)\n",
    "    # Se imputa None al resto de respuestas en blanco y a NS/NC:\n",
    "    try: df[col].replace({' ':None,'9':None,},inplace=True)\n",
    "    except:\n",
    "        df[col]=df[col].astype('O')\n",
    "        df[col].replace({' ':None,'9':None,},inplace=True) # Resuelve conflictos cuando se aplica más de una vez\n",
    "    try: df[col]=df[col].astype('int')\n",
    "    except: df[col]=df[col].astype('float')\n",
    "    traduce(col,check=False)\n",
    "    print (df[['EST_B1',col]].groupby('EST_B1').agg(['unique']))\n",
    "    return"
   ]
  },
  {
   "cell_type": "code",
   "execution_count": 133,
   "metadata": {},
   "outputs": [
    {
     "name": "stdout",
     "output_type": "stream",
     "text": [
      "         EST_B2_1\n",
      "           unique\n",
      "EST_B1           \n",
      "1.0     [1, 2, 9]\n",
      "2.0           [ ]\n",
      "               EST_B2_1\n",
      "                 unique\n",
      "EST_B1                 \n",
      "1.0     [1.0, 2.0, nan]\n",
      "2.0               [2.0]\n"
     ]
    }
   ],
   "source": [
    "re_beca('EST_B2_1')"
   ]
  },
  {
   "cell_type": "code",
   "execution_count": 134,
   "metadata": {},
   "outputs": [
    {
     "name": "stdout",
     "output_type": "stream",
     "text": [
      "             aux_traduce\n",
      "                  unique\n",
      "beca_general            \n",
      "0.0                 [No]\n",
      "1.0                 [Sí]\n"
     ]
    }
   ],
   "source": [
    "redefine('EST_B2_1','beca_general',si_no=True)"
   ]
  },
  {
   "cell_type": "markdown",
   "metadata": {},
   "source": [
    "## 'EST_B2_2' (redefinida como 'beca_excel')\n",
    "(Solo para respuesta Sí (1) en variable 'beca')  \n",
    "\n",
    "¿Disfrutó de algún **premio o beca de excelencia**?: 1=Sí, 2=No, 9=NS/NC.  \n",
    "\n",
    "Nota: se modifica en 'beca_excel' el valor asociado a No: 0=No."
   ]
  },
  {
   "cell_type": "code",
   "execution_count": 135,
   "metadata": {},
   "outputs": [
    {
     "data": {
      "text/plain": [
       "array([' ', '2', '1', '9'], dtype=object)"
      ]
     },
     "execution_count": 135,
     "metadata": {},
     "output_type": "execute_result"
    }
   ],
   "source": [
    "df['EST_B2_2'].unique() # No informados como ' ' o '9'"
   ]
  },
  {
   "cell_type": "code",
   "execution_count": 136,
   "metadata": {},
   "outputs": [
    {
     "name": "stdout",
     "output_type": "stream",
     "text": [
      "             aux_traduce\n",
      "                  unique\n",
      "EST_B2_2                \n",
      "          [No aplicable]\n",
      "1                   [Sí]\n",
      "2                   [No]\n",
      "9                [NS/NC]\n"
     ]
    }
   ],
   "source": [
    "traduce('EST_B2_2')"
   ]
  },
  {
   "cell_type": "code",
   "execution_count": 137,
   "metadata": {},
   "outputs": [
    {
     "name": "stdout",
     "output_type": "stream",
     "text": [
      "         EST_B2_2\n",
      "           unique\n",
      "EST_B1           \n",
      "1.0     [2, 1, 9]\n",
      "2.0           [ ]\n",
      "               EST_B2_2\n",
      "                 unique\n",
      "EST_B1                 \n",
      "1.0     [2.0, 1.0, nan]\n",
      "2.0               [2.0]\n"
     ]
    }
   ],
   "source": [
    "re_beca('EST_B2_2')"
   ]
  },
  {
   "cell_type": "code",
   "execution_count": 138,
   "metadata": {},
   "outputs": [
    {
     "name": "stdout",
     "output_type": "stream",
     "text": [
      "           aux_traduce\n",
      "                unique\n",
      "beca_excel            \n",
      "0.0               [No]\n",
      "1.0               [Sí]\n"
     ]
    }
   ],
   "source": [
    "redefine('EST_B2_2','beca_excel',si_no=True)"
   ]
  },
  {
   "cell_type": "markdown",
   "metadata": {},
   "source": [
    "## 'EST_B2_3' (redefinida como 'beca_colab')\n",
    "(Solo para respuesta Sí (1) en variable 'beca')  \n",
    "\n",
    "¿Disfrutó de alguna **beca de colaboración** en la universidad?: 1=Sí, 2=No, 9=NS/NC.  \n",
    "\n",
    "Nota: se modifica en 'beca_colab' el valor asociado a No: 0=No."
   ]
  },
  {
   "cell_type": "code",
   "execution_count": 139,
   "metadata": {},
   "outputs": [
    {
     "data": {
      "text/plain": [
       "array([' ', '2', '1', '9'], dtype=object)"
      ]
     },
     "execution_count": 139,
     "metadata": {},
     "output_type": "execute_result"
    }
   ],
   "source": [
    "df['EST_B2_3'].unique() # No informados como ' ' o '9'"
   ]
  },
  {
   "cell_type": "code",
   "execution_count": 140,
   "metadata": {},
   "outputs": [
    {
     "name": "stdout",
     "output_type": "stream",
     "text": [
      "             aux_traduce\n",
      "                  unique\n",
      "EST_B2_3                \n",
      "          [No aplicable]\n",
      "1                   [Sí]\n",
      "2                   [No]\n",
      "9                [NS/NC]\n"
     ]
    }
   ],
   "source": [
    "traduce('EST_B2_3')"
   ]
  },
  {
   "cell_type": "code",
   "execution_count": 141,
   "metadata": {},
   "outputs": [
    {
     "name": "stdout",
     "output_type": "stream",
     "text": [
      "         EST_B2_3\n",
      "           unique\n",
      "EST_B1           \n",
      "1.0     [2, 1, 9]\n",
      "2.0           [ ]\n",
      "               EST_B2_3\n",
      "                 unique\n",
      "EST_B1                 \n",
      "1.0     [2.0, 1.0, nan]\n",
      "2.0               [2.0]\n"
     ]
    }
   ],
   "source": [
    "re_beca('EST_B2_3')"
   ]
  },
  {
   "cell_type": "code",
   "execution_count": 142,
   "metadata": {},
   "outputs": [
    {
     "name": "stdout",
     "output_type": "stream",
     "text": [
      "           aux_traduce\n",
      "                unique\n",
      "beca_colab            \n",
      "0.0               [No]\n",
      "1.0               [Sí]\n"
     ]
    }
   ],
   "source": [
    "redefine('EST_B2_3','beca_colab',si_no=True)"
   ]
  },
  {
   "cell_type": "markdown",
   "metadata": {},
   "source": [
    "## 'EST_B2_4' (redefinida como 'beca_pract')\n",
    "(Solo para respuesta Sí (1) en variable 'beca')  \n",
    "\n",
    "¿Disfrutó de alguna **beca de prácticas externas** o para prestar un servicio o desempeñar un trabajo fuera de la Universidad?: 1=Sí, 2=No, 9=NS/NC.  \n",
    "\n",
    "\n",
    "Nota: se modifica en 'beca_pract' el valor asociado a No: 0=No."
   ]
  },
  {
   "cell_type": "code",
   "execution_count": 143,
   "metadata": {},
   "outputs": [
    {
     "data": {
      "text/plain": [
       "array([' ', '2', '1', '9'], dtype=object)"
      ]
     },
     "execution_count": 143,
     "metadata": {},
     "output_type": "execute_result"
    }
   ],
   "source": [
    "df['EST_B2_4'].unique() # No informados como ' ' o '9'"
   ]
  },
  {
   "cell_type": "code",
   "execution_count": 144,
   "metadata": {},
   "outputs": [
    {
     "name": "stdout",
     "output_type": "stream",
     "text": [
      "             aux_traduce\n",
      "                  unique\n",
      "EST_B2_4                \n",
      "          [No aplicable]\n",
      "1                   [Sí]\n",
      "2                   [No]\n",
      "9                [NS/NC]\n"
     ]
    }
   ],
   "source": [
    "traduce('EST_B2_4')"
   ]
  },
  {
   "cell_type": "code",
   "execution_count": 145,
   "metadata": {},
   "outputs": [
    {
     "name": "stdout",
     "output_type": "stream",
     "text": [
      "         EST_B2_4\n",
      "           unique\n",
      "EST_B1           \n",
      "1.0     [2, 1, 9]\n",
      "2.0           [ ]\n",
      "               EST_B2_4\n",
      "                 unique\n",
      "EST_B1                 \n",
      "1.0     [2.0, 1.0, nan]\n",
      "2.0               [2.0]\n"
     ]
    }
   ],
   "source": [
    "re_beca('EST_B2_4')"
   ]
  },
  {
   "cell_type": "code",
   "execution_count": 146,
   "metadata": {},
   "outputs": [
    {
     "name": "stdout",
     "output_type": "stream",
     "text": [
      "           aux_traduce\n",
      "                unique\n",
      "beca_pract            \n",
      "0.0               [No]\n",
      "1.0               [Sí]\n"
     ]
    }
   ],
   "source": [
    "redefine('EST_B2_4','beca_pract',si_no=True)"
   ]
  },
  {
   "cell_type": "markdown",
   "metadata": {},
   "source": [
    "## 'EST_B2_5' (redefinida como 'beca_extr')\n",
    "(Solo para respuesta Sí (1) en variable 'beca')  \n",
    "\n",
    "¿Disfrutó de alguna **beca para realizar estudios fuera de España** (incluidas becas complemento a programas Erasmus)?: 1=Sí, 2=No, 9=NS/NC.  \n",
    "\n",
    "Nota: se modifica en 'beca_extr' el valor asociado a No: 0=No."
   ]
  },
  {
   "cell_type": "code",
   "execution_count": 147,
   "metadata": {},
   "outputs": [
    {
     "data": {
      "text/plain": [
       "array([' ', '1', '2', '9'], dtype=object)"
      ]
     },
     "execution_count": 147,
     "metadata": {},
     "output_type": "execute_result"
    }
   ],
   "source": [
    "df['EST_B2_5'].unique() # No informados como ' ' o '9'"
   ]
  },
  {
   "cell_type": "code",
   "execution_count": 148,
   "metadata": {},
   "outputs": [
    {
     "name": "stdout",
     "output_type": "stream",
     "text": [
      "             aux_traduce\n",
      "                  unique\n",
      "EST_B2_5                \n",
      "          [No aplicable]\n",
      "1                   [Sí]\n",
      "2                   [No]\n",
      "9                [NS/NC]\n"
     ]
    }
   ],
   "source": [
    "traduce('EST_B2_5')"
   ]
  },
  {
   "cell_type": "code",
   "execution_count": 149,
   "metadata": {},
   "outputs": [
    {
     "name": "stdout",
     "output_type": "stream",
     "text": [
      "         EST_B2_5\n",
      "           unique\n",
      "EST_B1           \n",
      "1.0     [1, 2, 9]\n",
      "2.0           [ ]\n",
      "               EST_B2_5\n",
      "                 unique\n",
      "EST_B1                 \n",
      "1.0     [1.0, 2.0, nan]\n",
      "2.0               [2.0]\n"
     ]
    }
   ],
   "source": [
    "re_beca('EST_B2_5')"
   ]
  },
  {
   "cell_type": "code",
   "execution_count": 150,
   "metadata": {},
   "outputs": [
    {
     "name": "stdout",
     "output_type": "stream",
     "text": [
      "          aux_traduce\n",
      "               unique\n",
      "beca_extr            \n",
      "0.0              [No]\n",
      "1.0              [Sí]\n"
     ]
    }
   ],
   "source": [
    "redefine('EST_B2_5','beca_extr',si_no=True)"
   ]
  },
  {
   "cell_type": "markdown",
   "metadata": {},
   "source": [
    "## 'EST_M1' (redefinida como 'extr')\n",
    "(Solo para respuesta distinta de Sí (1) en variable 'EST_B2_5')  \n",
    "\n",
    "¿Realizó parte de sus **estudios en el extranjero**?: 1=Sí, 2=No, 9=NS/NC.  \n",
    "\n",
    "Nota: se modifica el valor asociado a No: 0=No."
   ]
  },
  {
   "cell_type": "code",
   "execution_count": 151,
   "metadata": {},
   "outputs": [
    {
     "data": {
      "text/plain": [
       "array([1, 2, 9])"
      ]
     },
     "execution_count": 151,
     "metadata": {},
     "output_type": "execute_result"
    }
   ],
   "source": [
    "df['EST_M1'].unique() # No informados como '9'"
   ]
  },
  {
   "cell_type": "code",
   "execution_count": 152,
   "metadata": {},
   "outputs": [
    {
     "name": "stdout",
     "output_type": "stream",
     "text": [
      "       aux_traduce\n",
      "            unique\n",
      "EST_M1            \n",
      "1             [Sí]\n",
      "2             [No]\n",
      "9          [NS/NC]\n"
     ]
    }
   ],
   "source": [
    "traduce('EST_M1')"
   ]
  },
  {
   "cell_type": "code",
   "execution_count": 153,
   "metadata": {},
   "outputs": [
    {
     "data": {
      "text/html": [
       "<div>\n",
       "<style scoped>\n",
       "    .dataframe tbody tr th:only-of-type {\n",
       "        vertical-align: middle;\n",
       "    }\n",
       "\n",
       "    .dataframe tbody tr th {\n",
       "        vertical-align: top;\n",
       "    }\n",
       "\n",
       "    .dataframe thead tr th {\n",
       "        text-align: left;\n",
       "    }\n",
       "\n",
       "    .dataframe thead tr:last-of-type th {\n",
       "        text-align: right;\n",
       "    }\n",
       "</style>\n",
       "<table border=\"1\" class=\"dataframe\">\n",
       "  <thead>\n",
       "    <tr>\n",
       "      <th></th>\n",
       "      <th>EST_M1_</th>\n",
       "    </tr>\n",
       "    <tr>\n",
       "      <th></th>\n",
       "      <th>unique</th>\n",
       "    </tr>\n",
       "    <tr>\n",
       "      <th>EST_B2_5_</th>\n",
       "      <th></th>\n",
       "    </tr>\n",
       "  </thead>\n",
       "  <tbody>\n",
       "    <tr>\n",
       "      <th>No</th>\n",
       "      <td>[Sí, No, NS/NC]</td>\n",
       "    </tr>\n",
       "    <tr>\n",
       "      <th>Sí</th>\n",
       "      <td>[Sí]</td>\n",
       "    </tr>\n",
       "  </tbody>\n",
       "</table>\n",
       "</div>"
      ],
      "text/plain": [
       "                   EST_M1_\n",
       "                    unique\n",
       "EST_B2_5_                 \n",
       "No         [Sí, No, NS/NC]\n",
       "Sí                    [Sí]"
      ]
     },
     "execution_count": 153,
     "metadata": {},
     "output_type": "execute_result"
    }
   ],
   "source": [
    "df[['EST_B2_5_','EST_M1_']].groupby('EST_B2_5_').agg(['unique']) # Inspección\n",
    "# Imputada por el encuestador respuesta Si (1) a quienes manifestaron haber disfrutado de beca para ...\n",
    "# ... estudiar fuera de España ('EST_B2_5')"
   ]
  },
  {
   "cell_type": "code",
   "execution_count": 154,
   "metadata": {},
   "outputs": [
    {
     "name": "stdout",
     "output_type": "stream",
     "text": [
      "[ 1.  2. nan]\n"
     ]
    }
   ],
   "source": [
    "# Se imputa None a NS/NC: \n",
    "no_respuesta('EST_M1',tipo='int')"
   ]
  },
  {
   "cell_type": "code",
   "execution_count": 155,
   "metadata": {},
   "outputs": [
    {
     "data": {
      "text/html": [
       "<div>\n",
       "<style scoped>\n",
       "    .dataframe tbody tr th:only-of-type {\n",
       "        vertical-align: middle;\n",
       "    }\n",
       "\n",
       "    .dataframe tbody tr th {\n",
       "        vertical-align: top;\n",
       "    }\n",
       "\n",
       "    .dataframe thead tr th {\n",
       "        text-align: left;\n",
       "    }\n",
       "\n",
       "    .dataframe thead tr:last-of-type th {\n",
       "        text-align: right;\n",
       "    }\n",
       "</style>\n",
       "<table border=\"1\" class=\"dataframe\">\n",
       "  <thead>\n",
       "    <tr>\n",
       "      <th></th>\n",
       "      <th>EST_M1_</th>\n",
       "    </tr>\n",
       "    <tr>\n",
       "      <th></th>\n",
       "      <th>unique</th>\n",
       "    </tr>\n",
       "    <tr>\n",
       "      <th>EST_B2_5_</th>\n",
       "      <th></th>\n",
       "    </tr>\n",
       "  </thead>\n",
       "  <tbody>\n",
       "    <tr>\n",
       "      <th>No</th>\n",
       "      <td>[Sí, No, nan]</td>\n",
       "    </tr>\n",
       "    <tr>\n",
       "      <th>Sí</th>\n",
       "      <td>[Sí]</td>\n",
       "    </tr>\n",
       "  </tbody>\n",
       "</table>\n",
       "</div>"
      ],
      "text/plain": [
       "                 EST_M1_\n",
       "                  unique\n",
       "EST_B2_5_               \n",
       "No         [Sí, No, nan]\n",
       "Sí                  [Sí]"
      ]
     },
     "execution_count": 155,
     "metadata": {},
     "output_type": "execute_result"
    }
   ],
   "source": [
    "df[['EST_B2_5_','EST_M1_']].groupby('EST_B2_5_').agg(['unique']) # Comprobacion: "
   ]
  },
  {
   "cell_type": "code",
   "execution_count": 156,
   "metadata": {},
   "outputs": [
    {
     "name": "stdout",
     "output_type": "stream",
     "text": [
      "     aux_traduce\n",
      "          unique\n",
      "extr            \n",
      "0.0         [No]\n",
      "1.0         [Sí]\n"
     ]
    }
   ],
   "source": [
    "redefine('EST_M1','extr',si_no=True)"
   ]
  },
  {
   "cell_type": "markdown",
   "metadata": {},
   "source": [
    "## Nueva variable: 'extr_sin_beca'\n",
    "¿Realizó parte de sus **estudios en el extranjero sin beca** específica?: 1=Si, 0=No.  \n",
    "\n",
    "Variable proxi de renta familiar alta.  "
   ]
  },
  {
   "cell_type": "code",
   "execution_count": 157,
   "metadata": {},
   "outputs": [
    {
     "data": {
      "text/html": [
       "<div>\n",
       "<style scoped>\n",
       "    .dataframe tbody tr th:only-of-type {\n",
       "        vertical-align: middle;\n",
       "    }\n",
       "\n",
       "    .dataframe tbody tr th {\n",
       "        vertical-align: top;\n",
       "    }\n",
       "\n",
       "    .dataframe thead tr th {\n",
       "        text-align: left;\n",
       "    }\n",
       "\n",
       "    .dataframe thead tr:last-of-type th {\n",
       "        text-align: right;\n",
       "    }\n",
       "</style>\n",
       "<table border=\"1\" class=\"dataframe\">\n",
       "  <thead>\n",
       "    <tr>\n",
       "      <th></th>\n",
       "      <th></th>\n",
       "      <th>extr_sin_beca</th>\n",
       "    </tr>\n",
       "    <tr>\n",
       "      <th></th>\n",
       "      <th></th>\n",
       "      <th>unique</th>\n",
       "    </tr>\n",
       "    <tr>\n",
       "      <th>extr</th>\n",
       "      <th>EST_B2_5</th>\n",
       "      <th></th>\n",
       "    </tr>\n",
       "  </thead>\n",
       "  <tbody>\n",
       "    <tr>\n",
       "      <th>0.0</th>\n",
       "      <th>2.0</th>\n",
       "      <td>[0]</td>\n",
       "    </tr>\n",
       "    <tr>\n",
       "      <th rowspan=\"2\" valign=\"top\">1.0</th>\n",
       "      <th>1.0</th>\n",
       "      <td>[0]</td>\n",
       "    </tr>\n",
       "    <tr>\n",
       "      <th>2.0</th>\n",
       "      <td>[1]</td>\n",
       "    </tr>\n",
       "  </tbody>\n",
       "</table>\n",
       "</div>"
      ],
      "text/plain": [
       "              extr_sin_beca\n",
       "                     unique\n",
       "extr EST_B2_5              \n",
       "0.0  2.0                [0]\n",
       "1.0  1.0                [0]\n",
       "     2.0                [1]"
      ]
     },
     "execution_count": 157,
     "metadata": {},
     "output_type": "execute_result"
    }
   ],
   "source": [
    "df['extr_sin_beca']=0\n",
    "df['extr_sin_beca'].mask((df['extr']==1)&(df['EST_B2_5']!=1),1,inplace=True)\n",
    "df[['extr_sin_beca','extr','EST_B2_5']].groupby(['extr','EST_B2_5']).agg(['unique']) # Comprobación"
   ]
  },
  {
   "cell_type": "code",
   "execution_count": 158,
   "metadata": {},
   "outputs": [
    {
     "name": "stdout",
     "output_type": "stream",
     "text": [
      "              aux_traduce\n",
      "                   unique\n",
      "extr_sin_beca            \n",
      "0                    [No]\n",
      "1                    [Sí]\n"
     ]
    }
   ],
   "source": [
    "traduce('extr_sin_beca')"
   ]
  },
  {
   "cell_type": "markdown",
   "metadata": {},
   "source": [
    "## 'EST_M2' (redefinida como 'tipo_beca_extr')\n",
    "\n",
    "(Solo para respuesta Sí (1) en variable 'EST_B2_5' (o 'beca_extr'))  \n",
    "\n",
    "**Programa o beca de movilidad**."
   ]
  },
  {
   "cell_type": "code",
   "execution_count": 159,
   "metadata": {},
   "outputs": [
    {
     "data": {
      "text/plain": [
       "array([' ', '1', '3', '2'], dtype=object)"
      ]
     },
     "execution_count": 159,
     "metadata": {},
     "output_type": "execute_result"
    }
   ],
   "source": [
    "df['EST_M2'].unique() # No informados como ' ' "
   ]
  },
  {
   "cell_type": "code",
   "execution_count": 160,
   "metadata": {},
   "outputs": [
    {
     "name": "stdout",
     "output_type": "stream",
     "text": [
      "                                      aux_traduce\n",
      "                                           unique\n",
      "EST_M2                                           \n",
      "                                   [No aplicable]\n",
      "1                              [Programa Erasmus]\n",
      "2       [Otros programas o becas dentro de la UE]\n",
      "3        [Otros programas o becas fuera de la UE]\n"
     ]
    }
   ],
   "source": [
    "traduce('EST_M2')"
   ]
  },
  {
   "cell_type": "code",
   "execution_count": 161,
   "metadata": {},
   "outputs": [
    {
     "name": "stdout",
     "output_type": "stream",
     "text": [
      "[ 1.  2.  3. nan]\n"
     ]
    }
   ],
   "source": [
    "# Se imputa None a NS/NC (9) y a respuesta en blanco: \n",
    "no_respuesta('EST_M2')"
   ]
  },
  {
   "cell_type": "code",
   "execution_count": 162,
   "metadata": {},
   "outputs": [],
   "source": [
    "redefine('EST_M2','tipo_beca_extr')"
   ]
  },
  {
   "cell_type": "code",
   "execution_count": 163,
   "metadata": {},
   "outputs": [
    {
     "data": {
      "text/html": [
       "<div>\n",
       "<style scoped>\n",
       "    .dataframe tbody tr th:only-of-type {\n",
       "        vertical-align: middle;\n",
       "    }\n",
       "\n",
       "    .dataframe tbody tr th {\n",
       "        vertical-align: top;\n",
       "    }\n",
       "\n",
       "    .dataframe thead tr th {\n",
       "        text-align: left;\n",
       "    }\n",
       "\n",
       "    .dataframe thead tr:last-of-type th {\n",
       "        text-align: right;\n",
       "    }\n",
       "</style>\n",
       "<table border=\"1\" class=\"dataframe\">\n",
       "  <thead>\n",
       "    <tr>\n",
       "      <th></th>\n",
       "      <th>tipo_beca_extr_</th>\n",
       "    </tr>\n",
       "    <tr>\n",
       "      <th></th>\n",
       "      <th>unique</th>\n",
       "    </tr>\n",
       "    <tr>\n",
       "      <th>beca_extr_</th>\n",
       "      <th></th>\n",
       "    </tr>\n",
       "  </thead>\n",
       "  <tbody>\n",
       "    <tr>\n",
       "      <th>No</th>\n",
       "      <td>[nan]</td>\n",
       "    </tr>\n",
       "    <tr>\n",
       "      <th>Sí</th>\n",
       "      <td>[Programa Erasmus, Otros programas o becas fuera de la UE, Otros programas o becas dentro de la UE]</td>\n",
       "    </tr>\n",
       "    <tr>\n",
       "      <th>NaN</th>\n",
       "      <td>[nan]</td>\n",
       "    </tr>\n",
       "  </tbody>\n",
       "</table>\n",
       "</div>"
      ],
      "text/plain": [
       "                                                                                                tipo_beca_extr_\n",
       "                                                                                                         unique\n",
       "beca_extr_                                                                                                     \n",
       "No                                                                                                        [nan]\n",
       "Sí          [Programa Erasmus, Otros programas o becas fuera de la UE, Otros programas o becas dentro de la UE]\n",
       "NaN                                                                                                       [nan]"
      ]
     },
     "execution_count": 163,
     "metadata": {},
     "output_type": "execute_result"
    }
   ],
   "source": [
    "df[['beca_extr_','tipo_beca_extr_']].groupby('beca_extr_',dropna=False).agg(['unique']) # Comprobación"
   ]
  },
  {
   "cell_type": "markdown",
   "metadata": {},
   "source": [
    "## 'EST_M3'  (redefinida como 'pais_beca_extr')  \n",
    "\n",
    "(Solo para respuesta Sí (1) en variable 'EST_M1' (o 'extr')) \n",
    "\n",
    "**País de destino** cuando estudió fuera de España."
   ]
  },
  {
   "cell_type": "code",
   "execution_count": 164,
   "metadata": {},
   "outputs": [
    {
     "data": {
      "text/plain": [
       "array(['  ', '01', '02', '03', '04', '05', '06', '07', '08', '11', '12',\n",
       "       '21', '31', '41', '99'], dtype=object)"
      ]
     },
     "execution_count": 164,
     "metadata": {},
     "output_type": "execute_result"
    }
   ],
   "source": [
    "df['EST_M3'].sort_values().unique() # No informados como '  ' o '99'"
   ]
  },
  {
   "cell_type": "code",
   "execution_count": 165,
   "metadata": {},
   "outputs": [
    {
     "name": "stdout",
     "output_type": "stream",
     "text": [
      "[ 1.  2.  3.  4.  5.  6.  7.  8. 11. 12. 21. 31. 41. nan]\n"
     ]
    }
   ],
   "source": [
    "# Se imputa None a respuestas en blanco y NS/NC: \n",
    "no_respuesta('EST_M3',blank='  ',nsnc='99')"
   ]
  },
  {
   "cell_type": "code",
   "execution_count": 166,
   "metadata": {},
   "outputs": [
    {
     "name": "stdout",
     "output_type": "stream",
     "text": [
      "                                                                 aux_traduce\n",
      "                                                                      unique\n",
      "EST_M3                                                                      \n",
      "1.0                                                            [Reino Unido]\n",
      "2.0                                                               [Alemania]\n",
      "3.0                                                                [Francia]\n",
      "4.0                                                                 [Italia]\n",
      "5.0                                                               [Portugal]\n",
      "6.0     [Países Nórdicos (Suecia, Noruega, Finlandia, Dinamarca e Islandia)]\n",
      "7.0                                          [Otro país de la Unión Europea]\n",
      "8.0                                                      [Otro país europeo]\n",
      "11.0                                          [Un país de América del Norte]\n",
      "12.0                          [Un país de América Central o América del Sur]\n",
      "21.0                                                       [Un país de Asia]\n",
      "31.0                                                     [Un país de África]\n",
      "41.0                                                    [Un país de Oceanía]\n"
     ]
    }
   ],
   "source": [
    "df['EST_M3']=df['EST_M3'].astype('float')\n",
    "traduce('EST_M3')"
   ]
  },
  {
   "cell_type": "code",
   "execution_count": 167,
   "metadata": {},
   "outputs": [],
   "source": [
    "redefine('EST_M3','pais_beca_extr')"
   ]
  },
  {
   "cell_type": "markdown",
   "metadata": {},
   "source": [
    "## 'EST_M4'\n",
    "(Solo para respuesta Sí (1) en variable 'EST_M1' (o 'extr'))  \n",
    "\n",
    "**Duración** en meses del periodo en el que estudió fuera de España."
   ]
  },
  {
   "cell_type": "code",
   "execution_count": 168,
   "metadata": {},
   "outputs": [
    {
     "data": {
      "text/plain": [
       "array(['4', ' ', '1', '2', '3', '5', '9'], dtype=object)"
      ]
     },
     "execution_count": 168,
     "metadata": {},
     "output_type": "execute_result"
    }
   ],
   "source": [
    "df['EST_M4'].unique() # No informados como ' ' o '9'"
   ]
  },
  {
   "cell_type": "code",
   "execution_count": 169,
   "metadata": {},
   "outputs": [
    {
     "name": "stdout",
     "output_type": "stream",
     "text": [
      "               aux_traduce\n",
      "                    unique\n",
      "EST_M4                    \n",
      "            [No aplicable]\n",
      "1         [De 1 a 3 meses]\n",
      "2         [De 4 a 6 meses]\n",
      "3         [De 7 a 9 meses]\n",
      "4       [De 10 a 12 meses]\n",
      "5          [Más de un año]\n",
      "9                  [NS/NC]\n"
     ]
    }
   ],
   "source": [
    "traduce('EST_M4')"
   ]
  },
  {
   "cell_type": "code",
   "execution_count": 170,
   "metadata": {},
   "outputs": [
    {
     "data": {
      "text/html": [
       "<div>\n",
       "<style scoped>\n",
       "    .dataframe tbody tr th:only-of-type {\n",
       "        vertical-align: middle;\n",
       "    }\n",
       "\n",
       "    .dataframe tbody tr th {\n",
       "        vertical-align: top;\n",
       "    }\n",
       "\n",
       "    .dataframe thead tr th {\n",
       "        text-align: left;\n",
       "    }\n",
       "\n",
       "    .dataframe thead tr:last-of-type th {\n",
       "        text-align: right;\n",
       "    }\n",
       "</style>\n",
       "<table border=\"1\" class=\"dataframe\">\n",
       "  <thead>\n",
       "    <tr>\n",
       "      <th></th>\n",
       "      <th>EST_M4_</th>\n",
       "    </tr>\n",
       "    <tr>\n",
       "      <th></th>\n",
       "      <th>unique</th>\n",
       "    </tr>\n",
       "    <tr>\n",
       "      <th>extr_</th>\n",
       "      <th></th>\n",
       "    </tr>\n",
       "  </thead>\n",
       "  <tbody>\n",
       "    <tr>\n",
       "      <th>No</th>\n",
       "      <td>[No aplicable]</td>\n",
       "    </tr>\n",
       "    <tr>\n",
       "      <th>Sí</th>\n",
       "      <td>[De 10 a 12 meses, De 1 a 3 meses, De 4 a 6 meses, De 7 a 9 meses, Más de un año, NS/NC]</td>\n",
       "    </tr>\n",
       "    <tr>\n",
       "      <th>NaN</th>\n",
       "      <td>[No aplicable]</td>\n",
       "    </tr>\n",
       "  </tbody>\n",
       "</table>\n",
       "</div>"
      ],
      "text/plain": [
       "                                                                                        EST_M4_\n",
       "                                                                                         unique\n",
       "extr_                                                                                          \n",
       "No                                                                               [No aplicable]\n",
       "Sí     [De 10 a 12 meses, De 1 a 3 meses, De 4 a 6 meses, De 7 a 9 meses, Más de un año, NS/NC]\n",
       "NaN                                                                              [No aplicable]"
      ]
     },
     "execution_count": 170,
     "metadata": {},
     "output_type": "execute_result"
    }
   ],
   "source": [
    "df[['extr_','EST_M4_']].groupby('extr_',dropna=False).agg(['unique']) # Inspección: "
   ]
  },
  {
   "cell_type": "code",
   "execution_count": 171,
   "metadata": {},
   "outputs": [
    {
     "name": "stdout",
     "output_type": "stream",
     "text": [
      "[ 1.  2.  3.  4.  5. nan]\n"
     ]
    }
   ],
   "source": [
    "# Se imputa None a respuestas en blanco y NS/NC\n",
    "no_respuesta('EST_M4')"
   ]
  },
  {
   "cell_type": "markdown",
   "metadata": {},
   "source": [
    "## 'EST_MES' \n",
    "¿Realizó parte de sus estudios para obtener su título de máster en **otra universidad española**? "
   ]
  },
  {
   "cell_type": "code",
   "execution_count": 172,
   "metadata": {},
   "outputs": [
    {
     "data": {
      "text/plain": [
       "array([1, 2, 9])"
      ]
     },
     "execution_count": 172,
     "metadata": {},
     "output_type": "execute_result"
    }
   ],
   "source": [
    "df['EST_MES'].unique() # No informados como '9'"
   ]
  },
  {
   "cell_type": "code",
   "execution_count": 173,
   "metadata": {},
   "outputs": [
    {
     "name": "stdout",
     "output_type": "stream",
     "text": [
      "        aux_traduce\n",
      "             unique\n",
      "EST_MES            \n",
      "1              [Sí]\n",
      "2              [No]\n",
      "9           [NS/NC]\n"
     ]
    }
   ],
   "source": [
    "traduce('EST_MES')"
   ]
  },
  {
   "cell_type": "code",
   "execution_count": 174,
   "metadata": {},
   "outputs": [
    {
     "name": "stdout",
     "output_type": "stream",
     "text": [
      "[ 1.  2. nan]\n"
     ]
    }
   ],
   "source": [
    "# Se imputa None a NS/NC:\n",
    "no_respuesta('EST_MES',tipo='int')"
   ]
  },
  {
   "cell_type": "markdown",
   "metadata": {},
   "source": [
    "## 'EST_B8' (redefinida como 'motivacion')\n",
    "**Motivo principal** por el que ha realizado sus **estudios** de máster."
   ]
  },
  {
   "cell_type": "code",
   "execution_count": 175,
   "metadata": {},
   "outputs": [
    {
     "data": {
      "text/plain": [
       "array([1, 2, 3, 9])"
      ]
     },
     "execution_count": 175,
     "metadata": {},
     "output_type": "execute_result"
    }
   ],
   "source": [
    "df['EST_B8'].unique() # No informados como '9'"
   ]
  },
  {
   "cell_type": "code",
   "execution_count": 176,
   "metadata": {},
   "outputs": [
    {
     "name": "stdout",
     "output_type": "stream",
     "text": [
      "                                              aux_traduce\n",
      "                                                   unique\n",
      "EST_B8                                                   \n",
      "1                [Formarse pensando en su futuro laboral]\n",
      "2       [Ampliar conocimientos por satisfacción personal]\n",
      "3                                         [Otros motivos]\n",
      "9                                                 [NS/NC]\n"
     ]
    }
   ],
   "source": [
    "traduce('EST_B8')"
   ]
  },
  {
   "cell_type": "code",
   "execution_count": 177,
   "metadata": {},
   "outputs": [
    {
     "name": "stdout",
     "output_type": "stream",
     "text": [
      "[ 1.  2.  3. nan]\n"
     ]
    }
   ],
   "source": [
    "# Se imputa None a NS/NC:\n",
    "no_respuesta('EST_B8',tipo='int')"
   ]
  },
  {
   "cell_type": "code",
   "execution_count": 178,
   "metadata": {},
   "outputs": [],
   "source": [
    "redefine('EST_B8','motivacion')"
   ]
  },
  {
   "cell_type": "markdown",
   "metadata": {},
   "source": [
    "## 'SAT1' (redefinida como 'sat_est_u')\n",
    "¿Si tuviera que empezar de nuevo **volvería a cursar estudios universitarios**?  1=Sí, 2=No, 9=NS/NC.  \n",
    "\n",
    "Nota: Se modifica en 'sat_est_u' el valor asociado a la respuesta No: 0=No."
   ]
  },
  {
   "cell_type": "code",
   "execution_count": 179,
   "metadata": {},
   "outputs": [
    {
     "data": {
      "text/plain": [
       "array([1, 2, 9])"
      ]
     },
     "execution_count": 179,
     "metadata": {},
     "output_type": "execute_result"
    }
   ],
   "source": [
    "df['SAT1'].unique() # No informados como '9'"
   ]
  },
  {
   "cell_type": "code",
   "execution_count": 180,
   "metadata": {},
   "outputs": [
    {
     "name": "stdout",
     "output_type": "stream",
     "text": [
      "     aux_traduce\n",
      "          unique\n",
      "SAT1            \n",
      "1           [Sí]\n",
      "2           [No]\n",
      "9        [NS/NC]\n"
     ]
    }
   ],
   "source": [
    "traduce('SAT1')"
   ]
  },
  {
   "cell_type": "code",
   "execution_count": 181,
   "metadata": {},
   "outputs": [
    {
     "name": "stdout",
     "output_type": "stream",
     "text": [
      "[ 1.  2. nan]\n"
     ]
    }
   ],
   "source": [
    "# Se imputa None a NS/NC:\n",
    "no_respuesta('SAT1',tipo='int')"
   ]
  },
  {
   "cell_type": "code",
   "execution_count": 182,
   "metadata": {},
   "outputs": [
    {
     "name": "stdout",
     "output_type": "stream",
     "text": [
      "          aux_traduce\n",
      "               unique\n",
      "sat_est_u            \n",
      "0.0              [No]\n",
      "1.0              [Sí]\n"
     ]
    }
   ],
   "source": [
    "redefine('SAT1','sat_est_u',si_no=True)"
   ]
  },
  {
   "cell_type": "markdown",
   "metadata": {},
   "source": [
    "## 'SAT2' (redefinida como 'sat_titulo')  \n",
    "(Solo para respuesta Sí (1) en 'SAT1' (o 'sat_est_u')) \n",
    "\n",
    "¿Si tuviera que empezar de nuevo **volvería a estudiar la misma titulación**?  1=Sí, 2=No, 9=NS/NC.  \n",
    "\n",
    "Nota: Se modifica en 'sat_titulo' el valor asociado a la respuesta No: 0=No."
   ]
  },
  {
   "cell_type": "code",
   "execution_count": 183,
   "metadata": {},
   "outputs": [
    {
     "data": {
      "text/plain": [
       "array(['1', '2', ' ', '9'], dtype=object)"
      ]
     },
     "execution_count": 183,
     "metadata": {},
     "output_type": "execute_result"
    }
   ],
   "source": [
    "df['SAT2'].unique() # No informados como ' ' o '9'"
   ]
  },
  {
   "cell_type": "code",
   "execution_count": 184,
   "metadata": {},
   "outputs": [
    {
     "name": "stdout",
     "output_type": "stream",
     "text": [
      "         aux_traduce\n",
      "              unique\n",
      "SAT2                \n",
      "      [No aplicable]\n",
      "1               [Sí]\n",
      "2               [No]\n",
      "9            [NS/NC]\n"
     ]
    }
   ],
   "source": [
    "traduce('SAT2')"
   ]
  },
  {
   "cell_type": "code",
   "execution_count": 185,
   "metadata": {},
   "outputs": [
    {
     "data": {
      "text/html": [
       "<div>\n",
       "<style scoped>\n",
       "    .dataframe tbody tr th:only-of-type {\n",
       "        vertical-align: middle;\n",
       "    }\n",
       "\n",
       "    .dataframe tbody tr th {\n",
       "        vertical-align: top;\n",
       "    }\n",
       "\n",
       "    .dataframe thead tr th {\n",
       "        text-align: left;\n",
       "    }\n",
       "\n",
       "    .dataframe thead tr:last-of-type th {\n",
       "        text-align: right;\n",
       "    }\n",
       "</style>\n",
       "<table border=\"1\" class=\"dataframe\">\n",
       "  <thead>\n",
       "    <tr>\n",
       "      <th></th>\n",
       "      <th>SAT2_</th>\n",
       "    </tr>\n",
       "    <tr>\n",
       "      <th></th>\n",
       "      <th>unique</th>\n",
       "    </tr>\n",
       "    <tr>\n",
       "      <th>SAT1_</th>\n",
       "      <th></th>\n",
       "    </tr>\n",
       "  </thead>\n",
       "  <tbody>\n",
       "    <tr>\n",
       "      <th>No</th>\n",
       "      <td>[No aplicable]</td>\n",
       "    </tr>\n",
       "    <tr>\n",
       "      <th>Sí</th>\n",
       "      <td>[Sí, No, NS/NC]</td>\n",
       "    </tr>\n",
       "    <tr>\n",
       "      <th>NaN</th>\n",
       "      <td>[No aplicable]</td>\n",
       "    </tr>\n",
       "  </tbody>\n",
       "</table>\n",
       "</div>"
      ],
      "text/plain": [
       "                 SAT2_\n",
       "                unique\n",
       "SAT1_                 \n",
       "No      [No aplicable]\n",
       "Sí     [Sí, No, NS/NC]\n",
       "NaN     [No aplicable]"
      ]
     },
     "execution_count": 185,
     "metadata": {},
     "output_type": "execute_result"
    }
   ],
   "source": [
    "df[['SAT1_','SAT2_']].groupby('SAT1_',dropna=False).agg(['unique']) # Inspección"
   ]
  },
  {
   "cell_type": "code",
   "execution_count": 186,
   "metadata": {},
   "outputs": [
    {
     "name": "stdout",
     "output_type": "stream",
     "text": [
      "[ 1.  2. nan]\n"
     ]
    }
   ],
   "source": [
    "# Se imputa respuesta No (2) a quienes declararon que no volverían a cursar estudios universitarios: \n",
    "df['SAT2'].mask(df['sat_est_u']==0,2,inplace=True)\n",
    "# Se imputa None a resto de respuestas en blanco y NS/NC:\n",
    "no_respuesta('SAT2')"
   ]
  },
  {
   "cell_type": "code",
   "execution_count": 187,
   "metadata": {},
   "outputs": [
    {
     "data": {
      "text/html": [
       "<div>\n",
       "<style scoped>\n",
       "    .dataframe tbody tr th:only-of-type {\n",
       "        vertical-align: middle;\n",
       "    }\n",
       "\n",
       "    .dataframe tbody tr th {\n",
       "        vertical-align: top;\n",
       "    }\n",
       "\n",
       "    .dataframe thead tr th {\n",
       "        text-align: left;\n",
       "    }\n",
       "\n",
       "    .dataframe thead tr:last-of-type th {\n",
       "        text-align: right;\n",
       "    }\n",
       "</style>\n",
       "<table border=\"1\" class=\"dataframe\">\n",
       "  <thead>\n",
       "    <tr>\n",
       "      <th></th>\n",
       "      <th>SAT2_</th>\n",
       "    </tr>\n",
       "    <tr>\n",
       "      <th></th>\n",
       "      <th>unique</th>\n",
       "    </tr>\n",
       "    <tr>\n",
       "      <th>SAT1_</th>\n",
       "      <th></th>\n",
       "    </tr>\n",
       "  </thead>\n",
       "  <tbody>\n",
       "    <tr>\n",
       "      <th>No</th>\n",
       "      <td>[No]</td>\n",
       "    </tr>\n",
       "    <tr>\n",
       "      <th>Sí</th>\n",
       "      <td>[Sí, No, nan]</td>\n",
       "    </tr>\n",
       "    <tr>\n",
       "      <th>NaN</th>\n",
       "      <td>[nan]</td>\n",
       "    </tr>\n",
       "  </tbody>\n",
       "</table>\n",
       "</div>"
      ],
      "text/plain": [
       "               SAT2_\n",
       "              unique\n",
       "SAT1_               \n",
       "No              [No]\n",
       "Sí     [Sí, No, nan]\n",
       "NaN            [nan]"
      ]
     },
     "execution_count": 187,
     "metadata": {},
     "output_type": "execute_result"
    }
   ],
   "source": [
    "df[['SAT1_','SAT2_']].groupby('SAT1_',dropna=False).agg(['unique'])"
   ]
  },
  {
   "cell_type": "code",
   "execution_count": 188,
   "metadata": {},
   "outputs": [
    {
     "name": "stdout",
     "output_type": "stream",
     "text": [
      "           aux_traduce\n",
      "                unique\n",
      "sat_titulo            \n",
      "0.0               [No]\n",
      "1.0               [Sí]\n"
     ]
    }
   ],
   "source": [
    "redefine('SAT2','sat_titulo',si_no=True)"
   ]
  },
  {
   "cell_type": "markdown",
   "metadata": {},
   "source": [
    "## Variables sobre otra formación realizada: variables  'EST_B11_1' a 'EST_B11_7'\n",
    "Nota: Debe tenerse en cuenta que se pregunta sobre otros estudios completados, no sobre los iniciados, y que para los titulados recientes se pueden estar subestimando las titulaciones posteriores por no haber habido tiempo suficiente para terminarlas. "
   ]
  },
  {
   "cell_type": "markdown",
   "metadata": {},
   "source": [
    "## 'EST_B11_1'  (redefinida como 'grado')\n",
    "¿Ha completado **estudios de grado**, diplomatura, licenciatura o equivalente?  1=Sí, 2=No.  "
   ]
  },
  {
   "cell_type": "code",
   "execution_count": 189,
   "metadata": {},
   "outputs": [
    {
     "data": {
      "text/plain": [
       "array([1, 2])"
      ]
     },
     "execution_count": 189,
     "metadata": {},
     "output_type": "execute_result"
    }
   ],
   "source": [
    "df['EST_B11_1'].unique() # Sin no informados"
   ]
  },
  {
   "cell_type": "code",
   "execution_count": 190,
   "metadata": {},
   "outputs": [
    {
     "name": "stdout",
     "output_type": "stream",
     "text": [
      "          aux_traduce\n",
      "               unique\n",
      "EST_B11_1            \n",
      "1                [Sí]\n",
      "2                [No]\n"
     ]
    }
   ],
   "source": [
    "traduce('EST_B11_1')"
   ]
  },
  {
   "cell_type": "code",
   "execution_count": 191,
   "metadata": {},
   "outputs": [
    {
     "name": "stdout",
     "output_type": "stream",
     "text": [
      "      aux_traduce\n",
      "           unique\n",
      "grado            \n",
      "0            [No]\n",
      "1            [Sí]\n"
     ]
    }
   ],
   "source": [
    "redefine('EST_B11_1','grado',si_no=True)"
   ]
  },
  {
   "cell_type": "code",
   "execution_count": 192,
   "metadata": {},
   "outputs": [
    {
     "data": {
      "text/plain": [
       "1    11402\n",
       "0       81\n",
       "Name: grado, dtype: int64"
      ]
     },
     "execution_count": 192,
     "metadata": {},
     "output_type": "execute_result"
    }
   ],
   "source": [
    "df['grado'].value_counts() # Hay titulados de máster universitario sin título de grado o equivalente"
   ]
  },
  {
   "cell_type": "markdown",
   "metadata": {},
   "source": [
    "## 'EST_B11_2'  (redefinida como 'varios_master')   \n",
    "¿Ha completado **otros estudios de máster universitario**?  1=Sí, 2=No.  \n",
    "\n",
    "Nota: Se modifica en 'master' el valor asociado a la respuesta No: 0=No."
   ]
  },
  {
   "cell_type": "code",
   "execution_count": 193,
   "metadata": {},
   "outputs": [
    {
     "data": {
      "text/plain": [
       "array([2, 1])"
      ]
     },
     "execution_count": 193,
     "metadata": {},
     "output_type": "execute_result"
    }
   ],
   "source": [
    "df['EST_B11_2'].unique() # Sin no informados"
   ]
  },
  {
   "cell_type": "code",
   "execution_count": 194,
   "metadata": {},
   "outputs": [
    {
     "name": "stdout",
     "output_type": "stream",
     "text": [
      "          aux_traduce\n",
      "               unique\n",
      "EST_B11_2            \n",
      "1                [Sí]\n",
      "2                [No]\n"
     ]
    }
   ],
   "source": [
    "traduce('EST_B11_2')"
   ]
  },
  {
   "cell_type": "code",
   "execution_count": 195,
   "metadata": {},
   "outputs": [
    {
     "name": "stdout",
     "output_type": "stream",
     "text": [
      "              aux_traduce\n",
      "                   unique\n",
      "varios_master            \n",
      "0                    [No]\n",
      "1                    [Sí]\n"
     ]
    }
   ],
   "source": [
    "redefine('EST_B11_2','varios_master',si_no=True)"
   ]
  },
  {
   "cell_type": "markdown",
   "metadata": {},
   "source": [
    "## 'EST_B11_3'   (redefinida como 'doctor')  \n",
    "¿Ha completado otros estudios de **doctorado universitario**?  1=Sí, 2=No.  \n",
    "\n",
    "Nota: Se modifica en 'doctor' el valor asociado a la respuesta No: 0=No."
   ]
  },
  {
   "cell_type": "code",
   "execution_count": 196,
   "metadata": {},
   "outputs": [
    {
     "data": {
      "text/plain": [
       "array([2, 1])"
      ]
     },
     "execution_count": 196,
     "metadata": {},
     "output_type": "execute_result"
    }
   ],
   "source": [
    "df['EST_B11_3'].unique() # Sin no informados"
   ]
  },
  {
   "cell_type": "code",
   "execution_count": 197,
   "metadata": {},
   "outputs": [
    {
     "name": "stdout",
     "output_type": "stream",
     "text": [
      "          aux_traduce\n",
      "               unique\n",
      "EST_B11_3            \n",
      "1                [Sí]\n",
      "2                [No]\n"
     ]
    }
   ],
   "source": [
    "traduce('EST_B11_3')"
   ]
  },
  {
   "cell_type": "code",
   "execution_count": 198,
   "metadata": {},
   "outputs": [
    {
     "name": "stdout",
     "output_type": "stream",
     "text": [
      "       aux_traduce\n",
      "            unique\n",
      "doctor            \n",
      "0             [No]\n",
      "1             [Sí]\n"
     ]
    }
   ],
   "source": [
    "redefine('EST_B11_3','doctor',si_no=True)"
   ]
  },
  {
   "cell_type": "markdown",
   "metadata": {},
   "source": [
    "## Variable nueva:  'varios_titulos_u'\n",
    "\n",
    "No informada en este dataset. Se añade por homogeneidad con la encuesta de grado de 2014.  \n",
    "\n",
    "Se imputa valor 1 (Sí) a todos los encuestados por tener un título de máster además del de grado o equivalente"
   ]
  },
  {
   "cell_type": "code",
   "execution_count": 199,
   "metadata": {},
   "outputs": [],
   "source": [
    "df['varios_titulos_u']=1\n",
    "df['varios_titulos_u_']='Sí'"
   ]
  },
  {
   "cell_type": "markdown",
   "metadata": {},
   "source": [
    "## 'EST_B11_4'  (redefinida como 'est_art')\n",
    "¿Ha completado otros **estudios artísticos superiores** (artes plásticas, diseño, música y danza, arte dramático o conservación y restauración de bienes culturales)?  1=Sí, 2=No.  \n",
    "\n",
    "Nota: Se modifica en 'est_art' el valor asociado a la respuesta No: 0=No."
   ]
  },
  {
   "cell_type": "code",
   "execution_count": 200,
   "metadata": {},
   "outputs": [
    {
     "data": {
      "text/plain": [
       "array([2, 1])"
      ]
     },
     "execution_count": 200,
     "metadata": {},
     "output_type": "execute_result"
    }
   ],
   "source": [
    "df['EST_B11_4'].unique() # Sin no informados"
   ]
  },
  {
   "cell_type": "code",
   "execution_count": 201,
   "metadata": {},
   "outputs": [
    {
     "name": "stdout",
     "output_type": "stream",
     "text": [
      "          aux_traduce\n",
      "               unique\n",
      "EST_B11_4            \n",
      "1                [Sí]\n",
      "2                [No]\n"
     ]
    }
   ],
   "source": [
    "traduce('EST_B11_4')"
   ]
  },
  {
   "cell_type": "code",
   "execution_count": 202,
   "metadata": {},
   "outputs": [
    {
     "name": "stdout",
     "output_type": "stream",
     "text": [
      "        aux_traduce\n",
      "             unique\n",
      "est_art            \n",
      "0              [No]\n",
      "1              [Sí]\n"
     ]
    }
   ],
   "source": [
    "redefine('EST_B11_4','est_art',si_no=True)"
   ]
  },
  {
   "cell_type": "markdown",
   "metadata": {},
   "source": [
    "## 'EST_B11_5'   (redefinida como 'g_sup')\n",
    "¿Ha completado algún **ciclo formativo de grado superior** (formación profesional, artes plásticas y diseño) o **enseñanzas deportivas de grado superior**?  1=Sí, 2=No.  \n",
    "\n",
    "Nota: Se modifica en 'g_sup' el valor asociado a la respuesta No: 0=No."
   ]
  },
  {
   "cell_type": "code",
   "execution_count": 203,
   "metadata": {},
   "outputs": [
    {
     "data": {
      "text/plain": [
       "array([2, 1])"
      ]
     },
     "execution_count": 203,
     "metadata": {},
     "output_type": "execute_result"
    }
   ],
   "source": [
    "df['EST_B11_5'].unique() # Sin no informados"
   ]
  },
  {
   "cell_type": "code",
   "execution_count": 204,
   "metadata": {},
   "outputs": [
    {
     "name": "stdout",
     "output_type": "stream",
     "text": [
      "          aux_traduce\n",
      "               unique\n",
      "EST_B11_5            \n",
      "1                [Sí]\n",
      "2                [No]\n"
     ]
    }
   ],
   "source": [
    "traduce('EST_B11_5')"
   ]
  },
  {
   "cell_type": "code",
   "execution_count": 205,
   "metadata": {},
   "outputs": [
    {
     "name": "stdout",
     "output_type": "stream",
     "text": [
      "      aux_traduce\n",
      "           unique\n",
      "g_sup            \n",
      "0            [No]\n",
      "1            [Sí]\n"
     ]
    }
   ],
   "source": [
    "redefine('EST_B11_5','g_sup',si_no=True)"
   ]
  },
  {
   "cell_type": "markdown",
   "metadata": {},
   "source": [
    "## 'EST_B11_6'   (redefinida como 'g_medio')\n",
    "¿Ha completado algún **ciclo formativo de grado medio** (formación profesional, artes plásticas y diseño) o **enseñanzas deportivas de grado medio**?  1=Sí, 2=No.  \n",
    "\n",
    "Nota: Se modifica en 'g_medio' el valor asociado a la respuesta No: 0=No."
   ]
  },
  {
   "cell_type": "code",
   "execution_count": 206,
   "metadata": {},
   "outputs": [
    {
     "data": {
      "text/plain": [
       "array([2, 1])"
      ]
     },
     "execution_count": 206,
     "metadata": {},
     "output_type": "execute_result"
    }
   ],
   "source": [
    "df['EST_B11_6'].unique() # Sin no informados"
   ]
  },
  {
   "cell_type": "code",
   "execution_count": 207,
   "metadata": {},
   "outputs": [
    {
     "name": "stdout",
     "output_type": "stream",
     "text": [
      "          aux_traduce\n",
      "               unique\n",
      "EST_B11_6            \n",
      "1                [Sí]\n",
      "2                [No]\n"
     ]
    }
   ],
   "source": [
    "traduce('EST_B11_6')"
   ]
  },
  {
   "cell_type": "code",
   "execution_count": 208,
   "metadata": {},
   "outputs": [
    {
     "name": "stdout",
     "output_type": "stream",
     "text": [
      "        aux_traduce\n",
      "             unique\n",
      "g_medio            \n",
      "0              [No]\n",
      "1              [Sí]\n"
     ]
    }
   ],
   "source": [
    "redefine('EST_B11_6','g_medio',si_no=True)"
   ]
  },
  {
   "cell_type": "markdown",
   "metadata": {},
   "source": [
    "## 'EST_B12' \n",
    "(Solo para quienes declaran haber terminado estudios de grado, diplomatura, licenciatura o equivalente)  \n",
    "\n",
    "**Número de otros estudios de grado**, diplomatura, licenciatura o equivalente, incluyendo el que le dio acceso a los estudios de máster."
   ]
  },
  {
   "cell_type": "code",
   "execution_count": 209,
   "metadata": {},
   "outputs": [
    {
     "data": {
      "text/plain": [
       "array(['1', '2', '3', ' '], dtype=object)"
      ]
     },
     "execution_count": 209,
     "metadata": {},
     "output_type": "execute_result"
    }
   ],
   "source": [
    "df['EST_B12'].unique() # No informados como ' '"
   ]
  },
  {
   "cell_type": "code",
   "execution_count": 210,
   "metadata": {},
   "outputs": [
    {
     "name": "stdout",
     "output_type": "stream",
     "text": [
      "            aux_traduce\n",
      "                 unique\n",
      "EST_B12                \n",
      "         [No aplicable]\n",
      "1                 [Uno]\n",
      "2                [Dos ]\n",
      "3          [Tres o más]\n"
     ]
    }
   ],
   "source": [
    "traduce('EST_B12')"
   ]
  },
  {
   "cell_type": "markdown",
   "metadata": {},
   "source": [
    "##  Nueva variable 'n_grados'     \n",
    "**Número de títulos de grado**, diplomatura, licenciatura o equivalente."
   ]
  },
  {
   "cell_type": "code",
   "execution_count": 211,
   "metadata": {},
   "outputs": [
    {
     "data": {
      "text/html": [
       "<div>\n",
       "<style scoped>\n",
       "    .dataframe tbody tr th:only-of-type {\n",
       "        vertical-align: middle;\n",
       "    }\n",
       "\n",
       "    .dataframe tbody tr th {\n",
       "        vertical-align: top;\n",
       "    }\n",
       "\n",
       "    .dataframe thead tr th {\n",
       "        text-align: left;\n",
       "    }\n",
       "\n",
       "    .dataframe thead tr:last-of-type th {\n",
       "        text-align: right;\n",
       "    }\n",
       "</style>\n",
       "<table border=\"1\" class=\"dataframe\">\n",
       "  <thead>\n",
       "    <tr>\n",
       "      <th></th>\n",
       "      <th>EST_B12</th>\n",
       "    </tr>\n",
       "    <tr>\n",
       "      <th></th>\n",
       "      <th>unique</th>\n",
       "    </tr>\n",
       "    <tr>\n",
       "      <th>n_grados</th>\n",
       "      <th></th>\n",
       "    </tr>\n",
       "  </thead>\n",
       "  <tbody>\n",
       "    <tr>\n",
       "      <th>0</th>\n",
       "      <td>[ ]</td>\n",
       "    </tr>\n",
       "    <tr>\n",
       "      <th>1</th>\n",
       "      <td>[1]</td>\n",
       "    </tr>\n",
       "    <tr>\n",
       "      <th>2</th>\n",
       "      <td>[2]</td>\n",
       "    </tr>\n",
       "    <tr>\n",
       "      <th>3</th>\n",
       "      <td>[3]</td>\n",
       "    </tr>\n",
       "  </tbody>\n",
       "</table>\n",
       "</div>"
      ],
      "text/plain": [
       "         EST_B12\n",
       "          unique\n",
       "n_grados        \n",
       "0            [ ]\n",
       "1            [1]\n",
       "2            [2]\n",
       "3            [3]"
      ]
     },
     "execution_count": 211,
     "metadata": {},
     "output_type": "execute_result"
    }
   ],
   "source": [
    "df['n_grados']=df['EST_B12'].replace({' ':0}).astype('int')\n",
    "df[['n_grados','EST_B12']].groupby('n_grados').agg(['unique']) # Comprobación"
   ]
  },
  {
   "cell_type": "code",
   "execution_count": 212,
   "metadata": {},
   "outputs": [
    {
     "data": {
      "text/plain": [
       "1    9037\n",
       "2    2152\n",
       "3     213\n",
       "0      81\n",
       "Name: n_grados, dtype: int64"
      ]
     },
     "execution_count": 212,
     "metadata": {},
     "output_type": "execute_result"
    }
   ],
   "source": [
    "df['n_grados'].value_counts() "
   ]
  },
  {
   "cell_type": "code",
   "execution_count": 213,
   "metadata": {},
   "outputs": [],
   "source": [
    "a_lista('n_grados')"
   ]
  },
  {
   "cell_type": "markdown",
   "metadata": {},
   "source": [
    "## 'EST_B13_AMB1' (redefinida como 'ambito_g1')\n",
    "(Solo para quienes declaran haber terminado estudios de grado, diplomatura, licenciatura o equivalente) \n",
    "\n",
    "**Ambito de estudio del primer grado**, diplomatura, licenciatura o equivalente en el que está titulado.  \n",
    "\n",
    "Esta clasificación de ámbitos de estudios sigue el criterio definido para los títulos de grado, más fino que el aplicado a los títulos de máster. "
   ]
  },
  {
   "cell_type": "code",
   "execution_count": 214,
   "metadata": {},
   "outputs": [],
   "source": [
    "reset('EST_B13_AMB1')"
   ]
  },
  {
   "cell_type": "code",
   "execution_count": 215,
   "metadata": {},
   "outputs": [
    {
     "data": {
      "text/plain": [
       "array(['    ', '011 ', '0112', '0113', '021 ', '0211', '022 ', '023 ',\n",
       "       '031 ', '0311', '0313', '032 ', '041 ', '0413', '042 ', '051 ',\n",
       "       '052 ', '053 ', '054 ', '061 ', '071 ', '072 ', '073 ', '081 ',\n",
       "       '082 ', '084 ', '091 ', '0912', '0913', '092 ', '1014', '1015',\n",
       "       '109 ', '9999'], dtype=object)"
      ]
     },
     "execution_count": 215,
     "metadata": {},
     "output_type": "execute_result"
    }
   ],
   "source": [
    "df['EST_B13_AMB1'].sort_values().unique() # No informados como '    ' o '9999'"
   ]
  },
  {
   "cell_type": "code",
   "execution_count": 216,
   "metadata": {},
   "outputs": [
    {
     "data": {
      "text/plain": [
       "34"
      ]
     },
     "execution_count": 216,
     "metadata": {},
     "output_type": "execute_result"
    }
   ],
   "source": [
    "df['EST_B13_AMB1'].nunique()"
   ]
  },
  {
   "cell_type": "code",
   "execution_count": 217,
   "metadata": {
    "scrolled": false
   },
   "outputs": [
    {
     "name": "stdout",
     "output_type": "stream",
     "text": [
      "                                                             aux_traduce\n",
      "                                                                  unique\n",
      "EST_B13_AMB1                                                            \n",
      "                                                                      []\n",
      "011                                        [Educación (Otros estudios) ]\n",
      "0112                      [Formación de docentes de enseñanza infantil ]\n",
      "0113                      [Formación de docentes de enseñanza primaria ]\n",
      "021                                            [Artes (Otros estudios) ]\n",
      "0211                  [Técnicas audiovisuales y medios de comunicación ]\n",
      "022                                                       [Humanidades ]\n",
      "023                                                           [Lenguas ]\n",
      "031           [Ciencias sociales y del comportamiento (Otros estudios) ]\n",
      "0311                                                         [Economía ]\n",
      "0313                                                       [Psicología ]\n",
      "032                                        [Periodismo y documentación ]\n",
      "041                        [Negocios y administración (Otros estudios) ]\n",
      "0413                                       [Dirección y administración ]\n",
      "042                                                           [Derecho ]\n",
      "051                                               [Ciencias de la vida ]\n",
      "052                                                    [Medio ambiente ]\n",
      "053                           [Ciencias químicas, físicas y geológicas ]\n",
      "054                                         [Matemáticas y estadística ]\n",
      "061                                                        [Informática]\n",
      "071                                   [Ingeniería y profesiones afines ]\n",
      "072                              [Industria manufacturera y producción ]\n",
      "073                                       [Arquitectura y construcción ]\n",
      "081                                           [Agricultura y ganadería ]\n",
      "082                                                      [Silvicultura ]\n",
      "084                                                       [Veterinaria ]\n",
      "091                                            [Salud (Otros estudios) ]\n",
      "0912                                                         [Medicina ]\n",
      "0913                                                       [Enfermería ]\n",
      "092                                                [Servicios sociales ]\n",
      "1014                                 [Actividades físicas y deportivas ]\n",
      "1015                                           [Viajes, turismo y ocio ]\n",
      "109                                        [Servicios (Otros estudios) ]\n",
      "9999                                                             [NS/NC]\n"
     ]
    }
   ],
   "source": [
    "# Ajuste en formato:\n",
    "df['EST_B13_AMB1']=df['EST_B13_AMB1'].str.strip()\n",
    "# Ajuste en diccionario (leyenda de ámbito de estudios de grado en encuesta titulados de máster)\n",
    "D_dict['EST_B13_AMB1']=diccionario('T4AMBIT')\n",
    "traduce('EST_B13_AMB1')"
   ]
  },
  {
   "cell_type": "code",
   "execution_count": 218,
   "metadata": {},
   "outputs": [],
   "source": [
    "def re_otros_estudios(col,nuevo='',n=0,blank=' ',nsnc='9',trad=True):\n",
    "    \"\"\"Inspección e imputación de valores de col. condicionadas por la respuesta sobre los estudios otros_estudios\n",
    "    Si se especifica un valor n y un nombre 'nuevo', crea una variable 'nuevo' para la que define \n",
    "    valor 0 = No tiene n títulos de otros_estudios. Se añade la variable nueva a la lista de variables para \n",
    "    modelos descriptivos o predicctivos.\n",
    "    \"\"\"\n",
    "    # Se imputa None a respuestas en blanco y NS/NC:\n",
    "    try: df[col].replace({blank:None,nsnc:None},inplace=True)\n",
    "    except: \n",
    "        df[col]=df[col].astype('O')\n",
    "        df[col].replace({blank:None,nsnc:None},inplace=True) # Resuelve conflictos cuando se aplica varias veces\n",
    "    try: df[col]=df[col].astype('float')\n",
    "    except:pass\n",
    "    if trad==True: traduce(col,check=False)\n",
    "    if len(nuevo)>0 and n>0:\n",
    "        df[nuevo]=df[col]\n",
    "        D_dict[nuevo]=D_dict[col]\n",
    "        traduce(nuevo,check=False)\n",
    "        print(df[[str(nuevo)+'_',otros_estudios]].groupby(otros_estudios).agg(['unique']))\n",
    "        # Se imputa valor 0 ('No tiene') a quienes tienen menos de n títulos: \n",
    "        df[nuevo].mask(df[otros_estudios]<n,0,inplace=True)\n",
    "        D_dict[nuevo][0]='No tiene'\n",
    "        D_dict[nuevo][str(0)]='No tiene'\n",
    "        # Se imputa valor 1 ('No conocido') a las observaciones no informadas con al menos n títulos: \n",
    "        df[nuevo].mask((df[nuevo].isna()) & (df[otros_estudios]>=n),1,inplace=True)\n",
    "        D_dict[nuevo][1]='No conocido'\n",
    "        D_dict[nuevo][str(1)]='No conocido'\n",
    "        traduce(nuevo,check=False)\n",
    "        print(df[[str(nuevo)+'_',otros_estudios]].groupby(otros_estudios).agg(['unique']))\n",
    "        if str(nuevo) not in v_modelos:\n",
    "            v_modelos.append(nuevo)\n",
    "        if str(nuevo)+'_' not in v_modelos_L:\n",
    "            v_modelos_L.append(str(nuevo)+'_')\n",
    "    else: print (df[col].sort_values().unique())\n",
    "    return"
   ]
  },
  {
   "cell_type": "code",
   "execution_count": 219,
   "metadata": {},
   "outputs": [],
   "source": [
    "# Se establece la variable otros_estudios referida a otros estudios de grado: \n",
    "otros_estudios='n_grados'"
   ]
  },
  {
   "cell_type": "code",
   "execution_count": 220,
   "metadata": {},
   "outputs": [
    {
     "name": "stdout",
     "output_type": "stream",
     "text": [
      "                                                                                                                                                                                                                                                                                                           ambito_g1_\n",
      "                                                                                                                                                                                                                                                                                                               unique\n",
      "n_grados                                                                                                                                                                                                                                                                                                             \n",
      "0                                                                                                                                                                                                                                                                                                               [nan]\n",
      "1         [Salud (Otros estudios) , Informática, Ciencias químicas, físicas y geológicas , Ciencias de la vida , Artes (Otros estudios) , Humanidades , Derecho , Ingeniería y profesiones afines , Dirección y administración , Psicología , Lenguas , Formación de docentes de enseñanza primaria , Negocios y a...\n",
      "2         [Educación (Otros estudios) , Arquitectura y construcción , Ingeniería y profesiones afines , Derecho , Periodismo y documentación , Actividades físicas y deportivas , Agricultura y ganadería , Dirección y administración , nan, Formación de docentes de enseñanza primaria , Informática, Ciencias ...\n",
      "3         [Industria manufacturera y producción , Dirección y administración , Formación de docentes de enseñanza infantil , Arquitectura y construcción , Periodismo y documentación , Formación de docentes de enseñanza primaria , Educación (Otros estudios) , Ciencias químicas, físicas y geológicas , Ingen...\n",
      "                                                                                                                                                                                                                                                                                                           ambito_g1_\n",
      "                                                                                                                                                                                                                                                                                                               unique\n",
      "n_grados                                                                                                                                                                                                                                                                                                             \n",
      "0                                                                                                                                                                                                                                                                                                          [No tiene]\n",
      "1         [Salud (Otros estudios) , Informática, Ciencias químicas, físicas y geológicas , Ciencias de la vida , Artes (Otros estudios) , Humanidades , Derecho , Ingeniería y profesiones afines , Dirección y administración , Psicología , Lenguas , Formación de docentes de enseñanza primaria , Negocios y a...\n",
      "2         [Educación (Otros estudios) , Arquitectura y construcción , Ingeniería y profesiones afines , Derecho , Periodismo y documentación , Actividades físicas y deportivas , Agricultura y ganadería , Dirección y administración , No conocido, Formación de docentes de enseñanza primaria , Informática, C...\n",
      "3         [Industria manufacturera y producción , Dirección y administración , Formación de docentes de enseñanza infantil , Arquitectura y construcción , Periodismo y documentación , Formación de docentes de enseñanza primaria , Educación (Otros estudios) , Ciencias químicas, físicas y geológicas , Ingen...\n"
     ]
    }
   ],
   "source": [
    "re_otros_estudios('EST_B13_AMB1',nuevo='ambito_g1',n=1,blank='',nsnc='9999')"
   ]
  },
  {
   "cell_type": "code",
   "execution_count": 221,
   "metadata": {},
   "outputs": [
    {
     "name": "stdout",
     "output_type": "stream",
     "text": [
      "                                                          aux_traduce\n",
      "                                                               unique\n",
      "ambito_g1                                                            \n",
      "0.0                                                        [No tiene]\n",
      "1.0                                                     [No conocido]\n",
      "11.0                                    [Educación (Otros estudios) ]\n",
      "21.0                                        [Artes (Otros estudios) ]\n",
      "22.0                                                   [Humanidades ]\n",
      "23.0                                                       [Lenguas ]\n",
      "31.0       [Ciencias sociales y del comportamiento (Otros estudios) ]\n",
      "32.0                                    [Periodismo y documentación ]\n",
      "41.0                    [Negocios y administración (Otros estudios) ]\n",
      "42.0                                                       [Derecho ]\n",
      "51.0                                           [Ciencias de la vida ]\n",
      "52.0                                                [Medio ambiente ]\n",
      "53.0                       [Ciencias químicas, físicas y geológicas ]\n",
      "54.0                                     [Matemáticas y estadística ]\n",
      "61.0                                                    [Informática]\n",
      "71.0                               [Ingeniería y profesiones afines ]\n",
      "72.0                          [Industria manufacturera y producción ]\n",
      "73.0                                   [Arquitectura y construcción ]\n",
      "81.0                                       [Agricultura y ganadería ]\n",
      "82.0                                                  [Silvicultura ]\n",
      "84.0                                                   [Veterinaria ]\n",
      "91.0                                        [Salud (Otros estudios) ]\n",
      "92.0                                            [Servicios sociales ]\n",
      "109.0                                   [Servicios (Otros estudios) ]\n",
      "112.0                  [Formación de docentes de enseñanza infantil ]\n",
      "113.0                  [Formación de docentes de enseñanza primaria ]\n",
      "211.0              [Técnicas audiovisuales y medios de comunicación ]\n",
      "311.0                                                     [Economía ]\n",
      "313.0                                                   [Psicología ]\n",
      "413.0                                   [Dirección y administración ]\n",
      "912.0                                                     [Medicina ]\n",
      "913.0                                                   [Enfermería ]\n",
      "1014.0                            [Actividades físicas y deportivas ]\n",
      "1015.0                                      [Viajes, turismo y ocio ]\n"
     ]
    }
   ],
   "source": [
    "traduce('ambito_g1')"
   ]
  },
  {
   "cell_type": "code",
   "execution_count": 222,
   "metadata": {},
   "outputs": [
    {
     "data": {
      "text/plain": [
       "Ingeniería y profesiones afines                             1179\n",
       "Dirección y administración                                   823\n",
       "Ciencias de la vida                                          749\n",
       "Lenguas                                                      681\n",
       "Educación (Otros estudios)                                   616\n",
       "Arquitectura y construcción                                  611\n",
       "Ciencias químicas, físicas y geológicas                      581\n",
       "Derecho                                                      552\n",
       "Humanidades                                                  550\n",
       "Salud (Otros estudios)                                       430\n",
       "Informática                                                  420\n",
       "Artes (Otros estudios)                                       356\n",
       "Enfermería                                                   349\n",
       "Psicología                                                   338\n",
       "No conocido                                                  331\n",
       "Actividades físicas y deportivas                             250\n",
       "Formación de docentes de enseñanza primaria                  243\n",
       "Periodismo y documentación                                   242\n",
       "Medio ambiente                                               216\n",
       "Ciencias sociales y del comportamiento (Otros estudios)      210\n",
       "Matemáticas y estadística                                    193\n",
       "Agricultura y ganadería                                      193\n",
       "Economía                                                     191\n",
       "Formación de docentes de enseñanza infantil                  169\n",
       "Medicina                                                     166\n",
       "Servicios sociales                                           140\n",
       "Viajes, turismo y ocio                                       128\n",
       "Veterinaria                                                  105\n",
       "Técnicas audiovisuales y medios de comunicación               96\n",
       "Industria manufacturera y producción                          87\n",
       "Negocios y administración (Otros estudios)                    84\n",
       "No tiene                                                      81\n",
       "Silvicultura                                                  80\n",
       "Servicios (Otros estudios)                                    43\n",
       "Name: ambito_g1_, dtype: int64"
      ]
     },
     "execution_count": 222,
     "metadata": {},
     "output_type": "execute_result"
    }
   ],
   "source": [
    "df['ambito_g1_'].value_counts()"
   ]
  },
  {
   "cell_type": "markdown",
   "metadata": {},
   "source": [
    "# Nueva variable 'rama_g1'\n",
    "**Rama de conocimiento de la primera titulación de grado** universitario."
   ]
  },
  {
   "cell_type": "code",
   "execution_count": 223,
   "metadata": {},
   "outputs": [],
   "source": [
    "# Columna nueva: rama de conocimiento asociada al ámbito declarado: \n",
    "df['rama_g1']=df['ambito_g1'].astype('float').replace(D_ambito_a_rama)"
   ]
  },
  {
   "cell_type": "code",
   "execution_count": 224,
   "metadata": {},
   "outputs": [
    {
     "data": {
      "text/plain": [
       "array([5., 3., 4., 2., 1., 6., 0.])"
      ]
     },
     "execution_count": 224,
     "metadata": {},
     "output_type": "execute_result"
    }
   ],
   "source": [
    "df['rama_g1'].unique()"
   ]
  },
  {
   "cell_type": "code",
   "execution_count": 225,
   "metadata": {},
   "outputs": [
    {
     "name": "stdout",
     "output_type": "stream",
     "text": [
      "                             aux_traduce\n",
      "                                  unique\n",
      "rama_g1                                 \n",
      "0.0            [No tiene o no informada]\n",
      "1.0                [Artes y humanidades]\n",
      "2.0                           [Ciencias]\n",
      "3.0      [Ciencias sociales y jurídicas]\n",
      "4.0          [Ingeniería y arquitectura]\n",
      "5.0               [Ciencias de la salud]\n",
      "6.0                          [Servicios]\n"
     ]
    }
   ],
   "source": [
    "traduce('rama_g1')"
   ]
  },
  {
   "cell_type": "code",
   "execution_count": 226,
   "metadata": {},
   "outputs": [
    {
     "data": {
      "text/html": [
       "<div>\n",
       "<style scoped>\n",
       "    .dataframe tbody tr th:only-of-type {\n",
       "        vertical-align: middle;\n",
       "    }\n",
       "\n",
       "    .dataframe tbody tr th {\n",
       "        vertical-align: top;\n",
       "    }\n",
       "\n",
       "    .dataframe thead tr th {\n",
       "        text-align: left;\n",
       "    }\n",
       "\n",
       "    .dataframe thead tr:last-of-type th {\n",
       "        text-align: right;\n",
       "    }\n",
       "</style>\n",
       "<table border=\"1\" class=\"dataframe\">\n",
       "  <thead>\n",
       "    <tr>\n",
       "      <th></th>\n",
       "      <th>rama_g1_</th>\n",
       "    </tr>\n",
       "    <tr>\n",
       "      <th></th>\n",
       "      <th>unique</th>\n",
       "    </tr>\n",
       "    <tr>\n",
       "      <th>EST_B13_AMB1_</th>\n",
       "      <th></th>\n",
       "    </tr>\n",
       "  </thead>\n",
       "  <tbody>\n",
       "    <tr>\n",
       "      <th>Actividades físicas y deportivas</th>\n",
       "      <td>[Servicios]</td>\n",
       "    </tr>\n",
       "    <tr>\n",
       "      <th>Agricultura y ganadería</th>\n",
       "      <td>[Ingeniería y arquitectura]</td>\n",
       "    </tr>\n",
       "    <tr>\n",
       "      <th>Arquitectura y construcción</th>\n",
       "      <td>[Ingeniería y arquitectura]</td>\n",
       "    </tr>\n",
       "    <tr>\n",
       "      <th>Artes (Otros estudios)</th>\n",
       "      <td>[Artes y humanidades]</td>\n",
       "    </tr>\n",
       "    <tr>\n",
       "      <th>Ciencias de la vida</th>\n",
       "      <td>[Ciencias]</td>\n",
       "    </tr>\n",
       "    <tr>\n",
       "      <th>Ciencias químicas, físicas y geológicas</th>\n",
       "      <td>[Ciencias]</td>\n",
       "    </tr>\n",
       "    <tr>\n",
       "      <th>Ciencias sociales y del comportamiento (Otros estudios)</th>\n",
       "      <td>[Ciencias sociales y jurídicas]</td>\n",
       "    </tr>\n",
       "    <tr>\n",
       "      <th>Derecho</th>\n",
       "      <td>[Ciencias sociales y jurídicas]</td>\n",
       "    </tr>\n",
       "    <tr>\n",
       "      <th>Dirección y administración</th>\n",
       "      <td>[Ciencias sociales y jurídicas]</td>\n",
       "    </tr>\n",
       "    <tr>\n",
       "      <th>Economía</th>\n",
       "      <td>[Ciencias sociales y jurídicas]</td>\n",
       "    </tr>\n",
       "    <tr>\n",
       "      <th>Educación (Otros estudios)</th>\n",
       "      <td>[Ciencias sociales y jurídicas]</td>\n",
       "    </tr>\n",
       "    <tr>\n",
       "      <th>Enfermería</th>\n",
       "      <td>[Ciencias de la salud]</td>\n",
       "    </tr>\n",
       "    <tr>\n",
       "      <th>Formación de docentes de enseñanza infantil</th>\n",
       "      <td>[Ciencias sociales y jurídicas]</td>\n",
       "    </tr>\n",
       "    <tr>\n",
       "      <th>Formación de docentes de enseñanza primaria</th>\n",
       "      <td>[Ciencias sociales y jurídicas]</td>\n",
       "    </tr>\n",
       "    <tr>\n",
       "      <th>Humanidades</th>\n",
       "      <td>[Artes y humanidades]</td>\n",
       "    </tr>\n",
       "  </tbody>\n",
       "</table>\n",
       "</div>"
      ],
      "text/plain": [
       "                                                                                 rama_g1_\n",
       "                                                                                   unique\n",
       "EST_B13_AMB1_                                                                            \n",
       "Actividades físicas y deportivas                                              [Servicios]\n",
       "Agricultura y ganadería                                       [Ingeniería y arquitectura]\n",
       "Arquitectura y construcción                                   [Ingeniería y arquitectura]\n",
       "Artes (Otros estudios)                                              [Artes y humanidades]\n",
       "Ciencias de la vida                                                            [Ciencias]\n",
       "Ciencias químicas, físicas y geológicas                                        [Ciencias]\n",
       "Ciencias sociales y del comportamiento (Otros estudios)   [Ciencias sociales y jurídicas]\n",
       "Derecho                                                   [Ciencias sociales y jurídicas]\n",
       "Dirección y administración                                [Ciencias sociales y jurídicas]\n",
       "Economía                                                  [Ciencias sociales y jurídicas]\n",
       "Educación (Otros estudios)                                [Ciencias sociales y jurídicas]\n",
       "Enfermería                                                         [Ciencias de la salud]\n",
       "Formación de docentes de enseñanza infantil               [Ciencias sociales y jurídicas]\n",
       "Formación de docentes de enseñanza primaria               [Ciencias sociales y jurídicas]\n",
       "Humanidades                                                         [Artes y humanidades]"
      ]
     },
     "execution_count": 226,
     "metadata": {},
     "output_type": "execute_result"
    }
   ],
   "source": [
    "df[['EST_B13_AMB1_','rama_g1_']].groupby('EST_B13_AMB1_').agg(['unique']).head(15) # Comprobación "
   ]
  },
  {
   "cell_type": "code",
   "execution_count": 227,
   "metadata": {},
   "outputs": [],
   "source": [
    "# Actualización variables 'n_rama' (rama=art_hum, ciencias, cc_soc_ju, ing_arq, cc_salud)\n",
    "actualiza_ramas('rama_g1')"
   ]
  },
  {
   "cell_type": "code",
   "execution_count": 228,
   "metadata": {},
   "outputs": [
    {
     "data": {
      "text/html": [
       "<div>\n",
       "<style scoped>\n",
       "    .dataframe tbody tr th:only-of-type {\n",
       "        vertical-align: middle;\n",
       "    }\n",
       "\n",
       "    .dataframe tbody tr th {\n",
       "        vertical-align: top;\n",
       "    }\n",
       "\n",
       "    .dataframe thead tr th {\n",
       "        text-align: left;\n",
       "    }\n",
       "\n",
       "    .dataframe thead tr:last-of-type th {\n",
       "        text-align: right;\n",
       "    }\n",
       "</style>\n",
       "<table border=\"1\" class=\"dataframe\">\n",
       "  <thead>\n",
       "    <tr>\n",
       "      <th></th>\n",
       "      <th></th>\n",
       "      <th></th>\n",
       "      <th></th>\n",
       "      <th></th>\n",
       "      <th></th>\n",
       "      <th>rama_g1_</th>\n",
       "    </tr>\n",
       "    <tr>\n",
       "      <th></th>\n",
       "      <th></th>\n",
       "      <th></th>\n",
       "      <th></th>\n",
       "      <th></th>\n",
       "      <th></th>\n",
       "      <th>unique</th>\n",
       "    </tr>\n",
       "    <tr>\n",
       "      <th>n_art_hum</th>\n",
       "      <th>n_ciencias</th>\n",
       "      <th>n_cc_soc_ju</th>\n",
       "      <th>n_ing_arq</th>\n",
       "      <th>n_cc_salud</th>\n",
       "      <th>n_servicios</th>\n",
       "      <th></th>\n",
       "    </tr>\n",
       "  </thead>\n",
       "  <tbody>\n",
       "    <tr>\n",
       "      <th rowspan=\"18\" valign=\"top\">0</th>\n",
       "      <th rowspan=\"12\" valign=\"top\">0</th>\n",
       "      <th rowspan=\"7\" valign=\"top\">0</th>\n",
       "      <th rowspan=\"4\" valign=\"top\">0</th>\n",
       "      <th rowspan=\"2\" valign=\"top\">0</th>\n",
       "      <th>1</th>\n",
       "      <td>[No tiene o no informada]</td>\n",
       "    </tr>\n",
       "    <tr>\n",
       "      <th>2</th>\n",
       "      <td>[Servicios]</td>\n",
       "    </tr>\n",
       "    <tr>\n",
       "      <th>1</th>\n",
       "      <th>1</th>\n",
       "      <td>[Ciencias de la salud, Servicios]</td>\n",
       "    </tr>\n",
       "    <tr>\n",
       "      <th>2</th>\n",
       "      <th>0</th>\n",
       "      <td>[Ciencias de la salud]</td>\n",
       "    </tr>\n",
       "    <tr>\n",
       "      <th rowspan=\"2\" valign=\"top\">1</th>\n",
       "      <th>0</th>\n",
       "      <th>1</th>\n",
       "      <td>[Servicios, Ingeniería y arquitectura]</td>\n",
       "    </tr>\n",
       "    <tr>\n",
       "      <th>1</th>\n",
       "      <th>0</th>\n",
       "      <td>[Ciencias de la salud, Ingeniería y arquitectura]</td>\n",
       "    </tr>\n",
       "    <tr>\n",
       "      <th>2</th>\n",
       "      <th>0</th>\n",
       "      <th>0</th>\n",
       "      <td>[Ingeniería y arquitectura]</td>\n",
       "    </tr>\n",
       "    <tr>\n",
       "      <th rowspan=\"4\" valign=\"top\">1</th>\n",
       "      <th rowspan=\"3\" valign=\"top\">0</th>\n",
       "      <th rowspan=\"2\" valign=\"top\">0</th>\n",
       "      <th>0</th>\n",
       "      <td>[No tiene o no informada]</td>\n",
       "    </tr>\n",
       "    <tr>\n",
       "      <th>1</th>\n",
       "      <td>[Servicios, Ciencias sociales y jurídicas]</td>\n",
       "    </tr>\n",
       "    <tr>\n",
       "      <th>1</th>\n",
       "      <th>0</th>\n",
       "      <td>[Ciencias sociales y jurídicas, Ciencias de la salud]</td>\n",
       "    </tr>\n",
       "    <tr>\n",
       "      <th>1</th>\n",
       "      <th>0</th>\n",
       "      <th>0</th>\n",
       "      <td>[Ingeniería y arquitectura, Ciencias sociales y jurídicas]</td>\n",
       "    </tr>\n",
       "    <tr>\n",
       "      <th>2</th>\n",
       "      <th>0</th>\n",
       "      <th>0</th>\n",
       "      <th>0</th>\n",
       "      <td>[Ciencias sociales y jurídicas]</td>\n",
       "    </tr>\n",
       "    <tr>\n",
       "      <th rowspan=\"5\" valign=\"top\">1</th>\n",
       "      <th rowspan=\"4\" valign=\"top\">0</th>\n",
       "      <th rowspan=\"3\" valign=\"top\">0</th>\n",
       "      <th rowspan=\"2\" valign=\"top\">0</th>\n",
       "      <th>0</th>\n",
       "      <td>[No tiene o no informada]</td>\n",
       "    </tr>\n",
       "    <tr>\n",
       "      <th>1</th>\n",
       "      <td>[Ciencias, Servicios]</td>\n",
       "    </tr>\n",
       "    <tr>\n",
       "      <th>1</th>\n",
       "      <th>0</th>\n",
       "      <td>[Ciencias, Ciencias de la salud]</td>\n",
       "    </tr>\n",
       "    <tr>\n",
       "      <th>1</th>\n",
       "      <th>0</th>\n",
       "      <th>0</th>\n",
       "      <td>[Ciencias, Ingeniería y arquitectura]</td>\n",
       "    </tr>\n",
       "    <tr>\n",
       "      <th>1</th>\n",
       "      <th>0</th>\n",
       "      <th>0</th>\n",
       "      <th>0</th>\n",
       "      <td>[Ciencias, Ciencias sociales y jurídicas]</td>\n",
       "    </tr>\n",
       "    <tr>\n",
       "      <th>2</th>\n",
       "      <th>0</th>\n",
       "      <th>0</th>\n",
       "      <th>0</th>\n",
       "      <th>0</th>\n",
       "      <td>[Ciencias]</td>\n",
       "    </tr>\n",
       "    <tr>\n",
       "      <th rowspan=\"6\" valign=\"top\">1</th>\n",
       "      <th rowspan=\"5\" valign=\"top\">0</th>\n",
       "      <th rowspan=\"4\" valign=\"top\">0</th>\n",
       "      <th rowspan=\"3\" valign=\"top\">0</th>\n",
       "      <th rowspan=\"2\" valign=\"top\">0</th>\n",
       "      <th>0</th>\n",
       "      <td>[No tiene o no informada]</td>\n",
       "    </tr>\n",
       "    <tr>\n",
       "      <th>1</th>\n",
       "      <td>[Servicios, Artes y humanidades]</td>\n",
       "    </tr>\n",
       "    <tr>\n",
       "      <th>1</th>\n",
       "      <th>0</th>\n",
       "      <td>[Artes y humanidades, Ciencias de la salud]</td>\n",
       "    </tr>\n",
       "    <tr>\n",
       "      <th>1</th>\n",
       "      <th>0</th>\n",
       "      <th>0</th>\n",
       "      <td>[Artes y humanidades, Ingeniería y arquitectura]</td>\n",
       "    </tr>\n",
       "    <tr>\n",
       "      <th>1</th>\n",
       "      <th>0</th>\n",
       "      <th>0</th>\n",
       "      <th>0</th>\n",
       "      <td>[Artes y humanidades, Ciencias sociales y jurídicas]</td>\n",
       "    </tr>\n",
       "    <tr>\n",
       "      <th>1</th>\n",
       "      <th>0</th>\n",
       "      <th>0</th>\n",
       "      <th>0</th>\n",
       "      <th>0</th>\n",
       "      <td>[Artes y humanidades, Ciencias]</td>\n",
       "    </tr>\n",
       "    <tr>\n",
       "      <th>2</th>\n",
       "      <th>0</th>\n",
       "      <th>0</th>\n",
       "      <th>0</th>\n",
       "      <th>0</th>\n",
       "      <th>0</th>\n",
       "      <td>[Artes y humanidades]</td>\n",
       "    </tr>\n",
       "  </tbody>\n",
       "</table>\n",
       "</div>"
      ],
      "text/plain": [
       "                                                                                                                     rama_g1_\n",
       "                                                                                                                       unique\n",
       "n_art_hum n_ciencias n_cc_soc_ju n_ing_arq n_cc_salud n_servicios                                                            \n",
       "0         0          0           0         0          1                                             [No tiene o no informada]\n",
       "                                                      2                                                           [Servicios]\n",
       "                                           1          1                                     [Ciencias de la salud, Servicios]\n",
       "                                           2          0                                                [Ciencias de la salud]\n",
       "                                 1         0          1                                [Servicios, Ingeniería y arquitectura]\n",
       "                                           1          0                     [Ciencias de la salud, Ingeniería y arquitectura]\n",
       "                                 2         0          0                                           [Ingeniería y arquitectura]\n",
       "                     1           0         0          0                                             [No tiene o no informada]\n",
       "                                                      1                            [Servicios, Ciencias sociales y jurídicas]\n",
       "                                           1          0                 [Ciencias sociales y jurídicas, Ciencias de la salud]\n",
       "                                 1         0          0            [Ingeniería y arquitectura, Ciencias sociales y jurídicas]\n",
       "                     2           0         0          0                                       [Ciencias sociales y jurídicas]\n",
       "          1          0           0         0          0                                             [No tiene o no informada]\n",
       "                                                      1                                                 [Ciencias, Servicios]\n",
       "                                           1          0                                      [Ciencias, Ciencias de la salud]\n",
       "                                 1         0          0                                 [Ciencias, Ingeniería y arquitectura]\n",
       "                     1           0         0          0                             [Ciencias, Ciencias sociales y jurídicas]\n",
       "          2          0           0         0          0                                                            [Ciencias]\n",
       "1         0          0           0         0          0                                             [No tiene o no informada]\n",
       "                                                      1                                      [Servicios, Artes y humanidades]\n",
       "                                           1          0                           [Artes y humanidades, Ciencias de la salud]\n",
       "                                 1         0          0                      [Artes y humanidades, Ingeniería y arquitectura]\n",
       "                     1           0         0          0                  [Artes y humanidades, Ciencias sociales y jurídicas]\n",
       "          1          0           0         0          0                                       [Artes y humanidades, Ciencias]\n",
       "2         0          0           0         0          0                                                 [Artes y humanidades]"
      ]
     },
     "execution_count": 228,
     "metadata": {},
     "output_type": "execute_result"
    }
   ],
   "source": [
    "df[L_ramas+['rama_g1_']].groupby(L_ramas).agg(['unique']) # Comprobación"
   ]
  },
  {
   "cell_type": "markdown",
   "metadata": {},
   "source": [
    "## 'EST_B14_1'     \n",
    "(Solo para quienes declaran haber terminado estudios de grado, diplomatura, licenciatura o equivalente)   \n",
    "\n",
    "**Momento en que terminó la primera titulación de grado**, diplomatura, licenciatura o equivalente mencionada."
   ]
  },
  {
   "cell_type": "code",
   "execution_count": 229,
   "metadata": {},
   "outputs": [
    {
     "data": {
      "text/plain": [
       "array([' ', '1', '2', '3', '4', '5', '6', '7', '9'], dtype=object)"
      ]
     },
     "execution_count": 229,
     "metadata": {},
     "output_type": "execute_result"
    }
   ],
   "source": [
    "df['EST_B14_1'].sort_values().unique() # No informados como ' ' o '9'"
   ]
  },
  {
   "cell_type": "code",
   "execution_count": 230,
   "metadata": {},
   "outputs": [
    {
     "name": "stdout",
     "output_type": "stream",
     "text": [
      "                      aux_traduce\n",
      "                           unique\n",
      "EST_B14_1                        \n",
      "                   [No aplicable]\n",
      "1            [Antes del año 2000]\n",
      "2             [Entre 2000 y 2010]\n",
      "3                       [En 2011]\n",
      "4                       [En 2012]\n",
      "5                       [En 2013]\n",
      "6                       [En 2014]\n",
      "7          [Después del año 2014]\n",
      "9                         [NS/NC]\n"
     ]
    }
   ],
   "source": [
    "# Ajuste en diccionario\n",
    "D_dict['EST_B14_1']=diccionario('T1ESTMN')\n",
    "traduce('EST_B14_1',save=False)"
   ]
  },
  {
   "cell_type": "code",
   "execution_count": 231,
   "metadata": {},
   "outputs": [
    {
     "name": "stdout",
     "output_type": "stream",
     "text": [
      "[ 1.  2.  3.  4.  5.  6.  7. nan]\n"
     ]
    }
   ],
   "source": [
    "re_otros_estudios('EST_B14_1',trad=False)"
   ]
  },
  {
   "cell_type": "markdown",
   "metadata": {},
   "source": [
    "## 'EST_B15_1'     \n",
    "(Solo para quienes declaran haber terminado estudios de grado, diplomatura, licenciatura o equivalente)  \n",
    "\n",
    "**Dónde estudió la segunda titulación de grado**, diplomatura, licenciatura o equivalente mencionada."
   ]
  },
  {
   "cell_type": "code",
   "execution_count": 232,
   "metadata": {},
   "outputs": [
    {
     "data": {
      "text/plain": [
       "array([' ', '1', '2', '3', '9'], dtype=object)"
      ]
     },
     "execution_count": 232,
     "metadata": {},
     "output_type": "execute_result"
    }
   ],
   "source": [
    "df['EST_B15_1'].sort_values().unique() # No informados como ' ' o '9'"
   ]
  },
  {
   "cell_type": "code",
   "execution_count": 233,
   "metadata": {},
   "outputs": [
    {
     "name": "stdout",
     "output_type": "stream",
     "text": [
      "                                                   aux_traduce\n",
      "                                                        unique\n",
      "EST_B15_1                                                     \n",
      "                                                [No aplicable]\n",
      "1                                    [Completamente en España]\n",
      "2          [Una parte en España y otra parte en el extranjero]\n",
      "3                             [Completamente en el extranjero]\n",
      "9                                                      [NS/NC]\n"
     ]
    }
   ],
   "source": [
    "traduce('EST_B15_1')"
   ]
  },
  {
   "cell_type": "code",
   "execution_count": 234,
   "metadata": {},
   "outputs": [
    {
     "name": "stdout",
     "output_type": "stream",
     "text": [
      "[ 1.  2.  3. nan]\n"
     ]
    }
   ],
   "source": [
    "re_otros_estudios('EST_B15_1')"
   ]
  },
  {
   "cell_type": "markdown",
   "metadata": {},
   "source": [
    "## Nueva variable: 'extr_proxy'\n",
    "Variable proxy de **estudios al menos en parte en el extranjero**. "
   ]
  },
  {
   "cell_type": "code",
   "execution_count": 235,
   "metadata": {},
   "outputs": [
    {
     "data": {
      "text/html": [
       "<div>\n",
       "<style scoped>\n",
       "    .dataframe tbody tr th:only-of-type {\n",
       "        vertical-align: middle;\n",
       "    }\n",
       "\n",
       "    .dataframe tbody tr th {\n",
       "        vertical-align: top;\n",
       "    }\n",
       "\n",
       "    .dataframe thead tr th {\n",
       "        text-align: left;\n",
       "    }\n",
       "\n",
       "    .dataframe thead tr:last-of-type th {\n",
       "        text-align: right;\n",
       "    }\n",
       "</style>\n",
       "<table border=\"1\" class=\"dataframe\">\n",
       "  <thead>\n",
       "    <tr>\n",
       "      <th></th>\n",
       "      <th>extr_proxy</th>\n",
       "    </tr>\n",
       "    <tr>\n",
       "      <th></th>\n",
       "      <th>unique</th>\n",
       "    </tr>\n",
       "    <tr>\n",
       "      <th>EST_B15_1_</th>\n",
       "      <th></th>\n",
       "    </tr>\n",
       "  </thead>\n",
       "  <tbody>\n",
       "    <tr>\n",
       "      <th>Completamente en España</th>\n",
       "      <td>[0]</td>\n",
       "    </tr>\n",
       "    <tr>\n",
       "      <th>Completamente en el extranjero</th>\n",
       "      <td>[1]</td>\n",
       "    </tr>\n",
       "    <tr>\n",
       "      <th>Una parte en España y otra parte en el extranjero</th>\n",
       "      <td>[1]</td>\n",
       "    </tr>\n",
       "    <tr>\n",
       "      <th>NaN</th>\n",
       "      <td>[0]</td>\n",
       "    </tr>\n",
       "  </tbody>\n",
       "</table>\n",
       "</div>"
      ],
      "text/plain": [
       "                                                  extr_proxy\n",
       "                                                      unique\n",
       "EST_B15_1_                                                  \n",
       "Completamente en España                                  [0]\n",
       "Completamente en el extranjero                           [1]\n",
       "Una parte en España y otra parte en el extranjero        [1]\n",
       "NaN                                                      [0]"
      ]
     },
     "execution_count": 235,
     "metadata": {},
     "output_type": "execute_result"
    }
   ],
   "source": [
    "df['extr_proxy']=0\n",
    "df['extr_proxy'].mask((df['EST_B15_1']==2)|(df['EST_B15_1']==3),1,inplace=True)\n",
    "df[['EST_B15_1_','extr_proxy']].groupby('EST_B15_1_',dropna=False).agg(['unique']) # Comprobación"
   ]
  },
  {
   "cell_type": "code",
   "execution_count": 236,
   "metadata": {},
   "outputs": [
    {
     "name": "stdout",
     "output_type": "stream",
     "text": [
      "                                                  aux_traduce\n",
      "                                                       unique\n",
      "extr_proxy                                                   \n",
      "0                                [No estudió fuera de España]\n",
      "1           [Al menos parte de los estudios en el extranjero]\n"
     ]
    }
   ],
   "source": [
    "traduce('extr_proxy')"
   ]
  },
  {
   "cell_type": "code",
   "execution_count": 237,
   "metadata": {},
   "outputs": [],
   "source": [
    "def actualiza_extr_proxy(col):\n",
    "    \"\"\"Actualiza la variable 'extr_proxy' añadiendo los estudios en el extranjero declarados en la variable col. \n",
    "    \"\"\"\n",
    "    df['extr_proxy'].mask((df[col]==2)|(df[col]==3),1,inplace=True)\n",
    "    traduce('extr_proxy')\n",
    "    print (df[[str(col),'extr_proxy_']].groupby(str(col),dropna=False).agg(['unique'])) # Comprobación\n",
    "    return"
   ]
  },
  {
   "cell_type": "markdown",
   "metadata": {},
   "source": [
    "## 'EST_B13_AMB2' (redefinida como 'ambito_g2')     \n",
    "(Solo para quienes declaran haber terminado estudios de grado, diplomatura, licenciatura o equivalente) \n",
    "\n",
    "**Ambito de estudio del segundo grado**, diplomatura, licenciatura o equivalente en el que está titulado."
   ]
  },
  {
   "cell_type": "code",
   "execution_count": 238,
   "metadata": {},
   "outputs": [
    {
     "data": {
      "text/plain": [
       "array(['    ', '011 ', '0112', '0113', '021 ', '0211', '022 ', '023 ',\n",
       "       '031 ', '0311', '0313', '032 ', '041 ', '0413', '042 ', '051 ',\n",
       "       '052 ', '053 ', '054 ', '061 ', '071 ', '072 ', '073 ', '081 ',\n",
       "       '082 ', '084 ', '091 ', '0912', '0913', '092 ', '1014', '1015',\n",
       "       '109 ', '9999'], dtype=object)"
      ]
     },
     "execution_count": 238,
     "metadata": {},
     "output_type": "execute_result"
    }
   ],
   "source": [
    "df['EST_B13_AMB2'].sort_values().unique() # No informados como '    ' o '9999'"
   ]
  },
  {
   "cell_type": "code",
   "execution_count": 239,
   "metadata": {},
   "outputs": [
    {
     "name": "stdout",
     "output_type": "stream",
     "text": [
      "                                                             aux_traduce\n",
      "                                                                  unique\n",
      "EST_B13_AMB2                                                            \n",
      "                                                                      []\n",
      "011                                        [Educación (Otros estudios) ]\n",
      "0112                      [Formación de docentes de enseñanza infantil ]\n",
      "0113                      [Formación de docentes de enseñanza primaria ]\n",
      "021                                            [Artes (Otros estudios) ]\n",
      "0211                  [Técnicas audiovisuales y medios de comunicación ]\n",
      "022                                                       [Humanidades ]\n",
      "023                                                           [Lenguas ]\n",
      "031           [Ciencias sociales y del comportamiento (Otros estudios) ]\n",
      "0311                                                         [Economía ]\n",
      "0313                                                       [Psicología ]\n",
      "032                                        [Periodismo y documentación ]\n",
      "041                        [Negocios y administración (Otros estudios) ]\n",
      "0413                                       [Dirección y administración ]\n",
      "042                                                           [Derecho ]\n",
      "051                                               [Ciencias de la vida ]\n",
      "052                                                    [Medio ambiente ]\n",
      "053                           [Ciencias químicas, físicas y geológicas ]\n",
      "054                                         [Matemáticas y estadística ]\n",
      "061                                                        [Informática]\n",
      "071                                   [Ingeniería y profesiones afines ]\n",
      "072                              [Industria manufacturera y producción ]\n",
      "073                                       [Arquitectura y construcción ]\n",
      "081                                           [Agricultura y ganadería ]\n",
      "082                                                      [Silvicultura ]\n",
      "084                                                       [Veterinaria ]\n",
      "091                                            [Salud (Otros estudios) ]\n",
      "0912                                                         [Medicina ]\n",
      "0913                                                       [Enfermería ]\n",
      "092                                                [Servicios sociales ]\n",
      "1014                                 [Actividades físicas y deportivas ]\n",
      "1015                                           [Viajes, turismo y ocio ]\n",
      "109                                        [Servicios (Otros estudios) ]\n",
      "9999                                                             [NS/NC]\n"
     ]
    }
   ],
   "source": [
    "# Ajuste en formato:\n",
    "df['EST_B13_AMB2']=df['EST_B13_AMB2'].str.strip()\n",
    "# Ajuste en diccionario\n",
    "D_dict['EST_B13_AMB2']=diccionario('T4AMBIT')\n",
    "traduce('EST_B13_AMB2')"
   ]
  },
  {
   "cell_type": "code",
   "execution_count": 240,
   "metadata": {},
   "outputs": [
    {
     "name": "stdout",
     "output_type": "stream",
     "text": [
      "                                                                                                                                                                                                                                                                                                           ambito_g2_\n",
      "                                                                                                                                                                                                                                                                                                               unique\n",
      "n_grados                                                                                                                                                                                                                                                                                                             \n",
      "0                                                                                                                                                                                                                                                                                                               [nan]\n",
      "1                                                                                                                                                                                                                                                                                                               [nan]\n",
      "2         [Formación de docentes de enseñanza primaria , Ingeniería y profesiones afines , Ciencias sociales y del comportamiento (Otros estudios) , Negocios y administración (Otros estudios) , Dirección y administración , Educación (Otros estudios) , Agricultura y ganadería , nan, Humanidades , Informáti...\n",
      "3         [Industria manufacturera y producción , Negocios y administración (Otros estudios) , Formación de docentes de enseñanza primaria , Arquitectura y construcción , Artes (Otros estudios) , Lenguas , Educación (Otros estudios) , Ciencias químicas, físicas y geológicas , Actividades físicas y deporti...\n",
      "                                                                                                                                                                                                                                                                                                           ambito_g2_\n",
      "                                                                                                                                                                                                                                                                                                               unique\n",
      "n_grados                                                                                                                                                                                                                                                                                                             \n",
      "0                                                                                                                                                                                                                                                                                                          [No tiene]\n",
      "1                                                                                                                                                                                                                                                                                                          [No tiene]\n",
      "2         [Formación de docentes de enseñanza primaria , Ingeniería y profesiones afines , Ciencias sociales y del comportamiento (Otros estudios) , Negocios y administración (Otros estudios) , Dirección y administración , Educación (Otros estudios) , Agricultura y ganadería , No conocido, Humanidades , I...\n",
      "3         [Industria manufacturera y producción , Negocios y administración (Otros estudios) , Formación de docentes de enseñanza primaria , Arquitectura y construcción , Artes (Otros estudios) , Lenguas , Educación (Otros estudios) , Ciencias químicas, físicas y geológicas , Actividades físicas y deporti...\n"
     ]
    }
   ],
   "source": [
    "re_otros_estudios('EST_B13_AMB2','ambito_g2',2,blank='',nsnc='9999')"
   ]
  },
  {
   "cell_type": "code",
   "execution_count": 241,
   "metadata": {},
   "outputs": [
    {
     "name": "stdout",
     "output_type": "stream",
     "text": [
      "                                                          aux_traduce\n",
      "                                                               unique\n",
      "ambito_g2                                                            \n",
      "0.0                                                        [No tiene]\n",
      "1.0                                                     [No conocido]\n",
      "11.0                                    [Educación (Otros estudios) ]\n",
      "21.0                                        [Artes (Otros estudios) ]\n",
      "22.0                                                   [Humanidades ]\n",
      "23.0                                                       [Lenguas ]\n",
      "31.0       [Ciencias sociales y del comportamiento (Otros estudios) ]\n",
      "32.0                                    [Periodismo y documentación ]\n",
      "41.0                    [Negocios y administración (Otros estudios) ]\n",
      "42.0                                                       [Derecho ]\n",
      "51.0                                           [Ciencias de la vida ]\n",
      "52.0                                                [Medio ambiente ]\n",
      "53.0                       [Ciencias químicas, físicas y geológicas ]\n",
      "54.0                                     [Matemáticas y estadística ]\n",
      "61.0                                                    [Informática]\n",
      "71.0                               [Ingeniería y profesiones afines ]\n",
      "72.0                          [Industria manufacturera y producción ]\n",
      "73.0                                   [Arquitectura y construcción ]\n",
      "81.0                                       [Agricultura y ganadería ]\n",
      "82.0                                                  [Silvicultura ]\n",
      "84.0                                                   [Veterinaria ]\n",
      "91.0                                        [Salud (Otros estudios) ]\n",
      "92.0                                            [Servicios sociales ]\n",
      "109.0                                   [Servicios (Otros estudios) ]\n",
      "112.0                  [Formación de docentes de enseñanza infantil ]\n",
      "113.0                  [Formación de docentes de enseñanza primaria ]\n",
      "211.0              [Técnicas audiovisuales y medios de comunicación ]\n",
      "311.0                                                     [Economía ]\n",
      "313.0                                                   [Psicología ]\n",
      "413.0                                   [Dirección y administración ]\n",
      "912.0                                                     [Medicina ]\n",
      "913.0                                                   [Enfermería ]\n",
      "1014.0                            [Actividades físicas y deportivas ]\n",
      "1015.0                                      [Viajes, turismo y ocio ]\n"
     ]
    }
   ],
   "source": [
    "traduce('ambito_g2')"
   ]
  },
  {
   "cell_type": "markdown",
   "metadata": {},
   "source": [
    "## Nueva variable 'rama_g2'\n",
    "**Rama de conocimiento de la segunda titulación de grado** universitario."
   ]
  },
  {
   "cell_type": "code",
   "execution_count": 242,
   "metadata": {},
   "outputs": [],
   "source": [
    "# Columna nueva: rama de conocimiento asociada al ámbito declarado: \n",
    "df['rama_g2']=df['ambito_g2'].replace(D_ambito_a_rama)"
   ]
  },
  {
   "cell_type": "code",
   "execution_count": 243,
   "metadata": {},
   "outputs": [
    {
     "data": {
      "text/plain": [
       "array([0., 3., 4., 1., 2., 6., 5.])"
      ]
     },
     "execution_count": 243,
     "metadata": {},
     "output_type": "execute_result"
    }
   ],
   "source": [
    "df['rama_g2'].unique()"
   ]
  },
  {
   "cell_type": "code",
   "execution_count": 244,
   "metadata": {},
   "outputs": [
    {
     "name": "stdout",
     "output_type": "stream",
     "text": [
      "                             aux_traduce\n",
      "                                  unique\n",
      "rama_g2                                 \n",
      "0.0            [No tiene o no informada]\n",
      "1.0                [Artes y humanidades]\n",
      "2.0                           [Ciencias]\n",
      "3.0      [Ciencias sociales y jurídicas]\n",
      "4.0          [Ingeniería y arquitectura]\n",
      "5.0               [Ciencias de la salud]\n",
      "6.0                          [Servicios]\n"
     ]
    }
   ],
   "source": [
    "traduce('rama_g2')"
   ]
  },
  {
   "cell_type": "code",
   "execution_count": 245,
   "metadata": {},
   "outputs": [],
   "source": [
    "# Actualización variables 'n_rama' (rama=art_hum, ciencias, cc_soc_ju, ing_arq, cc_salud)\n",
    "actualiza_ramas('rama_g2')"
   ]
  },
  {
   "cell_type": "code",
   "execution_count": 246,
   "metadata": {},
   "outputs": [
    {
     "name": "stdout",
     "output_type": "stream",
     "text": [
      "n_art_hum [0 1 2 3]\n",
      "n_ciencias [0 2 1 3]\n",
      "n_cc_soc_ju [0 3 1 2]\n",
      "n_ing_arq [0 2 3 1]\n",
      "n_cc_salud [2 0 1 3]\n",
      "n_servicios [0 1 2 3]\n"
     ]
    }
   ],
   "source": [
    "for rama in L_ramas:\n",
    "    print (rama,df[rama].unique()) # Inspección (comprobación no rigurosa)"
   ]
  },
  {
   "cell_type": "markdown",
   "metadata": {},
   "source": [
    "## 'EST_B14_2'     \n",
    "(Solo para quienes declaran haber terminado estudios de grado, diplomatura, licenciatura o equivalente) \n",
    "\n",
    "**Momento en que terminó la segunda titulación de grado**, diplomatura, licenciatura o equivalente mencionada."
   ]
  },
  {
   "cell_type": "code",
   "execution_count": 247,
   "metadata": {},
   "outputs": [
    {
     "data": {
      "text/plain": [
       "array([' ', '1', '2', '3', '4', '5', '6', '7', '9'], dtype=object)"
      ]
     },
     "execution_count": 247,
     "metadata": {},
     "output_type": "execute_result"
    }
   ],
   "source": [
    "df['EST_B14_2'].sort_values().unique() # No informados como ' ' o '9'"
   ]
  },
  {
   "cell_type": "code",
   "execution_count": 248,
   "metadata": {},
   "outputs": [
    {
     "name": "stdout",
     "output_type": "stream",
     "text": [
      "                      aux_traduce\n",
      "                           unique\n",
      "EST_B14_2                        \n",
      "                   [No aplicable]\n",
      "1            [Antes del año 2000]\n",
      "2             [Entre 2000 y 2010]\n",
      "3                       [En 2011]\n",
      "4                       [En 2012]\n",
      "5                       [En 2013]\n",
      "6                       [En 2014]\n",
      "7          [Después del año 2014]\n",
      "9                         [NS/NC]\n"
     ]
    }
   ],
   "source": [
    "# Ajuste en diccionario\n",
    "D_dict['EST_B14_2']=diccionario('T1ESTMN')\n",
    "traduce('EST_B14_2')"
   ]
  },
  {
   "cell_type": "code",
   "execution_count": 249,
   "metadata": {},
   "outputs": [
    {
     "name": "stdout",
     "output_type": "stream",
     "text": [
      "[ 1.  2.  3.  4.  5.  6.  7. nan]\n"
     ]
    }
   ],
   "source": [
    "re_otros_estudios('EST_B14_2')"
   ]
  },
  {
   "cell_type": "markdown",
   "metadata": {},
   "source": [
    "## 'EST_B15_2'     \n",
    "(Solo para quienes declaran haber terminado estudios de grado, diplomatura, licenciatura o equivalente) \n",
    "\n",
    "**Dónde estudió la segunda titulación de grado**, diplomatura, licenciatura o equivalente mencionada."
   ]
  },
  {
   "cell_type": "code",
   "execution_count": 250,
   "metadata": {},
   "outputs": [
    {
     "data": {
      "text/plain": [
       "array([' ', '1', '2', '3', '9'], dtype=object)"
      ]
     },
     "execution_count": 250,
     "metadata": {},
     "output_type": "execute_result"
    }
   ],
   "source": [
    "df['EST_B15_2'].sort_values().unique() # No informados como ' ' o '9'"
   ]
  },
  {
   "cell_type": "code",
   "execution_count": 251,
   "metadata": {},
   "outputs": [
    {
     "name": "stdout",
     "output_type": "stream",
     "text": [
      "                                                   aux_traduce\n",
      "                                                        unique\n",
      "EST_B15_2                                                     \n",
      "                                                [No aplicable]\n",
      "1                                    [Completamente en España]\n",
      "2          [Una parte en España y otra parte en el extranjero]\n",
      "3                             [Completamente en el extranjero]\n",
      "9                                                      [NS/NC]\n"
     ]
    }
   ],
   "source": [
    "traduce('EST_B15_2')"
   ]
  },
  {
   "cell_type": "code",
   "execution_count": 252,
   "metadata": {},
   "outputs": [
    {
     "name": "stdout",
     "output_type": "stream",
     "text": [
      "[ 1.  2.  3. nan]\n"
     ]
    }
   ],
   "source": [
    "re_otros_estudios('EST_B15_2')"
   ]
  },
  {
   "cell_type": "code",
   "execution_count": 253,
   "metadata": {},
   "outputs": [
    {
     "name": "stdout",
     "output_type": "stream",
     "text": [
      "                                                  aux_traduce\n",
      "                                                       unique\n",
      "extr_proxy                                                   \n",
      "0                                [No estudió fuera de España]\n",
      "1           [Al menos parte de los estudios en el extranjero]\n",
      "                                                                             extr_proxy_\n",
      "                                                                                  unique\n",
      "EST_B15_2                                                                               \n",
      "1.0        [No estudió fuera de España, Al menos parte de los estudios en el extranjero]\n",
      "2.0                                    [Al menos parte de los estudios en el extranjero]\n",
      "3.0                                    [Al menos parte de los estudios en el extranjero]\n",
      "NaN        [Al menos parte de los estudios en el extranjero, No estudió fuera de España]\n"
     ]
    }
   ],
   "source": [
    "actualiza_extr_proxy('EST_B15_2') "
   ]
  },
  {
   "cell_type": "markdown",
   "metadata": {},
   "source": [
    "## 'EST_B13_AMB3' (redefinida como 'ambito_g3') \n",
    "(Solo para quienes declaran haber terminado estudios de grado, diplomatura, licenciatura o equivalente) \n",
    "\n",
    "**Ambito de estudio del tercer grado**, diplomatura, licenciatura o equivalente en el que está titulado."
   ]
  },
  {
   "cell_type": "code",
   "execution_count": 254,
   "metadata": {},
   "outputs": [],
   "source": [
    "reset('EST_B13_AMB3')"
   ]
  },
  {
   "cell_type": "code",
   "execution_count": 255,
   "metadata": {},
   "outputs": [
    {
     "data": {
      "text/plain": [
       "array(['    ', '011 ', '0112', '0113', '021 ', '0211', '022 ', '023 ',\n",
       "       '031 ', '0311', '0313', '032 ', '041 ', '0413', '042 ', '051 ',\n",
       "       '053 ', '054 ', '061 ', '071 ', '072 ', '073 ', '081 ', '082 ',\n",
       "       '091 ', '0912', '0913', '092 ', '1014', '1015', '9999'],\n",
       "      dtype=object)"
      ]
     },
     "execution_count": 255,
     "metadata": {},
     "output_type": "execute_result"
    }
   ],
   "source": [
    "df['EST_B13_AMB3'].sort_values().unique() # No informados como '    ' o '9999'"
   ]
  },
  {
   "cell_type": "code",
   "execution_count": 256,
   "metadata": {},
   "outputs": [
    {
     "name": "stdout",
     "output_type": "stream",
     "text": [
      "                                                             aux_traduce\n",
      "                                                                  unique\n",
      "EST_B13_AMB3                                                            \n",
      "                                                                      []\n",
      "011                                        [Educación (Otros estudios) ]\n",
      "0112                      [Formación de docentes de enseñanza infantil ]\n",
      "0113                      [Formación de docentes de enseñanza primaria ]\n",
      "021                                            [Artes (Otros estudios) ]\n",
      "0211                  [Técnicas audiovisuales y medios de comunicación ]\n",
      "022                                                       [Humanidades ]\n",
      "023                                                           [Lenguas ]\n",
      "031           [Ciencias sociales y del comportamiento (Otros estudios) ]\n",
      "0311                                                         [Economía ]\n",
      "0313                                                       [Psicología ]\n",
      "032                                        [Periodismo y documentación ]\n",
      "041                        [Negocios y administración (Otros estudios) ]\n",
      "0413                                       [Dirección y administración ]\n",
      "042                                                           [Derecho ]\n",
      "051                                               [Ciencias de la vida ]\n",
      "053                           [Ciencias químicas, físicas y geológicas ]\n",
      "054                                         [Matemáticas y estadística ]\n",
      "061                                                        [Informática]\n",
      "071                                   [Ingeniería y profesiones afines ]\n",
      "072                              [Industria manufacturera y producción ]\n",
      "073                                       [Arquitectura y construcción ]\n",
      "081                                           [Agricultura y ganadería ]\n",
      "082                                                      [Silvicultura ]\n",
      "091                                            [Salud (Otros estudios) ]\n",
      "0912                                                         [Medicina ]\n",
      "0913                                                       [Enfermería ]\n",
      "092                                                [Servicios sociales ]\n",
      "1014                                 [Actividades físicas y deportivas ]\n",
      "1015                                           [Viajes, turismo y ocio ]\n",
      "9999                                                             [NS/NC]\n"
     ]
    }
   ],
   "source": [
    "# Ajuste en formato:\n",
    "df['EST_B13_AMB3']=df['EST_B13_AMB3'].str.strip()\n",
    "# Ajuste en diccionario\n",
    "D_dict['EST_B13_AMB3']=diccionario('T4AMBIT')\n",
    "traduce('EST_B13_AMB3')"
   ]
  },
  {
   "cell_type": "code",
   "execution_count": 257,
   "metadata": {},
   "outputs": [
    {
     "name": "stdout",
     "output_type": "stream",
     "text": [
      "                                                                                                                                                                                                                                                                                                           ambito_g3_\n",
      "                                                                                                                                                                                                                                                                                                               unique\n",
      "n_grados                                                                                                                                                                                                                                                                                                             \n",
      "0                                                                                                                                                                                                                                                                                                               [nan]\n",
      "1                                                                                                                                                                                                                                                                                                               [nan]\n",
      "2                                                                                                                                                                                                                                                                                                               [nan]\n",
      "3         [Ingeniería y profesiones afines , Economía , Educación (Otros estudios) , Arquitectura y construcción , Humanidades , Técnicas audiovisuales y medios de comunicación , Ciencias químicas, físicas y geológicas , Industria manufacturera y producción , nan, Formación de docentes de enseñanza primar...\n",
      "                                                                                                                                                                                                                                                                                                           ambito_g3_\n",
      "                                                                                                                                                                                                                                                                                                               unique\n",
      "n_grados                                                                                                                                                                                                                                                                                                             \n",
      "0                                                                                                                                                                                                                                                                                                          [No tiene]\n",
      "1                                                                                                                                                                                                                                                                                                          [No tiene]\n",
      "2                                                                                                                                                                                                                                                                                                          [No tiene]\n",
      "3         [Ingeniería y profesiones afines , Economía , Educación (Otros estudios) , Arquitectura y construcción , Humanidades , Técnicas audiovisuales y medios de comunicación , Ciencias químicas, físicas y geológicas , Industria manufacturera y producción , No conocido, Formación de docentes de enseñanz...\n"
     ]
    }
   ],
   "source": [
    "re_otros_estudios('EST_B13_AMB3','ambito_g3',3,blank='',nsnc='9999')"
   ]
  },
  {
   "cell_type": "code",
   "execution_count": 258,
   "metadata": {},
   "outputs": [
    {
     "name": "stdout",
     "output_type": "stream",
     "text": [
      "                                                          aux_traduce\n",
      "                                                               unique\n",
      "ambito_g3                                                            \n",
      "0.0                                                        [No tiene]\n",
      "1.0                                                     [No conocido]\n",
      "11.0                                    [Educación (Otros estudios) ]\n",
      "21.0                                        [Artes (Otros estudios) ]\n",
      "22.0                                                   [Humanidades ]\n",
      "23.0                                                       [Lenguas ]\n",
      "31.0       [Ciencias sociales y del comportamiento (Otros estudios) ]\n",
      "32.0                                    [Periodismo y documentación ]\n",
      "41.0                    [Negocios y administración (Otros estudios) ]\n",
      "42.0                                                       [Derecho ]\n",
      "51.0                                           [Ciencias de la vida ]\n",
      "53.0                       [Ciencias químicas, físicas y geológicas ]\n",
      "54.0                                     [Matemáticas y estadística ]\n",
      "61.0                                                    [Informática]\n",
      "71.0                               [Ingeniería y profesiones afines ]\n",
      "72.0                          [Industria manufacturera y producción ]\n",
      "73.0                                   [Arquitectura y construcción ]\n",
      "81.0                                       [Agricultura y ganadería ]\n",
      "82.0                                                  [Silvicultura ]\n",
      "91.0                                        [Salud (Otros estudios) ]\n",
      "92.0                                            [Servicios sociales ]\n",
      "112.0                  [Formación de docentes de enseñanza infantil ]\n",
      "113.0                  [Formación de docentes de enseñanza primaria ]\n",
      "211.0              [Técnicas audiovisuales y medios de comunicación ]\n",
      "311.0                                                     [Economía ]\n",
      "313.0                                                   [Psicología ]\n",
      "413.0                                   [Dirección y administración ]\n",
      "912.0                                                     [Medicina ]\n",
      "913.0                                                   [Enfermería ]\n",
      "1014.0                            [Actividades físicas y deportivas ]\n",
      "1015.0                                      [Viajes, turismo y ocio ]\n"
     ]
    }
   ],
   "source": [
    "traduce('ambito_g3')"
   ]
  },
  {
   "cell_type": "markdown",
   "metadata": {},
   "source": [
    "## Nueva variable 'rama_g3'\n",
    "**Rama de conocimiento de la tercera titulación de grado** universitario."
   ]
  },
  {
   "cell_type": "code",
   "execution_count": 259,
   "metadata": {},
   "outputs": [],
   "source": [
    "# Columna nueva: rama de conocimiento asociada al ámbito declarado: \n",
    "df['rama_g3']=df['ambito_g3'].replace(D_ambito_a_rama)"
   ]
  },
  {
   "cell_type": "code",
   "execution_count": 260,
   "metadata": {},
   "outputs": [
    {
     "data": {
      "text/plain": [
       "array([0., 4., 3., 1., 2., 5., 6.])"
      ]
     },
     "execution_count": 260,
     "metadata": {},
     "output_type": "execute_result"
    }
   ],
   "source": [
    "df['rama_g3'].unique()"
   ]
  },
  {
   "cell_type": "code",
   "execution_count": 261,
   "metadata": {},
   "outputs": [
    {
     "name": "stdout",
     "output_type": "stream",
     "text": [
      "                             aux_traduce\n",
      "                                  unique\n",
      "rama_g3                                 \n",
      "0.0            [No tiene o no informada]\n",
      "1.0                [Artes y humanidades]\n",
      "2.0                           [Ciencias]\n",
      "3.0      [Ciencias sociales y jurídicas]\n",
      "4.0          [Ingeniería y arquitectura]\n",
      "5.0               [Ciencias de la salud]\n",
      "6.0                          [Servicios]\n"
     ]
    }
   ],
   "source": [
    "traduce('rama_g3')"
   ]
  },
  {
   "cell_type": "code",
   "execution_count": 262,
   "metadata": {},
   "outputs": [],
   "source": [
    "# Actualización variables 'n_rama' (rama=art_hum, ciencias, cc_soc_ju, ing_arq, cc_salud)\n",
    "actualiza_ramas('rama_g3')"
   ]
  },
  {
   "cell_type": "code",
   "execution_count": 263,
   "metadata": {},
   "outputs": [
    {
     "name": "stdout",
     "output_type": "stream",
     "text": [
      "n_art_hum [0 1 2 4 3]\n",
      "n_ciencias [0 2 1 3 4]\n",
      "n_cc_soc_ju [0 3 1 2 4]\n",
      "n_ing_arq [0 2 3 1 4]\n",
      "n_cc_salud [2 0 1 3 4]\n",
      "n_servicios [0 1 2 3]\n"
     ]
    }
   ],
   "source": [
    "for rama in L_ramas:\n",
    "    print (rama,df[rama].unique()) # Inspección (comprobación no rigurosa)"
   ]
  },
  {
   "cell_type": "markdown",
   "metadata": {},
   "source": [
    "## 'EST_B14_3'     \n",
    "(Solo para quienes declaran haber terminado estudios de grado, diplomatura, licenciatura o equivalente)\n",
    "\n",
    "**Momento en que terminó la tercera titulación de grado**, diplomatura, licenciatura o equivalente mencionada."
   ]
  },
  {
   "cell_type": "code",
   "execution_count": 264,
   "metadata": {},
   "outputs": [
    {
     "data": {
      "text/plain": [
       "array([' ', '1', '2', '3', '4', '5', '6', '7', '9'], dtype=object)"
      ]
     },
     "execution_count": 264,
     "metadata": {},
     "output_type": "execute_result"
    }
   ],
   "source": [
    "df['EST_B14_3'].sort_values().unique() # No informados como ' ' o '9'"
   ]
  },
  {
   "cell_type": "code",
   "execution_count": 265,
   "metadata": {},
   "outputs": [
    {
     "name": "stdout",
     "output_type": "stream",
     "text": [
      "                      aux_traduce\n",
      "                           unique\n",
      "EST_B14_3                        \n",
      "                   [No aplicable]\n",
      "1            [Antes del año 2000]\n",
      "2             [Entre 2000 y 2010]\n",
      "3                       [En 2011]\n",
      "4                       [En 2012]\n",
      "5                       [En 2013]\n",
      "6                       [En 2014]\n",
      "7          [Después del año 2014]\n",
      "9                         [NS/NC]\n"
     ]
    }
   ],
   "source": [
    "# Ajuste en diccionario\n",
    "D_dict['EST_B14_3']=diccionario('T1ESTMN')\n",
    "traduce('EST_B14_3')"
   ]
  },
  {
   "cell_type": "code",
   "execution_count": 266,
   "metadata": {},
   "outputs": [
    {
     "name": "stdout",
     "output_type": "stream",
     "text": [
      "[ 1.  2.  3.  4.  5.  6.  7. nan]\n"
     ]
    }
   ],
   "source": [
    "re_otros_estudios('EST_B14_3')"
   ]
  },
  {
   "cell_type": "markdown",
   "metadata": {},
   "source": [
    "## 'EST_B15_3'     \n",
    "(Solo para quienes declaran haber terminado estudios de grado, diplomatura, licenciatura o equivalente) \n",
    "\n",
    "**Dónde estudió la tercera titulación de grado**, diplomatura, licenciatura o equivalente mencionada."
   ]
  },
  {
   "cell_type": "code",
   "execution_count": 267,
   "metadata": {},
   "outputs": [
    {
     "data": {
      "text/plain": [
       "array([' ', '1', '2', '3', '9'], dtype=object)"
      ]
     },
     "execution_count": 267,
     "metadata": {},
     "output_type": "execute_result"
    }
   ],
   "source": [
    "df['EST_B15_3'].sort_values().unique() # No informados como ' ' o '9'"
   ]
  },
  {
   "cell_type": "code",
   "execution_count": 268,
   "metadata": {},
   "outputs": [
    {
     "name": "stdout",
     "output_type": "stream",
     "text": [
      "                                                   aux_traduce\n",
      "                                                        unique\n",
      "EST_B15_3                                                     \n",
      "                                                [No aplicable]\n",
      "1                                    [Completamente en España]\n",
      "2          [Una parte en España y otra parte en el extranjero]\n",
      "3                             [Completamente en el extranjero]\n",
      "9                                                      [NS/NC]\n"
     ]
    }
   ],
   "source": [
    "traduce('EST_B15_3')"
   ]
  },
  {
   "cell_type": "code",
   "execution_count": 269,
   "metadata": {},
   "outputs": [
    {
     "name": "stdout",
     "output_type": "stream",
     "text": [
      "[ 1.  2.  3. nan]\n"
     ]
    }
   ],
   "source": [
    "re_otros_estudios('EST_B15_3')"
   ]
  },
  {
   "cell_type": "code",
   "execution_count": 270,
   "metadata": {},
   "outputs": [
    {
     "name": "stdout",
     "output_type": "stream",
     "text": [
      "                                                  aux_traduce\n",
      "                                                       unique\n",
      "extr_proxy                                                   \n",
      "0                                [No estudió fuera de España]\n",
      "1           [Al menos parte de los estudios en el extranjero]\n",
      "                                                                             extr_proxy_\n",
      "                                                                                  unique\n",
      "EST_B15_3                                                                               \n",
      "1.0        [No estudió fuera de España, Al menos parte de los estudios en el extranjero]\n",
      "2.0                                    [Al menos parte de los estudios en el extranjero]\n",
      "3.0                                    [Al menos parte de los estudios en el extranjero]\n",
      "NaN        [Al menos parte de los estudios en el extranjero, No estudió fuera de España]\n"
     ]
    }
   ],
   "source": [
    "actualiza_extr_proxy('EST_B15_3')"
   ]
  },
  {
   "cell_type": "markdown",
   "metadata": {},
   "source": [
    "## 'EST_B16'  (redefinida como 'n_master')   \n",
    "(Solo para quienes declaran haber terminado estudios de máster -respuesta 1 en variable 'EST_B11_2' (o 'varios_master')-)  \n",
    "\n",
    "**Número de títulos de máster** universitario que ha completado (sin incluir el que motiva esta encuesta)."
   ]
  },
  {
   "cell_type": "code",
   "execution_count": 271,
   "metadata": {},
   "outputs": [
    {
     "data": {
      "text/plain": [
       "array([' ', '1', '2', '3'], dtype=object)"
      ]
     },
     "execution_count": 271,
     "metadata": {},
     "output_type": "execute_result"
    }
   ],
   "source": [
    "df['EST_B16'].unique() # No informados como ' '"
   ]
  },
  {
   "cell_type": "code",
   "execution_count": 272,
   "metadata": {},
   "outputs": [
    {
     "name": "stdout",
     "output_type": "stream",
     "text": [
      "            aux_traduce\n",
      "                 unique\n",
      "EST_B16                \n",
      "         [No aplicable]\n",
      "1                 [Uno]\n",
      "2                [Dos ]\n",
      "3          [Tres o más]\n"
     ]
    }
   ],
   "source": [
    "traduce('EST_B16')"
   ]
  },
  {
   "cell_type": "code",
   "execution_count": 273,
   "metadata": {},
   "outputs": [
    {
     "data": {
      "text/html": [
       "<div>\n",
       "<style scoped>\n",
       "    .dataframe tbody tr th:only-of-type {\n",
       "        vertical-align: middle;\n",
       "    }\n",
       "\n",
       "    .dataframe tbody tr th {\n",
       "        vertical-align: top;\n",
       "    }\n",
       "\n",
       "    .dataframe thead tr th {\n",
       "        text-align: left;\n",
       "    }\n",
       "\n",
       "    .dataframe thead tr:last-of-type th {\n",
       "        text-align: right;\n",
       "    }\n",
       "</style>\n",
       "<table border=\"1\" class=\"dataframe\">\n",
       "  <thead>\n",
       "    <tr>\n",
       "      <th></th>\n",
       "      <th>EST_B16</th>\n",
       "    </tr>\n",
       "    <tr>\n",
       "      <th></th>\n",
       "      <th>unique</th>\n",
       "    </tr>\n",
       "    <tr>\n",
       "      <th>varios_master</th>\n",
       "      <th></th>\n",
       "    </tr>\n",
       "  </thead>\n",
       "  <tbody>\n",
       "    <tr>\n",
       "      <th>0</th>\n",
       "      <td>[ ]</td>\n",
       "    </tr>\n",
       "    <tr>\n",
       "      <th>1</th>\n",
       "      <td>[1, 2, 3]</td>\n",
       "    </tr>\n",
       "  </tbody>\n",
       "</table>\n",
       "</div>"
      ],
      "text/plain": [
       "                 EST_B16\n",
       "                  unique\n",
       "varios_master           \n",
       "0                    [ ]\n",
       "1              [1, 2, 3]"
      ]
     },
     "execution_count": 273,
     "metadata": {},
     "output_type": "execute_result"
    }
   ],
   "source": [
    "df[['EST_B16','varios_master']].groupby('varios_master',dropna=False).agg(['unique'])"
   ]
  },
  {
   "cell_type": "markdown",
   "metadata": {},
   "source": [
    "##  Nueva variable 'n_master'     \n",
    "**Número de títulos de máster** (incluyendo aquel que motiva esta encuesta)."
   ]
  },
  {
   "cell_type": "code",
   "execution_count": 274,
   "metadata": {},
   "outputs": [
    {
     "data": {
      "text/html": [
       "<div>\n",
       "<style scoped>\n",
       "    .dataframe tbody tr th:only-of-type {\n",
       "        vertical-align: middle;\n",
       "    }\n",
       "\n",
       "    .dataframe tbody tr th {\n",
       "        vertical-align: top;\n",
       "    }\n",
       "\n",
       "    .dataframe thead tr th {\n",
       "        text-align: left;\n",
       "    }\n",
       "\n",
       "    .dataframe thead tr:last-of-type th {\n",
       "        text-align: right;\n",
       "    }\n",
       "</style>\n",
       "<table border=\"1\" class=\"dataframe\">\n",
       "  <thead>\n",
       "    <tr>\n",
       "      <th></th>\n",
       "      <th>EST_B16</th>\n",
       "    </tr>\n",
       "    <tr>\n",
       "      <th></th>\n",
       "      <th>unique</th>\n",
       "    </tr>\n",
       "    <tr>\n",
       "      <th>n_master</th>\n",
       "      <th></th>\n",
       "    </tr>\n",
       "  </thead>\n",
       "  <tbody>\n",
       "    <tr>\n",
       "      <th>1</th>\n",
       "      <td>[ ]</td>\n",
       "    </tr>\n",
       "    <tr>\n",
       "      <th>2</th>\n",
       "      <td>[1]</td>\n",
       "    </tr>\n",
       "    <tr>\n",
       "      <th>3</th>\n",
       "      <td>[2]</td>\n",
       "    </tr>\n",
       "    <tr>\n",
       "      <th>4</th>\n",
       "      <td>[3]</td>\n",
       "    </tr>\n",
       "  </tbody>\n",
       "</table>\n",
       "</div>"
      ],
      "text/plain": [
       "         EST_B16\n",
       "          unique\n",
       "n_master        \n",
       "1            [ ]\n",
       "2            [1]\n",
       "3            [2]\n",
       "4            [3]"
      ]
     },
     "execution_count": 274,
     "metadata": {},
     "output_type": "execute_result"
    }
   ],
   "source": [
    "df['n_master']=df['EST_B16'].replace({' ':0}).astype('int')+1\n",
    "a_lista('n_master')\n",
    "df[['n_master','EST_B16']].groupby('n_master').agg(['unique']) # Comprobación"
   ]
  },
  {
   "cell_type": "code",
   "execution_count": 275,
   "metadata": {},
   "outputs": [
    {
     "data": {
      "text/html": [
       "<div>\n",
       "<style scoped>\n",
       "    .dataframe tbody tr th:only-of-type {\n",
       "        vertical-align: middle;\n",
       "    }\n",
       "\n",
       "    .dataframe tbody tr th {\n",
       "        vertical-align: top;\n",
       "    }\n",
       "\n",
       "    .dataframe thead tr th {\n",
       "        text-align: left;\n",
       "    }\n",
       "\n",
       "    .dataframe thead tr:last-of-type th {\n",
       "        text-align: right;\n",
       "    }\n",
       "</style>\n",
       "<table border=\"1\" class=\"dataframe\">\n",
       "  <thead>\n",
       "    <tr>\n",
       "      <th></th>\n",
       "      <th>n_master</th>\n",
       "    </tr>\n",
       "    <tr>\n",
       "      <th></th>\n",
       "      <th>unique</th>\n",
       "    </tr>\n",
       "    <tr>\n",
       "      <th>varios_master_</th>\n",
       "      <th></th>\n",
       "    </tr>\n",
       "  </thead>\n",
       "  <tbody>\n",
       "    <tr>\n",
       "      <th>No</th>\n",
       "      <td>[1]</td>\n",
       "    </tr>\n",
       "    <tr>\n",
       "      <th>Sí</th>\n",
       "      <td>[2, 3, 4]</td>\n",
       "    </tr>\n",
       "  </tbody>\n",
       "</table>\n",
       "</div>"
      ],
      "text/plain": [
       "                 n_master\n",
       "                   unique\n",
       "varios_master_           \n",
       "No                    [1]\n",
       "Sí              [2, 3, 4]"
      ]
     },
     "execution_count": 275,
     "metadata": {},
     "output_type": "execute_result"
    }
   ],
   "source": [
    "df[['n_master','varios_master_']].groupby('varios_master_',dropna=False).agg(['unique']) # Comprobación"
   ]
  },
  {
   "cell_type": "code",
   "execution_count": 276,
   "metadata": {},
   "outputs": [],
   "source": [
    "# Establece el valor de 'otros_estudios' referido a estudios de máster para función re_otros_estudios\n",
    "otros_estudios='n_master'"
   ]
  },
  {
   "cell_type": "markdown",
   "metadata": {},
   "source": [
    "## 'EST_B17_M1'  (redefinida como 'rama_m2')   \n",
    "(Solo para quienes declaran haber terminado otros estudios de máster -respuesta 1 en variable 'EST_B11_2' (o 'varios_master')-) \n",
    "\n",
    "**Rama de conocimiento del segundo título de máster** mencionado como completado."
   ]
  },
  {
   "cell_type": "code",
   "execution_count": 277,
   "metadata": {},
   "outputs": [
    {
     "data": {
      "text/plain": [
       "array([' ', '3', '4', '1', '5', '2'], dtype=object)"
      ]
     },
     "execution_count": 277,
     "metadata": {},
     "output_type": "execute_result"
    }
   ],
   "source": [
    "df['EST_B17_M1'].unique() # No informados como ' '"
   ]
  },
  {
   "cell_type": "code",
   "execution_count": 278,
   "metadata": {},
   "outputs": [
    {
     "name": "stdout",
     "output_type": "stream",
     "text": [
      "                                aux_traduce\n",
      "                                     unique\n",
      "EST_B17_M1                                 \n",
      "                                        [ ]\n",
      "1                             [No conocido]\n",
      "2                                [Ciencias]\n",
      "3           [Ciencias sociales y jurídicas]\n",
      "4               [Ingeniería y arquitectura]\n",
      "5                    [Ciencias de la salud]\n"
     ]
    }
   ],
   "source": [
    "traduce('EST_B17_M1')"
   ]
  },
  {
   "cell_type": "code",
   "execution_count": 279,
   "metadata": {},
   "outputs": [
    {
     "name": "stdout",
     "output_type": "stream",
     "text": [
      "                                                                                                         rama_m2_\n",
      "                                                                                                           unique\n",
      "n_master                                                                                                         \n",
      "1                                                                                                           [nan]\n",
      "2         [Ciencias sociales y jurídicas, Ingeniería y arquitectura, No conocido, Ciencias de la salud, Ciencias]\n",
      "3         [Ciencias sociales y jurídicas, Ingeniería y arquitectura, No conocido, Ciencias de la salud, Ciencias]\n",
      "4         [Ciencias, Ciencias sociales y jurídicas, Ingeniería y arquitectura, Ciencias de la salud, No conocido]\n",
      "                                                                                                         rama_m2_\n",
      "                                                                                                           unique\n",
      "n_master                                                                                                         \n",
      "1                                                                                                      [No tiene]\n",
      "2         [Ciencias sociales y jurídicas, Ingeniería y arquitectura, No conocido, Ciencias de la salud, Ciencias]\n",
      "3         [Ciencias sociales y jurídicas, Ingeniería y arquitectura, No conocido, Ciencias de la salud, Ciencias]\n",
      "4         [Ciencias, Ciencias sociales y jurídicas, Ingeniería y arquitectura, Ciencias de la salud, No conocido]\n"
     ]
    }
   ],
   "source": [
    "re_otros_estudios('EST_B17_M1','rama_m2',2)"
   ]
  },
  {
   "cell_type": "code",
   "execution_count": 280,
   "metadata": {},
   "outputs": [
    {
     "name": "stdout",
     "output_type": "stream",
     "text": [
      "                             aux_traduce\n",
      "                                  unique\n",
      "rama_m2                                 \n",
      "0.0            [No tiene o no informada]\n",
      "1.0                [Artes y humanidades]\n",
      "2.0                           [Ciencias]\n",
      "3.0      [Ciencias sociales y jurídicas]\n",
      "4.0          [Ingeniería y arquitectura]\n",
      "5.0               [Ciencias de la salud]\n"
     ]
    }
   ],
   "source": [
    "D_dict['rama_m2']=D_dict['rama_g2']\n",
    "traduce('rama_m2')"
   ]
  },
  {
   "cell_type": "code",
   "execution_count": 281,
   "metadata": {},
   "outputs": [
    {
     "data": {
      "text/html": [
       "<div>\n",
       "<style scoped>\n",
       "    .dataframe tbody tr th:only-of-type {\n",
       "        vertical-align: middle;\n",
       "    }\n",
       "\n",
       "    .dataframe tbody tr th {\n",
       "        vertical-align: top;\n",
       "    }\n",
       "\n",
       "    .dataframe thead th {\n",
       "        text-align: right;\n",
       "    }\n",
       "</style>\n",
       "<table border=\"1\" class=\"dataframe\">\n",
       "  <thead>\n",
       "    <tr style=\"text-align: right;\">\n",
       "      <th></th>\n",
       "      <th>rama_m2_</th>\n",
       "    </tr>\n",
       "  </thead>\n",
       "  <tbody>\n",
       "    <tr>\n",
       "      <th>No tiene o no informada</th>\n",
       "      <td>0.684055</td>\n",
       "    </tr>\n",
       "    <tr>\n",
       "      <th>Ciencias sociales y jurídicas</th>\n",
       "      <td>0.118784</td>\n",
       "    </tr>\n",
       "    <tr>\n",
       "      <th>Ciencias de la salud</th>\n",
       "      <td>0.057215</td>\n",
       "    </tr>\n",
       "    <tr>\n",
       "      <th>Artes y humanidades</th>\n",
       "      <td>0.054254</td>\n",
       "    </tr>\n",
       "    <tr>\n",
       "      <th>Ciencias</th>\n",
       "      <td>0.044849</td>\n",
       "    </tr>\n",
       "    <tr>\n",
       "      <th>Ingeniería y arquitectura</th>\n",
       "      <td>0.040843</td>\n",
       "    </tr>\n",
       "  </tbody>\n",
       "</table>\n",
       "</div>"
      ],
      "text/plain": [
       "                               rama_m2_\n",
       "No tiene o no informada        0.684055\n",
       "Ciencias sociales y jurídicas  0.118784\n",
       "Ciencias de la salud           0.057215\n",
       "Artes y humanidades            0.054254\n",
       "Ciencias                       0.044849\n",
       "Ingeniería y arquitectura      0.040843"
      ]
     },
     "execution_count": 281,
     "metadata": {},
     "output_type": "execute_result"
    }
   ],
   "source": [
    "proporciones('rama_m2_')"
   ]
  },
  {
   "cell_type": "code",
   "execution_count": 282,
   "metadata": {},
   "outputs": [],
   "source": [
    "# Actualización variables 'n_rama' (rama=art_hum, ciencias, cc_soc_ju, ing_arq, cc_salud)\n",
    "actualiza_ramas('rama_m2')"
   ]
  },
  {
   "cell_type": "code",
   "execution_count": 283,
   "metadata": {},
   "outputs": [
    {
     "name": "stdout",
     "output_type": "stream",
     "text": [
      "n_art_hum [0 1 2 3 4 5]\n",
      "n_ciencias [0 2 1 3 4]\n",
      "n_cc_soc_ju [0 3 1 2 4 5]\n",
      "n_ing_arq [0 2 4 1 3 5]\n",
      "n_cc_salud [2 0 1 3 4]\n",
      "n_servicios [0 1 2 3]\n"
     ]
    }
   ],
   "source": [
    "for rama in L_ramas:\n",
    "    print (rama, df[rama].unique()) # Inspección (comprobación no rigurosa)"
   ]
  },
  {
   "cell_type": "markdown",
   "metadata": {},
   "source": [
    "## 'EST_B18_1'  \n",
    "(Solo para quienes declaran haber terminado otros estudios de máster -respuesta 1 en variable 'EST_B11_2' (o 'varios_master')-) \n",
    "\n",
    "**Momento en que terminó el segundo título de máster** mencionado como completado."
   ]
  },
  {
   "cell_type": "code",
   "execution_count": 284,
   "metadata": {},
   "outputs": [
    {
     "data": {
      "text/plain": [
       "array([' ', '3', '1', '2', '9'], dtype=object)"
      ]
     },
     "execution_count": 284,
     "metadata": {},
     "output_type": "execute_result"
    }
   ],
   "source": [
    "df['EST_B18_1'].unique() # No informados como ' ' o '9'"
   ]
  },
  {
   "cell_type": "code",
   "execution_count": 285,
   "metadata": {},
   "outputs": [
    {
     "name": "stdout",
     "output_type": "stream",
     "text": [
      "                                                                              aux_traduce\n",
      "                                                                                   unique\n",
      "EST_B18_1                                                                                \n",
      "                                                                           [No aplicable]\n",
      "1                  [Antes de comenzar los estudios de la titulación que finalizó en 2014]\n",
      "2          [Durante la realización de los estudios de la titulación que finalizó en 2014]\n",
      "3                                 [Después de obtener la titulación que finalizó en 2014]\n",
      "9                                                                                 [NS/NC]\n"
     ]
    }
   ],
   "source": [
    "# Ajuste en diccionario\n",
    "D_dict['EST_B18_1']=diccionario('T2ESTMN')\n",
    "traduce('EST_B18_1')"
   ]
  },
  {
   "cell_type": "code",
   "execution_count": 286,
   "metadata": {},
   "outputs": [
    {
     "name": "stdout",
     "output_type": "stream",
     "text": [
      "[ 1.  2.  3. nan]\n"
     ]
    }
   ],
   "source": [
    "re_otros_estudios('EST_B18_1')"
   ]
  },
  {
   "cell_type": "markdown",
   "metadata": {},
   "source": [
    "## 'EST_B19_1'     \n",
    "(Solo para quienes declaran haber terminado otros estudios de máster -respuesta 1 en variable 'EST_B11_2' (o 'varios_master')-) \n",
    "\n",
    "**Dónde estudió el segundo título de máster** mencionado como completado."
   ]
  },
  {
   "cell_type": "code",
   "execution_count": 287,
   "metadata": {},
   "outputs": [
    {
     "data": {
      "text/plain": [
       "array([' ', '1', '2', '3', '9'], dtype=object)"
      ]
     },
     "execution_count": 287,
     "metadata": {},
     "output_type": "execute_result"
    }
   ],
   "source": [
    "df['EST_B19_1'].unique() # No informados como ' ' o '9'"
   ]
  },
  {
   "cell_type": "code",
   "execution_count": 288,
   "metadata": {},
   "outputs": [
    {
     "name": "stdout",
     "output_type": "stream",
     "text": [
      "                                                   aux_traduce\n",
      "                                                        unique\n",
      "EST_B19_1                                                     \n",
      "                                                [No aplicable]\n",
      "1                                    [Completamente en España]\n",
      "2          [Una parte en España y otra parte en el extranjero]\n",
      "3                             [Completamente en el extranjero]\n",
      "9                                                      [NS/NC]\n"
     ]
    }
   ],
   "source": [
    "traduce('EST_B19_1')"
   ]
  },
  {
   "cell_type": "code",
   "execution_count": 289,
   "metadata": {},
   "outputs": [
    {
     "name": "stdout",
     "output_type": "stream",
     "text": [
      "[ 1.  2.  3. nan]\n"
     ]
    }
   ],
   "source": [
    "re_otros_estudios('EST_B19_1')"
   ]
  },
  {
   "cell_type": "code",
   "execution_count": 290,
   "metadata": {},
   "outputs": [
    {
     "name": "stdout",
     "output_type": "stream",
     "text": [
      "                                                  aux_traduce\n",
      "                                                       unique\n",
      "extr_proxy                                                   \n",
      "0                                [No estudió fuera de España]\n",
      "1           [Al menos parte de los estudios en el extranjero]\n",
      "                                                                             extr_proxy_\n",
      "                                                                                  unique\n",
      "EST_B19_1                                                                               \n",
      "1.0        [No estudió fuera de España, Al menos parte de los estudios en el extranjero]\n",
      "2.0                                    [Al menos parte de los estudios en el extranjero]\n",
      "3.0                                    [Al menos parte de los estudios en el extranjero]\n",
      "NaN        [Al menos parte de los estudios en el extranjero, No estudió fuera de España]\n"
     ]
    }
   ],
   "source": [
    "actualiza_extr_proxy('EST_B19_1')"
   ]
  },
  {
   "cell_type": "markdown",
   "metadata": {},
   "source": [
    "## 'EST_B17_M2'  ( redefinida como 'rama_m3')   \n",
    "(Solo para quienes declaran haber terminado otros estudios de máster -respuesta 1 en variable 'EST_B11_2' (o 'varios_master')-)   \n",
    "\n",
    "**Rama de conocimiento del tercer título de máster** mencionado como completado.  "
   ]
  },
  {
   "cell_type": "code",
   "execution_count": 291,
   "metadata": {},
   "outputs": [
    {
     "data": {
      "text/plain": [
       "array([' ', '3', '4', '2', '1', '5'], dtype=object)"
      ]
     },
     "execution_count": 291,
     "metadata": {},
     "output_type": "execute_result"
    }
   ],
   "source": [
    "df['EST_B17_M2'].unique() # No informados como ' '"
   ]
  },
  {
   "cell_type": "code",
   "execution_count": 292,
   "metadata": {},
   "outputs": [
    {
     "name": "stdout",
     "output_type": "stream",
     "text": [
      "                                aux_traduce\n",
      "                                     unique\n",
      "EST_B17_M2                                 \n",
      "                                        [ ]\n",
      "1                             [No conocido]\n",
      "2                                [Ciencias]\n",
      "3           [Ciencias sociales y jurídicas]\n",
      "4               [Ingeniería y arquitectura]\n",
      "5                    [Ciencias de la salud]\n"
     ]
    }
   ],
   "source": [
    "traduce('EST_B17_M2')"
   ]
  },
  {
   "cell_type": "code",
   "execution_count": 293,
   "metadata": {},
   "outputs": [
    {
     "name": "stdout",
     "output_type": "stream",
     "text": [
      "                                                                                                         rama_m3_\n",
      "                                                                                                           unique\n",
      "n_master                                                                                                         \n",
      "1                                                                                                           [nan]\n",
      "2                                                                                                           [nan]\n",
      "3         [Ciencias sociales y jurídicas, Ingeniería y arquitectura, No conocido, Ciencias de la salud, Ciencias]\n",
      "4         [Ciencias, Ciencias sociales y jurídicas, Ingeniería y arquitectura, Ciencias de la salud, No conocido]\n",
      "                                                                                                         rama_m3_\n",
      "                                                                                                           unique\n",
      "n_master                                                                                                         \n",
      "1                                                                                                      [No tiene]\n",
      "2                                                                                                      [No tiene]\n",
      "3         [Ciencias sociales y jurídicas, Ingeniería y arquitectura, No conocido, Ciencias de la salud, Ciencias]\n",
      "4         [Ciencias, Ciencias sociales y jurídicas, Ingeniería y arquitectura, Ciencias de la salud, No conocido]\n"
     ]
    }
   ],
   "source": [
    "re_otros_estudios('EST_B17_M2','rama_m3',3)"
   ]
  },
  {
   "cell_type": "code",
   "execution_count": 294,
   "metadata": {},
   "outputs": [
    {
     "name": "stdout",
     "output_type": "stream",
     "text": [
      "                             aux_traduce\n",
      "                                  unique\n",
      "rama_m3                                 \n",
      "0.0            [No tiene o no informada]\n",
      "1.0                [Artes y humanidades]\n",
      "2.0                           [Ciencias]\n",
      "3.0      [Ciencias sociales y jurídicas]\n",
      "4.0          [Ingeniería y arquitectura]\n",
      "5.0               [Ciencias de la salud]\n"
     ]
    }
   ],
   "source": [
    "D_dict['rama_m3']=D_dict['rama_g2']\n",
    "traduce('rama_m3')"
   ]
  },
  {
   "cell_type": "code",
   "execution_count": 295,
   "metadata": {},
   "outputs": [],
   "source": [
    "# Actualización variables 'n_rama' (rama=art_hum, ciencias, cc_soc_ju, ing_arq, cc_salud)\n",
    "actualiza_ramas('rama_m3')"
   ]
  },
  {
   "cell_type": "code",
   "execution_count": 296,
   "metadata": {},
   "outputs": [
    {
     "name": "stdout",
     "output_type": "stream",
     "text": [
      "n_art_hum [0 1 2 3 4 5 6]\n",
      "n_ciencias [0 2 1 3 4]\n",
      "n_cc_soc_ju [0 3 1 2 4 5 6]\n",
      "n_ing_arq [0 2 4 1 3 5]\n",
      "n_cc_salud [2 0 1 3 4 5]\n",
      "n_servicios [0 1 2 3]\n"
     ]
    }
   ],
   "source": [
    "for rama in L_ramas:\n",
    "    print (rama, df[rama].unique()) # Inspección (comprobación no rigurosa)"
   ]
  },
  {
   "cell_type": "markdown",
   "metadata": {},
   "source": [
    "## 'EST_B18_2'  \n",
    "(Solo para quienes declaran haber terminado otros estudios de máster -respuesta 1 en variable 'EST_B11_2' (o 'varios_master')-)  \n",
    "\n",
    "**Momento en que terminó el tercer título de máster** mencionado como completado."
   ]
  },
  {
   "cell_type": "code",
   "execution_count": 297,
   "metadata": {},
   "outputs": [
    {
     "data": {
      "text/plain": [
       "array([' ', '3', '1', '2', '9'], dtype=object)"
      ]
     },
     "execution_count": 297,
     "metadata": {},
     "output_type": "execute_result"
    }
   ],
   "source": [
    "df['EST_B18_2'].unique() # No informados como ' ' o '9'"
   ]
  },
  {
   "cell_type": "code",
   "execution_count": 298,
   "metadata": {},
   "outputs": [
    {
     "name": "stdout",
     "output_type": "stream",
     "text": [
      "                                                                              aux_traduce\n",
      "                                                                                   unique\n",
      "EST_B18_2                                                                                \n",
      "                                                                           [No aplicable]\n",
      "1                  [Antes de comenzar los estudios de la titulación que finalizó en 2014]\n",
      "2          [Durante la realización de los estudios de la titulación que finalizó en 2014]\n",
      "3                                 [Después de obtener la titulación que finalizó en 2014]\n",
      "9                                                                                 [NS/NC]\n"
     ]
    }
   ],
   "source": [
    "# Ajuste en diccionario\n",
    "D_dict['EST_B18_2']=diccionario('T2ESTMN')\n",
    "traduce('EST_B18_2')"
   ]
  },
  {
   "cell_type": "code",
   "execution_count": 299,
   "metadata": {},
   "outputs": [
    {
     "name": "stdout",
     "output_type": "stream",
     "text": [
      "[ 1.  2.  3. nan]\n"
     ]
    }
   ],
   "source": [
    "re_otros_estudios('EST_B18_2')"
   ]
  },
  {
   "cell_type": "markdown",
   "metadata": {},
   "source": [
    "## 'EST_B19_2'     \n",
    "(Solo para quienes declaran haber terminado otros estudios de máster -respuesta 1 en variable 'EST_B11_2' (o 'varios_master')-) \n",
    "\n",
    "**Dónde estudió el tercer título de máster** mencionado como completado."
   ]
  },
  {
   "cell_type": "code",
   "execution_count": 300,
   "metadata": {},
   "outputs": [
    {
     "data": {
      "text/plain": [
       "array([' ', '1', '2', '3', '9'], dtype=object)"
      ]
     },
     "execution_count": 300,
     "metadata": {},
     "output_type": "execute_result"
    }
   ],
   "source": [
    "df['EST_B19_2'].unique() # No informados como ' ' o '9'"
   ]
  },
  {
   "cell_type": "code",
   "execution_count": 301,
   "metadata": {},
   "outputs": [
    {
     "name": "stdout",
     "output_type": "stream",
     "text": [
      "                                                   aux_traduce\n",
      "                                                        unique\n",
      "EST_B19_2                                                     \n",
      "                                                [No aplicable]\n",
      "1                                    [Completamente en España]\n",
      "2          [Una parte en España y otra parte en el extranjero]\n",
      "3                             [Completamente en el extranjero]\n",
      "9                                                      [NS/NC]\n"
     ]
    }
   ],
   "source": [
    "traduce('EST_B19_2')"
   ]
  },
  {
   "cell_type": "code",
   "execution_count": 302,
   "metadata": {},
   "outputs": [
    {
     "name": "stdout",
     "output_type": "stream",
     "text": [
      "[ 1.  2.  3. nan]\n"
     ]
    }
   ],
   "source": [
    "re_otros_estudios('EST_B19_2')"
   ]
  },
  {
   "cell_type": "code",
   "execution_count": 303,
   "metadata": {},
   "outputs": [
    {
     "name": "stdout",
     "output_type": "stream",
     "text": [
      "                                                  aux_traduce\n",
      "                                                       unique\n",
      "extr_proxy                                                   \n",
      "0                                [No estudió fuera de España]\n",
      "1           [Al menos parte de los estudios en el extranjero]\n",
      "                                                                             extr_proxy_\n",
      "                                                                                  unique\n",
      "EST_B19_2                                                                               \n",
      "1.0        [No estudió fuera de España, Al menos parte de los estudios en el extranjero]\n",
      "2.0                                    [Al menos parte de los estudios en el extranjero]\n",
      "3.0                                    [Al menos parte de los estudios en el extranjero]\n",
      "NaN        [Al menos parte de los estudios en el extranjero, No estudió fuera de España]\n"
     ]
    }
   ],
   "source": [
    "actualiza_extr_proxy('EST_B19_2')"
   ]
  },
  {
   "cell_type": "markdown",
   "metadata": {},
   "source": [
    "## 'EST_B17_M3'  (redefinida como 'rama_m4')   \n",
    "(Solo para quienes declaran haber terminado otros estudios de máster -respuesta 1 en variable 'EST_B11_2' (o 'varios_master')-)  \n",
    "\n",
    "**Rama de conocimiento del cuarto título de máster** mencionado como completado."
   ]
  },
  {
   "cell_type": "code",
   "execution_count": 304,
   "metadata": {},
   "outputs": [
    {
     "data": {
      "text/plain": [
       "array([' ', '2', '3', '4', '5', '1'], dtype=object)"
      ]
     },
     "execution_count": 304,
     "metadata": {},
     "output_type": "execute_result"
    }
   ],
   "source": [
    "df['EST_B17_M3'].unique() # No informados como ' '"
   ]
  },
  {
   "cell_type": "code",
   "execution_count": 305,
   "metadata": {},
   "outputs": [
    {
     "name": "stdout",
     "output_type": "stream",
     "text": [
      "                                aux_traduce\n",
      "                                     unique\n",
      "EST_B17_M3                                 \n",
      "                                        [ ]\n",
      "1                             [No conocido]\n",
      "2                                [Ciencias]\n",
      "3           [Ciencias sociales y jurídicas]\n",
      "4               [Ingeniería y arquitectura]\n",
      "5                    [Ciencias de la salud]\n"
     ]
    }
   ],
   "source": [
    "traduce('EST_B17_M3')"
   ]
  },
  {
   "cell_type": "code",
   "execution_count": 306,
   "metadata": {},
   "outputs": [
    {
     "name": "stdout",
     "output_type": "stream",
     "text": [
      "                                                                                                         rama_m4_\n",
      "                                                                                                           unique\n",
      "n_master                                                                                                         \n",
      "1                                                                                                           [nan]\n",
      "2                                                                                                           [nan]\n",
      "3                                                                                                           [nan]\n",
      "4         [Ciencias, Ciencias sociales y jurídicas, Ingeniería y arquitectura, Ciencias de la salud, No conocido]\n",
      "                                                                                                         rama_m4_\n",
      "                                                                                                           unique\n",
      "n_master                                                                                                         \n",
      "1                                                                                                      [No tiene]\n",
      "2                                                                                                      [No tiene]\n",
      "3                                                                                                      [No tiene]\n",
      "4         [Ciencias, Ciencias sociales y jurídicas, Ingeniería y arquitectura, Ciencias de la salud, No conocido]\n"
     ]
    }
   ],
   "source": [
    "re_otros_estudios('EST_B17_M3','rama_m4',4)"
   ]
  },
  {
   "cell_type": "code",
   "execution_count": 307,
   "metadata": {},
   "outputs": [
    {
     "name": "stdout",
     "output_type": "stream",
     "text": [
      "                             aux_traduce\n",
      "                                  unique\n",
      "rama_m4                                 \n",
      "0.0            [No tiene o no informada]\n",
      "1.0                [Artes y humanidades]\n",
      "2.0                           [Ciencias]\n",
      "3.0      [Ciencias sociales y jurídicas]\n",
      "4.0          [Ingeniería y arquitectura]\n",
      "5.0               [Ciencias de la salud]\n"
     ]
    }
   ],
   "source": [
    "D_dict['rama_m4']=D_dict['rama_g2']\n",
    "traduce('rama_m4')"
   ]
  },
  {
   "cell_type": "code",
   "execution_count": 308,
   "metadata": {},
   "outputs": [],
   "source": [
    "# Actualización variables 'n_rama' (rama=art_hum, ciencias, cc_soc_ju, ing_arq, cc_salud)\n",
    "actualiza_ramas('rama_m4')"
   ]
  },
  {
   "cell_type": "code",
   "execution_count": 309,
   "metadata": {},
   "outputs": [
    {
     "name": "stdout",
     "output_type": "stream",
     "text": [
      "n_art_hum [0 1 2 3 4 5 6]\n",
      "n_ciencias [0 2 1 3 4 5]\n",
      "n_cc_soc_ju [0 3 1 2 4 5 6]\n",
      "n_ing_arq [0 2 4 1 3 5]\n",
      "n_cc_salud [2 0 1 3 4 5]\n",
      "n_servicios [0 1 2 3]\n"
     ]
    }
   ],
   "source": [
    "for rama in L_ramas:\n",
    "    print (rama, df[rama].unique()) # Inspección (comprobación no rigurosa)"
   ]
  },
  {
   "cell_type": "markdown",
   "metadata": {},
   "source": [
    "## 'EST_B18_3'  \n",
    "(Solo para quienes declaran haber terminado otros estudios de máster -respuesta 1 en variable 'EST_B11_2' (o 'varios_master')-)   \n",
    "\n",
    "**Momento en que terminó el cuarto título de máster** mencionado como completado."
   ]
  },
  {
   "cell_type": "code",
   "execution_count": 310,
   "metadata": {},
   "outputs": [
    {
     "data": {
      "text/plain": [
       "array([' ', '1', '3', '2'], dtype=object)"
      ]
     },
     "execution_count": 310,
     "metadata": {},
     "output_type": "execute_result"
    }
   ],
   "source": [
    "df['EST_B18_3'].unique() # No informados como ' '"
   ]
  },
  {
   "cell_type": "code",
   "execution_count": 311,
   "metadata": {},
   "outputs": [
    {
     "name": "stdout",
     "output_type": "stream",
     "text": [
      "                                                                              aux_traduce\n",
      "                                                                                   unique\n",
      "EST_B18_3                                                                                \n",
      "                                                                           [No aplicable]\n",
      "1                  [Antes de comenzar los estudios de la titulación que finalizó en 2014]\n",
      "2          [Durante la realización de los estudios de la titulación que finalizó en 2014]\n",
      "3                                 [Después de obtener la titulación que finalizó en 2014]\n"
     ]
    }
   ],
   "source": [
    "# Ajuste en diccionario\n",
    "D_dict['EST_B18_3']=diccionario('T2ESTMN')\n",
    "traduce('EST_B18_3')"
   ]
  },
  {
   "cell_type": "code",
   "execution_count": 312,
   "metadata": {},
   "outputs": [
    {
     "name": "stdout",
     "output_type": "stream",
     "text": [
      "[ 1.  2.  3. nan]\n"
     ]
    }
   ],
   "source": [
    "re_otros_estudios('EST_B18_3')"
   ]
  },
  {
   "cell_type": "markdown",
   "metadata": {},
   "source": [
    "## 'EST_B19_3'     \n",
    "(Solo para quienes declaran haber terminado otros estudios de máster -respuesta 1 en variable 'EST_B11_2' (o 'varios_master')-) \n",
    "\n",
    "**Dónde estudió el cuarto título de máster** mencionado como completado."
   ]
  },
  {
   "cell_type": "code",
   "execution_count": 313,
   "metadata": {},
   "outputs": [
    {
     "data": {
      "text/plain": [
       "array([' ', '1', '2', '3'], dtype=object)"
      ]
     },
     "execution_count": 313,
     "metadata": {},
     "output_type": "execute_result"
    }
   ],
   "source": [
    "df['EST_B19_3'].unique() # No informados como ' '"
   ]
  },
  {
   "cell_type": "code",
   "execution_count": 314,
   "metadata": {},
   "outputs": [
    {
     "name": "stdout",
     "output_type": "stream",
     "text": [
      "                                                   aux_traduce\n",
      "                                                        unique\n",
      "EST_B19_3                                                     \n",
      "                                                [No aplicable]\n",
      "1                                    [Completamente en España]\n",
      "2          [Una parte en España y otra parte en el extranjero]\n",
      "3                             [Completamente en el extranjero]\n"
     ]
    }
   ],
   "source": [
    "traduce('EST_B19_3')"
   ]
  },
  {
   "cell_type": "code",
   "execution_count": 315,
   "metadata": {},
   "outputs": [
    {
     "name": "stdout",
     "output_type": "stream",
     "text": [
      "[ 1.  2.  3. nan]\n"
     ]
    }
   ],
   "source": [
    "re_otros_estudios('EST_B19_3')"
   ]
  },
  {
   "cell_type": "code",
   "execution_count": 316,
   "metadata": {},
   "outputs": [
    {
     "name": "stdout",
     "output_type": "stream",
     "text": [
      "                                                  aux_traduce\n",
      "                                                       unique\n",
      "extr_proxy                                                   \n",
      "0                                [No estudió fuera de España]\n",
      "1           [Al menos parte de los estudios en el extranjero]\n",
      "                                                                             extr_proxy_\n",
      "                                                                                  unique\n",
      "EST_B19_3                                                                               \n",
      "1.0        [No estudió fuera de España, Al menos parte de los estudios en el extranjero]\n",
      "2.0                                    [Al menos parte de los estudios en el extranjero]\n",
      "3.0                                    [Al menos parte de los estudios en el extranjero]\n",
      "NaN        [Al menos parte de los estudios en el extranjero, No estudió fuera de España]\n"
     ]
    }
   ],
   "source": [
    "actualiza_extr_proxy('EST_B19_3')"
   ]
  },
  {
   "cell_type": "code",
   "execution_count": 317,
   "metadata": {},
   "outputs": [],
   "source": [
    "D_describe['rama_m4']='Rama de conocimiento del cuarto titulo de master'"
   ]
  },
  {
   "cell_type": "markdown",
   "metadata": {},
   "source": [
    "## 'EST_B21'  (redefinida como 'rama_doc')   \n",
    "(Solo para quienes declaran haber terminado estudios de doctorado -respuesta 1 en variable 'EST_B11_3' (o'doctor')-)  \n",
    "\n",
    "**Rama de conocimiento de sus estudios de doctorado** (si tiene más de un título de doctor, del que considere el principal)."
   ]
  },
  {
   "cell_type": "code",
   "execution_count": 318,
   "metadata": {},
   "outputs": [
    {
     "data": {
      "text/plain": [
       "array([' ', '5', '2', '4', '3', '1'], dtype=object)"
      ]
     },
     "execution_count": 318,
     "metadata": {},
     "output_type": "execute_result"
    }
   ],
   "source": [
    "df['EST_B21'].unique() # No informados como ' '"
   ]
  },
  {
   "cell_type": "code",
   "execution_count": 319,
   "metadata": {},
   "outputs": [
    {
     "name": "stdout",
     "output_type": "stream",
     "text": [
      "                             aux_traduce\n",
      "                                  unique\n",
      "EST_B21                                 \n",
      "                                     [ ]\n",
      "1                          [No conocido]\n",
      "2                             [Ciencias]\n",
      "3        [Ciencias sociales y jurídicas]\n",
      "4            [Ingeniería y arquitectura]\n",
      "5                 [Ciencias de la salud]\n"
     ]
    }
   ],
   "source": [
    "traduce('EST_B21')"
   ]
  },
  {
   "cell_type": "code",
   "execution_count": 320,
   "metadata": {},
   "outputs": [],
   "source": [
    "# Establece otros_estudios referido al título de doctor: \n",
    "otros_estudios='doctor'"
   ]
  },
  {
   "cell_type": "code",
   "execution_count": 321,
   "metadata": {},
   "outputs": [
    {
     "name": "stdout",
     "output_type": "stream",
     "text": [
      "                                                                                                      rama_doc_\n",
      "                                                                                                         unique\n",
      "doctor                                                                                                         \n",
      "0                                                                                                         [nan]\n",
      "1       [Ciencias de la salud, Ciencias, Ingeniería y arquitectura, Ciencias sociales y jurídicas, No conocido]\n",
      "                                                                                                      rama_doc_\n",
      "                                                                                                         unique\n",
      "doctor                                                                                                         \n",
      "0                                                                                                    [No tiene]\n",
      "1       [Ciencias de la salud, Ciencias, Ingeniería y arquitectura, Ciencias sociales y jurídicas, No conocido]\n"
     ]
    }
   ],
   "source": [
    "re_otros_estudios('EST_B21','rama_doc',1)"
   ]
  },
  {
   "cell_type": "code",
   "execution_count": 322,
   "metadata": {},
   "outputs": [
    {
     "name": "stdout",
     "output_type": "stream",
     "text": [
      "                              aux_traduce\n",
      "                                   unique\n",
      "rama_doc                                 \n",
      "0.0             [No tiene o no informada]\n",
      "1.0                 [Artes y humanidades]\n",
      "2.0                            [Ciencias]\n",
      "3.0       [Ciencias sociales y jurídicas]\n",
      "4.0           [Ingeniería y arquitectura]\n",
      "5.0                [Ciencias de la salud]\n"
     ]
    }
   ],
   "source": [
    "D_dict['rama_doc']=D_dict['rama_g2']\n",
    "traduce('rama_doc')"
   ]
  },
  {
   "cell_type": "code",
   "execution_count": 323,
   "metadata": {},
   "outputs": [],
   "source": [
    "# Actualización variables 'n_rama' (rama=art_hum, ciencias, cc_soc_ju, ing_arq, cc_salud)\n",
    "actualiza_ramas('rama_doc')"
   ]
  },
  {
   "cell_type": "code",
   "execution_count": 324,
   "metadata": {},
   "outputs": [
    {
     "name": "stdout",
     "output_type": "stream",
     "text": [
      "[0 1 2 3 4 5 6 7]\n",
      "[0 2 1 3 4 5 6]\n",
      "[0 3 1 2 4 5 6 7]\n",
      "[0 2 4 1 3 5 6]\n",
      "[2 0 1 3 4 5 6]\n",
      "[0 1 2 3]\n"
     ]
    }
   ],
   "source": [
    "for rama in L_ramas:\n",
    "    print (df[rama].unique()) # Inspección (comprobación no rigurosa)"
   ]
  },
  {
   "cell_type": "markdown",
   "metadata": {},
   "source": [
    "## 'EST_B22'  \n",
    "(Solo para quienes declaran haber terminado estudios de doctorado -respuesta 1 en variable 'EST_B11_3' (o'doctor')-)  \n",
    "\n",
    "**Momento en que terminó sus estudios de doctorado** (si tiene más de un título de doctor, el que considere el principal)."
   ]
  },
  {
   "cell_type": "code",
   "execution_count": 325,
   "metadata": {},
   "outputs": [
    {
     "data": {
      "text/plain": [
       "array([' ', '3', '1', '2', '9'], dtype=object)"
      ]
     },
     "execution_count": 325,
     "metadata": {},
     "output_type": "execute_result"
    }
   ],
   "source": [
    "df['EST_B22'].unique() # No informados como ' ' o '9'"
   ]
  },
  {
   "cell_type": "code",
   "execution_count": 326,
   "metadata": {},
   "outputs": [
    {
     "name": "stdout",
     "output_type": "stream",
     "text": [
      "                                                                            aux_traduce\n",
      "                                                                                 unique\n",
      "EST_B22                                                                                \n",
      "                                                                         [No aplicable]\n",
      "1                [Antes de comenzar los estudios de la titulación que finalizó en 2014]\n",
      "2        [Durante la realización de los estudios de la titulación que finalizó en 2014]\n",
      "3                               [Después de obtener la titulación que finalizó en 2014]\n",
      "9                                                                               [NS/NC]\n"
     ]
    }
   ],
   "source": [
    "# Ajuste en diccionario\n",
    "D_dict['EST_B22']=diccionario('T2ESTMN')\n",
    "traduce('EST_B22')"
   ]
  },
  {
   "cell_type": "code",
   "execution_count": 327,
   "metadata": {},
   "outputs": [
    {
     "name": "stdout",
     "output_type": "stream",
     "text": [
      "[ 1.  2.  3. nan]\n"
     ]
    }
   ],
   "source": [
    "re_otros_estudios('EST_B22')"
   ]
  },
  {
   "cell_type": "markdown",
   "metadata": {},
   "source": [
    "## 'EST_B23'  \n",
    "(Solo para quienes declaran haber terminado estudios de doctorado -respuesta 1 en variable 'EST_B11_3' (o'doctor')-)   \n",
    "\n",
    "**Donde cursó sus estudios de doctorado** (si tiene más de un título de doctor, el que considere el principal)."
   ]
  },
  {
   "cell_type": "code",
   "execution_count": 328,
   "metadata": {},
   "outputs": [
    {
     "data": {
      "text/plain": [
       "array([' ', '2', '1', '9', '3'], dtype=object)"
      ]
     },
     "execution_count": 328,
     "metadata": {},
     "output_type": "execute_result"
    }
   ],
   "source": [
    "df['EST_B23'].unique() # No informados como ' '"
   ]
  },
  {
   "cell_type": "code",
   "execution_count": 329,
   "metadata": {},
   "outputs": [
    {
     "name": "stdout",
     "output_type": "stream",
     "text": [
      "                                                 aux_traduce\n",
      "                                                      unique\n",
      "EST_B23                                                     \n",
      "                                              [No aplicable]\n",
      "1                                  [Completamente en España]\n",
      "2        [Una parte en España y otra parte en el extranjero]\n",
      "3                           [Completamente en el extranjero]\n",
      "9                                                    [NS/NC]\n"
     ]
    }
   ],
   "source": [
    "traduce('EST_B23')"
   ]
  },
  {
   "cell_type": "code",
   "execution_count": 330,
   "metadata": {},
   "outputs": [
    {
     "name": "stdout",
     "output_type": "stream",
     "text": [
      "[ 1.  2.  3. nan]\n"
     ]
    }
   ],
   "source": [
    "re_otros_estudios('EST_B23')"
   ]
  },
  {
   "cell_type": "code",
   "execution_count": 331,
   "metadata": {},
   "outputs": [
    {
     "name": "stdout",
     "output_type": "stream",
     "text": [
      "                                                  aux_traduce\n",
      "                                                       unique\n",
      "extr_proxy                                                   \n",
      "0                                [No estudió fuera de España]\n",
      "1           [Al menos parte de los estudios en el extranjero]\n",
      "                                                                           extr_proxy_\n",
      "                                                                                unique\n",
      "EST_B23                                                                               \n",
      "1.0      [No estudió fuera de España, Al menos parte de los estudios en el extranjero]\n",
      "2.0                                  [Al menos parte de los estudios en el extranjero]\n",
      "3.0                                  [Al menos parte de los estudios en el extranjero]\n",
      "NaN      [Al menos parte de los estudios en el extranjero, No estudió fuera de España]\n"
     ]
    }
   ],
   "source": [
    "actualiza_extr_proxy('EST_B23')"
   ]
  },
  {
   "cell_type": "markdown",
   "metadata": {},
   "source": [
    "## 'EST_B24'  (redefinida como 'n_gsup')   \n",
    "(Solo para quienes declaran haber terminado ciclos formativos de grado superior y/o estudios artísticos\n",
    "superiores -respuesta 1 en variable 'EST_B11_5' (o 'g_sup') o  en 'EST_B11_4' (o 'est_art')-)  \n",
    "\n",
    "**Número de ciclos formativos de grado superior o estudios artísticos superiores** que ha completado."
   ]
  },
  {
   "cell_type": "code",
   "execution_count": 332,
   "metadata": {},
   "outputs": [
    {
     "data": {
      "text/plain": [
       "array([' ', '1', '2', '3'], dtype=object)"
      ]
     },
     "execution_count": 332,
     "metadata": {},
     "output_type": "execute_result"
    }
   ],
   "source": [
    "df['EST_B24'].unique() # No informados como ' '"
   ]
  },
  {
   "cell_type": "code",
   "execution_count": 333,
   "metadata": {},
   "outputs": [
    {
     "name": "stdout",
     "output_type": "stream",
     "text": [
      "            aux_traduce\n",
      "                 unique\n",
      "EST_B24                \n",
      "         [No aplicable]\n",
      "1                 [Uno]\n",
      "2                [Dos ]\n",
      "3          [Tres o más]\n"
     ]
    }
   ],
   "source": [
    "traduce('EST_B24')"
   ]
  },
  {
   "cell_type": "code",
   "execution_count": 334,
   "metadata": {},
   "outputs": [
    {
     "data": {
      "text/plain": [
       "array([0, 1, 2, 3])"
      ]
     },
     "execution_count": 334,
     "metadata": {},
     "output_type": "execute_result"
    }
   ],
   "source": [
    "# Se imputa 0 a no respuesta: \n",
    "df['EST_B24'].replace({' ':0},inplace=True)\n",
    "df['EST_B24']=df['EST_B24'].astype('int')\n",
    "df['EST_B24'].unique()"
   ]
  },
  {
   "cell_type": "code",
   "execution_count": 335,
   "metadata": {},
   "outputs": [],
   "source": [
    "redefine('EST_B24','n_gsup')"
   ]
  },
  {
   "cell_type": "code",
   "execution_count": 336,
   "metadata": {},
   "outputs": [
    {
     "data": {
      "text/html": [
       "<div>\n",
       "<style scoped>\n",
       "    .dataframe tbody tr th:only-of-type {\n",
       "        vertical-align: middle;\n",
       "    }\n",
       "\n",
       "    .dataframe tbody tr th {\n",
       "        vertical-align: top;\n",
       "    }\n",
       "\n",
       "    .dataframe thead tr th {\n",
       "        text-align: left;\n",
       "    }\n",
       "\n",
       "    .dataframe thead tr:last-of-type th {\n",
       "        text-align: right;\n",
       "    }\n",
       "</style>\n",
       "<table border=\"1\" class=\"dataframe\">\n",
       "  <thead>\n",
       "    <tr>\n",
       "      <th></th>\n",
       "      <th></th>\n",
       "      <th>n_gsup</th>\n",
       "    </tr>\n",
       "    <tr>\n",
       "      <th></th>\n",
       "      <th></th>\n",
       "      <th>unique</th>\n",
       "    </tr>\n",
       "    <tr>\n",
       "      <th>g_sup_</th>\n",
       "      <th>est_art_</th>\n",
       "      <th></th>\n",
       "    </tr>\n",
       "  </thead>\n",
       "  <tbody>\n",
       "    <tr>\n",
       "      <th rowspan=\"2\" valign=\"top\">No</th>\n",
       "      <th>No</th>\n",
       "      <td>[0]</td>\n",
       "    </tr>\n",
       "    <tr>\n",
       "      <th>Sí</th>\n",
       "      <td>[1, 3, 2]</td>\n",
       "    </tr>\n",
       "    <tr>\n",
       "      <th rowspan=\"2\" valign=\"top\">Sí</th>\n",
       "      <th>No</th>\n",
       "      <td>[1, 2, 3]</td>\n",
       "    </tr>\n",
       "    <tr>\n",
       "      <th>Sí</th>\n",
       "      <td>[2, 1, 3]</td>\n",
       "    </tr>\n",
       "  </tbody>\n",
       "</table>\n",
       "</div>"
      ],
      "text/plain": [
       "                    n_gsup\n",
       "                    unique\n",
       "g_sup_ est_art_           \n",
       "No     No              [0]\n",
       "       Sí        [1, 3, 2]\n",
       "Sí     No        [1, 2, 3]\n",
       "       Sí        [2, 1, 3]"
      ]
     },
     "execution_count": 336,
     "metadata": {},
     "output_type": "execute_result"
    }
   ],
   "source": [
    "df[['n_gsup','g_sup_','est_art_']].groupby(['g_sup_','est_art_'],dropna=False).agg(['unique']) # Inspección: "
   ]
  },
  {
   "cell_type": "code",
   "execution_count": 337,
   "metadata": {},
   "outputs": [],
   "source": [
    "# Se establece 'otros_estudios' referido a ciclos formativos o estudios artísticos superiores: \n",
    "otros_estudios='n_gsup'"
   ]
  },
  {
   "cell_type": "markdown",
   "metadata": {},
   "source": [
    "## 'EST_B25_FA1'  (redefinida como 'fam_gsup1')   \n",
    "(Solo para quienes declaran haber terminado ciclos formativos de grado superior y/o estudios artísticos\n",
    "superiores -respuesta 1 en variable 'EST_B11_5' (o 'g_sup') o  en 'EST_B11_4' (o 'est_art')-)  \n",
    "\n",
    "**Familia de estudios** del primer ciclo formativo de grado superior (formación profesional, artes plásticas y diseño) o enseñanzas deportivas de grado superior mencionado."
   ]
  },
  {
   "cell_type": "code",
   "execution_count": 338,
   "metadata": {},
   "outputs": [
    {
     "data": {
      "text/plain": [
       "array(['  ', '01', '02', '03', '04', '05', '06', '07', '08', '09', '10',\n",
       "       '11', '12', '14', '17', '18', '19', '20', '21', '22', '23', '24',\n",
       "       '25', '26', '88', '99'], dtype=object)"
      ]
     },
     "execution_count": 338,
     "metadata": {},
     "output_type": "execute_result"
    }
   ],
   "source": [
    "df['EST_B25_FA1'].sort_values().unique() # No informados como '  ' "
   ]
  },
  {
   "cell_type": "code",
   "execution_count": 339,
   "metadata": {},
   "outputs": [
    {
     "name": "stdout",
     "output_type": "stream",
     "text": [
      "[ 1.  2.  3.  4.  5.  6.  7.  8.  9. 10. 11. 12. 14. 17. 18. 19. 20. 21.\n",
      " 22. 23. 24. 25. 26. 88. nan]\n",
      "                                                                                                                                               aux_traduce\n",
      "                                                                                                                                                    unique\n",
      "EST_B25_FA1                                                                                                                                               \n",
      "1.0                                                                                                                                              [Agraria]\n",
      "2.0                                                                                                                                    [Marítimo-pesquera]\n",
      "3.0                                                                                                                             [Industrias alimentarias ]\n",
      "4.0                                                                                                                                              [Química]\n",
      "5.0                                                                                                                                     [Imagen personal ]\n",
      "6.0                                                                                                                                             [Sanidad ]\n",
      "7.0                                                                                                                           [Seguridad y medio ambiente]\n",
      "8.0                                                                                                                                [Fabricación mecánica ]\n",
      "9.0                                                                                                                          [Instalación y mantenimiento]\n",
      "10.0                                                                                                                          [Electricidad y electrónica]\n",
      "11.0                                                                                                                                      [Energía y agua]\n",
      "12.0                                                                                                            [Transporte y mantenimiento de vehículos ]\n",
      "14.0                                                                                                                           [Edificación y obra civil ]\n",
      "17.0                                                                                                                           [Textil, confección y piel]\n",
      "18.0                                                                                                                                     [Artes gráficas ]\n",
      "19.0                                                                                                                                     [Imagen y sonido]\n",
      "20.0                                                                                                                        [Informática y comunicaciones]\n",
      "21.0                                                                                                                           [Administración y gestión ]\n",
      "22.0                                                                                                                                [Comercio y marketing]\n",
      "23.0                                                                                                         [Servicios socioculturales y a la comunidad ]\n",
      "24.0                                                                                                                               [Hostelería y turismo ]\n",
      "25.0                                                                [Actividades físicas y deportivas (incluidas enseñanzas deportivas de grado superior)]\n",
      "26.0                                                                                                                                  [Artes y artesanías]\n",
      "88.0         [Estudios artísticos superiores (artes plásticas, diseño, música y danza, arte dramático o conservación y restauración de bienes culturales)]\n"
     ]
    }
   ],
   "source": [
    "no_respuesta('EST_B25_FA1',blank='  ',nsnc='99')\n",
    "traduce('EST_B25_FA1')"
   ]
  },
  {
   "cell_type": "code",
   "execution_count": 340,
   "metadata": {},
   "outputs": [
    {
     "name": "stdout",
     "output_type": "stream",
     "text": [
      "                                                                                                                                                                                                                                                                                                         fam_gsup1_\n",
      "                                                                                                                                                                                                                                                                                                             unique\n",
      "n_gsup                                                                                                                                                                                                                                                                                                             \n",
      "0                                                                                                                                                                                                                                                                                                             [nan]\n",
      "1       [Hostelería y turismo , Electricidad y electrónica, Administración y gestión , Estudios artísticos superiores (artes plásticas, diseño, música y danza, arte dramático o conservación y restauración de bienes culturales), Informática y comunicaciones, Agraria, Servicios socioculturales y a la comu...\n",
      "2       [Electricidad y electrónica, Sanidad , Seguridad y medio ambiente, Estudios artísticos superiores (artes plásticas, diseño, música y danza, arte dramático o conservación y restauración de bienes culturales), Textil, confección y piel, Informática y comunicaciones, Servicios socioculturales y a l...\n",
      "3       [Estudios artísticos superiores (artes plásticas, diseño, música y danza, arte dramático o conservación y restauración de bienes culturales), Informática y comunicaciones, Electricidad y electrónica, Actividades físicas y deportivas (incluidas enseñanzas deportivas de grado superior), Artes gráf...\n",
      "                                                                                                                                                                                                                                                                                                         fam_gsup1_\n",
      "                                                                                                                                                                                                                                                                                                             unique\n",
      "n_gsup                                                                                                                                                                                                                                                                                                             \n",
      "0                                                                                                                                                                                                                                                                                                        [No tiene]\n",
      "1       [Hostelería y turismo , Electricidad y electrónica, Administración y gestión , Estudios artísticos superiores (artes plásticas, diseño, música y danza, arte dramático o conservación y restauración de bienes culturales), Informática y comunicaciones, No conocido, Servicios socioculturales y a la ...\n",
      "2       [Electricidad y electrónica, Sanidad , Seguridad y medio ambiente, Estudios artísticos superiores (artes plásticas, diseño, música y danza, arte dramático o conservación y restauración de bienes culturales), Textil, confección y piel, Informática y comunicaciones, Servicios socioculturales y a l...\n",
      "3       [Estudios artísticos superiores (artes plásticas, diseño, música y danza, arte dramático o conservación y restauración de bienes culturales), Informática y comunicaciones, Electricidad y electrónica, Actividades físicas y deportivas (incluidas enseñanzas deportivas de grado superior), Artes gráf...\n"
     ]
    }
   ],
   "source": [
    "re_otros_estudios('EST_B25_FA1','fam_gsup1',1,blank='  ',nsnc='99')"
   ]
  },
  {
   "cell_type": "code",
   "execution_count": 341,
   "metadata": {},
   "outputs": [
    {
     "name": "stdout",
     "output_type": "stream",
     "text": [
      "                                                                                                                                             aux_traduce\n",
      "                                                                                                                                                  unique\n",
      "fam_gsup1                                                                                                                                               \n",
      "0.0                                                                                                                                           [No tiene]\n",
      "1.0                                                                                                                                        [No conocido]\n",
      "2.0                                                                                                                                  [Marítimo-pesquera]\n",
      "3.0                                                                                                                           [Industrias alimentarias ]\n",
      "4.0                                                                                                                                            [Química]\n",
      "5.0                                                                                                                                   [Imagen personal ]\n",
      "6.0                                                                                                                                           [Sanidad ]\n",
      "7.0                                                                                                                         [Seguridad y medio ambiente]\n",
      "8.0                                                                                                                              [Fabricación mecánica ]\n",
      "9.0                                                                                                                        [Instalación y mantenimiento]\n",
      "10.0                                                                                                                        [Electricidad y electrónica]\n",
      "11.0                                                                                                                                    [Energía y agua]\n",
      "12.0                                                                                                          [Transporte y mantenimiento de vehículos ]\n",
      "14.0                                                                                                                         [Edificación y obra civil ]\n",
      "17.0                                                                                                                         [Textil, confección y piel]\n",
      "18.0                                                                                                                                   [Artes gráficas ]\n",
      "19.0                                                                                                                                   [Imagen y sonido]\n",
      "20.0                                                                                                                      [Informática y comunicaciones]\n",
      "21.0                                                                                                                         [Administración y gestión ]\n",
      "22.0                                                                                                                              [Comercio y marketing]\n",
      "23.0                                                                                                       [Servicios socioculturales y a la comunidad ]\n",
      "24.0                                                                                                                             [Hostelería y turismo ]\n",
      "25.0                                                              [Actividades físicas y deportivas (incluidas enseñanzas deportivas de grado superior)]\n",
      "26.0                                                                                                                                [Artes y artesanías]\n",
      "88.0       [Estudios artísticos superiores (artes plásticas, diseño, música y danza, arte dramático o conservación y restauración de bienes culturales)]\n"
     ]
    }
   ],
   "source": [
    "traduce('fam_gsup1')"
   ]
  },
  {
   "cell_type": "markdown",
   "metadata": {},
   "source": [
    "## 'EST_B26_1'  \n",
    "(Solo para quienes declaran haber terminado ciclos formativos de grado superior y/o estudios artísticos\n",
    "superiores -respuesta 1 en variable 'EST_B11_5' (o 'g_sup') o  en 'EST_B11_4' (o 'est_art')-)   \n",
    "\n",
    "**Momento en que terminó** el primer ciclo formativo de grado superior (formación profesional, artes plásticas y diseño) o enseñanzas deportivas de grado superior mencionado."
   ]
  },
  {
   "cell_type": "code",
   "execution_count": 342,
   "metadata": {},
   "outputs": [
    {
     "data": {
      "text/plain": [
       "array([' ', '1', '3', '9', '2'], dtype=object)"
      ]
     },
     "execution_count": 342,
     "metadata": {},
     "output_type": "execute_result"
    }
   ],
   "source": [
    "df['EST_B26_1'].unique() # No informados como ' ' o '9'"
   ]
  },
  {
   "cell_type": "code",
   "execution_count": 343,
   "metadata": {},
   "outputs": [
    {
     "name": "stdout",
     "output_type": "stream",
     "text": [
      "                                                                              aux_traduce\n",
      "                                                                                   unique\n",
      "EST_B26_1                                                                                \n",
      "                                                                           [No aplicable]\n",
      "1                  [Antes de comenzar los estudios de la titulación que finalizó en 2014]\n",
      "2          [Durante la realización de los estudios de la titulación que finalizó en 2014]\n",
      "3                                 [Después de obtener la titulación que finalizó en 2014]\n",
      "9                                                                                 [NS/NC]\n"
     ]
    }
   ],
   "source": [
    "# Ajuste en diccionario\n",
    "D_dict['EST_B26_1']=diccionario('T2ESTMN')\n",
    "traduce('EST_B26_1')"
   ]
  },
  {
   "cell_type": "code",
   "execution_count": 344,
   "metadata": {},
   "outputs": [
    {
     "name": "stdout",
     "output_type": "stream",
     "text": [
      "[ 1.  2.  3. nan]\n"
     ]
    }
   ],
   "source": [
    "re_otros_estudios('EST_B26_1')"
   ]
  },
  {
   "cell_type": "markdown",
   "metadata": {},
   "source": [
    "## 'EST_B27_1'  \n",
    "(Solo para quienes declaran haber terminado ciclos formativos de grado superior y/o estudios artísticos\n",
    "superiores -respuesta 1 en variable 'EST_B11_5' (o 'g_sup') o  en 'EST_B11_4' (o 'est_art')-)   \n",
    "\n",
    "**Dónde cursó** el primer ciclo formativo de grado superior (formación profesional, artes plásticas y diseño) o enseñanzas deportivas de grado superior mencionado."
   ]
  },
  {
   "cell_type": "code",
   "execution_count": 345,
   "metadata": {},
   "outputs": [
    {
     "data": {
      "text/plain": [
       "array([' ', '1', '2', '3', '9'], dtype=object)"
      ]
     },
     "execution_count": 345,
     "metadata": {},
     "output_type": "execute_result"
    }
   ],
   "source": [
    "df['EST_B27_1'].unique() # No informados como ' ' o '9'"
   ]
  },
  {
   "cell_type": "code",
   "execution_count": 346,
   "metadata": {},
   "outputs": [
    {
     "name": "stdout",
     "output_type": "stream",
     "text": [
      "                                                   aux_traduce\n",
      "                                                        unique\n",
      "EST_B27_1                                                     \n",
      "                                                [No aplicable]\n",
      "1                                    [Completamente en España]\n",
      "2          [Una parte en España y otra parte en el extranjero]\n",
      "3                             [Completamente en el extranjero]\n",
      "9                                                      [NS/NC]\n"
     ]
    }
   ],
   "source": [
    "traduce('EST_B27_1')"
   ]
  },
  {
   "cell_type": "code",
   "execution_count": 347,
   "metadata": {},
   "outputs": [
    {
     "name": "stdout",
     "output_type": "stream",
     "text": [
      "[ 1.  2.  3. nan]\n"
     ]
    }
   ],
   "source": [
    "re_otros_estudios('EST_B27_1')"
   ]
  },
  {
   "cell_type": "code",
   "execution_count": 348,
   "metadata": {},
   "outputs": [
    {
     "name": "stdout",
     "output_type": "stream",
     "text": [
      "                                                  aux_traduce\n",
      "                                                       unique\n",
      "extr_proxy                                                   \n",
      "0                                [No estudió fuera de España]\n",
      "1           [Al menos parte de los estudios en el extranjero]\n",
      "                                                                             extr_proxy_\n",
      "                                                                                  unique\n",
      "EST_B27_1                                                                               \n",
      "1.0        [Al menos parte de los estudios en el extranjero, No estudió fuera de España]\n",
      "2.0                                    [Al menos parte de los estudios en el extranjero]\n",
      "3.0                                    [Al menos parte de los estudios en el extranjero]\n",
      "NaN        [Al menos parte de los estudios en el extranjero, No estudió fuera de España]\n"
     ]
    }
   ],
   "source": [
    "actualiza_extr_proxy('EST_B27_1')"
   ]
  },
  {
   "cell_type": "markdown",
   "metadata": {},
   "source": [
    "## 'EST_B25_FA2'  (redefinida como 'fam_gsup2')   \n",
    "(Solo para quienes declaran haber terminado ciclos formativos de grado superior y/o estudios artísticos\n",
    "superiores -respuesta 1 en variable 'EST_B11_5' (o 'g_sup') o  en 'EST_B11_4' (o 'est_art')-)  \n",
    "\n",
    "**Familia de estudios** del segundo ciclo formativo de grado superior (formación profesional, artes plásticas y diseño) o enseñanzas deportivas de grado superior mencionado."
   ]
  },
  {
   "cell_type": "code",
   "execution_count": 349,
   "metadata": {},
   "outputs": [
    {
     "data": {
      "text/plain": [
       "array(['  ', '01', '03', '04', '06', '08', '09', '10', '12', '14', '18',\n",
       "       '19', '20', '21', '23', '24', '25', '88'], dtype=object)"
      ]
     },
     "execution_count": 349,
     "metadata": {},
     "output_type": "execute_result"
    }
   ],
   "source": [
    "df['EST_B25_FA2'].sort_values().unique() # No informados como '  ' "
   ]
  },
  {
   "cell_type": "code",
   "execution_count": 350,
   "metadata": {},
   "outputs": [
    {
     "name": "stdout",
     "output_type": "stream",
     "text": [
      "[ 1.  3.  4.  6.  8.  9. 10. 12. 14. 18. 19. 20. 21. 23. 24. 25. 88. nan]\n",
      "                                                                                                                                               aux_traduce\n",
      "                                                                                                                                                    unique\n",
      "EST_B25_FA2                                                                                                                                               \n",
      "1.0                                                                                                                                              [Agraria]\n",
      "3.0                                                                                                                             [Industrias alimentarias ]\n",
      "4.0                                                                                                                                              [Química]\n",
      "6.0                                                                                                                                             [Sanidad ]\n",
      "8.0                                                                                                                                [Fabricación mecánica ]\n",
      "9.0                                                                                                                          [Instalación y mantenimiento]\n",
      "10.0                                                                                                                          [Electricidad y electrónica]\n",
      "12.0                                                                                                            [Transporte y mantenimiento de vehículos ]\n",
      "14.0                                                                                                                           [Edificación y obra civil ]\n",
      "18.0                                                                                                                                     [Artes gráficas ]\n",
      "19.0                                                                                                                                     [Imagen y sonido]\n",
      "20.0                                                                                                                        [Informática y comunicaciones]\n",
      "21.0                                                                                                                           [Administración y gestión ]\n",
      "23.0                                                                                                         [Servicios socioculturales y a la comunidad ]\n",
      "24.0                                                                                                                               [Hostelería y turismo ]\n",
      "25.0                                                                [Actividades físicas y deportivas (incluidas enseñanzas deportivas de grado superior)]\n",
      "88.0         [Estudios artísticos superiores (artes plásticas, diseño, música y danza, arte dramático o conservación y restauración de bienes culturales)]\n"
     ]
    }
   ],
   "source": [
    "no_respuesta('EST_B25_FA2',blank='  ',nsnc='99')\n",
    "traduce('EST_B25_FA2')"
   ]
  },
  {
   "cell_type": "code",
   "execution_count": 351,
   "metadata": {},
   "outputs": [
    {
     "name": "stdout",
     "output_type": "stream",
     "text": [
      "                                                                                                                                                                                                                                                                                                         fam_gsup2_\n",
      "                                                                                                                                                                                                                                                                                                             unique\n",
      "n_gsup                                                                                                                                                                                                                                                                                                             \n",
      "0                                                                                                                                                                                                                                                                                                             [nan]\n",
      "1                                                                                                                                                                                                                                                                                                             [nan]\n",
      "2       [Informática y comunicaciones, Química, Fabricación mecánica , Hostelería y turismo , Artes gráficas , Electricidad y electrónica, Edificación y obra civil , Sanidad , Industrias alimentarias , Imagen y sonido, Estudios artísticos superiores (artes plásticas, diseño, música y danza, arte dramáti...\n",
      "3                                                 [Estudios artísticos superiores (artes plásticas, diseño, música y danza, arte dramático o conservación y restauración de bienes culturales), Administración y gestión , Informática y comunicaciones, Transporte y mantenimiento de vehículos , Artes gráficas ]\n",
      "                                                                                                                                                                                                                                                                                                         fam_gsup2_\n",
      "                                                                                                                                                                                                                                                                                                             unique\n",
      "n_gsup                                                                                                                                                                                                                                                                                                             \n",
      "0                                                                                                                                                                                                                                                                                                        [No tiene]\n",
      "1                                                                                                                                                                                                                                                                                                        [No tiene]\n",
      "2       [Informática y comunicaciones, Química, Fabricación mecánica , Hostelería y turismo , Artes gráficas , Electricidad y electrónica, Edificación y obra civil , Sanidad , Industrias alimentarias , Imagen y sonido, Estudios artísticos superiores (artes plásticas, diseño, música y danza, arte dramáti...\n",
      "3                                                 [Estudios artísticos superiores (artes plásticas, diseño, música y danza, arte dramático o conservación y restauración de bienes culturales), Administración y gestión , Informática y comunicaciones, Transporte y mantenimiento de vehículos , Artes gráficas ]\n"
     ]
    }
   ],
   "source": [
    "re_otros_estudios('EST_B25_FA2','fam_gsup2',2,blank='  ',nsnc='99')"
   ]
  },
  {
   "cell_type": "code",
   "execution_count": 352,
   "metadata": {},
   "outputs": [
    {
     "name": "stdout",
     "output_type": "stream",
     "text": [
      "                                                                                                                                             aux_traduce\n",
      "                                                                                                                                                  unique\n",
      "fam_gsup2                                                                                                                                               \n",
      "0.0                                                                                                                                           [No tiene]\n",
      "1.0                                                                                                                                        [No conocido]\n",
      "3.0                                                                                                                           [Industrias alimentarias ]\n",
      "4.0                                                                                                                                            [Química]\n",
      "6.0                                                                                                                                           [Sanidad ]\n",
      "8.0                                                                                                                              [Fabricación mecánica ]\n",
      "9.0                                                                                                                        [Instalación y mantenimiento]\n",
      "10.0                                                                                                                        [Electricidad y electrónica]\n",
      "12.0                                                                                                          [Transporte y mantenimiento de vehículos ]\n",
      "14.0                                                                                                                         [Edificación y obra civil ]\n",
      "18.0                                                                                                                                   [Artes gráficas ]\n",
      "19.0                                                                                                                                   [Imagen y sonido]\n",
      "20.0                                                                                                                      [Informática y comunicaciones]\n",
      "21.0                                                                                                                         [Administración y gestión ]\n",
      "23.0                                                                                                       [Servicios socioculturales y a la comunidad ]\n",
      "24.0                                                                                                                             [Hostelería y turismo ]\n",
      "25.0                                                              [Actividades físicas y deportivas (incluidas enseñanzas deportivas de grado superior)]\n",
      "88.0       [Estudios artísticos superiores (artes plásticas, diseño, música y danza, arte dramático o conservación y restauración de bienes culturales)]\n"
     ]
    }
   ],
   "source": [
    "D_dict['fam_gsup2']=D_dict['fam_gsup1']\n",
    "traduce('fam_gsup2')"
   ]
  },
  {
   "cell_type": "markdown",
   "metadata": {},
   "source": [
    "## 'EST_B26_2'  \n",
    "(Solo para quienes declaran haber terminado ciclos formativos de grado superior y/o estudios artísticos\n",
    "superiores -respuesta 1 en variable 'EST_B11_5' (o 'g_sup') o  en 'EST_B11_4' (o 'est_art')-)  \n",
    "\n",
    "**Momento en que terminó** el segundo ciclo formativo de grado superior (formación profesional, artes plásticas y diseño) o enseñanzas deportivas de grado superior mencionado."
   ]
  },
  {
   "cell_type": "code",
   "execution_count": 353,
   "metadata": {},
   "outputs": [
    {
     "data": {
      "text/plain": [
       "array([' ', '1', '3', '2'], dtype=object)"
      ]
     },
     "execution_count": 353,
     "metadata": {},
     "output_type": "execute_result"
    }
   ],
   "source": [
    "df['EST_B26_2'].unique() # No informados como ' ' "
   ]
  },
  {
   "cell_type": "code",
   "execution_count": 354,
   "metadata": {},
   "outputs": [
    {
     "name": "stdout",
     "output_type": "stream",
     "text": [
      "                                                                              aux_traduce\n",
      "                                                                                   unique\n",
      "EST_B26_2                                                                                \n",
      "                                                                           [No aplicable]\n",
      "1                  [Antes de comenzar los estudios de la titulación que finalizó en 2014]\n",
      "2          [Durante la realización de los estudios de la titulación que finalizó en 2014]\n",
      "3                                 [Después de obtener la titulación que finalizó en 2014]\n"
     ]
    }
   ],
   "source": [
    "# Ajuste en diccionario\n",
    "D_dict['EST_B26_2']=diccionario('T2ESTMN')\n",
    "traduce('EST_B26_2')"
   ]
  },
  {
   "cell_type": "code",
   "execution_count": 355,
   "metadata": {},
   "outputs": [
    {
     "name": "stdout",
     "output_type": "stream",
     "text": [
      "[ 1.  2.  3. nan]\n"
     ]
    }
   ],
   "source": [
    "re_otros_estudios('EST_B26_2')"
   ]
  },
  {
   "cell_type": "markdown",
   "metadata": {},
   "source": [
    "## 'EST_B27_2'  \n",
    "(Solo para quienes declaran haber terminado ciclos formativos de grado superior y/o estudios artísticos\n",
    "superiores -respuesta 1 en variable 'EST_B11_5' (o 'g_sup') o  en 'EST_B11_4' (o 'est_art')-)  \n",
    "\n",
    "**Dónde cursó** el segundo ciclo formativo de grado superior (formación profesional, artes plásticas y diseño) o enseñanzas deportivas de grado superior mencionado."
   ]
  },
  {
   "cell_type": "code",
   "execution_count": 356,
   "metadata": {},
   "outputs": [
    {
     "data": {
      "text/plain": [
       "array([' ', '1', '2', '3'], dtype=object)"
      ]
     },
     "execution_count": 356,
     "metadata": {},
     "output_type": "execute_result"
    }
   ],
   "source": [
    "df['EST_B27_2'].unique() # No informado como ' ' "
   ]
  },
  {
   "cell_type": "code",
   "execution_count": 357,
   "metadata": {},
   "outputs": [
    {
     "name": "stdout",
     "output_type": "stream",
     "text": [
      "                                                   aux_traduce\n",
      "                                                        unique\n",
      "EST_B27_2                                                     \n",
      "                                                [No aplicable]\n",
      "1                                    [Completamente en España]\n",
      "2          [Una parte en España y otra parte en el extranjero]\n",
      "3                             [Completamente en el extranjero]\n"
     ]
    }
   ],
   "source": [
    "traduce('EST_B27_2')"
   ]
  },
  {
   "cell_type": "code",
   "execution_count": 358,
   "metadata": {},
   "outputs": [
    {
     "name": "stdout",
     "output_type": "stream",
     "text": [
      "[ 1.  2.  3. nan]\n"
     ]
    }
   ],
   "source": [
    "re_otros_estudios('EST_B27_2')"
   ]
  },
  {
   "cell_type": "code",
   "execution_count": 359,
   "metadata": {},
   "outputs": [
    {
     "name": "stdout",
     "output_type": "stream",
     "text": [
      "                                                  aux_traduce\n",
      "                                                       unique\n",
      "extr_proxy                                                   \n",
      "0                                [No estudió fuera de España]\n",
      "1           [Al menos parte de los estudios en el extranjero]\n",
      "                                                                             extr_proxy_\n",
      "                                                                                  unique\n",
      "EST_B27_2                                                                               \n",
      "1.0        [No estudió fuera de España, Al menos parte de los estudios en el extranjero]\n",
      "2.0                                    [Al menos parte de los estudios en el extranjero]\n",
      "3.0                                    [Al menos parte de los estudios en el extranjero]\n",
      "NaN        [Al menos parte de los estudios en el extranjero, No estudió fuera de España]\n"
     ]
    }
   ],
   "source": [
    "actualiza_extr_proxy('EST_B27_2')"
   ]
  },
  {
   "cell_type": "markdown",
   "metadata": {},
   "source": [
    "## 'EST_B25_FA3'  (redefinida como 'fam_gsup3')   \n",
    "(Solo para quienes declaran haber terminado ciclos formativos de grado superior y/o estudios artísticos\n",
    "superiores -respuesta 1 en variable 'EST_B11_5' (o 'g_sup') o  en 'EST_B11_4' (o 'est_art')-)   \n",
    "\n",
    "**Familia de estudios** del tercer ciclo formativo de grado superior (formación profesional, artes plásticas y diseño) o enseñanzas deportivas de grado superior mencionado."
   ]
  },
  {
   "cell_type": "code",
   "execution_count": 360,
   "metadata": {},
   "outputs": [
    {
     "data": {
      "text/plain": [
       "array(['  ', '88', '20', '10', '06', '18'], dtype=object)"
      ]
     },
     "execution_count": 360,
     "metadata": {},
     "output_type": "execute_result"
    }
   ],
   "source": [
    "df['EST_B25_FA3'].unique() # No informados como '  ' o '99'"
   ]
  },
  {
   "cell_type": "code",
   "execution_count": 361,
   "metadata": {},
   "outputs": [
    {
     "name": "stdout",
     "output_type": "stream",
     "text": [
      "[ 6. 10. 18. 20. 88. nan]\n",
      "                                                                                                                                               aux_traduce\n",
      "                                                                                                                                                    unique\n",
      "EST_B25_FA3                                                                                                                                               \n",
      "6.0                                                                                                                                             [Sanidad ]\n",
      "10.0                                                                                                                          [Electricidad y electrónica]\n",
      "18.0                                                                                                                                     [Artes gráficas ]\n",
      "20.0                                                                                                                        [Informática y comunicaciones]\n",
      "88.0         [Estudios artísticos superiores (artes plásticas, diseño, música y danza, arte dramático o conservación y restauración de bienes culturales)]\n"
     ]
    }
   ],
   "source": [
    "no_respuesta('EST_B25_FA3',blank='  ',nsnc='99')\n",
    "traduce('EST_B25_FA3')"
   ]
  },
  {
   "cell_type": "code",
   "execution_count": 362,
   "metadata": {},
   "outputs": [
    {
     "name": "stdout",
     "output_type": "stream",
     "text": [
      "                                                                                                                                                                                                                                fam_gsup3_\n",
      "                                                                                                                                                                                                                                    unique\n",
      "n_gsup                                                                                                                                                                                                                                    \n",
      "0                                                                                                                                                                                                                                    [nan]\n",
      "1                                                                                                                                                                                                                                    [nan]\n",
      "2                                                                                                                                                                                                                                    [nan]\n",
      "3       [Estudios artísticos superiores (artes plásticas, diseño, música y danza, arte dramático o conservación y restauración de bienes culturales), Informática y comunicaciones, Electricidad y electrónica, Sanidad , Artes gráficas ]\n",
      "                                                                                                                                                                                                                                fam_gsup3_\n",
      "                                                                                                                                                                                                                                    unique\n",
      "n_gsup                                                                                                                                                                                                                                    \n",
      "0                                                                                                                                                                                                                               [No tiene]\n",
      "1                                                                                                                                                                                                                               [No tiene]\n",
      "2                                                                                                                                                                                                                               [No tiene]\n",
      "3       [Estudios artísticos superiores (artes plásticas, diseño, música y danza, arte dramático o conservación y restauración de bienes culturales), Informática y comunicaciones, Electricidad y electrónica, Sanidad , Artes gráficas ]\n"
     ]
    }
   ],
   "source": [
    "re_otros_estudios('EST_B25_FA3','fam_gsup3',3,blank='  ',nsnc='99')"
   ]
  },
  {
   "cell_type": "code",
   "execution_count": 363,
   "metadata": {},
   "outputs": [
    {
     "name": "stdout",
     "output_type": "stream",
     "text": [
      "                                                                                                                                             aux_traduce\n",
      "                                                                                                                                                  unique\n",
      "fam_gsup3                                                                                                                                               \n",
      "0.0                                                                                                                                           [No tiene]\n",
      "6.0                                                                                                                                           [Sanidad ]\n",
      "10.0                                                                                                                        [Electricidad y electrónica]\n",
      "18.0                                                                                                                                   [Artes gráficas ]\n",
      "20.0                                                                                                                      [Informática y comunicaciones]\n",
      "88.0       [Estudios artísticos superiores (artes plásticas, diseño, música y danza, arte dramático o conservación y restauración de bienes culturales)]\n"
     ]
    }
   ],
   "source": [
    "D_dict['fam_gsup3']=D_dict['fam_gsup1']\n",
    "traduce('fam_gsup3')"
   ]
  },
  {
   "cell_type": "markdown",
   "metadata": {},
   "source": [
    "## 'EST_B26_3'  \n",
    "(Solo para quienes declaran haber terminado ciclos formativos de grado superior y/o estudios artísticos\n",
    "superiores -respuesta 1 en variable 'EST_B11_5' (o 'g_sup') o  en 'EST_B11_4' (o 'est_art')-)    \n",
    "\n",
    "**Momento en que terminó** el tercer ciclo formativo de grado superior (formación profesional, artes plásticas y diseño) o enseñanzas deportivas de grado superior mencionado."
   ]
  },
  {
   "cell_type": "code",
   "execution_count": 364,
   "metadata": {},
   "outputs": [
    {
     "data": {
      "text/plain": [
       "array([' ', '1', '2', '3'], dtype=object)"
      ]
     },
     "execution_count": 364,
     "metadata": {},
     "output_type": "execute_result"
    }
   ],
   "source": [
    "df['EST_B26_3'].unique() # No informados como ' ' "
   ]
  },
  {
   "cell_type": "code",
   "execution_count": 365,
   "metadata": {},
   "outputs": [
    {
     "name": "stdout",
     "output_type": "stream",
     "text": [
      "                                                                              aux_traduce\n",
      "                                                                                   unique\n",
      "EST_B26_3                                                                                \n",
      "                                                                           [No aplicable]\n",
      "1                  [Antes de comenzar los estudios de la titulación que finalizó en 2014]\n",
      "2          [Durante la realización de los estudios de la titulación que finalizó en 2014]\n",
      "3                                 [Después de obtener la titulación que finalizó en 2014]\n"
     ]
    }
   ],
   "source": [
    "# Ajuste en diccionario\n",
    "D_dict['EST_B26_3']=diccionario('T2ESTMN')\n",
    "traduce('EST_B26_3')"
   ]
  },
  {
   "cell_type": "code",
   "execution_count": 366,
   "metadata": {},
   "outputs": [
    {
     "name": "stdout",
     "output_type": "stream",
     "text": [
      "[ 1.  2.  3. nan]\n"
     ]
    }
   ],
   "source": [
    "re_otros_estudios('EST_B26_3')"
   ]
  },
  {
   "cell_type": "markdown",
   "metadata": {},
   "source": [
    "## 'EST_B27_3'  \n",
    "(Solo para quienes declaran haber terminado ciclos formativos de grado superior y/o estudios artísticos\n",
    "superiores -respuesta 1 en variable 'EST_B11_5' (o 'g_sup') o  en 'EST_B11_4' (o 'est_art')-)    \n",
    "\n",
    "**Dónde cursó** el tercer ciclo formativo de grado superior (formación profesional, artes plásticas y diseño) o enseñanzas deportivas de grado superior mencionado."
   ]
  },
  {
   "cell_type": "code",
   "execution_count": 367,
   "metadata": {},
   "outputs": [
    {
     "data": {
      "text/plain": [
       "array([' ', '1'], dtype=object)"
      ]
     },
     "execution_count": 367,
     "metadata": {},
     "output_type": "execute_result"
    }
   ],
   "source": [
    "df['EST_B27_3'].unique() # No informados como ' ' "
   ]
  },
  {
   "cell_type": "code",
   "execution_count": 368,
   "metadata": {},
   "outputs": [
    {
     "name": "stdout",
     "output_type": "stream",
     "text": [
      "                         aux_traduce\n",
      "                              unique\n",
      "EST_B27_3                           \n",
      "                      [No aplicable]\n",
      "1          [Completamente en España]\n"
     ]
    }
   ],
   "source": [
    "traduce('EST_B27_3')"
   ]
  },
  {
   "cell_type": "code",
   "execution_count": 369,
   "metadata": {},
   "outputs": [
    {
     "name": "stdout",
     "output_type": "stream",
     "text": [
      "[ 1. nan]\n"
     ]
    }
   ],
   "source": [
    "re_otros_estudios('EST_B27_3')"
   ]
  },
  {
   "cell_type": "code",
   "execution_count": 370,
   "metadata": {},
   "outputs": [
    {
     "name": "stdout",
     "output_type": "stream",
     "text": [
      "                                                  aux_traduce\n",
      "                                                       unique\n",
      "extr_proxy                                                   \n",
      "0                                [No estudió fuera de España]\n",
      "1           [Al menos parte de los estudios en el extranjero]\n",
      "                                                                             extr_proxy_\n",
      "                                                                                  unique\n",
      "EST_B27_3                                                                               \n",
      "1.0                                                         [No estudió fuera de España]\n",
      "NaN        [Al menos parte de los estudios en el extranjero, No estudió fuera de España]\n"
     ]
    }
   ],
   "source": [
    "actualiza_extr_proxy('EST_B27_3')"
   ]
  },
  {
   "cell_type": "markdown",
   "metadata": {},
   "source": [
    "## 'EST_B28'  (redefinida como 'n_gmedio')   \n",
    "(Solo para quienes declaran haber terminado ciclos formativos de grado medio -respuesta 1 en variable 'EST_B11_6' (o 'g_medio')-)  \n",
    "\n",
    "**Número de ciclos formativos de grado medio** que ha completado."
   ]
  },
  {
   "cell_type": "code",
   "execution_count": 371,
   "metadata": {},
   "outputs": [
    {
     "data": {
      "text/plain": [
       "array([' ', '1', '2', '3'], dtype=object)"
      ]
     },
     "execution_count": 371,
     "metadata": {},
     "output_type": "execute_result"
    }
   ],
   "source": [
    "df['EST_B28'].unique() # No informados como ' '"
   ]
  },
  {
   "cell_type": "code",
   "execution_count": 372,
   "metadata": {},
   "outputs": [
    {
     "name": "stdout",
     "output_type": "stream",
     "text": [
      "            aux_traduce\n",
      "                 unique\n",
      "EST_B28                \n",
      "         [No aplicable]\n",
      "1                 [Uno]\n",
      "2                [Dos ]\n",
      "3          [Tres o más]\n"
     ]
    }
   ],
   "source": [
    "traduce('EST_B28')"
   ]
  },
  {
   "cell_type": "code",
   "execution_count": 373,
   "metadata": {},
   "outputs": [],
   "source": [
    "redefine('EST_B28','n_gmedio')"
   ]
  },
  {
   "cell_type": "code",
   "execution_count": 374,
   "metadata": {},
   "outputs": [
    {
     "data": {
      "text/html": [
       "<div>\n",
       "<style scoped>\n",
       "    .dataframe tbody tr th:only-of-type {\n",
       "        vertical-align: middle;\n",
       "    }\n",
       "\n",
       "    .dataframe tbody tr th {\n",
       "        vertical-align: top;\n",
       "    }\n",
       "\n",
       "    .dataframe thead tr th {\n",
       "        text-align: left;\n",
       "    }\n",
       "\n",
       "    .dataframe thead tr:last-of-type th {\n",
       "        text-align: right;\n",
       "    }\n",
       "</style>\n",
       "<table border=\"1\" class=\"dataframe\">\n",
       "  <thead>\n",
       "    <tr>\n",
       "      <th></th>\n",
       "      <th>n_gmedio</th>\n",
       "    </tr>\n",
       "    <tr>\n",
       "      <th></th>\n",
       "      <th>unique</th>\n",
       "    </tr>\n",
       "    <tr>\n",
       "      <th>g_medio</th>\n",
       "      <th></th>\n",
       "    </tr>\n",
       "  </thead>\n",
       "  <tbody>\n",
       "    <tr>\n",
       "      <th>0</th>\n",
       "      <td>[ ]</td>\n",
       "    </tr>\n",
       "    <tr>\n",
       "      <th>1</th>\n",
       "      <td>[1, 2, 3]</td>\n",
       "    </tr>\n",
       "  </tbody>\n",
       "</table>\n",
       "</div>"
      ],
      "text/plain": [
       "          n_gmedio\n",
       "            unique\n",
       "g_medio           \n",
       "0              [ ]\n",
       "1        [1, 2, 3]"
      ]
     },
     "execution_count": 374,
     "metadata": {},
     "output_type": "execute_result"
    }
   ],
   "source": [
    "df[['n_gmedio','g_medio']].groupby('g_medio',dropna=False).agg(['unique']) # Inspección: "
   ]
  },
  {
   "cell_type": "code",
   "execution_count": 375,
   "metadata": {},
   "outputs": [
    {
     "data": {
      "text/html": [
       "<div>\n",
       "<style scoped>\n",
       "    .dataframe tbody tr th:only-of-type {\n",
       "        vertical-align: middle;\n",
       "    }\n",
       "\n",
       "    .dataframe tbody tr th {\n",
       "        vertical-align: top;\n",
       "    }\n",
       "\n",
       "    .dataframe thead tr th {\n",
       "        text-align: left;\n",
       "    }\n",
       "\n",
       "    .dataframe thead tr:last-of-type th {\n",
       "        text-align: right;\n",
       "    }\n",
       "</style>\n",
       "<table border=\"1\" class=\"dataframe\">\n",
       "  <thead>\n",
       "    <tr>\n",
       "      <th></th>\n",
       "      <th>n_gmedio</th>\n",
       "    </tr>\n",
       "    <tr>\n",
       "      <th></th>\n",
       "      <th>unique</th>\n",
       "    </tr>\n",
       "    <tr>\n",
       "      <th>g_medio</th>\n",
       "      <th></th>\n",
       "    </tr>\n",
       "  </thead>\n",
       "  <tbody>\n",
       "    <tr>\n",
       "      <th>0</th>\n",
       "      <td>[0]</td>\n",
       "    </tr>\n",
       "    <tr>\n",
       "      <th>1</th>\n",
       "      <td>[1, 2, 3]</td>\n",
       "    </tr>\n",
       "  </tbody>\n",
       "</table>\n",
       "</div>"
      ],
      "text/plain": [
       "          n_gmedio\n",
       "            unique\n",
       "g_medio           \n",
       "0              [0]\n",
       "1        [1, 2, 3]"
      ]
     },
     "execution_count": 375,
     "metadata": {},
     "output_type": "execute_result"
    }
   ],
   "source": [
    "# Se imputa valor 0 a quienes declararon no haber completado ciclos formativos de grado medio: \n",
    "df['n_gmedio'].mask(df['g_medio']==0,0,inplace=True)\n",
    "df['n_gmedio']=df['n_gmedio'].astype('int')\n",
    "df[['n_gmedio','g_medio']].groupby('g_medio',dropna=False).agg(['unique']) # Comprobación: "
   ]
  },
  {
   "cell_type": "code",
   "execution_count": 376,
   "metadata": {},
   "outputs": [],
   "source": [
    "# Se establece otros_estudios referido a ciclos formativos de grado medio: \n",
    "otros_estudios='n_gmedio'"
   ]
  },
  {
   "cell_type": "markdown",
   "metadata": {},
   "source": [
    "## 'EST_B29_FA1'  (redefinida como 'fam_gmedio1')   \n",
    "(Solo para quienes declaran haber terminado ciclos formativos de grado medio -respuesta 1 en variable 'EST_B11_6' (o 'g_medio')-) \n",
    "\n",
    "**Familia de estudios** del primer ciclo formativo de grado medio mencionado."
   ]
  },
  {
   "cell_type": "code",
   "execution_count": 377,
   "metadata": {},
   "outputs": [
    {
     "data": {
      "text/plain": [
       "array(['  ', '01', '03', '04', '05', '06', '08', '09', '10', '12', '14',\n",
       "       '17', '18', '19', '20', '21', '22', '23', '24', '25', '88', '99'],\n",
       "      dtype=object)"
      ]
     },
     "execution_count": 377,
     "metadata": {},
     "output_type": "execute_result"
    }
   ],
   "source": [
    "df['EST_B29_FA1'].sort_values().unique() # No informados como '  ' o '99'"
   ]
  },
  {
   "cell_type": "code",
   "execution_count": 378,
   "metadata": {},
   "outputs": [
    {
     "name": "stdout",
     "output_type": "stream",
     "text": [
      "[ 1.  3.  4.  5.  6.  8.  9. 10. 12. 14. 17. 18. 19. 20. 21. 22. 23. 24.\n",
      " 25. 88. nan]\n",
      "                                                                                     aux_traduce\n",
      "                                                                                          unique\n",
      "EST_B29_FA1                                                                                     \n",
      "1.0                                                                                    [Agraria]\n",
      "3.0                                                                   [Industrias alimentarias ]\n",
      "4.0                                                                                    [Química]\n",
      "5.0                                                                           [Imagen personal ]\n",
      "6.0                                                                                   [Sanidad ]\n",
      "8.0                                                                      [Fabricación mecánica ]\n",
      "9.0                                                                [Instalación y mantenimiento]\n",
      "10.0                                                                [Electricidad y electrónica]\n",
      "12.0                                                  [Transporte y mantenimiento de vehículos ]\n",
      "14.0                                                                 [Edificación y obra civil ]\n",
      "17.0                                                                 [Textil, confección y piel]\n",
      "18.0                                                                           [Artes gráficas ]\n",
      "19.0                                                                           [Imagen y sonido]\n",
      "20.0                                                              [Informática y comunicaciones]\n",
      "21.0                                                                 [Administración y gestión ]\n",
      "22.0                                                                      [Comercio y marketing]\n",
      "23.0                                               [Servicios socioculturales y a la comunidad ]\n",
      "24.0                                                                     [Hostelería y turismo ]\n",
      "25.0         [Actividades físicas y deportivas (incluidas enseñanzas deportivas de grado medio)]\n",
      "88.0                                                       [Enseñanzas artísticas profesionales]\n"
     ]
    }
   ],
   "source": [
    "no_respuesta('EST_B29_FA1',blank='  ',nsnc='99')\n",
    "traduce('EST_B29_FA1')"
   ]
  },
  {
   "cell_type": "code",
   "execution_count": 379,
   "metadata": {},
   "outputs": [
    {
     "name": "stdout",
     "output_type": "stream",
     "text": [
      "                                                                                                                                                                                                                                                                                                         fam_gmedio1_\n",
      "                                                                                                                                                                                                                                                                                                               unique\n",
      "n_gmedio                                                                                                                                                                                                                                                                                                             \n",
      "0                                                                                                                                                                                                                                                                                                               [nan]\n",
      "1         [Enseñanzas artísticas profesionales, Actividades físicas y deportivas (incluidas enseñanzas deportivas de grado medio), Electricidad y electrónica, Sanidad , Textil, confección y piel, nan, Servicios socioculturales y a la comunidad , Administración y gestión , Informática y comunicaciones, Tra...\n",
      "2                                                                [Actividades físicas y deportivas (incluidas enseñanzas deportivas de grado medio), Sanidad , Administración y gestión , Enseñanzas artísticas profesionales, Transporte y mantenimiento de vehículos , Artes gráficas , Electricidad y electrónica]\n",
      "3                                                                                                                                                                                                                                 [Actividades físicas y deportivas (incluidas enseñanzas deportivas de grado medio)]\n",
      "                                                                                                                                                                                                                                                                                                         fam_gmedio1_\n",
      "                                                                                                                                                                                                                                                                                                               unique\n",
      "n_gmedio                                                                                                                                                                                                                                                                                                             \n",
      "0                                                                                                                                                                                                                                                                                                          [No tiene]\n",
      "1         [Enseñanzas artísticas profesionales, Actividades físicas y deportivas (incluidas enseñanzas deportivas de grado medio), Electricidad y electrónica, Sanidad , Textil, confección y piel, No conocido, Servicios socioculturales y a la comunidad , Administración y gestión , Informática y comunicacio...\n",
      "2                                                                [Actividades físicas y deportivas (incluidas enseñanzas deportivas de grado medio), Sanidad , Administración y gestión , Enseñanzas artísticas profesionales, Transporte y mantenimiento de vehículos , Artes gráficas , Electricidad y electrónica]\n",
      "3                                                                                                                                                                                                                                 [Actividades físicas y deportivas (incluidas enseñanzas deportivas de grado medio)]\n"
     ]
    }
   ],
   "source": [
    "re_otros_estudios('EST_B29_FA1','fam_gmedio1',1,blank='  ',nsnc='99')"
   ]
  },
  {
   "cell_type": "code",
   "execution_count": 380,
   "metadata": {},
   "outputs": [
    {
     "name": "stdout",
     "output_type": "stream",
     "text": [
      "                                                                                     aux_traduce\n",
      "                                                                                          unique\n",
      "fam_gmedio1                                                                                     \n",
      "0.0                                                                                   [No tiene]\n",
      "1.0                                                                                [No conocido]\n",
      "3.0                                                                   [Industrias alimentarias ]\n",
      "4.0                                                                                    [Química]\n",
      "5.0                                                                           [Imagen personal ]\n",
      "6.0                                                                                   [Sanidad ]\n",
      "8.0                                                                      [Fabricación mecánica ]\n",
      "9.0                                                                [Instalación y mantenimiento]\n",
      "10.0                                                                [Electricidad y electrónica]\n",
      "12.0                                                  [Transporte y mantenimiento de vehículos ]\n",
      "14.0                                                                 [Edificación y obra civil ]\n",
      "17.0                                                                 [Textil, confección y piel]\n",
      "18.0                                                                           [Artes gráficas ]\n",
      "19.0                                                                           [Imagen y sonido]\n",
      "20.0                                                              [Informática y comunicaciones]\n",
      "21.0                                                                 [Administración y gestión ]\n",
      "22.0                                                                      [Comercio y marketing]\n",
      "23.0                                               [Servicios socioculturales y a la comunidad ]\n",
      "24.0                                                                     [Hostelería y turismo ]\n",
      "25.0         [Actividades físicas y deportivas (incluidas enseñanzas deportivas de grado medio)]\n",
      "88.0                                                       [Enseñanzas artísticas profesionales]\n"
     ]
    }
   ],
   "source": [
    "#D_dict['fam_gmedio1'][0]='No tiene'\n",
    "traduce('fam_gmedio1')"
   ]
  },
  {
   "cell_type": "markdown",
   "metadata": {},
   "source": [
    "## 'EST_B30_1'  \n",
    "(Solo para quienes declaran haber terminado ciclos formativos de grado medio -respuesta 1 en variable 'EST_B11_6' (o 'g_medio')-)  \n",
    "\n",
    "**Momento en que terminó** el primer ciclo formativo de grado medio mencionado."
   ]
  },
  {
   "cell_type": "code",
   "execution_count": 381,
   "metadata": {},
   "outputs": [
    {
     "data": {
      "text/plain": [
       "array([' ', '1', '3', '9', '2'], dtype=object)"
      ]
     },
     "execution_count": 381,
     "metadata": {},
     "output_type": "execute_result"
    }
   ],
   "source": [
    "df['EST_B30_1'].unique() # No informados como ' ' o '9'"
   ]
  },
  {
   "cell_type": "code",
   "execution_count": 382,
   "metadata": {},
   "outputs": [
    {
     "name": "stdout",
     "output_type": "stream",
     "text": [
      "                                                                              aux_traduce\n",
      "                                                                                   unique\n",
      "EST_B30_1                                                                                \n",
      "                                                                           [No aplicable]\n",
      "1                  [Antes de comenzar los estudios de la titulación que finalizó en 2014]\n",
      "2          [Durante la realización de los estudios de la titulación que finalizó en 2014]\n",
      "3                                 [Después de obtener la titulación que finalizó en 2014]\n",
      "9                                                                                 [NS/NC]\n"
     ]
    }
   ],
   "source": [
    "# Ajuste en diccionario\n",
    "D_dict['EST_B30_1']=diccionario('T2ESTMN')\n",
    "traduce('EST_B30_1')"
   ]
  },
  {
   "cell_type": "code",
   "execution_count": 383,
   "metadata": {},
   "outputs": [
    {
     "name": "stdout",
     "output_type": "stream",
     "text": [
      "[ 1.  2.  3. nan]\n"
     ]
    }
   ],
   "source": [
    "re_otros_estudios('EST_B30_1')"
   ]
  },
  {
   "cell_type": "markdown",
   "metadata": {},
   "source": [
    "## 'EST_B31_1'  \n",
    "(Solo para quienes declaran haber terminado ciclos formativos de grado medio -respuesta 1 en variable 'EST_B11_6' (o 'g_medio')-) \n",
    "\n",
    "**Dónde cursó** el primer ciclo formativo de grado medio mencionado."
   ]
  },
  {
   "cell_type": "code",
   "execution_count": 384,
   "metadata": {},
   "outputs": [
    {
     "data": {
      "text/plain": [
       "array([' ', '1', '3'], dtype=object)"
      ]
     },
     "execution_count": 384,
     "metadata": {},
     "output_type": "execute_result"
    }
   ],
   "source": [
    "df['EST_B31_1'].unique() # No informados como ' ' o '9'"
   ]
  },
  {
   "cell_type": "code",
   "execution_count": 385,
   "metadata": {},
   "outputs": [
    {
     "name": "stdout",
     "output_type": "stream",
     "text": [
      "                                aux_traduce\n",
      "                                     unique\n",
      "EST_B31_1                                  \n",
      "                             [No aplicable]\n",
      "1                 [Completamente en España]\n",
      "3          [Completamente en el extranjero]\n"
     ]
    }
   ],
   "source": [
    "traduce('EST_B31_1')"
   ]
  },
  {
   "cell_type": "code",
   "execution_count": 386,
   "metadata": {},
   "outputs": [
    {
     "name": "stdout",
     "output_type": "stream",
     "text": [
      "[ 1.  3. nan]\n"
     ]
    }
   ],
   "source": [
    "re_otros_estudios('EST_B31_1')"
   ]
  },
  {
   "cell_type": "code",
   "execution_count": 387,
   "metadata": {},
   "outputs": [
    {
     "name": "stdout",
     "output_type": "stream",
     "text": [
      "                                                  aux_traduce\n",
      "                                                       unique\n",
      "extr_proxy                                                   \n",
      "0                                [No estudió fuera de España]\n",
      "1           [Al menos parte de los estudios en el extranjero]\n",
      "                                                                             extr_proxy_\n",
      "                                                                                  unique\n",
      "EST_B31_1                                                                               \n",
      "1.0        [No estudió fuera de España, Al menos parte de los estudios en el extranjero]\n",
      "3.0                                    [Al menos parte de los estudios en el extranjero]\n",
      "NaN        [Al menos parte de los estudios en el extranjero, No estudió fuera de España]\n"
     ]
    }
   ],
   "source": [
    "actualiza_extr_proxy('EST_B31_1')"
   ]
  },
  {
   "cell_type": "markdown",
   "metadata": {},
   "source": [
    "## 'EST_B29_FA2'  (redesignada como 'fam_gmedio2')   \n",
    "(Solo para quienes declaran haber terminado ciclos formativos de grado medio -respuesta 1 en variable 'EST_B11_6' (o 'g_medio')-) \n",
    "\n",
    "**Familia de estudios** del segundo ciclo formativo de grado medio mencionado."
   ]
  },
  {
   "cell_type": "code",
   "execution_count": 388,
   "metadata": {},
   "outputs": [
    {
     "data": {
      "text/plain": [
       "array(['  ', '06', '10', '18', '19', '25', '88'], dtype=object)"
      ]
     },
     "execution_count": 388,
     "metadata": {},
     "output_type": "execute_result"
    }
   ],
   "source": [
    "df['EST_B29_FA2'].sort_values().unique() # No informados como '  '"
   ]
  },
  {
   "cell_type": "code",
   "execution_count": 389,
   "metadata": {},
   "outputs": [
    {
     "name": "stdout",
     "output_type": "stream",
     "text": [
      "[ 6. 10. 18. 19. 25. 88. nan]\n",
      "                                                                                     aux_traduce\n",
      "                                                                                          unique\n",
      "EST_B29_FA2                                                                                     \n",
      "6.0                                                                                   [Sanidad ]\n",
      "10.0                                                                [Electricidad y electrónica]\n",
      "18.0                                                                           [Artes gráficas ]\n",
      "19.0                                                                           [Imagen y sonido]\n",
      "25.0         [Actividades físicas y deportivas (incluidas enseñanzas deportivas de grado medio)]\n",
      "88.0                                                       [Enseñanzas artísticas profesionales]\n"
     ]
    }
   ],
   "source": [
    "no_respuesta('EST_B29_FA2',blank='  ',nsnc='99')\n",
    "traduce('EST_B29_FA2')"
   ]
  },
  {
   "cell_type": "code",
   "execution_count": 390,
   "metadata": {},
   "outputs": [
    {
     "name": "stdout",
     "output_type": "stream",
     "text": [
      "                                                                                                                                                                                              fam_gmedio2_\n",
      "                                                                                                                                                                                                    unique\n",
      "n_gmedio                                                                                                                                                                                                  \n",
      "0                                                                                                                                                                                                    [nan]\n",
      "1                                                                                                                                                                                                    [nan]\n",
      "2         [Actividades físicas y deportivas (incluidas enseñanzas deportivas de grado medio), Sanidad , Enseñanzas artísticas profesionales, Imagen y sonido, Artes gráficas , Electricidad y electrónica]\n",
      "3                                                                                                                      [Actividades físicas y deportivas (incluidas enseñanzas deportivas de grado medio)]\n",
      "                                                                                                                                                                                              fam_gmedio2_\n",
      "                                                                                                                                                                                                    unique\n",
      "n_gmedio                                                                                                                                                                                                  \n",
      "0                                                                                                                                                                                               [No tiene]\n",
      "1                                                                                                                                                                                               [No tiene]\n",
      "2         [Actividades físicas y deportivas (incluidas enseñanzas deportivas de grado medio), Sanidad , Enseñanzas artísticas profesionales, Imagen y sonido, Artes gráficas , Electricidad y electrónica]\n",
      "3                                                                                                                      [Actividades físicas y deportivas (incluidas enseñanzas deportivas de grado medio)]\n"
     ]
    }
   ],
   "source": [
    "re_otros_estudios('EST_B29_FA2','fam_gmedio2',2,blank='  ')"
   ]
  },
  {
   "cell_type": "code",
   "execution_count": 391,
   "metadata": {},
   "outputs": [
    {
     "name": "stdout",
     "output_type": "stream",
     "text": [
      "                                                                                     aux_traduce\n",
      "                                                                                          unique\n",
      "fam_gmedio2                                                                                     \n",
      "0.0                                                                                   [No tiene]\n",
      "6.0                                                                                   [Sanidad ]\n",
      "10.0                                                                [Electricidad y electrónica]\n",
      "18.0                                                                           [Artes gráficas ]\n",
      "19.0                                                                           [Imagen y sonido]\n",
      "25.0         [Actividades físicas y deportivas (incluidas enseñanzas deportivas de grado medio)]\n",
      "88.0                                                       [Enseñanzas artísticas profesionales]\n"
     ]
    }
   ],
   "source": [
    "D_dict['fam_gmedio2']=D_dict['fam_gmedio1']\n",
    "traduce('fam_gmedio2')"
   ]
  },
  {
   "cell_type": "markdown",
   "metadata": {},
   "source": [
    "## 'EST_B30_2'  \n",
    "(Solo para quienes declaran haber terminado ciclos formativos de grado medio -respuesta 1 en variable 'EST_B11_6' (o 'g_medio')-)  \n",
    "\n",
    "**Momento en que terminó** el segundo ciclo formativo de grado medio mencionado."
   ]
  },
  {
   "cell_type": "code",
   "execution_count": 392,
   "metadata": {},
   "outputs": [
    {
     "data": {
      "text/plain": [
       "array([' ', '1', '3'], dtype=object)"
      ]
     },
     "execution_count": 392,
     "metadata": {},
     "output_type": "execute_result"
    }
   ],
   "source": [
    "df['EST_B30_2'].unique() # No informados como ' ' "
   ]
  },
  {
   "cell_type": "code",
   "execution_count": 393,
   "metadata": {},
   "outputs": [
    {
     "name": "stdout",
     "output_type": "stream",
     "text": [
      "                                                                      aux_traduce\n",
      "                                                                           unique\n",
      "EST_B30_2                                                                        \n",
      "                                                                   [No aplicable]\n",
      "1          [Antes de comenzar los estudios de la titulación que finalizó en 2014]\n",
      "3                         [Después de obtener la titulación que finalizó en 2014]\n"
     ]
    }
   ],
   "source": [
    "# Ajuste en diccionario\n",
    "D_dict['EST_B30_2']=diccionario('T2ESTMN')\n",
    "traduce('EST_B30_2')"
   ]
  },
  {
   "cell_type": "code",
   "execution_count": 394,
   "metadata": {},
   "outputs": [
    {
     "name": "stdout",
     "output_type": "stream",
     "text": [
      "[ 1.  3. nan]\n"
     ]
    }
   ],
   "source": [
    "re_otros_estudios('EST_B30_2')"
   ]
  },
  {
   "cell_type": "markdown",
   "metadata": {},
   "source": [
    "## 'EST_31_2'  \n",
    "(Solo para quienes declaran haber terminado ciclos formativos de grado medio -respuesta 1 en variable 'EST_B11_6' (o 'g_medio')-)  \n",
    "\n",
    "**Dónde cursó** el segundo ciclo formativo de grado medio mencionado."
   ]
  },
  {
   "cell_type": "code",
   "execution_count": 395,
   "metadata": {},
   "outputs": [
    {
     "data": {
      "text/plain": [
       "array([' ', '1'], dtype=object)"
      ]
     },
     "execution_count": 395,
     "metadata": {},
     "output_type": "execute_result"
    }
   ],
   "source": [
    "df['EST_B31_2'].unique() # No informados como ' ' "
   ]
  },
  {
   "cell_type": "code",
   "execution_count": 396,
   "metadata": {},
   "outputs": [
    {
     "name": "stdout",
     "output_type": "stream",
     "text": [
      "                         aux_traduce\n",
      "                              unique\n",
      "EST_B31_2                           \n",
      "                      [No aplicable]\n",
      "1          [Completamente en España]\n"
     ]
    }
   ],
   "source": [
    "traduce('EST_B31_2')"
   ]
  },
  {
   "cell_type": "code",
   "execution_count": 397,
   "metadata": {},
   "outputs": [
    {
     "name": "stdout",
     "output_type": "stream",
     "text": [
      "[ 1. nan]\n"
     ]
    }
   ],
   "source": [
    "re_otros_estudios('EST_B31_2')"
   ]
  },
  {
   "cell_type": "code",
   "execution_count": 398,
   "metadata": {},
   "outputs": [
    {
     "name": "stdout",
     "output_type": "stream",
     "text": [
      "                                                  aux_traduce\n",
      "                                                       unique\n",
      "extr_proxy                                                   \n",
      "0                                [No estudió fuera de España]\n",
      "1           [Al menos parte de los estudios en el extranjero]\n",
      "                                                                             extr_proxy_\n",
      "                                                                                  unique\n",
      "EST_B31_2                                                                               \n",
      "1.0        [Al menos parte de los estudios en el extranjero, No estudió fuera de España]\n",
      "NaN        [Al menos parte de los estudios en el extranjero, No estudió fuera de España]\n"
     ]
    }
   ],
   "source": [
    "actualiza_extr_proxy('EST_B31_2')"
   ]
  },
  {
   "cell_type": "markdown",
   "metadata": {},
   "source": [
    "## 'EST_B29_FA3'  (redefinida como 'fam_gmedio3')   \n",
    "(Solo para quienes declaran haber terminado ciclos formativos de grado medio -respuesta 1 en variable 'EST_B11_6' (o 'g_medio')-) \n",
    "\n",
    "**Familia de estudios** del tercer ciclo formativo de grado medio mencionado."
   ]
  },
  {
   "cell_type": "code",
   "execution_count": 399,
   "metadata": {},
   "outputs": [
    {
     "data": {
      "text/plain": [
       "array(['  ', '23'], dtype=object)"
      ]
     },
     "execution_count": 399,
     "metadata": {},
     "output_type": "execute_result"
    }
   ],
   "source": [
    "df['EST_B29_FA3'].unique() # No informados como '  '"
   ]
  },
  {
   "cell_type": "code",
   "execution_count": 400,
   "metadata": {},
   "outputs": [
    {
     "name": "stdout",
     "output_type": "stream",
     "text": [
      "[23. nan]\n",
      "                                               aux_traduce\n",
      "                                                    unique\n",
      "EST_B29_FA3                                               \n",
      "23.0         [Servicios socioculturales y a la comunidad ]\n"
     ]
    }
   ],
   "source": [
    "no_respuesta('EST_B29_FA3',blank='  ',nsnc='99')\n",
    "traduce('EST_B29_FA3')"
   ]
  },
  {
   "cell_type": "code",
   "execution_count": 401,
   "metadata": {},
   "outputs": [
    {
     "name": "stdout",
     "output_type": "stream",
     "text": [
      "                                           fam_gmedio3_\n",
      "                                                 unique\n",
      "n_gmedio                                               \n",
      "0                                                 [nan]\n",
      "1                                                 [nan]\n",
      "2                                                 [nan]\n",
      "3         [Servicios socioculturales y a la comunidad ]\n",
      "                                           fam_gmedio3_\n",
      "                                                 unique\n",
      "n_gmedio                                               \n",
      "0                                            [No tiene]\n",
      "1                                            [No tiene]\n",
      "2                                            [No tiene]\n",
      "3         [Servicios socioculturales y a la comunidad ]\n"
     ]
    }
   ],
   "source": [
    "re_otros_estudios('EST_B29_FA3','fam_gmedio3',3,blank='  ')"
   ]
  },
  {
   "cell_type": "code",
   "execution_count": 402,
   "metadata": {},
   "outputs": [
    {
     "name": "stdout",
     "output_type": "stream",
     "text": [
      "                                               aux_traduce\n",
      "                                                    unique\n",
      "fam_gmedio3                                               \n",
      "0.0                                             [No tiene]\n",
      "23.0         [Servicios socioculturales y a la comunidad ]\n"
     ]
    }
   ],
   "source": [
    "D_dict['fam_gmedio3']=D_dict['fam_gmedio1']\n",
    "traduce('fam_gmedio3')"
   ]
  },
  {
   "cell_type": "markdown",
   "metadata": {},
   "source": [
    "## 'EST_B30_3'  \n",
    "(Solo para quienes declaran haber terminado ciclos formativos de grado medio -respuesta 1 en variable 'EST_B11_6' (o 'g_medio')-) \n",
    "\n",
    "**Momento en que terminó** el tercer ciclo formativo de grado medio mencionado"
   ]
  },
  {
   "cell_type": "code",
   "execution_count": 403,
   "metadata": {},
   "outputs": [
    {
     "data": {
      "text/plain": [
       "array([' ', '1'], dtype=object)"
      ]
     },
     "execution_count": 403,
     "metadata": {},
     "output_type": "execute_result"
    }
   ],
   "source": [
    "df['EST_B30_3'].unique() # No informados como ' ' "
   ]
  },
  {
   "cell_type": "code",
   "execution_count": 404,
   "metadata": {},
   "outputs": [
    {
     "name": "stdout",
     "output_type": "stream",
     "text": [
      "                                                                      aux_traduce\n",
      "                                                                           unique\n",
      "EST_B30_3                                                                        \n",
      "                                                                   [No aplicable]\n",
      "1          [Antes de comenzar los estudios de la titulación que finalizó en 2014]\n"
     ]
    }
   ],
   "source": [
    "# Ajuste en diccionario\n",
    "D_dict['EST_B30_3']=diccionario('T2ESTMN')\n",
    "traduce('EST_B30_3')"
   ]
  },
  {
   "cell_type": "code",
   "execution_count": 405,
   "metadata": {},
   "outputs": [
    {
     "name": "stdout",
     "output_type": "stream",
     "text": [
      "[ 1. nan]\n"
     ]
    }
   ],
   "source": [
    "re_otros_estudios('EST_B30_3')"
   ]
  },
  {
   "cell_type": "markdown",
   "metadata": {},
   "source": [
    "## 'EST_B31_3'  \n",
    "(Solo para quienes declaran haber terminado ciclos formativos de grado medio -respuesta 1 en variable 'EST_B11_6' (o 'g_medio')-)  \n",
    "\n",
    "**Dónde cursó** el tercer ciclo formativo de grado medio mencionado."
   ]
  },
  {
   "cell_type": "code",
   "execution_count": 406,
   "metadata": {},
   "outputs": [
    {
     "data": {
      "text/plain": [
       "array([' ', '1'], dtype=object)"
      ]
     },
     "execution_count": 406,
     "metadata": {},
     "output_type": "execute_result"
    }
   ],
   "source": [
    "df['EST_B31_3'].unique() # No informados como ' ' "
   ]
  },
  {
   "cell_type": "code",
   "execution_count": 407,
   "metadata": {},
   "outputs": [
    {
     "name": "stdout",
     "output_type": "stream",
     "text": [
      "                         aux_traduce\n",
      "                              unique\n",
      "EST_B31_3                           \n",
      "                      [No aplicable]\n",
      "1          [Completamente en España]\n"
     ]
    }
   ],
   "source": [
    "traduce('EST_B31_3')"
   ]
  },
  {
   "cell_type": "code",
   "execution_count": 408,
   "metadata": {},
   "outputs": [
    {
     "name": "stdout",
     "output_type": "stream",
     "text": [
      "[ 1. nan]\n"
     ]
    }
   ],
   "source": [
    "re_otros_estudios('EST_B31_3')"
   ]
  },
  {
   "cell_type": "code",
   "execution_count": 409,
   "metadata": {},
   "outputs": [
    {
     "name": "stdout",
     "output_type": "stream",
     "text": [
      "                                                  aux_traduce\n",
      "                                                       unique\n",
      "extr_proxy                                                   \n",
      "0                                [No estudió fuera de España]\n",
      "1           [Al menos parte de los estudios en el extranjero]\n",
      "                                                                             extr_proxy_\n",
      "                                                                                  unique\n",
      "EST_B31_3                                                                               \n",
      "1.0                                                         [No estudió fuera de España]\n",
      "NaN        [Al menos parte de los estudios en el extranjero, No estudió fuera de España]\n"
     ]
    }
   ],
   "source": [
    "actualiza_extr_proxy('EST_B31_3')"
   ]
  },
  {
   "cell_type": "markdown",
   "metadata": {},
   "source": [
    "## 'EST2_NC'   \n",
    "\n",
    "**Estudios en curso**."
   ]
  },
  {
   "cell_type": "code",
   "execution_count": 410,
   "metadata": {},
   "outputs": [
    {
     "data": {
      "text/plain": [
       "array([ 9,  5,  2,  4,  1,  7,  6, 99,  3,  8])"
      ]
     },
     "execution_count": 410,
     "metadata": {},
     "output_type": "execute_result"
    }
   ],
   "source": [
    "df['EST2_NC'].unique()"
   ]
  },
  {
   "cell_type": "code",
   "execution_count": 411,
   "metadata": {},
   "outputs": [],
   "source": [
    "traduce('EST2_NC',check=False)"
   ]
  },
  {
   "cell_type": "code",
   "execution_count": 412,
   "metadata": {},
   "outputs": [
    {
     "name": "stdout",
     "output_type": "stream",
     "text": [
      "1 \t Grado universitario de 180 créditos (3 años)\n",
      "2 \t Grado universitario de 240 créditos (4 años)\n",
      "3 \t Grado universitario de más de 240 créditos (5 años o más)\n",
      "9 \t No estoy cursando ninguno de los estudios anteriores\n",
      "4 \t Máster universitario\n",
      "5 \t Doctorado universitario\n",
      "6 \t Estudios artísticos superiores (artes plásticas, diseño, música y danza, arte dramático o conservación y restauración de bienes culturales)\n",
      "7 \t Ciclos Formativos de grado superior (formación profesional, artes plásticas y diseño) o Enseñanzas Deportivas de Grado Superior\n",
      "8 \t Ciclos Formativos de grado medio (formación profesional, artes plásticas y diseño) o Enseñanzas Deportivas de Grado Medio\n",
      "99 \t NS/NC\n"
     ]
    }
   ],
   "source": [
    "leyenda('EST2_NC')"
   ]
  },
  {
   "cell_type": "code",
   "execution_count": 413,
   "metadata": {},
   "outputs": [
    {
     "name": "stdout",
     "output_type": "stream",
     "text": [
      "[ 1.  2.  3.  4.  5.  6.  7.  8.  9. nan]\n"
     ]
    }
   ],
   "source": [
    "no_respuesta('EST2_NC',nsnc=99, tipo='int')"
   ]
  },
  {
   "cell_type": "markdown",
   "metadata": {},
   "source": [
    "## 'IDI_MT1'   (redefinida como 'idioma_m1')\n",
    "\n",
    "**Primer idioma materno**."
   ]
  },
  {
   "cell_type": "code",
   "execution_count": 414,
   "metadata": {},
   "outputs": [
    {
     "data": {
      "text/plain": [
       "array([ 1, 14,  2,  3,  8,  7,  4,  5, 13,  6, 15, 10, 12,  9, 11])"
      ]
     },
     "execution_count": 414,
     "metadata": {},
     "output_type": "execute_result"
    }
   ],
   "source": [
    "df['IDI_MT1'].unique() # Sin no informados"
   ]
  },
  {
   "cell_type": "code",
   "execution_count": 415,
   "metadata": {},
   "outputs": [
    {
     "name": "stdout",
     "output_type": "stream",
     "text": [
      "             aux_traduce\n",
      "                  unique\n",
      "IDI_MT1                 \n",
      "1              [Español]\n",
      "2              [Catalán]\n",
      "3              [Euskera]\n",
      "4              [Gallego]\n",
      "5           [Valenciano]\n",
      "6               [Inglés]\n",
      "7              [Francés]\n",
      "8               [Alemán]\n",
      "9             [Italiano]\n",
      "10           [Portugués]\n",
      "11              [Rumano]\n",
      "12               [Árabe]\n",
      "13               [Chino]\n",
      "14                [Ruso]\n",
      "15       [Otros idiomas]\n"
     ]
    }
   ],
   "source": [
    "traduce('IDI_MT1')"
   ]
  },
  {
   "cell_type": "code",
   "execution_count": 416,
   "metadata": {},
   "outputs": [],
   "source": [
    "redefine('IDI_MT1','idioma_m1')"
   ]
  },
  {
   "cell_type": "code",
   "execution_count": 417,
   "metadata": {},
   "outputs": [
    {
     "data": {
      "text/html": [
       "<div>\n",
       "<style scoped>\n",
       "    .dataframe tbody tr th:only-of-type {\n",
       "        vertical-align: middle;\n",
       "    }\n",
       "\n",
       "    .dataframe tbody tr th {\n",
       "        vertical-align: top;\n",
       "    }\n",
       "\n",
       "    .dataframe thead th {\n",
       "        text-align: right;\n",
       "    }\n",
       "</style>\n",
       "<table border=\"1\" class=\"dataframe\">\n",
       "  <thead>\n",
       "    <tr style=\"text-align: right;\">\n",
       "      <th></th>\n",
       "      <th>IDI_MT1_</th>\n",
       "    </tr>\n",
       "  </thead>\n",
       "  <tbody>\n",
       "    <tr>\n",
       "      <th>Español</th>\n",
       "      <td>0.833841</td>\n",
       "    </tr>\n",
       "    <tr>\n",
       "      <th>Catalán</th>\n",
       "      <td>0.082034</td>\n",
       "    </tr>\n",
       "    <tr>\n",
       "      <th>Gallego</th>\n",
       "      <td>0.025516</td>\n",
       "    </tr>\n",
       "    <tr>\n",
       "      <th>Euskera</th>\n",
       "      <td>0.024645</td>\n",
       "    </tr>\n",
       "    <tr>\n",
       "      <th>Valenciano</th>\n",
       "      <td>0.020726</td>\n",
       "    </tr>\n",
       "    <tr>\n",
       "      <th>Otros idiomas</th>\n",
       "      <td>0.003919</td>\n",
       "    </tr>\n",
       "    <tr>\n",
       "      <th>Inglés</th>\n",
       "      <td>0.002264</td>\n",
       "    </tr>\n",
       "    <tr>\n",
       "      <th>Francés</th>\n",
       "      <td>0.001655</td>\n",
       "    </tr>\n",
       "    <tr>\n",
       "      <th>Portugués</th>\n",
       "      <td>0.001132</td>\n",
       "    </tr>\n",
       "    <tr>\n",
       "      <th>Italiano</th>\n",
       "      <td>0.000958</td>\n",
       "    </tr>\n",
       "    <tr>\n",
       "      <th>Alemán</th>\n",
       "      <td>0.000784</td>\n",
       "    </tr>\n",
       "    <tr>\n",
       "      <th>Rumano</th>\n",
       "      <td>0.000784</td>\n",
       "    </tr>\n",
       "    <tr>\n",
       "      <th>Árabe</th>\n",
       "      <td>0.000610</td>\n",
       "    </tr>\n",
       "    <tr>\n",
       "      <th>Ruso</th>\n",
       "      <td>0.000610</td>\n",
       "    </tr>\n",
       "    <tr>\n",
       "      <th>Chino</th>\n",
       "      <td>0.000523</td>\n",
       "    </tr>\n",
       "  </tbody>\n",
       "</table>\n",
       "</div>"
      ],
      "text/plain": [
       "               IDI_MT1_\n",
       "Español        0.833841\n",
       "Catalán        0.082034\n",
       "Gallego        0.025516\n",
       "Euskera        0.024645\n",
       "Valenciano     0.020726\n",
       "Otros idiomas  0.003919\n",
       "Inglés         0.002264\n",
       "Francés        0.001655\n",
       "Portugués      0.001132\n",
       "Italiano       0.000958\n",
       "Alemán         0.000784\n",
       "Rumano         0.000784\n",
       "Árabe          0.000610\n",
       "Ruso           0.000610\n",
       "Chino          0.000523"
      ]
     },
     "execution_count": 417,
     "metadata": {},
     "output_type": "execute_result"
    }
   ],
   "source": [
    "proporciones('IDI_MT1_')"
   ]
  },
  {
   "cell_type": "markdown",
   "metadata": {},
   "source": [
    "## 'IDI_MT2'   (redefinida como 'idioma_m2')\n",
    "\n",
    "**Segundo idioma materno**."
   ]
  },
  {
   "cell_type": "code",
   "execution_count": 418,
   "metadata": {},
   "outputs": [
    {
     "data": {
      "text/plain": [
       "array(['  ', '09', '03', '01', '06', '12', '02', '15', '04', '05', '07',\n",
       "       '08', '14', '10', '11', '13'], dtype=object)"
      ]
     },
     "execution_count": 418,
     "metadata": {},
     "output_type": "execute_result"
    }
   ],
   "source": [
    "df['IDI_MT2'].unique() # No informados como '  '"
   ]
  },
  {
   "cell_type": "code",
   "execution_count": 419,
   "metadata": {},
   "outputs": [
    {
     "name": "stdout",
     "output_type": "stream",
     "text": [
      "[ 1.  2.  3.  4.  5.  6.  7.  8.  9. 10. 11. 12. 13. 14. 15. nan]\n"
     ]
    }
   ],
   "source": [
    "no_respuesta('IDI_MT2',blank='  ')"
   ]
  },
  {
   "cell_type": "code",
   "execution_count": 420,
   "metadata": {},
   "outputs": [
    {
     "name": "stdout",
     "output_type": "stream",
     "text": [
      "             aux_traduce\n",
      "                  unique\n",
      "IDI_MT2                 \n",
      "1.0            [Español]\n",
      "2.0            [Catalán]\n",
      "3.0            [Euskera]\n",
      "4.0            [Gallego]\n",
      "5.0         [Valenciano]\n",
      "6.0             [Inglés]\n",
      "7.0            [Francés]\n",
      "8.0             [Alemán]\n",
      "9.0           [Italiano]\n",
      "10.0         [Portugués]\n",
      "11.0            [Rumano]\n",
      "12.0             [Árabe]\n",
      "13.0             [Chino]\n",
      "14.0              [Ruso]\n",
      "15.0     [Otros idiomas]\n"
     ]
    }
   ],
   "source": [
    "traduce('IDI_MT2')"
   ]
  },
  {
   "cell_type": "code",
   "execution_count": 421,
   "metadata": {},
   "outputs": [],
   "source": [
    "redefine('IDI_MT2','idioma_m2')"
   ]
  },
  {
   "cell_type": "markdown",
   "metadata": {},
   "source": [
    "## 'IDIOMAS'   (redefinida como 'n_idiomas')\n",
    "\n",
    "**Número de idiomas** que habla sin contar los maternos.\n",
    "\n",
    "Nota: En 'n_idiomas' se computan también los maternos declarados y se prescinde de la leyenda."
   ]
  },
  {
   "cell_type": "code",
   "execution_count": 422,
   "metadata": {},
   "outputs": [
    {
     "data": {
      "text/plain": [
       "array([2, 1, 3, 0, 4, 5, 9])"
      ]
     },
     "execution_count": 422,
     "metadata": {},
     "output_type": "execute_result"
    }
   ],
   "source": [
    "df['IDIOMAS'].unique() # Sin no informados"
   ]
  },
  {
   "cell_type": "code",
   "execution_count": 423,
   "metadata": {},
   "outputs": [
    {
     "name": "stdout",
     "output_type": "stream",
     "text": [
      "        aux_traduce\n",
      "             unique\n",
      "IDIOMAS            \n",
      "0         [Ninguno]\n",
      "1               [1]\n",
      "2               [2]\n",
      "3               [3]\n",
      "4               [4]\n",
      "5         [5 o más]\n",
      "9           [NS/NC]\n"
     ]
    }
   ],
   "source": [
    "traduce('IDIOMAS')"
   ]
  },
  {
   "cell_type": "code",
   "execution_count": 424,
   "metadata": {},
   "outputs": [
    {
     "name": "stdout",
     "output_type": "stream",
     "text": [
      "[ 0.  1.  2.  3.  4.  5. nan]\n"
     ]
    }
   ],
   "source": [
    "no_respuesta('IDIOMAS',tipo='int')"
   ]
  },
  {
   "cell_type": "code",
   "execution_count": 425,
   "metadata": {},
   "outputs": [
    {
     "data": {
      "text/html": [
       "<div>\n",
       "<style scoped>\n",
       "    .dataframe tbody tr th:only-of-type {\n",
       "        vertical-align: middle;\n",
       "    }\n",
       "\n",
       "    .dataframe tbody tr th {\n",
       "        vertical-align: top;\n",
       "    }\n",
       "\n",
       "    .dataframe thead tr th {\n",
       "        text-align: left;\n",
       "    }\n",
       "\n",
       "    .dataframe thead tr:last-of-type th {\n",
       "        text-align: right;\n",
       "    }\n",
       "</style>\n",
       "<table border=\"1\" class=\"dataframe\">\n",
       "  <thead>\n",
       "    <tr>\n",
       "      <th></th>\n",
       "      <th>n_idiomas</th>\n",
       "    </tr>\n",
       "    <tr>\n",
       "      <th></th>\n",
       "      <th>unique</th>\n",
       "    </tr>\n",
       "    <tr>\n",
       "      <th>IDIOMAS_</th>\n",
       "      <th></th>\n",
       "    </tr>\n",
       "  </thead>\n",
       "  <tbody>\n",
       "    <tr>\n",
       "      <th>1</th>\n",
       "      <td>[2.0, 3.0]</td>\n",
       "    </tr>\n",
       "    <tr>\n",
       "      <th>2</th>\n",
       "      <td>[3.0, 4.0]</td>\n",
       "    </tr>\n",
       "    <tr>\n",
       "      <th>3</th>\n",
       "      <td>[5.0, 4.0]</td>\n",
       "    </tr>\n",
       "    <tr>\n",
       "      <th>4</th>\n",
       "      <td>[5.0, 6.0]</td>\n",
       "    </tr>\n",
       "    <tr>\n",
       "      <th>5 o más</th>\n",
       "      <td>[6.0, 7.0]</td>\n",
       "    </tr>\n",
       "    <tr>\n",
       "      <th>Ninguno</th>\n",
       "      <td>[1.0, 2.0]</td>\n",
       "    </tr>\n",
       "    <tr>\n",
       "      <th>NaN</th>\n",
       "      <td>[1.0, 2.0]</td>\n",
       "    </tr>\n",
       "  </tbody>\n",
       "</table>\n",
       "</div>"
      ],
      "text/plain": [
       "           n_idiomas\n",
       "              unique\n",
       "IDIOMAS_            \n",
       "1         [2.0, 3.0]\n",
       "2         [3.0, 4.0]\n",
       "3         [5.0, 4.0]\n",
       "4         [5.0, 6.0]\n",
       "5 o más   [6.0, 7.0]\n",
       "Ninguno   [1.0, 2.0]\n",
       "NaN       [1.0, 2.0]"
      ]
     },
     "execution_count": 425,
     "metadata": {},
     "output_type": "execute_result"
    }
   ],
   "source": [
    "D_describe['n_idiomas']='Número de idiomas que habla incluidos los maternos'\n",
    "# Se computan los idiomas maternos (al menos uno para todos los encuestados) y los no maternos declarados: \n",
    "df['aux']=1 # Sin valores no informados en 'idioma_m1'\n",
    "df['aux'].mask(df['idioma_m2'].notna(),2,inplace=True) # Segundo idioma materno cuando se declara alguno\n",
    "df['n_idiomas']=df['aux']+df['IDIOMAS'].where(df['IDIOMAS'].notna(),0) # Idiomas no maternos si hay dato\n",
    "a_lista('n_idiomas')\n",
    "del df['aux']\n",
    "df[['IDIOMAS_','n_idiomas']].groupby('IDIOMAS_',dropna=False).agg(['unique']) # Comprobación"
   ]
  },
  {
   "cell_type": "code",
   "execution_count": 426,
   "metadata": {},
   "outputs": [
    {
     "data": {
      "text/html": [
       "<div>\n",
       "<style scoped>\n",
       "    .dataframe tbody tr th:only-of-type {\n",
       "        vertical-align: middle;\n",
       "    }\n",
       "\n",
       "    .dataframe tbody tr th {\n",
       "        vertical-align: top;\n",
       "    }\n",
       "\n",
       "    .dataframe thead th {\n",
       "        text-align: right;\n",
       "    }\n",
       "</style>\n",
       "<table border=\"1\" class=\"dataframe\">\n",
       "  <thead>\n",
       "    <tr style=\"text-align: right;\">\n",
       "      <th></th>\n",
       "      <th>n_idiomas</th>\n",
       "    </tr>\n",
       "  </thead>\n",
       "  <tbody>\n",
       "    <tr>\n",
       "      <th>7.0</th>\n",
       "      <td>0.002874</td>\n",
       "    </tr>\n",
       "    <tr>\n",
       "      <th>6.0</th>\n",
       "      <td>0.011234</td>\n",
       "    </tr>\n",
       "    <tr>\n",
       "      <th>1.0</th>\n",
       "      <td>0.032570</td>\n",
       "    </tr>\n",
       "    <tr>\n",
       "      <th>5.0</th>\n",
       "      <td>0.043281</td>\n",
       "    </tr>\n",
       "    <tr>\n",
       "      <th>4.0</th>\n",
       "      <td>0.171384</td>\n",
       "    </tr>\n",
       "    <tr>\n",
       "      <th>2.0</th>\n",
       "      <td>0.347122</td>\n",
       "    </tr>\n",
       "    <tr>\n",
       "      <th>3.0</th>\n",
       "      <td>0.391535</td>\n",
       "    </tr>\n",
       "  </tbody>\n",
       "</table>\n",
       "</div>"
      ],
      "text/plain": [
       "     n_idiomas\n",
       "7.0   0.002874\n",
       "6.0   0.011234\n",
       "1.0   0.032570\n",
       "5.0   0.043281\n",
       "4.0   0.171384\n",
       "2.0   0.347122\n",
       "3.0   0.391535"
      ]
     },
     "execution_count": 426,
     "metadata": {},
     "output_type": "execute_result"
    }
   ],
   "source": [
    "proporciones('n_idiomas').sort_values(by='n_idiomas')"
   ]
  },
  {
   "cell_type": "markdown",
   "metadata": {},
   "source": [
    "## 'IDIOMA1'  (redefinida como 'idioma1')\n",
    "\n",
    "(Solo para quienes declaran conocer algún idioma distinto de los maternos -respuesta distinta de 0 en 'IDIOMAS')\n",
    "\n",
    "**Primer idioma distinto de su lengua materna** que mejor conoce."
   ]
  },
  {
   "cell_type": "code",
   "execution_count": 427,
   "metadata": {},
   "outputs": [
    {
     "data": {
      "text/plain": [
       "array(['  ', '01', '02', '03', '04', '05', '06', '07', '08', '09', '10',\n",
       "       '12', '13', '14', '15', '99'], dtype=object)"
      ]
     },
     "execution_count": 427,
     "metadata": {},
     "output_type": "execute_result"
    }
   ],
   "source": [
    "df['IDIOMA1'].sort_values().unique() # No informados como '  ' o '99'"
   ]
  },
  {
   "cell_type": "code",
   "execution_count": 428,
   "metadata": {},
   "outputs": [],
   "source": [
    "def re_idiomas(col,nuevo=None,si_no=False,redef=True):\n",
    "    \"\"\"Procesa las variables referidas a los idiomas no maternos y el nivel de conocimiento de estos. \n",
    "    \"\"\"\n",
    "    reset(col)\n",
    "    if '  ' in df[col].unique() or '99' in df[col].unique():\n",
    "        no_respuesta(col,blank='  ',nsnc='99')\n",
    "    else: \n",
    "        no_respuesta(col)\n",
    "    traduce(col)\n",
    "    if redef==True:\n",
    "        if nuevo==None:\n",
    "            nuevo=col.lower()\n",
    "        redefine(col,nuevo,si_no=si_no)\n",
    "    if str(col)[:-1]=='IDIOMA':\n",
    "        print(df[[col,'IDIOMAS']].groupby('IDIOMAS').agg(['unique'])) # Inspección de exclusiones\n",
    "    return"
   ]
  },
  {
   "cell_type": "code",
   "execution_count": 429,
   "metadata": {},
   "outputs": [
    {
     "name": "stdout",
     "output_type": "stream",
     "text": [
      "[ 1.  2.  3.  4.  5.  6.  7.  8.  9. 10. 12. 13. 14. 15. nan]\n",
      "             aux_traduce\n",
      "                  unique\n",
      "IDIOMA1                 \n",
      "1.0            [Español]\n",
      "2.0            [Catalán]\n",
      "3.0            [Euskera]\n",
      "4.0            [Gallego]\n",
      "5.0         [Valenciano]\n",
      "6.0             [Inglés]\n",
      "7.0            [Francés]\n",
      "8.0             [Alemán]\n",
      "9.0           [Italiano]\n",
      "10.0         [Portugués]\n",
      "12.0             [Árabe]\n",
      "13.0             [Chino]\n",
      "14.0              [Ruso]\n",
      "15.0     [Otros idiomas]\n",
      "                                                                            IDIOMA1\n",
      "                                                                             unique\n",
      "IDIOMAS                                                                            \n",
      "0.0                                                                           [nan]\n",
      "1.0            [6.0, nan, 7.0, 3.0, 10.0, 2.0, 1.0, 9.0, 15.0, 4.0, 5.0, 8.0, 13.0]\n",
      "2.0      [6.0, 9.0, 7.0, 1.0, nan, 5.0, 3.0, 2.0, 10.0, 4.0, 8.0, 15.0, 14.0, 13.0]\n",
      "3.0      [6.0, 5.0, 9.0, 1.0, 14.0, 8.0, 7.0, 13.0, 2.0, 10.0, 15.0, 4.0, 3.0, nan]\n",
      "4.0                 [6.0, 7.0, 10.0, 2.0, 8.0, 15.0, 1.0, 4.0, 9.0, 3.0, 5.0, 12.0]\n",
      "5.0            [5.0, 6.0, 2.0, 14.0, 1.0, 9.0, 8.0, 7.0, 4.0, 10.0, 15.0, nan, 3.0]\n"
     ]
    }
   ],
   "source": [
    "re_idiomas('IDIOMA1')"
   ]
  },
  {
   "cell_type": "markdown",
   "metadata": {},
   "source": [
    "## 'NIV_ID1'  (redefinida como 'idioma1_nivel')\n",
    "\n",
    "(Solo para quienes declaran conocer algún idioma distinto de los maternos -respuesta distinta de 0 en 'IDIOMAS')\n",
    "\n",
    "**Nivel de conocimiento del primer idioma no materno** que mejor conoce."
   ]
  },
  {
   "cell_type": "code",
   "execution_count": 430,
   "metadata": {},
   "outputs": [
    {
     "data": {
      "text/plain": [
       "array(['1', '9', '2', ' ', '3'], dtype=object)"
      ]
     },
     "execution_count": 430,
     "metadata": {},
     "output_type": "execute_result"
    }
   ],
   "source": [
    "df['NIV_ID1'].unique() # No informados como ' ' o '9'"
   ]
  },
  {
   "cell_type": "code",
   "execution_count": 431,
   "metadata": {},
   "outputs": [
    {
     "name": "stdout",
     "output_type": "stream",
     "text": [
      "[ 1.  2.  3. nan]\n",
      "                                                                                              aux_traduce\n",
      "                                                                                                   unique\n",
      "NIV_ID1                                                                                                  \n",
      "1.0      [Nivel alto (Entiende una gran variedad de textos complicados y usa el idioma con flexibilidad)]\n",
      "2.0                  [Nivel medio (Entiende lo esencial en el lenguaje común y redacta textos sencillos)]\n",
      "3.0                                            [Nivel bajo (Entiende y usa las expresiones más comunes )]\n"
     ]
    }
   ],
   "source": [
    "re_idiomas('NIV_ID1','idioma1_nivel')"
   ]
  },
  {
   "cell_type": "code",
   "execution_count": 432,
   "metadata": {},
   "outputs": [
    {
     "data": {
      "text/html": [
       "<div>\n",
       "<style scoped>\n",
       "    .dataframe tbody tr th:only-of-type {\n",
       "        vertical-align: middle;\n",
       "    }\n",
       "\n",
       "    .dataframe tbody tr th {\n",
       "        vertical-align: top;\n",
       "    }\n",
       "\n",
       "    .dataframe thead th {\n",
       "        text-align: right;\n",
       "    }\n",
       "</style>\n",
       "<table border=\"1\" class=\"dataframe\">\n",
       "  <thead>\n",
       "    <tr style=\"text-align: right;\">\n",
       "      <th></th>\n",
       "      <th>idioma1_nivel_</th>\n",
       "    </tr>\n",
       "  </thead>\n",
       "  <tbody>\n",
       "    <tr>\n",
       "      <th>Nivel alto (Entiende una gran variedad de textos complicados y usa el idioma con flexibilidad)</th>\n",
       "      <td>0.529043</td>\n",
       "    </tr>\n",
       "    <tr>\n",
       "      <th>Nivel medio (Entiende lo esencial en el lenguaje común y redacta textos sencillos)</th>\n",
       "      <td>0.350605</td>\n",
       "    </tr>\n",
       "    <tr>\n",
       "      <th>NaN</th>\n",
       "      <td>0.063050</td>\n",
       "    </tr>\n",
       "    <tr>\n",
       "      <th>Nivel bajo (Entiende y usa las expresiones más comunes )</th>\n",
       "      <td>0.057302</td>\n",
       "    </tr>\n",
       "  </tbody>\n",
       "</table>\n",
       "</div>"
      ],
      "text/plain": [
       "                                                                                                idioma1_nivel_\n",
       "Nivel alto (Entiende una gran variedad de textos complicados y usa el idioma con flexibilidad)        0.529043\n",
       "Nivel medio (Entiende lo esencial en el lenguaje común y redacta textos sencillos)                    0.350605\n",
       "NaN                                                                                                   0.063050\n",
       "Nivel bajo (Entiende y usa las expresiones más comunes )                                              0.057302"
      ]
     },
     "execution_count": 432,
     "metadata": {},
     "output_type": "execute_result"
    }
   ],
   "source": [
    "proporciones('idioma1_nivel_')"
   ]
  },
  {
   "cell_type": "markdown",
   "metadata": {},
   "source": [
    "## 'ACREIDI1'  \n",
    "\n",
    "(Solo para quienes declaran conocer algún idioma distinto de los maternos -respuesta distinta de 0 en 'IDIOMAS')\n",
    "\n",
    "¿Tiene **acreditación oficial** del primer idioma no materno?"
   ]
  },
  {
   "cell_type": "code",
   "execution_count": 433,
   "metadata": {},
   "outputs": [
    {
     "data": {
      "text/plain": [
       "array(['1', '2', ' ', '9'], dtype=object)"
      ]
     },
     "execution_count": 433,
     "metadata": {},
     "output_type": "execute_result"
    }
   ],
   "source": [
    "df['ACREIDI1'].unique() # No informados como ' ' o '9'"
   ]
  },
  {
   "cell_type": "code",
   "execution_count": 434,
   "metadata": {},
   "outputs": [
    {
     "name": "stdout",
     "output_type": "stream",
     "text": [
      "[ 1.  2. nan]\n",
      "         aux_traduce\n",
      "              unique\n",
      "ACREIDI1            \n",
      "1.0             [Sí]\n",
      "2.0             [No]\n"
     ]
    }
   ],
   "source": [
    "re_idiomas('ACREIDI1',redef=False)"
   ]
  },
  {
   "cell_type": "markdown",
   "metadata": {},
   "source": [
    "## 'TIPOACREIDI1'  (redefinida como 'idioma1_acred')\n",
    "\n",
    "(Solo para quienes declaran conocer algún idioma distintos de los maternos -respuesta distinta de 0 en 'IDIOMAS')\n",
    "\n",
    "Máximo **nivel de acreditación oficial** del primer idioma no materno."
   ]
  },
  {
   "cell_type": "code",
   "execution_count": 435,
   "metadata": {},
   "outputs": [
    {
     "data": {
      "text/plain": [
       "array([' ', '1', '2', '3', '4', '5', '6', '9'], dtype=object)"
      ]
     },
     "execution_count": 435,
     "metadata": {},
     "output_type": "execute_result"
    }
   ],
   "source": [
    "df['TIPOACREIDI1'].sort_values().unique() # No informados como ' ' o '9'"
   ]
  },
  {
   "cell_type": "code",
   "execution_count": 436,
   "metadata": {},
   "outputs": [
    {
     "name": "stdout",
     "output_type": "stream",
     "text": [
      "[ 1.  2.  3.  4.  5.  6. nan]\n",
      "                                       aux_traduce\n",
      "                                            unique\n",
      "TIPOACREIDI1                                      \n",
      "1.0           [A1 (DELF A1, Fit in Deutsch 1, ….)]\n",
      "2.0            [A2 (DELF A2, Fit in Deutsch 2, …)]\n",
      "3.0                     [B1 (PET, DELF B1, ZD, …)]\n",
      "4.0                   [B2 (FCE, DELF B2, ZDfB, …)]\n",
      "5.0                    [C1 (CAE, DALF C1, PWD, …)]\n",
      "6.0                    [C2 (CPE, DALF C2, ZOP, …)]\n"
     ]
    }
   ],
   "source": [
    "re_idiomas('TIPOACREIDI1','idioma1_acred')"
   ]
  },
  {
   "cell_type": "code",
   "execution_count": 437,
   "metadata": {},
   "outputs": [
    {
     "data": {
      "text/html": [
       "<div>\n",
       "<style scoped>\n",
       "    .dataframe tbody tr th:only-of-type {\n",
       "        vertical-align: middle;\n",
       "    }\n",
       "\n",
       "    .dataframe tbody tr th {\n",
       "        vertical-align: top;\n",
       "    }\n",
       "\n",
       "    .dataframe thead th {\n",
       "        text-align: right;\n",
       "    }\n",
       "</style>\n",
       "<table border=\"1\" class=\"dataframe\">\n",
       "  <thead>\n",
       "    <tr style=\"text-align: right;\">\n",
       "      <th></th>\n",
       "      <th>idioma1_acred_</th>\n",
       "    </tr>\n",
       "  </thead>\n",
       "  <tbody>\n",
       "    <tr>\n",
       "      <th>B2 (FCE, DELF B2, ZDfB, …)</th>\n",
       "      <td>0.368351</td>\n",
       "    </tr>\n",
       "    <tr>\n",
       "      <th>C1 (CAE, DALF C1, PWD, …)</th>\n",
       "      <td>0.295542</td>\n",
       "    </tr>\n",
       "    <tr>\n",
       "      <th>B1 (PET, DELF B1, ZD, …)</th>\n",
       "      <td>0.224814</td>\n",
       "    </tr>\n",
       "    <tr>\n",
       "      <th>C2 (CPE, DALF C2, ZOP, …)</th>\n",
       "      <td>0.080089</td>\n",
       "    </tr>\n",
       "    <tr>\n",
       "      <th>A2 (DELF A2, Fit in Deutsch 2, …)</th>\n",
       "      <td>0.021991</td>\n",
       "    </tr>\n",
       "    <tr>\n",
       "      <th>A1 (DELF A1, Fit in Deutsch 1, ….)</th>\n",
       "      <td>0.009212</td>\n",
       "    </tr>\n",
       "  </tbody>\n",
       "</table>\n",
       "</div>"
      ],
      "text/plain": [
       "                                    idioma1_acred_\n",
       "B2 (FCE, DELF B2, ZDfB, …)                0.368351\n",
       "C1 (CAE, DALF C1, PWD, …)                 0.295542\n",
       "B1 (PET, DELF B1, ZD, …)                  0.224814\n",
       "C2 (CPE, DALF C2, ZOP, …)                 0.080089\n",
       "A2 (DELF A2, Fit in Deutsch 2, …)         0.021991\n",
       "A1 (DELF A1, Fit in Deutsch 1, ….)        0.009212"
      ]
     },
     "execution_count": 437,
     "metadata": {},
     "output_type": "execute_result"
    }
   ],
   "source": [
    "proporciones('idioma1_acred_',dropna=True)"
   ]
  },
  {
   "cell_type": "markdown",
   "metadata": {},
   "source": [
    "## 'IDIOMA2'  (redefinida como 'idioma2')\n",
    "\n",
    "(Solo para quienes declaran conocer dos idiomas distintos de los maternos -respuesta mayor que 1 en 'IDIOMAS')\n",
    "\n",
    "**Segundo idioma distinto de su lengua materna** que mejor conoce."
   ]
  },
  {
   "cell_type": "code",
   "execution_count": 438,
   "metadata": {},
   "outputs": [
    {
     "data": {
      "text/plain": [
       "array(['  ', '01', '02', '03', '04', '05', '06', '07', '08', '09', '10',\n",
       "       '11', '12', '13', '14', '15', '99'], dtype=object)"
      ]
     },
     "execution_count": 438,
     "metadata": {},
     "output_type": "execute_result"
    }
   ],
   "source": [
    "df['IDIOMA2'].sort_values().unique() # No informados como '  ' o '99'"
   ]
  },
  {
   "cell_type": "code",
   "execution_count": 439,
   "metadata": {},
   "outputs": [
    {
     "name": "stdout",
     "output_type": "stream",
     "text": [
      "[ 1.  2.  3.  4.  5.  6.  7.  8.  9. 10. 11. 12. 13. 14. 15. nan]\n",
      "             aux_traduce\n",
      "                  unique\n",
      "IDIOMA2                 \n",
      "1.0            [Español]\n",
      "2.0            [Catalán]\n",
      "3.0            [Euskera]\n",
      "4.0            [Gallego]\n",
      "5.0         [Valenciano]\n",
      "6.0             [Inglés]\n",
      "7.0            [Francés]\n",
      "8.0             [Alemán]\n",
      "9.0           [Italiano]\n",
      "10.0         [Portugués]\n",
      "11.0            [Rumano]\n",
      "12.0             [Árabe]\n",
      "13.0             [Chino]\n",
      "14.0              [Ruso]\n",
      "15.0     [Otros idiomas]\n",
      "                                                                                        IDIOMA2\n",
      "                                                                                         unique\n",
      "IDIOMAS                                                                                        \n",
      "0.0                                                                                       [nan]\n",
      "1.0                                                                                       [nan]\n",
      "2.0      [9.0, 7.0, 2.0, 6.0, 8.0, 3.0, nan, 10.0, 15.0, 13.0, 4.0, 1.0, 5.0, 11.0, 12.0, 14.0]\n",
      "3.0      [7.0, 1.0, 9.0, 8.0, 6.0, 2.0, 3.0, 4.0, 10.0, 11.0, 15.0, 5.0, 14.0, nan, 13.0, 12.0]\n",
      "4.0                       [10.0, 7.0, 6.0, 9.0, 8.0, 14.0, 15.0, 2.0, 1.0, 4.0, 5.0, 13.0, 3.0]\n",
      "5.0                       [2.0, 8.0, 7.0, 10.0, 9.0, 6.0, 15.0, 14.0, 13.0, 3.0, 1.0, nan, 5.0]\n"
     ]
    }
   ],
   "source": [
    "re_idiomas('IDIOMA2')"
   ]
  },
  {
   "cell_type": "markdown",
   "metadata": {},
   "source": [
    "## 'NIV_ID2'  (redefinida como 'idioma2_nivel')\n",
    "\n",
    "(Solo para quienes declaran conocer dos idiomas distintos de los maternos -respuesta mayor que 1 en 'IDIOMAS')\n",
    "\n",
    "**Nivel de conocimiento del segundo idioma no materno** que mejor conoce."
   ]
  },
  {
   "cell_type": "code",
   "execution_count": 440,
   "metadata": {},
   "outputs": [
    {
     "data": {
      "text/plain": [
       "array(['2', ' ', '3', '9', '1'], dtype=object)"
      ]
     },
     "execution_count": 440,
     "metadata": {},
     "output_type": "execute_result"
    }
   ],
   "source": [
    "df['NIV_ID2'].unique() # No informados como ' ' o '9'"
   ]
  },
  {
   "cell_type": "code",
   "execution_count": 441,
   "metadata": {},
   "outputs": [
    {
     "name": "stdout",
     "output_type": "stream",
     "text": [
      "[ 1.  2.  3. nan]\n",
      "                                                                                              aux_traduce\n",
      "                                                                                                   unique\n",
      "NIV_ID2                                                                                                  \n",
      "1.0      [Nivel alto (Entiende una gran variedad de textos complicados y usa el idioma con flexibilidad)]\n",
      "2.0                  [Nivel medio (Entiende lo esencial en el lenguaje común y redacta textos sencillos)]\n",
      "3.0                                            [Nivel bajo (Entiende y usa las expresiones más comunes )]\n"
     ]
    }
   ],
   "source": [
    "re_idiomas('NIV_ID2','idioma2_nivel')"
   ]
  },
  {
   "cell_type": "markdown",
   "metadata": {},
   "source": [
    "## 'ACREIDI2'  \n",
    "\n",
    "(Solo para quienes declaran conocer dos idiomas distintos de los maternos -respuesta mayor que 1 en 'IDIOMAS')\n",
    "\n",
    "¿Tiene **acreditación oficial** del segundo idioma no materno?"
   ]
  },
  {
   "cell_type": "code",
   "execution_count": 442,
   "metadata": {},
   "outputs": [
    {
     "data": {
      "text/plain": [
       "array(['2', ' ', '1', '9'], dtype=object)"
      ]
     },
     "execution_count": 442,
     "metadata": {},
     "output_type": "execute_result"
    }
   ],
   "source": [
    "df['ACREIDI2'].unique() # No informados como ' ' o '9'"
   ]
  },
  {
   "cell_type": "code",
   "execution_count": 443,
   "metadata": {},
   "outputs": [
    {
     "name": "stdout",
     "output_type": "stream",
     "text": [
      "[ 1.  2. nan]\n",
      "         aux_traduce\n",
      "              unique\n",
      "ACREIDI2            \n",
      "1.0             [Sí]\n",
      "2.0             [No]\n"
     ]
    }
   ],
   "source": [
    "re_idiomas('ACREIDI2',redef=False)"
   ]
  },
  {
   "cell_type": "markdown",
   "metadata": {},
   "source": [
    "## 'TIPOACREIDI2'  (redefinida como 'idioma2_acred')\n",
    "\n",
    "(Solo para quienes declaran conocer dos idiomas distintos de los maternos -respuesta mayor que 1 en 'IDIOMAS')\n",
    "\n",
    "Máximo **nivel de acreditación oficial** del segundo idioma no materno."
   ]
  },
  {
   "cell_type": "code",
   "execution_count": 444,
   "metadata": {},
   "outputs": [
    {
     "data": {
      "text/plain": [
       "array([' ', '4', '3', '2', '5', '6', '9', '1'], dtype=object)"
      ]
     },
     "execution_count": 444,
     "metadata": {},
     "output_type": "execute_result"
    }
   ],
   "source": [
    "df['TIPOACREIDI2'].unique() # No informados como ' ' o '9'"
   ]
  },
  {
   "cell_type": "code",
   "execution_count": 445,
   "metadata": {},
   "outputs": [
    {
     "name": "stdout",
     "output_type": "stream",
     "text": [
      "[ 1.  2.  3.  4.  5.  6. nan]\n",
      "                                       aux_traduce\n",
      "                                            unique\n",
      "TIPOACREIDI2                                      \n",
      "1.0           [A1 (DELF A1, Fit in Deutsch 1, ….)]\n",
      "2.0            [A2 (DELF A2, Fit in Deutsch 2, …)]\n",
      "3.0                     [B1 (PET, DELF B1, ZD, …)]\n",
      "4.0                   [B2 (FCE, DELF B2, ZDfB, …)]\n",
      "5.0                    [C1 (CAE, DALF C1, PWD, …)]\n",
      "6.0                    [C2 (CPE, DALF C2, ZOP, …)]\n"
     ]
    }
   ],
   "source": [
    "re_idiomas('TIPOACREIDI2','idioma2_acred')"
   ]
  },
  {
   "cell_type": "markdown",
   "metadata": {},
   "source": [
    "### 'IDIOMA3'  (redefinida como 'idioma3')\n",
    "\n",
    "(Solo para quienes declaran conocer tres idiomas distintos de los maternos -respuesta mayor que 2 en 'IDIOMAS')\n",
    "\n",
    "**Tercer idioma distinto de su lengua materna** que mejor conoce."
   ]
  },
  {
   "cell_type": "code",
   "execution_count": 446,
   "metadata": {},
   "outputs": [
    {
     "data": {
      "text/plain": [
       "array(['  ', '01', '02', '03', '04', '05', '06', '07', '08', '09', '10',\n",
       "       '11', '12', '13', '14', '15', '99'], dtype=object)"
      ]
     },
     "execution_count": 446,
     "metadata": {},
     "output_type": "execute_result"
    }
   ],
   "source": [
    "df['IDIOMA3'].sort_values().unique() # No informados como '  ' o '99'"
   ]
  },
  {
   "cell_type": "code",
   "execution_count": 447,
   "metadata": {},
   "outputs": [
    {
     "name": "stdout",
     "output_type": "stream",
     "text": [
      "[ 1.  2.  3.  4.  5.  6.  7.  8.  9. 10. 11. 12. 13. 14. 15. nan]\n",
      "             aux_traduce\n",
      "                  unique\n",
      "IDIOMA3                 \n",
      "1.0            [Español]\n",
      "2.0            [Catalán]\n",
      "3.0            [Euskera]\n",
      "4.0            [Gallego]\n",
      "5.0         [Valenciano]\n",
      "6.0             [Inglés]\n",
      "7.0            [Francés]\n",
      "8.0             [Alemán]\n",
      "9.0           [Italiano]\n",
      "10.0         [Portugués]\n",
      "11.0            [Rumano]\n",
      "12.0             [Árabe]\n",
      "13.0             [Chino]\n",
      "14.0              [Ruso]\n",
      "15.0     [Otros idiomas]\n",
      "                                                                                        IDIOMA3\n",
      "                                                                                         unique\n",
      "IDIOMAS                                                                                        \n",
      "0.0                                                                                       [nan]\n",
      "1.0                                                                                       [nan]\n",
      "2.0                                                                                       [nan]\n",
      "3.0      [2.0, 9.0, 6.0, 15.0, 7.0, 10.0, 14.0, 8.0, 3.0, 5.0, 13.0, 4.0, 1.0, 12.0, 11.0, nan]\n",
      "4.0                 [15.0, 8.0, 9.0, 2.0, 7.0, 6.0, 4.0, 12.0, 13.0, 10.0, 3.0, 1.0, 5.0, 14.0]\n",
      "5.0                 [6.0, 7.0, 9.0, 8.0, 10.0, 12.0, 3.0, 14.0, 15.0, 2.0, 11.0, 1.0, nan, 5.0]\n"
     ]
    }
   ],
   "source": [
    "re_idiomas('IDIOMA3')"
   ]
  },
  {
   "cell_type": "markdown",
   "metadata": {},
   "source": [
    "## 'NIV_ID3'  (redefinida como 'idioma3_nivel')\n",
    "\n",
    "(Solo para quienes declaran conocer tres idiomas distintos de los maternos -respuesta mayor que 2 en 'IDIOMAS')\n",
    "\n",
    "**Nivel de conocimiento del tercer idioma no materno** que mejor conoce."
   ]
  },
  {
   "cell_type": "code",
   "execution_count": 448,
   "metadata": {},
   "outputs": [
    {
     "data": {
      "text/plain": [
       "array([' ', '3', '2', '1', '9'], dtype=object)"
      ]
     },
     "execution_count": 448,
     "metadata": {},
     "output_type": "execute_result"
    }
   ],
   "source": [
    "df['NIV_ID3'].unique() # No informados como ' ' o '9'"
   ]
  },
  {
   "cell_type": "code",
   "execution_count": 449,
   "metadata": {},
   "outputs": [
    {
     "name": "stdout",
     "output_type": "stream",
     "text": [
      "[ 1.  2.  3. nan]\n",
      "                                                                                              aux_traduce\n",
      "                                                                                                   unique\n",
      "NIV_ID3                                                                                                  \n",
      "1.0      [Nivel alto (Entiende una gran variedad de textos complicados y usa el idioma con flexibilidad)]\n",
      "2.0                  [Nivel medio (Entiende lo esencial en el lenguaje común y redacta textos sencillos)]\n",
      "3.0                                            [Nivel bajo (Entiende y usa las expresiones más comunes )]\n"
     ]
    }
   ],
   "source": [
    "re_idiomas('NIV_ID3','idioma3_nivel')"
   ]
  },
  {
   "cell_type": "markdown",
   "metadata": {},
   "source": [
    "## 'ACREIDI3'  \n",
    "\n",
    "(Solo para quienes declaran conocer tres idiomas distintos de los maternos -respuesta mayor que 2 en 'IDIOMAS')\n",
    "\n",
    "¿Tiene **acreditación oficial** del tercer idioma no materno?"
   ]
  },
  {
   "cell_type": "code",
   "execution_count": 450,
   "metadata": {},
   "outputs": [
    {
     "data": {
      "text/plain": [
       "array([' ', '2', '9', '1'], dtype=object)"
      ]
     },
     "execution_count": 450,
     "metadata": {},
     "output_type": "execute_result"
    }
   ],
   "source": [
    "df['ACREIDI3'].unique() # No informados como ' ' o '9'"
   ]
  },
  {
   "cell_type": "code",
   "execution_count": 451,
   "metadata": {},
   "outputs": [
    {
     "name": "stdout",
     "output_type": "stream",
     "text": [
      "[ 1.  2. nan]\n",
      "         aux_traduce\n",
      "              unique\n",
      "ACREIDI3            \n",
      "1.0             [Sí]\n",
      "2.0             [No]\n"
     ]
    }
   ],
   "source": [
    "re_idiomas('ACREIDI3',redef=False)"
   ]
  },
  {
   "cell_type": "markdown",
   "metadata": {},
   "source": [
    "## 'TIPOACREIDI3'  (redefinida como 'idioma3_acred')\n",
    "\n",
    "(Solo para quienes declaran conocer tres idiomas distintos de los maternos -respuesta mayor que 2 en 'IDIOMAS')\n",
    "\n",
    "Máximo **nivel de acreditación oficial** del tercer idioma no materno."
   ]
  },
  {
   "cell_type": "code",
   "execution_count": 452,
   "metadata": {},
   "outputs": [
    {
     "data": {
      "text/plain": [
       "array([' ', '4', '6', '3', '9', '2', '1', '5'], dtype=object)"
      ]
     },
     "execution_count": 452,
     "metadata": {},
     "output_type": "execute_result"
    }
   ],
   "source": [
    "df['TIPOACREIDI3'].unique() # No informados como ' ' o '9'"
   ]
  },
  {
   "cell_type": "code",
   "execution_count": 453,
   "metadata": {},
   "outputs": [
    {
     "name": "stdout",
     "output_type": "stream",
     "text": [
      "[ 1.  2.  3.  4.  5.  6. nan]\n",
      "                                       aux_traduce\n",
      "                                            unique\n",
      "TIPOACREIDI3                                      \n",
      "1.0           [A1 (DELF A1, Fit in Deutsch 1, ….)]\n",
      "2.0            [A2 (DELF A2, Fit in Deutsch 2, …)]\n",
      "3.0                     [B1 (PET, DELF B1, ZD, …)]\n",
      "4.0                   [B2 (FCE, DELF B2, ZDfB, …)]\n",
      "5.0                    [C1 (CAE, DALF C1, PWD, …)]\n",
      "6.0                    [C2 (CPE, DALF C2, ZOP, …)]\n"
     ]
    }
   ],
   "source": [
    "re_idiomas('TIPOACREIDI3','idioma3_acred')"
   ]
  },
  {
   "cell_type": "markdown",
   "metadata": {},
   "source": [
    "## 'IDIOMA4'  (redefinida como 'idioma4')\n",
    "\n",
    "(Solo para quienes declaran conocer cuatro idiomas distintos de los maternos -respuesta mayor que 3 en 'IDIOMAS')\n",
    "\n",
    "**Cuarto idioma distinto de su lengua materna** que mejor conoce."
   ]
  },
  {
   "cell_type": "code",
   "execution_count": 454,
   "metadata": {},
   "outputs": [
    {
     "data": {
      "text/plain": [
       "array(['  ', '01', '02', '03', '04', '05', '06', '07', '08', '09', '10',\n",
       "       '11', '12', '13', '14', '15', '99'], dtype=object)"
      ]
     },
     "execution_count": 454,
     "metadata": {},
     "output_type": "execute_result"
    }
   ],
   "source": [
    "df['IDIOMA4'].sort_values().unique() # No informados como '  ' o '99'"
   ]
  },
  {
   "cell_type": "code",
   "execution_count": 455,
   "metadata": {},
   "outputs": [
    {
     "name": "stdout",
     "output_type": "stream",
     "text": [
      "[ 1.  2.  3.  4.  5.  6.  7.  8.  9. 10. 11. 12. 13. 14. 15. nan]\n",
      "             aux_traduce\n",
      "                  unique\n",
      "IDIOMA4                 \n",
      "1.0            [Español]\n",
      "2.0            [Catalán]\n",
      "3.0            [Euskera]\n",
      "4.0            [Gallego]\n",
      "5.0         [Valenciano]\n",
      "6.0             [Inglés]\n",
      "7.0            [Francés]\n",
      "8.0             [Alemán]\n",
      "9.0           [Italiano]\n",
      "10.0         [Portugués]\n",
      "11.0            [Rumano]\n",
      "12.0             [Árabe]\n",
      "13.0             [Chino]\n",
      "14.0              [Ruso]\n",
      "15.0     [Otros idiomas]\n",
      "                                                                              IDIOMA4\n",
      "                                                                               unique\n",
      "IDIOMAS                                                                              \n",
      "0.0                                                                             [nan]\n",
      "1.0                                                                             [nan]\n",
      "2.0                                                                             [nan]\n",
      "3.0                                                                             [nan]\n",
      "4.0       [7.0, 2.0, 3.0, 9.0, 10.0, 8.0, 13.0, 15.0, 12.0, 14.0, 1.0, 4.0, 6.0, 5.0]\n",
      "5.0      [7.0, 10.0, 2.0, 15.0, 8.0, 12.0, 9.0, 14.0, 4.0, 13.0, 5.0, nan, 11.0, 3.0]\n"
     ]
    }
   ],
   "source": [
    "re_idiomas('IDIOMA4')"
   ]
  },
  {
   "cell_type": "markdown",
   "metadata": {},
   "source": [
    "## 'NIV_ID4'  (redefinida como 'idioma4_nivel')\n",
    "\n",
    "(Solo para quienes declaran conocer cuatro idiomas distintos de los maternos -respuesta mayor que 3 en 'IDIOMAS')\n",
    "\n",
    "**Nivel de conocimiento del cuarto idioma no materno** que mejor conoce."
   ]
  },
  {
   "cell_type": "code",
   "execution_count": 456,
   "metadata": {},
   "outputs": [
    {
     "data": {
      "text/plain": [
       "array([' ', '3', '2', '1'], dtype=object)"
      ]
     },
     "execution_count": 456,
     "metadata": {},
     "output_type": "execute_result"
    }
   ],
   "source": [
    "df['NIV_ID4'].unique() # No informados como ' ' o '9'"
   ]
  },
  {
   "cell_type": "code",
   "execution_count": 457,
   "metadata": {},
   "outputs": [
    {
     "name": "stdout",
     "output_type": "stream",
     "text": [
      "[ 1.  2.  3. nan]\n",
      "                                                                                              aux_traduce\n",
      "                                                                                                   unique\n",
      "NIV_ID4                                                                                                  \n",
      "1.0      [Nivel alto (Entiende una gran variedad de textos complicados y usa el idioma con flexibilidad)]\n",
      "2.0                  [Nivel medio (Entiende lo esencial en el lenguaje común y redacta textos sencillos)]\n",
      "3.0                                            [Nivel bajo (Entiende y usa las expresiones más comunes )]\n"
     ]
    }
   ],
   "source": [
    "re_idiomas('NIV_ID4','idioma4_nivel')"
   ]
  },
  {
   "cell_type": "markdown",
   "metadata": {},
   "source": [
    "## 'ACREIDI4'  \n",
    "\n",
    "(Solo para quienes declaran conocer cuatro idiomas distintos de los maternos -respuesta mayor que 3 en 'IDIOMAS')\n",
    "\n",
    "¿Tiene **acreditación oficial** del cuarto idioma no materno?"
   ]
  },
  {
   "cell_type": "code",
   "execution_count": 458,
   "metadata": {},
   "outputs": [
    {
     "data": {
      "text/plain": [
       "array([' ', '9', '2', '1'], dtype=object)"
      ]
     },
     "execution_count": 458,
     "metadata": {},
     "output_type": "execute_result"
    }
   ],
   "source": [
    "df['ACREIDI4'].unique() # No informados como ' ' o '9'"
   ]
  },
  {
   "cell_type": "code",
   "execution_count": 459,
   "metadata": {},
   "outputs": [
    {
     "name": "stdout",
     "output_type": "stream",
     "text": [
      "[ 1.  2. nan]\n",
      "         aux_traduce\n",
      "              unique\n",
      "ACREIDI4            \n",
      "1.0             [Sí]\n",
      "2.0             [No]\n"
     ]
    }
   ],
   "source": [
    "re_idiomas('ACREIDI4',redef=False)"
   ]
  },
  {
   "cell_type": "markdown",
   "metadata": {},
   "source": [
    "## 'TIPOACREIDI4'  (redefinida como 'idioma4_acred')\n",
    "\n",
    "(Solo para quienes declaran conocer cuatro idiomas distintos de los maternos -respuesta mayor que 3 en 'IDIOMAS')\n",
    "\n",
    "Máximo **nivel de acreditación oficial** del cuarto idioma no materno."
   ]
  },
  {
   "cell_type": "code",
   "execution_count": 460,
   "metadata": {},
   "outputs": [
    {
     "data": {
      "text/plain": [
       "array([' ', '4', '1', '3', '2', '6', '9', '5'], dtype=object)"
      ]
     },
     "execution_count": 460,
     "metadata": {},
     "output_type": "execute_result"
    }
   ],
   "source": [
    "df['TIPOACREIDI4'].unique() # No informados como ' ' o '9'"
   ]
  },
  {
   "cell_type": "code",
   "execution_count": 461,
   "metadata": {},
   "outputs": [
    {
     "name": "stdout",
     "output_type": "stream",
     "text": [
      "[ 1.  2.  3.  4.  5.  6. nan]\n",
      "                                       aux_traduce\n",
      "                                            unique\n",
      "TIPOACREIDI4                                      \n",
      "1.0           [A1 (DELF A1, Fit in Deutsch 1, ….)]\n",
      "2.0            [A2 (DELF A2, Fit in Deutsch 2, …)]\n",
      "3.0                     [B1 (PET, DELF B1, ZD, …)]\n",
      "4.0                   [B2 (FCE, DELF B2, ZDfB, …)]\n",
      "5.0                    [C1 (CAE, DALF C1, PWD, …)]\n",
      "6.0                    [C2 (CPE, DALF C2, ZOP, …)]\n"
     ]
    }
   ],
   "source": [
    "re_idiomas('TIPOACREIDI4','idioma4_acred')"
   ]
  },
  {
   "cell_type": "markdown",
   "metadata": {},
   "source": [
    "## 'TITIDI'  \n",
    "\n",
    "(Solo para quienes declaran tener acreditación oficial de algún idioma distinto de los maternos -respuesta Sí para alguna variable 'ACREIDIi' (i=1,2,...,4)-)\n",
    "\n",
    "Tiene título de la **Escuela Oficial de Idiomas**. "
   ]
  },
  {
   "cell_type": "code",
   "execution_count": 462,
   "metadata": {},
   "outputs": [
    {
     "data": {
      "text/plain": [
       "array(['2', '1', ' ', '9'], dtype=object)"
      ]
     },
     "execution_count": 462,
     "metadata": {},
     "output_type": "execute_result"
    }
   ],
   "source": [
    "df['TITIDI'].unique() # No informados como ' ' o '9'"
   ]
  },
  {
   "cell_type": "code",
   "execution_count": 463,
   "metadata": {},
   "outputs": [
    {
     "name": "stdout",
     "output_type": "stream",
     "text": [
      "           aux_traduce\n",
      "                unique\n",
      "TITIDI                \n",
      "        [No aplicable]\n",
      "1                 [Sí]\n",
      "2                 [No]\n",
      "9              [NS/NC]\n"
     ]
    }
   ],
   "source": [
    "traduce('TITIDI')"
   ]
  },
  {
   "cell_type": "markdown",
   "metadata": {},
   "source": [
    "## 'TIC' (redefinida como 'ti')\n",
    "\n",
    "Capacidad para usar el ordenador u otros **dispositivos informáticos**."
   ]
  },
  {
   "cell_type": "code",
   "execution_count": 464,
   "metadata": {},
   "outputs": [
    {
     "data": {
      "text/plain": [
       "array([2, 3, 1, 9])"
      ]
     },
     "execution_count": 464,
     "metadata": {},
     "output_type": "execute_result"
    }
   ],
   "source": [
    "df['TIC'].unique() # No informados como '9'"
   ]
  },
  {
   "cell_type": "code",
   "execution_count": 465,
   "metadata": {},
   "outputs": [
    {
     "name": "stdout",
     "output_type": "stream",
     "text": [
      "                        aux_traduce\n",
      "                             unique\n",
      "TIC                                \n",
      "1        [Usuario de nivel básico ]\n",
      "2    [Usuario de nivel intermedio ]\n",
      "3      [Usuario de nivel avanzado ]\n",
      "9                           [NS/NC]\n"
     ]
    }
   ],
   "source": [
    "traduce('TIC')"
   ]
  },
  {
   "cell_type": "code",
   "execution_count": 466,
   "metadata": {},
   "outputs": [
    {
     "name": "stdout",
     "output_type": "stream",
     "text": [
      "[ 1.  2.  3. nan]\n"
     ]
    }
   ],
   "source": [
    "no_respuesta('TIC',tipo='int')"
   ]
  },
  {
   "cell_type": "code",
   "execution_count": 467,
   "metadata": {},
   "outputs": [],
   "source": [
    "redefine('TIC','ti')"
   ]
  },
  {
   "cell_type": "code",
   "execution_count": 468,
   "metadata": {},
   "outputs": [
    {
     "data": {
      "text/html": [
       "<div>\n",
       "<style scoped>\n",
       "    .dataframe tbody tr th:only-of-type {\n",
       "        vertical-align: middle;\n",
       "    }\n",
       "\n",
       "    .dataframe tbody tr th {\n",
       "        vertical-align: top;\n",
       "    }\n",
       "\n",
       "    .dataframe thead th {\n",
       "        text-align: right;\n",
       "    }\n",
       "</style>\n",
       "<table border=\"1\" class=\"dataframe\">\n",
       "  <thead>\n",
       "    <tr style=\"text-align: right;\">\n",
       "      <th></th>\n",
       "      <th>ti_</th>\n",
       "    </tr>\n",
       "  </thead>\n",
       "  <tbody>\n",
       "    <tr>\n",
       "      <th>Usuario de nivel intermedio</th>\n",
       "      <td>0.674301</td>\n",
       "    </tr>\n",
       "    <tr>\n",
       "      <th>Usuario de nivel avanzado</th>\n",
       "      <td>0.234172</td>\n",
       "    </tr>\n",
       "    <tr>\n",
       "      <th>Usuario de nivel básico</th>\n",
       "      <td>0.090220</td>\n",
       "    </tr>\n",
       "    <tr>\n",
       "      <th>NaN</th>\n",
       "      <td>0.001306</td>\n",
       "    </tr>\n",
       "  </tbody>\n",
       "</table>\n",
       "</div>"
      ],
      "text/plain": [
       "                                   ti_\n",
       "Usuario de nivel intermedio   0.674301\n",
       "Usuario de nivel avanzado     0.234172\n",
       "Usuario de nivel básico       0.090220\n",
       "NaN                           0.001306"
      ]
     },
     "execution_count": 468,
     "metadata": {},
     "output_type": "execute_result"
    }
   ],
   "source": [
    "proporciones('ti_')"
   ]
  },
  {
   "cell_type": "markdown",
   "metadata": {},
   "source": [
    "## 'EST_B38_1'  "
   ]
  },
  {
   "cell_type": "code",
   "execution_count": 469,
   "metadata": {},
   "outputs": [
    {
     "data": {
      "text/plain": [
       "'Ha realizado cursos conducentes a Certificado de Profesionalidad Nivel 1'"
      ]
     },
     "execution_count": 469,
     "metadata": {},
     "output_type": "execute_result"
    }
   ],
   "source": [
    "D_describe['EST_B38_1']"
   ]
  },
  {
   "cell_type": "code",
   "execution_count": 470,
   "metadata": {},
   "outputs": [
    {
     "data": {
      "text/plain": [
       "array([2, 1])"
      ]
     },
     "execution_count": 470,
     "metadata": {},
     "output_type": "execute_result"
    }
   ],
   "source": [
    "df['EST_B38_1'].unique() # Sin no informados"
   ]
  },
  {
   "cell_type": "code",
   "execution_count": 471,
   "metadata": {},
   "outputs": [
    {
     "name": "stdout",
     "output_type": "stream",
     "text": [
      "          aux_traduce\n",
      "               unique\n",
      "EST_B38_1            \n",
      "1                [Sí]\n",
      "2                [No]\n"
     ]
    }
   ],
   "source": [
    "traduce('EST_B38_1')"
   ]
  },
  {
   "cell_type": "code",
   "execution_count": 472,
   "metadata": {
    "scrolled": true
   },
   "outputs": [
    {
     "data": {
      "text/html": [
       "<div>\n",
       "<style scoped>\n",
       "    .dataframe tbody tr th:only-of-type {\n",
       "        vertical-align: middle;\n",
       "    }\n",
       "\n",
       "    .dataframe tbody tr th {\n",
       "        vertical-align: top;\n",
       "    }\n",
       "\n",
       "    .dataframe thead th {\n",
       "        text-align: right;\n",
       "    }\n",
       "</style>\n",
       "<table border=\"1\" class=\"dataframe\">\n",
       "  <thead>\n",
       "    <tr style=\"text-align: right;\">\n",
       "      <th></th>\n",
       "      <th>EST_B38_1_</th>\n",
       "    </tr>\n",
       "  </thead>\n",
       "  <tbody>\n",
       "    <tr>\n",
       "      <th>No</th>\n",
       "      <td>0.977532</td>\n",
       "    </tr>\n",
       "    <tr>\n",
       "      <th>Sí</th>\n",
       "      <td>0.022468</td>\n",
       "    </tr>\n",
       "  </tbody>\n",
       "</table>\n",
       "</div>"
      ],
      "text/plain": [
       "    EST_B38_1_\n",
       "No    0.977532\n",
       "Sí    0.022468"
      ]
     },
     "execution_count": 472,
     "metadata": {},
     "output_type": "execute_result"
    }
   ],
   "source": [
    "proporciones('EST_B38_1_')"
   ]
  },
  {
   "cell_type": "code",
   "execution_count": 473,
   "metadata": {},
   "outputs": [],
   "source": [
    "reset('EST_B38_1_')"
   ]
  },
  {
   "cell_type": "markdown",
   "metadata": {},
   "source": [
    "## 'EST_B39_1'  "
   ]
  },
  {
   "cell_type": "code",
   "execution_count": 474,
   "metadata": {},
   "outputs": [
    {
     "data": {
      "text/plain": [
       "'Le ha sido útil para el trabajo los cursos conducentes a Certificado de Profesionalidad Nivel 1'"
      ]
     },
     "execution_count": 474,
     "metadata": {},
     "output_type": "execute_result"
    }
   ],
   "source": [
    "D_describe['EST_B39_1']"
   ]
  },
  {
   "cell_type": "code",
   "execution_count": 475,
   "metadata": {},
   "outputs": [
    {
     "data": {
      "text/plain": [
       "array([' ', '2', '1', '9'], dtype=object)"
      ]
     },
     "execution_count": 475,
     "metadata": {},
     "output_type": "execute_result"
    }
   ],
   "source": [
    "df['EST_B39_1'].unique() # No informados como ' ' o '9'"
   ]
  },
  {
   "cell_type": "code",
   "execution_count": 476,
   "metadata": {},
   "outputs": [
    {
     "name": "stdout",
     "output_type": "stream",
     "text": [
      "              aux_traduce\n",
      "                   unique\n",
      "EST_B39_1                \n",
      "           [No aplicable]\n",
      "1                    [Sí]\n",
      "2                    [No]\n",
      "9                 [NS/NC]\n"
     ]
    }
   ],
   "source": [
    "traduce('EST_B39_1')"
   ]
  },
  {
   "cell_type": "code",
   "execution_count": 477,
   "metadata": {},
   "outputs": [],
   "source": [
    "reset('EST_B39_1_')"
   ]
  },
  {
   "cell_type": "markdown",
   "metadata": {},
   "source": [
    "## 'EST_B38_2'  "
   ]
  },
  {
   "cell_type": "code",
   "execution_count": 478,
   "metadata": {},
   "outputs": [
    {
     "data": {
      "text/plain": [
       "'Ha realizado cursos conducentes a Certificado de Profesionalidad Nivel 2'"
      ]
     },
     "execution_count": 478,
     "metadata": {},
     "output_type": "execute_result"
    }
   ],
   "source": [
    "D_describe['EST_B38_2']"
   ]
  },
  {
   "cell_type": "code",
   "execution_count": 479,
   "metadata": {},
   "outputs": [
    {
     "data": {
      "text/plain": [
       "array([2, 1])"
      ]
     },
     "execution_count": 479,
     "metadata": {},
     "output_type": "execute_result"
    }
   ],
   "source": [
    "df['EST_B38_2'].unique() # Sin no informados"
   ]
  },
  {
   "cell_type": "code",
   "execution_count": 480,
   "metadata": {},
   "outputs": [
    {
     "name": "stdout",
     "output_type": "stream",
     "text": [
      "          aux_traduce\n",
      "               unique\n",
      "EST_B38_2            \n",
      "1                [Sí]\n",
      "2                [No]\n"
     ]
    }
   ],
   "source": [
    "traduce('EST_B38_2')"
   ]
  },
  {
   "cell_type": "code",
   "execution_count": 481,
   "metadata": {
    "scrolled": true
   },
   "outputs": [
    {
     "data": {
      "text/html": [
       "<div>\n",
       "<style scoped>\n",
       "    .dataframe tbody tr th:only-of-type {\n",
       "        vertical-align: middle;\n",
       "    }\n",
       "\n",
       "    .dataframe tbody tr th {\n",
       "        vertical-align: top;\n",
       "    }\n",
       "\n",
       "    .dataframe thead th {\n",
       "        text-align: right;\n",
       "    }\n",
       "</style>\n",
       "<table border=\"1\" class=\"dataframe\">\n",
       "  <thead>\n",
       "    <tr style=\"text-align: right;\">\n",
       "      <th></th>\n",
       "      <th>EST_B38_2_</th>\n",
       "    </tr>\n",
       "  </thead>\n",
       "  <tbody>\n",
       "    <tr>\n",
       "      <th>No</th>\n",
       "      <td>0.983018</td>\n",
       "    </tr>\n",
       "    <tr>\n",
       "      <th>Sí</th>\n",
       "      <td>0.016982</td>\n",
       "    </tr>\n",
       "  </tbody>\n",
       "</table>\n",
       "</div>"
      ],
      "text/plain": [
       "    EST_B38_2_\n",
       "No    0.983018\n",
       "Sí    0.016982"
      ]
     },
     "execution_count": 481,
     "metadata": {},
     "output_type": "execute_result"
    }
   ],
   "source": [
    "proporciones('EST_B38_2_')"
   ]
  },
  {
   "cell_type": "code",
   "execution_count": 482,
   "metadata": {},
   "outputs": [],
   "source": [
    "reset('EST_B38_2_')"
   ]
  },
  {
   "cell_type": "markdown",
   "metadata": {},
   "source": [
    "## 'EST_B39_2'  "
   ]
  },
  {
   "cell_type": "code",
   "execution_count": 483,
   "metadata": {},
   "outputs": [
    {
     "data": {
      "text/plain": [
       "'Le ha sido útil para el trabajo los cursos conducentes a Certificado de Profesionalidad Nivel 2'"
      ]
     },
     "execution_count": 483,
     "metadata": {},
     "output_type": "execute_result"
    }
   ],
   "source": [
    "D_describe['EST_B39_2']"
   ]
  },
  {
   "cell_type": "code",
   "execution_count": 484,
   "metadata": {},
   "outputs": [
    {
     "data": {
      "text/plain": [
       "array([' ', '2', '1', '9'], dtype=object)"
      ]
     },
     "execution_count": 484,
     "metadata": {},
     "output_type": "execute_result"
    }
   ],
   "source": [
    "df['EST_B39_2'].unique() # No informados como ' ' o '9'"
   ]
  },
  {
   "cell_type": "code",
   "execution_count": 485,
   "metadata": {},
   "outputs": [
    {
     "name": "stdout",
     "output_type": "stream",
     "text": [
      "              aux_traduce\n",
      "                   unique\n",
      "EST_B39_2                \n",
      "           [No aplicable]\n",
      "1                    [Sí]\n",
      "2                    [No]\n",
      "9                 [NS/NC]\n"
     ]
    }
   ],
   "source": [
    "traduce('EST_B39_2')"
   ]
  },
  {
   "cell_type": "code",
   "execution_count": 486,
   "metadata": {},
   "outputs": [],
   "source": [
    "reset('EST_B39_2_')"
   ]
  },
  {
   "cell_type": "markdown",
   "metadata": {},
   "source": [
    "### 'EST_B38_3'  "
   ]
  },
  {
   "cell_type": "code",
   "execution_count": 487,
   "metadata": {},
   "outputs": [
    {
     "data": {
      "text/plain": [
       "'Ha realizado cursos conducentes a Certificado de Profesionalidad Nivel 3'"
      ]
     },
     "execution_count": 487,
     "metadata": {},
     "output_type": "execute_result"
    }
   ],
   "source": [
    "D_describe['EST_B38_3']"
   ]
  },
  {
   "cell_type": "code",
   "execution_count": 488,
   "metadata": {},
   "outputs": [
    {
     "data": {
      "text/plain": [
       "array([2, 1])"
      ]
     },
     "execution_count": 488,
     "metadata": {},
     "output_type": "execute_result"
    }
   ],
   "source": [
    "df['EST_B38_3'].unique() # Sin no informados"
   ]
  },
  {
   "cell_type": "code",
   "execution_count": 489,
   "metadata": {},
   "outputs": [
    {
     "name": "stdout",
     "output_type": "stream",
     "text": [
      "          aux_traduce\n",
      "               unique\n",
      "EST_B38_3            \n",
      "1                [Sí]\n",
      "2                [No]\n"
     ]
    }
   ],
   "source": [
    "traduce('EST_B38_3')"
   ]
  },
  {
   "cell_type": "code",
   "execution_count": 490,
   "metadata": {
    "scrolled": true
   },
   "outputs": [
    {
     "data": {
      "text/html": [
       "<div>\n",
       "<style scoped>\n",
       "    .dataframe tbody tr th:only-of-type {\n",
       "        vertical-align: middle;\n",
       "    }\n",
       "\n",
       "    .dataframe tbody tr th {\n",
       "        vertical-align: top;\n",
       "    }\n",
       "\n",
       "    .dataframe thead th {\n",
       "        text-align: right;\n",
       "    }\n",
       "</style>\n",
       "<table border=\"1\" class=\"dataframe\">\n",
       "  <thead>\n",
       "    <tr style=\"text-align: right;\">\n",
       "      <th></th>\n",
       "      <th>EST_B38_3_</th>\n",
       "    </tr>\n",
       "  </thead>\n",
       "  <tbody>\n",
       "    <tr>\n",
       "      <th>No</th>\n",
       "      <td>0.967866</td>\n",
       "    </tr>\n",
       "    <tr>\n",
       "      <th>Sí</th>\n",
       "      <td>0.032134</td>\n",
       "    </tr>\n",
       "  </tbody>\n",
       "</table>\n",
       "</div>"
      ],
      "text/plain": [
       "    EST_B38_3_\n",
       "No    0.967866\n",
       "Sí    0.032134"
      ]
     },
     "execution_count": 490,
     "metadata": {},
     "output_type": "execute_result"
    }
   ],
   "source": [
    "proporciones('EST_B38_3_')"
   ]
  },
  {
   "cell_type": "code",
   "execution_count": 491,
   "metadata": {},
   "outputs": [],
   "source": [
    "reset('EST_B38_3_')"
   ]
  },
  {
   "cell_type": "markdown",
   "metadata": {},
   "source": [
    "## 'EST_B39_3'  "
   ]
  },
  {
   "cell_type": "code",
   "execution_count": 492,
   "metadata": {},
   "outputs": [
    {
     "data": {
      "text/plain": [
       "'Le ha sido útil para el trabajo los cursos conducentes a Certificado de Profesionalidad Nivel 3'"
      ]
     },
     "execution_count": 492,
     "metadata": {},
     "output_type": "execute_result"
    }
   ],
   "source": [
    "D_describe['EST_B39_3']"
   ]
  },
  {
   "cell_type": "code",
   "execution_count": 493,
   "metadata": {},
   "outputs": [
    {
     "data": {
      "text/plain": [
       "array([' ', '2', '1', '9'], dtype=object)"
      ]
     },
     "execution_count": 493,
     "metadata": {},
     "output_type": "execute_result"
    }
   ],
   "source": [
    "df['EST_B39_3'].unique() # No informados como ' ' o '9'"
   ]
  },
  {
   "cell_type": "code",
   "execution_count": 494,
   "metadata": {},
   "outputs": [
    {
     "name": "stdout",
     "output_type": "stream",
     "text": [
      "              aux_traduce\n",
      "                   unique\n",
      "EST_B39_3                \n",
      "           [No aplicable]\n",
      "1                    [Sí]\n",
      "2                    [No]\n",
      "9                 [NS/NC]\n"
     ]
    }
   ],
   "source": [
    "traduce('EST_B39_3')"
   ]
  },
  {
   "cell_type": "code",
   "execution_count": 495,
   "metadata": {},
   "outputs": [
    {
     "data": {
      "text/html": [
       "<div>\n",
       "<style scoped>\n",
       "    .dataframe tbody tr th:only-of-type {\n",
       "        vertical-align: middle;\n",
       "    }\n",
       "\n",
       "    .dataframe tbody tr th {\n",
       "        vertical-align: top;\n",
       "    }\n",
       "\n",
       "    .dataframe thead th {\n",
       "        text-align: right;\n",
       "    }\n",
       "</style>\n",
       "<table border=\"1\" class=\"dataframe\">\n",
       "  <thead>\n",
       "    <tr style=\"text-align: right;\">\n",
       "      <th></th>\n",
       "      <th>EST_B39_3_</th>\n",
       "    </tr>\n",
       "  </thead>\n",
       "  <tbody>\n",
       "    <tr>\n",
       "      <th>No aplicable</th>\n",
       "      <td>0.967866</td>\n",
       "    </tr>\n",
       "    <tr>\n",
       "      <th>Sí</th>\n",
       "      <td>0.019159</td>\n",
       "    </tr>\n",
       "    <tr>\n",
       "      <th>No</th>\n",
       "      <td>0.012453</td>\n",
       "    </tr>\n",
       "    <tr>\n",
       "      <th>NS/NC</th>\n",
       "      <td>0.000523</td>\n",
       "    </tr>\n",
       "  </tbody>\n",
       "</table>\n",
       "</div>"
      ],
      "text/plain": [
       "              EST_B39_3_\n",
       "No aplicable    0.967866\n",
       "Sí              0.019159\n",
       "No              0.012453\n",
       "NS/NC           0.000523"
      ]
     },
     "execution_count": 495,
     "metadata": {},
     "output_type": "execute_result"
    }
   ],
   "source": [
    "proporciones('EST_B39_3_')"
   ]
  },
  {
   "cell_type": "code",
   "execution_count": 496,
   "metadata": {},
   "outputs": [],
   "source": [
    "reset('EST_B39_3_')"
   ]
  },
  {
   "cell_type": "markdown",
   "metadata": {},
   "source": [
    "## 'EST_B38_4'  "
   ]
  },
  {
   "cell_type": "code",
   "execution_count": 497,
   "metadata": {},
   "outputs": [
    {
     "data": {
      "text/plain": [
       "'Ha realizado otros cursos de Formación Ocupacional de los Servicios Públicos de Empleo'"
      ]
     },
     "execution_count": 497,
     "metadata": {},
     "output_type": "execute_result"
    }
   ],
   "source": [
    "D_describe['EST_B38_4']"
   ]
  },
  {
   "cell_type": "code",
   "execution_count": 498,
   "metadata": {},
   "outputs": [
    {
     "data": {
      "text/plain": [
       "array([2, 1])"
      ]
     },
     "execution_count": 498,
     "metadata": {},
     "output_type": "execute_result"
    }
   ],
   "source": [
    "df['EST_B38_4'].unique() # Sin no informados"
   ]
  },
  {
   "cell_type": "code",
   "execution_count": 499,
   "metadata": {},
   "outputs": [
    {
     "name": "stdout",
     "output_type": "stream",
     "text": [
      "          aux_traduce\n",
      "               unique\n",
      "EST_B38_4            \n",
      "1                [Sí]\n",
      "2                [No]\n"
     ]
    }
   ],
   "source": [
    "traduce('EST_B38_4')"
   ]
  },
  {
   "cell_type": "code",
   "execution_count": 500,
   "metadata": {
    "scrolled": true
   },
   "outputs": [
    {
     "data": {
      "text/html": [
       "<div>\n",
       "<style scoped>\n",
       "    .dataframe tbody tr th:only-of-type {\n",
       "        vertical-align: middle;\n",
       "    }\n",
       "\n",
       "    .dataframe tbody tr th {\n",
       "        vertical-align: top;\n",
       "    }\n",
       "\n",
       "    .dataframe thead th {\n",
       "        text-align: right;\n",
       "    }\n",
       "</style>\n",
       "<table border=\"1\" class=\"dataframe\">\n",
       "  <thead>\n",
       "    <tr style=\"text-align: right;\">\n",
       "      <th></th>\n",
       "      <th>EST_B38_4_</th>\n",
       "    </tr>\n",
       "  </thead>\n",
       "  <tbody>\n",
       "    <tr>\n",
       "      <th>No</th>\n",
       "      <td>0.883741</td>\n",
       "    </tr>\n",
       "    <tr>\n",
       "      <th>Sí</th>\n",
       "      <td>0.116259</td>\n",
       "    </tr>\n",
       "  </tbody>\n",
       "</table>\n",
       "</div>"
      ],
      "text/plain": [
       "    EST_B38_4_\n",
       "No    0.883741\n",
       "Sí    0.116259"
      ]
     },
     "execution_count": 500,
     "metadata": {},
     "output_type": "execute_result"
    }
   ],
   "source": [
    "proporciones('EST_B38_4_')"
   ]
  },
  {
   "cell_type": "code",
   "execution_count": 501,
   "metadata": {},
   "outputs": [],
   "source": [
    "reset('EST_B38_4_')"
   ]
  },
  {
   "cell_type": "markdown",
   "metadata": {},
   "source": [
    "## 'EST_B39_4'  "
   ]
  },
  {
   "cell_type": "code",
   "execution_count": 502,
   "metadata": {},
   "outputs": [
    {
     "data": {
      "text/plain": [
       "'Le ha sido útil para el trabajo los otros cursos de Formación Ocupacional de los Servicios Públicos de Empleo'"
      ]
     },
     "execution_count": 502,
     "metadata": {},
     "output_type": "execute_result"
    }
   ],
   "source": [
    "D_describe['EST_B39_4']"
   ]
  },
  {
   "cell_type": "code",
   "execution_count": 503,
   "metadata": {},
   "outputs": [
    {
     "data": {
      "text/plain": [
       "array([' ', '2', '1', '9'], dtype=object)"
      ]
     },
     "execution_count": 503,
     "metadata": {},
     "output_type": "execute_result"
    }
   ],
   "source": [
    "df['EST_B39_4'].unique() # No informados como ' ' o '9'"
   ]
  },
  {
   "cell_type": "code",
   "execution_count": 504,
   "metadata": {},
   "outputs": [
    {
     "name": "stdout",
     "output_type": "stream",
     "text": [
      "              aux_traduce\n",
      "                   unique\n",
      "EST_B39_4                \n",
      "           [No aplicable]\n",
      "1                    [Sí]\n",
      "2                    [No]\n",
      "9                 [NS/NC]\n"
     ]
    }
   ],
   "source": [
    "traduce('EST_B39_4')"
   ]
  },
  {
   "cell_type": "code",
   "execution_count": 505,
   "metadata": {},
   "outputs": [
    {
     "data": {
      "text/html": [
       "<div>\n",
       "<style scoped>\n",
       "    .dataframe tbody tr th:only-of-type {\n",
       "        vertical-align: middle;\n",
       "    }\n",
       "\n",
       "    .dataframe tbody tr th {\n",
       "        vertical-align: top;\n",
       "    }\n",
       "\n",
       "    .dataframe thead th {\n",
       "        text-align: right;\n",
       "    }\n",
       "</style>\n",
       "<table border=\"1\" class=\"dataframe\">\n",
       "  <thead>\n",
       "    <tr style=\"text-align: right;\">\n",
       "      <th></th>\n",
       "      <th>EST_B39_4_</th>\n",
       "    </tr>\n",
       "  </thead>\n",
       "  <tbody>\n",
       "    <tr>\n",
       "      <th>No aplicable</th>\n",
       "      <td>0.883741</td>\n",
       "    </tr>\n",
       "    <tr>\n",
       "      <th>No</th>\n",
       "      <td>0.061395</td>\n",
       "    </tr>\n",
       "    <tr>\n",
       "      <th>Sí</th>\n",
       "      <td>0.054167</td>\n",
       "    </tr>\n",
       "    <tr>\n",
       "      <th>NS/NC</th>\n",
       "      <td>0.000697</td>\n",
       "    </tr>\n",
       "  </tbody>\n",
       "</table>\n",
       "</div>"
      ],
      "text/plain": [
       "              EST_B39_4_\n",
       "No aplicable    0.883741\n",
       "No              0.061395\n",
       "Sí              0.054167\n",
       "NS/NC           0.000697"
      ]
     },
     "execution_count": 505,
     "metadata": {},
     "output_type": "execute_result"
    }
   ],
   "source": [
    "proporciones('EST_B39_4_')"
   ]
  },
  {
   "cell_type": "code",
   "execution_count": 506,
   "metadata": {},
   "outputs": [],
   "source": [
    "reset('EST_B39_4_')"
   ]
  },
  {
   "cell_type": "markdown",
   "metadata": {},
   "source": [
    "## 'EST_B38_5'  "
   ]
  },
  {
   "cell_type": "code",
   "execution_count": 507,
   "metadata": {},
   "outputs": [
    {
     "data": {
      "text/plain": [
       "'Ha realizado cursos de idiomas'"
      ]
     },
     "execution_count": 507,
     "metadata": {},
     "output_type": "execute_result"
    }
   ],
   "source": [
    "D_describe['EST_B38_5']"
   ]
  },
  {
   "cell_type": "code",
   "execution_count": 508,
   "metadata": {},
   "outputs": [
    {
     "data": {
      "text/plain": [
       "array([2, 1])"
      ]
     },
     "execution_count": 508,
     "metadata": {},
     "output_type": "execute_result"
    }
   ],
   "source": [
    "df['EST_B38_5'].unique() # Sin no informados"
   ]
  },
  {
   "cell_type": "code",
   "execution_count": 509,
   "metadata": {},
   "outputs": [
    {
     "name": "stdout",
     "output_type": "stream",
     "text": [
      "          aux_traduce\n",
      "               unique\n",
      "EST_B38_5            \n",
      "1                [Sí]\n",
      "2                [No]\n"
     ]
    }
   ],
   "source": [
    "traduce('EST_B38_5')"
   ]
  },
  {
   "cell_type": "code",
   "execution_count": 510,
   "metadata": {
    "scrolled": true
   },
   "outputs": [
    {
     "data": {
      "text/html": [
       "<div>\n",
       "<style scoped>\n",
       "    .dataframe tbody tr th:only-of-type {\n",
       "        vertical-align: middle;\n",
       "    }\n",
       "\n",
       "    .dataframe tbody tr th {\n",
       "        vertical-align: top;\n",
       "    }\n",
       "\n",
       "    .dataframe thead th {\n",
       "        text-align: right;\n",
       "    }\n",
       "</style>\n",
       "<table border=\"1\" class=\"dataframe\">\n",
       "  <thead>\n",
       "    <tr style=\"text-align: right;\">\n",
       "      <th></th>\n",
       "      <th>EST_B38_5_</th>\n",
       "    </tr>\n",
       "  </thead>\n",
       "  <tbody>\n",
       "    <tr>\n",
       "      <th>Sí</th>\n",
       "      <td>0.510842</td>\n",
       "    </tr>\n",
       "    <tr>\n",
       "      <th>No</th>\n",
       "      <td>0.489158</td>\n",
       "    </tr>\n",
       "  </tbody>\n",
       "</table>\n",
       "</div>"
      ],
      "text/plain": [
       "    EST_B38_5_\n",
       "Sí    0.510842\n",
       "No    0.489158"
      ]
     },
     "execution_count": 510,
     "metadata": {},
     "output_type": "execute_result"
    }
   ],
   "source": [
    "proporciones('EST_B38_5_')"
   ]
  },
  {
   "cell_type": "code",
   "execution_count": 511,
   "metadata": {},
   "outputs": [],
   "source": [
    "reset('EST_B38_5_')"
   ]
  },
  {
   "cell_type": "markdown",
   "metadata": {},
   "source": [
    "## 'EST_B39_5'  "
   ]
  },
  {
   "cell_type": "code",
   "execution_count": 512,
   "metadata": {},
   "outputs": [
    {
     "data": {
      "text/plain": [
       "'Le ha sido útil para el trabajo los cursos de idiomas'"
      ]
     },
     "execution_count": 512,
     "metadata": {},
     "output_type": "execute_result"
    }
   ],
   "source": [
    "D_describe['EST_B39_5']"
   ]
  },
  {
   "cell_type": "code",
   "execution_count": 513,
   "metadata": {},
   "outputs": [
    {
     "data": {
      "text/plain": [
       "array([' ', '1', '2', '9'], dtype=object)"
      ]
     },
     "execution_count": 513,
     "metadata": {},
     "output_type": "execute_result"
    }
   ],
   "source": [
    "df['EST_B39_5'].unique() # No informados como ' ' o '9'"
   ]
  },
  {
   "cell_type": "code",
   "execution_count": 514,
   "metadata": {},
   "outputs": [
    {
     "name": "stdout",
     "output_type": "stream",
     "text": [
      "              aux_traduce\n",
      "                   unique\n",
      "EST_B39_5                \n",
      "           [No aplicable]\n",
      "1                    [Sí]\n",
      "2                    [No]\n",
      "9                 [NS/NC]\n"
     ]
    }
   ],
   "source": [
    "traduce('EST_B39_5')"
   ]
  },
  {
   "cell_type": "code",
   "execution_count": 515,
   "metadata": {},
   "outputs": [
    {
     "data": {
      "text/html": [
       "<div>\n",
       "<style scoped>\n",
       "    .dataframe tbody tr th:only-of-type {\n",
       "        vertical-align: middle;\n",
       "    }\n",
       "\n",
       "    .dataframe tbody tr th {\n",
       "        vertical-align: top;\n",
       "    }\n",
       "\n",
       "    .dataframe thead th {\n",
       "        text-align: right;\n",
       "    }\n",
       "</style>\n",
       "<table border=\"1\" class=\"dataframe\">\n",
       "  <thead>\n",
       "    <tr style=\"text-align: right;\">\n",
       "      <th></th>\n",
       "      <th>EST_B39_5_</th>\n",
       "    </tr>\n",
       "  </thead>\n",
       "  <tbody>\n",
       "    <tr>\n",
       "      <th>No aplicable</th>\n",
       "      <td>0.489158</td>\n",
       "    </tr>\n",
       "    <tr>\n",
       "      <th>Sí</th>\n",
       "      <td>0.309066</td>\n",
       "    </tr>\n",
       "    <tr>\n",
       "      <th>No</th>\n",
       "      <td>0.200732</td>\n",
       "    </tr>\n",
       "    <tr>\n",
       "      <th>NS/NC</th>\n",
       "      <td>0.001045</td>\n",
       "    </tr>\n",
       "  </tbody>\n",
       "</table>\n",
       "</div>"
      ],
      "text/plain": [
       "              EST_B39_5_\n",
       "No aplicable    0.489158\n",
       "Sí              0.309066\n",
       "No              0.200732\n",
       "NS/NC           0.001045"
      ]
     },
     "execution_count": 515,
     "metadata": {},
     "output_type": "execute_result"
    }
   ],
   "source": [
    "proporciones('EST_B39_5_')"
   ]
  },
  {
   "cell_type": "code",
   "execution_count": 516,
   "metadata": {},
   "outputs": [],
   "source": [
    "reset('EST_B39_5_')"
   ]
  },
  {
   "cell_type": "markdown",
   "metadata": {},
   "source": [
    "## 'EST_B38_6'  "
   ]
  },
  {
   "cell_type": "code",
   "execution_count": 517,
   "metadata": {},
   "outputs": [
    {
     "data": {
      "text/plain": [
       "'Ha realizado cursos de informática'"
      ]
     },
     "execution_count": 517,
     "metadata": {},
     "output_type": "execute_result"
    }
   ],
   "source": [
    "D_describe['EST_B38_6']"
   ]
  },
  {
   "cell_type": "code",
   "execution_count": 518,
   "metadata": {},
   "outputs": [
    {
     "data": {
      "text/plain": [
       "array([2, 1])"
      ]
     },
     "execution_count": 518,
     "metadata": {},
     "output_type": "execute_result"
    }
   ],
   "source": [
    "df['EST_B38_6'].unique() # Sin no informados"
   ]
  },
  {
   "cell_type": "code",
   "execution_count": 519,
   "metadata": {},
   "outputs": [
    {
     "name": "stdout",
     "output_type": "stream",
     "text": [
      "          aux_traduce\n",
      "               unique\n",
      "EST_B38_6            \n",
      "1                [Sí]\n",
      "2                [No]\n"
     ]
    }
   ],
   "source": [
    "traduce('EST_B38_6')"
   ]
  },
  {
   "cell_type": "code",
   "execution_count": 520,
   "metadata": {
    "scrolled": true
   },
   "outputs": [
    {
     "data": {
      "text/html": [
       "<div>\n",
       "<style scoped>\n",
       "    .dataframe tbody tr th:only-of-type {\n",
       "        vertical-align: middle;\n",
       "    }\n",
       "\n",
       "    .dataframe tbody tr th {\n",
       "        vertical-align: top;\n",
       "    }\n",
       "\n",
       "    .dataframe thead th {\n",
       "        text-align: right;\n",
       "    }\n",
       "</style>\n",
       "<table border=\"1\" class=\"dataframe\">\n",
       "  <thead>\n",
       "    <tr style=\"text-align: right;\">\n",
       "      <th></th>\n",
       "      <th>EST_B38_6_</th>\n",
       "    </tr>\n",
       "  </thead>\n",
       "  <tbody>\n",
       "    <tr>\n",
       "      <th>No</th>\n",
       "      <td>0.751546</td>\n",
       "    </tr>\n",
       "    <tr>\n",
       "      <th>Sí</th>\n",
       "      <td>0.248454</td>\n",
       "    </tr>\n",
       "  </tbody>\n",
       "</table>\n",
       "</div>"
      ],
      "text/plain": [
       "    EST_B38_6_\n",
       "No    0.751546\n",
       "Sí    0.248454"
      ]
     },
     "execution_count": 520,
     "metadata": {},
     "output_type": "execute_result"
    }
   ],
   "source": [
    "proporciones('EST_B38_6_')"
   ]
  },
  {
   "cell_type": "code",
   "execution_count": 521,
   "metadata": {},
   "outputs": [],
   "source": [
    "reset('EST_B38_6_')"
   ]
  },
  {
   "cell_type": "markdown",
   "metadata": {},
   "source": [
    "## 'EST_B39_6'  "
   ]
  },
  {
   "cell_type": "code",
   "execution_count": 522,
   "metadata": {},
   "outputs": [
    {
     "data": {
      "text/plain": [
       "'Le ha sido útil para el trabajo los cursos de informática'"
      ]
     },
     "execution_count": 522,
     "metadata": {},
     "output_type": "execute_result"
    }
   ],
   "source": [
    "D_describe['EST_B39_6']"
   ]
  },
  {
   "cell_type": "code",
   "execution_count": 523,
   "metadata": {},
   "outputs": [
    {
     "data": {
      "text/plain": [
       "array([' ', '2', '1', '9'], dtype=object)"
      ]
     },
     "execution_count": 523,
     "metadata": {},
     "output_type": "execute_result"
    }
   ],
   "source": [
    "df['EST_B39_6'].unique() # No informados como ' ' o '9'"
   ]
  },
  {
   "cell_type": "code",
   "execution_count": 524,
   "metadata": {},
   "outputs": [
    {
     "name": "stdout",
     "output_type": "stream",
     "text": [
      "              aux_traduce\n",
      "                   unique\n",
      "EST_B39_6                \n",
      "           [No aplicable]\n",
      "1                    [Sí]\n",
      "2                    [No]\n",
      "9                 [NS/NC]\n"
     ]
    }
   ],
   "source": [
    "traduce('EST_B39_6')"
   ]
  },
  {
   "cell_type": "code",
   "execution_count": 525,
   "metadata": {},
   "outputs": [
    {
     "data": {
      "text/html": [
       "<div>\n",
       "<style scoped>\n",
       "    .dataframe tbody tr th:only-of-type {\n",
       "        vertical-align: middle;\n",
       "    }\n",
       "\n",
       "    .dataframe tbody tr th {\n",
       "        vertical-align: top;\n",
       "    }\n",
       "\n",
       "    .dataframe thead th {\n",
       "        text-align: right;\n",
       "    }\n",
       "</style>\n",
       "<table border=\"1\" class=\"dataframe\">\n",
       "  <thead>\n",
       "    <tr style=\"text-align: right;\">\n",
       "      <th></th>\n",
       "      <th>EST_B39_6_</th>\n",
       "    </tr>\n",
       "  </thead>\n",
       "  <tbody>\n",
       "    <tr>\n",
       "      <th>No aplicable</th>\n",
       "      <td>0.751546</td>\n",
       "    </tr>\n",
       "    <tr>\n",
       "      <th>Sí</th>\n",
       "      <td>0.151615</td>\n",
       "    </tr>\n",
       "    <tr>\n",
       "      <th>No</th>\n",
       "      <td>0.095881</td>\n",
       "    </tr>\n",
       "    <tr>\n",
       "      <th>NS/NC</th>\n",
       "      <td>0.000958</td>\n",
       "    </tr>\n",
       "  </tbody>\n",
       "</table>\n",
       "</div>"
      ],
      "text/plain": [
       "              EST_B39_6_\n",
       "No aplicable    0.751546\n",
       "Sí              0.151615\n",
       "No              0.095881\n",
       "NS/NC           0.000958"
      ]
     },
     "execution_count": 525,
     "metadata": {},
     "output_type": "execute_result"
    }
   ],
   "source": [
    "proporciones('EST_B39_6_')"
   ]
  },
  {
   "cell_type": "code",
   "execution_count": 526,
   "metadata": {},
   "outputs": [],
   "source": [
    "reset('EST_B39_6_')"
   ]
  },
  {
   "cell_type": "markdown",
   "metadata": {},
   "source": [
    "## 'EST_B38_7'  "
   ]
  },
  {
   "cell_type": "code",
   "execution_count": 527,
   "metadata": {},
   "outputs": [
    {
     "data": {
      "text/plain": [
       "'Ha realizado otros estudios no reglados'"
      ]
     },
     "execution_count": 527,
     "metadata": {},
     "output_type": "execute_result"
    }
   ],
   "source": [
    "D_describe['EST_B38_7']"
   ]
  },
  {
   "cell_type": "code",
   "execution_count": 528,
   "metadata": {},
   "outputs": [
    {
     "data": {
      "text/plain": [
       "array([2, 1])"
      ]
     },
     "execution_count": 528,
     "metadata": {},
     "output_type": "execute_result"
    }
   ],
   "source": [
    "df['EST_B38_7'].unique() # Sin no informados"
   ]
  },
  {
   "cell_type": "code",
   "execution_count": 529,
   "metadata": {},
   "outputs": [
    {
     "name": "stdout",
     "output_type": "stream",
     "text": [
      "          aux_traduce\n",
      "               unique\n",
      "EST_B38_7            \n",
      "1                [Sí]\n",
      "2                [No]\n"
     ]
    }
   ],
   "source": [
    "traduce('EST_B38_7')"
   ]
  },
  {
   "cell_type": "code",
   "execution_count": 530,
   "metadata": {
    "scrolled": true
   },
   "outputs": [
    {
     "data": {
      "text/html": [
       "<div>\n",
       "<style scoped>\n",
       "    .dataframe tbody tr th:only-of-type {\n",
       "        vertical-align: middle;\n",
       "    }\n",
       "\n",
       "    .dataframe tbody tr th {\n",
       "        vertical-align: top;\n",
       "    }\n",
       "\n",
       "    .dataframe thead th {\n",
       "        text-align: right;\n",
       "    }\n",
       "</style>\n",
       "<table border=\"1\" class=\"dataframe\">\n",
       "  <thead>\n",
       "    <tr style=\"text-align: right;\">\n",
       "      <th></th>\n",
       "      <th>EST_B38_7_</th>\n",
       "    </tr>\n",
       "  </thead>\n",
       "  <tbody>\n",
       "    <tr>\n",
       "      <th>No</th>\n",
       "      <td>0.548202</td>\n",
       "    </tr>\n",
       "    <tr>\n",
       "      <th>Sí</th>\n",
       "      <td>0.451798</td>\n",
       "    </tr>\n",
       "  </tbody>\n",
       "</table>\n",
       "</div>"
      ],
      "text/plain": [
       "    EST_B38_7_\n",
       "No    0.548202\n",
       "Sí    0.451798"
      ]
     },
     "execution_count": 530,
     "metadata": {},
     "output_type": "execute_result"
    }
   ],
   "source": [
    "proporciones('EST_B38_7_')"
   ]
  },
  {
   "cell_type": "code",
   "execution_count": 531,
   "metadata": {},
   "outputs": [],
   "source": [
    "reset('EST_B38_7_')"
   ]
  },
  {
   "cell_type": "markdown",
   "metadata": {},
   "source": [
    "## 'EST_B39_7'  "
   ]
  },
  {
   "cell_type": "code",
   "execution_count": 532,
   "metadata": {},
   "outputs": [
    {
     "data": {
      "text/plain": [
       "'Le ha sido útil para el trabajo los otros estudios no reglados'"
      ]
     },
     "execution_count": 532,
     "metadata": {},
     "output_type": "execute_result"
    }
   ],
   "source": [
    "D_describe['EST_B39_7']"
   ]
  },
  {
   "cell_type": "code",
   "execution_count": 533,
   "metadata": {},
   "outputs": [
    {
     "data": {
      "text/plain": [
       "array([' ', '2', '1', '9'], dtype=object)"
      ]
     },
     "execution_count": 533,
     "metadata": {},
     "output_type": "execute_result"
    }
   ],
   "source": [
    "df['EST_B39_7'].unique() # No informados como ' ' o '9'"
   ]
  },
  {
   "cell_type": "code",
   "execution_count": 534,
   "metadata": {},
   "outputs": [
    {
     "name": "stdout",
     "output_type": "stream",
     "text": [
      "              aux_traduce\n",
      "                   unique\n",
      "EST_B39_7                \n",
      "           [No aplicable]\n",
      "1                    [Sí]\n",
      "2                    [No]\n",
      "9                 [NS/NC]\n"
     ]
    }
   ],
   "source": [
    "traduce('EST_B39_7')"
   ]
  },
  {
   "cell_type": "code",
   "execution_count": 535,
   "metadata": {},
   "outputs": [
    {
     "data": {
      "text/html": [
       "<div>\n",
       "<style scoped>\n",
       "    .dataframe tbody tr th:only-of-type {\n",
       "        vertical-align: middle;\n",
       "    }\n",
       "\n",
       "    .dataframe tbody tr th {\n",
       "        vertical-align: top;\n",
       "    }\n",
       "\n",
       "    .dataframe thead th {\n",
       "        text-align: right;\n",
       "    }\n",
       "</style>\n",
       "<table border=\"1\" class=\"dataframe\">\n",
       "  <thead>\n",
       "    <tr style=\"text-align: right;\">\n",
       "      <th></th>\n",
       "      <th>EST_B39_7_</th>\n",
       "    </tr>\n",
       "  </thead>\n",
       "  <tbody>\n",
       "    <tr>\n",
       "      <th>No aplicable</th>\n",
       "      <td>0.548202</td>\n",
       "    </tr>\n",
       "    <tr>\n",
       "      <th>Sí</th>\n",
       "      <td>0.275799</td>\n",
       "    </tr>\n",
       "    <tr>\n",
       "      <th>No</th>\n",
       "      <td>0.163546</td>\n",
       "    </tr>\n",
       "    <tr>\n",
       "      <th>NS/NC</th>\n",
       "      <td>0.012453</td>\n",
       "    </tr>\n",
       "  </tbody>\n",
       "</table>\n",
       "</div>"
      ],
      "text/plain": [
       "              EST_B39_7_\n",
       "No aplicable    0.548202\n",
       "Sí              0.275799\n",
       "No              0.163546\n",
       "NS/NC           0.012453"
      ]
     },
     "execution_count": 535,
     "metadata": {},
     "output_type": "execute_result"
    }
   ],
   "source": [
    "proporciones('EST_B39_7_')"
   ]
  },
  {
   "cell_type": "code",
   "execution_count": 536,
   "metadata": {},
   "outputs": [],
   "source": [
    "reset('EST_B39_7_')"
   ]
  },
  {
   "cell_type": "markdown",
   "metadata": {},
   "source": [
    "# BLOQUE C. MOVILIDAD\n",
    "\n",
    "Se omite. "
   ]
  },
  {
   "cell_type": "markdown",
   "metadata": {},
   "source": [
    "# BLOQUE D. SITUACIÓN ACTUAL DEL TITULADO DE MÁSTER"
   ]
  },
  {
   "cell_type": "markdown",
   "metadata": {},
   "source": [
    "## 'TRBPRN1'  (redefinida como 'sit_lab')\n",
    "\n",
    "**Situación laboral** actual."
   ]
  },
  {
   "cell_type": "code",
   "execution_count": 537,
   "metadata": {},
   "outputs": [
    {
     "data": {
      "text/plain": [
       "array([1, 2, 3])"
      ]
     },
     "execution_count": 537,
     "metadata": {},
     "output_type": "execute_result"
    }
   ],
   "source": [
    "df['TRBPRN1'].unique() # Sin valores no informados"
   ]
  },
  {
   "cell_type": "code",
   "execution_count": 538,
   "metadata": {},
   "outputs": [
    {
     "name": "stdout",
     "output_type": "stream",
     "text": [
      "            aux_traduce\n",
      "                 unique\n",
      "TRBPRN1                \n",
      "1          [Trabajando]\n",
      "2        [En desempleo]\n",
      "3            [Inactivo]\n"
     ]
    }
   ],
   "source": [
    "traduce('TRBPRN1')"
   ]
  },
  {
   "cell_type": "code",
   "execution_count": 539,
   "metadata": {},
   "outputs": [
    {
     "name": "stdout",
     "output_type": "stream",
     "text": [
      "[1. 2. 3.]\n"
     ]
    }
   ],
   "source": [
    "no_respuesta('TRBPRN1')"
   ]
  },
  {
   "cell_type": "code",
   "execution_count": 540,
   "metadata": {},
   "outputs": [],
   "source": [
    "redefine('TRBPRN1','sit_lab')"
   ]
  },
  {
   "cell_type": "code",
   "execution_count": 541,
   "metadata": {},
   "outputs": [
    {
     "data": {
      "text/html": [
       "<div>\n",
       "<style scoped>\n",
       "    .dataframe tbody tr th:only-of-type {\n",
       "        vertical-align: middle;\n",
       "    }\n",
       "\n",
       "    .dataframe tbody tr th {\n",
       "        vertical-align: top;\n",
       "    }\n",
       "\n",
       "    .dataframe thead th {\n",
       "        text-align: right;\n",
       "    }\n",
       "</style>\n",
       "<table border=\"1\" class=\"dataframe\">\n",
       "  <thead>\n",
       "    <tr style=\"text-align: right;\">\n",
       "      <th></th>\n",
       "      <th>sit_lab_</th>\n",
       "    </tr>\n",
       "  </thead>\n",
       "  <tbody>\n",
       "    <tr>\n",
       "      <th>Trabajando</th>\n",
       "      <td>0.878168</td>\n",
       "    </tr>\n",
       "    <tr>\n",
       "      <th>En desempleo</th>\n",
       "      <td>0.068188</td>\n",
       "    </tr>\n",
       "    <tr>\n",
       "      <th>Inactivo</th>\n",
       "      <td>0.053645</td>\n",
       "    </tr>\n",
       "  </tbody>\n",
       "</table>\n",
       "</div>"
      ],
      "text/plain": [
       "              sit_lab_\n",
       "Trabajando    0.878168\n",
       "En desempleo  0.068188\n",
       "Inactivo      0.053645"
      ]
     },
     "execution_count": 541,
     "metadata": {},
     "output_type": "execute_result"
    }
   ],
   "source": [
    "proporciones('sit_lab_')"
   ]
  },
  {
   "cell_type": "markdown",
   "metadata": {},
   "source": [
    "## 'TRBPRN2'  (redefinida como 'sit_lab_detalle')\n",
    "\n",
    "(Solo para quienes declaran **situación de inactividad** -respuesta 3 en 'TRBPRN1' (o 'sit_lab')-)\n",
    "\n",
    "Tipo de **situación de inactividad**.  \n",
    "\n",
    "Nota: 'sit_lab_detalle se define para todas las situaciones laborales. Se añadirá el detalle disponible para ocupados y para desempleados."
   ]
  },
  {
   "cell_type": "code",
   "execution_count": 542,
   "metadata": {},
   "outputs": [
    {
     "data": {
      "text/plain": [
       "array([' ', '1', '5', '9', '4', '2', '3'], dtype=object)"
      ]
     },
     "execution_count": 542,
     "metadata": {},
     "output_type": "execute_result"
    }
   ],
   "source": [
    "df['TRBPRN2'].unique() # No informados como ' ' o '9'"
   ]
  },
  {
   "cell_type": "code",
   "execution_count": 543,
   "metadata": {},
   "outputs": [
    {
     "data": {
      "text/plain": [
       "     10867\n",
       "1      403\n",
       "5       80\n",
       "4       69\n",
       "2       39\n",
       "3       16\n",
       "9        9\n",
       "Name: TRBPRN2, dtype: int64"
      ]
     },
     "execution_count": 543,
     "metadata": {},
     "output_type": "execute_result"
    }
   ],
   "source": [
    "df['TRBPRN2'].value_counts()"
   ]
  },
  {
   "cell_type": "code",
   "execution_count": 544,
   "metadata": {},
   "outputs": [
    {
     "name": "stdout",
     "output_type": "stream",
     "text": [
      "[ 1.  2.  3.  4.  5. nan]\n"
     ]
    }
   ],
   "source": [
    "no_respuesta('TRBPRN2')"
   ]
  },
  {
   "cell_type": "code",
   "execution_count": 545,
   "metadata": {},
   "outputs": [
    {
     "name": "stdout",
     "output_type": "stream",
     "text": [
      "                                           aux_traduce\n",
      "                                                unique\n",
      "TRBPRN2                                               \n",
      "1.0                            [(Inactivo) Estudiante]\n",
      "2.0                              [(Inactivo) Jubilado]\n",
      "3.0            [(Inactivo) Incapacitado para trabajar]\n",
      "4.0      [(Inactivo) Dedicado a las labores del hogar]\n",
      "5.0                        [(Inactivo) Otra situación]\n"
     ]
    }
   ],
   "source": [
    "traduce('TRBPRN2')"
   ]
  },
  {
   "cell_type": "code",
   "execution_count": 546,
   "metadata": {},
   "outputs": [],
   "source": [
    "df['sit_lab_detalle_']=df['TRBPRN2_']"
   ]
  },
  {
   "cell_type": "code",
   "execution_count": 547,
   "metadata": {},
   "outputs": [
    {
     "data": {
      "text/html": [
       "<div>\n",
       "<style scoped>\n",
       "    .dataframe tbody tr th:only-of-type {\n",
       "        vertical-align: middle;\n",
       "    }\n",
       "\n",
       "    .dataframe tbody tr th {\n",
       "        vertical-align: top;\n",
       "    }\n",
       "\n",
       "    .dataframe thead tr th {\n",
       "        text-align: left;\n",
       "    }\n",
       "\n",
       "    .dataframe thead tr:last-of-type th {\n",
       "        text-align: right;\n",
       "    }\n",
       "</style>\n",
       "<table border=\"1\" class=\"dataframe\">\n",
       "  <thead>\n",
       "    <tr>\n",
       "      <th></th>\n",
       "      <th>sit_lab_detalle_</th>\n",
       "    </tr>\n",
       "    <tr>\n",
       "      <th></th>\n",
       "      <th>unique</th>\n",
       "    </tr>\n",
       "    <tr>\n",
       "      <th>sit_lab_</th>\n",
       "      <th></th>\n",
       "    </tr>\n",
       "  </thead>\n",
       "  <tbody>\n",
       "    <tr>\n",
       "      <th>En desempleo</th>\n",
       "      <td>[nan]</td>\n",
       "    </tr>\n",
       "    <tr>\n",
       "      <th>Inactivo</th>\n",
       "      <td>[(Inactivo) Estudiante, (Inactivo) Otra situación, nan, (Inactivo) Dedicado a las labores del hogar, (Inactivo) Jubilado, (Inactivo) Incapacitado para trabajar]</td>\n",
       "    </tr>\n",
       "    <tr>\n",
       "      <th>Trabajando</th>\n",
       "      <td>[nan]</td>\n",
       "    </tr>\n",
       "  </tbody>\n",
       "</table>\n",
       "</div>"
      ],
      "text/plain": [
       "                                                                                                                                                              sit_lab_detalle_\n",
       "                                                                                                                                                                        unique\n",
       "sit_lab_                                                                                                                                                                      \n",
       "En desempleo                                                                                                                                                             [nan]\n",
       "Inactivo      [(Inactivo) Estudiante, (Inactivo) Otra situación, nan, (Inactivo) Dedicado a las labores del hogar, (Inactivo) Jubilado, (Inactivo) Incapacitado para trabajar]\n",
       "Trabajando                                                                                                                                                               [nan]"
      ]
     },
     "execution_count": 547,
     "metadata": {},
     "output_type": "execute_result"
    }
   ],
   "source": [
    "df[['sit_lab_','sit_lab_detalle_']].groupby('sit_lab_').agg(['unique']) # Comprobación: "
   ]
  },
  {
   "cell_type": "code",
   "execution_count": 548,
   "metadata": {},
   "outputs": [
    {
     "data": {
      "text/plain": [
       "(Inactivo) Estudiante                          403\n",
       "(Inactivo) Otra situación                       80\n",
       "(Inactivo) Dedicado a las labores del hogar     69\n",
       "(Inactivo) Jubilado                             39\n",
       "(Inactivo) Incapacitado para trabajar           16\n",
       "NaN                                              9\n",
       "Name: sit_lab_detalle_, dtype: int64"
      ]
     },
     "execution_count": 548,
     "metadata": {},
     "output_type": "execute_result"
    }
   ],
   "source": [
    "df['sit_lab_detalle_'][df['sit_lab']==3].value_counts(dropna=False)\n",
    "# Algunos inactivos no informados en 'sit_lab_detalle_'. Se les imputa '(Inactivo) Otra situación'"
   ]
  },
  {
   "cell_type": "code",
   "execution_count": 549,
   "metadata": {},
   "outputs": [],
   "source": [
    "# Se imputa '(Inactivo) Otra situación' a NS/NC:\n",
    "df['sit_lab_detalle_'].mask((df['TRBPRN2'].isna()) & (df['sit_lab']==3),'(Inactivo) Otra situación',inplace=True)"
   ]
  },
  {
   "cell_type": "code",
   "execution_count": 550,
   "metadata": {},
   "outputs": [
    {
     "data": {
      "text/plain": [
       "(Inactivo) Estudiante                          403\n",
       "(Inactivo) Otra situación                       89\n",
       "(Inactivo) Dedicado a las labores del hogar     69\n",
       "(Inactivo) Jubilado                             39\n",
       "(Inactivo) Incapacitado para trabajar           16\n",
       "Name: sit_lab_detalle_, dtype: int64"
      ]
     },
     "execution_count": 550,
     "metadata": {},
     "output_type": "execute_result"
    }
   ],
   "source": [
    "df['sit_lab_detalle_'][df['sit_lab']==3].value_counts(dropna=False) # Comprobación"
   ]
  },
  {
   "cell_type": "markdown",
   "metadata": {},
   "source": [
    "## 'TRINAC_D4'  (redefinida como 'busqueda_tr')\n",
    "\n",
    "(Solo para quienes declaran **situación de inactividad** -respuesta 3 en 'TRBPRN1' (o 'sit_lab')-)\n",
    "\n",
    "¿Ha **buscado trabajo** desde que se tituló?  \n",
    "\n",
    "Nota: 'busqueda_tr' se redefine incluyendo esta información para todas las situaciones laborales cuando esté disponible. "
   ]
  },
  {
   "cell_type": "code",
   "execution_count": 551,
   "metadata": {},
   "outputs": [
    {
     "data": {
      "text/plain": [
       "array([' ', '1', '2', '9'], dtype=object)"
      ]
     },
     "execution_count": 551,
     "metadata": {},
     "output_type": "execute_result"
    }
   ],
   "source": [
    "df['TRINAC_D4'].unique() # No informados como ' ' o '9'"
   ]
  },
  {
   "cell_type": "code",
   "execution_count": 552,
   "metadata": {},
   "outputs": [
    {
     "name": "stdout",
     "output_type": "stream",
     "text": [
      "              aux_traduce\n",
      "                   unique\n",
      "TRINAC_D4                \n",
      "           [No aplicable]\n",
      "1                    [Sí]\n",
      "2                    [No]\n",
      "9                 [NS/NC]\n"
     ]
    }
   ],
   "source": [
    "traduce('TRINAC_D4')"
   ]
  },
  {
   "cell_type": "code",
   "execution_count": 553,
   "metadata": {},
   "outputs": [
    {
     "data": {
      "text/html": [
       "<div>\n",
       "<style scoped>\n",
       "    .dataframe tbody tr th:only-of-type {\n",
       "        vertical-align: middle;\n",
       "    }\n",
       "\n",
       "    .dataframe tbody tr th {\n",
       "        vertical-align: top;\n",
       "    }\n",
       "\n",
       "    .dataframe thead tr th {\n",
       "        text-align: left;\n",
       "    }\n",
       "\n",
       "    .dataframe thead tr:last-of-type th {\n",
       "        text-align: right;\n",
       "    }\n",
       "</style>\n",
       "<table border=\"1\" class=\"dataframe\">\n",
       "  <thead>\n",
       "    <tr>\n",
       "      <th></th>\n",
       "      <th>TRINAC_D4</th>\n",
       "    </tr>\n",
       "    <tr>\n",
       "      <th></th>\n",
       "      <th>unique</th>\n",
       "    </tr>\n",
       "    <tr>\n",
       "      <th>sit_lab_</th>\n",
       "      <th></th>\n",
       "    </tr>\n",
       "  </thead>\n",
       "  <tbody>\n",
       "    <tr>\n",
       "      <th>En desempleo</th>\n",
       "      <td>[ ]</td>\n",
       "    </tr>\n",
       "    <tr>\n",
       "      <th>Inactivo</th>\n",
       "      <td>[1, 2, 9]</td>\n",
       "    </tr>\n",
       "    <tr>\n",
       "      <th>Trabajando</th>\n",
       "      <td>[ ]</td>\n",
       "    </tr>\n",
       "  </tbody>\n",
       "</table>\n",
       "</div>"
      ],
      "text/plain": [
       "              TRINAC_D4\n",
       "                 unique\n",
       "sit_lab_               \n",
       "En desempleo        [ ]\n",
       "Inactivo      [1, 2, 9]\n",
       "Trabajando          [ ]"
      ]
     },
     "execution_count": 553,
     "metadata": {},
     "output_type": "execute_result"
    }
   ],
   "source": [
    "df[['sit_lab_','TRINAC_D4']].groupby('sit_lab_',dropna=False).agg(['unique']) # Inspección"
   ]
  },
  {
   "cell_type": "code",
   "execution_count": 554,
   "metadata": {},
   "outputs": [
    {
     "name": "stdout",
     "output_type": "stream",
     "text": [
      "[ 1.  2. nan]\n"
     ]
    }
   ],
   "source": [
    "no_respuesta('TRINAC_D4')"
   ]
  },
  {
   "cell_type": "code",
   "execution_count": 555,
   "metadata": {},
   "outputs": [
    {
     "name": "stdout",
     "output_type": "stream",
     "text": [
      "            aux_traduce\n",
      "                 unique\n",
      "busqueda_tr            \n",
      "0.0                [No]\n",
      "1.0                [Sí]\n"
     ]
    }
   ],
   "source": [
    "redefine('TRINAC_D4','busqueda_tr',si_no=True)"
   ]
  },
  {
   "cell_type": "code",
   "execution_count": 556,
   "metadata": {},
   "outputs": [
    {
     "data": {
      "text/html": [
       "<div>\n",
       "<style scoped>\n",
       "    .dataframe tbody tr th:only-of-type {\n",
       "        vertical-align: middle;\n",
       "    }\n",
       "\n",
       "    .dataframe tbody tr th {\n",
       "        vertical-align: top;\n",
       "    }\n",
       "\n",
       "    .dataframe thead th {\n",
       "        text-align: right;\n",
       "    }\n",
       "</style>\n",
       "<table border=\"1\" class=\"dataframe\">\n",
       "  <thead>\n",
       "    <tr style=\"text-align: right;\">\n",
       "      <th></th>\n",
       "      <th>busqueda_tr_</th>\n",
       "    </tr>\n",
       "  </thead>\n",
       "  <tbody>\n",
       "    <tr>\n",
       "      <th>Sí</th>\n",
       "      <td>0.825733</td>\n",
       "    </tr>\n",
       "    <tr>\n",
       "      <th>No</th>\n",
       "      <td>0.174267</td>\n",
       "    </tr>\n",
       "  </tbody>\n",
       "</table>\n",
       "</div>"
      ],
      "text/plain": [
       "    busqueda_tr_\n",
       "Sí      0.825733\n",
       "No      0.174267"
      ]
     },
     "execution_count": 556,
     "metadata": {},
     "output_type": "execute_result"
    }
   ],
   "source": [
    "proporciones('busqueda_tr_',dropna=True)"
   ]
  },
  {
   "cell_type": "markdown",
   "metadata": {},
   "source": [
    "## 'TRINAC_D5'  \n",
    "\n",
    "(Solo para quienes declaran **situación de inactividad** -respuesta 3 en 'TRBPRN1' (o 'sit_lab')-)\n",
    "\n",
    "**Momento en el que empezó a buscar trabajo**."
   ]
  },
  {
   "cell_type": "code",
   "execution_count": 557,
   "metadata": {},
   "outputs": [
    {
     "data": {
      "text/plain": [
       "array([' ', '2', '1', '9'], dtype=object)"
      ]
     },
     "execution_count": 557,
     "metadata": {},
     "output_type": "execute_result"
    }
   ],
   "source": [
    "df['TRINAC_D5'].unique() # No informados como ' ' o '9'"
   ]
  },
  {
   "cell_type": "code",
   "execution_count": 558,
   "metadata": {},
   "outputs": [
    {
     "name": "stdout",
     "output_type": "stream",
     "text": [
      "                                                                      aux_traduce\n",
      "                                                                           unique\n",
      "TRINAC_D5                                                                        \n",
      "                                                                   [No aplicable]\n",
      "1            [Antes de acabar los estudios de la titulación que finalizó en 2014]\n",
      "2          [Después de acabar los estudios de la titulación que finalizó en 2014]\n",
      "9                                                                         [NS/NC]\n"
     ]
    }
   ],
   "source": [
    "traduce('TRINAC_D5')"
   ]
  },
  {
   "cell_type": "code",
   "execution_count": 559,
   "metadata": {},
   "outputs": [
    {
     "name": "stdout",
     "output_type": "stream",
     "text": [
      "[ 1.  2. nan]\n"
     ]
    }
   ],
   "source": [
    "no_respuesta('TRINAC_D5')"
   ]
  },
  {
   "cell_type": "markdown",
   "metadata": {},
   "source": [
    "## 'TRINAC_D6'  \n",
    "\n",
    "(Solo para quienes declaran **situación de inactividad** -respuesta 3 en 'TRBPRN1' (o 'sit_lab')-)\n",
    "\n",
    "**Tiempo que ha estado buscando trabajo**."
   ]
  },
  {
   "cell_type": "code",
   "execution_count": 560,
   "metadata": {},
   "outputs": [
    {
     "data": {
      "text/plain": [
       "array([' ', '6', '4', '1', '5', '2', '3', '9'], dtype=object)"
      ]
     },
     "execution_count": 560,
     "metadata": {},
     "output_type": "execute_result"
    }
   ],
   "source": [
    "df['TRINAC_D6'].unique() # No informados como ' ' o '9'"
   ]
  },
  {
   "cell_type": "code",
   "execution_count": 561,
   "metadata": {},
   "outputs": [
    {
     "name": "stdout",
     "output_type": "stream",
     "text": [
      "                             aux_traduce\n",
      "                                  unique\n",
      "TRINAC_D6                               \n",
      "                          [No aplicable]\n",
      "1                  [Menos de tres meses]\n",
      "2                       [De 3 a 6 meses]\n",
      "3                   [De 6 meses a 1 año]\n",
      "4             [De 1 año a año y medio  ]\n",
      "5          [De 1 año y medio a  2 años ]\n",
      "6                         [2 ó más años]\n",
      "9                                [NS/NC]\n"
     ]
    }
   ],
   "source": [
    "traduce('TRINAC_D6')"
   ]
  },
  {
   "cell_type": "code",
   "execution_count": 562,
   "metadata": {},
   "outputs": [
    {
     "name": "stdout",
     "output_type": "stream",
     "text": [
      "[ 1.  2.  3.  4.  5.  6. nan]\n"
     ]
    }
   ],
   "source": [
    "no_respuesta('TRINAC_D6')"
   ]
  },
  {
   "cell_type": "markdown",
   "metadata": {},
   "source": [
    "## 'TRPARA_D5'  (complementa la variable  'busqueda_tr)\n",
    "\n",
    "(Solo para quienes declaran **situación de desempleo** -respuesta 2 en 'TRBPRN1' (o 'sit_lab')-)\n",
    "\n",
    "**Momento en el que empezó a buscar trabajo**.\n",
    "\n",
    "Nota: Se usa esta información para completar la recogida en la variable 'busqueda_tr' (definida inicialmente para graduados en situación de inactividad). "
   ]
  },
  {
   "cell_type": "code",
   "execution_count": 563,
   "metadata": {},
   "outputs": [
    {
     "data": {
      "text/plain": [
       "array([' ', '2', '1', '9'], dtype=object)"
      ]
     },
     "execution_count": 563,
     "metadata": {},
     "output_type": "execute_result"
    }
   ],
   "source": [
    "df['TRPARA_D5'].unique() # No informados como ' ' o '9'"
   ]
  },
  {
   "cell_type": "code",
   "execution_count": 564,
   "metadata": {},
   "outputs": [
    {
     "name": "stdout",
     "output_type": "stream",
     "text": [
      "                                                                      aux_traduce\n",
      "                                                                           unique\n",
      "TRPARA_D5                                                                        \n",
      "                                                                   [No aplicable]\n",
      "1            [Antes de acabar los estudios de la titulación que finalizó en 2014]\n",
      "2          [Después de acabar los estudios de la titulación que finalizó en 2014]\n",
      "9                                                                         [NS/NC]\n"
     ]
    }
   ],
   "source": [
    "traduce('TRPARA_D5')"
   ]
  },
  {
   "cell_type": "code",
   "execution_count": 565,
   "metadata": {},
   "outputs": [
    {
     "data": {
      "text/html": [
       "<div>\n",
       "<style scoped>\n",
       "    .dataframe tbody tr th:only-of-type {\n",
       "        vertical-align: middle;\n",
       "    }\n",
       "\n",
       "    .dataframe tbody tr th {\n",
       "        vertical-align: top;\n",
       "    }\n",
       "\n",
       "    .dataframe thead tr th {\n",
       "        text-align: left;\n",
       "    }\n",
       "\n",
       "    .dataframe thead tr:last-of-type th {\n",
       "        text-align: right;\n",
       "    }\n",
       "</style>\n",
       "<table border=\"1\" class=\"dataframe\">\n",
       "  <thead>\n",
       "    <tr>\n",
       "      <th></th>\n",
       "      <th>TRPARA_D5_</th>\n",
       "    </tr>\n",
       "    <tr>\n",
       "      <th></th>\n",
       "      <th>unique</th>\n",
       "    </tr>\n",
       "    <tr>\n",
       "      <th>sit_lab_</th>\n",
       "      <th></th>\n",
       "    </tr>\n",
       "  </thead>\n",
       "  <tbody>\n",
       "    <tr>\n",
       "      <th>En desempleo</th>\n",
       "      <td>[Después de acabar los estudios de la titulación que finalizó en 2014, Antes de acabar los estudios de la titulación que finalizó en 2014, NS/NC]</td>\n",
       "    </tr>\n",
       "    <tr>\n",
       "      <th>Inactivo</th>\n",
       "      <td>[No aplicable]</td>\n",
       "    </tr>\n",
       "    <tr>\n",
       "      <th>Trabajando</th>\n",
       "      <td>[No aplicable]</td>\n",
       "    </tr>\n",
       "  </tbody>\n",
       "</table>\n",
       "</div>"
      ],
      "text/plain": [
       "                                                                                                                                                     TRPARA_D5_\n",
       "                                                                                                                                                         unique\n",
       "sit_lab_                                                                                                                                                       \n",
       "En desempleo  [Después de acabar los estudios de la titulación que finalizó en 2014, Antes de acabar los estudios de la titulación que finalizó en 2014, NS/NC]\n",
       "Inactivo                                                                                                                                         [No aplicable]\n",
       "Trabajando                                                                                                                                       [No aplicable]"
      ]
     },
     "execution_count": 565,
     "metadata": {},
     "output_type": "execute_result"
    }
   ],
   "source": [
    "df[['sit_lab_','TRPARA_D5_']].groupby('sit_lab_',dropna=False).agg(['unique']) # Inspección"
   ]
  },
  {
   "cell_type": "code",
   "execution_count": 566,
   "metadata": {},
   "outputs": [
    {
     "name": "stdout",
     "output_type": "stream",
     "text": [
      "[ 1.  2. nan]\n"
     ]
    }
   ],
   "source": [
    "no_respuesta('TRPARA_D5')"
   ]
  },
  {
   "cell_type": "code",
   "execution_count": 567,
   "metadata": {},
   "outputs": [
    {
     "data": {
      "text/html": [
       "<div>\n",
       "<style scoped>\n",
       "    .dataframe tbody tr th:only-of-type {\n",
       "        vertical-align: middle;\n",
       "    }\n",
       "\n",
       "    .dataframe tbody tr th {\n",
       "        vertical-align: top;\n",
       "    }\n",
       "\n",
       "    .dataframe thead tr th {\n",
       "        text-align: left;\n",
       "    }\n",
       "\n",
       "    .dataframe thead tr:last-of-type th {\n",
       "        text-align: right;\n",
       "    }\n",
       "</style>\n",
       "<table border=\"1\" class=\"dataframe\">\n",
       "  <thead>\n",
       "    <tr>\n",
       "      <th></th>\n",
       "      <th>busqueda_tr_</th>\n",
       "    </tr>\n",
       "    <tr>\n",
       "      <th></th>\n",
       "      <th>unique</th>\n",
       "    </tr>\n",
       "    <tr>\n",
       "      <th>TRPARA_D5_</th>\n",
       "      <th></th>\n",
       "    </tr>\n",
       "  </thead>\n",
       "  <tbody>\n",
       "    <tr>\n",
       "      <th>Antes de acabar los estudios de la titulación que finalizó en 2014</th>\n",
       "      <td>[Sí]</td>\n",
       "    </tr>\n",
       "    <tr>\n",
       "      <th>Después de acabar los estudios de la titulación que finalizó en 2014</th>\n",
       "      <td>[Sí]</td>\n",
       "    </tr>\n",
       "    <tr>\n",
       "      <th>NaN</th>\n",
       "      <td>[nan, Sí, No]</td>\n",
       "    </tr>\n",
       "  </tbody>\n",
       "</table>\n",
       "</div>"
      ],
      "text/plain": [
       "                                                                       busqueda_tr_\n",
       "                                                                             unique\n",
       "TRPARA_D5_                                                                         \n",
       "Antes de acabar los estudios de la titulación que finalizó en 2014             [Sí]\n",
       "Después de acabar los estudios de la titulación que finalizó en 2014           [Sí]\n",
       "NaN                                                                   [nan, Sí, No]"
      ]
     },
     "execution_count": 567,
     "metadata": {},
     "output_type": "execute_result"
    }
   ],
   "source": [
    "# Se añaden a 'busqueda_tr' los desempleados que declaran expresamente haber buscado trabajo: \n",
    "# (Se procede así en contradicción con la definición formal de desempleado, que requiere búsqueda de empleo).\n",
    "df['busqueda_tr'].mask((df['TRPARA_D5']==1)|(df['TRPARA_D5']==2),1,inplace=True)\n",
    "traduce('busqueda_tr',check=False)\n",
    "df[['busqueda_tr_','TRPARA_D5_']].groupby('TRPARA_D5_',dropna=False).agg(['unique']) # Comprobación"
   ]
  },
  {
   "cell_type": "markdown",
   "metadata": {},
   "source": [
    "## 'TRPARA_D6'  \n",
    "\n",
    "(Solo para quienes declaran **situación de desempleo** -respuesta 2 en 'TRBPRN1' (o 'sit_lab')-)\n",
    "\n",
    "**Tiempo que ha estado buscando trabajo**."
   ]
  },
  {
   "cell_type": "code",
   "execution_count": 568,
   "metadata": {},
   "outputs": [
    {
     "data": {
      "text/plain": [
       "array([' ', '2', '3', '4', '1', '6', '5', '9'], dtype=object)"
      ]
     },
     "execution_count": 568,
     "metadata": {},
     "output_type": "execute_result"
    }
   ],
   "source": [
    "df['TRPARA_D6'].unique() # No informados como ' ' o '9'"
   ]
  },
  {
   "cell_type": "code",
   "execution_count": 569,
   "metadata": {},
   "outputs": [
    {
     "name": "stdout",
     "output_type": "stream",
     "text": [
      "                             aux_traduce\n",
      "                                  unique\n",
      "TRPARA_D6                               \n",
      "                          [No aplicable]\n",
      "1                  [Menos de tres meses]\n",
      "2                       [De 3 a 6 meses]\n",
      "3                   [De 6 meses a 1 año]\n",
      "4             [De 1 año a año y medio  ]\n",
      "5          [De 1 año y medio a  2 años ]\n",
      "6                         [2 ó más años]\n",
      "9                                [NS/NC]\n"
     ]
    }
   ],
   "source": [
    "traduce('TRPARA_D6')"
   ]
  },
  {
   "cell_type": "code",
   "execution_count": 570,
   "metadata": {},
   "outputs": [
    {
     "name": "stdout",
     "output_type": "stream",
     "text": [
      "[ 1.  2.  3.  4.  5.  6. nan]\n"
     ]
    }
   ],
   "source": [
    "no_respuesta('TRPARA_D6')"
   ]
  },
  {
   "cell_type": "markdown",
   "metadata": {},
   "source": [
    "## 'TRPARA_D7_1'  (redefinida como 'btr_internet')\n",
    "\n",
    "(Solo para quienes declaran **situación de desempleo** -respuesta 2 en 'TRBPRN1' (o 'sit_lab')-)\n",
    "\n",
    "(**Búsqueda de empleo**) ¿Busca o ha buscado empleo a través de **ofertas de trabajo en el periódico, internet**, etc.?"
   ]
  },
  {
   "cell_type": "code",
   "execution_count": 571,
   "metadata": {},
   "outputs": [
    {
     "data": {
      "text/plain": [
       "array([' ', '2', '1', '9'], dtype=object)"
      ]
     },
     "execution_count": 571,
     "metadata": {},
     "output_type": "execute_result"
    }
   ],
   "source": [
    "df['TRPARA_D7_1'].unique() # No informados como ' ' o '9'"
   ]
  },
  {
   "cell_type": "code",
   "execution_count": 572,
   "metadata": {},
   "outputs": [],
   "source": [
    "def btr(col,nuevo):\n",
    "    \"\"\"Procesa columnas referidas a métodos de búsqueda de empleo utlizados por los desempleados.\n",
    "    \"\"\"\n",
    "    traduce(col)\n",
    "    no_respuesta(col)\n",
    "    redefine(col,nuevo,si_no=True)\n",
    "    D_describe[nuevo]=D_describe[col].split(':',1)[1].strip()\n",
    "    return"
   ]
  },
  {
   "cell_type": "code",
   "execution_count": 573,
   "metadata": {},
   "outputs": [
    {
     "name": "stdout",
     "output_type": "stream",
     "text": [
      "                aux_traduce\n",
      "                     unique\n",
      "TRPARA_D7_1                \n",
      "             [No aplicable]\n",
      "1                      [Sí]\n",
      "2                      [No]\n",
      "9                   [NS/NC]\n",
      "[ 1.  2. nan]\n",
      "             aux_traduce\n",
      "                  unique\n",
      "btr_internet            \n",
      "0.0                 [No]\n",
      "1.0                 [Sí]\n"
     ]
    }
   ],
   "source": [
    "btr('TRPARA_D7_1','btr_internet')"
   ]
  },
  {
   "cell_type": "markdown",
   "metadata": {},
   "source": [
    "## 'TRPARA_D7_2'  (redefinida como 'btr_spe')\n",
    "\n",
    "(Solo para quienes declaran **situación de desempleo** -respuesta 2 en 'TRBPRN1' (o 'sit_lab')-)\n",
    "\n",
    "(**Búsqueda de empleo**) ¿Busca o ha buscado empleo a través de **servicios públicos de empleo**?"
   ]
  },
  {
   "cell_type": "code",
   "execution_count": 574,
   "metadata": {},
   "outputs": [
    {
     "data": {
      "text/plain": [
       "array([' ', '2', '1', '9'], dtype=object)"
      ]
     },
     "execution_count": 574,
     "metadata": {},
     "output_type": "execute_result"
    }
   ],
   "source": [
    "df['TRPARA_D7_2'].unique() # Missing values as ' ' or '9'"
   ]
  },
  {
   "cell_type": "code",
   "execution_count": 575,
   "metadata": {},
   "outputs": [
    {
     "name": "stdout",
     "output_type": "stream",
     "text": [
      "                aux_traduce\n",
      "                     unique\n",
      "TRPARA_D7_2                \n",
      "             [No aplicable]\n",
      "1                      [Sí]\n",
      "2                      [No]\n",
      "9                   [NS/NC]\n",
      "[ 1.  2. nan]\n",
      "        aux_traduce\n",
      "             unique\n",
      "btr_spe            \n",
      "0.0            [No]\n",
      "1.0            [Sí]\n"
     ]
    }
   ],
   "source": [
    "btr('TRPARA_D7_2','btr_spe')"
   ]
  },
  {
   "cell_type": "markdown",
   "metadata": {},
   "source": [
    "## 'TRPARA_D7_3'  (redefinida como 'btr_univ')\n",
    "\n",
    "(Solo para quienes declaran **situación de desempleo** -respuesta 2 en 'TRBPRN1' (o 'sit_lab')-)\n",
    "\n",
    "(**Búsqueda de empleo**) ¿Busca o ha buscado empleo a través de los **servicios de empleo de la universidad** (bolsa de trabajo, asociaciones de exalumnos, etc.)?"
   ]
  },
  {
   "cell_type": "code",
   "execution_count": 576,
   "metadata": {},
   "outputs": [
    {
     "data": {
      "text/plain": [
       "array([' ', '2', '1', '9'], dtype=object)"
      ]
     },
     "execution_count": 576,
     "metadata": {},
     "output_type": "execute_result"
    }
   ],
   "source": [
    "df['TRPARA_D7_3'].unique() # No informados como ' ' o '9'"
   ]
  },
  {
   "cell_type": "code",
   "execution_count": 577,
   "metadata": {},
   "outputs": [
    {
     "name": "stdout",
     "output_type": "stream",
     "text": [
      "                aux_traduce\n",
      "                     unique\n",
      "TRPARA_D7_3                \n",
      "             [No aplicable]\n",
      "1                      [Sí]\n",
      "2                      [No]\n",
      "9                   [NS/NC]\n",
      "[ 1.  2. nan]\n",
      "         aux_traduce\n",
      "              unique\n",
      "btr_univ            \n",
      "0.0             [No]\n",
      "1.0             [Sí]\n"
     ]
    }
   ],
   "source": [
    "btr('TRPARA_D7_3','btr_univ')"
   ]
  },
  {
   "cell_type": "markdown",
   "metadata": {},
   "source": [
    "## 'TRPARA_D7_4'  (redefinida como 'btr_ett')\n",
    "\n",
    "(Solo para quienes declaran **situación de desempleo** -respuesta 2 en 'TRBPRN1' (o 'sit_lab')-)\n",
    "\n",
    "(**Búsqueda de empleo**) ¿Busca o ha buscado empleo a través de **empresas de trabajo temporal**?"
   ]
  },
  {
   "cell_type": "code",
   "execution_count": 578,
   "metadata": {},
   "outputs": [
    {
     "data": {
      "text/plain": [
       "array([' ', '2', '1', '9'], dtype=object)"
      ]
     },
     "execution_count": 578,
     "metadata": {},
     "output_type": "execute_result"
    }
   ],
   "source": [
    "df['TRPARA_D7_4'].unique() # No informados como ' ' o '9'"
   ]
  },
  {
   "cell_type": "code",
   "execution_count": 579,
   "metadata": {},
   "outputs": [
    {
     "name": "stdout",
     "output_type": "stream",
     "text": [
      "                aux_traduce\n",
      "                     unique\n",
      "TRPARA_D7_4                \n",
      "             [No aplicable]\n",
      "1                      [Sí]\n",
      "2                      [No]\n",
      "9                   [NS/NC]\n",
      "[ 1.  2. nan]\n",
      "        aux_traduce\n",
      "             unique\n",
      "btr_ett            \n",
      "0.0            [No]\n",
      "1.0            [Sí]\n"
     ]
    }
   ],
   "source": [
    "btr('TRPARA_D7_4','btr_ett')"
   ]
  },
  {
   "cell_type": "markdown",
   "metadata": {},
   "source": [
    "## 'TRPARA_D7_5'  (redefinida como 'btr_bolsa')\n",
    "\n",
    "(Solo para quienes declaran **situación de desempleo** -respuesta 2 en 'TRBPRN1' (o 'sit_lab')-)\n",
    "\n",
    "(**Búsqueda de empleo**) ¿Busca o ha buscado empleo a través de una **bolsa de empleo**?"
   ]
  },
  {
   "cell_type": "code",
   "execution_count": 580,
   "metadata": {},
   "outputs": [
    {
     "data": {
      "text/plain": [
       "array([' ', '2', '1', '9'], dtype=object)"
      ]
     },
     "execution_count": 580,
     "metadata": {},
     "output_type": "execute_result"
    }
   ],
   "source": [
    "df['TRPARA_D7_5'].unique() # No informados como ' ' o '9'"
   ]
  },
  {
   "cell_type": "code",
   "execution_count": 581,
   "metadata": {},
   "outputs": [
    {
     "name": "stdout",
     "output_type": "stream",
     "text": [
      "                aux_traduce\n",
      "                     unique\n",
      "TRPARA_D7_5                \n",
      "             [No aplicable]\n",
      "1                      [Sí]\n",
      "2                      [No]\n",
      "9                   [NS/NC]\n",
      "[ 1.  2. nan]\n",
      "          aux_traduce\n",
      "               unique\n",
      "btr_bolsa            \n",
      "0.0              [No]\n",
      "1.0              [Sí]\n"
     ]
    }
   ],
   "source": [
    "btr('TRPARA_D7_5','btr_bolsa')"
   ]
  },
  {
   "cell_type": "markdown",
   "metadata": {},
   "source": [
    "## 'TRPARA_D7_6'  (redefinida como 'btr_contactos')\n",
    "\n",
    "(Solo para quienes declaran **situación de desempleo** -respuesta 2 en 'TRBPRN1' (o 'sit_lab')-)\n",
    "\n",
    "(**Búsqueda de empleo**) ¿Busca o ha buscado empleo buscando ayuda entre profesionales conocidos del sector o **contactos personales** (familia, amigos)?"
   ]
  },
  {
   "cell_type": "code",
   "execution_count": 582,
   "metadata": {},
   "outputs": [
    {
     "data": {
      "text/plain": [
       "array([' ', '1', '2', '9'], dtype=object)"
      ]
     },
     "execution_count": 582,
     "metadata": {},
     "output_type": "execute_result"
    }
   ],
   "source": [
    "df['TRPARA_D7_6'].unique() # No informados como ' ' o '9'"
   ]
  },
  {
   "cell_type": "code",
   "execution_count": 583,
   "metadata": {},
   "outputs": [
    {
     "name": "stdout",
     "output_type": "stream",
     "text": [
      "                aux_traduce\n",
      "                     unique\n",
      "TRPARA_D7_6                \n",
      "             [No aplicable]\n",
      "1                      [Sí]\n",
      "2                      [No]\n",
      "9                   [NS/NC]\n",
      "[ 1.  2. nan]\n",
      "              aux_traduce\n",
      "                   unique\n",
      "btr_contactos            \n",
      "0.0                  [No]\n",
      "1.0                  [Sí]\n"
     ]
    }
   ],
   "source": [
    "btr('TRPARA_D7_6','btr_contactos')"
   ]
  },
  {
   "cell_type": "markdown",
   "metadata": {},
   "source": [
    "## 'TRPARA_D7_7'  (redefinida como 'btr_empresas')\n",
    "\n",
    "(Solo para quienes declaran **situación de desempleo** -respuesta 2 en 'TRBPRN1' (o 'sit_lab')-)\n",
    "\n",
    "(**Búsqueda de empleo**) ¿Busca o ha buscado empleo **contactando directamente con las empresas**?"
   ]
  },
  {
   "cell_type": "code",
   "execution_count": 584,
   "metadata": {},
   "outputs": [
    {
     "data": {
      "text/plain": [
       "array([' ', '1', '2', '9'], dtype=object)"
      ]
     },
     "execution_count": 584,
     "metadata": {},
     "output_type": "execute_result"
    }
   ],
   "source": [
    "df['TRPARA_D7_7'].unique() # No informados como ' ' o '9'"
   ]
  },
  {
   "cell_type": "code",
   "execution_count": 585,
   "metadata": {},
   "outputs": [
    {
     "name": "stdout",
     "output_type": "stream",
     "text": [
      "                aux_traduce\n",
      "                     unique\n",
      "TRPARA_D7_7                \n",
      "             [No aplicable]\n",
      "1                      [Sí]\n",
      "2                      [No]\n",
      "9                   [NS/NC]\n",
      "[ 1.  2. nan]\n",
      "             aux_traduce\n",
      "                  unique\n",
      "btr_empresas            \n",
      "0.0                 [No]\n",
      "1.0                 [Sí]\n"
     ]
    }
   ],
   "source": [
    "btr('TRPARA_D7_7','btr_empresas')"
   ]
  },
  {
   "cell_type": "markdown",
   "metadata": {},
   "source": [
    "## 'TRPARA_D7_8'  (redefinida como 'btr_opo')\n",
    "\n",
    "(Solo para quienes declaran **situación de desempleo** -respuesta 2 en 'TRBPRN1' (o 'sit_lab')-)\n",
    "\n",
    "(**Búsqueda de empleo**) ¿Está preparando o preparó unas **oposiciones**?"
   ]
  },
  {
   "cell_type": "code",
   "execution_count": 586,
   "metadata": {},
   "outputs": [
    {
     "data": {
      "text/plain": [
       "array([' ', '2', '1', '9'], dtype=object)"
      ]
     },
     "execution_count": 586,
     "metadata": {},
     "output_type": "execute_result"
    }
   ],
   "source": [
    "df['TRPARA_D7_8'].unique() # No informados como ' ' o '9'"
   ]
  },
  {
   "cell_type": "code",
   "execution_count": 587,
   "metadata": {},
   "outputs": [
    {
     "name": "stdout",
     "output_type": "stream",
     "text": [
      "                aux_traduce\n",
      "                     unique\n",
      "TRPARA_D7_8                \n",
      "             [No aplicable]\n",
      "1                      [Sí]\n",
      "2                      [No]\n",
      "9                   [NS/NC]\n",
      "[ 1.  2. nan]\n",
      "        aux_traduce\n",
      "             unique\n",
      "btr_opo            \n",
      "0.0            [No]\n",
      "1.0            [Sí]\n"
     ]
    }
   ],
   "source": [
    "btr('TRPARA_D7_8','btr_opo')"
   ]
  },
  {
   "cell_type": "markdown",
   "metadata": {},
   "source": [
    "## 'TRPARA_D7_9'  (redefinida como 'btr_auto')\n",
    "\n",
    "(Solo para quienes declaran **situación de desempleo** -respuesta 2 en 'TRBPRN1' (o 'sit_lab')-)\n",
    "\n",
    "(**Búsqueda de empleo**) ¿Busca o ha buscado equipamiento para establecer un **negocio propio**?"
   ]
  },
  {
   "cell_type": "code",
   "execution_count": 588,
   "metadata": {},
   "outputs": [
    {
     "data": {
      "text/plain": [
       "array([' ', '2', '1', '9'], dtype=object)"
      ]
     },
     "execution_count": 588,
     "metadata": {},
     "output_type": "execute_result"
    }
   ],
   "source": [
    "df['TRPARA_D7_9'].unique() # No informados como ' ' o '9'"
   ]
  },
  {
   "cell_type": "code",
   "execution_count": 589,
   "metadata": {},
   "outputs": [
    {
     "name": "stdout",
     "output_type": "stream",
     "text": [
      "                aux_traduce\n",
      "                     unique\n",
      "TRPARA_D7_9                \n",
      "             [No aplicable]\n",
      "1                      [Sí]\n",
      "2                      [No]\n",
      "9                   [NS/NC]\n",
      "[ 1.  2. nan]\n",
      "         aux_traduce\n",
      "              unique\n",
      "btr_auto            \n",
      "0.0             [No]\n",
      "1.0             [Sí]\n"
     ]
    }
   ],
   "source": [
    "btr('TRPARA_D7_9','btr_auto')"
   ]
  },
  {
   "cell_type": "markdown",
   "metadata": {},
   "source": [
    "## 'TRPARA_D7_10'  (redefinida como 'btr_otro')\n",
    "\n",
    "(Solo para quienes declaran **situación de desempleo** -respuesta 2 en 'TRBPRN1' (o 'sit_lab')-)\n",
    "\n",
    "(**Búsqueda de empleo**) ¿Busca o ha buscado empleo de **otro modo**?"
   ]
  },
  {
   "cell_type": "code",
   "execution_count": 590,
   "metadata": {},
   "outputs": [
    {
     "data": {
      "text/plain": [
       "array([' ', '2', '1', '9'], dtype=object)"
      ]
     },
     "execution_count": 590,
     "metadata": {},
     "output_type": "execute_result"
    }
   ],
   "source": [
    "df['TRPARA_D7_10'].unique() # No informados como ' ' o '9'"
   ]
  },
  {
   "cell_type": "code",
   "execution_count": 591,
   "metadata": {},
   "outputs": [
    {
     "name": "stdout",
     "output_type": "stream",
     "text": [
      "                 aux_traduce\n",
      "                      unique\n",
      "TRPARA_D7_10                \n",
      "              [No aplicable]\n",
      "1                       [Sí]\n",
      "2                       [No]\n",
      "9                    [NS/NC]\n",
      "[ 1.  2. nan]\n",
      "         aux_traduce\n",
      "              unique\n",
      "btr_otro            \n",
      "0.0             [No]\n",
      "1.0             [Sí]\n"
     ]
    }
   ],
   "source": [
    "btr('TRPARA_D7_10','btr_otro')"
   ]
  },
  {
   "cell_type": "markdown",
   "metadata": {},
   "source": [
    "## 'TRPARA_D8_1'  (redefinida como 'dbtr_formacion')\n",
    "\n",
    "(Solo para quienes declaran **situación de desempleo** -respuesta 2 en 'TRBPRN1' (o 'sit_lab')-)\n",
    "\n",
    "(**Dificultades para encontrar empleo**) Importancia que atribuye a las **carencias en la formación universitaria recibida** en cuanto a sus dificultades para encontrar trabajo."
   ]
  },
  {
   "cell_type": "code",
   "execution_count": 592,
   "metadata": {},
   "outputs": [
    {
     "data": {
      "text/plain": [
       "array([' ', '1', '2', '3', '9', '4'], dtype=object)"
      ]
     },
     "execution_count": 592,
     "metadata": {},
     "output_type": "execute_result"
    }
   ],
   "source": [
    "df['TRPARA_D8_1'].unique() # No informados como ' ' o '9'"
   ]
  },
  {
   "cell_type": "code",
   "execution_count": 593,
   "metadata": {},
   "outputs": [],
   "source": [
    "def dbtr(col,nuevo):\n",
    "    \"\"\"Procesa columnas referidas a las dificultades en la búsqueda de trabajo para los desempleados.\n",
    "    \"\"\"\n",
    "    traduce(col)\n",
    "    no_respuesta(col)\n",
    "    redefine(col,nuevo)\n",
    "    D_describe[nuevo]=D_describe[col].split(':',1)[1].strip()\n",
    "    return"
   ]
  },
  {
   "cell_type": "code",
   "execution_count": 594,
   "metadata": {},
   "outputs": [
    {
     "name": "stdout",
     "output_type": "stream",
     "text": [
      "                       aux_traduce\n",
      "                            unique\n",
      "TRPARA_D8_1                       \n",
      "                    [No aplicable]\n",
      "1                [Nada importante]\n",
      "2                [Poco importante]\n",
      "3            [Bastante importante]\n",
      "4                 [Muy importante]\n",
      "9                          [NS/NC]\n",
      "[ 1.  2.  3.  4. nan]\n"
     ]
    }
   ],
   "source": [
    "dbtr('TRPARA_D8_1','dbtr_formacion')"
   ]
  },
  {
   "cell_type": "markdown",
   "metadata": {},
   "source": [
    "## 'TRPARA_D8_2'  (redefinida como 'dbtr_personales')\n",
    "\n",
    "(Solo para quienes declaran **situación de desempleo** -respuesta 2 en 'TRBPRN1' (o 'sit_lab')-)\n",
    "\n",
    "(**Dificultades para encontrar empleo**) Importancia que atribuye a las **actividades personales** que impiden trabajar (seguir estudiando, familia, otras) en cuanto a sus dificultades para encontrar trabajo."
   ]
  },
  {
   "cell_type": "code",
   "execution_count": 595,
   "metadata": {},
   "outputs": [
    {
     "data": {
      "text/plain": [
       "array([' ', '3', '1', '2', '4', '9'], dtype=object)"
      ]
     },
     "execution_count": 595,
     "metadata": {},
     "output_type": "execute_result"
    }
   ],
   "source": [
    "df['TRPARA_D8_2'].unique() # No informados como ' ' o '9'"
   ]
  },
  {
   "cell_type": "code",
   "execution_count": 596,
   "metadata": {},
   "outputs": [
    {
     "name": "stdout",
     "output_type": "stream",
     "text": [
      "                       aux_traduce\n",
      "                            unique\n",
      "TRPARA_D8_2                       \n",
      "                    [No aplicable]\n",
      "1                [Nada importante]\n",
      "2                [Poco importante]\n",
      "3            [Bastante importante]\n",
      "4                 [Muy importante]\n",
      "9                          [NS/NC]\n",
      "[ 1.  2.  3.  4. nan]\n"
     ]
    }
   ],
   "source": [
    "dbtr('TRPARA_D8_2','dbtr_personales')"
   ]
  },
  {
   "cell_type": "markdown",
   "metadata": {},
   "source": [
    "## 'TRPARA_D8_3'  (redefinida como 'dbtr_experiencia')\n",
    "\n",
    "(Solo para quienes declaran **situación de desempleo** -respuesta 2 en 'TRBPRN1' (o 'sit_lab')-)\n",
    "\n",
    "(**Dificultades para encontrar empleo**) Importancia que atribuye a la **falta de experiencia profesional** en cuanto a sus dificultades para encontrar trabajo."
   ]
  },
  {
   "cell_type": "code",
   "execution_count": 597,
   "metadata": {},
   "outputs": [
    {
     "data": {
      "text/plain": [
       "array([' ', '1', '3', '2', '4', '9'], dtype=object)"
      ]
     },
     "execution_count": 597,
     "metadata": {},
     "output_type": "execute_result"
    }
   ],
   "source": [
    "df['TRPARA_D8_3'].unique() # No informados como ' ' o '9'"
   ]
  },
  {
   "cell_type": "code",
   "execution_count": 598,
   "metadata": {},
   "outputs": [
    {
     "name": "stdout",
     "output_type": "stream",
     "text": [
      "                       aux_traduce\n",
      "                            unique\n",
      "TRPARA_D8_3                       \n",
      "                    [No aplicable]\n",
      "1                [Nada importante]\n",
      "2                [Poco importante]\n",
      "3            [Bastante importante]\n",
      "4                 [Muy importante]\n",
      "9                          [NS/NC]\n",
      "[ 1.  2.  3.  4. nan]\n"
     ]
    }
   ],
   "source": [
    "dbtr('TRPARA_D8_3','dbtr_experiencia')"
   ]
  },
  {
   "cell_type": "markdown",
   "metadata": {},
   "source": [
    "## 'TRPARA_D8_4'  (redefinida como 'dbtr_expectativas')\n",
    "\n",
    "(Solo para quienes declaran **situación de desempleo** -respuesta 2 en 'TRBPRN1' (o 'sit_lab')-)\n",
    "\n",
    "(**Dificultades para encontrar empleo**) Importancia que atribuye a la **exigencia de tener un trabajo acorde con sus expectativas** económicas y profesionales en cuanto a sus dificultades para encontrar trabajo."
   ]
  },
  {
   "cell_type": "code",
   "execution_count": 599,
   "metadata": {},
   "outputs": [
    {
     "data": {
      "text/plain": [
       "array([' ', '4', '2', '1', '3', '9'], dtype=object)"
      ]
     },
     "execution_count": 599,
     "metadata": {},
     "output_type": "execute_result"
    }
   ],
   "source": [
    "df['TRPARA_D8_4'].unique() # No informados como ' ' o '9'"
   ]
  },
  {
   "cell_type": "code",
   "execution_count": 600,
   "metadata": {},
   "outputs": [
    {
     "name": "stdout",
     "output_type": "stream",
     "text": [
      "                       aux_traduce\n",
      "                            unique\n",
      "TRPARA_D8_4                       \n",
      "                    [No aplicable]\n",
      "1                [Nada importante]\n",
      "2                [Poco importante]\n",
      "3            [Bastante importante]\n",
      "4                 [Muy importante]\n",
      "9                          [NS/NC]\n",
      "[ 1.  2.  3.  4. nan]\n"
     ]
    }
   ],
   "source": [
    "dbtr('TRPARA_D8_4','dbtr_expectativas')"
   ]
  },
  {
   "cell_type": "markdown",
   "metadata": {},
   "source": [
    "## 'TRPARA_D8_5'  (redefinida como 'dbtr_idiomas')\n",
    "\n",
    "(Solo para quienes declaran **situación de desempleo** -respuesta 2 en 'TRBPRN1' (o 'sit_lab')-)\n",
    "\n",
    "(**Dificultades para encontrar empleo**) Importancia que atribuye a la **falta de conocimientos de idiomas** en cuanto a sus dificultades para encontrar trabajo."
   ]
  },
  {
   "cell_type": "code",
   "execution_count": 601,
   "metadata": {},
   "outputs": [
    {
     "data": {
      "text/plain": [
       "array([' ', '1', '3', '2', '4', '9'], dtype=object)"
      ]
     },
     "execution_count": 601,
     "metadata": {},
     "output_type": "execute_result"
    }
   ],
   "source": [
    "df['TRPARA_D8_5'].unique() # No informados como ' ' o '9'"
   ]
  },
  {
   "cell_type": "code",
   "execution_count": 602,
   "metadata": {},
   "outputs": [
    {
     "name": "stdout",
     "output_type": "stream",
     "text": [
      "                       aux_traduce\n",
      "                            unique\n",
      "TRPARA_D8_5                       \n",
      "                    [No aplicable]\n",
      "1                [Nada importante]\n",
      "2                [Poco importante]\n",
      "3            [Bastante importante]\n",
      "4                 [Muy importante]\n",
      "9                          [NS/NC]\n",
      "[ 1.  2.  3.  4. nan]\n"
     ]
    }
   ],
   "source": [
    "dbtr('TRPARA_D8_5','dbtr_idiomas')"
   ]
  },
  {
   "cell_type": "markdown",
   "metadata": {},
   "source": [
    "## 'TRPARA_D8_6'  (redefinida como 'dbtr_ti')\n",
    "\n",
    "(Solo para quienes declaran **situación de desempleo** -respuesta 2 en 'TRBPRN1' (o 'sit_lab')-)\n",
    "\n",
    "(**Dificultades para encontrar empleo**) Importancia que atribuye a la **falta de conocimientos informáticos** en cuanto a sus dificultades para encontrar trabajo."
   ]
  },
  {
   "cell_type": "code",
   "execution_count": 603,
   "metadata": {},
   "outputs": [
    {
     "data": {
      "text/plain": [
       "array([' ', '1', '3', '2', '9', '4'], dtype=object)"
      ]
     },
     "execution_count": 603,
     "metadata": {},
     "output_type": "execute_result"
    }
   ],
   "source": [
    "df['TRPARA_D8_6'].unique() # No informados como ' ' o '9'"
   ]
  },
  {
   "cell_type": "code",
   "execution_count": 604,
   "metadata": {},
   "outputs": [
    {
     "name": "stdout",
     "output_type": "stream",
     "text": [
      "                       aux_traduce\n",
      "                            unique\n",
      "TRPARA_D8_6                       \n",
      "                    [No aplicable]\n",
      "1                [Nada importante]\n",
      "2                [Poco importante]\n",
      "3            [Bastante importante]\n",
      "4                 [Muy importante]\n",
      "9                          [NS/NC]\n",
      "[ 1.  2.  3.  4. nan]\n"
     ]
    }
   ],
   "source": [
    "dbtr('TRPARA_D8_6','dbtr_ti')"
   ]
  },
  {
   "cell_type": "markdown",
   "metadata": {},
   "source": [
    "## 'TRAC_D9'  \n",
    "\n",
    "(Solo para quienes declaran **situación de ocupación** -respuesta 1 en 'TRBPRN1' (o 'sit_lab')-)  \n",
    "\n",
    "Actualmente trabaja en **más de un empleo**."
   ]
  },
  {
   "cell_type": "code",
   "execution_count": 605,
   "metadata": {},
   "outputs": [
    {
     "data": {
      "text/plain": [
       "array(['2', '1', ' ', '9'], dtype=object)"
      ]
     },
     "execution_count": 605,
     "metadata": {},
     "output_type": "execute_result"
    }
   ],
   "source": [
    "df['TRAC_D9'].unique() # No informados como ' ' o '9'"
   ]
  },
  {
   "cell_type": "code",
   "execution_count": 606,
   "metadata": {},
   "outputs": [
    {
     "name": "stdout",
     "output_type": "stream",
     "text": [
      "            aux_traduce\n",
      "                 unique\n",
      "TRAC_D9                \n",
      "         [No aplicable]\n",
      "1                  [Sí]\n",
      "2                  [No]\n",
      "9               [NS/NC]\n"
     ]
    }
   ],
   "source": [
    "traduce('TRAC_D9')"
   ]
  },
  {
   "cell_type": "code",
   "execution_count": 607,
   "metadata": {},
   "outputs": [
    {
     "name": "stdout",
     "output_type": "stream",
     "text": [
      "[ 1.  2. nan]\n"
     ]
    }
   ],
   "source": [
    "no_respuesta('TRAC_D9')"
   ]
  },
  {
   "cell_type": "markdown",
   "metadata": {},
   "source": [
    "## 'LUG_TRAB_PAIS'  (redefinida como 'pais_tr')\n",
    "\n",
    "(Solo para quienes declaran situación de ocupación -respuesta 1 en 'TRBPRN1' (o 'sit_lab')-)  \n",
    "\n",
    "**País de trabajo** actual."
   ]
  },
  {
   "cell_type": "code",
   "execution_count": 608,
   "metadata": {},
   "outputs": [
    {
     "data": {
      "text/plain": [
       "array(['01', '  ', '02', '07', '06', '11', '03', '05', '08', '09', '04',\n",
       "       '10'], dtype=object)"
      ]
     },
     "execution_count": 608,
     "metadata": {},
     "output_type": "execute_result"
    }
   ],
   "source": [
    "df['LUG_TRAB_PAIS'].unique() # No informados como '  ' o '99'"
   ]
  },
  {
   "cell_type": "code",
   "execution_count": 609,
   "metadata": {},
   "outputs": [
    {
     "name": "stdout",
     "output_type": "stream",
     "text": [
      "                        aux_traduce\n",
      "                             unique\n",
      "LUG_TRAB_PAIS                      \n",
      "                     [No aplicable]\n",
      "01                             [01]\n",
      "02                             [02]\n",
      "03                             [03]\n",
      "04                             [04]\n",
      "05                             [05]\n",
      "06                             [06]\n",
      "07                             [07]\n",
      "08                             [08]\n",
      "09                             [09]\n",
      "10              [Un país de África]\n",
      "11             [Un país de Oceanía]\n"
     ]
    }
   ],
   "source": [
    "traduce('LUG_TRAB_PAIS')"
   ]
  },
  {
   "cell_type": "code",
   "execution_count": 610,
   "metadata": {},
   "outputs": [
    {
     "name": "stdout",
     "output_type": "stream",
     "text": [
      "[ 1.  2.  3.  4.  5.  6.  7.  8.  9. 10. 11. nan]\n"
     ]
    }
   ],
   "source": [
    "no_respuesta('LUG_TRAB_PAIS',blank='  ',nsnc='99')"
   ]
  },
  {
   "cell_type": "code",
   "execution_count": 611,
   "metadata": {},
   "outputs": [],
   "source": [
    "redefine('LUG_TRAB_PAIS','pais_tr')"
   ]
  },
  {
   "cell_type": "markdown",
   "metadata": {},
   "source": [
    "## 'SIT_PRO' (actualiza la variable 'sit_lab_detalle')\n",
    "\n",
    "(Solo para quienes declaran **situación de ocupación** -respuesta 1 en 'TRBPRN1' (o 'sit_lab')-)  \n",
    "\n",
    "**Situación profesional** actual."
   ]
  },
  {
   "cell_type": "code",
   "execution_count": 612,
   "metadata": {},
   "outputs": [
    {
     "data": {
      "text/plain": [
       "array(['2', '1', '3', ' ', '5', '6', '4'], dtype=object)"
      ]
     },
     "execution_count": 612,
     "metadata": {},
     "output_type": "execute_result"
    }
   ],
   "source": [
    "df['SIT_PRO'].unique() # No informados como ' ' "
   ]
  },
  {
   "cell_type": "code",
   "execution_count": 613,
   "metadata": {},
   "outputs": [
    {
     "name": "stdout",
     "output_type": "stream",
     "text": [
      "                                                                              aux_traduce\n",
      "                                                                                   unique\n",
      "SIT_PRO                                                                                  \n",
      "                                                                           [No aplicable]\n",
      "1               [Trabajador en prácticas, formación (incluido MIR, EIR, FIR,…) o becario]\n",
      "2        [Asalariado con trabajo permanente o contrato de trabajo de duración indefinida]\n",
      "3         [Asalariado con trabajo temporal o contrato de trabajo de duración determinada]\n",
      "4                                                            [Empresario con asalariados]\n",
      "5                                 [Trabajador independiente o empresario sin asalariados]\n",
      "6                                                [Ayuda en la empresa o negocio familiar]\n"
     ]
    }
   ],
   "source": [
    "traduce('SIT_PRO')"
   ]
  },
  {
   "cell_type": "code",
   "execution_count": 614,
   "metadata": {},
   "outputs": [
    {
     "name": "stdout",
     "output_type": "stream",
     "text": [
      "[ 1.  2.  3.  4.  5.  6. nan]\n"
     ]
    }
   ],
   "source": [
    "no_respuesta('SIT_PRO')"
   ]
  },
  {
   "cell_type": "code",
   "execution_count": 615,
   "metadata": {},
   "outputs": [
    {
     "data": {
      "text/html": [
       "<div>\n",
       "<style scoped>\n",
       "    .dataframe tbody tr th:only-of-type {\n",
       "        vertical-align: middle;\n",
       "    }\n",
       "\n",
       "    .dataframe tbody tr th {\n",
       "        vertical-align: top;\n",
       "    }\n",
       "\n",
       "    .dataframe thead tr th {\n",
       "        text-align: left;\n",
       "    }\n",
       "\n",
       "    .dataframe thead tr:last-of-type th {\n",
       "        text-align: right;\n",
       "    }\n",
       "</style>\n",
       "<table border=\"1\" class=\"dataframe\">\n",
       "  <thead>\n",
       "    <tr>\n",
       "      <th></th>\n",
       "      <th>sit_lab_detalle_</th>\n",
       "    </tr>\n",
       "    <tr>\n",
       "      <th></th>\n",
       "      <th>unique</th>\n",
       "    </tr>\n",
       "    <tr>\n",
       "      <th>sit_lab_</th>\n",
       "      <th></th>\n",
       "    </tr>\n",
       "  </thead>\n",
       "  <tbody>\n",
       "    <tr>\n",
       "      <th>En desempleo</th>\n",
       "      <td>[Desempleado]</td>\n",
       "    </tr>\n",
       "    <tr>\n",
       "      <th>Inactivo</th>\n",
       "      <td>[(Inactivo) Estudiante, (Inactivo) Otra situación, (Inactivo) Dedicado a las labores del hogar, (Inactivo) Jubilado, (Inactivo) Incapacitado para trabajar]</td>\n",
       "    </tr>\n",
       "    <tr>\n",
       "      <th>Trabajando</th>\n",
       "      <td>[(Ocupado) Asalariado con trabajo permanente o contrato de trabajo de duración indefinida, (Ocupado) Trabajador en prácticas, formación (incluido MIR, EIR, FIR,…) o becario, (Ocupado) Asalariado con trabajo temporal o contrato de trabajo de duración determinada, (Ocupado) Trabajador independient...</td>\n",
       "    </tr>\n",
       "  </tbody>\n",
       "</table>\n",
       "</div>"
      ],
      "text/plain": [
       "                                                                                                                                                                                                                                                                                                         sit_lab_detalle_\n",
       "                                                                                                                                                                                                                                                                                                                   unique\n",
       "sit_lab_                                                                                                                                                                                                                                                                                                                 \n",
       "En desempleo                                                                                                                                                                                                                                                                                                [Desempleado]\n",
       "Inactivo                                                                                                                                                      [(Inactivo) Estudiante, (Inactivo) Otra situación, (Inactivo) Dedicado a las labores del hogar, (Inactivo) Jubilado, (Inactivo) Incapacitado para trabajar]\n",
       "Trabajando    [(Ocupado) Asalariado con trabajo permanente o contrato de trabajo de duración indefinida, (Ocupado) Trabajador en prácticas, formación (incluido MIR, EIR, FIR,…) o becario, (Ocupado) Asalariado con trabajo temporal o contrato de trabajo de duración determinada, (Ocupado) Trabajador independient..."
      ]
     },
     "execution_count": 615,
     "metadata": {},
     "output_type": "execute_result"
    }
   ],
   "source": [
    "# Se actualiza la variable 'sit_lab_detalle_' (solo la literal para no reescribir los códigos de la variable ...\n",
    "# ... discreta)\n",
    "df['sit_lab_detalle_'].mask(df['sit_lab']==1,'(Ocupado) '+df['SIT_PRO_'],inplace=True)\n",
    "df['sit_lab_detalle_'].mask(df['sit_lab']==2,'Desempleado',inplace=True)\n",
    "df[['sit_lab_detalle_','sit_lab_']].groupby('sit_lab_',dropna=False).agg(['unique']) # Comprobación"
   ]
  },
  {
   "cell_type": "code",
   "execution_count": 616,
   "metadata": {},
   "outputs": [
    {
     "name": "stdout",
     "output_type": "stream",
     "text": [
      "1 \t (Inactivo) Estudiante\n",
      "2 \t (Inactivo) Jubilado\n",
      "3 \t (Inactivo) Incapacitado para trabajar\n",
      "9 \t (Ocupado) Asalariado con trabajo temporal o contrato de trabajo de duración determinada\n",
      "4 \t (Inactivo) Dedicado a las labores del hogar\n",
      "5 \t (Inactivo) Otra situación\n",
      "6 \t Desempleado\n",
      "11 \t (Ocupado) Trabajador independiente o empresario sin asalariados\n",
      "7 \t (Ocupado) Trabajador en prácticas, formación (incluido MIR, EIR, FIR,…) o becario\n",
      "8 \t (Ocupado) Asalariado con trabajo permanente o contrato de trabajo de duración indefinida\n",
      "10 \t (Ocupado) Empresario con asalariados\n",
      "12 \t (Ocupado) Ayuda en la empresa o negocio familiar\n"
     ]
    }
   ],
   "source": [
    "# Para construir la variable 'sit_lab_detalle' ('int') a partir de la literal 'sit_lab_detalle_', se emplea ...\n",
    "# ... el diccionario inverso del de 'sit_lab_detalle' (este último, definido en el notebook Graduado_2019.ipynb)\n",
    "leyenda('sit_lab_detalle')"
   ]
  },
  {
   "cell_type": "code",
   "execution_count": 617,
   "metadata": {},
   "outputs": [],
   "source": [
    "# Diccionario inverso auxiliar para sit_lab_detalle: \n",
    "D_inv_aux=dict()\n",
    "for k,v in D_dict['sit_lab_detalle'].items(): \n",
    "    if type(k)==int: \n",
    "        D_inv_aux[v]=k        "
   ]
  },
  {
   "cell_type": "code",
   "execution_count": 618,
   "metadata": {},
   "outputs": [
    {
     "data": {
      "text/html": [
       "<div>\n",
       "<style scoped>\n",
       "    .dataframe tbody tr th:only-of-type {\n",
       "        vertical-align: middle;\n",
       "    }\n",
       "\n",
       "    .dataframe tbody tr th {\n",
       "        vertical-align: top;\n",
       "    }\n",
       "\n",
       "    .dataframe thead tr th {\n",
       "        text-align: left;\n",
       "    }\n",
       "\n",
       "    .dataframe thead tr:last-of-type th {\n",
       "        text-align: right;\n",
       "    }\n",
       "</style>\n",
       "<table border=\"1\" class=\"dataframe\">\n",
       "  <thead>\n",
       "    <tr>\n",
       "      <th></th>\n",
       "      <th>sit_lab_detalle_</th>\n",
       "      <th>sit_lab_</th>\n",
       "    </tr>\n",
       "    <tr>\n",
       "      <th></th>\n",
       "      <th>unique</th>\n",
       "      <th>unique</th>\n",
       "    </tr>\n",
       "    <tr>\n",
       "      <th>sit_lab_detalle</th>\n",
       "      <th></th>\n",
       "      <th></th>\n",
       "    </tr>\n",
       "  </thead>\n",
       "  <tbody>\n",
       "    <tr>\n",
       "      <th>1</th>\n",
       "      <td>[(Inactivo) Estudiante]</td>\n",
       "      <td>[Inactivo]</td>\n",
       "    </tr>\n",
       "    <tr>\n",
       "      <th>2</th>\n",
       "      <td>[(Inactivo) Jubilado]</td>\n",
       "      <td>[Inactivo]</td>\n",
       "    </tr>\n",
       "    <tr>\n",
       "      <th>3</th>\n",
       "      <td>[(Inactivo) Incapacitado para trabajar]</td>\n",
       "      <td>[Inactivo]</td>\n",
       "    </tr>\n",
       "    <tr>\n",
       "      <th>4</th>\n",
       "      <td>[(Inactivo) Dedicado a las labores del hogar]</td>\n",
       "      <td>[Inactivo]</td>\n",
       "    </tr>\n",
       "    <tr>\n",
       "      <th>5</th>\n",
       "      <td>[(Inactivo) Otra situación]</td>\n",
       "      <td>[Inactivo]</td>\n",
       "    </tr>\n",
       "    <tr>\n",
       "      <th>6</th>\n",
       "      <td>[Desempleado]</td>\n",
       "      <td>[En desempleo]</td>\n",
       "    </tr>\n",
       "    <tr>\n",
       "      <th>7</th>\n",
       "      <td>[(Ocupado) Trabajador en prácticas, formación (incluido MIR, EIR, FIR,…) o becario]</td>\n",
       "      <td>[Trabajando]</td>\n",
       "    </tr>\n",
       "    <tr>\n",
       "      <th>8</th>\n",
       "      <td>[(Ocupado) Asalariado con trabajo permanente o contrato de trabajo de duración indefinida]</td>\n",
       "      <td>[Trabajando]</td>\n",
       "    </tr>\n",
       "    <tr>\n",
       "      <th>9</th>\n",
       "      <td>[(Ocupado) Asalariado con trabajo temporal o contrato de trabajo de duración determinada]</td>\n",
       "      <td>[Trabajando]</td>\n",
       "    </tr>\n",
       "    <tr>\n",
       "      <th>10</th>\n",
       "      <td>[(Ocupado) Empresario con asalariados]</td>\n",
       "      <td>[Trabajando]</td>\n",
       "    </tr>\n",
       "    <tr>\n",
       "      <th>11</th>\n",
       "      <td>[(Ocupado) Trabajador independiente o empresario sin asalariados]</td>\n",
       "      <td>[Trabajando]</td>\n",
       "    </tr>\n",
       "    <tr>\n",
       "      <th>12</th>\n",
       "      <td>[(Ocupado) Ayuda en la empresa o negocio familiar]</td>\n",
       "      <td>[Trabajando]</td>\n",
       "    </tr>\n",
       "  </tbody>\n",
       "</table>\n",
       "</div>"
      ],
      "text/plain": [
       "                                                                                           sit_lab_detalle_  \\\n",
       "                                                                                                     unique   \n",
       "sit_lab_detalle                                                                                               \n",
       "1                                                                                   [(Inactivo) Estudiante]   \n",
       "2                                                                                     [(Inactivo) Jubilado]   \n",
       "3                                                                   [(Inactivo) Incapacitado para trabajar]   \n",
       "4                                                             [(Inactivo) Dedicado a las labores del hogar]   \n",
       "5                                                                               [(Inactivo) Otra situación]   \n",
       "6                                                                                             [Desempleado]   \n",
       "7                       [(Ocupado) Trabajador en prácticas, formación (incluido MIR, EIR, FIR,…) o becario]   \n",
       "8                [(Ocupado) Asalariado con trabajo permanente o contrato de trabajo de duración indefinida]   \n",
       "9                 [(Ocupado) Asalariado con trabajo temporal o contrato de trabajo de duración determinada]   \n",
       "10                                                                   [(Ocupado) Empresario con asalariados]   \n",
       "11                                        [(Ocupado) Trabajador independiente o empresario sin asalariados]   \n",
       "12                                                       [(Ocupado) Ayuda en la empresa o negocio familiar]   \n",
       "\n",
       "                       sit_lab_  \n",
       "                         unique  \n",
       "sit_lab_detalle                  \n",
       "1                    [Inactivo]  \n",
       "2                    [Inactivo]  \n",
       "3                    [Inactivo]  \n",
       "4                    [Inactivo]  \n",
       "5                    [Inactivo]  \n",
       "6                [En desempleo]  \n",
       "7                  [Trabajando]  \n",
       "8                  [Trabajando]  \n",
       "9                  [Trabajando]  \n",
       "10                 [Trabajando]  \n",
       "11                 [Trabajando]  \n",
       "12                 [Trabajando]  "
      ]
     },
     "execution_count": 618,
     "metadata": {},
     "output_type": "execute_result"
    }
   ],
   "source": [
    "df['sit_lab_detalle']=df['sit_lab_detalle_'].replace(D_inv_aux)\n",
    "df[['sit_lab_detalle','sit_lab_detalle_','sit_lab_']].groupby('sit_lab_detalle').agg(['unique']) # Comprobación: "
   ]
  },
  {
   "cell_type": "code",
   "execution_count": 619,
   "metadata": {},
   "outputs": [],
   "source": [
    "a_lista('sit_lab_detalle')\n",
    "v_modelos_L.append('sit_lab_detalle_')"
   ]
  },
  {
   "cell_type": "markdown",
   "metadata": {},
   "source": [
    "## 'JORNADA'  (redefinida como 'jornada')\n",
    "\n",
    "(Solo para quienes declaran **situación de ocupación** -respuesta 1 en 'TRBPRN1' (o 'sit_lab')-)  \n",
    "\n",
    "Tipo de **jornada laboral** actual."
   ]
  },
  {
   "cell_type": "code",
   "execution_count": 620,
   "metadata": {},
   "outputs": [
    {
     "data": {
      "text/plain": [
       "array(['2', ' ', '1'], dtype=object)"
      ]
     },
     "execution_count": 620,
     "metadata": {},
     "output_type": "execute_result"
    }
   ],
   "source": [
    "df['JORNADA'].unique() # No informados como ' ' "
   ]
  },
  {
   "cell_type": "code",
   "execution_count": 621,
   "metadata": {},
   "outputs": [
    {
     "name": "stdout",
     "output_type": "stream",
     "text": [
      "                 aux_traduce\n",
      "                      unique\n",
      "JORNADA                     \n",
      "                         [ ]\n",
      "1         [A tiempo parcial]\n",
      "2        [A tiempo completo]\n"
     ]
    }
   ],
   "source": [
    "traduce('JORNADA')"
   ]
  },
  {
   "cell_type": "code",
   "execution_count": 622,
   "metadata": {},
   "outputs": [
    {
     "name": "stdout",
     "output_type": "stream",
     "text": [
      "[ 1.  2. nan]\n"
     ]
    }
   ],
   "source": [
    "no_respuesta('JORNADA')"
   ]
  },
  {
   "cell_type": "code",
   "execution_count": 623,
   "metadata": {},
   "outputs": [],
   "source": [
    "redefine('JORNADA')"
   ]
  },
  {
   "cell_type": "code",
   "execution_count": 624,
   "metadata": {},
   "outputs": [
    {
     "data": {
      "text/html": [
       "<div>\n",
       "<style scoped>\n",
       "    .dataframe tbody tr th:only-of-type {\n",
       "        vertical-align: middle;\n",
       "    }\n",
       "\n",
       "    .dataframe tbody tr th {\n",
       "        vertical-align: top;\n",
       "    }\n",
       "\n",
       "    .dataframe thead th {\n",
       "        text-align: right;\n",
       "    }\n",
       "</style>\n",
       "<table border=\"1\" class=\"dataframe\">\n",
       "  <thead>\n",
       "    <tr style=\"text-align: right;\">\n",
       "      <th></th>\n",
       "      <th>jornada_</th>\n",
       "    </tr>\n",
       "  </thead>\n",
       "  <tbody>\n",
       "    <tr>\n",
       "      <th>A tiempo completo</th>\n",
       "      <td>0.866819</td>\n",
       "    </tr>\n",
       "    <tr>\n",
       "      <th>A tiempo parcial</th>\n",
       "      <td>0.133181</td>\n",
       "    </tr>\n",
       "  </tbody>\n",
       "</table>\n",
       "</div>"
      ],
      "text/plain": [
       "                   jornada_\n",
       "A tiempo completo  0.866819\n",
       "A tiempo parcial   0.133181"
      ]
     },
     "execution_count": 624,
     "metadata": {},
     "output_type": "execute_result"
    }
   ],
   "source": [
    "proporciones('jornada_',dropna=True)"
   ]
  },
  {
   "cell_type": "markdown",
   "metadata": {},
   "source": [
    "## 'TRABOC' (redefinida como 'ocupacion')\n",
    "\n",
    "(Solo para quienes declaran **situación de ocupación** -respuesta 1 en 'TRBPRN1' (o 'sit_lab')-)  \n",
    "\n",
    "**Ocupación** que desempeña en el puesto de trabajo actual."
   ]
  },
  {
   "cell_type": "code",
   "execution_count": 625,
   "metadata": {},
   "outputs": [
    {
     "data": {
      "text/plain": [
       "63"
      ]
     },
     "execution_count": 625,
     "metadata": {},
     "output_type": "execute_result"
    }
   ],
   "source": [
    "df['TRABOC'].nunique() # No informados como '  ' o '99'"
   ]
  },
  {
   "cell_type": "code",
   "execution_count": 626,
   "metadata": {},
   "outputs": [
    {
     "name": "stdout",
     "output_type": "stream",
     "text": [
      "[ 0. 11. 12. 13. 14. 15. 21. 22. 23. 24. 25. 26. 27. 28. 29. 31. 32. 33.\n",
      " 34. 35. 36. 37. 38. 41. 42. 43. 44. 45. 50. 51. 52. 53. 54. 55. 56. 57.\n",
      " 58. 59. 61. 62. 64. 71. 72. 73. 74. 75. 76. 77. 78. 81. 82. 83. 84. 91.\n",
      " 92. 93. 94. 95. 96. 97. 98. nan]\n"
     ]
    }
   ],
   "source": [
    "no_respuesta('TRABOC',blank='  ',nsnc='99')"
   ]
  },
  {
   "cell_type": "code",
   "execution_count": 627,
   "metadata": {},
   "outputs": [],
   "source": [
    "df['ocupacion']=df['TRABOC']\n",
    "df['ocupacion_']=df['ocupacion'].replace(D_ocupaciones)\n",
    "# df['ocupacion_'].unique() # Comprobación: "
   ]
  },
  {
   "cell_type": "code",
   "execution_count": 628,
   "metadata": {},
   "outputs": [],
   "source": [
    "a_lista('ocupacion')\n",
    "v_modelos_L.append('ocupacion_')"
   ]
  },
  {
   "cell_type": "markdown",
   "metadata": {},
   "source": [
    "## 'TR_CNAE' (redefinida como 'cnae')\n",
    "\n",
    "(Solo para quienes declaran **situación de ocupación** -respuesta 1 en 'TRBPRN1' (o 'sit_lab')-)  \n",
    "\n",
    "**Actividad principal de la empresa** donde trabaja actualmente.   \n",
    "Nota: se recodifica la variable 'cnae' para establecer valores numéricos."
   ]
  },
  {
   "cell_type": "code",
   "execution_count": 629,
   "metadata": {},
   "outputs": [
    {
     "data": {
      "text/plain": [
       "array(['CC', 'PP', 'N6', '  ', 'M1', 'TT', 'M2', 'N5', 'JJ', 'AA', 'GG',\n",
       "       'KK', 'QQ', 'II', 'HH', 'N1', 'OO', 'RR', 'LL', 'FF', 'N4', 'UU',\n",
       "       'N3', 'DD', 'N2', 'S1', 'BB', '99', 'M3', 'S2', 'S3', 'EE', 'S4'],\n",
       "      dtype=object)"
      ]
     },
     "execution_count": 629,
     "metadata": {},
     "output_type": "execute_result"
    }
   ],
   "source": [
    "df['TR_CNAE'].unique() # No informados como '  ' o '99'"
   ]
  },
  {
   "cell_type": "code",
   "execution_count": 630,
   "metadata": {},
   "outputs": [],
   "source": [
    "traduce('TR_CNAE',check=False)"
   ]
  },
  {
   "cell_type": "code",
   "execution_count": 631,
   "metadata": {},
   "outputs": [
    {
     "name": "stdout",
     "output_type": "stream",
     "text": [
      "['AA' 'BB' 'CC' 'DD' 'EE' 'FF' 'GG' 'HH' 'II' 'JJ' 'KK' 'LL' 'M1' 'M2'\n",
      " 'M3' 'N1' 'N2' 'N3' 'N4' 'N5' 'N6' 'OO' 'PP' 'QQ' 'RR' 'S1' 'S2' 'S3'\n",
      " 'S4' 'TT' 'UU' None]\n"
     ]
    }
   ],
   "source": [
    "no_respuesta('TR_CNAE',blank='  ',nsnc='99')"
   ]
  },
  {
   "cell_type": "code",
   "execution_count": 632,
   "metadata": {},
   "outputs": [],
   "source": [
    "df['cnae']=df['TR_CNAE'].replace(D_cnae_a_num)\n",
    "traduce('cnae',check=False)"
   ]
  },
  {
   "cell_type": "code",
   "execution_count": 633,
   "metadata": {},
   "outputs": [
    {
     "data": {
      "text/html": [
       "<div>\n",
       "<style scoped>\n",
       "    .dataframe tbody tr th:only-of-type {\n",
       "        vertical-align: middle;\n",
       "    }\n",
       "\n",
       "    .dataframe tbody tr th {\n",
       "        vertical-align: top;\n",
       "    }\n",
       "\n",
       "    .dataframe thead th {\n",
       "        text-align: right;\n",
       "    }\n",
       "</style>\n",
       "<table border=\"1\" class=\"dataframe\">\n",
       "  <thead>\n",
       "    <tr style=\"text-align: right;\">\n",
       "      <th></th>\n",
       "      <th>cnae_</th>\n",
       "    </tr>\n",
       "  </thead>\n",
       "  <tbody>\n",
       "    <tr>\n",
       "      <th>Educación</th>\n",
       "      <td>0.277628</td>\n",
       "    </tr>\n",
       "    <tr>\n",
       "      <th>No conocido o no aplicable</th>\n",
       "      <td>0.125229</td>\n",
       "    </tr>\n",
       "    <tr>\n",
       "      <th>Actividades profesionales, científicas y técnicas</th>\n",
       "      <td>0.117913</td>\n",
       "    </tr>\n",
       "    <tr>\n",
       "      <th>Actividades sanitarias y de servicios sociales</th>\n",
       "      <td>0.095097</td>\n",
       "    </tr>\n",
       "    <tr>\n",
       "      <th>Administración Pública y defensa; Seguridad Social obligatoria</th>\n",
       "      <td>0.066011</td>\n",
       "    </tr>\n",
       "    <tr>\n",
       "      <th>Industria manufacturera</th>\n",
       "      <td>0.055473</td>\n",
       "    </tr>\n",
       "    <tr>\n",
       "      <th>Comercio al por mayor y al por menor; reparación de vehículos de motor y motocicletas</th>\n",
       "      <td>0.039885</td>\n",
       "    </tr>\n",
       "    <tr>\n",
       "      <th>Construcción e ingeniería civil</th>\n",
       "      <td>0.028216</td>\n",
       "    </tr>\n",
       "    <tr>\n",
       "      <th>Información y comunicaciones (actividades de edición, cinematográficas, de vídeo, de sonido, programas de televisión, telecomunicaciones, programación informática y servicios de información)</th>\n",
       "      <td>0.023861</td>\n",
       "    </tr>\n",
       "    <tr>\n",
       "      <th>Actividades artísticas, culturales, recreativas, deportivas y de entrenimiento</th>\n",
       "      <td>0.023252</td>\n",
       "    </tr>\n",
       "  </tbody>\n",
       "</table>\n",
       "</div>"
      ],
      "text/plain": [
       "                                                                                                                                                                                                    cnae_\n",
       "Educación                                                                                                                                                                                        0.277628\n",
       "No conocido o no aplicable                                                                                                                                                                       0.125229\n",
       "Actividades profesionales, científicas y técnicas                                                                                                                                                0.117913\n",
       "Actividades sanitarias y de servicios sociales                                                                                                                                                   0.095097\n",
       "Administración Pública y defensa; Seguridad Social obligatoria                                                                                                                                   0.066011\n",
       "Industria manufacturera                                                                                                                                                                          0.055473\n",
       "Comercio al por mayor y al por menor; reparación de vehículos de motor y motocicletas                                                                                                            0.039885\n",
       "Construcción e ingeniería civil                                                                                                                                                                  0.028216\n",
       "Información y comunicaciones (actividades de edición, cinematográficas, de vídeo, de sonido, programas de televisión, telecomunicaciones, programación informática y servicios de información)   0.023861\n",
       "Actividades artísticas, culturales, recreativas, deportivas y de entrenimiento                                                                                                                   0.023252"
      ]
     },
     "execution_count": 633,
     "metadata": {},
     "output_type": "execute_result"
    }
   ],
   "source": [
    "proporciones('cnae_',dropna=True).head(10)"
   ]
  },
  {
   "cell_type": "markdown",
   "metadata": {},
   "source": [
    "## 'TR_TAM' (redefinida como 'tamaño_em')\n",
    "\n",
    "(Solo para quienes declaran **situación de ocupación** -respuesta 1 en 'TRBPRN1' (o 'sit_lab')-   \n",
    "\n",
    "**Número de trabajadores** en la empresa en la que trabaja actualmente. "
   ]
  },
  {
   "cell_type": "code",
   "execution_count": 634,
   "metadata": {},
   "outputs": [
    {
     "data": {
      "text/plain": [
       "array(['5', '3', '4', '2', ' ', '1', '0', '9'], dtype=object)"
      ]
     },
     "execution_count": 634,
     "metadata": {},
     "output_type": "execute_result"
    }
   ],
   "source": [
    "df['TR_TAM'].unique() # No informados como ' ' o '9'"
   ]
  },
  {
   "cell_type": "code",
   "execution_count": 635,
   "metadata": {},
   "outputs": [
    {
     "name": "stdout",
     "output_type": "stream",
     "text": [
      "                                                      aux_traduce\n",
      "                                                           unique\n",
      "TR_TAM                                                           \n",
      "                                                  [No aplicable ]\n",
      "0       [Trabajadores independientes o autónomos sin asalariados]\n",
      "1                                             [De 1 a 9 personas]\n",
      "2                                        [Entre 10 y 19 personas]\n",
      "3                                        [Entre 20 y 49 personas]\n",
      "4                                       [Entre 50 y 249 personas]\n",
      "5                                            [250 o más personas]\n",
      "9                                                         [NS/NC]\n"
     ]
    }
   ],
   "source": [
    "traduce('TR_TAM')"
   ]
  },
  {
   "cell_type": "code",
   "execution_count": 636,
   "metadata": {},
   "outputs": [
    {
     "name": "stdout",
     "output_type": "stream",
     "text": [
      "[ 0.  1.  2.  3.  4.  5. nan]\n"
     ]
    }
   ],
   "source": [
    "no_respuesta('TR_TAM')"
   ]
  },
  {
   "cell_type": "code",
   "execution_count": 637,
   "metadata": {},
   "outputs": [],
   "source": [
    "redefine('TR_TAM','tamaño_em')"
   ]
  },
  {
   "cell_type": "code",
   "execution_count": 638,
   "metadata": {},
   "outputs": [
    {
     "data": {
      "text/html": [
       "<div>\n",
       "<style scoped>\n",
       "    .dataframe tbody tr th:only-of-type {\n",
       "        vertical-align: middle;\n",
       "    }\n",
       "\n",
       "    .dataframe tbody tr th {\n",
       "        vertical-align: top;\n",
       "    }\n",
       "\n",
       "    .dataframe thead th {\n",
       "        text-align: right;\n",
       "    }\n",
       "</style>\n",
       "<table border=\"1\" class=\"dataframe\">\n",
       "  <thead>\n",
       "    <tr style=\"text-align: right;\">\n",
       "      <th></th>\n",
       "      <th>tamaño_em_</th>\n",
       "    </tr>\n",
       "  </thead>\n",
       "  <tbody>\n",
       "    <tr>\n",
       "      <th>250 o más personas</th>\n",
       "      <td>0.434765</td>\n",
       "    </tr>\n",
       "    <tr>\n",
       "      <th>Entre 50 y 249 personas</th>\n",
       "      <td>0.212376</td>\n",
       "    </tr>\n",
       "    <tr>\n",
       "      <th>Entre 20 y 49 personas</th>\n",
       "      <td>0.123360</td>\n",
       "    </tr>\n",
       "    <tr>\n",
       "      <th>De 1 a 9 personas</th>\n",
       "      <td>0.103935</td>\n",
       "    </tr>\n",
       "    <tr>\n",
       "      <th>Trabajadores independientes o autónomos sin asalariados</th>\n",
       "      <td>0.063583</td>\n",
       "    </tr>\n",
       "    <tr>\n",
       "      <th>Entre 10 y 19 personas</th>\n",
       "      <td>0.061981</td>\n",
       "    </tr>\n",
       "  </tbody>\n",
       "</table>\n",
       "</div>"
      ],
      "text/plain": [
       "                                                         tamaño_em_\n",
       "250 o más personas                                         0.434765\n",
       "Entre 50 y 249 personas                                    0.212376\n",
       "Entre 20 y 49 personas                                     0.123360\n",
       "De 1 a 9 personas                                          0.103935\n",
       "Trabajadores independientes o autónomos sin asalariados    0.063583\n",
       "Entre 10 y 19 personas                                     0.061981"
      ]
     },
     "execution_count": 638,
     "metadata": {},
     "output_type": "execute_result"
    }
   ],
   "source": [
    "proporciones('tamaño_em_',dropna=True)"
   ]
  },
  {
   "cell_type": "markdown",
   "metadata": {},
   "source": [
    "## 'TR_ANIO' \n",
    "\n",
    "(Solo para quienes declaran **situación de ocupación** -respuesta 1 en 'TRBPRN1' (o 'sit_lab')-   \n",
    "\n",
    "**Año** en el que empezó a trabajar en su empleo actual."
   ]
  },
  {
   "cell_type": "code",
   "execution_count": 639,
   "metadata": {},
   "outputs": [
    {
     "data": {
      "text/plain": [
       "array(['    ', '1975', '1977', '1979', '1980', '1981', '1982', '1983',\n",
       "       '1984', '1985', '1986', '1987', '1988', '1989', '1990', '1991',\n",
       "       '1992', '1993', '1994', '1995', '1996', '1997', '1998', '1999',\n",
       "       '2000', '2001', '2002', '2003', '2004', '2005', '2006', '2007',\n",
       "       '2008', '2009', '2010', '2011', '2012', '2013', '2014', '2015',\n",
       "       '2016', '2017', '2018', '2019', '9999'], dtype=object)"
      ]
     },
     "execution_count": 639,
     "metadata": {},
     "output_type": "execute_result"
    }
   ],
   "source": [
    "df['TR_ANIO'].sort_values().unique() # No informados como '    ' o '9999'"
   ]
  },
  {
   "cell_type": "code",
   "execution_count": 640,
   "metadata": {},
   "outputs": [
    {
     "name": "stdout",
     "output_type": "stream",
     "text": [
      "[1975. 1977. 1979. 1980. 1981. 1982. 1983. 1984. 1985. 1986. 1987. 1988.\n",
      " 1989. 1990. 1991. 1992. 1993. 1994. 1995. 1996. 1997. 1998. 1999. 2000.\n",
      " 2001. 2002. 2003. 2004. 2005. 2006. 2007. 2008. 2009. 2010. 2011. 2012.\n",
      " 2013. 2014. 2015. 2016. 2017. 2018. 2019.   nan]\n"
     ]
    }
   ],
   "source": [
    "no_respuesta('TR_ANIO',blank='    ',nsnc='9999')"
   ]
  },
  {
   "cell_type": "markdown",
   "metadata": {},
   "source": [
    "## 'TR_SUELDO'   (redefinida como 'sueldo')\n",
    "\n",
    "(Solo para quienes declaran **situación de ocupación** -respuesta 1 en 'TRBPRN1' (o 'sit_lab')-   \n",
    "\n",
    "**Sueldo mensual neto** actual."
   ]
  },
  {
   "cell_type": "code",
   "execution_count": 641,
   "metadata": {},
   "outputs": [
    {
     "data": {
      "text/plain": [
       "array(['5', '2', '4', ' ', '3', '6', '1', '7', '9'], dtype=object)"
      ]
     },
     "execution_count": 641,
     "metadata": {},
     "output_type": "execute_result"
    }
   ],
   "source": [
    "df['TR_SUELDO'].unique() # No informados como ' ' o '9'"
   ]
  },
  {
   "cell_type": "code",
   "execution_count": 642,
   "metadata": {},
   "outputs": [
    {
     "name": "stdout",
     "output_type": "stream",
     "text": [
      "                            aux_traduce\n",
      "                                 unique\n",
      "TR_SUELDO                              \n",
      "                         [No aplicable]\n",
      "1                  [Menos de 700 euros]\n",
      "2                  [De 700 a 999 euros]\n",
      "3              [De 1.000 a 1.499 euros]\n",
      "4              [De 1.500 a 1.999 euros]\n",
      "5              [De 2.000 a 2.499 euros]\n",
      "6              [De 2.500 a 2.999 euros]\n",
      "7          [De 3.000 euros en adelante]\n",
      "9                               [NS/NC]\n"
     ]
    }
   ],
   "source": [
    "traduce('TR_SUELDO')"
   ]
  },
  {
   "cell_type": "code",
   "execution_count": 643,
   "metadata": {},
   "outputs": [
    {
     "name": "stdout",
     "output_type": "stream",
     "text": [
      "[ 1.  2.  3.  4.  5.  6.  7. nan]\n"
     ]
    }
   ],
   "source": [
    "no_respuesta('TR_SUELDO')"
   ]
  },
  {
   "cell_type": "code",
   "execution_count": 644,
   "metadata": {},
   "outputs": [],
   "source": [
    "redefine('TR_SUELDO','sueldo')"
   ]
  },
  {
   "cell_type": "markdown",
   "metadata": {},
   "source": [
    "## Nueva variable 'sueldo_pxy'\n",
    "**sueldo_pxy**: proxy de sueldo mensual neto con una división en intervalos ajustada para facilitar la correspondencia con los definidos en la encuesta de doctores. "
   ]
  },
  {
   "cell_type": "code",
   "execution_count": 645,
   "metadata": {},
   "outputs": [],
   "source": [
    "# Diccionario de correspondencias entre 'sueldo' y 'sueldo_pxy':\n",
    "# Se reunen en una las categorías 2 y 3 y las categorías 4 y 5 de 'sueldo'\n",
    "D_sueldo_pxy=dict()\n",
    "D_sueldo_pxy[1]=1\n",
    "D_sueldo_pxy[2]=2\n",
    "D_sueldo_pxy[3]=2\n",
    "D_sueldo_pxy[4]=3\n",
    "D_sueldo_pxy[5]=3\n",
    "D_sueldo_pxy[6]=4\n",
    "D_sueldo_pxy[7]=5"
   ]
  },
  {
   "cell_type": "code",
   "execution_count": 646,
   "metadata": {},
   "outputs": [
    {
     "data": {
      "text/html": [
       "<div>\n",
       "<style scoped>\n",
       "    .dataframe tbody tr th:only-of-type {\n",
       "        vertical-align: middle;\n",
       "    }\n",
       "\n",
       "    .dataframe tbody tr th {\n",
       "        vertical-align: top;\n",
       "    }\n",
       "\n",
       "    .dataframe thead tr th {\n",
       "        text-align: left;\n",
       "    }\n",
       "\n",
       "    .dataframe thead tr:last-of-type th {\n",
       "        text-align: right;\n",
       "    }\n",
       "</style>\n",
       "<table border=\"1\" class=\"dataframe\">\n",
       "  <thead>\n",
       "    <tr>\n",
       "      <th></th>\n",
       "      <th>sueldo_pxy_</th>\n",
       "    </tr>\n",
       "    <tr>\n",
       "      <th></th>\n",
       "      <th>unique</th>\n",
       "    </tr>\n",
       "    <tr>\n",
       "      <th>sueldo_</th>\n",
       "      <th></th>\n",
       "    </tr>\n",
       "  </thead>\n",
       "  <tbody>\n",
       "    <tr>\n",
       "      <th>De 1.000 a 1.499 euros</th>\n",
       "      <td>[De 700 a 1.499 euros]</td>\n",
       "    </tr>\n",
       "    <tr>\n",
       "      <th>De 1.500 a 1.999 euros</th>\n",
       "      <td>[De 1.500 a 2.499 euros]</td>\n",
       "    </tr>\n",
       "    <tr>\n",
       "      <th>De 2.000 a 2.499 euros</th>\n",
       "      <td>[De 1.500 a 2.499 euros]</td>\n",
       "    </tr>\n",
       "    <tr>\n",
       "      <th>De 2.500 a 2.999 euros</th>\n",
       "      <td>[De 2.500 a 2.999 euros]</td>\n",
       "    </tr>\n",
       "    <tr>\n",
       "      <th>De 3.000 euros en adelante</th>\n",
       "      <td>[De 3.000 euros en adelante]</td>\n",
       "    </tr>\n",
       "    <tr>\n",
       "      <th>De 700 a 999 euros</th>\n",
       "      <td>[De 700 a 1.499 euros]</td>\n",
       "    </tr>\n",
       "    <tr>\n",
       "      <th>Menos de 700 euros</th>\n",
       "      <td>[Menos de 700 euros]</td>\n",
       "    </tr>\n",
       "  </tbody>\n",
       "</table>\n",
       "</div>"
      ],
      "text/plain": [
       "                                             sueldo_pxy_\n",
       "                                                  unique\n",
       "sueldo_                                                 \n",
       "De 1.000 a 1.499 euros            [De 700 a 1.499 euros]\n",
       "De 1.500 a 1.999 euros          [De 1.500 a 2.499 euros]\n",
       "De 2.000 a 2.499 euros          [De 1.500 a 2.499 euros]\n",
       "De 2.500 a 2.999 euros          [De 2.500 a 2.999 euros]\n",
       "De 3.000 euros en adelante  [De 3.000 euros en adelante]\n",
       "De 700 a 999 euros                [De 700 a 1.499 euros]\n",
       "Menos de 700 euros                  [Menos de 700 euros]"
      ]
     },
     "execution_count": 646,
     "metadata": {},
     "output_type": "execute_result"
    }
   ],
   "source": [
    "df['sueldo_pxy']=df['sueldo'].replace(D_sueldo_pxy)\n",
    "traduce('sueldo_pxy',check=False)\n",
    "df[['sueldo_','sueldo_pxy_']].groupby('sueldo_').agg(['unique']) # Comprobación"
   ]
  },
  {
   "cell_type": "markdown",
   "metadata": {},
   "source": [
    "## 'TR_D19'     \n",
    "\n",
    "(Solo para quienes declaran **situación de ocupación** -respuesta 1 en 'TRBPRN1' (o 'sit_lab')-   \n",
    "\n",
    "**Nivel de formación más apropiado** para realizar el trabajo actual."
   ]
  },
  {
   "cell_type": "code",
   "execution_count": 647,
   "metadata": {},
   "outputs": [
    {
     "data": {
      "text/plain": [
       "array(['3', '2', ' ', '1', '4', '5', '6', '7', '9'], dtype=object)"
      ]
     },
     "execution_count": 647,
     "metadata": {},
     "output_type": "execute_result"
    }
   ],
   "source": [
    "df['TR_D19'].unique() # No informados como ' ' o '9'"
   ]
  },
  {
   "cell_type": "code",
   "execution_count": 648,
   "metadata": {},
   "outputs": [
    {
     "name": "stdout",
     "output_type": "stream",
     "text": [
      "                                                  aux_traduce\n",
      "                                                       unique\n",
      "TR_D19                                                       \n",
      "                                               [No aplicable]\n",
      "1                                                 [Doctorado]\n",
      "2                                                    [Máster]\n",
      "3         [Título universitario (excepto doctorado o máster)]\n",
      "4                   [Formación profesional de grado superior]\n",
      "5       [Formación profesional de grado medio/ bachillerato ]\n",
      "6                              [Formación profesional básica]\n",
      "7                                            [ESO, EGB, etc.]\n",
      "9                                                     [NS/NC]\n"
     ]
    }
   ],
   "source": [
    "traduce('TR_D19')"
   ]
  },
  {
   "cell_type": "code",
   "execution_count": 649,
   "metadata": {},
   "outputs": [
    {
     "name": "stdout",
     "output_type": "stream",
     "text": [
      "[ 1.  2.  3.  4.  5.  6.  7. nan]\n"
     ]
    }
   ],
   "source": [
    "no_respuesta('TR_D19')"
   ]
  },
  {
   "cell_type": "markdown",
   "metadata": {},
   "source": [
    "## 'TR_D20'       \n",
    "\n",
    "(Solo para quienes declaran **situación de ocupación** -respuesta 1 en 'TRBPRN1' (o 'sit_lab')-   \n",
    "\n",
    "**Área de estudio maś apropiada** para el trabajo actual."
   ]
  },
  {
   "cell_type": "code",
   "execution_count": 650,
   "metadata": {},
   "outputs": [
    {
     "data": {
      "text/plain": [
       "array(['2', '1', '3', ' ', '4', '9'], dtype=object)"
      ]
     },
     "execution_count": 650,
     "metadata": {},
     "output_type": "execute_result"
    }
   ],
   "source": [
    "df['TR_D20'].unique() # No informados como ' ' o '9'"
   ]
  },
  {
   "cell_type": "code",
   "execution_count": 651,
   "metadata": {},
   "outputs": [
    {
     "name": "stdout",
     "output_type": "stream",
     "text": [
      "                                        aux_traduce\n",
      "                                             unique\n",
      "TR_D20                                             \n",
      "                                    [No aplicable ]\n",
      "1       [Exclusivamente su propia área de estudios]\n",
      "2             [Su propia área o alguna relacionada]\n",
      "3                    [Un área totalmente diferente]\n",
      "4                       [Ningún área en particular]\n",
      "9                                           [NS/NC]\n"
     ]
    }
   ],
   "source": [
    "traduce('TR_D20')"
   ]
  },
  {
   "cell_type": "code",
   "execution_count": 652,
   "metadata": {},
   "outputs": [
    {
     "name": "stdout",
     "output_type": "stream",
     "text": [
      "[ 1.  2.  3.  4. nan]\n"
     ]
    }
   ],
   "source": [
    "no_respuesta('TR_D20')"
   ]
  },
  {
   "cell_type": "code",
   "execution_count": 653,
   "metadata": {},
   "outputs": [
    {
     "data": {
      "text/html": [
       "<div>\n",
       "<style scoped>\n",
       "    .dataframe tbody tr th:only-of-type {\n",
       "        vertical-align: middle;\n",
       "    }\n",
       "\n",
       "    .dataframe tbody tr th {\n",
       "        vertical-align: top;\n",
       "    }\n",
       "\n",
       "    .dataframe thead th {\n",
       "        text-align: right;\n",
       "    }\n",
       "</style>\n",
       "<table border=\"1\" class=\"dataframe\">\n",
       "  <thead>\n",
       "    <tr style=\"text-align: right;\">\n",
       "      <th></th>\n",
       "      <th>TR_D20_</th>\n",
       "    </tr>\n",
       "  </thead>\n",
       "  <tbody>\n",
       "    <tr>\n",
       "      <th>Su propia área o alguna relacionada</th>\n",
       "      <td>0.483448</td>\n",
       "    </tr>\n",
       "    <tr>\n",
       "      <th>Un área totalmente diferente</th>\n",
       "      <td>0.265027</td>\n",
       "    </tr>\n",
       "    <tr>\n",
       "      <th>Ningún área en particular</th>\n",
       "      <td>0.131013</td>\n",
       "    </tr>\n",
       "    <tr>\n",
       "      <th>Exclusivamente su propia área de estudios</th>\n",
       "      <td>0.120512</td>\n",
       "    </tr>\n",
       "  </tbody>\n",
       "</table>\n",
       "</div>"
      ],
      "text/plain": [
       "                                            TR_D20_\n",
       "Su propia área o alguna relacionada        0.483448\n",
       "Un área totalmente diferente               0.265027\n",
       "Ningún área en particular                  0.131013\n",
       "Exclusivamente su propia área de estudios  0.120512"
      ]
     },
     "execution_count": 653,
     "metadata": {},
     "output_type": "execute_result"
    }
   ],
   "source": [
    "proporciones('TR_D20_',dropna=True)"
   ]
  },
  {
   "cell_type": "markdown",
   "metadata": {},
   "source": [
    "## 'TR_D21'       \n",
    "\n",
    "(Solo para quienes declaran **situación de ocupación** -respuesta 1 en 'TRBPRN1' (o 'sit_lab')-   \n",
    "\n",
    "¿Se hace **uso** en el trabajo actual de los **conocimientos y habilidades** adquiridos en estos estudios?"
   ]
  },
  {
   "cell_type": "code",
   "execution_count": 654,
   "metadata": {},
   "outputs": [
    {
     "data": {
      "text/plain": [
       "array(['2', '1', ' ', '9'], dtype=object)"
      ]
     },
     "execution_count": 654,
     "metadata": {},
     "output_type": "execute_result"
    }
   ],
   "source": [
    "df['TR_D21'].unique() # No informados como ' ' o '9'"
   ]
  },
  {
   "cell_type": "code",
   "execution_count": 655,
   "metadata": {},
   "outputs": [
    {
     "name": "stdout",
     "output_type": "stream",
     "text": [
      "           aux_traduce\n",
      "                unique\n",
      "TR_D21                \n",
      "        [No aplicable]\n",
      "1                 [Sí]\n",
      "2                 [No]\n",
      "9              [NS/NC]\n"
     ]
    }
   ],
   "source": [
    "traduce('TR_D21')"
   ]
  },
  {
   "cell_type": "code",
   "execution_count": 656,
   "metadata": {},
   "outputs": [
    {
     "name": "stdout",
     "output_type": "stream",
     "text": [
      "[ 1.  2. nan]\n"
     ]
    }
   ],
   "source": [
    "no_respuesta('TR_D21')"
   ]
  },
  {
   "cell_type": "code",
   "execution_count": 657,
   "metadata": {},
   "outputs": [
    {
     "data": {
      "text/html": [
       "<div>\n",
       "<style scoped>\n",
       "    .dataframe tbody tr th:only-of-type {\n",
       "        vertical-align: middle;\n",
       "    }\n",
       "\n",
       "    .dataframe tbody tr th {\n",
       "        vertical-align: top;\n",
       "    }\n",
       "\n",
       "    .dataframe thead th {\n",
       "        text-align: right;\n",
       "    }\n",
       "</style>\n",
       "<table border=\"1\" class=\"dataframe\">\n",
       "  <thead>\n",
       "    <tr style=\"text-align: right;\">\n",
       "      <th></th>\n",
       "      <th>TR_D21</th>\n",
       "    </tr>\n",
       "  </thead>\n",
       "  <tbody>\n",
       "    <tr>\n",
       "      <th>1.0</th>\n",
       "      <td>0.563267</td>\n",
       "    </tr>\n",
       "    <tr>\n",
       "      <th>2.0</th>\n",
       "      <td>0.311243</td>\n",
       "    </tr>\n",
       "    <tr>\n",
       "      <th>NaN</th>\n",
       "      <td>0.125490</td>\n",
       "    </tr>\n",
       "  </tbody>\n",
       "</table>\n",
       "</div>"
      ],
      "text/plain": [
       "       TR_D21\n",
       "1.0  0.563267\n",
       "2.0  0.311243\n",
       "NaN  0.125490"
      ]
     },
     "execution_count": 657,
     "metadata": {},
     "output_type": "execute_result"
    }
   ],
   "source": [
    "proporciones('TR_D21')"
   ]
  },
  {
   "cell_type": "markdown",
   "metadata": {},
   "source": [
    "# 'TR_D22_1'  (redefinida como 'vbtr_teoricos')     \n",
    "\n",
    "(Solo para quienes declaran **situación de ocupación** -respuesta 1 en 'TRBPRN1' (o 'sit_lab')-   \n",
    "\n",
    "Influencia de los **conocimientos teóricos** para conseguir su trabajo actual. "
   ]
  },
  {
   "cell_type": "code",
   "execution_count": 658,
   "metadata": {},
   "outputs": [
    {
     "data": {
      "text/plain": [
       "array(['3', '5', '4', ' ', '2', '1', '9'], dtype=object)"
      ]
     },
     "execution_count": 658,
     "metadata": {},
     "output_type": "execute_result"
    }
   ],
   "source": [
    "df['TR_D22_1'].unique() # No informados como ' ' o '9'"
   ]
  },
  {
   "cell_type": "code",
   "execution_count": 659,
   "metadata": {},
   "outputs": [],
   "source": [
    "def vbtr(col,nuevo):\n",
    "    \"\"\"Procesa columnas referidas a influencia de distintos factores en el éxito en la búsqueda de empleo.\n",
    "    \"\"\"\n",
    "    traduce(col)\n",
    "    no_respuesta(col)\n",
    "    redefine(col,nuevo)\n",
    "    return"
   ]
  },
  {
   "cell_type": "code",
   "execution_count": 660,
   "metadata": {},
   "outputs": [
    {
     "name": "stdout",
     "output_type": "stream",
     "text": [
      "             aux_traduce\n",
      "                  unique\n",
      "TR_D22_1                \n",
      "          [No aplicable]\n",
      "1                 [Nada]\n",
      "2                 [Poco]\n",
      "3                 [Algo]\n",
      "4             [Bastante]\n",
      "5                [Mucho]\n",
      "9                [NS/NC]\n",
      "[ 1.  2.  3.  4.  5. nan]\n"
     ]
    }
   ],
   "source": [
    "vbtr('TR_D22_1','vbtr_teoricos')"
   ]
  },
  {
   "cell_type": "markdown",
   "metadata": {},
   "source": [
    "# 'TR_D22_2'  (redefinida como 'vbtr_practicos')     \n",
    "\n",
    "(Solo para quienes declaran **situación de ocupación** -respuesta 1 en 'TRBPRN1' (o 'sit_lab')-   \n",
    "\n",
    "Influencia de las **habilidades prácticas** para conseguir su trabajo actual. "
   ]
  },
  {
   "cell_type": "code",
   "execution_count": 661,
   "metadata": {},
   "outputs": [
    {
     "data": {
      "text/plain": [
       "array(['5', '4', ' ', '2', '3', '1', '9'], dtype=object)"
      ]
     },
     "execution_count": 661,
     "metadata": {},
     "output_type": "execute_result"
    }
   ],
   "source": [
    "df['TR_D22_2'].unique() # No informados como ' ' o '9'"
   ]
  },
  {
   "cell_type": "code",
   "execution_count": 662,
   "metadata": {},
   "outputs": [
    {
     "name": "stdout",
     "output_type": "stream",
     "text": [
      "             aux_traduce\n",
      "                  unique\n",
      "TR_D22_2                \n",
      "          [No aplicable]\n",
      "1                 [Nada]\n",
      "2                 [Poco]\n",
      "3                 [Algo]\n",
      "4             [Bastante]\n",
      "5                [Mucho]\n",
      "9                [NS/NC]\n",
      "[ 1.  2.  3.  4.  5. nan]\n"
     ]
    }
   ],
   "source": [
    "vbtr('TR_D22_2','vbtr_practicos')"
   ]
  },
  {
   "cell_type": "markdown",
   "metadata": {},
   "source": [
    "# 'TR_D22_3'  (redefinida como 'vbtr_idiomas')     \n",
    "\n",
    "(Solo para quienes declaran **situación de ocupación** -respuesta 1 en 'TRBPRN1' (o 'sit_lab')-   \n",
    "\n",
    "Influencia de **conocer idiomas** para conseguir su trabajo actual. "
   ]
  },
  {
   "cell_type": "code",
   "execution_count": 663,
   "metadata": {},
   "outputs": [
    {
     "data": {
      "text/plain": [
       "array(['4', '5', '2', ' ', '3', '1', '9'], dtype=object)"
      ]
     },
     "execution_count": 663,
     "metadata": {},
     "output_type": "execute_result"
    }
   ],
   "source": [
    "df['TR_D22_3'].unique() # No informados como ' ' o '9'"
   ]
  },
  {
   "cell_type": "code",
   "execution_count": 664,
   "metadata": {},
   "outputs": [
    {
     "name": "stdout",
     "output_type": "stream",
     "text": [
      "             aux_traduce\n",
      "                  unique\n",
      "TR_D22_3                \n",
      "          [No aplicable]\n",
      "1                 [Nada]\n",
      "2                 [Poco]\n",
      "3                 [Algo]\n",
      "4             [Bastante]\n",
      "5                [Mucho]\n",
      "9                [NS/NC]\n",
      "[ 1.  2.  3.  4.  5. nan]\n"
     ]
    }
   ],
   "source": [
    "vbtr('TR_D22_3','vbtr_idiomas')"
   ]
  },
  {
   "cell_type": "markdown",
   "metadata": {},
   "source": [
    "# 'TR_D22_4'  (redefinida como 'vbtr_ti')     \n",
    "\n",
    "(Solo para quienes declaran **situación de ocupación** -respuesta 1 en 'TRBPRN1' (o 'sit_lab')-   \n",
    "\n",
    "Influencia de la formación o el dominio de la **informática** y de las **tecnologías de la información y la comunicación** para conseguir su trabajo actual. "
   ]
  },
  {
   "cell_type": "code",
   "execution_count": 665,
   "metadata": {},
   "outputs": [
    {
     "data": {
      "text/plain": [
       "array(['3', '5', '2', ' ', '4', '1', '9'], dtype=object)"
      ]
     },
     "execution_count": 665,
     "metadata": {},
     "output_type": "execute_result"
    }
   ],
   "source": [
    "df['TR_D22_4'].unique() # No informados como ' ' o '9'"
   ]
  },
  {
   "cell_type": "code",
   "execution_count": 666,
   "metadata": {},
   "outputs": [
    {
     "name": "stdout",
     "output_type": "stream",
     "text": [
      "             aux_traduce\n",
      "                  unique\n",
      "TR_D22_4                \n",
      "          [No aplicable]\n",
      "1                 [Nada]\n",
      "2                 [Poco]\n",
      "3                 [Algo]\n",
      "4             [Bastante]\n",
      "5                [Mucho]\n",
      "9                [NS/NC]\n",
      "[ 1.  2.  3.  4.  5. nan]\n"
     ]
    }
   ],
   "source": [
    "vbtr('TR_D22_4','vbtr_ti')"
   ]
  },
  {
   "cell_type": "markdown",
   "metadata": {},
   "source": [
    "# 'TR_D22_4'  (redefinida como 'vbtr_personales')     \n",
    "\n",
    "(Solo para quienes declaran **situación de ocupación** -respuesta 1 en 'TRBPRN1' (o 'sit_lab')-   \n",
    "\n",
    "Influencia de las **competencias personales y sociales** -personalidad, habilidades sociales, comunicación, capacidad de trabajar en grupo- para conseguir su trabajo actual. "
   ]
  },
  {
   "cell_type": "code",
   "execution_count": 667,
   "metadata": {},
   "outputs": [
    {
     "data": {
      "text/plain": [
       "array([ 3.,  5.,  2., nan,  4.,  1.])"
      ]
     },
     "execution_count": 667,
     "metadata": {},
     "output_type": "execute_result"
    }
   ],
   "source": [
    "df['TR_D22_4'].unique() # No informados como ' ' o '9'"
   ]
  },
  {
   "cell_type": "code",
   "execution_count": 668,
   "metadata": {},
   "outputs": [
    {
     "name": "stdout",
     "output_type": "stream",
     "text": [
      "         aux_traduce\n",
      "              unique\n",
      "TR_D22_4            \n",
      "1.0           [Nada]\n",
      "2.0           [Poco]\n",
      "3.0           [Algo]\n",
      "4.0       [Bastante]\n",
      "5.0          [Mucho]\n",
      "[ 1.  2.  3.  4.  5. nan]\n"
     ]
    }
   ],
   "source": [
    "vbtr('TR_D22_4','vbtr_personales')"
   ]
  },
  {
   "cell_type": "markdown",
   "metadata": {},
   "source": [
    "# 'TR_D22_5'  (redefinida como 'vbtr_gestion')     \n",
    "\n",
    "(Solo para quienes declaran **situación de ocupación** -respuesta 1 en 'TRBPRN1' (o 'sit_lab')-   \n",
    "\n",
    "Influencia de la **capacidad de gestión, planificación y emprendimiento** para conseguir su trabajo actual. "
   ]
  },
  {
   "cell_type": "code",
   "execution_count": 669,
   "metadata": {},
   "outputs": [
    {
     "data": {
      "text/plain": [
       "array(['4', '5', '3', ' ', '2', '1', '9'], dtype=object)"
      ]
     },
     "execution_count": 669,
     "metadata": {},
     "output_type": "execute_result"
    }
   ],
   "source": [
    "df['TR_D22_5'].unique() # No informados como ' ' o '9'"
   ]
  },
  {
   "cell_type": "code",
   "execution_count": 670,
   "metadata": {},
   "outputs": [
    {
     "name": "stdout",
     "output_type": "stream",
     "text": [
      "             aux_traduce\n",
      "                  unique\n",
      "TR_D22_5                \n",
      "          [No aplicable]\n",
      "1                 [Nada]\n",
      "2                 [Poco]\n",
      "3                 [Algo]\n",
      "4             [Bastante]\n",
      "5                [Mucho]\n",
      "9                [NS/NC]\n",
      "[ 1.  2.  3.  4.  5. nan]\n"
     ]
    }
   ],
   "source": [
    "vbtr('TR_D22_5','vbtr_gestion')"
   ]
  },
  {
   "cell_type": "markdown",
   "metadata": {},
   "source": [
    "# 'TR_D23'  (completa la variable 'busqueda_tr')\n",
    "\n",
    "(Solo para quienes declaran **situación de ocupación** -respuesta 1 en 'TRBPRN1' (o 'sit_lab')-   \n",
    "\n",
    "¿Ha **intentado conseguir otro trabajo remunerado** en las últimas 4 semanas?\n",
    "\n",
    "Nota: Se usa esta información para actualizar la variable busqueda_tr'."
   ]
  },
  {
   "cell_type": "code",
   "execution_count": 671,
   "metadata": {},
   "outputs": [
    {
     "data": {
      "text/plain": [
       "array(['3', '1', ' ', '2', '9'], dtype=object)"
      ]
     },
     "execution_count": 671,
     "metadata": {},
     "output_type": "execute_result"
    }
   ],
   "source": [
    "df['TR_D23'].unique() # No informados como ' ' o '9'"
   ]
  },
  {
   "cell_type": "code",
   "execution_count": 672,
   "metadata": {},
   "outputs": [
    {
     "name": "stdout",
     "output_type": "stream",
     "text": [
      "                                                                                                     aux_traduce\n",
      "                                                                                                          unique\n",
      "TR_D23                                                                                                          \n",
      "                                                                                                  [No aplicable]\n",
      "1                                                                                                           [Sí]\n",
      "2       [No, pero está esperando respuesta a solicitudes anteriores de empleo o los resultados de una oposición]\n",
      "3                                                                                                           [No]\n",
      "9                                                                                                        [NS/NC]\n"
     ]
    }
   ],
   "source": [
    "traduce('TR_D23')"
   ]
  },
  {
   "cell_type": "code",
   "execution_count": 673,
   "metadata": {},
   "outputs": [
    {
     "name": "stdout",
     "output_type": "stream",
     "text": [
      "[ 1.  2.  3. nan]\n"
     ]
    }
   ],
   "source": [
    "no_respuesta('TR_D23')"
   ]
  },
  {
   "cell_type": "code",
   "execution_count": 674,
   "metadata": {},
   "outputs": [
    {
     "name": "stdout",
     "output_type": "stream",
     "text": [
      "            aux_traduce\n",
      "                 unique\n",
      "busqueda_tr            \n",
      "0.0                [No]\n",
      "1.0                [Sí]\n"
     ]
    },
    {
     "data": {
      "text/plain": [
       "array(['Sí'], dtype=object)"
      ]
     },
     "execution_count": 674,
     "metadata": {},
     "output_type": "execute_result"
    }
   ],
   "source": [
    "# Se actualiza la variable 'busqueda_tr':\n",
    "df['busqueda_tr'].mask((df['TR_D23']==1)|(df['TR_D23']==2),1,inplace=True)\n",
    "traduce('busqueda_tr')\n",
    "df['busqueda_tr_'][(df['TR_D23']==1)|(df['TR_D23']==2)].unique() # Comprobación"
   ]
  },
  {
   "cell_type": "markdown",
   "metadata": {},
   "source": [
    "# BLOQUE E. HISTORIAL LABORAL DEL GRADUADO UNIVERSITARIO"
   ]
  },
  {
   "cell_type": "markdown",
   "metadata": {},
   "source": [
    "# 'HL_E0'  \n",
    "\n",
    "¿Ha trabajado antes de comenzar el máster?"
   ]
  },
  {
   "cell_type": "code",
   "execution_count": 675,
   "metadata": {},
   "outputs": [
    {
     "data": {
      "text/plain": [
       "array([2, 1, 3])"
      ]
     },
     "execution_count": 675,
     "metadata": {},
     "output_type": "execute_result"
    }
   ],
   "source": [
    "df['HL_E0'].unique() # Sin no informados"
   ]
  },
  {
   "cell_type": "code",
   "execution_count": 676,
   "metadata": {},
   "outputs": [
    {
     "name": "stdout",
     "output_type": "stream",
     "text": [
      "                                                            aux_traduce\n",
      "                                                                 unique\n",
      "HL_E0                                                                  \n",
      "1              [Sí, y continuó trabajando mientras realizaba el máster]\n",
      "2      [Sí, aunque antes de comenzar el máster ya no estaba trabajando]\n",
      "3                                                                  [No]\n"
     ]
    }
   ],
   "source": [
    "D_dict['HL_E0']=diccionario('TRABMAS')\n",
    "traduce('HL_E0')"
   ]
  },
  {
   "cell_type": "markdown",
   "metadata": {},
   "source": [
    "# 'HL_E00'  \n",
    "(Solo para quienes declaran haber trabajado antes de comenzar el máster y haber dejado de trabajar antes de empezarlo -respuesta 2 en variable 'HL_E0-)\n",
    "\n",
    "Momento en que dejó de trabajar antes de comenzar el máster. "
   ]
  },
  {
   "cell_type": "code",
   "execution_count": 677,
   "metadata": {},
   "outputs": [
    {
     "data": {
      "text/plain": [
       "array(['3', ' ', '2', '1', '9'], dtype=object)"
      ]
     },
     "execution_count": 677,
     "metadata": {},
     "output_type": "execute_result"
    }
   ],
   "source": [
    "df['HL_E00'].unique() # No informados como ' ' o '9'"
   ]
  },
  {
   "cell_type": "code",
   "execution_count": 678,
   "metadata": {},
   "outputs": [
    {
     "name": "stdout",
     "output_type": "stream",
     "text": [
      "                                                     aux_traduce\n",
      "                                                          unique\n",
      "HL_E00                                                          \n",
      "                                                  [No aplicable]\n",
      "1           [Tres o más años antes de comenzar el máster (2010)]\n",
      "2       [Uno o dos años antes de comenzar el máster (2011-2012)]\n",
      "3             [Durante el año de comenzar el máster (2013-2014)]\n",
      "9                                                        [NS/NC]\n"
     ]
    }
   ],
   "source": [
    "D_dict['HL_E00']=diccionario('TMODEJ')\n",
    "traduce('HL_E00')"
   ]
  },
  {
   "cell_type": "code",
   "execution_count": 679,
   "metadata": {},
   "outputs": [
    {
     "data": {
      "text/html": [
       "<div>\n",
       "<style scoped>\n",
       "    .dataframe tbody tr th:only-of-type {\n",
       "        vertical-align: middle;\n",
       "    }\n",
       "\n",
       "    .dataframe tbody tr th {\n",
       "        vertical-align: top;\n",
       "    }\n",
       "\n",
       "    .dataframe thead tr th {\n",
       "        text-align: left;\n",
       "    }\n",
       "\n",
       "    .dataframe thead tr:last-of-type th {\n",
       "        text-align: right;\n",
       "    }\n",
       "</style>\n",
       "<table border=\"1\" class=\"dataframe\">\n",
       "  <thead>\n",
       "    <tr>\n",
       "      <th></th>\n",
       "      <th>HL_E00</th>\n",
       "    </tr>\n",
       "    <tr>\n",
       "      <th></th>\n",
       "      <th>unique</th>\n",
       "    </tr>\n",
       "    <tr>\n",
       "      <th>HL_E0</th>\n",
       "      <th></th>\n",
       "    </tr>\n",
       "  </thead>\n",
       "  <tbody>\n",
       "    <tr>\n",
       "      <th>1</th>\n",
       "      <td>[ ]</td>\n",
       "    </tr>\n",
       "    <tr>\n",
       "      <th>2</th>\n",
       "      <td>[3, 2, 1, 9]</td>\n",
       "    </tr>\n",
       "    <tr>\n",
       "      <th>3</th>\n",
       "      <td>[ ]</td>\n",
       "    </tr>\n",
       "  </tbody>\n",
       "</table>\n",
       "</div>"
      ],
      "text/plain": [
       "             HL_E00\n",
       "             unique\n",
       "HL_E0              \n",
       "1               [ ]\n",
       "2      [3, 2, 1, 9]\n",
       "3               [ ]"
      ]
     },
     "execution_count": 679,
     "metadata": {},
     "output_type": "execute_result"
    }
   ],
   "source": [
    "df[['HL_E0','HL_E00']].groupby('HL_E0').agg(['unique']) # Inspección"
   ]
  },
  {
   "cell_type": "markdown",
   "metadata": {},
   "source": [
    "# 'HL_E1'  \n",
    "\n",
    "¿Realizó **prácticas en empresas**, instituciones o similares?"
   ]
  },
  {
   "cell_type": "code",
   "execution_count": 680,
   "metadata": {},
   "outputs": [
    {
     "data": {
      "text/plain": [
       "array([2, 4, 1, 3])"
      ]
     },
     "execution_count": 680,
     "metadata": {},
     "output_type": "execute_result"
    }
   ],
   "source": [
    "df['HL_E1'].unique() # Sin no informados"
   ]
  },
  {
   "cell_type": "code",
   "execution_count": 681,
   "metadata": {},
   "outputs": [
    {
     "name": "stdout",
     "output_type": "stream",
     "text": [
      "                                 aux_traduce\n",
      "                                      unique\n",
      "HL_E1                                       \n",
      "1      [Sí, como parte del plan de estudios]\n",
      "2           [Sí, fuera del plan de estudios]\n",
      "3             [Sí, ambos tipos de prácticas]\n",
      "4                                       [No]\n"
     ]
    }
   ],
   "source": [
    "traduce('HL_E1')"
   ]
  },
  {
   "cell_type": "markdown",
   "metadata": {},
   "source": [
    "# 'HL_E2'  \n",
    "\n",
    "(Solo para respuestas 1, 2 o 3 en variable 'HL_E1')\n",
    "\n",
    "Duración en meses de las **prácticas en empresas**, instituciones o similares."
   ]
  },
  {
   "cell_type": "code",
   "execution_count": 682,
   "metadata": {},
   "outputs": [
    {
     "data": {
      "text/plain": [
       "array(['3', ' ', '1', '2', '4', '5', '9'], dtype=object)"
      ]
     },
     "execution_count": 682,
     "metadata": {},
     "output_type": "execute_result"
    }
   ],
   "source": [
    "df['HL_E2'].unique() # No informados como ' ' o '9'"
   ]
  },
  {
   "cell_type": "code",
   "execution_count": 683,
   "metadata": {},
   "outputs": [
    {
     "name": "stdout",
     "output_type": "stream",
     "text": [
      "              aux_traduce\n",
      "                   unique\n",
      "HL_E2                    \n",
      "           [No aplicable]\n",
      "1        [De 1 a 3 meses]\n",
      "2        [De 4 a 6 meses]\n",
      "3        [De 7 a 9 meses]\n",
      "4      [De 10 a 12 meses]\n",
      "5         [Más de un año]\n",
      "9                 [NS/NC]\n"
     ]
    }
   ],
   "source": [
    "traduce('HL_E2')"
   ]
  },
  {
   "cell_type": "code",
   "execution_count": 684,
   "metadata": {},
   "outputs": [
    {
     "name": "stdout",
     "output_type": "stream",
     "text": [
      "[ 1.  2.  3.  4.  5. nan]\n"
     ]
    }
   ],
   "source": [
    "no_respuesta('HL_E2')"
   ]
  },
  {
   "cell_type": "markdown",
   "metadata": {},
   "source": [
    "# 'HL_E3'  \n",
    "\n",
    "¿Ha tenido algún **trabajo remunerado mientras realizaba los estudios** (incluido el trabajo por cuenta propia, trabajos de formación, contrato en prácticas, puestos de becario, etc.)?"
   ]
  },
  {
   "cell_type": "code",
   "execution_count": 685,
   "metadata": {},
   "outputs": [
    {
     "data": {
      "text/plain": [
       "array([2, 1])"
      ]
     },
     "execution_count": 685,
     "metadata": {},
     "output_type": "execute_result"
    }
   ],
   "source": [
    "df['HL_E3'].unique() # Sin no informados"
   ]
  },
  {
   "cell_type": "code",
   "execution_count": 686,
   "metadata": {},
   "outputs": [
    {
     "name": "stdout",
     "output_type": "stream",
     "text": [
      "      aux_traduce\n",
      "           unique\n",
      "HL_E3            \n",
      "1            [Sí]\n",
      "2            [No]\n"
     ]
    }
   ],
   "source": [
    "traduce('HL_E3')"
   ]
  },
  {
   "cell_type": "markdown",
   "metadata": {},
   "source": [
    "# 'HL_E5'  \n",
    "\n",
    "¿**Continuó en ese trabajo** durante al menos 6 meses después de acabar estos estudios?"
   ]
  },
  {
   "cell_type": "code",
   "execution_count": 687,
   "metadata": {},
   "outputs": [
    {
     "data": {
      "text/plain": [
       "array([' ', '2', '1'], dtype=object)"
      ]
     },
     "execution_count": 687,
     "metadata": {},
     "output_type": "execute_result"
    }
   ],
   "source": [
    "df['HL_E5'].unique() # No informados como ' '"
   ]
  },
  {
   "cell_type": "code",
   "execution_count": 688,
   "metadata": {},
   "outputs": [
    {
     "name": "stdout",
     "output_type": "stream",
     "text": [
      "          aux_traduce\n",
      "               unique\n",
      "HL_E5                \n",
      "       [No aplicable]\n",
      "1                [Sí]\n",
      "2                [No]\n"
     ]
    }
   ],
   "source": [
    "traduce('HL_E5')"
   ]
  },
  {
   "cell_type": "code",
   "execution_count": 689,
   "metadata": {},
   "outputs": [
    {
     "name": "stdout",
     "output_type": "stream",
     "text": [
      "[ 1.  2. nan]\n"
     ]
    }
   ],
   "source": [
    "no_respuesta('HL_E5')"
   ]
  },
  {
   "cell_type": "markdown",
   "metadata": {},
   "source": [
    "# 'HL_JOR'  \n",
    "\n",
    "**Tipo de jornada** en ese trabajo."
   ]
  },
  {
   "cell_type": "code",
   "execution_count": 690,
   "metadata": {},
   "outputs": [
    {
     "data": {
      "text/plain": [
       "array([' ', '1', '2', '9'], dtype=object)"
      ]
     },
     "execution_count": 690,
     "metadata": {},
     "output_type": "execute_result"
    }
   ],
   "source": [
    "df['HL_JOR'].unique() # No informados como ' ' o '9'"
   ]
  },
  {
   "cell_type": "code",
   "execution_count": 691,
   "metadata": {},
   "outputs": [
    {
     "name": "stdout",
     "output_type": "stream",
     "text": [
      "                aux_traduce\n",
      "                     unique\n",
      "HL_JOR                     \n",
      "                        [ ]\n",
      "1        [A tiempo parcial]\n",
      "2       [A tiempo completo]\n",
      "9                   [NS/NC]\n"
     ]
    }
   ],
   "source": [
    "traduce('HL_JOR')"
   ]
  },
  {
   "cell_type": "code",
   "execution_count": 692,
   "metadata": {},
   "outputs": [
    {
     "name": "stdout",
     "output_type": "stream",
     "text": [
      "[ 1.  2. nan]\n"
     ]
    }
   ],
   "source": [
    "no_respuesta('HL_JOR')"
   ]
  },
  {
   "cell_type": "markdown",
   "metadata": {},
   "source": [
    "# 'HL_E7'  \n",
    "\n",
    "Una vez completados estos estudios, ¿**mejoraron las condiciones del trabajo** en el que continuó después de acabarlos?"
   ]
  },
  {
   "cell_type": "code",
   "execution_count": 693,
   "metadata": {},
   "outputs": [
    {
     "data": {
      "text/plain": [
       "array([' ', '2', '1', '9'], dtype=object)"
      ]
     },
     "execution_count": 693,
     "metadata": {},
     "output_type": "execute_result"
    }
   ],
   "source": [
    "df['HL_E7'].unique() # No informados como ' ' o '9'"
   ]
  },
  {
   "cell_type": "code",
   "execution_count": 694,
   "metadata": {},
   "outputs": [
    {
     "name": "stdout",
     "output_type": "stream",
     "text": [
      "          aux_traduce\n",
      "               unique\n",
      "HL_E7                \n",
      "       [No aplicable]\n",
      "1                [Sí]\n",
      "2                [No]\n",
      "9             [NS/NC]\n"
     ]
    }
   ],
   "source": [
    "traduce('HL_E7')"
   ]
  },
  {
   "cell_type": "code",
   "execution_count": 695,
   "metadata": {},
   "outputs": [
    {
     "name": "stdout",
     "output_type": "stream",
     "text": [
      "[ 1.  2. nan]\n"
     ]
    }
   ],
   "source": [
    "no_respuesta('HL_E7')"
   ]
  },
  {
   "cell_type": "markdown",
   "metadata": {},
   "source": [
    "# 'HL_E8'  \n",
    "\n",
    "Mientras tenía este empleo, ¿**buscó un trabajo mejor**?"
   ]
  },
  {
   "cell_type": "code",
   "execution_count": 696,
   "metadata": {},
   "outputs": [
    {
     "data": {
      "text/plain": [
       "array([' ', '1', '2', '9'], dtype=object)"
      ]
     },
     "execution_count": 696,
     "metadata": {},
     "output_type": "execute_result"
    }
   ],
   "source": [
    "df['HL_E8'].unique() # No informados como ' ' o '9'"
   ]
  },
  {
   "cell_type": "code",
   "execution_count": 697,
   "metadata": {},
   "outputs": [
    {
     "name": "stdout",
     "output_type": "stream",
     "text": [
      "          aux_traduce\n",
      "               unique\n",
      "HL_E8                \n",
      "       [No aplicable]\n",
      "1                [Sí]\n",
      "2                [No]\n",
      "9             [NS/NC]\n"
     ]
    }
   ],
   "source": [
    "traduce('HL_E8')"
   ]
  },
  {
   "cell_type": "code",
   "execution_count": 698,
   "metadata": {},
   "outputs": [
    {
     "name": "stdout",
     "output_type": "stream",
     "text": [
      "[ 1.  2. nan]\n"
     ]
    }
   ],
   "source": [
    "no_respuesta('HL_E8')"
   ]
  },
  {
   "cell_type": "markdown",
   "metadata": {},
   "source": [
    "# 'HA_TRAB'  (redefinida como 'ha_trab')\n",
    "\n",
    "Ha tenido **algún trabajo remunerado desde que terminó sus estudios** (distinto del que haya realizado mientras estudiaba), incluyendo trabajo por cuenta propia, trabajos de formación, en prácticas, puestos de becario, etc.\n",
    "\n",
    "Nota: La variable 'HA_TRAB' se ha empleado como filtro para algunas de las variables definidas a continuación, formuladas solo a quienes responden Sí o a quienes responden No a esta pregunta. "
   ]
  },
  {
   "cell_type": "code",
   "execution_count": 699,
   "metadata": {},
   "outputs": [
    {
     "data": {
      "text/plain": [
       "array([1, 2])"
      ]
     },
     "execution_count": 699,
     "metadata": {},
     "output_type": "execute_result"
    }
   ],
   "source": [
    "df['HA_TRAB'].unique() # Sin no informados"
   ]
  },
  {
   "cell_type": "code",
   "execution_count": 700,
   "metadata": {},
   "outputs": [
    {
     "name": "stdout",
     "output_type": "stream",
     "text": [
      "        aux_traduce\n",
      "             unique\n",
      "HA_TRAB            \n",
      "1              [Sí]\n",
      "2              [No]\n"
     ]
    }
   ],
   "source": [
    "traduce('HA_TRAB')"
   ]
  },
  {
   "cell_type": "code",
   "execution_count": 701,
   "metadata": {},
   "outputs": [
    {
     "data": {
      "text/html": [
       "<div>\n",
       "<style scoped>\n",
       "    .dataframe tbody tr th:only-of-type {\n",
       "        vertical-align: middle;\n",
       "    }\n",
       "\n",
       "    .dataframe tbody tr th {\n",
       "        vertical-align: top;\n",
       "    }\n",
       "\n",
       "    .dataframe thead tr th {\n",
       "        text-align: left;\n",
       "    }\n",
       "\n",
       "    .dataframe thead tr:last-of-type th {\n",
       "        text-align: right;\n",
       "    }\n",
       "</style>\n",
       "<table border=\"1\" class=\"dataframe\">\n",
       "  <thead>\n",
       "    <tr>\n",
       "      <th></th>\n",
       "      <th>HA_TRAB_</th>\n",
       "    </tr>\n",
       "    <tr>\n",
       "      <th></th>\n",
       "      <th>unique</th>\n",
       "    </tr>\n",
       "    <tr>\n",
       "      <th>sit_lab_</th>\n",
       "      <th></th>\n",
       "    </tr>\n",
       "  </thead>\n",
       "  <tbody>\n",
       "    <tr>\n",
       "      <th>En desempleo</th>\n",
       "      <td>[Sí, No]</td>\n",
       "    </tr>\n",
       "    <tr>\n",
       "      <th>Inactivo</th>\n",
       "      <td>[Sí, No]</td>\n",
       "    </tr>\n",
       "    <tr>\n",
       "      <th>Trabajando</th>\n",
       "      <td>[Sí]</td>\n",
       "    </tr>\n",
       "  </tbody>\n",
       "</table>\n",
       "</div>"
      ],
      "text/plain": [
       "              HA_TRAB_\n",
       "                unique\n",
       "sit_lab_              \n",
       "En desempleo  [Sí, No]\n",
       "Inactivo      [Sí, No]\n",
       "Trabajando        [Sí]"
      ]
     },
     "execution_count": 701,
     "metadata": {},
     "output_type": "execute_result"
    }
   ],
   "source": [
    "df[['HA_TRAB_','sit_lab_']].groupby(['sit_lab_']).agg(['unique']) # Inspección"
   ]
  },
  {
   "cell_type": "code",
   "execution_count": 702,
   "metadata": {},
   "outputs": [
    {
     "name": "stdout",
     "output_type": "stream",
     "text": [
      "        aux_traduce\n",
      "             unique\n",
      "ha_trab            \n",
      "0              [No]\n",
      "1              [Sí]\n"
     ]
    }
   ],
   "source": [
    "redefine('HA_TRAB',si_no=True)"
   ]
  },
  {
   "cell_type": "markdown",
   "metadata": {},
   "source": [
    "# 'HATR_E11'  \n",
    "\n",
    "(Solo para quienes **declaran haber trabajado** después de haber terminado sus estudios -respuesta 1 en 'HA_TRAB' o 'ha_trab'-)\n",
    "\n",
    "**Tiempo** transcurrido desde que finalizó estos estudios **hasta que empezó a trabajar**."
   ]
  },
  {
   "cell_type": "code",
   "execution_count": 703,
   "metadata": {},
   "outputs": [
    {
     "data": {
      "text/plain": [
       "array(['1', '9', '0', '3', '6', '5', '4', '2', ' '], dtype=object)"
      ]
     },
     "execution_count": 703,
     "metadata": {},
     "output_type": "execute_result"
    }
   ],
   "source": [
    "df['HATR_E11'].unique() # No informados como ' ' o '9'"
   ]
  },
  {
   "cell_type": "code",
   "execution_count": 704,
   "metadata": {},
   "outputs": [
    {
     "name": "stdout",
     "output_type": "stream",
     "text": [
      "                                                                         aux_traduce\n",
      "                                                                              unique\n",
      "HATR_E11                                                                            \n",
      "                                                                      [No aplicable]\n",
      "0         [Continuó al menos 6 meses más en el trabajo que tenía mientras estudiaba]\n",
      "1                                                              [Menos de tres meses]\n",
      "2                                                                   [De 3 a 6 meses]\n",
      "3                                                               [De 6 meses a 1 año]\n",
      "4                                                        [De 1 año a  año y medio  ]\n",
      "5                                                      [De 1 año y medio a  2 años ]\n",
      "6                                                                     [2 ó más años]\n",
      "9                                                                            [NS/NC]\n"
     ]
    }
   ],
   "source": [
    "traduce('HATR_E11')"
   ]
  },
  {
   "cell_type": "code",
   "execution_count": 705,
   "metadata": {},
   "outputs": [
    {
     "data": {
      "text/html": [
       "<div>\n",
       "<style scoped>\n",
       "    .dataframe tbody tr th:only-of-type {\n",
       "        vertical-align: middle;\n",
       "    }\n",
       "\n",
       "    .dataframe tbody tr th {\n",
       "        vertical-align: top;\n",
       "    }\n",
       "\n",
       "    .dataframe thead tr th {\n",
       "        text-align: left;\n",
       "    }\n",
       "\n",
       "    .dataframe thead tr:last-of-type th {\n",
       "        text-align: right;\n",
       "    }\n",
       "</style>\n",
       "<table border=\"1\" class=\"dataframe\">\n",
       "  <thead>\n",
       "    <tr>\n",
       "      <th></th>\n",
       "      <th>HATR_E11</th>\n",
       "    </tr>\n",
       "    <tr>\n",
       "      <th></th>\n",
       "      <th>unique</th>\n",
       "    </tr>\n",
       "    <tr>\n",
       "      <th>ha_trab_</th>\n",
       "      <th></th>\n",
       "    </tr>\n",
       "  </thead>\n",
       "  <tbody>\n",
       "    <tr>\n",
       "      <th>No</th>\n",
       "      <td>[ ]</td>\n",
       "    </tr>\n",
       "    <tr>\n",
       "      <th>Sí</th>\n",
       "      <td>[1, 9, 0, 3, 6, 5, 4, 2]</td>\n",
       "    </tr>\n",
       "  </tbody>\n",
       "</table>\n",
       "</div>"
      ],
      "text/plain": [
       "                          HATR_E11\n",
       "                            unique\n",
       "ha_trab_                          \n",
       "No                             [ ]\n",
       "Sí        [1, 9, 0, 3, 6, 5, 4, 2]"
      ]
     },
     "execution_count": 705,
     "metadata": {},
     "output_type": "execute_result"
    }
   ],
   "source": [
    "df[['HATR_E11','ha_trab_']].groupby('ha_trab_').agg(['unique']) # Inspección"
   ]
  },
  {
   "cell_type": "code",
   "execution_count": 706,
   "metadata": {},
   "outputs": [
    {
     "name": "stdout",
     "output_type": "stream",
     "text": [
      "[ 0.  1.  2.  3.  4.  5.  6. nan]\n"
     ]
    }
   ],
   "source": [
    "no_respuesta('HATR_E11')"
   ]
  },
  {
   "cell_type": "markdown",
   "metadata": {},
   "source": [
    "## 'HATR_E12'  \n",
    "\n",
    "(Solo para quienes **declaran haber trabajado** después de haber terminado sus estudios -respuesta 1 en 'HA_TRAB' o 'ha_trab'-)\n",
    "\n",
    "Momento en que empezó a buscar trabajo."
   ]
  },
  {
   "cell_type": "code",
   "execution_count": 707,
   "metadata": {},
   "outputs": [
    {
     "data": {
      "text/plain": [
       "array(['1', '9', '0', '2', ' '], dtype=object)"
      ]
     },
     "execution_count": 707,
     "metadata": {},
     "output_type": "execute_result"
    }
   ],
   "source": [
    "df['HATR_E12'].unique() # No informados como ' ' o '9'"
   ]
  },
  {
   "cell_type": "code",
   "execution_count": 708,
   "metadata": {},
   "outputs": [
    {
     "name": "stdout",
     "output_type": "stream",
     "text": [
      "                                                                         aux_traduce\n",
      "                                                                              unique\n",
      "HATR_E12                                                                            \n",
      "                                                                      [No aplicable]\n",
      "0         [Continuó al menos 6 meses más en el trabajo que tenía mientras estudiaba]\n",
      "1             [Antes de terminar los estudios de la titulación que finalizó en 2014]\n",
      "2           [Después de terminar los estudios de la titulación que finalizó en 2014]\n",
      "9                                                                            [NS/NC]\n"
     ]
    }
   ],
   "source": [
    "traduce('HATR_E12')"
   ]
  },
  {
   "cell_type": "code",
   "execution_count": 709,
   "metadata": {},
   "outputs": [
    {
     "data": {
      "text/html": [
       "<div>\n",
       "<style scoped>\n",
       "    .dataframe tbody tr th:only-of-type {\n",
       "        vertical-align: middle;\n",
       "    }\n",
       "\n",
       "    .dataframe tbody tr th {\n",
       "        vertical-align: top;\n",
       "    }\n",
       "\n",
       "    .dataframe thead tr th {\n",
       "        text-align: left;\n",
       "    }\n",
       "\n",
       "    .dataframe thead tr:last-of-type th {\n",
       "        text-align: right;\n",
       "    }\n",
       "</style>\n",
       "<table border=\"1\" class=\"dataframe\">\n",
       "  <thead>\n",
       "    <tr>\n",
       "      <th></th>\n",
       "      <th>HATR_E12_</th>\n",
       "      <th>sit_lab_</th>\n",
       "    </tr>\n",
       "    <tr>\n",
       "      <th></th>\n",
       "      <th>unique</th>\n",
       "      <th>unique</th>\n",
       "    </tr>\n",
       "    <tr>\n",
       "      <th>HA_TRAB_</th>\n",
       "      <th></th>\n",
       "      <th></th>\n",
       "    </tr>\n",
       "  </thead>\n",
       "  <tbody>\n",
       "    <tr>\n",
       "      <th>No</th>\n",
       "      <td>[No aplicable]</td>\n",
       "      <td>[Inactivo, En desempleo]</td>\n",
       "    </tr>\n",
       "    <tr>\n",
       "      <th>Sí</th>\n",
       "      <td>[Antes de terminar los estudios de la titulación que finalizó en 2014, NS/NC, Continuó al menos 6 meses más en el trabajo que tenía mientras estudiaba, Después de terminar los estudios de la titulación que finalizó en 2014]</td>\n",
       "      <td>[Trabajando, En desempleo, Inactivo]</td>\n",
       "    </tr>\n",
       "  </tbody>\n",
       "</table>\n",
       "</div>"
      ],
      "text/plain": [
       "                                                                                                                                                                                                                                HATR_E12_  \\\n",
       "                                                                                                                                                                                                                                   unique   \n",
       "HA_TRAB_                                                                                                                                                                                                                                    \n",
       "No                                                                                                                                                                                                                         [No aplicable]   \n",
       "Sí        [Antes de terminar los estudios de la titulación que finalizó en 2014, NS/NC, Continuó al menos 6 meses más en el trabajo que tenía mientras estudiaba, Después de terminar los estudios de la titulación que finalizó en 2014]   \n",
       "\n",
       "                                      sit_lab_  \n",
       "                                        unique  \n",
       "HA_TRAB_                                        \n",
       "No                    [Inactivo, En desempleo]  \n",
       "Sí        [Trabajando, En desempleo, Inactivo]  "
      ]
     },
     "execution_count": 709,
     "metadata": {},
     "output_type": "execute_result"
    }
   ],
   "source": [
    "df[['HA_TRAB_','HATR_E12_','sit_lab_']].groupby('HA_TRAB_').agg(['unique']) # Inspección\n",
    "# Solo se ha preguntado a quien ha trabajado después de terminar sus estudios, con independencia de su ...\n",
    "# ... situación laboral actual."
   ]
  },
  {
   "cell_type": "code",
   "execution_count": 710,
   "metadata": {},
   "outputs": [
    {
     "name": "stdout",
     "output_type": "stream",
     "text": [
      "[ 0.  1.  2. nan]\n"
     ]
    }
   ],
   "source": [
    "no_respuesta('HATR_E12')"
   ]
  },
  {
   "cell_type": "markdown",
   "metadata": {},
   "source": [
    "## 'HATR_BSQ1'  (redefinida como 'etr_internet', actualiza 'btr_internet')\n",
    "\n",
    "(Solo para quienes **declaran haber trabajado** después de haber terminado sus estudios -respuesta 1 en 'HA_TRAB' o 'ha_trab'-)\n",
    "\n",
    "¿**Encontró trabajo** a través de ofertas de trabajo en el **periódico, internet**, etc.?  \n",
    "\n",
    "Nota: Esta es la primera de una serie de preguntas sobre estrategias de búsqueda de empleo entre quienes han tenido alguno desde que terminaron sus estudios. La variable 'HATR_BSQ1' es distinta de 'TRPARA_D7_1' (o 'btr_internet'); 'btr_internet' se refiere a la búsqueda de trabajo a través de anuncios en prensa o internet y se formula solo a desempleados, mientras que 'TRPARA_D7_1' se refiere al **éxito de esa estrategia para encontrar trabajo** y se formula a todos los que han trabajado alguna vez desde que terminaron sus estudios.   \n",
    "No obstante, esta y otras variables de esta serie permiten actualizar algunas de las variables con prefijo 'btr_' definidas originalmente solo para desempleados. "
   ]
  },
  {
   "cell_type": "code",
   "execution_count": 711,
   "metadata": {},
   "outputs": [
    {
     "data": {
      "text/plain": [
       "array(['2', '1', '9', ' '], dtype=object)"
      ]
     },
     "execution_count": 711,
     "metadata": {},
     "output_type": "execute_result"
    }
   ],
   "source": [
    "df['HATR_BSQ1'].unique() # No informados como ' ' o '9'"
   ]
  },
  {
   "cell_type": "code",
   "execution_count": 712,
   "metadata": {},
   "outputs": [
    {
     "name": "stdout",
     "output_type": "stream",
     "text": [
      "              aux_traduce\n",
      "                   unique\n",
      "HATR_BSQ1                \n",
      "           [No aplicable]\n",
      "1                    [Sí]\n",
      "2                    [No]\n",
      "9                 [NS/NC]\n"
     ]
    }
   ],
   "source": [
    "traduce('HATR_BSQ1')"
   ]
  },
  {
   "cell_type": "code",
   "execution_count": 713,
   "metadata": {},
   "outputs": [
    {
     "data": {
      "text/html": [
       "<div>\n",
       "<style scoped>\n",
       "    .dataframe tbody tr th:only-of-type {\n",
       "        vertical-align: middle;\n",
       "    }\n",
       "\n",
       "    .dataframe tbody tr th {\n",
       "        vertical-align: top;\n",
       "    }\n",
       "\n",
       "    .dataframe thead tr th {\n",
       "        text-align: left;\n",
       "    }\n",
       "\n",
       "    .dataframe thead tr:last-of-type th {\n",
       "        text-align: right;\n",
       "    }\n",
       "</style>\n",
       "<table border=\"1\" class=\"dataframe\">\n",
       "  <thead>\n",
       "    <tr>\n",
       "      <th></th>\n",
       "      <th></th>\n",
       "      <th>HATR_BSQ1_</th>\n",
       "      <th>btr_internet_</th>\n",
       "    </tr>\n",
       "    <tr>\n",
       "      <th></th>\n",
       "      <th></th>\n",
       "      <th>unique</th>\n",
       "      <th>unique</th>\n",
       "    </tr>\n",
       "    <tr>\n",
       "      <th>sit_lab_</th>\n",
       "      <th>HA_TRAB_</th>\n",
       "      <th></th>\n",
       "      <th></th>\n",
       "    </tr>\n",
       "  </thead>\n",
       "  <tbody>\n",
       "    <tr>\n",
       "      <th rowspan=\"2\" valign=\"top\">En desempleo</th>\n",
       "      <th>No</th>\n",
       "      <td>[No aplicable]</td>\n",
       "      <td>[Sí, No]</td>\n",
       "    </tr>\n",
       "    <tr>\n",
       "      <th>Sí</th>\n",
       "      <td>[No, Sí, NS/NC]</td>\n",
       "      <td>[No, Sí, nan]</td>\n",
       "    </tr>\n",
       "    <tr>\n",
       "      <th rowspan=\"2\" valign=\"top\">Inactivo</th>\n",
       "      <th>No</th>\n",
       "      <td>[No aplicable]</td>\n",
       "      <td>[nan]</td>\n",
       "    </tr>\n",
       "    <tr>\n",
       "      <th>Sí</th>\n",
       "      <td>[Sí, No, NS/NC]</td>\n",
       "      <td>[nan]</td>\n",
       "    </tr>\n",
       "    <tr>\n",
       "      <th>Trabajando</th>\n",
       "      <th>Sí</th>\n",
       "      <td>[No, Sí, NS/NC]</td>\n",
       "      <td>[nan]</td>\n",
       "    </tr>\n",
       "  </tbody>\n",
       "</table>\n",
       "</div>"
      ],
      "text/plain": [
       "                            HATR_BSQ1_  btr_internet_\n",
       "                                unique         unique\n",
       "sit_lab_     HA_TRAB_                                \n",
       "En desempleo No         [No aplicable]       [Sí, No]\n",
       "             Sí        [No, Sí, NS/NC]  [No, Sí, nan]\n",
       "Inactivo     No         [No aplicable]          [nan]\n",
       "             Sí        [Sí, No, NS/NC]          [nan]\n",
       "Trabajando   Sí        [No, Sí, NS/NC]          [nan]"
      ]
     },
     "execution_count": 713,
     "metadata": {},
     "output_type": "execute_result"
    }
   ],
   "source": [
    "df[['HATR_BSQ1_','btr_internet_','HA_TRAB_','sit_lab_']].groupby(['sit_lab_','HA_TRAB_']).agg(['unique'])\n",
    "# Solo se ha preguntado a quien ha trabajado desde que terminó sus estudios (a diferencia de 'btr_internet', ...\n",
    "# ... que se preguntó a los desempleados)"
   ]
  },
  {
   "cell_type": "code",
   "execution_count": 714,
   "metadata": {},
   "outputs": [],
   "source": [
    "def etr(col,nuevo):\n",
    "    \"\"\"Procesa las columnas referidas a las estrategias de búsqueda de empleo de quienes tuvieron alguno después\n",
    "    de terminar sus estudios.\n",
    "    \"\"\"\n",
    "    traduce(col)\n",
    "    no_respuesta(col)\n",
    "    redefine(col,nuevo,si_no=True)\n",
    "    return"
   ]
  },
  {
   "cell_type": "code",
   "execution_count": 715,
   "metadata": {},
   "outputs": [
    {
     "name": "stdout",
     "output_type": "stream",
     "text": [
      "              aux_traduce\n",
      "                   unique\n",
      "HATR_BSQ1                \n",
      "           [No aplicable]\n",
      "1                    [Sí]\n",
      "2                    [No]\n",
      "9                 [NS/NC]\n",
      "[ 1.  2. nan]\n",
      "             aux_traduce\n",
      "                  unique\n",
      "etr_internet            \n",
      "0.0                 [No]\n",
      "1.0                 [Sí]\n"
     ]
    }
   ],
   "source": [
    "etr('HATR_BSQ1','etr_internet')"
   ]
  },
  {
   "cell_type": "code",
   "execution_count": 716,
   "metadata": {},
   "outputs": [],
   "source": [
    "def actualiza_btr(col,btr):\n",
    "    \"\"\" Actualiza las variables con prefijo btr_ definidas para las distintas estrategias de búsqueda de empleo, \n",
    "    añadiendo las respuestas declaradas por quienes han trabajado después de terminar sus estudios: registra la \n",
    "    estrategia definida en la variable 'col' como utilizada por el encuestado cuando este declara que le sirvió \n",
    "    para encontrar empleo. No se infiere que no la haya usado cuando el encuestado no le atribuye éxito. \n",
    "    \"\"\"\n",
    "    df[btr].mask(df[col]==1,1,inplace=True)\n",
    "    traduce(btr)\n",
    "    print (df[[str(col)+'_',str(btr)+'_']][df['HA_TRAB']==1].groupby([str(col)+'_'],\n",
    "                                                                        dropna=False).agg(['unique']))\n",
    "    return"
   ]
  },
  {
   "cell_type": "code",
   "execution_count": 717,
   "metadata": {},
   "outputs": [
    {
     "name": "stdout",
     "output_type": "stream",
     "text": [
      "             aux_traduce\n",
      "                  unique\n",
      "btr_internet            \n",
      "0.0                 [No]\n",
      "1.0                 [Sí]\n",
      "            btr_internet_\n",
      "                   unique\n",
      "HATR_BSQ1_               \n",
      "No          [nan, No, Sí]\n",
      "Sí                   [Sí]\n",
      "NaN         [nan, No, Sí]\n"
     ]
    }
   ],
   "source": [
    "actualiza_btr('HATR_BSQ1','btr_internet')"
   ]
  },
  {
   "cell_type": "markdown",
   "metadata": {},
   "source": [
    "## 'HATR_BSQ2'  (redefinida como 'etr_spe', actualiza 'btr_spe')  \n",
    "\n",
    "(Solo para quienes **declaran haber trabajado** después de haber terminado sus estudios -respuesta 1 en 'HA_TRAB' o 'ha_trab'-)  \n",
    "\n",
    "¿**Encontró trabajo** a través de los **servicios públicos de empleo**?"
   ]
  },
  {
   "cell_type": "code",
   "execution_count": 718,
   "metadata": {},
   "outputs": [
    {
     "data": {
      "text/plain": [
       "array(['2', '1', '9', ' '], dtype=object)"
      ]
     },
     "execution_count": 718,
     "metadata": {},
     "output_type": "execute_result"
    }
   ],
   "source": [
    "df['HATR_BSQ2'].unique() # No informados como ' ' o '9'"
   ]
  },
  {
   "cell_type": "code",
   "execution_count": 719,
   "metadata": {},
   "outputs": [
    {
     "name": "stdout",
     "output_type": "stream",
     "text": [
      "              aux_traduce\n",
      "                   unique\n",
      "HATR_BSQ2                \n",
      "           [No aplicable]\n",
      "1                    [Sí]\n",
      "2                    [No]\n",
      "9                 [NS/NC]\n",
      "[ 1.  2. nan]\n",
      "        aux_traduce\n",
      "             unique\n",
      "etr_spe            \n",
      "0.0            [No]\n",
      "1.0            [Sí]\n"
     ]
    }
   ],
   "source": [
    "etr('HATR_BSQ2','etr_spe')"
   ]
  },
  {
   "cell_type": "code",
   "execution_count": 720,
   "metadata": {},
   "outputs": [
    {
     "name": "stdout",
     "output_type": "stream",
     "text": [
      "        aux_traduce\n",
      "             unique\n",
      "btr_spe            \n",
      "0.0            [No]\n",
      "1.0            [Sí]\n",
      "                 btr_spe_\n",
      "                   unique\n",
      "HATR_BSQ2_               \n",
      "No          [nan, No, Sí]\n",
      "Sí                   [Sí]\n",
      "NaN         [nan, No, Sí]\n"
     ]
    }
   ],
   "source": [
    "actualiza_btr('HATR_BSQ2','btr_spe')"
   ]
  },
  {
   "cell_type": "markdown",
   "metadata": {},
   "source": [
    "## 'HATR_BSQ3'  (redefinida como 'etr_univ', actualiza 'btr_univ')    \n",
    "\n",
    "(Solo para quienes **declaran haber trabajado** después de haber terminado sus estudios -respuesta 1 en 'HA_TRAB' o 'ha_trab'-)  \n",
    "\n",
    "¿**Encontró trabajo** a través de los **servicios de empleo de la universidad** (bolsa de trabajo, asociaciones de exalumnos, etc.)?"
   ]
  },
  {
   "cell_type": "code",
   "execution_count": 721,
   "metadata": {},
   "outputs": [
    {
     "data": {
      "text/plain": [
       "array(['1', '2', '9', ' '], dtype=object)"
      ]
     },
     "execution_count": 721,
     "metadata": {},
     "output_type": "execute_result"
    }
   ],
   "source": [
    "df['HATR_BSQ3'].unique() # No informados como ' ' o '9'"
   ]
  },
  {
   "cell_type": "code",
   "execution_count": 722,
   "metadata": {},
   "outputs": [
    {
     "name": "stdout",
     "output_type": "stream",
     "text": [
      "              aux_traduce\n",
      "                   unique\n",
      "HATR_BSQ3                \n",
      "           [No aplicable]\n",
      "1                    [Sí]\n",
      "2                    [No]\n",
      "9                 [NS/NC]\n",
      "[ 1.  2. nan]\n",
      "         aux_traduce\n",
      "              unique\n",
      "etr_univ            \n",
      "0.0             [No]\n",
      "1.0             [Sí]\n"
     ]
    }
   ],
   "source": [
    "etr('HATR_BSQ3','etr_univ')"
   ]
  },
  {
   "cell_type": "code",
   "execution_count": 723,
   "metadata": {},
   "outputs": [
    {
     "name": "stdout",
     "output_type": "stream",
     "text": [
      "         aux_traduce\n",
      "              unique\n",
      "btr_univ            \n",
      "0.0             [No]\n",
      "1.0             [Sí]\n",
      "                btr_univ_\n",
      "                   unique\n",
      "HATR_BSQ3_               \n",
      "No          [nan, No, Sí]\n",
      "Sí                   [Sí]\n",
      "NaN         [nan, No, Sí]\n"
     ]
    }
   ],
   "source": [
    "actualiza_btr('HATR_BSQ3','btr_univ')"
   ]
  },
  {
   "cell_type": "markdown",
   "metadata": {},
   "source": [
    "## 'HATR_BSQ4'  (redefinida como 'etr_ett', actualiza 'btr_ett')  \n",
    "\n",
    "(Solo para quienes **declaran haber trabajado** después de haber terminado sus estudios -respuesta 1 en 'HA_TRAB' o 'ha_trab'-)  \n",
    "\n",
    "¿**Encontró trabajo** a través de **empresas de trabajo temporal**?"
   ]
  },
  {
   "cell_type": "code",
   "execution_count": 724,
   "metadata": {},
   "outputs": [
    {
     "data": {
      "text/plain": [
       "array(['2', '1', '9', ' '], dtype=object)"
      ]
     },
     "execution_count": 724,
     "metadata": {},
     "output_type": "execute_result"
    }
   ],
   "source": [
    "df['HATR_BSQ4'].unique() # No informados como ' ' o '9'"
   ]
  },
  {
   "cell_type": "code",
   "execution_count": 725,
   "metadata": {},
   "outputs": [
    {
     "name": "stdout",
     "output_type": "stream",
     "text": [
      "              aux_traduce\n",
      "                   unique\n",
      "HATR_BSQ4                \n",
      "           [No aplicable]\n",
      "1                    [Sí]\n",
      "2                    [No]\n",
      "9                 [NS/NC]\n",
      "[ 1.  2. nan]\n",
      "        aux_traduce\n",
      "             unique\n",
      "etr_ett            \n",
      "0.0            [No]\n",
      "1.0            [Sí]\n"
     ]
    }
   ],
   "source": [
    "etr('HATR_BSQ4','etr_ett')"
   ]
  },
  {
   "cell_type": "code",
   "execution_count": 726,
   "metadata": {},
   "outputs": [
    {
     "name": "stdout",
     "output_type": "stream",
     "text": [
      "        aux_traduce\n",
      "             unique\n",
      "btr_ett            \n",
      "0.0            [No]\n",
      "1.0            [Sí]\n",
      "                 btr_ett_\n",
      "                   unique\n",
      "HATR_BSQ4_               \n",
      "No          [nan, No, Sí]\n",
      "Sí                   [Sí]\n",
      "NaN         [nan, No, Sí]\n"
     ]
    }
   ],
   "source": [
    "actualiza_btr('HATR_BSQ4','btr_ett')"
   ]
  },
  {
   "cell_type": "markdown",
   "metadata": {},
   "source": [
    "## 'HATR_BSQ5'  (redefinida como 'etr_bolsa', actualiza 'btr_bolsa')  \n",
    "\n",
    "(Solo para quienes **declaran haber trabajado** después de haber terminado sus estudios -respuesta 1 en 'HA_TRAB' o 'ha_trab'-)  \n",
    "\n",
    "¿**Encontró trabajo** a través de una **bolsa de empleo**?"
   ]
  },
  {
   "cell_type": "code",
   "execution_count": 727,
   "metadata": {},
   "outputs": [
    {
     "data": {
      "text/plain": [
       "array(['2', '1', '9', ' '], dtype=object)"
      ]
     },
     "execution_count": 727,
     "metadata": {},
     "output_type": "execute_result"
    }
   ],
   "source": [
    "df['HATR_BSQ5'].unique() # No informados como ' ' o '9'"
   ]
  },
  {
   "cell_type": "code",
   "execution_count": 728,
   "metadata": {},
   "outputs": [
    {
     "name": "stdout",
     "output_type": "stream",
     "text": [
      "              aux_traduce\n",
      "                   unique\n",
      "HATR_BSQ5                \n",
      "           [No aplicable]\n",
      "1                    [Sí]\n",
      "2                    [No]\n",
      "9                 [NS/NC]\n",
      "[ 1.  2. nan]\n",
      "          aux_traduce\n",
      "               unique\n",
      "etr_bolsa            \n",
      "0.0              [No]\n",
      "1.0              [Sí]\n"
     ]
    }
   ],
   "source": [
    "etr('HATR_BSQ5','etr_bolsa')"
   ]
  },
  {
   "cell_type": "code",
   "execution_count": 729,
   "metadata": {},
   "outputs": [
    {
     "name": "stdout",
     "output_type": "stream",
     "text": [
      "          aux_traduce\n",
      "               unique\n",
      "btr_bolsa            \n",
      "0.0              [No]\n",
      "1.0              [Sí]\n",
      "               btr_bolsa_\n",
      "                   unique\n",
      "HATR_BSQ5_               \n",
      "No          [nan, No, Sí]\n",
      "Sí                   [Sí]\n",
      "NaN         [nan, No, Sí]\n"
     ]
    }
   ],
   "source": [
    "actualiza_btr('HATR_BSQ5','btr_bolsa')"
   ]
  },
  {
   "cell_type": "markdown",
   "metadata": {},
   "source": [
    "## 'HATR_BSQ6'  (redefinida como 'etr_contactos', actualiza 'btr_contactos')  \n",
    "\n",
    "(Solo para quienes **declaran haber trabajado** después de haber terminado sus estudios -respuesta 1 en 'HA_TRAB' o 'ha_trab'-)  \n",
    "\n",
    "¿**Encontró trabajo** contactando con el empleador por iniciativa propia o utilizando **contactos personales** (familia, amigos)"
   ]
  },
  {
   "cell_type": "code",
   "execution_count": 730,
   "metadata": {},
   "outputs": [
    {
     "data": {
      "text/plain": [
       "array(['2', '1', '9', ' '], dtype=object)"
      ]
     },
     "execution_count": 730,
     "metadata": {},
     "output_type": "execute_result"
    }
   ],
   "source": [
    "df['HATR_BSQ6'].unique() # No informados como ' ' o '9'"
   ]
  },
  {
   "cell_type": "code",
   "execution_count": 731,
   "metadata": {},
   "outputs": [
    {
     "name": "stdout",
     "output_type": "stream",
     "text": [
      "              aux_traduce\n",
      "                   unique\n",
      "HATR_BSQ6                \n",
      "           [No aplicable]\n",
      "1                    [Sí]\n",
      "2                    [No]\n",
      "9                 [NS/NC]\n",
      "[ 1.  2. nan]\n",
      "              aux_traduce\n",
      "                   unique\n",
      "etr_contactos            \n",
      "0.0                  [No]\n",
      "1.0                  [Sí]\n"
     ]
    }
   ],
   "source": [
    "etr('HATR_BSQ6','etr_contactos')"
   ]
  },
  {
   "cell_type": "code",
   "execution_count": 732,
   "metadata": {},
   "outputs": [
    {
     "name": "stdout",
     "output_type": "stream",
     "text": [
      "              aux_traduce\n",
      "                   unique\n",
      "btr_contactos            \n",
      "0.0                  [No]\n",
      "1.0                  [Sí]\n",
      "           btr_contactos_\n",
      "                   unique\n",
      "HATR_BSQ6_               \n",
      "No          [nan, No, Sí]\n",
      "Sí                   [Sí]\n",
      "NaN         [nan, No, Sí]\n"
     ]
    }
   ],
   "source": [
    "actualiza_btr('HATR_BSQ6','btr_contactos')"
   ]
  },
  {
   "cell_type": "markdown",
   "metadata": {},
   "source": [
    "## 'HATR_BSQ7'  (redefinida como 'etr_empleador', actualiza 'btr_otro')  \n",
    "\n",
    "(Solo para quienes **declaran haber trabajado** después de haber terminado sus estudios -respuesta 1 en 'HA_TRAB' o 'ha_trab'-)  \n",
    "\n",
    "¿**Encontró trabajo** gracias a que el **empleador se puso en contacto** con usted?"
   ]
  },
  {
   "cell_type": "code",
   "execution_count": 733,
   "metadata": {},
   "outputs": [
    {
     "data": {
      "text/plain": [
       "array(['2', '1', '9', ' '], dtype=object)"
      ]
     },
     "execution_count": 733,
     "metadata": {},
     "output_type": "execute_result"
    }
   ],
   "source": [
    "df['HATR_BSQ7'].unique()"
   ]
  },
  {
   "cell_type": "code",
   "execution_count": 734,
   "metadata": {},
   "outputs": [
    {
     "name": "stdout",
     "output_type": "stream",
     "text": [
      "              aux_traduce\n",
      "                   unique\n",
      "HATR_BSQ7                \n",
      "           [No aplicable]\n",
      "1                    [Sí]\n",
      "2                    [No]\n",
      "9                 [NS/NC]\n",
      "[ 1.  2. nan]\n",
      "              aux_traduce\n",
      "                   unique\n",
      "etr_empleador            \n",
      "0.0                  [No]\n",
      "1.0                  [Sí]\n"
     ]
    }
   ],
   "source": [
    "etr('HATR_BSQ7','etr_empleador')"
   ]
  },
  {
   "cell_type": "code",
   "execution_count": 735,
   "metadata": {},
   "outputs": [
    {
     "name": "stdout",
     "output_type": "stream",
     "text": [
      "         aux_traduce\n",
      "              unique\n",
      "btr_otro            \n",
      "0.0             [No]\n",
      "1.0             [Sí]\n",
      "                btr_otro_\n",
      "                   unique\n",
      "HATR_BSQ7_               \n",
      "No          [nan, No, Sí]\n",
      "Sí                   [Sí]\n",
      "NaN             [nan, No]\n"
     ]
    }
   ],
   "source": [
    "actualiza_btr('HATR_BSQ7','btr_otro')"
   ]
  },
  {
   "cell_type": "markdown",
   "metadata": {},
   "source": [
    "## 'HATR_BSQ8'  (redefinida como 'etr_practicas', actualiza 'btr_otro')  \n",
    "\n",
    "(Solo para quienes **declaran haber trabajado** después de haber terminado sus estudios -respuesta 1 en 'HA_TRAB' o 'ha_trab'-)  \n",
    "\n",
    "¿Continuó con las **prácticas en empresas** o instituciones que realizó durante la carrera?"
   ]
  },
  {
   "cell_type": "code",
   "execution_count": 736,
   "metadata": {},
   "outputs": [
    {
     "data": {
      "text/plain": [
       "array(['2', '1', '9', ' '], dtype=object)"
      ]
     },
     "execution_count": 736,
     "metadata": {},
     "output_type": "execute_result"
    }
   ],
   "source": [
    "df['HATR_BSQ8'].unique() # No informados como ' ' o '9'"
   ]
  },
  {
   "cell_type": "code",
   "execution_count": 737,
   "metadata": {},
   "outputs": [
    {
     "name": "stdout",
     "output_type": "stream",
     "text": [
      "              aux_traduce\n",
      "                   unique\n",
      "HATR_BSQ8                \n",
      "           [No aplicable]\n",
      "1                    [Sí]\n",
      "2                    [No]\n",
      "9                 [NS/NC]\n",
      "[ 1.  2. nan]\n",
      "              aux_traduce\n",
      "                   unique\n",
      "etr_practicas            \n",
      "0.0                  [No]\n",
      "1.0                  [Sí]\n"
     ]
    }
   ],
   "source": [
    "etr('HATR_BSQ8','etr_practicas')"
   ]
  },
  {
   "cell_type": "code",
   "execution_count": 738,
   "metadata": {},
   "outputs": [
    {
     "name": "stdout",
     "output_type": "stream",
     "text": [
      "         aux_traduce\n",
      "              unique\n",
      "btr_otro            \n",
      "0.0             [No]\n",
      "1.0             [Sí]\n",
      "                btr_otro_\n",
      "                   unique\n",
      "HATR_BSQ8_               \n",
      "No          [nan, Sí, No]\n",
      "Sí                   [Sí]\n",
      "NaN             [nan, No]\n"
     ]
    }
   ],
   "source": [
    "actualiza_btr('HATR_BSQ8','btr_otro')"
   ]
  },
  {
   "cell_type": "markdown",
   "metadata": {},
   "source": [
    "## 'HATR_BSQ9'  (redefinida como 'etr_opo', actualiza 'btr_opo')  \n",
    "\n",
    "(Solo para quienes **declaran haber trabajado** después de haber terminado sus estudios -respuesta 1 en 'HA_TRAB' o 'ha_trab'-)  \n",
    "\n",
    "¿**Encontró trabajo** preparando unas **oposiciones**?"
   ]
  },
  {
   "cell_type": "code",
   "execution_count": 739,
   "metadata": {},
   "outputs": [
    {
     "data": {
      "text/plain": [
       "array(['2', '1', '9', ' '], dtype=object)"
      ]
     },
     "execution_count": 739,
     "metadata": {},
     "output_type": "execute_result"
    }
   ],
   "source": [
    "df['HATR_BSQ9'].unique() # No informados como ' ' o '9'"
   ]
  },
  {
   "cell_type": "code",
   "execution_count": 740,
   "metadata": {},
   "outputs": [
    {
     "name": "stdout",
     "output_type": "stream",
     "text": [
      "              aux_traduce\n",
      "                   unique\n",
      "HATR_BSQ9                \n",
      "           [No aplicable]\n",
      "1                    [Sí]\n",
      "2                    [No]\n",
      "9                 [NS/NC]\n",
      "[ 1.  2. nan]\n",
      "        aux_traduce\n",
      "             unique\n",
      "etr_opo            \n",
      "0.0            [No]\n",
      "1.0            [Sí]\n"
     ]
    }
   ],
   "source": [
    "etr('HATR_BSQ9','etr_opo')"
   ]
  },
  {
   "cell_type": "code",
   "execution_count": 741,
   "metadata": {},
   "outputs": [
    {
     "name": "stdout",
     "output_type": "stream",
     "text": [
      "        aux_traduce\n",
      "             unique\n",
      "btr_opo            \n",
      "0.0            [No]\n",
      "1.0            [Sí]\n",
      "                 btr_opo_\n",
      "                   unique\n",
      "HATR_BSQ9_               \n",
      "No          [nan, No, Sí]\n",
      "Sí                   [Sí]\n",
      "NaN         [nan, No, Sí]\n"
     ]
    }
   ],
   "source": [
    "actualiza_btr('HATR_BSQ9','btr_opo')"
   ]
  },
  {
   "cell_type": "markdown",
   "metadata": {},
   "source": [
    "## 'HATR_BSQ10'  (redefinida como 'etr_auto', actualiza 'btr_auto)  \n",
    "\n",
    "(Solo para quienes **declaran haber trabajado** después de haber terminado sus estudios -respuesta 1 en 'HA_TRAB' o 'ha_trab'-)  \n",
    "\n",
    "¿**Encontró trabajo** montando un **negocio propio**?"
   ]
  },
  {
   "cell_type": "code",
   "execution_count": 742,
   "metadata": {},
   "outputs": [
    {
     "data": {
      "text/plain": [
       "array(['2', '1', '9', ' '], dtype=object)"
      ]
     },
     "execution_count": 742,
     "metadata": {},
     "output_type": "execute_result"
    }
   ],
   "source": [
    "df['HATR_BSQ10'].unique() # No informados como ' ' o '9'"
   ]
  },
  {
   "cell_type": "code",
   "execution_count": 743,
   "metadata": {},
   "outputs": [
    {
     "name": "stdout",
     "output_type": "stream",
     "text": [
      "               aux_traduce\n",
      "                    unique\n",
      "HATR_BSQ10                \n",
      "            [No aplicable]\n",
      "1                     [Sí]\n",
      "2                     [No]\n",
      "9                  [NS/NC]\n",
      "[ 1.  2. nan]\n",
      "         aux_traduce\n",
      "              unique\n",
      "etr_auto            \n",
      "0.0             [No]\n",
      "1.0             [Sí]\n"
     ]
    }
   ],
   "source": [
    "etr('HATR_BSQ10','etr_auto')"
   ]
  },
  {
   "cell_type": "code",
   "execution_count": 744,
   "metadata": {},
   "outputs": [
    {
     "name": "stdout",
     "output_type": "stream",
     "text": [
      "         aux_traduce\n",
      "              unique\n",
      "btr_auto            \n",
      "0.0             [No]\n",
      "1.0             [Sí]\n",
      "                 btr_auto_\n",
      "                    unique\n",
      "HATR_BSQ10_               \n",
      "No           [nan, No, Sí]\n",
      "Sí                    [Sí]\n",
      "NaN          [nan, No, Sí]\n"
     ]
    }
   ],
   "source": [
    "actualiza_btr('HATR_BSQ10','btr_auto')"
   ]
  },
  {
   "cell_type": "markdown",
   "metadata": {},
   "source": [
    "## 'HATR_BSQ11'  (redefinida como 'etr_otro', actualiza 'btr_otro')  \n",
    "\n",
    "(Solo para quienes **declaran haber trabajado** después de haber terminado sus estudios -respuesta 1 en 'HA_TRAB' o 'ha_trab'-) \n",
    "\n",
    "¿**Encontró trabajo de otra forma**?"
   ]
  },
  {
   "cell_type": "code",
   "execution_count": 745,
   "metadata": {},
   "outputs": [
    {
     "data": {
      "text/plain": [
       "array(['2', '1', '9', ' '], dtype=object)"
      ]
     },
     "execution_count": 745,
     "metadata": {},
     "output_type": "execute_result"
    }
   ],
   "source": [
    "df['HATR_BSQ11'].unique() # No informados como ' ' o '9'"
   ]
  },
  {
   "cell_type": "code",
   "execution_count": 746,
   "metadata": {},
   "outputs": [
    {
     "name": "stdout",
     "output_type": "stream",
     "text": [
      "               aux_traduce\n",
      "                    unique\n",
      "HATR_BSQ11                \n",
      "            [No aplicable]\n",
      "1                     [Sí]\n",
      "2                     [No]\n",
      "9                  [NS/NC]\n",
      "[ 1.  2. nan]\n",
      "         aux_traduce\n",
      "              unique\n",
      "etr_otro            \n",
      "0.0             [No]\n",
      "1.0             [Sí]\n"
     ]
    }
   ],
   "source": [
    "etr('HATR_BSQ11','etr_otro')"
   ]
  },
  {
   "cell_type": "code",
   "execution_count": 747,
   "metadata": {},
   "outputs": [
    {
     "name": "stdout",
     "output_type": "stream",
     "text": [
      "         aux_traduce\n",
      "              unique\n",
      "btr_otro            \n",
      "0.0             [No]\n",
      "1.0             [Sí]\n",
      "                 btr_otro_\n",
      "                    unique\n",
      "HATR_BSQ11_               \n",
      "No           [nan, Sí, No]\n",
      "Sí                    [Sí]\n",
      "NaN              [nan, No]\n"
     ]
    }
   ],
   "source": [
    "actualiza_btr('HATR_BSQ11','btr_otro')"
   ]
  },
  {
   "cell_type": "markdown",
   "metadata": {},
   "source": [
    "## 'P_CONTI'  \n",
    "\n",
    "(Solo para quienes **declaran haber trabajado** después de haber terminado sus estudios -respuesta 1 en 'HA_TRAB' o 'ha_trab'-) \n",
    "\n",
    "¿**Continua en su primer empleo**?"
   ]
  },
  {
   "cell_type": "code",
   "execution_count": 748,
   "metadata": {},
   "outputs": [
    {
     "data": {
      "text/plain": [
       "array(['1', '2', ' '], dtype=object)"
      ]
     },
     "execution_count": 748,
     "metadata": {},
     "output_type": "execute_result"
    }
   ],
   "source": [
    "df['P_CONTI'].unique() # No informados como ' ' "
   ]
  },
  {
   "cell_type": "code",
   "execution_count": 749,
   "metadata": {},
   "outputs": [
    {
     "name": "stdout",
     "output_type": "stream",
     "text": [
      "            aux_traduce\n",
      "                 unique\n",
      "P_CONTI                \n",
      "         [No aplicable]\n",
      "1                  [Sí]\n",
      "2                  [No]\n"
     ]
    }
   ],
   "source": [
    "traduce('P_CONTI')"
   ]
  },
  {
   "cell_type": "code",
   "execution_count": 750,
   "metadata": {},
   "outputs": [
    {
     "data": {
      "text/html": [
       "<div>\n",
       "<style scoped>\n",
       "    .dataframe tbody tr th:only-of-type {\n",
       "        vertical-align: middle;\n",
       "    }\n",
       "\n",
       "    .dataframe tbody tr th {\n",
       "        vertical-align: top;\n",
       "    }\n",
       "\n",
       "    .dataframe thead tr th {\n",
       "        text-align: left;\n",
       "    }\n",
       "\n",
       "    .dataframe thead tr:last-of-type th {\n",
       "        text-align: right;\n",
       "    }\n",
       "</style>\n",
       "<table border=\"1\" class=\"dataframe\">\n",
       "  <thead>\n",
       "    <tr>\n",
       "      <th></th>\n",
       "      <th>P_CONTI</th>\n",
       "    </tr>\n",
       "    <tr>\n",
       "      <th></th>\n",
       "      <th>unique</th>\n",
       "    </tr>\n",
       "    <tr>\n",
       "      <th>ha_trab_</th>\n",
       "      <th></th>\n",
       "    </tr>\n",
       "  </thead>\n",
       "  <tbody>\n",
       "    <tr>\n",
       "      <th>No</th>\n",
       "      <td>[ ]</td>\n",
       "    </tr>\n",
       "    <tr>\n",
       "      <th>Sí</th>\n",
       "      <td>[1, 2]</td>\n",
       "    </tr>\n",
       "  </tbody>\n",
       "</table>\n",
       "</div>"
      ],
      "text/plain": [
       "         P_CONTI\n",
       "          unique\n",
       "ha_trab_        \n",
       "No           [ ]\n",
       "Sí        [1, 2]"
      ]
     },
     "execution_count": 750,
     "metadata": {},
     "output_type": "execute_result"
    }
   ],
   "source": [
    "df[['P_CONTI','ha_trab_']].groupby('ha_trab_').agg(['unique']) # Inspección"
   ]
  },
  {
   "cell_type": "code",
   "execution_count": 751,
   "metadata": {},
   "outputs": [
    {
     "name": "stdout",
     "output_type": "stream",
     "text": [
      "[ 1.  2. nan]\n"
     ]
    }
   ],
   "source": [
    "no_respuesta('P_CONTI')"
   ]
  },
  {
   "cell_type": "markdown",
   "metadata": {},
   "source": [
    "## 'PR_PAIS'  \n",
    "\n",
    "(Solo para quienes **declaran haber trabajado** después de haber terminado sus estudios -respuesta 1 en 'HA_TRAB' o 'ha_trab'-) \n",
    "\n",
    "**País** en el que desempeñaba su **primer empleo**."
   ]
  },
  {
   "cell_type": "code",
   "execution_count": 752,
   "metadata": {},
   "outputs": [
    {
     "data": {
      "text/plain": [
       "array(['01', '07', '02', '  ', '06', '05', '08', '09', '04', '10', '03',\n",
       "       '11'], dtype=object)"
      ]
     },
     "execution_count": 752,
     "metadata": {},
     "output_type": "execute_result"
    }
   ],
   "source": [
    "df['PR_PAIS'].unique() # No informados como '  ' o '99'"
   ]
  },
  {
   "cell_type": "code",
   "execution_count": 753,
   "metadata": {},
   "outputs": [
    {
     "name": "stdout",
     "output_type": "stream",
     "text": [
      "[ 1.  2.  3.  4.  5.  6.  7.  8.  9. 10. 11. nan]\n",
      "                                            aux_traduce\n",
      "                                                 unique\n",
      "PR_PAIS                                                \n",
      "1.0                                            [España]\n",
      "2.0                                       [Reino Unido]\n",
      "3.0                                          [Alemania]\n",
      "4.0                                           [Francia]\n",
      "5.0                     [Otro país de la Unión Europea]\n",
      "6.0                [Otro país europeo (fuera de la UE)]\n",
      "7.0                      [Un país de América del Norte]\n",
      "8.0      [Un país de América Central o América del Sur]\n",
      "9.0                                   [Un país de Asia]\n",
      "10.0                                [Un país de África]\n",
      "11.0                               [Un país de Oceanía]\n"
     ]
    }
   ],
   "source": [
    "no_respuesta('PR_PAIS',blank='  ',nsnc='99')\n",
    "traduce('PR_PAIS')"
   ]
  },
  {
   "cell_type": "code",
   "execution_count": 754,
   "metadata": {},
   "outputs": [
    {
     "data": {
      "text/html": [
       "<div>\n",
       "<style scoped>\n",
       "    .dataframe tbody tr th:only-of-type {\n",
       "        vertical-align: middle;\n",
       "    }\n",
       "\n",
       "    .dataframe tbody tr th {\n",
       "        vertical-align: top;\n",
       "    }\n",
       "\n",
       "    .dataframe thead tr th {\n",
       "        text-align: left;\n",
       "    }\n",
       "\n",
       "    .dataframe thead tr:last-of-type th {\n",
       "        text-align: right;\n",
       "    }\n",
       "</style>\n",
       "<table border=\"1\" class=\"dataframe\">\n",
       "  <thead>\n",
       "    <tr>\n",
       "      <th></th>\n",
       "      <th>PR_PAIS</th>\n",
       "    </tr>\n",
       "    <tr>\n",
       "      <th></th>\n",
       "      <th>unique</th>\n",
       "    </tr>\n",
       "    <tr>\n",
       "      <th>ha_trab_</th>\n",
       "      <th></th>\n",
       "    </tr>\n",
       "  </thead>\n",
       "  <tbody>\n",
       "    <tr>\n",
       "      <th>No</th>\n",
       "      <td>[nan]</td>\n",
       "    </tr>\n",
       "    <tr>\n",
       "      <th>Sí</th>\n",
       "      <td>[1.0, 7.0, 2.0, 6.0, 5.0, 8.0, 9.0, 4.0, 10.0, 3.0, 11.0]</td>\n",
       "    </tr>\n",
       "  </tbody>\n",
       "</table>\n",
       "</div>"
      ],
      "text/plain": [
       "                                                            PR_PAIS\n",
       "                                                             unique\n",
       "ha_trab_                                                           \n",
       "No                                                            [nan]\n",
       "Sí        [1.0, 7.0, 2.0, 6.0, 5.0, 8.0, 9.0, 4.0, 10.0, 3.0, 11.0]"
      ]
     },
     "execution_count": 754,
     "metadata": {},
     "output_type": "execute_result"
    }
   ],
   "source": [
    "df[['ha_trab_','PR_PAIS']].groupby(['ha_trab_']).agg(['unique']) # Inspección"
   ]
  },
  {
   "cell_type": "markdown",
   "metadata": {},
   "source": [
    "## 'PR_OCU'  \n",
    "\n",
    "(Solo para quienes **declaran haber trabajado** después de haber terminado sus estudios -respuesta 1 en 'HA_TRAB' o 'ha_trab'-) \n",
    "\n",
    "**Ocupación** que desempeñaba en su **primer empleo**."
   ]
  },
  {
   "cell_type": "code",
   "execution_count": 755,
   "metadata": {},
   "outputs": [
    {
     "data": {
      "text/plain": [
       "array(['24', '22', '23', '31', '58', '27', '25', '95', '44', '43', '99',\n",
       "       '55', '41', '45', '37', '21', '57', '51', '12', '26', '38', '28',\n",
       "       '59', '35', '52', '93', '36', '33', '75', '54', '77', '13', '92',\n",
       "       '11', '98', '81', '73', '34', '29', '14', '91', '  ', '56', '97',\n",
       "       '53', '42', '15', '82', '94', '84', '32', '78', '61', '00', '96',\n",
       "       '72', '64', '71', '62', '76', '74', '83'], dtype=object)"
      ]
     },
     "execution_count": 755,
     "metadata": {},
     "output_type": "execute_result"
    }
   ],
   "source": [
    "df['PR_OCU'].unique() # No informados como '  ' o '99'"
   ]
  },
  {
   "cell_type": "code",
   "execution_count": 756,
   "metadata": {},
   "outputs": [
    {
     "data": {
      "text/html": [
       "<div>\n",
       "<style scoped>\n",
       "    .dataframe tbody tr th:only-of-type {\n",
       "        vertical-align: middle;\n",
       "    }\n",
       "\n",
       "    .dataframe tbody tr th {\n",
       "        vertical-align: top;\n",
       "    }\n",
       "\n",
       "    .dataframe thead tr th {\n",
       "        text-align: left;\n",
       "    }\n",
       "\n",
       "    .dataframe thead tr:last-of-type th {\n",
       "        text-align: right;\n",
       "    }\n",
       "</style>\n",
       "<table border=\"1\" class=\"dataframe\">\n",
       "  <thead>\n",
       "    <tr>\n",
       "      <th></th>\n",
       "      <th>PR_OCU</th>\n",
       "    </tr>\n",
       "    <tr>\n",
       "      <th></th>\n",
       "      <th>unique</th>\n",
       "    </tr>\n",
       "    <tr>\n",
       "      <th>ha_trab_</th>\n",
       "      <th></th>\n",
       "    </tr>\n",
       "  </thead>\n",
       "  <tbody>\n",
       "    <tr>\n",
       "      <th>No</th>\n",
       "      <td>[  ]</td>\n",
       "    </tr>\n",
       "    <tr>\n",
       "      <th>Sí</th>\n",
       "      <td>[24, 22, 23, 31, 58, 27, 25, 95, 44, 43, 99, 55, 41, 45, 37, 21, 57, 51, 12, 26, 38, 28, 59, 35, 52, 93, 36, 33, 75, 54, 77, 13, 92, 11, 98, 81, 73, 34, 29, 14, 91, 56, 97, 53, 42, 15, 82, 94, 84, 32, 78, 61, 00, 96, 72, 64, 71, 62, 76, 74, 83]</td>\n",
       "    </tr>\n",
       "  </tbody>\n",
       "</table>\n",
       "</div>"
      ],
      "text/plain": [
       "                                                                                                                                                                                                                                                        PR_OCU\n",
       "                                                                                                                                                                                                                                                        unique\n",
       "ha_trab_                                                                                                                                                                                                                                                      \n",
       "No                                                                                                                                                                                                                                                        [  ]\n",
       "Sí        [24, 22, 23, 31, 58, 27, 25, 95, 44, 43, 99, 55, 41, 45, 37, 21, 57, 51, 12, 26, 38, 28, 59, 35, 52, 93, 36, 33, 75, 54, 77, 13, 92, 11, 98, 81, 73, 34, 29, 14, 91, 56, 97, 53, 42, 15, 82, 94, 84, 32, 78, 61, 00, 96, 72, 64, 71, 62, 76, 74, 83]"
      ]
     },
     "execution_count": 756,
     "metadata": {},
     "output_type": "execute_result"
    }
   ],
   "source": [
    "df[['PR_OCU','ha_trab_']].groupby('ha_trab_').agg(['unique']) # Inspección"
   ]
  },
  {
   "cell_type": "code",
   "execution_count": 757,
   "metadata": {},
   "outputs": [
    {
     "name": "stdout",
     "output_type": "stream",
     "text": [
      "[ 0. 11. 12. 13. 14. 15. 21. 22. 23. 24. 25. 26. 27. 28. 29. 31. 32. 33.\n",
      " 34. 35. 36. 37. 38. 41. 42. 43. 44. 45. 51. 52. 53. 54. 55. 56. 57. 58.\n",
      " 59. 61. 62. 64. 71. 72. 73. 74. 75. 76. 77. 78. 81. 82. 83. 84. 91. 92.\n",
      " 93. 94. 95. 96. 97. 98. nan]\n"
     ]
    }
   ],
   "source": [
    "no_respuesta('PR_OCU',blank='  ',nsnc='99')"
   ]
  },
  {
   "cell_type": "markdown",
   "metadata": {},
   "source": [
    "## 'PR_SIT_PR'  \n",
    "\n",
    "(Solo para quienes **declaran haber trabajado** después de haber terminado sus estudios -respuesta 1 en 'HA_TRAB' o 'ha_trab'-) \n",
    "\n",
    "**Situación profesional** en su **primer empleo**."
   ]
  },
  {
   "cell_type": "code",
   "execution_count": 758,
   "metadata": {},
   "outputs": [
    {
     "data": {
      "text/plain": [
       "array(['2', '3', '1', '5', '6', '4', ' '], dtype=object)"
      ]
     },
     "execution_count": 758,
     "metadata": {},
     "output_type": "execute_result"
    }
   ],
   "source": [
    "df['PR_SIT_PR'].unique() # No informados como ' '"
   ]
  },
  {
   "cell_type": "code",
   "execution_count": 759,
   "metadata": {},
   "outputs": [
    {
     "name": "stdout",
     "output_type": "stream",
     "text": [
      "                                                                                aux_traduce\n",
      "                                                                                     unique\n",
      "PR_SIT_PR                                                                                  \n",
      "                                                                             [No aplicable]\n",
      "1                 [Trabajador en prácticas, formación (incluido MIR, EIR, FIR,…) o becario]\n",
      "2          [Asalariado con trabajo permanente o contrato de trabajo de duración indefinida]\n",
      "3           [Asalariado con trabajo temporal o contrato de trabajo de duración determinada]\n",
      "4                                                              [Empresario con asalariados]\n",
      "5                                   [Trabajador independiente o empresario sin asalariados]\n",
      "6                                                  [Ayuda en la empresa o negocio familiar]\n"
     ]
    }
   ],
   "source": [
    "traduce('PR_SIT_PR')"
   ]
  },
  {
   "cell_type": "code",
   "execution_count": 760,
   "metadata": {},
   "outputs": [
    {
     "data": {
      "text/html": [
       "<div>\n",
       "<style scoped>\n",
       "    .dataframe tbody tr th:only-of-type {\n",
       "        vertical-align: middle;\n",
       "    }\n",
       "\n",
       "    .dataframe tbody tr th {\n",
       "        vertical-align: top;\n",
       "    }\n",
       "\n",
       "    .dataframe thead tr th {\n",
       "        text-align: left;\n",
       "    }\n",
       "\n",
       "    .dataframe thead tr:last-of-type th {\n",
       "        text-align: right;\n",
       "    }\n",
       "</style>\n",
       "<table border=\"1\" class=\"dataframe\">\n",
       "  <thead>\n",
       "    <tr>\n",
       "      <th></th>\n",
       "      <th>PR_SIT_PR_</th>\n",
       "    </tr>\n",
       "    <tr>\n",
       "      <th></th>\n",
       "      <th>unique</th>\n",
       "    </tr>\n",
       "    <tr>\n",
       "      <th>ha_trab_</th>\n",
       "      <th></th>\n",
       "    </tr>\n",
       "  </thead>\n",
       "  <tbody>\n",
       "    <tr>\n",
       "      <th>No</th>\n",
       "      <td>[No aplicable]</td>\n",
       "    </tr>\n",
       "    <tr>\n",
       "      <th>Sí</th>\n",
       "      <td>[Asalariado con trabajo permanente o contrato de trabajo de duración indefinida, Asalariado con trabajo temporal o contrato de trabajo de duración determinada, Trabajador en prácticas, formación (incluido MIR, EIR, FIR,…) o becario, Trabajador independiente o empresario sin asalariados, Ayuda en...</td>\n",
       "    </tr>\n",
       "  </tbody>\n",
       "</table>\n",
       "</div>"
      ],
      "text/plain": [
       "                                                                                                                                                                                                                                                                                                           PR_SIT_PR_\n",
       "                                                                                                                                                                                                                                                                                                               unique\n",
       "ha_trab_                                                                                                                                                                                                                                                                                                             \n",
       "No                                                                                                                                                                                                                                                                                                     [No aplicable]\n",
       "Sí        [Asalariado con trabajo permanente o contrato de trabajo de duración indefinida, Asalariado con trabajo temporal o contrato de trabajo de duración determinada, Trabajador en prácticas, formación (incluido MIR, EIR, FIR,…) o becario, Trabajador independiente o empresario sin asalariados, Ayuda en..."
      ]
     },
     "execution_count": 760,
     "metadata": {},
     "output_type": "execute_result"
    }
   ],
   "source": [
    "df[['PR_SIT_PR_','ha_trab_']].groupby('ha_trab_').agg(['unique']) # Inspección"
   ]
  },
  {
   "cell_type": "code",
   "execution_count": 761,
   "metadata": {},
   "outputs": [
    {
     "name": "stdout",
     "output_type": "stream",
     "text": [
      "[ 1.  2.  3.  4.  5.  6. nan]\n"
     ]
    }
   ],
   "source": [
    "no_respuesta('PR_SIT_PR')"
   ]
  },
  {
   "cell_type": "markdown",
   "metadata": {},
   "source": [
    "## 'PR_JOR'  \n",
    "\n",
    "(Solo para quienes **declaran haber trabajado** después de haber terminado sus estudios -respuesta 1 en 'HA_TRAB' o 'ha_trab'-) \n",
    "\n",
    "Tipo de **jornada de trabajo** en su **primer empleo**."
   ]
  },
  {
   "cell_type": "code",
   "execution_count": 762,
   "metadata": {},
   "outputs": [
    {
     "data": {
      "text/plain": [
       "array(['2', '1', ' '], dtype=object)"
      ]
     },
     "execution_count": 762,
     "metadata": {},
     "output_type": "execute_result"
    }
   ],
   "source": [
    "df['PR_JOR'].unique() # No informados como ' '"
   ]
  },
  {
   "cell_type": "code",
   "execution_count": 763,
   "metadata": {},
   "outputs": [
    {
     "name": "stdout",
     "output_type": "stream",
     "text": [
      "                aux_traduce\n",
      "                     unique\n",
      "PR_JOR                     \n",
      "                        [ ]\n",
      "1        [A tiempo parcial]\n",
      "2       [A tiempo completo]\n"
     ]
    }
   ],
   "source": [
    "traduce('PR_JOR')"
   ]
  },
  {
   "cell_type": "code",
   "execution_count": 764,
   "metadata": {},
   "outputs": [
    {
     "data": {
      "text/html": [
       "<div>\n",
       "<style scoped>\n",
       "    .dataframe tbody tr th:only-of-type {\n",
       "        vertical-align: middle;\n",
       "    }\n",
       "\n",
       "    .dataframe tbody tr th {\n",
       "        vertical-align: top;\n",
       "    }\n",
       "\n",
       "    .dataframe thead tr th {\n",
       "        text-align: left;\n",
       "    }\n",
       "\n",
       "    .dataframe thead tr:last-of-type th {\n",
       "        text-align: right;\n",
       "    }\n",
       "</style>\n",
       "<table border=\"1\" class=\"dataframe\">\n",
       "  <thead>\n",
       "    <tr>\n",
       "      <th></th>\n",
       "      <th>PR_JOR_</th>\n",
       "    </tr>\n",
       "    <tr>\n",
       "      <th></th>\n",
       "      <th>unique</th>\n",
       "    </tr>\n",
       "    <tr>\n",
       "      <th>ha_trab_</th>\n",
       "      <th></th>\n",
       "    </tr>\n",
       "  </thead>\n",
       "  <tbody>\n",
       "    <tr>\n",
       "      <th>No</th>\n",
       "      <td>[ ]</td>\n",
       "    </tr>\n",
       "    <tr>\n",
       "      <th>Sí</th>\n",
       "      <td>[A tiempo completo, A tiempo parcial]</td>\n",
       "    </tr>\n",
       "  </tbody>\n",
       "</table>\n",
       "</div>"
      ],
      "text/plain": [
       "                                        PR_JOR_\n",
       "                                         unique\n",
       "ha_trab_                                       \n",
       "No                                          [ ]\n",
       "Sí        [A tiempo completo, A tiempo parcial]"
      ]
     },
     "execution_count": 764,
     "metadata": {},
     "output_type": "execute_result"
    }
   ],
   "source": [
    "df[['PR_JOR_','ha_trab_']].groupby('ha_trab_').agg(['unique']) # Inspección"
   ]
  },
  {
   "cell_type": "code",
   "execution_count": 765,
   "metadata": {},
   "outputs": [
    {
     "name": "stdout",
     "output_type": "stream",
     "text": [
      "[ 1.  2. nan]\n"
     ]
    }
   ],
   "source": [
    "no_respuesta('PR_JOR')"
   ]
  },
  {
   "cell_type": "markdown",
   "metadata": {},
   "source": [
    "## 'PR_NIVEL'  \n",
    "\n",
    "(Solo para quienes **declaran haber trabajado** después de haber terminado sus estudios -respuesta 1 en 'HA_TRAB' o 'ha_trab'-) \n",
    "\n",
    "**Nivel de formación** más apropiado para su **primer empleo**."
   ]
  },
  {
   "cell_type": "code",
   "execution_count": 766,
   "metadata": {},
   "outputs": [
    {
     "data": {
      "text/plain": [
       "array(['3', '2', '4', '7', '5', '1', '6', ' ', '9'], dtype=object)"
      ]
     },
     "execution_count": 766,
     "metadata": {},
     "output_type": "execute_result"
    }
   ],
   "source": [
    "df['PR_NIVEL'].unique() # No informados como ' ' o '9'"
   ]
  },
  {
   "cell_type": "code",
   "execution_count": 767,
   "metadata": {},
   "outputs": [
    {
     "name": "stdout",
     "output_type": "stream",
     "text": [
      "                                                    aux_traduce\n",
      "                                                         unique\n",
      "PR_NIVEL                                                       \n",
      "                                                 [No aplicable]\n",
      "1                                                   [Doctorado]\n",
      "2                                                      [Máster]\n",
      "3           [Título universitario (excepto doctorado o máster)]\n",
      "4                     [Formación profesional de grado superior]\n",
      "5         [Formación profesional de grado medio/ bachillerato ]\n",
      "6                                [Formación profesional básica]\n",
      "7                                              [ESO, EGB, etc.]\n",
      "9                                                       [NS/NC]\n"
     ]
    }
   ],
   "source": [
    "traduce('PR_NIVEL')"
   ]
  },
  {
   "cell_type": "code",
   "execution_count": 768,
   "metadata": {},
   "outputs": [
    {
     "data": {
      "text/html": [
       "<div>\n",
       "<style scoped>\n",
       "    .dataframe tbody tr th:only-of-type {\n",
       "        vertical-align: middle;\n",
       "    }\n",
       "\n",
       "    .dataframe tbody tr th {\n",
       "        vertical-align: top;\n",
       "    }\n",
       "\n",
       "    .dataframe thead tr th {\n",
       "        text-align: left;\n",
       "    }\n",
       "\n",
       "    .dataframe thead tr:last-of-type th {\n",
       "        text-align: right;\n",
       "    }\n",
       "</style>\n",
       "<table border=\"1\" class=\"dataframe\">\n",
       "  <thead>\n",
       "    <tr>\n",
       "      <th></th>\n",
       "      <th></th>\n",
       "      <th>PR_NIVEL</th>\n",
       "    </tr>\n",
       "    <tr>\n",
       "      <th></th>\n",
       "      <th></th>\n",
       "      <th>unique</th>\n",
       "    </tr>\n",
       "    <tr>\n",
       "      <th>ha_trab_</th>\n",
       "      <th>sit_lab_</th>\n",
       "      <th></th>\n",
       "    </tr>\n",
       "  </thead>\n",
       "  <tbody>\n",
       "    <tr>\n",
       "      <th rowspan=\"2\" valign=\"top\">No</th>\n",
       "      <th>En desempleo</th>\n",
       "      <td>[ ]</td>\n",
       "    </tr>\n",
       "    <tr>\n",
       "      <th>Inactivo</th>\n",
       "      <td>[ ]</td>\n",
       "    </tr>\n",
       "    <tr>\n",
       "      <th rowspan=\"3\" valign=\"top\">Sí</th>\n",
       "      <th>En desempleo</th>\n",
       "      <td>[2, 3, 4, 7, 6, 5, 9, 1]</td>\n",
       "    </tr>\n",
       "    <tr>\n",
       "      <th>Inactivo</th>\n",
       "      <td>[7, 5, 2, 3, 4, 6, 1, 9]</td>\n",
       "    </tr>\n",
       "    <tr>\n",
       "      <th>Trabajando</th>\n",
       "      <td>[3, 2, 4, 7, 5, 1, 6, 9]</td>\n",
       "    </tr>\n",
       "  </tbody>\n",
       "</table>\n",
       "</div>"
      ],
      "text/plain": [
       "                                       PR_NIVEL\n",
       "                                         unique\n",
       "ha_trab_ sit_lab_                              \n",
       "No       En desempleo                       [ ]\n",
       "         Inactivo                           [ ]\n",
       "Sí       En desempleo  [2, 3, 4, 7, 6, 5, 9, 1]\n",
       "         Inactivo      [7, 5, 2, 3, 4, 6, 1, 9]\n",
       "         Trabajando    [3, 2, 4, 7, 5, 1, 6, 9]"
      ]
     },
     "execution_count": 768,
     "metadata": {},
     "output_type": "execute_result"
    }
   ],
   "source": [
    "df[['PR_NIVEL','ha_trab_','sit_lab_']].groupby(['ha_trab_','sit_lab_']).agg(['unique']) # Inspección"
   ]
  },
  {
   "cell_type": "code",
   "execution_count": 769,
   "metadata": {},
   "outputs": [
    {
     "name": "stdout",
     "output_type": "stream",
     "text": [
      "[ 1.  2.  3.  4.  5.  6.  7. nan]\n"
     ]
    }
   ],
   "source": [
    "no_respuesta('PR_NIVEL')"
   ]
  },
  {
   "cell_type": "markdown",
   "metadata": {},
   "source": [
    "## 'PR_AREA'  \n",
    "\n",
    "(Solo para quienes **declaran haber trabajado** después de haber terminado sus estudios -respuesta 1 en 'HA_TRAB' o 'ha_trab'-) \n",
    "\n",
    "**Área de estudio** más apropiada para su **primer empleo**."
   ]
  },
  {
   "cell_type": "code",
   "execution_count": 770,
   "metadata": {},
   "outputs": [
    {
     "data": {
      "text/plain": [
       "array(['2', '1', '3', '4', ' ', '9'], dtype=object)"
      ]
     },
     "execution_count": 770,
     "metadata": {},
     "output_type": "execute_result"
    }
   ],
   "source": [
    "df['PR_AREA'].unique() # No informados como ' ' o '9'"
   ]
  },
  {
   "cell_type": "code",
   "execution_count": 771,
   "metadata": {},
   "outputs": [
    {
     "name": "stdout",
     "output_type": "stream",
     "text": [
      "                                         aux_traduce\n",
      "                                              unique\n",
      "PR_AREA                                             \n",
      "                                     [No aplicable ]\n",
      "1        [Exclusivamente su propia área de estudios]\n",
      "2              [Su propia área o alguna relacionada]\n",
      "3                     [Un área totalmente diferente]\n",
      "4                        [Ningún área en particular]\n",
      "9                                            [NS/NC]\n"
     ]
    }
   ],
   "source": [
    "traduce('PR_AREA')"
   ]
  },
  {
   "cell_type": "code",
   "execution_count": 772,
   "metadata": {},
   "outputs": [
    {
     "data": {
      "text/html": [
       "<div>\n",
       "<style scoped>\n",
       "    .dataframe tbody tr th:only-of-type {\n",
       "        vertical-align: middle;\n",
       "    }\n",
       "\n",
       "    .dataframe tbody tr th {\n",
       "        vertical-align: top;\n",
       "    }\n",
       "\n",
       "    .dataframe thead tr th {\n",
       "        text-align: left;\n",
       "    }\n",
       "\n",
       "    .dataframe thead tr:last-of-type th {\n",
       "        text-align: right;\n",
       "    }\n",
       "</style>\n",
       "<table border=\"1\" class=\"dataframe\">\n",
       "  <thead>\n",
       "    <tr>\n",
       "      <th></th>\n",
       "      <th>PR_AREA_</th>\n",
       "    </tr>\n",
       "    <tr>\n",
       "      <th></th>\n",
       "      <th>unique</th>\n",
       "    </tr>\n",
       "    <tr>\n",
       "      <th>ha_trab_</th>\n",
       "      <th></th>\n",
       "    </tr>\n",
       "  </thead>\n",
       "  <tbody>\n",
       "    <tr>\n",
       "      <th>No</th>\n",
       "      <td>[No aplicable ]</td>\n",
       "    </tr>\n",
       "    <tr>\n",
       "      <th>Sí</th>\n",
       "      <td>[Su propia área o alguna relacionada, Exclusivamente su propia área de estudios, Un área totalmente diferente, Ningún área en particular, NS/NC]</td>\n",
       "    </tr>\n",
       "  </tbody>\n",
       "</table>\n",
       "</div>"
      ],
      "text/plain": [
       "                                                                                                                                                  PR_AREA_\n",
       "                                                                                                                                                    unique\n",
       "ha_trab_                                                                                                                                                  \n",
       "No                                                                                                                                         [No aplicable ]\n",
       "Sí        [Su propia área o alguna relacionada, Exclusivamente su propia área de estudios, Un área totalmente diferente, Ningún área en particular, NS/NC]"
      ]
     },
     "execution_count": 772,
     "metadata": {},
     "output_type": "execute_result"
    }
   ],
   "source": [
    "df[['PR_AREA_','ha_trab_']].groupby('ha_trab_').agg(['unique']) # Inspección"
   ]
  },
  {
   "cell_type": "code",
   "execution_count": 773,
   "metadata": {},
   "outputs": [
    {
     "name": "stdout",
     "output_type": "stream",
     "text": [
      "[ 1.  2.  3.  4. nan]\n"
     ]
    }
   ],
   "source": [
    "no_respuesta('PR_AREA')"
   ]
  },
  {
   "cell_type": "markdown",
   "metadata": {},
   "source": [
    "## 'PR_CONOC'  \n",
    "\n",
    "(Solo para quienes **declaran haber trabajado** después de haber terminado sus estudios -respuesta 1 en 'HA_TRAB' o 'ha_trab'-) \n",
    "\n",
    "¿Se hacía uso en su **primer empleo** de los **conocimientos y habilidades** adquiridos en estos estudios?"
   ]
  },
  {
   "cell_type": "code",
   "execution_count": 774,
   "metadata": {},
   "outputs": [
    {
     "data": {
      "text/plain": [
       "array(['2', '1', '9', ' '], dtype=object)"
      ]
     },
     "execution_count": 774,
     "metadata": {},
     "output_type": "execute_result"
    }
   ],
   "source": [
    "df['PR_CONOC'].unique() # No informados como ' ' o '9'"
   ]
  },
  {
   "cell_type": "code",
   "execution_count": 775,
   "metadata": {},
   "outputs": [
    {
     "name": "stdout",
     "output_type": "stream",
     "text": [
      "             aux_traduce\n",
      "                  unique\n",
      "PR_CONOC                \n",
      "          [No aplicable]\n",
      "1                   [Sí]\n",
      "2                   [No]\n",
      "9                [NS/NC]\n"
     ]
    }
   ],
   "source": [
    "traduce('PR_CONOC')"
   ]
  },
  {
   "cell_type": "code",
   "execution_count": 776,
   "metadata": {},
   "outputs": [
    {
     "data": {
      "text/html": [
       "<div>\n",
       "<style scoped>\n",
       "    .dataframe tbody tr th:only-of-type {\n",
       "        vertical-align: middle;\n",
       "    }\n",
       "\n",
       "    .dataframe tbody tr th {\n",
       "        vertical-align: top;\n",
       "    }\n",
       "\n",
       "    .dataframe thead tr th {\n",
       "        text-align: left;\n",
       "    }\n",
       "\n",
       "    .dataframe thead tr:last-of-type th {\n",
       "        text-align: right;\n",
       "    }\n",
       "</style>\n",
       "<table border=\"1\" class=\"dataframe\">\n",
       "  <thead>\n",
       "    <tr>\n",
       "      <th></th>\n",
       "      <th>PR_CONOC_</th>\n",
       "    </tr>\n",
       "    <tr>\n",
       "      <th></th>\n",
       "      <th>unique</th>\n",
       "    </tr>\n",
       "    <tr>\n",
       "      <th>ha_trab_</th>\n",
       "      <th></th>\n",
       "    </tr>\n",
       "  </thead>\n",
       "  <tbody>\n",
       "    <tr>\n",
       "      <th>No</th>\n",
       "      <td>[No aplicable]</td>\n",
       "    </tr>\n",
       "    <tr>\n",
       "      <th>Sí</th>\n",
       "      <td>[No, Sí, NS/NC]</td>\n",
       "    </tr>\n",
       "  </tbody>\n",
       "</table>\n",
       "</div>"
      ],
      "text/plain": [
       "                PR_CONOC_\n",
       "                   unique\n",
       "ha_trab_                 \n",
       "No         [No aplicable]\n",
       "Sí        [No, Sí, NS/NC]"
      ]
     },
     "execution_count": 776,
     "metadata": {},
     "output_type": "execute_result"
    }
   ],
   "source": [
    "df[['PR_CONOC_','ha_trab_']].groupby('ha_trab_').agg(['unique']) # Inspección"
   ]
  },
  {
   "cell_type": "code",
   "execution_count": 777,
   "metadata": {},
   "outputs": [
    {
     "name": "stdout",
     "output_type": "stream",
     "text": [
      "[ 1.  2. nan]\n"
     ]
    }
   ],
   "source": [
    "no_respuesta('PR_CONOC')"
   ]
  },
  {
   "cell_type": "markdown",
   "metadata": {},
   "source": [
    "## 'PR_SUELDO'  (redefinida como 'pr_sueldo')\n",
    "\n",
    "(Solo para quienes **declaran haber trabajado** después de haber terminado sus estudios -respuesta 1 en 'HA_TRAB' o 'ha_trab'-) \n",
    "\n",
    "**Sueldo mensual neto del primer trabajo** o de su empleo actual en el momento en el que empezó."
   ]
  },
  {
   "cell_type": "code",
   "execution_count": 778,
   "metadata": {},
   "outputs": [
    {
     "data": {
      "text/plain": [
       "array(['1', '5', '2', '3', '4', '9', '7', '6', ' '], dtype=object)"
      ]
     },
     "execution_count": 778,
     "metadata": {},
     "output_type": "execute_result"
    }
   ],
   "source": [
    "df['PR_SUELDO'].unique() # No informados como ' ' o '9'"
   ]
  },
  {
   "cell_type": "code",
   "execution_count": 779,
   "metadata": {},
   "outputs": [
    {
     "name": "stdout",
     "output_type": "stream",
     "text": [
      "                            aux_traduce\n",
      "                                 unique\n",
      "PR_SUELDO                              \n",
      "                         [No aplicable]\n",
      "1                  [Menos de 700 euros]\n",
      "2                  [De 700 a 999 euros]\n",
      "3              [De 1.000 a 1.499 euros]\n",
      "4              [De 1.500 a 1.999 euros]\n",
      "5              [De 2.000 a 2.499 euros]\n",
      "6              [De 2.500 a 2.999 euros]\n",
      "7          [De 3.000 euros en adelante]\n",
      "9                               [NS/NC]\n"
     ]
    }
   ],
   "source": [
    "traduce('PR_SUELDO')"
   ]
  },
  {
   "cell_type": "code",
   "execution_count": 780,
   "metadata": {},
   "outputs": [
    {
     "data": {
      "text/html": [
       "<div>\n",
       "<style scoped>\n",
       "    .dataframe tbody tr th:only-of-type {\n",
       "        vertical-align: middle;\n",
       "    }\n",
       "\n",
       "    .dataframe tbody tr th {\n",
       "        vertical-align: top;\n",
       "    }\n",
       "\n",
       "    .dataframe thead tr th {\n",
       "        text-align: left;\n",
       "    }\n",
       "\n",
       "    .dataframe thead tr:last-of-type th {\n",
       "        text-align: right;\n",
       "    }\n",
       "</style>\n",
       "<table border=\"1\" class=\"dataframe\">\n",
       "  <thead>\n",
       "    <tr>\n",
       "      <th></th>\n",
       "      <th>PR_SUELDO</th>\n",
       "    </tr>\n",
       "    <tr>\n",
       "      <th></th>\n",
       "      <th>unique</th>\n",
       "    </tr>\n",
       "    <tr>\n",
       "      <th>ha_trab_</th>\n",
       "      <th></th>\n",
       "    </tr>\n",
       "  </thead>\n",
       "  <tbody>\n",
       "    <tr>\n",
       "      <th>No</th>\n",
       "      <td>[ ]</td>\n",
       "    </tr>\n",
       "    <tr>\n",
       "      <th>Sí</th>\n",
       "      <td>[1, 5, 2, 3, 4, 9, 7, 6]</td>\n",
       "    </tr>\n",
       "  </tbody>\n",
       "</table>\n",
       "</div>"
      ],
      "text/plain": [
       "                         PR_SUELDO\n",
       "                            unique\n",
       "ha_trab_                          \n",
       "No                             [ ]\n",
       "Sí        [1, 5, 2, 3, 4, 9, 7, 6]"
      ]
     },
     "execution_count": 780,
     "metadata": {},
     "output_type": "execute_result"
    }
   ],
   "source": [
    "df[['PR_SUELDO','ha_trab_']].groupby('ha_trab_').agg(['unique']) # Inspección"
   ]
  },
  {
   "cell_type": "code",
   "execution_count": 781,
   "metadata": {},
   "outputs": [
    {
     "name": "stdout",
     "output_type": "stream",
     "text": [
      "[ 1.  2.  3.  4.  5.  6.  7. nan]\n"
     ]
    }
   ],
   "source": [
    "no_respuesta('PR_SUELDO')"
   ]
  },
  {
   "cell_type": "code",
   "execution_count": 782,
   "metadata": {},
   "outputs": [],
   "source": [
    "redefine('PR_SUELDO','pr_sueldo')"
   ]
  },
  {
   "cell_type": "markdown",
   "metadata": {},
   "source": [
    "## 'HATR_TIEMP'  \n",
    "\n",
    "(Solo para quienes **declaran haber trabajado** después de haber terminado sus estudios -respuesta 1 en 'HA_TRAB' o 'ha_trab'-) \n",
    "\n",
    "**Tiempo que ha estado trabajando** desde que terminó sus estudios. "
   ]
  },
  {
   "cell_type": "code",
   "execution_count": 783,
   "metadata": {},
   "outputs": [
    {
     "data": {
      "text/plain": [
       "array(['5', '4', '1', '3', '2', ' ', '9'], dtype=object)"
      ]
     },
     "execution_count": 783,
     "metadata": {},
     "output_type": "execute_result"
    }
   ],
   "source": [
    "df['HATR_TIEMP'].unique() # No informados como ' ' o '9'"
   ]
  },
  {
   "cell_type": "code",
   "execution_count": 784,
   "metadata": {},
   "outputs": [
    {
     "name": "stdout",
     "output_type": "stream",
     "text": [
      "                            aux_traduce\n",
      "                                 unique\n",
      "HATR_TIEMP                             \n",
      "                         [No aplicable]\n",
      "1                    [Menos de 6 meses]\n",
      "2                  [De 6 meses a 1 año]\n",
      "3              [De 1 año a año y medio]\n",
      "4           [De 1 año y medio a 2 años]\n",
      "5                        [2 o más años]\n",
      "9                               [NS/NC]\n"
     ]
    }
   ],
   "source": [
    "traduce('HATR_TIEMP')"
   ]
  },
  {
   "cell_type": "code",
   "execution_count": 785,
   "metadata": {},
   "outputs": [
    {
     "data": {
      "text/html": [
       "<div>\n",
       "<style scoped>\n",
       "    .dataframe tbody tr th:only-of-type {\n",
       "        vertical-align: middle;\n",
       "    }\n",
       "\n",
       "    .dataframe tbody tr th {\n",
       "        vertical-align: top;\n",
       "    }\n",
       "\n",
       "    .dataframe thead tr th {\n",
       "        text-align: left;\n",
       "    }\n",
       "\n",
       "    .dataframe thead tr:last-of-type th {\n",
       "        text-align: right;\n",
       "    }\n",
       "</style>\n",
       "<table border=\"1\" class=\"dataframe\">\n",
       "  <thead>\n",
       "    <tr>\n",
       "      <th></th>\n",
       "      <th>HATR_TIEMP</th>\n",
       "    </tr>\n",
       "    <tr>\n",
       "      <th></th>\n",
       "      <th>unique</th>\n",
       "    </tr>\n",
       "    <tr>\n",
       "      <th>ha_trab_</th>\n",
       "      <th></th>\n",
       "    </tr>\n",
       "  </thead>\n",
       "  <tbody>\n",
       "    <tr>\n",
       "      <th>No</th>\n",
       "      <td>[ ]</td>\n",
       "    </tr>\n",
       "    <tr>\n",
       "      <th>Sí</th>\n",
       "      <td>[5, 4, 1, 3, 2, 9]</td>\n",
       "    </tr>\n",
       "  </tbody>\n",
       "</table>\n",
       "</div>"
      ],
      "text/plain": [
       "                  HATR_TIEMP\n",
       "                      unique\n",
       "ha_trab_                    \n",
       "No                       [ ]\n",
       "Sí        [5, 4, 1, 3, 2, 9]"
      ]
     },
     "execution_count": 785,
     "metadata": {},
     "output_type": "execute_result"
    }
   ],
   "source": [
    "df[['HATR_TIEMP','ha_trab_']].groupby('ha_trab_').agg(['unique']) # Inspección"
   ]
  },
  {
   "cell_type": "code",
   "execution_count": 786,
   "metadata": {},
   "outputs": [
    {
     "name": "stdout",
     "output_type": "stream",
     "text": [
      "[ 1.  2.  3.  4.  5. nan]\n"
     ]
    }
   ],
   "source": [
    "no_respuesta('HATR_TIEMP')"
   ]
  },
  {
   "cell_type": "markdown",
   "metadata": {},
   "source": [
    "## 'HATR_NUM'  \n",
    "\n",
    "(Solo para quienes **declaran haber trabajado** después de haber terminado sus estudios -respuesta 1 en 'HA_TRAB' o 'ha_trab'-) \n",
    "\n",
    "**Número de empleadores distintos** que ha tenido."
   ]
  },
  {
   "cell_type": "code",
   "execution_count": 787,
   "metadata": {},
   "outputs": [
    {
     "data": {
      "text/plain": [
       "array(['02', '04', '03', '01', '05', '08', '06', '09', '00', '07', '  ',\n",
       "       '10', '11', '99'], dtype=object)"
      ]
     },
     "execution_count": 787,
     "metadata": {},
     "output_type": "execute_result"
    }
   ],
   "source": [
    "df['HATR_NUM'].unique() # No informados como '  ' o '99'"
   ]
  },
  {
   "cell_type": "code",
   "execution_count": 788,
   "metadata": {},
   "outputs": [
    {
     "name": "stdout",
     "output_type": "stream",
     "text": [
      "[ 0.  1.  2.  3.  4.  5.  6.  7.  8.  9. 10. 11. nan]\n",
      "         aux_traduce\n",
      "              unique\n",
      "HATR_NUM            \n",
      "0.0            [0.0]\n",
      "1.0            [1.0]\n",
      "2.0            [2.0]\n",
      "3.0            [3.0]\n",
      "4.0            [4.0]\n",
      "5.0            [5.0]\n",
      "6.0            [6.0]\n",
      "7.0            [7.0]\n",
      "8.0            [8.0]\n",
      "9.0            [9.0]\n",
      "10.0          [10.0]\n",
      "11.0      [11 o más]\n"
     ]
    }
   ],
   "source": [
    "no_respuesta('HATR_NUM',blank='  ',nsnc='99')\n",
    "traduce('HATR_NUM')"
   ]
  },
  {
   "cell_type": "code",
   "execution_count": 789,
   "metadata": {},
   "outputs": [
    {
     "data": {
      "text/html": [
       "<div>\n",
       "<style scoped>\n",
       "    .dataframe tbody tr th:only-of-type {\n",
       "        vertical-align: middle;\n",
       "    }\n",
       "\n",
       "    .dataframe tbody tr th {\n",
       "        vertical-align: top;\n",
       "    }\n",
       "\n",
       "    .dataframe thead tr th {\n",
       "        text-align: left;\n",
       "    }\n",
       "\n",
       "    .dataframe thead tr:last-of-type th {\n",
       "        text-align: right;\n",
       "    }\n",
       "</style>\n",
       "<table border=\"1\" class=\"dataframe\">\n",
       "  <thead>\n",
       "    <tr>\n",
       "      <th></th>\n",
       "      <th>HATR_NUM</th>\n",
       "    </tr>\n",
       "    <tr>\n",
       "      <th></th>\n",
       "      <th>unique</th>\n",
       "    </tr>\n",
       "    <tr>\n",
       "      <th>ha_trab_</th>\n",
       "      <th></th>\n",
       "    </tr>\n",
       "  </thead>\n",
       "  <tbody>\n",
       "    <tr>\n",
       "      <th>No</th>\n",
       "      <td>[nan]</td>\n",
       "    </tr>\n",
       "    <tr>\n",
       "      <th>Sí</th>\n",
       "      <td>[2.0, 4.0, 3.0, 1.0, 5.0, 8.0, 6.0, 9.0, 0.0, 7.0, 10.0, 11.0, nan]</td>\n",
       "    </tr>\n",
       "  </tbody>\n",
       "</table>\n",
       "</div>"
      ],
      "text/plain": [
       "                                                                     HATR_NUM\n",
       "                                                                       unique\n",
       "ha_trab_                                                                     \n",
       "No                                                                      [nan]\n",
       "Sí        [2.0, 4.0, 3.0, 1.0, 5.0, 8.0, 6.0, 9.0, 0.0, 7.0, 10.0, 11.0, nan]"
      ]
     },
     "execution_count": 789,
     "metadata": {},
     "output_type": "execute_result"
    }
   ],
   "source": [
    "df[['HATR_NUM','ha_trab_']].groupby('ha_trab_').agg(['unique']) # Inspección"
   ]
  },
  {
   "cell_type": "markdown",
   "metadata": {},
   "source": [
    "## 'HATR_E27'  (redefinida como 'utilidad')\n",
    "\n",
    "(Solo para quienes **declaran haber trabajado** después de haber terminado sus estudios -respuesta 1 en 'HA_TRAB' o 'ha_trab'-) \n",
    "\n",
    "¿Cree que el título universitario le ha servido para encontrar trabajo?"
   ]
  },
  {
   "cell_type": "code",
   "execution_count": 790,
   "metadata": {},
   "outputs": [
    {
     "data": {
      "text/plain": [
       "array(['1', '2', ' ', '9'], dtype=object)"
      ]
     },
     "execution_count": 790,
     "metadata": {},
     "output_type": "execute_result"
    }
   ],
   "source": [
    "df['HATR_E27'].unique() # No informados como ' ' o '9'"
   ]
  },
  {
   "cell_type": "code",
   "execution_count": 791,
   "metadata": {},
   "outputs": [
    {
     "name": "stdout",
     "output_type": "stream",
     "text": [
      "             aux_traduce\n",
      "                  unique\n",
      "HATR_E27                \n",
      "          [No aplicable]\n",
      "1                   [Sí]\n",
      "2                   [No]\n",
      "9                [NS/NC]\n"
     ]
    }
   ],
   "source": [
    "traduce('HATR_E27')"
   ]
  },
  {
   "cell_type": "code",
   "execution_count": 792,
   "metadata": {},
   "outputs": [
    {
     "data": {
      "text/html": [
       "<div>\n",
       "<style scoped>\n",
       "    .dataframe tbody tr th:only-of-type {\n",
       "        vertical-align: middle;\n",
       "    }\n",
       "\n",
       "    .dataframe tbody tr th {\n",
       "        vertical-align: top;\n",
       "    }\n",
       "\n",
       "    .dataframe thead tr th {\n",
       "        text-align: left;\n",
       "    }\n",
       "\n",
       "    .dataframe thead tr:last-of-type th {\n",
       "        text-align: right;\n",
       "    }\n",
       "</style>\n",
       "<table border=\"1\" class=\"dataframe\">\n",
       "  <thead>\n",
       "    <tr>\n",
       "      <th></th>\n",
       "      <th>HATR_E27_</th>\n",
       "    </tr>\n",
       "    <tr>\n",
       "      <th></th>\n",
       "      <th>unique</th>\n",
       "    </tr>\n",
       "    <tr>\n",
       "      <th>ha_trab_</th>\n",
       "      <th></th>\n",
       "    </tr>\n",
       "  </thead>\n",
       "  <tbody>\n",
       "    <tr>\n",
       "      <th>No</th>\n",
       "      <td>[No aplicable]</td>\n",
       "    </tr>\n",
       "    <tr>\n",
       "      <th>Sí</th>\n",
       "      <td>[Sí, No, NS/NC]</td>\n",
       "    </tr>\n",
       "  </tbody>\n",
       "</table>\n",
       "</div>"
      ],
      "text/plain": [
       "                HATR_E27_\n",
       "                   unique\n",
       "ha_trab_                 \n",
       "No         [No aplicable]\n",
       "Sí        [Sí, No, NS/NC]"
      ]
     },
     "execution_count": 792,
     "metadata": {},
     "output_type": "execute_result"
    }
   ],
   "source": [
    "df[['HATR_E27_','ha_trab_']].groupby('ha_trab_').agg(['unique']) # Inspección"
   ]
  },
  {
   "cell_type": "code",
   "execution_count": 793,
   "metadata": {},
   "outputs": [
    {
     "name": "stdout",
     "output_type": "stream",
     "text": [
      "[ 1.  2. nan]\n"
     ]
    }
   ],
   "source": [
    "no_respuesta('HATR_E27')"
   ]
  },
  {
   "cell_type": "code",
   "execution_count": 794,
   "metadata": {},
   "outputs": [
    {
     "name": "stdout",
     "output_type": "stream",
     "text": [
      "         aux_traduce\n",
      "              unique\n",
      "utilidad            \n",
      "0.0             [No]\n",
      "1.0             [Sí]\n"
     ]
    }
   ],
   "source": [
    "redefine('HATR_E27','utilidad',si_no=True)"
   ]
  },
  {
   "cell_type": "code",
   "execution_count": 795,
   "metadata": {},
   "outputs": [
    {
     "data": {
      "text/html": [
       "<div>\n",
       "<style scoped>\n",
       "    .dataframe tbody tr th:only-of-type {\n",
       "        vertical-align: middle;\n",
       "    }\n",
       "\n",
       "    .dataframe tbody tr th {\n",
       "        vertical-align: top;\n",
       "    }\n",
       "\n",
       "    .dataframe thead th {\n",
       "        text-align: right;\n",
       "    }\n",
       "</style>\n",
       "<table border=\"1\" class=\"dataframe\">\n",
       "  <thead>\n",
       "    <tr style=\"text-align: right;\">\n",
       "      <th></th>\n",
       "      <th>utilidad_</th>\n",
       "    </tr>\n",
       "  </thead>\n",
       "  <tbody>\n",
       "    <tr>\n",
       "      <th>Sí</th>\n",
       "      <td>0.540625</td>\n",
       "    </tr>\n",
       "    <tr>\n",
       "      <th>No</th>\n",
       "      <td>0.441000</td>\n",
       "    </tr>\n",
       "    <tr>\n",
       "      <th>NaN</th>\n",
       "      <td>0.018375</td>\n",
       "    </tr>\n",
       "  </tbody>\n",
       "</table>\n",
       "</div>"
      ],
      "text/plain": [
       "     utilidad_\n",
       "Sí    0.540625\n",
       "No    0.441000\n",
       "NaN   0.018375"
      ]
     },
     "execution_count": 795,
     "metadata": {},
     "output_type": "execute_result"
    }
   ],
   "source": [
    "proporciones('utilidad_')"
   ]
  },
  {
   "cell_type": "markdown",
   "metadata": {},
   "source": [
    "## 'NOTRAB_BUS'  (completa la variable 'busqueda_tr')\n",
    "\n",
    "(Solo para quienes **declaran no haber trabajado** después de haber terminado sus estudios -respuesta 2 en 'HA_TRAB' o 0 en 'ha_trab'-) \n",
    "\n",
    "¿**Ha buscado empleo** alguna vez?\n",
    "\n",
    "Nota: Se usa esta información para completar la recogida en la variable 'busqueda_tr'."
   ]
  },
  {
   "cell_type": "code",
   "execution_count": 796,
   "metadata": {},
   "outputs": [
    {
     "data": {
      "text/plain": [
       "array([' ', '2', '1', '9'], dtype=object)"
      ]
     },
     "execution_count": 796,
     "metadata": {},
     "output_type": "execute_result"
    }
   ],
   "source": [
    "df['NOTRAB_BUS'].unique() # No informados como ' ' o '9'"
   ]
  },
  {
   "cell_type": "code",
   "execution_count": 797,
   "metadata": {},
   "outputs": [
    {
     "name": "stdout",
     "output_type": "stream",
     "text": [
      "               aux_traduce\n",
      "                    unique\n",
      "NOTRAB_BUS                \n",
      "            [No aplicable]\n",
      "1                     [Sí]\n",
      "2                     [No]\n",
      "9                  [NS/NC]\n"
     ]
    }
   ],
   "source": [
    "traduce('NOTRAB_BUS')"
   ]
  },
  {
   "cell_type": "code",
   "execution_count": 798,
   "metadata": {},
   "outputs": [
    {
     "data": {
      "text/html": [
       "<div>\n",
       "<style scoped>\n",
       "    .dataframe tbody tr th:only-of-type {\n",
       "        vertical-align: middle;\n",
       "    }\n",
       "\n",
       "    .dataframe tbody tr th {\n",
       "        vertical-align: top;\n",
       "    }\n",
       "\n",
       "    .dataframe thead tr th {\n",
       "        text-align: left;\n",
       "    }\n",
       "\n",
       "    .dataframe thead tr:last-of-type th {\n",
       "        text-align: right;\n",
       "    }\n",
       "</style>\n",
       "<table border=\"1\" class=\"dataframe\">\n",
       "  <thead>\n",
       "    <tr>\n",
       "      <th></th>\n",
       "      <th>NOTRAB_BUS_</th>\n",
       "    </tr>\n",
       "    <tr>\n",
       "      <th></th>\n",
       "      <th>unique</th>\n",
       "    </tr>\n",
       "    <tr>\n",
       "      <th>ha_trab_</th>\n",
       "      <th></th>\n",
       "    </tr>\n",
       "  </thead>\n",
       "  <tbody>\n",
       "    <tr>\n",
       "      <th>No</th>\n",
       "      <td>[No, Sí, NS/NC]</td>\n",
       "    </tr>\n",
       "    <tr>\n",
       "      <th>Sí</th>\n",
       "      <td>[No aplicable]</td>\n",
       "    </tr>\n",
       "  </tbody>\n",
       "</table>\n",
       "</div>"
      ],
      "text/plain": [
       "              NOTRAB_BUS_\n",
       "                   unique\n",
       "ha_trab_                 \n",
       "No        [No, Sí, NS/NC]\n",
       "Sí         [No aplicable]"
      ]
     },
     "execution_count": 798,
     "metadata": {},
     "output_type": "execute_result"
    }
   ],
   "source": [
    "df[['NOTRAB_BUS_','ha_trab_']].groupby('ha_trab_').agg(['unique']) # Inspección"
   ]
  },
  {
   "cell_type": "code",
   "execution_count": 799,
   "metadata": {},
   "outputs": [
    {
     "data": {
      "text/html": [
       "<div>\n",
       "<style scoped>\n",
       "    .dataframe tbody tr th:only-of-type {\n",
       "        vertical-align: middle;\n",
       "    }\n",
       "\n",
       "    .dataframe tbody tr th {\n",
       "        vertical-align: top;\n",
       "    }\n",
       "\n",
       "    .dataframe thead tr th {\n",
       "        text-align: left;\n",
       "    }\n",
       "\n",
       "    .dataframe thead tr:last-of-type th {\n",
       "        text-align: right;\n",
       "    }\n",
       "</style>\n",
       "<table border=\"1\" class=\"dataframe\">\n",
       "  <thead>\n",
       "    <tr>\n",
       "      <th></th>\n",
       "      <th></th>\n",
       "      <th>NOTRAB_BUS_</th>\n",
       "    </tr>\n",
       "    <tr>\n",
       "      <th></th>\n",
       "      <th></th>\n",
       "      <th>unique</th>\n",
       "    </tr>\n",
       "    <tr>\n",
       "      <th>busqueda_tr_</th>\n",
       "      <th>sit_lab</th>\n",
       "      <th></th>\n",
       "    </tr>\n",
       "  </thead>\n",
       "  <tbody>\n",
       "    <tr>\n",
       "      <th>No</th>\n",
       "      <th>3.0</th>\n",
       "      <td>[No, No aplicable]</td>\n",
       "    </tr>\n",
       "    <tr>\n",
       "      <th>Sí</th>\n",
       "      <th>3.0</th>\n",
       "      <td>[No aplicable, Sí]</td>\n",
       "    </tr>\n",
       "    <tr>\n",
       "      <th>NaN</th>\n",
       "      <th>3.0</th>\n",
       "      <td>[NS/NC]</td>\n",
       "    </tr>\n",
       "  </tbody>\n",
       "</table>\n",
       "</div>"
      ],
      "text/plain": [
       "                             NOTRAB_BUS_\n",
       "                                  unique\n",
       "busqueda_tr_ sit_lab                    \n",
       "No           3.0      [No, No aplicable]\n",
       "Sí           3.0      [No aplicable, Sí]\n",
       "NaN          3.0                 [NS/NC]"
      ]
     },
     "execution_count": 799,
     "metadata": {},
     "output_type": "execute_result"
    }
   ],
   "source": [
    "df[['NOTRAB_BUS_','busqueda_tr_','sit_lab']][df['sit_lab']==3].groupby(['busqueda_tr_','sit_lab'],\n",
    "                                                                       dropna=False).agg(['unique'])\n",
    "# No contradice la información facilitada por desempleados en la variable 'TRINAC_D4' (recogida en 'busqueda_tr')"
   ]
  },
  {
   "cell_type": "code",
   "execution_count": 800,
   "metadata": {},
   "outputs": [
    {
     "data": {
      "text/html": [
       "<div>\n",
       "<style scoped>\n",
       "    .dataframe tbody tr th:only-of-type {\n",
       "        vertical-align: middle;\n",
       "    }\n",
       "\n",
       "    .dataframe tbody tr th {\n",
       "        vertical-align: top;\n",
       "    }\n",
       "\n",
       "    .dataframe thead tr th {\n",
       "        text-align: left;\n",
       "    }\n",
       "\n",
       "    .dataframe thead tr:last-of-type th {\n",
       "        text-align: right;\n",
       "    }\n",
       "</style>\n",
       "<table border=\"1\" class=\"dataframe\">\n",
       "  <thead>\n",
       "    <tr>\n",
       "      <th></th>\n",
       "      <th>NOTRAB_BUS_</th>\n",
       "    </tr>\n",
       "    <tr>\n",
       "      <th></th>\n",
       "      <th>unique</th>\n",
       "    </tr>\n",
       "    <tr>\n",
       "      <th>sit_lab_</th>\n",
       "      <th></th>\n",
       "    </tr>\n",
       "  </thead>\n",
       "  <tbody>\n",
       "    <tr>\n",
       "      <th>En desempleo</th>\n",
       "      <td>[No aplicable, Sí]</td>\n",
       "    </tr>\n",
       "    <tr>\n",
       "      <th>Inactivo</th>\n",
       "      <td>[No aplicable, No, Sí, NS/NC]</td>\n",
       "    </tr>\n",
       "    <tr>\n",
       "      <th>Trabajando</th>\n",
       "      <td>[No aplicable]</td>\n",
       "    </tr>\n",
       "  </tbody>\n",
       "</table>\n",
       "</div>"
      ],
      "text/plain": [
       "                                NOTRAB_BUS_\n",
       "                                     unique\n",
       "sit_lab_                                   \n",
       "En desempleo             [No aplicable, Sí]\n",
       "Inactivo      [No aplicable, No, Sí, NS/NC]\n",
       "Trabajando                   [No aplicable]"
      ]
     },
     "execution_count": 800,
     "metadata": {},
     "output_type": "execute_result"
    }
   ],
   "source": [
    "df[['NOTRAB_BUS_','sit_lab_']].groupby('sit_lab_',dropna=False).agg(['unique'])\n",
    "# Sin información para quienes han trabajado después de terminar los estudios (incluye todos los ocupados y ...\n",
    "# ... los desempleados que sí han trabajado)."
   ]
  },
  {
   "cell_type": "code",
   "execution_count": 801,
   "metadata": {},
   "outputs": [
    {
     "name": "stdout",
     "output_type": "stream",
     "text": [
      "[ 1.  2. nan]\n"
     ]
    }
   ],
   "source": [
    "no_respuesta('NOTRAB_BUS')"
   ]
  },
  {
   "cell_type": "code",
   "execution_count": 802,
   "metadata": {},
   "outputs": [
    {
     "name": "stdout",
     "output_type": "stream",
     "text": [
      "            aux_traduce\n",
      "                 unique\n",
      "busqueda_tr            \n",
      "0.0                [No]\n",
      "1.0                [Sí]\n"
     ]
    },
    {
     "data": {
      "text/plain": [
       "array([1.])"
      ]
     },
     "execution_count": 802,
     "metadata": {},
     "output_type": "execute_result"
    }
   ],
   "source": [
    "# Se usa esta información para actualizar la variable 'busqueda_tr':\n",
    "df['busqueda_tr'].mask(df['NOTRAB_BUS']==1,1,inplace=True)\n",
    "df['busqueda_tr'].mask(df['NOTRAB_BUS']==2,0,inplace=True)\n",
    "traduce('busqueda_tr')\n",
    "df['busqueda_tr'][df['NOTRAB_BUS']==1].unique() # Comprobación"
   ]
  },
  {
   "cell_type": "code",
   "execution_count": 803,
   "metadata": {},
   "outputs": [
    {
     "data": {
      "text/plain": [
       "array([0.])"
      ]
     },
     "execution_count": 803,
     "metadata": {},
     "output_type": "execute_result"
    }
   ],
   "source": [
    "df['busqueda_tr'][df['NOTRAB_BUS']==2].unique() # Comprobación "
   ]
  },
  {
   "cell_type": "markdown",
   "metadata": {},
   "source": [
    "## 'NOTRAB_BUSM'  \n",
    "\n",
    "(Solo para quienes **declaran haber buscado empleo** -respuesta 1 en 'NOTRAB_BUS'-. Implica que no han trabajado después de haber terminado los estudios) \n",
    "\n",
    "Momento en que empezó a buscar trabajo. "
   ]
  },
  {
   "cell_type": "code",
   "execution_count": 804,
   "metadata": {},
   "outputs": [
    {
     "data": {
      "text/plain": [
       "array([' ', '1', '2', '9'], dtype=object)"
      ]
     },
     "execution_count": 804,
     "metadata": {},
     "output_type": "execute_result"
    }
   ],
   "source": [
    "df['NOTRAB_BUSM'].unique()"
   ]
  },
  {
   "cell_type": "code",
   "execution_count": 805,
   "metadata": {},
   "outputs": [
    {
     "name": "stdout",
     "output_type": "stream",
     "text": [
      "                                                                        aux_traduce\n",
      "                                                                             unique\n",
      "NOTRAB_BUSM                                                                        \n",
      "                                                                     [No aplicable]\n",
      "1              [Antes de acabar los estudios de la titulación que finalizó en 2014]\n",
      "2            [Después de acabar los estudios de la titulación que finalizó en 2014]\n",
      "9                                                                           [NS/NC]\n"
     ]
    }
   ],
   "source": [
    "traduce('NOTRAB_BUSM')"
   ]
  },
  {
   "cell_type": "code",
   "execution_count": 806,
   "metadata": {},
   "outputs": [
    {
     "data": {
      "text/html": [
       "<div>\n",
       "<style scoped>\n",
       "    .dataframe tbody tr th:only-of-type {\n",
       "        vertical-align: middle;\n",
       "    }\n",
       "\n",
       "    .dataframe tbody tr th {\n",
       "        vertical-align: top;\n",
       "    }\n",
       "\n",
       "    .dataframe thead tr th {\n",
       "        text-align: left;\n",
       "    }\n",
       "\n",
       "    .dataframe thead tr:last-of-type th {\n",
       "        text-align: right;\n",
       "    }\n",
       "</style>\n",
       "<table border=\"1\" class=\"dataframe\">\n",
       "  <thead>\n",
       "    <tr>\n",
       "      <th></th>\n",
       "      <th></th>\n",
       "      <th>NOTRAB_BUSM_</th>\n",
       "    </tr>\n",
       "    <tr>\n",
       "      <th></th>\n",
       "      <th></th>\n",
       "      <th>unique</th>\n",
       "    </tr>\n",
       "    <tr>\n",
       "      <th>NOTRAB_BUS_</th>\n",
       "      <th>sit_lab_</th>\n",
       "      <th></th>\n",
       "    </tr>\n",
       "  </thead>\n",
       "  <tbody>\n",
       "    <tr>\n",
       "      <th>No</th>\n",
       "      <th>Inactivo</th>\n",
       "      <td>[No aplicable]</td>\n",
       "    </tr>\n",
       "    <tr>\n",
       "      <th rowspan=\"2\" valign=\"top\">Sí</th>\n",
       "      <th>En desempleo</th>\n",
       "      <td>[Después de acabar los estudios de la titulación que finalizó en 2014, Antes de acabar los estudios de la titulación que finalizó en 2014]</td>\n",
       "    </tr>\n",
       "    <tr>\n",
       "      <th>Inactivo</th>\n",
       "      <td>[Antes de acabar los estudios de la titulación que finalizó en 2014, Después de acabar los estudios de la titulación que finalizó en 2014, NS/NC]</td>\n",
       "    </tr>\n",
       "    <tr>\n",
       "      <th rowspan=\"3\" valign=\"top\">NaN</th>\n",
       "      <th>En desempleo</th>\n",
       "      <td>[No aplicable]</td>\n",
       "    </tr>\n",
       "    <tr>\n",
       "      <th>Inactivo</th>\n",
       "      <td>[No aplicable]</td>\n",
       "    </tr>\n",
       "    <tr>\n",
       "      <th>Trabajando</th>\n",
       "      <td>[No aplicable]</td>\n",
       "    </tr>\n",
       "  </tbody>\n",
       "</table>\n",
       "</div>"
      ],
      "text/plain": [
       "                                                                                                                                                               NOTRAB_BUSM_\n",
       "                                                                                                                                                                     unique\n",
       "NOTRAB_BUS_ sit_lab_                                                                                                                                                       \n",
       "No          Inactivo                                                                                                                                         [No aplicable]\n",
       "Sí          En desempleo         [Después de acabar los estudios de la titulación que finalizó en 2014, Antes de acabar los estudios de la titulación que finalizó en 2014]\n",
       "            Inactivo      [Antes de acabar los estudios de la titulación que finalizó en 2014, Después de acabar los estudios de la titulación que finalizó en 2014, NS/NC]\n",
       "NaN         En desempleo                                                                                                                                     [No aplicable]\n",
       "            Inactivo                                                                                                                                         [No aplicable]\n",
       "            Trabajando                                                                                                                                       [No aplicable]"
      ]
     },
     "execution_count": 806,
     "metadata": {},
     "output_type": "execute_result"
    }
   ],
   "source": [
    "df[['NOTRAB_BUSM_','NOTRAB_BUS_','sit_lab_']].groupby(['NOTRAB_BUS_','sit_lab_'],\n",
    "                                                      dropna=False).agg(['unique']) # Inspección\n",
    "# Sin información para quienes declaran haber trabajado después de terminar sus estudios."
   ]
  },
  {
   "cell_type": "code",
   "execution_count": 807,
   "metadata": {},
   "outputs": [
    {
     "name": "stdout",
     "output_type": "stream",
     "text": [
      "[ 1.  2. nan]\n"
     ]
    }
   ],
   "source": [
    "no_respuesta('NOTRAB_BUSM')"
   ]
  },
  {
   "cell_type": "markdown",
   "metadata": {},
   "source": [
    "## 'NOTRAB_BUST'  \n",
    "\n",
    "(Solo para quienes **declaran haber buscado empleo** -respuesta 1 en 'NOTRAB_BUS'-. Implica que no han trabajado después de terminar los estudios) \n",
    "\n",
    "**Tiempo que lleva buscando trabajo**. "
   ]
  },
  {
   "cell_type": "code",
   "execution_count": 808,
   "metadata": {},
   "outputs": [
    {
     "data": {
      "text/plain": [
       "array([' ', '3', '6', '1', '2', '5', '4', '9'], dtype=object)"
      ]
     },
     "execution_count": 808,
     "metadata": {},
     "output_type": "execute_result"
    }
   ],
   "source": [
    "df['NOTRAB_BUST'].unique() # No informados como ' ' o '9'"
   ]
  },
  {
   "cell_type": "code",
   "execution_count": 809,
   "metadata": {},
   "outputs": [
    {
     "name": "stdout",
     "output_type": "stream",
     "text": [
      "                               aux_traduce\n",
      "                                    unique\n",
      "NOTRAB_BUST                               \n",
      "                            [No aplicable]\n",
      "1                    [Menos de tres meses]\n",
      "2                         [De 3 a 6 meses]\n",
      "3                     [De 6 meses a 1 año]\n",
      "4               [De 1 año a año y medio  ]\n",
      "5            [De 1 año y medio a  2 años ]\n",
      "6                           [2 ó más años]\n",
      "9                                  [NS/NC]\n"
     ]
    }
   ],
   "source": [
    "traduce('NOTRAB_BUST')"
   ]
  },
  {
   "cell_type": "code",
   "execution_count": 810,
   "metadata": {},
   "outputs": [
    {
     "data": {
      "text/html": [
       "<div>\n",
       "<style scoped>\n",
       "    .dataframe tbody tr th:only-of-type {\n",
       "        vertical-align: middle;\n",
       "    }\n",
       "\n",
       "    .dataframe tbody tr th {\n",
       "        vertical-align: top;\n",
       "    }\n",
       "\n",
       "    .dataframe thead tr th {\n",
       "        text-align: left;\n",
       "    }\n",
       "\n",
       "    .dataframe thead tr:last-of-type th {\n",
       "        text-align: right;\n",
       "    }\n",
       "</style>\n",
       "<table border=\"1\" class=\"dataframe\">\n",
       "  <thead>\n",
       "    <tr>\n",
       "      <th></th>\n",
       "      <th></th>\n",
       "      <th>NOTRAB_BUST_</th>\n",
       "    </tr>\n",
       "    <tr>\n",
       "      <th></th>\n",
       "      <th></th>\n",
       "      <th>unique</th>\n",
       "    </tr>\n",
       "    <tr>\n",
       "      <th>NOTRAB_BUS_</th>\n",
       "      <th>sit_lab_</th>\n",
       "      <th></th>\n",
       "    </tr>\n",
       "  </thead>\n",
       "  <tbody>\n",
       "    <tr>\n",
       "      <th>No</th>\n",
       "      <th>Inactivo</th>\n",
       "      <td>[No aplicable]</td>\n",
       "    </tr>\n",
       "    <tr>\n",
       "      <th rowspan=\"2\" valign=\"top\">Sí</th>\n",
       "      <th>En desempleo</th>\n",
       "      <td>[2 ó más años, De 3 a 6 meses, De 1 año y medio a  2 años , Menos de tres meses, De 1 año a año y medio  , NS/NC, De 6 meses a 1 año]</td>\n",
       "    </tr>\n",
       "    <tr>\n",
       "      <th>Inactivo</th>\n",
       "      <td>[De 6 meses a 1 año, 2 ó más años, Menos de tres meses, De 3 a 6 meses, De 1 año y medio a  2 años , De 1 año a año y medio  , NS/NC]</td>\n",
       "    </tr>\n",
       "    <tr>\n",
       "      <th rowspan=\"3\" valign=\"top\">NaN</th>\n",
       "      <th>En desempleo</th>\n",
       "      <td>[No aplicable]</td>\n",
       "    </tr>\n",
       "    <tr>\n",
       "      <th>Inactivo</th>\n",
       "      <td>[No aplicable]</td>\n",
       "    </tr>\n",
       "    <tr>\n",
       "      <th>Trabajando</th>\n",
       "      <td>[No aplicable]</td>\n",
       "    </tr>\n",
       "  </tbody>\n",
       "</table>\n",
       "</div>"
      ],
      "text/plain": [
       "                                                                                                                                                   NOTRAB_BUST_\n",
       "                                                                                                                                                         unique\n",
       "NOTRAB_BUS_ sit_lab_                                                                                                                                           \n",
       "No          Inactivo                                                                                                                             [No aplicable]\n",
       "Sí          En desempleo  [2 ó más años, De 3 a 6 meses, De 1 año y medio a  2 años , Menos de tres meses, De 1 año a año y medio  , NS/NC, De 6 meses a 1 año]\n",
       "            Inactivo      [De 6 meses a 1 año, 2 ó más años, Menos de tres meses, De 3 a 6 meses, De 1 año y medio a  2 años , De 1 año a año y medio  , NS/NC]\n",
       "NaN         En desempleo                                                                                                                         [No aplicable]\n",
       "            Inactivo                                                                                                                             [No aplicable]\n",
       "            Trabajando                                                                                                                           [No aplicable]"
      ]
     },
     "execution_count": 810,
     "metadata": {},
     "output_type": "execute_result"
    }
   ],
   "source": [
    "df[['NOTRAB_BUST_','NOTRAB_BUS_','sit_lab_']].groupby(['NOTRAB_BUS_','sit_lab_'],\n",
    "                                                      dropna=False).agg(['unique']) # Inspección"
   ]
  },
  {
   "cell_type": "code",
   "execution_count": 811,
   "metadata": {},
   "outputs": [
    {
     "name": "stdout",
     "output_type": "stream",
     "text": [
      "[ 1.  2.  3.  4.  5.  6. nan]\n"
     ]
    }
   ],
   "source": [
    "no_respuesta('NOTRAB_BUST')"
   ]
  },
  {
   "cell_type": "markdown",
   "metadata": {},
   "source": [
    "## 'NOTRAB_BSQ1'  (completa la información de la variable 'btr_internet')\n",
    "\n",
    "(Solo para quienes **declaran haber buscado empleo** -respuesta 1 en 'NOTRAB_BUS'-. Implica que no han trabajado después de terminar los estudios) \n",
    "\n",
    "¿Ha buscado trabajo a través de anuncios en periódicos, **internet**, etc.?\n",
    "\n",
    "Nota: 'NOTRAB_BSQ1' recoge la misma información que la variable 'TRPARA_D7_1' definida para desempleados (redefinida como 'btr_internet'). 'NOTRAB_BSQ1' está definida para quienes no han trabajado y sí han buscado empleo. Esto incluye algunos desempleados. Se ha comprobado que la información de estas dos variables no es contradictoria. "
   ]
  },
  {
   "cell_type": "code",
   "execution_count": 812,
   "metadata": {},
   "outputs": [
    {
     "data": {
      "text/plain": [
       "array([' ', '1', '2'], dtype=object)"
      ]
     },
     "execution_count": 812,
     "metadata": {},
     "output_type": "execute_result"
    }
   ],
   "source": [
    "df['NOTRAB_BSQ1'].unique() # No informados como ' '"
   ]
  },
  {
   "cell_type": "code",
   "execution_count": 813,
   "metadata": {},
   "outputs": [
    {
     "name": "stdout",
     "output_type": "stream",
     "text": [
      "                aux_traduce\n",
      "                     unique\n",
      "NOTRAB_BSQ1                \n",
      "             [No aplicable]\n",
      "1                      [Sí]\n",
      "2                      [No]\n"
     ]
    }
   ],
   "source": [
    "traduce('NOTRAB_BSQ1')"
   ]
  },
  {
   "cell_type": "code",
   "execution_count": 814,
   "metadata": {},
   "outputs": [
    {
     "data": {
      "text/html": [
       "<div>\n",
       "<style scoped>\n",
       "    .dataframe tbody tr th:only-of-type {\n",
       "        vertical-align: middle;\n",
       "    }\n",
       "\n",
       "    .dataframe tbody tr th {\n",
       "        vertical-align: top;\n",
       "    }\n",
       "\n",
       "    .dataframe thead tr th {\n",
       "        text-align: left;\n",
       "    }\n",
       "\n",
       "    .dataframe thead tr:last-of-type th {\n",
       "        text-align: right;\n",
       "    }\n",
       "</style>\n",
       "<table border=\"1\" class=\"dataframe\">\n",
       "  <thead>\n",
       "    <tr>\n",
       "      <th></th>\n",
       "      <th>NOTRAB_BSQ1_</th>\n",
       "      <th>ha_trab_</th>\n",
       "    </tr>\n",
       "    <tr>\n",
       "      <th></th>\n",
       "      <th>unique</th>\n",
       "      <th>unique</th>\n",
       "    </tr>\n",
       "    <tr>\n",
       "      <th>NOTRAB_BUS_</th>\n",
       "      <th></th>\n",
       "      <th></th>\n",
       "    </tr>\n",
       "  </thead>\n",
       "  <tbody>\n",
       "    <tr>\n",
       "      <th>No</th>\n",
       "      <td>[No aplicable]</td>\n",
       "      <td>[No]</td>\n",
       "    </tr>\n",
       "    <tr>\n",
       "      <th>Sí</th>\n",
       "      <td>[Sí, No]</td>\n",
       "      <td>[No]</td>\n",
       "    </tr>\n",
       "    <tr>\n",
       "      <th>NaN</th>\n",
       "      <td>[No aplicable]</td>\n",
       "      <td>[Sí, No]</td>\n",
       "    </tr>\n",
       "  </tbody>\n",
       "</table>\n",
       "</div>"
      ],
      "text/plain": [
       "               NOTRAB_BSQ1_  ha_trab_\n",
       "                     unique    unique\n",
       "NOTRAB_BUS_                          \n",
       "No           [No aplicable]      [No]\n",
       "Sí                 [Sí, No]      [No]\n",
       "NaN          [No aplicable]  [Sí, No]"
      ]
     },
     "execution_count": 814,
     "metadata": {},
     "output_type": "execute_result"
    }
   ],
   "source": [
    "df[['NOTRAB_BSQ1_','NOTRAB_BUS_','ha_trab_']].groupby('NOTRAB_BUS_',dropna=False).agg(['unique']) # Inspección\n",
    "# Solo se ha preguntado a quienes declaran no haber trabajado después de terminar sus estudios y haber ...\n",
    "# ... buscado empleo. "
   ]
  },
  {
   "cell_type": "code",
   "execution_count": 815,
   "metadata": {},
   "outputs": [
    {
     "data": {
      "text/html": [
       "<div>\n",
       "<style scoped>\n",
       "    .dataframe tbody tr th:only-of-type {\n",
       "        vertical-align: middle;\n",
       "    }\n",
       "\n",
       "    .dataframe tbody tr th {\n",
       "        vertical-align: top;\n",
       "    }\n",
       "\n",
       "    .dataframe thead tr th {\n",
       "        text-align: left;\n",
       "    }\n",
       "\n",
       "    .dataframe thead tr:last-of-type th {\n",
       "        text-align: right;\n",
       "    }\n",
       "</style>\n",
       "<table border=\"1\" class=\"dataframe\">\n",
       "  <thead>\n",
       "    <tr>\n",
       "      <th></th>\n",
       "      <th></th>\n",
       "      <th>btr_internet_</th>\n",
       "    </tr>\n",
       "    <tr>\n",
       "      <th></th>\n",
       "      <th></th>\n",
       "      <th>unique</th>\n",
       "    </tr>\n",
       "    <tr>\n",
       "      <th>NOTRAB_BSQ1</th>\n",
       "      <th>sit_lab_</th>\n",
       "      <th></th>\n",
       "    </tr>\n",
       "  </thead>\n",
       "  <tbody>\n",
       "    <tr>\n",
       "      <th></th>\n",
       "      <th>En desempleo</th>\n",
       "      <td>[No, Sí, nan]</td>\n",
       "    </tr>\n",
       "    <tr>\n",
       "      <th>1</th>\n",
       "      <th>En desempleo</th>\n",
       "      <td>[Sí]</td>\n",
       "    </tr>\n",
       "    <tr>\n",
       "      <th>2</th>\n",
       "      <th>En desempleo</th>\n",
       "      <td>[No]</td>\n",
       "    </tr>\n",
       "  </tbody>\n",
       "</table>\n",
       "</div>"
      ],
      "text/plain": [
       "                          btr_internet_\n",
       "                                 unique\n",
       "NOTRAB_BSQ1 sit_lab_                   \n",
       "            En desempleo  [No, Sí, nan]\n",
       "1           En desempleo           [Sí]\n",
       "2           En desempleo           [No]"
      ]
     },
     "execution_count": 815,
     "metadata": {},
     "output_type": "execute_result"
    }
   ],
   "source": [
    "df[['NOTRAB_BSQ1','btr_internet_','sit_lab_']][df['sit_lab']==2].groupby(['NOTRAB_BSQ1','sit_lab_'],\n",
    "                                                                         dropna=False).agg(['unique']) \n",
    "# No contradice lo declarado por los desempleados en la variable 'TRPARA_D7_1' (redefinida como 'btr_internet')"
   ]
  },
  {
   "cell_type": "code",
   "execution_count": 816,
   "metadata": {},
   "outputs": [],
   "source": [
    "def actualiza_btr(col,btr):\n",
    "    \"\"\" Actualiza las variables con prefijo btr_ definidas para las distintas estrategias de búsqueda de empleo, \n",
    "    añadiendo las respuestas declaradas por quienes no han trabajado y sí han buscado empleo.\n",
    "    \"\"\"\n",
    "    no_respuesta(col)\n",
    "    df[btr].mask(df[col]==1,1,inplace=True)\n",
    "    df[btr].mask(df[col]==2,0,inplace=True)\n",
    "    traduce(btr)\n",
    "    print (df[[str(col)+'_',str(btr)+'_']][df['NOTRAB_BUS']==1].groupby([str(col)+'_'],\n",
    "                                                                        dropna=False).agg(['unique']))\n",
    "    return"
   ]
  },
  {
   "cell_type": "code",
   "execution_count": 817,
   "metadata": {},
   "outputs": [
    {
     "name": "stdout",
     "output_type": "stream",
     "text": [
      "[ 1.  2. nan]\n",
      "             aux_traduce\n",
      "                  unique\n",
      "btr_internet            \n",
      "0.0                 [No]\n",
      "1.0                 [Sí]\n",
      "             btr_internet_\n",
      "                    unique\n",
      "NOTRAB_BSQ1_              \n",
      "No                    [No]\n",
      "Sí                    [Sí]\n"
     ]
    }
   ],
   "source": [
    "actualiza_btr('NOTRAB_BSQ1','btr_internet')"
   ]
  },
  {
   "cell_type": "markdown",
   "metadata": {},
   "source": [
    "## 'NOTRAB_BSQ2'  (completa la información de la variable 'btr_spe')\n",
    "\n",
    "(Solo para quienes **declaran haber buscado empleo** -respuesta 1 en 'NOTRAB_BUS'-. Implica que no han trabajado después de terminar los estudios) \n",
    "\n",
    "¿Ha buscado trabajo a través de los **servicios públicos de empleo**?\n",
    "\n",
    "Nota: 'NOTRAB_BSQ2' recoge la misma información que la variable 'TRPARA_D7_2' definida para desempleados (redefinida como 'btr_sep'). "
   ]
  },
  {
   "cell_type": "code",
   "execution_count": 818,
   "metadata": {},
   "outputs": [
    {
     "data": {
      "text/plain": [
       "array([' ', '2', '1'], dtype=object)"
      ]
     },
     "execution_count": 818,
     "metadata": {},
     "output_type": "execute_result"
    }
   ],
   "source": [
    "df['NOTRAB_BSQ2'].unique() # No informados como ' ' "
   ]
  },
  {
   "cell_type": "code",
   "execution_count": 819,
   "metadata": {},
   "outputs": [
    {
     "name": "stdout",
     "output_type": "stream",
     "text": [
      "                aux_traduce\n",
      "                     unique\n",
      "NOTRAB_BSQ2                \n",
      "             [No aplicable]\n",
      "1                      [Sí]\n",
      "2                      [No]\n"
     ]
    }
   ],
   "source": [
    "traduce('NOTRAB_BSQ2')"
   ]
  },
  {
   "cell_type": "code",
   "execution_count": 820,
   "metadata": {},
   "outputs": [
    {
     "name": "stdout",
     "output_type": "stream",
     "text": [
      "[ 1.  2. nan]\n",
      "        aux_traduce\n",
      "             unique\n",
      "btr_spe            \n",
      "0.0            [No]\n",
      "1.0            [Sí]\n",
      "             btr_spe_\n",
      "               unique\n",
      "NOTRAB_BSQ2_         \n",
      "No               [No]\n",
      "Sí               [Sí]\n"
     ]
    }
   ],
   "source": [
    "actualiza_btr('NOTRAB_BSQ2','btr_spe')"
   ]
  },
  {
   "cell_type": "markdown",
   "metadata": {},
   "source": [
    "## 'NOTRAB_BSQ3'  (completa la información de la variable 'btr_univ')\n",
    "\n",
    "(Solo para quienes **declaran haber buscado empleo** -respuesta 1 en 'NOTRAB_BUS'-. Implica que no han trabajado después de terminar los estudios) \n",
    "\n",
    "¿Ha buscado trabajo a través de los **servicios de empleo de la universidad** (bolsa de trabajo, asociaciones de exalumnos, etc.)?\n",
    "\n",
    "Nota: 'NOTRAB_BSQ3' recoge la misma información que la variable 'TRPARA_D7_3' definida para desempleados (redefinida como 'btr_univ'). "
   ]
  },
  {
   "cell_type": "code",
   "execution_count": 821,
   "metadata": {},
   "outputs": [
    {
     "data": {
      "text/plain": [
       "array([' ', '2', '1'], dtype=object)"
      ]
     },
     "execution_count": 821,
     "metadata": {},
     "output_type": "execute_result"
    }
   ],
   "source": [
    "df['NOTRAB_BSQ3'].unique() # No informados como ' ' "
   ]
  },
  {
   "cell_type": "code",
   "execution_count": 822,
   "metadata": {},
   "outputs": [
    {
     "name": "stdout",
     "output_type": "stream",
     "text": [
      "                aux_traduce\n",
      "                     unique\n",
      "NOTRAB_BSQ3                \n",
      "             [No aplicable]\n",
      "1                      [Sí]\n",
      "2                      [No]\n"
     ]
    }
   ],
   "source": [
    "traduce('NOTRAB_BSQ3')"
   ]
  },
  {
   "cell_type": "code",
   "execution_count": 823,
   "metadata": {},
   "outputs": [
    {
     "name": "stdout",
     "output_type": "stream",
     "text": [
      "[ 1.  2. nan]\n",
      "         aux_traduce\n",
      "              unique\n",
      "btr_univ            \n",
      "0.0             [No]\n",
      "1.0             [Sí]\n",
      "             btr_univ_\n",
      "                unique\n",
      "NOTRAB_BSQ3_          \n",
      "No                [No]\n",
      "Sí                [Sí]\n"
     ]
    }
   ],
   "source": [
    "actualiza_btr('NOTRAB_BSQ3','btr_univ')"
   ]
  },
  {
   "cell_type": "markdown",
   "metadata": {},
   "source": [
    "## 'NOTRAB_BSQ4'  (completa la información de la variable 'btr_ett')\n",
    "\n",
    "(Solo para quienes **declaran haber buscado empleo** -respuesta 1 en 'NOTRAB_BUS'-. Implica que no han trabajado después de terminar los estudios) \n",
    "\n",
    "¿Ha buscado trabajo a través de **empresas de trabajo temporal**?\n",
    "\n",
    "Nota: 'NOTRAB_BSQ4' recoge la misma información que la variable 'TRPARA_D7_4' definida para desempleados (redefinida como 'btr_ett'). "
   ]
  },
  {
   "cell_type": "code",
   "execution_count": 824,
   "metadata": {},
   "outputs": [
    {
     "data": {
      "text/plain": [
       "array([' ', '2', '1'], dtype=object)"
      ]
     },
     "execution_count": 824,
     "metadata": {},
     "output_type": "execute_result"
    }
   ],
   "source": [
    "df['NOTRAB_BSQ4'].unique() # No informados como ' ' o '9'"
   ]
  },
  {
   "cell_type": "code",
   "execution_count": 825,
   "metadata": {},
   "outputs": [
    {
     "name": "stdout",
     "output_type": "stream",
     "text": [
      "                aux_traduce\n",
      "                     unique\n",
      "NOTRAB_BSQ4                \n",
      "             [No aplicable]\n",
      "1                      [Sí]\n",
      "2                      [No]\n"
     ]
    }
   ],
   "source": [
    "traduce('NOTRAB_BSQ4')"
   ]
  },
  {
   "cell_type": "code",
   "execution_count": 826,
   "metadata": {},
   "outputs": [
    {
     "name": "stdout",
     "output_type": "stream",
     "text": [
      "[ 1.  2. nan]\n",
      "        aux_traduce\n",
      "             unique\n",
      "btr_ett            \n",
      "0.0            [No]\n",
      "1.0            [Sí]\n",
      "             btr_ett_\n",
      "               unique\n",
      "NOTRAB_BSQ4_         \n",
      "No               [No]\n",
      "Sí               [Sí]\n"
     ]
    }
   ],
   "source": [
    "actualiza_btr('NOTRAB_BSQ4','btr_ett')"
   ]
  },
  {
   "cell_type": "markdown",
   "metadata": {},
   "source": [
    "## 'NOTRAB_BSQ5'  (completa la información de la variable 'btr_bolsa')\n",
    "\n",
    "(Solo para quienes **declaran haber buscado empleo** -respuesta 1 en 'NOTRAB_BUS'-. Implica que no han trabajado después de terminar los estudios) \n",
    "\n",
    "¿Ha buscado trabajo a través de una **bolsa de empleo**?\n",
    "\n",
    "Nota: 'NOTRAB_BSQ5' recoge la misma información que la variable 'TRPARA_D7_5' definida para desempleados (redefinida como 'btr_bolsa'). "
   ]
  },
  {
   "cell_type": "code",
   "execution_count": 827,
   "metadata": {},
   "outputs": [
    {
     "data": {
      "text/plain": [
       "array([' ', '1', '2'], dtype=object)"
      ]
     },
     "execution_count": 827,
     "metadata": {},
     "output_type": "execute_result"
    }
   ],
   "source": [
    "df['NOTRAB_BSQ5'].unique() # No informados como ' ' o '9'"
   ]
  },
  {
   "cell_type": "code",
   "execution_count": 828,
   "metadata": {},
   "outputs": [
    {
     "name": "stdout",
     "output_type": "stream",
     "text": [
      "                aux_traduce\n",
      "                     unique\n",
      "NOTRAB_BSQ5                \n",
      "             [No aplicable]\n",
      "1                      [Sí]\n",
      "2                      [No]\n"
     ]
    }
   ],
   "source": [
    "traduce('NOTRAB_BSQ5')"
   ]
  },
  {
   "cell_type": "code",
   "execution_count": 829,
   "metadata": {},
   "outputs": [
    {
     "name": "stdout",
     "output_type": "stream",
     "text": [
      "[ 1.  2. nan]\n",
      "          aux_traduce\n",
      "               unique\n",
      "btr_bolsa            \n",
      "0.0              [No]\n",
      "1.0              [Sí]\n",
      "             btr_bolsa_\n",
      "                 unique\n",
      "NOTRAB_BSQ5_           \n",
      "No                 [No]\n",
      "Sí                 [Sí]\n"
     ]
    }
   ],
   "source": [
    "actualiza_btr('NOTRAB_BSQ5','btr_bolsa')"
   ]
  },
  {
   "cell_type": "markdown",
   "metadata": {},
   "source": [
    "## 'NOTRAB_BSQ6'  (completa la información de la variable 'btr_contactos')\n",
    "\n",
    "(Solo para quienes **declaran haber buscado empleo** -respuesta 1 en 'NOTRAB_BUS'-. Implica que no han trabajado después de terminar los estudios) \n",
    "\n",
    "¿Ha buscado trabajo buscando ayuda entre profesionales conocidos del sector o **contactos personales** (familia, amigos)?\n",
    "\n",
    "Nota: 'NOTRAB_BSQ6' recoge la misma información que la variable 'TRPARA_D7_6' definida para desempleados (redefinida como 'btr_contactos'). "
   ]
  },
  {
   "cell_type": "code",
   "execution_count": 830,
   "metadata": {},
   "outputs": [
    {
     "data": {
      "text/plain": [
       "array([' ', '2', '1'], dtype=object)"
      ]
     },
     "execution_count": 830,
     "metadata": {},
     "output_type": "execute_result"
    }
   ],
   "source": [
    "df['NOTRAB_BSQ6'].unique() # No informados como ' ' o '9'"
   ]
  },
  {
   "cell_type": "code",
   "execution_count": 831,
   "metadata": {},
   "outputs": [
    {
     "name": "stdout",
     "output_type": "stream",
     "text": [
      "                aux_traduce\n",
      "                     unique\n",
      "NOTRAB_BSQ6                \n",
      "             [No aplicable]\n",
      "1                      [Sí]\n",
      "2                      [No]\n"
     ]
    }
   ],
   "source": [
    "traduce('NOTRAB_BSQ6')"
   ]
  },
  {
   "cell_type": "code",
   "execution_count": 832,
   "metadata": {},
   "outputs": [
    {
     "name": "stdout",
     "output_type": "stream",
     "text": [
      "[ 1.  2. nan]\n",
      "              aux_traduce\n",
      "                   unique\n",
      "btr_contactos            \n",
      "0.0                  [No]\n",
      "1.0                  [Sí]\n",
      "             btr_contactos_\n",
      "                     unique\n",
      "NOTRAB_BSQ6_               \n",
      "No                     [No]\n",
      "Sí                     [Sí]\n"
     ]
    }
   ],
   "source": [
    "actualiza_btr('NOTRAB_BSQ6','btr_contactos')"
   ]
  },
  {
   "cell_type": "markdown",
   "metadata": {},
   "source": [
    "## 'NOTRAB_BSQ7'  (completa la información de la variable 'btr_empresas')\n",
    "\n",
    "(Solo para quienes **declaran haber buscado empleo** -respuesta 1 en 'NOTRAB_BUS'-. Implica que no han trabajado después de terminar los estudios) \n",
    "\n",
    "¿Ha buscado trabajo **contactando directamente con las empresas**?  \n",
    "\n",
    "Nota: 'NOTRAB_BSQ7' recoge la misma información que la variable 'TRPARA_D7_7' definida para desempleados (redefinida como 'btr_empresas'). "
   ]
  },
  {
   "cell_type": "code",
   "execution_count": 833,
   "metadata": {},
   "outputs": [
    {
     "data": {
      "text/plain": [
       "array([' ', '2', '1'], dtype=object)"
      ]
     },
     "execution_count": 833,
     "metadata": {},
     "output_type": "execute_result"
    }
   ],
   "source": [
    "df['NOTRAB_BSQ7'].unique() # No informados como ' ' o '9'"
   ]
  },
  {
   "cell_type": "code",
   "execution_count": 834,
   "metadata": {},
   "outputs": [
    {
     "name": "stdout",
     "output_type": "stream",
     "text": [
      "                aux_traduce\n",
      "                     unique\n",
      "NOTRAB_BSQ7                \n",
      "             [No aplicable]\n",
      "1                      [Sí]\n",
      "2                      [No]\n"
     ]
    }
   ],
   "source": [
    "traduce('NOTRAB_BSQ7')"
   ]
  },
  {
   "cell_type": "code",
   "execution_count": 835,
   "metadata": {},
   "outputs": [
    {
     "name": "stdout",
     "output_type": "stream",
     "text": [
      "[ 1.  2. nan]\n",
      "             aux_traduce\n",
      "                  unique\n",
      "btr_empresas            \n",
      "0.0                 [No]\n",
      "1.0                 [Sí]\n",
      "             btr_empresas_\n",
      "                    unique\n",
      "NOTRAB_BSQ7_              \n",
      "No                    [No]\n",
      "Sí                    [Sí]\n"
     ]
    }
   ],
   "source": [
    "actualiza_btr('NOTRAB_BSQ7','btr_empresas')"
   ]
  },
  {
   "cell_type": "markdown",
   "metadata": {},
   "source": [
    "## 'NOTRAB_BSQ8'  (completa la información de la variable 'btr_opo')\n",
    "\n",
    "(Solo para quienes **declaran haber buscado empleo** -respuesta 1 en 'NOTRAB_BUS'-. Implica que no han trabajado después de terminar los estudios) \n",
    "\n",
    "¿Ha buscado trabajo **preparando unas oposiciones**?  \n",
    "\n",
    "Nota: 'NOTRAB_BSQ8' recoge la misma información que la variable 'TRPARA_D7_8' definida para desempleados (redefinida como 'btr_opo'). "
   ]
  },
  {
   "cell_type": "code",
   "execution_count": 836,
   "metadata": {},
   "outputs": [
    {
     "data": {
      "text/plain": [
       "array([' ', '2', '1'], dtype=object)"
      ]
     },
     "execution_count": 836,
     "metadata": {},
     "output_type": "execute_result"
    }
   ],
   "source": [
    "df['NOTRAB_BSQ8'].unique() # No informados como ' ' o '9'"
   ]
  },
  {
   "cell_type": "code",
   "execution_count": 837,
   "metadata": {},
   "outputs": [
    {
     "name": "stdout",
     "output_type": "stream",
     "text": [
      "                aux_traduce\n",
      "                     unique\n",
      "NOTRAB_BSQ8                \n",
      "             [No aplicable]\n",
      "1                      [Sí]\n",
      "2                      [No]\n"
     ]
    }
   ],
   "source": [
    "traduce('NOTRAB_BSQ8')"
   ]
  },
  {
   "cell_type": "code",
   "execution_count": 838,
   "metadata": {},
   "outputs": [
    {
     "name": "stdout",
     "output_type": "stream",
     "text": [
      "[ 1.  2. nan]\n",
      "        aux_traduce\n",
      "             unique\n",
      "btr_opo            \n",
      "0.0            [No]\n",
      "1.0            [Sí]\n",
      "             btr_opo_\n",
      "               unique\n",
      "NOTRAB_BSQ8_         \n",
      "No               [No]\n",
      "Sí               [Sí]\n"
     ]
    }
   ],
   "source": [
    "actualiza_btr('NOTRAB_BSQ8','btr_opo')"
   ]
  },
  {
   "cell_type": "markdown",
   "metadata": {},
   "source": [
    "## 'NOTRAB_BSQ9'  (completa la información de la variable 'btr_auto')\n",
    "\n",
    "(Solo para quienes **declaran haber buscado empleo** -respuesta 1 en 'NOTRAB_BUS'-. Implica que no han trabajado después de terminar los estudios) \n",
    "\n",
    "¿Ha buscado trabajo buscando equipamiento para establecer un **negocio propio**?  \n",
    "\n",
    "Nota: 'NOTRAB_BSQ9' recoge la misma información que la variable 'TRPARA_D7_9' definida para desempleados (redefinida como 'btr_auto'). "
   ]
  },
  {
   "cell_type": "code",
   "execution_count": 839,
   "metadata": {},
   "outputs": [
    {
     "data": {
      "text/plain": [
       "array([' ', '2', '1'], dtype=object)"
      ]
     },
     "execution_count": 839,
     "metadata": {},
     "output_type": "execute_result"
    }
   ],
   "source": [
    "df['NOTRAB_BSQ9'].unique() # No informados como ' ' o '9'"
   ]
  },
  {
   "cell_type": "code",
   "execution_count": 840,
   "metadata": {},
   "outputs": [
    {
     "name": "stdout",
     "output_type": "stream",
     "text": [
      "                aux_traduce\n",
      "                     unique\n",
      "NOTRAB_BSQ9                \n",
      "             [No aplicable]\n",
      "1                      [Sí]\n",
      "2                      [No]\n"
     ]
    }
   ],
   "source": [
    "traduce('NOTRAB_BSQ9')"
   ]
  },
  {
   "cell_type": "code",
   "execution_count": 841,
   "metadata": {},
   "outputs": [
    {
     "name": "stdout",
     "output_type": "stream",
     "text": [
      "[ 1.  2. nan]\n",
      "         aux_traduce\n",
      "              unique\n",
      "btr_auto            \n",
      "0.0             [No]\n",
      "1.0             [Sí]\n",
      "             btr_auto_\n",
      "                unique\n",
      "NOTRAB_BSQ9_          \n",
      "No                [No]\n",
      "Sí                [Sí]\n"
     ]
    }
   ],
   "source": [
    "actualiza_btr('NOTRAB_BSQ9','btr_auto')"
   ]
  },
  {
   "cell_type": "markdown",
   "metadata": {},
   "source": [
    "## 'NOTRAB_BSQ10'  (completa la información de la variable 'btr_otro')\n",
    "\n",
    "(Solo para quienes **declaran haber buscado empleo** -respuesta 1 en 'NOTRAB_BUS'-. Implica que no han trabajado después de terminar los estudios) \n",
    "\n",
    "¿Ha buscado trabajo de **otro modo**?  \n",
    "\n",
    "Nota: 'NOTRAB_BSQ10' recoge la misma información que la variable 'TRPARA_D7_10' definida para desempleados (redefinida como 'btr_otro'). "
   ]
  },
  {
   "cell_type": "code",
   "execution_count": 842,
   "metadata": {},
   "outputs": [
    {
     "data": {
      "text/plain": [
       "array([' ', '2', '1'], dtype=object)"
      ]
     },
     "execution_count": 842,
     "metadata": {},
     "output_type": "execute_result"
    }
   ],
   "source": [
    "df['NOTRAB_BSQ10'].unique() # No informados como ' ' o '9'"
   ]
  },
  {
   "cell_type": "code",
   "execution_count": 843,
   "metadata": {},
   "outputs": [
    {
     "name": "stdout",
     "output_type": "stream",
     "text": [
      "                 aux_traduce\n",
      "                      unique\n",
      "NOTRAB_BSQ10                \n",
      "              [No aplicable]\n",
      "1                       [Sí]\n",
      "2                       [No]\n"
     ]
    }
   ],
   "source": [
    "traduce('NOTRAB_BSQ10')"
   ]
  },
  {
   "cell_type": "code",
   "execution_count": 844,
   "metadata": {},
   "outputs": [
    {
     "name": "stdout",
     "output_type": "stream",
     "text": [
      "[ 1.  2. nan]\n",
      "         aux_traduce\n",
      "              unique\n",
      "btr_otro            \n",
      "0.0             [No]\n",
      "1.0             [Sí]\n",
      "              btr_otro_\n",
      "                 unique\n",
      "NOTRAB_BSQ10_          \n",
      "No                 [No]\n",
      "Sí                 [Sí]\n"
     ]
    }
   ],
   "source": [
    "actualiza_btr('NOTRAB_BSQ10','btr_otro')"
   ]
  },
  {
   "cell_type": "markdown",
   "metadata": {},
   "source": [
    "## 'NOTRAB_DIF1'  (completa la información de la variable 'dbtr_formacion')\n",
    "\n",
    "(Solo para quienes **declaran haber buscado empleo** -respuesta 1 en 'NOTRAB_BUS'-. Implica que no han trabajado después de terminar los estudios) \n",
    "\n",
    "(**Dificultades para encontrar empleo**) Importancia que atribuye a las **carencias en la formación universitaria recibida** en cuanto a sus dificultades para encontrar trabajo.\n",
    "\n",
    "Nota: 'NOTRAB_DIF1' recoge la misma información que la variable 'TRPARA_D8_1' definida para desempleados (redefinida como 'dbtr_formacion'). "
   ]
  },
  {
   "cell_type": "code",
   "execution_count": 845,
   "metadata": {},
   "outputs": [
    {
     "data": {
      "text/plain": [
       "array([' ', '4', '1', '2', '3', '9'], dtype=object)"
      ]
     },
     "execution_count": 845,
     "metadata": {},
     "output_type": "execute_result"
    }
   ],
   "source": [
    "df['NOTRAB_DIF1'].unique() # No informados como ' ' o '9'"
   ]
  },
  {
   "cell_type": "code",
   "execution_count": 846,
   "metadata": {},
   "outputs": [
    {
     "name": "stdout",
     "output_type": "stream",
     "text": [
      "                       aux_traduce\n",
      "                            unique\n",
      "NOTRAB_DIF1                       \n",
      "                    [No aplicable]\n",
      "1                [Nada importante]\n",
      "2                [Poco importante]\n",
      "3            [Bastante importante]\n",
      "4                 [Muy importante]\n",
      "9                          [NS/NC]\n"
     ]
    }
   ],
   "source": [
    "traduce('NOTRAB_DIF1')"
   ]
  },
  {
   "cell_type": "code",
   "execution_count": 847,
   "metadata": {},
   "outputs": [
    {
     "data": {
      "text/html": [
       "<div>\n",
       "<style scoped>\n",
       "    .dataframe tbody tr th:only-of-type {\n",
       "        vertical-align: middle;\n",
       "    }\n",
       "\n",
       "    .dataframe tbody tr th {\n",
       "        vertical-align: top;\n",
       "    }\n",
       "\n",
       "    .dataframe thead tr th {\n",
       "        text-align: left;\n",
       "    }\n",
       "\n",
       "    .dataframe thead tr:last-of-type th {\n",
       "        text-align: right;\n",
       "    }\n",
       "</style>\n",
       "<table border=\"1\" class=\"dataframe\">\n",
       "  <thead>\n",
       "    <tr>\n",
       "      <th></th>\n",
       "      <th>NOTRAB_DIF1_</th>\n",
       "    </tr>\n",
       "    <tr>\n",
       "      <th></th>\n",
       "      <th>unique</th>\n",
       "    </tr>\n",
       "    <tr>\n",
       "      <th>NOTRAB_BUS_</th>\n",
       "      <th></th>\n",
       "    </tr>\n",
       "  </thead>\n",
       "  <tbody>\n",
       "    <tr>\n",
       "      <th>No</th>\n",
       "      <td>[No aplicable]</td>\n",
       "    </tr>\n",
       "    <tr>\n",
       "      <th>Sí</th>\n",
       "      <td>[Muy importante, Nada importante, Poco importante, Bastante importante, NS/NC]</td>\n",
       "    </tr>\n",
       "    <tr>\n",
       "      <th>NaN</th>\n",
       "      <td>[No aplicable]</td>\n",
       "    </tr>\n",
       "  </tbody>\n",
       "</table>\n",
       "</div>"
      ],
      "text/plain": [
       "                                                                               NOTRAB_DIF1_\n",
       "                                                                                     unique\n",
       "NOTRAB_BUS_                                                                                \n",
       "No                                                                           [No aplicable]\n",
       "Sí           [Muy importante, Nada importante, Poco importante, Bastante importante, NS/NC]\n",
       "NaN                                                                          [No aplicable]"
      ]
     },
     "execution_count": 847,
     "metadata": {},
     "output_type": "execute_result"
    }
   ],
   "source": [
    "df[['NOTRAB_DIF1_','NOTRAB_BUS_']].groupby('NOTRAB_BUS_',dropna=False).agg(['unique']) # Inspección"
   ]
  },
  {
   "cell_type": "code",
   "execution_count": 848,
   "metadata": {},
   "outputs": [
    {
     "data": {
      "text/html": [
       "<div>\n",
       "<style scoped>\n",
       "    .dataframe tbody tr th:only-of-type {\n",
       "        vertical-align: middle;\n",
       "    }\n",
       "\n",
       "    .dataframe tbody tr th {\n",
       "        vertical-align: top;\n",
       "    }\n",
       "\n",
       "    .dataframe thead tr th {\n",
       "        text-align: left;\n",
       "    }\n",
       "\n",
       "    .dataframe thead tr:last-of-type th {\n",
       "        text-align: right;\n",
       "    }\n",
       "</style>\n",
       "<table border=\"1\" class=\"dataframe\">\n",
       "  <thead>\n",
       "    <tr>\n",
       "      <th></th>\n",
       "      <th>dbtr_formacion_</th>\n",
       "      <th>sit_lab_</th>\n",
       "    </tr>\n",
       "    <tr>\n",
       "      <th></th>\n",
       "      <th>unique</th>\n",
       "      <th>unique</th>\n",
       "    </tr>\n",
       "    <tr>\n",
       "      <th>NOTRAB_DIF1_</th>\n",
       "      <th></th>\n",
       "      <th></th>\n",
       "    </tr>\n",
       "  </thead>\n",
       "  <tbody>\n",
       "    <tr>\n",
       "      <th>Bastante importante</th>\n",
       "      <td>[Bastante importante]</td>\n",
       "      <td>[En desempleo]</td>\n",
       "    </tr>\n",
       "    <tr>\n",
       "      <th>Muy importante</th>\n",
       "      <td>[Muy importante]</td>\n",
       "      <td>[En desempleo]</td>\n",
       "    </tr>\n",
       "    <tr>\n",
       "      <th>Nada importante</th>\n",
       "      <td>[Nada importante]</td>\n",
       "      <td>[En desempleo]</td>\n",
       "    </tr>\n",
       "    <tr>\n",
       "      <th>No aplicable</th>\n",
       "      <td>[Nada importante, Poco importante, Bastante importante, nan, Muy importante]</td>\n",
       "      <td>[En desempleo]</td>\n",
       "    </tr>\n",
       "    <tr>\n",
       "      <th>Poco importante</th>\n",
       "      <td>[Poco importante]</td>\n",
       "      <td>[En desempleo]</td>\n",
       "    </tr>\n",
       "  </tbody>\n",
       "</table>\n",
       "</div>"
      ],
      "text/plain": [
       "                                                                                  dbtr_formacion_  \\\n",
       "                                                                                           unique   \n",
       "NOTRAB_DIF1_                                                                                        \n",
       "Bastante importante                                                         [Bastante importante]   \n",
       "Muy importante                                                                   [Muy importante]   \n",
       "Nada importante                                                                 [Nada importante]   \n",
       "No aplicable         [Nada importante, Poco importante, Bastante importante, nan, Muy importante]   \n",
       "Poco importante                                                                 [Poco importante]   \n",
       "\n",
       "                           sit_lab_  \n",
       "                             unique  \n",
       "NOTRAB_DIF1_                         \n",
       "Bastante importante  [En desempleo]  \n",
       "Muy importante       [En desempleo]  \n",
       "Nada importante      [En desempleo]  \n",
       "No aplicable         [En desempleo]  \n",
       "Poco importante      [En desempleo]  "
      ]
     },
     "execution_count": 848,
     "metadata": {},
     "output_type": "execute_result"
    }
   ],
   "source": [
    "df[['NOTRAB_DIF1_','dbtr_formacion_','sit_lab_']][df['sit_lab']==2].groupby('NOTRAB_DIF1_',\n",
    "                                                                            dropna=False).agg(['unique']) \n",
    "# No hay contradicción con lo declarado en 'TRPARA_D8_1' (o 'dbtr_formacion') por los desempleados."
   ]
  },
  {
   "cell_type": "code",
   "execution_count": 849,
   "metadata": {},
   "outputs": [],
   "source": [
    "def actualiza_dbtr(col,dbtr):\n",
    "    \"\"\"Actualiza las variables con prefijo 'dbtr_' (definidas originalmente para desempleados), añadiendo la \n",
    "    información que facilitan quienes declaran no haber trabajado desde que terminaron sus estudios y haber \n",
    "    buscado trabajo. \n",
    "    \"\"\"\n",
    "    no_respuesta(col)\n",
    "    cond=(df[col]==1)|(df[col]==2)|(df[col]==3)|(df[col]==4)\n",
    "    df[dbtr].mask(cond,df[col],inplace=True)\n",
    "    traduce(dbtr)\n",
    "    print (df[[str(col)+'_',str(dbtr)+'_']][df['NOTRAB_BUS']==1].groupby(str(col)+'_',\n",
    "                                                                         dropna=False).agg(['unique']))\n",
    "    return"
   ]
  },
  {
   "cell_type": "code",
   "execution_count": 850,
   "metadata": {},
   "outputs": [
    {
     "name": "stdout",
     "output_type": "stream",
     "text": [
      "[ 1.  2.  3.  4. nan]\n",
      "                          aux_traduce\n",
      "                               unique\n",
      "dbtr_formacion                       \n",
      "1.0                 [Nada importante]\n",
      "2.0                 [Poco importante]\n",
      "3.0             [Bastante importante]\n",
      "4.0                  [Muy importante]\n",
      "                           dbtr_formacion_\n",
      "                                    unique\n",
      "NOTRAB_DIF1_                              \n",
      "Bastante importante  [Bastante importante]\n",
      "Muy importante            [Muy importante]\n",
      "Nada importante          [Nada importante]\n",
      "Poco importante          [Poco importante]\n",
      "NaN                                  [nan]\n"
     ]
    }
   ],
   "source": [
    "actualiza_dbtr('NOTRAB_DIF1','dbtr_formacion')"
   ]
  },
  {
   "cell_type": "markdown",
   "metadata": {},
   "source": [
    "## 'NOTRAB_DIF2'  (completa la información de la variable 'dbtr_personales')\n",
    "\n",
    "(Solo para quienes **declaran haber buscado empleo** -respuesta 1 en 'NOTRAB_BUS'-. Implica que no han trabajado después de terminar los estudios) \n",
    "\n",
    "(**Dificultades para encontrar empleo**) Importancia que atribuye a las **actividades personales** que impiden trabajar (seguir estudiando, familia, otras) en cuanto a sus dificultades para encontrar trabajo.\n",
    "\n",
    "Nota: 'NOTRAB_DIF2' recoge la misma información que la variable 'TRPARA_D8_2' definida para desempleados (redefinida como 'dbtr_personales'). "
   ]
  },
  {
   "cell_type": "code",
   "execution_count": 851,
   "metadata": {},
   "outputs": [
    {
     "data": {
      "text/plain": [
       "array([' ', '4', '1', '3', '2', '9'], dtype=object)"
      ]
     },
     "execution_count": 851,
     "metadata": {},
     "output_type": "execute_result"
    }
   ],
   "source": [
    "df['NOTRAB_DIF2'].unique() # No informados como ' ' o '9'"
   ]
  },
  {
   "cell_type": "code",
   "execution_count": 852,
   "metadata": {},
   "outputs": [
    {
     "name": "stdout",
     "output_type": "stream",
     "text": [
      "                       aux_traduce\n",
      "                            unique\n",
      "NOTRAB_DIF2                       \n",
      "                    [No aplicable]\n",
      "1                [Nada importante]\n",
      "2                [Poco importante]\n",
      "3            [Bastante importante]\n",
      "4                 [Muy importante]\n",
      "9                          [NS/NC]\n"
     ]
    }
   ],
   "source": [
    "traduce('NOTRAB_DIF2')"
   ]
  },
  {
   "cell_type": "code",
   "execution_count": 853,
   "metadata": {},
   "outputs": [
    {
     "name": "stdout",
     "output_type": "stream",
     "text": [
      "[ 1.  2.  3.  4. nan]\n",
      "                           aux_traduce\n",
      "                                unique\n",
      "dbtr_personales                       \n",
      "1.0                  [Nada importante]\n",
      "2.0                  [Poco importante]\n",
      "3.0              [Bastante importante]\n",
      "4.0                   [Muy importante]\n",
      "                          dbtr_personales_\n",
      "                                    unique\n",
      "NOTRAB_DIF2_                              \n",
      "Bastante importante  [Bastante importante]\n",
      "Muy importante            [Muy importante]\n",
      "Nada importante          [Nada importante]\n",
      "Poco importante          [Poco importante]\n",
      "NaN                                  [nan]\n"
     ]
    }
   ],
   "source": [
    "actualiza_dbtr('NOTRAB_DIF2','dbtr_personales')"
   ]
  },
  {
   "cell_type": "markdown",
   "metadata": {},
   "source": [
    "## 'NOTRAB_DIF3'  (completa la información de la variable 'dbtr_experiencia')\n",
    "\n",
    "(Solo para quienes **declaran haber buscado empleo** -respuesta 1 en 'NOTRAB_BUS'-. Implica que no han trabajado después de terminar los estudios) \n",
    "\n",
    "(**Dificultades para encontrar empleo**) Importancia que atribuye a la **falta de experiencia profesional** en cuanto a sus dificultades para encontrar trabajo.\n",
    "\n",
    "Nota: 'NOTRAB_DIF3' recoge la misma información que la variable 'TRPARA_D8_3' definida para desempleados (redefinida como 'dbtr_experiencia'). "
   ]
  },
  {
   "cell_type": "code",
   "execution_count": 854,
   "metadata": {},
   "outputs": [
    {
     "data": {
      "text/plain": [
       "array([' ', '4', '3', '1', '2', '9'], dtype=object)"
      ]
     },
     "execution_count": 854,
     "metadata": {},
     "output_type": "execute_result"
    }
   ],
   "source": [
    "df['NOTRAB_DIF3'].unique() # No informados como ' ' o '9'"
   ]
  },
  {
   "cell_type": "code",
   "execution_count": 855,
   "metadata": {},
   "outputs": [
    {
     "name": "stdout",
     "output_type": "stream",
     "text": [
      "                       aux_traduce\n",
      "                            unique\n",
      "NOTRAB_DIF3                       \n",
      "                    [No aplicable]\n",
      "1                [Nada importante]\n",
      "2                [Poco importante]\n",
      "3            [Bastante importante]\n",
      "4                 [Muy importante]\n",
      "9                          [NS/NC]\n"
     ]
    }
   ],
   "source": [
    "traduce('NOTRAB_DIF3')"
   ]
  },
  {
   "cell_type": "code",
   "execution_count": 856,
   "metadata": {},
   "outputs": [
    {
     "name": "stdout",
     "output_type": "stream",
     "text": [
      "[ 1.  2.  3.  4. nan]\n",
      "                            aux_traduce\n",
      "                                 unique\n",
      "dbtr_experiencia                       \n",
      "1.0                   [Nada importante]\n",
      "2.0                   [Poco importante]\n",
      "3.0               [Bastante importante]\n",
      "4.0                    [Muy importante]\n",
      "                         dbtr_experiencia_\n",
      "                                    unique\n",
      "NOTRAB_DIF3_                              \n",
      "Bastante importante  [Bastante importante]\n",
      "Muy importante            [Muy importante]\n",
      "Nada importante          [Nada importante]\n",
      "Poco importante          [Poco importante]\n",
      "NaN                                  [nan]\n"
     ]
    }
   ],
   "source": [
    "actualiza_dbtr('NOTRAB_DIF3','dbtr_experiencia')"
   ]
  },
  {
   "cell_type": "markdown",
   "metadata": {},
   "source": [
    "## 'NOTRAB_DIF4'  (completa la información de la variable 'dbtr_expectativas')\n",
    "\n",
    "(Solo para quienes **declaran haber buscado empleo** -respuesta 1 en 'NOTRAB_BUS'-. Implica que no han trabajado después de terminar los estudios) \n",
    "\n",
    "(**Dificultades para encontrar empleo**) Importancia que atribuye a la **exigencia de tener un trabajo acorde con sus expectativas** económicas y profesionales en cuanto a sus dificultades para encontrar trabajo.\n",
    "\n",
    "Nota: 'NOTRAB_DIF4' recoge la misma información que la variable 'TRPARA_D8_4' definida para desempleados (redefinida como 'dbtr_formación'). "
   ]
  },
  {
   "cell_type": "code",
   "execution_count": 857,
   "metadata": {},
   "outputs": [
    {
     "data": {
      "text/plain": [
       "array([' ', '9', '3', '2', '4', '1'], dtype=object)"
      ]
     },
     "execution_count": 857,
     "metadata": {},
     "output_type": "execute_result"
    }
   ],
   "source": [
    "df['NOTRAB_DIF4'].unique() # No informados como ' ' o '9'"
   ]
  },
  {
   "cell_type": "code",
   "execution_count": 858,
   "metadata": {},
   "outputs": [
    {
     "name": "stdout",
     "output_type": "stream",
     "text": [
      "                       aux_traduce\n",
      "                            unique\n",
      "NOTRAB_DIF4                       \n",
      "                    [No aplicable]\n",
      "1                [Nada importante]\n",
      "2                [Poco importante]\n",
      "3            [Bastante importante]\n",
      "4                 [Muy importante]\n",
      "9                          [NS/NC]\n"
     ]
    }
   ],
   "source": [
    "traduce('NOTRAB_DIF4')"
   ]
  },
  {
   "cell_type": "code",
   "execution_count": 859,
   "metadata": {},
   "outputs": [
    {
     "name": "stdout",
     "output_type": "stream",
     "text": [
      "[ 1.  2.  3.  4. nan]\n",
      "                             aux_traduce\n",
      "                                  unique\n",
      "dbtr_expectativas                       \n",
      "1.0                    [Nada importante]\n",
      "2.0                    [Poco importante]\n",
      "3.0                [Bastante importante]\n",
      "4.0                     [Muy importante]\n",
      "                        dbtr_expectativas_\n",
      "                                    unique\n",
      "NOTRAB_DIF4_                              \n",
      "Bastante importante  [Bastante importante]\n",
      "Muy importante            [Muy importante]\n",
      "Nada importante          [Nada importante]\n",
      "Poco importante          [Poco importante]\n",
      "NaN                                  [nan]\n"
     ]
    }
   ],
   "source": [
    "actualiza_dbtr('NOTRAB_DIF4','dbtr_expectativas')"
   ]
  },
  {
   "cell_type": "markdown",
   "metadata": {},
   "source": [
    "## 'NOTRAB_DIF5'  (completa la información de la variable 'dbtr_idiomas')\n",
    "\n",
    "(Solo para quienes **declaran haber buscado empleo** -respuesta 1 en 'NOTRAB_BUS'-. Implica que no han trabajado después de terminar los estudios) \n",
    "\n",
    "(**Dificultades para encontrar empleo**) Importancia que atribuye a la **falta de conocimientos de idiomas** en cuanto a sus dificultades para encontrar trabajo.\n",
    "\n",
    "Nota: 'NOTRAB_DIF5' recoge la misma información que la variable 'TRPARA_D8_5' definida para desempleados (redefinida como 'dbtr_idiomas'). "
   ]
  },
  {
   "cell_type": "code",
   "execution_count": 860,
   "metadata": {},
   "outputs": [
    {
     "data": {
      "text/plain": [
       "array([' ', '4', '1', '3', '2', '9'], dtype=object)"
      ]
     },
     "execution_count": 860,
     "metadata": {},
     "output_type": "execute_result"
    }
   ],
   "source": [
    "df['NOTRAB_DIF5'].unique() # No informados como ' ' o '9'"
   ]
  },
  {
   "cell_type": "code",
   "execution_count": 861,
   "metadata": {},
   "outputs": [
    {
     "name": "stdout",
     "output_type": "stream",
     "text": [
      "                       aux_traduce\n",
      "                            unique\n",
      "NOTRAB_DIF5                       \n",
      "                    [No aplicable]\n",
      "1                [Nada importante]\n",
      "2                [Poco importante]\n",
      "3            [Bastante importante]\n",
      "4                 [Muy importante]\n",
      "9                          [NS/NC]\n"
     ]
    }
   ],
   "source": [
    "traduce('NOTRAB_DIF5')"
   ]
  },
  {
   "cell_type": "code",
   "execution_count": 862,
   "metadata": {},
   "outputs": [
    {
     "name": "stdout",
     "output_type": "stream",
     "text": [
      "[ 1.  2.  3.  4. nan]\n",
      "                        aux_traduce\n",
      "                             unique\n",
      "dbtr_idiomas                       \n",
      "1.0               [Nada importante]\n",
      "2.0               [Poco importante]\n",
      "3.0           [Bastante importante]\n",
      "4.0                [Muy importante]\n",
      "                             dbtr_idiomas_\n",
      "                                    unique\n",
      "NOTRAB_DIF5_                              \n",
      "Bastante importante  [Bastante importante]\n",
      "Muy importante            [Muy importante]\n",
      "Nada importante          [Nada importante]\n",
      "Poco importante          [Poco importante]\n",
      "NaN                                  [nan]\n"
     ]
    }
   ],
   "source": [
    "actualiza_dbtr('NOTRAB_DIF5','dbtr_idiomas')"
   ]
  },
  {
   "cell_type": "markdown",
   "metadata": {},
   "source": [
    "## 'NOTRAB_DIF6'  (completa la información de la variable 'dbtr_ti')\n",
    "\n",
    "(Solo para quienes **declaran haber buscado empleo** -respuesta 1 en 'NOTRAB_BUS'-. Implica que no han trabajado después de terminar los estudios) \n",
    "\n",
    "(**Dificultades para encontrar empleo**) Importancia que atribuye a la **falta de conocimientos informáticos** en cuanto a sus dificultades para encontrar trabajo.\n",
    "\n",
    "Nota: 'NOTRAB_DIF6' recoge la misma información que la variable 'TRPARA_D8_6' definida para desempleados (redefinida como 'dbtr_ti'). "
   ]
  },
  {
   "cell_type": "code",
   "execution_count": 863,
   "metadata": {},
   "outputs": [
    {
     "data": {
      "text/plain": [
       "array([' ', '9', '1', '3', '2', '4'], dtype=object)"
      ]
     },
     "execution_count": 863,
     "metadata": {},
     "output_type": "execute_result"
    }
   ],
   "source": [
    "df['NOTRAB_DIF6'].unique() # No informados como ' ' o '9'"
   ]
  },
  {
   "cell_type": "code",
   "execution_count": 864,
   "metadata": {},
   "outputs": [
    {
     "name": "stdout",
     "output_type": "stream",
     "text": [
      "                       aux_traduce\n",
      "                            unique\n",
      "NOTRAB_DIF6                       \n",
      "                    [No aplicable]\n",
      "1                [Nada importante]\n",
      "2                [Poco importante]\n",
      "3            [Bastante importante]\n",
      "4                 [Muy importante]\n",
      "9                          [NS/NC]\n"
     ]
    }
   ],
   "source": [
    "traduce('NOTRAB_DIF6')"
   ]
  },
  {
   "cell_type": "code",
   "execution_count": 865,
   "metadata": {},
   "outputs": [
    {
     "name": "stdout",
     "output_type": "stream",
     "text": [
      "[ 1.  2.  3.  4. nan]\n",
      "                   aux_traduce\n",
      "                        unique\n",
      "dbtr_ti                       \n",
      "1.0          [Nada importante]\n",
      "2.0          [Poco importante]\n",
      "3.0      [Bastante importante]\n",
      "4.0           [Muy importante]\n",
      "                                  dbtr_ti_\n",
      "                                    unique\n",
      "NOTRAB_DIF6_                              \n",
      "Bastante importante  [Bastante importante]\n",
      "Muy importante            [Muy importante]\n",
      "Nada importante          [Nada importante]\n",
      "Poco importante          [Poco importante]\n",
      "NaN                                  [nan]\n"
     ]
    }
   ],
   "source": [
    "actualiza_dbtr('NOTRAB_DIF6','dbtr_ti')"
   ]
  },
  {
   "cell_type": "markdown",
   "metadata": {},
   "source": [
    "## 'RECHA_TR' (redefinida como 'rechazo')\n",
    "\n",
    "¿Ha **rechazado algún trabajo** por considerarlo poco adecuado desde que se ha titulado?"
   ]
  },
  {
   "cell_type": "code",
   "execution_count": 866,
   "metadata": {},
   "outputs": [
    {
     "data": {
      "text/plain": [
       "array([1, 2, 9])"
      ]
     },
     "execution_count": 866,
     "metadata": {},
     "output_type": "execute_result"
    }
   ],
   "source": [
    "df['RECHA_TR'].unique() # No aparece la respuesta no aplicable: se pregunta a todos los encuestados. \n",
    "# No informados como '9'"
   ]
  },
  {
   "cell_type": "code",
   "execution_count": 867,
   "metadata": {},
   "outputs": [
    {
     "name": "stdout",
     "output_type": "stream",
     "text": [
      "         aux_traduce\n",
      "              unique\n",
      "RECHA_TR            \n",
      "1               [Sí]\n",
      "2               [No]\n",
      "9            [NS/NC]\n"
     ]
    }
   ],
   "source": [
    "traduce('RECHA_TR')"
   ]
  },
  {
   "cell_type": "code",
   "execution_count": 868,
   "metadata": {},
   "outputs": [
    {
     "name": "stdout",
     "output_type": "stream",
     "text": [
      "[ 1.  2. nan]\n",
      "        aux_traduce\n",
      "             unique\n",
      "rechazo            \n",
      "0.0            [No]\n",
      "1.0            [Sí]\n"
     ]
    }
   ],
   "source": [
    "no_respuesta('RECHA_TR',tipo='int')\n",
    "redefine('RECHA_TR','rechazo',si_no=True)"
   ]
  },
  {
   "cell_type": "markdown",
   "metadata": {},
   "source": [
    "## 'RECHA_M1'  (redefinida como 'rech_estudios')\n",
    "\n",
    "(Solo para quienes **declaran haber rechazado una oferta de trabajo** -respuesta 1 en 'RECHA_TR' o 'rechazo'-)  \n",
    "\n",
    "(**Motivo del rechazo**) ¿Ha rechazado una oferta de trabajo porque no le permitía **seguir estudiando**?"
   ]
  },
  {
   "cell_type": "code",
   "execution_count": 869,
   "metadata": {},
   "outputs": [
    {
     "data": {
      "text/plain": [
       "array(['1', ' ', '2', '9'], dtype=object)"
      ]
     },
     "execution_count": 869,
     "metadata": {},
     "output_type": "execute_result"
    }
   ],
   "source": [
    "df['RECHA_M1'].unique() # No informados como ' ' o '9'"
   ]
  },
  {
   "cell_type": "code",
   "execution_count": 870,
   "metadata": {},
   "outputs": [
    {
     "name": "stdout",
     "output_type": "stream",
     "text": [
      "             aux_traduce\n",
      "                  unique\n",
      "RECHA_M1                \n",
      "          [No aplicable]\n",
      "1                   [Sí]\n",
      "2                   [No]\n",
      "9                [NS/NC]\n"
     ]
    }
   ],
   "source": [
    "traduce('RECHA_M1')"
   ]
  },
  {
   "cell_type": "code",
   "execution_count": 871,
   "metadata": {},
   "outputs": [
    {
     "data": {
      "text/html": [
       "<div>\n",
       "<style scoped>\n",
       "    .dataframe tbody tr th:only-of-type {\n",
       "        vertical-align: middle;\n",
       "    }\n",
       "\n",
       "    .dataframe tbody tr th {\n",
       "        vertical-align: top;\n",
       "    }\n",
       "\n",
       "    .dataframe thead tr th {\n",
       "        text-align: left;\n",
       "    }\n",
       "\n",
       "    .dataframe thead tr:last-of-type th {\n",
       "        text-align: right;\n",
       "    }\n",
       "</style>\n",
       "<table border=\"1\" class=\"dataframe\">\n",
       "  <thead>\n",
       "    <tr>\n",
       "      <th></th>\n",
       "      <th>RECHA_M1</th>\n",
       "    </tr>\n",
       "    <tr>\n",
       "      <th></th>\n",
       "      <th>unique</th>\n",
       "    </tr>\n",
       "    <tr>\n",
       "      <th>rechazo_</th>\n",
       "      <th></th>\n",
       "    </tr>\n",
       "  </thead>\n",
       "  <tbody>\n",
       "    <tr>\n",
       "      <th>No</th>\n",
       "      <td>[ ]</td>\n",
       "    </tr>\n",
       "    <tr>\n",
       "      <th>Sí</th>\n",
       "      <td>[1, 2, 9]</td>\n",
       "    </tr>\n",
       "  </tbody>\n",
       "</table>\n",
       "</div>"
      ],
      "text/plain": [
       "           RECHA_M1\n",
       "             unique\n",
       "rechazo_           \n",
       "No              [ ]\n",
       "Sí        [1, 2, 9]"
      ]
     },
     "execution_count": 871,
     "metadata": {},
     "output_type": "execute_result"
    }
   ],
   "source": [
    "df[['rechazo_','RECHA_M1']].groupby('rechazo_',dropna=True).agg(['unique']) # Inspección"
   ]
  },
  {
   "cell_type": "code",
   "execution_count": 872,
   "metadata": {},
   "outputs": [],
   "source": [
    "def re_rechazo(col,nuevo):\n",
    "    \"\"\" Procesa las columnas referidas a motivos de rechazo de una oferta de trabajo.\n",
    "    \"\"\"\n",
    "    no_respuesta(col)\n",
    "    redefine(col,nuevo,si_no=True)\n",
    "    D_describe[nuevo]='Motivo para rechazar oferta de empleo:'+D_describe[col].split(':')[1]\n",
    "    print(df[[str(col)+'_',str(nuevo)+'_']].groupby(str(col)+'_',dropna=True).agg(['unique']))\n",
    "    return"
   ]
  },
  {
   "cell_type": "code",
   "execution_count": 873,
   "metadata": {},
   "outputs": [
    {
     "name": "stdout",
     "output_type": "stream",
     "text": [
      "[ 1.  2. nan]\n",
      "              aux_traduce\n",
      "                   unique\n",
      "rech_estudios            \n",
      "0.0                  [No]\n",
      "1.0                  [Sí]\n",
      "          rech_estudios_\n",
      "                  unique\n",
      "RECHA_M1_               \n",
      "No                  [No]\n",
      "Sí                  [Sí]\n"
     ]
    }
   ],
   "source": [
    "re_rechazo('RECHA_M1','rech_estudios')"
   ]
  },
  {
   "cell_type": "markdown",
   "metadata": {},
   "source": [
    "## 'RECHA_M2'  (redefinida como 'rech_personales')\n",
    "\n",
    "(Solo para quienes **declaran haber rechazado una oferta de trabajo** -respuesta 1 en 'RECHA_TR' o 'rechazo'-)  \n",
    "\n",
    "(**Motivo del rechazo**) ¿Ha rechazado una oferta de trabajo porque el horario de trabajo era incompatible con **obligaciones personales o familiares**?"
   ]
  },
  {
   "cell_type": "code",
   "execution_count": 874,
   "metadata": {},
   "outputs": [
    {
     "data": {
      "text/plain": [
       "array(['2', ' ', '1', '9'], dtype=object)"
      ]
     },
     "execution_count": 874,
     "metadata": {},
     "output_type": "execute_result"
    }
   ],
   "source": [
    "df['RECHA_M2'].unique() # No informados como ' ' o '9'"
   ]
  },
  {
   "cell_type": "code",
   "execution_count": 875,
   "metadata": {},
   "outputs": [
    {
     "name": "stdout",
     "output_type": "stream",
     "text": [
      "             aux_traduce\n",
      "                  unique\n",
      "RECHA_M2                \n",
      "          [No aplicable]\n",
      "1                   [Sí]\n",
      "2                   [No]\n",
      "9                [NS/NC]\n"
     ]
    }
   ],
   "source": [
    "traduce('RECHA_M2')"
   ]
  },
  {
   "cell_type": "code",
   "execution_count": 876,
   "metadata": {},
   "outputs": [
    {
     "name": "stdout",
     "output_type": "stream",
     "text": [
      "[ 1.  2. nan]\n",
      "                aux_traduce\n",
      "                     unique\n",
      "rech_personales            \n",
      "0.0                    [No]\n",
      "1.0                    [Sí]\n",
      "          rech_personales_\n",
      "                    unique\n",
      "RECHA_M2_                 \n",
      "No                    [No]\n",
      "Sí                    [Sí]\n"
     ]
    }
   ],
   "source": [
    "re_rechazo('RECHA_M2','rech_personales')"
   ]
  },
  {
   "cell_type": "markdown",
   "metadata": {},
   "source": [
    "## 'RECHA_M3'  (redefinida como 'rech_residencia')\n",
    "\n",
    "(Solo para quienes **declaran haber rechazado una oferta de trabajo** -respuesta 1 en 'RECHA_TR' o 'rechazo'-)  \n",
    "\n",
    "(**Motivo del rechazo**) ¿Ha rechazado una oferta de trabajo porque aceptarlo implicaba **cambiar de lugar de residencia**?"
   ]
  },
  {
   "cell_type": "code",
   "execution_count": 877,
   "metadata": {},
   "outputs": [
    {
     "data": {
      "text/plain": [
       "array(['2', ' ', '1', '9'], dtype=object)"
      ]
     },
     "execution_count": 877,
     "metadata": {},
     "output_type": "execute_result"
    }
   ],
   "source": [
    "df['RECHA_M3'].unique() # No informados como ' ' o '9'"
   ]
  },
  {
   "cell_type": "code",
   "execution_count": 878,
   "metadata": {},
   "outputs": [
    {
     "name": "stdout",
     "output_type": "stream",
     "text": [
      "             aux_traduce\n",
      "                  unique\n",
      "RECHA_M3                \n",
      "          [No aplicable]\n",
      "1                   [Sí]\n",
      "2                   [No]\n",
      "9                [NS/NC]\n"
     ]
    }
   ],
   "source": [
    "traduce('RECHA_M3')"
   ]
  },
  {
   "cell_type": "code",
   "execution_count": 879,
   "metadata": {},
   "outputs": [
    {
     "name": "stdout",
     "output_type": "stream",
     "text": [
      "[ 1.  2. nan]\n",
      "                aux_traduce\n",
      "                     unique\n",
      "rech_residencia            \n",
      "0.0                    [No]\n",
      "1.0                    [Sí]\n",
      "          rech_residencia_\n",
      "                    unique\n",
      "RECHA_M3_                 \n",
      "No                    [No]\n",
      "Sí                    [Sí]\n"
     ]
    }
   ],
   "source": [
    "re_rechazo('RECHA_M3','rech_residencia')"
   ]
  },
  {
   "cell_type": "markdown",
   "metadata": {},
   "source": [
    "## 'RECHA_M4'  (redefinida como 'rech_distancia')\n",
    "\n",
    "(Solo para quienes **declaran haber rechazado una oferta de trabajo** -respuesta 1 en 'RECHA_TR' o 'rechazo'-)  \n",
    "\n",
    "(**Motivo del rechazo**) ¿Ha rechazado una oferta de trabajo porque el trayecto entre el domicilio y el puesto de trabajo no estaba a una **distancia** razonable?"
   ]
  },
  {
   "cell_type": "code",
   "execution_count": 880,
   "metadata": {},
   "outputs": [
    {
     "data": {
      "text/plain": [
       "array(['2', ' ', '1', '9'], dtype=object)"
      ]
     },
     "execution_count": 880,
     "metadata": {},
     "output_type": "execute_result"
    }
   ],
   "source": [
    "df['RECHA_M4'].unique() # No informados como ' ' o '9'"
   ]
  },
  {
   "cell_type": "code",
   "execution_count": 881,
   "metadata": {},
   "outputs": [
    {
     "name": "stdout",
     "output_type": "stream",
     "text": [
      "             aux_traduce\n",
      "                  unique\n",
      "RECHA_M4                \n",
      "          [No aplicable]\n",
      "1                   [Sí]\n",
      "2                   [No]\n",
      "9                [NS/NC]\n"
     ]
    }
   ],
   "source": [
    "traduce('RECHA_M4')"
   ]
  },
  {
   "cell_type": "code",
   "execution_count": 882,
   "metadata": {},
   "outputs": [
    {
     "name": "stdout",
     "output_type": "stream",
     "text": [
      "[ 1.  2. nan]\n",
      "               aux_traduce\n",
      "                    unique\n",
      "rech_distancia            \n",
      "0.0                   [No]\n",
      "1.0                   [Sí]\n",
      "          rech_distancia_\n",
      "                   unique\n",
      "RECHA_M4_                \n",
      "No                   [No]\n",
      "Sí                   [Sí]\n"
     ]
    }
   ],
   "source": [
    "re_rechazo('RECHA_M4','rech_distancia')"
   ]
  },
  {
   "cell_type": "markdown",
   "metadata": {},
   "source": [
    "## 'RECHA_M5'  (redefinida como 'rech_retribucion')\n",
    "\n",
    "(Solo para quienes **declaran haber rechazado una oferta de trabajo** -respuesta 1 en 'RECHA_TR' o 'rechazo'-)  \n",
    "\n",
    "(**Motivo del rechazo**) ¿Ha rechazado una oferta de trabajo porque consideraba que **no estaba adecuadamente remunerado**?"
   ]
  },
  {
   "cell_type": "code",
   "execution_count": 883,
   "metadata": {},
   "outputs": [
    {
     "data": {
      "text/plain": [
       "array(['1', ' ', '2', '9'], dtype=object)"
      ]
     },
     "execution_count": 883,
     "metadata": {},
     "output_type": "execute_result"
    }
   ],
   "source": [
    "df['RECHA_M5'].unique() # No informados como ' ' o '9'"
   ]
  },
  {
   "cell_type": "code",
   "execution_count": 884,
   "metadata": {},
   "outputs": [
    {
     "name": "stdout",
     "output_type": "stream",
     "text": [
      "             aux_traduce\n",
      "                  unique\n",
      "RECHA_M5                \n",
      "          [No aplicable]\n",
      "1                   [Sí]\n",
      "2                   [No]\n",
      "9                [NS/NC]\n"
     ]
    }
   ],
   "source": [
    "traduce('RECHA_M5')"
   ]
  },
  {
   "cell_type": "code",
   "execution_count": 885,
   "metadata": {},
   "outputs": [
    {
     "name": "stdout",
     "output_type": "stream",
     "text": [
      "[ 1.  2. nan]\n",
      "                 aux_traduce\n",
      "                      unique\n",
      "rech_retribucion            \n",
      "0.0                     [No]\n",
      "1.0                     [Sí]\n",
      "          rech_retribucion_\n",
      "                     unique\n",
      "RECHA_M5_                  \n",
      "No                     [No]\n",
      "Sí                     [Sí]\n"
     ]
    }
   ],
   "source": [
    "re_rechazo('RECHA_M5','rech_retribucion')"
   ]
  },
  {
   "cell_type": "markdown",
   "metadata": {},
   "source": [
    "## 'RECHA_M6'  (redefinida como 'rech_formacion')\n",
    "\n",
    "(Solo para quienes **declaran haber rechazado una oferta de trabajo** -respuesta 1 en 'RECHA_TR' o 'rechazo'-)  \n",
    "\n",
    "(**Motivo del rechazo**) ¿Ha rechazado una oferta de trabajo porque el nivel del puesto de trabajo **no estaba acorde con sus habilidades y conocimientos**?"
   ]
  },
  {
   "cell_type": "code",
   "execution_count": 886,
   "metadata": {},
   "outputs": [
    {
     "data": {
      "text/plain": [
       "array(['2', ' ', '1', '9'], dtype=object)"
      ]
     },
     "execution_count": 886,
     "metadata": {},
     "output_type": "execute_result"
    }
   ],
   "source": [
    "df['RECHA_M6'].unique() # No informados como ' ' o '9'"
   ]
  },
  {
   "cell_type": "code",
   "execution_count": 887,
   "metadata": {},
   "outputs": [
    {
     "name": "stdout",
     "output_type": "stream",
     "text": [
      "             aux_traduce\n",
      "                  unique\n",
      "RECHA_M6                \n",
      "          [No aplicable]\n",
      "1                   [Sí]\n",
      "2                   [No]\n",
      "9                [NS/NC]\n"
     ]
    }
   ],
   "source": [
    "traduce('RECHA_M6')"
   ]
  },
  {
   "cell_type": "code",
   "execution_count": 888,
   "metadata": {},
   "outputs": [
    {
     "name": "stdout",
     "output_type": "stream",
     "text": [
      "[ 1.  2. nan]\n",
      "               aux_traduce\n",
      "                    unique\n",
      "rech_formacion            \n",
      "0.0                   [No]\n",
      "1.0                   [Sí]\n",
      "          rech_formacion_\n",
      "                   unique\n",
      "RECHA_M6_                \n",
      "No                   [No]\n",
      "Sí                   [Sí]\n"
     ]
    }
   ],
   "source": [
    "re_rechazo('RECHA_M6','rech_formacion')"
   ]
  },
  {
   "cell_type": "markdown",
   "metadata": {},
   "source": [
    "## 'RECHA_M7'  (redefinida como 'rech_alternativa')\n",
    "\n",
    "(Solo para quienes **declaran haber rechazado una oferta de trabajo** -respuesta 1 en 'RECHA_TR' o 'rechazo'-)  \n",
    "\n",
    "(**Motivo del rechazo**) ¿Ha rechazado una oferta de trabajo porque tenía **otra oferta de trabajo o ya estaba trabajando**?"
   ]
  },
  {
   "cell_type": "code",
   "execution_count": 889,
   "metadata": {},
   "outputs": [
    {
     "data": {
      "text/plain": [
       "array(['1', ' ', '2', '9'], dtype=object)"
      ]
     },
     "execution_count": 889,
     "metadata": {},
     "output_type": "execute_result"
    }
   ],
   "source": [
    "df['RECHA_M7'].unique() # No informados como ' ' o '9'"
   ]
  },
  {
   "cell_type": "code",
   "execution_count": 890,
   "metadata": {},
   "outputs": [
    {
     "name": "stdout",
     "output_type": "stream",
     "text": [
      "             aux_traduce\n",
      "                  unique\n",
      "RECHA_M7                \n",
      "          [No aplicable]\n",
      "1                   [Sí]\n",
      "2                   [No]\n",
      "9                [NS/NC]\n"
     ]
    }
   ],
   "source": [
    "traduce('RECHA_M7')"
   ]
  },
  {
   "cell_type": "code",
   "execution_count": 891,
   "metadata": {},
   "outputs": [
    {
     "name": "stdout",
     "output_type": "stream",
     "text": [
      "[ 1.  2. nan]\n",
      "                 aux_traduce\n",
      "                      unique\n",
      "rech_alternativa            \n",
      "0.0                     [No]\n",
      "1.0                     [Sí]\n",
      "          rech_alternativa_\n",
      "                     unique\n",
      "RECHA_M7_                  \n",
      "No                     [No]\n",
      "Sí                     [Sí]\n"
     ]
    }
   ],
   "source": [
    "re_rechazo('RECHA_M7','rech_alternativa')"
   ]
  },
  {
   "cell_type": "markdown",
   "metadata": {},
   "source": [
    "## 'RECHA_M8'  (redefinida como 'rech_opo')\n",
    "\n",
    "(Solo para quienes **declaran haber rechazado una oferta de trabajo** -respuesta 1 en 'RECHA_TR' o 'rechazo'-)  \n",
    "\n",
    "(**Motivo del rechazo**) ¿Ha rechazado una oferta de trabajo porque **estaba preparando oposiciones**?"
   ]
  },
  {
   "cell_type": "code",
   "execution_count": 892,
   "metadata": {},
   "outputs": [
    {
     "data": {
      "text/plain": [
       "array(['2', ' ', '1', '9'], dtype=object)"
      ]
     },
     "execution_count": 892,
     "metadata": {},
     "output_type": "execute_result"
    }
   ],
   "source": [
    "df['RECHA_M8'].unique() # No informados como ' ' o '9'"
   ]
  },
  {
   "cell_type": "code",
   "execution_count": 893,
   "metadata": {},
   "outputs": [
    {
     "name": "stdout",
     "output_type": "stream",
     "text": [
      "             aux_traduce\n",
      "                  unique\n",
      "RECHA_M8                \n",
      "          [No aplicable]\n",
      "1                   [Sí]\n",
      "2                   [No]\n",
      "9                [NS/NC]\n"
     ]
    }
   ],
   "source": [
    "traduce('RECHA_M8')"
   ]
  },
  {
   "cell_type": "code",
   "execution_count": 894,
   "metadata": {},
   "outputs": [
    {
     "name": "stdout",
     "output_type": "stream",
     "text": [
      "[ 1.  2. nan]\n",
      "         aux_traduce\n",
      "              unique\n",
      "rech_opo            \n",
      "0.0             [No]\n",
      "1.0             [Sí]\n",
      "          rech_opo_\n",
      "             unique\n",
      "RECHA_M8_          \n",
      "No             [No]\n",
      "Sí             [Sí]\n"
     ]
    }
   ],
   "source": [
    "re_rechazo('RECHA_M8','rech_opo')"
   ]
  },
  {
   "cell_type": "markdown",
   "metadata": {},
   "source": [
    "## 'RECHA_M9'  (redefinida como 'rech_otro')\n",
    "\n",
    "(Solo para quienes **declaran haber rechazado una oferta de trabajo** -respuesta 1 en 'RECHA_TR' o 'rechazo'-)  \n",
    "\n",
    "(**Motivo del rechazo**) ¿Ha rechazado una oferta de trabajo por **otros motivos**?"
   ]
  },
  {
   "cell_type": "code",
   "execution_count": 895,
   "metadata": {},
   "outputs": [
    {
     "data": {
      "text/plain": [
       "array(['2', ' ', '1', '9'], dtype=object)"
      ]
     },
     "execution_count": 895,
     "metadata": {},
     "output_type": "execute_result"
    }
   ],
   "source": [
    "df['RECHA_M9'].unique() # No informados como ' ' o '9'"
   ]
  },
  {
   "cell_type": "code",
   "execution_count": 896,
   "metadata": {},
   "outputs": [
    {
     "name": "stdout",
     "output_type": "stream",
     "text": [
      "             aux_traduce\n",
      "                  unique\n",
      "RECHA_M9                \n",
      "          [No aplicable]\n",
      "1                   [Sí]\n",
      "2                   [No]\n",
      "9                [NS/NC]\n"
     ]
    }
   ],
   "source": [
    "traduce('RECHA_M9')"
   ]
  },
  {
   "cell_type": "code",
   "execution_count": 897,
   "metadata": {},
   "outputs": [
    {
     "name": "stdout",
     "output_type": "stream",
     "text": [
      "[ 1.  2. nan]\n",
      "          aux_traduce\n",
      "               unique\n",
      "rech_otro            \n",
      "0.0              [No]\n",
      "1.0              [Sí]\n",
      "          rech_otro_\n",
      "              unique\n",
      "RECHA_M9_           \n",
      "No              [No]\n",
      "Sí              [Sí]\n"
     ]
    }
   ],
   "source": [
    "re_rechazo('RECHA_M9','rech_otro')"
   ]
  },
  {
   "cell_type": "markdown",
   "metadata": {},
   "source": [
    "# BLOQUE F. INFORMACIÓN DEL HOGAR"
   ]
  },
  {
   "cell_type": "markdown",
   "metadata": {},
   "source": [
    "## 'HO_F1'  (redefinida como 'e_civil')\n",
    "\n",
    "**Estado civil**."
   ]
  },
  {
   "cell_type": "code",
   "execution_count": 898,
   "metadata": {},
   "outputs": [
    {
     "data": {
      "text/plain": [
       "array([1, 2, 4, 5, 9, 3])"
      ]
     },
     "execution_count": 898,
     "metadata": {},
     "output_type": "execute_result"
    }
   ],
   "source": [
    "df['HO_F1'].unique() # No informados como '9'"
   ]
  },
  {
   "cell_type": "code",
   "execution_count": 899,
   "metadata": {},
   "outputs": [
    {
     "name": "stdout",
     "output_type": "stream",
     "text": [
      "        aux_traduce\n",
      "             unique\n",
      "HO_F1              \n",
      "1         [Soltero]\n",
      "2          [Casado]\n",
      "3           [Viudo]\n",
      "4        [Separado]\n",
      "5      [Divorciado]\n",
      "9           [NS/NC]\n"
     ]
    }
   ],
   "source": [
    "traduce('HO_F1')"
   ]
  },
  {
   "cell_type": "code",
   "execution_count": 900,
   "metadata": {},
   "outputs": [
    {
     "name": "stdout",
     "output_type": "stream",
     "text": [
      "[ 1.  2.  3.  4.  5. nan]\n"
     ]
    }
   ],
   "source": [
    "no_respuesta('HO_F1',tipo='int')\n",
    "redefine('HO_F1','e_civil')"
   ]
  },
  {
   "cell_type": "code",
   "execution_count": 901,
   "metadata": {},
   "outputs": [
    {
     "data": {
      "text/plain": [
       "array(['Soltero', 'Casado', 'Separado', 'Divorciado', nan, 'Viudo'],\n",
       "      dtype=object)"
      ]
     },
     "execution_count": 901,
     "metadata": {},
     "output_type": "execute_result"
    }
   ],
   "source": [
    "df['e_civil_'].unique()"
   ]
  },
  {
   "cell_type": "markdown",
   "metadata": {},
   "source": [
    "## 'HO_PAREJ'  (redefinida como 'pareja')\n",
    "\n",
    "¿Convive en pareja?"
   ]
  },
  {
   "cell_type": "code",
   "execution_count": 902,
   "metadata": {},
   "outputs": [
    {
     "data": {
      "text/plain": [
       "array([2, 1, 9])"
      ]
     },
     "execution_count": 902,
     "metadata": {},
     "output_type": "execute_result"
    }
   ],
   "source": [
    "df['HO_PAREJ'].unique() # No informados como '9'"
   ]
  },
  {
   "cell_type": "code",
   "execution_count": 903,
   "metadata": {},
   "outputs": [
    {
     "name": "stdout",
     "output_type": "stream",
     "text": [
      "         aux_traduce\n",
      "              unique\n",
      "HO_PAREJ            \n",
      "1               [Sí]\n",
      "2               [No]\n",
      "9            [NS/NC]\n"
     ]
    }
   ],
   "source": [
    "traduce('HO_PAREJ')"
   ]
  },
  {
   "cell_type": "code",
   "execution_count": 904,
   "metadata": {},
   "outputs": [
    {
     "name": "stdout",
     "output_type": "stream",
     "text": [
      "[ 1.  2. nan]\n",
      "       aux_traduce\n",
      "            unique\n",
      "pareja            \n",
      "0.0           [No]\n",
      "1.0           [Sí]\n"
     ]
    }
   ],
   "source": [
    "no_respuesta('HO_PAREJ',tipo='int')\n",
    "redefine('HO_PAREJ','pareja',si_no=True)"
   ]
  },
  {
   "cell_type": "markdown",
   "metadata": {},
   "source": [
    "## 'HO_NPER'  (redefinida como 'n_hogar')\n",
    "\n",
    "**Número de personas que viven en el hogar**, incluyendo al entrevistado. "
   ]
  },
  {
   "cell_type": "code",
   "execution_count": 905,
   "metadata": {},
   "outputs": [
    {
     "data": {
      "text/plain": [
       "array([3, 2, 1, 4, 5, 6, 9])"
      ]
     },
     "execution_count": 905,
     "metadata": {},
     "output_type": "execute_result"
    }
   ],
   "source": [
    "df['HO_NPER'].unique() # No informados como '9'"
   ]
  },
  {
   "cell_type": "code",
   "execution_count": 906,
   "metadata": {},
   "outputs": [
    {
     "name": "stdout",
     "output_type": "stream",
     "text": [
      "        aux_traduce\n",
      "             unique\n",
      "HO_NPER            \n",
      "1               [1]\n",
      "2               [2]\n",
      "3               [3]\n",
      "4               [4]\n",
      "5               [5]\n",
      "6         [6 o más]\n",
      "9           [NS/NC]\n"
     ]
    }
   ],
   "source": [
    "traduce('HO_NPER')"
   ]
  },
  {
   "cell_type": "code",
   "execution_count": 907,
   "metadata": {},
   "outputs": [
    {
     "name": "stdout",
     "output_type": "stream",
     "text": [
      "[ 1.  2.  3.  4.  5.  6. nan]\n"
     ]
    }
   ],
   "source": [
    "no_respuesta('HO_NPER',tipo='int')\n",
    "redefine('HO_NPER','n_hogar')"
   ]
  },
  {
   "cell_type": "markdown",
   "metadata": {},
   "source": [
    "## 'HO_NPER_TR'  (redefinida como 'n_hogar_tr')\n",
    "\n",
    "**Número de personas en el hogar que trabajan** actualmente. "
   ]
  },
  {
   "cell_type": "code",
   "execution_count": 908,
   "metadata": {},
   "outputs": [
    {
     "data": {
      "text/plain": [
       "array([3, 1, 2, 5, 0, 4, 9, 6])"
      ]
     },
     "execution_count": 908,
     "metadata": {},
     "output_type": "execute_result"
    }
   ],
   "source": [
    "df['HO_NPER_TR'].unique() # No informados como '9'"
   ]
  },
  {
   "cell_type": "code",
   "execution_count": 909,
   "metadata": {},
   "outputs": [
    {
     "name": "stdout",
     "output_type": "stream",
     "text": [
      "           aux_traduce\n",
      "                unique\n",
      "HO_NPER_TR            \n",
      "0                  [0]\n",
      "1                  [1]\n",
      "2                  [2]\n",
      "3                  [3]\n",
      "4                  [4]\n",
      "5                  [5]\n",
      "6            [6 o más]\n",
      "9              [NS/NC]\n"
     ]
    }
   ],
   "source": [
    "traduce('HO_NPER_TR')"
   ]
  },
  {
   "cell_type": "code",
   "execution_count": 910,
   "metadata": {},
   "outputs": [
    {
     "name": "stdout",
     "output_type": "stream",
     "text": [
      "[ 0.  1.  2.  3.  4.  5.  6. nan]\n"
     ]
    }
   ],
   "source": [
    "no_respuesta('HO_NPER_TR',tipo='int')\n",
    "redefine('HO_NPER_TR','n_hogar_tr')"
   ]
  },
  {
   "cell_type": "markdown",
   "metadata": {},
   "source": [
    "## 'HO_TIPO'  \n",
    "\n",
    "**Tipo de hogar**."
   ]
  },
  {
   "cell_type": "code",
   "execution_count": 911,
   "metadata": {},
   "outputs": [
    {
     "data": {
      "text/plain": [
       "array([8, 4, 1, 6, 5, 3, 2, 7, 9])"
      ]
     },
     "execution_count": 911,
     "metadata": {},
     "output_type": "execute_result"
    }
   ],
   "source": [
    "df['HO_TIPO'].unique() # No informados como '9'"
   ]
  },
  {
   "cell_type": "code",
   "execution_count": 912,
   "metadata": {},
   "outputs": [
    {
     "name": "stdout",
     "output_type": "stream",
     "text": [
      "                                                                                     aux_traduce\n",
      "                                                                                          unique\n",
      "HO_TIPO                                                                                         \n",
      "1                                                                            [Hogar unipersonal]\n",
      "2                             [Padre o madre solo/a que convive con algún hijo menor de 25 años]\n",
      "3                        [Padre o madre solo/a que convive con todos sus hijos de 25 años o más]\n",
      "4                                                    [Pareja sin hijos que convivan en el hogar]\n",
      "5                            [Pareja con algún hijo menor de 25 años y que conviven en el hogar]\n",
      "6           [Pareja con algún hijo menor pero todos de 25 años ó más y que conviven en el hogar]\n",
      "7        [Pareja, o un padre/madre, que conviven con hijos menores de 25 años, y otras personas]\n",
      "8                                                                           [Otro tipo de hogar]\n",
      "9                                                                                        [NS/NC]\n"
     ]
    }
   ],
   "source": [
    "traduce('HO_TIPO')"
   ]
  },
  {
   "cell_type": "code",
   "execution_count": 913,
   "metadata": {},
   "outputs": [
    {
     "name": "stdout",
     "output_type": "stream",
     "text": [
      "[1. 2. 3. 4. 5. 6. 7. 8. 9.]\n"
     ]
    }
   ],
   "source": [
    "no_respuesta('HO_TIPO')"
   ]
  },
  {
   "cell_type": "markdown",
   "metadata": {},
   "source": [
    "# BLOQUE VARIABLES ADICIONALES\n",
    "\n",
    "Se omite."
   ]
  },
  {
   "cell_type": "markdown",
   "metadata": {},
   "source": [
    "## Organización de archivos csv"
   ]
  },
  {
   "cell_type": "code",
   "execution_count": 914,
   "metadata": {
    "scrolled": true
   },
   "outputs": [],
   "source": [
    "df[v_originales+v_originales_L].to_csv('data/Master_19_procesado.csv')"
   ]
  },
  {
   "cell_type": "code",
   "execution_count": 915,
   "metadata": {},
   "outputs": [],
   "source": [
    "df[v_modelos+v_modelos_L].to_csv('data/Master_19_modelos.csv')"
   ]
  },
  {
   "cell_type": "code",
   "execution_count": 916,
   "metadata": {},
   "outputs": [
    {
     "data": {
      "text/plain": [
       "(291, 224, 143, 132)"
      ]
     },
     "execution_count": 916,
     "metadata": {},
     "output_type": "execute_result"
    }
   ],
   "source": [
    "len(v_originales),len(v_originales_L),len(v_modelos),len(v_modelos_L)"
   ]
  },
  {
   "cell_type": "code",
   "execution_count": 917,
   "metadata": {},
   "outputs": [],
   "source": [
    "df_dict = pd.DataFrame.from_dict(D_dict, orient='columns')\n",
    "df_dict.to_csv('data/D_dict.csv')"
   ]
  },
  {
   "cell_type": "code",
   "execution_count": 918,
   "metadata": {},
   "outputs": [],
   "source": [
    "df_describe = pd.DataFrame.from_dict(D_describe, orient='index',columns=['valor'])\n",
    "df_describe.to_csv('data/D_describe.csv')"
   ]
  },
  {
   "cell_type": "code",
   "execution_count": null,
   "metadata": {},
   "outputs": [],
   "source": []
  }
 ],
 "metadata": {
  "celltoolbar": "Raw Cell Format",
  "kernelspec": {
   "display_name": "Python 3",
   "language": "python",
   "name": "python3"
  },
  "language_info": {
   "codemirror_mode": {
    "name": "ipython",
    "version": 3
   },
   "file_extension": ".py",
   "mimetype": "text/x-python",
   "name": "python",
   "nbconvert_exporter": "python",
   "pygments_lexer": "ipython3",
   "version": "3.6.9"
  }
 },
 "nbformat": 4,
 "nbformat_minor": 4
}
