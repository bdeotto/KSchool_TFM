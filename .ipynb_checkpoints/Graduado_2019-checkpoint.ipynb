{
 "cells": [
  {
   "cell_type": "code",
   "execution_count": 1,
   "metadata": {},
   "outputs": [],
   "source": [
    "import pandas as pd\n",
    "import numpy as np\n",
    "pd.options.display.max_columns=None\n",
    "pd.options.display.max_colwidth=300\n",
    "import matplotlib.pyplot as plt\n",
    "import seaborn as sns"
   ]
  },
  {
   "cell_type": "markdown",
   "metadata": {},
   "source": [
    "### Loading the data\n",
    "Dataset 'Encuesta_insercion_laboral_titulados_universitarios_2019' en formato csv.   \n",
    "\n",
    "Enlace a fuente (INE): https://www.ine.es/dyngs/INEbase/es/operacion.htm?c=Estadistica_C&cid=1254736176991&menu=resultados&idp=1254735573113#!tabs-1254736195339"
   ]
  },
  {
   "cell_type": "code",
   "execution_count": 2,
   "metadata": {},
   "outputs": [
    {
     "name": "stderr",
     "output_type": "stream",
     "text": [
      "/home/bea/.local/lib/python3.6/site-packages/IPython/core/interactiveshell.py:3072: DtypeWarning: Columns (119) have mixed types.Specify dtype option on import or set low_memory=False.\n",
      "  interactivity=interactivity, compiler=compiler, result=result)\n"
     ]
    }
   ],
   "source": [
    "df_grad=pd.read_csv('/home/bea/Escritorio/KSchool_TFM/Principales/Encuesta_insercion_laboral_titulados_universitarios_2019/EILU_GRADUADOS/CSV/EILU_GRAD_2019.csv',\n",
    "                    sep='\\t')"
   ]
  },
  {
   "cell_type": "code",
   "execution_count": 3,
   "metadata": {},
   "outputs": [
    {
     "data": {
      "text/plain": [
       "(31651, 299)"
      ]
     },
     "execution_count": 3,
     "metadata": {},
     "output_type": "execute_result"
    }
   ],
   "source": [
    "df_grad.shape"
   ]
  },
  {
   "cell_type": "code",
   "execution_count": 4,
   "metadata": {},
   "outputs": [
    {
     "name": "stdout",
     "output_type": "stream",
     "text": [
      "IDENT int64\n",
      "SEXO int64\n",
      "EDAD int64\n",
      "NACIO int64\n",
      "NACIO1 object\n",
      "NACIO2 object\n",
      "PAIS_NACI int64\n",
      "TITU int64\n",
      "RAMA int64\n",
      "AMBITO int64\n",
      "T_UNIV int64\n",
      "DISCA int64\n",
      "PROXY int64\n",
      "LUG_RES_PAIS int64\n",
      "PAIS_NAC_PADRE int64\n",
      "ESTUDIOS_PADRE int64\n",
      "PAIS_NAC_MADRE int64\n",
      "ESTUDIOS_MADRE int64\n",
      "EST_B1 int64\n",
      "EST_B2_1 object\n",
      "EST_B2_2 object\n",
      "EST_B2_3 object\n",
      "EST_B2_4 object\n",
      "EST_B2_5 object\n",
      "EST_M1 int64\n",
      "EST_M2 object\n",
      "EST_M3 object\n",
      "EST_M4 object\n",
      "EST_MES int64\n",
      "EST_B8 int64\n",
      "SAT1 int64\n",
      "SAT2 object\n",
      "EST_B11_1 int64\n",
      "EST_B11_2 int64\n",
      "EST_B11_3 int64\n",
      "EST_B11_4 int64\n",
      "EST_B11_5 int64\n",
      "EST_B11_6 int64\n",
      "EST_B11_7 int64\n",
      "EST_B12 object\n",
      "EST_B13_AMB1 object\n",
      "EST_B14_1 object\n",
      "EST_B15_1 object\n",
      "EST_B13_AMB2 object\n",
      "EST_B14_2 object\n",
      "EST_B15_2 object\n",
      "EST_B13_AMB3 object\n",
      "EST_B14_3 object\n",
      "EST_B15_3 object\n",
      "EST_B16 object\n",
      "EST_B17_M1 object\n",
      "EST_B18_1 object\n",
      "EST_B19_1 object\n",
      "EST_B17_M2 object\n",
      "EST_B18_2 object\n",
      "EST_B19_2 object\n",
      "EST_B17_M3 object\n",
      "EST_B18_3 object\n",
      "EST_B19_3 object\n",
      "EST_B21 object\n",
      "EST_B22 object\n",
      "EST_B23 object\n",
      "EST_B24 object\n",
      "EST_B25_FA1 object\n",
      "EST_B26_1 object\n",
      "EST_B27_1 object\n",
      "EST_B25_FA2 object\n",
      "EST_B26_2 object\n",
      "EST_B27_2 object\n",
      "EST_B25_FA3 object\n",
      "EST_B26_3 object\n",
      "EST_B27_3 object\n",
      "EST_B28 object\n",
      "EST_B29_FA1 object\n",
      "EST_B30_1 object\n",
      "EST_B31_1 object\n",
      "EST_B29_FA2 object\n",
      "EST_B30_2 object\n",
      "EST_B31_2 object\n",
      "EST_B29_FA3 object\n",
      "EST_B30_3 object\n",
      "EST_B31_3 object\n",
      "EST2_SA object\n",
      "EST2_NC int64\n",
      "IDI_MT1 int64\n",
      "IDI_MT2 object\n",
      "IDIOMAS int64\n",
      "IDIOMA1 object\n",
      "NIV_ID1 object\n",
      "ACREIDI1 object\n",
      "TIPOACREIDI1 object\n",
      "IDIOMA2 object\n",
      "NIV_ID2 object\n",
      "ACREIDI2 object\n",
      "TIPOACREIDI2 object\n",
      "IDIOMA3 object\n",
      "NIV_ID3 object\n",
      "ACREIDI3 object\n",
      "TIPOACREIDI3 object\n",
      "IDIOMA4 object\n",
      "NIV_ID4 object\n",
      "ACREIDI4 object\n",
      "TIPOACREIDI4 object\n",
      "TITIDI object\n",
      "TIC int64\n",
      "EST_B38_1 int64\n",
      "EST_B39_1 object\n",
      "EST_B38_2 int64\n",
      "EST_B39_2 object\n",
      "EST_B38_3 int64\n",
      "EST_B39_3 object\n",
      "EST_B38_4 int64\n",
      "EST_B39_4 object\n",
      "EST_B38_5 int64\n",
      "EST_B39_5 object\n",
      "EST_B38_6 int64\n",
      "EST_B39_6 object\n",
      "EST_B38_7 int64\n",
      "EST_B39_7 object\n",
      "MOV_IN object\n",
      "MOVRAZ1 object\n",
      "MOVRAZ2 object\n",
      "MOVRAZ3 object\n",
      "MOVRAZ4 object\n",
      "MOVRAZ5 object\n",
      "MVFUERA int64\n",
      "MOVPAI1 object\n",
      "MOVPAI2 object\n",
      "MOVPAI3 object\n",
      "MOVRA21 object\n",
      "MOVRA22 object\n",
      "MOVRA23 object\n",
      "MOVRA24 object\n",
      "MOVRA25 object\n",
      "MOVRA26 object\n",
      "MOV_C7 object\n",
      "MOV_C8_1 object\n",
      "MOV_C8_2 object\n",
      "MOV_C8_3 object\n",
      "MOV_C8_4 object\n",
      "MOV_C8_5 object\n",
      "MOV_C8_6 object\n",
      "MOV_C9 object\n",
      "RETORNO object\n",
      "TRBPRN1 int64\n",
      "TRBPRN2 object\n",
      "TRINAC_D4 object\n",
      "TRINAC_D5 object\n",
      "TRINAC_D6 object\n",
      "TRPARA_D5 object\n",
      "TRPARA_D6 object\n",
      "TRPARA_D7_1 object\n",
      "TRPARA_D7_2 object\n",
      "TRPARA_D7_3 object\n",
      "TRPARA_D7_4 object\n",
      "TRPARA_D7_5 object\n",
      "TRPARA_D7_6 object\n",
      "TRPARA_D7_7 object\n",
      "TRPARA_D7_8 object\n",
      "TRPARA_D7_9 object\n",
      "TRPARA_D7_10 object\n",
      "TRPARA_D8_1 object\n",
      "TRPARA_D8_2 object\n",
      "TRPARA_D8_3 object\n",
      "TRPARA_D8_4 object\n",
      "TRPARA_D8_5 object\n",
      "TRPARA_D8_6 object\n",
      "TRAC_D9 object\n",
      "LUG_TRAB_PAIS object\n",
      "SIT_PRO object\n",
      "JORNADA object\n",
      "TRABOC object\n",
      "TR_CNAE object\n",
      "TR_TAM object\n",
      "TR_ANIO object\n",
      "TR_SUELDO object\n",
      "TR_D19 object\n",
      "TR_D20 object\n",
      "TR_D21 object\n",
      "TR_D22_1 object\n",
      "TR_D22_2 object\n",
      "TR_D22_3 object\n",
      "TR_D22_4 object\n",
      "TR_D22_5 object\n",
      "TR_D22_6 object\n",
      "TR_D23 object\n",
      "HL_E1 int64\n",
      "HL_E2 object\n",
      "HL_E3 int64\n",
      "HL_E5 object\n",
      "HL_JOR object\n",
      "HL_E7 object\n",
      "HL_E8 object\n",
      "HA_TRAB int64\n",
      "HATR_E11 object\n",
      "HATR_E12 object\n",
      "HATR_BSQ1 object\n",
      "HATR_BSQ2 object\n",
      "HATR_BSQ3 object\n",
      "HATR_BSQ4 object\n",
      "HATR_BSQ5 object\n",
      "HATR_BSQ6 object\n",
      "HATR_BSQ7 object\n",
      "HATR_BSQ8 object\n",
      "HATR_BSQ9 object\n",
      "HATR_BSQ10 object\n",
      "HATR_BSQ11 object\n",
      "P_CONTI object\n",
      "PR_PAIS object\n",
      "PR_OCU object\n",
      "PR_SIT_PR object\n",
      "PR_JOR object\n",
      "PR_NIVEL object\n",
      "PR_AREA object\n",
      "PR_CONOC object\n",
      "PR_SUELDO object\n",
      "HATR_TIEMP object\n",
      "HATR_NUM object\n",
      "HATR_E27 object\n",
      "NOTRAB_BUS object\n",
      "NOTRAB_BUSM object\n",
      "NOTRAB_BUST object\n",
      "NOTRAB_BSQ1 object\n",
      "NOTRAB_BSQ2 object\n",
      "NOTRAB_BSQ3 object\n",
      "NOTRAB_BSQ4 object\n",
      "NOTRAB_BSQ5 object\n",
      "NOTRAB_BSQ6 object\n",
      "NOTRAB_BSQ7 object\n",
      "NOTRAB_BSQ8 object\n",
      "NOTRAB_BSQ9 object\n",
      "NOTRAB_BSQ10 object\n",
      "NOTRAB_DIF1 object\n",
      "NOTRAB_DIF2 object\n",
      "NOTRAB_DIF3 object\n",
      "NOTRAB_DIF4 object\n",
      "NOTRAB_DIF5 object\n",
      "NOTRAB_DIF6 object\n",
      "RECHA_TR int64\n",
      "RECHA_M1 object\n",
      "RECHA_M2 object\n",
      "RECHA_M3 object\n",
      "RECHA_M4 object\n",
      "RECHA_M5 object\n",
      "RECHA_M6 object\n",
      "RECHA_M7 object\n",
      "RECHA_M8 object\n",
      "RECHA_M9 object\n",
      "HO_F1 int64\n",
      "HO_PAREJ int64\n",
      "HO_NPER int64\n",
      "HO_NPER_TR int64\n",
      "HO_TIPO int64\n",
      "ALSSM15 int64\n",
      "COTIZ15 object\n",
      "DIAS15 float64\n",
      "BCOTC15 object\n",
      "ALSSM16 int64\n",
      "COTIZ16 object\n",
      "DIAS16 float64\n",
      "BCOTC16 object\n",
      "ALSSM17 int64\n",
      "COTIZ17 object\n",
      "DIAS17 float64\n",
      "BCOTC17 object\n",
      "ALSSM18 int64\n",
      "COTIZ18 object\n",
      "DIAS18 float64\n",
      "BCOTC18 object\n",
      "ALSSM19 int64\n",
      "COTIZ19 object\n",
      "DIAS19 float64\n",
      "BCOTC19 object\n",
      "N_CURS int64\n",
      "DENCUR1 object\n",
      "DURCUR1 object\n",
      "RESCUR1 object\n",
      "ANHCUR1 object\n",
      "DENCUR2 object\n",
      "DURCUR2 object\n",
      "RESCUR2 object\n",
      "ANHCUR2 object\n",
      "DENCUR3 object\n",
      "DURCUR3 object\n",
      "RESCUR3 object\n",
      "ANHCUR3 object\n",
      "DENCUR4 object\n",
      "DURCUR4 object\n",
      "RESCUR4 object\n",
      "ANHCUR4 object\n",
      "DENCUR5 object\n",
      "DURCUR5 object\n",
      "RESCUR5 object\n",
      "ANHCUR5 object\n",
      "DENCUR6 object\n",
      "DURCUR6 object\n",
      "RESCUR6 object\n",
      "ANHCUR6 object\n",
      "FACTOR float64\n"
     ]
    }
   ],
   "source": [
    "for col in df_grad.columns:\n",
    "    print(col,df_grad[col].dtype)"
   ]
  },
  {
   "cell_type": "markdown",
   "metadata": {},
   "source": [
    "### Análisis descriptivo: funciones \n",
    "Funciones definidas para facilitar la inspección de variables categóricas: distribución de frecuencias relativas, distribuciones condicionadas, etc. "
   ]
  },
  {
   "cell_type": "code",
   "execution_count": 5,
   "metadata": {},
   "outputs": [],
   "source": [
    "def proporciones(col,dropna=True):\n",
    "    \"\"\" Frecuencias relativas de los valores que toma una variable categórica en orden ascendente.\n",
    "    Si dropna=False, incluye los valores NaN.\"\"\"\n",
    "    if dropna==True: \n",
    "        out=df_grad[col].value_counts(normalize=True,ascending=True)\n",
    "    else: \n",
    "        out=df_grad[col].value_counts(normalize=True,ascending=True,dropna=False)\n",
    "    return out"
   ]
  },
  {
   "cell_type": "code",
   "execution_count": 6,
   "metadata": {},
   "outputs": [],
   "source": [
    "def dist_condicionada(col,cond,rev=False):\n",
    "    \"\"\" Distribución de la columna col condicionada por la columna cond. Si rev=True, distribución de \n",
    "    cond condicionada por col.\"\"\"\n",
    "    if rev==False: \n",
    "        out=df_grad[[cond,col]].groupby([cond,col]).agg({col:'count'}\n",
    "                ).div(df_grad[[cond,col]].groupby(cond).agg({col:'count'}),level=cond)\n",
    "    else: \n",
    "        out=df_grad[[col,cond]].groupby([col,cond]).agg({cond:'count'}\n",
    "                ).div(df_grad[[col,cond]].groupby(col).agg({cond:'count'}),level=col)\n",
    "    return out"
   ]
  },
  {
   "cell_type": "markdown",
   "metadata": {},
   "source": [
    "### Inspección y ajustes\n",
    "Inspección del dataset, imputación de valores perdidos debido a los itinerarios de la encuesta y creación de variables nuevas para análisis descriptivo y predictivo. "
   ]
  },
  {
   "cell_type": "code",
   "execution_count": 7,
   "metadata": {},
   "outputs": [],
   "source": [
    "# Lista a la que se agregarán las variables incluidas en el modelo predictivo\n",
    "Variables=list()"
   ]
  },
  {
   "cell_type": "markdown",
   "metadata": {},
   "source": [
    "#### 'IDENT'\n",
    "**Índice** único del entrevistado."
   ]
  },
  {
   "cell_type": "code",
   "execution_count": 8,
   "metadata": {},
   "outputs": [
    {
     "data": {
      "text/plain": [
       "array([    1,     2,     3, ..., 31649, 31650, 31651])"
      ]
     },
     "execution_count": 8,
     "metadata": {},
     "output_type": "execute_result"
    }
   ],
   "source": [
    "df_grad['IDENT'].unique()"
   ]
  },
  {
   "cell_type": "markdown",
   "metadata": {},
   "source": [
    "#### 'SEXO'\n",
    "**Sexo**: '1'=Hombre, '2'='Mujer'"
   ]
  },
  {
   "cell_type": "code",
   "execution_count": 9,
   "metadata": {},
   "outputs": [
    {
     "data": {
      "text/plain": [
       "array([1, 2])"
      ]
     },
     "execution_count": 9,
     "metadata": {},
     "output_type": "execute_result"
    }
   ],
   "source": [
    "df_grad['SEXO'].unique() # No missing values"
   ]
  },
  {
   "cell_type": "code",
   "execution_count": 10,
   "metadata": {},
   "outputs": [
    {
     "data": {
      "text/plain": [
       "1    0.429528\n",
       "2    0.570472\n",
       "Name: SEXO, dtype: float64"
      ]
     },
     "execution_count": 10,
     "metadata": {},
     "output_type": "execute_result"
    }
   ],
   "source": [
    "proporciones('SEXO')"
   ]
  },
  {
   "cell_type": "markdown",
   "metadata": {},
   "source": [
    "#### Nueva variable 'fem'\n",
    "**'fem'**: 0=Hombre, 1=Mujer"
   ]
  },
  {
   "cell_type": "code",
   "execution_count": 11,
   "metadata": {},
   "outputs": [
    {
     "data": {
      "text/html": [
       "<div>\n",
       "<style scoped>\n",
       "    .dataframe tbody tr th:only-of-type {\n",
       "        vertical-align: middle;\n",
       "    }\n",
       "\n",
       "    .dataframe tbody tr th {\n",
       "        vertical-align: top;\n",
       "    }\n",
       "\n",
       "    .dataframe thead tr th {\n",
       "        text-align: left;\n",
       "    }\n",
       "\n",
       "    .dataframe thead tr:last-of-type th {\n",
       "        text-align: right;\n",
       "    }\n",
       "</style>\n",
       "<table border=\"1\" class=\"dataframe\">\n",
       "  <thead>\n",
       "    <tr>\n",
       "      <th></th>\n",
       "      <th>SEXO</th>\n",
       "    </tr>\n",
       "    <tr>\n",
       "      <th></th>\n",
       "      <th>unique</th>\n",
       "    </tr>\n",
       "    <tr>\n",
       "      <th>fem</th>\n",
       "      <th></th>\n",
       "    </tr>\n",
       "  </thead>\n",
       "  <tbody>\n",
       "    <tr>\n",
       "      <th>0</th>\n",
       "      <td>[1]</td>\n",
       "    </tr>\n",
       "    <tr>\n",
       "      <th>1</th>\n",
       "      <td>[2]</td>\n",
       "    </tr>\n",
       "  </tbody>\n",
       "</table>\n",
       "</div>"
      ],
      "text/plain": [
       "      SEXO\n",
       "    unique\n",
       "fem       \n",
       "0      [1]\n",
       "1      [2]"
      ]
     },
     "execution_count": 11,
     "metadata": {},
     "output_type": "execute_result"
    }
   ],
   "source": [
    "df_grad['fem']=0\n",
    "df_grad['fem'].mask(df_grad['SEXO']==2,1,inplace=True)\n",
    "df_grad[['SEXO','fem']].groupby('fem').agg(['unique']) # Comprobación"
   ]
  },
  {
   "cell_type": "code",
   "execution_count": 12,
   "metadata": {},
   "outputs": [],
   "source": [
    "Variables.append('fem')"
   ]
  },
  {
   "cell_type": "markdown",
   "metadata": {},
   "source": [
    "#### 'EDAD'\n",
    "**Edad** del entrevistado: 1=Menores de 30 años, 2=De 30 a 34 años, 3=De 35 y más años. "
   ]
  },
  {
   "cell_type": "code",
   "execution_count": 13,
   "metadata": {},
   "outputs": [
    {
     "data": {
      "text/plain": [
       "array([1, 2, 3])"
      ]
     },
     "execution_count": 13,
     "metadata": {},
     "output_type": "execute_result"
    }
   ],
   "source": [
    "df_grad['EDAD'].unique() # No missing values"
   ]
  },
  {
   "cell_type": "code",
   "execution_count": 14,
   "metadata": {},
   "outputs": [
    {
     "data": {
      "text/plain": [
       "3    0.224922\n",
       "2    0.278822\n",
       "1    0.496256\n",
       "Name: EDAD, dtype: float64"
      ]
     },
     "execution_count": 14,
     "metadata": {},
     "output_type": "execute_result"
    }
   ],
   "source": [
    "proporciones('EDAD')"
   ]
  },
  {
   "cell_type": "code",
   "execution_count": 15,
   "metadata": {},
   "outputs": [],
   "source": [
    "df_grad['edad']=df_grad['EDAD'] # Por homogeneidad en la notación del dataset de predicción\n",
    "Variables.append('edad')"
   ]
  },
  {
   "cell_type": "markdown",
   "metadata": {},
   "source": [
    "#### 'NACIO'\n",
    "**Nacionalidad** del entrevistado: 1=Española, 2=Española y otra, 3=Otra nacionalidad"
   ]
  },
  {
   "cell_type": "code",
   "execution_count": 16,
   "metadata": {},
   "outputs": [
    {
     "data": {
      "text/plain": [
       "array([1, 2, 3])"
      ]
     },
     "execution_count": 16,
     "metadata": {},
     "output_type": "execute_result"
    }
   ],
   "source": [
    "df_grad['NACIO'].unique() # No missing values"
   ]
  },
  {
   "cell_type": "code",
   "execution_count": 17,
   "metadata": {},
   "outputs": [
    {
     "data": {
      "text/plain": [
       "2    0.010837\n",
       "3    0.011027\n",
       "1    0.978137\n",
       "Name: NACIO, dtype: float64"
      ]
     },
     "execution_count": 17,
     "metadata": {},
     "output_type": "execute_result"
    }
   ],
   "source": [
    "proporciones('NACIO')"
   ]
  },
  {
   "cell_type": "markdown",
   "metadata": {},
   "source": [
    "#### Nueva variable 'esp'\n",
    "**Nacionalidad española** u otra: 0=Nacionalidad no española, 1=Nacionalidad española. "
   ]
  },
  {
   "cell_type": "code",
   "execution_count": 18,
   "metadata": {},
   "outputs": [
    {
     "data": {
      "text/html": [
       "<div>\n",
       "<style scoped>\n",
       "    .dataframe tbody tr th:only-of-type {\n",
       "        vertical-align: middle;\n",
       "    }\n",
       "\n",
       "    .dataframe tbody tr th {\n",
       "        vertical-align: top;\n",
       "    }\n",
       "\n",
       "    .dataframe thead tr th {\n",
       "        text-align: left;\n",
       "    }\n",
       "\n",
       "    .dataframe thead tr:last-of-type th {\n",
       "        text-align: right;\n",
       "    }\n",
       "</style>\n",
       "<table border=\"1\" class=\"dataframe\">\n",
       "  <thead>\n",
       "    <tr>\n",
       "      <th></th>\n",
       "      <th>esp</th>\n",
       "    </tr>\n",
       "    <tr>\n",
       "      <th></th>\n",
       "      <th>unique</th>\n",
       "    </tr>\n",
       "    <tr>\n",
       "      <th>NACIO</th>\n",
       "      <th></th>\n",
       "    </tr>\n",
       "  </thead>\n",
       "  <tbody>\n",
       "    <tr>\n",
       "      <th>1</th>\n",
       "      <td>[1]</td>\n",
       "    </tr>\n",
       "    <tr>\n",
       "      <th>2</th>\n",
       "      <td>[1]</td>\n",
       "    </tr>\n",
       "    <tr>\n",
       "      <th>3</th>\n",
       "      <td>[0]</td>\n",
       "    </tr>\n",
       "  </tbody>\n",
       "</table>\n",
       "</div>"
      ],
      "text/plain": [
       "         esp\n",
       "      unique\n",
       "NACIO       \n",
       "1        [1]\n",
       "2        [1]\n",
       "3        [0]"
      ]
     },
     "execution_count": 18,
     "metadata": {},
     "output_type": "execute_result"
    }
   ],
   "source": [
    "df_grad['esp']=1\n",
    "df_grad['esp'].mask(df_grad['NACIO']==3,0,inplace=True)\n",
    "df_grad[['esp','NACIO']].groupby(['NACIO']).agg(['unique']) # Comprobación"
   ]
  },
  {
   "cell_type": "code",
   "execution_count": 19,
   "metadata": {},
   "outputs": [],
   "source": [
    "Variables.append('esp')"
   ]
  },
  {
   "cell_type": "code",
   "execution_count": 20,
   "metadata": {},
   "outputs": [
    {
     "data": {
      "text/plain": [
       "0    0.011027\n",
       "1    0.988973\n",
       "Name: esp, dtype: float64"
      ]
     },
     "execution_count": 20,
     "metadata": {},
     "output_type": "execute_result"
    }
   ],
   "source": [
    "proporciones('esp')"
   ]
  },
  {
   "cell_type": "code",
   "execution_count": 21,
   "metadata": {},
   "outputs": [
    {
     "data": {
      "text/html": [
       "<div>\n",
       "<style scoped>\n",
       "    .dataframe tbody tr th:only-of-type {\n",
       "        vertical-align: middle;\n",
       "    }\n",
       "\n",
       "    .dataframe tbody tr th {\n",
       "        vertical-align: top;\n",
       "    }\n",
       "\n",
       "    .dataframe thead th {\n",
       "        text-align: right;\n",
       "    }\n",
       "</style>\n",
       "<table border=\"1\" class=\"dataframe\">\n",
       "  <thead>\n",
       "    <tr style=\"text-align: right;\">\n",
       "      <th></th>\n",
       "      <th></th>\n",
       "      <th>fem</th>\n",
       "    </tr>\n",
       "    <tr>\n",
       "      <th>esp</th>\n",
       "      <th>fem</th>\n",
       "      <th></th>\n",
       "    </tr>\n",
       "  </thead>\n",
       "  <tbody>\n",
       "    <tr>\n",
       "      <th rowspan=\"2\" valign=\"top\">0</th>\n",
       "      <th>0</th>\n",
       "      <td>0.343840</td>\n",
       "    </tr>\n",
       "    <tr>\n",
       "      <th>1</th>\n",
       "      <td>0.656160</td>\n",
       "    </tr>\n",
       "    <tr>\n",
       "      <th rowspan=\"2\" valign=\"top\">1</th>\n",
       "      <th>0</th>\n",
       "      <td>0.430484</td>\n",
       "    </tr>\n",
       "    <tr>\n",
       "      <th>1</th>\n",
       "      <td>0.569516</td>\n",
       "    </tr>\n",
       "  </tbody>\n",
       "</table>\n",
       "</div>"
      ],
      "text/plain": [
       "              fem\n",
       "esp fem          \n",
       "0   0    0.343840\n",
       "    1    0.656160\n",
       "1   0    0.430484\n",
       "    1    0.569516"
      ]
     },
     "execution_count": 21,
     "metadata": {},
     "output_type": "execute_result"
    }
   ],
   "source": [
    "# Distribución condicionada de sexos condicionada por nacionalidad española u otra: \n",
    "dist_condicionada('fem','esp')\n",
    "# La mayor presencia femenina entre los graduados se acentúa en el caso quienes no tienen nacionalidad española"
   ]
  },
  {
   "cell_type": "markdown",
   "metadata": {},
   "source": [
    "#### 'NACIO1'\n",
    "**País de primera nacionalidad**: 1=Un país de la UE, 2=Un país fuera de la UE, 9=NS/NC."
   ]
  },
  {
   "cell_type": "code",
   "execution_count": 22,
   "metadata": {},
   "outputs": [
    {
     "data": {
      "text/plain": [
       "array([' ', '2', '9', '1'], dtype=object)"
      ]
     },
     "execution_count": 22,
     "metadata": {},
     "output_type": "execute_result"
    }
   ],
   "source": [
    "df_grad['NACIO1'].unique() # Missing values as ' ' or '9'"
   ]
  },
  {
   "cell_type": "code",
   "execution_count": 23,
   "metadata": {},
   "outputs": [
    {
     "data": {
      "text/html": [
       "<div>\n",
       "<style scoped>\n",
       "    .dataframe tbody tr th:only-of-type {\n",
       "        vertical-align: middle;\n",
       "    }\n",
       "\n",
       "    .dataframe tbody tr th {\n",
       "        vertical-align: top;\n",
       "    }\n",
       "\n",
       "    .dataframe thead tr th {\n",
       "        text-align: left;\n",
       "    }\n",
       "\n",
       "    .dataframe thead tr:last-of-type th {\n",
       "        text-align: right;\n",
       "    }\n",
       "</style>\n",
       "<table border=\"1\" class=\"dataframe\">\n",
       "  <thead>\n",
       "    <tr>\n",
       "      <th></th>\n",
       "      <th>NACIO1</th>\n",
       "    </tr>\n",
       "    <tr>\n",
       "      <th></th>\n",
       "      <th>unique</th>\n",
       "    </tr>\n",
       "    <tr>\n",
       "      <th>NACIO</th>\n",
       "      <th></th>\n",
       "    </tr>\n",
       "  </thead>\n",
       "  <tbody>\n",
       "    <tr>\n",
       "      <th>1</th>\n",
       "      <td>[ ]</td>\n",
       "    </tr>\n",
       "    <tr>\n",
       "      <th>2</th>\n",
       "      <td>[2, 1, 9]</td>\n",
       "    </tr>\n",
       "    <tr>\n",
       "      <th>3</th>\n",
       "      <td>[9, 2, 1]</td>\n",
       "    </tr>\n",
       "  </tbody>\n",
       "</table>\n",
       "</div>"
      ],
      "text/plain": [
       "          NACIO1\n",
       "          unique\n",
       "NACIO           \n",
       "1            [ ]\n",
       "2      [2, 1, 9]\n",
       "3      [9, 2, 1]"
      ]
     },
     "execution_count": 23,
     "metadata": {},
     "output_type": "execute_result"
    }
   ],
   "source": [
    "df_grad[['NACIO','NACIO1']].groupby('NACIO').agg(['unique'])\n",
    "# Respuesta en blanco para quienes declararon solo nacionalidad española en 'NACIO'"
   ]
  },
  {
   "cell_type": "code",
   "execution_count": 24,
   "metadata": {},
   "outputs": [
    {
     "data": {
      "text/html": [
       "<div>\n",
       "<style scoped>\n",
       "    .dataframe tbody tr th:only-of-type {\n",
       "        vertical-align: middle;\n",
       "    }\n",
       "\n",
       "    .dataframe tbody tr th {\n",
       "        vertical-align: top;\n",
       "    }\n",
       "\n",
       "    .dataframe thead tr th {\n",
       "        text-align: left;\n",
       "    }\n",
       "\n",
       "    .dataframe thead tr:last-of-type th {\n",
       "        text-align: right;\n",
       "    }\n",
       "</style>\n",
       "<table border=\"1\" class=\"dataframe\">\n",
       "  <thead>\n",
       "    <tr>\n",
       "      <th></th>\n",
       "      <th>NACIO1</th>\n",
       "    </tr>\n",
       "    <tr>\n",
       "      <th></th>\n",
       "      <th>unique</th>\n",
       "    </tr>\n",
       "    <tr>\n",
       "      <th>NACIO</th>\n",
       "      <th></th>\n",
       "    </tr>\n",
       "  </thead>\n",
       "  <tbody>\n",
       "    <tr>\n",
       "      <th>1</th>\n",
       "      <td>[1.0]</td>\n",
       "    </tr>\n",
       "    <tr>\n",
       "      <th>2</th>\n",
       "      <td>[2.0, 1.0, nan]</td>\n",
       "    </tr>\n",
       "    <tr>\n",
       "      <th>3</th>\n",
       "      <td>[nan, 2.0, 1.0]</td>\n",
       "    </tr>\n",
       "  </tbody>\n",
       "</table>\n",
       "</div>"
      ],
      "text/plain": [
       "                NACIO1\n",
       "                unique\n",
       "NACIO                 \n",
       "1                [1.0]\n",
       "2      [2.0, 1.0, nan]\n",
       "3      [nan, 2.0, 1.0]"
      ]
     },
     "execution_count": 24,
     "metadata": {},
     "output_type": "execute_result"
    }
   ],
   "source": [
    "# Se imputa nacionalidad de un país de la UE (1) a quien declaró solo nacionalidad española en variable 'NACIO'\n",
    "df_grad['NACIO1'].mask(df_grad['NACIO']==1,1,inplace=True)\n",
    "# Se imputa None a respuesta en blanco y a NS/NC (9)\n",
    "df_grad['NACIO1'].replace({' ':None,'9':None},inplace=True)\n",
    "df_grad['NACIO1']=df_grad['NACIO1'].astype('float')\n",
    "df_grad[['NACIO','NACIO1']].groupby('NACIO').agg(['unique'])"
   ]
  },
  {
   "cell_type": "code",
   "execution_count": 25,
   "metadata": {},
   "outputs": [
    {
     "data": {
      "text/plain": [
       "NaN    0.001738\n",
       "2.0    0.012511\n",
       "1.0    0.985751\n",
       "Name: NACIO1, dtype: float64"
      ]
     },
     "execution_count": 25,
     "metadata": {},
     "output_type": "execute_result"
    }
   ],
   "source": [
    "proporciones('NACIO1',dropna=False)"
   ]
  },
  {
   "cell_type": "markdown",
   "metadata": {},
   "source": [
    "#### 'NACIO2'\n",
    "**País de segunda nacionalidad**: 1=Un país de la UE, 2=Un país fuera de la UE, 9=NS/NC.  \n",
    "\n",
    "Nota: Se añade valor 0=Sin segunda nacionalidad."
   ]
  },
  {
   "cell_type": "code",
   "execution_count": 26,
   "metadata": {},
   "outputs": [
    {
     "data": {
      "text/plain": [
       "array([' ', '1', '2'], dtype=object)"
      ]
     },
     "execution_count": 26,
     "metadata": {},
     "output_type": "execute_result"
    }
   ],
   "source": [
    "df_grad['NACIO2'].unique() # Missing values as ' '"
   ]
  },
  {
   "cell_type": "code",
   "execution_count": 27,
   "metadata": {},
   "outputs": [
    {
     "data": {
      "text/html": [
       "<div>\n",
       "<style scoped>\n",
       "    .dataframe tbody tr th:only-of-type {\n",
       "        vertical-align: middle;\n",
       "    }\n",
       "\n",
       "    .dataframe tbody tr th {\n",
       "        vertical-align: top;\n",
       "    }\n",
       "\n",
       "    .dataframe thead tr th {\n",
       "        text-align: left;\n",
       "    }\n",
       "\n",
       "    .dataframe thead tr:last-of-type th {\n",
       "        text-align: right;\n",
       "    }\n",
       "</style>\n",
       "<table border=\"1\" class=\"dataframe\">\n",
       "  <thead>\n",
       "    <tr>\n",
       "      <th></th>\n",
       "      <th>NACIO2</th>\n",
       "    </tr>\n",
       "    <tr>\n",
       "      <th></th>\n",
       "      <th>unique</th>\n",
       "    </tr>\n",
       "    <tr>\n",
       "      <th>NACIO</th>\n",
       "      <th></th>\n",
       "    </tr>\n",
       "  </thead>\n",
       "  <tbody>\n",
       "    <tr>\n",
       "      <th>1</th>\n",
       "      <td>[ ]</td>\n",
       "    </tr>\n",
       "    <tr>\n",
       "      <th>2</th>\n",
       "      <td>[ ]</td>\n",
       "    </tr>\n",
       "    <tr>\n",
       "      <th>3</th>\n",
       "      <td>[ , 1, 2]</td>\n",
       "    </tr>\n",
       "  </tbody>\n",
       "</table>\n",
       "</div>"
      ],
      "text/plain": [
       "          NACIO2\n",
       "          unique\n",
       "NACIO           \n",
       "1            [ ]\n",
       "2            [ ]\n",
       "3      [ , 1, 2]"
      ]
     },
     "execution_count": 27,
     "metadata": {},
     "output_type": "execute_result"
    }
   ],
   "source": [
    "df_grad[['NACIO','NACIO2']].groupby('NACIO').agg(['unique'])\n",
    "# Sin respuesta para quienes declaran 'nacionalidad española' y 'nacionalidad española y otra' (1 y 2 en 'NACIO')."
   ]
  },
  {
   "cell_type": "code",
   "execution_count": 28,
   "metadata": {},
   "outputs": [
    {
     "data": {
      "text/html": [
       "<div>\n",
       "<style scoped>\n",
       "    .dataframe tbody tr th:only-of-type {\n",
       "        vertical-align: middle;\n",
       "    }\n",
       "\n",
       "    .dataframe tbody tr th {\n",
       "        vertical-align: top;\n",
       "    }\n",
       "\n",
       "    .dataframe thead tr th {\n",
       "        text-align: left;\n",
       "    }\n",
       "\n",
       "    .dataframe thead tr:last-of-type th {\n",
       "        text-align: right;\n",
       "    }\n",
       "</style>\n",
       "<table border=\"1\" class=\"dataframe\">\n",
       "  <thead>\n",
       "    <tr>\n",
       "      <th></th>\n",
       "      <th>NACIO2</th>\n",
       "    </tr>\n",
       "    <tr>\n",
       "      <th></th>\n",
       "      <th>unique</th>\n",
       "    </tr>\n",
       "    <tr>\n",
       "      <th>NACIO</th>\n",
       "      <th></th>\n",
       "    </tr>\n",
       "  </thead>\n",
       "  <tbody>\n",
       "    <tr>\n",
       "      <th>1</th>\n",
       "      <td>[0.0]</td>\n",
       "    </tr>\n",
       "    <tr>\n",
       "      <th>2</th>\n",
       "      <td>[1.0, nan]</td>\n",
       "    </tr>\n",
       "    <tr>\n",
       "      <th>3</th>\n",
       "      <td>[nan, 1.0, 2.0]</td>\n",
       "    </tr>\n",
       "  </tbody>\n",
       "</table>\n",
       "</div>"
      ],
      "text/plain": [
       "                NACIO2\n",
       "                unique\n",
       "NACIO                 \n",
       "1                [0.0]\n",
       "2           [1.0, nan]\n",
       "3      [nan, 1.0, 2.0]"
      ]
     },
     "execution_count": 28,
     "metadata": {},
     "output_type": "execute_result"
    }
   ],
   "source": [
    "# Se imputa 'NACIO2'=1 (UE)  a quienes declararon 'nacionalidad española y otra' (2 en 'NACIO') y la primera ...\n",
    "# ... no es nacionalidad EU ('NACIO1' distinta de 1), ya que la española es su segunda nacionalidad:\n",
    "df_grad['NACIO2'].mask((df_grad['NACIO']==2)&(df_grad['NACIO1']!=1),1,inplace=True)\n",
    "# Se imputa 0 (sin segunda nacionalidad) a quienes declararon solo nacionalidad española (1 en 'NACIO'):\n",
    "df_grad['NACIO2'].mask((df_grad['NACIO']==1),0,inplace=True)\n",
    "# Se imputa None al resto de no respuestas:\n",
    "df_grad['NACIO2'].replace({' ':None},inplace=True)\n",
    "df_grad['NACIO2']=df_grad['NACIO2'].astype('float')\n",
    "df_grad[['NACIO','NACIO2']].groupby('NACIO').agg(['unique'])"
   ]
  },
  {
   "cell_type": "code",
   "execution_count": 29,
   "metadata": {},
   "outputs": [
    {
     "data": {
      "text/plain": [
       "2.0    0.000253\n",
       "1.0    0.008341\n",
       "NaN    0.013270\n",
       "0.0    0.978137\n",
       "Name: NACIO2, dtype: float64"
      ]
     },
     "execution_count": 29,
     "metadata": {},
     "output_type": "execute_result"
    }
   ],
   "source": [
    "proporciones('NACIO2',dropna=False)"
   ]
  },
  {
   "cell_type": "markdown",
   "metadata": {},
   "source": [
    "#### 'PAIS_NACI'\n",
    "**País de nacimiento**: 1=España, 2=Otro país de la UE, 3=Otro país fuera de la UE, 9=NS/NC"
   ]
  },
  {
   "cell_type": "code",
   "execution_count": 30,
   "metadata": {},
   "outputs": [
    {
     "data": {
      "text/plain": [
       "array([1, 3, 2])"
      ]
     },
     "execution_count": 30,
     "metadata": {},
     "output_type": "execute_result"
    }
   ],
   "source": [
    "df_grad['PAIS_NACI'].unique() # No missing values "
   ]
  },
  {
   "cell_type": "markdown",
   "metadata": {},
   "source": [
    "#### Nueva variable 'eu27'\n",
    "**Nacido en EU27**: 1=Nacido en EU27, 0=No nacido en EU27"
   ]
  },
  {
   "cell_type": "code",
   "execution_count": 31,
   "metadata": {},
   "outputs": [
    {
     "data": {
      "text/html": [
       "<div>\n",
       "<style scoped>\n",
       "    .dataframe tbody tr th:only-of-type {\n",
       "        vertical-align: middle;\n",
       "    }\n",
       "\n",
       "    .dataframe tbody tr th {\n",
       "        vertical-align: top;\n",
       "    }\n",
       "\n",
       "    .dataframe thead tr th {\n",
       "        text-align: left;\n",
       "    }\n",
       "\n",
       "    .dataframe thead tr:last-of-type th {\n",
       "        text-align: right;\n",
       "    }\n",
       "</style>\n",
       "<table border=\"1\" class=\"dataframe\">\n",
       "  <thead>\n",
       "    <tr>\n",
       "      <th></th>\n",
       "      <th>PAIS_NACI</th>\n",
       "    </tr>\n",
       "    <tr>\n",
       "      <th></th>\n",
       "      <th>unique</th>\n",
       "    </tr>\n",
       "    <tr>\n",
       "      <th>eu27</th>\n",
       "      <th></th>\n",
       "    </tr>\n",
       "  </thead>\n",
       "  <tbody>\n",
       "    <tr>\n",
       "      <th>0</th>\n",
       "      <td>[3]</td>\n",
       "    </tr>\n",
       "    <tr>\n",
       "      <th>1</th>\n",
       "      <td>[1, 2]</td>\n",
       "    </tr>\n",
       "  </tbody>\n",
       "</table>\n",
       "</div>"
      ],
      "text/plain": [
       "     PAIS_NACI\n",
       "        unique\n",
       "eu27          \n",
       "0          [3]\n",
       "1       [1, 2]"
      ]
     },
     "execution_count": 31,
     "metadata": {},
     "output_type": "execute_result"
    }
   ],
   "source": [
    "df_grad['eu27']=0\n",
    "df_grad['eu27'].mask((df_grad['PAIS_NACI']==1)|(df_grad['PAIS_NACI']==2),1,inplace=True)\n",
    "df_grad[['eu27','PAIS_NACI']].groupby('eu27').agg(['unique']) # Comprobación"
   ]
  },
  {
   "cell_type": "code",
   "execution_count": 32,
   "metadata": {},
   "outputs": [],
   "source": [
    "Variables.append('eu27')"
   ]
  },
  {
   "cell_type": "markdown",
   "metadata": {},
   "source": [
    "#### 'TITU'\n",
    "**Titulación**:  \n",
    "011101=Pedagogía, 011201=Educación infantil, 011301=Educación primaria, 011401=Otros maestros, 011901=Educación social,   \n",
    "021101=Audiovisual, imagen y multimedia, 021201=Diseño, 021301=Bellas artes, 021302=Historia del arte, 021401=Conservación y restauración, 021502=Música y Artes escénicas, 022201=Arqueología, 022202=Historia, 022301=Filosofía, 022901=Humanidades, 023101=Lengua inglesa, 023102=Lenguas clásicas, 023103=Otras lenguas extranjeras, 023104=Traducción e interpretación, 023201=Lenguas y dialectos españoles, 023202=Literatura, 023901=Lenguas modernas y aplicadas,   \n",
    "031101=Economía, 031201=Política y gestión pública, 031202=Relaciones internacionales, 031301=Psicología, 031401=Antropología social y cultural y Estudios y gestión de la cultura, 031402=Criminología, 031404=Geografía, 031406=Sociología e Igualdad de género, 032101=Comunicación, 032102=Periodismo, 032201=Información y documentación,   \n",
    "041201=Financiera y actuarial, 041202=Finanzas y contabilidad, 041301=Administración y empresa, 041302=Ciencias del trabajo, 041303=Gestión y administración pública, 041401=Marketing, 041402=Protocolo y eventos, 041403=Publicidad y relaciones públicas, 041601=Comercio, 042101=Derecho,   \n",
    "051101=Biología, 051201=Bioquímica, 051202=Biotecnología, 051901=Biomedicina, 052101=Ciencias ambientales, 053101=Química, 053201=Ciencias del mar, 053202=Geografía y ordenación del territorio, 053203=Geología, 053301=Física, 054101=Matemáticas, 054201=Estadística,   \n",
    "061301=Desarrollo de software y de aplicaciones e Ingeniería multimedia, 061901=Informática,   \n",
    "071101=Ingeniería química industrial e Ingeniería medioambiental, 071301=Ingeniería de la energía, 071302=Ingeniería eléctrica, 071401=Ingeniería de computadores, 071402=Ingeniería de sonido e imagen, 071403=Ingeniería de telecomunicación, 071404=Ingeniería electrónica industrial y automática, 071405=Ingeniería en electrónica, 071501=Ingeniería en diseño industrial y desarrollo del producto, 071502=Ingeniería en tecnologías industriales, 071503=Ingeniería mecánica, 071601=Ingeniería aeronáutica, 071603=Ingeniería naval y oceánica, 071901=Ingeniería de organización industrial y Nanotecnología, 072101=Ciencia y tecnología de los alimentos e Ingeniería alimentaria, 072102=Enología, 072201=Ingeniería de materiales e Ingeniería textil, 072401\t=Ingeniería de minas y energía, 073101=Arquitectura y Urbanismo y paisajismo, 073102=Ingeniería geomática, topografía y cartografía, 073201=Arquitectura técnica, 073202=Ingeniería civil,   \n",
    "081102=Ingeniería agraria y agroalimentaria, 081103=Ingeniería agrícola, agropecuaria y medio rural, 081201=Ingeniería horticultura y jardinería, 082101=Ingeniería forestal y montes, 084101=Veterinaria,   \n",
    "091101=Odontología, 091201=Medicina, 091301=Enfermería, 091401=Ingeniería biomédica y de la salud, 091402=Óptica y optometría, 091501=Fisioterapia, 091502=Logopedia, 091503=Nutrición humana y dietética, 091504=Podología, 091505=Terapia ocupacional, 091601=Farmacia, 092301=Trabajo social,   \n",
    "101401=Actividad física y del deporte, 101501=Turismo, 104101=Náutica y transporte marítimo, 104103=Servicio de transporte terrestre y Servicio de transporte aéreo, 109999=Servicios (otros estudios)."
   ]
  },
  {
   "cell_type": "code",
   "execution_count": 33,
   "metadata": {},
   "outputs": [
    {
     "data": {
      "text/plain": [
       "array([ 11101,  11201,  11301,  11401,  11901,  21101,  21201,  21301,\n",
       "        21302,  21401,  21502,  22201,  22202,  22301,  22901,  23101,\n",
       "        23102,  23103,  23104,  23201,  23202,  23901,  31101,  31201,\n",
       "        31202,  31301,  31401,  31402,  31404,  31406,  32101,  32102,\n",
       "        32201,  41201,  41202,  41301,  41302,  41303,  41401,  41402,\n",
       "        41403,  41601,  42101,  51101,  51201,  51202,  51901,  52101,\n",
       "        53101,  53201,  53202,  53203,  53301,  54101,  54201,  61301,\n",
       "        61901,  71101,  71301,  71302,  71401,  71402,  71403,  71404,\n",
       "        71405,  71501,  71502,  71503,  71601,  71603,  71901,  72101,\n",
       "        72102,  72201,  72401,  73101,  73102,  73201,  73202,  81102,\n",
       "        81103,  81201,  82101,  84101,  91101,  91201,  91301,  91401,\n",
       "        91402,  91501,  91502,  91503,  91504,  91505,  91601,  92301,\n",
       "       101401, 101501, 104101, 104103, 109999])"
      ]
     },
     "execution_count": 33,
     "metadata": {},
     "output_type": "execute_result"
    }
   ],
   "source": [
    "df_grad['TITU'].unique() # No missing values"
   ]
  },
  {
   "cell_type": "markdown",
   "metadata": {},
   "source": [
    "#### 'RAMA'\n",
    "**Rama de conocimiento** de la titulación:  \n",
    "1=Artes y humanidades, 2=Ciencias, 3=Ciencias sociales y jurídicas, 4=Ingeniería y arquitectura, 5=Ciencias de la salud"
   ]
  },
  {
   "cell_type": "code",
   "execution_count": 34,
   "metadata": {},
   "outputs": [
    {
     "data": {
      "text/plain": [
       "array([3, 1, 4, 5, 2])"
      ]
     },
     "execution_count": 34,
     "metadata": {},
     "output_type": "execute_result"
    }
   ],
   "source": [
    "df_grad['RAMA'].unique() # No missing values"
   ]
  },
  {
   "cell_type": "code",
   "execution_count": 35,
   "metadata": {},
   "outputs": [
    {
     "data": {
      "text/plain": [
       "2    0.087738\n",
       "1    0.100376\n",
       "5    0.141796\n",
       "4    0.211842\n",
       "3    0.458248\n",
       "Name: RAMA, dtype: float64"
      ]
     },
     "execution_count": 35,
     "metadata": {},
     "output_type": "execute_result"
    }
   ],
   "source": [
    "proporciones('RAMA')"
   ]
  },
  {
   "cell_type": "code",
   "execution_count": 36,
   "metadata": {},
   "outputs": [
    {
     "data": {
      "text/html": [
       "<div>\n",
       "<style scoped>\n",
       "    .dataframe tbody tr th:only-of-type {\n",
       "        vertical-align: middle;\n",
       "    }\n",
       "\n",
       "    .dataframe tbody tr th {\n",
       "        vertical-align: top;\n",
       "    }\n",
       "\n",
       "    .dataframe thead tr th {\n",
       "        text-align: left;\n",
       "    }\n",
       "\n",
       "    .dataframe thead tr:last-of-type th {\n",
       "        text-align: right;\n",
       "    }\n",
       "</style>\n",
       "<table border=\"1\" class=\"dataframe\">\n",
       "  <thead>\n",
       "    <tr>\n",
       "      <th></th>\n",
       "      <th>RAMA</th>\n",
       "    </tr>\n",
       "    <tr>\n",
       "      <th></th>\n",
       "      <th>unique</th>\n",
       "    </tr>\n",
       "    <tr>\n",
       "      <th>TITU</th>\n",
       "      <th></th>\n",
       "    </tr>\n",
       "  </thead>\n",
       "  <tbody>\n",
       "    <tr>\n",
       "      <th>11101</th>\n",
       "      <td>[3, 1]</td>\n",
       "    </tr>\n",
       "    <tr>\n",
       "      <th>11201</th>\n",
       "      <td>[3]</td>\n",
       "    </tr>\n",
       "    <tr>\n",
       "      <th>11301</th>\n",
       "      <td>[3]</td>\n",
       "    </tr>\n",
       "    <tr>\n",
       "      <th>11401</th>\n",
       "      <td>[3]</td>\n",
       "    </tr>\n",
       "    <tr>\n",
       "      <th>11901</th>\n",
       "      <td>[3]</td>\n",
       "    </tr>\n",
       "    <tr>\n",
       "      <th>...</th>\n",
       "      <td>...</td>\n",
       "    </tr>\n",
       "    <tr>\n",
       "      <th>101401</th>\n",
       "      <td>[3, 5]</td>\n",
       "    </tr>\n",
       "    <tr>\n",
       "      <th>101501</th>\n",
       "      <td>[3]</td>\n",
       "    </tr>\n",
       "    <tr>\n",
       "      <th>104101</th>\n",
       "      <td>[4]</td>\n",
       "    </tr>\n",
       "    <tr>\n",
       "      <th>104103</th>\n",
       "      <td>[3, 4]</td>\n",
       "    </tr>\n",
       "    <tr>\n",
       "      <th>109999</th>\n",
       "      <td>[3, 4]</td>\n",
       "    </tr>\n",
       "  </tbody>\n",
       "</table>\n",
       "<p>101 rows × 1 columns</p>\n",
       "</div>"
      ],
      "text/plain": [
       "          RAMA\n",
       "        unique\n",
       "TITU          \n",
       "11101   [3, 1]\n",
       "11201      [3]\n",
       "11301      [3]\n",
       "11401      [3]\n",
       "11901      [3]\n",
       "...        ...\n",
       "101401  [3, 5]\n",
       "101501     [3]\n",
       "104101     [4]\n",
       "104103  [3, 4]\n",
       "109999  [3, 4]\n",
       "\n",
       "[101 rows x 1 columns]"
      ]
     },
     "execution_count": 36,
     "metadata": {},
     "output_type": "execute_result"
    }
   ],
   "source": [
    "# Varias titulaciones adscritas a más de una rama del conocimiento\n",
    "df_grad[['RAMA','TITU']].groupby('TITU').agg(['unique'])"
   ]
  },
  {
   "cell_type": "code",
   "execution_count": 37,
   "metadata": {},
   "outputs": [
    {
     "data": {
      "text/html": [
       "<div>\n",
       "<style scoped>\n",
       "    .dataframe tbody tr th:only-of-type {\n",
       "        vertical-align: middle;\n",
       "    }\n",
       "\n",
       "    .dataframe tbody tr th {\n",
       "        vertical-align: top;\n",
       "    }\n",
       "\n",
       "    .dataframe thead tr th {\n",
       "        text-align: left;\n",
       "    }\n",
       "\n",
       "    .dataframe thead tr:last-of-type th {\n",
       "        text-align: right;\n",
       "    }\n",
       "</style>\n",
       "<table border=\"1\" class=\"dataframe\">\n",
       "  <thead>\n",
       "    <tr>\n",
       "      <th></th>\n",
       "      <th>TITU</th>\n",
       "    </tr>\n",
       "    <tr>\n",
       "      <th></th>\n",
       "      <th>unique</th>\n",
       "    </tr>\n",
       "    <tr>\n",
       "      <th>RAMA</th>\n",
       "      <th></th>\n",
       "    </tr>\n",
       "  </thead>\n",
       "  <tbody>\n",
       "    <tr>\n",
       "      <th>1</th>\n",
       "      <td>[11101, 21101, 21201, 21301, 21302, 21401, 21502, 22201, 22202, 22301, 22901, 23101, 23102, 23103, 23104, 23201, 23202, 23901, 31401, 31404, 32101, 32102, 32201, 53202, 73101]</td>\n",
       "    </tr>\n",
       "    <tr>\n",
       "      <th>2</th>\n",
       "      <td>[51101, 51201, 51202, 51901, 52101, 53101, 53201, 53203, 53301, 54101, 54201, 71901, 72101, 72102, 91402, 91503]</td>\n",
       "    </tr>\n",
       "    <tr>\n",
       "      <th>3</th>\n",
       "      <td>[11101, 11201, 11301, 11401, 11901, 21101, 23104, 31101, 31201, 31202, 31301, 31401, 31402, 31404, 31406, 32101, 32102, 32201, 41201, 41202, 41301, 41302, 41303, 41401, 41402, 41403, 41601, 42101, 53202, 54201, 91501, 92301, 101401, 101501, 104103, 109999]</td>\n",
       "    </tr>\n",
       "    <tr>\n",
       "      <th>4</th>\n",
       "      <td>[21101, 21201, 53203, 54101, 61301, 61901, 71101, 71301, 71302, 71401, 71402, 71403, 71404, 71405, 71501, 71502, 71503, 71601, 71603, 71901, 72101, 72201, 72401, 73101, 73102, 73201, 73202, 81102, 81103, 81201, 82101, 91401, 104101, 104103, 109999]</td>\n",
       "    </tr>\n",
       "    <tr>\n",
       "      <th>5</th>\n",
       "      <td>[31301, 51101, 51901, 72101, 84101, 91101, 91201, 91301, 91402, 91501, 91502, 91503, 91504, 91505, 91601, 101401]</td>\n",
       "    </tr>\n",
       "  </tbody>\n",
       "</table>\n",
       "</div>"
      ],
      "text/plain": [
       "                                                                                                                                                                                                                                                                  TITU\n",
       "                                                                                                                                                                                                                                                                unique\n",
       "RAMA                                                                                                                                                                                                                                                                  \n",
       "1                                                                                      [11101, 21101, 21201, 21301, 21302, 21401, 21502, 22201, 22202, 22301, 22901, 23101, 23102, 23103, 23104, 23201, 23202, 23901, 31401, 31404, 32101, 32102, 32201, 53202, 73101]\n",
       "2                                                                                                                                                     [51101, 51201, 51202, 51901, 52101, 53101, 53201, 53203, 53301, 54101, 54201, 71901, 72101, 72102, 91402, 91503]\n",
       "3     [11101, 11201, 11301, 11401, 11901, 21101, 23104, 31101, 31201, 31202, 31301, 31401, 31402, 31404, 31406, 32101, 32102, 32201, 41201, 41202, 41301, 41302, 41303, 41401, 41402, 41403, 41601, 42101, 53202, 54201, 91501, 92301, 101401, 101501, 104103, 109999]\n",
       "4             [21101, 21201, 53203, 54101, 61301, 61901, 71101, 71301, 71302, 71401, 71402, 71403, 71404, 71405, 71501, 71502, 71503, 71601, 71603, 71901, 72101, 72201, 72401, 73101, 73102, 73201, 73202, 81102, 81103, 81201, 82101, 91401, 104101, 104103, 109999]\n",
       "5                                                                                                                                                    [31301, 51101, 51901, 72101, 84101, 91101, 91201, 91301, 91402, 91501, 91502, 91503, 91504, 91505, 91601, 101401]"
      ]
     },
     "execution_count": 37,
     "metadata": {},
     "output_type": "execute_result"
    }
   ],
   "source": [
    "df_grad[['RAMA','TITU']].groupby('RAMA').agg(['unique'])"
   ]
  },
  {
   "cell_type": "code",
   "execution_count": 38,
   "metadata": {},
   "outputs": [
    {
     "data": {
      "text/html": [
       "<div>\n",
       "<style scoped>\n",
       "    .dataframe tbody tr th:only-of-type {\n",
       "        vertical-align: middle;\n",
       "    }\n",
       "\n",
       "    .dataframe tbody tr th {\n",
       "        vertical-align: top;\n",
       "    }\n",
       "\n",
       "    .dataframe thead th {\n",
       "        text-align: right;\n",
       "    }\n",
       "</style>\n",
       "<table border=\"1\" class=\"dataframe\">\n",
       "  <thead>\n",
       "    <tr style=\"text-align: right;\">\n",
       "      <th></th>\n",
       "      <th></th>\n",
       "      <th>fem</th>\n",
       "    </tr>\n",
       "    <tr>\n",
       "      <th>RAMA</th>\n",
       "      <th>fem</th>\n",
       "      <th></th>\n",
       "    </tr>\n",
       "  </thead>\n",
       "  <tbody>\n",
       "    <tr>\n",
       "      <th rowspan=\"2\" valign=\"top\">1</th>\n",
       "      <th>0</th>\n",
       "      <td>0.399433</td>\n",
       "    </tr>\n",
       "    <tr>\n",
       "      <th>1</th>\n",
       "      <td>0.600567</td>\n",
       "    </tr>\n",
       "    <tr>\n",
       "      <th rowspan=\"2\" valign=\"top\">2</th>\n",
       "      <th>0</th>\n",
       "      <td>0.452647</td>\n",
       "    </tr>\n",
       "    <tr>\n",
       "      <th>1</th>\n",
       "      <td>0.547353</td>\n",
       "    </tr>\n",
       "    <tr>\n",
       "      <th rowspan=\"2\" valign=\"top\">3</th>\n",
       "      <th>0</th>\n",
       "      <td>0.359625</td>\n",
       "    </tr>\n",
       "    <tr>\n",
       "      <th>1</th>\n",
       "      <td>0.640375</td>\n",
       "    </tr>\n",
       "    <tr>\n",
       "      <th rowspan=\"2\" valign=\"top\">4</th>\n",
       "      <th>0</th>\n",
       "      <td>0.675168</td>\n",
       "    </tr>\n",
       "    <tr>\n",
       "      <th>1</th>\n",
       "      <td>0.324832</td>\n",
       "    </tr>\n",
       "    <tr>\n",
       "      <th rowspan=\"2\" valign=\"top\">5</th>\n",
       "      <th>0</th>\n",
       "      <td>0.295455</td>\n",
       "    </tr>\n",
       "    <tr>\n",
       "      <th>1</th>\n",
       "      <td>0.704545</td>\n",
       "    </tr>\n",
       "  </tbody>\n",
       "</table>\n",
       "</div>"
      ],
      "text/plain": [
       "               fem\n",
       "RAMA fem          \n",
       "1    0    0.399433\n",
       "     1    0.600567\n",
       "2    0    0.452647\n",
       "     1    0.547353\n",
       "3    0    0.359625\n",
       "     1    0.640375\n",
       "4    0    0.675168\n",
       "     1    0.324832\n",
       "5    0    0.295455\n",
       "     1    0.704545"
      ]
     },
     "execution_count": 38,
     "metadata": {},
     "output_type": "execute_result"
    }
   ],
   "source": [
    "# Distribucion de sexos condicionada por ramas de conocimiento: \n",
    "dist_condicionada('RAMA','fem',rev=True)\n",
    "# Solo la rama ciencias tiene una distribución de sexos similar a la general entre los graduados. \n",
    "# La mayor presencia femenina se da en ciencias de la salud. La menor, en ingeniería y arquitectura. "
   ]
  },
  {
   "cell_type": "code",
   "execution_count": 39,
   "metadata": {},
   "outputs": [
    {
     "data": {
      "text/html": [
       "<div>\n",
       "<style scoped>\n",
       "    .dataframe tbody tr th:only-of-type {\n",
       "        vertical-align: middle;\n",
       "    }\n",
       "\n",
       "    .dataframe tbody tr th {\n",
       "        vertical-align: top;\n",
       "    }\n",
       "\n",
       "    .dataframe thead th {\n",
       "        text-align: right;\n",
       "    }\n",
       "</style>\n",
       "<table border=\"1\" class=\"dataframe\">\n",
       "  <thead>\n",
       "    <tr style=\"text-align: right;\">\n",
       "      <th></th>\n",
       "      <th></th>\n",
       "      <th>esp</th>\n",
       "    </tr>\n",
       "    <tr>\n",
       "      <th>RAMA</th>\n",
       "      <th>esp</th>\n",
       "      <th></th>\n",
       "    </tr>\n",
       "  </thead>\n",
       "  <tbody>\n",
       "    <tr>\n",
       "      <th rowspan=\"2\" valign=\"top\">1</th>\n",
       "      <th>0</th>\n",
       "      <td>0.018571</td>\n",
       "    </tr>\n",
       "    <tr>\n",
       "      <th>1</th>\n",
       "      <td>0.981429</td>\n",
       "    </tr>\n",
       "    <tr>\n",
       "      <th rowspan=\"2\" valign=\"top\">2</th>\n",
       "      <th>0</th>\n",
       "      <td>0.007922</td>\n",
       "    </tr>\n",
       "    <tr>\n",
       "      <th>1</th>\n",
       "      <td>0.992078</td>\n",
       "    </tr>\n",
       "    <tr>\n",
       "      <th rowspan=\"2\" valign=\"top\">3</th>\n",
       "      <th>0</th>\n",
       "      <td>0.010549</td>\n",
       "    </tr>\n",
       "    <tr>\n",
       "      <th>1</th>\n",
       "      <td>0.989451</td>\n",
       "    </tr>\n",
       "    <tr>\n",
       "      <th rowspan=\"2\" valign=\"top\">4</th>\n",
       "      <th>0</th>\n",
       "      <td>0.007606</td>\n",
       "    </tr>\n",
       "    <tr>\n",
       "      <th>1</th>\n",
       "      <td>0.992394</td>\n",
       "    </tr>\n",
       "    <tr>\n",
       "      <th rowspan=\"2\" valign=\"top\">5</th>\n",
       "      <th>0</th>\n",
       "      <td>0.014260</td>\n",
       "    </tr>\n",
       "    <tr>\n",
       "      <th>1</th>\n",
       "      <td>0.985740</td>\n",
       "    </tr>\n",
       "  </tbody>\n",
       "</table>\n",
       "</div>"
      ],
      "text/plain": [
       "               esp\n",
       "RAMA esp          \n",
       "1    0    0.018571\n",
       "     1    0.981429\n",
       "2    0    0.007922\n",
       "     1    0.992078\n",
       "3    0    0.010549\n",
       "     1    0.989451\n",
       "4    0    0.007606\n",
       "     1    0.992394\n",
       "5    0    0.014260\n",
       "     1    0.985740"
      ]
     },
     "execution_count": 39,
     "metadata": {},
     "output_type": "execute_result"
    }
   ],
   "source": [
    "# Distribucion de nacionalidad española y otras condicionada por ramas de conocimiento: \n",
    "dist_condicionada('RAMA','esp',rev=True)\n",
    "# Artes y humanidades y ciencias de la salud son las ramas de conocimiento en las que la presencia de ...\n",
    "# ... nacionalidades no españolas es superior a la general entre los graduados. "
   ]
  },
  {
   "cell_type": "markdown",
   "metadata": {},
   "source": [
    "#### Nuevas variables dicotómicas: 'art_hum', 'ciencias', 'cc_soc_ju', 'ing_arq', 'cc_salud'\n",
    "'art_hum': 1=Rama artes y humanidades, 0=Otra rama,  \n",
    "'ciencias': 1=Rama ciencias, 0=Otra rama,  \n",
    "'cc_soc_ju': 1=Rama ciencias sociales y jurídicas, 0=Otra rama,  \n",
    "'ing_arq': 1=Rama ingeniería y arquitectura, 0=Otra rama,  \n",
    "'cc_salud': 1=Rama cc_salud, 0=Otra rama,"
   ]
  },
  {
   "cell_type": "code",
   "execution_count": 40,
   "metadata": {},
   "outputs": [
    {
     "data": {
      "text/html": [
       "<div>\n",
       "<style scoped>\n",
       "    .dataframe tbody tr th:only-of-type {\n",
       "        vertical-align: middle;\n",
       "    }\n",
       "\n",
       "    .dataframe tbody tr th {\n",
       "        vertical-align: top;\n",
       "    }\n",
       "\n",
       "    .dataframe thead tr th {\n",
       "        text-align: left;\n",
       "    }\n",
       "\n",
       "    .dataframe thead tr:last-of-type th {\n",
       "        text-align: right;\n",
       "    }\n",
       "</style>\n",
       "<table border=\"1\" class=\"dataframe\">\n",
       "  <thead>\n",
       "    <tr>\n",
       "      <th></th>\n",
       "      <th>art_hum</th>\n",
       "      <th>ciencias</th>\n",
       "      <th>cc_soc_ju</th>\n",
       "      <th>ing_arq</th>\n",
       "      <th>cc_salud</th>\n",
       "    </tr>\n",
       "    <tr>\n",
       "      <th></th>\n",
       "      <th>unique</th>\n",
       "      <th>unique</th>\n",
       "      <th>unique</th>\n",
       "      <th>unique</th>\n",
       "      <th>unique</th>\n",
       "    </tr>\n",
       "    <tr>\n",
       "      <th>RAMA</th>\n",
       "      <th></th>\n",
       "      <th></th>\n",
       "      <th></th>\n",
       "      <th></th>\n",
       "      <th></th>\n",
       "    </tr>\n",
       "  </thead>\n",
       "  <tbody>\n",
       "    <tr>\n",
       "      <th>1</th>\n",
       "      <td>[1]</td>\n",
       "      <td>[0]</td>\n",
       "      <td>[0]</td>\n",
       "      <td>[0]</td>\n",
       "      <td>[0]</td>\n",
       "    </tr>\n",
       "    <tr>\n",
       "      <th>2</th>\n",
       "      <td>[0]</td>\n",
       "      <td>[1]</td>\n",
       "      <td>[0]</td>\n",
       "      <td>[0]</td>\n",
       "      <td>[0]</td>\n",
       "    </tr>\n",
       "    <tr>\n",
       "      <th>3</th>\n",
       "      <td>[0]</td>\n",
       "      <td>[0]</td>\n",
       "      <td>[1]</td>\n",
       "      <td>[0]</td>\n",
       "      <td>[0]</td>\n",
       "    </tr>\n",
       "    <tr>\n",
       "      <th>4</th>\n",
       "      <td>[0]</td>\n",
       "      <td>[0]</td>\n",
       "      <td>[0]</td>\n",
       "      <td>[1]</td>\n",
       "      <td>[0]</td>\n",
       "    </tr>\n",
       "    <tr>\n",
       "      <th>5</th>\n",
       "      <td>[0]</td>\n",
       "      <td>[0]</td>\n",
       "      <td>[0]</td>\n",
       "      <td>[0]</td>\n",
       "      <td>[1]</td>\n",
       "    </tr>\n",
       "  </tbody>\n",
       "</table>\n",
       "</div>"
      ],
      "text/plain": [
       "     art_hum ciencias cc_soc_ju ing_arq cc_salud\n",
       "      unique   unique    unique  unique   unique\n",
       "RAMA                                            \n",
       "1        [1]      [0]       [0]     [0]      [0]\n",
       "2        [0]      [1]       [0]     [0]      [0]\n",
       "3        [0]      [0]       [1]     [0]      [0]\n",
       "4        [0]      [0]       [0]     [1]      [0]\n",
       "5        [0]      [0]       [0]     [0]      [1]"
      ]
     },
     "execution_count": 40,
     "metadata": {},
     "output_type": "execute_result"
    }
   ],
   "source": [
    "L_ramas=['art_hum','ciencias','cc_soc_ju','ing_arq','cc_salud']\n",
    "for i,rama in enumerate (L_ramas): \n",
    "    df_grad[rama]=0\n",
    "    df_grad[rama].mask(df_grad['RAMA']==i+1,1,inplace=True)\n",
    "df_grad[L_ramas+['RAMA']].groupby('RAMA').agg(['unique']) # Comprobación: "
   ]
  },
  {
   "cell_type": "code",
   "execution_count": 41,
   "metadata": {},
   "outputs": [],
   "source": [
    "for vble in L_ramas: \n",
    "    Variables.append(vble)"
   ]
  },
  {
   "cell_type": "markdown",
   "metadata": {},
   "source": [
    "#### 'AMBITO'\n",
    "**Ámbito de estudio**: 0112=Formación de docentes de enseñanza infantil, 0113=Formación de docentes de enseñanza primaria, 011=Educación (Otros estudios), 0211=Técnicas audiovisuales y medios de comunicación, 021=Artes (Otros estudios), 022=Humanidades, 023=Lenguas, 0311=Economía, 0313=Psicología, 031=Ciencias sociales y del comportamiento (Otros estudios), 032=Periodismo y documentación, 0413=Dirección y administración, 041=Negocios y administración (Otros estudios), 042=Derecho, 051=Ciencias de la vida, 052=Medio ambiente, 053=Ciencias químicas, físicas y geológicas, 054=Matemáticas y estadística, 061=Informática, 071=Ingeniería y profesiones afines, 072=Industria manufacturera y producción, 073=Arquitectura y construcción, 081=Agricultura y ganadería, 082=Silvicultura, 084=Veterinaria, 0912=Medicina, 0913=Enfermería, 091=Salud (Otros estudios), 092=Servicios sociales, 1014=Actividades físicas y deportivas, 1015=Viajes, turismo y ocio, 109=Servicios (Otros estudios), 9999=NS/NC."
   ]
  },
  {
   "cell_type": "code",
   "execution_count": 42,
   "metadata": {},
   "outputs": [
    {
     "data": {
      "text/plain": [
       "array([  11,  112,  113,  211,   21,   22,   23,  311,   31,  313,   32,\n",
       "         41,  413,   42,   51,   52,   53,   54,   61,   71,   72,   73,\n",
       "         81,   82,   84,   91,  912,  913,   92, 1014, 1015,  109])"
      ]
     },
     "execution_count": 42,
     "metadata": {},
     "output_type": "execute_result"
    }
   ],
   "source": [
    "df_grad['AMBITO'].unique() # No missing values"
   ]
  },
  {
   "cell_type": "code",
   "execution_count": 43,
   "metadata": {},
   "outputs": [
    {
     "data": {
      "text/plain": [
       "dtype('int64')"
      ]
     },
     "execution_count": 43,
     "metadata": {},
     "output_type": "execute_result"
    }
   ],
   "source": [
    "df_grad['AMBITO'].dtype"
   ]
  },
  {
   "cell_type": "code",
   "execution_count": 44,
   "metadata": {},
   "outputs": [
    {
     "name": "stdout",
     "output_type": "stream",
     "text": [
      "AMBITO  unique    [11]\n",
      "Name: 11101, dtype: object\n",
      "AMBITO  unique    [112]\n",
      "Name: 11201, dtype: object\n",
      "AMBITO  unique    [113]\n",
      "Name: 11301, dtype: object\n",
      "AMBITO  unique    [11]\n",
      "Name: 11401, dtype: object\n",
      "AMBITO  unique    [11]\n",
      "Name: 11901, dtype: object\n",
      "AMBITO  unique    [211]\n",
      "Name: 21101, dtype: object\n",
      "AMBITO  unique    [21]\n",
      "Name: 21201, dtype: object\n",
      "AMBITO  unique    [21]\n",
      "Name: 21301, dtype: object\n",
      "AMBITO  unique    [21]\n",
      "Name: 21302, dtype: object\n",
      "AMBITO  unique    [21]\n",
      "Name: 21401, dtype: object\n",
      "AMBITO  unique    [21]\n",
      "Name: 21502, dtype: object\n",
      "AMBITO  unique    [22]\n",
      "Name: 22201, dtype: object\n",
      "AMBITO  unique    [22]\n",
      "Name: 22202, dtype: object\n",
      "AMBITO  unique    [22]\n",
      "Name: 22301, dtype: object\n",
      "AMBITO  unique    [22]\n",
      "Name: 22901, dtype: object\n",
      "AMBITO  unique    [23]\n",
      "Name: 23101, dtype: object\n",
      "AMBITO  unique    [23]\n",
      "Name: 23102, dtype: object\n",
      "AMBITO  unique    [23]\n",
      "Name: 23103, dtype: object\n",
      "AMBITO  unique    [23]\n",
      "Name: 23104, dtype: object\n",
      "AMBITO  unique    [23]\n",
      "Name: 23201, dtype: object\n",
      "AMBITO  unique    [23]\n",
      "Name: 23202, dtype: object\n",
      "AMBITO  unique    [23]\n",
      "Name: 23901, dtype: object\n",
      "AMBITO  unique    [311]\n",
      "Name: 31101, dtype: object\n",
      "AMBITO  unique    [31]\n",
      "Name: 31201, dtype: object\n",
      "AMBITO  unique    [31]\n",
      "Name: 31202, dtype: object\n",
      "AMBITO  unique    [313]\n",
      "Name: 31301, dtype: object\n",
      "AMBITO  unique    [31]\n",
      "Name: 31401, dtype: object\n",
      "AMBITO  unique    [31]\n",
      "Name: 31402, dtype: object\n",
      "AMBITO  unique    [31]\n",
      "Name: 31404, dtype: object\n",
      "AMBITO  unique    [31]\n",
      "Name: 31406, dtype: object\n",
      "AMBITO  unique    [32]\n",
      "Name: 32101, dtype: object\n",
      "AMBITO  unique    [32]\n",
      "Name: 32102, dtype: object\n",
      "AMBITO  unique    [32]\n",
      "Name: 32201, dtype: object\n",
      "AMBITO  unique    [41]\n",
      "Name: 41201, dtype: object\n",
      "AMBITO  unique    [41]\n",
      "Name: 41202, dtype: object\n",
      "AMBITO  unique    [413]\n",
      "Name: 41301, dtype: object\n",
      "AMBITO  unique    [413]\n",
      "Name: 41302, dtype: object\n",
      "AMBITO  unique    [413]\n",
      "Name: 41303, dtype: object\n",
      "AMBITO  unique    [41]\n",
      "Name: 41401, dtype: object\n",
      "AMBITO  unique    [41]\n",
      "Name: 41402, dtype: object\n",
      "AMBITO  unique    [41]\n",
      "Name: 41403, dtype: object\n",
      "AMBITO  unique    [41]\n",
      "Name: 41601, dtype: object\n",
      "AMBITO  unique    [42]\n",
      "Name: 42101, dtype: object\n",
      "AMBITO  unique    [51]\n",
      "Name: 51101, dtype: object\n",
      "AMBITO  unique    [51]\n",
      "Name: 51201, dtype: object\n",
      "AMBITO  unique    [51]\n",
      "Name: 51202, dtype: object\n",
      "AMBITO  unique    [51]\n",
      "Name: 51901, dtype: object\n",
      "AMBITO  unique    [52]\n",
      "Name: 52101, dtype: object\n",
      "AMBITO  unique    [53]\n",
      "Name: 53101, dtype: object\n",
      "AMBITO  unique    [53]\n",
      "Name: 53201, dtype: object\n",
      "AMBITO  unique    [53]\n",
      "Name: 53202, dtype: object\n",
      "AMBITO  unique    [53]\n",
      "Name: 53203, dtype: object\n",
      "AMBITO  unique    [53]\n",
      "Name: 53301, dtype: object\n",
      "AMBITO  unique    [54]\n",
      "Name: 54101, dtype: object\n",
      "AMBITO  unique    [54]\n",
      "Name: 54201, dtype: object\n",
      "AMBITO  unique    [61]\n",
      "Name: 61301, dtype: object\n",
      "AMBITO  unique    [61]\n",
      "Name: 61901, dtype: object\n",
      "AMBITO  unique    [71]\n",
      "Name: 71101, dtype: object\n",
      "AMBITO  unique    [71]\n",
      "Name: 71301, dtype: object\n",
      "AMBITO  unique    [71]\n",
      "Name: 71302, dtype: object\n",
      "AMBITO  unique    [71]\n",
      "Name: 71401, dtype: object\n",
      "AMBITO  unique    [71]\n",
      "Name: 71402, dtype: object\n",
      "AMBITO  unique    [71]\n",
      "Name: 71403, dtype: object\n",
      "AMBITO  unique    [71]\n",
      "Name: 71404, dtype: object\n",
      "AMBITO  unique    [71]\n",
      "Name: 71405, dtype: object\n",
      "AMBITO  unique    [71]\n",
      "Name: 71501, dtype: object\n",
      "AMBITO  unique    [71]\n",
      "Name: 71502, dtype: object\n",
      "AMBITO  unique    [71]\n",
      "Name: 71503, dtype: object\n",
      "AMBITO  unique    [71]\n",
      "Name: 71601, dtype: object\n",
      "AMBITO  unique    [71]\n",
      "Name: 71603, dtype: object\n",
      "AMBITO  unique    [71]\n",
      "Name: 71901, dtype: object\n",
      "AMBITO  unique    [72]\n",
      "Name: 72101, dtype: object\n",
      "AMBITO  unique    [72]\n",
      "Name: 72102, dtype: object\n",
      "AMBITO  unique    [72]\n",
      "Name: 72201, dtype: object\n",
      "AMBITO  unique    [72]\n",
      "Name: 72401, dtype: object\n",
      "AMBITO  unique    [73]\n",
      "Name: 73101, dtype: object\n",
      "AMBITO  unique    [73]\n",
      "Name: 73102, dtype: object\n",
      "AMBITO  unique    [73]\n",
      "Name: 73201, dtype: object\n",
      "AMBITO  unique    [73]\n",
      "Name: 73202, dtype: object\n",
      "AMBITO  unique    [81]\n",
      "Name: 81102, dtype: object\n",
      "AMBITO  unique    [81]\n",
      "Name: 81103, dtype: object\n",
      "AMBITO  unique    [81]\n",
      "Name: 81201, dtype: object\n",
      "AMBITO  unique    [82]\n",
      "Name: 82101, dtype: object\n",
      "AMBITO  unique    [84]\n",
      "Name: 84101, dtype: object\n",
      "AMBITO  unique    [91]\n",
      "Name: 91101, dtype: object\n",
      "AMBITO  unique    [912]\n",
      "Name: 91201, dtype: object\n",
      "AMBITO  unique    [913]\n",
      "Name: 91301, dtype: object\n",
      "AMBITO  unique    [91]\n",
      "Name: 91401, dtype: object\n",
      "AMBITO  unique    [91]\n",
      "Name: 91402, dtype: object\n",
      "AMBITO  unique    [91]\n",
      "Name: 91501, dtype: object\n",
      "AMBITO  unique    [91]\n",
      "Name: 91502, dtype: object\n",
      "AMBITO  unique    [91]\n",
      "Name: 91503, dtype: object\n",
      "AMBITO  unique    [91]\n",
      "Name: 91504, dtype: object\n",
      "AMBITO  unique    [91]\n",
      "Name: 91505, dtype: object\n",
      "AMBITO  unique    [91]\n",
      "Name: 91601, dtype: object\n",
      "AMBITO  unique    [92]\n",
      "Name: 92301, dtype: object\n",
      "AMBITO  unique    [1014]\n",
      "Name: 101401, dtype: object\n",
      "AMBITO  unique    [1015]\n",
      "Name: 101501, dtype: object\n",
      "AMBITO  unique    [109]\n",
      "Name: 104101, dtype: object\n",
      "AMBITO  unique    [109]\n",
      "Name: 104103, dtype: object\n",
      "AMBITO  unique    [109]\n",
      "Name: 109999, dtype: object\n"
     ]
    }
   ],
   "source": [
    "# Todas las titulaciones adscritas a un único ámbito de estudio.  \n",
    "for row in range(0,len(df_grad[['TITU','AMBITO']].groupby('TITU'))):\n",
    "    print (df_grad[['TITU','AMBITO']].groupby('TITU').agg(['unique']).iloc[row])"
   ]
  },
  {
   "cell_type": "code",
   "execution_count": 45,
   "metadata": {},
   "outputs": [
    {
     "data": {
      "text/plain": [
       "AMBITO  TITU    RAMA\n",
       "109     104101  4       109\n",
       "        104103  3        47\n",
       "                4        10\n",
       "dtype: int64"
      ]
     },
     "execution_count": 45,
     "metadata": {},
     "output_type": "execute_result"
    }
   ],
   "source": [
    "# 'AMBITO' determinado por 2, 3 o 4 primeros dígitos de 'TITU' excepto los siguientes casos: \n",
    "cond1=(df_grad['AMBITO'].astype('str')!=df_grad['TITU'].astype('str').str[:2])\n",
    "cond2=(df_grad['AMBITO'].astype('str')!=df_grad['TITU'].astype('str').str[:3])\n",
    "cond3=(df_grad['AMBITO'].astype('str')!=df_grad['TITU'].astype('str').str[:4])\n",
    "df_grad[['AMBITO','TITU','RAMA']][cond1&cond2&cond3].value_counts()"
   ]
  },
  {
   "cell_type": "code",
   "execution_count": 46,
   "metadata": {},
   "outputs": [
    {
     "data": {
      "text/html": [
       "<div>\n",
       "<style scoped>\n",
       "    .dataframe tbody tr th:only-of-type {\n",
       "        vertical-align: middle;\n",
       "    }\n",
       "\n",
       "    .dataframe tbody tr th {\n",
       "        vertical-align: top;\n",
       "    }\n",
       "\n",
       "    .dataframe thead tr th {\n",
       "        text-align: left;\n",
       "    }\n",
       "\n",
       "    .dataframe thead tr:last-of-type th {\n",
       "        text-align: right;\n",
       "    }\n",
       "</style>\n",
       "<table border=\"1\" class=\"dataframe\">\n",
       "  <thead>\n",
       "    <tr>\n",
       "      <th></th>\n",
       "      <th>RAMA</th>\n",
       "    </tr>\n",
       "    <tr>\n",
       "      <th></th>\n",
       "      <th>unique</th>\n",
       "    </tr>\n",
       "    <tr>\n",
       "      <th>AMBITO</th>\n",
       "      <th></th>\n",
       "    </tr>\n",
       "  </thead>\n",
       "  <tbody>\n",
       "    <tr>\n",
       "      <th>11</th>\n",
       "      <td>[3, 1]</td>\n",
       "    </tr>\n",
       "    <tr>\n",
       "      <th>21</th>\n",
       "      <td>[1, 4]</td>\n",
       "    </tr>\n",
       "    <tr>\n",
       "      <th>22</th>\n",
       "      <td>[1]</td>\n",
       "    </tr>\n",
       "    <tr>\n",
       "      <th>23</th>\n",
       "      <td>[1, 3]</td>\n",
       "    </tr>\n",
       "    <tr>\n",
       "      <th>31</th>\n",
       "      <td>[3, 1]</td>\n",
       "    </tr>\n",
       "    <tr>\n",
       "      <th>32</th>\n",
       "      <td>[3, 1]</td>\n",
       "    </tr>\n",
       "    <tr>\n",
       "      <th>41</th>\n",
       "      <td>[3]</td>\n",
       "    </tr>\n",
       "    <tr>\n",
       "      <th>42</th>\n",
       "      <td>[3]</td>\n",
       "    </tr>\n",
       "    <tr>\n",
       "      <th>51</th>\n",
       "      <td>[2, 5]</td>\n",
       "    </tr>\n",
       "    <tr>\n",
       "      <th>52</th>\n",
       "      <td>[2]</td>\n",
       "    </tr>\n",
       "    <tr>\n",
       "      <th>53</th>\n",
       "      <td>[2, 1, 3, 4]</td>\n",
       "    </tr>\n",
       "    <tr>\n",
       "      <th>54</th>\n",
       "      <td>[2, 4, 3]</td>\n",
       "    </tr>\n",
       "    <tr>\n",
       "      <th>61</th>\n",
       "      <td>[4]</td>\n",
       "    </tr>\n",
       "    <tr>\n",
       "      <th>71</th>\n",
       "      <td>[4, 2]</td>\n",
       "    </tr>\n",
       "    <tr>\n",
       "      <th>72</th>\n",
       "      <td>[4, 5, 2]</td>\n",
       "    </tr>\n",
       "    <tr>\n",
       "      <th>73</th>\n",
       "      <td>[4, 1]</td>\n",
       "    </tr>\n",
       "    <tr>\n",
       "      <th>81</th>\n",
       "      <td>[4]</td>\n",
       "    </tr>\n",
       "    <tr>\n",
       "      <th>82</th>\n",
       "      <td>[4]</td>\n",
       "    </tr>\n",
       "    <tr>\n",
       "      <th>84</th>\n",
       "      <td>[5]</td>\n",
       "    </tr>\n",
       "    <tr>\n",
       "      <th>91</th>\n",
       "      <td>[5, 4, 2, 3]</td>\n",
       "    </tr>\n",
       "    <tr>\n",
       "      <th>92</th>\n",
       "      <td>[3]</td>\n",
       "    </tr>\n",
       "    <tr>\n",
       "      <th>109</th>\n",
       "      <td>[4, 3]</td>\n",
       "    </tr>\n",
       "    <tr>\n",
       "      <th>112</th>\n",
       "      <td>[3]</td>\n",
       "    </tr>\n",
       "    <tr>\n",
       "      <th>113</th>\n",
       "      <td>[3]</td>\n",
       "    </tr>\n",
       "    <tr>\n",
       "      <th>211</th>\n",
       "      <td>[3, 1, 4]</td>\n",
       "    </tr>\n",
       "    <tr>\n",
       "      <th>311</th>\n",
       "      <td>[3]</td>\n",
       "    </tr>\n",
       "    <tr>\n",
       "      <th>313</th>\n",
       "      <td>[5, 3]</td>\n",
       "    </tr>\n",
       "    <tr>\n",
       "      <th>413</th>\n",
       "      <td>[3]</td>\n",
       "    </tr>\n",
       "    <tr>\n",
       "      <th>912</th>\n",
       "      <td>[5]</td>\n",
       "    </tr>\n",
       "    <tr>\n",
       "      <th>913</th>\n",
       "      <td>[5]</td>\n",
       "    </tr>\n",
       "    <tr>\n",
       "      <th>1014</th>\n",
       "      <td>[3, 5]</td>\n",
       "    </tr>\n",
       "    <tr>\n",
       "      <th>1015</th>\n",
       "      <td>[3]</td>\n",
       "    </tr>\n",
       "  </tbody>\n",
       "</table>\n",
       "</div>"
      ],
      "text/plain": [
       "                RAMA\n",
       "              unique\n",
       "AMBITO              \n",
       "11            [3, 1]\n",
       "21            [1, 4]\n",
       "22               [1]\n",
       "23            [1, 3]\n",
       "31            [3, 1]\n",
       "32            [3, 1]\n",
       "41               [3]\n",
       "42               [3]\n",
       "51            [2, 5]\n",
       "52               [2]\n",
       "53      [2, 1, 3, 4]\n",
       "54         [2, 4, 3]\n",
       "61               [4]\n",
       "71            [4, 2]\n",
       "72         [4, 5, 2]\n",
       "73            [4, 1]\n",
       "81               [4]\n",
       "82               [4]\n",
       "84               [5]\n",
       "91      [5, 4, 2, 3]\n",
       "92               [3]\n",
       "109           [4, 3]\n",
       "112              [3]\n",
       "113              [3]\n",
       "211        [3, 1, 4]\n",
       "311              [3]\n",
       "313           [5, 3]\n",
       "413              [3]\n",
       "912              [5]\n",
       "913              [5]\n",
       "1014          [3, 5]\n",
       "1015             [3]"
      ]
     },
     "execution_count": 46,
     "metadata": {},
     "output_type": "execute_result"
    }
   ],
   "source": [
    "# Varios ámbitos de estudio asociados a más de una rama de conocimiento: \n",
    "df_grad[['RAMA','AMBITO']].groupby('AMBITO').agg(['unique'])"
   ]
  },
  {
   "cell_type": "markdown",
   "metadata": {},
   "source": [
    "#### 'T_UNIV'\n",
    "**Tipo de universidad**: 1=Universidad Pública presencial, 2=Universidad Pública a distancia, 3=Universidad Privada presencial, 4=Universidad Privada a distancia."
   ]
  },
  {
   "cell_type": "code",
   "execution_count": 47,
   "metadata": {},
   "outputs": [
    {
     "data": {
      "text/plain": [
       "array([2, 1, 4, 3])"
      ]
     },
     "execution_count": 47,
     "metadata": {},
     "output_type": "execute_result"
    }
   ],
   "source": [
    "df_grad['T_UNIV'].unique() # No missing values"
   ]
  },
  {
   "cell_type": "code",
   "execution_count": 48,
   "metadata": {},
   "outputs": [
    {
     "data": {
      "text/plain": [
       "4    0.027803\n",
       "2    0.034122\n",
       "3    0.119838\n",
       "1    0.818236\n",
       "Name: T_UNIV, dtype: float64"
      ]
     },
     "execution_count": 48,
     "metadata": {},
     "output_type": "execute_result"
    }
   ],
   "source": [
    "proporciones('T_UNIV')"
   ]
  },
  {
   "cell_type": "markdown",
   "metadata": {},
   "source": [
    "#### Nueva variable: 'tipo_centro'\n",
    "**Tipo de centro educativo**: 1=Centros públicos, 0=Centros privados  \n",
    "\n",
    "Variable proxi (en otros datasets las respuestas están referidas a niveles educativos diferentes)."
   ]
  },
  {
   "cell_type": "code",
   "execution_count": 49,
   "metadata": {},
   "outputs": [
    {
     "data": {
      "text/html": [
       "<div>\n",
       "<style scoped>\n",
       "    .dataframe tbody tr th:only-of-type {\n",
       "        vertical-align: middle;\n",
       "    }\n",
       "\n",
       "    .dataframe tbody tr th {\n",
       "        vertical-align: top;\n",
       "    }\n",
       "\n",
       "    .dataframe thead tr th {\n",
       "        text-align: left;\n",
       "    }\n",
       "\n",
       "    .dataframe thead tr:last-of-type th {\n",
       "        text-align: right;\n",
       "    }\n",
       "</style>\n",
       "<table border=\"1\" class=\"dataframe\">\n",
       "  <thead>\n",
       "    <tr>\n",
       "      <th></th>\n",
       "      <th>T_UNIV</th>\n",
       "    </tr>\n",
       "    <tr>\n",
       "      <th></th>\n",
       "      <th>unique</th>\n",
       "    </tr>\n",
       "    <tr>\n",
       "      <th>tipo_centro</th>\n",
       "      <th></th>\n",
       "    </tr>\n",
       "  </thead>\n",
       "  <tbody>\n",
       "    <tr>\n",
       "      <th>0</th>\n",
       "      <td>[4, 3]</td>\n",
       "    </tr>\n",
       "    <tr>\n",
       "      <th>1</th>\n",
       "      <td>[2, 1]</td>\n",
       "    </tr>\n",
       "  </tbody>\n",
       "</table>\n",
       "</div>"
      ],
      "text/plain": [
       "             T_UNIV\n",
       "             unique\n",
       "tipo_centro        \n",
       "0            [4, 3]\n",
       "1            [2, 1]"
      ]
     },
     "execution_count": 49,
     "metadata": {},
     "output_type": "execute_result"
    }
   ],
   "source": [
    "df_grad['tipo_centro']=0\n",
    "df_grad['tipo_centro'].mask((df_grad['T_UNIV']==1)|(df_grad['T_UNIV']==2),1,inplace=True)\n",
    "df_grad[['T_UNIV','tipo_centro']].groupby('tipo_centro').agg(['unique']) # Comprobación: "
   ]
  },
  {
   "cell_type": "code",
   "execution_count": 50,
   "metadata": {},
   "outputs": [],
   "source": [
    "Variables.append('tipo_centro')"
   ]
  },
  {
   "cell_type": "code",
   "execution_count": 51,
   "metadata": {},
   "outputs": [
    {
     "data": {
      "text/plain": [
       "0    0.147641\n",
       "1    0.852359\n",
       "Name: tipo_centro, dtype: float64"
      ]
     },
     "execution_count": 51,
     "metadata": {},
     "output_type": "execute_result"
    }
   ],
   "source": [
    "proporciones('tipo_centro')"
   ]
  },
  {
   "cell_type": "code",
   "execution_count": 52,
   "metadata": {},
   "outputs": [],
   "source": [
    "Variables.append('tipo_centro')"
   ]
  },
  {
   "cell_type": "code",
   "execution_count": 53,
   "metadata": {},
   "outputs": [
    {
     "data": {
      "text/html": [
       "<div>\n",
       "<style scoped>\n",
       "    .dataframe tbody tr th:only-of-type {\n",
       "        vertical-align: middle;\n",
       "    }\n",
       "\n",
       "    .dataframe tbody tr th {\n",
       "        vertical-align: top;\n",
       "    }\n",
       "\n",
       "    .dataframe thead th {\n",
       "        text-align: right;\n",
       "    }\n",
       "</style>\n",
       "<table border=\"1\" class=\"dataframe\">\n",
       "  <thead>\n",
       "    <tr style=\"text-align: right;\">\n",
       "      <th></th>\n",
       "      <th></th>\n",
       "      <th>tipo_centro</th>\n",
       "    </tr>\n",
       "    <tr>\n",
       "      <th>esp</th>\n",
       "      <th>tipo_centro</th>\n",
       "      <th></th>\n",
       "    </tr>\n",
       "  </thead>\n",
       "  <tbody>\n",
       "    <tr>\n",
       "      <th rowspan=\"2\" valign=\"top\">0</th>\n",
       "      <th>0</th>\n",
       "      <td>0.097421</td>\n",
       "    </tr>\n",
       "    <tr>\n",
       "      <th>1</th>\n",
       "      <td>0.902579</td>\n",
       "    </tr>\n",
       "    <tr>\n",
       "      <th rowspan=\"2\" valign=\"top\">1</th>\n",
       "      <th>0</th>\n",
       "      <td>0.148201</td>\n",
       "    </tr>\n",
       "    <tr>\n",
       "      <th>1</th>\n",
       "      <td>0.851799</td>\n",
       "    </tr>\n",
       "  </tbody>\n",
       "</table>\n",
       "</div>"
      ],
      "text/plain": [
       "                 tipo_centro\n",
       "esp tipo_centro             \n",
       "0   0               0.097421\n",
       "    1               0.902579\n",
       "1   0               0.148201\n",
       "    1               0.851799"
      ]
     },
     "execution_count": 53,
     "metadata": {},
     "output_type": "execute_result"
    }
   ],
   "source": [
    "# Distribucion de centros públicos y privados condicionada por nacionalidad española u otras: \n",
    "dist_condicionada('esp','tipo_centro',rev=True)\n",
    "# La mayor frecuencia de elección de centros públicos en general se acentúa en el caso de aquellos cuya ...\n",
    "# ... nacionalidad no es española. "
   ]
  },
  {
   "cell_type": "markdown",
   "metadata": {},
   "source": [
    "#### Nueva variable: 'a_dist'\n",
    "**Formación presencial o a distancia**: 1=Formación a distancia, 0=Formación presencial  \n"
   ]
  },
  {
   "cell_type": "code",
   "execution_count": 54,
   "metadata": {},
   "outputs": [
    {
     "data": {
      "text/html": [
       "<div>\n",
       "<style scoped>\n",
       "    .dataframe tbody tr th:only-of-type {\n",
       "        vertical-align: middle;\n",
       "    }\n",
       "\n",
       "    .dataframe tbody tr th {\n",
       "        vertical-align: top;\n",
       "    }\n",
       "\n",
       "    .dataframe thead tr th {\n",
       "        text-align: left;\n",
       "    }\n",
       "\n",
       "    .dataframe thead tr:last-of-type th {\n",
       "        text-align: right;\n",
       "    }\n",
       "</style>\n",
       "<table border=\"1\" class=\"dataframe\">\n",
       "  <thead>\n",
       "    <tr>\n",
       "      <th></th>\n",
       "      <th>T_UNIV</th>\n",
       "    </tr>\n",
       "    <tr>\n",
       "      <th></th>\n",
       "      <th>unique</th>\n",
       "    </tr>\n",
       "    <tr>\n",
       "      <th>a_dist</th>\n",
       "      <th></th>\n",
       "    </tr>\n",
       "  </thead>\n",
       "  <tbody>\n",
       "    <tr>\n",
       "      <th>0</th>\n",
       "      <td>[1, 3]</td>\n",
       "    </tr>\n",
       "    <tr>\n",
       "      <th>1</th>\n",
       "      <td>[2, 4]</td>\n",
       "    </tr>\n",
       "  </tbody>\n",
       "</table>\n",
       "</div>"
      ],
      "text/plain": [
       "        T_UNIV\n",
       "        unique\n",
       "a_dist        \n",
       "0       [1, 3]\n",
       "1       [2, 4]"
      ]
     },
     "execution_count": 54,
     "metadata": {},
     "output_type": "execute_result"
    }
   ],
   "source": [
    "df_grad['a_dist']=0\n",
    "df_grad['a_dist'].mask((df_grad['T_UNIV']==2)|(df_grad['T_UNIV']==4),1,inplace=True)\n",
    "df_grad[['T_UNIV','a_dist']].groupby('a_dist').agg(['unique']) # Comprobación: "
   ]
  },
  {
   "cell_type": "code",
   "execution_count": 55,
   "metadata": {},
   "outputs": [],
   "source": [
    "Variables.append('a_dist')"
   ]
  },
  {
   "cell_type": "code",
   "execution_count": 56,
   "metadata": {},
   "outputs": [
    {
     "data": {
      "text/plain": [
       "1    0.061925\n",
       "0    0.938075\n",
       "Name: a_dist, dtype: float64"
      ]
     },
     "execution_count": 56,
     "metadata": {},
     "output_type": "execute_result"
    }
   ],
   "source": [
    "proporciones('a_dist')"
   ]
  },
  {
   "cell_type": "markdown",
   "metadata": {},
   "source": [
    "#### 'DISCA'\n",
    "Tiene **discapacidad reconocida** superior al 33 %: 1=Sí, 2=No.  \n",
    "\n",
    "Nota: Se modifica valor No: 0=No. "
   ]
  },
  {
   "cell_type": "code",
   "execution_count": 57,
   "metadata": {},
   "outputs": [
    {
     "data": {
      "text/plain": [
       "array([2, 1])"
      ]
     },
     "execution_count": 57,
     "metadata": {},
     "output_type": "execute_result"
    }
   ],
   "source": [
    "df_grad['DISCA'].unique() # No missing values"
   ]
  },
  {
   "cell_type": "code",
   "execution_count": 58,
   "metadata": {},
   "outputs": [],
   "source": [
    "# Cambio del valor asociado a respuesta No: \n",
    "df_grad['DISCA'].replace({2:0},inplace=True)"
   ]
  },
  {
   "cell_type": "code",
   "execution_count": 59,
   "metadata": {},
   "outputs": [
    {
     "data": {
      "text/plain": [
       "1    0.012196\n",
       "0    0.987804\n",
       "Name: DISCA, dtype: float64"
      ]
     },
     "execution_count": 59,
     "metadata": {},
     "output_type": "execute_result"
    }
   ],
   "source": [
    "proporciones('DISCA')"
   ]
  },
  {
   "cell_type": "code",
   "execution_count": 60,
   "metadata": {},
   "outputs": [
    {
     "data": {
      "text/html": [
       "<div>\n",
       "<style scoped>\n",
       "    .dataframe tbody tr th:only-of-type {\n",
       "        vertical-align: middle;\n",
       "    }\n",
       "\n",
       "    .dataframe tbody tr th {\n",
       "        vertical-align: top;\n",
       "    }\n",
       "\n",
       "    .dataframe thead tr th {\n",
       "        text-align: left;\n",
       "    }\n",
       "\n",
       "    .dataframe thead tr:last-of-type th {\n",
       "        text-align: right;\n",
       "    }\n",
       "</style>\n",
       "<table border=\"1\" class=\"dataframe\">\n",
       "  <thead>\n",
       "    <tr>\n",
       "      <th></th>\n",
       "      <th></th>\n",
       "      <th>T_UNIV</th>\n",
       "    </tr>\n",
       "    <tr>\n",
       "      <th></th>\n",
       "      <th></th>\n",
       "      <th>value_counts</th>\n",
       "    </tr>\n",
       "    <tr>\n",
       "      <th>DISCA</th>\n",
       "      <th>T_UNIV</th>\n",
       "      <th></th>\n",
       "    </tr>\n",
       "  </thead>\n",
       "  <tbody>\n",
       "    <tr>\n",
       "      <th rowspan=\"4\" valign=\"top\">0</th>\n",
       "      <th>1</th>\n",
       "      <td>25583</td>\n",
       "    </tr>\n",
       "    <tr>\n",
       "      <th>3</th>\n",
       "      <td>3770</td>\n",
       "    </tr>\n",
       "    <tr>\n",
       "      <th>2</th>\n",
       "      <td>1051</td>\n",
       "    </tr>\n",
       "    <tr>\n",
       "      <th>4</th>\n",
       "      <td>861</td>\n",
       "    </tr>\n",
       "    <tr>\n",
       "      <th rowspan=\"4\" valign=\"top\">1</th>\n",
       "      <th>1</th>\n",
       "      <td>315</td>\n",
       "    </tr>\n",
       "    <tr>\n",
       "      <th>2</th>\n",
       "      <td>29</td>\n",
       "    </tr>\n",
       "    <tr>\n",
       "      <th>3</th>\n",
       "      <td>23</td>\n",
       "    </tr>\n",
       "    <tr>\n",
       "      <th>4</th>\n",
       "      <td>19</td>\n",
       "    </tr>\n",
       "  </tbody>\n",
       "</table>\n",
       "</div>"
      ],
      "text/plain": [
       "                   T_UNIV\n",
       "             value_counts\n",
       "DISCA T_UNIV             \n",
       "0     1             25583\n",
       "      3              3770\n",
       "      2              1051\n",
       "      4               861\n",
       "1     1               315\n",
       "      2                29\n",
       "      3                23\n",
       "      4                19"
      ]
     },
     "execution_count": 60,
     "metadata": {},
     "output_type": "execute_result"
    }
   ],
   "source": [
    "# Discapacidad según tipo de universidad (en términos absolutos)\n",
    "df_grad[['T_UNIV','DISCA']].groupby('DISCA').agg(['value_counts']) "
   ]
  },
  {
   "cell_type": "code",
   "execution_count": 61,
   "metadata": {},
   "outputs": [
    {
     "data": {
      "text/html": [
       "<div>\n",
       "<style scoped>\n",
       "    .dataframe tbody tr th:only-of-type {\n",
       "        vertical-align: middle;\n",
       "    }\n",
       "\n",
       "    .dataframe tbody tr th {\n",
       "        vertical-align: top;\n",
       "    }\n",
       "\n",
       "    .dataframe thead th {\n",
       "        text-align: right;\n",
       "    }\n",
       "</style>\n",
       "<table border=\"1\" class=\"dataframe\">\n",
       "  <thead>\n",
       "    <tr style=\"text-align: right;\">\n",
       "      <th></th>\n",
       "      <th></th>\n",
       "      <th>DISCA</th>\n",
       "    </tr>\n",
       "    <tr>\n",
       "      <th>T_UNIV</th>\n",
       "      <th>DISCA</th>\n",
       "      <th></th>\n",
       "    </tr>\n",
       "  </thead>\n",
       "  <tbody>\n",
       "    <tr>\n",
       "      <th rowspan=\"2\" valign=\"top\">1</th>\n",
       "      <th>0</th>\n",
       "      <td>0.987837</td>\n",
       "    </tr>\n",
       "    <tr>\n",
       "      <th>1</th>\n",
       "      <td>0.012163</td>\n",
       "    </tr>\n",
       "    <tr>\n",
       "      <th rowspan=\"2\" valign=\"top\">2</th>\n",
       "      <th>0</th>\n",
       "      <td>0.973148</td>\n",
       "    </tr>\n",
       "    <tr>\n",
       "      <th>1</th>\n",
       "      <td>0.026852</td>\n",
       "    </tr>\n",
       "    <tr>\n",
       "      <th rowspan=\"2\" valign=\"top\">3</th>\n",
       "      <th>0</th>\n",
       "      <td>0.993936</td>\n",
       "    </tr>\n",
       "    <tr>\n",
       "      <th>1</th>\n",
       "      <td>0.006064</td>\n",
       "    </tr>\n",
       "    <tr>\n",
       "      <th rowspan=\"2\" valign=\"top\">4</th>\n",
       "      <th>0</th>\n",
       "      <td>0.978409</td>\n",
       "    </tr>\n",
       "    <tr>\n",
       "      <th>1</th>\n",
       "      <td>0.021591</td>\n",
       "    </tr>\n",
       "  </tbody>\n",
       "</table>\n",
       "</div>"
      ],
      "text/plain": [
       "                 DISCA\n",
       "T_UNIV DISCA          \n",
       "1      0      0.987837\n",
       "       1      0.012163\n",
       "2      0      0.973148\n",
       "       1      0.026852\n",
       "3      0      0.993936\n",
       "       1      0.006064\n",
       "4      0      0.978409\n",
       "       1      0.021591"
      ]
     },
     "execution_count": 61,
     "metadata": {},
     "output_type": "execute_result"
    }
   ],
   "source": [
    "# Proporción de discapacidad según el tipo de centro: \n",
    "dist_condicionada('DISCA','T_UNIV')\n",
    "# La proporción de estudiantes con discapacidad en las universidades a distancia públicas y privadas ...\n",
    "# ... es al menos el doble que en las presenciales públicas y privadas respectivamente"
   ]
  },
  {
   "cell_type": "code",
   "execution_count": 62,
   "metadata": {},
   "outputs": [
    {
     "data": {
      "text/html": [
       "<div>\n",
       "<style scoped>\n",
       "    .dataframe tbody tr th:only-of-type {\n",
       "        vertical-align: middle;\n",
       "    }\n",
       "\n",
       "    .dataframe tbody tr th {\n",
       "        vertical-align: top;\n",
       "    }\n",
       "\n",
       "    .dataframe thead th {\n",
       "        text-align: right;\n",
       "    }\n",
       "</style>\n",
       "<table border=\"1\" class=\"dataframe\">\n",
       "  <thead>\n",
       "    <tr style=\"text-align: right;\">\n",
       "      <th></th>\n",
       "      <th></th>\n",
       "      <th>T_UNIV</th>\n",
       "    </tr>\n",
       "    <tr>\n",
       "      <th>DISCA</th>\n",
       "      <th>T_UNIV</th>\n",
       "      <th></th>\n",
       "    </tr>\n",
       "  </thead>\n",
       "  <tbody>\n",
       "    <tr>\n",
       "      <th rowspan=\"4\" valign=\"top\">0</th>\n",
       "      <th>1</th>\n",
       "      <td>0.818263</td>\n",
       "    </tr>\n",
       "    <tr>\n",
       "      <th>2</th>\n",
       "      <td>0.033616</td>\n",
       "    </tr>\n",
       "    <tr>\n",
       "      <th>3</th>\n",
       "      <td>0.120582</td>\n",
       "    </tr>\n",
       "    <tr>\n",
       "      <th>4</th>\n",
       "      <td>0.027539</td>\n",
       "    </tr>\n",
       "    <tr>\n",
       "      <th rowspan=\"4\" valign=\"top\">1</th>\n",
       "      <th>1</th>\n",
       "      <td>0.816062</td>\n",
       "    </tr>\n",
       "    <tr>\n",
       "      <th>2</th>\n",
       "      <td>0.075130</td>\n",
       "    </tr>\n",
       "    <tr>\n",
       "      <th>3</th>\n",
       "      <td>0.059585</td>\n",
       "    </tr>\n",
       "    <tr>\n",
       "      <th>4</th>\n",
       "      <td>0.049223</td>\n",
       "    </tr>\n",
       "  </tbody>\n",
       "</table>\n",
       "</div>"
      ],
      "text/plain": [
       "                T_UNIV\n",
       "DISCA T_UNIV          \n",
       "0     1       0.818263\n",
       "      2       0.033616\n",
       "      3       0.120582\n",
       "      4       0.027539\n",
       "1     1       0.816062\n",
       "      2       0.075130\n",
       "      3       0.059585\n",
       "      4       0.049223"
      ]
     },
     "execution_count": 62,
     "metadata": {},
     "output_type": "execute_result"
    }
   ],
   "source": [
    "# Proporción de cada tipo de universidad según discapacidad: \n",
    "dist_condicionada('DISCA','T_UNIV',rev=True)\n",
    "# Los estudiantes con y sin discapacidad eligen universidad pública presencial mayoritariamente y ... \n",
    "# ... aproximadamente con la misma frecuencia. \n",
    "# Pero los estudiantes con discapacidad eligen la universidad a distancia (pública o privada) con más del doble ...\n",
    "# ... de frecuencia que los estudiantes sin discapacidad. La relación se invierte para la privada presencial."
   ]
  },
  {
   "cell_type": "markdown",
   "metadata": {},
   "source": [
    "#### 'PROXY'\n",
    "**Tipo de entrevista**: 1=Entrevista directa con la persona seleccionada, 2=Entrevista proxy."
   ]
  },
  {
   "cell_type": "code",
   "execution_count": 63,
   "metadata": {},
   "outputs": [
    {
     "data": {
      "text/plain": [
       "array([1, 2])"
      ]
     },
     "execution_count": 63,
     "metadata": {},
     "output_type": "execute_result"
    }
   ],
   "source": [
    "df_grad['PROXY'].unique() # No missing values"
   ]
  },
  {
   "cell_type": "code",
   "execution_count": 64,
   "metadata": {},
   "outputs": [
    {
     "data": {
      "text/plain": [
       "2    0.012353\n",
       "1    0.987647\n",
       "Name: PROXY, dtype: float64"
      ]
     },
     "execution_count": 64,
     "metadata": {},
     "output_type": "execute_result"
    }
   ],
   "source": [
    "proporciones('PROXY')"
   ]
  },
  {
   "cell_type": "markdown",
   "metadata": {},
   "source": [
    "#### 'LUG_RES_PAIS'\n",
    "**País de residencia actual**: 01=España,02=Reino Unido, 03=Alemania, 04=Francia, 05=Otro país de la Unión Europea, 06=Otro país europeo (fuera de la UE), 07=Un país de América del Norte, 08=Un país de América Central o América del Sur, 09=Un país de Asia, 10=Un país de África, 11=Un país de Oceanía, 99=NS/NC."
   ]
  },
  {
   "cell_type": "code",
   "execution_count": 65,
   "metadata": {},
   "outputs": [
    {
     "data": {
      "text/plain": [
       "array([ 1,  2,  3,  4,  5,  6,  7,  8,  9, 10, 11])"
      ]
     },
     "execution_count": 65,
     "metadata": {},
     "output_type": "execute_result"
    }
   ],
   "source": [
    "df_grad['LUG_RES_PAIS'].sort_values().unique() # No missing values"
   ]
  },
  {
   "cell_type": "code",
   "execution_count": 66,
   "metadata": {},
   "outputs": [
    {
     "data": {
      "text/plain": [
       "10    0.000379\n",
       "11    0.001517\n",
       "9     0.002117\n",
       "8     0.002591\n",
       "6     0.003791\n",
       "4     0.004486\n",
       "7     0.004644\n",
       "3     0.006793\n",
       "5     0.013586\n",
       "2     0.015987\n",
       "1     0.944109\n",
       "Name: LUG_RES_PAIS, dtype: float64"
      ]
     },
     "execution_count": 66,
     "metadata": {},
     "output_type": "execute_result"
    }
   ],
   "source": [
    "proporciones('LUG_RES_PAIS')"
   ]
  },
  {
   "cell_type": "markdown",
   "metadata": {},
   "source": [
    "#### 'PAIS_NAC_PADRE'\n",
    "**País de nacimiento del padre**: 1=España, 2=Otro país de la UE, 3=Otro país fuera de la UE, 9=NS/NC."
   ]
  },
  {
   "cell_type": "code",
   "execution_count": 67,
   "metadata": {},
   "outputs": [
    {
     "data": {
      "text/plain": [
       "array([1, 9, 2, 3])"
      ]
     },
     "execution_count": 67,
     "metadata": {},
     "output_type": "execute_result"
    }
   ],
   "source": [
    "df_grad['PAIS_NAC_PADRE'].unique() # Missing values as 9"
   ]
  },
  {
   "cell_type": "code",
   "execution_count": 68,
   "metadata": {},
   "outputs": [],
   "source": [
    "# Se imputa None a NS/NC (9):\n",
    "df_grad['PAIS_NAC_PADRE'].replace({9:None},inplace=True)"
   ]
  },
  {
   "cell_type": "code",
   "execution_count": 69,
   "metadata": {},
   "outputs": [
    {
     "data": {
      "text/plain": [
       "2    0.011928\n",
       "3    0.027037\n",
       "1    0.961034\n",
       "Name: PAIS_NAC_PADRE, dtype: float64"
      ]
     },
     "execution_count": 69,
     "metadata": {},
     "output_type": "execute_result"
    }
   ],
   "source": [
    "proporciones('PAIS_NAC_PADRE')\n",
    "# Frecuencia de padre no español entre los graduados inferior a la observada en la población general (aprox. 10 %)"
   ]
  },
  {
   "cell_type": "markdown",
   "metadata": {},
   "source": [
    "#### 'ESTUDIOS_PADRE'\n",
    "**Nivel de formación máximo alcanzado por el padre**: 1=No sabe leer o escribir, 2=Educación primaria incompleta (ha asistido menos de 5 años a la escuela), 3=Educación primaria completa, 4=Primera etapa de Enseñanza Secundaria, con o sin título (ESO, EGB, Bachillerato Elemental), 5=Estudios de Bachillerato (Bachillerato LOGSE, BUP, COU, Preu), 6=Enseñanzas profesionales de grado medio o equivalentes, 7=Enseñanzas profesionales de grado superior o equivalentes, 8=Estudios universitarios (Diplomatura, Licenciatura, Doctorado) o equivalentes, 9=NS/NC."
   ]
  },
  {
   "cell_type": "code",
   "execution_count": 70,
   "metadata": {},
   "outputs": [
    {
     "data": {
      "text/plain": [
       "array([2, 3, 7, 8, 5, 4, 6, 9, 1])"
      ]
     },
     "execution_count": 70,
     "metadata": {},
     "output_type": "execute_result"
    }
   ],
   "source": [
    "df_grad['ESTUDIOS_PADRE'].unique() # Missing values as 9"
   ]
  },
  {
   "cell_type": "code",
   "execution_count": 71,
   "metadata": {},
   "outputs": [],
   "source": [
    "# Se imputa None a NS/NC (9):\n",
    "df_grad['ESTUDIOS_PADRE'].replace({9:None},inplace=True)"
   ]
  },
  {
   "cell_type": "code",
   "execution_count": 72,
   "metadata": {},
   "outputs": [
    {
     "data": {
      "text/plain": [
       "1.0    0.003570\n",
       "2.0    0.052921\n",
       "NaN    0.069508\n",
       "7.0    0.073078\n",
       "6.0    0.076111\n",
       "5.0    0.114025\n",
       "4.0    0.159458\n",
       "3.0    0.166219\n",
       "8.0    0.285109\n",
       "Name: ESTUDIOS_PADRE, dtype: float64"
      ]
     },
     "execution_count": 72,
     "metadata": {},
     "output_type": "execute_result"
    }
   ],
   "source": [
    "proporciones('ESTUDIOS_PADRE',dropna=False)"
   ]
  },
  {
   "cell_type": "markdown",
   "metadata": {},
   "source": [
    "#### Nueva variable: 'univ_pa'\n",
    "**Padre** con o sin **estudios universitarios**: 1=Con estudios universitarios, 0=Sin estudios universitarios "
   ]
  },
  {
   "cell_type": "code",
   "execution_count": 73,
   "metadata": {},
   "outputs": [
    {
     "data": {
      "text/html": [
       "<div>\n",
       "<style scoped>\n",
       "    .dataframe tbody tr th:only-of-type {\n",
       "        vertical-align: middle;\n",
       "    }\n",
       "\n",
       "    .dataframe tbody tr th {\n",
       "        vertical-align: top;\n",
       "    }\n",
       "\n",
       "    .dataframe thead tr th {\n",
       "        text-align: left;\n",
       "    }\n",
       "\n",
       "    .dataframe thead tr:last-of-type th {\n",
       "        text-align: right;\n",
       "    }\n",
       "</style>\n",
       "<table border=\"1\" class=\"dataframe\">\n",
       "  <thead>\n",
       "    <tr>\n",
       "      <th></th>\n",
       "      <th>ESTUDIOS_PADRE</th>\n",
       "    </tr>\n",
       "    <tr>\n",
       "      <th></th>\n",
       "      <th>unique</th>\n",
       "    </tr>\n",
       "    <tr>\n",
       "      <th>univ_pa</th>\n",
       "      <th></th>\n",
       "    </tr>\n",
       "  </thead>\n",
       "  <tbody>\n",
       "    <tr>\n",
       "      <th>0</th>\n",
       "      <td>[2, 3, 7, 5, 4, 6, None, 1]</td>\n",
       "    </tr>\n",
       "    <tr>\n",
       "      <th>1</th>\n",
       "      <td>[8]</td>\n",
       "    </tr>\n",
       "  </tbody>\n",
       "</table>\n",
       "</div>"
      ],
      "text/plain": [
       "                      ESTUDIOS_PADRE\n",
       "                              unique\n",
       "univ_pa                             \n",
       "0        [2, 3, 7, 5, 4, 6, None, 1]\n",
       "1                                [8]"
      ]
     },
     "execution_count": 73,
     "metadata": {},
     "output_type": "execute_result"
    }
   ],
   "source": [
    "df_grad['univ_pa']=0\n",
    "df_grad['univ_pa'].mask(df_grad['ESTUDIOS_PADRE']==8,1,inplace=True)\n",
    "df_grad[['ESTUDIOS_PADRE','univ_pa']].groupby('univ_pa').agg(['unique']) # Comprobación: "
   ]
  },
  {
   "cell_type": "code",
   "execution_count": 74,
   "metadata": {},
   "outputs": [],
   "source": [
    "Variables.append('univ_pa')"
   ]
  },
  {
   "cell_type": "code",
   "execution_count": 75,
   "metadata": {},
   "outputs": [
    {
     "data": {
      "text/html": [
       "<div>\n",
       "<style scoped>\n",
       "    .dataframe tbody tr th:only-of-type {\n",
       "        vertical-align: middle;\n",
       "    }\n",
       "\n",
       "    .dataframe tbody tr th {\n",
       "        vertical-align: top;\n",
       "    }\n",
       "\n",
       "    .dataframe thead th {\n",
       "        text-align: right;\n",
       "    }\n",
       "</style>\n",
       "<table border=\"1\" class=\"dataframe\">\n",
       "  <thead>\n",
       "    <tr style=\"text-align: right;\">\n",
       "      <th></th>\n",
       "      <th></th>\n",
       "      <th>univ_pa</th>\n",
       "    </tr>\n",
       "    <tr>\n",
       "      <th>esp</th>\n",
       "      <th>univ_pa</th>\n",
       "      <th></th>\n",
       "    </tr>\n",
       "  </thead>\n",
       "  <tbody>\n",
       "    <tr>\n",
       "      <th rowspan=\"2\" valign=\"top\">0</th>\n",
       "      <th>0</th>\n",
       "      <td>0.673352</td>\n",
       "    </tr>\n",
       "    <tr>\n",
       "      <th>1</th>\n",
       "      <td>0.326648</td>\n",
       "    </tr>\n",
       "    <tr>\n",
       "      <th rowspan=\"2\" valign=\"top\">1</th>\n",
       "      <th>0</th>\n",
       "      <td>0.715354</td>\n",
       "    </tr>\n",
       "    <tr>\n",
       "      <th>1</th>\n",
       "      <td>0.284646</td>\n",
       "    </tr>\n",
       "  </tbody>\n",
       "</table>\n",
       "</div>"
      ],
      "text/plain": [
       "              univ_pa\n",
       "esp univ_pa          \n",
       "0   0        0.673352\n",
       "    1        0.326648\n",
       "1   0        0.715354\n",
       "    1        0.284646"
      ]
     },
     "execution_count": 75,
     "metadata": {},
     "output_type": "execute_result"
    }
   ],
   "source": [
    "# Distribucion de padre universitario o no según nacionalidad española u otras: \n",
    "dist_condicionada('univ_pa','esp')\n",
    "# La frecuencia de padre universitario es mayor entre los graduados con nacionalidad no española."
   ]
  },
  {
   "cell_type": "code",
   "execution_count": 76,
   "metadata": {},
   "outputs": [
    {
     "data": {
      "text/html": [
       "<div>\n",
       "<style scoped>\n",
       "    .dataframe tbody tr th:only-of-type {\n",
       "        vertical-align: middle;\n",
       "    }\n",
       "\n",
       "    .dataframe tbody tr th {\n",
       "        vertical-align: top;\n",
       "    }\n",
       "\n",
       "    .dataframe thead th {\n",
       "        text-align: right;\n",
       "    }\n",
       "</style>\n",
       "<table border=\"1\" class=\"dataframe\">\n",
       "  <thead>\n",
       "    <tr style=\"text-align: right;\">\n",
       "      <th></th>\n",
       "      <th></th>\n",
       "      <th>univ_pa</th>\n",
       "    </tr>\n",
       "    <tr>\n",
       "      <th>eu27</th>\n",
       "      <th>univ_pa</th>\n",
       "      <th></th>\n",
       "    </tr>\n",
       "  </thead>\n",
       "  <tbody>\n",
       "    <tr>\n",
       "      <th rowspan=\"2\" valign=\"top\">0</th>\n",
       "      <th>0</th>\n",
       "      <td>0.628247</td>\n",
       "    </tr>\n",
       "    <tr>\n",
       "      <th>1</th>\n",
       "      <td>0.371753</td>\n",
       "    </tr>\n",
       "    <tr>\n",
       "      <th rowspan=\"2\" valign=\"top\">1</th>\n",
       "      <th>0</th>\n",
       "      <td>0.716610</td>\n",
       "    </tr>\n",
       "    <tr>\n",
       "      <th>1</th>\n",
       "      <td>0.283390</td>\n",
       "    </tr>\n",
       "  </tbody>\n",
       "</table>\n",
       "</div>"
      ],
      "text/plain": [
       "               univ_pa\n",
       "eu27 univ_pa          \n",
       "0    0        0.628247\n",
       "     1        0.371753\n",
       "1    0        0.716610\n",
       "     1        0.283390"
      ]
     },
     "execution_count": 76,
     "metadata": {},
     "output_type": "execute_result"
    }
   ],
   "source": [
    "# Distribucion de padre universitario o no según nacidos o no en EU27: \n",
    "dist_condicionada('univ_pa','eu27')\n",
    "# La frecuencia de padre universitario es aun mayor entre los no nacidos en EU27. Parece reflejar mayores ...\n",
    "# ... barreras de acceso a la universidad española para los estudiantes no europeos. "
   ]
  },
  {
   "cell_type": "markdown",
   "metadata": {},
   "source": [
    "#### 'PAIS_NAC_MADRE'\n",
    "**País de nacimiento de la madre**: 1=España, 2=Otro país de la UE, 3=Otro país fuera de la UE, 9=NS/NC."
   ]
  },
  {
   "cell_type": "code",
   "execution_count": 77,
   "metadata": {},
   "outputs": [
    {
     "data": {
      "text/plain": [
       "array([1, 3, 9, 2])"
      ]
     },
     "execution_count": 77,
     "metadata": {},
     "output_type": "execute_result"
    }
   ],
   "source": [
    "df_grad['PAIS_NAC_MADRE'].unique() # Missing values as 9"
   ]
  },
  {
   "cell_type": "code",
   "execution_count": 78,
   "metadata": {},
   "outputs": [],
   "source": [
    "# Se imputa None a NS/NC (9):\n",
    "df_grad['PAIS_NAC_MADRE'].replace({9:None},inplace=True)"
   ]
  },
  {
   "cell_type": "code",
   "execution_count": 79,
   "metadata": {},
   "outputs": [
    {
     "data": {
      "text/plain": [
       "2    0.014427\n",
       "3    0.026232\n",
       "1    0.959341\n",
       "Name: PAIS_NAC_MADRE, dtype: float64"
      ]
     },
     "execution_count": 79,
     "metadata": {},
     "output_type": "execute_result"
    }
   ],
   "source": [
    "proporciones('PAIS_NAC_MADRE')"
   ]
  },
  {
   "cell_type": "markdown",
   "metadata": {},
   "source": [
    "#### 'ESTUDIOS_MADRE'\n",
    "**Nivel de formación máximo alcanzado por la madre**: 1=No sabe leer o escribir, 2=Educación primaria incompleta (ha asistido menos de 5 años a la escuela), 3=Educación primaria completa, 4=Primera etapa de Enseñanza Secundaria, con o sin título (ESO, EGB, Bachillerato Elemental), 5=Estudios de Bachillerato (Bachillerato LOGSE, BUP, COU, Preu), 6=Enseñanzas profesionales de grado medio o equivalentes, 7=Enseñanzas profesionales de grado superior o equivalentes, 8=Estudios universitarios (Diplomatura, Licenciatura, Doctorado) o equivalentes, 9=NS/NC."
   ]
  },
  {
   "cell_type": "code",
   "execution_count": 80,
   "metadata": {},
   "outputs": [
    {
     "data": {
      "text/plain": [
       "array([3, 7, 2, 4, 5, 6, 8, 9, 1])"
      ]
     },
     "execution_count": 80,
     "metadata": {},
     "output_type": "execute_result"
    }
   ],
   "source": [
    "df_grad['ESTUDIOS_MADRE'].unique() # Missing values as 9"
   ]
  },
  {
   "cell_type": "code",
   "execution_count": 81,
   "metadata": {},
   "outputs": [],
   "source": [
    "# Se imputa None a NS/NC (9):\n",
    "df_grad['ESTUDIOS_MADRE'].replace({9:None},inplace=True)"
   ]
  },
  {
   "cell_type": "code",
   "execution_count": 82,
   "metadata": {},
   "outputs": [
    {
     "data": {
      "text/plain": [
       "1    0.004141\n",
       "2    0.053836\n",
       "7    0.062053\n",
       "6    0.095945\n",
       "5    0.129439\n",
       "3    0.175557\n",
       "4    0.192784\n",
       "8    0.286244\n",
       "Name: ESTUDIOS_MADRE, dtype: float64"
      ]
     },
     "execution_count": 82,
     "metadata": {},
     "output_type": "execute_result"
    }
   ],
   "source": [
    "proporciones('ESTUDIOS_MADRE')"
   ]
  },
  {
   "cell_type": "markdown",
   "metadata": {},
   "source": [
    "#### Nueva variable: 'univ_ma'\n",
    "**Madre** con o sin **estudios universitarios**: 1=Con estudios universitarios, 0=Sin estudios universitarios "
   ]
  },
  {
   "cell_type": "code",
   "execution_count": 83,
   "metadata": {},
   "outputs": [
    {
     "data": {
      "text/html": [
       "<div>\n",
       "<style scoped>\n",
       "    .dataframe tbody tr th:only-of-type {\n",
       "        vertical-align: middle;\n",
       "    }\n",
       "\n",
       "    .dataframe tbody tr th {\n",
       "        vertical-align: top;\n",
       "    }\n",
       "\n",
       "    .dataframe thead tr th {\n",
       "        text-align: left;\n",
       "    }\n",
       "\n",
       "    .dataframe thead tr:last-of-type th {\n",
       "        text-align: right;\n",
       "    }\n",
       "</style>\n",
       "<table border=\"1\" class=\"dataframe\">\n",
       "  <thead>\n",
       "    <tr>\n",
       "      <th></th>\n",
       "      <th>ESTUDIOS_MADRE</th>\n",
       "    </tr>\n",
       "    <tr>\n",
       "      <th></th>\n",
       "      <th>unique</th>\n",
       "    </tr>\n",
       "    <tr>\n",
       "      <th>univ_ma</th>\n",
       "      <th></th>\n",
       "    </tr>\n",
       "  </thead>\n",
       "  <tbody>\n",
       "    <tr>\n",
       "      <th>0</th>\n",
       "      <td>[3, 7, 2, 4, 5, 6, None, 1]</td>\n",
       "    </tr>\n",
       "    <tr>\n",
       "      <th>1</th>\n",
       "      <td>[8]</td>\n",
       "    </tr>\n",
       "  </tbody>\n",
       "</table>\n",
       "</div>"
      ],
      "text/plain": [
       "                      ESTUDIOS_MADRE\n",
       "                              unique\n",
       "univ_ma                             \n",
       "0        [3, 7, 2, 4, 5, 6, None, 1]\n",
       "1                                [8]"
      ]
     },
     "execution_count": 83,
     "metadata": {},
     "output_type": "execute_result"
    }
   ],
   "source": [
    "df_grad['univ_ma']=0\n",
    "df_grad['univ_ma'].mask(df_grad['ESTUDIOS_MADRE']==8,1,inplace=True)\n",
    "df_grad[['ESTUDIOS_MADRE','univ_ma']].groupby('univ_ma').agg(['unique']) # Comprobación: "
   ]
  },
  {
   "cell_type": "code",
   "execution_count": 84,
   "metadata": {},
   "outputs": [],
   "source": [
    "Variables.append('univ_ma')"
   ]
  },
  {
   "cell_type": "code",
   "execution_count": 85,
   "metadata": {},
   "outputs": [
    {
     "data": {
      "text/html": [
       "<div>\n",
       "<style scoped>\n",
       "    .dataframe tbody tr th:only-of-type {\n",
       "        vertical-align: middle;\n",
       "    }\n",
       "\n",
       "    .dataframe tbody tr th {\n",
       "        vertical-align: top;\n",
       "    }\n",
       "\n",
       "    .dataframe thead th {\n",
       "        text-align: right;\n",
       "    }\n",
       "</style>\n",
       "<table border=\"1\" class=\"dataframe\">\n",
       "  <thead>\n",
       "    <tr style=\"text-align: right;\">\n",
       "      <th></th>\n",
       "      <th></th>\n",
       "      <th>univ_ma</th>\n",
       "    </tr>\n",
       "    <tr>\n",
       "      <th>esp</th>\n",
       "      <th>univ_ma</th>\n",
       "      <th></th>\n",
       "    </tr>\n",
       "  </thead>\n",
       "  <tbody>\n",
       "    <tr>\n",
       "      <th rowspan=\"2\" valign=\"top\">0</th>\n",
       "      <th>0</th>\n",
       "      <td>0.670487</td>\n",
       "    </tr>\n",
       "    <tr>\n",
       "      <th>1</th>\n",
       "      <td>0.329513</td>\n",
       "    </tr>\n",
       "    <tr>\n",
       "      <th rowspan=\"2\" valign=\"top\">1</th>\n",
       "      <th>0</th>\n",
       "      <td>0.727653</td>\n",
       "    </tr>\n",
       "    <tr>\n",
       "      <th>1</th>\n",
       "      <td>0.272347</td>\n",
       "    </tr>\n",
       "  </tbody>\n",
       "</table>\n",
       "</div>"
      ],
      "text/plain": [
       "              univ_ma\n",
       "esp univ_ma          \n",
       "0   0        0.670487\n",
       "    1        0.329513\n",
       "1   0        0.727653\n",
       "    1        0.272347"
      ]
     },
     "execution_count": 85,
     "metadata": {},
     "output_type": "execute_result"
    }
   ],
   "source": [
    "# Distribucion de madre universitaria o no según nacionalidad española u otras: \n",
    "dist_condicionada('univ_ma','esp')\n",
    "# La frecuencia de madre universitaria es mayor entre los graduados con nacionalidad no española."
   ]
  },
  {
   "cell_type": "code",
   "execution_count": 86,
   "metadata": {},
   "outputs": [
    {
     "data": {
      "text/html": [
       "<div>\n",
       "<style scoped>\n",
       "    .dataframe tbody tr th:only-of-type {\n",
       "        vertical-align: middle;\n",
       "    }\n",
       "\n",
       "    .dataframe tbody tr th {\n",
       "        vertical-align: top;\n",
       "    }\n",
       "\n",
       "    .dataframe thead th {\n",
       "        text-align: right;\n",
       "    }\n",
       "</style>\n",
       "<table border=\"1\" class=\"dataframe\">\n",
       "  <thead>\n",
       "    <tr style=\"text-align: right;\">\n",
       "      <th></th>\n",
       "      <th></th>\n",
       "      <th>univ_ma</th>\n",
       "    </tr>\n",
       "    <tr>\n",
       "      <th>eu27</th>\n",
       "      <th>univ_ma</th>\n",
       "      <th></th>\n",
       "    </tr>\n",
       "  </thead>\n",
       "  <tbody>\n",
       "    <tr>\n",
       "      <th rowspan=\"2\" valign=\"top\">0</th>\n",
       "      <th>0</th>\n",
       "      <td>0.660714</td>\n",
       "    </tr>\n",
       "    <tr>\n",
       "      <th>1</th>\n",
       "      <td>0.339286</td>\n",
       "    </tr>\n",
       "    <tr>\n",
       "      <th rowspan=\"2\" valign=\"top\">1</th>\n",
       "      <th>0</th>\n",
       "      <td>0.728339</td>\n",
       "    </tr>\n",
       "    <tr>\n",
       "      <th>1</th>\n",
       "      <td>0.271661</td>\n",
       "    </tr>\n",
       "  </tbody>\n",
       "</table>\n",
       "</div>"
      ],
      "text/plain": [
       "               univ_ma\n",
       "eu27 univ_ma          \n",
       "0    0        0.660714\n",
       "     1        0.339286\n",
       "1    0        0.728339\n",
       "     1        0.271661"
      ]
     },
     "execution_count": 86,
     "metadata": {},
     "output_type": "execute_result"
    }
   ],
   "source": [
    "# Distribucion de madre universitaria o no según nacidos o no en EU27: \n",
    "dist_condicionada('univ_ma','eu27')\n",
    "# De nuevo, la frecuencia de madre universitaria es aun mayor entre los no nacidos en EU27, aunque con menor ...\n",
    "# ... diferencia que en el caso de los padres. "
   ]
  },
  {
   "cell_type": "markdown",
   "metadata": {},
   "source": [
    "#### 'EST_B1'\n",
    "¿Disfrutó de **alguna beca** durante sus estudios?: 1=Sí, 2=No, 9=NS/NC.  \n",
    "\n",
    "Nota: se modifica el valor asociado a No: 0=No"
   ]
  },
  {
   "cell_type": "code",
   "execution_count": 87,
   "metadata": {},
   "outputs": [
    {
     "data": {
      "text/plain": [
       "array([2, 1, 9])"
      ]
     },
     "execution_count": 87,
     "metadata": {},
     "output_type": "execute_result"
    }
   ],
   "source": [
    "df_grad['EST_B1'].unique() # Missing values as 9"
   ]
  },
  {
   "cell_type": "code",
   "execution_count": 88,
   "metadata": {},
   "outputs": [],
   "source": [
    "# Se imputa None a NS/NC (9):\n",
    "df_grad['EST_B1'].replace({9:None},inplace=True)\n",
    "# Se modifica el valor asociado a respuesta No: \n",
    "df_grad['EST_B1'].replace({2:0},inplace=True)"
   ]
  },
  {
   "cell_type": "code",
   "execution_count": 89,
   "metadata": {},
   "outputs": [
    {
     "data": {
      "text/plain": [
       "1.0    0.466688\n",
       "0.0    0.533312\n",
       "Name: EST_B1, dtype: float64"
      ]
     },
     "execution_count": 89,
     "metadata": {},
     "output_type": "execute_result"
    }
   ],
   "source": [
    "proporciones('EST_B1')"
   ]
  },
  {
   "cell_type": "markdown",
   "metadata": {},
   "source": [
    "#### Nueva variable: 'beca'\n",
    "Disfrutó o no de beca de estudios: 1=Si, 0=No."
   ]
  },
  {
   "cell_type": "code",
   "execution_count": 90,
   "metadata": {},
   "outputs": [
    {
     "data": {
      "text/html": [
       "<div>\n",
       "<style scoped>\n",
       "    .dataframe tbody tr th:only-of-type {\n",
       "        vertical-align: middle;\n",
       "    }\n",
       "\n",
       "    .dataframe tbody tr th {\n",
       "        vertical-align: top;\n",
       "    }\n",
       "\n",
       "    .dataframe thead tr th {\n",
       "        text-align: left;\n",
       "    }\n",
       "\n",
       "    .dataframe thead tr:last-of-type th {\n",
       "        text-align: right;\n",
       "    }\n",
       "</style>\n",
       "<table border=\"1\" class=\"dataframe\">\n",
       "  <thead>\n",
       "    <tr>\n",
       "      <th></th>\n",
       "      <th>EST_B1</th>\n",
       "    </tr>\n",
       "    <tr>\n",
       "      <th></th>\n",
       "      <th>unique</th>\n",
       "    </tr>\n",
       "    <tr>\n",
       "      <th>beca</th>\n",
       "      <th></th>\n",
       "    </tr>\n",
       "  </thead>\n",
       "  <tbody>\n",
       "    <tr>\n",
       "      <th>0</th>\n",
       "      <td>[0.0, nan]</td>\n",
       "    </tr>\n",
       "    <tr>\n",
       "      <th>1</th>\n",
       "      <td>[1.0]</td>\n",
       "    </tr>\n",
       "  </tbody>\n",
       "</table>\n",
       "</div>"
      ],
      "text/plain": [
       "          EST_B1\n",
       "          unique\n",
       "beca            \n",
       "0     [0.0, nan]\n",
       "1          [1.0]"
      ]
     },
     "execution_count": 90,
     "metadata": {},
     "output_type": "execute_result"
    }
   ],
   "source": [
    "df_grad['beca']=0\n",
    "df_grad['beca'].mask(df_grad['EST_B1']==1,1,inplace=True)\n",
    "df_grad[['EST_B1','beca']].groupby('beca').agg(['unique']) # Comprobación: "
   ]
  },
  {
   "cell_type": "code",
   "execution_count": 91,
   "metadata": {},
   "outputs": [],
   "source": [
    "Variables.append('beca')"
   ]
  },
  {
   "cell_type": "code",
   "execution_count": 92,
   "metadata": {},
   "outputs": [
    {
     "data": {
      "text/html": [
       "<div>\n",
       "<style scoped>\n",
       "    .dataframe tbody tr th:only-of-type {\n",
       "        vertical-align: middle;\n",
       "    }\n",
       "\n",
       "    .dataframe tbody tr th {\n",
       "        vertical-align: top;\n",
       "    }\n",
       "\n",
       "    .dataframe thead th {\n",
       "        text-align: right;\n",
       "    }\n",
       "</style>\n",
       "<table border=\"1\" class=\"dataframe\">\n",
       "  <thead>\n",
       "    <tr style=\"text-align: right;\">\n",
       "      <th></th>\n",
       "      <th></th>\n",
       "      <th>beca</th>\n",
       "    </tr>\n",
       "    <tr>\n",
       "      <th>fem</th>\n",
       "      <th>beca</th>\n",
       "      <th></th>\n",
       "    </tr>\n",
       "  </thead>\n",
       "  <tbody>\n",
       "    <tr>\n",
       "      <th rowspan=\"2\" valign=\"top\">0</th>\n",
       "      <th>0</th>\n",
       "      <td>0.568886</td>\n",
       "    </tr>\n",
       "    <tr>\n",
       "      <th>1</th>\n",
       "      <td>0.431114</td>\n",
       "    </tr>\n",
       "    <tr>\n",
       "      <th rowspan=\"2\" valign=\"top\">1</th>\n",
       "      <th>0</th>\n",
       "      <td>0.507200</td>\n",
       "    </tr>\n",
       "    <tr>\n",
       "      <th>1</th>\n",
       "      <td>0.492800</td>\n",
       "    </tr>\n",
       "  </tbody>\n",
       "</table>\n",
       "</div>"
      ],
      "text/plain": [
       "              beca\n",
       "fem beca          \n",
       "0   0     0.568886\n",
       "    1     0.431114\n",
       "1   0     0.507200\n",
       "    1     0.492800"
      ]
     },
     "execution_count": 92,
     "metadata": {},
     "output_type": "execute_result"
    }
   ],
   "source": [
    "# Distribución de becas condicionadas por el sexo: \n",
    "dist_condicionada('beca','fem')\n",
    "# La proporción de becas de estudios es superior entre las mujeres que entre los hombres. "
   ]
  },
  {
   "cell_type": "code",
   "execution_count": 93,
   "metadata": {},
   "outputs": [
    {
     "data": {
      "text/html": [
       "<div>\n",
       "<style scoped>\n",
       "    .dataframe tbody tr th:only-of-type {\n",
       "        vertical-align: middle;\n",
       "    }\n",
       "\n",
       "    .dataframe tbody tr th {\n",
       "        vertical-align: top;\n",
       "    }\n",
       "\n",
       "    .dataframe thead th {\n",
       "        text-align: right;\n",
       "    }\n",
       "</style>\n",
       "<table border=\"1\" class=\"dataframe\">\n",
       "  <thead>\n",
       "    <tr style=\"text-align: right;\">\n",
       "      <th></th>\n",
       "      <th></th>\n",
       "      <th>beca</th>\n",
       "    </tr>\n",
       "    <tr>\n",
       "      <th>esp</th>\n",
       "      <th>beca</th>\n",
       "      <th></th>\n",
       "    </tr>\n",
       "  </thead>\n",
       "  <tbody>\n",
       "    <tr>\n",
       "      <th rowspan=\"2\" valign=\"top\">0</th>\n",
       "      <th>0</th>\n",
       "      <td>0.363897</td>\n",
       "    </tr>\n",
       "    <tr>\n",
       "      <th>1</th>\n",
       "      <td>0.636103</td>\n",
       "    </tr>\n",
       "    <tr>\n",
       "      <th rowspan=\"2\" valign=\"top\">1</th>\n",
       "      <th>0</th>\n",
       "      <td>0.535589</td>\n",
       "    </tr>\n",
       "    <tr>\n",
       "      <th>1</th>\n",
       "      <td>0.464411</td>\n",
       "    </tr>\n",
       "  </tbody>\n",
       "</table>\n",
       "</div>"
      ],
      "text/plain": [
       "              beca\n",
       "esp beca          \n",
       "0   0     0.363897\n",
       "    1     0.636103\n",
       "1   0     0.535589\n",
       "    1     0.464411"
      ]
     },
     "execution_count": 93,
     "metadata": {},
     "output_type": "execute_result"
    }
   ],
   "source": [
    "# Distribucion de becas condicionadas por nacionalidad española u otras: \n",
    "dist_condicionada('beca','esp')\n",
    "# La proporción de becas de estudios es superior entre aquellos cuya nacionalidad es no española"
   ]
  },
  {
   "cell_type": "code",
   "execution_count": 94,
   "metadata": {},
   "outputs": [
    {
     "data": {
      "text/html": [
       "<div>\n",
       "<style scoped>\n",
       "    .dataframe tbody tr th:only-of-type {\n",
       "        vertical-align: middle;\n",
       "    }\n",
       "\n",
       "    .dataframe tbody tr th {\n",
       "        vertical-align: top;\n",
       "    }\n",
       "\n",
       "    .dataframe thead th {\n",
       "        text-align: right;\n",
       "    }\n",
       "</style>\n",
       "<table border=\"1\" class=\"dataframe\">\n",
       "  <thead>\n",
       "    <tr style=\"text-align: right;\">\n",
       "      <th></th>\n",
       "      <th></th>\n",
       "      <th>beca</th>\n",
       "    </tr>\n",
       "    <tr>\n",
       "      <th>eu27</th>\n",
       "      <th>beca</th>\n",
       "      <th></th>\n",
       "    </tr>\n",
       "  </thead>\n",
       "  <tbody>\n",
       "    <tr>\n",
       "      <th rowspan=\"2\" valign=\"top\">0</th>\n",
       "      <th>0</th>\n",
       "      <td>0.331169</td>\n",
       "    </tr>\n",
       "    <tr>\n",
       "      <th>1</th>\n",
       "      <td>0.668831</td>\n",
       "    </tr>\n",
       "    <tr>\n",
       "      <th rowspan=\"2\" valign=\"top\">1</th>\n",
       "      <th>0</th>\n",
       "      <td>0.537715</td>\n",
       "    </tr>\n",
       "    <tr>\n",
       "      <th>1</th>\n",
       "      <td>0.462285</td>\n",
       "    </tr>\n",
       "  </tbody>\n",
       "</table>\n",
       "</div>"
      ],
      "text/plain": [
       "               beca\n",
       "eu27 beca          \n",
       "0    0     0.331169\n",
       "     1     0.668831\n",
       "1    0     0.537715\n",
       "     1     0.462285"
      ]
     },
     "execution_count": 94,
     "metadata": {},
     "output_type": "execute_result"
    }
   ],
   "source": [
    "# Distribucion de becas condicionadas por continente de nacimento:  \n",
    "dist_condicionada('beca','eu27')\n",
    "# La proporción de becas de estudios es superior entre los no nacidos en EU27. "
   ]
  },
  {
   "cell_type": "markdown",
   "metadata": {},
   "source": [
    "#### 'EST_B2_1'\n",
    "(Solo para respuesta Sí (1) en variable 'EST_B1')  \n",
    "\n",
    "¿Disfrutó de una **beca general para el estudio**?: 1=Sí, 2=No, 9=NS/NC.\n",
    "\n",
    "Nota: se modifica el valor asociado a No: 0=No"
   ]
  },
  {
   "cell_type": "code",
   "execution_count": 95,
   "metadata": {},
   "outputs": [
    {
     "data": {
      "text/plain": [
       "array([' ', '1', '2', '9'], dtype=object)"
      ]
     },
     "execution_count": 95,
     "metadata": {},
     "output_type": "execute_result"
    }
   ],
   "source": [
    "df_grad['EST_B2_1'].unique() # Missing values as ' ' or '9'"
   ]
  },
  {
   "cell_type": "code",
   "execution_count": 96,
   "metadata": {},
   "outputs": [],
   "source": [
    "# Función re_EST_B1: inspeccion e imputación de valores de variables condicionadas por respuesta a 'EST_B1'.\n",
    "def re_EST_B1(col):\n",
    "    print (df_grad[['EST_B1',col]].groupby('EST_B1').agg(['unique']))\n",
    "    # Se imputa respuesta no (0) a quienes manifestaron no haber disfrutado de beca (0 en 'EST_B1')\n",
    "    df_grad[col].mask(df_grad['EST_B1']==0,0,inplace=True)\n",
    "    # Se imputa None a respuestas en blanco y NS/NC y se cambia el valor No (2) por 0:\n",
    "    df_grad[col].replace({' ':None,'9':None,'2':0},inplace=True)\n",
    "    df_grad[col]=df_grad[col].astype('float')\n",
    "    print (df_grad[['EST_B1',col]].groupby('EST_B1').agg(['unique']))\n",
    "    return"
   ]
  },
  {
   "cell_type": "code",
   "execution_count": 97,
   "metadata": {},
   "outputs": [
    {
     "name": "stdout",
     "output_type": "stream",
     "text": [
      "         EST_B2_1\n",
      "           unique\n",
      "EST_B1           \n",
      "0.0           [ ]\n",
      "1.0     [1, 2, 9]\n",
      "               EST_B2_1\n",
      "                 unique\n",
      "EST_B1                 \n",
      "0.0               [0.0]\n",
      "1.0     [1.0, 0.0, nan]\n"
     ]
    }
   ],
   "source": [
    "re_EST_B1('EST_B2_1')"
   ]
  },
  {
   "cell_type": "code",
   "execution_count": 98,
   "metadata": {},
   "outputs": [
    {
     "data": {
      "text/plain": [
       "1.0    0.383572\n",
       "0.0    0.616428\n",
       "Name: EST_B2_1, dtype: float64"
      ]
     },
     "execution_count": 98,
     "metadata": {},
     "output_type": "execute_result"
    }
   ],
   "source": [
    "proporciones('EST_B2_1')"
   ]
  },
  {
   "cell_type": "markdown",
   "metadata": {},
   "source": [
    "#### 'EST_B2_2'\n",
    "(Solo para respuesta Sí (1) en variable 'EST_B1')  \n",
    "\n",
    "¿Disfrutó de algún **premio o beca de excelencia**?: 1=Sí, 2=No, 9=NS/NC.  \n",
    "\n",
    "Nota: se modifica el valor asociado a No: 0=No."
   ]
  },
  {
   "cell_type": "code",
   "execution_count": 99,
   "metadata": {},
   "outputs": [
    {
     "data": {
      "text/plain": [
       "array([' ', '2', '1', '9'], dtype=object)"
      ]
     },
     "execution_count": 99,
     "metadata": {},
     "output_type": "execute_result"
    }
   ],
   "source": [
    "df_grad['EST_B2_2'].unique() # Missing values as ' ' or '9'"
   ]
  },
  {
   "cell_type": "code",
   "execution_count": 100,
   "metadata": {},
   "outputs": [
    {
     "name": "stdout",
     "output_type": "stream",
     "text": [
      "         EST_B2_2\n",
      "           unique\n",
      "EST_B1           \n",
      "0.0           [ ]\n",
      "1.0     [2, 1, 9]\n",
      "               EST_B2_2\n",
      "                 unique\n",
      "EST_B1                 \n",
      "0.0               [0.0]\n",
      "1.0     [0.0, 1.0, nan]\n"
     ]
    }
   ],
   "source": [
    "re_EST_B1('EST_B2_2')"
   ]
  },
  {
   "cell_type": "code",
   "execution_count": 101,
   "metadata": {},
   "outputs": [
    {
     "data": {
      "text/plain": [
       "1.0    0.044373\n",
       "0.0    0.955627\n",
       "Name: EST_B2_2, dtype: float64"
      ]
     },
     "execution_count": 101,
     "metadata": {},
     "output_type": "execute_result"
    }
   ],
   "source": [
    "proporciones('EST_B2_2')"
   ]
  },
  {
   "cell_type": "markdown",
   "metadata": {},
   "source": [
    "#### 'EST_B2_3'\n",
    "(Solo para respuesta Sí (1) en variable 'EST_B1')  \n",
    "\n",
    "¿Disfrutó de alguna **beca de colaboración** en la universidad?: 1=Sí, 2=No, 9=NS/NC.  \n",
    "\n",
    "Nota: se modifica el valor asociado a No: 0=No."
   ]
  },
  {
   "cell_type": "code",
   "execution_count": 102,
   "metadata": {},
   "outputs": [
    {
     "data": {
      "text/plain": [
       "array([' ', '2', '1', '9'], dtype=object)"
      ]
     },
     "execution_count": 102,
     "metadata": {},
     "output_type": "execute_result"
    }
   ],
   "source": [
    "df_grad['EST_B2_3'].unique() # Missing values as ' ' or '9'"
   ]
  },
  {
   "cell_type": "code",
   "execution_count": 103,
   "metadata": {},
   "outputs": [
    {
     "name": "stdout",
     "output_type": "stream",
     "text": [
      "         EST_B2_3\n",
      "           unique\n",
      "EST_B1           \n",
      "0.0           [ ]\n",
      "1.0     [2, 1, 9]\n",
      "               EST_B2_3\n",
      "                 unique\n",
      "EST_B1                 \n",
      "0.0               [0.0]\n",
      "1.0     [0.0, 1.0, nan]\n"
     ]
    }
   ],
   "source": [
    "re_EST_B1('EST_B2_3')"
   ]
  },
  {
   "cell_type": "code",
   "execution_count": 104,
   "metadata": {},
   "outputs": [
    {
     "data": {
      "text/plain": [
       "1.0    0.035479\n",
       "0.0    0.964521\n",
       "Name: EST_B2_3, dtype: float64"
      ]
     },
     "execution_count": 104,
     "metadata": {},
     "output_type": "execute_result"
    }
   ],
   "source": [
    "proporciones('EST_B2_3')"
   ]
  },
  {
   "cell_type": "markdown",
   "metadata": {},
   "source": [
    "#### 'EST_B2_4'\n",
    "(Solo para respuesta Sí (1) en variable 'EST_B1')  \n",
    "\n",
    "¿Disfrutó de alguna **beca de prácticas externas** o para prestar un servicio o desempeñar un trabajo fuera de la Universidad?: 1=Sí, 2=No, 9=NS/NC.  \n",
    "\n",
    "\n",
    "Nota: se modifica el valor asociado a No: 0=No."
   ]
  },
  {
   "cell_type": "code",
   "execution_count": 105,
   "metadata": {},
   "outputs": [
    {
     "data": {
      "text/plain": [
       "array([' ', '2', '1', '9'], dtype=object)"
      ]
     },
     "execution_count": 105,
     "metadata": {},
     "output_type": "execute_result"
    }
   ],
   "source": [
    "df_grad['EST_B2_4'].unique() # Missing values as ' ' or '9'"
   ]
  },
  {
   "cell_type": "code",
   "execution_count": 106,
   "metadata": {},
   "outputs": [
    {
     "name": "stdout",
     "output_type": "stream",
     "text": [
      "         EST_B2_4\n",
      "           unique\n",
      "EST_B1           \n",
      "0.0           [ ]\n",
      "1.0     [2, 1, 9]\n",
      "               EST_B2_4\n",
      "                 unique\n",
      "EST_B1                 \n",
      "0.0               [0.0]\n",
      "1.0     [0.0, 1.0, nan]\n"
     ]
    }
   ],
   "source": [
    "re_EST_B1('EST_B2_4')"
   ]
  },
  {
   "cell_type": "code",
   "execution_count": 107,
   "metadata": {},
   "outputs": [
    {
     "data": {
      "text/plain": [
       "1.0    0.037893\n",
       "0.0    0.962107\n",
       "Name: EST_B2_4, dtype: float64"
      ]
     },
     "execution_count": 107,
     "metadata": {},
     "output_type": "execute_result"
    }
   ],
   "source": [
    "proporciones('EST_B2_4')"
   ]
  },
  {
   "cell_type": "markdown",
   "metadata": {},
   "source": [
    "#### 'EST_B2_5'\n",
    "(Solo para respuesta Sí (1) en variable 'EST_B1')  \n",
    "\n",
    "¿Disfrutó de alguna **beca para realizar estudios fuera de España** (incluidas becas complemento a programas Erasmus)?: 1=Sí, 2=No, 9=NS/NC.  \n",
    "\n",
    "Nota: se modifica el valor asociado a No: 0=No."
   ]
  },
  {
   "cell_type": "code",
   "execution_count": 108,
   "metadata": {},
   "outputs": [
    {
     "data": {
      "text/plain": [
       "array([' ', '2', '1', '9'], dtype=object)"
      ]
     },
     "execution_count": 108,
     "metadata": {},
     "output_type": "execute_result"
    }
   ],
   "source": [
    "df_grad['EST_B2_5'].unique() # Missing values as ' ' or '9'"
   ]
  },
  {
   "cell_type": "code",
   "execution_count": 109,
   "metadata": {},
   "outputs": [
    {
     "name": "stdout",
     "output_type": "stream",
     "text": [
      "         EST_B2_5\n",
      "           unique\n",
      "EST_B1           \n",
      "0.0           [ ]\n",
      "1.0     [2, 1, 9]\n",
      "               EST_B2_5\n",
      "                 unique\n",
      "EST_B1                 \n",
      "0.0               [0.0]\n",
      "1.0     [0.0, 1.0, nan]\n"
     ]
    }
   ],
   "source": [
    "re_EST_B1('EST_B2_5')"
   ]
  },
  {
   "cell_type": "code",
   "execution_count": 110,
   "metadata": {},
   "outputs": [
    {
     "data": {
      "text/plain": [
       "1.0    0.106216\n",
       "0.0    0.893784\n",
       "Name: EST_B2_5, dtype: float64"
      ]
     },
     "execution_count": 110,
     "metadata": {},
     "output_type": "execute_result"
    }
   ],
   "source": [
    "proporciones('EST_B2_5')"
   ]
  },
  {
   "cell_type": "markdown",
   "metadata": {},
   "source": [
    "#### 'EST_M1'\n",
    "(Solo para respuesta distinta de Sí (1) en variable 'EST_B2_5')  \n",
    "\n",
    "¿Realizó parte de sus **estudios en el extranjero**?: 1=Sí, 2=No, 9=NS/NC.  \n",
    "\n",
    "Nota: se modifica el valor asociado a No: 0=No."
   ]
  },
  {
   "cell_type": "code",
   "execution_count": 111,
   "metadata": {},
   "outputs": [
    {
     "data": {
      "text/plain": [
       "array([2, 1, 9])"
      ]
     },
     "execution_count": 111,
     "metadata": {},
     "output_type": "execute_result"
    }
   ],
   "source": [
    "df_grad['EST_M1'].unique() # Missing values as '9'"
   ]
  },
  {
   "cell_type": "code",
   "execution_count": 112,
   "metadata": {},
   "outputs": [
    {
     "data": {
      "text/html": [
       "<div>\n",
       "<style scoped>\n",
       "    .dataframe tbody tr th:only-of-type {\n",
       "        vertical-align: middle;\n",
       "    }\n",
       "\n",
       "    .dataframe tbody tr th {\n",
       "        vertical-align: top;\n",
       "    }\n",
       "\n",
       "    .dataframe thead tr th {\n",
       "        text-align: left;\n",
       "    }\n",
       "\n",
       "    .dataframe thead tr:last-of-type th {\n",
       "        text-align: right;\n",
       "    }\n",
       "</style>\n",
       "<table border=\"1\" class=\"dataframe\">\n",
       "  <thead>\n",
       "    <tr>\n",
       "      <th></th>\n",
       "      <th>EST_M1</th>\n",
       "    </tr>\n",
       "    <tr>\n",
       "      <th></th>\n",
       "      <th>unique</th>\n",
       "    </tr>\n",
       "    <tr>\n",
       "      <th>EST_B2_5</th>\n",
       "      <th></th>\n",
       "    </tr>\n",
       "  </thead>\n",
       "  <tbody>\n",
       "    <tr>\n",
       "      <th>0.0</th>\n",
       "      <td>[2, 1, 9]</td>\n",
       "    </tr>\n",
       "    <tr>\n",
       "      <th>1.0</th>\n",
       "      <td>[1]</td>\n",
       "    </tr>\n",
       "  </tbody>\n",
       "</table>\n",
       "</div>"
      ],
      "text/plain": [
       "             EST_M1\n",
       "             unique\n",
       "EST_B2_5           \n",
       "0.0       [2, 1, 9]\n",
       "1.0             [1]"
      ]
     },
     "execution_count": 112,
     "metadata": {},
     "output_type": "execute_result"
    }
   ],
   "source": [
    "df_grad[['EST_B2_5','EST_M1']].groupby('EST_B2_5').agg(['unique'])\n",
    "# Imputada por el encuestador respuesta Si (1) a quienes manifestaron haber disfrutado de beca para ...\n",
    "# ... estudiar fuera de España"
   ]
  },
  {
   "cell_type": "code",
   "execution_count": 113,
   "metadata": {},
   "outputs": [
    {
     "data": {
      "text/html": [
       "<div>\n",
       "<style scoped>\n",
       "    .dataframe tbody tr th:only-of-type {\n",
       "        vertical-align: middle;\n",
       "    }\n",
       "\n",
       "    .dataframe tbody tr th {\n",
       "        vertical-align: top;\n",
       "    }\n",
       "\n",
       "    .dataframe thead tr th {\n",
       "        text-align: left;\n",
       "    }\n",
       "\n",
       "    .dataframe thead tr:last-of-type th {\n",
       "        text-align: right;\n",
       "    }\n",
       "</style>\n",
       "<table border=\"1\" class=\"dataframe\">\n",
       "  <thead>\n",
       "    <tr>\n",
       "      <th></th>\n",
       "      <th>EST_M1</th>\n",
       "    </tr>\n",
       "    <tr>\n",
       "      <th></th>\n",
       "      <th>unique</th>\n",
       "    </tr>\n",
       "    <tr>\n",
       "      <th>EST_B2_5</th>\n",
       "      <th></th>\n",
       "    </tr>\n",
       "  </thead>\n",
       "  <tbody>\n",
       "    <tr>\n",
       "      <th>0.0</th>\n",
       "      <td>[0.0, 1.0, nan]</td>\n",
       "    </tr>\n",
       "    <tr>\n",
       "      <th>1.0</th>\n",
       "      <td>[1.0]</td>\n",
       "    </tr>\n",
       "  </tbody>\n",
       "</table>\n",
       "</div>"
      ],
      "text/plain": [
       "                   EST_M1\n",
       "                   unique\n",
       "EST_B2_5                 \n",
       "0.0       [0.0, 1.0, nan]\n",
       "1.0                 [1.0]"
      ]
     },
     "execution_count": 113,
     "metadata": {},
     "output_type": "execute_result"
    }
   ],
   "source": [
    "# Se imputa None a NS/NC (9) y se cambia el valor asociado a No (2) por 0: \n",
    "df_grad['EST_M1'].replace({9:None,2:0},inplace=True)\n",
    "df_grad[['EST_B2_5','EST_M1']].groupby('EST_B2_5').agg(['unique']) # Comprobacion: "
   ]
  },
  {
   "cell_type": "code",
   "execution_count": 114,
   "metadata": {},
   "outputs": [
    {
     "data": {
      "text/plain": [
       "1.0    0.167273\n",
       "0.0    0.832727\n",
       "Name: EST_M1, dtype: float64"
      ]
     },
     "execution_count": 114,
     "metadata": {},
     "output_type": "execute_result"
    }
   ],
   "source": [
    "proporciones('EST_M1')"
   ]
  },
  {
   "cell_type": "code",
   "execution_count": 115,
   "metadata": {},
   "outputs": [
    {
     "data": {
      "text/plain": [
       "1.0    0.634054\n",
       "0.0    0.365946\n",
       "Name: EST_B2_5, dtype: float64"
      ]
     },
     "execution_count": 115,
     "metadata": {},
     "output_type": "execute_result"
    }
   ],
   "source": [
    "# Proporciones de estudios en el extranjero con y sin beca específica: \n",
    "df_grad['EST_B2_5'][df_grad['EST_M1']==1].value_counts(normalize=True)"
   ]
  },
  {
   "cell_type": "markdown",
   "metadata": {},
   "source": [
    "#### Nueva variable: 'extr_sin_beca'\n",
    "¿Realizó parte de sus **estudios en el extranjero sin beca** específica?: 1=Si, 0=No.  \n",
    "\n",
    "Variable proxi de renta familiar alta.  "
   ]
  },
  {
   "cell_type": "code",
   "execution_count": 116,
   "metadata": {},
   "outputs": [
    {
     "data": {
      "text/html": [
       "<div>\n",
       "<style scoped>\n",
       "    .dataframe tbody tr th:only-of-type {\n",
       "        vertical-align: middle;\n",
       "    }\n",
       "\n",
       "    .dataframe tbody tr th {\n",
       "        vertical-align: top;\n",
       "    }\n",
       "\n",
       "    .dataframe thead tr th {\n",
       "        text-align: left;\n",
       "    }\n",
       "\n",
       "    .dataframe thead tr:last-of-type th {\n",
       "        text-align: right;\n",
       "    }\n",
       "</style>\n",
       "<table border=\"1\" class=\"dataframe\">\n",
       "  <thead>\n",
       "    <tr>\n",
       "      <th></th>\n",
       "      <th></th>\n",
       "      <th>extr_sin_beca</th>\n",
       "    </tr>\n",
       "    <tr>\n",
       "      <th></th>\n",
       "      <th></th>\n",
       "      <th>unique</th>\n",
       "    </tr>\n",
       "    <tr>\n",
       "      <th>EST_M1</th>\n",
       "      <th>EST_B2_5</th>\n",
       "      <th></th>\n",
       "    </tr>\n",
       "  </thead>\n",
       "  <tbody>\n",
       "    <tr>\n",
       "      <th>0.0</th>\n",
       "      <th>0.0</th>\n",
       "      <td>[0]</td>\n",
       "    </tr>\n",
       "    <tr>\n",
       "      <th rowspan=\"2\" valign=\"top\">1.0</th>\n",
       "      <th>0.0</th>\n",
       "      <td>[1]</td>\n",
       "    </tr>\n",
       "    <tr>\n",
       "      <th>1.0</th>\n",
       "      <td>[0]</td>\n",
       "    </tr>\n",
       "  </tbody>\n",
       "</table>\n",
       "</div>"
      ],
      "text/plain": [
       "                extr_sin_beca\n",
       "                       unique\n",
       "EST_M1 EST_B2_5              \n",
       "0.0    0.0                [0]\n",
       "1.0    0.0                [1]\n",
       "       1.0                [0]"
      ]
     },
     "execution_count": 116,
     "metadata": {},
     "output_type": "execute_result"
    }
   ],
   "source": [
    "df_grad['extr_sin_beca']=0\n",
    "df_grad['extr_sin_beca'].mask((df_grad['EST_M1']==1)&(df_grad['EST_B2_5']!=1),1,inplace=True)\n",
    "df_grad[['extr_sin_beca','EST_M1','EST_B2_5']].groupby(['EST_M1','EST_B2_5']).agg(['unique']) # Comprobación"
   ]
  },
  {
   "cell_type": "markdown",
   "metadata": {},
   "source": [
    "#### 'EST_M2'\n",
    "(Solo para respuesta Sí (1) en variable 'EST_B2_5')  \n",
    "\n",
    "**Programa o beca de movilidad**: 1=Programa Erasmus, 2=Otros programas o becas dentro de la UE, 3=Otros programas o becas fuera de la UE, 9=NS/NC.  \n",
    "\n",
    "Se añade respuesta 0=Ninguna. "
   ]
  },
  {
   "cell_type": "code",
   "execution_count": 117,
   "metadata": {},
   "outputs": [
    {
     "data": {
      "text/plain": [
       "array([' ', '3', '1', '2', '9'], dtype=object)"
      ]
     },
     "execution_count": 117,
     "metadata": {},
     "output_type": "execute_result"
    }
   ],
   "source": [
    "df_grad['EST_M2'].unique() # Missing values as ' ' or '9'"
   ]
  },
  {
   "cell_type": "code",
   "execution_count": 118,
   "metadata": {},
   "outputs": [
    {
     "data": {
      "text/html": [
       "<div>\n",
       "<style scoped>\n",
       "    .dataframe tbody tr th:only-of-type {\n",
       "        vertical-align: middle;\n",
       "    }\n",
       "\n",
       "    .dataframe tbody tr th {\n",
       "        vertical-align: top;\n",
       "    }\n",
       "\n",
       "    .dataframe thead tr th {\n",
       "        text-align: left;\n",
       "    }\n",
       "\n",
       "    .dataframe thead tr:last-of-type th {\n",
       "        text-align: right;\n",
       "    }\n",
       "</style>\n",
       "<table border=\"1\" class=\"dataframe\">\n",
       "  <thead>\n",
       "    <tr>\n",
       "      <th></th>\n",
       "      <th>EST_M2</th>\n",
       "    </tr>\n",
       "    <tr>\n",
       "      <th></th>\n",
       "      <th>unique</th>\n",
       "    </tr>\n",
       "    <tr>\n",
       "      <th>EST_B2_5</th>\n",
       "      <th></th>\n",
       "    </tr>\n",
       "  </thead>\n",
       "  <tbody>\n",
       "    <tr>\n",
       "      <th>0.0</th>\n",
       "      <td>[ ]</td>\n",
       "    </tr>\n",
       "    <tr>\n",
       "      <th>1.0</th>\n",
       "      <td>[3, 1, 2, 9]</td>\n",
       "    </tr>\n",
       "    <tr>\n",
       "      <th>NaN</th>\n",
       "      <td>[ ]</td>\n",
       "    </tr>\n",
       "  </tbody>\n",
       "</table>\n",
       "</div>"
      ],
      "text/plain": [
       "                EST_M2\n",
       "                unique\n",
       "EST_B2_5              \n",
       "0.0                [ ]\n",
       "1.0       [3, 1, 2, 9]\n",
       "NaN                [ ]"
      ]
     },
     "execution_count": 118,
     "metadata": {},
     "output_type": "execute_result"
    }
   ],
   "source": [
    "df_grad[['EST_B2_5','EST_M2']].groupby('EST_B2_5',dropna=False).agg(['unique'])"
   ]
  },
  {
   "cell_type": "code",
   "execution_count": 119,
   "metadata": {},
   "outputs": [
    {
     "data": {
      "text/html": [
       "<div>\n",
       "<style scoped>\n",
       "    .dataframe tbody tr th:only-of-type {\n",
       "        vertical-align: middle;\n",
       "    }\n",
       "\n",
       "    .dataframe tbody tr th {\n",
       "        vertical-align: top;\n",
       "    }\n",
       "\n",
       "    .dataframe thead tr th {\n",
       "        text-align: left;\n",
       "    }\n",
       "\n",
       "    .dataframe thead tr:last-of-type th {\n",
       "        text-align: right;\n",
       "    }\n",
       "</style>\n",
       "<table border=\"1\" class=\"dataframe\">\n",
       "  <thead>\n",
       "    <tr>\n",
       "      <th></th>\n",
       "      <th>EST_M2</th>\n",
       "    </tr>\n",
       "    <tr>\n",
       "      <th></th>\n",
       "      <th>unique</th>\n",
       "    </tr>\n",
       "    <tr>\n",
       "      <th>EST_B2_5</th>\n",
       "      <th></th>\n",
       "    </tr>\n",
       "  </thead>\n",
       "  <tbody>\n",
       "    <tr>\n",
       "      <th>0.0</th>\n",
       "      <td>[0.0]</td>\n",
       "    </tr>\n",
       "    <tr>\n",
       "      <th>1.0</th>\n",
       "      <td>[3.0, 1.0, 2.0, nan]</td>\n",
       "    </tr>\n",
       "    <tr>\n",
       "      <th>NaN</th>\n",
       "      <td>[nan]</td>\n",
       "    </tr>\n",
       "  </tbody>\n",
       "</table>\n",
       "</div>"
      ],
      "text/plain": [
       "                        EST_M2\n",
       "                        unique\n",
       "EST_B2_5                      \n",
       "0.0                      [0.0]\n",
       "1.0       [3.0, 1.0, 2.0, nan]\n",
       "NaN                      [nan]"
      ]
     },
     "execution_count": 119,
     "metadata": {},
     "output_type": "execute_result"
    }
   ],
   "source": [
    "# Se imputa valor 0 ('Ninguna') a quienes manifestaron no haber disfrutado de beca para estudiar fuera ...\n",
    "# ... de España (respuesta 2 en 'EST_B2_5').\n",
    "df_grad['EST_M2'].mask(df_grad['EST_B2_5']==0,0,inplace=True)\n",
    "# Se imputa None a NS/NC (9) y a respuesta en blanco: \n",
    "df_grad['EST_M2'].replace({'9':None,' ':None},inplace=True)\n",
    "df_grad['EST_M2']=df_grad['EST_M2'].astype('float')\n",
    "df_grad[['EST_B2_5','EST_M2']].groupby('EST_B2_5',dropna=False).agg(['unique'])"
   ]
  },
  {
   "cell_type": "code",
   "execution_count": 120,
   "metadata": {},
   "outputs": [
    {
     "data": {
      "text/plain": [
       "NaN    0.005339\n",
       "2.0    0.005339\n",
       "3.0    0.008594\n",
       "1.0    0.091687\n",
       "0.0    0.889040\n",
       "Name: EST_M2, dtype: float64"
      ]
     },
     "execution_count": 120,
     "metadata": {},
     "output_type": "execute_result"
    }
   ],
   "source": [
    "proporciones('EST_M2',dropna=False)"
   ]
  },
  {
   "cell_type": "code",
   "execution_count": 121,
   "metadata": {},
   "outputs": [
    {
     "data": {
      "text/plain": [
       "2.0    0.050553\n",
       "3.0    0.081364\n",
       "1.0    0.868083\n",
       "Name: EST_M2, dtype: float64"
      ]
     },
     "execution_count": 121,
     "metadata": {},
     "output_type": "execute_result"
    }
   ],
   "source": [
    "# Distribución de tipos de becas de estudios en el extranjero entre quienes manifestaron haber disfrutado alguna: \n",
    "df_grad['EST_M2'][df_grad['EST_B2_5']==1].value_counts(normalize=True,ascending=True)"
   ]
  },
  {
   "cell_type": "markdown",
   "metadata": {},
   "source": [
    "#### 'EST_M3'\n",
    "(Solo para respuesta Sí (1) en variable 'EST_M1')  \n",
    "\n",
    "**País de destino** cuando estudió fuera de España: 01=Reino Unido, 02=Alemania, 03=Francia, 04=Italia, 05=Portugal, 06=Países Nórdicos (Suecia, Noruega, Finlandia, Dinamarca e Islandia), 07=Otro país de la Unión Europea, 08=Otro país europeo, 11=Un país de América del Norte, 12=Un país de América Central o América del Sur, 21=Un país de Asia, 31=Un país de África, 41=Un país de Oceanía, 99=NS/NC.  \n",
    "\n",
    "Nota: se añade valor 0=Ninguno. "
   ]
  },
  {
   "cell_type": "code",
   "execution_count": 122,
   "metadata": {},
   "outputs": [
    {
     "data": {
      "text/plain": [
       "array(['  ', '01', '02', '03', '04', '05', '06', '07', '08', '11', '12',\n",
       "       '21', '31', '41', '99'], dtype=object)"
      ]
     },
     "execution_count": 122,
     "metadata": {},
     "output_type": "execute_result"
    }
   ],
   "source": [
    "df_grad['EST_M3'].sort_values().unique() # Missing values as '  ' or '99'"
   ]
  },
  {
   "cell_type": "code",
   "execution_count": 123,
   "metadata": {},
   "outputs": [
    {
     "data": {
      "text/html": [
       "<div>\n",
       "<style scoped>\n",
       "    .dataframe tbody tr th:only-of-type {\n",
       "        vertical-align: middle;\n",
       "    }\n",
       "\n",
       "    .dataframe tbody tr th {\n",
       "        vertical-align: top;\n",
       "    }\n",
       "\n",
       "    .dataframe thead tr th {\n",
       "        text-align: left;\n",
       "    }\n",
       "\n",
       "    .dataframe thead tr:last-of-type th {\n",
       "        text-align: right;\n",
       "    }\n",
       "</style>\n",
       "<table border=\"1\" class=\"dataframe\">\n",
       "  <thead>\n",
       "    <tr>\n",
       "      <th></th>\n",
       "      <th>EST_M3</th>\n",
       "    </tr>\n",
       "    <tr>\n",
       "      <th></th>\n",
       "      <th>unique</th>\n",
       "    </tr>\n",
       "    <tr>\n",
       "      <th>EST_M1</th>\n",
       "      <th></th>\n",
       "    </tr>\n",
       "  </thead>\n",
       "  <tbody>\n",
       "    <tr>\n",
       "      <th>0.0</th>\n",
       "      <td>[  ]</td>\n",
       "    </tr>\n",
       "    <tr>\n",
       "      <th>1.0</th>\n",
       "      <td>[12, 03, 08, 05, 04, 02, 11, 06, 01, 07, 21, 99, 31, 41]</td>\n",
       "    </tr>\n",
       "    <tr>\n",
       "      <th>NaN</th>\n",
       "      <td>[  ]</td>\n",
       "    </tr>\n",
       "  </tbody>\n",
       "</table>\n",
       "</div>"
      ],
      "text/plain": [
       "                                                          EST_M3\n",
       "                                                          unique\n",
       "EST_M1                                                          \n",
       "0.0                                                         [  ]\n",
       "1.0     [12, 03, 08, 05, 04, 02, 11, 06, 01, 07, 21, 99, 31, 41]\n",
       "NaN                                                         [  ]"
      ]
     },
     "execution_count": 123,
     "metadata": {},
     "output_type": "execute_result"
    }
   ],
   "source": [
    "df_grad[['EST_M1','EST_M3']].groupby('EST_M1',dropna=False).agg(['unique'])"
   ]
  },
  {
   "cell_type": "code",
   "execution_count": 124,
   "metadata": {},
   "outputs": [
    {
     "data": {
      "text/html": [
       "<div>\n",
       "<style scoped>\n",
       "    .dataframe tbody tr th:only-of-type {\n",
       "        vertical-align: middle;\n",
       "    }\n",
       "\n",
       "    .dataframe tbody tr th {\n",
       "        vertical-align: top;\n",
       "    }\n",
       "\n",
       "    .dataframe thead tr th {\n",
       "        text-align: left;\n",
       "    }\n",
       "\n",
       "    .dataframe thead tr:last-of-type th {\n",
       "        text-align: right;\n",
       "    }\n",
       "</style>\n",
       "<table border=\"1\" class=\"dataframe\">\n",
       "  <thead>\n",
       "    <tr>\n",
       "      <th></th>\n",
       "      <th>EST_M3</th>\n",
       "    </tr>\n",
       "    <tr>\n",
       "      <th></th>\n",
       "      <th>unique</th>\n",
       "    </tr>\n",
       "    <tr>\n",
       "      <th>EST_M1</th>\n",
       "      <th></th>\n",
       "    </tr>\n",
       "  </thead>\n",
       "  <tbody>\n",
       "    <tr>\n",
       "      <th>0.0</th>\n",
       "      <td>[0]</td>\n",
       "    </tr>\n",
       "    <tr>\n",
       "      <th>1.0</th>\n",
       "      <td>[12, 03, 08, 05, 04, 02, 11, 06, 01, 07, 21, None, 31, 41]</td>\n",
       "    </tr>\n",
       "    <tr>\n",
       "      <th>NaN</th>\n",
       "      <td>[None]</td>\n",
       "    </tr>\n",
       "  </tbody>\n",
       "</table>\n",
       "</div>"
      ],
      "text/plain": [
       "                                                            EST_M3\n",
       "                                                            unique\n",
       "EST_M1                                                            \n",
       "0.0                                                            [0]\n",
       "1.0     [12, 03, 08, 05, 04, 02, 11, 06, 01, 07, 21, None, 31, 41]\n",
       "NaN                                                         [None]"
      ]
     },
     "execution_count": 124,
     "metadata": {},
     "output_type": "execute_result"
    }
   ],
   "source": [
    "# Se imputa 0 ('Ninguno') a quienes no estudiaron fuera de España: \n",
    "df_grad['EST_M3'].mask(df_grad['EST_M1']==0,0,inplace=True)\n",
    "# Se imputa None a respuestas en blanco y NS/NC: \n",
    "df_grad['EST_M3'].replace({'  ':None,'99':None},inplace=True)\n",
    "df_grad[['EST_M1','EST_M3']].groupby('EST_M1',dropna=False).agg(['unique'])"
   ]
  },
  {
   "cell_type": "code",
   "execution_count": 125,
   "metadata": {},
   "outputs": [
    {
     "data": {
      "text/plain": [
       "31    0.002470\n",
       "41    0.004180\n",
       "21    0.015200\n",
       "08    0.047691\n",
       "11    0.049211\n",
       "05    0.054722\n",
       "12    0.057192\n",
       "06    0.076572\n",
       "02    0.088543\n",
       "03    0.089303\n",
       "01    0.127874\n",
       "04    0.172715\n",
       "07    0.214326\n",
       "Name: EST_M3, dtype: float64"
      ]
     },
     "execution_count": 125,
     "metadata": {},
     "output_type": "execute_result"
    }
   ],
   "source": [
    "# Distribución de países extranjeros donde se realiza una parte de los estudios entre quienes han estudiado fuera: \n",
    "df_grad['EST_M3'][df_grad['EST_M3']!=0].value_counts(normalize=True,ascending=True)\n",
    "# Italia y Reino Unido son los destinos más frecuentes (excluyendo la categoría 'Otros países de la UE')"
   ]
  },
  {
   "cell_type": "markdown",
   "metadata": {},
   "source": [
    "#### 'EST_M4'\n",
    "(Solo para respuesta Sí (1) en variable 'EST_M1')  \n",
    "\n",
    "**Duración** en meses del periodo en el que estudió fuera de España: 1=De 1 a 3 meses, 2=De 4 a 6 meses, 3=De 7 a 9 meses, 4=De 10 a 12 meses, 5=Más de un año, 9=NS/NC.  \n",
    "\n",
    "Se añade respuesta 0=No estudió en el extranjero."
   ]
  },
  {
   "cell_type": "code",
   "execution_count": 126,
   "metadata": {},
   "outputs": [
    {
     "data": {
      "text/plain": [
       "array([' ', '1', '4', '3', '2', '5', '9'], dtype=object)"
      ]
     },
     "execution_count": 126,
     "metadata": {},
     "output_type": "execute_result"
    }
   ],
   "source": [
    "df_grad['EST_M4'].unique() # Missing values as ' ' or '9'"
   ]
  },
  {
   "cell_type": "code",
   "execution_count": 127,
   "metadata": {},
   "outputs": [
    {
     "data": {
      "text/html": [
       "<div>\n",
       "<style scoped>\n",
       "    .dataframe tbody tr th:only-of-type {\n",
       "        vertical-align: middle;\n",
       "    }\n",
       "\n",
       "    .dataframe tbody tr th {\n",
       "        vertical-align: top;\n",
       "    }\n",
       "\n",
       "    .dataframe thead tr th {\n",
       "        text-align: left;\n",
       "    }\n",
       "\n",
       "    .dataframe thead tr:last-of-type th {\n",
       "        text-align: right;\n",
       "    }\n",
       "</style>\n",
       "<table border=\"1\" class=\"dataframe\">\n",
       "  <thead>\n",
       "    <tr>\n",
       "      <th></th>\n",
       "      <th>EST_M4</th>\n",
       "    </tr>\n",
       "    <tr>\n",
       "      <th></th>\n",
       "      <th>unique</th>\n",
       "    </tr>\n",
       "    <tr>\n",
       "      <th>EST_M1</th>\n",
       "      <th></th>\n",
       "    </tr>\n",
       "  </thead>\n",
       "  <tbody>\n",
       "    <tr>\n",
       "      <th>0.0</th>\n",
       "      <td>[ ]</td>\n",
       "    </tr>\n",
       "    <tr>\n",
       "      <th>1.0</th>\n",
       "      <td>[1, 4, 3, 2, 5, 9]</td>\n",
       "    </tr>\n",
       "    <tr>\n",
       "      <th>NaN</th>\n",
       "      <td>[ ]</td>\n",
       "    </tr>\n",
       "  </tbody>\n",
       "</table>\n",
       "</div>"
      ],
      "text/plain": [
       "                    EST_M4\n",
       "                    unique\n",
       "EST_M1                    \n",
       "0.0                    [ ]\n",
       "1.0     [1, 4, 3, 2, 5, 9]\n",
       "NaN                    [ ]"
      ]
     },
     "execution_count": 127,
     "metadata": {},
     "output_type": "execute_result"
    }
   ],
   "source": [
    "df_grad[['EST_M1','EST_M4']].groupby('EST_M1',dropna=False).agg(['unique'])"
   ]
  },
  {
   "cell_type": "code",
   "execution_count": 128,
   "metadata": {},
   "outputs": [
    {
     "data": {
      "text/html": [
       "<div>\n",
       "<style scoped>\n",
       "    .dataframe tbody tr th:only-of-type {\n",
       "        vertical-align: middle;\n",
       "    }\n",
       "\n",
       "    .dataframe tbody tr th {\n",
       "        vertical-align: top;\n",
       "    }\n",
       "\n",
       "    .dataframe thead tr th {\n",
       "        text-align: left;\n",
       "    }\n",
       "\n",
       "    .dataframe thead tr:last-of-type th {\n",
       "        text-align: right;\n",
       "    }\n",
       "</style>\n",
       "<table border=\"1\" class=\"dataframe\">\n",
       "  <thead>\n",
       "    <tr>\n",
       "      <th></th>\n",
       "      <th>EST_M4</th>\n",
       "    </tr>\n",
       "    <tr>\n",
       "      <th></th>\n",
       "      <th>unique</th>\n",
       "    </tr>\n",
       "    <tr>\n",
       "      <th>EST_M1</th>\n",
       "      <th></th>\n",
       "    </tr>\n",
       "  </thead>\n",
       "  <tbody>\n",
       "    <tr>\n",
       "      <th>0.0</th>\n",
       "      <td>[0.0]</td>\n",
       "    </tr>\n",
       "    <tr>\n",
       "      <th>1.0</th>\n",
       "      <td>[1.0, 4.0, 3.0, 2.0, 5.0, nan]</td>\n",
       "    </tr>\n",
       "    <tr>\n",
       "      <th>NaN</th>\n",
       "      <td>[nan]</td>\n",
       "    </tr>\n",
       "  </tbody>\n",
       "</table>\n",
       "</div>"
      ],
      "text/plain": [
       "                                EST_M4\n",
       "                                unique\n",
       "EST_M1                                \n",
       "0.0                              [0.0]\n",
       "1.0     [1.0, 4.0, 3.0, 2.0, 5.0, nan]\n",
       "NaN                              [nan]"
      ]
     },
     "execution_count": 128,
     "metadata": {},
     "output_type": "execute_result"
    }
   ],
   "source": [
    "# Se imputa 0 a quienes no estudiaron fuera de España: \n",
    "df_grad['EST_M4'].mask(df_grad['EST_M1']==0,0,inplace=True)\n",
    "# Se imputa None a respuestas en blanco y NS/NC\n",
    "df_grad['EST_M4'].replace({' ':None,'9':None},inplace=True)\n",
    "df_grad['EST_M4']=df_grad['EST_M4'].astype('float')\n",
    "df_grad[['EST_M1','EST_M4']].groupby('EST_M1',dropna=False).agg(['unique'])"
   ]
  },
  {
   "cell_type": "markdown",
   "metadata": {},
   "source": [
    "#### 'EST_MES' \n",
    "¿Realizó parte de sus estudios para obtener su título de grado en **otra universidad española**? 1=Sí, 2=No, 9=NS/NC.  \n",
    "\n",
    "Nota: se modifica el valor asociado a la respuesta No: 0=No."
   ]
  },
  {
   "cell_type": "code",
   "execution_count": 129,
   "metadata": {},
   "outputs": [
    {
     "data": {
      "text/plain": [
       "array([2, 1, 9])"
      ]
     },
     "execution_count": 129,
     "metadata": {},
     "output_type": "execute_result"
    }
   ],
   "source": [
    "df_grad['EST_MES'].unique() # Missing values as '9'"
   ]
  },
  {
   "cell_type": "code",
   "execution_count": 130,
   "metadata": {},
   "outputs": [
    {
     "data": {
      "text/plain": [
       "array([ 0.,  1., nan])"
      ]
     },
     "execution_count": 130,
     "metadata": {},
     "output_type": "execute_result"
    }
   ],
   "source": [
    "# Se imputa None a NS/NC y se modifica respuesa No como 0:\n",
    "df_grad['EST_MES'].replace({9:None,2:0},inplace=True)\n",
    "df_grad['EST_MES'].unique() "
   ]
  },
  {
   "cell_type": "code",
   "execution_count": 131,
   "metadata": {},
   "outputs": [
    {
     "data": {
      "text/plain": [
       "1.0    0.096747\n",
       "0.0    0.903253\n",
       "Name: EST_MES, dtype: float64"
      ]
     },
     "execution_count": 131,
     "metadata": {},
     "output_type": "execute_result"
    }
   ],
   "source": [
    "proporciones('EST_MES')"
   ]
  },
  {
   "cell_type": "markdown",
   "metadata": {},
   "source": [
    "#### 'EST_B8' \n",
    "**Motivo principal** por el que ha realizado sus **estudios** de grado: 1=Formarse pensando en su futuro laboral, 2=Ampliar conocimientos por satisfacción personal, 3=Otros motivos, 9=NS/NC."
   ]
  },
  {
   "cell_type": "code",
   "execution_count": 132,
   "metadata": {},
   "outputs": [
    {
     "data": {
      "text/plain": [
       "array([1, 2, 3, 9])"
      ]
     },
     "execution_count": 132,
     "metadata": {},
     "output_type": "execute_result"
    }
   ],
   "source": [
    "df_grad['EST_B8'].unique() # Missing values as '9'"
   ]
  },
  {
   "cell_type": "code",
   "execution_count": 133,
   "metadata": {},
   "outputs": [
    {
     "data": {
      "text/plain": [
       "array([1, 2, 3, None], dtype=object)"
      ]
     },
     "execution_count": 133,
     "metadata": {},
     "output_type": "execute_result"
    }
   ],
   "source": [
    "# Se imputa None a NS/NC:\n",
    "df_grad['EST_B8'].replace({9:None},inplace=True)\n",
    "df_grad['EST_B8'].unique() "
   ]
  },
  {
   "cell_type": "code",
   "execution_count": 134,
   "metadata": {},
   "outputs": [
    {
     "data": {
      "text/plain": [
       "3    0.087931\n",
       "2    0.161403\n",
       "1    0.750666\n",
       "Name: EST_B8, dtype: float64"
      ]
     },
     "execution_count": 134,
     "metadata": {},
     "output_type": "execute_result"
    }
   ],
   "source": [
    "proporciones('EST_B8')"
   ]
  },
  {
   "cell_type": "code",
   "execution_count": 135,
   "metadata": {},
   "outputs": [
    {
     "data": {
      "text/html": [
       "<div>\n",
       "<style scoped>\n",
       "    .dataframe tbody tr th:only-of-type {\n",
       "        vertical-align: middle;\n",
       "    }\n",
       "\n",
       "    .dataframe tbody tr th {\n",
       "        vertical-align: top;\n",
       "    }\n",
       "\n",
       "    .dataframe thead th {\n",
       "        text-align: right;\n",
       "    }\n",
       "</style>\n",
       "<table border=\"1\" class=\"dataframe\">\n",
       "  <thead>\n",
       "    <tr style=\"text-align: right;\">\n",
       "      <th></th>\n",
       "      <th></th>\n",
       "      <th>EST_B8</th>\n",
       "    </tr>\n",
       "    <tr>\n",
       "      <th>RAMA</th>\n",
       "      <th>EST_B8</th>\n",
       "      <th></th>\n",
       "    </tr>\n",
       "  </thead>\n",
       "  <tbody>\n",
       "    <tr>\n",
       "      <th rowspan=\"3\" valign=\"top\">1</th>\n",
       "      <th>1</th>\n",
       "      <td>0.550047</td>\n",
       "    </tr>\n",
       "    <tr>\n",
       "      <th>2</th>\n",
       "      <td>0.363435</td>\n",
       "    </tr>\n",
       "    <tr>\n",
       "      <th>3</th>\n",
       "      <td>0.086517</td>\n",
       "    </tr>\n",
       "    <tr>\n",
       "      <th rowspan=\"3\" valign=\"top\">2</th>\n",
       "      <th>1</th>\n",
       "      <td>0.685259</td>\n",
       "    </tr>\n",
       "    <tr>\n",
       "      <th>2</th>\n",
       "      <td>0.241941</td>\n",
       "    </tr>\n",
       "    <tr>\n",
       "      <th>3</th>\n",
       "      <td>0.072800</td>\n",
       "    </tr>\n",
       "    <tr>\n",
       "      <th rowspan=\"3\" valign=\"top\">3</th>\n",
       "      <th>1</th>\n",
       "      <td>0.791191</td>\n",
       "    </tr>\n",
       "    <tr>\n",
       "      <th>2</th>\n",
       "      <td>0.127498</td>\n",
       "    </tr>\n",
       "    <tr>\n",
       "      <th>3</th>\n",
       "      <td>0.081311</td>\n",
       "    </tr>\n",
       "    <tr>\n",
       "      <th rowspan=\"3\" valign=\"top\">4</th>\n",
       "      <th>1</th>\n",
       "      <td>0.798950</td>\n",
       "    </tr>\n",
       "    <tr>\n",
       "      <th>2</th>\n",
       "      <td>0.111778</td>\n",
       "    </tr>\n",
       "    <tr>\n",
       "      <th>3</th>\n",
       "      <td>0.089272</td>\n",
       "    </tr>\n",
       "    <tr>\n",
       "      <th rowspan=\"3\" valign=\"top\">5</th>\n",
       "      <th>1</th>\n",
       "      <td>0.730134</td>\n",
       "    </tr>\n",
       "    <tr>\n",
       "      <th>2</th>\n",
       "      <td>0.152232</td>\n",
       "    </tr>\n",
       "    <tr>\n",
       "      <th>3</th>\n",
       "      <td>0.117634</td>\n",
       "    </tr>\n",
       "  </tbody>\n",
       "</table>\n",
       "</div>"
      ],
      "text/plain": [
       "               EST_B8\n",
       "RAMA EST_B8          \n",
       "1    1       0.550047\n",
       "     2       0.363435\n",
       "     3       0.086517\n",
       "2    1       0.685259\n",
       "     2       0.241941\n",
       "     3       0.072800\n",
       "3    1       0.791191\n",
       "     2       0.127498\n",
       "     3       0.081311\n",
       "4    1       0.798950\n",
       "     2       0.111778\n",
       "     3       0.089272\n",
       "5    1       0.730134\n",
       "     2       0.152232\n",
       "     3       0.117634"
      ]
     },
     "execution_count": 135,
     "metadata": {},
     "output_type": "execute_result"
    }
   ],
   "source": [
    "# Distribución de la motivación condicionada por la rama de conocimiento de la titulación (1=Artes y humanidades,\n",
    "# ...  2=Ciencias, 3=Ciencias sociales y jurídicas, 4=Ingeniería y arquitectura, 5=Ciencias de la salud):\n",
    "dist_condicionada('EST_B8','RAMA')\n",
    "# La motivación principal son las expectativas laborales para todas las ramas de conocimiento.\n",
    "# Artes y humanidades es la rama que menos se escoge pensando en las expectativas laborales, seguida por Ciencias.\n",
    "# También son estas, en ese orden, las que más se escogen para ampliar conocimientos por satisfacción personal. "
   ]
  },
  {
   "cell_type": "markdown",
   "metadata": {},
   "source": [
    "#### 'SAT1' \n",
    "¿Si tuviera que empezar de nuevo **volvería a cursar estudios universitarios**?  1=Sí, 2=No, 9=NS/NC.  \n",
    "\n",
    "Nota: Se modifica el valor asociado a la respuesta No: 0=No."
   ]
  },
  {
   "cell_type": "code",
   "execution_count": 136,
   "metadata": {},
   "outputs": [
    {
     "data": {
      "text/plain": [
       "array([1, 2, 9])"
      ]
     },
     "execution_count": 136,
     "metadata": {},
     "output_type": "execute_result"
    }
   ],
   "source": [
    "df_grad['SAT1'].unique() # Missing values as '9'"
   ]
  },
  {
   "cell_type": "code",
   "execution_count": 137,
   "metadata": {},
   "outputs": [],
   "source": [
    "# Se imputa None a NS/NC y se modifica respuesta No como 0:\n",
    "df_grad['SAT1'].replace({9:None,2:0},inplace=True)"
   ]
  },
  {
   "cell_type": "code",
   "execution_count": 138,
   "metadata": {},
   "outputs": [
    {
     "data": {
      "text/plain": [
       "0.0    0.128422\n",
       "1.0    0.871578\n",
       "Name: SAT1, dtype: float64"
      ]
     },
     "execution_count": 138,
     "metadata": {},
     "output_type": "execute_result"
    }
   ],
   "source": [
    "proporciones('SAT1')"
   ]
  },
  {
   "cell_type": "code",
   "execution_count": null,
   "metadata": {},
   "outputs": [],
   "source": [
    "# Distribución de la disposición a estudiar si tuviera que hacerlo de nuevo según ...\n",
    "# ... la rama de conocimiento de la titulación:\n",
    "dist_condicionada('SAT1','RAMA')\n",
    "# La disposición a estudiar de nuevo es similar para todas las ramas excepto para los graduados ...\n",
    "# ... en ciencias de la salud, más dispuestos a estudiar de nuevo que el resto. "
   ]
  },
  {
   "cell_type": "code",
   "execution_count": null,
   "metadata": {},
   "outputs": [],
   "source": [
    "# Distribución de la disposición a estudiar si tuviera que hacerlo de nuevo según el sexo: \n",
    "dist_condicionada('SAT1','SEXO')\n",
    "# Las diferencias entre sexos son pequeñas. "
   ]
  },
  {
   "cell_type": "code",
   "execution_count": null,
   "metadata": {},
   "outputs": [],
   "source": [
    "# Distribución de la disposición a estudiar según las motivaciones para estudiar un grado: \n",
    "dist_condicionada('SAT1','EST_B8')\n",
    "# La disposición a estudiar de nuevo es ligeramente superior entre quienes estudiaron ... \n",
    "# ... principalmente para ampliar conocimientos por satisfacción personal. "
   ]
  },
  {
   "cell_type": "markdown",
   "metadata": {},
   "source": [
    "#### 'SAT2'   \n",
    "(Solo para respuesta Sí (1) en 'SAT1'?  \n",
    "\n",
    "¿Si tuviera que empezar de nuevo volvería a estudiar la misma titulación?  1=Sí, 2=No, 9=NS/NC."
   ]
  },
  {
   "cell_type": "code",
   "execution_count": null,
   "metadata": {},
   "outputs": [],
   "source": [
    "df_grad['SAT2'].unique()"
   ]
  },
  {
   "cell_type": "code",
   "execution_count": null,
   "metadata": {},
   "outputs": [],
   "source": [
    "proportions('SAT2')"
   ]
  },
  {
   "cell_type": "code",
   "execution_count": null,
   "metadata": {},
   "outputs": [],
   "source": [
    "df_grad[['SAT1','SAT2']].groupby('SAT1').agg(['unique'])"
   ]
  },
  {
   "cell_type": "code",
   "execution_count": null,
   "metadata": {},
   "outputs": [],
   "source": [
    "# Se imputa respuesta No (2) a quienes declararon que no volverían a cursar estudios universitarios: \n",
    "df_grad['SAT2'].mask(df_grad['SAT1']==2,'2',inplace=True)\n",
    "# Se imputa NS/NC (9) a quienes dieron esa respuesta al preguntarles si cursarían estudios universitarios de nuevo:\n",
    "df_grad['SAT2'].replace({' ':'9'},inplace=True)\n",
    "df_grad[['SAT1','SAT2']].groupby('SAT1').agg(['unique'])"
   ]
  },
  {
   "cell_type": "code",
   "execution_count": null,
   "metadata": {},
   "outputs": [],
   "source": [
    "proportions('SAT2')\n",
    "# La disposición a estudiar de nuevo algún grado universitario es muy superior a la disposición a ...\n",
    "# ... volver a elegir los mismos estudios. "
   ]
  },
  {
   "cell_type": "code",
   "execution_count": null,
   "metadata": {},
   "outputs": [],
   "source": [
    "# Distribución de la disposición a estudiar la misma titulación si tuviera que hacerlo de nuevo según ...\n",
    "# ... la rama de conocimiento de la titulación:\n",
    "dist_condicionada('SAT2','RAMA')\n",
    "# La mayor disposición a estudiar de nuevo la misma titulación se da entre los graduados en ciencias de la salud. "
   ]
  },
  {
   "cell_type": "code",
   "execution_count": null,
   "metadata": {},
   "outputs": [],
   "source": [
    "# Distribución de la disposición a estudiar de nuevo la misma titulación según las motivaciones para ...\n",
    "# ... estudiar un grado: \n",
    "dist_condicionada('SAT2','EST_B8')\n",
    "# Quienes estudiaron principalmente para ampliar conocimientos por satifacción personal se muestran más ...\n",
    "# ... dispuestos a estudiar de nuevo la misma titulación. "
   ]
  },
  {
   "cell_type": "markdown",
   "metadata": {},
   "source": [
    "#### Variables sobre otra formación realizada: variables  'EST_B11_1' a 'EST_B11_7'\n",
    "Nota: Debe tenerse en cuenta que se pregunta sobre otros estudios completados, no sobre los iniciados, y que para los graduados recientes se pueden estar subestimando las titulaciones posteriores por no haber habido tiempo suficiente para terminarlas. "
   ]
  },
  {
   "cell_type": "markdown",
   "metadata": {},
   "source": [
    "#### 'EST_B11_1'     \n",
    "¿Ha completado **otros estudios de grado**, diplomatura, licenciatura o equivalente?  1=Sí, 2=No, 9=NS/NC."
   ]
  },
  {
   "cell_type": "code",
   "execution_count": null,
   "metadata": {},
   "outputs": [],
   "source": [
    "df_grad['EST_B11_1'].unique()"
   ]
  },
  {
   "cell_type": "code",
   "execution_count": null,
   "metadata": {},
   "outputs": [],
   "source": [
    "proportions('EST_B11_1')"
   ]
  },
  {
   "cell_type": "code",
   "execution_count": null,
   "metadata": {},
   "outputs": [],
   "source": [
    "# Distribución de uno o varios grados según rama de conocimiento de la titulación:\n",
    "dist_condicionada('EST_B11_1','RAMA')\n",
    "# Los graduados en ciencias sociales y jurídicas, y en ingeniería y arquitectura son los que ...\n",
    "# ... tienen más de un grado con mayor frecuencia. \n",
    "# Los graduados en ciencias de la salud son los que con menos frecuencia tienen más de un grado, a pesar de que ...\n",
    "# ... también son los que con más frecuencia manifiestan su disposición a estudiar si tuvieran que hacerlo ...\n",
    "# ... de nuevo (el mismo u otro grado) (variables 'SAT1' y 'SAT2'). "
   ]
  },
  {
   "cell_type": "code",
   "execution_count": null,
   "metadata": {},
   "outputs": [],
   "source": [
    "# Distribución de la disposición a estudiar de nuevo según se tengan uno o varios grados: \n",
    "dist_condicionada('SAT1','EST_B11_1')\n",
    "# La disposición a estudiar si tuvieran que hacerlo de nuevo es algo mayor entre quienes tienen más de un grado. "
   ]
  },
  {
   "cell_type": "code",
   "execution_count": null,
   "metadata": {},
   "outputs": [],
   "source": [
    "# Distribución de uno o varios grados según el sexo:\n",
    "dist_condicionada('EST_B11_1','SEXO')\n",
    "# No hay diferencias significativas "
   ]
  },
  {
   "cell_type": "code",
   "execution_count": null,
   "metadata": {},
   "outputs": [],
   "source": [
    "# Distribución de uno o varios grados según las motivaciones para estudiar: \n",
    "dist_condicionada('EST_B11_1','EST_B8')\n",
    "# Tener más de un grado es más frecuente entre quienes no declaran sus motivaciones ...\n",
    "# ... para estudiar (NS/NC en 'EST_B11_1').\n",
    "# Tener más de un grado es más frecuente entre quienes estudiaron principalmente para ampliar conocimientos ...\n",
    "# ... por satifacción personal que entre quienes estudiaron principalmente por las espectativas profesionales. "
   ]
  },
  {
   "cell_type": "markdown",
   "metadata": {},
   "source": [
    "#### 'EST_B11_2'     \n",
    "¿Ha completado otros estudios de **máster universitario**?  1=Sí, 2=No, 9=NS/NC."
   ]
  },
  {
   "cell_type": "code",
   "execution_count": null,
   "metadata": {},
   "outputs": [],
   "source": [
    "df_grad['EST_B11_2'].unique()"
   ]
  },
  {
   "cell_type": "code",
   "execution_count": null,
   "metadata": {},
   "outputs": [],
   "source": [
    "proportions('EST_B11_2')\n",
    "# La proporcion de graduados con un máster universitario ronda el 50 %. \n",
    "# Es menos frecuente que tener una segunda titulación de grado. "
   ]
  },
  {
   "cell_type": "code",
   "execution_count": null,
   "metadata": {},
   "outputs": [],
   "source": [
    "# Distribución de estudios de máster universitario según uno o varios grados:\n",
    "dist_condicionada('EST_B11_2','EST_B11_1')\n",
    "# Es más frecuente tener un máster universitario entre quienes tienen solo un título de grado. "
   ]
  },
  {
   "cell_type": "code",
   "execution_count": null,
   "metadata": {},
   "outputs": [],
   "source": [
    "# Distribución de estudios de máster universitario según las motivaciones para estudiar: \n",
    "dist_condicionada('EST_B11_2','EST_B8')\n",
    "# Diferencias pequeñas entre los que no responden NS/NC."
   ]
  },
  {
   "cell_type": "code",
   "execution_count": null,
   "metadata": {},
   "outputs": [],
   "source": [
    "# Distribución de estudios de máster universitario según rama de conocimiento de la titulación:\n",
    "dist_condicionada('EST_B11_2','RAMA')\n",
    "# Los graduados en ciencias y en artes y humanidades son quienes con mayor frecuencia tienen estudios de máster. \n",
    "# La menor frecuencia se da entre los graduados en ingeniería y arquitectura."
   ]
  },
  {
   "cell_type": "code",
   "execution_count": null,
   "metadata": {},
   "outputs": [],
   "source": [
    "# Distribución de estudios de máster universitario según el sexo:\n",
    "dist_condicionada('EST_B11_2','SEXO')\n",
    "# Entre los graduados, las mujeres son ligeramente más propensas que los hombres a realizar estudios de máster. "
   ]
  },
  {
   "cell_type": "code",
   "execution_count": null,
   "metadata": {},
   "outputs": [],
   "source": [
    "# Distribución del sexo según se tengan o no estudios de máster universitario:\n",
    "dist_condicionada('EST_B11_2','SEXO',rev=True)\n",
    "# Las mujeres también son mayoría entre los graduados. En consecuencia, el número de mujeres con estudios de ...\n",
    "# ... máster es algo superior al de hombres. "
   ]
  },
  {
   "cell_type": "markdown",
   "metadata": {},
   "source": [
    "#### 'EST_B11_3'     \n",
    "¿Ha completado otros estudios de **doctorado universitario**?  1=Sí, 2=No, 9=NS/NC."
   ]
  },
  {
   "cell_type": "code",
   "execution_count": null,
   "metadata": {},
   "outputs": [],
   "source": [
    "df_grad['EST_B11_3'].unique()"
   ]
  },
  {
   "cell_type": "code",
   "execution_count": null,
   "metadata": {},
   "outputs": [],
   "source": [
    "proportions('EST_B11_3')\n",
    "# Tener un doctorado universitario es mucho menos frecuente que tener un máster universitario. "
   ]
  },
  {
   "cell_type": "code",
   "execution_count": null,
   "metadata": {},
   "outputs": [],
   "source": [
    "# Distribución de estudios de doctorado según el sexo: \n",
    "dist_condicionada('EST_B11_3','SEXO')\n",
    "# Tener un doctorado es más frecuente entre los hombres graduados que entre las mujeres graduadas. \n",
    "# La diferencia es suficiente para contrarestar que hay más mujeres entre los graduados, haciendo que ...\n",
    "# ... la proporción de doctores sea mayor que la de doctoras. En efecto, (celda siguiente)"
   ]
  },
  {
   "cell_type": "code",
   "execution_count": null,
   "metadata": {},
   "outputs": [],
   "source": [
    "dist_condicionada('EST_B11_3','SEXO',rev=True)\n",
    "# Entre los doctores, la proporción hombres es superior a la de mujeres. "
   ]
  },
  {
   "cell_type": "code",
   "execution_count": null,
   "metadata": {},
   "outputs": [],
   "source": [
    "# Distribucion de estudios de doctorado según la motivación para estudiar: \n",
    "dist_condicionada('EST_B11_3','EST_B8')\n",
    "# Los que no saben o no declaran cuáles son sus motivaciones para estudiar tienen mayor probabilidad de ...\n",
    "# ... haber terminado un doctorado (debe tenerse en cuenta que son una proporción minúscula). \n",
    "# ... Le siguen a distancia lo que estudian para adquirir conocimientos."
   ]
  },
  {
   "cell_type": "code",
   "execution_count": null,
   "metadata": {},
   "outputs": [],
   "source": [
    "# Distribucion de las motivaciones para estudiar según se tenga o no el título de doctor: \n",
    "dist_condicionada('EST_B11_3','EST_B8',rev=True)\n",
    "# La motivación para estudiar más frecuente de quienes terminan un doctorado son las expectativas laborales. \n",
    "# Sin embargo, esta motivación es menos frecuente entre los doctores que entre los no doctores. Ocurre lo ...\n",
    "# ... contrario con la motivación de adquirir conocimientos por satisfacción personal. "
   ]
  },
  {
   "cell_type": "code",
   "execution_count": null,
   "metadata": {},
   "outputs": [],
   "source": [
    "# Distribucion de estudios de doctorado según las ramas de conocimiento: \n",
    "dist_condicionada('EST_B11_3','RAMA')\n",
    "# La frecuencia más alta de doctores se da entre los graduados en ciencias. También son los que ...\n",
    "# ... terminan un máster universitario con mayor frecuencia (véase la celda siguiente). \n",
    "# Los graduados en ciencias sociales y jurídicas con los menos propensos a terminar un doctorado. También ...\n",
    "# ... son los segundos menos propensos a estudiar un máster universitario. \n",
    "# Para interpretar estos resultados debe tenerse en cuenta la mayor duración de los estudios de doctorado ...\n",
    "# ... (incluyendo el tiempo dedicado a la tesis). Hace más probable que haya encuestados que cursan estos ...\n",
    "# ... estudios sin haberlos concluido. \n",
    "# Con los datos disponibles no podemos inferir cuántos de los estudios de máster son habilitantes para el ...\n",
    "# ... doctorado, que podrían considerarse estudios de doctorado no terminados. "
   ]
  },
  {
   "cell_type": "code",
   "execution_count": null,
   "metadata": {},
   "outputs": [],
   "source": [
    "# Distribucion de estudios de máster universitario según las ramas de conocimiento: \n",
    "dist_condicionada('EST_B11_2','RAMA')\n",
    "# Para facilitar comparación con resultados de la celda anterior. "
   ]
  },
  {
   "cell_type": "markdown",
   "metadata": {},
   "source": [
    "#### 'EST_B11_4'     \n",
    "¿Ha completado otros **estudios artísticos superiores** (artes plásticas, diseño, música y danza, arte dramático o conservación y restauración de bienes culturales)?  1=Sí, 2=No, 9=NS/NC."
   ]
  },
  {
   "cell_type": "code",
   "execution_count": null,
   "metadata": {},
   "outputs": [],
   "source": [
    "df_grad['EST_B11_4'].unique()"
   ]
  },
  {
   "cell_type": "code",
   "execution_count": null,
   "metadata": {},
   "outputs": [],
   "source": [
    "proportions('EST_B11_4')\n",
    "# Los estudios artísticos superiores son menos frecuentes que los de doctorado. "
   ]
  },
  {
   "cell_type": "code",
   "execution_count": null,
   "metadata": {},
   "outputs": [],
   "source": [
    "# Distribución de estudios artísticos superiores según las ramas de conocimiento: \n",
    "dist_condicionada('EST_B11_4','RAMA')\n",
    "# La frecuencia más alta corresponde a los graduados en artes y humanidades (la única superior al 1 %). "
   ]
  },
  {
   "cell_type": "code",
   "execution_count": null,
   "metadata": {},
   "outputs": [],
   "source": [
    "# Distribución de las ramas de conocimiento según se tengan o no estudios artísticos superiores: \n",
    "dist_condicionada('EST_B11_4','RAMA',rev=True)\n",
    "# Sin embargo, la rama de conocimiento más frecuente entre quienes tienen estudios artísticos superiores ...\n",
    "# ... son las ciencias sociales y jurídicas. Esto se debe a que representan casi la mitad de los ...\n",
    "# ... graduados (véase la celda siguiente)."
   ]
  },
  {
   "cell_type": "code",
   "execution_count": null,
   "metadata": {},
   "outputs": [],
   "source": [
    "proportions ('RAMA')"
   ]
  },
  {
   "cell_type": "code",
   "execution_count": null,
   "metadata": {},
   "outputs": [],
   "source": [
    "# Distribución de estudios artísticos superiores según las motivaciones para estudiar: \n",
    "dist_condicionada('EST_B11_4','EST_B8')\n",
    "# Quienes estudian por satisfacción personal y por 'otras' razones son quienes tienen estudios artísticos ...\n",
    "# ... superiores con mayor frecuencia. La menor frecuencia corresponde a quienes estudian para mejorar sus ...\n",
    "# ... expectativas profesionales. "
   ]
  },
  {
   "cell_type": "code",
   "execution_count": null,
   "metadata": {},
   "outputs": [],
   "source": [
    "# Distribución de las motivaciones para estudiar según se tengan o no estudios artísticos superiores: \n",
    "dist_condicionada('EST_B11_4','EST_B8',rev=True)\n",
    "# La motivación mayoritaria para estudiar de quienes tienen estudios artísticos superiores son las ...\n",
    "# ... expectativas profesionales, aunque en proporción inferior a la general. "
   ]
  },
  {
   "cell_type": "code",
   "execution_count": null,
   "metadata": {},
   "outputs": [],
   "source": [
    "# Distribución de estudios artísticos superiores según el sexo: \n",
    "dist_condicionada('EST_B11_4','SEXO')\n",
    "# La proporcion de estudios artísticos superiores entre los graduados es mayor para las mujeres \n",
    "# ... que para los hombres. En consecuencia, (celda siguiente)"
   ]
  },
  {
   "cell_type": "code",
   "execution_count": null,
   "metadata": {},
   "outputs": [],
   "source": [
    "# Distribución del sexo según se tengan o no estudios artísticos superiores: \n",
    "dist_condicionada('EST_B11_4','SEXO',rev=True)\n",
    "# El número de mujeres casi dobla el de hombres entre quienes tienen estudios artísticos superiores. "
   ]
  },
  {
   "cell_type": "markdown",
   "metadata": {},
   "source": [
    "#### 'EST_B11_5'     \n",
    "¿Ha completado algún **ciclo formativo de grado superior** (formación profesional, artes plásticas y diseño) o **enseñanzas deportivas de grado superior**?  1=Sí, 2=No, 9=NS/NC."
   ]
  },
  {
   "cell_type": "code",
   "execution_count": null,
   "metadata": {},
   "outputs": [],
   "source": [
    "df_grad['EST_B11_5'].unique()"
   ]
  },
  {
   "cell_type": "code",
   "execution_count": null,
   "metadata": {},
   "outputs": [],
   "source": [
    "proportions('EST_B11_5')\n",
    "# La proporción de graduados con ciclos formativos o enseñanzas deportivas de grado superior (13 %) es menor ...\n",
    "# ... que la de un segundo título de grado (23 %) y muy superior a la de estudios de doctorado (1.5 %). "
   ]
  },
  {
   "cell_type": "code",
   "execution_count": null,
   "metadata": {},
   "outputs": [],
   "source": [
    "# Distribución de ciclos formativos y enseñanzas deportivas de grado superior según el sexo: \n",
    "dist_condicionada('EST_B11_5','SEXO')\n",
    "# La proporcion de ciclos formativos y enseñanzas deportivas de grado superior entre los graduados es mayor ...\n",
    "# ... para las mujeres que para los hombres. En consecuencia, y puesto que las mujeres son mayoria entre ...\n",
    "# ... los graduados, (celda siguiente)"
   ]
  },
  {
   "cell_type": "code",
   "execution_count": null,
   "metadata": {},
   "outputs": [],
   "source": [
    "# Distribución del sexo según se tengan o no ciclos formativos y enseñanzas deportivas de grado superior: \n",
    "dist_condicionada('EST_B11_5','SEXO',rev=True)\n",
    "# El número de mujeres es superior al de hombres entre quienes tienen ciclos formativos o enseñanzas ...\n",
    "# ... deportivas de grado superior."
   ]
  },
  {
   "cell_type": "code",
   "execution_count": null,
   "metadata": {},
   "outputs": [],
   "source": [
    "# Distribución de ciclos formativos y enseñanzas deportivas de grado superior según la rama de conocimiento: \n",
    "dist_condicionada('EST_B11_5','RAMA')\n",
    "# Los graduados en ciencias de la salud y en ciencias sociales y jurídicas son los que con mayor frecuencia ...\n",
    "# ... tienen ciclos formativos y enseñanzas deportivas de grado superior."
   ]
  },
  {
   "cell_type": "code",
   "execution_count": null,
   "metadata": {},
   "outputs": [],
   "source": [
    "# Distribución de las ramas de conocimiento según se tengan o no ciclos formativos y enseñanzas deportivas ...\n",
    "# ... de grado superior: \n",
    "dist_condicionada('EST_B11_5','RAMA',rev=True)\n",
    "# Más de la mitad de los graduados que tienen ciclos formativos o enseñanzas deportivas de grado superior ...\n",
    "# ... lo son en ciencias sociales o jurídicas. "
   ]
  },
  {
   "cell_type": "code",
   "execution_count": null,
   "metadata": {},
   "outputs": [],
   "source": [
    "# Distribución de ciclos formativos y enseñanzas deportivas de grado superior según doctorado: \n",
    "dist_condicionada('EST_B11_5','EST_B11_3')\n",
    "# La presencia de graduados con ciclos formativos y enseñanzas deportivas de grado superior es más de tres ..\n",
    "# ... veces superior entre los no doctores que entre los doctores. "
   ]
  },
  {
   "cell_type": "code",
   "execution_count": null,
   "metadata": {},
   "outputs": [],
   "source": [
    "# Distribución de ciclos formativos y enseñanzas deportivas de grado superior según estudios de máster: \n",
    "dist_condicionada('EST_B11_5','EST_B11_2')\n",
    "# La presencia de graduados con ciclos formativos y enseñanzas deportivas de grado superior entre los ...\n",
    "# ... no doctores es el doble que entre los doctores. "
   ]
  },
  {
   "cell_type": "code",
   "execution_count": null,
   "metadata": {},
   "outputs": [],
   "source": [
    "# Distribución de las motivaciones para estudiar según se tengan o no ciclos formativos y enseñanzas ...\n",
    "# ... deportivas de grado superior: \n",
    "dist_condicionada('EST_B11_5','EST_B8',rev=True)\n",
    "# No hay diferencias notables. "
   ]
  },
  {
   "cell_type": "code",
   "execution_count": null,
   "metadata": {},
   "outputs": [],
   "source": [
    "# Distribución de los ciclos formativos y enseñanzas deportivas de grado superior según motivacion para estudiar: \n",
    "dist_condicionada('EST_B11_5','EST_B8')\n",
    "# De nuevo, sin diferencias notables. "
   ]
  },
  {
   "cell_type": "code",
   "execution_count": null,
   "metadata": {},
   "outputs": [],
   "source": [
    "# Distribución de los ciclos formativos y enseñanzas deportivas de grado superior según la edad: \n",
    "dist_condicionada('EST_B11_5','EDAD')\n",
    "# El grupo de gradudados de edad de 30 a 34 es el que con mayor frecuencia tiene un título de ciclos formativos o ...\n",
    "# ... enseñanzas deportivas de grado superior. \n",
    "# La diferencia de frecuencia es suficiente para contrarestar que los graduados de menos de 30 años son muchos ...\n",
    "# ... más. En efecto, (celda siguiente)"
   ]
  },
  {
   "cell_type": "code",
   "execution_count": null,
   "metadata": {},
   "outputs": [],
   "source": [
    "dist_condicionada('EST_B11_5','EDAD',rev=True)\n",
    "# La edad más frecuente entre los graduados que tienen un título de ciclos formativos o enseñanzas deportivas ...\n",
    "# ... de grado superior es el grupo de 30 a 34 años. "
   ]
  },
  {
   "cell_type": "markdown",
   "metadata": {},
   "source": [
    "#### 'EST_B11_6'     \n",
    "¿Ha completado algún **ciclo formativo de grado medio** (formación profesional, artes plásticas y diseño) o **enseñanzas deportivas de grado medio**?  1=Sí, 2=No, 9=NS/NC."
   ]
  },
  {
   "cell_type": "code",
   "execution_count": null,
   "metadata": {},
   "outputs": [],
   "source": [
    "df_grad['EST_B11_6'].unique()"
   ]
  },
  {
   "cell_type": "code",
   "execution_count": null,
   "metadata": {},
   "outputs": [],
   "source": [
    "proportions('EST_B11_6')\n",
    "# Menos frecuentes que los mismos estudios de grado superior, más frecuentes que estudios artisticos superiores"
   ]
  },
  {
   "cell_type": "code",
   "execution_count": null,
   "metadata": {},
   "outputs": [],
   "source": [
    "# Distribución de los ciclos formativos y educación deportiva de grado medio según esos estudios en su ...\n",
    "# ... grado superior: \n",
    "dist_condicionada('EST_B11_6','EST_B11_5')\n",
    "# Solo el 11 % de los graduados que han completado ciclos de grado superior proceden de esos estudios en su ...\n",
    "# ... grado medio. Es decir, casi el 90 % de los graduados universitarios que terminan ciclos formativos ...\n",
    "# ... o educación deportiva de grado superior acceden a esos estudios sin haber cursado los de grado medio. "
   ]
  },
  {
   "cell_type": "code",
   "execution_count": null,
   "metadata": {},
   "outputs": [],
   "source": [
    "# Distribución de los ciclos formativos y educación deportiva de grado superior según esos estudios en su ...\n",
    "# ... grado medio:\n",
    "dist_condicionada('EST_B11_6','EST_B11_5',rev=True)\n",
    "# El 42 % los graduados con ciclos formativos o educación deportiva de grado medio completa esos estudios en ...\n",
    "# ... grado superior. "
   ]
  },
  {
   "cell_type": "code",
   "execution_count": null,
   "metadata": {},
   "outputs": [],
   "source": [
    "# Distribución de los ciclos formativos y educación deportiva de grado medio según el sexo: \n",
    "dist_condicionada('EST_B11_6','SEXO')\n",
    "# Las distribuciones condicionadas por el sexo son casi idénticas.  "
   ]
  },
  {
   "cell_type": "markdown",
   "metadata": {},
   "source": [
    "#### 'EST_B11_7'     \n",
    "No ha completado **ninguno de los estudios anteriores**: 1=Sí, 2=No, 9=NS/NC."
   ]
  },
  {
   "cell_type": "code",
   "execution_count": null,
   "metadata": {},
   "outputs": [],
   "source": [
    "df_grad['EST_B11_7'].unique()"
   ]
  },
  {
   "cell_type": "code",
   "execution_count": null,
   "metadata": {},
   "outputs": [],
   "source": [
    "df_grad[['EST_B11_1','EST_B11_2','EST_B11_3','EST_B11_4','EST_B11_5','EST_B11_6','EST_B11_7']].groupby(\n",
    "        ['EST_B11_7']).agg(['unique'])\n",
    "# Comprobación: solo toma valor 1 cuando todas las variables de otros estudios anteriores toman valor 2. "
   ]
  },
  {
   "cell_type": "markdown",
   "metadata": {},
   "source": [
    "#### 'EST_B12'     \n",
    "(Solo para quienes declaran haber terminado otros estudios de grado, diplomatura, licenciatura o equivalente -respuesta 1 en variable 'EST_B11_1')  \n",
    "\n",
    "**Número de otros estudios de grado**, diplomatura, licenciatura o equivalente (aparte de aquellos a los que se refiere la encuesta): 1=Uno, 2=Dos, 3=Tres o más."
   ]
  },
  {
   "cell_type": "code",
   "execution_count": null,
   "metadata": {},
   "outputs": [],
   "source": [
    "df_grad['EST_B12'].unique()"
   ]
  },
  {
   "cell_type": "code",
   "execution_count": null,
   "metadata": {},
   "outputs": [],
   "source": [
    "df_grad[['EST_B11_1','EST_B12']].groupby('EST_B11_1').agg(['unique'])"
   ]
  },
  {
   "cell_type": "code",
   "execution_count": null,
   "metadata": {},
   "outputs": [],
   "source": [
    "# Se imputa valor 0 a quienes declararon no haber realizado otros estudios de este tipo: \n",
    "df_grad['EST_B12'].replace({' ':'0'},inplace=True)\n",
    "df_grad[['EST_B11_1','EST_B12']].groupby('EST_B11_1').agg(['unique'])"
   ]
  },
  {
   "cell_type": "code",
   "execution_count": null,
   "metadata": {},
   "outputs": [],
   "source": [
    "proportions('EST_B12')"
   ]
  },
  {
   "cell_type": "code",
   "execution_count": null,
   "metadata": {},
   "outputs": [],
   "source": [
    "# Distribución de doctores y no doctores según el número de títulos de grado:  \n",
    "dist_condicionada('EST_B12','EST_B11_3',rev=True)\n",
    "# Terminar los estudios de doctorado es más frecuente cuanto mayor es el número de títulos de grado. "
   ]
  },
  {
   "cell_type": "code",
   "execution_count": null,
   "metadata": {},
   "outputs": [],
   "source": [
    "# Distribución de número de grados universitarios según se tenga o no un título de doctor: \n",
    "dist_condicionada('EST_B12','EST_B11_3')\n",
    "# Los doctores tienen más de un grado universitario con más frecuencia que los no doctores. En concreto, ...\n",
    "# ... ser doctor multiplica por más de 2 la probabilidad de tener 3 grados y por 3 la de tener 4 o más títulos ...\n",
    "# ... de grado (incluyendo aquel al que se refiere la encuesta). "
   ]
  },
  {
   "cell_type": "code",
   "execution_count": null,
   "metadata": {},
   "outputs": [],
   "source": [
    "# Distribución de títulos de máster universitario según el número de títulos de grado:  \n",
    "dist_condicionada('EST_B12','EST_B11_2',rev=True)\n",
    "# Los titulados en un único grado universitario son los que con más frecuencia terminan estudios de máster ...\n",
    "# ... universitario. Les siguen quienes tienen 4 o más títulos de grado. "
   ]
  },
  {
   "cell_type": "code",
   "execution_count": null,
   "metadata": {},
   "outputs": [],
   "source": [
    "# Distribución de número de grados universitarios según se tenga o no un título de máster universitario: \n",
    "dist_condicionada('EST_B12','EST_B11_2')\n",
    "# Quienes terminan un máster universitario tienen solo un título de grado con más frecuencia que quienes ...\n",
    "# ... no tienen un título de máster. "
   ]
  },
  {
   "cell_type": "code",
   "execution_count": null,
   "metadata": {},
   "outputs": [],
   "source": [
    "# Distribución de número de grados universitarios según el sexo: \n",
    "dist_condicionada('EST_B12','SEXO')\n",
    "# Las diferencias entre sexos son pequeñas. "
   ]
  },
  {
   "cell_type": "code",
   "execution_count": null,
   "metadata": {},
   "outputs": [],
   "source": [
    "# Distribución de número de grados universitarios según la edad: \n",
    "dist_condicionada('EST_B12','EDAD')\n",
    "# Como es de esperar, a medida que aumenta la edad aumenta también la frecuencia de titulados en un número ...\n",
    "# ... mayor de grados. "
   ]
  },
  {
   "cell_type": "markdown",
   "metadata": {},
   "source": [
    "#### 'EST_B13_AMB1'     \n",
    "(Solo para quienes declaran haber terminado otros estudios de grado, diplomatura, licenciatura o equivalente -respuesta 1 en variable 'EST_B11_1')  \n",
    "\n",
    "**Ambito de estudio del segundo grado**, diplomatura, licenciatura o equivalente en el que está titulado: 0112=Formación de docentes de enseñanza infantil, 0113=Formación de docentes de enseñanza primaria, 011=Educación (Otros estudios), 0211=Técnicas audiovisuales y medios de comunicación, 021=Artes (Otros estudios), 022=Humanidades, 023=Lenguas, 0311=Economía, 0313=Psicología, 031=Ciencias sociales y del comportamiento (Otros estudios), 032=Periodismo y documentación, 0413=Dirección y administración, 041=Negocios y administración (Otros estudios), 042=Derecho, 051=Ciencias de la vida, 052=Medio ambiente, 053=Ciencias químicas, físicas y geológicas, 054=Matemáticas y estadística, 061=Informática, 071=Ingeniería y profesiones afines, 072=Industria manufacturera y producción, 073=Arquitectura y construcción, 081=Agricultura y ganadería, 082=Silvicultura, 084=Veterinaria, 0912=Medicina, 0913=Enfermería, 091=Salud (Otros estudios), 092=Servicios sociales, 1014=Actividades físicas y deportivas, 1015=Viajes, turismo y ocio, 109=Servicios (Otros estudios), 9999=NS/NC."
   ]
  },
  {
   "cell_type": "code",
   "execution_count": null,
   "metadata": {},
   "outputs": [],
   "source": [
    "df_grad['EST_B13_AMB1'].unique()"
   ]
  },
  {
   "cell_type": "code",
   "execution_count": null,
   "metadata": {},
   "outputs": [],
   "source": [
    "df_grad[['EST_B11_1','EST_B13_AMB1']].groupby('EST_B11_1').agg(['unique'])"
   ]
  },
  {
   "cell_type": "code",
   "execution_count": null,
   "metadata": {},
   "outputs": [],
   "source": [
    "# El ámbito de estudio es menos manejable (muchas categorías) que la rama de conocimiento. \n",
    "# Para identificar la rama que corresponde a cada ámbito: \n",
    "df_grad[['RAMA','AMBITO']].groupby('AMBITO').agg(['value_counts']).head(10)"
   ]
  },
  {
   "cell_type": "code",
   "execution_count": null,
   "metadata": {},
   "outputs": [],
   "source": [
    "# Cuando hay varias ramas asociadas a un ámbito, elegimos la rama más frecuente (posición 1 en ranking): \n",
    "df_ambito_rama=df_grad[['RAMA','AMBITO']].groupby('AMBITO').agg(['value_counts']\n",
    "                    ).groupby(['AMBITO']).rank(ascending=False).reset_index()\n",
    "df_ambito_rama.head(10)"
   ]
  },
  {
   "cell_type": "code",
   "execution_count": null,
   "metadata": {},
   "outputs": [],
   "source": [
    "# Ajuste de índices: de multiíndice a índices simples: \n",
    "df_ambito_rama.columns=df_ambito_rama.columns.to_flat_index()\n",
    "df_ambito_rama.columns"
   ]
  },
  {
   "cell_type": "code",
   "execution_count": null,
   "metadata": {},
   "outputs": [],
   "source": [
    "# Ajuste de índices: cambio de denominación de columnas: \n",
    "df_ambito_rama.rename(columns={df_ambito_rama.columns[0]:'ambito',\n",
    "                               df_ambito_rama.columns[1]:'rama',\n",
    "                               df_ambito_rama.columns[2]:'rank'},inplace=True)\n",
    "df_ambito_rama.columns"
   ]
  },
  {
   "cell_type": "code",
   "execution_count": null,
   "metadata": {},
   "outputs": [],
   "source": [
    "# Ajuste de índices: columna 'ambito' como índice\n",
    "df_ambito_rama.set_index('ambito',inplace=True)\n",
    "df_ambito_rama.head(10)"
   ]
  },
  {
   "cell_type": "code",
   "execution_count": null,
   "metadata": {},
   "outputs": [],
   "source": [
    "df_ambito_rama=df_ambito_rama[df_ambito_rama['rank']==1]\n",
    "del df_ambito_rama['rank']\n",
    "df_ambito_rama.head(10)"
   ]
  },
  {
   "cell_type": "code",
   "execution_count": null,
   "metadata": {},
   "outputs": [],
   "source": [
    "# Para transformar el dataset auxiliar en un diccionario: \n",
    "D_ambito_rama=dict()\n",
    "for ambito in df_ambito_rama.index:\n",
    "    D_ambito_rama[ambito]=df_ambito_rama['rama'].loc[ambito]"
   ]
  },
  {
   "cell_type": "code",
   "execution_count": null,
   "metadata": {},
   "outputs": [],
   "source": [
    "D_ambito_rama.keys()"
   ]
  },
  {
   "cell_type": "code",
   "execution_count": null,
   "metadata": {},
   "outputs": [],
   "source": [
    "D_ambito_rama.items()"
   ]
  },
  {
   "cell_type": "code",
   "execution_count": null,
   "metadata": {},
   "outputs": [],
   "source": [
    "# Ajustes en la columna a traducir: \n",
    "df_grad['EST_B13_AMB1'].unique()"
   ]
  },
  {
   "cell_type": "code",
   "execution_count": null,
   "metadata": {},
   "outputs": [],
   "source": [
    "# Ajustes en la columna a traducir: \n",
    "df_grad['EST_B13_AMB1'].replace({'    ':'0'},inplace=True)\n",
    "df_grad['EST_B13_AMB1']=df_grad['EST_B13_AMB1'].str.strip()\n",
    "df_grad['EST_B13_AMB1']=df_grad['EST_B13_AMB1'].astype('int')\n",
    "df_grad['EST_B13_AMB1'].unique()"
   ]
  },
  {
   "cell_type": "code",
   "execution_count": null,
   "metadata": {},
   "outputs": [],
   "source": [
    "# Columna nueva: rama de conocimiento asociada al ámbito declarado: \n",
    "df_grad['EST_B13_RAMA1_proxy']=df_grad['EST_B13_AMB1'].replace(D_ambito_rama)"
   ]
  },
  {
   "cell_type": "code",
   "execution_count": null,
   "metadata": {},
   "outputs": [],
   "source": [
    "# Comprobación: \n",
    "df_grad[['EST_B13_AMB1','EST_B13_RAMA1_proxy']].groupby('EST_B13_AMB1').agg(['unique']).head()"
   ]
  },
  {
   "cell_type": "code",
   "execution_count": null,
   "metadata": {},
   "outputs": [],
   "source": [
    "# Comprobación:\n",
    "df_grad['EST_B13_RAMA1_proxy'].unique()"
   ]
  },
  {
   "cell_type": "code",
   "execution_count": null,
   "metadata": {},
   "outputs": [],
   "source": [
    "# Respuestas NS/NC\n",
    "df_grad['EST_B13_RAMA1_proxy'][df_grad['EST_B13_RAMA1_proxy']==9999].count()"
   ]
  },
  {
   "cell_type": "code",
   "execution_count": null,
   "metadata": {},
   "outputs": [],
   "source": []
  },
  {
   "cell_type": "code",
   "execution_count": null,
   "metadata": {},
   "outputs": [],
   "source": []
  },
  {
   "cell_type": "code",
   "execution_count": null,
   "metadata": {},
   "outputs": [],
   "source": []
  },
  {
   "cell_type": "code",
   "execution_count": null,
   "metadata": {},
   "outputs": [],
   "source": []
  },
  {
   "cell_type": "code",
   "execution_count": null,
   "metadata": {},
   "outputs": [],
   "source": []
  }
 ],
 "metadata": {
  "kernelspec": {
   "display_name": "Python 3",
   "language": "python",
   "name": "python3"
  },
  "language_info": {
   "codemirror_mode": {
    "name": "ipython",
    "version": 3
   },
   "file_extension": ".py",
   "mimetype": "text/x-python",
   "name": "python",
   "nbconvert_exporter": "python",
   "pygments_lexer": "ipython3",
   "version": "3.6.9"
  }
 },
 "nbformat": 4,
 "nbformat_minor": 4
}
